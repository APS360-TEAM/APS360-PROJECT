{
 "cells": [
  {
   "cell_type": "code",
   "execution_count": 1,
   "metadata": {},
   "outputs": [],
   "source": [
    "import os\n",
    "import random\n",
    "import csv\n",
    "\n",
    "bb_path = os.path.normpath('C:/Users/arwin/Documents/dev/APS360-PROJECT/data/billboard_spec')\n",
    "rand_path = os.path.normpath('C:/Users/arwin/Documents/dev/APS360-PROJECT/data/random_spec')  \n",
    "\n",
    "csv_path = os.path.normpath('C:/Users/arwin/Documents/dev/APS360-PROJECT/data')  "
   ]
  },
  {
   "cell_type": "code",
   "execution_count": 18,
   "metadata": {},
   "outputs": [],
   "source": [
    "def get_bb_songs(path, n = 1000) -> list:\n",
    "    bb_files = os.listdir(path)\n",
    "    bb_files = [file for file in bb_files if file.lower().endswith('.png')]\n",
    "    bb_files = random.sample(bb_files, n)\n",
    "    assert(len(bb_files) == len(set(bb_files))) # check for uniqueness for all entries\n",
    "    bb_files = [(filename.split('_')[0], os.path.splitext(filename.split('_')[1])[0]) for filename in bb_files]\n",
    "\n",
    "    return bb_files\n",
    "\n",
    "def get_rand_songs(path, n = 1000) -> list:\n",
    "    rand_files = os.listdir(path)\n",
    "    rand_files = [file for file in rand_files if file.lower().endswith('.png')]\n",
    "    rand_files = random.sample(rand_files, n)\n",
    "    assert(len(rand_files) == len(set(rand_files))) # check for uniqueness for all entries\n",
    "    rand_files = [(filename.split('_')[0], os.path.splitext(filename.split('_')[1])[0]) for filename in rand_files]\n",
    "\n",
    "    return rand_files"
   ]
  },
  {
   "cell_type": "code",
   "execution_count": 19,
   "metadata": {},
   "outputs": [],
   "source": [
    "bb_files = get_bb_songs(bb_path, 1000)\n",
    "rand_files = get_rand_songs(rand_path, 1000)"
   ]
  },
  {
   "cell_type": "code",
   "execution_count": 26,
   "metadata": {},
   "outputs": [],
   "source": [
    "def save_to_csv(save_path, csv_name, song_list):\n",
    "    file = os.path.join(save_path, csv_name)\n",
    "    with open(file, 'w', newline='') as csvfile:\n",
    "        csv_writer = csv.writer(csvfile)\n",
    "\n",
    "        csv_writer.writerow(['Artist', 'Song'])\n",
    "        csv_writer.writerows(song_list)"
   ]
  },
  {
   "cell_type": "code",
   "execution_count": 27,
   "metadata": {},
   "outputs": [],
   "source": [
    "save_to_csv(csv_path, 'billboard_genres.csv', bb_files)\n",
    "save_to_csv(csv_path, 'random_genres.csv', rand_files)\n"
   ]
  }
 ],
 "metadata": {
  "kernelspec": {
   "display_name": "torch",
   "language": "python",
   "name": "python3"
  },
  "language_info": {
   "codemirror_mode": {
    "name": "ipython",
    "version": 3
   },
   "file_extension": ".py",
   "mimetype": "text/x-python",
   "name": "python",
   "nbconvert_exporter": "python",
   "pygments_lexer": "ipython3",
   "version": "3.12.2"
  }
 },
 "nbformat": 4,
 "nbformat_minor": 2
}
