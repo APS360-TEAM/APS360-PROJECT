{
 "cells": [
  {
   "cell_type": "code",
   "execution_count": 1,
   "metadata": {},
   "outputs": [],
   "source": [
    "import pandas as pd\n",
    "import datetime"
   ]
  },
  {
   "cell_type": "markdown",
   "metadata": {},
   "source": [
    "Import CSV into Pandas df"
   ]
  },
  {
   "cell_type": "code",
   "execution_count": 30,
   "metadata": {},
   "outputs": [
    {
     "data": {
      "text/plain": [
       "(3000, 3)"
      ]
     },
     "execution_count": 30,
     "metadata": {},
     "output_type": "execute_result"
    }
   ],
   "source": [
    "df = pd.read_csv('../data/random_2016-2021_song_artist_genres.csv')\n",
    "df.shape"
   ]
  },
  {
   "cell_type": "markdown",
   "metadata": {},
   "source": [
    "1. Replace all Characters in Song and Artist Columns that are invalid dir or file chars\n",
    "2. Get rid of all columns except song and artist\n",
    "3. Condense table to only unique entries"
   ]
  },
  {
   "cell_type": "code",
   "execution_count": 25,
   "metadata": {},
   "outputs": [],
   "source": [
    "# bad_chars = {\n",
    "#     '<', '>', ':', '\"', '/', '\\\\', '|', '?', '*', '.', '’'\n",
    "#     }\n",
    "good_chars = {\n",
    "    '\\x0b', '\\x0c', ' ', '!', '#', '$', '%', '&', \"'\", '(', ')',\n",
    "    '+', ',', '-', '0', '1', '2', '3', '4', '5', '6', '7', '8',\n",
    "    '9', ';', '=', '@', 'A', 'B', 'C', 'D', 'E', 'F', 'G', 'H',\n",
    "    'I', 'J', 'K', 'L', 'M', 'N', 'O', 'P', 'Q', 'R', 'S', 'T',\n",
    "    'U', 'V', 'W', 'X', 'Y', 'Z', '[', ']', '^', '_', '`', 'a',\n",
    "    'b', 'c', 'd', 'e', 'f', 'g', 'h', 'i', 'j', 'k', 'l', 'm',\n",
    "    'n', 'o', 'p', 'q', 'r', 's', 't', 'u', 'v', 'w', 'x', 'y',\n",
    "    'z', '{', '}', '~'\n",
    "    }\n",
    "# lambda function to clean string\n",
    "clean_string = lambda s: ''.join(\n",
    "        map(lambda c: '' if c not in good_chars else c, s)\n",
    "    )"
   ]
  },
  {
   "cell_type": "code",
   "execution_count": 31,
   "metadata": {},
   "outputs": [],
   "source": [
    "df.loc[:, 'song'] = df['song'].apply(clean_string)\n",
    "df.loc[:, 'artist'] = df['artist'].apply(clean_string)"
   ]
  },
  {
   "cell_type": "code",
   "execution_count": 32,
   "metadata": {},
   "outputs": [
    {
     "data": {
      "text/plain": [
       "(3000, 3)"
      ]
     },
     "execution_count": 32,
     "metadata": {},
     "output_type": "execute_result"
    }
   ],
   "source": [
    "df.shape"
   ]
  },
  {
   "cell_type": "code",
   "execution_count": 33,
   "metadata": {},
   "outputs": [],
   "source": [
    "df = df.drop_duplicates(subset='song', keep='first')"
   ]
  },
  {
   "cell_type": "code",
   "execution_count": 34,
   "metadata": {},
   "outputs": [
    {
     "data": {
      "text/plain": [
       "(2826, 3)"
      ]
     },
     "execution_count": 34,
     "metadata": {},
     "output_type": "execute_result"
    }
   ],
   "source": [
    "df.shape"
   ]
  },
  {
   "cell_type": "code",
   "execution_count": 35,
   "metadata": {},
   "outputs": [
    {
     "name": "stdout",
     "output_type": "stream",
     "text": [
      "<bound method NDFrame.head of                                                 song               artist  \\\n",
      "0                                     Most Beautiful  Smooth Lounge Piano   \n",
      "1                                     Precioso Jesus      Gabriel Navarro   \n",
      "2                                Maggie Valley Bound    Raymond Fairchild   \n",
      "3     Nighttime Mind Booster Night Time Affirmations     Jason Stephenson   \n",
      "4                                 The Company I Keep           Jimmy Donn   \n",
      "...                                              ...                  ...   \n",
      "2995                                        Seabound           Lunchmoney   \n",
      "2996                                     Kanto Negro             El Dusty   \n",
      "2997                                          Broken                  EDF   \n",
      "2998                                  Seeking for Me         Mercy's Well   \n",
      "2999                             Xin gi nhau l c nhn         L Minh Trung   \n",
      "\n",
      "                                  genres  \n",
      "0                         ['pianissimo']  \n",
      "1                  ['latin talent show']  \n",
      "2     ['banjo', 'traditional bluegrass']  \n",
      "3         ['432hz', 'guided meditation']  \n",
      "4                         ['horrorcore']  \n",
      "...                                  ...  \n",
      "2995                     ['lo-fi beats']  \n",
      "2996                       ['nu-cumbia']  \n",
      "2997             ['chopped and screwed']  \n",
      "2998                 ['southern gospel']  \n",
      "2999               ['vietnamese bolero']  \n",
      "\n",
      "[2826 rows x 3 columns]>\n"
     ]
    }
   ],
   "source": [
    "print(df.head)"
   ]
  },
  {
   "cell_type": "markdown",
   "metadata": {},
   "source": [
    "Save to CSV"
   ]
  },
  {
   "cell_type": "code",
   "execution_count": 29,
   "metadata": {},
   "outputs": [],
   "source": [
    "df.to_csv('../data/random_2016-2021_song_artist_genres_cleaned_rows.csv', index=False)"
   ]
  }
 ],
 "metadata": {
  "kernelspec": {
   "display_name": "Python 3",
   "language": "python",
   "name": "python3"
  },
  "language_info": {
   "codemirror_mode": {
    "name": "ipython",
    "version": 3
   },
   "file_extension": ".py",
   "mimetype": "text/x-python",
   "name": "python",
   "nbconvert_exporter": "python",
   "pygments_lexer": "ipython3",
   "version": "3.11.5"
  }
 },
 "nbformat": 4,
 "nbformat_minor": 2
}
