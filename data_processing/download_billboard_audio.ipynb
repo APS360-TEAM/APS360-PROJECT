{
 "cells": [
  {
   "cell_type": "markdown",
   "metadata": {},
   "source": [
    "Setup Project Path, replace with your local path"
   ]
  },
  {
   "cell_type": "code",
   "execution_count": 1,
   "metadata": {},
   "outputs": [],
   "source": [
    "# Absolute path of project\n",
    "project_path = 'C:/Users/arwin/Documents/dev/APS360-PROJECT/' # change this to your machine's\n",
    "\n",
    "download_path = project_path + 'data/billboard_audio/' # leave this as is (relative path)"
   ]
  },
  {
   "cell_type": "markdown",
   "metadata": {},
   "source": [
    "Imports"
   ]
  },
  {
   "cell_type": "code",
   "execution_count": 2,
   "metadata": {},
   "outputs": [],
   "source": [
    "import pandas as pd\n",
    "import yt_dlp\n",
    "import os"
   ]
  },
  {
   "cell_type": "markdown",
   "metadata": {},
   "source": [
    "Read CSV, and Download all songs using yt-dlp"
   ]
  },
  {
   "cell_type": "code",
   "execution_count": 3,
   "metadata": {},
   "outputs": [
    {
     "name": "stdout",
     "output_type": "stream",
     "text": [
      "all songs should be unique, lets check:\n",
      "total entries:\n",
      " song      3167\n",
      "artist    3167\n",
      "dtype: int64 \n",
      "\n",
      "# unique songs:\n",
      " song      3167\n",
      "artist    1610\n",
      "dtype: int64\n"
     ]
    }
   ],
   "source": [
    "df = pd.read_csv('../data/billboard_2016-2021_song_artist_cleaned_rows.csv')\n",
    "# df = df.iloc[0:10] # just testing with 10 songs for now\n",
    "print(\"all songs should be unique, lets check:\")\n",
    "print(\"total entries:\\n\", df.count(), \"\\n\\n# unique songs:\\n\", df.nunique())"
   ]
  },
  {
   "cell_type": "markdown",
   "metadata": {},
   "source": [
    "yt-dlp and folder size functions"
   ]
  },
  {
   "cell_type": "code",
   "execution_count": 4,
   "metadata": {},
   "outputs": [],
   "source": [
    "def download_song(artist, song):\n",
    "    query = artist + \" \" + song\n",
    "    fname = artist + \"_\" + song\n",
    "    opts = {\n",
    "        'format': 'bestaudio',\n",
    "        'noplaylist':'True',\n",
    "        'default_search':'ytsearch',\n",
    "        'outtmpl': download_path + f'{fname}/{fname}.%(ext)s',\n",
    "    }\n",
    "    dl = yt_dlp.YoutubeDL(opts)\n",
    "    dl.download(query)"
   ]
  },
  {
   "cell_type": "code",
   "execution_count": 5,
   "metadata": {},
   "outputs": [],
   "source": [
    "def get_folder_size(folder_path):\n",
    "    total_size = 0\n",
    "    for root, dirs, files in os.walk(folder_path):\n",
    "        for file in files:\n",
    "            file_path = os.path.join(root, file)\n",
    "            if not os.path.islink(file_path):  \n",
    "                total_size += os.path.getsize(file_path)\n",
    "    return total_size"
   ]
  },
  {
   "cell_type": "code",
   "execution_count": 6,
   "metadata": {},
   "outputs": [
    {
     "name": "stdout",
     "output_type": "stream",
     "text": [
      "[generic] Extracting URL: YFN Lucci Wet_ (She Got That___) \n",
      "[youtube:search] Extracting URL: ytsearch:YFN Lucci Wet_ (She Got That___) \n",
      "[download] Downloading playlist: YFN Lucci Wet_ (She Got That___) \n",
      "[youtube:search] query \"YFN Lucci Wet_ (She Got That___) \": Downloading web client config\n",
      "[youtube:search] query \"YFN Lucci Wet_ (She Got That___) \" page 1: Downloading API JSON\n",
      "[youtube:search] Playlist YFN Lucci Wet_ (She Got That___) : Downloading 1 items of 1\n",
      "[download] Downloading item 1 of 1\n",
      "[youtube] Extracting URL: https://www.youtube.com/shorts/jJ1A9fqK4jM\n",
      "[youtube] jJ1A9fqK4jM: Downloading webpage\n",
      "[youtube] jJ1A9fqK4jM: Downloading ios player API JSON\n",
      "[youtube] jJ1A9fqK4jM: Downloading android player API JSON\n",
      "[youtube] jJ1A9fqK4jM: Downloading m3u8 information\n",
      "[info] jJ1A9fqK4jM: Downloading 1 format(s): 251\n",
      "[download] C:\\Users\\arwin\\Documents\\dev\\APS360-PROJECT\\data\\billboard_audio\\YFN Lucci_Wet_ (She Got That___)#\\YFN Lucci_Wet_ (She Got That___) .webm has already been downloaded\n",
      "[download] 100% of  521.02KiB\n",
      "[download] Finished downloading playlist: YFN Lucci Wet_ (She Got That___) \n",
      "[generic] Extracting URL: Pop Smoke Featuring Tyga & Quavo West Coast Shit\n",
      "[youtube:search] Extracting URL: ytsearch:Pop Smoke Featuring Tyga & Quavo West Coast Shit\n",
      "[download] Downloading playlist: Pop Smoke Featuring Tyga & Quavo West Coast Shit\n",
      "[youtube:search] query \"Pop Smoke Featuring Tyga & Quavo West Coast Shit\": Downloading web client config\n",
      "[youtube:search] query \"Pop Smoke Featuring Tyga & Quavo West Coast Shit\" page 1: Downloading API JSON\n",
      "[youtube:search] Playlist Pop Smoke Featuring Tyga & Quavo West Coast Shit: Downloading 1 items of 1\n",
      "[download] Downloading item 1 of 1\n",
      "[youtube] Extracting URL: https://www.youtube.com/watch?v=wxiKz-Thyn0\n",
      "[youtube] wxiKz-Thyn0: Downloading webpage\n",
      "[youtube] wxiKz-Thyn0: Downloading ios player API JSON\n",
      "[youtube] wxiKz-Thyn0: Downloading android player API JSON\n",
      "[youtube] wxiKz-Thyn0: Downloading m3u8 information\n",
      "[info] wxiKz-Thyn0: Downloading 1 format(s): 251\n",
      "[download] Destination: C:\\Users\\arwin\\Documents\\dev\\APS360-PROJECT\\data\\billboard_audio\\Pop Smoke Featuring Tyga & Quavo_West Coast Shit\\Pop Smoke Featuring Tyga & Quavo_West Coast Shit.webm\n",
      "[download] 100% of    3.43MiB in 00:00:00 at 14.05MiB/s  \n",
      "[download] Finished downloading playlist: Pop Smoke Featuring Tyga & Quavo West Coast Shit\n",
      "[generic] Extracting URL: Pop Smoke Tunnel Vision (Outro)\n",
      "[youtube:search] Extracting URL: ytsearch:Pop Smoke Tunnel Vision (Outro)\n",
      "[download] Downloading playlist: Pop Smoke Tunnel Vision (Outro)\n",
      "[youtube:search] query \"Pop Smoke Tunnel Vision (Outro)\": Downloading web client config\n",
      "[youtube:search] query \"Pop Smoke Tunnel Vision (Outro)\" page 1: Downloading API JSON\n",
      "[youtube:search] Playlist Pop Smoke Tunnel Vision (Outro): Downloading 1 items of 1\n",
      "[download] Downloading item 1 of 1\n",
      "[youtube] Extracting URL: https://www.youtube.com/watch?v=OGuGLx_OaLQ\n",
      "[youtube] OGuGLx_OaLQ: Downloading webpage\n",
      "[youtube] OGuGLx_OaLQ: Downloading ios player API JSON\n",
      "[youtube] OGuGLx_OaLQ: Downloading android player API JSON\n"
     ]
    },
    {
     "name": "stderr",
     "output_type": "stream",
     "text": [
      "WARNING: [youtube] YouTube said: ERROR - Precondition check failed.\n",
      "WARNING: [youtube] HTTP Error 400: Bad Request. Retrying (1/3)...\n"
     ]
    },
    {
     "name": "stdout",
     "output_type": "stream",
     "text": [
      "[youtube] OGuGLx_OaLQ: Downloading android player API JSON\n"
     ]
    },
    {
     "name": "stderr",
     "output_type": "stream",
     "text": [
      "WARNING: [youtube] YouTube said: ERROR - Precondition check failed.\n",
      "WARNING: [youtube] HTTP Error 400: Bad Request. Retrying (2/3)...\n"
     ]
    },
    {
     "name": "stdout",
     "output_type": "stream",
     "text": [
      "[youtube] OGuGLx_OaLQ: Downloading android player API JSON\n"
     ]
    },
    {
     "name": "stderr",
     "output_type": "stream",
     "text": [
      "WARNING: [youtube] YouTube said: ERROR - Precondition check failed.\n",
      "WARNING: [youtube] HTTP Error 400: Bad Request. Retrying (3/3)...\n"
     ]
    },
    {
     "name": "stdout",
     "output_type": "stream",
     "text": [
      "[youtube] OGuGLx_OaLQ: Downloading android player API JSON\n",
      "[youtube] OGuGLx_OaLQ: Downloading m3u8 information\n",
      "[info] OGuGLx_OaLQ: Downloading 1 format(s): 251\n",
      "[download] Destination: C:\\Users\\arwin\\Documents\\dev\\APS360-PROJECT\\data\\billboard_audio\\Pop Smoke_Tunnel Vision (Outro)\\Pop Smoke_Tunnel Vision (Outro).webm\n",
      "[download] 100% of    2.25MiB in 00:00:00 at 11.30MiB/s  \n",
      "[download] Finished downloading playlist: Pop Smoke Tunnel Vision (Outro)\n",
      "[generic] Extracting URL: 6ix9ine & Nicki Minaj Trollz\n",
      "[youtube:search] Extracting URL: ytsearch:6ix9ine & Nicki Minaj Trollz\n",
      "[download] Downloading playlist: 6ix9ine & Nicki Minaj Trollz\n",
      "[youtube:search] query \"6ix9ine & Nicki Minaj Trollz\": Downloading web client config\n",
      "[youtube:search] query \"6ix9ine & Nicki Minaj Trollz\" page 1: Downloading API JSON\n",
      "[youtube:search] Playlist 6ix9ine & Nicki Minaj Trollz: Downloading 1 items of 1\n",
      "[download] Downloading item 1 of 1\n",
      "[youtube] Extracting URL: https://www.youtube.com/watch?v=oNg3M9IJJlY\n",
      "[youtube] oNg3M9IJJlY: Downloading webpage\n",
      "[youtube] oNg3M9IJJlY: Downloading ios player API JSON\n",
      "[youtube] oNg3M9IJJlY: Downloading android player API JSON\n",
      "[youtube] oNg3M9IJJlY: Downloading m3u8 information\n",
      "[info] oNg3M9IJJlY: Downloading 1 format(s): 251\n",
      "[download] Destination: C:\\Users\\arwin\\Documents\\dev\\APS360-PROJECT\\data\\billboard_audio\\6ix9ine & Nicki Minaj_Trollz\\6ix9ine & Nicki Minaj_Trollz.webm\n",
      "[download] 100% of    3.72MiB in 00:00:00 at 14.98MiB/s    \n",
      "[download] Finished downloading playlist: 6ix9ine & Nicki Minaj Trollz\n",
      "[generic] Extracting URL: Travis Denning After A Few\n",
      "[youtube:search] Extracting URL: ytsearch:Travis Denning After A Few\n",
      "[download] Downloading playlist: Travis Denning After A Few\n",
      "[youtube:search] query \"Travis Denning After A Few\": Downloading web client config\n",
      "[youtube:search] query \"Travis Denning After A Few\" page 1: Downloading API JSON\n",
      "[youtube:search] Playlist Travis Denning After A Few: Downloading 1 items of 1\n",
      "[download] Downloading item 1 of 1\n",
      "[youtube] Extracting URL: https://www.youtube.com/watch?v=ReJsy1nnCS4\n",
      "[youtube] ReJsy1nnCS4: Downloading webpage\n",
      "[youtube] ReJsy1nnCS4: Downloading ios player API JSON\n",
      "[youtube] ReJsy1nnCS4: Downloading android player API JSON\n"
     ]
    },
    {
     "name": "stderr",
     "output_type": "stream",
     "text": [
      "WARNING: [youtube] YouTube said: ERROR - Precondition check failed.\n",
      "WARNING: [youtube] HTTP Error 400: Bad Request. Retrying (1/3)...\n"
     ]
    },
    {
     "name": "stdout",
     "output_type": "stream",
     "text": [
      "[youtube] ReJsy1nnCS4: Downloading android player API JSON\n"
     ]
    },
    {
     "name": "stderr",
     "output_type": "stream",
     "text": [
      "WARNING: [youtube] YouTube said: ERROR - Precondition check failed.\n",
      "WARNING: [youtube] HTTP Error 400: Bad Request. Retrying (2/3)...\n"
     ]
    },
    {
     "name": "stdout",
     "output_type": "stream",
     "text": [
      "[youtube] ReJsy1nnCS4: Downloading android player API JSON\n"
     ]
    },
    {
     "name": "stderr",
     "output_type": "stream",
     "text": [
      "WARNING: [youtube] YouTube said: ERROR - Precondition check failed.\n",
      "WARNING: [youtube] HTTP Error 400: Bad Request. Retrying (3/3)...\n"
     ]
    },
    {
     "name": "stdout",
     "output_type": "stream",
     "text": [
      "[youtube] ReJsy1nnCS4: Downloading android player API JSON\n"
     ]
    },
    {
     "name": "stderr",
     "output_type": "stream",
     "text": [
      "WARNING: [youtube] YouTube said: ERROR - Precondition check failed.\n",
      "WARNING: [youtube] Unable to download API page: HTTP Error 400: Bad Request (caused by <HTTPError 400: Bad Request>); please report this issue on  https://github.com/yt-dlp/yt-dlp/issues?q= , filling out the appropriate issue template. Confirm you are on the latest version using  yt-dlp -U\n"
     ]
    },
    {
     "name": "stdout",
     "output_type": "stream",
     "text": [
      "[youtube] ReJsy1nnCS4: Downloading m3u8 information\n",
      "[info] ReJsy1nnCS4: Downloading 1 format(s): 251\n",
      "[download] Destination: C:\\Users\\arwin\\Documents\\dev\\APS360-PROJECT\\data\\billboard_audio\\Travis Denning_After A Few\\Travis Denning_After A Few.webm\n",
      "[download] 100% of    3.29MiB in 00:00:00 at 11.93MiB/s    \n",
      "[download] Finished downloading playlist: Travis Denning After A Few\n",
      "[generic] Extracting URL: BLACKPINK How You Like That\n",
      "[youtube:search] Extracting URL: ytsearch:BLACKPINK How You Like That\n",
      "[download] Downloading playlist: BLACKPINK How You Like That\n",
      "[youtube:search] query \"BLACKPINK How You Like That\": Downloading web client config\n",
      "[youtube:search] query \"BLACKPINK How You Like That\" page 1: Downloading API JSON\n",
      "[youtube:search] Playlist BLACKPINK How You Like That: Downloading 1 items of 1\n",
      "[download] Downloading item 1 of 1\n",
      "[youtube] Extracting URL: https://www.youtube.com/watch?v=ioNng23DkIM\n",
      "[youtube] ioNng23DkIM: Downloading webpage\n",
      "[youtube] ioNng23DkIM: Downloading ios player API JSON\n",
      "[youtube] ioNng23DkIM: Downloading android player API JSON\n",
      "[youtube] ioNng23DkIM: Downloading m3u8 information\n",
      "[info] ioNng23DkIM: Downloading 1 format(s): 251\n",
      "[download] Destination: C:\\Users\\arwin\\Documents\\dev\\APS360-PROJECT\\data\\billboard_audio\\BLACKPINK_How You Like That\\BLACKPINK_How You Like That.webm\n",
      "[download] 100% of    2.82MiB in 00:00:00 at 18.15MiB/s  \n",
      "[download] Finished downloading playlist: BLACKPINK How You Like That\n",
      "[generic] Extracting URL: Bad Bunny Yo Perreo Sola\n",
      "[youtube:search] Extracting URL: ytsearch:Bad Bunny Yo Perreo Sola\n",
      "[download] Downloading playlist: Bad Bunny Yo Perreo Sola\n",
      "[youtube:search] query \"Bad Bunny Yo Perreo Sola\": Downloading web client config\n",
      "[youtube:search] query \"Bad Bunny Yo Perreo Sola\" page 1: Downloading API JSON\n",
      "[youtube:search] Playlist Bad Bunny Yo Perreo Sola: Downloading 1 items of 1\n",
      "[download] Downloading item 1 of 1\n",
      "[youtube] Extracting URL: https://www.youtube.com/watch?v=GtSRKwDCaZM\n",
      "[youtube] GtSRKwDCaZM: Downloading webpage\n",
      "[youtube] GtSRKwDCaZM: Downloading ios player API JSON\n",
      "[youtube] GtSRKwDCaZM: Downloading android player API JSON\n"
     ]
    },
    {
     "name": "stderr",
     "output_type": "stream",
     "text": [
      "WARNING: [youtube] YouTube said: ERROR - Precondition check failed.\n",
      "WARNING: [youtube] HTTP Error 400: Bad Request. Retrying (1/3)...\n"
     ]
    },
    {
     "name": "stdout",
     "output_type": "stream",
     "text": [
      "[youtube] GtSRKwDCaZM: Downloading android player API JSON\n",
      "[youtube] GtSRKwDCaZM: Downloading m3u8 information\n",
      "[info] GtSRKwDCaZM: Downloading 1 format(s): 251\n",
      "[download] Destination: C:\\Users\\arwin\\Documents\\dev\\APS360-PROJECT\\data\\billboard_audio\\Bad Bunny_Yo Perreo Sola\\Bad Bunny_Yo Perreo Sola.webm\n",
      "[download] 100% of    3.31MiB in 00:00:00 at 12.55MiB/s  \n",
      "[download] Finished downloading playlist: Bad Bunny Yo Perreo Sola\n",
      "[generic] Extracting URL: Scotty McCreery In Between\n",
      "[youtube:search] Extracting URL: ytsearch:Scotty McCreery In Between\n",
      "[download] Downloading playlist: Scotty McCreery In Between\n",
      "[youtube:search] query \"Scotty McCreery In Between\": Downloading web client config\n",
      "[youtube:search] query \"Scotty McCreery In Between\" page 1: Downloading API JSON\n",
      "[youtube:search] Playlist Scotty McCreery In Between: Downloading 1 items of 1\n",
      "[download] Downloading item 1 of 1\n",
      "[youtube] Extracting URL: https://www.youtube.com/watch?v=d-n1Cjlsws8\n",
      "[youtube] d-n1Cjlsws8: Downloading webpage\n",
      "[youtube] d-n1Cjlsws8: Downloading ios player API JSON\n",
      "[youtube] d-n1Cjlsws8: Downloading android player API JSON\n",
      "[youtube] d-n1Cjlsws8: Downloading m3u8 information\n",
      "[info] d-n1Cjlsws8: Downloading 1 format(s): 251\n",
      "[download] Destination: C:\\Users\\arwin\\Documents\\dev\\APS360-PROJECT\\data\\billboard_audio\\Scotty McCreery_In Between\\Scotty McCreery_In Between.webm\n",
      "[download] 100% of    3.62MiB in 00:00:00 at 12.61MiB/s  \n",
      "[download] Finished downloading playlist: Scotty McCreery In Between\n",
      "[generic] Extracting URL: 6ix9ine YaYa\n",
      "[youtube:search] Extracting URL: ytsearch:6ix9ine YaYa\n",
      "[download] Downloading playlist: 6ix9ine YaYa\n",
      "[youtube:search] query \"6ix9ine YaYa\": Downloading web client config\n",
      "[youtube:search] query \"6ix9ine YaYa\" page 1: Downloading API JSON\n",
      "[youtube:search] Playlist 6ix9ine YaYa: Downloading 1 items of 1\n",
      "[download] Downloading item 1 of 1\n",
      "[youtube] Extracting URL: https://www.youtube.com/watch?v=yxgJclR4dUU\n",
      "[youtube] yxgJclR4dUU: Downloading webpage\n",
      "[youtube] yxgJclR4dUU: Downloading ios player API JSON\n",
      "[youtube] yxgJclR4dUU: Downloading android player API JSON\n"
     ]
    },
    {
     "name": "stderr",
     "output_type": "stream",
     "text": [
      "WARNING: [youtube] YouTube said: ERROR - Precondition check failed.\n",
      "WARNING: [youtube] HTTP Error 400: Bad Request. Retrying (1/3)...\n"
     ]
    },
    {
     "name": "stdout",
     "output_type": "stream",
     "text": [
      "[youtube] yxgJclR4dUU: Downloading android player API JSON\n"
     ]
    },
    {
     "name": "stderr",
     "output_type": "stream",
     "text": [
      "WARNING: [youtube] YouTube said: ERROR - Precondition check failed.\n",
      "WARNING: [youtube] HTTP Error 400: Bad Request. Retrying (2/3)...\n"
     ]
    },
    {
     "name": "stdout",
     "output_type": "stream",
     "text": [
      "[youtube] yxgJclR4dUU: Downloading android player API JSON\n",
      "[youtube] yxgJclR4dUU: Downloading m3u8 information\n",
      "[info] yxgJclR4dUU: Downloading 1 format(s): 251\n",
      "[download] Destination: C:\\Users\\arwin\\Documents\\dev\\APS360-PROJECT\\data\\billboard_audio\\6ix9ine_YaYa\\6ix9ine_YaYa.webm\n",
      "[download] 100% of    2.68MiB in 00:00:00 at 11.08MiB/s    \n",
      "[download] Finished downloading playlist: 6ix9ine YaYa\n",
      "[generic] Extracting URL: Maroon 5 Memories\n",
      "[youtube:search] Extracting URL: ytsearch:Maroon 5 Memories\n",
      "[download] Downloading playlist: Maroon 5 Memories\n",
      "[youtube:search] query \"Maroon 5 Memories\": Downloading web client config\n",
      "[youtube:search] query \"Maroon 5 Memories\" page 1: Downloading API JSON\n",
      "[youtube:search] Playlist Maroon 5 Memories: Downloading 1 items of 1\n",
      "[download] Downloading item 1 of 1\n",
      "[youtube] Extracting URL: https://www.youtube.com/watch?v=SlPhMPnQ58k\n",
      "[youtube] SlPhMPnQ58k: Downloading webpage\n",
      "[youtube] SlPhMPnQ58k: Downloading ios player API JSON\n",
      "[youtube] SlPhMPnQ58k: Downloading android player API JSON\n"
     ]
    },
    {
     "name": "stderr",
     "output_type": "stream",
     "text": [
      "WARNING: [youtube] YouTube said: ERROR - Precondition check failed.\n",
      "WARNING: [youtube] HTTP Error 400: Bad Request. Retrying (1/3)...\n"
     ]
    },
    {
     "name": "stdout",
     "output_type": "stream",
     "text": [
      "[youtube] SlPhMPnQ58k: Downloading android player API JSON\n"
     ]
    },
    {
     "name": "stderr",
     "output_type": "stream",
     "text": [
      "WARNING: [youtube] YouTube said: ERROR - Precondition check failed.\n",
      "WARNING: [youtube] HTTP Error 400: Bad Request. Retrying (2/3)...\n"
     ]
    },
    {
     "name": "stdout",
     "output_type": "stream",
     "text": [
      "[youtube] SlPhMPnQ58k: Downloading android player API JSON\n",
      "[youtube] SlPhMPnQ58k: Downloading m3u8 information\n",
      "[info] SlPhMPnQ58k: Downloading 1 format(s): 251\n",
      "[download] Destination: C:\\Users\\arwin\\Documents\\dev\\APS360-PROJECT\\data\\billboard_audio\\Maroon 5_Memories\\Maroon 5_Memories.webm\n",
      "[download] 100% of    3.10MiB in 00:00:00 at 17.90MiB/s  \n",
      "[download] Finished downloading playlist: Maroon 5 Memories\n",
      "[generic] Extracting URL: Blake Shelton Duet With Gwen Stefani Nobody But You\n",
      "[youtube:search] Extracting URL: ytsearch:Blake Shelton Duet With Gwen Stefani Nobody But You\n",
      "[download] Downloading playlist: Blake Shelton Duet With Gwen Stefani Nobody But You\n",
      "[youtube:search] query \"Blake Shelton Duet With Gwen Stefani Nobody But You\": Downloading web client config\n",
      "[youtube:search] query \"Blake Shelton Duet With Gwen Stefani Nobody But You\" page 1: Downloading API JSON\n",
      "[youtube:search] Playlist Blake Shelton Duet With Gwen Stefani Nobody But You: Downloading 1 items of 1\n",
      "[download] Downloading item 1 of 1\n",
      "[youtube] Extracting URL: https://www.youtube.com/watch?v=4h9o0Gujuoc\n",
      "[youtube] 4h9o0Gujuoc: Downloading webpage\n",
      "[youtube] 4h9o0Gujuoc: Downloading ios player API JSON\n",
      "[youtube] 4h9o0Gujuoc: Downloading android player API JSON\n"
     ]
    },
    {
     "name": "stderr",
     "output_type": "stream",
     "text": [
      "WARNING: [youtube] YouTube said: ERROR - Precondition check failed.\n",
      "WARNING: [youtube] HTTP Error 400: Bad Request. Retrying (1/3)...\n"
     ]
    },
    {
     "name": "stdout",
     "output_type": "stream",
     "text": [
      "[youtube] 4h9o0Gujuoc: Downloading android player API JSON\n",
      "[youtube] 4h9o0Gujuoc: Downloading m3u8 information\n",
      "[info] 4h9o0Gujuoc: Downloading 1 format(s): 251\n",
      "[download] Destination: C:\\Users\\arwin\\Documents\\dev\\APS360-PROJECT\\data\\billboard_audio\\Blake Shelton Duet With Gwen Stefani_Nobody But You\\Blake Shelton Duet With Gwen Stefani_Nobody But You.webm\n",
      "[download] 100% of    3.17MiB in 00:00:00 at 11.89MiB/s  \n",
      "[download] Finished downloading playlist: Blake Shelton Duet With Gwen Stefani Nobody But You\n",
      "[generic] Extracting URL: blackbear Hot Girl Bummer\n",
      "[youtube:search] Extracting URL: ytsearch:blackbear Hot Girl Bummer\n",
      "[download] Downloading playlist: blackbear Hot Girl Bummer\n",
      "[youtube:search] query \"blackbear Hot Girl Bummer\": Downloading web client config\n",
      "[youtube:search] query \"blackbear Hot Girl Bummer\" page 1: Downloading API JSON\n",
      "[youtube:search] Playlist blackbear Hot Girl Bummer: Downloading 1 items of 1\n",
      "[download] Downloading item 1 of 1\n",
      "[youtube] Extracting URL: https://www.youtube.com/watch?v=yMlKJGKyoCo\n",
      "[youtube] yMlKJGKyoCo: Downloading webpage\n",
      "[youtube] yMlKJGKyoCo: Downloading ios player API JSON\n",
      "[youtube] yMlKJGKyoCo: Downloading android player API JSON\n"
     ]
    },
    {
     "name": "stderr",
     "output_type": "stream",
     "text": [
      "WARNING: [youtube] YouTube said: ERROR - Precondition check failed.\n",
      "WARNING: [youtube] HTTP Error 400: Bad Request. Retrying (1/3)...\n"
     ]
    },
    {
     "name": "stdout",
     "output_type": "stream",
     "text": [
      "[youtube] yMlKJGKyoCo: Downloading android player API JSON\n",
      "[youtube] yMlKJGKyoCo: Downloading m3u8 information\n",
      "[info] yMlKJGKyoCo: Downloading 1 format(s): 251\n",
      "[download] Destination: C:\\Users\\arwin\\Documents\\dev\\APS360-PROJECT\\data\\billboard_audio\\blackbear_Hot Girl Bummer\\blackbear_Hot Girl Bummer.webm\n",
      "[download] 100% of    3.09MiB in 00:00:00 at 14.27MiB/s  \n",
      "[download] Finished downloading playlist: blackbear Hot Girl Bummer\n",
      "[generic] Extracting URL: Beyonce Black Parade\n",
      "[youtube:search] Extracting URL: ytsearch:Beyonce Black Parade\n",
      "[download] Downloading playlist: Beyonce Black Parade\n",
      "[youtube:search] query \"Beyonce Black Parade\": Downloading web client config\n",
      "[youtube:search] query \"Beyonce Black Parade\" page 1: Downloading API JSON\n",
      "[youtube:search] Playlist Beyonce Black Parade: Downloading 1 items of 1\n",
      "[download] Downloading item 1 of 1\n",
      "[youtube] Extracting URL: https://www.youtube.com/watch?v=EJT1m1ele00\n",
      "[youtube] EJT1m1ele00: Downloading webpage\n",
      "[youtube] EJT1m1ele00: Downloading ios player API JSON\n",
      "[youtube] EJT1m1ele00: Downloading android player API JSON\n",
      "[youtube] EJT1m1ele00: Downloading m3u8 information\n",
      "[info] EJT1m1ele00: Downloading 1 format(s): 251\n",
      "[download] Destination: C:\\Users\\arwin\\Documents\\dev\\APS360-PROJECT\\data\\billboard_audio\\Beyonce_Black Parade\\Beyonce_Black Parade.webm\n",
      "[download] 100% of    4.45MiB in 00:00:00 at 13.42MiB/s  \n",
      "[download] Finished downloading playlist: Beyonce Black Parade\n",
      "[generic] Extracting URL: 6LACK Featuring Lil Baby Know My Rights\n",
      "[youtube:search] Extracting URL: ytsearch:6LACK Featuring Lil Baby Know My Rights\n",
      "[download] Downloading playlist: 6LACK Featuring Lil Baby Know My Rights\n",
      "[youtube:search] query \"6LACK Featuring Lil Baby Know My Rights\": Downloading web client config\n",
      "[youtube:search] query \"6LACK Featuring Lil Baby Know My Rights\" page 1: Downloading API JSON\n",
      "[youtube:search] Playlist 6LACK Featuring Lil Baby Know My Rights: Downloading 1 items of 1\n",
      "[download] Downloading item 1 of 1\n",
      "[youtube] Extracting URL: https://www.youtube.com/watch?v=Rd74qNahRd4\n",
      "[youtube] Rd74qNahRd4: Downloading webpage\n",
      "[youtube] Rd74qNahRd4: Downloading ios player API JSON\n",
      "[youtube] Rd74qNahRd4: Downloading android player API JSON\n",
      "[youtube] Rd74qNahRd4: Downloading m3u8 information\n",
      "[info] Rd74qNahRd4: Downloading 1 format(s): 251\n",
      "[download] Destination: C:\\Users\\arwin\\Documents\\dev\\APS360-PROJECT\\data\\billboard_audio\\6LACK Featuring Lil Baby_Know My Rights\\6LACK Featuring Lil Baby_Know My Rights.webm\n",
      "[download] 100% of    3.55MiB in 00:00:00 at 9.99MiB/s   \n",
      "[download] Finished downloading playlist: 6LACK Featuring Lil Baby Know My Rights\n",
      "[generic] Extracting URL: Katy Perry Daisies\n",
      "[youtube:search] Extracting URL: ytsearch:Katy Perry Daisies\n",
      "[download] Downloading playlist: Katy Perry Daisies\n",
      "[youtube:search] query \"Katy Perry Daisies\": Downloading web client config\n",
      "[youtube:search] query \"Katy Perry Daisies\" page 1: Downloading API JSON\n",
      "[youtube:search] Playlist Katy Perry Daisies: Downloading 1 items of 1\n",
      "[download] Downloading item 1 of 1\n",
      "[youtube] Extracting URL: https://www.youtube.com/watch?v=NutHKRKBgR0\n",
      "[youtube] NutHKRKBgR0: Downloading webpage\n",
      "[youtube] NutHKRKBgR0: Downloading ios player API JSON\n",
      "[youtube] NutHKRKBgR0: Downloading android player API JSON\n"
     ]
    },
    {
     "name": "stderr",
     "output_type": "stream",
     "text": [
      "WARNING: [youtube] YouTube said: ERROR - Precondition check failed.\n",
      "WARNING: [youtube] HTTP Error 400: Bad Request. Retrying (1/3)...\n"
     ]
    },
    {
     "name": "stdout",
     "output_type": "stream",
     "text": [
      "[youtube] NutHKRKBgR0: Downloading android player API JSON\n",
      "[youtube] NutHKRKBgR0: Downloading m3u8 information\n",
      "[info] NutHKRKBgR0: Downloading 1 format(s): 251\n",
      "[download] Destination: C:\\Users\\arwin\\Documents\\dev\\APS360-PROJECT\\data\\billboard_audio\\Katy Perry_Daisies\\Katy Perry_Daisies.webm\n",
      "[download] 100% of    2.71MiB in 00:00:00 at 10.02MiB/s  \n",
      "[download] Finished downloading playlist: Katy Perry Daisies\n",
      "[generic] Extracting URL: Lil Baby & 42 Dugg Grace\n",
      "[youtube:search] Extracting URL: ytsearch:Lil Baby & 42 Dugg Grace\n",
      "[download] Downloading playlist: Lil Baby & 42 Dugg Grace\n",
      "[youtube:search] query \"Lil Baby & 42 Dugg Grace\": Downloading web client config\n",
      "[youtube:search] query \"Lil Baby & 42 Dugg Grace\" page 1: Downloading API JSON\n",
      "[youtube:search] Playlist Lil Baby & 42 Dugg Grace: Downloading 1 items of 1\n",
      "[download] Downloading item 1 of 1\n",
      "[youtube] Extracting URL: https://www.youtube.com/watch?v=3npC_24Iq9s\n",
      "[youtube] 3npC_24Iq9s: Downloading webpage\n",
      "[youtube] 3npC_24Iq9s: Downloading ios player API JSON\n",
      "[youtube] 3npC_24Iq9s: Downloading android player API JSON\n"
     ]
    },
    {
     "name": "stderr",
     "output_type": "stream",
     "text": [
      "WARNING: [youtube] YouTube said: ERROR - Precondition check failed.\n",
      "WARNING: [youtube] HTTP Error 400: Bad Request. Retrying (1/3)...\n"
     ]
    },
    {
     "name": "stdout",
     "output_type": "stream",
     "text": [
      "[youtube] 3npC_24Iq9s: Downloading android player API JSON\n",
      "[youtube] 3npC_24Iq9s: Downloading m3u8 information\n",
      "[info] 3npC_24Iq9s: Downloading 1 format(s): 251\n",
      "[download] Destination: C:\\Users\\arwin\\Documents\\dev\\APS360-PROJECT\\data\\billboard_audio\\Lil Baby & 42 Dugg_Grace\\Lil Baby & 42 Dugg_Grace.webm\n",
      "[download] 100% of    3.52MiB in 00:00:00 at 18.38MiB/s    \n",
      "[download] Finished downloading playlist: Lil Baby & 42 Dugg Grace\n",
      "[generic] Extracting URL: PARTYNEXTDOOR & Rihanna Believe It\n",
      "[youtube:search] Extracting URL: ytsearch:PARTYNEXTDOOR & Rihanna Believe It\n",
      "[download] Downloading playlist: PARTYNEXTDOOR & Rihanna Believe It\n",
      "[youtube:search] query \"PARTYNEXTDOOR & Rihanna Believe It\": Downloading web client config\n",
      "[youtube:search] query \"PARTYNEXTDOOR & Rihanna Believe It\" page 1: Downloading API JSON\n",
      "[youtube:search] Playlist PARTYNEXTDOOR & Rihanna Believe It: Downloading 1 items of 1\n",
      "[download] Downloading item 1 of 1\n",
      "[youtube] Extracting URL: https://www.youtube.com/watch?v=gejbbL1AaJk\n",
      "[youtube] gejbbL1AaJk: Downloading webpage\n",
      "[youtube] gejbbL1AaJk: Downloading ios player API JSON\n",
      "[youtube] gejbbL1AaJk: Downloading android player API JSON\n",
      "[youtube] gejbbL1AaJk: Downloading m3u8 information\n",
      "[info] gejbbL1AaJk: Downloading 1 format(s): 251\n",
      "[download] Destination: C:\\Users\\arwin\\Documents\\dev\\APS360-PROJECT\\data\\billboard_audio\\PARTYNEXTDOOR & Rihanna_Believe It\\PARTYNEXTDOOR & Rihanna_Believe It.webm\n",
      "[download] 100% of    3.05MiB in 00:00:00 at 6.77MiB/s   \n",
      "[download] Finished downloading playlist: PARTYNEXTDOOR & Rihanna Believe It\n",
      "[generic] Extracting URL: The Weeknd In Your Eyes\n",
      "[youtube:search] Extracting URL: ytsearch:The Weeknd In Your Eyes\n",
      "[download] Downloading playlist: The Weeknd In Your Eyes\n",
      "[youtube:search] query \"The Weeknd In Your Eyes\": Downloading web client config\n",
      "[youtube:search] query \"The Weeknd In Your Eyes\" page 1: Downloading API JSON\n",
      "[youtube:search] Playlist The Weeknd In Your Eyes: Downloading 1 items of 1\n",
      "[download] Downloading item 1 of 1\n",
      "[youtube] Extracting URL: https://www.youtube.com/watch?v=E3QiD99jPAg\n",
      "[youtube] E3QiD99jPAg: Downloading webpage\n",
      "[youtube] E3QiD99jPAg: Downloading ios player API JSON\n",
      "[youtube] E3QiD99jPAg: Downloading android player API JSON\n"
     ]
    },
    {
     "name": "stderr",
     "output_type": "stream",
     "text": [
      "WARNING: [youtube] YouTube said: ERROR - Precondition check failed.\n",
      "WARNING: [youtube] HTTP Error 400: Bad Request. Retrying (1/3)...\n"
     ]
    },
    {
     "name": "stdout",
     "output_type": "stream",
     "text": [
      "[youtube] E3QiD99jPAg: Downloading android player API JSON\n",
      "[youtube] E3QiD99jPAg: Downloading m3u8 information\n",
      "[info] E3QiD99jPAg: Downloading 1 format(s): 251\n",
      "[download] Destination: C:\\Users\\arwin\\Documents\\dev\\APS360-PROJECT\\data\\billboard_audio\\The Weeknd_In Your Eyes\\The Weeknd_In Your Eyes.webm\n",
      "[download] 100% of    3.88MiB in 00:00:00 at 17.72MiB/s  \n",
      "[download] Finished downloading playlist: The Weeknd In Your Eyes\n",
      "[generic] Extracting URL: Eric Church Stick That In Your Country Song\n",
      "[youtube:search] Extracting URL: ytsearch:Eric Church Stick That In Your Country Song\n",
      "[download] Downloading playlist: Eric Church Stick That In Your Country Song\n",
      "[youtube:search] query \"Eric Church Stick That In Your Country Song\": Downloading web client config\n",
      "[youtube:search] query \"Eric Church Stick That In Your Country Song\" page 1: Downloading API JSON\n",
      "[youtube:search] Playlist Eric Church Stick That In Your Country Song: Downloading 1 items of 1\n",
      "[download] Downloading item 1 of 1\n",
      "[youtube] Extracting URL: https://www.youtube.com/watch?v=wAX5XvdKRFk\n",
      "[youtube] wAX5XvdKRFk: Downloading webpage\n",
      "[youtube] wAX5XvdKRFk: Downloading ios player API JSON\n",
      "[youtube] wAX5XvdKRFk: Downloading android player API JSON\n"
     ]
    },
    {
     "name": "stderr",
     "output_type": "stream",
     "text": [
      "WARNING: [youtube] YouTube said: ERROR - Precondition check failed.\n",
      "WARNING: [youtube] HTTP Error 400: Bad Request. Retrying (1/3)...\n"
     ]
    },
    {
     "name": "stdout",
     "output_type": "stream",
     "text": [
      "[youtube] wAX5XvdKRFk: Downloading android player API JSON\n"
     ]
    },
    {
     "name": "stderr",
     "output_type": "stream",
     "text": [
      "WARNING: [youtube] YouTube said: ERROR - Precondition check failed.\n",
      "WARNING: [youtube] HTTP Error 400: Bad Request. Retrying (2/3)...\n"
     ]
    },
    {
     "name": "stdout",
     "output_type": "stream",
     "text": [
      "[youtube] wAX5XvdKRFk: Downloading android player API JSON\n"
     ]
    },
    {
     "name": "stderr",
     "output_type": "stream",
     "text": [
      "WARNING: [youtube] YouTube said: ERROR - Precondition check failed.\n",
      "WARNING: [youtube] HTTP Error 400: Bad Request. Retrying (3/3)...\n"
     ]
    },
    {
     "name": "stdout",
     "output_type": "stream",
     "text": [
      "[youtube] wAX5XvdKRFk: Downloading android player API JSON\n",
      "[youtube] wAX5XvdKRFk: Downloading m3u8 information\n",
      "[info] wAX5XvdKRFk: Downloading 1 format(s): 251\n",
      "[download] Destination: C:\\Users\\arwin\\Documents\\dev\\APS360-PROJECT\\data\\billboard_audio\\Eric Church_Stick That In Your Country Song\\Eric Church_Stick That In Your Country Song.webm\n",
      "[download] 100% of    3.41MiB in 00:00:00 at 14.30MiB/s  \n",
      "[download] Finished downloading playlist: Eric Church Stick That In Your Country Song\n",
      "[generic] Extracting URL: Breland My Truck\n",
      "[youtube:search] Extracting URL: ytsearch:Breland My Truck\n",
      "[download] Downloading playlist: Breland My Truck\n",
      "[youtube:search] query \"Breland My Truck\": Downloading web client config\n",
      "[youtube:search] query \"Breland My Truck\" page 1: Downloading API JSON\n",
      "[youtube:search] Playlist Breland My Truck: Downloading 1 items of 1\n",
      "[download] Downloading item 1 of 1\n",
      "[youtube] Extracting URL: https://www.youtube.com/watch?v=ezqTO4xaH6A\n",
      "[youtube] ezqTO4xaH6A: Downloading webpage\n",
      "[youtube] ezqTO4xaH6A: Downloading ios player API JSON\n",
      "[youtube] ezqTO4xaH6A: Downloading android player API JSON\n"
     ]
    },
    {
     "name": "stderr",
     "output_type": "stream",
     "text": [
      "WARNING: [youtube] YouTube said: ERROR - Precondition check failed.\n",
      "WARNING: [youtube] HTTP Error 400: Bad Request. Retrying (1/3)...\n"
     ]
    },
    {
     "name": "stdout",
     "output_type": "stream",
     "text": [
      "[youtube] ezqTO4xaH6A: Downloading android player API JSON\n"
     ]
    },
    {
     "name": "stderr",
     "output_type": "stream",
     "text": [
      "WARNING: [youtube] YouTube said: ERROR - Precondition check failed.\n",
      "WARNING: [youtube] HTTP Error 400: Bad Request. Retrying (2/3)...\n"
     ]
    },
    {
     "name": "stdout",
     "output_type": "stream",
     "text": [
      "[youtube] ezqTO4xaH6A: Downloading android player API JSON\n",
      "[youtube] ezqTO4xaH6A: Downloading m3u8 information\n",
      "[info] ezqTO4xaH6A: Downloading 1 format(s): 251\n",
      "[download] Destination: C:\\Users\\arwin\\Documents\\dev\\APS360-PROJECT\\data\\billboard_audio\\Breland_My Truck\\Breland_My Truck.webm\n",
      "[download] 100% of    2.98MiB in 00:00:01 at 2.18MiB/s     \n",
      "[download] Finished downloading playlist: Breland My Truck\n",
      "[generic] Extracting URL: Jonas Brothers Featuring Karol G X\n",
      "[youtube:search] Extracting URL: ytsearch:Jonas Brothers Featuring Karol G X\n",
      "[download] Downloading playlist: Jonas Brothers Featuring Karol G X\n",
      "[youtube:search] query \"Jonas Brothers Featuring Karol G X\": Downloading web client config\n",
      "[youtube:search] query \"Jonas Brothers Featuring Karol G X\" page 1: Downloading API JSON\n",
      "[youtube:search] Playlist Jonas Brothers Featuring Karol G X: Downloading 1 items of 1\n",
      "[download] Downloading item 1 of 1\n",
      "[youtube] Extracting URL: https://www.youtube.com/watch?v=9hGdmEwBwbg\n",
      "[youtube] 9hGdmEwBwbg: Downloading webpage\n",
      "[youtube] 9hGdmEwBwbg: Downloading ios player API JSON\n",
      "[youtube] 9hGdmEwBwbg: Downloading android player API JSON\n"
     ]
    },
    {
     "name": "stderr",
     "output_type": "stream",
     "text": [
      "WARNING: [youtube] YouTube said: ERROR - Precondition check failed.\n",
      "WARNING: [youtube] HTTP Error 400: Bad Request. Retrying (1/3)...\n"
     ]
    },
    {
     "name": "stdout",
     "output_type": "stream",
     "text": [
      "[youtube] 9hGdmEwBwbg: Downloading android player API JSON\n"
     ]
    },
    {
     "name": "stderr",
     "output_type": "stream",
     "text": [
      "WARNING: [youtube] YouTube said: ERROR - Precondition check failed.\n",
      "WARNING: [youtube] HTTP Error 400: Bad Request. Retrying (2/3)...\n"
     ]
    },
    {
     "name": "stdout",
     "output_type": "stream",
     "text": [
      "[youtube] 9hGdmEwBwbg: Downloading android player API JSON\n"
     ]
    },
    {
     "name": "stderr",
     "output_type": "stream",
     "text": [
      "WARNING: [youtube] YouTube said: ERROR - Precondition check failed.\n",
      "WARNING: [youtube] HTTP Error 400: Bad Request. Retrying (3/3)...\n"
     ]
    },
    {
     "name": "stdout",
     "output_type": "stream",
     "text": [
      "[youtube] 9hGdmEwBwbg: Downloading android player API JSON\n",
      "[youtube] 9hGdmEwBwbg: Downloading m3u8 information\n",
      "[info] 9hGdmEwBwbg: Downloading 1 format(s): 251\n",
      "[download] Destination: C:\\Users\\arwin\\Documents\\dev\\APS360-PROJECT\\data\\billboard_audio\\Jonas Brothers Featuring Karol G_X\\Jonas Brothers Featuring Karol G_X.webm\n",
      "[download] 100% of    3.02MiB in 00:00:00 at 3.03MiB/s   \n",
      "[download] Finished downloading playlist: Jonas Brothers Featuring Karol G X\n",
      "[generic] Extracting URL: NLE Choppa Shotta Flow 5\n",
      "[youtube:search] Extracting URL: ytsearch:NLE Choppa Shotta Flow 5\n",
      "[download] Downloading playlist: NLE Choppa Shotta Flow 5\n",
      "[youtube:search] query \"NLE Choppa Shotta Flow 5\": Downloading web client config\n",
      "[youtube:search] query \"NLE Choppa Shotta Flow 5\" page 1: Downloading API JSON\n",
      "[youtube:search] Playlist NLE Choppa Shotta Flow 5: Downloading 1 items of 1\n",
      "[download] Downloading item 1 of 1\n",
      "[youtube] Extracting URL: https://www.youtube.com/watch?v=BUJ_hyOMIq8\n",
      "[youtube] BUJ_hyOMIq8: Downloading webpage\n",
      "[youtube] BUJ_hyOMIq8: Downloading ios player API JSON\n",
      "[youtube] BUJ_hyOMIq8: Downloading android player API JSON\n",
      "[youtube] BUJ_hyOMIq8: Downloading m3u8 information\n",
      "[info] BUJ_hyOMIq8: Downloading 1 format(s): 251\n",
      "[download] Destination: C:\\Users\\arwin\\Documents\\dev\\APS360-PROJECT\\data\\billboard_audio\\NLE Choppa_Shotta Flow 5\\NLE Choppa_Shotta Flow 5.webm\n",
      "[download] 100% of    2.83MiB in 00:00:01 at 1.83MiB/s     \n",
      "[download] Finished downloading playlist: NLE Choppa Shotta Flow 5\n",
      "[generic] Extracting URL: Carly Pearce & Lee Brice I Hope You're Happy Now\n",
      "[youtube:search] Extracting URL: ytsearch:Carly Pearce & Lee Brice I Hope You're Happy Now\n",
      "[download] Downloading playlist: Carly Pearce & Lee Brice I Hope You're Happy Now\n",
      "[youtube:search] query \"Carly Pearce & Lee Brice I Hope You're Happy Now\": Downloading web client config\n",
      "[youtube:search] query \"Carly Pearce & Lee Brice I Hope You're Happy Now\" page 1: Downloading API JSON\n",
      "[youtube:search] Playlist Carly Pearce & Lee Brice I Hope You're Happy Now: Downloading 1 items of 1\n",
      "[download] Downloading item 1 of 1\n",
      "[youtube] Extracting URL: https://www.youtube.com/watch?v=SBBhyMYnwCw\n",
      "[youtube] SBBhyMYnwCw: Downloading webpage\n",
      "[youtube] SBBhyMYnwCw: Downloading ios player API JSON\n",
      "[youtube] SBBhyMYnwCw: Downloading android player API JSON\n"
     ]
    },
    {
     "name": "stderr",
     "output_type": "stream",
     "text": [
      "WARNING: [youtube] YouTube said: ERROR - Precondition check failed.\n",
      "WARNING: [youtube] HTTP Error 400: Bad Request. Retrying (1/3)...\n"
     ]
    },
    {
     "name": "stdout",
     "output_type": "stream",
     "text": [
      "[youtube] SBBhyMYnwCw: Downloading android player API JSON\n",
      "[youtube] SBBhyMYnwCw: Downloading m3u8 information\n",
      "[info] SBBhyMYnwCw: Downloading 1 format(s): 251\n",
      "[download] Destination: C:\\Users\\arwin\\Documents\\dev\\APS360-PROJECT\\data\\billboard_audio\\Carly Pearce & Lee Brice_I Hope You're Happy Now\\Carly Pearce & Lee Brice_I Hope You're Happy Now.webm\n",
      "[download] 100% of    3.24MiB in 00:00:01 at 2.60MiB/s   \n",
      "[download] Finished downloading playlist: Carly Pearce & Lee Brice I Hope You're Happy Now\n",
      "[generic] Extracting URL: Billie Eilish Everything I Wanted\n",
      "[youtube:search] Extracting URL: ytsearch:Billie Eilish Everything I Wanted\n",
      "[download] Downloading playlist: Billie Eilish Everything I Wanted\n",
      "[youtube:search] query \"Billie Eilish Everything I Wanted\": Downloading web client config\n",
      "[youtube:search] query \"Billie Eilish Everything I Wanted\" page 1: Downloading API JSON\n",
      "[youtube:search] Playlist Billie Eilish Everything I Wanted: Downloading 1 items of 1\n",
      "[download] Downloading item 1 of 1\n",
      "[youtube] Extracting URL: https://www.youtube.com/watch?v=EgBJmlPo8Xw\n",
      "[youtube] EgBJmlPo8Xw: Downloading webpage\n",
      "[youtube] EgBJmlPo8Xw: Downloading ios player API JSON\n",
      "[youtube] EgBJmlPo8Xw: Downloading android player API JSON\n"
     ]
    },
    {
     "name": "stderr",
     "output_type": "stream",
     "text": [
      "WARNING: [youtube] YouTube said: ERROR - Precondition check failed.\n",
      "WARNING: [youtube] HTTP Error 400: Bad Request. Retrying (1/3)...\n"
     ]
    },
    {
     "name": "stdout",
     "output_type": "stream",
     "text": [
      "[youtube] EgBJmlPo8Xw: Downloading android player API JSON\n"
     ]
    },
    {
     "name": "stderr",
     "output_type": "stream",
     "text": [
      "WARNING: [youtube] YouTube said: ERROR - Precondition check failed.\n",
      "WARNING: [youtube] HTTP Error 400: Bad Request. Retrying (2/3)...\n"
     ]
    },
    {
     "name": "stdout",
     "output_type": "stream",
     "text": [
      "[youtube] EgBJmlPo8Xw: Downloading android player API JSON\n"
     ]
    },
    {
     "name": "stderr",
     "output_type": "stream",
     "text": [
      "WARNING: [youtube] YouTube said: ERROR - Precondition check failed.\n",
      "WARNING: [youtube] HTTP Error 400: Bad Request. Retrying (3/3)...\n"
     ]
    },
    {
     "name": "stdout",
     "output_type": "stream",
     "text": [
      "[youtube] EgBJmlPo8Xw: Downloading android player API JSON\n"
     ]
    },
    {
     "name": "stderr",
     "output_type": "stream",
     "text": [
      "WARNING: [youtube] YouTube said: ERROR - Precondition check failed.\n",
      "WARNING: [youtube] Unable to download API page: HTTP Error 400: Bad Request (caused by <HTTPError 400: Bad Request>); please report this issue on  https://github.com/yt-dlp/yt-dlp/issues?q= , filling out the appropriate issue template. Confirm you are on the latest version using  yt-dlp -U\n"
     ]
    },
    {
     "name": "stdout",
     "output_type": "stream",
     "text": [
      "[youtube] EgBJmlPo8Xw: Downloading m3u8 information\n",
      "[info] EgBJmlPo8Xw: Downloading 1 format(s): 251\n",
      "[download] Destination: C:\\Users\\arwin\\Documents\\dev\\APS360-PROJECT\\data\\billboard_audio\\Billie Eilish_Everything I Wanted\\Billie Eilish_Everything I Wanted.webm\n",
      "[download] 100% of    4.24MiB in 00:00:01 at 4.14MiB/s   \n",
      "[download] Finished downloading playlist: Billie Eilish Everything I Wanted\n",
      "[generic] Extracting URL: J_ Cole Snow On Tha Bluff\n",
      "[youtube:search] Extracting URL: ytsearch:J_ Cole Snow On Tha Bluff\n",
      "[download] Downloading playlist: J_ Cole Snow On Tha Bluff\n",
      "[youtube:search] query \"J_ Cole Snow On Tha Bluff\": Downloading web client config\n",
      "[youtube:search] query \"J_ Cole Snow On Tha Bluff\" page 1: Downloading API JSON\n",
      "[youtube:search] Playlist J_ Cole Snow On Tha Bluff: Downloading 1 items of 1\n",
      "[download] Downloading item 1 of 1\n",
      "[youtube] Extracting URL: https://www.youtube.com/watch?v=OZa3HyVLimQ\n",
      "[youtube] OZa3HyVLimQ: Downloading webpage\n",
      "[youtube] OZa3HyVLimQ: Downloading ios player API JSON\n",
      "[youtube] OZa3HyVLimQ: Downloading android player API JSON\n"
     ]
    },
    {
     "name": "stderr",
     "output_type": "stream",
     "text": [
      "WARNING: [youtube] YouTube said: ERROR - Precondition check failed.\n",
      "WARNING: [youtube] HTTP Error 400: Bad Request. Retrying (1/3)...\n"
     ]
    },
    {
     "name": "stdout",
     "output_type": "stream",
     "text": [
      "[youtube] OZa3HyVLimQ: Downloading android player API JSON\n",
      "[youtube] OZa3HyVLimQ: Downloading m3u8 information\n",
      "[info] OZa3HyVLimQ: Downloading 1 format(s): 251\n",
      "[download] Destination: C:\\Users\\arwin\\Documents\\dev\\APS360-PROJECT\\data\\billboard_audio\\J_ Cole_Snow On Tha Bluff\\J_ Cole_Snow On Tha Bluff.webm\n",
      "[download] 100% of    3.88MiB in 00:00:00 at 9.63MiB/s   \n",
      "[download] Finished downloading playlist: J_ Cole Snow On Tha Bluff\n",
      "[generic] Extracting URL: A Boogie Wit da Hoodie Bleed\n",
      "[youtube:search] Extracting URL: ytsearch:A Boogie Wit da Hoodie Bleed\n",
      "[download] Downloading playlist: A Boogie Wit da Hoodie Bleed\n",
      "[youtube:search] query \"A Boogie Wit da Hoodie Bleed\": Downloading web client config\n",
      "[youtube:search] query \"A Boogie Wit da Hoodie Bleed\" page 1: Downloading API JSON\n",
      "[youtube:search] Playlist A Boogie Wit da Hoodie Bleed: Downloading 1 items of 1\n",
      "[download] Downloading item 1 of 1\n",
      "[youtube] Extracting URL: https://www.youtube.com/watch?v=ZdhVDWcrh6c\n",
      "[youtube] ZdhVDWcrh6c: Downloading webpage\n",
      "[youtube] ZdhVDWcrh6c: Downloading ios player API JSON\n",
      "[youtube] ZdhVDWcrh6c: Downloading android player API JSON\n"
     ]
    },
    {
     "name": "stderr",
     "output_type": "stream",
     "text": [
      "WARNING: [youtube] YouTube said: ERROR - Precondition check failed.\n",
      "WARNING: [youtube] HTTP Error 400: Bad Request. Retrying (1/3)...\n"
     ]
    },
    {
     "name": "stdout",
     "output_type": "stream",
     "text": [
      "[youtube] ZdhVDWcrh6c: Downloading android player API JSON\n"
     ]
    },
    {
     "name": "stderr",
     "output_type": "stream",
     "text": [
      "WARNING: [youtube] YouTube said: ERROR - Precondition check failed.\n",
      "WARNING: [youtube] HTTP Error 400: Bad Request. Retrying (2/3)...\n"
     ]
    },
    {
     "name": "stdout",
     "output_type": "stream",
     "text": [
      "[youtube] ZdhVDWcrh6c: Downloading android player API JSON\n",
      "[youtube] ZdhVDWcrh6c: Downloading m3u8 information\n",
      "[info] ZdhVDWcrh6c: Downloading 1 format(s): 251\n",
      "[download] Destination: C:\\Users\\arwin\\Documents\\dev\\APS360-PROJECT\\data\\billboard_audio\\A Boogie Wit da Hoodie_Bleed\\A Boogie Wit da Hoodie_Bleed.webm\n",
      "[download] 100% of    3.23MiB in 00:00:00 at 10.28MiB/s  \n",
      "[download] Finished downloading playlist: A Boogie Wit da Hoodie Bleed\n",
      "[generic] Extracting URL: Tyla Yaweh & Post Malone Tommy Lee\n",
      "[youtube:search] Extracting URL: ytsearch:Tyla Yaweh & Post Malone Tommy Lee\n",
      "[download] Downloading playlist: Tyla Yaweh & Post Malone Tommy Lee\n",
      "[youtube:search] query \"Tyla Yaweh & Post Malone Tommy Lee\": Downloading web client config\n",
      "[youtube:search] query \"Tyla Yaweh & Post Malone Tommy Lee\" page 1: Downloading API JSON\n",
      "[youtube:search] Playlist Tyla Yaweh & Post Malone Tommy Lee: Downloading 1 items of 1\n",
      "[download] Downloading item 1 of 1\n",
      "[youtube] Extracting URL: https://www.youtube.com/watch?v=nEmehcK7KfQ\n",
      "[youtube] nEmehcK7KfQ: Downloading webpage\n",
      "[youtube] nEmehcK7KfQ: Downloading ios player API JSON\n",
      "[youtube] nEmehcK7KfQ: Downloading android player API JSON\n",
      "[youtube] nEmehcK7KfQ: Downloading m3u8 information\n",
      "[info] nEmehcK7KfQ: Downloading 1 format(s): 251\n",
      "[download] Destination: C:\\Users\\arwin\\Documents\\dev\\APS360-PROJECT\\data\\billboard_audio\\Tyla Yaweh & Post Malone_Tommy Lee\\Tyla Yaweh & Post Malone_Tommy Lee.webm\n",
      "[download] 100% of    3.90MiB in 00:00:00 at 13.15MiB/s    \n",
      "[download] Finished downloading playlist: Tyla Yaweh & Post Malone Tommy Lee\n",
      "[generic] Extracting URL: twenty one pilots Level Of Concern\n",
      "[youtube:search] Extracting URL: ytsearch:twenty one pilots Level Of Concern\n",
      "[download] Downloading playlist: twenty one pilots Level Of Concern\n",
      "[youtube:search] query \"twenty one pilots Level Of Concern\": Downloading web client config\n",
      "[youtube:search] query \"twenty one pilots Level Of Concern\" page 1: Downloading API JSON\n",
      "[youtube:search] Playlist twenty one pilots Level Of Concern: Downloading 1 items of 1\n",
      "[download] Downloading item 1 of 1\n",
      "[youtube] Extracting URL: https://www.youtube.com/watch?v=loOWKm8GW6A\n",
      "[youtube] loOWKm8GW6A: Downloading webpage\n",
      "[youtube] loOWKm8GW6A: Downloading ios player API JSON\n",
      "[youtube] loOWKm8GW6A: Downloading android player API JSON\n",
      "[youtube] loOWKm8GW6A: Downloading m3u8 information\n",
      "[info] loOWKm8GW6A: Downloading 1 format(s): 251\n",
      "[download] Destination: C:\\Users\\arwin\\Documents\\dev\\APS360-PROJECT\\data\\billboard_audio\\twenty one pilots_Level Of Concern\\twenty one pilots_Level Of Concern.webm\n",
      "[download] 100% of    3.70MiB in 00:00:00 at 16.21MiB/s  \n",
      "[download] Finished downloading playlist: twenty one pilots Level Of Concern\n",
      "[generic] Extracting URL: YoungBoy Never Broke Again Featuring Lil Baby One Shot\n",
      "[youtube:search] Extracting URL: ytsearch:YoungBoy Never Broke Again Featuring Lil Baby One Shot\n",
      "[download] Downloading playlist: YoungBoy Never Broke Again Featuring Lil Baby One Shot\n",
      "[youtube:search] query \"YoungBoy Never Broke Again Featuring Lil Baby One Shot\": Downloading web client config\n",
      "[youtube:search] query \"YoungBoy Never Broke Again Featuring Lil Baby One Shot\" page 1: Downloading API JSON\n",
      "[youtube:search] Playlist YoungBoy Never Broke Again Featuring Lil Baby One Shot: Downloading 1 items of 1\n",
      "[download] Downloading item 1 of 1\n",
      "[youtube] Extracting URL: https://www.youtube.com/watch?v=MjYnV92EThs\n",
      "[youtube] MjYnV92EThs: Downloading webpage\n",
      "[youtube] MjYnV92EThs: Downloading ios player API JSON\n",
      "[youtube] MjYnV92EThs: Downloading android player API JSON\n",
      "[youtube] MjYnV92EThs: Downloading m3u8 information\n",
      "[info] MjYnV92EThs: Downloading 1 format(s): 251\n",
      "[download] Destination: C:\\Users\\arwin\\Documents\\dev\\APS360-PROJECT\\data\\billboard_audio\\YoungBoy Never Broke Again Featuring Lil Baby_One Shot\\YoungBoy Never Broke Again Featuring Lil Baby_One Shot.webm\n",
      "[download] 100% of    3.22MiB in 00:00:00 at 11.60MiB/s  \n",
      "[download] Finished downloading playlist: YoungBoy Never Broke Again Featuring Lil Baby One Shot\n",
      "[generic] Extracting URL: J_I The Prince Of N_Y Need Me\n",
      "[youtube:search] Extracting URL: ytsearch:J_I The Prince Of N_Y Need Me\n",
      "[download] Downloading playlist: J_I The Prince Of N_Y Need Me\n",
      "[youtube:search] query \"J_I The Prince Of N_Y Need Me\": Downloading web client config\n",
      "[youtube:search] query \"J_I The Prince Of N_Y Need Me\" page 1: Downloading API JSON\n",
      "[youtube:search] Playlist J_I The Prince Of N_Y Need Me: Downloading 1 items of 1\n",
      "[download] Downloading item 1 of 1\n",
      "[youtube] Extracting URL: https://www.youtube.com/watch?v=akThxQgKWvs\n",
      "[youtube] akThxQgKWvs: Downloading webpage\n",
      "[youtube] akThxQgKWvs: Downloading ios player API JSON\n",
      "[youtube] akThxQgKWvs: Downloading android player API JSON\n",
      "[youtube] akThxQgKWvs: Downloading m3u8 information\n",
      "[info] akThxQgKWvs: Downloading 1 format(s): 251\n",
      "[download] Destination: C:\\Users\\arwin\\Documents\\dev\\APS360-PROJECT\\data\\billboard_audio\\J_I The Prince Of N_Y_Need Me\\J_I The Prince Of N_Y_Need Me.webm\n",
      "[download] 100% of    2.65MiB in 00:00:00 at 15.20MiB/s  \n",
      "[download] Finished downloading playlist: J_I The Prince Of N_Y Need Me\n",
      "[generic] Extracting URL: Noah Cyrus & Leon Bridges July\n",
      "[youtube:search] Extracting URL: ytsearch:Noah Cyrus & Leon Bridges July\n",
      "[download] Downloading playlist: Noah Cyrus & Leon Bridges July\n",
      "[youtube:search] query \"Noah Cyrus & Leon Bridges July\": Downloading web client config\n",
      "[youtube:search] query \"Noah Cyrus & Leon Bridges July\" page 1: Downloading API JSON\n",
      "[youtube:search] Playlist Noah Cyrus & Leon Bridges July: Downloading 1 items of 1\n",
      "[download] Downloading item 1 of 1\n",
      "[youtube] Extracting URL: https://www.youtube.com/watch?v=WQl4ldBoGtE\n",
      "[youtube] WQl4ldBoGtE: Downloading webpage\n",
      "[youtube] WQl4ldBoGtE: Downloading ios player API JSON\n",
      "[youtube] WQl4ldBoGtE: Downloading android player API JSON\n",
      "[youtube] WQl4ldBoGtE: Downloading m3u8 information\n",
      "[info] WQl4ldBoGtE: Downloading 1 format(s): 251\n",
      "[download] Destination: C:\\Users\\arwin\\Documents\\dev\\APS360-PROJECT\\data\\billboard_audio\\Noah Cyrus & Leon Bridges_July\\Noah Cyrus & Leon Bridges_July.webm\n",
      "[download] 100% of    2.48MiB in 00:00:00 at 6.44MiB/s   \n",
      "[download] Finished downloading playlist: Noah Cyrus & Leon Bridges July\n",
      "[generic] Extracting URL: Diplo Presents Thomas Wesley Featuring Morgan Wallen Heartless\n",
      "[youtube:search] Extracting URL: ytsearch:Diplo Presents Thomas Wesley Featuring Morgan Wallen Heartless\n",
      "[download] Downloading playlist: Diplo Presents Thomas Wesley Featuring Morgan Wallen Heartless\n",
      "[youtube:search] query \"Diplo Presents Thomas Wesley Featuring Morgan Wallen Heartless\": Downloading web client config\n",
      "[youtube:search] query \"Diplo Presents Thomas Wesley Featuring Morgan Wallen Heartless\" page 1: Downloading API JSON\n",
      "[youtube:search] Playlist Diplo Presents Thomas Wesley Featuring Morgan Wallen Heartless: Downloading 1 items of 1\n",
      "[download] Downloading item 1 of 1\n",
      "[youtube] Extracting URL: https://www.youtube.com/watch?v=LOQnx1HBmiI\n",
      "[youtube] LOQnx1HBmiI: Downloading webpage\n",
      "[youtube] LOQnx1HBmiI: Downloading ios player API JSON\n",
      "[youtube] LOQnx1HBmiI: Downloading android player API JSON\n",
      "[youtube] LOQnx1HBmiI: Downloading m3u8 information\n",
      "[info] LOQnx1HBmiI: Downloading 1 format(s): 251\n",
      "[download] Destination: C:\\Users\\arwin\\Documents\\dev\\APS360-PROJECT\\data\\billboard_audio\\Diplo Presents Thomas Wesley Featuring Morgan Wallen_Heartless\\Diplo Presents Thomas Wesley Featuring Morgan Wallen_Heartless.webm\n",
      "[download] 100% of    2.93MiB in 00:00:00 at 11.33MiB/s  \n",
      "[download] Finished downloading playlist: Diplo Presents Thomas Wesley Featuring Morgan Wallen Heartless\n",
      "[generic] Extracting URL: Regard Ride It_\n",
      "[youtube:search] Extracting URL: ytsearch:Regard Ride It_\n",
      "[download] Downloading playlist: Regard Ride It_\n",
      "[youtube:search] query \"Regard Ride It_\": Downloading web client config\n",
      "[youtube:search] query \"Regard Ride It_\" page 1: Downloading API JSON\n",
      "[youtube:search] Playlist Regard Ride It_: Downloading 1 items of 1\n",
      "[download] Downloading item 1 of 1\n",
      "[youtube] Extracting URL: https://www.youtube.com/watch?v=ucVUEmjKsko\n",
      "[youtube] ucVUEmjKsko: Downloading webpage\n",
      "[youtube] ucVUEmjKsko: Downloading ios player API JSON\n",
      "[youtube] ucVUEmjKsko: Downloading android player API JSON\n"
     ]
    },
    {
     "name": "stderr",
     "output_type": "stream",
     "text": [
      "WARNING: [youtube] YouTube said: ERROR - Precondition check failed.\n",
      "WARNING: [youtube] HTTP Error 400: Bad Request. Retrying (1/3)...\n"
     ]
    },
    {
     "name": "stdout",
     "output_type": "stream",
     "text": [
      "[youtube] ucVUEmjKsko: Downloading android player API JSON\n"
     ]
    },
    {
     "name": "stderr",
     "output_type": "stream",
     "text": [
      "WARNING: [youtube] YouTube said: ERROR - Precondition check failed.\n",
      "WARNING: [youtube] HTTP Error 400: Bad Request. Retrying (2/3)...\n"
     ]
    },
    {
     "name": "stdout",
     "output_type": "stream",
     "text": [
      "[youtube] ucVUEmjKsko: Downloading android player API JSON\n"
     ]
    },
    {
     "name": "stderr",
     "output_type": "stream",
     "text": [
      "WARNING: [youtube] YouTube said: ERROR - Precondition check failed.\n",
      "WARNING: [youtube] HTTP Error 400: Bad Request. Retrying (3/3)...\n"
     ]
    },
    {
     "name": "stdout",
     "output_type": "stream",
     "text": [
      "[youtube] ucVUEmjKsko: Downloading android player API JSON\n"
     ]
    },
    {
     "name": "stderr",
     "output_type": "stream",
     "text": [
      "WARNING: [youtube] YouTube said: ERROR - Precondition check failed.\n",
      "WARNING: [youtube] Unable to download API page: HTTP Error 400: Bad Request (caused by <HTTPError 400: Bad Request>); please report this issue on  https://github.com/yt-dlp/yt-dlp/issues?q= , filling out the appropriate issue template. Confirm you are on the latest version using  yt-dlp -U\n"
     ]
    },
    {
     "name": "stdout",
     "output_type": "stream",
     "text": [
      "[youtube] ucVUEmjKsko: Downloading m3u8 information\n",
      "[info] ucVUEmjKsko: Downloading 1 format(s): 251\n",
      "[download] Destination: C:\\Users\\arwin\\Documents\\dev\\APS360-PROJECT\\data\\billboard_audio\\Regard_Ride It_\\Regard_Ride It_.webm\n",
      "[download] 100% of    3.56MiB in 00:00:00 at 12.37MiB/s  \n",
      "[download] Finished downloading playlist: Regard Ride It_\n",
      "[generic] Extracting URL: Meek Mill Otherside Of America\n",
      "[youtube:search] Extracting URL: ytsearch:Meek Mill Otherside Of America\n",
      "[download] Downloading playlist: Meek Mill Otherside Of America\n",
      "[youtube:search] query \"Meek Mill Otherside Of America\": Downloading web client config\n",
      "[youtube:search] query \"Meek Mill Otherside Of America\" page 1: Downloading API JSON\n",
      "[youtube:search] Playlist Meek Mill Otherside Of America: Downloading 1 items of 1\n",
      "[download] Downloading item 1 of 1\n",
      "[youtube] Extracting URL: https://www.youtube.com/watch?v=JUnc3kl0DcA\n",
      "[youtube] JUnc3kl0DcA: Downloading webpage\n",
      "[youtube] JUnc3kl0DcA: Downloading ios player API JSON\n",
      "[youtube] JUnc3kl0DcA: Downloading android player API JSON\n"
     ]
    },
    {
     "name": "stderr",
     "output_type": "stream",
     "text": [
      "WARNING: [youtube] YouTube said: ERROR - Precondition check failed.\n",
      "WARNING: [youtube] HTTP Error 400: Bad Request. Retrying (1/3)...\n"
     ]
    },
    {
     "name": "stdout",
     "output_type": "stream",
     "text": [
      "[youtube] JUnc3kl0DcA: Downloading android player API JSON\n",
      "[youtube] JUnc3kl0DcA: Downloading m3u8 information\n",
      "[info] JUnc3kl0DcA: Downloading 1 format(s): 251\n",
      "[download] Destination: C:\\Users\\arwin\\Documents\\dev\\APS360-PROJECT\\data\\billboard_audio\\Meek Mill_Otherside Of America\\Meek Mill_Otherside Of America.webm\n",
      "[download] 100% of    3.44MiB in 00:00:00 at 7.61MiB/s     \n",
      "[download] Finished downloading playlist: Meek Mill Otherside Of America\n",
      "[generic] Extracting URL: Carrie Underwood Drinking Alone\n",
      "[youtube:search] Extracting URL: ytsearch:Carrie Underwood Drinking Alone\n",
      "[download] Downloading playlist: Carrie Underwood Drinking Alone\n",
      "[youtube:search] query \"Carrie Underwood Drinking Alone\": Downloading web client config\n",
      "[youtube:search] query \"Carrie Underwood Drinking Alone\" page 1: Downloading API JSON\n",
      "[youtube:search] Playlist Carrie Underwood Drinking Alone: Downloading 1 items of 1\n",
      "[download] Downloading item 1 of 1\n",
      "[youtube] Extracting URL: https://www.youtube.com/watch?v=vfkq-Ov7WSw\n",
      "[youtube] vfkq-Ov7WSw: Downloading webpage\n",
      "[youtube] vfkq-Ov7WSw: Downloading ios player API JSON\n",
      "[youtube] vfkq-Ov7WSw: Downloading android player API JSON\n"
     ]
    },
    {
     "name": "stderr",
     "output_type": "stream",
     "text": [
      "WARNING: [youtube] YouTube said: ERROR - Precondition check failed.\n",
      "WARNING: [youtube] HTTP Error 400: Bad Request. Retrying (1/3)...\n"
     ]
    },
    {
     "name": "stdout",
     "output_type": "stream",
     "text": [
      "[youtube] vfkq-Ov7WSw: Downloading android player API JSON\n",
      "[youtube] vfkq-Ov7WSw: Downloading m3u8 information\n",
      "[info] vfkq-Ov7WSw: Downloading 1 format(s): 251\n",
      "[download] Destination: C:\\Users\\arwin\\Documents\\dev\\APS360-PROJECT\\data\\billboard_audio\\Carrie Underwood_Drinking Alone\\Carrie Underwood_Drinking Alone.webm\n",
      "[download] 100% of    4.10MiB in 00:00:00 at 8.85MiB/s     \n",
      "[download] Finished downloading playlist: Carrie Underwood Drinking Alone\n",
      "[generic] Extracting URL: Sleepy Hallow Deep End Freestyle\n",
      "[youtube:search] Extracting URL: ytsearch:Sleepy Hallow Deep End Freestyle\n",
      "[download] Downloading playlist: Sleepy Hallow Deep End Freestyle\n",
      "[youtube:search] query \"Sleepy Hallow Deep End Freestyle\": Downloading web client config\n",
      "[youtube:search] query \"Sleepy Hallow Deep End Freestyle\" page 1: Downloading API JSON\n",
      "[youtube:search] Playlist Sleepy Hallow Deep End Freestyle: Downloading 1 items of 1\n",
      "[download] Downloading item 1 of 1\n",
      "[youtube] Extracting URL: https://www.youtube.com/watch?v=jma9h7GgQSk\n",
      "[youtube] jma9h7GgQSk: Downloading webpage\n",
      "[youtube] jma9h7GgQSk: Downloading ios player API JSON\n",
      "[youtube] jma9h7GgQSk: Downloading android player API JSON\n"
     ]
    },
    {
     "name": "stderr",
     "output_type": "stream",
     "text": [
      "WARNING: [youtube] YouTube said: ERROR - Precondition check failed.\n",
      "WARNING: [youtube] HTTP Error 400: Bad Request. Retrying (1/3)...\n"
     ]
    },
    {
     "name": "stdout",
     "output_type": "stream",
     "text": [
      "[youtube] jma9h7GgQSk: Downloading android player API JSON\n"
     ]
    },
    {
     "name": "stderr",
     "output_type": "stream",
     "text": [
      "WARNING: [youtube] YouTube said: ERROR - Precondition check failed.\n",
      "WARNING: [youtube] HTTP Error 400: Bad Request. Retrying (2/3)...\n"
     ]
    },
    {
     "name": "stdout",
     "output_type": "stream",
     "text": [
      "[youtube] jma9h7GgQSk: Downloading android player API JSON\n",
      "[youtube] jma9h7GgQSk: Downloading m3u8 information\n",
      "[info] jma9h7GgQSk: Downloading 1 format(s): 251\n",
      "[download] Destination: C:\\Users\\arwin\\Documents\\dev\\APS360-PROJECT\\data\\billboard_audio\\Sleepy Hallow_Deep End Freestyle\\Sleepy Hallow_Deep End Freestyle.webm\n",
      "[download] 100% of    1.84MiB in 00:00:00 at 10.78MiB/s    \n",
      "[download] Finished downloading playlist: Sleepy Hallow Deep End Freestyle\n",
      "[generic] Extracting URL: Zac Brown Band The Man Who Loves You The Most\n",
      "[youtube:search] Extracting URL: ytsearch:Zac Brown Band The Man Who Loves You The Most\n",
      "[download] Downloading playlist: Zac Brown Band The Man Who Loves You The Most\n",
      "[youtube:search] query \"Zac Brown Band The Man Who Loves You The Most\": Downloading web client config\n",
      "[youtube:search] query \"Zac Brown Band The Man Who Loves You The Most\" page 1: Downloading API JSON\n",
      "[youtube:search] Playlist Zac Brown Band The Man Who Loves You The Most: Downloading 1 items of 1\n",
      "[download] Downloading item 1 of 1\n",
      "[youtube] Extracting URL: https://www.youtube.com/watch?v=pDLhX3tvDQk\n",
      "[youtube] pDLhX3tvDQk: Downloading webpage\n",
      "[youtube] pDLhX3tvDQk: Downloading ios player API JSON\n",
      "[youtube] pDLhX3tvDQk: Downloading android player API JSON\n"
     ]
    },
    {
     "name": "stderr",
     "output_type": "stream",
     "text": [
      "WARNING: [youtube] YouTube said: ERROR - Precondition check failed.\n",
      "WARNING: [youtube] HTTP Error 400: Bad Request. Retrying (1/3)...\n"
     ]
    },
    {
     "name": "stdout",
     "output_type": "stream",
     "text": [
      "[youtube] pDLhX3tvDQk: Downloading android player API JSON\n"
     ]
    },
    {
     "name": "stderr",
     "output_type": "stream",
     "text": [
      "WARNING: [youtube] YouTube said: ERROR - Precondition check failed.\n",
      "WARNING: [youtube] HTTP Error 400: Bad Request. Retrying (2/3)...\n"
     ]
    },
    {
     "name": "stdout",
     "output_type": "stream",
     "text": [
      "[youtube] pDLhX3tvDQk: Downloading android player API JSON\n",
      "[youtube] pDLhX3tvDQk: Downloading m3u8 information\n",
      "[info] pDLhX3tvDQk: Downloading 1 format(s): 251\n",
      "[download] Destination: C:\\Users\\arwin\\Documents\\dev\\APS360-PROJECT\\data\\billboard_audio\\Zac Brown Band_The Man Who Loves You The Most\\Zac Brown Band_The Man Who Loves You The Most.webm\n",
      "[download] 100% of    3.76MiB in 00:00:00 at 17.35MiB/s  \n",
      "[download] Finished downloading playlist: Zac Brown Band The Man Who Loves You The Most\n",
      "[generic] Extracting URL: Camila Cabello Featuring DaBaby My Oh My\n",
      "[youtube:search] Extracting URL: ytsearch:Camila Cabello Featuring DaBaby My Oh My\n",
      "[download] Downloading playlist: Camila Cabello Featuring DaBaby My Oh My\n",
      "[youtube:search] query \"Camila Cabello Featuring DaBaby My Oh My\": Downloading web client config\n",
      "[youtube:search] query \"Camila Cabello Featuring DaBaby My Oh My\" page 1: Downloading API JSON\n",
      "[youtube:search] Playlist Camila Cabello Featuring DaBaby My Oh My: Downloading 1 items of 1\n",
      "[download] Downloading item 1 of 1\n",
      "[youtube] Extracting URL: https://www.youtube.com/watch?v=6fd2kkLmSDQ\n",
      "[youtube] 6fd2kkLmSDQ: Downloading webpage\n",
      "[youtube] 6fd2kkLmSDQ: Downloading ios player API JSON\n",
      "[youtube] 6fd2kkLmSDQ: Downloading android player API JSON\n"
     ]
    },
    {
     "name": "stderr",
     "output_type": "stream",
     "text": [
      "WARNING: [youtube] YouTube said: ERROR - Precondition check failed.\n",
      "WARNING: [youtube] HTTP Error 400: Bad Request. Retrying (1/3)...\n"
     ]
    },
    {
     "name": "stdout",
     "output_type": "stream",
     "text": [
      "[youtube] 6fd2kkLmSDQ: Downloading android player API JSON\n",
      "[youtube] 6fd2kkLmSDQ: Downloading m3u8 information\n",
      "[info] 6fd2kkLmSDQ: Downloading 1 format(s): 251\n",
      "[download] Destination: C:\\Users\\arwin\\Documents\\dev\\APS360-PROJECT\\data\\billboard_audio\\Camila Cabello Featuring DaBaby_My Oh My\\Camila Cabello Featuring DaBaby_My Oh My.webm\n",
      "[download] 100% of    2.94MiB in 00:00:00 at 17.08MiB/s    \n",
      "[download] Finished downloading playlist: Camila Cabello Featuring DaBaby My Oh My\n",
      "[generic] Extracting URL: Tones And I Dance Monkey\n",
      "[youtube:search] Extracting URL: ytsearch:Tones And I Dance Monkey\n",
      "[download] Downloading playlist: Tones And I Dance Monkey\n",
      "[youtube:search] query \"Tones And I Dance Monkey\": Downloading web client config\n",
      "[youtube:search] query \"Tones And I Dance Monkey\" page 1: Downloading API JSON\n",
      "[youtube:search] Playlist Tones And I Dance Monkey: Downloading 1 items of 1\n",
      "[download] Downloading item 1 of 1\n",
      "[youtube] Extracting URL: https://www.youtube.com/watch?v=q0hyYWKXF0Q\n",
      "[youtube] q0hyYWKXF0Q: Downloading webpage\n",
      "[youtube] q0hyYWKXF0Q: Downloading ios player API JSON\n",
      "[youtube] q0hyYWKXF0Q: Downloading android player API JSON\n"
     ]
    },
    {
     "name": "stderr",
     "output_type": "stream",
     "text": [
      "WARNING: [youtube] YouTube said: ERROR - Precondition check failed.\n",
      "WARNING: [youtube] HTTP Error 400: Bad Request. Retrying (1/3)...\n"
     ]
    },
    {
     "name": "stdout",
     "output_type": "stream",
     "text": [
      "[youtube] q0hyYWKXF0Q: Downloading android player API JSON\n"
     ]
    },
    {
     "name": "stderr",
     "output_type": "stream",
     "text": [
      "WARNING: [youtube] YouTube said: ERROR - Precondition check failed.\n",
      "WARNING: [youtube] HTTP Error 400: Bad Request. Retrying (2/3)...\n"
     ]
    },
    {
     "name": "stdout",
     "output_type": "stream",
     "text": [
      "[youtube] q0hyYWKXF0Q: Downloading android player API JSON\n"
     ]
    },
    {
     "name": "stderr",
     "output_type": "stream",
     "text": [
      "WARNING: [youtube] YouTube said: ERROR - Precondition check failed.\n",
      "WARNING: [youtube] HTTP Error 400: Bad Request. Retrying (3/3)...\n"
     ]
    },
    {
     "name": "stdout",
     "output_type": "stream",
     "text": [
      "[youtube] q0hyYWKXF0Q: Downloading android player API JSON\n",
      "[youtube] q0hyYWKXF0Q: Downloading m3u8 information\n",
      "[info] q0hyYWKXF0Q: Downloading 1 format(s): 251\n",
      "[download] Destination: C:\\Users\\arwin\\Documents\\dev\\APS360-PROJECT\\data\\billboard_audio\\Tones And I_Dance Monkey\\Tones And I_Dance Monkey.webm\n",
      "[download] 100% of    2.90MiB in 00:00:00 at 11.29MiB/s  \n",
      "[download] Finished downloading playlist: Tones And I Dance Monkey\n",
      "[generic] Extracting URL: JACKBOYS Featuring Young Thug Out West\n",
      "[youtube:search] Extracting URL: ytsearch:JACKBOYS Featuring Young Thug Out West\n",
      "[download] Downloading playlist: JACKBOYS Featuring Young Thug Out West\n",
      "[youtube:search] query \"JACKBOYS Featuring Young Thug Out West\": Downloading web client config\n",
      "[youtube:search] query \"JACKBOYS Featuring Young Thug Out West\" page 1: Downloading API JSON\n",
      "[youtube:search] Playlist JACKBOYS Featuring Young Thug Out West: Downloading 1 items of 1\n",
      "[download] Downloading item 1 of 1\n",
      "[youtube] Extracting URL: https://www.youtube.com/watch?v=qAlF70MdfwU\n",
      "[youtube] qAlF70MdfwU: Downloading webpage\n",
      "[youtube] qAlF70MdfwU: Downloading ios player API JSON\n",
      "[youtube] qAlF70MdfwU: Downloading android player API JSON\n"
     ]
    },
    {
     "name": "stderr",
     "output_type": "stream",
     "text": [
      "WARNING: [youtube] YouTube said: ERROR - Precondition check failed.\n",
      "WARNING: [youtube] HTTP Error 400: Bad Request. Retrying (1/3)...\n"
     ]
    },
    {
     "name": "stdout",
     "output_type": "stream",
     "text": [
      "[youtube] qAlF70MdfwU: Downloading android player API JSON\n",
      "[youtube] qAlF70MdfwU: Downloading m3u8 information\n",
      "[info] qAlF70MdfwU: Downloading 1 format(s): 251\n",
      "[download] Destination: C:\\Users\\arwin\\Documents\\dev\\APS360-PROJECT\\data\\billboard_audio\\JACKBOYS Featuring Young Thug_Out West\\JACKBOYS Featuring Young Thug_Out West.webm\n",
      "[download] 100% of    3.18MiB in 00:00:00 at 3.49MiB/s   \n",
      "[download] Finished downloading playlist: JACKBOYS Featuring Young Thug Out West\n",
      "[generic] Extracting URL: Lady Gaga & BLACKPINK Sour Candy\n",
      "[youtube:search] Extracting URL: ytsearch:Lady Gaga & BLACKPINK Sour Candy\n",
      "[download] Downloading playlist: Lady Gaga & BLACKPINK Sour Candy\n",
      "[youtube:search] query \"Lady Gaga & BLACKPINK Sour Candy\": Downloading web client config\n",
      "[youtube:search] query \"Lady Gaga & BLACKPINK Sour Candy\" page 1: Downloading API JSON\n",
      "[youtube:search] Playlist Lady Gaga & BLACKPINK Sour Candy: Downloading 1 items of 1\n",
      "[download] Downloading item 1 of 1\n",
      "[youtube] Extracting URL: https://www.youtube.com/watch?v=fnPn6At3v28\n",
      "[youtube] fnPn6At3v28: Downloading webpage\n",
      "[youtube] fnPn6At3v28: Downloading ios player API JSON\n",
      "[youtube] fnPn6At3v28: Downloading android player API JSON\n",
      "[youtube] fnPn6At3v28: Downloading m3u8 information\n",
      "[info] fnPn6At3v28: Downloading 1 format(s): 251\n",
      "[download] Destination: C:\\Users\\arwin\\Documents\\dev\\APS360-PROJECT\\data\\billboard_audio\\Lady Gaga & BLACKPINK_Sour Candy\\Lady Gaga & BLACKPINK_Sour Candy.webm\n",
      "[download] 100% of    2.44MiB in 00:00:01 at 1.68MiB/s   \n",
      "[download] Finished downloading playlist: Lady Gaga & BLACKPINK Sour Candy\n",
      "[generic] Extracting URL: NAV, Gunna & Travis Scott Turks\n",
      "[youtube:search] Extracting URL: ytsearch:NAV, Gunna & Travis Scott Turks\n",
      "[download] Downloading playlist: NAV, Gunna & Travis Scott Turks\n",
      "[youtube:search] query \"NAV, Gunna & Travis Scott Turks\": Downloading web client config\n",
      "[youtube:search] query \"NAV, Gunna & Travis Scott Turks\" page 1: Downloading API JSON\n",
      "[youtube:search] Playlist NAV, Gunna & Travis Scott Turks: Downloading 1 items of 1\n",
      "[download] Downloading item 1 of 1\n",
      "[youtube] Extracting URL: https://www.youtube.com/watch?v=WB1xTnTwF3Q\n",
      "[youtube] WB1xTnTwF3Q: Downloading webpage\n",
      "[youtube] WB1xTnTwF3Q: Downloading ios player API JSON\n",
      "[youtube] WB1xTnTwF3Q: Downloading android player API JSON\n"
     ]
    },
    {
     "name": "stderr",
     "output_type": "stream",
     "text": [
      "WARNING: [youtube] YouTube said: ERROR - Precondition check failed.\n",
      "WARNING: [youtube] HTTP Error 400: Bad Request. Retrying (1/3)...\n"
     ]
    },
    {
     "name": "stdout",
     "output_type": "stream",
     "text": [
      "[youtube] WB1xTnTwF3Q: Downloading android player API JSON\n"
     ]
    },
    {
     "name": "stderr",
     "output_type": "stream",
     "text": [
      "WARNING: [youtube] YouTube said: ERROR - Precondition check failed.\n",
      "WARNING: [youtube] HTTP Error 400: Bad Request. Retrying (2/3)...\n"
     ]
    },
    {
     "name": "stdout",
     "output_type": "stream",
     "text": [
      "[youtube] WB1xTnTwF3Q: Downloading android player API JSON\n"
     ]
    },
    {
     "name": "stderr",
     "output_type": "stream",
     "text": [
      "WARNING: [youtube] YouTube said: ERROR - Precondition check failed.\n",
      "WARNING: [youtube] HTTP Error 400: Bad Request. Retrying (3/3)...\n"
     ]
    },
    {
     "name": "stdout",
     "output_type": "stream",
     "text": [
      "[youtube] WB1xTnTwF3Q: Downloading android player API JSON\n"
     ]
    },
    {
     "name": "stderr",
     "output_type": "stream",
     "text": [
      "WARNING: [youtube] YouTube said: ERROR - Precondition check failed.\n",
      "WARNING: [youtube] Unable to download API page: HTTP Error 400: Bad Request (caused by <HTTPError 400: Bad Request>); please report this issue on  https://github.com/yt-dlp/yt-dlp/issues?q= , filling out the appropriate issue template. Confirm you are on the latest version using  yt-dlp -U\n"
     ]
    },
    {
     "name": "stdout",
     "output_type": "stream",
     "text": [
      "[youtube] WB1xTnTwF3Q: Downloading m3u8 information\n",
      "[info] WB1xTnTwF3Q: Downloading 1 format(s): 251\n",
      "[download] Destination: C:\\Users\\arwin\\Documents\\dev\\APS360-PROJECT\\data\\billboard_audio\\NAV, Gunna & Travis Scott_Turks\\NAV, Gunna & Travis Scott_Turks.webm\n",
      "[download] 100% of    3.13MiB in 00:00:00 at 5.86MiB/s   \n",
      "[download] Finished downloading playlist: NAV, Gunna & Travis Scott Turks\n",
      "[generic] Extracting URL: Gunna Featuring Roddy Ricch Cooler Than A Bitch\n",
      "[youtube:search] Extracting URL: ytsearch:Gunna Featuring Roddy Ricch Cooler Than A Bitch\n",
      "[download] Downloading playlist: Gunna Featuring Roddy Ricch Cooler Than A Bitch\n",
      "[youtube:search] query \"Gunna Featuring Roddy Ricch Cooler Than A Bitch\": Downloading web client config\n",
      "[youtube:search] query \"Gunna Featuring Roddy Ricch Cooler Than A Bitch\" page 1: Downloading API JSON\n",
      "[youtube:search] Playlist Gunna Featuring Roddy Ricch Cooler Than A Bitch: Downloading 1 items of 1\n",
      "[download] Downloading item 1 of 1\n",
      "[youtube] Extracting URL: https://www.youtube.com/watch?v=QuFU-mk30So\n",
      "[youtube] QuFU-mk30So: Downloading webpage\n",
      "[youtube] QuFU-mk30So: Downloading ios player API JSON\n",
      "[youtube] QuFU-mk30So: Downloading android player API JSON\n",
      "[youtube] QuFU-mk30So: Downloading m3u8 information\n",
      "[info] QuFU-mk30So: Downloading 1 format(s): 251\n",
      "[download] Destination: C:\\Users\\arwin\\Documents\\dev\\APS360-PROJECT\\data\\billboard_audio\\Gunna Featuring Roddy Ricch_Cooler Than A Bitch\\Gunna Featuring Roddy Ricch_Cooler Than A Bitch.webm\n",
      "[download] 100% of    3.19MiB in 00:00:00 at 4.93MiB/s     \n",
      "[download] Finished downloading playlist: Gunna Featuring Roddy Ricch Cooler Than A Bitch\n",
      "[generic] Extracting URL: Lil Uzi Vert That Way\n",
      "[youtube:search] Extracting URL: ytsearch:Lil Uzi Vert That Way\n",
      "[download] Downloading playlist: Lil Uzi Vert That Way\n",
      "[youtube:search] query \"Lil Uzi Vert That Way\": Downloading web client config\n",
      "[youtube:search] query \"Lil Uzi Vert That Way\" page 1: Downloading API JSON\n",
      "[youtube:search] Playlist Lil Uzi Vert That Way: Downloading 1 items of 1\n",
      "[download] Downloading item 1 of 1\n",
      "[youtube] Extracting URL: https://www.youtube.com/watch?v=PR-duMh19FY\n",
      "[youtube] PR-duMh19FY: Downloading webpage\n",
      "[youtube] PR-duMh19FY: Downloading ios player API JSON\n",
      "[youtube] PR-duMh19FY: Downloading android player API JSON\n"
     ]
    },
    {
     "name": "stderr",
     "output_type": "stream",
     "text": [
      "WARNING: [youtube] YouTube said: ERROR - Precondition check failed.\n",
      "WARNING: [youtube] HTTP Error 400: Bad Request. Retrying (1/3)...\n"
     ]
    },
    {
     "name": "stdout",
     "output_type": "stream",
     "text": [
      "[youtube] PR-duMh19FY: Downloading android player API JSON\n",
      "[youtube] PR-duMh19FY: Downloading m3u8 information\n",
      "[info] PR-duMh19FY: Downloading 1 format(s): 251\n",
      "[download] Destination: C:\\Users\\arwin\\Documents\\dev\\APS360-PROJECT\\data\\billboard_audio\\Lil Uzi Vert_That Way\\Lil Uzi Vert_That Way.webm\n",
      "[download] 100% of    3.76MiB in 00:00:00 at 10.65MiB/s  \n",
      "[download] Finished downloading playlist: Lil Uzi Vert That Way\n",
      "[generic] Extracting URL: Brantley Gilbert Hard Days\n",
      "[youtube:search] Extracting URL: ytsearch:Brantley Gilbert Hard Days\n",
      "[download] Downloading playlist: Brantley Gilbert Hard Days\n",
      "[youtube:search] query \"Brantley Gilbert Hard Days\": Downloading web client config\n",
      "[youtube:search] query \"Brantley Gilbert Hard Days\" page 1: Downloading API JSON\n",
      "[youtube:search] Playlist Brantley Gilbert Hard Days: Downloading 1 items of 1\n",
      "[download] Downloading item 1 of 1\n",
      "[youtube] Extracting URL: https://www.youtube.com/watch?v=5A3pPJuAH7s\n",
      "[youtube] 5A3pPJuAH7s: Downloading webpage\n",
      "[youtube] 5A3pPJuAH7s: Downloading ios player API JSON\n",
      "[youtube] 5A3pPJuAH7s: Downloading android player API JSON\n",
      "[youtube] 5A3pPJuAH7s: Downloading m3u8 information\n",
      "[info] 5A3pPJuAH7s: Downloading 1 format(s): 251\n",
      "[download] Destination: C:\\Users\\arwin\\Documents\\dev\\APS360-PROJECT\\data\\billboard_audio\\Brantley Gilbert_Hard Days\\Brantley Gilbert_Hard Days.webm\n",
      "[download] 100% of    2.88MiB in 00:00:00 at 15.15MiB/s    \n",
      "[download] Finished downloading playlist: Brantley Gilbert Hard Days\n",
      "[generic] Extracting URL: Brett Young Catch\n",
      "[youtube:search] Extracting URL: ytsearch:Brett Young Catch\n",
      "[download] Downloading playlist: Brett Young Catch\n",
      "[youtube:search] query \"Brett Young Catch\": Downloading web client config\n",
      "[youtube:search] query \"Brett Young Catch\" page 1: Downloading API JSON\n",
      "[youtube:search] Playlist Brett Young Catch: Downloading 1 items of 1\n",
      "[download] Downloading item 1 of 1\n",
      "[youtube] Extracting URL: https://www.youtube.com/watch?v=SBqPLI0Oskc\n",
      "[youtube] SBqPLI0Oskc: Downloading webpage\n",
      "[youtube] SBqPLI0Oskc: Downloading ios player API JSON\n",
      "[youtube] SBqPLI0Oskc: Downloading android player API JSON\n"
     ]
    },
    {
     "name": "stderr",
     "output_type": "stream",
     "text": [
      "WARNING: [youtube] YouTube said: ERROR - Precondition check failed.\n",
      "WARNING: [youtube] HTTP Error 400: Bad Request. Retrying (1/3)...\n"
     ]
    },
    {
     "name": "stdout",
     "output_type": "stream",
     "text": [
      "[youtube] SBqPLI0Oskc: Downloading android player API JSON\n"
     ]
    },
    {
     "name": "stderr",
     "output_type": "stream",
     "text": [
      "WARNING: [youtube] YouTube said: ERROR - Precondition check failed.\n",
      "WARNING: [youtube] HTTP Error 400: Bad Request. Retrying (2/3)...\n"
     ]
    },
    {
     "name": "stdout",
     "output_type": "stream",
     "text": [
      "[youtube] SBqPLI0Oskc: Downloading android player API JSON\n"
     ]
    },
    {
     "name": "stderr",
     "output_type": "stream",
     "text": [
      "WARNING: [youtube] YouTube said: ERROR - Precondition check failed.\n",
      "WARNING: [youtube] HTTP Error 400: Bad Request. Retrying (3/3)...\n"
     ]
    },
    {
     "name": "stdout",
     "output_type": "stream",
     "text": [
      "[youtube] SBqPLI0Oskc: Downloading android player API JSON\n"
     ]
    },
    {
     "name": "stderr",
     "output_type": "stream",
     "text": [
      "WARNING: [youtube] YouTube said: ERROR - Precondition check failed.\n",
      "WARNING: [youtube] Unable to download API page: HTTP Error 400: Bad Request (caused by <HTTPError 400: Bad Request>); please report this issue on  https://github.com/yt-dlp/yt-dlp/issues?q= , filling out the appropriate issue template. Confirm you are on the latest version using  yt-dlp -U\n"
     ]
    },
    {
     "name": "stdout",
     "output_type": "stream",
     "text": [
      "[youtube] SBqPLI0Oskc: Downloading m3u8 information\n",
      "[info] SBqPLI0Oskc: Downloading 1 format(s): 251\n",
      "[download] Destination: C:\\Users\\arwin\\Documents\\dev\\APS360-PROJECT\\data\\billboard_audio\\Brett Young_Catch\\Brett Young_Catch.webm\n",
      "[download] 100% of    3.95MiB in 00:00:00 at 11.48MiB/s  \n",
      "[download] Finished downloading playlist: Brett Young Catch\n",
      "[generic] Extracting URL: Future Featuring YoungBoy Never Broke Again Trillionaire\n",
      "[youtube:search] Extracting URL: ytsearch:Future Featuring YoungBoy Never Broke Again Trillionaire\n",
      "[download] Downloading playlist: Future Featuring YoungBoy Never Broke Again Trillionaire\n",
      "[youtube:search] query \"Future Featuring YoungBoy Never Broke Again Trillionaire\": Downloading web client config\n",
      "[youtube:search] query \"Future Featuring YoungBoy Never Broke Again Trillionaire\" page 1: Downloading API JSON\n",
      "[youtube:search] Playlist Future Featuring YoungBoy Never Broke Again Trillionaire: Downloading 1 items of 1\n",
      "[download] Downloading item 1 of 1\n",
      "[youtube] Extracting URL: https://www.youtube.com/watch?v=5tOytaaALGQ\n",
      "[youtube] 5tOytaaALGQ: Downloading webpage\n",
      "[youtube] 5tOytaaALGQ: Downloading ios player API JSON\n",
      "[youtube] 5tOytaaALGQ: Downloading android player API JSON\n"
     ]
    },
    {
     "name": "stderr",
     "output_type": "stream",
     "text": [
      "WARNING: [youtube] YouTube said: ERROR - Precondition check failed.\n",
      "WARNING: [youtube] HTTP Error 400: Bad Request. Retrying (1/3)...\n"
     ]
    },
    {
     "name": "stdout",
     "output_type": "stream",
     "text": [
      "[youtube] 5tOytaaALGQ: Downloading android player API JSON\n"
     ]
    },
    {
     "name": "stderr",
     "output_type": "stream",
     "text": [
      "WARNING: [youtube] YouTube said: ERROR - Precondition check failed.\n",
      "WARNING: [youtube] HTTP Error 400: Bad Request. Retrying (2/3)...\n"
     ]
    },
    {
     "name": "stdout",
     "output_type": "stream",
     "text": [
      "[youtube] 5tOytaaALGQ: Downloading android player API JSON\n",
      "[youtube] 5tOytaaALGQ: Downloading m3u8 information\n",
      "[info] 5tOytaaALGQ: Downloading 1 format(s): 251\n",
      "[download] Destination: C:\\Users\\arwin\\Documents\\dev\\APS360-PROJECT\\data\\billboard_audio\\Future Featuring YoungBoy Never Broke Again_Trillionaire\\Future Featuring YoungBoy Never Broke Again_Trillionaire.webm\n",
      "[download] 100% of    2.86MiB in 00:00:00 at 13.15MiB/s  \n",
      "[download] Finished downloading playlist: Future Featuring YoungBoy Never Broke Again Trillionaire\n",
      "[generic] Extracting URL: Kane Brown Worldwide Beautiful\n",
      "[youtube:search] Extracting URL: ytsearch:Kane Brown Worldwide Beautiful\n",
      "[download] Downloading playlist: Kane Brown Worldwide Beautiful\n",
      "[youtube:search] query \"Kane Brown Worldwide Beautiful\": Downloading web client config\n",
      "[youtube:search] query \"Kane Brown Worldwide Beautiful\" page 1: Downloading API JSON\n",
      "[youtube:search] Playlist Kane Brown Worldwide Beautiful: Downloading 1 items of 1\n",
      "[download] Downloading item 1 of 1\n",
      "[youtube] Extracting URL: https://www.youtube.com/watch?v=j2No_nowXsw\n",
      "[youtube] j2No_nowXsw: Downloading webpage\n",
      "[youtube] j2No_nowXsw: Downloading ios player API JSON\n",
      "[youtube] j2No_nowXsw: Downloading android player API JSON\n"
     ]
    },
    {
     "name": "stderr",
     "output_type": "stream",
     "text": [
      "WARNING: [youtube] YouTube said: ERROR - Precondition check failed.\n",
      "WARNING: [youtube] HTTP Error 400: Bad Request. Retrying (1/3)...\n"
     ]
    },
    {
     "name": "stdout",
     "output_type": "stream",
     "text": [
      "[youtube] j2No_nowXsw: Downloading android player API JSON\n",
      "[youtube] j2No_nowXsw: Downloading m3u8 information\n",
      "[info] j2No_nowXsw: Downloading 1 format(s): 251\n",
      "[download] Destination: C:\\Users\\arwin\\Documents\\dev\\APS360-PROJECT\\data\\billboard_audio\\Kane Brown_Worldwide Beautiful\\Kane Brown_Worldwide Beautiful.webm\n",
      "[download] 100% of    3.61MiB in 00:00:00 at 10.65MiB/s  \n",
      "[download] Finished downloading playlist: Kane Brown Worldwide Beautiful\n",
      "[generic] Extracting URL: Lady Gaga Stupid Love\n",
      "[youtube:search] Extracting URL: ytsearch:Lady Gaga Stupid Love\n",
      "[download] Downloading playlist: Lady Gaga Stupid Love\n",
      "[youtube:search] query \"Lady Gaga Stupid Love\": Downloading web client config\n",
      "[youtube:search] query \"Lady Gaga Stupid Love\" page 1: Downloading API JSON\n",
      "[youtube:search] Playlist Lady Gaga Stupid Love: Downloading 1 items of 1\n",
      "[download] Downloading item 1 of 1\n",
      "[youtube] Extracting URL: https://www.youtube.com/watch?v=5L6xyaeiV58\n",
      "[youtube] 5L6xyaeiV58: Downloading webpage\n",
      "[youtube] 5L6xyaeiV58: Downloading ios player API JSON\n",
      "[youtube] 5L6xyaeiV58: Downloading android player API JSON\n",
      "[youtube] 5L6xyaeiV58: Downloading m3u8 information\n",
      "[info] 5L6xyaeiV58: Downloading 1 format(s): 251\n",
      "[download] Destination: C:\\Users\\arwin\\Documents\\dev\\APS360-PROJECT\\data\\billboard_audio\\Lady Gaga_Stupid Love\\Lady Gaga_Stupid Love.webm\n",
      "[download] 100% of    3.36MiB in 00:00:00 at 14.30MiB/s  \n",
      "[download] Finished downloading playlist: Lady Gaga Stupid Love\n",
      "[generic] Extracting URL: Rosalia & Travis Scott TKN\n",
      "[youtube:search] Extracting URL: ytsearch:Rosalia & Travis Scott TKN\n",
      "[download] Downloading playlist: Rosalia & Travis Scott TKN\n",
      "[youtube:search] query \"Rosalia & Travis Scott TKN\": Downloading web client config\n",
      "[youtube:search] query \"Rosalia & Travis Scott TKN\" page 1: Downloading API JSON\n",
      "[youtube:search] Playlist Rosalia & Travis Scott TKN: Downloading 1 items of 1\n",
      "[download] Downloading item 1 of 1\n",
      "[youtube] Extracting URL: https://www.youtube.com/watch?v=q5xIoeG4uVI\n",
      "[youtube] q5xIoeG4uVI: Downloading webpage\n",
      "[youtube] q5xIoeG4uVI: Downloading ios player API JSON\n",
      "[youtube] q5xIoeG4uVI: Downloading android player API JSON\n",
      "[youtube] q5xIoeG4uVI: Downloading m3u8 information\n",
      "[info] q5xIoeG4uVI: Downloading 1 format(s): 251\n",
      "[download] Destination: C:\\Users\\arwin\\Documents\\dev\\APS360-PROJECT\\data\\billboard_audio\\Rosalia & Travis Scott_TKN\\Rosalia & Travis Scott_TKN.webm\n",
      "[download] 100% of    2.72MiB in 00:00:00 at 14.28MiB/s  \n",
      "[download] Finished downloading playlist: Rosalia & Travis Scott TKN\n",
      "[generic] Extracting URL: Eminem Featuring Juice WRLD Godzilla\n",
      "[youtube:search] Extracting URL: ytsearch:Eminem Featuring Juice WRLD Godzilla\n",
      "[download] Downloading playlist: Eminem Featuring Juice WRLD Godzilla\n",
      "[youtube:search] query \"Eminem Featuring Juice WRLD Godzilla\": Downloading web client config\n",
      "[youtube:search] query \"Eminem Featuring Juice WRLD Godzilla\" page 1: Downloading API JSON\n",
      "[youtube:search] Playlist Eminem Featuring Juice WRLD Godzilla: Downloading 1 items of 1\n",
      "[download] Downloading item 1 of 1\n",
      "[youtube] Extracting URL: https://www.youtube.com/watch?v=r_0JjYUe5jo\n",
      "[youtube] r_0JjYUe5jo: Downloading webpage\n",
      "[youtube] r_0JjYUe5jo: Downloading ios player API JSON\n",
      "[youtube] r_0JjYUe5jo: Downloading android player API JSON\n",
      "[youtube] r_0JjYUe5jo: Downloading m3u8 information\n",
      "[info] r_0JjYUe5jo: Downloading 1 format(s): 251\n",
      "[download] Destination: C:\\Users\\arwin\\Documents\\dev\\APS360-PROJECT\\data\\billboard_audio\\Eminem Featuring Juice WRLD_Godzilla\\Eminem Featuring Juice WRLD_Godzilla.webm\n",
      "[download] 100% of    4.08MiB in 00:00:00 at 14.55MiB/s  \n",
      "[download] Finished downloading playlist: Eminem Featuring Juice WRLD Godzilla\n",
      "[generic] Extracting URL: Lil Yachty & Tierra Whack Featuring A$AP Rocky & Tyler, The Creator T_D\n",
      "[youtube:search] Extracting URL: ytsearch:Lil Yachty & Tierra Whack Featuring A$AP Rocky & Tyler, The Creator T_D\n",
      "[download] Downloading playlist: Lil Yachty & Tierra Whack Featuring A$AP Rocky & Tyler, The Creator T_D\n",
      "[youtube:search] query \"Lil Yachty & Tierra Whack Featuring A$AP Rocky & Tyler, The Creator T_D\": Downloading web client config\n",
      "[youtube:search] query \"Lil Yachty & Tierra Whack Featuring A$AP Rocky & Tyler, The Creator T_D\" page 1: Downloading API JSON\n",
      "[youtube:search] Playlist Lil Yachty & Tierra Whack Featuring A$AP Rocky & Tyler, The Creator T_D: Downloading 1 items of 1\n",
      "[download] Downloading item 1 of 1\n",
      "[youtube] Extracting URL: https://www.youtube.com/watch?v=h0gxofdZ4Cw\n",
      "[youtube] h0gxofdZ4Cw: Downloading webpage\n",
      "[youtube] h0gxofdZ4Cw: Downloading ios player API JSON\n",
      "[youtube] h0gxofdZ4Cw: Downloading android player API JSON\n"
     ]
    },
    {
     "name": "stderr",
     "output_type": "stream",
     "text": [
      "WARNING: [youtube] YouTube said: ERROR - Precondition check failed.\n",
      "WARNING: [youtube] HTTP Error 400: Bad Request. Retrying (1/3)...\n"
     ]
    },
    {
     "name": "stdout",
     "output_type": "stream",
     "text": [
      "[youtube] h0gxofdZ4Cw: Downloading android player API JSON\n"
     ]
    },
    {
     "name": "stderr",
     "output_type": "stream",
     "text": [
      "WARNING: [youtube] YouTube said: ERROR - Precondition check failed.\n",
      "WARNING: [youtube] HTTP Error 400: Bad Request. Retrying (2/3)...\n"
     ]
    },
    {
     "name": "stdout",
     "output_type": "stream",
     "text": [
      "[youtube] h0gxofdZ4Cw: Downloading android player API JSON\n"
     ]
    },
    {
     "name": "stderr",
     "output_type": "stream",
     "text": [
      "WARNING: [youtube] YouTube said: ERROR - Precondition check failed.\n",
      "WARNING: [youtube] HTTP Error 400: Bad Request. Retrying (3/3)...\n"
     ]
    },
    {
     "name": "stdout",
     "output_type": "stream",
     "text": [
      "[youtube] h0gxofdZ4Cw: Downloading android player API JSON\n",
      "[youtube] h0gxofdZ4Cw: Downloading m3u8 information\n",
      "[info] h0gxofdZ4Cw: Downloading 1 format(s): 251\n",
      "[download] Destination: C:\\Users\\arwin\\Documents\\dev\\APS360-PROJECT\\data\\billboard_audio\\Lil Yachty & Tierra Whack Featuring A$AP Rocky & Tyler, The Creator_T_D\\Lil Yachty & Tierra Whack Featuring A$AP Rocky & Tyler, The Creator_T_D.webm\n",
      "[download] 100% of    4.16MiB in 00:00:00 at 10.32MiB/s  \n",
      "[download] Finished downloading playlist: Lil Yachty & Tierra Whack Featuring A$AP Rocky & Tyler, The Creator T_D\n",
      "[generic] Extracting URL: Lady Gaga Alice\n",
      "[youtube:search] Extracting URL: ytsearch:Lady Gaga Alice\n",
      "[download] Downloading playlist: Lady Gaga Alice\n",
      "[youtube:search] query \"Lady Gaga Alice\": Downloading web client config\n",
      "[youtube:search] query \"Lady Gaga Alice\" page 1: Downloading API JSON\n",
      "[youtube:search] Playlist Lady Gaga Alice: Downloading 1 items of 1\n",
      "[download] Downloading item 1 of 1\n",
      "[youtube] Extracting URL: https://www.youtube.com/watch?v=wYLZq390IHg\n",
      "[youtube] wYLZq390IHg: Downloading webpage\n",
      "[youtube] wYLZq390IHg: Downloading ios player API JSON\n",
      "[youtube] wYLZq390IHg: Downloading android player API JSON\n",
      "[youtube] wYLZq390IHg: Downloading m3u8 information\n",
      "[info] wYLZq390IHg: Downloading 1 format(s): 251\n",
      "[download] Destination: C:\\Users\\arwin\\Documents\\dev\\APS360-PROJECT\\data\\billboard_audio\\Lady Gaga_Alice\\Lady Gaga_Alice.webm\n",
      "[download] 100% of    2.79MiB in 00:00:00 at 7.80MiB/s   \n",
      "[download] Finished downloading playlist: Lady Gaga Alice\n",
      "[generic] Extracting URL: Anuel AA & Bad Bunny Hasta Que Dios Diga\n",
      "[youtube:search] Extracting URL: ytsearch:Anuel AA & Bad Bunny Hasta Que Dios Diga\n",
      "[download] Downloading playlist: Anuel AA & Bad Bunny Hasta Que Dios Diga\n",
      "[youtube:search] query \"Anuel AA & Bad Bunny Hasta Que Dios Diga\": Downloading web client config\n",
      "[youtube:search] query \"Anuel AA & Bad Bunny Hasta Que Dios Diga\" page 1: Downloading API JSON\n",
      "[youtube:search] Playlist Anuel AA & Bad Bunny Hasta Que Dios Diga: Downloading 1 items of 1\n",
      "[download] Downloading item 1 of 1\n",
      "[youtube] Extracting URL: https://www.youtube.com/watch?v=nCzwGVKpjpo\n",
      "[youtube] nCzwGVKpjpo: Downloading webpage\n",
      "[youtube] nCzwGVKpjpo: Downloading ios player API JSON\n",
      "[youtube] nCzwGVKpjpo: Downloading android player API JSON\n"
     ]
    },
    {
     "name": "stderr",
     "output_type": "stream",
     "text": [
      "WARNING: [youtube] YouTube said: ERROR - Precondition check failed.\n",
      "WARNING: [youtube] HTTP Error 400: Bad Request. Retrying (1/3)...\n"
     ]
    },
    {
     "name": "stdout",
     "output_type": "stream",
     "text": [
      "[youtube] nCzwGVKpjpo: Downloading android player API JSON\n"
     ]
    },
    {
     "name": "stderr",
     "output_type": "stream",
     "text": [
      "WARNING: [youtube] YouTube said: ERROR - Precondition check failed.\n",
      "WARNING: [youtube] HTTP Error 400: Bad Request. Retrying (2/3)...\n"
     ]
    },
    {
     "name": "stdout",
     "output_type": "stream",
     "text": [
      "[youtube] nCzwGVKpjpo: Downloading android player API JSON\n",
      "[youtube] nCzwGVKpjpo: Downloading m3u8 information\n",
      "[info] nCzwGVKpjpo: Downloading 1 format(s): 251\n",
      "[download] Destination: C:\\Users\\arwin\\Documents\\dev\\APS360-PROJECT\\data\\billboard_audio\\Anuel AA & Bad Bunny_Hasta Que Dios Diga\\Anuel AA & Bad Bunny_Hasta Que Dios Diga.webm\n",
      "[download] 100% of    4.70MiB in 00:00:00 at 14.31MiB/s  \n",
      "[download] Finished downloading playlist: Anuel AA & Bad Bunny Hasta Que Dios Diga\n",
      "[generic] Extracting URL: Kygo & OneRepublic Lose Somebody\n",
      "[youtube:search] Extracting URL: ytsearch:Kygo & OneRepublic Lose Somebody\n",
      "[download] Downloading playlist: Kygo & OneRepublic Lose Somebody\n",
      "[youtube:search] query \"Kygo & OneRepublic Lose Somebody\": Downloading web client config\n",
      "[youtube:search] query \"Kygo & OneRepublic Lose Somebody\" page 1: Downloading API JSON\n",
      "[youtube:search] Playlist Kygo & OneRepublic Lose Somebody: Downloading 1 items of 1\n",
      "[download] Downloading item 1 of 1\n",
      "[youtube] Extracting URL: https://www.youtube.com/watch?v=uruccxh9bkQ\n",
      "[youtube] uruccxh9bkQ: Downloading webpage\n",
      "[youtube] uruccxh9bkQ: Downloading ios player API JSON\n",
      "[youtube] uruccxh9bkQ: Downloading android player API JSON\n",
      "[youtube] uruccxh9bkQ: Downloading m3u8 information\n",
      "[info] uruccxh9bkQ: Downloading 1 format(s): 251\n",
      "[download] Destination: C:\\Users\\arwin\\Documents\\dev\\APS360-PROJECT\\data\\billboard_audio\\Kygo & OneRepublic_Lose Somebody\\Kygo & OneRepublic_Lose Somebody.webm\n",
      "[download] 100% of    3.52MiB in 00:00:00 at 11.31MiB/s    \n",
      "[download] Finished downloading playlist: Kygo & OneRepublic Lose Somebody\n",
      "[generic] Extracting URL: Arcangel x Sech Sigues Con El\n",
      "[youtube:search] Extracting URL: ytsearch:Arcangel x Sech Sigues Con El\n",
      "[download] Downloading playlist: Arcangel x Sech Sigues Con El\n",
      "[youtube:search] query \"Arcangel x Sech Sigues Con El\": Downloading web client config\n",
      "[youtube:search] query \"Arcangel x Sech Sigues Con El\" page 1: Downloading API JSON\n",
      "[youtube:search] Playlist Arcangel x Sech Sigues Con El: Downloading 1 items of 1\n",
      "[download] Downloading item 1 of 1\n",
      "[youtube] Extracting URL: https://www.youtube.com/watch?v=VRUjdlCynU0\n",
      "[youtube] VRUjdlCynU0: Downloading webpage\n",
      "[youtube] VRUjdlCynU0: Downloading ios player API JSON\n",
      "[youtube] VRUjdlCynU0: Downloading android player API JSON\n",
      "[youtube] VRUjdlCynU0: Downloading m3u8 information\n",
      "[info] VRUjdlCynU0: Downloading 1 format(s): 251\n",
      "[download] Destination: C:\\Users\\arwin\\Documents\\dev\\APS360-PROJECT\\data\\billboard_audio\\Arcangel x Sech_Sigues Con El\\Arcangel x Sech_Sigues Con El.webm\n",
      "[download] 100% of    3.74MiB in 00:00:00 at 16.96MiB/s  \n",
      "[download] Finished downloading playlist: Arcangel x Sech Sigues Con El\n",
      "[generic] Extracting URL: Future Featuring Travis Scott Solitaires\n",
      "[youtube:search] Extracting URL: ytsearch:Future Featuring Travis Scott Solitaires\n",
      "[download] Downloading playlist: Future Featuring Travis Scott Solitaires\n",
      "[youtube:search] query \"Future Featuring Travis Scott Solitaires\": Downloading web client config\n",
      "[youtube:search] query \"Future Featuring Travis Scott Solitaires\" page 1: Downloading API JSON\n",
      "[youtube:search] Playlist Future Featuring Travis Scott Solitaires: Downloading 1 items of 1\n",
      "[download] Downloading item 1 of 1\n",
      "[youtube] Extracting URL: https://www.youtube.com/watch?v=nG2oV1h5KxM\n",
      "[youtube] nG2oV1h5KxM: Downloading webpage\n",
      "[youtube] nG2oV1h5KxM: Downloading ios player API JSON\n",
      "[youtube] nG2oV1h5KxM: Downloading android player API JSON\n",
      "[youtube] nG2oV1h5KxM: Downloading m3u8 information\n",
      "[info] nG2oV1h5KxM: Downloading 1 format(s): 251\n",
      "[download] Destination: C:\\Users\\arwin\\Documents\\dev\\APS360-PROJECT\\data\\billboard_audio\\Future Featuring Travis Scott_Solitaires\\Future Featuring Travis Scott_Solitaires.webm\n",
      "[download] 100% of    3.72MiB in 00:00:00 at 18.21MiB/s  \n",
      "[download] Finished downloading playlist: Future Featuring Travis Scott Solitaires\n",
      "[generic] Extracting URL: Black Eyed Peas X J Balvin RITMO (Bad Boys For Life)\n",
      "[youtube:search] Extracting URL: ytsearch:Black Eyed Peas X J Balvin RITMO (Bad Boys For Life)\n",
      "[download] Downloading playlist: Black Eyed Peas X J Balvin RITMO (Bad Boys For Life)\n",
      "[youtube:search] query \"Black Eyed Peas X J Balvin RITMO (Bad Boys For Life)\": Downloading web client config\n",
      "[youtube:search] query \"Black Eyed Peas X J Balvin RITMO (Bad Boys For Life)\" page 1: Downloading API JSON\n",
      "[youtube:search] Playlist Black Eyed Peas X J Balvin RITMO (Bad Boys For Life): Downloading 1 items of 1\n",
      "[download] Downloading item 1 of 1\n",
      "[youtube] Extracting URL: https://www.youtube.com/watch?v=EzKkl64rRbM\n",
      "[youtube] EzKkl64rRbM: Downloading webpage\n",
      "[youtube] EzKkl64rRbM: Downloading ios player API JSON\n",
      "[youtube] EzKkl64rRbM: Downloading android player API JSON\n",
      "[youtube] EzKkl64rRbM: Downloading m3u8 information\n",
      "[info] EzKkl64rRbM: Downloading 1 format(s): 251\n",
      "[download] Destination: C:\\Users\\arwin\\Documents\\dev\\APS360-PROJECT\\data\\billboard_audio\\Black Eyed Peas X J Balvin_RITMO (Bad Boys For Life)\\Black Eyed Peas X J Balvin_RITMO (Bad Boys For Life).webm\n",
      "[download] 100% of    3.60MiB in 00:00:00 at 15.08MiB/s  \n",
      "[download] Finished downloading playlist: Black Eyed Peas X J Balvin RITMO (Bad Boys For Life)\n",
      "[generic] Extracting URL: Lil Baby Sum 2 Prove\n",
      "[youtube:search] Extracting URL: ytsearch:Lil Baby Sum 2 Prove\n",
      "[download] Downloading playlist: Lil Baby Sum 2 Prove\n",
      "[youtube:search] query \"Lil Baby Sum 2 Prove\": Downloading web client config\n",
      "[youtube:search] query \"Lil Baby Sum 2 Prove\" page 1: Downloading API JSON\n",
      "[youtube:search] Playlist Lil Baby Sum 2 Prove: Downloading 1 items of 1\n",
      "[download] Downloading item 1 of 1\n",
      "[youtube] Extracting URL: https://www.youtube.com/watch?v=xOjy0tL5EuA\n",
      "[youtube] xOjy0tL5EuA: Downloading webpage\n",
      "[youtube] xOjy0tL5EuA: Downloading ios player API JSON\n",
      "[youtube] xOjy0tL5EuA: Downloading android player API JSON\n",
      "[youtube] xOjy0tL5EuA: Downloading m3u8 information\n",
      "[info] xOjy0tL5EuA: Downloading 1 format(s): 251\n",
      "[download] Destination: C:\\Users\\arwin\\Documents\\dev\\APS360-PROJECT\\data\\billboard_audio\\Lil Baby_Sum 2 Prove\\Lil Baby_Sum 2 Prove.webm\n",
      "[download] 100% of    3.82MiB in 00:00:00 at 14.64MiB/s  \n",
      "[download] Finished downloading playlist: Lil Baby Sum 2 Prove\n",
      "[generic] Extracting URL: Gunna Featuring Travis Scott Top Floor\n",
      "[youtube:search] Extracting URL: ytsearch:Gunna Featuring Travis Scott Top Floor\n",
      "[download] Downloading playlist: Gunna Featuring Travis Scott Top Floor\n",
      "[youtube:search] query \"Gunna Featuring Travis Scott Top Floor\": Downloading web client config\n",
      "[youtube:search] query \"Gunna Featuring Travis Scott Top Floor\" page 1: Downloading API JSON\n",
      "[youtube:search] Playlist Gunna Featuring Travis Scott Top Floor: Downloading 1 items of 1\n",
      "[download] Downloading item 1 of 1\n",
      "[youtube] Extracting URL: https://www.youtube.com/watch?v=kP9DyfAPh1Y\n",
      "[youtube] kP9DyfAPh1Y: Downloading webpage\n",
      "[youtube] kP9DyfAPh1Y: Downloading ios player API JSON\n",
      "[youtube] kP9DyfAPh1Y: Downloading android player API JSON\n",
      "[youtube] kP9DyfAPh1Y: Downloading m3u8 information\n",
      "[info] kP9DyfAPh1Y: Downloading 1 format(s): 251\n",
      "[download] Destination: C:\\Users\\arwin\\Documents\\dev\\APS360-PROJECT\\data\\billboard_audio\\Gunna Featuring Travis Scott_Top Floor\\Gunna Featuring Travis Scott_Top Floor.webm\n",
      "[download] 100% of    2.84MiB in 00:00:00 at 12.74MiB/s    \n",
      "[download] Finished downloading playlist: Gunna Featuring Travis Scott Top Floor\n",
      "[generic] Extracting URL: Gunna Wunna\n",
      "[youtube:search] Extracting URL: ytsearch:Gunna Wunna\n",
      "[download] Downloading playlist: Gunna Wunna\n",
      "[youtube:search] query \"Gunna Wunna\": Downloading web client config\n",
      "[youtube:search] query \"Gunna Wunna\" page 1: Downloading API JSON\n",
      "[youtube:search] Playlist Gunna Wunna: Downloading 1 items of 1\n",
      "[download] Downloading item 1 of 1\n",
      "[youtube] Extracting URL: https://www.youtube.com/watch?v=o_smxk-P5p4\n",
      "[youtube] o_smxk-P5p4: Downloading webpage\n",
      "[youtube] o_smxk-P5p4: Downloading ios player API JSON\n",
      "[youtube] o_smxk-P5p4: Downloading android player API JSON\n"
     ]
    },
    {
     "name": "stderr",
     "output_type": "stream",
     "text": [
      "WARNING: [youtube] YouTube said: ERROR - Precondition check failed.\n",
      "WARNING: [youtube] HTTP Error 400: Bad Request. Retrying (1/3)...\n"
     ]
    },
    {
     "name": "stdout",
     "output_type": "stream",
     "text": [
      "[youtube] o_smxk-P5p4: Downloading android player API JSON\n"
     ]
    },
    {
     "name": "stderr",
     "output_type": "stream",
     "text": [
      "WARNING: [youtube] YouTube said: ERROR - Precondition check failed.\n",
      "WARNING: [youtube] HTTP Error 400: Bad Request. Retrying (2/3)...\n"
     ]
    },
    {
     "name": "stdout",
     "output_type": "stream",
     "text": [
      "[youtube] o_smxk-P5p4: Downloading android player API JSON\n"
     ]
    },
    {
     "name": "stderr",
     "output_type": "stream",
     "text": [
      "WARNING: [youtube] YouTube said: ERROR - Precondition check failed.\n",
      "WARNING: [youtube] HTTP Error 400: Bad Request. Retrying (3/3)...\n"
     ]
    },
    {
     "name": "stdout",
     "output_type": "stream",
     "text": [
      "[youtube] o_smxk-P5p4: Downloading android player API JSON\n"
     ]
    },
    {
     "name": "stderr",
     "output_type": "stream",
     "text": [
      "WARNING: [youtube] YouTube said: ERROR - Precondition check failed.\n",
      "WARNING: [youtube] Unable to download API page: HTTP Error 400: Bad Request (caused by <HTTPError 400: Bad Request>); please report this issue on  https://github.com/yt-dlp/yt-dlp/issues?q= , filling out the appropriate issue template. Confirm you are on the latest version using  yt-dlp -U\n"
     ]
    },
    {
     "name": "stdout",
     "output_type": "stream",
     "text": [
      "[youtube] o_smxk-P5p4: Downloading m3u8 information\n",
      "[info] o_smxk-P5p4: Downloading 1 format(s): 251\n",
      "[download] Destination: C:\\Users\\arwin\\Documents\\dev\\APS360-PROJECT\\data\\billboard_audio\\Gunna_Wunna\\Gunna_Wunna.webm\n",
      "[download] 100% of    3.37MiB in 00:00:00 at 10.11MiB/s  \n",
      "[download] Finished downloading playlist: Gunna Wunna\n",
      "[generic] Extracting URL: Gunna Featuring Lil Baby Blindfold\n",
      "[youtube:search] Extracting URL: ytsearch:Gunna Featuring Lil Baby Blindfold\n",
      "[download] Downloading playlist: Gunna Featuring Lil Baby Blindfold\n",
      "[youtube:search] query \"Gunna Featuring Lil Baby Blindfold\": Downloading web client config\n",
      "[youtube:search] query \"Gunna Featuring Lil Baby Blindfold\" page 1: Downloading API JSON\n",
      "[youtube:search] Playlist Gunna Featuring Lil Baby Blindfold: Downloading 1 items of 1\n",
      "[download] Downloading item 1 of 1\n",
      "[youtube] Extracting URL: https://www.youtube.com/watch?v=xrCphoicI70\n",
      "[youtube] xrCphoicI70: Downloading webpage\n",
      "[youtube] xrCphoicI70: Downloading ios player API JSON\n",
      "[youtube] xrCphoicI70: Downloading android player API JSON\n",
      "[youtube] xrCphoicI70: Downloading m3u8 information\n",
      "[info] xrCphoicI70: Downloading 1 format(s): 251\n",
      "[download] Destination: C:\\Users\\arwin\\Documents\\dev\\APS360-PROJECT\\data\\billboard_audio\\Gunna Featuring Lil Baby_Blindfold\\Gunna Featuring Lil Baby_Blindfold.webm\n",
      "[download] 100% of    2.79MiB in 00:00:00 at 5.40MiB/s     \n",
      "[download] Finished downloading playlist: Gunna Featuring Lil Baby Blindfold\n",
      "[generic] Extracting URL: Gunna SkyBox\n",
      "[youtube:search] Extracting URL: ytsearch:Gunna SkyBox\n",
      "[download] Downloading playlist: Gunna SkyBox\n",
      "[youtube:search] query \"Gunna SkyBox\": Downloading web client config\n",
      "[youtube:search] query \"Gunna SkyBox\" page 1: Downloading API JSON\n",
      "[youtube:search] Playlist Gunna SkyBox: Downloading 1 items of 1\n",
      "[download] Downloading item 1 of 1\n",
      "[youtube] Extracting URL: https://www.youtube.com/watch?v=jCHRCTHUb9U\n",
      "[youtube] jCHRCTHUb9U: Downloading webpage\n",
      "[youtube] jCHRCTHUb9U: Downloading ios player API JSON\n",
      "[youtube] jCHRCTHUb9U: Downloading android player API JSON\n",
      "[youtube] jCHRCTHUb9U: Downloading m3u8 information\n",
      "[info] jCHRCTHUb9U: Downloading 1 format(s): 251\n",
      "[download] Destination: C:\\Users\\arwin\\Documents\\dev\\APS360-PROJECT\\data\\billboard_audio\\Gunna_SkyBox\\Gunna_SkyBox.webm\n",
      "[download] 100% of    4.29MiB in 00:00:00 at 18.18MiB/s  \n",
      "[download] Finished downloading playlist: Gunna SkyBox\n",
      "[generic] Extracting URL: Gunna Argentina\n",
      "[youtube:search] Extracting URL: ytsearch:Gunna Argentina\n",
      "[download] Downloading playlist: Gunna Argentina\n",
      "[youtube:search] query \"Gunna Argentina\": Downloading web client config\n",
      "[youtube:search] query \"Gunna Argentina\" page 1: Downloading API JSON\n",
      "[youtube:search] Playlist Gunna Argentina: Downloading 1 items of 1\n",
      "[download] Downloading item 1 of 1\n",
      "[youtube] Extracting URL: https://www.youtube.com/watch?v=pub-sMlvwRw\n",
      "[youtube] pub-sMlvwRw: Downloading webpage\n",
      "[youtube] pub-sMlvwRw: Downloading ios player API JSON\n",
      "[youtube] pub-sMlvwRw: Downloading android player API JSON\n"
     ]
    },
    {
     "name": "stderr",
     "output_type": "stream",
     "text": [
      "WARNING: [youtube] YouTube said: ERROR - Precondition check failed.\n",
      "WARNING: [youtube] HTTP Error 400: Bad Request. Retrying (1/3)...\n"
     ]
    },
    {
     "name": "stdout",
     "output_type": "stream",
     "text": [
      "[youtube] pub-sMlvwRw: Downloading android player API JSON\n",
      "[youtube] pub-sMlvwRw: Downloading m3u8 information\n",
      "[info] pub-sMlvwRw: Downloading 1 format(s): 251\n",
      "[download] Destination: C:\\Users\\arwin\\Documents\\dev\\APS360-PROJECT\\data\\billboard_audio\\Gunna_Argentina\\Gunna_Argentina.webm\n",
      "[download] 100% of    2.53MiB in 00:00:00 at 12.71MiB/s  \n",
      "[download] Finished downloading playlist: Gunna Argentina\n",
      "[generic] Extracting URL: Gunna Met Gala\n",
      "[youtube:search] Extracting URL: ytsearch:Gunna Met Gala\n",
      "[download] Downloading playlist: Gunna Met Gala\n",
      "[youtube:search] query \"Gunna Met Gala\": Downloading web client config\n",
      "[youtube:search] query \"Gunna Met Gala\" page 1: Downloading API JSON\n",
      "[youtube:search] Playlist Gunna Met Gala: Downloading 1 items of 1\n",
      "[download] Downloading item 1 of 1\n",
      "[youtube] Extracting URL: https://www.youtube.com/watch?v=zo3gPTd8px8\n",
      "[youtube] zo3gPTd8px8: Downloading webpage\n",
      "[youtube] zo3gPTd8px8: Downloading ios player API JSON\n",
      "[youtube] zo3gPTd8px8: Downloading android player API JSON\n",
      "[youtube] zo3gPTd8px8: Downloading m3u8 information\n",
      "[info] zo3gPTd8px8: Downloading 1 format(s): 251\n",
      "[download] Destination: C:\\Users\\arwin\\Documents\\dev\\APS360-PROJECT\\data\\billboard_audio\\Gunna_Met Gala\\Gunna_Met Gala.webm\n",
      "[download] 100% of    2.45MiB in 00:00:00 at 13.37MiB/s  \n",
      "[download] Finished downloading playlist: Gunna Met Gala\n",
      "[generic] Extracting URL: Agust D Daechwita\n",
      "[youtube:search] Extracting URL: ytsearch:Agust D Daechwita\n",
      "[download] Downloading playlist: Agust D Daechwita\n",
      "[youtube:search] query \"Agust D Daechwita\": Downloading web client config\n",
      "[youtube:search] query \"Agust D Daechwita\" page 1: Downloading API JSON\n",
      "[youtube:search] Playlist Agust D Daechwita: Downloading 1 items of 1\n",
      "[download] Downloading item 1 of 1\n",
      "[youtube] Extracting URL: https://www.youtube.com/watch?v=qGjAWJ2zWWI\n",
      "[youtube] qGjAWJ2zWWI: Downloading webpage\n",
      "[youtube] qGjAWJ2zWWI: Downloading ios player API JSON\n",
      "[youtube] qGjAWJ2zWWI: Downloading android player API JSON\n",
      "[youtube] qGjAWJ2zWWI: Downloading m3u8 information\n",
      "[info] qGjAWJ2zWWI: Downloading 1 format(s): 251\n",
      "[download] Destination: C:\\Users\\arwin\\Documents\\dev\\APS360-PROJECT\\data\\billboard_audio\\Agust D_Daechwita\\Agust D_Daechwita.webm\n",
      "[download] 100% of    4.16MiB in 00:00:00 at 17.76MiB/s  \n",
      "[download] Finished downloading playlist: Agust D Daechwita\n",
      "[generic] Extracting URL: Gunna Nasty Girl _ On Camera\n",
      "[youtube:search] Extracting URL: ytsearch:Gunna Nasty Girl _ On Camera\n",
      "[download] Downloading playlist: Gunna Nasty Girl _ On Camera\n",
      "[youtube:search] query \"Gunna Nasty Girl _ On Camera\": Downloading web client config\n",
      "[youtube:search] query \"Gunna Nasty Girl _ On Camera\" page 1: Downloading API JSON\n",
      "[youtube:search] Playlist Gunna Nasty Girl _ On Camera: Downloading 1 items of 1\n",
      "[download] Downloading item 1 of 1\n",
      "[youtube] Extracting URL: https://www.youtube.com/watch?v=6WCUFS8HqcY\n",
      "[youtube] 6WCUFS8HqcY: Downloading webpage\n",
      "[youtube] 6WCUFS8HqcY: Downloading ios player API JSON\n",
      "[youtube] 6WCUFS8HqcY: Downloading android player API JSON\n"
     ]
    },
    {
     "name": "stderr",
     "output_type": "stream",
     "text": [
      "WARNING: [youtube] YouTube said: ERROR - Precondition check failed.\n",
      "WARNING: [youtube] HTTP Error 400: Bad Request. Retrying (1/3)...\n"
     ]
    },
    {
     "name": "stdout",
     "output_type": "stream",
     "text": [
      "[youtube] 6WCUFS8HqcY: Downloading android player API JSON\n",
      "[youtube] 6WCUFS8HqcY: Downloading m3u8 information\n",
      "[info] 6WCUFS8HqcY: Downloading 1 format(s): 251\n",
      "[download] Destination: C:\\Users\\arwin\\Documents\\dev\\APS360-PROJECT\\data\\billboard_audio\\Gunna_Nasty Girl _ On Camera\\Gunna_Nasty Girl _ On Camera.webm\n",
      "[download] 100% of    3.96MiB in 00:00:00 at 16.19MiB/s  \n",
      "[download] Finished downloading playlist: Gunna Nasty Girl _ On Camera\n",
      "[generic] Extracting URL: Gunna MOTW\n",
      "[youtube:search] Extracting URL: ytsearch:Gunna MOTW\n",
      "[download] Downloading playlist: Gunna MOTW\n",
      "[youtube:search] query \"Gunna MOTW\": Downloading web client config\n",
      "[youtube:search] query \"Gunna MOTW\" page 1: Downloading API JSON\n",
      "[youtube:search] Playlist Gunna MOTW: Downloading 1 items of 1\n",
      "[download] Downloading item 1 of 1\n",
      "[youtube] Extracting URL: https://www.youtube.com/watch?v=RE_XdgAoKX4\n",
      "[youtube] RE_XdgAoKX4: Downloading webpage\n",
      "[youtube] RE_XdgAoKX4: Downloading ios player API JSON\n",
      "[youtube] RE_XdgAoKX4: Downloading android player API JSON\n"
     ]
    },
    {
     "name": "stderr",
     "output_type": "stream",
     "text": [
      "WARNING: [youtube] YouTube said: ERROR - Precondition check failed.\n",
      "WARNING: [youtube] HTTP Error 400: Bad Request. Retrying (1/3)...\n"
     ]
    },
    {
     "name": "stdout",
     "output_type": "stream",
     "text": [
      "[youtube] RE_XdgAoKX4: Downloading android player API JSON\n"
     ]
    },
    {
     "name": "stderr",
     "output_type": "stream",
     "text": [
      "WARNING: [youtube] YouTube said: ERROR - Precondition check failed.\n",
      "WARNING: [youtube] HTTP Error 400: Bad Request. Retrying (2/3)...\n"
     ]
    },
    {
     "name": "stdout",
     "output_type": "stream",
     "text": [
      "[youtube] RE_XdgAoKX4: Downloading android player API JSON\n"
     ]
    },
    {
     "name": "stderr",
     "output_type": "stream",
     "text": [
      "WARNING: [youtube] YouTube said: ERROR - Precondition check failed.\n",
      "WARNING: [youtube] HTTP Error 400: Bad Request. Retrying (3/3)...\n"
     ]
    },
    {
     "name": "stdout",
     "output_type": "stream",
     "text": [
      "[youtube] RE_XdgAoKX4: Downloading android player API JSON\n",
      "[youtube] RE_XdgAoKX4: Downloading m3u8 information\n",
      "[info] RE_XdgAoKX4: Downloading 1 format(s): 251\n",
      "[download] Destination: C:\\Users\\arwin\\Documents\\dev\\APS360-PROJECT\\data\\billboard_audio\\Gunna_MOTW\\Gunna_MOTW.webm\n",
      "[download] 100% of    2.45MiB in 00:00:00 at 6.52MiB/s   \n",
      "[download] Finished downloading playlist: Gunna MOTW\n",
      "[generic] Extracting URL: Gunna Gimmick\n",
      "[youtube:search] Extracting URL: ytsearch:Gunna Gimmick\n",
      "[download] Downloading playlist: Gunna Gimmick\n",
      "[youtube:search] query \"Gunna Gimmick\": Downloading web client config\n",
      "[youtube:search] query \"Gunna Gimmick\" page 1: Downloading API JSON\n",
      "[youtube:search] Playlist Gunna Gimmick: Downloading 1 items of 1\n",
      "[download] Downloading item 1 of 1\n",
      "[youtube] Extracting URL: https://www.youtube.com/watch?v=ril_K_GOfR4\n",
      "[youtube] ril_K_GOfR4: Downloading webpage\n",
      "[youtube] ril_K_GOfR4: Downloading ios player API JSON\n",
      "[youtube] ril_K_GOfR4: Downloading android player API JSON\n"
     ]
    },
    {
     "name": "stderr",
     "output_type": "stream",
     "text": [
      "WARNING: [youtube] YouTube said: ERROR - Precondition check failed.\n",
      "WARNING: [youtube] HTTP Error 400: Bad Request. Retrying (1/3)...\n"
     ]
    },
    {
     "name": "stdout",
     "output_type": "stream",
     "text": [
      "[youtube] ril_K_GOfR4: Downloading android player API JSON\n",
      "[youtube] ril_K_GOfR4: Downloading m3u8 information\n",
      "[info] ril_K_GOfR4: Downloading 1 format(s): 251\n",
      "[download] Destination: C:\\Users\\arwin\\Documents\\dev\\APS360-PROJECT\\data\\billboard_audio\\Gunna_Gimmick\\Gunna_Gimmick.webm\n",
      "[download] 100% of    2.13MiB in 00:00:00 at 3.14MiB/s   \n",
      "[download] Finished downloading playlist: Gunna Gimmick\n",
      "[generic] Extracting URL: Polo G Featuring NLE Choppa & Stunna 4 Vegas Go Stupid\n",
      "[youtube:search] Extracting URL: ytsearch:Polo G Featuring NLE Choppa & Stunna 4 Vegas Go Stupid\n",
      "[download] Downloading playlist: Polo G Featuring NLE Choppa & Stunna 4 Vegas Go Stupid\n",
      "[youtube:search] query \"Polo G Featuring NLE Choppa & Stunna 4 Vegas Go Stupid\": Downloading web client config\n",
      "[youtube:search] query \"Polo G Featuring NLE Choppa & Stunna 4 Vegas Go Stupid\" page 1: Downloading API JSON\n",
      "[youtube:search] Playlist Polo G Featuring NLE Choppa & Stunna 4 Vegas Go Stupid: Downloading 1 items of 1\n",
      "[download] Downloading item 1 of 1\n",
      "[youtube] Extracting URL: https://www.youtube.com/watch?v=PEEoaKwwxbg\n",
      "[youtube] PEEoaKwwxbg: Downloading webpage\n",
      "[youtube] PEEoaKwwxbg: Downloading ios player API JSON\n",
      "[youtube] PEEoaKwwxbg: Downloading android player API JSON\n"
     ]
    },
    {
     "name": "stderr",
     "output_type": "stream",
     "text": [
      "WARNING: [youtube] YouTube said: ERROR - Precondition check failed.\n",
      "WARNING: [youtube] HTTP Error 400: Bad Request. Retrying (1/3)...\n"
     ]
    },
    {
     "name": "stdout",
     "output_type": "stream",
     "text": [
      "[youtube] PEEoaKwwxbg: Downloading android player API JSON\n",
      "[youtube] PEEoaKwwxbg: Downloading m3u8 information\n",
      "[info] PEEoaKwwxbg: Downloading 1 format(s): 251\n",
      "[download] Destination: C:\\Users\\arwin\\Documents\\dev\\APS360-PROJECT\\data\\billboard_audio\\Polo G Featuring NLE Choppa & Stunna 4 Vegas_Go Stupid\\Polo G Featuring NLE Choppa & Stunna 4 Vegas_Go Stupid.webm\n",
      "[download] 100% of    2.92MiB in 00:00:00 at 13.77MiB/s  \n",
      "[download] Finished downloading playlist: Polo G Featuring NLE Choppa & Stunna 4 Vegas Go Stupid\n",
      "[generic] Extracting URL: Polo G Featuring Lil Baby Be Something\n",
      "[youtube:search] Extracting URL: ytsearch:Polo G Featuring Lil Baby Be Something\n",
      "[download] Downloading playlist: Polo G Featuring Lil Baby Be Something\n",
      "[youtube:search] query \"Polo G Featuring Lil Baby Be Something\": Downloading web client config\n",
      "[youtube:search] query \"Polo G Featuring Lil Baby Be Something\" page 1: Downloading API JSON\n",
      "[youtube:search] Playlist Polo G Featuring Lil Baby Be Something: Downloading 1 items of 1\n",
      "[download] Downloading item 1 of 1\n",
      "[youtube] Extracting URL: https://www.youtube.com/watch?v=_3LuZx06QhQ\n",
      "[youtube] _3LuZx06QhQ: Downloading webpage\n",
      "[youtube] _3LuZx06QhQ: Downloading ios player API JSON\n",
      "[youtube] _3LuZx06QhQ: Downloading android player API JSON\n",
      "[youtube] _3LuZx06QhQ: Downloading m3u8 information\n",
      "[info] _3LuZx06QhQ: Downloading 1 format(s): 251\n",
      "[download] Destination: C:\\Users\\arwin\\Documents\\dev\\APS360-PROJECT\\data\\billboard_audio\\Polo G Featuring Lil Baby_Be Something\\Polo G Featuring Lil Baby_Be Something.webm\n",
      "[download] 100% of    3.56MiB in 00:00:00 at 10.69MiB/s  \n",
      "[download] Finished downloading playlist: Polo G Featuring Lil Baby Be Something\n",
      "[generic] Extracting URL: Gunna Feigning\n",
      "[youtube:search] Extracting URL: ytsearch:Gunna Feigning\n",
      "[download] Downloading playlist: Gunna Feigning\n",
      "[youtube:search] query \"Gunna Feigning\": Downloading web client config\n",
      "[youtube:search] query \"Gunna Feigning\" page 1: Downloading API JSON\n",
      "[youtube:search] Playlist Gunna Feigning: Downloading 1 items of 1\n",
      "[download] Downloading item 1 of 1\n",
      "[youtube] Extracting URL: https://www.youtube.com/watch?v=4Kkg-VA7ygs\n",
      "[youtube] 4Kkg-VA7ygs: Downloading webpage\n",
      "[youtube] 4Kkg-VA7ygs: Downloading ios player API JSON\n",
      "[youtube] 4Kkg-VA7ygs: Downloading android player API JSON\n",
      "[youtube] 4Kkg-VA7ygs: Downloading m3u8 information\n",
      "[info] 4Kkg-VA7ygs: Downloading 1 format(s): 251\n",
      "[download] Destination: C:\\Users\\arwin\\Documents\\dev\\APS360-PROJECT\\data\\billboard_audio\\Gunna_Feigning\\Gunna_Feigning.webm\n",
      "[download] 100% of    3.03MiB in 00:00:00 at 12.19MiB/s    \n",
      "[download] Finished downloading playlist: Gunna Feigning\n",
      "[generic] Extracting URL: Lewis Capaldi Someone You Loved\n",
      "[youtube:search] Extracting URL: ytsearch:Lewis Capaldi Someone You Loved\n",
      "[download] Downloading playlist: Lewis Capaldi Someone You Loved\n",
      "[youtube:search] query \"Lewis Capaldi Someone You Loved\": Downloading web client config\n",
      "[youtube:search] query \"Lewis Capaldi Someone You Loved\" page 1: Downloading API JSON\n",
      "[youtube:search] Playlist Lewis Capaldi Someone You Loved: Downloading 1 items of 1\n",
      "[download] Downloading item 1 of 1\n",
      "[youtube] Extracting URL: https://www.youtube.com/watch?v=zABLecsR5UE\n",
      "[youtube] zABLecsR5UE: Downloading webpage\n",
      "[youtube] zABLecsR5UE: Downloading ios player API JSON\n",
      "[youtube] zABLecsR5UE: Downloading android player API JSON\n"
     ]
    },
    {
     "name": "stderr",
     "output_type": "stream",
     "text": [
      "WARNING: [youtube] YouTube said: ERROR - Precondition check failed.\n",
      "WARNING: [youtube] HTTP Error 400: Bad Request. Retrying (1/3)...\n"
     ]
    },
    {
     "name": "stdout",
     "output_type": "stream",
     "text": [
      "[youtube] zABLecsR5UE: Downloading android player API JSON\n"
     ]
    },
    {
     "name": "stderr",
     "output_type": "stream",
     "text": [
      "WARNING: [youtube] YouTube said: ERROR - Precondition check failed.\n",
      "WARNING: [youtube] HTTP Error 400: Bad Request. Retrying (2/3)...\n"
     ]
    },
    {
     "name": "stdout",
     "output_type": "stream",
     "text": [
      "[youtube] zABLecsR5UE: Downloading android player API JSON\n"
     ]
    },
    {
     "name": "stderr",
     "output_type": "stream",
     "text": [
      "WARNING: [youtube] YouTube said: ERROR - Precondition check failed.\n",
      "WARNING: [youtube] HTTP Error 400: Bad Request. Retrying (3/3)...\n"
     ]
    },
    {
     "name": "stdout",
     "output_type": "stream",
     "text": [
      "[youtube] zABLecsR5UE: Downloading android player API JSON\n",
      "[youtube] zABLecsR5UE: Downloading m3u8 information\n",
      "[info] zABLecsR5UE: Downloading 1 format(s): 251\n",
      "[download] Destination: C:\\Users\\arwin\\Documents\\dev\\APS360-PROJECT\\data\\billboard_audio\\Lewis Capaldi_Someone You Loved\\Lewis Capaldi_Someone You Loved.webm\n",
      "[download] 100% of    3.17MiB in 00:00:01 at 1.66MiB/s   \n",
      "[download] Finished downloading playlist: Lewis Capaldi Someone You Loved\n",
      "[generic] Extracting URL: Mustard & Roddy Ricch Ballin'\n",
      "[youtube:search] Extracting URL: ytsearch:Mustard & Roddy Ricch Ballin'\n",
      "[download] Downloading playlist: Mustard & Roddy Ricch Ballin'\n",
      "[youtube:search] query \"Mustard & Roddy Ricch Ballin'\": Downloading web client config\n",
      "[youtube:search] query \"Mustard & Roddy Ricch Ballin'\" page 1: Downloading API JSON\n",
      "[youtube:search] Playlist Mustard & Roddy Ricch Ballin': Downloading 1 items of 1\n",
      "[download] Downloading item 1 of 1\n",
      "[youtube] Extracting URL: https://www.youtube.com/watch?v=YS0h2-hy9rw\n",
      "[youtube] YS0h2-hy9rw: Downloading webpage\n",
      "[youtube] YS0h2-hy9rw: Downloading ios player API JSON\n",
      "[youtube] YS0h2-hy9rw: Downloading android player API JSON\n",
      "[youtube] YS0h2-hy9rw: Downloading m3u8 information\n",
      "[info] YS0h2-hy9rw: Downloading 1 format(s): 251\n",
      "[download] Destination: C:\\Users\\arwin\\Documents\\dev\\APS360-PROJECT\\data\\billboard_audio\\Mustard & Roddy Ricch_Ballin'\\Mustard & Roddy Ricch_Ballin'.webm\n",
      "[download] 100% of    3.30MiB in 00:00:02 at 1.20MiB/s   \n",
      "[download] Finished downloading playlist: Mustard & Roddy Ricch Ballin'\n",
      "[generic] Extracting URL: Future Trapped In The Sun\n",
      "[youtube:search] Extracting URL: ytsearch:Future Trapped In The Sun\n",
      "[download] Downloading playlist: Future Trapped In The Sun\n",
      "[youtube:search] query \"Future Trapped In The Sun\": Downloading web client config\n",
      "[youtube:search] query \"Future Trapped In The Sun\" page 1: Downloading API JSON\n",
      "[youtube:search] Playlist Future Trapped In The Sun: Downloading 1 items of 1\n",
      "[download] Downloading item 1 of 1\n",
      "[youtube] Extracting URL: https://www.youtube.com/watch?v=_DIg7tQEBSA\n",
      "[youtube] _DIg7tQEBSA: Downloading webpage\n",
      "[youtube] _DIg7tQEBSA: Downloading ios player API JSON\n",
      "[youtube] _DIg7tQEBSA: Downloading android player API JSON\n",
      "[youtube] _DIg7tQEBSA: Downloading m3u8 information\n",
      "[info] _DIg7tQEBSA: Downloading 1 format(s): 251\n",
      "[download] Destination: C:\\Users\\arwin\\Documents\\dev\\APS360-PROJECT\\data\\billboard_audio\\Future_Trapped In The Sun\\Future_Trapped In The Sun.webm\n",
      "[download] 100% of    3.51MiB in 00:00:01 at 2.65MiB/s   \n",
      "[download] Finished downloading playlist: Future Trapped In The Sun\n",
      "[generic] Extracting URL: Future Featuring Lil Uzi Vert All Bad\n",
      "[youtube:search] Extracting URL: ytsearch:Future Featuring Lil Uzi Vert All Bad\n",
      "[download] Downloading playlist: Future Featuring Lil Uzi Vert All Bad\n",
      "[youtube:search] query \"Future Featuring Lil Uzi Vert All Bad\": Downloading web client config\n",
      "[youtube:search] query \"Future Featuring Lil Uzi Vert All Bad\" page 1: Downloading API JSON\n",
      "[youtube:search] Playlist Future Featuring Lil Uzi Vert All Bad: Downloading 1 items of 1\n",
      "[download] Downloading item 1 of 1\n",
      "[youtube] Extracting URL: https://www.youtube.com/watch?v=ewKVBIQsP5w\n",
      "[youtube] ewKVBIQsP5w: Downloading webpage\n",
      "[youtube] ewKVBIQsP5w: Downloading ios player API JSON\n",
      "[youtube] ewKVBIQsP5w: Downloading android player API JSON\n"
     ]
    },
    {
     "name": "stderr",
     "output_type": "stream",
     "text": [
      "WARNING: [youtube] YouTube said: ERROR - Precondition check failed.\n",
      "WARNING: [youtube] HTTP Error 400: Bad Request. Retrying (1/3)...\n"
     ]
    },
    {
     "name": "stdout",
     "output_type": "stream",
     "text": [
      "[youtube] ewKVBIQsP5w: Downloading android player API JSON\n",
      "[youtube] ewKVBIQsP5w: Downloading m3u8 information\n",
      "[info] ewKVBIQsP5w: Downloading 1 format(s): 251\n",
      "[download] Destination: C:\\Users\\arwin\\Documents\\dev\\APS360-PROJECT\\data\\billboard_audio\\Future Featuring Lil Uzi Vert_All Bad\\Future Featuring Lil Uzi Vert_All Bad.webm\n",
      "[download] 100% of    3.41MiB in 00:00:00 at 12.55MiB/s  \n",
      "[download] Finished downloading playlist: Future Featuring Lil Uzi Vert All Bad\n",
      "[generic] Extracting URL: Future Hard To Choose One\n",
      "[youtube:search] Extracting URL: ytsearch:Future Hard To Choose One\n",
      "[download] Downloading playlist: Future Hard To Choose One\n",
      "[youtube:search] query \"Future Hard To Choose One\": Downloading web client config\n",
      "[youtube:search] query \"Future Hard To Choose One\" page 1: Downloading API JSON\n",
      "[youtube:search] Playlist Future Hard To Choose One: Downloading 1 items of 1\n",
      "[download] Downloading item 1 of 1\n",
      "[youtube] Extracting URL: https://www.youtube.com/watch?v=reAJuEFHW40\n",
      "[youtube] reAJuEFHW40: Downloading webpage\n",
      "[youtube] reAJuEFHW40: Downloading ios player API JSON\n",
      "[youtube] reAJuEFHW40: Downloading android player API JSON\n",
      "[youtube] reAJuEFHW40: Downloading m3u8 information\n",
      "[info] reAJuEFHW40: Downloading 1 format(s): 251\n",
      "[download] Destination: C:\\Users\\arwin\\Documents\\dev\\APS360-PROJECT\\data\\billboard_audio\\Future_Hard To Choose One\\Future_Hard To Choose One.webm\n",
      "[download] 100% of    3.72MiB in 00:00:00 at 12.50MiB/s  \n",
      "[download] Finished downloading playlist: Future Hard To Choose One\n",
      "[generic] Extracting URL: Future Ridin Strikers\n",
      "[youtube:search] Extracting URL: ytsearch:Future Ridin Strikers\n",
      "[download] Downloading playlist: Future Ridin Strikers\n",
      "[youtube:search] query \"Future Ridin Strikers\": Downloading web client config\n",
      "[youtube:search] query \"Future Ridin Strikers\" page 1: Downloading API JSON\n",
      "[youtube:search] Playlist Future Ridin Strikers: Downloading 1 items of 1\n",
      "[download] Downloading item 1 of 1\n",
      "[youtube] Extracting URL: https://www.youtube.com/watch?v=-uVIcfpJDyc\n",
      "[youtube] -uVIcfpJDyc: Downloading webpage\n",
      "[youtube] -uVIcfpJDyc: Downloading ios player API JSON\n",
      "[youtube] -uVIcfpJDyc: Downloading android player API JSON\n",
      "[youtube] -uVIcfpJDyc: Downloading m3u8 information\n",
      "[info] -uVIcfpJDyc: Downloading 1 format(s): 251\n",
      "[download] Destination: C:\\Users\\arwin\\Documents\\dev\\APS360-PROJECT\\data\\billboard_audio\\Future_Ridin Strikers\\Future_Ridin Strikers.webm\n",
      "[download] 100% of    4.02MiB in 00:00:00 at 12.63MiB/s  \n",
      "[download] Finished downloading playlist: Future Ridin Strikers\n",
      "[generic] Extracting URL: Future Hitek Tek\n",
      "[youtube:search] Extracting URL: ytsearch:Future Hitek Tek\n",
      "[download] Downloading playlist: Future Hitek Tek\n",
      "[youtube:search] query \"Future Hitek Tek\": Downloading web client config\n",
      "[youtube:search] query \"Future Hitek Tek\" page 1: Downloading API JSON\n",
      "[youtube:search] Playlist Future Hitek Tek: Downloading 1 items of 1\n",
      "[download] Downloading item 1 of 1\n",
      "[youtube] Extracting URL: https://www.youtube.com/watch?v=jW8iiFMcS9k\n",
      "[youtube] jW8iiFMcS9k: Downloading webpage\n",
      "[youtube] jW8iiFMcS9k: Downloading ios player API JSON\n",
      "[youtube] jW8iiFMcS9k: Downloading android player API JSON\n"
     ]
    },
    {
     "name": "stderr",
     "output_type": "stream",
     "text": [
      "WARNING: [youtube] YouTube said: ERROR - Precondition check failed.\n",
      "WARNING: [youtube] HTTP Error 400: Bad Request. Retrying (1/3)...\n"
     ]
    },
    {
     "name": "stdout",
     "output_type": "stream",
     "text": [
      "[youtube] jW8iiFMcS9k: Downloading android player API JSON\n",
      "[youtube] jW8iiFMcS9k: Downloading m3u8 information\n",
      "[info] jW8iiFMcS9k: Downloading 1 format(s): 251\n",
      "[download] Destination: C:\\Users\\arwin\\Documents\\dev\\APS360-PROJECT\\data\\billboard_audio\\Future_Hitek Tek\\Future_Hitek Tek.webm\n",
      "[download] 100% of    3.22MiB in 00:00:00 at 11.07MiB/s  \n",
      "[download] Finished downloading playlist: Future Hitek Tek\n",
      "[generic] Extracting URL: Future Too Comfortable\n",
      "[youtube:search] Extracting URL: ytsearch:Future Too Comfortable\n",
      "[download] Downloading playlist: Future Too Comfortable\n",
      "[youtube:search] query \"Future Too Comfortable\": Downloading web client config\n",
      "[youtube:search] query \"Future Too Comfortable\" page 1: Downloading API JSON\n",
      "[youtube:search] Playlist Future Too Comfortable: Downloading 1 items of 1\n",
      "[download] Downloading item 1 of 1\n",
      "[youtube] Extracting URL: https://www.youtube.com/watch?v=wPhs_tPENDQ\n",
      "[youtube] wPhs_tPENDQ: Downloading webpage\n",
      "[youtube] wPhs_tPENDQ: Downloading ios player API JSON\n",
      "[youtube] wPhs_tPENDQ: Downloading android player API JSON\n"
     ]
    },
    {
     "name": "stderr",
     "output_type": "stream",
     "text": [
      "WARNING: [youtube] YouTube said: ERROR - Precondition check failed.\n",
      "WARNING: [youtube] HTTP Error 400: Bad Request. Retrying (1/3)...\n"
     ]
    },
    {
     "name": "stdout",
     "output_type": "stream",
     "text": [
      "[youtube] wPhs_tPENDQ: Downloading android player API JSON\n"
     ]
    },
    {
     "name": "stderr",
     "output_type": "stream",
     "text": [
      "WARNING: [youtube] YouTube said: ERROR - Precondition check failed.\n",
      "WARNING: [youtube] HTTP Error 400: Bad Request. Retrying (2/3)...\n"
     ]
    },
    {
     "name": "stdout",
     "output_type": "stream",
     "text": [
      "[youtube] wPhs_tPENDQ: Downloading android player API JSON\n"
     ]
    },
    {
     "name": "stderr",
     "output_type": "stream",
     "text": [
      "WARNING: [youtube] YouTube said: ERROR - Precondition check failed.\n",
      "WARNING: [youtube] HTTP Error 400: Bad Request. Retrying (3/3)...\n"
     ]
    },
    {
     "name": "stdout",
     "output_type": "stream",
     "text": [
      "[youtube] wPhs_tPENDQ: Downloading android player API JSON\n",
      "[youtube] wPhs_tPENDQ: Downloading m3u8 information\n",
      "[info] wPhs_tPENDQ: Downloading 1 format(s): 251\n",
      "[download] Destination: C:\\Users\\arwin\\Documents\\dev\\APS360-PROJECT\\data\\billboard_audio\\Future_Too Comfortable\\Future_Too Comfortable.webm\n",
      "[download] 100% of    3.97MiB in 00:00:00 at 8.83MiB/s   \n",
      "[download] Finished downloading playlist: Future Too Comfortable\n",
      "[generic] Extracting URL: Future Posted With Demons\n",
      "[youtube:search] Extracting URL: ytsearch:Future Posted With Demons\n",
      "[download] Downloading playlist: Future Posted With Demons\n",
      "[youtube:search] query \"Future Posted With Demons\": Downloading web client config\n",
      "[youtube:search] query \"Future Posted With Demons\" page 1: Downloading API JSON\n",
      "[youtube:search] Playlist Future Posted With Demons: Downloading 1 items of 1\n",
      "[download] Downloading item 1 of 1\n",
      "[youtube] Extracting URL: https://www.youtube.com/watch?v=Z7DdyBt09P8\n",
      "[youtube] Z7DdyBt09P8: Downloading webpage\n",
      "[youtube] Z7DdyBt09P8: Downloading ios player API JSON\n",
      "[youtube] Z7DdyBt09P8: Downloading android player API JSON\n",
      "[youtube] Z7DdyBt09P8: Downloading m3u8 information\n",
      "[info] Z7DdyBt09P8: Downloading 1 format(s): 251\n",
      "[download] Destination: C:\\Users\\arwin\\Documents\\dev\\APS360-PROJECT\\data\\billboard_audio\\Future_Posted With Demons\\Future_Posted With Demons.webm\n",
      "[download] 100% of    3.20MiB in 00:00:00 at 7.73MiB/s   \n",
      "[download] Finished downloading playlist: Future Posted With Demons\n",
      "[generic] Extracting URL: Future Touch The Sky\n",
      "[youtube:search] Extracting URL: ytsearch:Future Touch The Sky\n",
      "[download] Downloading playlist: Future Touch The Sky\n",
      "[youtube:search] query \"Future Touch The Sky\": Downloading web client config\n",
      "[youtube:search] query \"Future Touch The Sky\" page 1: Downloading API JSON\n",
      "[youtube:search] Playlist Future Touch The Sky: Downloading 1 items of 1\n",
      "[download] Downloading item 1 of 1\n",
      "[youtube] Extracting URL: https://www.youtube.com/watch?v=jffAzmczCxE\n",
      "[youtube] jffAzmczCxE: Downloading webpage\n",
      "[youtube] jffAzmczCxE: Downloading ios player API JSON\n",
      "[youtube] jffAzmczCxE: Downloading android player API JSON\n",
      "[youtube] jffAzmczCxE: Downloading m3u8 information\n",
      "[info] jffAzmczCxE: Downloading 1 format(s): 251\n",
      "[download] Destination: C:\\Users\\arwin\\Documents\\dev\\APS360-PROJECT\\data\\billboard_audio\\Future_Touch The Sky\\Future_Touch The Sky.webm\n",
      "[download] 100% of    2.64MiB in 00:00:00 at 8.53MiB/s   \n",
      "[download] Finished downloading playlist: Future Touch The Sky\n",
      "[generic] Extracting URL: Future One Of My\n",
      "[youtube:search] Extracting URL: ytsearch:Future One Of My\n",
      "[download] Downloading playlist: Future One Of My\n",
      "[youtube:search] query \"Future One Of My\": Downloading web client config\n",
      "[youtube:search] query \"Future One Of My\" page 1: Downloading API JSON\n",
      "[youtube:search] Playlist Future One Of My: Downloading 1 items of 1\n",
      "[download] Downloading item 1 of 1\n",
      "[youtube] Extracting URL: https://www.youtube.com/watch?v=wrTimQWhJKQ\n",
      "[youtube] wrTimQWhJKQ: Downloading webpage\n",
      "[youtube] wrTimQWhJKQ: Downloading ios player API JSON\n",
      "[youtube] wrTimQWhJKQ: Downloading android player API JSON\n"
     ]
    },
    {
     "name": "stderr",
     "output_type": "stream",
     "text": [
      "WARNING: [youtube] YouTube said: ERROR - Precondition check failed.\n",
      "WARNING: [youtube] HTTP Error 400: Bad Request. Retrying (1/3)...\n"
     ]
    },
    {
     "name": "stdout",
     "output_type": "stream",
     "text": [
      "[youtube] wrTimQWhJKQ: Downloading android player API JSON\n"
     ]
    },
    {
     "name": "stderr",
     "output_type": "stream",
     "text": [
      "WARNING: [youtube] YouTube said: ERROR - Precondition check failed.\n",
      "WARNING: [youtube] HTTP Error 400: Bad Request. Retrying (2/3)...\n"
     ]
    },
    {
     "name": "stdout",
     "output_type": "stream",
     "text": [
      "[youtube] wrTimQWhJKQ: Downloading android player API JSON\n",
      "[youtube] wrTimQWhJKQ: Downloading m3u8 information\n",
      "[info] wrTimQWhJKQ: Downloading 1 format(s): 251\n",
      "[download] Destination: C:\\Users\\arwin\\Documents\\dev\\APS360-PROJECT\\data\\billboard_audio\\Future_One Of My\\Future_One Of My.webm\n",
      "[download] 100% of    2.57MiB in 00:00:00 at 9.51MiB/s   \n",
      "[download] Finished downloading playlist: Future One Of My\n",
      "[generic] Extracting URL: Future Featuring Young Thug Harlem Shake\n",
      "[youtube:search] Extracting URL: ytsearch:Future Featuring Young Thug Harlem Shake\n",
      "[download] Downloading playlist: Future Featuring Young Thug Harlem Shake\n",
      "[youtube:search] query \"Future Featuring Young Thug Harlem Shake\": Downloading web client config\n",
      "[youtube:search] query \"Future Featuring Young Thug Harlem Shake\" page 1: Downloading API JSON\n",
      "[youtube:search] Playlist Future Featuring Young Thug Harlem Shake: Downloading 1 items of 1\n",
      "[download] Downloading item 1 of 1\n",
      "[youtube] Extracting URL: https://www.youtube.com/watch?v=YHJvyJWUpO0\n",
      "[youtube] YHJvyJWUpO0: Downloading webpage\n",
      "[youtube] YHJvyJWUpO0: Downloading ios player API JSON\n",
      "[youtube] YHJvyJWUpO0: Downloading android player API JSON\n"
     ]
    },
    {
     "name": "stderr",
     "output_type": "stream",
     "text": [
      "WARNING: [youtube] YouTube said: ERROR - Precondition check failed.\n",
      "WARNING: [youtube] HTTP Error 400: Bad Request. Retrying (1/3)...\n"
     ]
    },
    {
     "name": "stdout",
     "output_type": "stream",
     "text": [
      "[youtube] YHJvyJWUpO0: Downloading android player API JSON\n"
     ]
    },
    {
     "name": "stderr",
     "output_type": "stream",
     "text": [
      "WARNING: [youtube] YouTube said: ERROR - Precondition check failed.\n",
      "WARNING: [youtube] HTTP Error 400: Bad Request. Retrying (2/3)...\n"
     ]
    },
    {
     "name": "stdout",
     "output_type": "stream",
     "text": [
      "[youtube] YHJvyJWUpO0: Downloading android player API JSON\n"
     ]
    },
    {
     "name": "stderr",
     "output_type": "stream",
     "text": [
      "WARNING: [youtube] YouTube said: ERROR - Precondition check failed.\n",
      "WARNING: [youtube] HTTP Error 400: Bad Request. Retrying (3/3)...\n"
     ]
    },
    {
     "name": "stdout",
     "output_type": "stream",
     "text": [
      "[youtube] YHJvyJWUpO0: Downloading android player API JSON\n",
      "[youtube] YHJvyJWUpO0: Downloading m3u8 information\n",
      "[info] YHJvyJWUpO0: Downloading 1 format(s): 251\n",
      "[download] Destination: C:\\Users\\arwin\\Documents\\dev\\APS360-PROJECT\\data\\billboard_audio\\Future Featuring Young Thug_Harlem Shake\\Future Featuring Young Thug_Harlem Shake.webm\n",
      "[download] 100% of    2.61MiB in 00:00:00 at 16.76MiB/s  \n",
      "[download] Finished downloading playlist: Future Featuring Young Thug Harlem Shake\n",
      "[generic] Extracting URL: Drake Featuring Playboi Carti Pain 1993\n",
      "[youtube:search] Extracting URL: ytsearch:Drake Featuring Playboi Carti Pain 1993\n",
      "[download] Downloading playlist: Drake Featuring Playboi Carti Pain 1993\n",
      "[youtube:search] query \"Drake Featuring Playboi Carti Pain 1993\": Downloading web client config\n",
      "[youtube:search] query \"Drake Featuring Playboi Carti Pain 1993\" page 1: Downloading API JSON\n",
      "[youtube:search] Playlist Drake Featuring Playboi Carti Pain 1993: Downloading 1 items of 1\n",
      "[download] Downloading item 1 of 1\n",
      "[youtube] Extracting URL: https://www.youtube.com/watch?v=Q5jnuOCJvK0\n",
      "[youtube] Q5jnuOCJvK0: Downloading webpage\n",
      "[youtube] Q5jnuOCJvK0: Downloading ios player API JSON\n",
      "[youtube] Q5jnuOCJvK0: Downloading android player API JSON\n"
     ]
    },
    {
     "name": "stderr",
     "output_type": "stream",
     "text": [
      "WARNING: [youtube] YouTube said: ERROR - Precondition check failed.\n",
      "WARNING: [youtube] HTTP Error 400: Bad Request. Retrying (1/3)...\n"
     ]
    },
    {
     "name": "stdout",
     "output_type": "stream",
     "text": [
      "[youtube] Q5jnuOCJvK0: Downloading android player API JSON\n",
      "[youtube] Q5jnuOCJvK0: Downloading m3u8 information\n",
      "[info] Q5jnuOCJvK0: Downloading 1 format(s): 251\n",
      "[download] Destination: C:\\Users\\arwin\\Documents\\dev\\APS360-PROJECT\\data\\billboard_audio\\Drake Featuring Playboi Carti_Pain 1993\\Drake Featuring Playboi Carti_Pain 1993.webm\n",
      "[download] 100% of    2.51MiB in 00:00:00 at 11.86MiB/s    \n",
      "[download] Finished downloading playlist: Drake Featuring Playboi Carti Pain 1993\n",
      "[generic] Extracting URL: Polo G Don't Believe The Hype\n",
      "[youtube:search] Extracting URL: ytsearch:Polo G Don't Believe The Hype\n",
      "[download] Downloading playlist: Polo G Don't Believe The Hype\n",
      "[youtube:search] query \"Polo G Don't Believe The Hype\": Downloading web client config\n",
      "[youtube:search] query \"Polo G Don't Believe The Hype\" page 1: Downloading API JSON\n",
      "[youtube:search] Playlist Polo G Don't Believe The Hype: Downloading 1 items of 1\n",
      "[download] Downloading item 1 of 1\n",
      "[youtube] Extracting URL: https://www.youtube.com/watch?v=-yIVRRN42oU\n",
      "[youtube] -yIVRRN42oU: Downloading webpage\n",
      "[youtube] -yIVRRN42oU: Downloading ios player API JSON\n",
      "[youtube] -yIVRRN42oU: Downloading android player API JSON\n",
      "[youtube] -yIVRRN42oU: Downloading m3u8 information\n",
      "[info] -yIVRRN42oU: Downloading 1 format(s): 251\n",
      "[download] Destination: C:\\Users\\arwin\\Documents\\dev\\APS360-PROJECT\\data\\billboard_audio\\Polo G_Don't Believe The Hype\\Polo G_Don't Believe The Hype.webm\n",
      "[download] 100% of    3.32MiB in 00:00:00 at 13.47MiB/s  \n",
      "[download] Finished downloading playlist: Polo G Don't Believe The Hype\n",
      "[generic] Extracting URL: Polo G Beautiful Pain (Losin My Mind)\n",
      "[youtube:search] Extracting URL: ytsearch:Polo G Beautiful Pain (Losin My Mind)\n",
      "[download] Downloading playlist: Polo G Beautiful Pain (Losin My Mind)\n",
      "[youtube:search] query \"Polo G Beautiful Pain (Losin My Mind)\": Downloading web client config\n",
      "[youtube:search] query \"Polo G Beautiful Pain (Losin My Mind)\" page 1: Downloading API JSON\n",
      "[youtube:search] Playlist Polo G Beautiful Pain (Losin My Mind): Downloading 1 items of 1\n",
      "[download] Downloading item 1 of 1\n",
      "[youtube] Extracting URL: https://www.youtube.com/watch?v=YFTkD1Baixg\n",
      "[youtube] YFTkD1Baixg: Downloading webpage\n",
      "[youtube] YFTkD1Baixg: Downloading ios player API JSON\n",
      "[youtube] YFTkD1Baixg: Downloading android player API JSON\n",
      "[youtube] YFTkD1Baixg: Downloading m3u8 information\n",
      "[info] YFTkD1Baixg: Downloading 1 format(s): 251\n",
      "[download] Destination: C:\\Users\\arwin\\Documents\\dev\\APS360-PROJECT\\data\\billboard_audio\\Polo G_Beautiful Pain (Losin My Mind)\\Polo G_Beautiful Pain (Losin My Mind).webm\n",
      "[download] 100% of    2.90MiB in 00:00:00 at 7.24MiB/s   \n",
      "[download] Finished downloading playlist: Polo G Beautiful Pain (Losin My Mind)\n",
      "[generic] Extracting URL: Polo G 33\n",
      "[youtube:search] Extracting URL: ytsearch:Polo G 33\n",
      "[download] Downloading playlist: Polo G 33\n",
      "[youtube:search] query \"Polo G 33\": Downloading web client config\n",
      "[youtube:search] query \"Polo G 33\" page 1: Downloading API JSON\n",
      "[youtube:search] Playlist Polo G 33: Downloading 1 items of 1\n",
      "[download] Downloading item 1 of 1\n",
      "[youtube] Extracting URL: https://www.youtube.com/watch?v=eUe2cdhsL68\n",
      "[youtube] eUe2cdhsL68: Downloading webpage\n",
      "[youtube] eUe2cdhsL68: Downloading ios player API JSON\n",
      "[youtube] eUe2cdhsL68: Downloading android player API JSON\n",
      "[youtube] eUe2cdhsL68: Downloading m3u8 information\n",
      "[info] eUe2cdhsL68: Downloading 1 format(s): 251\n",
      "[download] Destination: C:\\Users\\arwin\\Documents\\dev\\APS360-PROJECT\\data\\billboard_audio\\Polo G_33\\Polo G_33.webm\n",
      "[download] 100% of    2.91MiB in 00:00:00 at 12.91MiB/s    \n",
      "[download] Finished downloading playlist: Polo G 33\n",
      "[generic] Extracting URL: Polo G I Know\n",
      "[youtube:search] Extracting URL: ytsearch:Polo G I Know\n",
      "[download] Downloading playlist: Polo G I Know\n",
      "[youtube:search] query \"Polo G I Know\": Downloading web client config\n",
      "[youtube:search] query \"Polo G I Know\" page 1: Downloading API JSON\n",
      "[youtube:search] Playlist Polo G I Know: Downloading 1 items of 1\n",
      "[download] Downloading item 1 of 1\n",
      "[youtube] Extracting URL: https://www.youtube.com/watch?v=UI__tLmwh2g\n",
      "[youtube] UI__tLmwh2g: Downloading webpage\n",
      "[youtube] UI__tLmwh2g: Downloading ios player API JSON\n",
      "[youtube] UI__tLmwh2g: Downloading android player API JSON\n",
      "[youtube] UI__tLmwh2g: Downloading m3u8 information\n",
      "[info] UI__tLmwh2g: Downloading 1 format(s): 251\n",
      "[download] Destination: C:\\Users\\arwin\\Documents\\dev\\APS360-PROJECT\\data\\billboard_audio\\Polo G_I Know\\Polo G_I Know.webm\n",
      "[download] 100% of    3.27MiB in 00:00:00 at 14.01MiB/s  \n",
      "[download] Finished downloading playlist: Polo G I Know\n",
      "[generic] Extracting URL: Moneybagg Yo Me Vs Me\n",
      "[youtube:search] Extracting URL: ytsearch:Moneybagg Yo Me Vs Me\n",
      "[download] Downloading playlist: Moneybagg Yo Me Vs Me\n",
      "[youtube:search] query \"Moneybagg Yo Me Vs Me\": Downloading web client config\n",
      "[youtube:search] query \"Moneybagg Yo Me Vs Me\" page 1: Downloading API JSON\n",
      "[youtube:search] Playlist Moneybagg Yo Me Vs Me: Downloading 1 items of 1\n",
      "[download] Downloading item 1 of 1\n",
      "[youtube] Extracting URL: https://www.youtube.com/watch?v=86p9_ycUyq8\n",
      "[youtube] 86p9_ycUyq8: Downloading webpage\n",
      "[youtube] 86p9_ycUyq8: Downloading ios player API JSON\n",
      "[youtube] 86p9_ycUyq8: Downloading android player API JSON\n",
      "[youtube] 86p9_ycUyq8: Downloading m3u8 information\n",
      "[info] 86p9_ycUyq8: Downloading 1 format(s): 251\n",
      "[download] Destination: C:\\Users\\arwin\\Documents\\dev\\APS360-PROJECT\\data\\billboard_audio\\Moneybagg Yo_Me Vs Me\\Moneybagg Yo_Me Vs Me.webm\n",
      "[download] 100% of    3.04MiB in 00:00:00 at 8.68MiB/s     \n",
      "[download] Finished downloading playlist: Moneybagg Yo Me Vs Me\n",
      "[generic] Extracting URL: Rod Wave Heart On Ice\n",
      "[youtube:search] Extracting URL: ytsearch:Rod Wave Heart On Ice\n",
      "[download] Downloading playlist: Rod Wave Heart On Ice\n",
      "[youtube:search] query \"Rod Wave Heart On Ice\": Downloading web client config\n",
      "[youtube:search] query \"Rod Wave Heart On Ice\" page 1: Downloading API JSON\n",
      "[youtube:search] Playlist Rod Wave Heart On Ice: Downloading 1 items of 1\n",
      "[download] Downloading item 1 of 1\n",
      "[youtube] Extracting URL: https://www.youtube.com/watch?v=deMLg4FPFhQ\n",
      "[youtube] deMLg4FPFhQ: Downloading webpage\n",
      "[youtube] deMLg4FPFhQ: Downloading ios player API JSON\n",
      "[youtube] deMLg4FPFhQ: Downloading android player API JSON\n"
     ]
    },
    {
     "name": "stderr",
     "output_type": "stream",
     "text": [
      "WARNING: [youtube] YouTube said: ERROR - Precondition check failed.\n",
      "WARNING: [youtube] HTTP Error 400: Bad Request. Retrying (1/3)...\n"
     ]
    },
    {
     "name": "stdout",
     "output_type": "stream",
     "text": [
      "[youtube] deMLg4FPFhQ: Downloading android player API JSON\n"
     ]
    },
    {
     "name": "stderr",
     "output_type": "stream",
     "text": [
      "WARNING: [youtube] YouTube said: ERROR - Precondition check failed.\n",
      "WARNING: [youtube] HTTP Error 400: Bad Request. Retrying (2/3)...\n"
     ]
    },
    {
     "name": "stdout",
     "output_type": "stream",
     "text": [
      "[youtube] deMLg4FPFhQ: Downloading android player API JSON\n",
      "[youtube] deMLg4FPFhQ: Downloading m3u8 information\n",
      "[info] deMLg4FPFhQ: Downloading 1 format(s): 251\n",
      "[download] Destination: C:\\Users\\arwin\\Documents\\dev\\APS360-PROJECT\\data\\billboard_audio\\Rod Wave_Heart On Ice\\Rod Wave_Heart On Ice.webm\n",
      "[download] 100% of    2.79MiB in 00:00:00 at 9.96MiB/s     \n",
      "[download] Finished downloading playlist: Rod Wave Heart On Ice\n",
      "[generic] Extracting URL: Kehlani Featuring Tory Lanez Can I\n",
      "[youtube:search] Extracting URL: ytsearch:Kehlani Featuring Tory Lanez Can I\n",
      "[download] Downloading playlist: Kehlani Featuring Tory Lanez Can I\n",
      "[youtube:search] query \"Kehlani Featuring Tory Lanez Can I\": Downloading web client config\n",
      "[youtube:search] query \"Kehlani Featuring Tory Lanez Can I\" page 1: Downloading API JSON\n",
      "[youtube:search] Playlist Kehlani Featuring Tory Lanez Can I: Downloading 1 items of 1\n",
      "[download] Downloading item 1 of 1\n",
      "[youtube] Extracting URL: https://www.youtube.com/watch?v=c8i-NAi8CJU\n",
      "[youtube] c8i-NAi8CJU: Downloading webpage\n",
      "[youtube] c8i-NAi8CJU: Downloading ios player API JSON\n",
      "[youtube] c8i-NAi8CJU: Downloading android player API JSON\n",
      "[youtube] c8i-NAi8CJU: Downloading m3u8 information\n",
      "[info] c8i-NAi8CJU: Downloading 1 format(s): 251\n",
      "[download] Destination: C:\\Users\\arwin\\Documents\\dev\\APS360-PROJECT\\data\\billboard_audio\\Kehlani Featuring Tory Lanez_Can I\\Kehlani Featuring Tory Lanez_Can I.webm\n",
      "[download] 100% of    2.91MiB in 00:00:00 at 10.72MiB/s  \n",
      "[download] Finished downloading playlist: Kehlani Featuring Tory Lanez Can I\n",
      "[generic] Extracting URL: Lil Tjay Featuring Fivio Foreign & Pop Smoke Zoo York\n",
      "[youtube:search] Extracting URL: ytsearch:Lil Tjay Featuring Fivio Foreign & Pop Smoke Zoo York\n",
      "[download] Downloading playlist: Lil Tjay Featuring Fivio Foreign & Pop Smoke Zoo York\n",
      "[youtube:search] query \"Lil Tjay Featuring Fivio Foreign & Pop Smoke Zoo York\": Downloading web client config\n",
      "[youtube:search] query \"Lil Tjay Featuring Fivio Foreign & Pop Smoke Zoo York\" page 1: Downloading API JSON\n",
      "[youtube:search] Playlist Lil Tjay Featuring Fivio Foreign & Pop Smoke Zoo York: Downloading 1 items of 1\n",
      "[download] Downloading item 1 of 1\n",
      "[youtube] Extracting URL: https://www.youtube.com/watch?v=ToRiflECtU8\n",
      "[youtube] ToRiflECtU8: Downloading webpage\n",
      "[youtube] ToRiflECtU8: Downloading ios player API JSON\n",
      "[youtube] ToRiflECtU8: Downloading android player API JSON\n"
     ]
    },
    {
     "name": "stderr",
     "output_type": "stream",
     "text": [
      "WARNING: [youtube] YouTube said: ERROR - Precondition check failed.\n",
      "WARNING: [youtube] HTTP Error 400: Bad Request. Retrying (1/3)...\n"
     ]
    },
    {
     "name": "stdout",
     "output_type": "stream",
     "text": [
      "[youtube] ToRiflECtU8: Downloading android player API JSON\n",
      "[youtube] ToRiflECtU8: Downloading m3u8 information\n",
      "[info] ToRiflECtU8: Downloading 1 format(s): 251\n",
      "[download] Destination: C:\\Users\\arwin\\Documents\\dev\\APS360-PROJECT\\data\\billboard_audio\\Lil Tjay Featuring Fivio Foreign & Pop Smoke_Zoo York\\Lil Tjay Featuring Fivio Foreign & Pop Smoke_Zoo York.webm\n",
      "[download] 100% of    3.82MiB in 00:00:00 at 14.77MiB/s  \n",
      "[download] Finished downloading playlist: Lil Tjay Featuring Fivio Foreign & Pop Smoke Zoo York\n",
      "[generic] Extracting URL: Sam Smith & Demi Lovato I'm Ready\n",
      "[youtube:search] Extracting URL: ytsearch:Sam Smith & Demi Lovato I'm Ready\n",
      "[download] Downloading playlist: Sam Smith & Demi Lovato I'm Ready\n",
      "[youtube:search] query \"Sam Smith & Demi Lovato I'm Ready\": Downloading web client config\n",
      "[youtube:search] query \"Sam Smith & Demi Lovato I'm Ready\" page 1: Downloading API JSON\n",
      "[youtube:search] Playlist Sam Smith & Demi Lovato I'm Ready: Downloading 1 items of 1\n",
      "[download] Downloading item 1 of 1\n",
      "[youtube] Extracting URL: https://www.youtube.com/watch?v=glD1M418bC0\n",
      "[youtube] glD1M418bC0: Downloading webpage\n",
      "[youtube] glD1M418bC0: Downloading ios player API JSON\n",
      "[youtube] glD1M418bC0: Downloading android player API JSON\n",
      "[youtube] glD1M418bC0: Downloading m3u8 information\n",
      "[info] glD1M418bC0: Downloading 1 format(s): 251\n",
      "[download] Destination: C:\\Users\\arwin\\Documents\\dev\\APS360-PROJECT\\data\\billboard_audio\\Sam Smith & Demi Lovato_I'm Ready\\Sam Smith & Demi Lovato_I'm Ready.webm\n",
      "[download] 100% of    3.16MiB in 00:00:00 at 12.32MiB/s  \n",
      "[download] Finished downloading playlist: Sam Smith & Demi Lovato I'm Ready\n",
      "[generic] Extracting URL: Ingrid Andress More Hearts Than Mine\n",
      "[youtube:search] Extracting URL: ytsearch:Ingrid Andress More Hearts Than Mine\n",
      "[download] Downloading playlist: Ingrid Andress More Hearts Than Mine\n",
      "[youtube:search] query \"Ingrid Andress More Hearts Than Mine\": Downloading web client config\n",
      "[youtube:search] query \"Ingrid Andress More Hearts Than Mine\" page 1: Downloading API JSON\n",
      "[youtube:search] Playlist Ingrid Andress More Hearts Than Mine: Downloading 1 items of 1\n",
      "[download] Downloading item 1 of 1\n",
      "[youtube] Extracting URL: https://www.youtube.com/watch?v=j_A8Zjwr9m0\n",
      "[youtube] j_A8Zjwr9m0: Downloading webpage\n",
      "[youtube] j_A8Zjwr9m0: Downloading ios player API JSON\n",
      "[youtube] j_A8Zjwr9m0: Downloading android player API JSON\n"
     ]
    },
    {
     "name": "stderr",
     "output_type": "stream",
     "text": [
      "WARNING: [youtube] YouTube said: ERROR - Precondition check failed.\n",
      "WARNING: [youtube] HTTP Error 400: Bad Request. Retrying (1/3)...\n"
     ]
    },
    {
     "name": "stdout",
     "output_type": "stream",
     "text": [
      "[youtube] j_A8Zjwr9m0: Downloading android player API JSON\n"
     ]
    },
    {
     "name": "stderr",
     "output_type": "stream",
     "text": [
      "WARNING: [youtube] YouTube said: ERROR - Precondition check failed.\n",
      "WARNING: [youtube] HTTP Error 400: Bad Request. Retrying (2/3)...\n"
     ]
    },
    {
     "name": "stdout",
     "output_type": "stream",
     "text": [
      "[youtube] j_A8Zjwr9m0: Downloading android player API JSON\n"
     ]
    },
    {
     "name": "stderr",
     "output_type": "stream",
     "text": [
      "WARNING: [youtube] YouTube said: ERROR - Precondition check failed.\n",
      "WARNING: [youtube] HTTP Error 400: Bad Request. Retrying (3/3)...\n"
     ]
    },
    {
     "name": "stdout",
     "output_type": "stream",
     "text": [
      "[youtube] j_A8Zjwr9m0: Downloading android player API JSON\n",
      "[youtube] j_A8Zjwr9m0: Downloading m3u8 information\n",
      "[info] j_A8Zjwr9m0: Downloading 1 format(s): 251\n",
      "[download] Destination: C:\\Users\\arwin\\Documents\\dev\\APS360-PROJECT\\data\\billboard_audio\\Ingrid Andress_More Hearts Than Mine\\Ingrid Andress_More Hearts Than Mine.webm\n",
      "[download] 100% of    3.57MiB in 00:00:00 at 10.04MiB/s  \n",
      "[download] Finished downloading playlist: Ingrid Andress More Hearts Than Mine\n",
      "[generic] Extracting URL: Demi Lovato I Love Me\n",
      "[youtube:search] Extracting URL: ytsearch:Demi Lovato I Love Me\n",
      "[download] Downloading playlist: Demi Lovato I Love Me\n",
      "[youtube:search] query \"Demi Lovato I Love Me\": Downloading web client config\n",
      "[youtube:search] query \"Demi Lovato I Love Me\" page 1: Downloading API JSON\n",
      "[youtube:search] Playlist Demi Lovato I Love Me: Downloading 1 items of 1\n",
      "[download] Downloading item 1 of 1\n",
      "[youtube] Extracting URL: https://www.youtube.com/watch?v=vImvzQCb0o8\n",
      "[youtube] vImvzQCb0o8: Downloading webpage\n",
      "[youtube] vImvzQCb0o8: Downloading ios player API JSON\n",
      "[youtube] vImvzQCb0o8: Downloading android player API JSON\n"
     ]
    },
    {
     "name": "stderr",
     "output_type": "stream",
     "text": [
      "WARNING: [youtube] YouTube said: ERROR - Precondition check failed.\n",
      "WARNING: [youtube] HTTP Error 400: Bad Request. Retrying (1/3)...\n"
     ]
    },
    {
     "name": "stdout",
     "output_type": "stream",
     "text": [
      "[youtube] vImvzQCb0o8: Downloading android player API JSON\n",
      "[youtube] vImvzQCb0o8: Downloading m3u8 information\n",
      "[info] vImvzQCb0o8: Downloading 1 format(s): 251\n",
      "[download] Destination: C:\\Users\\arwin\\Documents\\dev\\APS360-PROJECT\\data\\billboard_audio\\Demi Lovato_I Love Me\\Demi Lovato_I Love Me.webm\n",
      "[download] 100% of    3.22MiB in 00:00:00 at 9.47MiB/s   \n",
      "[download] Finished downloading playlist: Demi Lovato I Love Me\n",
      "[generic] Extracting URL: Future, Drake & Young Thug D4L\n",
      "[youtube:search] Extracting URL: ytsearch:Future, Drake & Young Thug D4L\n",
      "[download] Downloading playlist: Future, Drake & Young Thug D4L\n",
      "[youtube:search] query \"Future, Drake & Young Thug D4L\": Downloading web client config\n",
      "[youtube:search] query \"Future, Drake & Young Thug D4L\" page 1: Downloading API JSON\n",
      "[youtube:search] Playlist Future, Drake & Young Thug D4L: Downloading 1 items of 1\n",
      "[download] Downloading item 1 of 1\n",
      "[youtube] Extracting URL: https://www.youtube.com/watch?v=ldeLy8D_uSE\n",
      "[youtube] ldeLy8D_uSE: Downloading webpage\n",
      "[youtube] ldeLy8D_uSE: Downloading ios player API JSON\n",
      "[youtube] ldeLy8D_uSE: Downloading android player API JSON\n",
      "[youtube] ldeLy8D_uSE: Downloading m3u8 information\n",
      "[info] ldeLy8D_uSE: Downloading 1 format(s): 251\n",
      "[download] Destination: C:\\Users\\arwin\\Documents\\dev\\APS360-PROJECT\\data\\billboard_audio\\Future, Drake & Young Thug_D4L\\Future, Drake & Young Thug_D4L.webm\n",
      "[download] 100% of    3.12MiB in 00:00:00 at 6.82MiB/s     \n",
      "[download] Finished downloading playlist: Future, Drake & Young Thug D4L\n",
      "[generic] Extracting URL: Kehlani Featuring Jhene Aiko Change Your Life\n",
      "[youtube:search] Extracting URL: ytsearch:Kehlani Featuring Jhene Aiko Change Your Life\n",
      "[download] Downloading playlist: Kehlani Featuring Jhene Aiko Change Your Life\n",
      "[youtube:search] query \"Kehlani Featuring Jhene Aiko Change Your Life\": Downloading web client config\n",
      "[youtube:search] query \"Kehlani Featuring Jhene Aiko Change Your Life\" page 1: Downloading API JSON\n",
      "[youtube:search] Playlist Kehlani Featuring Jhene Aiko Change Your Life: Downloading 1 items of 1\n",
      "[download] Downloading item 1 of 1\n",
      "[youtube] Extracting URL: https://www.youtube.com/watch?v=KmFNykFi2po\n",
      "[youtube] KmFNykFi2po: Downloading webpage\n",
      "[youtube] KmFNykFi2po: Downloading ios player API JSON\n",
      "[youtube] KmFNykFi2po: Downloading android player API JSON\n",
      "[youtube] KmFNykFi2po: Downloading m3u8 information\n",
      "[info] KmFNykFi2po: Downloading 1 format(s): 251\n",
      "[download] Destination: C:\\Users\\arwin\\Documents\\dev\\APS360-PROJECT\\data\\billboard_audio\\Kehlani Featuring Jhene Aiko_Change Your Life\\Kehlani Featuring Jhene Aiko_Change Your Life.webm\n",
      "[download] 100% of    3.11MiB in 00:00:00 at 4.68MiB/s   \n",
      "[download] Finished downloading playlist: Kehlani Featuring Jhene Aiko Change Your Life\n",
      "[generic] Extracting URL: Drake Featuring Future Desires\n",
      "[youtube:search] Extracting URL: ytsearch:Drake Featuring Future Desires\n",
      "[download] Downloading playlist: Drake Featuring Future Desires\n",
      "[youtube:search] query \"Drake Featuring Future Desires\": Downloading web client config\n",
      "[youtube:search] query \"Drake Featuring Future Desires\" page 1: Downloading API JSON\n",
      "[youtube:search] Playlist Drake Featuring Future Desires: Downloading 1 items of 1\n",
      "[download] Downloading item 1 of 1\n",
      "[youtube] Extracting URL: https://www.youtube.com/watch?v=nGXCuAHEjYI\n",
      "[youtube] nGXCuAHEjYI: Downloading webpage\n",
      "[youtube] nGXCuAHEjYI: Downloading ios player API JSON\n",
      "[youtube] nGXCuAHEjYI: Downloading android player API JSON\n",
      "[youtube] nGXCuAHEjYI: Downloading m3u8 information\n",
      "[info] nGXCuAHEjYI: Downloading 1 format(s): 251\n",
      "[download] Destination: C:\\Users\\arwin\\Documents\\dev\\APS360-PROJECT\\data\\billboard_audio\\Drake Featuring Future_Desires\\Drake Featuring Future_Desires.webm\n",
      "[download] 100% of    3.92MiB in 00:00:00 at 13.55MiB/s    \n",
      "[download] Finished downloading playlist: Drake Featuring Future Desires\n",
      "[generic] Extracting URL: DaBaby Featuring YoungBoy Never Broke Again Jump\n",
      "[youtube:search] Extracting URL: ytsearch:DaBaby Featuring YoungBoy Never Broke Again Jump\n",
      "[download] Downloading playlist: DaBaby Featuring YoungBoy Never Broke Again Jump\n",
      "[youtube:search] query \"DaBaby Featuring YoungBoy Never Broke Again Jump\": Downloading web client config\n",
      "[youtube:search] query \"DaBaby Featuring YoungBoy Never Broke Again Jump\" page 1: Downloading API JSON\n",
      "[youtube:search] Playlist DaBaby Featuring YoungBoy Never Broke Again Jump: Downloading 1 items of 1\n",
      "[download] Downloading item 1 of 1\n",
      "[youtube] Extracting URL: https://www.youtube.com/watch?v=xjmC4lSk-2U\n",
      "[youtube] xjmC4lSk-2U: Downloading webpage\n",
      "[youtube] xjmC4lSk-2U: Downloading ios player API JSON\n",
      "[youtube] xjmC4lSk-2U: Downloading android player API JSON\n",
      "[youtube] xjmC4lSk-2U: Downloading m3u8 information\n",
      "[info] xjmC4lSk-2U: Downloading 1 format(s): 251\n",
      "[download] Destination: C:\\Users\\arwin\\Documents\\dev\\APS360-PROJECT\\data\\billboard_audio\\DaBaby Featuring YoungBoy Never Broke Again_Jump\\DaBaby Featuring YoungBoy Never Broke Again_Jump.webm\n",
      "[download] 100% of    4.56MiB in 00:00:00 at 14.11MiB/s  \n",
      "[download] Finished downloading playlist: DaBaby Featuring YoungBoy Never Broke Again Jump\n",
      "[generic] Extracting URL: Luke Combs Six Feet Apart\n",
      "[youtube:search] Extracting URL: ytsearch:Luke Combs Six Feet Apart\n",
      "[download] Downloading playlist: Luke Combs Six Feet Apart\n",
      "[youtube:search] query \"Luke Combs Six Feet Apart\": Downloading web client config\n",
      "[youtube:search] query \"Luke Combs Six Feet Apart\" page 1: Downloading API JSON\n",
      "[youtube:search] Playlist Luke Combs Six Feet Apart: Downloading 1 items of 1\n",
      "[download] Downloading item 1 of 1\n",
      "[youtube] Extracting URL: https://www.youtube.com/watch?v=Sayh8ZASxk8\n",
      "[youtube] Sayh8ZASxk8: Downloading webpage\n",
      "[youtube] Sayh8ZASxk8: Downloading ios player API JSON\n",
      "[youtube] Sayh8ZASxk8: Downloading android player API JSON\n"
     ]
    },
    {
     "name": "stderr",
     "output_type": "stream",
     "text": [
      "WARNING: [youtube] YouTube said: ERROR - Precondition check failed.\n",
      "WARNING: [youtube] HTTP Error 400: Bad Request. Retrying (1/3)...\n"
     ]
    },
    {
     "name": "stdout",
     "output_type": "stream",
     "text": [
      "[youtube] Sayh8ZASxk8: Downloading android player API JSON\n",
      "[youtube] Sayh8ZASxk8: Downloading m3u8 information\n",
      "[info] Sayh8ZASxk8: Downloading 1 format(s): 251\n",
      "[download] Destination: C:\\Users\\arwin\\Documents\\dev\\APS360-PROJECT\\data\\billboard_audio\\Luke Combs_Six Feet Apart\\Luke Combs_Six Feet Apart.webm\n",
      "[download] 100% of    3.21MiB in 00:00:00 at 9.49MiB/s   \n",
      "[download] Finished downloading playlist: Luke Combs Six Feet Apart\n",
      "[generic] Extracting URL: Lil Durk Viral Moment\n",
      "[youtube:search] Extracting URL: ytsearch:Lil Durk Viral Moment\n",
      "[download] Downloading playlist: Lil Durk Viral Moment\n",
      "[youtube:search] query \"Lil Durk Viral Moment\": Downloading web client config\n",
      "[youtube:search] query \"Lil Durk Viral Moment\" page 1: Downloading API JSON\n",
      "[youtube:search] Playlist Lil Durk Viral Moment: Downloading 1 items of 1\n",
      "[download] Downloading item 1 of 1\n",
      "[youtube] Extracting URL: https://www.youtube.com/watch?v=cU5uVnWL1Us\n",
      "[youtube] cU5uVnWL1Us: Downloading webpage\n",
      "[youtube] cU5uVnWL1Us: Downloading ios player API JSON\n",
      "[youtube] cU5uVnWL1Us: Downloading android player API JSON\n",
      "[youtube] cU5uVnWL1Us: Downloading m3u8 information\n",
      "[info] cU5uVnWL1Us: Downloading 1 format(s): 251\n",
      "[download] Destination: C:\\Users\\arwin\\Documents\\dev\\APS360-PROJECT\\data\\billboard_audio\\Lil Durk_Viral Moment\\Lil Durk_Viral Moment.webm\n",
      "[download] 100% of    3.44MiB in 00:00:00 at 5.96MiB/s   \n",
      "[download] Finished downloading playlist: Lil Durk Viral Moment\n",
      "[generic] Extracting URL: Jake Owen Homemade\n",
      "[youtube:search] Extracting URL: ytsearch:Jake Owen Homemade\n",
      "[download] Downloading playlist: Jake Owen Homemade\n",
      "[youtube:search] query \"Jake Owen Homemade\": Downloading web client config\n",
      "[youtube:search] query \"Jake Owen Homemade\" page 1: Downloading API JSON\n",
      "[youtube:search] Playlist Jake Owen Homemade: Downloading 1 items of 1\n",
      "[download] Downloading item 1 of 1\n",
      "[youtube] Extracting URL: https://www.youtube.com/watch?v=NiFCN66k7Cs\n",
      "[youtube] NiFCN66k7Cs: Downloading webpage\n",
      "[youtube] NiFCN66k7Cs: Downloading ios player API JSON\n",
      "[youtube] NiFCN66k7Cs: Downloading android player API JSON\n",
      "[youtube] NiFCN66k7Cs: Downloading m3u8 information\n",
      "[info] NiFCN66k7Cs: Downloading 1 format(s): 251\n",
      "[download] Destination: C:\\Users\\arwin\\Documents\\dev\\APS360-PROJECT\\data\\billboard_audio\\Jake Owen_Homemade\\Jake Owen_Homemade.webm\n",
      "[download] 100% of    3.34MiB in 00:00:00 at 13.68MiB/s  \n",
      "[download] Finished downloading playlist: Jake Owen Homemade\n",
      "[generic] Extracting URL: Drake Time Flies\n",
      "[youtube:search] Extracting URL: ytsearch:Drake Time Flies\n",
      "[download] Downloading playlist: Drake Time Flies\n",
      "[youtube:search] query \"Drake Time Flies\": Downloading web client config\n",
      "[youtube:search] query \"Drake Time Flies\" page 1: Downloading API JSON\n",
      "[youtube:search] Playlist Drake Time Flies: Downloading 1 items of 1\n",
      "[download] Downloading item 1 of 1\n",
      "[youtube] Extracting URL: https://www.youtube.com/watch?v=OjgBxXNP3gw\n",
      "[youtube] OjgBxXNP3gw: Downloading webpage\n",
      "[youtube] OjgBxXNP3gw: Downloading ios player API JSON\n",
      "[youtube] OjgBxXNP3gw: Downloading android player API JSON\n",
      "[youtube] OjgBxXNP3gw: Downloading m3u8 information\n",
      "[info] OjgBxXNP3gw: Downloading 1 format(s): 251\n",
      "[download] Destination: C:\\Users\\arwin\\Documents\\dev\\APS360-PROJECT\\data\\billboard_audio\\Drake_Time Flies\\Drake_Time Flies.webm\n",
      "[download] 100% of    3.25MiB in 00:00:00 at 12.14MiB/s  \n",
      "[download] Finished downloading playlist: Drake Time Flies\n",
      "[generic] Extracting URL: Jordan Davis Slow Dance In A Parking Lot\n",
      "[youtube:search] Extracting URL: ytsearch:Jordan Davis Slow Dance In A Parking Lot\n",
      "[download] Downloading playlist: Jordan Davis Slow Dance In A Parking Lot\n",
      "[youtube:search] query \"Jordan Davis Slow Dance In A Parking Lot\": Downloading web client config\n",
      "[youtube:search] query \"Jordan Davis Slow Dance In A Parking Lot\" page 1: Downloading API JSON\n",
      "[youtube:search] Playlist Jordan Davis Slow Dance In A Parking Lot: Downloading 1 items of 1\n",
      "[download] Downloading item 1 of 1\n",
      "[youtube] Extracting URL: https://www.youtube.com/watch?v=0D3V4s4zzxc\n",
      "[youtube] 0D3V4s4zzxc: Downloading webpage\n",
      "[youtube] 0D3V4s4zzxc: Downloading ios player API JSON\n",
      "[youtube] 0D3V4s4zzxc: Downloading android player API JSON\n"
     ]
    },
    {
     "name": "stderr",
     "output_type": "stream",
     "text": [
      "WARNING: [youtube] YouTube said: ERROR - Precondition check failed.\n",
      "WARNING: [youtube] HTTP Error 400: Bad Request. Retrying (1/3)...\n"
     ]
    },
    {
     "name": "stdout",
     "output_type": "stream",
     "text": [
      "[youtube] 0D3V4s4zzxc: Downloading android player API JSON\n",
      "[youtube] 0D3V4s4zzxc: Downloading m3u8 information\n",
      "[info] 0D3V4s4zzxc: Downloading 1 format(s): 251\n",
      "[download] Destination: C:\\Users\\arwin\\Documents\\dev\\APS360-PROJECT\\data\\billboard_audio\\Jordan Davis_Slow Dance In A Parking Lot\\Jordan Davis_Slow Dance In A Parking Lot.webm\n",
      "[download] 100% of    3.76MiB in 00:00:00 at 5.48MiB/s   \n",
      "[download] Finished downloading playlist: Jordan Davis Slow Dance In A Parking Lot\n",
      "[generic] Extracting URL: Halsey You Should Be Sad\n",
      "[youtube:search] Extracting URL: ytsearch:Halsey You Should Be Sad\n",
      "[download] Downloading playlist: Halsey You Should Be Sad\n",
      "[youtube:search] query \"Halsey You Should Be Sad\": Downloading web client config\n",
      "[youtube:search] query \"Halsey You Should Be Sad\" page 1: Downloading API JSON\n",
      "[youtube:search] Playlist Halsey You Should Be Sad: Downloading 1 items of 1\n",
      "[download] Downloading item 1 of 1\n",
      "[youtube] Extracting URL: https://www.youtube.com/watch?v=8nBFqZppIF0\n",
      "[youtube] 8nBFqZppIF0: Downloading webpage\n",
      "[youtube] 8nBFqZppIF0: Downloading ios player API JSON\n",
      "[youtube] 8nBFqZppIF0: Downloading android player API JSON\n"
     ]
    },
    {
     "name": "stderr",
     "output_type": "stream",
     "text": [
      "WARNING: [youtube] YouTube said: ERROR - Precondition check failed.\n",
      "WARNING: [youtube] HTTP Error 400: Bad Request. Retrying (1/3)...\n"
     ]
    },
    {
     "name": "stdout",
     "output_type": "stream",
     "text": [
      "[youtube] 8nBFqZppIF0: Downloading android player API JSON\n"
     ]
    },
    {
     "name": "stderr",
     "output_type": "stream",
     "text": [
      "WARNING: [youtube] YouTube said: ERROR - Precondition check failed.\n",
      "WARNING: [youtube] HTTP Error 400: Bad Request. Retrying (2/3)...\n"
     ]
    },
    {
     "name": "stdout",
     "output_type": "stream",
     "text": [
      "[youtube] 8nBFqZppIF0: Downloading android player API JSON\n"
     ]
    },
    {
     "name": "stderr",
     "output_type": "stream",
     "text": [
      "WARNING: [youtube] YouTube said: ERROR - Precondition check failed.\n",
      "WARNING: [youtube] HTTP Error 400: Bad Request. Retrying (3/3)...\n"
     ]
    },
    {
     "name": "stdout",
     "output_type": "stream",
     "text": [
      "[youtube] 8nBFqZppIF0: Downloading android player API JSON\n",
      "[youtube] 8nBFqZppIF0: Downloading m3u8 information\n",
      "[info] 8nBFqZppIF0: Downloading 1 format(s): 251\n",
      "[download] Destination: C:\\Users\\arwin\\Documents\\dev\\APS360-PROJECT\\data\\billboard_audio\\Halsey_You Should Be Sad\\Halsey_You Should Be Sad.webm\n",
      "[download] 100% of    3.53MiB in 00:00:00 at 6.67MiB/s   \n",
      "[download] Finished downloading playlist: Halsey You Should Be Sad\n",
      "[generic] Extracting URL: Drake Featuring Fivio Foreign & Sosa Geek Demons\n",
      "[youtube:search] Extracting URL: ytsearch:Drake Featuring Fivio Foreign & Sosa Geek Demons\n",
      "[download] Downloading playlist: Drake Featuring Fivio Foreign & Sosa Geek Demons\n",
      "[youtube:search] query \"Drake Featuring Fivio Foreign & Sosa Geek Demons\": Downloading web client config\n",
      "[youtube:search] query \"Drake Featuring Fivio Foreign & Sosa Geek Demons\" page 1: Downloading API JSON\n",
      "[youtube:search] Playlist Drake Featuring Fivio Foreign & Sosa Geek Demons: Downloading 1 items of 1\n",
      "[download] Downloading item 1 of 1\n",
      "[youtube] Extracting URL: https://www.youtube.com/watch?v=ecopKVhf5io\n",
      "[youtube] ecopKVhf5io: Downloading webpage\n",
      "[youtube] ecopKVhf5io: Downloading ios player API JSON\n",
      "[youtube] ecopKVhf5io: Downloading android player API JSON\n"
     ]
    },
    {
     "name": "stderr",
     "output_type": "stream",
     "text": [
      "WARNING: [youtube] YouTube said: ERROR - Precondition check failed.\n",
      "WARNING: [youtube] HTTP Error 400: Bad Request. Retrying (1/3)...\n"
     ]
    },
    {
     "name": "stdout",
     "output_type": "stream",
     "text": [
      "[youtube] ecopKVhf5io: Downloading android player API JSON\n",
      "[youtube] ecopKVhf5io: Downloading m3u8 information\n",
      "[info] ecopKVhf5io: Downloading 1 format(s): 251\n",
      "[download] Destination: C:\\Users\\arwin\\Documents\\dev\\APS360-PROJECT\\data\\billboard_audio\\Drake Featuring Fivio Foreign & Sosa Geek_Demons\\Drake Featuring Fivio Foreign & Sosa Geek_Demons.webm\n",
      "[download] 100% of    3.49MiB in 00:00:00 at 13.84MiB/s  \n",
      "[download] Finished downloading playlist: Drake Featuring Fivio Foreign & Sosa Geek Demons\n",
      "[generic] Extracting URL: Drake Featuring Chris Brown Not You Too\n",
      "[youtube:search] Extracting URL: ytsearch:Drake Featuring Chris Brown Not You Too\n",
      "[download] Downloading playlist: Drake Featuring Chris Brown Not You Too\n",
      "[youtube:search] query \"Drake Featuring Chris Brown Not You Too\": Downloading web client config\n",
      "[youtube:search] query \"Drake Featuring Chris Brown Not You Too\" page 1: Downloading API JSON\n",
      "[youtube:search] Playlist Drake Featuring Chris Brown Not You Too: Downloading 1 items of 1\n",
      "[download] Downloading item 1 of 1\n",
      "[youtube] Extracting URL: https://www.youtube.com/watch?v=ZX_mvoY_Hg0\n",
      "[youtube] ZX_mvoY_Hg0: Downloading webpage\n",
      "[youtube] ZX_mvoY_Hg0: Downloading ios player API JSON\n",
      "[youtube] ZX_mvoY_Hg0: Downloading android player API JSON\n",
      "[youtube] ZX_mvoY_Hg0: Downloading m3u8 information\n",
      "[info] ZX_mvoY_Hg0: Downloading 1 format(s): 251\n",
      "[download] Destination: C:\\Users\\arwin\\Documents\\dev\\APS360-PROJECT\\data\\billboard_audio\\Drake Featuring Chris Brown_Not You Too\\Drake Featuring Chris Brown_Not You Too.webm\n",
      "[download] 100% of    4.22MiB in 00:00:01 at 3.78MiB/s   \n",
      "[download] Finished downloading playlist: Drake Featuring Chris Brown Not You Too\n",
      "[generic] Extracting URL: Drake Deep Pockets\n",
      "[youtube:search] Extracting URL: ytsearch:Drake Deep Pockets\n",
      "[download] Downloading playlist: Drake Deep Pockets\n",
      "[youtube:search] query \"Drake Deep Pockets\": Downloading web client config\n",
      "[youtube:search] query \"Drake Deep Pockets\" page 1: Downloading API JSON\n",
      "[youtube:search] Playlist Drake Deep Pockets: Downloading 1 items of 1\n",
      "[download] Downloading item 1 of 1\n",
      "[youtube] Extracting URL: https://www.youtube.com/watch?v=LDMTjY-QgD0\n",
      "[youtube] LDMTjY-QgD0: Downloading webpage\n",
      "[youtube] LDMTjY-QgD0: Downloading ios player API JSON\n",
      "[youtube] LDMTjY-QgD0: Downloading android player API JSON\n"
     ]
    },
    {
     "name": "stderr",
     "output_type": "stream",
     "text": [
      "WARNING: [youtube] YouTube said: ERROR - Precondition check failed.\n",
      "WARNING: [youtube] HTTP Error 400: Bad Request. Retrying (1/3)...\n"
     ]
    },
    {
     "name": "stdout",
     "output_type": "stream",
     "text": [
      "[youtube] LDMTjY-QgD0: Downloading android player API JSON\n"
     ]
    },
    {
     "name": "stderr",
     "output_type": "stream",
     "text": [
      "WARNING: [youtube] YouTube said: ERROR - Precondition check failed.\n",
      "WARNING: [youtube] HTTP Error 400: Bad Request. Retrying (2/3)...\n"
     ]
    },
    {
     "name": "stdout",
     "output_type": "stream",
     "text": [
      "[youtube] LDMTjY-QgD0: Downloading android player API JSON\n",
      "[youtube] LDMTjY-QgD0: Downloading m3u8 information\n",
      "[info] LDMTjY-QgD0: Downloading 1 format(s): 251\n",
      "[download] Destination: C:\\Users\\arwin\\Documents\\dev\\APS360-PROJECT\\data\\billboard_audio\\Drake_Deep Pockets\\Drake_Deep Pockets.webm\n",
      "[download] 100% of    3.07MiB in 00:00:00 at 10.15MiB/s  \n",
      "[download] Finished downloading playlist: Drake Deep Pockets\n",
      "[generic] Extracting URL: Drake When To Say When\n",
      "[youtube:search] Extracting URL: ytsearch:Drake When To Say When\n",
      "[download] Downloading playlist: Drake When To Say When\n",
      "[youtube:search] query \"Drake When To Say When\": Downloading web client config\n",
      "[youtube:search] query \"Drake When To Say When\" page 1: Downloading API JSON\n",
      "[youtube:search] Playlist Drake When To Say When: Downloading 1 items of 1\n",
      "[download] Downloading item 1 of 1\n",
      "[youtube] Extracting URL: https://www.youtube.com/watch?v=qTNFIQyWe8M\n",
      "[youtube] qTNFIQyWe8M: Downloading webpage\n",
      "[youtube] qTNFIQyWe8M: Downloading ios player API JSON\n",
      "[youtube] qTNFIQyWe8M: Downloading android player API JSON\n",
      "[youtube] qTNFIQyWe8M: Downloading m3u8 information\n",
      "[info] qTNFIQyWe8M: Downloading 1 format(s): 251\n",
      "[download] Destination: C:\\Users\\arwin\\Documents\\dev\\APS360-PROJECT\\data\\billboard_audio\\Drake_When To Say When\\Drake_When To Say When.webm\n",
      "[download] 100% of    3.73MiB in 00:00:00 at 5.33MiB/s   \n",
      "[download] Finished downloading playlist: Drake When To Say When\n",
      "[generic] Extracting URL: Drake Landed\n",
      "[youtube:search] Extracting URL: ytsearch:Drake Landed\n",
      "[download] Downloading playlist: Drake Landed\n",
      "[youtube:search] query \"Drake Landed\": Downloading web client config\n",
      "[youtube:search] query \"Drake Landed\" page 1: Downloading API JSON\n",
      "[youtube:search] Playlist Drake Landed: Downloading 1 items of 1\n",
      "[download] Downloading item 1 of 1\n",
      "[youtube] Extracting URL: https://www.youtube.com/watch?v=mx7oBDVL7Y4\n",
      "[youtube] mx7oBDVL7Y4: Downloading webpage\n",
      "[youtube] mx7oBDVL7Y4: Downloading ios player API JSON\n",
      "[youtube] mx7oBDVL7Y4: Downloading android player API JSON\n"
     ]
    },
    {
     "name": "stderr",
     "output_type": "stream",
     "text": [
      "WARNING: [youtube] YouTube said: ERROR - Precondition check failed.\n",
      "WARNING: [youtube] HTTP Error 400: Bad Request. Retrying (1/3)...\n"
     ]
    },
    {
     "name": "stdout",
     "output_type": "stream",
     "text": [
      "[youtube] mx7oBDVL7Y4: Downloading android player API JSON\n"
     ]
    },
    {
     "name": "stderr",
     "output_type": "stream",
     "text": [
      "WARNING: [youtube] YouTube said: ERROR - Precondition check failed.\n",
      "WARNING: [youtube] HTTP Error 400: Bad Request. Retrying (2/3)...\n"
     ]
    },
    {
     "name": "stdout",
     "output_type": "stream",
     "text": [
      "[youtube] mx7oBDVL7Y4: Downloading android player API JSON\n"
     ]
    },
    {
     "name": "stderr",
     "output_type": "stream",
     "text": [
      "WARNING: [youtube] YouTube said: ERROR - Precondition check failed.\n",
      "WARNING: [youtube] HTTP Error 400: Bad Request. Retrying (3/3)...\n"
     ]
    },
    {
     "name": "stdout",
     "output_type": "stream",
     "text": [
      "[youtube] mx7oBDVL7Y4: Downloading android player API JSON\n",
      "[youtube] mx7oBDVL7Y4: Downloading m3u8 information\n",
      "[info] mx7oBDVL7Y4: Downloading 1 format(s): 251\n",
      "[download] Destination: C:\\Users\\arwin\\Documents\\dev\\APS360-PROJECT\\data\\billboard_audio\\Drake_Landed\\Drake_Landed.webm\n",
      "[download] 100% of    2.50MiB in 00:00:00 at 6.91MiB/s   \n",
      "[download] Finished downloading playlist: Drake Landed\n",
      "[generic] Extracting URL: Drake From Florida With Love\n",
      "[youtube:search] Extracting URL: ytsearch:Drake From Florida With Love\n",
      "[download] Downloading playlist: Drake From Florida With Love\n",
      "[youtube:search] query \"Drake From Florida With Love\": Downloading web client config\n",
      "[youtube:search] query \"Drake From Florida With Love\" page 1: Downloading API JSON\n",
      "[youtube:search] Playlist Drake From Florida With Love: Downloading 1 items of 1\n",
      "[download] Downloading item 1 of 1\n",
      "[youtube] Extracting URL: https://www.youtube.com/watch?v=8sJlnTMOpGM\n",
      "[youtube] 8sJlnTMOpGM: Downloading webpage\n",
      "[youtube] 8sJlnTMOpGM: Downloading ios player API JSON\n",
      "[youtube] 8sJlnTMOpGM: Downloading android player API JSON\n"
     ]
    },
    {
     "name": "stderr",
     "output_type": "stream",
     "text": [
      "WARNING: [youtube] YouTube said: ERROR - Precondition check failed.\n",
      "WARNING: [youtube] HTTP Error 400: Bad Request. Retrying (1/3)...\n"
     ]
    },
    {
     "name": "stdout",
     "output_type": "stream",
     "text": [
      "[youtube] 8sJlnTMOpGM: Downloading android player API JSON\n"
     ]
    },
    {
     "name": "stderr",
     "output_type": "stream",
     "text": [
      "WARNING: [youtube] YouTube said: ERROR - Precondition check failed.\n",
      "WARNING: [youtube] HTTP Error 400: Bad Request. Retrying (2/3)...\n"
     ]
    },
    {
     "name": "stdout",
     "output_type": "stream",
     "text": [
      "[youtube] 8sJlnTMOpGM: Downloading android player API JSON\n"
     ]
    },
    {
     "name": "stderr",
     "output_type": "stream",
     "text": [
      "WARNING: [youtube] YouTube said: ERROR - Precondition check failed.\n",
      "WARNING: [youtube] HTTP Error 400: Bad Request. Retrying (3/3)...\n"
     ]
    },
    {
     "name": "stdout",
     "output_type": "stream",
     "text": [
      "[youtube] 8sJlnTMOpGM: Downloading android player API JSON\n",
      "[youtube] 8sJlnTMOpGM: Downloading m3u8 information\n",
      "[info] 8sJlnTMOpGM: Downloading 1 format(s): 251\n",
      "[download] Destination: C:\\Users\\arwin\\Documents\\dev\\APS360-PROJECT\\data\\billboard_audio\\Drake_From Florida With Love\\Drake_From Florida With Love.webm\n",
      "[download] 100% of    3.79MiB in 00:00:00 at 16.64MiB/s  \n",
      "[download] Finished downloading playlist: Drake From Florida With Love\n",
      "[generic] Extracting URL: Drake Losses\n",
      "[youtube:search] Extracting URL: ytsearch:Drake Losses\n",
      "[download] Downloading playlist: Drake Losses\n",
      "[youtube:search] query \"Drake Losses\": Downloading web client config\n",
      "[youtube:search] query \"Drake Losses\" page 1: Downloading API JSON\n",
      "[youtube:search] Playlist Drake Losses: Downloading 1 items of 1\n",
      "[download] Downloading item 1 of 1\n",
      "[youtube] Extracting URL: https://www.youtube.com/watch?v=V7iHOPpKRJc\n",
      "[youtube] V7iHOPpKRJc: Downloading webpage\n",
      "[youtube] V7iHOPpKRJc: Downloading ios player API JSON\n",
      "[youtube] V7iHOPpKRJc: Downloading android player API JSON\n"
     ]
    },
    {
     "name": "stderr",
     "output_type": "stream",
     "text": [
      "WARNING: [youtube] YouTube said: ERROR - Precondition check failed.\n",
      "WARNING: [youtube] HTTP Error 400: Bad Request. Retrying (1/3)...\n"
     ]
    },
    {
     "name": "stdout",
     "output_type": "stream",
     "text": [
      "[youtube] V7iHOPpKRJc: Downloading android player API JSON\n",
      "[youtube] V7iHOPpKRJc: Downloading m3u8 information\n",
      "[info] V7iHOPpKRJc: Downloading 1 format(s): 251\n",
      "[download] Destination: C:\\Users\\arwin\\Documents\\dev\\APS360-PROJECT\\data\\billboard_audio\\Drake_Losses\\Drake_Losses.webm\n",
      "[download] 100% of    4.44MiB in 00:00:00 at 10.99MiB/s  \n",
      "[download] Finished downloading playlist: Drake Losses\n",
      "[generic] Extracting URL: Drake War\n",
      "[youtube:search] Extracting URL: ytsearch:Drake War\n",
      "[download] Downloading playlist: Drake War\n",
      "[youtube:search] query \"Drake War\": Downloading web client config\n",
      "[youtube:search] query \"Drake War\" page 1: Downloading API JSON\n",
      "[youtube:search] Playlist Drake War: Downloading 1 items of 1\n",
      "[download] Downloading item 1 of 1\n",
      "[youtube] Extracting URL: https://www.youtube.com/watch?v=lIlMtVGI5Pg\n",
      "[youtube] lIlMtVGI5Pg: Downloading webpage\n",
      "[youtube] lIlMtVGI5Pg: Downloading ios player API JSON\n",
      "[youtube] lIlMtVGI5Pg: Downloading android player API JSON\n"
     ]
    },
    {
     "name": "stderr",
     "output_type": "stream",
     "text": [
      "WARNING: [youtube] YouTube said: ERROR - Precondition check failed.\n",
      "WARNING: [youtube] HTTP Error 400: Bad Request. Retrying (1/3)...\n"
     ]
    },
    {
     "name": "stdout",
     "output_type": "stream",
     "text": [
      "[youtube] lIlMtVGI5Pg: Downloading android player API JSON\n",
      "[youtube] lIlMtVGI5Pg: Downloading m3u8 information\n",
      "[info] lIlMtVGI5Pg: Downloading 1 format(s): 251\n",
      "[download] Destination: C:\\Users\\arwin\\Documents\\dev\\APS360-PROJECT\\data\\billboard_audio\\Drake_War\\Drake_War.webm\n",
      "[download] 100% of    3.12MiB in 00:00:00 at 7.81MiB/s   \n",
      "[download] Finished downloading playlist: Drake War\n",
      "[generic] Extracting URL: Lil Baby Social Distancing\n",
      "[youtube:search] Extracting URL: ytsearch:Lil Baby Social Distancing\n",
      "[download] Downloading playlist: Lil Baby Social Distancing\n",
      "[youtube:search] query \"Lil Baby Social Distancing\": Downloading web client config\n",
      "[youtube:search] query \"Lil Baby Social Distancing\" page 1: Downloading API JSON\n",
      "[youtube:search] Playlist Lil Baby Social Distancing: Downloading 1 items of 1\n",
      "[download] Downloading item 1 of 1\n",
      "[youtube] Extracting URL: https://www.youtube.com/watch?v=laVkWgZE9pw\n",
      "[youtube] laVkWgZE9pw: Downloading webpage\n",
      "[youtube] laVkWgZE9pw: Downloading ios player API JSON\n",
      "[youtube] laVkWgZE9pw: Downloading android player API JSON\n",
      "[youtube] laVkWgZE9pw: Downloading m3u8 information\n",
      "[info] laVkWgZE9pw: Downloading 1 format(s): 251\n",
      "[download] Destination: C:\\Users\\arwin\\Documents\\dev\\APS360-PROJECT\\data\\billboard_audio\\Lil Baby_Social Distancing\\Lil Baby_Social Distancing.webm\n",
      "[download] 100% of    2.39MiB in 00:00:00 at 7.08MiB/s   \n",
      "[download] Finished downloading playlist: Lil Baby Social Distancing\n",
      "[generic] Extracting URL: H_E_R_ Featuring YG Slide\n",
      "[youtube:search] Extracting URL: ytsearch:H_E_R_ Featuring YG Slide\n",
      "[download] Downloading playlist: H_E_R_ Featuring YG Slide\n",
      "[youtube:search] query \"H_E_R_ Featuring YG Slide\": Downloading web client config\n",
      "[youtube:search] query \"H_E_R_ Featuring YG Slide\" page 1: Downloading API JSON\n",
      "[youtube:search] Playlist H_E_R_ Featuring YG Slide: Downloading 1 items of 1\n",
      "[download] Downloading item 1 of 1\n",
      "[youtube] Extracting URL: https://www.youtube.com/watch?v=SUJloylmEZM\n",
      "[youtube] SUJloylmEZM: Downloading webpage\n",
      "[youtube] SUJloylmEZM: Downloading ios player API JSON\n",
      "[youtube] SUJloylmEZM: Downloading android player API JSON\n",
      "[youtube] SUJloylmEZM: Downloading m3u8 information\n",
      "[info] SUJloylmEZM: Downloading 1 format(s): 251\n",
      "[download] Destination: C:\\Users\\arwin\\Documents\\dev\\APS360-PROJECT\\data\\billboard_audio\\H_E_R_ Featuring YG_Slide\\H_E_R_ Featuring YG_Slide.webm\n",
      "[download] 100% of    4.30MiB in 00:00:00 at 6.82MiB/s   \n",
      "[download] Finished downloading playlist: H_E_R_ Featuring YG Slide\n",
      "[generic] Extracting URL: Lil Baby Low Down\n",
      "[youtube:search] Extracting URL: ytsearch:Lil Baby Low Down\n",
      "[download] Downloading playlist: Lil Baby Low Down\n",
      "[youtube:search] query \"Lil Baby Low Down\": Downloading web client config\n",
      "[youtube:search] query \"Lil Baby Low Down\" page 1: Downloading API JSON\n",
      "[youtube:search] Playlist Lil Baby Low Down: Downloading 1 items of 1\n",
      "[download] Downloading item 1 of 1\n",
      "[youtube] Extracting URL: https://www.youtube.com/watch?v=NTbFn09LLuE\n",
      "[youtube] NTbFn09LLuE: Downloading webpage\n",
      "[youtube] NTbFn09LLuE: Downloading ios player API JSON\n",
      "[youtube] NTbFn09LLuE: Downloading android player API JSON\n",
      "[youtube] NTbFn09LLuE: Downloading m3u8 information\n",
      "[info] NTbFn09LLuE: Downloading 1 format(s): 251\n",
      "[download] Destination: C:\\Users\\arwin\\Documents\\dev\\APS360-PROJECT\\data\\billboard_audio\\Lil Baby_Low Down\\Lil Baby_Low Down.webm\n",
      "[download] 100% of    2.52MiB in 00:00:00 at 13.97MiB/s  \n",
      "[download] Finished downloading playlist: Lil Baby Low Down\n",
      "[generic] Extracting URL: Lil Baby Humble\n",
      "[youtube:search] Extracting URL: ytsearch:Lil Baby Humble\n",
      "[download] Downloading playlist: Lil Baby Humble\n",
      "[youtube:search] query \"Lil Baby Humble\": Downloading web client config\n",
      "[youtube:search] query \"Lil Baby Humble\" page 1: Downloading API JSON\n",
      "[youtube:search] Playlist Lil Baby Humble: Downloading 1 items of 1\n",
      "[download] Downloading item 1 of 1\n",
      "[youtube] Extracting URL: https://www.youtube.com/watch?v=LnKOxbwFAVs\n",
      "[youtube] LnKOxbwFAVs: Downloading webpage\n",
      "[youtube] LnKOxbwFAVs: Downloading ios player API JSON\n",
      "[youtube] LnKOxbwFAVs: Downloading android player API JSON\n",
      "[youtube] LnKOxbwFAVs: Downloading m3u8 information\n",
      "[info] LnKOxbwFAVs: Downloading 1 format(s): 251\n",
      "[download] Destination: C:\\Users\\arwin\\Documents\\dev\\APS360-PROJECT\\data\\billboard_audio\\Lil Baby_Humble\\Lil Baby_Humble.webm\n",
      "[download] 100% of    3.33MiB in 00:00:00 at 11.72MiB/s    \n",
      "[download] Finished downloading playlist: Lil Baby Humble\n",
      "[generic] Extracting URL: Lil Baby & Gunna Heatin Up\n",
      "[youtube:search] Extracting URL: ytsearch:Lil Baby & Gunna Heatin Up\n",
      "[download] Downloading playlist: Lil Baby & Gunna Heatin Up\n",
      "[youtube:search] query \"Lil Baby & Gunna Heatin Up\": Downloading web client config\n",
      "[youtube:search] query \"Lil Baby & Gunna Heatin Up\" page 1: Downloading API JSON\n",
      "[youtube:search] Playlist Lil Baby & Gunna Heatin Up: Downloading 1 items of 1\n",
      "[download] Downloading item 1 of 1\n",
      "[youtube] Extracting URL: https://www.youtube.com/watch?v=Dpsk-Evr8GM\n",
      "[youtube] Dpsk-Evr8GM: Downloading webpage\n",
      "[youtube] Dpsk-Evr8GM: Downloading ios player API JSON\n",
      "[youtube] Dpsk-Evr8GM: Downloading android player API JSON\n",
      "[youtube] Dpsk-Evr8GM: Downloading m3u8 information\n",
      "[info] Dpsk-Evr8GM: Downloading 1 format(s): 251\n",
      "[download] Destination: C:\\Users\\arwin\\Documents\\dev\\APS360-PROJECT\\data\\billboard_audio\\Lil Baby & Gunna_Heatin Up\\Lil Baby & Gunna_Heatin Up.webm\n",
      "[download] 100% of    3.52MiB in 00:00:00 at 3.69MiB/s   \n",
      "[download] Finished downloading playlist: Lil Baby & Gunna Heatin Up\n",
      "[generic] Extracting URL: Summer Walker & Usher Come Thru\n",
      "[youtube:search] Extracting URL: ytsearch:Summer Walker & Usher Come Thru\n",
      "[download] Downloading playlist: Summer Walker & Usher Come Thru\n",
      "[youtube:search] query \"Summer Walker & Usher Come Thru\": Downloading web client config\n",
      "[youtube:search] query \"Summer Walker & Usher Come Thru\" page 1: Downloading API JSON\n",
      "[youtube:search] Playlist Summer Walker & Usher Come Thru: Downloading 1 items of 1\n",
      "[download] Downloading item 1 of 1\n",
      "[youtube] Extracting URL: https://www.youtube.com/watch?v=BOaJloEPUCg\n",
      "[youtube] BOaJloEPUCg: Downloading webpage\n",
      "[youtube] BOaJloEPUCg: Downloading ios player API JSON\n",
      "[youtube] BOaJloEPUCg: Downloading android player API JSON\n"
     ]
    },
    {
     "name": "stderr",
     "output_type": "stream",
     "text": [
      "WARNING: [youtube] YouTube said: ERROR - Precondition check failed.\n",
      "WARNING: [youtube] HTTP Error 400: Bad Request. Retrying (1/3)...\n"
     ]
    },
    {
     "name": "stdout",
     "output_type": "stream",
     "text": [
      "[youtube] BOaJloEPUCg: Downloading android player API JSON\n",
      "[youtube] BOaJloEPUCg: Downloading m3u8 information\n",
      "[info] BOaJloEPUCg: Downloading 1 format(s): 251\n",
      "[download] Destination: C:\\Users\\arwin\\Documents\\dev\\APS360-PROJECT\\data\\billboard_audio\\Summer Walker & Usher_Come Thru\\Summer Walker & Usher_Come Thru.webm\n",
      "[download] 100% of    3.12MiB in 00:00:01 at 1.72MiB/s   \n",
      "[download] Finished downloading playlist: Summer Walker & Usher Come Thru\n",
      "[generic] Extracting URL: DaBaby Find My Way\n",
      "[youtube:search] Extracting URL: ytsearch:DaBaby Find My Way\n",
      "[download] Downloading playlist: DaBaby Find My Way\n",
      "[youtube:search] query \"DaBaby Find My Way\": Downloading web client config\n",
      "[youtube:search] query \"DaBaby Find My Way\" page 1: Downloading API JSON\n",
      "[youtube:search] Playlist DaBaby Find My Way: Downloading 1 items of 1\n",
      "[download] Downloading item 1 of 1\n",
      "[youtube] Extracting URL: https://www.youtube.com/watch?v=gmK_gaE5v9A\n",
      "[youtube] gmK_gaE5v9A: Downloading webpage\n",
      "[youtube] gmK_gaE5v9A: Downloading ios player API JSON\n",
      "[youtube] gmK_gaE5v9A: Downloading android player API JSON\n"
     ]
    },
    {
     "name": "stderr",
     "output_type": "stream",
     "text": [
      "WARNING: [youtube] YouTube said: ERROR - Precondition check failed.\n",
      "WARNING: [youtube] HTTP Error 400: Bad Request. Retrying (1/3)...\n"
     ]
    },
    {
     "name": "stdout",
     "output_type": "stream",
     "text": [
      "[youtube] gmK_gaE5v9A: Downloading android player API JSON\n"
     ]
    },
    {
     "name": "stderr",
     "output_type": "stream",
     "text": [
      "WARNING: [youtube] YouTube said: ERROR - Precondition check failed.\n",
      "WARNING: [youtube] HTTP Error 400: Bad Request. Retrying (2/3)...\n"
     ]
    },
    {
     "name": "stdout",
     "output_type": "stream",
     "text": [
      "[youtube] gmK_gaE5v9A: Downloading android player API JSON\n"
     ]
    },
    {
     "name": "stderr",
     "output_type": "stream",
     "text": [
      "WARNING: [youtube] YouTube said: ERROR - Precondition check failed.\n",
      "WARNING: [youtube] HTTP Error 400: Bad Request. Retrying (3/3)...\n"
     ]
    },
    {
     "name": "stdout",
     "output_type": "stream",
     "text": [
      "[youtube] gmK_gaE5v9A: Downloading android player API JSON\n",
      "[youtube] gmK_gaE5v9A: Downloading m3u8 information\n",
      "[info] gmK_gaE5v9A: Downloading 1 format(s): 251\n",
      "[download] Destination: C:\\Users\\arwin\\Documents\\dev\\APS360-PROJECT\\data\\billboard_audio\\DaBaby_Find My Way\\DaBaby_Find My Way.webm\n",
      "[download] 100% of    9.54MiB in 00:00:01 at 7.48MiB/s   \n",
      "[download] Finished downloading playlist: DaBaby Find My Way\n",
      "[generic] Extracting URL: Arizona Zervas Roxanne\n",
      "[youtube:search] Extracting URL: ytsearch:Arizona Zervas Roxanne\n",
      "[download] Downloading playlist: Arizona Zervas Roxanne\n",
      "[youtube:search] query \"Arizona Zervas Roxanne\": Downloading web client config\n",
      "[youtube:search] query \"Arizona Zervas Roxanne\" page 1: Downloading API JSON\n",
      "[youtube:search] Playlist Arizona Zervas Roxanne: Downloading 1 items of 1\n",
      "[download] Downloading item 1 of 1\n",
      "[youtube] Extracting URL: https://www.youtube.com/watch?v=16YnOUnbE6s\n",
      "[youtube] 16YnOUnbE6s: Downloading webpage\n",
      "[youtube] 16YnOUnbE6s: Downloading ios player API JSON\n",
      "[youtube] 16YnOUnbE6s: Downloading android player API JSON\n",
      "[youtube] 16YnOUnbE6s: Downloading m3u8 information\n",
      "[info] 16YnOUnbE6s: Downloading 1 format(s): 251\n",
      "[download] Destination: C:\\Users\\arwin\\Documents\\dev\\APS360-PROJECT\\data\\billboard_audio\\Arizona Zervas_Roxanne\\Arizona Zervas_Roxanne.webm\n",
      "[download] 100% of    2.91MiB in 00:00:00 at 9.95MiB/s   \n",
      "[download] Finished downloading playlist: Arizona Zervas Roxanne\n",
      "[generic] Extracting URL: Travis Scott HIGHEST IN THE ROOM\n",
      "[youtube:search] Extracting URL: ytsearch:Travis Scott HIGHEST IN THE ROOM\n",
      "[download] Downloading playlist: Travis Scott HIGHEST IN THE ROOM\n",
      "[youtube:search] query \"Travis Scott HIGHEST IN THE ROOM\": Downloading web client config\n",
      "[youtube:search] query \"Travis Scott HIGHEST IN THE ROOM\" page 1: Downloading API JSON\n",
      "[youtube:search] Playlist Travis Scott HIGHEST IN THE ROOM: Downloading 1 items of 1\n",
      "[download] Downloading item 1 of 1\n",
      "[youtube] Extracting URL: https://www.youtube.com/watch?v=tfSS1e3kYeo\n",
      "[youtube] tfSS1e3kYeo: Downloading webpage\n",
      "[youtube] tfSS1e3kYeo: Downloading ios player API JSON\n",
      "[youtube] tfSS1e3kYeo: Downloading android player API JSON\n",
      "[youtube] tfSS1e3kYeo: Downloading m3u8 information\n",
      "[info] tfSS1e3kYeo: Downloading 1 format(s): 251\n",
      "[download] Destination: C:\\Users\\arwin\\Documents\\dev\\APS360-PROJECT\\data\\billboard_audio\\Travis Scott_HIGHEST IN THE ROOM\\Travis Scott_HIGHEST IN THE ROOM.webm\n",
      "[download] 100% of    2.93MiB in 00:00:00 at 12.83MiB/s  \n",
      "[download] Finished downloading playlist: Travis Scott HIGHEST IN THE ROOM\n",
      "[generic] Extracting URL: Dan + Shay & Justin Bieber 10,000 Hours\n",
      "[youtube:search] Extracting URL: ytsearch:Dan + Shay & Justin Bieber 10,000 Hours\n",
      "[download] Downloading playlist: Dan + Shay & Justin Bieber 10,000 Hours\n",
      "[youtube:search] query \"Dan + Shay & Justin Bieber 10,000 Hours\": Downloading web client config\n",
      "[youtube:search] query \"Dan + Shay & Justin Bieber 10,000 Hours\" page 1: Downloading API JSON\n",
      "[youtube:search] Playlist Dan + Shay & Justin Bieber 10,000 Hours: Downloading 1 items of 1\n",
      "[download] Downloading item 1 of 1\n",
      "[youtube] Extracting URL: https://www.youtube.com/watch?v=Y2E71oe0aSM\n",
      "[youtube] Y2E71oe0aSM: Downloading webpage\n",
      "[youtube] Y2E71oe0aSM: Downloading ios player API JSON\n",
      "[youtube] Y2E71oe0aSM: Downloading android player API JSON\n",
      "[youtube] Y2E71oe0aSM: Downloading m3u8 information\n",
      "[info] Y2E71oe0aSM: Downloading 1 format(s): 251\n",
      "[download] Destination: C:\\Users\\arwin\\Documents\\dev\\APS360-PROJECT\\data\\billboard_audio\\Dan + Shay & Justin Bieber_10,000 Hours\\Dan + Shay & Justin Bieber_10,000 Hours.webm\n",
      "[download] 100% of    2.75MiB in 00:00:00 at 11.57MiB/s  \n",
      "[download] Finished downloading playlist: Dan + Shay & Justin Bieber 10,000 Hours\n",
      "[generic] Extracting URL: Lil Uzi Vert Sasuke\n",
      "[youtube:search] Extracting URL: ytsearch:Lil Uzi Vert Sasuke\n",
      "[download] Downloading playlist: Lil Uzi Vert Sasuke\n",
      "[youtube:search] query \"Lil Uzi Vert Sasuke\": Downloading web client config\n",
      "[youtube:search] query \"Lil Uzi Vert Sasuke\" page 1: Downloading API JSON\n",
      "[youtube:search] Playlist Lil Uzi Vert Sasuke: Downloading 1 items of 1\n",
      "[download] Downloading item 1 of 1\n",
      "[youtube] Extracting URL: https://www.youtube.com/watch?v=N_aTpyR1TBY\n",
      "[youtube] N_aTpyR1TBY: Downloading webpage\n",
      "[youtube] N_aTpyR1TBY: Downloading ios player API JSON\n",
      "[youtube] N_aTpyR1TBY: Downloading android player API JSON\n"
     ]
    },
    {
     "name": "stderr",
     "output_type": "stream",
     "text": [
      "WARNING: [youtube] YouTube said: ERROR - Precondition check failed.\n",
      "WARNING: [youtube] HTTP Error 400: Bad Request. Retrying (1/3)...\n"
     ]
    },
    {
     "name": "stdout",
     "output_type": "stream",
     "text": [
      "[youtube] N_aTpyR1TBY: Downloading android player API JSON\n"
     ]
    },
    {
     "name": "stderr",
     "output_type": "stream",
     "text": [
      "WARNING: [youtube] YouTube said: ERROR - Precondition check failed.\n",
      "WARNING: [youtube] HTTP Error 400: Bad Request. Retrying (2/3)...\n"
     ]
    },
    {
     "name": "stdout",
     "output_type": "stream",
     "text": [
      "[youtube] N_aTpyR1TBY: Downloading android player API JSON\n"
     ]
    },
    {
     "name": "stderr",
     "output_type": "stream",
     "text": [
      "WARNING: [youtube] YouTube said: ERROR - Precondition check failed.\n",
      "WARNING: [youtube] HTTP Error 400: Bad Request. Retrying (3/3)...\n"
     ]
    },
    {
     "name": "stdout",
     "output_type": "stream",
     "text": [
      "[youtube] N_aTpyR1TBY: Downloading android player API JSON\n"
     ]
    },
    {
     "name": "stderr",
     "output_type": "stream",
     "text": [
      "WARNING: [youtube] YouTube said: ERROR - Precondition check failed.\n",
      "WARNING: [youtube] Unable to download API page: HTTP Error 400: Bad Request (caused by <HTTPError 400: Bad Request>); please report this issue on  https://github.com/yt-dlp/yt-dlp/issues?q= , filling out the appropriate issue template. Confirm you are on the latest version using  yt-dlp -U\n"
     ]
    },
    {
     "name": "stdout",
     "output_type": "stream",
     "text": [
      "[youtube] N_aTpyR1TBY: Downloading m3u8 information\n",
      "[info] N_aTpyR1TBY: Downloading 1 format(s): 251\n",
      "[download] Destination: C:\\Users\\arwin\\Documents\\dev\\APS360-PROJECT\\data\\billboard_audio\\Lil Uzi Vert_Sasuke\\Lil Uzi Vert_Sasuke.webm\n",
      "[download] 100% of    4.05MiB in 00:00:00 at 11.71MiB/s  \n",
      "[download] Finished downloading playlist: Lil Uzi Vert Sasuke\n",
      "[generic] Extracting URL: YoungBoy Never Broke Again Ain't Easy\n",
      "[youtube:search] Extracting URL: ytsearch:YoungBoy Never Broke Again Ain't Easy\n",
      "[download] Downloading playlist: YoungBoy Never Broke Again Ain't Easy\n",
      "[youtube:search] query \"YoungBoy Never Broke Again Ain't Easy\": Downloading web client config\n",
      "[youtube:search] query \"YoungBoy Never Broke Again Ain't Easy\" page 1: Downloading API JSON\n",
      "[youtube:search] Playlist YoungBoy Never Broke Again Ain't Easy: Downloading 1 items of 1\n",
      "[download] Downloading item 1 of 1\n",
      "[youtube] Extracting URL: https://www.youtube.com/watch?v=3j-or6VpxBI\n",
      "[youtube] 3j-or6VpxBI: Downloading webpage\n",
      "[youtube] 3j-or6VpxBI: Downloading ios player API JSON\n",
      "[youtube] 3j-or6VpxBI: Downloading android player API JSON\n"
     ]
    },
    {
     "name": "stderr",
     "output_type": "stream",
     "text": [
      "WARNING: [youtube] YouTube said: ERROR - Precondition check failed.\n",
      "WARNING: [youtube] HTTP Error 400: Bad Request. Retrying (1/3)...\n"
     ]
    },
    {
     "name": "stdout",
     "output_type": "stream",
     "text": [
      "[youtube] 3j-or6VpxBI: Downloading android player API JSON\n",
      "[youtube] 3j-or6VpxBI: Downloading m3u8 information\n",
      "[info] 3j-or6VpxBI: Downloading 1 format(s): 251\n",
      "[download] Destination: C:\\Users\\arwin\\Documents\\dev\\APS360-PROJECT\\data\\billboard_audio\\YoungBoy Never Broke Again_Ain't Easy\\YoungBoy Never Broke Again_Ain't Easy.webm\n",
      "[download] 100% of    2.57MiB in 00:00:00 at 13.00MiB/s    \n",
      "[download] Finished downloading playlist: YoungBoy Never Broke Again Ain't Easy\n",
      "[generic] Extracting URL: Lil Uzi Vert Myron\n",
      "[youtube:search] Extracting URL: ytsearch:Lil Uzi Vert Myron\n",
      "[download] Downloading playlist: Lil Uzi Vert Myron\n",
      "[youtube:search] query \"Lil Uzi Vert Myron\": Downloading web client config\n",
      "[youtube:search] query \"Lil Uzi Vert Myron\" page 1: Downloading API JSON\n",
      "[youtube:search] Playlist Lil Uzi Vert Myron: Downloading 1 items of 1\n",
      "[download] Downloading item 1 of 1\n",
      "[youtube] Extracting URL: https://www.youtube.com/watch?v=Bt-brUAx3Uo\n",
      "[youtube] Bt-brUAx3Uo: Downloading webpage\n",
      "[youtube] Bt-brUAx3Uo: Downloading ios player API JSON\n",
      "[youtube] Bt-brUAx3Uo: Downloading android player API JSON\n"
     ]
    },
    {
     "name": "stderr",
     "output_type": "stream",
     "text": [
      "WARNING: [youtube] YouTube said: ERROR - Precondition check failed.\n",
      "WARNING: [youtube] HTTP Error 400: Bad Request. Retrying (1/3)...\n"
     ]
    },
    {
     "name": "stdout",
     "output_type": "stream",
     "text": [
      "[youtube] Bt-brUAx3Uo: Downloading android player API JSON\n"
     ]
    },
    {
     "name": "stderr",
     "output_type": "stream",
     "text": [
      "WARNING: [youtube] YouTube said: ERROR - Precondition check failed.\n",
      "WARNING: [youtube] HTTP Error 400: Bad Request. Retrying (2/3)...\n"
     ]
    },
    {
     "name": "stdout",
     "output_type": "stream",
     "text": [
      "[youtube] Bt-brUAx3Uo: Downloading android player API JSON\n"
     ]
    },
    {
     "name": "stderr",
     "output_type": "stream",
     "text": [
      "WARNING: [youtube] YouTube said: ERROR - Precondition check failed.\n",
      "WARNING: [youtube] HTTP Error 400: Bad Request. Retrying (3/3)...\n"
     ]
    },
    {
     "name": "stdout",
     "output_type": "stream",
     "text": [
      "[youtube] Bt-brUAx3Uo: Downloading android player API JSON\n"
     ]
    },
    {
     "name": "stderr",
     "output_type": "stream",
     "text": [
      "WARNING: [youtube] YouTube said: ERROR - Precondition check failed.\n",
      "WARNING: [youtube] Unable to download API page: HTTP Error 400: Bad Request (caused by <HTTPError 400: Bad Request>); please report this issue on  https://github.com/yt-dlp/yt-dlp/issues?q= , filling out the appropriate issue template. Confirm you are on the latest version using  yt-dlp -U\n"
     ]
    },
    {
     "name": "stdout",
     "output_type": "stream",
     "text": [
      "[youtube] Bt-brUAx3Uo: Downloading m3u8 information\n",
      "[info] Bt-brUAx3Uo: Downloading 1 format(s): 251\n",
      "[download] Destination: C:\\Users\\arwin\\Documents\\dev\\APS360-PROJECT\\data\\billboard_audio\\Lil Uzi Vert_Myron\\Lil Uzi Vert_Myron.webm\n",
      "[download] 100% of    3.89MiB in 00:00:00 at 16.39MiB/s  \n",
      "[download] Finished downloading playlist: Lil Uzi Vert Myron\n",
      "[generic] Extracting URL: Megan Thee Stallion Captain Hook\n",
      "[youtube:search] Extracting URL: ytsearch:Megan Thee Stallion Captain Hook\n",
      "[download] Downloading playlist: Megan Thee Stallion Captain Hook\n",
      "[youtube:search] query \"Megan Thee Stallion Captain Hook\": Downloading web client config\n",
      "[youtube:search] query \"Megan Thee Stallion Captain Hook\" page 1: Downloading API JSON\n",
      "[youtube:search] Playlist Megan Thee Stallion Captain Hook: Downloading 1 items of 1\n",
      "[download] Downloading item 1 of 1\n",
      "[youtube] Extracting URL: https://www.youtube.com/watch?v=n5LWsc-qCdA\n",
      "[youtube] n5LWsc-qCdA: Downloading webpage\n",
      "[youtube] n5LWsc-qCdA: Downloading ios player API JSON\n",
      "[youtube] n5LWsc-qCdA: Downloading android player API JSON\n",
      "[youtube] n5LWsc-qCdA: Downloading m3u8 information\n",
      "[info] n5LWsc-qCdA: Downloading 1 format(s): 251\n",
      "[download] Destination: C:\\Users\\arwin\\Documents\\dev\\APS360-PROJECT\\data\\billboard_audio\\Megan Thee Stallion_Captain Hook\\Megan Thee Stallion_Captain Hook.webm\n",
      "[download] 100% of    2.82MiB in 00:00:00 at 8.59MiB/s     \n",
      "[download] Finished downloading playlist: Megan Thee Stallion Captain Hook\n",
      "[generic] Extracting URL: YoungBoy Never Broke Again Featuring Sherhonda Gaulden Bout My Business\n",
      "[youtube:search] Extracting URL: ytsearch:YoungBoy Never Broke Again Featuring Sherhonda Gaulden Bout My Business\n",
      "[download] Downloading playlist: YoungBoy Never Broke Again Featuring Sherhonda Gaulden Bout My Business\n",
      "[youtube:search] query \"YoungBoy Never Broke Again Featuring Sherhonda Gaulden Bout My Business\": Downloading web client config\n",
      "[youtube:search] query \"YoungBoy Never Broke Again Featuring Sherhonda Gaulden Bout My Business\" page 1: Downloading API JSON\n",
      "[youtube:search] Playlist YoungBoy Never Broke Again Featuring Sherhonda Gaulden Bout My Business: Downloading 1 items of 1\n",
      "[download] Downloading item 1 of 1\n",
      "[youtube] Extracting URL: https://www.youtube.com/watch?v=Tx8abdbcj3o\n",
      "[youtube] Tx8abdbcj3o: Downloading webpage\n",
      "[youtube] Tx8abdbcj3o: Downloading ios player API JSON\n",
      "[youtube] Tx8abdbcj3o: Downloading android player API JSON\n"
     ]
    },
    {
     "name": "stderr",
     "output_type": "stream",
     "text": [
      "WARNING: [youtube] YouTube said: ERROR - Precondition check failed.\n",
      "WARNING: [youtube] HTTP Error 400: Bad Request. Retrying (1/3)...\n"
     ]
    },
    {
     "name": "stdout",
     "output_type": "stream",
     "text": [
      "[youtube] Tx8abdbcj3o: Downloading android player API JSON\n",
      "[youtube] Tx8abdbcj3o: Downloading m3u8 information\n",
      "[info] Tx8abdbcj3o: Downloading 1 format(s): 251\n",
      "[download] Destination: C:\\Users\\arwin\\Documents\\dev\\APS360-PROJECT\\data\\billboard_audio\\YoungBoy Never Broke Again Featuring Sherhonda Gaulden_Bout My Business\\YoungBoy Never Broke Again Featuring Sherhonda Gaulden_Bout My Business.webm\n",
      "[download] 100% of    3.03MiB in 00:00:00 at 9.90MiB/s   \n",
      "[download] Finished downloading playlist: YoungBoy Never Broke Again Featuring Sherhonda Gaulden Bout My Business\n",
      "[generic] Extracting URL: YoungBoy Never Broke Again Rough Ryder\n",
      "[youtube:search] Extracting URL: ytsearch:YoungBoy Never Broke Again Rough Ryder\n",
      "[download] Downloading playlist: YoungBoy Never Broke Again Rough Ryder\n",
      "[youtube:search] query \"YoungBoy Never Broke Again Rough Ryder\": Downloading web client config\n",
      "[youtube:search] query \"YoungBoy Never Broke Again Rough Ryder\" page 1: Downloading API JSON\n",
      "[youtube:search] Playlist YoungBoy Never Broke Again Rough Ryder: Downloading 1 items of 1\n",
      "[download] Downloading item 1 of 1\n",
      "[youtube] Extracting URL: https://www.youtube.com/watch?v=ebybCJa7rcw\n",
      "[youtube] ebybCJa7rcw: Downloading webpage\n",
      "[youtube] ebybCJa7rcw: Downloading ios player API JSON\n",
      "[youtube] ebybCJa7rcw: Downloading android player API JSON\n",
      "[youtube] ebybCJa7rcw: Downloading m3u8 information\n",
      "[info] ebybCJa7rcw: Downloading 1 format(s): 251\n",
      "[download] Destination: C:\\Users\\arwin\\Documents\\dev\\APS360-PROJECT\\data\\billboard_audio\\YoungBoy Never Broke Again_Rough Ryder\\YoungBoy Never Broke Again_Rough Ryder.webm\n",
      "[download] 100% of    2.55MiB in 00:00:00 at 9.38MiB/s   \n",
      "[download] Finished downloading playlist: YoungBoy Never Broke Again Rough Ryder\n",
      "[generic] Extracting URL: Alicia Keys Underdog\n",
      "[youtube:search] Extracting URL: ytsearch:Alicia Keys Underdog\n",
      "[download] Downloading playlist: Alicia Keys Underdog\n",
      "[youtube:search] query \"Alicia Keys Underdog\": Downloading web client config\n",
      "[youtube:search] query \"Alicia Keys Underdog\" page 1: Downloading API JSON\n",
      "[youtube:search] Playlist Alicia Keys Underdog: Downloading 1 items of 1\n",
      "[download] Downloading item 1 of 1\n",
      "[youtube] Extracting URL: https://www.youtube.com/watch?v=izyZLKIWGiA\n",
      "[youtube] izyZLKIWGiA: Downloading webpage\n",
      "[youtube] izyZLKIWGiA: Downloading ios player API JSON\n",
      "[youtube] izyZLKIWGiA: Downloading android player API JSON\n",
      "[youtube] izyZLKIWGiA: Downloading m3u8 information\n",
      "[info] izyZLKIWGiA: Downloading 1 format(s): 251\n",
      "[download] Destination: C:\\Users\\arwin\\Documents\\dev\\APS360-PROJECT\\data\\billboard_audio\\Alicia Keys_Underdog\\Alicia Keys_Underdog.webm\n",
      "[download] 100% of    3.27MiB in 00:00:00 at 5.48MiB/s   \n",
      "[download] Finished downloading playlist: Alicia Keys Underdog\n",
      "[generic] Extracting URL: DaBaby Featuring Ashanti & Megan Thee Stallion NASTY\n",
      "[youtube:search] Extracting URL: ytsearch:DaBaby Featuring Ashanti & Megan Thee Stallion NASTY\n",
      "[download] Downloading playlist: DaBaby Featuring Ashanti & Megan Thee Stallion NASTY\n",
      "[youtube:search] query \"DaBaby Featuring Ashanti & Megan Thee Stallion NASTY\": Downloading web client config\n",
      "[youtube:search] query \"DaBaby Featuring Ashanti & Megan Thee Stallion NASTY\" page 1: Downloading API JSON\n",
      "[youtube:search] Playlist DaBaby Featuring Ashanti & Megan Thee Stallion NASTY: Downloading 1 items of 1\n",
      "[download] Downloading item 1 of 1\n",
      "[youtube] Extracting URL: https://www.youtube.com/watch?v=F4TA9lWbJGc\n",
      "[youtube] F4TA9lWbJGc: Downloading webpage\n",
      "[youtube] F4TA9lWbJGc: Downloading ios player API JSON\n",
      "[youtube] F4TA9lWbJGc: Downloading android player API JSON\n"
     ]
    },
    {
     "name": "stderr",
     "output_type": "stream",
     "text": [
      "WARNING: [youtube] YouTube said: ERROR - Precondition check failed.\n",
      "WARNING: [youtube] HTTP Error 400: Bad Request. Retrying (1/3)...\n"
     ]
    },
    {
     "name": "stdout",
     "output_type": "stream",
     "text": [
      "[youtube] F4TA9lWbJGc: Downloading android player API JSON\n",
      "[youtube] F4TA9lWbJGc: Downloading m3u8 information\n",
      "[info] F4TA9lWbJGc: Downloading 1 format(s): 251\n",
      "[download] Destination: C:\\Users\\arwin\\Documents\\dev\\APS360-PROJECT\\data\\billboard_audio\\DaBaby Featuring Ashanti & Megan Thee Stallion_NASTY\\DaBaby Featuring Ashanti & Megan Thee Stallion_NASTY.webm\n",
      "[download] 100% of    3.54MiB in 00:00:00 at 3.83MiB/s   \n",
      "[download] Finished downloading playlist: DaBaby Featuring Ashanti & Megan Thee Stallion NASTY\n",
      "[generic] Extracting URL: G Herbo Featuring Chance The Rapper, Juice WRLD & Lil Uzi Vert PTSD\n",
      "[youtube:search] Extracting URL: ytsearch:G Herbo Featuring Chance The Rapper, Juice WRLD & Lil Uzi Vert PTSD\n",
      "[download] Downloading playlist: G Herbo Featuring Chance The Rapper, Juice WRLD & Lil Uzi Vert PTSD\n",
      "[youtube:search] query \"G Herbo Featuring Chance The Rapper, Juice WRLD & Lil Uzi Vert PTSD\": Downloading web client config\n",
      "[youtube:search] query \"G Herbo Featuring Chance The Rapper, Juice WRLD & Lil Uzi Vert PTSD\" page 1: Downloading API JSON\n",
      "[youtube:search] Playlist G Herbo Featuring Chance The Rapper, Juice WRLD & Lil Uzi Vert PTSD: Downloading 1 items of 1\n",
      "[download] Downloading item 1 of 1\n",
      "[youtube] Extracting URL: https://www.youtube.com/watch?v=k3-fAXbCa44\n",
      "[youtube] k3-fAXbCa44: Downloading webpage\n",
      "[youtube] k3-fAXbCa44: Downloading ios player API JSON\n",
      "[youtube] k3-fAXbCa44: Downloading android player API JSON\n"
     ]
    },
    {
     "name": "stderr",
     "output_type": "stream",
     "text": [
      "WARNING: [youtube] YouTube said: ERROR - Precondition check failed.\n",
      "WARNING: [youtube] HTTP Error 400: Bad Request. Retrying (1/3)...\n"
     ]
    },
    {
     "name": "stdout",
     "output_type": "stream",
     "text": [
      "[youtube] k3-fAXbCa44: Downloading android player API JSON\n"
     ]
    },
    {
     "name": "stderr",
     "output_type": "stream",
     "text": [
      "WARNING: [youtube] YouTube said: ERROR - Precondition check failed.\n",
      "WARNING: [youtube] HTTP Error 400: Bad Request. Retrying (2/3)...\n"
     ]
    },
    {
     "name": "stdout",
     "output_type": "stream",
     "text": [
      "[youtube] k3-fAXbCa44: Downloading android player API JSON\n"
     ]
    },
    {
     "name": "stderr",
     "output_type": "stream",
     "text": [
      "WARNING: [youtube] YouTube said: ERROR - Precondition check failed.\n",
      "WARNING: [youtube] HTTP Error 400: Bad Request. Retrying (3/3)...\n"
     ]
    },
    {
     "name": "stdout",
     "output_type": "stream",
     "text": [
      "[youtube] k3-fAXbCa44: Downloading android player API JSON\n"
     ]
    },
    {
     "name": "stderr",
     "output_type": "stream",
     "text": [
      "WARNING: [youtube] YouTube said: ERROR - Precondition check failed.\n",
      "WARNING: [youtube] Unable to download API page: HTTP Error 400: Bad Request (caused by <HTTPError 400: Bad Request>); please report this issue on  https://github.com/yt-dlp/yt-dlp/issues?q= , filling out the appropriate issue template. Confirm you are on the latest version using  yt-dlp -U\n"
     ]
    },
    {
     "name": "stdout",
     "output_type": "stream",
     "text": [
      "[youtube] k3-fAXbCa44: Downloading m3u8 information\n",
      "[info] k3-fAXbCa44: Downloading 1 format(s): 251\n",
      "[download] Destination: C:\\Users\\arwin\\Documents\\dev\\APS360-PROJECT\\data\\billboard_audio\\G Herbo Featuring Chance The Rapper, Juice WRLD & Lil Uzi Vert_PTSD\\G Herbo Featuring Chance The Rapper, Juice WRLD & Lil Uzi Vert_PTSD.webm\n",
      "[download] 100% of    4.11MiB in 00:00:00 at 15.33MiB/s  \n",
      "[download] Finished downloading playlist: G Herbo Featuring Chance The Rapper, Juice WRLD & Lil Uzi Vert PTSD\n",
      "[generic] Extracting URL: YoungBoy Never Broke Again Featuring DaBaby Thug Of Spades\n",
      "[youtube:search] Extracting URL: ytsearch:YoungBoy Never Broke Again Featuring DaBaby Thug Of Spades\n",
      "[download] Downloading playlist: YoungBoy Never Broke Again Featuring DaBaby Thug Of Spades\n",
      "[youtube:search] query \"YoungBoy Never Broke Again Featuring DaBaby Thug Of Spades\": Downloading web client config\n",
      "[youtube:search] query \"YoungBoy Never Broke Again Featuring DaBaby Thug Of Spades\" page 1: Downloading API JSON\n",
      "[youtube:search] Playlist YoungBoy Never Broke Again Featuring DaBaby Thug Of Spades: Downloading 1 items of 1\n",
      "[download] Downloading item 1 of 1\n",
      "[youtube] Extracting URL: https://www.youtube.com/watch?v=09h9QVng3J0\n",
      "[youtube] 09h9QVng3J0: Downloading webpage\n",
      "[youtube] 09h9QVng3J0: Downloading ios player API JSON\n",
      "[youtube] 09h9QVng3J0: Downloading android player API JSON\n",
      "[youtube] 09h9QVng3J0: Downloading m3u8 information\n",
      "[info] 09h9QVng3J0: Downloading 1 format(s): 251\n",
      "[download] Destination: C:\\Users\\arwin\\Documents\\dev\\APS360-PROJECT\\data\\billboard_audio\\YoungBoy Never Broke Again Featuring DaBaby_Thug Of Spades\\YoungBoy Never Broke Again Featuring DaBaby_Thug Of Spades.webm\n",
      "[download] 100% of    2.62MiB in 00:00:00 at 11.09MiB/s  \n",
      "[download] Finished downloading playlist: YoungBoy Never Broke Again Featuring DaBaby Thug Of Spades\n",
      "[generic] Extracting URL: Bad Bunny, Jowell & Randy & Nengo Flow Safaera\n",
      "[youtube:search] Extracting URL: ytsearch:Bad Bunny, Jowell & Randy & Nengo Flow Safaera\n",
      "[download] Downloading playlist: Bad Bunny, Jowell & Randy & Nengo Flow Safaera\n",
      "[youtube:search] query \"Bad Bunny, Jowell & Randy & Nengo Flow Safaera\": Downloading web client config\n",
      "[youtube:search] query \"Bad Bunny, Jowell & Randy & Nengo Flow Safaera\" page 1: Downloading API JSON\n",
      "[youtube:search] Playlist Bad Bunny, Jowell & Randy & Nengo Flow Safaera: Downloading 1 items of 1\n",
      "[download] Downloading item 1 of 1\n",
      "[youtube] Extracting URL: https://www.youtube.com/watch?v=jCQ_6XbATPc\n",
      "[youtube] jCQ_6XbATPc: Downloading webpage\n",
      "[youtube] jCQ_6XbATPc: Downloading ios player API JSON\n",
      "[youtube] jCQ_6XbATPc: Downloading android player API JSON\n",
      "[youtube] jCQ_6XbATPc: Downloading m3u8 information\n",
      "[info] jCQ_6XbATPc: Downloading 1 format(s): 251\n",
      "[download] Destination: C:\\Users\\arwin\\Documents\\dev\\APS360-PROJECT\\data\\billboard_audio\\Bad Bunny, Jowell & Randy & Nengo Flow_Safaera\\Bad Bunny, Jowell & Randy & Nengo Flow_Safaera.webm\n",
      "[download] 100% of    4.92MiB in 00:00:00 at 22.13MiB/s    \n",
      "[download] Finished downloading playlist: Bad Bunny, Jowell & Randy & Nengo Flow Safaera\n",
      "[generic] Extracting URL: Playboi Carti @ MEH\n",
      "[youtube:search] Extracting URL: ytsearch:Playboi Carti @ MEH\n",
      "[download] Downloading playlist: Playboi Carti @ MEH\n",
      "[youtube:search] query \"Playboi Carti @ MEH\": Downloading web client config\n",
      "[youtube:search] query \"Playboi Carti @ MEH\" page 1: Downloading API JSON\n",
      "[youtube:search] Playlist Playboi Carti @ MEH: Downloading 1 items of 1\n",
      "[download] Downloading item 1 of 1\n",
      "[youtube] Extracting URL: https://www.youtube.com/watch?v=nMDOSLEVdBw\n",
      "[youtube] nMDOSLEVdBw: Downloading webpage\n",
      "[youtube] nMDOSLEVdBw: Downloading ios player API JSON\n",
      "[youtube] nMDOSLEVdBw: Downloading android player API JSON\n"
     ]
    },
    {
     "name": "stderr",
     "output_type": "stream",
     "text": [
      "WARNING: [youtube] YouTube said: ERROR - Precondition check failed.\n",
      "WARNING: [youtube] HTTP Error 400: Bad Request. Retrying (1/3)...\n"
     ]
    },
    {
     "name": "stdout",
     "output_type": "stream",
     "text": [
      "[youtube] nMDOSLEVdBw: Downloading android player API JSON\n",
      "[youtube] nMDOSLEVdBw: Downloading m3u8 information\n",
      "[info] nMDOSLEVdBw: Downloading 1 format(s): 251\n",
      "[download] Destination: C:\\Users\\arwin\\Documents\\dev\\APS360-PROJECT\\data\\billboard_audio\\Playboi Carti_@ MEH\\Playboi Carti_@ MEH.webm\n",
      "[download] 100% of    2.97MiB in 00:00:00 at 8.64MiB/s     \n",
      "[download] Finished downloading playlist: Playboi Carti @ MEH\n",
      "[generic] Extracting URL: DaBaby BOP\n",
      "[youtube:search] Extracting URL: ytsearch:DaBaby BOP\n",
      "[download] Downloading playlist: DaBaby BOP\n",
      "[youtube:search] query \"DaBaby BOP\": Downloading web client config\n",
      "[youtube:search] query \"DaBaby BOP\" page 1: Downloading API JSON\n",
      "[youtube:search] Playlist DaBaby BOP: Downloading 1 items of 1\n",
      "[download] Downloading item 1 of 1\n",
      "[youtube] Extracting URL: https://www.youtube.com/watch?v=28hYUZMufDg\n",
      "[youtube] 28hYUZMufDg: Downloading webpage\n",
      "[youtube] 28hYUZMufDg: Downloading ios player API JSON\n",
      "[youtube] 28hYUZMufDg: Downloading android player API JSON\n"
     ]
    },
    {
     "name": "stderr",
     "output_type": "stream",
     "text": [
      "WARNING: [youtube] YouTube said: ERROR - Precondition check failed.\n",
      "WARNING: [youtube] HTTP Error 400: Bad Request. Retrying (1/3)...\n"
     ]
    },
    {
     "name": "stdout",
     "output_type": "stream",
     "text": [
      "[youtube] 28hYUZMufDg: Downloading android player API JSON\n",
      "[youtube] 28hYUZMufDg: Downloading m3u8 information\n",
      "[info] 28hYUZMufDg: Downloading 1 format(s): 251\n",
      "[download] Destination: C:\\Users\\arwin\\Documents\\dev\\APS360-PROJECT\\data\\billboard_audio\\DaBaby_BOP\\DaBaby_BOP.webm\n",
      "[download] 100% of    2.91MiB in 00:00:00 at 10.83MiB/s  \n",
      "[download] Finished downloading playlist: DaBaby BOP\n",
      "[generic] Extracting URL: DaBaby Featuring Quavo PICK UP\n",
      "[youtube:search] Extracting URL: ytsearch:DaBaby Featuring Quavo PICK UP\n",
      "[download] Downloading playlist: DaBaby Featuring Quavo PICK UP\n",
      "[youtube:search] query \"DaBaby Featuring Quavo PICK UP\": Downloading web client config\n",
      "[youtube:search] query \"DaBaby Featuring Quavo PICK UP\" page 1: Downloading API JSON\n",
      "[youtube:search] Playlist DaBaby Featuring Quavo PICK UP: Downloading 1 items of 1\n",
      "[download] Downloading item 1 of 1\n",
      "[youtube] Extracting URL: https://www.youtube.com/watch?v=62lsXiMR7Sk\n",
      "[youtube] 62lsXiMR7Sk: Downloading webpage\n",
      "[youtube] 62lsXiMR7Sk: Downloading ios player API JSON\n",
      "[youtube] 62lsXiMR7Sk: Downloading android player API JSON\n",
      "[youtube] 62lsXiMR7Sk: Downloading m3u8 information\n",
      "[info] 62lsXiMR7Sk: Downloading 1 format(s): 251\n",
      "[download] Destination: C:\\Users\\arwin\\Documents\\dev\\APS360-PROJECT\\data\\billboard_audio\\DaBaby Featuring Quavo_PICK UP\\DaBaby Featuring Quavo_PICK UP.webm\n",
      "[download] 100% of    2.86MiB in 00:00:00 at 10.91MiB/s  \n",
      "[download] Finished downloading playlist: DaBaby Featuring Quavo PICK UP\n",
      "[generic] Extracting URL: Chris Brown Featuring Drake No Guidance\n",
      "[youtube:search] Extracting URL: ytsearch:Chris Brown Featuring Drake No Guidance\n",
      "[download] Downloading playlist: Chris Brown Featuring Drake No Guidance\n",
      "[youtube:search] query \"Chris Brown Featuring Drake No Guidance\": Downloading web client config\n",
      "[youtube:search] query \"Chris Brown Featuring Drake No Guidance\" page 1: Downloading API JSON\n",
      "[youtube:search] Playlist Chris Brown Featuring Drake No Guidance: Downloading 1 items of 1\n",
      "[download] Downloading item 1 of 1\n",
      "[youtube] Extracting URL: https://www.youtube.com/watch?v=6L_k74BOLag\n",
      "[youtube] 6L_k74BOLag: Downloading webpage\n",
      "[youtube] 6L_k74BOLag: Downloading ios player API JSON\n",
      "[youtube] 6L_k74BOLag: Downloading android player API JSON\n",
      "[youtube] 6L_k74BOLag: Downloading m3u8 information\n",
      "[info] 6L_k74BOLag: Downloading 1 format(s): 251\n",
      "[download] Destination: C:\\Users\\arwin\\Documents\\dev\\APS360-PROJECT\\data\\billboard_audio\\Chris Brown Featuring Drake_No Guidance\\Chris Brown Featuring Drake_No Guidance.webm\n",
      "[download] 100% of    7.89MiB in 00:00:00 at 14.31MiB/s  \n",
      "[download] Finished downloading playlist: Chris Brown Featuring Drake No Guidance\n",
      "[generic] Extracting URL: DaBaby Featuring Future & jetsonmade LIGHTSKIN SH_T\n",
      "[youtube:search] Extracting URL: ytsearch:DaBaby Featuring Future & jetsonmade LIGHTSKIN SH_T\n",
      "[download] Downloading playlist: DaBaby Featuring Future & jetsonmade LIGHTSKIN SH_T\n",
      "[youtube:search] query \"DaBaby Featuring Future & jetsonmade LIGHTSKIN SH_T\": Downloading web client config\n",
      "[youtube:search] query \"DaBaby Featuring Future & jetsonmade LIGHTSKIN SH_T\" page 1: Downloading API JSON\n",
      "[youtube:search] Playlist DaBaby Featuring Future & jetsonmade LIGHTSKIN SH_T: Downloading 1 items of 1\n",
      "[download] Downloading item 1 of 1\n",
      "[youtube] Extracting URL: https://www.youtube.com/watch?v=W12UCAgRES8\n",
      "[youtube] W12UCAgRES8: Downloading webpage\n",
      "[youtube] W12UCAgRES8: Downloading ios player API JSON\n",
      "[youtube] W12UCAgRES8: Downloading android player API JSON\n",
      "[youtube] W12UCAgRES8: Downloading m3u8 information\n",
      "[info] W12UCAgRES8: Downloading 1 format(s): 251\n",
      "[download] Destination: C:\\Users\\arwin\\Documents\\dev\\APS360-PROJECT\\data\\billboard_audio\\DaBaby Featuring Future & jetsonmade_LIGHTSKIN SH_T\\DaBaby Featuring Future & jetsonmade_LIGHTSKIN SH_T.webm\n",
      "[download] 100% of    1.87MiB in 00:00:00 at 8.55MiB/s   \n",
      "[download] Finished downloading playlist: DaBaby Featuring Future & jetsonmade LIGHTSKIN SH_T\n",
      "[generic] Extracting URL: Russ & BIA BEST ON EARTH\n",
      "[youtube:search] Extracting URL: ytsearch:Russ & BIA BEST ON EARTH\n",
      "[download] Downloading playlist: Russ & BIA BEST ON EARTH\n",
      "[youtube:search] query \"Russ & BIA BEST ON EARTH\": Downloading web client config\n",
      "[youtube:search] query \"Russ & BIA BEST ON EARTH\" page 1: Downloading API JSON\n",
      "[youtube:search] Playlist Russ & BIA BEST ON EARTH: Downloading 1 items of 1\n",
      "[download] Downloading item 1 of 1\n",
      "[youtube] Extracting URL: https://www.youtube.com/watch?v=4HvdGXANdYE\n",
      "[youtube] 4HvdGXANdYE: Downloading webpage\n",
      "[youtube] 4HvdGXANdYE: Downloading ios player API JSON\n",
      "[youtube] 4HvdGXANdYE: Downloading android player API JSON\n",
      "[youtube] 4HvdGXANdYE: Downloading m3u8 information\n",
      "[info] 4HvdGXANdYE: Downloading 1 format(s): 251\n",
      "[download] Destination: C:\\Users\\arwin\\Documents\\dev\\APS360-PROJECT\\data\\billboard_audio\\Russ & BIA_BEST ON EARTH\\Russ & BIA_BEST ON EARTH.webm\n",
      "[download] 100% of    2.74MiB in 00:00:00 at 16.76MiB/s  \n",
      "[download] Finished downloading playlist: Russ & BIA BEST ON EARTH\n",
      "[generic] Extracting URL: DaBaby CAN'T STOP\n",
      "[youtube:search] Extracting URL: ytsearch:DaBaby CAN'T STOP\n",
      "[download] Downloading playlist: DaBaby CAN'T STOP\n",
      "[youtube:search] query \"DaBaby CAN'T STOP\": Downloading web client config\n",
      "[youtube:search] query \"DaBaby CAN'T STOP\" page 1: Downloading API JSON\n",
      "[youtube:search] Playlist DaBaby CAN'T STOP: Downloading 1 items of 1\n",
      "[download] Downloading item 1 of 1\n",
      "[youtube] Extracting URL: https://www.youtube.com/watch?v=UuwtLvnHZ8c\n",
      "[youtube] UuwtLvnHZ8c: Downloading webpage\n",
      "[youtube] UuwtLvnHZ8c: Downloading ios player API JSON\n",
      "[youtube] UuwtLvnHZ8c: Downloading android player API JSON\n",
      "[youtube] UuwtLvnHZ8c: Downloading m3u8 information\n",
      "[info] UuwtLvnHZ8c: Downloading 1 format(s): 251\n",
      "[download] Destination: C:\\Users\\arwin\\Documents\\dev\\APS360-PROJECT\\data\\billboard_audio\\DaBaby_CAN'T STOP\\DaBaby_CAN'T STOP.webm\n",
      "[download] 100% of    2.76MiB in 00:00:00 at 10.85MiB/s    \n",
      "[download] Finished downloading playlist: DaBaby CAN'T STOP\n",
      "[generic] Extracting URL: DaBaby BLAME IT ON BABY\n",
      "[youtube:search] Extracting URL: ytsearch:DaBaby BLAME IT ON BABY\n",
      "[download] Downloading playlist: DaBaby BLAME IT ON BABY\n",
      "[youtube:search] query \"DaBaby BLAME IT ON BABY\": Downloading web client config\n",
      "[youtube:search] query \"DaBaby BLAME IT ON BABY\" page 1: Downloading API JSON\n",
      "[youtube:search] Playlist DaBaby BLAME IT ON BABY: Downloading 1 items of 1\n",
      "[download] Downloading item 1 of 1\n",
      "[youtube] Extracting URL: https://www.youtube.com/watch?v=ZgU3UrZW1QE\n",
      "[youtube] ZgU3UrZW1QE: Downloading webpage\n",
      "[youtube] ZgU3UrZW1QE: Downloading ios player API JSON\n",
      "[youtube] ZgU3UrZW1QE: Downloading android player API JSON\n",
      "[youtube] ZgU3UrZW1QE: Downloading m3u8 information\n",
      "[info] ZgU3UrZW1QE: Downloading 1 format(s): 251\n",
      "[download] Destination: C:\\Users\\arwin\\Documents\\dev\\APS360-PROJECT\\data\\billboard_audio\\DaBaby_BLAME IT ON BABY\\DaBaby_BLAME IT ON BABY.webm\n",
      "[download] 100% of    2.18MiB in 00:00:00 at 6.58MiB/s   \n",
      "[download] Finished downloading playlist: DaBaby BLAME IT ON BABY\n",
      "[generic] Extracting URL: DaBaby SAD SHIT\n",
      "[youtube:search] Extracting URL: ytsearch:DaBaby SAD SHIT\n",
      "[download] Downloading playlist: DaBaby SAD SHIT\n",
      "[youtube:search] query \"DaBaby SAD SHIT\": Downloading web client config\n",
      "[youtube:search] query \"DaBaby SAD SHIT\" page 1: Downloading API JSON\n",
      "[youtube:search] Playlist DaBaby SAD SHIT: Downloading 1 items of 1\n",
      "[download] Downloading item 1 of 1\n",
      "[youtube] Extracting URL: https://www.youtube.com/watch?v=aNEfeeH2IcQ\n",
      "[youtube] aNEfeeH2IcQ: Downloading webpage\n",
      "[youtube] aNEfeeH2IcQ: Downloading ios player API JSON\n",
      "[youtube] aNEfeeH2IcQ: Downloading android player API JSON\n"
     ]
    },
    {
     "name": "stderr",
     "output_type": "stream",
     "text": [
      "WARNING: [youtube] YouTube said: ERROR - Precondition check failed.\n",
      "WARNING: [youtube] HTTP Error 400: Bad Request. Retrying (1/3)...\n"
     ]
    },
    {
     "name": "stdout",
     "output_type": "stream",
     "text": [
      "[youtube] aNEfeeH2IcQ: Downloading android player API JSON\n"
     ]
    },
    {
     "name": "stderr",
     "output_type": "stream",
     "text": [
      "WARNING: [youtube] YouTube said: ERROR - Precondition check failed.\n",
      "WARNING: [youtube] HTTP Error 400: Bad Request. Retrying (2/3)...\n"
     ]
    },
    {
     "name": "stdout",
     "output_type": "stream",
     "text": [
      "[youtube] aNEfeeH2IcQ: Downloading android player API JSON\n"
     ]
    },
    {
     "name": "stderr",
     "output_type": "stream",
     "text": [
      "WARNING: [youtube] YouTube said: ERROR - Precondition check failed.\n",
      "WARNING: [youtube] HTTP Error 400: Bad Request. Retrying (3/3)...\n"
     ]
    },
    {
     "name": "stdout",
     "output_type": "stream",
     "text": [
      "[youtube] aNEfeeH2IcQ: Downloading android player API JSON\n",
      "[youtube] aNEfeeH2IcQ: Downloading m3u8 information\n",
      "[info] aNEfeeH2IcQ: Downloading 1 format(s): 251\n",
      "[download] Destination: C:\\Users\\arwin\\Documents\\dev\\APS360-PROJECT\\data\\billboard_audio\\DaBaby_SAD SHIT\\DaBaby_SAD SHIT.webm\n",
      "[download] 100% of    3.77MiB in 00:00:00 at 4.84MiB/s   \n",
      "[download] Finished downloading playlist: DaBaby SAD SHIT\n",
      "[generic] Extracting URL: Karol G & Nicki Minaj Tusa\n",
      "[youtube:search] Extracting URL: ytsearch:Karol G & Nicki Minaj Tusa\n",
      "[download] Downloading playlist: Karol G & Nicki Minaj Tusa\n",
      "[youtube:search] query \"Karol G & Nicki Minaj Tusa\": Downloading web client config\n",
      "[youtube:search] query \"Karol G & Nicki Minaj Tusa\" page 1: Downloading API JSON\n",
      "[youtube:search] Playlist Karol G & Nicki Minaj Tusa: Downloading 1 items of 1\n",
      "[download] Downloading item 1 of 1\n",
      "[youtube] Extracting URL: https://www.youtube.com/watch?v=tbneQDc2H3I\n",
      "[youtube] tbneQDc2H3I: Downloading webpage\n",
      "[youtube] tbneQDc2H3I: Downloading ios player API JSON\n",
      "[youtube] tbneQDc2H3I: Downloading android player API JSON\n"
     ]
    },
    {
     "name": "stderr",
     "output_type": "stream",
     "text": [
      "WARNING: [youtube] YouTube said: ERROR - Precondition check failed.\n",
      "WARNING: [youtube] HTTP Error 400: Bad Request. Retrying (1/3)...\n"
     ]
    },
    {
     "name": "stdout",
     "output_type": "stream",
     "text": [
      "[youtube] tbneQDc2H3I: Downloading android player API JSON\n"
     ]
    },
    {
     "name": "stderr",
     "output_type": "stream",
     "text": [
      "WARNING: [youtube] YouTube said: ERROR - Precondition check failed.\n",
      "WARNING: [youtube] HTTP Error 400: Bad Request. Retrying (2/3)...\n"
     ]
    },
    {
     "name": "stdout",
     "output_type": "stream",
     "text": [
      "[youtube] tbneQDc2H3I: Downloading android player API JSON\n",
      "[youtube] tbneQDc2H3I: Downloading m3u8 information\n",
      "[info] tbneQDc2H3I: Downloading 1 format(s): 251\n",
      "[download] Destination: C:\\Users\\arwin\\Documents\\dev\\APS360-PROJECT\\data\\billboard_audio\\Karol G & Nicki Minaj_Tusa\\Karol G & Nicki Minaj_Tusa.webm\n",
      "[download] 100% of    3.39MiB in 00:00:00 at 16.48MiB/s    \n",
      "[download] Finished downloading playlist: Karol G & Nicki Minaj Tusa\n",
      "[generic] Extracting URL: DaBaby Featuring A Boogie Wit da Hoodie & London On Da Track DROP\n",
      "[youtube:search] Extracting URL: ytsearch:DaBaby Featuring A Boogie Wit da Hoodie & London On Da Track DROP\n",
      "[download] Downloading playlist: DaBaby Featuring A Boogie Wit da Hoodie & London On Da Track DROP\n",
      "[youtube:search] query \"DaBaby Featuring A Boogie Wit da Hoodie & London On Da Track DROP\": Downloading web client config\n",
      "[youtube:search] query \"DaBaby Featuring A Boogie Wit da Hoodie & London On Da Track DROP\" page 1: Downloading API JSON\n",
      "[youtube:search] Playlist DaBaby Featuring A Boogie Wit da Hoodie & London On Da Track DROP: Downloading 1 items of 1\n",
      "[download] Downloading item 1 of 1\n",
      "[youtube] Extracting URL: https://www.youtube.com/watch?v=4Lqpyr1BMrg\n",
      "[youtube] 4Lqpyr1BMrg: Downloading webpage\n",
      "[youtube] 4Lqpyr1BMrg: Downloading ios player API JSON\n",
      "[youtube] 4Lqpyr1BMrg: Downloading android player API JSON\n"
     ]
    },
    {
     "name": "stderr",
     "output_type": "stream",
     "text": [
      "WARNING: [youtube] YouTube said: ERROR - Precondition check failed.\n",
      "WARNING: [youtube] HTTP Error 400: Bad Request. Retrying (1/3)...\n"
     ]
    },
    {
     "name": "stdout",
     "output_type": "stream",
     "text": [
      "[youtube] 4Lqpyr1BMrg: Downloading android player API JSON\n"
     ]
    },
    {
     "name": "stderr",
     "output_type": "stream",
     "text": [
      "WARNING: [youtube] YouTube said: ERROR - Precondition check failed.\n",
      "WARNING: [youtube] HTTP Error 400: Bad Request. Retrying (2/3)...\n"
     ]
    },
    {
     "name": "stdout",
     "output_type": "stream",
     "text": [
      "[youtube] 4Lqpyr1BMrg: Downloading android player API JSON\n",
      "[youtube] 4Lqpyr1BMrg: Downloading m3u8 information\n",
      "[info] 4Lqpyr1BMrg: Downloading 1 format(s): 251\n",
      "[download] Destination: C:\\Users\\arwin\\Documents\\dev\\APS360-PROJECT\\data\\billboard_audio\\DaBaby Featuring A Boogie Wit da Hoodie & London On Da Track_DROP\\DaBaby Featuring A Boogie Wit da Hoodie & London On Da Track_DROP.webm\n",
      "[download] 100% of    2.56MiB in 00:00:00 at 13.34MiB/s  \n",
      "[download] Finished downloading playlist: DaBaby Featuring A Boogie Wit da Hoodie & London On Da Track DROP\n",
      "[generic] Extracting URL: DaBaby TALK ABOUT IT\n",
      "[youtube:search] Extracting URL: ytsearch:DaBaby TALK ABOUT IT\n",
      "[download] Downloading playlist: DaBaby TALK ABOUT IT\n",
      "[youtube:search] query \"DaBaby TALK ABOUT IT\": Downloading web client config\n",
      "[youtube:search] query \"DaBaby TALK ABOUT IT\" page 1: Downloading API JSON\n",
      "[youtube:search] Playlist DaBaby TALK ABOUT IT: Downloading 1 items of 1\n",
      "[download] Downloading item 1 of 1\n",
      "[youtube] Extracting URL: https://www.youtube.com/watch?v=IsTuVSgvH4g\n",
      "[youtube] IsTuVSgvH4g: Downloading webpage\n",
      "[youtube] IsTuVSgvH4g: Downloading ios player API JSON\n",
      "[youtube] IsTuVSgvH4g: Downloading android player API JSON\n"
     ]
    },
    {
     "name": "stderr",
     "output_type": "stream",
     "text": [
      "WARNING: [youtube] YouTube said: ERROR - Precondition check failed.\n",
      "WARNING: [youtube] HTTP Error 400: Bad Request. Retrying (1/3)...\n"
     ]
    },
    {
     "name": "stdout",
     "output_type": "stream",
     "text": [
      "[youtube] IsTuVSgvH4g: Downloading android player API JSON\n",
      "[youtube] IsTuVSgvH4g: Downloading m3u8 information\n",
      "[info] IsTuVSgvH4g: Downloading 1 format(s): 251\n",
      "[download] Destination: C:\\Users\\arwin\\Documents\\dev\\APS360-PROJECT\\data\\billboard_audio\\DaBaby_TALK ABOUT IT\\DaBaby_TALK ABOUT IT.webm\n",
      "[download] 100% of    2.65MiB in 00:00:00 at 8.06MiB/s   \n",
      "[download] Finished downloading playlist: DaBaby TALK ABOUT IT\n",
      "[generic] Extracting URL: DaBaby CHAMPION\n",
      "[youtube:search] Extracting URL: ytsearch:DaBaby CHAMPION\n",
      "[download] Downloading playlist: DaBaby CHAMPION\n",
      "[youtube:search] query \"DaBaby CHAMPION\": Downloading web client config\n",
      "[youtube:search] query \"DaBaby CHAMPION\" page 1: Downloading API JSON\n",
      "[youtube:search] Playlist DaBaby CHAMPION: Downloading 1 items of 1\n",
      "[download] Downloading item 1 of 1\n",
      "[youtube] Extracting URL: https://www.youtube.com/watch?v=frvSFPOEuxo\n",
      "[youtube] frvSFPOEuxo: Downloading webpage\n",
      "[youtube] frvSFPOEuxo: Downloading ios player API JSON\n",
      "[youtube] frvSFPOEuxo: Downloading android player API JSON\n"
     ]
    },
    {
     "name": "stderr",
     "output_type": "stream",
     "text": [
      "WARNING: [youtube] YouTube said: ERROR - Precondition check failed.\n",
      "WARNING: [youtube] HTTP Error 400: Bad Request. Retrying (1/3)...\n"
     ]
    },
    {
     "name": "stdout",
     "output_type": "stream",
     "text": [
      "[youtube] frvSFPOEuxo: Downloading android player API JSON\n"
     ]
    },
    {
     "name": "stderr",
     "output_type": "stream",
     "text": [
      "WARNING: [youtube] YouTube said: ERROR - Precondition check failed.\n",
      "WARNING: [youtube] HTTP Error 400: Bad Request. Retrying (2/3)...\n"
     ]
    },
    {
     "name": "stdout",
     "output_type": "stream",
     "text": [
      "[youtube] frvSFPOEuxo: Downloading android player API JSON\n"
     ]
    },
    {
     "name": "stderr",
     "output_type": "stream",
     "text": [
      "WARNING: [youtube] YouTube said: ERROR - Precondition check failed.\n",
      "WARNING: [youtube] HTTP Error 400: Bad Request. Retrying (3/3)...\n"
     ]
    },
    {
     "name": "stdout",
     "output_type": "stream",
     "text": [
      "[youtube] frvSFPOEuxo: Downloading android player API JSON\n",
      "[youtube] frvSFPOEuxo: Downloading m3u8 information\n",
      "[info] frvSFPOEuxo: Downloading 1 format(s): 251\n",
      "[download] Destination: C:\\Users\\arwin\\Documents\\dev\\APS360-PROJECT\\data\\billboard_audio\\DaBaby_CHAMPION\\DaBaby_CHAMPION.webm\n",
      "[download] 100% of    2.31MiB in 00:00:00 at 8.39MiB/s   \n",
      "[download] Finished downloading playlist: DaBaby CHAMPION\n",
      "[generic] Extracting URL: Kelly Clarkson I Dare You\n",
      "[youtube:search] Extracting URL: ytsearch:Kelly Clarkson I Dare You\n",
      "[download] Downloading playlist: Kelly Clarkson I Dare You\n",
      "[youtube:search] query \"Kelly Clarkson I Dare You\": Downloading web client config\n",
      "[youtube:search] query \"Kelly Clarkson I Dare You\" page 1: Downloading API JSON\n",
      "[youtube:search] Playlist Kelly Clarkson I Dare You: Downloading 1 items of 1\n",
      "[download] Downloading item 1 of 1\n",
      "[youtube] Extracting URL: https://www.youtube.com/watch?v=FfWomPGz0IU\n",
      "[youtube] FfWomPGz0IU: Downloading webpage\n",
      "[youtube] FfWomPGz0IU: Downloading ios player API JSON\n",
      "[youtube] FfWomPGz0IU: Downloading android player API JSON\n",
      "[youtube] FfWomPGz0IU: Downloading m3u8 information\n",
      "[info] FfWomPGz0IU: Downloading 1 format(s): 251\n",
      "[download] Destination: C:\\Users\\arwin\\Documents\\dev\\APS360-PROJECT\\data\\billboard_audio\\Kelly Clarkson_I Dare You\\Kelly Clarkson_I Dare You.webm\n",
      "[download] 100% of    3.34MiB in 00:00:00 at 12.29MiB/s  \n",
      "[download] Finished downloading playlist: Kelly Clarkson I Dare You\n",
      "[generic] Extracting URL: Tory Lanez Broke In A Minute\n",
      "[youtube:search] Extracting URL: ytsearch:Tory Lanez Broke In A Minute\n",
      "[download] Downloading playlist: Tory Lanez Broke In A Minute\n",
      "[youtube:search] query \"Tory Lanez Broke In A Minute\": Downloading web client config\n",
      "[youtube:search] query \"Tory Lanez Broke In A Minute\" page 1: Downloading API JSON\n",
      "[youtube:search] Playlist Tory Lanez Broke In A Minute: Downloading 1 items of 1\n",
      "[download] Downloading item 1 of 1\n",
      "[youtube] Extracting URL: https://www.youtube.com/watch?v=rTVjstuyuJU\n",
      "[youtube] rTVjstuyuJU: Downloading webpage\n",
      "[youtube] rTVjstuyuJU: Downloading ios player API JSON\n",
      "[youtube] rTVjstuyuJU: Downloading android player API JSON\n",
      "[youtube] rTVjstuyuJU: Downloading m3u8 information\n",
      "[info] rTVjstuyuJU: Downloading 1 format(s): 251\n",
      "[download] Destination: C:\\Users\\arwin\\Documents\\dev\\APS360-PROJECT\\data\\billboard_audio\\Tory Lanez_Broke In A Minute\\Tory Lanez_Broke In A Minute.webm\n",
      "[download] 100% of    1.97MiB in 00:00:00 at 2.66MiB/s   \n",
      "[download] Finished downloading playlist: Tory Lanez Broke In A Minute\n",
      "[generic] Extracting URL: YNW Melly & Juice WRLD Suicidal\n",
      "[youtube:search] Extracting URL: ytsearch:YNW Melly & Juice WRLD Suicidal\n",
      "[download] Downloading playlist: YNW Melly & Juice WRLD Suicidal\n",
      "[youtube:search] query \"YNW Melly & Juice WRLD Suicidal\": Downloading web client config\n",
      "[youtube:search] query \"YNW Melly & Juice WRLD Suicidal\" page 1: Downloading API JSON\n",
      "[youtube:search] Playlist YNW Melly & Juice WRLD Suicidal: Downloading 1 items of 1\n",
      "[download] Downloading item 1 of 1\n",
      "[youtube] Extracting URL: https://www.youtube.com/watch?v=-V2PxXsctV0\n",
      "[youtube] -V2PxXsctV0: Downloading webpage\n",
      "[youtube] -V2PxXsctV0: Downloading ios player API JSON\n",
      "[youtube] -V2PxXsctV0: Downloading android player API JSON\n",
      "[youtube] -V2PxXsctV0: Downloading m3u8 information\n",
      "[info] -V2PxXsctV0: Downloading 1 format(s): 251\n",
      "[download] Destination: C:\\Users\\arwin\\Documents\\dev\\APS360-PROJECT\\data\\billboard_audio\\YNW Melly & Juice WRLD_Suicidal\\YNW Melly & Juice WRLD_Suicidal.webm\n",
      "[download] 100% of    4.55MiB in 00:00:00 at 16.38MiB/s    \n",
      "[download] Finished downloading playlist: YNW Melly & Juice WRLD Suicidal\n",
      "[generic] Extracting URL: Tory Lanez Stupid Again\n",
      "[youtube:search] Extracting URL: ytsearch:Tory Lanez Stupid Again\n",
      "[download] Downloading playlist: Tory Lanez Stupid Again\n",
      "[youtube:search] query \"Tory Lanez Stupid Again\": Downloading web client config\n",
      "[youtube:search] query \"Tory Lanez Stupid Again\" page 1: Downloading API JSON\n",
      "[youtube:search] Playlist Tory Lanez Stupid Again: Downloading 1 items of 1\n",
      "[download] Downloading item 1 of 1\n",
      "[youtube] Extracting URL: https://www.youtube.com/watch?v=EACCI4nqqMk\n",
      "[youtube] EACCI4nqqMk: Downloading webpage\n",
      "[youtube] EACCI4nqqMk: Downloading ios player API JSON\n",
      "[youtube] EACCI4nqqMk: Downloading android player API JSON\n"
     ]
    },
    {
     "name": "stderr",
     "output_type": "stream",
     "text": [
      "WARNING: [youtube] YouTube said: ERROR - Precondition check failed.\n",
      "WARNING: [youtube] HTTP Error 400: Bad Request. Retrying (1/3)...\n"
     ]
    },
    {
     "name": "stdout",
     "output_type": "stream",
     "text": [
      "[youtube] EACCI4nqqMk: Downloading android player API JSON\n"
     ]
    },
    {
     "name": "stderr",
     "output_type": "stream",
     "text": [
      "WARNING: [youtube] YouTube said: ERROR - Precondition check failed.\n",
      "WARNING: [youtube] HTTP Error 400: Bad Request. Retrying (2/3)...\n"
     ]
    },
    {
     "name": "stdout",
     "output_type": "stream",
     "text": [
      "[youtube] EACCI4nqqMk: Downloading android player API JSON\n"
     ]
    },
    {
     "name": "stderr",
     "output_type": "stream",
     "text": [
      "WARNING: [youtube] YouTube said: ERROR - Precondition check failed.\n",
      "WARNING: [youtube] HTTP Error 400: Bad Request. Retrying (3/3)...\n"
     ]
    },
    {
     "name": "stdout",
     "output_type": "stream",
     "text": [
      "[youtube] EACCI4nqqMk: Downloading android player API JSON\n",
      "[youtube] EACCI4nqqMk: Downloading m3u8 information\n",
      "[info] EACCI4nqqMk: Downloading 1 format(s): 251\n",
      "[download] Destination: C:\\Users\\arwin\\Documents\\dev\\APS360-PROJECT\\data\\billboard_audio\\Tory Lanez_Stupid Again\\Tory Lanez_Stupid Again.webm\n",
      "[download] 100% of    2.70MiB in 00:00:00 at 9.31MiB/s     \n",
      "[download] Finished downloading playlist: Tory Lanez Stupid Again\n",
      "[generic] Extracting URL: Selena Gomez Boyfriend\n",
      "[youtube:search] Extracting URL: ytsearch:Selena Gomez Boyfriend\n",
      "[download] Downloading playlist: Selena Gomez Boyfriend\n",
      "[youtube:search] query \"Selena Gomez Boyfriend\": Downloading web client config\n",
      "[youtube:search] query \"Selena Gomez Boyfriend\" page 1: Downloading API JSON\n",
      "[youtube:search] Playlist Selena Gomez Boyfriend: Downloading 1 items of 1\n",
      "[download] Downloading item 1 of 1\n",
      "[youtube] Extracting URL: https://www.youtube.com/watch?v=tSIk1QvIM2E\n",
      "[youtube] tSIk1QvIM2E: Downloading webpage\n",
      "[youtube] tSIk1QvIM2E: Downloading ios player API JSON\n",
      "[youtube] tSIk1QvIM2E: Downloading android player API JSON\n"
     ]
    },
    {
     "name": "stderr",
     "output_type": "stream",
     "text": [
      "WARNING: [youtube] YouTube said: ERROR - Precondition check failed.\n",
      "WARNING: [youtube] HTTP Error 400: Bad Request. Retrying (1/3)...\n"
     ]
    },
    {
     "name": "stdout",
     "output_type": "stream",
     "text": [
      "[youtube] tSIk1QvIM2E: Downloading android player API JSON\n"
     ]
    },
    {
     "name": "stderr",
     "output_type": "stream",
     "text": [
      "WARNING: [youtube] YouTube said: ERROR - Precondition check failed.\n",
      "WARNING: [youtube] HTTP Error 400: Bad Request. Retrying (2/3)...\n"
     ]
    },
    {
     "name": "stdout",
     "output_type": "stream",
     "text": [
      "[youtube] tSIk1QvIM2E: Downloading android player API JSON\n",
      "[youtube] tSIk1QvIM2E: Downloading m3u8 information\n",
      "[info] tSIk1QvIM2E: Downloading 1 format(s): 251\n",
      "[download] Destination: C:\\Users\\arwin\\Documents\\dev\\APS360-PROJECT\\data\\billboard_audio\\Selena Gomez_Boyfriend\\Selena Gomez_Boyfriend.webm\n",
      "[download] 100% of    2.74MiB in 00:00:00 at 13.36MiB/s  \n",
      "[download] Finished downloading playlist: Selena Gomez Boyfriend\n",
      "[generic] Extracting URL: SZA X Justin Timberlake The Other Side\n",
      "[youtube:search] Extracting URL: ytsearch:SZA X Justin Timberlake The Other Side\n",
      "[download] Downloading playlist: SZA X Justin Timberlake The Other Side\n",
      "[youtube:search] query \"SZA X Justin Timberlake The Other Side\": Downloading web client config\n",
      "[youtube:search] query \"SZA X Justin Timberlake The Other Side\" page 1: Downloading API JSON\n",
      "[youtube:search] Playlist SZA X Justin Timberlake The Other Side: Downloading 1 items of 1\n",
      "[download] Downloading item 1 of 1\n",
      "[youtube] Extracting URL: https://www.youtube.com/watch?v=C5RrNaCfUXE\n",
      "[youtube] C5RrNaCfUXE: Downloading webpage\n",
      "[youtube] C5RrNaCfUXE: Downloading ios player API JSON\n",
      "[youtube] C5RrNaCfUXE: Downloading android player API JSON\n"
     ]
    },
    {
     "name": "stderr",
     "output_type": "stream",
     "text": [
      "WARNING: [youtube] YouTube said: ERROR - Precondition check failed.\n",
      "WARNING: [youtube] HTTP Error 400: Bad Request. Retrying (1/3)...\n"
     ]
    },
    {
     "name": "stdout",
     "output_type": "stream",
     "text": [
      "[youtube] C5RrNaCfUXE: Downloading android player API JSON\n"
     ]
    },
    {
     "name": "stderr",
     "output_type": "stream",
     "text": [
      "WARNING: [youtube] YouTube said: ERROR - Precondition check failed.\n",
      "WARNING: [youtube] HTTP Error 400: Bad Request. Retrying (2/3)...\n"
     ]
    },
    {
     "name": "stdout",
     "output_type": "stream",
     "text": [
      "[youtube] C5RrNaCfUXE: Downloading android player API JSON\n",
      "[youtube] C5RrNaCfUXE: Downloading m3u8 information\n",
      "[info] C5RrNaCfUXE: Downloading 1 format(s): 251\n",
      "[download] Destination: C:\\Users\\arwin\\Documents\\dev\\APS360-PROJECT\\data\\billboard_audio\\SZA X Justin Timberlake_The Other Side\\SZA X Justin Timberlake_The Other Side.webm\n",
      "[download] 100% of    3.08MiB in 00:00:00 at 12.17MiB/s  \n",
      "[download] Finished downloading playlist: SZA X Justin Timberlake The Other Side\n",
      "[generic] Extracting URL: Luke Bryan What She Wants Tonight\n",
      "[youtube:search] Extracting URL: ytsearch:Luke Bryan What She Wants Tonight\n",
      "[download] Downloading playlist: Luke Bryan What She Wants Tonight\n",
      "[youtube:search] query \"Luke Bryan What She Wants Tonight\": Downloading web client config\n",
      "[youtube:search] query \"Luke Bryan What She Wants Tonight\" page 1: Downloading API JSON\n",
      "[youtube:search] Playlist Luke Bryan What She Wants Tonight: Downloading 1 items of 1\n",
      "[download] Downloading item 1 of 1\n",
      "[youtube] Extracting URL: https://www.youtube.com/watch?v=q4webhCu8bY\n",
      "[youtube] q4webhCu8bY: Downloading webpage\n",
      "[youtube] q4webhCu8bY: Downloading ios player API JSON\n",
      "[youtube] q4webhCu8bY: Downloading android player API JSON\n"
     ]
    },
    {
     "name": "stderr",
     "output_type": "stream",
     "text": [
      "WARNING: [youtube] YouTube said: ERROR - Precondition check failed.\n",
      "WARNING: [youtube] HTTP Error 400: Bad Request. Retrying (1/3)...\n"
     ]
    },
    {
     "name": "stdout",
     "output_type": "stream",
     "text": [
      "[youtube] q4webhCu8bY: Downloading android player API JSON\n",
      "[youtube] q4webhCu8bY: Downloading m3u8 information\n",
      "[info] q4webhCu8bY: Downloading 1 format(s): 251\n",
      "[download] Destination: C:\\Users\\arwin\\Documents\\dev\\APS360-PROJECT\\data\\billboard_audio\\Luke Bryan_What She Wants Tonight\\Luke Bryan_What She Wants Tonight.webm\n",
      "[download] 100% of    2.96MiB in 00:00:00 at 6.97MiB/s     \n",
      "[download] Finished downloading playlist: Luke Bryan What She Wants Tonight\n",
      "[generic] Extracting URL: Polo G DND\n",
      "[youtube:search] Extracting URL: ytsearch:Polo G DND\n",
      "[download] Downloading playlist: Polo G DND\n",
      "[youtube:search] query \"Polo G DND\": Downloading web client config\n",
      "[youtube:search] query \"Polo G DND\" page 1: Downloading API JSON\n",
      "[youtube:search] Playlist Polo G DND: Downloading 1 items of 1\n",
      "[download] Downloading item 1 of 1\n",
      "[youtube] Extracting URL: https://www.youtube.com/watch?v=Nkrgb7qIko0\n",
      "[youtube] Nkrgb7qIko0: Downloading webpage\n",
      "[youtube] Nkrgb7qIko0: Downloading ios player API JSON\n",
      "[youtube] Nkrgb7qIko0: Downloading android player API JSON\n"
     ]
    },
    {
     "name": "stderr",
     "output_type": "stream",
     "text": [
      "WARNING: [youtube] YouTube said: ERROR - Precondition check failed.\n",
      "WARNING: [youtube] HTTP Error 400: Bad Request. Retrying (1/3)...\n"
     ]
    },
    {
     "name": "stdout",
     "output_type": "stream",
     "text": [
      "[youtube] Nkrgb7qIko0: Downloading android player API JSON\n",
      "[youtube] Nkrgb7qIko0: Downloading m3u8 information\n",
      "[info] Nkrgb7qIko0: Downloading 1 format(s): 251\n",
      "[download] Destination: C:\\Users\\arwin\\Documents\\dev\\APS360-PROJECT\\data\\billboard_audio\\Polo G_DND\\Polo G_DND.webm\n",
      "[download] 100% of    2.83MiB in 00:00:00 at 16.61MiB/s    \n",
      "[download] Finished downloading playlist: Polo G DND\n",
      "[generic] Extracting URL: Dustin Lynch Ridin' Roads\n",
      "[youtube:search] Extracting URL: ytsearch:Dustin Lynch Ridin' Roads\n",
      "[download] Downloading playlist: Dustin Lynch Ridin' Roads\n",
      "[youtube:search] query \"Dustin Lynch Ridin' Roads\": Downloading web client config\n",
      "[youtube:search] query \"Dustin Lynch Ridin' Roads\" page 1: Downloading API JSON\n",
      "[youtube:search] Playlist Dustin Lynch Ridin' Roads: Downloading 1 items of 1\n",
      "[download] Downloading item 1 of 1\n",
      "[youtube] Extracting URL: https://www.youtube.com/watch?v=hK4R6wpG9uI\n",
      "[youtube] hK4R6wpG9uI: Downloading webpage\n",
      "[youtube] hK4R6wpG9uI: Downloading ios player API JSON\n",
      "[youtube] hK4R6wpG9uI: Downloading android player API JSON\n"
     ]
    },
    {
     "name": "stderr",
     "output_type": "stream",
     "text": [
      "WARNING: [youtube] YouTube said: ERROR - Precondition check failed.\n",
      "WARNING: [youtube] HTTP Error 400: Bad Request. Retrying (1/3)...\n"
     ]
    },
    {
     "name": "stdout",
     "output_type": "stream",
     "text": [
      "[youtube] hK4R6wpG9uI: Downloading android player API JSON\n",
      "[youtube] hK4R6wpG9uI: Downloading m3u8 information\n",
      "[info] hK4R6wpG9uI: Downloading 1 format(s): 251\n",
      "[download] Destination: C:\\Users\\arwin\\Documents\\dev\\APS360-PROJECT\\data\\billboard_audio\\Dustin Lynch_Ridin' Roads\\Dustin Lynch_Ridin' Roads.webm\n",
      "[download] 100% of    3.43MiB in 00:00:00 at 15.89MiB/s    \n",
      "[download] Finished downloading playlist: Dustin Lynch Ridin' Roads\n",
      "[generic] Extracting URL: Taylor Swift The Man\n",
      "[youtube:search] Extracting URL: ytsearch:Taylor Swift The Man\n",
      "[download] Downloading playlist: Taylor Swift The Man\n",
      "[youtube:search] query \"Taylor Swift The Man\": Downloading web client config\n",
      "[youtube:search] query \"Taylor Swift The Man\" page 1: Downloading API JSON\n",
      "[youtube:search] Playlist Taylor Swift The Man: Downloading 1 items of 1\n",
      "[download] Downloading item 1 of 1\n",
      "[youtube] Extracting URL: https://www.youtube.com/watch?v=AqAJLh9wuZ0\n",
      "[youtube] AqAJLh9wuZ0: Downloading webpage\n",
      "[youtube] AqAJLh9wuZ0: Downloading ios player API JSON\n",
      "[youtube] AqAJLh9wuZ0: Downloading android player API JSON\n",
      "[youtube] AqAJLh9wuZ0: Downloading m3u8 information\n",
      "[info] AqAJLh9wuZ0: Downloading 1 format(s): 251\n",
      "[download] Destination: C:\\Users\\arwin\\Documents\\dev\\APS360-PROJECT\\data\\billboard_audio\\Taylor Swift_The Man\\Taylor Swift_The Man.webm\n",
      "[download] 100% of    3.88MiB in 00:00:00 at 9.94MiB/s     \n",
      "[download] Finished downloading playlist: Taylor Swift The Man\n",
      "[generic] Extracting URL: Lil Yachty, Drake & DaBaby Oprah's Bank Account\n",
      "[youtube:search] Extracting URL: ytsearch:Lil Yachty, Drake & DaBaby Oprah's Bank Account\n",
      "[download] Downloading playlist: Lil Yachty, Drake & DaBaby Oprah's Bank Account\n",
      "[youtube:search] query \"Lil Yachty, Drake & DaBaby Oprah's Bank Account\": Downloading web client config\n",
      "[youtube:search] query \"Lil Yachty, Drake & DaBaby Oprah's Bank Account\" page 1: Downloading API JSON\n",
      "[youtube:search] Playlist Lil Yachty, Drake & DaBaby Oprah's Bank Account: Downloading 1 items of 1\n",
      "[download] Downloading item 1 of 1\n",
      "[youtube] Extracting URL: https://www.youtube.com/watch?v=-eb4CtV8zTk\n",
      "[youtube] -eb4CtV8zTk: Downloading webpage\n",
      "[youtube] -eb4CtV8zTk: Downloading ios player API JSON\n",
      "[youtube] -eb4CtV8zTk: Downloading android player API JSON\n",
      "[youtube] -eb4CtV8zTk: Downloading m3u8 information\n",
      "[info] -eb4CtV8zTk: Downloading 1 format(s): 251\n",
      "[download] Destination: C:\\Users\\arwin\\Documents\\dev\\APS360-PROJECT\\data\\billboard_audio\\Lil Yachty, Drake & DaBaby_Oprah's Bank Account\\Lil Yachty, Drake & DaBaby_Oprah's Bank Account.webm\n",
      "[download] 100% of    8.00MiB in 00:00:00 at 8.18MiB/s   \n",
      "[download] Finished downloading playlist: Lil Yachty, Drake & DaBaby Oprah's Bank Account\n",
      "[generic] Extracting URL: Lil Uzi Vert P2\n",
      "[youtube:search] Extracting URL: ytsearch:Lil Uzi Vert P2\n",
      "[download] Downloading playlist: Lil Uzi Vert P2\n",
      "[youtube:search] query \"Lil Uzi Vert P2\": Downloading web client config\n",
      "[youtube:search] query \"Lil Uzi Vert P2\" page 1: Downloading API JSON\n",
      "[youtube:search] Playlist Lil Uzi Vert P2: Downloading 1 items of 1\n",
      "[download] Downloading item 1 of 1\n",
      "[youtube] Extracting URL: https://www.youtube.com/watch?v=yUAF0nKN0Ck\n",
      "[youtube] yUAF0nKN0Ck: Downloading webpage\n",
      "[youtube] yUAF0nKN0Ck: Downloading ios player API JSON\n",
      "[youtube] yUAF0nKN0Ck: Downloading android player API JSON\n",
      "[youtube] yUAF0nKN0Ck: Downloading m3u8 information\n",
      "[info] yUAF0nKN0Ck: Downloading 1 format(s): 251\n",
      "[download] Destination: C:\\Users\\arwin\\Documents\\dev\\APS360-PROJECT\\data\\billboard_audio\\Lil Uzi Vert_P2\\Lil Uzi Vert_P2.webm\n",
      "[download] 100% of    3.96MiB in 00:00:04 at 888.23KiB/s \n",
      "[download] Finished downloading playlist: Lil Uzi Vert P2\n",
      "[generic] Extracting URL: Justin Bieber Yummy\n",
      "[youtube:search] Extracting URL: ytsearch:Justin Bieber Yummy\n",
      "[download] Downloading playlist: Justin Bieber Yummy\n",
      "[youtube:search] query \"Justin Bieber Yummy\": Downloading web client config\n",
      "[youtube:search] query \"Justin Bieber Yummy\" page 1: Downloading API JSON\n",
      "[youtube:search] Playlist Justin Bieber Yummy: Downloading 1 items of 1\n",
      "[download] Downloading item 1 of 1\n",
      "[youtube] Extracting URL: https://www.youtube.com/watch?v=8EJ3zbKTWQ8\n",
      "[youtube] 8EJ3zbKTWQ8: Downloading webpage\n",
      "[youtube] 8EJ3zbKTWQ8: Downloading ios player API JSON\n",
      "[youtube] 8EJ3zbKTWQ8: Downloading android player API JSON\n",
      "[youtube] 8EJ3zbKTWQ8: Downloading m3u8 information\n",
      "[info] 8EJ3zbKTWQ8: Downloading 1 format(s): 251\n",
      "[download] Destination: C:\\Users\\arwin\\Documents\\dev\\APS360-PROJECT\\data\\billboard_audio\\Justin Bieber_Yummy\\Justin Bieber_Yummy.webm\n",
      "[download] 100% of    3.76MiB in 00:00:00 at 4.71MiB/s   \n",
      "[download] Finished downloading playlist: Justin Bieber Yummy\n",
      "[generic] Extracting URL: Megan Thee Stallion B_I_T_C_H_\n",
      "[youtube:search] Extracting URL: ytsearch:Megan Thee Stallion B_I_T_C_H_\n",
      "[download] Downloading playlist: Megan Thee Stallion B_I_T_C_H_\n",
      "[youtube:search] query \"Megan Thee Stallion B_I_T_C_H_\": Downloading web client config\n",
      "[youtube:search] query \"Megan Thee Stallion B_I_T_C_H_\" page 1: Downloading API JSON\n",
      "[youtube:search] Playlist Megan Thee Stallion B_I_T_C_H_: Downloading 1 items of 1\n",
      "[download] Downloading item 1 of 1\n",
      "[youtube] Extracting URL: https://www.youtube.com/watch?v=BF8TE5qsOCs\n",
      "[youtube] BF8TE5qsOCs: Downloading webpage\n",
      "[youtube] BF8TE5qsOCs: Downloading ios player API JSON\n",
      "[youtube] BF8TE5qsOCs: Downloading android player API JSON\n",
      "[youtube] BF8TE5qsOCs: Downloading m3u8 information\n",
      "[info] BF8TE5qsOCs: Downloading 1 format(s): 251\n",
      "[download] Destination: C:\\Users\\arwin\\Documents\\dev\\APS360-PROJECT\\data\\billboard_audio\\Megan Thee Stallion_B_I_T_C_H_\\Megan Thee Stallion_B_I_T_C_H_.webm\n",
      "[download] 100% of    3.29MiB in 00:00:00 at 13.44MiB/s  \n",
      "[download] Finished downloading playlist: Megan Thee Stallion B_I_T_C_H_\n",
      "[generic] Extracting URL: Doja Cat Boss Bitch\n",
      "[youtube:search] Extracting URL: ytsearch:Doja Cat Boss Bitch\n",
      "[download] Downloading playlist: Doja Cat Boss Bitch\n",
      "[youtube:search] query \"Doja Cat Boss Bitch\": Downloading web client config\n",
      "[youtube:search] query \"Doja Cat Boss Bitch\" page 1: Downloading API JSON\n",
      "[youtube:search] Playlist Doja Cat Boss Bitch: Downloading 1 items of 1\n",
      "[download] Downloading item 1 of 1\n",
      "[youtube] Extracting URL: https://www.youtube.com/watch?v=RsW66teC0BQ\n",
      "[youtube] RsW66teC0BQ: Downloading webpage\n",
      "[youtube] RsW66teC0BQ: Downloading ios player API JSON\n",
      "[youtube] RsW66teC0BQ: Downloading android player API JSON\n"
     ]
    },
    {
     "name": "stderr",
     "output_type": "stream",
     "text": [
      "WARNING: [youtube] YouTube said: ERROR - Precondition check failed.\n",
      "WARNING: [youtube] HTTP Error 400: Bad Request. Retrying (1/3)...\n"
     ]
    },
    {
     "name": "stdout",
     "output_type": "stream",
     "text": [
      "[youtube] RsW66teC0BQ: Downloading android player API JSON\n"
     ]
    },
    {
     "name": "stderr",
     "output_type": "stream",
     "text": [
      "WARNING: [youtube] YouTube said: ERROR - Precondition check failed.\n",
      "WARNING: [youtube] HTTP Error 400: Bad Request. Retrying (2/3)...\n"
     ]
    },
    {
     "name": "stdout",
     "output_type": "stream",
     "text": [
      "[youtube] RsW66teC0BQ: Downloading android player API JSON\n"
     ]
    },
    {
     "name": "stderr",
     "output_type": "stream",
     "text": [
      "WARNING: [youtube] YouTube said: ERROR - Precondition check failed.\n",
      "WARNING: [youtube] HTTP Error 400: Bad Request. Retrying (3/3)...\n"
     ]
    },
    {
     "name": "stdout",
     "output_type": "stream",
     "text": [
      "[youtube] RsW66teC0BQ: Downloading android player API JSON\n",
      "[youtube] RsW66teC0BQ: Downloading m3u8 information\n",
      "[info] RsW66teC0BQ: Downloading 1 format(s): 251\n",
      "[download] Destination: C:\\Users\\arwin\\Documents\\dev\\APS360-PROJECT\\data\\billboard_audio\\Doja Cat_Boss Bitch\\Doja Cat_Boss Bitch.webm\n",
      "[download] 100% of    2.15MiB in 00:00:00 at 8.38MiB/s   \n",
      "[download] Finished downloading playlist: Doja Cat Boss Bitch\n",
      "[generic] Extracting URL: Kane Brown Homesick\n",
      "[youtube:search] Extracting URL: ytsearch:Kane Brown Homesick\n",
      "[download] Downloading playlist: Kane Brown Homesick\n",
      "[youtube:search] query \"Kane Brown Homesick\": Downloading web client config\n",
      "[youtube:search] query \"Kane Brown Homesick\" page 1: Downloading API JSON\n",
      "[youtube:search] Playlist Kane Brown Homesick: Downloading 1 items of 1\n",
      "[download] Downloading item 1 of 1\n",
      "[youtube] Extracting URL: https://www.youtube.com/watch?v=ukHikH_10CA\n",
      "[youtube] ukHikH_10CA: Downloading webpage\n",
      "[youtube] ukHikH_10CA: Downloading ios player API JSON\n",
      "[youtube] ukHikH_10CA: Downloading android player API JSON\n"
     ]
    },
    {
     "name": "stderr",
     "output_type": "stream",
     "text": [
      "WARNING: [youtube] YouTube said: ERROR - Precondition check failed.\n",
      "WARNING: [youtube] HTTP Error 400: Bad Request. Retrying (1/3)...\n"
     ]
    },
    {
     "name": "stdout",
     "output_type": "stream",
     "text": [
      "[youtube] ukHikH_10CA: Downloading android player API JSON\n",
      "[youtube] ukHikH_10CA: Downloading m3u8 information\n",
      "[info] ukHikH_10CA: Downloading 1 format(s): 251\n",
      "[download] Destination: C:\\Users\\arwin\\Documents\\dev\\APS360-PROJECT\\data\\billboard_audio\\Kane Brown_Homesick\\Kane Brown_Homesick.webm\n",
      "[download] 100% of    3.56MiB in 00:00:00 at 7.93MiB/s   \n",
      "[download] Finished downloading playlist: Kane Brown Homesick\n",
      "[generic] Extracting URL: Rod Wave Fuck The World\n",
      "[youtube:search] Extracting URL: ytsearch:Rod Wave Fuck The World\n",
      "[download] Downloading playlist: Rod Wave Fuck The World\n",
      "[youtube:search] query \"Rod Wave Fuck The World\": Downloading web client config\n",
      "[youtube:search] query \"Rod Wave Fuck The World\" page 1: Downloading API JSON\n",
      "[youtube:search] Playlist Rod Wave Fuck The World: Downloading 1 items of 1\n",
      "[download] Downloading item 1 of 1\n",
      "[youtube] Extracting URL: https://www.youtube.com/watch?v=rknFgsupVCg\n",
      "[youtube] rknFgsupVCg: Downloading webpage\n",
      "[youtube] rknFgsupVCg: Downloading ios player API JSON\n",
      "[youtube] rknFgsupVCg: Downloading android player API JSON\n"
     ]
    },
    {
     "name": "stderr",
     "output_type": "stream",
     "text": [
      "WARNING: [youtube] YouTube said: ERROR - Precondition check failed.\n",
      "WARNING: [youtube] HTTP Error 400: Bad Request. Retrying (1/3)...\n"
     ]
    },
    {
     "name": "stdout",
     "output_type": "stream",
     "text": [
      "[youtube] rknFgsupVCg: Downloading android player API JSON\n"
     ]
    },
    {
     "name": "stderr",
     "output_type": "stream",
     "text": [
      "WARNING: [youtube] YouTube said: ERROR - Precondition check failed.\n",
      "WARNING: [youtube] HTTP Error 400: Bad Request. Retrying (2/3)...\n"
     ]
    },
    {
     "name": "stdout",
     "output_type": "stream",
     "text": [
      "[youtube] rknFgsupVCg: Downloading android player API JSON\n",
      "[youtube] rknFgsupVCg: Downloading m3u8 information\n",
      "[info] rknFgsupVCg: Downloading 1 format(s): 251\n",
      "[download] Destination: C:\\Users\\arwin\\Documents\\dev\\APS360-PROJECT\\data\\billboard_audio\\Rod Wave_Fuck The World\\Rod Wave_Fuck The World.webm\n",
      "[download] 100% of    2.32MiB in 00:00:00 at 4.47MiB/s   \n",
      "[download] Finished downloading playlist: Rod Wave Fuck The World\n",
      "[generic] Extracting URL: Rod Wave Pray 4 Love\n",
      "[youtube:search] Extracting URL: ytsearch:Rod Wave Pray 4 Love\n",
      "[download] Downloading playlist: Rod Wave Pray 4 Love\n",
      "[youtube:search] query \"Rod Wave Pray 4 Love\": Downloading web client config\n",
      "[youtube:search] query \"Rod Wave Pray 4 Love\" page 1: Downloading API JSON\n",
      "[youtube:search] Playlist Rod Wave Pray 4 Love: Downloading 1 items of 1\n",
      "[download] Downloading item 1 of 1\n",
      "[youtube] Extracting URL: https://www.youtube.com/watch?v=m0PN6OTEPCA\n",
      "[youtube] m0PN6OTEPCA: Downloading webpage\n",
      "[youtube] m0PN6OTEPCA: Downloading ios player API JSON\n",
      "[youtube] m0PN6OTEPCA: Downloading android player API JSON\n",
      "[youtube] m0PN6OTEPCA: Downloading m3u8 information\n",
      "[info] m0PN6OTEPCA: Downloading 1 format(s): 251\n",
      "[download] Destination: C:\\Users\\arwin\\Documents\\dev\\APS360-PROJECT\\data\\billboard_audio\\Rod Wave_Pray 4 Love\\Rod Wave_Pray 4 Love.webm\n",
      "[download] 100% of    2.94MiB in 00:00:00 at 10.96MiB/s    \n",
      "[download] Finished downloading playlist: Rod Wave Pray 4 Love\n",
      "[generic] Extracting URL: Rod Wave Thief In The Night\n",
      "[youtube:search] Extracting URL: ytsearch:Rod Wave Thief In The Night\n",
      "[download] Downloading playlist: Rod Wave Thief In The Night\n",
      "[youtube:search] query \"Rod Wave Thief In The Night\": Downloading web client config\n",
      "[youtube:search] query \"Rod Wave Thief In The Night\" page 1: Downloading API JSON\n",
      "[youtube:search] Playlist Rod Wave Thief In The Night: Downloading 1 items of 1\n",
      "[download] Downloading item 1 of 1\n",
      "[youtube] Extracting URL: https://www.youtube.com/watch?v=mOiIEREWKpM\n",
      "[youtube] mOiIEREWKpM: Downloading webpage\n",
      "[youtube] mOiIEREWKpM: Downloading ios player API JSON\n",
      "[youtube] mOiIEREWKpM: Downloading android player API JSON\n"
     ]
    },
    {
     "name": "stderr",
     "output_type": "stream",
     "text": [
      "WARNING: [youtube] YouTube said: ERROR - Precondition check failed.\n",
      "WARNING: [youtube] HTTP Error 400: Bad Request. Retrying (1/3)...\n"
     ]
    },
    {
     "name": "stdout",
     "output_type": "stream",
     "text": [
      "[youtube] mOiIEREWKpM: Downloading android player API JSON\n",
      "[youtube] mOiIEREWKpM: Downloading m3u8 information\n",
      "[info] mOiIEREWKpM: Downloading 1 format(s): 251\n",
      "[download] Destination: C:\\Users\\arwin\\Documents\\dev\\APS360-PROJECT\\data\\billboard_audio\\Rod Wave_Thief In The Night\\Rod Wave_Thief In The Night.webm\n",
      "[download] 100% of    2.20MiB in 00:00:00 at 11.18MiB/s  \n",
      "[download] Finished downloading playlist: Rod Wave Thief In The Night\n",
      "[generic] Extracting URL: Future Tycoon\n",
      "[youtube:search] Extracting URL: ytsearch:Future Tycoon\n",
      "[download] Downloading playlist: Future Tycoon\n",
      "[youtube:search] query \"Future Tycoon\": Downloading web client config\n",
      "[youtube:search] query \"Future Tycoon\" page 1: Downloading API JSON\n",
      "[youtube:search] Playlist Future Tycoon: Downloading 1 items of 1\n",
      "[download] Downloading item 1 of 1\n",
      "[youtube] Extracting URL: https://www.youtube.com/watch?v=FLkC4ombo9A\n",
      "[youtube] FLkC4ombo9A: Downloading webpage\n",
      "[youtube] FLkC4ombo9A: Downloading ios player API JSON\n",
      "[youtube] FLkC4ombo9A: Downloading android player API JSON\n"
     ]
    },
    {
     "name": "stderr",
     "output_type": "stream",
     "text": [
      "WARNING: [youtube] YouTube said: ERROR - Precondition check failed.\n",
      "WARNING: [youtube] HTTP Error 400: Bad Request. Retrying (1/3)...\n"
     ]
    },
    {
     "name": "stdout",
     "output_type": "stream",
     "text": [
      "[youtube] FLkC4ombo9A: Downloading android player API JSON\n"
     ]
    },
    {
     "name": "stderr",
     "output_type": "stream",
     "text": [
      "WARNING: [youtube] YouTube said: ERROR - Precondition check failed.\n",
      "WARNING: [youtube] HTTP Error 400: Bad Request. Retrying (2/3)...\n"
     ]
    },
    {
     "name": "stdout",
     "output_type": "stream",
     "text": [
      "[youtube] FLkC4ombo9A: Downloading android player API JSON\n"
     ]
    },
    {
     "name": "stderr",
     "output_type": "stream",
     "text": [
      "WARNING: [youtube] YouTube said: ERROR - Precondition check failed.\n",
      "WARNING: [youtube] HTTP Error 400: Bad Request. Retrying (3/3)...\n"
     ]
    },
    {
     "name": "stdout",
     "output_type": "stream",
     "text": [
      "[youtube] FLkC4ombo9A: Downloading android player API JSON\n",
      "[youtube] FLkC4ombo9A: Downloading m3u8 information\n",
      "[info] FLkC4ombo9A: Downloading 1 format(s): 251\n",
      "[download] Destination: C:\\Users\\arwin\\Documents\\dev\\APS360-PROJECT\\data\\billboard_audio\\Future_Tycoon\\Future_Tycoon.webm\n",
      "[download] 100% of    3.47MiB in 00:00:00 at 6.48MiB/s     \n",
      "[download] Finished downloading playlist: Future Tycoon\n",
      "[generic] Extracting URL: Rod Wave I Remember\n",
      "[youtube:search] Extracting URL: ytsearch:Rod Wave I Remember\n",
      "[download] Downloading playlist: Rod Wave I Remember\n",
      "[youtube:search] query \"Rod Wave I Remember\": Downloading web client config\n",
      "[youtube:search] query \"Rod Wave I Remember\" page 1: Downloading API JSON\n",
      "[youtube:search] Playlist Rod Wave I Remember: Downloading 1 items of 1\n",
      "[download] Downloading item 1 of 1\n",
      "[youtube] Extracting URL: https://www.youtube.com/watch?v=Rte2eqW4wRU\n",
      "[youtube] Rte2eqW4wRU: Downloading webpage\n",
      "[youtube] Rte2eqW4wRU: Downloading ios player API JSON\n",
      "[youtube] Rte2eqW4wRU: Downloading android player API JSON\n",
      "[youtube] Rte2eqW4wRU: Downloading m3u8 information\n",
      "[info] Rte2eqW4wRU: Downloading 1 format(s): 251\n",
      "[download] Destination: C:\\Users\\arwin\\Documents\\dev\\APS360-PROJECT\\data\\billboard_audio\\Rod Wave_I Remember\\Rod Wave_I Remember.webm\n",
      "[download] 100% of    3.41MiB in 00:00:00 at 19.44MiB/s    \n",
      "[download] Finished downloading playlist: Rod Wave I Remember\n",
      "[generic] Extracting URL: Rod Wave The Greatest\n",
      "[youtube:search] Extracting URL: ytsearch:Rod Wave The Greatest\n",
      "[download] Downloading playlist: Rod Wave The Greatest\n",
      "[youtube:search] query \"Rod Wave The Greatest\": Downloading web client config\n",
      "[youtube:search] query \"Rod Wave The Greatest\" page 1: Downloading API JSON\n",
      "[youtube:search] Playlist Rod Wave The Greatest: Downloading 1 items of 1\n",
      "[download] Downloading item 1 of 1\n",
      "[youtube] Extracting URL: https://www.youtube.com/watch?v=WO-jOWpwkk4\n",
      "[youtube] WO-jOWpwkk4: Downloading webpage\n",
      "[youtube] WO-jOWpwkk4: Downloading ios player API JSON\n",
      "[youtube] WO-jOWpwkk4: Downloading android player API JSON\n"
     ]
    },
    {
     "name": "stderr",
     "output_type": "stream",
     "text": [
      "WARNING: [youtube] YouTube said: ERROR - Precondition check failed.\n",
      "WARNING: [youtube] HTTP Error 400: Bad Request. Retrying (1/3)...\n"
     ]
    },
    {
     "name": "stdout",
     "output_type": "stream",
     "text": [
      "[youtube] WO-jOWpwkk4: Downloading android player API JSON\n"
     ]
    },
    {
     "name": "stderr",
     "output_type": "stream",
     "text": [
      "WARNING: [youtube] YouTube said: ERROR - Precondition check failed.\n",
      "WARNING: [youtube] HTTP Error 400: Bad Request. Retrying (2/3)...\n"
     ]
    },
    {
     "name": "stdout",
     "output_type": "stream",
     "text": [
      "[youtube] WO-jOWpwkk4: Downloading android player API JSON\n"
     ]
    },
    {
     "name": "stderr",
     "output_type": "stream",
     "text": [
      "WARNING: [youtube] YouTube said: ERROR - Precondition check failed.\n",
      "WARNING: [youtube] HTTP Error 400: Bad Request. Retrying (3/3)...\n"
     ]
    },
    {
     "name": "stdout",
     "output_type": "stream",
     "text": [
      "[youtube] WO-jOWpwkk4: Downloading android player API JSON\n",
      "[youtube] WO-jOWpwkk4: Downloading m3u8 information\n",
      "[info] WO-jOWpwkk4: Downloading 1 format(s): 251\n",
      "[download] Destination: C:\\Users\\arwin\\Documents\\dev\\APS360-PROJECT\\data\\billboard_audio\\Rod Wave_The Greatest\\Rod Wave_The Greatest.webm\n",
      "[download] 100% of    2.74MiB in 00:00:00 at 22.76MiB/s  \n",
      "[download] Finished downloading playlist: Rod Wave The Greatest\n",
      "[generic] Extracting URL: Rod Wave Ribbon In The Sky\n",
      "[youtube:search] Extracting URL: ytsearch:Rod Wave Ribbon In The Sky\n",
      "[download] Downloading playlist: Rod Wave Ribbon In The Sky\n",
      "[youtube:search] query \"Rod Wave Ribbon In The Sky\": Downloading web client config\n",
      "[youtube:search] query \"Rod Wave Ribbon In The Sky\" page 1: Downloading API JSON\n",
      "[youtube:search] Playlist Rod Wave Ribbon In The Sky: Downloading 1 items of 1\n",
      "[download] Downloading item 1 of 1\n",
      "[youtube] Extracting URL: https://www.youtube.com/watch?v=7tWEnzdc0f4\n",
      "[youtube] 7tWEnzdc0f4: Downloading webpage\n",
      "[youtube] 7tWEnzdc0f4: Downloading ios player API JSON\n",
      "[youtube] 7tWEnzdc0f4: Downloading android player API JSON\n"
     ]
    },
    {
     "name": "stderr",
     "output_type": "stream",
     "text": [
      "WARNING: [youtube] YouTube said: ERROR - Precondition check failed.\n",
      "WARNING: [youtube] HTTP Error 400: Bad Request. Retrying (1/3)...\n"
     ]
    },
    {
     "name": "stdout",
     "output_type": "stream",
     "text": [
      "[youtube] 7tWEnzdc0f4: Downloading android player API JSON\n",
      "[youtube] 7tWEnzdc0f4: Downloading m3u8 information\n",
      "[info] 7tWEnzdc0f4: Downloading 1 format(s): 251\n",
      "[download] Destination: C:\\Users\\arwin\\Documents\\dev\\APS360-PROJECT\\data\\billboard_audio\\Rod Wave_Ribbon In The Sky\\Rod Wave_Ribbon In The Sky.webm\n",
      "[download] 100% of    2.66MiB in 00:00:00 at 8.93MiB/s   \n",
      "[download] Finished downloading playlist: Rod Wave Ribbon In The Sky\n",
      "[generic] Extracting URL: Kane Brown & John Legend Last Time I Say Sorry\n",
      "[youtube:search] Extracting URL: ytsearch:Kane Brown & John Legend Last Time I Say Sorry\n",
      "[download] Downloading playlist: Kane Brown & John Legend Last Time I Say Sorry\n",
      "[youtube:search] query \"Kane Brown & John Legend Last Time I Say Sorry\": Downloading web client config\n",
      "[youtube:search] query \"Kane Brown & John Legend Last Time I Say Sorry\" page 1: Downloading API JSON\n",
      "[youtube:search] Playlist Kane Brown & John Legend Last Time I Say Sorry: Downloading 1 items of 1\n",
      "[download] Downloading item 1 of 1\n",
      "[youtube] Extracting URL: https://www.youtube.com/watch?v=ZHuv0hO-D7w\n",
      "[youtube] ZHuv0hO-D7w: Downloading webpage\n",
      "[youtube] ZHuv0hO-D7w: Downloading ios player API JSON\n",
      "[youtube] ZHuv0hO-D7w: Downloading android player API JSON\n"
     ]
    },
    {
     "name": "stderr",
     "output_type": "stream",
     "text": [
      "WARNING: [youtube] YouTube said: ERROR - Precondition check failed.\n",
      "WARNING: [youtube] HTTP Error 400: Bad Request. Retrying (1/3)...\n"
     ]
    },
    {
     "name": "stdout",
     "output_type": "stream",
     "text": [
      "[youtube] ZHuv0hO-D7w: Downloading android player API JSON\n"
     ]
    },
    {
     "name": "stderr",
     "output_type": "stream",
     "text": [
      "WARNING: [youtube] YouTube said: ERROR - Precondition check failed.\n",
      "WARNING: [youtube] HTTP Error 400: Bad Request. Retrying (2/3)...\n"
     ]
    },
    {
     "name": "stdout",
     "output_type": "stream",
     "text": [
      "[youtube] ZHuv0hO-D7w: Downloading android player API JSON\n",
      "[youtube] ZHuv0hO-D7w: Downloading m3u8 information\n",
      "[info] ZHuv0hO-D7w: Downloading 1 format(s): 251\n",
      "[download] Destination: C:\\Users\\arwin\\Documents\\dev\\APS360-PROJECT\\data\\billboard_audio\\Kane Brown & John Legend_Last Time I Say Sorry\\Kane Brown & John Legend_Last Time I Say Sorry.webm\n",
      "[download] 100% of    3.29MiB in 00:00:00 at 11.38MiB/s    \n",
      "[download] Finished downloading playlist: Kane Brown & John Legend Last Time I Say Sorry\n",
      "[generic] Extracting URL: The Weeknd After Hours\n",
      "[youtube:search] Extracting URL: ytsearch:The Weeknd After Hours\n",
      "[download] Downloading playlist: The Weeknd After Hours\n",
      "[youtube:search] query \"The Weeknd After Hours\": Downloading web client config\n",
      "[youtube:search] query \"The Weeknd After Hours\" page 1: Downloading API JSON\n",
      "[youtube:search] Playlist The Weeknd After Hours: Downloading 1 items of 1\n",
      "[download] Downloading item 1 of 1\n",
      "[youtube] Extracting URL: https://www.youtube.com/watch?v=ygTZZpVkmKg\n",
      "[youtube] ygTZZpVkmKg: Downloading webpage\n",
      "[youtube] ygTZZpVkmKg: Downloading ios player API JSON\n",
      "[youtube] ygTZZpVkmKg: Downloading android player API JSON\n",
      "[youtube] ygTZZpVkmKg: Downloading m3u8 information\n",
      "[info] ygTZZpVkmKg: Downloading 1 format(s): 251\n",
      "[download] Destination: C:\\Users\\arwin\\Documents\\dev\\APS360-PROJECT\\data\\billboard_audio\\The Weeknd_After Hours\\The Weeknd_After Hours.webm\n",
      "[download] 100% of    5.91MiB in 00:00:00 at 14.34MiB/s  \n",
      "[download] Finished downloading playlist: The Weeknd After Hours\n",
      "[generic] Extracting URL: Rod Wave Thug Life\n",
      "[youtube:search] Extracting URL: ytsearch:Rod Wave Thug Life\n",
      "[download] Downloading playlist: Rod Wave Thug Life\n",
      "[youtube:search] query \"Rod Wave Thug Life\": Downloading web client config\n",
      "[youtube:search] query \"Rod Wave Thug Life\" page 1: Downloading API JSON\n",
      "[youtube:search] Playlist Rod Wave Thug Life: Downloading 1 items of 1\n",
      "[download] Downloading item 1 of 1\n",
      "[youtube] Extracting URL: https://www.youtube.com/watch?v=VmJXmPo-b-E\n",
      "[youtube] VmJXmPo-b-E: Downloading webpage\n",
      "[youtube] VmJXmPo-b-E: Downloading ios player API JSON\n",
      "[youtube] VmJXmPo-b-E: Downloading android player API JSON\n"
     ]
    },
    {
     "name": "stderr",
     "output_type": "stream",
     "text": [
      "WARNING: [youtube] YouTube said: ERROR - Precondition check failed.\n",
      "WARNING: [youtube] HTTP Error 400: Bad Request. Retrying (1/3)...\n"
     ]
    },
    {
     "name": "stdout",
     "output_type": "stream",
     "text": [
      "[youtube] VmJXmPo-b-E: Downloading android player API JSON\n"
     ]
    },
    {
     "name": "stderr",
     "output_type": "stream",
     "text": [
      "WARNING: [youtube] YouTube said: ERROR - Precondition check failed.\n",
      "WARNING: [youtube] HTTP Error 400: Bad Request. Retrying (2/3)...\n"
     ]
    },
    {
     "name": "stdout",
     "output_type": "stream",
     "text": [
      "[youtube] VmJXmPo-b-E: Downloading android player API JSON\n"
     ]
    },
    {
     "name": "stderr",
     "output_type": "stream",
     "text": [
      "WARNING: [youtube] YouTube said: ERROR - Precondition check failed.\n",
      "WARNING: [youtube] HTTP Error 400: Bad Request. Retrying (3/3)...\n"
     ]
    },
    {
     "name": "stdout",
     "output_type": "stream",
     "text": [
      "[youtube] VmJXmPo-b-E: Downloading android player API JSON\n"
     ]
    },
    {
     "name": "stderr",
     "output_type": "stream",
     "text": [
      "WARNING: [youtube] YouTube said: ERROR - Precondition check failed.\n",
      "WARNING: [youtube] Unable to download API page: HTTP Error 400: Bad Request (caused by <HTTPError 400: Bad Request>); please report this issue on  https://github.com/yt-dlp/yt-dlp/issues?q= , filling out the appropriate issue template. Confirm you are on the latest version using  yt-dlp -U\n"
     ]
    },
    {
     "name": "stdout",
     "output_type": "stream",
     "text": [
      "[youtube] VmJXmPo-b-E: Downloading m3u8 information\n",
      "[info] VmJXmPo-b-E: Downloading 1 format(s): 251\n",
      "[download] Destination: C:\\Users\\arwin\\Documents\\dev\\APS360-PROJECT\\data\\billboard_audio\\Rod Wave_Thug Life\\Rod Wave_Thug Life.webm\n",
      "[download] 100% of    2.76MiB in 00:00:00 at 5.83MiB/s     \n",
      "[download] Finished downloading playlist: Rod Wave Thug Life\n",
      "[generic] Extracting URL: Jonas Brothers What A Man Gotta Do\n",
      "[youtube:search] Extracting URL: ytsearch:Jonas Brothers What A Man Gotta Do\n",
      "[download] Downloading playlist: Jonas Brothers What A Man Gotta Do\n",
      "[youtube:search] query \"Jonas Brothers What A Man Gotta Do\": Downloading web client config\n",
      "[youtube:search] query \"Jonas Brothers What A Man Gotta Do\" page 1: Downloading API JSON\n",
      "[youtube:search] Playlist Jonas Brothers What A Man Gotta Do: Downloading 1 items of 1\n",
      "[download] Downloading item 1 of 1\n",
      "[youtube] Extracting URL: https://www.youtube.com/watch?v=XejVB_fba04\n",
      "[youtube] XejVB_fba04: Downloading webpage\n",
      "[youtube] XejVB_fba04: Downloading ios player API JSON\n",
      "[youtube] XejVB_fba04: Downloading android player API JSON\n",
      "[youtube] XejVB_fba04: Downloading m3u8 information\n",
      "[info] XejVB_fba04: Downloading 1 format(s): 251\n",
      "[download] Destination: C:\\Users\\arwin\\Documents\\dev\\APS360-PROJECT\\data\\billboard_audio\\Jonas Brothers_What A Man Gotta Do\\Jonas Brothers_What A Man Gotta Do.webm\n",
      "[download] 100% of    3.53MiB in 00:00:00 at 11.36MiB/s  \n",
      "[download] Finished downloading playlist: Jonas Brothers What A Man Gotta Do\n",
      "[generic] Extracting URL: Rod Wave No Weakness\n",
      "[youtube:search] Extracting URL: ytsearch:Rod Wave No Weakness\n",
      "[download] Downloading playlist: Rod Wave No Weakness\n",
      "[youtube:search] query \"Rod Wave No Weakness\": Downloading web client config\n",
      "[youtube:search] query \"Rod Wave No Weakness\" page 1: Downloading API JSON\n",
      "[youtube:search] Playlist Rod Wave No Weakness: Downloading 1 items of 1\n",
      "[download] Downloading item 1 of 1\n",
      "[youtube] Extracting URL: https://www.youtube.com/watch?v=BL8e1pVIpUo\n",
      "[youtube] BL8e1pVIpUo: Downloading webpage\n",
      "[youtube] BL8e1pVIpUo: Downloading ios player API JSON\n",
      "[youtube] BL8e1pVIpUo: Downloading android player API JSON\n",
      "[youtube] BL8e1pVIpUo: Downloading m3u8 information\n",
      "[info] BL8e1pVIpUo: Downloading 1 format(s): 251\n",
      "[download] Destination: C:\\Users\\arwin\\Documents\\dev\\APS360-PROJECT\\data\\billboard_audio\\Rod Wave_No Weakness\\Rod Wave_No Weakness.webm\n",
      "[download] 100% of    3.11MiB in 00:00:00 at 18.08MiB/s    \n",
      "[download] Finished downloading playlist: Rod Wave No Weakness\n",
      "[generic] Extracting URL: Lil Baby Woah\n",
      "[youtube:search] Extracting URL: ytsearch:Lil Baby Woah\n",
      "[download] Downloading playlist: Lil Baby Woah\n",
      "[youtube:search] query \"Lil Baby Woah\": Downloading web client config\n",
      "[youtube:search] query \"Lil Baby Woah\" page 1: Downloading API JSON\n",
      "[youtube:search] Playlist Lil Baby Woah: Downloading 1 items of 1\n",
      "[download] Downloading item 1 of 1\n",
      "[youtube] Extracting URL: https://www.youtube.com/watch?v=nUEqPtVGIpE\n",
      "[youtube] nUEqPtVGIpE: Downloading webpage\n",
      "[youtube] nUEqPtVGIpE: Downloading ios player API JSON\n",
      "[youtube] nUEqPtVGIpE: Downloading android player API JSON\n"
     ]
    },
    {
     "name": "stderr",
     "output_type": "stream",
     "text": [
      "WARNING: [youtube] YouTube said: ERROR - Precondition check failed.\n",
      "WARNING: [youtube] HTTP Error 400: Bad Request. Retrying (1/3)...\n"
     ]
    },
    {
     "name": "stdout",
     "output_type": "stream",
     "text": [
      "[youtube] nUEqPtVGIpE: Downloading android player API JSON\n"
     ]
    },
    {
     "name": "stderr",
     "output_type": "stream",
     "text": [
      "WARNING: [youtube] YouTube said: ERROR - Precondition check failed.\n",
      "WARNING: [youtube] HTTP Error 400: Bad Request. Retrying (2/3)...\n"
     ]
    },
    {
     "name": "stdout",
     "output_type": "stream",
     "text": [
      "[youtube] nUEqPtVGIpE: Downloading android player API JSON\n"
     ]
    },
    {
     "name": "stderr",
     "output_type": "stream",
     "text": [
      "WARNING: [youtube] YouTube said: ERROR - Precondition check failed.\n",
      "WARNING: [youtube] HTTP Error 400: Bad Request. Retrying (3/3)...\n"
     ]
    },
    {
     "name": "stdout",
     "output_type": "stream",
     "text": [
      "[youtube] nUEqPtVGIpE: Downloading android player API JSON\n"
     ]
    },
    {
     "name": "stderr",
     "output_type": "stream",
     "text": [
      "WARNING: [youtube] YouTube said: ERROR - Precondition check failed.\n",
      "WARNING: [youtube] Unable to download API page: HTTP Error 400: Bad Request (caused by <HTTPError 400: Bad Request>); please report this issue on  https://github.com/yt-dlp/yt-dlp/issues?q= , filling out the appropriate issue template. Confirm you are on the latest version using  yt-dlp -U\n"
     ]
    },
    {
     "name": "stdout",
     "output_type": "stream",
     "text": [
      "[youtube] nUEqPtVGIpE: Downloading m3u8 information\n",
      "[info] nUEqPtVGIpE: Downloading 1 format(s): 251\n",
      "[download] Destination: C:\\Users\\arwin\\Documents\\dev\\APS360-PROJECT\\data\\billboard_audio\\Lil Baby_Woah\\Lil Baby_Woah.webm\n",
      "[download] 100% of    3.32MiB in 00:00:00 at 11.37MiB/s  \n",
      "[download] Finished downloading playlist: Lil Baby Woah\n",
      "[generic] Extracting URL: PARTYNEXTDOOR Featuring Drake Loyal\n",
      "[youtube:search] Extracting URL: ytsearch:PARTYNEXTDOOR Featuring Drake Loyal\n",
      "[download] Downloading playlist: PARTYNEXTDOOR Featuring Drake Loyal\n",
      "[youtube:search] query \"PARTYNEXTDOOR Featuring Drake Loyal\": Downloading web client config\n",
      "[youtube:search] query \"PARTYNEXTDOOR Featuring Drake Loyal\" page 1: Downloading API JSON\n",
      "[youtube:search] Playlist PARTYNEXTDOOR Featuring Drake Loyal: Downloading 1 items of 1\n",
      "[download] Downloading item 1 of 1\n",
      "[youtube] Extracting URL: https://www.youtube.com/watch?v=FL7icWyial0\n",
      "[youtube] FL7icWyial0: Downloading webpage\n",
      "[youtube] FL7icWyial0: Downloading ios player API JSON\n",
      "[youtube] FL7icWyial0: Downloading android player API JSON\n"
     ]
    },
    {
     "name": "stderr",
     "output_type": "stream",
     "text": [
      "WARNING: [youtube] YouTube said: ERROR - Precondition check failed.\n",
      "WARNING: [youtube] HTTP Error 400: Bad Request. Retrying (1/3)...\n"
     ]
    },
    {
     "name": "stdout",
     "output_type": "stream",
     "text": [
      "[youtube] FL7icWyial0: Downloading android player API JSON\n"
     ]
    },
    {
     "name": "stderr",
     "output_type": "stream",
     "text": [
      "WARNING: [youtube] YouTube said: ERROR - Precondition check failed.\n",
      "WARNING: [youtube] HTTP Error 400: Bad Request. Retrying (2/3)...\n"
     ]
    },
    {
     "name": "stdout",
     "output_type": "stream",
     "text": [
      "[youtube] FL7icWyial0: Downloading android player API JSON\n"
     ]
    },
    {
     "name": "stderr",
     "output_type": "stream",
     "text": [
      "WARNING: [youtube] YouTube said: ERROR - Precondition check failed.\n",
      "WARNING: [youtube] HTTP Error 400: Bad Request. Retrying (3/3)...\n"
     ]
    },
    {
     "name": "stdout",
     "output_type": "stream",
     "text": [
      "[youtube] FL7icWyial0: Downloading android player API JSON\n"
     ]
    },
    {
     "name": "stderr",
     "output_type": "stream",
     "text": [
      "WARNING: [youtube] YouTube said: ERROR - Precondition check failed.\n",
      "WARNING: [youtube] Unable to download API page: HTTP Error 400: Bad Request (caused by <HTTPError 400: Bad Request>); please report this issue on  https://github.com/yt-dlp/yt-dlp/issues?q= , filling out the appropriate issue template. Confirm you are on the latest version using  yt-dlp -U\n"
     ]
    },
    {
     "name": "stdout",
     "output_type": "stream",
     "text": [
      "[youtube] FL7icWyial0: Downloading m3u8 information\n",
      "[info] FL7icWyial0: Downloading 1 format(s): 251\n",
      "[download] Destination: C:\\Users\\arwin\\Documents\\dev\\APS360-PROJECT\\data\\billboard_audio\\PARTYNEXTDOOR Featuring Drake_Loyal\\PARTYNEXTDOOR Featuring Drake_Loyal.webm\n",
      "[download] 100% of    3.18MiB in 00:00:00 at 12.83MiB/s  \n",
      "[download] Finished downloading playlist: PARTYNEXTDOOR Featuring Drake Loyal\n",
      "[generic] Extracting URL: Khalid x Disclosure Know Your Worth\n",
      "[youtube:search] Extracting URL: ytsearch:Khalid x Disclosure Know Your Worth\n",
      "[download] Downloading playlist: Khalid x Disclosure Know Your Worth\n",
      "[youtube:search] query \"Khalid x Disclosure Know Your Worth\": Downloading web client config\n",
      "[youtube:search] query \"Khalid x Disclosure Know Your Worth\" page 1: Downloading API JSON\n",
      "[youtube:search] Playlist Khalid x Disclosure Know Your Worth: Downloading 1 items of 1\n",
      "[download] Downloading item 1 of 1\n",
      "[youtube] Extracting URL: https://www.youtube.com/watch?v=iC_6_RiCthQ\n",
      "[youtube] iC_6_RiCthQ: Downloading webpage\n",
      "[youtube] iC_6_RiCthQ: Downloading ios player API JSON\n",
      "[youtube] iC_6_RiCthQ: Downloading android player API JSON\n"
     ]
    },
    {
     "name": "stderr",
     "output_type": "stream",
     "text": [
      "WARNING: [youtube] YouTube said: ERROR - Precondition check failed.\n",
      "WARNING: [youtube] HTTP Error 400: Bad Request. Retrying (1/3)...\n"
     ]
    },
    {
     "name": "stdout",
     "output_type": "stream",
     "text": [
      "[youtube] iC_6_RiCthQ: Downloading android player API JSON\n"
     ]
    },
    {
     "name": "stderr",
     "output_type": "stream",
     "text": [
      "WARNING: [youtube] YouTube said: ERROR - Precondition check failed.\n",
      "WARNING: [youtube] HTTP Error 400: Bad Request. Retrying (2/3)...\n"
     ]
    },
    {
     "name": "stdout",
     "output_type": "stream",
     "text": [
      "[youtube] iC_6_RiCthQ: Downloading android player API JSON\n",
      "[youtube] iC_6_RiCthQ: Downloading m3u8 information\n",
      "[info] iC_6_RiCthQ: Downloading 1 format(s): 251\n",
      "[download] Destination: C:\\Users\\arwin\\Documents\\dev\\APS360-PROJECT\\data\\billboard_audio\\Khalid x Disclosure_Know Your Worth\\Khalid x Disclosure_Know Your Worth.webm\n",
      "[download] 100% of    3.20MiB in 00:00:00 at 6.86MiB/s   \n",
      "[download] Finished downloading playlist: Khalid x Disclosure Know Your Worth\n",
      "[generic] Extracting URL: Dua Lipa Physical\n",
      "[youtube:search] Extracting URL: ytsearch:Dua Lipa Physical\n",
      "[download] Downloading playlist: Dua Lipa Physical\n",
      "[youtube:search] query \"Dua Lipa Physical\": Downloading web client config\n",
      "[youtube:search] query \"Dua Lipa Physical\" page 1: Downloading API JSON\n",
      "[youtube:search] Playlist Dua Lipa Physical: Downloading 1 items of 1\n",
      "[download] Downloading item 1 of 1\n",
      "[youtube] Extracting URL: https://www.youtube.com/watch?v=9HDEHj2yzew\n",
      "[youtube] 9HDEHj2yzew: Downloading webpage\n",
      "[youtube] 9HDEHj2yzew: Downloading ios player API JSON\n",
      "[youtube] 9HDEHj2yzew: Downloading android player API JSON\n",
      "[youtube] 9HDEHj2yzew: Downloading m3u8 information\n",
      "[info] 9HDEHj2yzew: Downloading 1 format(s): 251\n",
      "[download] Destination: C:\\Users\\arwin\\Documents\\dev\\APS360-PROJECT\\data\\billboard_audio\\Dua Lipa_Physical\\Dua Lipa_Physical.webm\n",
      "[download] 100% of    3.63MiB in 00:00:00 at 13.26MiB/s    \n",
      "[download] Finished downloading playlist: Dua Lipa Physical\n",
      "[generic] Extracting URL: YoungBoy Never Broke Again Make No Sense\n",
      "[youtube:search] Extracting URL: ytsearch:YoungBoy Never Broke Again Make No Sense\n",
      "[download] Downloading playlist: YoungBoy Never Broke Again Make No Sense\n",
      "[youtube:search] query \"YoungBoy Never Broke Again Make No Sense\": Downloading web client config\n",
      "[youtube:search] query \"YoungBoy Never Broke Again Make No Sense\" page 1: Downloading API JSON\n",
      "[youtube:search] Playlist YoungBoy Never Broke Again Make No Sense: Downloading 1 items of 1\n",
      "[download] Downloading item 1 of 1\n",
      "[youtube] Extracting URL: https://www.youtube.com/watch?v=SjVqZ6c35S0\n",
      "[youtube] SjVqZ6c35S0: Downloading webpage\n",
      "[youtube] SjVqZ6c35S0: Downloading ios player API JSON\n",
      "[youtube] SjVqZ6c35S0: Downloading android player API JSON\n",
      "[youtube] SjVqZ6c35S0: Downloading m3u8 information\n",
      "[info] SjVqZ6c35S0: Downloading 1 format(s): 251\n",
      "[download] Destination: C:\\Users\\arwin\\Documents\\dev\\APS360-PROJECT\\data\\billboard_audio\\YoungBoy Never Broke Again_Make No Sense\\YoungBoy Never Broke Again_Make No Sense.webm\n",
      "[download] 100% of    2.63MiB in 00:00:00 at 10.58MiB/s  \n",
      "[download] Finished downloading playlist: YoungBoy Never Broke Again Make No Sense\n",
      "[generic] Extracting URL: Bad Bunny La Dificil\n",
      "[youtube:search] Extracting URL: ytsearch:Bad Bunny La Dificil\n",
      "[download] Downloading playlist: Bad Bunny La Dificil\n",
      "[youtube:search] query \"Bad Bunny La Dificil\": Downloading web client config\n",
      "[youtube:search] query \"Bad Bunny La Dificil\" page 1: Downloading API JSON\n",
      "[youtube:search] Playlist Bad Bunny La Dificil: Downloading 1 items of 1\n",
      "[download] Downloading item 1 of 1\n",
      "[youtube] Extracting URL: https://www.youtube.com/watch?v=fEYUoBgYKzw\n",
      "[youtube] fEYUoBgYKzw: Downloading webpage\n",
      "[youtube] fEYUoBgYKzw: Downloading ios player API JSON\n",
      "[youtube] fEYUoBgYKzw: Downloading android player API JSON\n",
      "[youtube] fEYUoBgYKzw: Downloading m3u8 information\n",
      "[info] fEYUoBgYKzw: Downloading 1 format(s): 251\n",
      "[download] Destination: C:\\Users\\arwin\\Documents\\dev\\APS360-PROJECT\\data\\billboard_audio\\Bad Bunny_La Dificil\\Bad Bunny_La Dificil.webm\n",
      "[download] 100% of    3.25MiB in 00:00:00 at 8.15MiB/s   \n",
      "[download] Finished downloading playlist: Bad Bunny La Dificil\n",
      "[generic] Extracting URL: Bad Bunny Si Veo A Tu Mama\n",
      "[youtube:search] Extracting URL: ytsearch:Bad Bunny Si Veo A Tu Mama\n",
      "[download] Downloading playlist: Bad Bunny Si Veo A Tu Mama\n",
      "[youtube:search] query \"Bad Bunny Si Veo A Tu Mama\": Downloading web client config\n",
      "[youtube:search] query \"Bad Bunny Si Veo A Tu Mama\" page 1: Downloading API JSON\n",
      "[youtube:search] Playlist Bad Bunny Si Veo A Tu Mama: Downloading 1 items of 1\n",
      "[download] Downloading item 1 of 1\n",
      "[youtube] Extracting URL: https://www.youtube.com/watch?v=CPK_IdHe1Yg\n",
      "[youtube] CPK_IdHe1Yg: Downloading webpage\n",
      "[youtube] CPK_IdHe1Yg: Downloading ios player API JSON\n",
      "[youtube] CPK_IdHe1Yg: Downloading android player API JSON\n",
      "[youtube] CPK_IdHe1Yg: Downloading m3u8 information\n",
      "[info] CPK_IdHe1Yg: Downloading 1 format(s): 251\n",
      "[download] Destination: C:\\Users\\arwin\\Documents\\dev\\APS360-PROJECT\\data\\billboard_audio\\Bad Bunny_Si Veo A Tu Mama\\Bad Bunny_Si Veo A Tu Mama.webm\n",
      "[download] 100% of    4.67MiB in 00:00:00 at 6.48MiB/s   \n",
      "[download] Finished downloading playlist: Bad Bunny Si Veo A Tu Mama\n",
      "[generic] Extracting URL: Bad Bunny Vete\n",
      "[youtube:search] Extracting URL: ytsearch:Bad Bunny Vete\n",
      "[download] Downloading playlist: Bad Bunny Vete\n",
      "[youtube:search] query \"Bad Bunny Vete\": Downloading web client config\n",
      "[youtube:search] query \"Bad Bunny Vete\" page 1: Downloading API JSON\n",
      "[youtube:search] Playlist Bad Bunny Vete: Downloading 1 items of 1\n",
      "[download] Downloading item 1 of 1\n",
      "[youtube] Extracting URL: https://www.youtube.com/watch?v=f5aDUB1NCnk\n",
      "[youtube] f5aDUB1NCnk: Downloading webpage\n",
      "[youtube] f5aDUB1NCnk: Downloading ios player API JSON\n",
      "[youtube] f5aDUB1NCnk: Downloading android player API JSON\n"
     ]
    },
    {
     "name": "stderr",
     "output_type": "stream",
     "text": [
      "WARNING: [youtube] YouTube said: ERROR - Precondition check failed.\n",
      "WARNING: [youtube] HTTP Error 400: Bad Request. Retrying (1/3)...\n"
     ]
    },
    {
     "name": "stdout",
     "output_type": "stream",
     "text": [
      "[youtube] f5aDUB1NCnk: Downloading android player API JSON\n",
      "[youtube] f5aDUB1NCnk: Downloading m3u8 information\n",
      "[info] f5aDUB1NCnk: Downloading 1 format(s): 251\n",
      "[download] Destination: C:\\Users\\arwin\\Documents\\dev\\APS360-PROJECT\\data\\billboard_audio\\Bad Bunny_Vete\\Bad Bunny_Vete.webm\n",
      "[download] 100% of    3.70MiB in 00:00:00 at 11.86MiB/s  \n",
      "[download] Finished downloading playlist: Bad Bunny Vete\n",
      "[generic] Extracting URL: Lil Uzi Vert Baby Pluto\n",
      "[youtube:search] Extracting URL: ytsearch:Lil Uzi Vert Baby Pluto\n",
      "[download] Downloading playlist: Lil Uzi Vert Baby Pluto\n",
      "[youtube:search] query \"Lil Uzi Vert Baby Pluto\": Downloading web client config\n",
      "[youtube:search] query \"Lil Uzi Vert Baby Pluto\" page 1: Downloading API JSON\n",
      "[youtube:search] Playlist Lil Uzi Vert Baby Pluto: Downloading 1 items of 1\n",
      "[download] Downloading item 1 of 1\n",
      "[youtube] Extracting URL: https://www.youtube.com/watch?v=juoznBaQbJE\n",
      "[youtube] juoznBaQbJE: Downloading webpage\n",
      "[youtube] juoznBaQbJE: Downloading ios player API JSON\n",
      "[youtube] juoznBaQbJE: Downloading android player API JSON\n",
      "[youtube] juoznBaQbJE: Downloading m3u8 information\n",
      "[info] juoznBaQbJE: Downloading 1 format(s): 251\n",
      "[download] Destination: C:\\Users\\arwin\\Documents\\dev\\APS360-PROJECT\\data\\billboard_audio\\Lil Uzi Vert_Baby Pluto\\Lil Uzi Vert_Baby Pluto.webm\n",
      "[download] 100% of    3.67MiB in 00:00:00 at 14.58MiB/s    \n",
      "[download] Finished downloading playlist: Lil Uzi Vert Baby Pluto\n",
      "[generic] Extracting URL: Idina Menzel & AURORA Into The Unknown\n",
      "[youtube:search] Extracting URL: ytsearch:Idina Menzel & AURORA Into The Unknown\n",
      "[download] Downloading playlist: Idina Menzel & AURORA Into The Unknown\n",
      "[youtube:search] query \"Idina Menzel & AURORA Into The Unknown\": Downloading web client config\n",
      "[youtube:search] query \"Idina Menzel & AURORA Into The Unknown\" page 1: Downloading API JSON\n",
      "[youtube:search] Playlist Idina Menzel & AURORA Into The Unknown: Downloading 1 items of 1\n",
      "[download] Downloading item 1 of 1\n",
      "[youtube] Extracting URL: https://www.youtube.com/watch?v=gIOyB9ZXn8s\n",
      "[youtube] gIOyB9ZXn8s: Downloading webpage\n",
      "[youtube] gIOyB9ZXn8s: Downloading ios player API JSON\n",
      "[youtube] gIOyB9ZXn8s: Downloading android player API JSON\n"
     ]
    },
    {
     "name": "stderr",
     "output_type": "stream",
     "text": [
      "WARNING: [youtube] YouTube said: ERROR - Precondition check failed.\n",
      "WARNING: [youtube] HTTP Error 400: Bad Request. Retrying (1/3)...\n"
     ]
    },
    {
     "name": "stdout",
     "output_type": "stream",
     "text": [
      "[youtube] gIOyB9ZXn8s: Downloading android player API JSON\n"
     ]
    },
    {
     "name": "stderr",
     "output_type": "stream",
     "text": [
      "WARNING: [youtube] YouTube said: ERROR - Precondition check failed.\n",
      "WARNING: [youtube] HTTP Error 400: Bad Request. Retrying (2/3)...\n"
     ]
    },
    {
     "name": "stdout",
     "output_type": "stream",
     "text": [
      "[youtube] gIOyB9ZXn8s: Downloading android player API JSON\n"
     ]
    },
    {
     "name": "stderr",
     "output_type": "stream",
     "text": [
      "WARNING: [youtube] YouTube said: ERROR - Precondition check failed.\n",
      "WARNING: [youtube] HTTP Error 400: Bad Request. Retrying (3/3)...\n"
     ]
    },
    {
     "name": "stdout",
     "output_type": "stream",
     "text": [
      "[youtube] gIOyB9ZXn8s: Downloading android player API JSON\n",
      "[youtube] gIOyB9ZXn8s: Downloading m3u8 information\n",
      "[info] gIOyB9ZXn8s: Downloading 1 format(s): 251\n",
      "[download] Destination: C:\\Users\\arwin\\Documents\\dev\\APS360-PROJECT\\data\\billboard_audio\\Idina Menzel & AURORA_Into The Unknown\\Idina Menzel & AURORA_Into The Unknown.webm\n",
      "[download] 100% of    3.38MiB in 00:00:00 at 19.56MiB/s  \n",
      "[download] Finished downloading playlist: Idina Menzel & AURORA Into The Unknown\n",
      "[generic] Extracting URL: The Weeknd Alone Again\n",
      "[youtube:search] Extracting URL: ytsearch:The Weeknd Alone Again\n",
      "[download] Downloading playlist: The Weeknd Alone Again\n",
      "[youtube:search] query \"The Weeknd Alone Again\": Downloading web client config\n",
      "[youtube:search] query \"The Weeknd Alone Again\" page 1: Downloading API JSON\n",
      "[youtube:search] Playlist The Weeknd Alone Again: Downloading 1 items of 1\n",
      "[download] Downloading item 1 of 1\n",
      "[youtube] Extracting URL: https://www.youtube.com/watch?v=8JrpOFWczLs\n",
      "[youtube] 8JrpOFWczLs: Downloading webpage\n",
      "[youtube] 8JrpOFWczLs: Downloading ios player API JSON\n",
      "[youtube] 8JrpOFWczLs: Downloading android player API JSON\n"
     ]
    },
    {
     "name": "stderr",
     "output_type": "stream",
     "text": [
      "WARNING: [youtube] YouTube said: ERROR - Precondition check failed.\n",
      "WARNING: [youtube] HTTP Error 400: Bad Request. Retrying (1/3)...\n"
     ]
    },
    {
     "name": "stdout",
     "output_type": "stream",
     "text": [
      "[youtube] 8JrpOFWczLs: Downloading android player API JSON\n",
      "[youtube] 8JrpOFWczLs: Downloading m3u8 information\n",
      "[info] 8JrpOFWczLs: Downloading 1 format(s): 251\n",
      "[download] Destination: C:\\Users\\arwin\\Documents\\dev\\APS360-PROJECT\\data\\billboard_audio\\The Weeknd_Alone Again\\The Weeknd_Alone Again.webm\n",
      "[download] 100% of    4.18MiB in 00:00:00 at 9.81MiB/s   \n",
      "[download] Finished downloading playlist: The Weeknd Alone Again\n",
      "[generic] Extracting URL: The Weeknd Scared To Live\n",
      "[youtube:search] Extracting URL: ytsearch:The Weeknd Scared To Live\n",
      "[download] Downloading playlist: The Weeknd Scared To Live\n",
      "[youtube:search] query \"The Weeknd Scared To Live\": Downloading web client config\n",
      "[youtube:search] query \"The Weeknd Scared To Live\" page 1: Downloading API JSON\n",
      "[youtube:search] Playlist The Weeknd Scared To Live: Downloading 1 items of 1\n",
      "[download] Downloading item 1 of 1\n",
      "[youtube] Extracting URL: https://www.youtube.com/watch?v=MzsU_sn2aIE\n",
      "[youtube] MzsU_sn2aIE: Downloading webpage\n",
      "[youtube] MzsU_sn2aIE: Downloading ios player API JSON\n",
      "[youtube] MzsU_sn2aIE: Downloading android player API JSON\n",
      "[youtube] MzsU_sn2aIE: Downloading m3u8 information\n",
      "[info] MzsU_sn2aIE: Downloading 1 format(s): 251\n",
      "[download] Destination: C:\\Users\\arwin\\Documents\\dev\\APS360-PROJECT\\data\\billboard_audio\\The Weeknd_Scared To Live\\The Weeknd_Scared To Live.webm\n",
      "[download] 100% of    3.12MiB in 00:00:00 at 13.04MiB/s  \n",
      "[download] Finished downloading playlist: The Weeknd Scared To Live\n",
      "[generic] Extracting URL: The Weeknd Hardest To Love\n",
      "[youtube:search] Extracting URL: ytsearch:The Weeknd Hardest To Love\n",
      "[download] Downloading playlist: The Weeknd Hardest To Love\n",
      "[youtube:search] query \"The Weeknd Hardest To Love\": Downloading web client config\n",
      "[youtube:search] query \"The Weeknd Hardest To Love\" page 1: Downloading API JSON\n",
      "[youtube:search] Playlist The Weeknd Hardest To Love: Downloading 1 items of 1\n",
      "[download] Downloading item 1 of 1\n",
      "[youtube] Extracting URL: https://www.youtube.com/watch?v=pM3nIOYF2W8\n",
      "[youtube] pM3nIOYF2W8: Downloading webpage\n",
      "[youtube] pM3nIOYF2W8: Downloading ios player API JSON\n",
      "[youtube] pM3nIOYF2W8: Downloading android player API JSON\n"
     ]
    },
    {
     "name": "stderr",
     "output_type": "stream",
     "text": [
      "WARNING: [youtube] YouTube said: ERROR - Precondition check failed.\n",
      "WARNING: [youtube] HTTP Error 400: Bad Request. Retrying (1/3)...\n"
     ]
    },
    {
     "name": "stdout",
     "output_type": "stream",
     "text": [
      "[youtube] pM3nIOYF2W8: Downloading android player API JSON\n"
     ]
    },
    {
     "name": "stderr",
     "output_type": "stream",
     "text": [
      "WARNING: [youtube] YouTube said: ERROR - Precondition check failed.\n",
      "WARNING: [youtube] HTTP Error 400: Bad Request. Retrying (2/3)...\n"
     ]
    },
    {
     "name": "stdout",
     "output_type": "stream",
     "text": [
      "[youtube] pM3nIOYF2W8: Downloading android player API JSON\n"
     ]
    },
    {
     "name": "stderr",
     "output_type": "stream",
     "text": [
      "WARNING: [youtube] YouTube said: ERROR - Precondition check failed.\n",
      "WARNING: [youtube] HTTP Error 400: Bad Request. Retrying (3/3)...\n"
     ]
    },
    {
     "name": "stdout",
     "output_type": "stream",
     "text": [
      "[youtube] pM3nIOYF2W8: Downloading android player API JSON\n",
      "[youtube] pM3nIOYF2W8: Downloading m3u8 information\n",
      "[info] pM3nIOYF2W8: Downloading 1 format(s): 251\n",
      "[download] Destination: C:\\Users\\arwin\\Documents\\dev\\APS360-PROJECT\\data\\billboard_audio\\The Weeknd_Hardest To Love\\The Weeknd_Hardest To Love.webm\n",
      "[download] 100% of    3.51MiB in 00:00:00 at 7.55MiB/s   \n",
      "[download] Finished downloading playlist: The Weeknd Hardest To Love\n",
      "[generic] Extracting URL: The Weeknd Too Late\n",
      "[youtube:search] Extracting URL: ytsearch:The Weeknd Too Late\n",
      "[download] Downloading playlist: The Weeknd Too Late\n",
      "[youtube:search] query \"The Weeknd Too Late\": Downloading web client config\n",
      "[youtube:search] query \"The Weeknd Too Late\" page 1: Downloading API JSON\n",
      "[youtube:search] Playlist The Weeknd Too Late: Downloading 1 items of 1\n",
      "[download] Downloading item 1 of 1\n",
      "[youtube] Extracting URL: https://www.youtube.com/watch?v=nl71vFvVOvw\n",
      "[youtube] nl71vFvVOvw: Downloading webpage\n",
      "[youtube] nl71vFvVOvw: Downloading ios player API JSON\n",
      "[youtube] nl71vFvVOvw: Downloading android player API JSON\n"
     ]
    },
    {
     "name": "stderr",
     "output_type": "stream",
     "text": [
      "WARNING: [youtube] YouTube said: ERROR - Precondition check failed.\n",
      "WARNING: [youtube] HTTP Error 400: Bad Request. Retrying (1/3)...\n"
     ]
    },
    {
     "name": "stdout",
     "output_type": "stream",
     "text": [
      "[youtube] nl71vFvVOvw: Downloading android player API JSON\n",
      "[youtube] nl71vFvVOvw: Downloading m3u8 information\n",
      "[info] nl71vFvVOvw: Downloading 1 format(s): 251\n",
      "[download] Destination: C:\\Users\\arwin\\Documents\\dev\\APS360-PROJECT\\data\\billboard_audio\\The Weeknd_Too Late\\The Weeknd_Too Late.webm\n",
      "[download] 100% of    3.86MiB in 00:00:00 at 9.19MiB/s   \n",
      "[download] Finished downloading playlist: The Weeknd Too Late\n",
      "[generic] Extracting URL: The Weeknd Snowchild\n",
      "[youtube:search] Extracting URL: ytsearch:The Weeknd Snowchild\n",
      "[download] Downloading playlist: The Weeknd Snowchild\n",
      "[youtube:search] query \"The Weeknd Snowchild\": Downloading web client config\n",
      "[youtube:search] query \"The Weeknd Snowchild\" page 1: Downloading API JSON\n",
      "[youtube:search] Playlist The Weeknd Snowchild: Downloading 1 items of 1\n",
      "[download] Downloading item 1 of 1\n",
      "[youtube] Extracting URL: https://www.youtube.com/watch?v=G0JKdFjWkLA\n",
      "[youtube] G0JKdFjWkLA: Downloading webpage\n",
      "[youtube] G0JKdFjWkLA: Downloading ios player API JSON\n",
      "[youtube] G0JKdFjWkLA: Downloading android player API JSON\n"
     ]
    },
    {
     "name": "stderr",
     "output_type": "stream",
     "text": [
      "WARNING: [youtube] YouTube said: ERROR - Precondition check failed.\n",
      "WARNING: [youtube] HTTP Error 400: Bad Request. Retrying (1/3)...\n"
     ]
    },
    {
     "name": "stdout",
     "output_type": "stream",
     "text": [
      "[youtube] G0JKdFjWkLA: Downloading android player API JSON\n"
     ]
    },
    {
     "name": "stderr",
     "output_type": "stream",
     "text": [
      "WARNING: [youtube] YouTube said: ERROR - Precondition check failed.\n",
      "WARNING: [youtube] HTTP Error 400: Bad Request. Retrying (2/3)...\n"
     ]
    },
    {
     "name": "stdout",
     "output_type": "stream",
     "text": [
      "[youtube] G0JKdFjWkLA: Downloading android player API JSON\n",
      "[youtube] G0JKdFjWkLA: Downloading m3u8 information\n",
      "[info] G0JKdFjWkLA: Downloading 1 format(s): 251\n",
      "[download] Destination: C:\\Users\\arwin\\Documents\\dev\\APS360-PROJECT\\data\\billboard_audio\\The Weeknd_Snowchild\\The Weeknd_Snowchild.webm\n",
      "[download] 100% of    4.21MiB in 00:00:00 at 9.22MiB/s   \n",
      "[download] Finished downloading playlist: The Weeknd Snowchild\n",
      "[generic] Extracting URL: The Weeknd Escape From LA\n",
      "[youtube:search] Extracting URL: ytsearch:The Weeknd Escape From LA\n",
      "[download] Downloading playlist: The Weeknd Escape From LA\n",
      "[youtube:search] query \"The Weeknd Escape From LA\": Downloading web client config\n",
      "[youtube:search] query \"The Weeknd Escape From LA\" page 1: Downloading API JSON\n",
      "[youtube:search] Playlist The Weeknd Escape From LA: Downloading 1 items of 1\n",
      "[download] Downloading item 1 of 1\n",
      "[youtube] Extracting URL: https://www.youtube.com/watch?v=vsARlcGW0jE\n",
      "[youtube] vsARlcGW0jE: Downloading webpage\n",
      "[youtube] vsARlcGW0jE: Downloading ios player API JSON\n",
      "[youtube] vsARlcGW0jE: Downloading android player API JSON\n"
     ]
    },
    {
     "name": "stderr",
     "output_type": "stream",
     "text": [
      "WARNING: [youtube] YouTube said: ERROR - Precondition check failed.\n",
      "WARNING: [youtube] HTTP Error 400: Bad Request. Retrying (1/3)...\n"
     ]
    },
    {
     "name": "stdout",
     "output_type": "stream",
     "text": [
      "[youtube] vsARlcGW0jE: Downloading android player API JSON\n",
      "[youtube] vsARlcGW0jE: Downloading m3u8 information\n",
      "[info] vsARlcGW0jE: Downloading 1 format(s): 251\n",
      "[download] Destination: C:\\Users\\arwin\\Documents\\dev\\APS360-PROJECT\\data\\billboard_audio\\The Weeknd_Escape From LA\\The Weeknd_Escape From LA.webm\n",
      "[download] 100% of    5.64MiB in 00:00:00 at 6.19MiB/s   \n",
      "[download] Finished downloading playlist: The Weeknd Escape From LA\n",
      "[generic] Extracting URL: The Weeknd Faith\n",
      "[youtube:search] Extracting URL: ytsearch:The Weeknd Faith\n",
      "[download] Downloading playlist: The Weeknd Faith\n",
      "[youtube:search] query \"The Weeknd Faith\": Downloading web client config\n",
      "[youtube:search] query \"The Weeknd Faith\" page 1: Downloading API JSON\n",
      "[youtube:search] Playlist The Weeknd Faith: Downloading 1 items of 1\n",
      "[download] Downloading item 1 of 1\n",
      "[youtube] Extracting URL: https://www.youtube.com/watch?v=RcS_8-a-sMg\n",
      "[youtube] RcS_8-a-sMg: Downloading webpage\n",
      "[youtube] RcS_8-a-sMg: Downloading ios player API JSON\n",
      "[youtube] RcS_8-a-sMg: Downloading android player API JSON\n",
      "[youtube] RcS_8-a-sMg: Downloading m3u8 information\n",
      "[info] RcS_8-a-sMg: Downloading 1 format(s): 251\n",
      "[download] Destination: C:\\Users\\arwin\\Documents\\dev\\APS360-PROJECT\\data\\billboard_audio\\The Weeknd_Faith\\The Weeknd_Faith.webm\n",
      "[download] 100% of    4.35MiB in 00:00:00 at 10.39MiB/s  \n",
      "[download] Finished downloading playlist: The Weeknd Faith\n",
      "[generic] Extracting URL: Selena Gomez Lose You To Love Me\n",
      "[youtube:search] Extracting URL: ytsearch:Selena Gomez Lose You To Love Me\n",
      "[download] Downloading playlist: Selena Gomez Lose You To Love Me\n",
      "[youtube:search] query \"Selena Gomez Lose You To Love Me\": Downloading web client config\n",
      "[youtube:search] query \"Selena Gomez Lose You To Love Me\" page 1: Downloading API JSON\n",
      "[youtube:search] Playlist Selena Gomez Lose You To Love Me: Downloading 1 items of 1\n",
      "[download] Downloading item 1 of 1\n",
      "[youtube] Extracting URL: https://www.youtube.com/watch?v=zlJDTxahav0\n",
      "[youtube] zlJDTxahav0: Downloading webpage\n",
      "[youtube] zlJDTxahav0: Downloading ios player API JSON\n",
      "[youtube] zlJDTxahav0: Downloading android player API JSON\n"
     ]
    },
    {
     "name": "stderr",
     "output_type": "stream",
     "text": [
      "WARNING: [youtube] YouTube said: ERROR - Precondition check failed.\n",
      "WARNING: [youtube] HTTP Error 400: Bad Request. Retrying (1/3)...\n"
     ]
    },
    {
     "name": "stdout",
     "output_type": "stream",
     "text": [
      "[youtube] zlJDTxahav0: Downloading android player API JSON\n",
      "[youtube] zlJDTxahav0: Downloading m3u8 information\n",
      "[info] zlJDTxahav0: Downloading 1 format(s): 251\n",
      "[download] Destination: C:\\Users\\arwin\\Documents\\dev\\APS360-PROJECT\\data\\billboard_audio\\Selena Gomez_Lose You To Love Me\\Selena Gomez_Lose You To Love Me.webm\n",
      "[download] 100% of    3.32MiB in 00:00:00 at 9.41MiB/s   \n",
      "[download] Finished downloading playlist: Selena Gomez Lose You To Love Me\n",
      "[generic] Extracting URL: Kelsea Ballerini homecoming queen_\n",
      "[youtube:search] Extracting URL: ytsearch:Kelsea Ballerini homecoming queen_\n",
      "[download] Downloading playlist: Kelsea Ballerini homecoming queen_\n",
      "[youtube:search] query \"Kelsea Ballerini homecoming queen_\": Downloading web client config\n",
      "[youtube:search] query \"Kelsea Ballerini homecoming queen_\" page 1: Downloading API JSON\n",
      "[youtube:search] Playlist Kelsea Ballerini homecoming queen_: Downloading 1 items of 1\n",
      "[download] Downloading item 1 of 1\n",
      "[youtube] Extracting URL: https://www.youtube.com/watch?v=PC0nSbgwAqw\n",
      "[youtube] PC0nSbgwAqw: Downloading webpage\n",
      "[youtube] PC0nSbgwAqw: Downloading ios player API JSON\n",
      "[youtube] PC0nSbgwAqw: Downloading android player API JSON\n"
     ]
    },
    {
     "name": "stderr",
     "output_type": "stream",
     "text": [
      "WARNING: [youtube] YouTube said: ERROR - Precondition check failed.\n",
      "WARNING: [youtube] HTTP Error 400: Bad Request. Retrying (1/3)...\n"
     ]
    },
    {
     "name": "stdout",
     "output_type": "stream",
     "text": [
      "[youtube] PC0nSbgwAqw: Downloading android player API JSON\n"
     ]
    },
    {
     "name": "stderr",
     "output_type": "stream",
     "text": [
      "WARNING: [youtube] YouTube said: ERROR - Precondition check failed.\n",
      "WARNING: [youtube] HTTP Error 400: Bad Request. Retrying (2/3)...\n"
     ]
    },
    {
     "name": "stdout",
     "output_type": "stream",
     "text": [
      "[youtube] PC0nSbgwAqw: Downloading android player API JSON\n"
     ]
    },
    {
     "name": "stderr",
     "output_type": "stream",
     "text": [
      "WARNING: [youtube] YouTube said: ERROR - Precondition check failed.\n",
      "WARNING: [youtube] HTTP Error 400: Bad Request. Retrying (3/3)...\n"
     ]
    },
    {
     "name": "stdout",
     "output_type": "stream",
     "text": [
      "[youtube] PC0nSbgwAqw: Downloading android player API JSON\n",
      "[youtube] PC0nSbgwAqw: Downloading m3u8 information\n",
      "[info] PC0nSbgwAqw: Downloading 1 format(s): 251\n",
      "[download] Destination: C:\\Users\\arwin\\Documents\\dev\\APS360-PROJECT\\data\\billboard_audio\\Kelsea Ballerini_homecoming queen_\\Kelsea Ballerini_homecoming queen_.webm\n",
      "[download] 100% of    3.15MiB in 00:00:00 at 7.65MiB/s     \n",
      "[download] Finished downloading playlist: Kelsea Ballerini homecoming queen_\n",
      "[generic] Extracting URL: The Weeknd Repeat After Me (Interlude)\n",
      "[youtube:search] Extracting URL: ytsearch:The Weeknd Repeat After Me (Interlude)\n",
      "[download] Downloading playlist: The Weeknd Repeat After Me (Interlude)\n",
      "[youtube:search] query \"The Weeknd Repeat After Me (Interlude)\": Downloading web client config\n",
      "[youtube:search] query \"The Weeknd Repeat After Me (Interlude)\" page 1: Downloading API JSON\n",
      "[youtube:search] Playlist The Weeknd Repeat After Me (Interlude): Downloading 1 items of 1\n",
      "[download] Downloading item 1 of 1\n",
      "[youtube] Extracting URL: https://www.youtube.com/watch?v=CE-Iy24NOTY\n",
      "[youtube] CE-Iy24NOTY: Downloading webpage\n",
      "[youtube] CE-Iy24NOTY: Downloading ios player API JSON\n",
      "[youtube] CE-Iy24NOTY: Downloading android player API JSON\n"
     ]
    },
    {
     "name": "stderr",
     "output_type": "stream",
     "text": [
      "WARNING: [youtube] YouTube said: ERROR - Precondition check failed.\n",
      "WARNING: [youtube] HTTP Error 400: Bad Request. Retrying (1/3)...\n"
     ]
    },
    {
     "name": "stdout",
     "output_type": "stream",
     "text": [
      "[youtube] CE-Iy24NOTY: Downloading android player API JSON\n"
     ]
    },
    {
     "name": "stderr",
     "output_type": "stream",
     "text": [
      "WARNING: [youtube] YouTube said: ERROR - Precondition check failed.\n",
      "WARNING: [youtube] HTTP Error 400: Bad Request. Retrying (2/3)...\n"
     ]
    },
    {
     "name": "stdout",
     "output_type": "stream",
     "text": [
      "[youtube] CE-Iy24NOTY: Downloading android player API JSON\n"
     ]
    },
    {
     "name": "stderr",
     "output_type": "stream",
     "text": [
      "WARNING: [youtube] YouTube said: ERROR - Precondition check failed.\n",
      "WARNING: [youtube] HTTP Error 400: Bad Request. Retrying (3/3)...\n"
     ]
    },
    {
     "name": "stdout",
     "output_type": "stream",
     "text": [
      "[youtube] CE-Iy24NOTY: Downloading android player API JSON\n"
     ]
    },
    {
     "name": "stderr",
     "output_type": "stream",
     "text": [
      "WARNING: [youtube] YouTube said: ERROR - Precondition check failed.\n",
      "WARNING: [youtube] Unable to download API page: HTTP Error 400: Bad Request (caused by <HTTPError 400: Bad Request>); please report this issue on  https://github.com/yt-dlp/yt-dlp/issues?q= , filling out the appropriate issue template. Confirm you are on the latest version using  yt-dlp -U\n"
     ]
    },
    {
     "name": "stdout",
     "output_type": "stream",
     "text": [
      "[youtube] CE-Iy24NOTY: Downloading m3u8 information\n",
      "[info] CE-Iy24NOTY: Downloading 1 format(s): 251\n",
      "[download] Destination: C:\\Users\\arwin\\Documents\\dev\\APS360-PROJECT\\data\\billboard_audio\\The Weeknd_Repeat After Me (Interlude)\\The Weeknd_Repeat After Me (Interlude).webm\n",
      "[download] 100% of    3.19MiB in 00:00:00 at 12.84MiB/s    \n",
      "[download] Finished downloading playlist: The Weeknd Repeat After Me (Interlude)\n",
      "[generic] Extracting URL: The Weeknd Until I Bleed Out\n",
      "[youtube:search] Extracting URL: ytsearch:The Weeknd Until I Bleed Out\n",
      "[download] Downloading playlist: The Weeknd Until I Bleed Out\n",
      "[youtube:search] query \"The Weeknd Until I Bleed Out\": Downloading web client config\n",
      "[youtube:search] query \"The Weeknd Until I Bleed Out\" page 1: Downloading API JSON\n",
      "[youtube:search] Playlist The Weeknd Until I Bleed Out: Downloading 1 items of 1\n",
      "[download] Downloading item 1 of 1\n",
      "[youtube] Extracting URL: https://www.youtube.com/watch?v=i58MNnk6BhY\n",
      "[youtube] i58MNnk6BhY: Downloading webpage\n",
      "[youtube] i58MNnk6BhY: Downloading ios player API JSON\n",
      "[youtube] i58MNnk6BhY: Downloading android player API JSON\n"
     ]
    },
    {
     "name": "stderr",
     "output_type": "stream",
     "text": [
      "WARNING: [youtube] YouTube said: ERROR - Precondition check failed.\n",
      "WARNING: [youtube] HTTP Error 400: Bad Request. Retrying (1/3)...\n"
     ]
    },
    {
     "name": "stdout",
     "output_type": "stream",
     "text": [
      "[youtube] i58MNnk6BhY: Downloading android player API JSON\n"
     ]
    },
    {
     "name": "stderr",
     "output_type": "stream",
     "text": [
      "WARNING: [youtube] YouTube said: ERROR - Precondition check failed.\n",
      "WARNING: [youtube] HTTP Error 400: Bad Request. Retrying (2/3)...\n"
     ]
    },
    {
     "name": "stdout",
     "output_type": "stream",
     "text": [
      "[youtube] i58MNnk6BhY: Downloading android player API JSON\n",
      "[youtube] i58MNnk6BhY: Downloading m3u8 information\n",
      "[info] i58MNnk6BhY: Downloading 1 format(s): 251\n",
      "[download] Destination: C:\\Users\\arwin\\Documents\\dev\\APS360-PROJECT\\data\\billboard_audio\\The Weeknd_Until I Bleed Out\\The Weeknd_Until I Bleed Out.webm\n",
      "[download] 100% of    2.97MiB in 00:00:00 at 3.54MiB/s   \n",
      "[download] Finished downloading playlist: The Weeknd Until I Bleed Out\n",
      "[generic] Extracting URL: Sam Smith To Die For\n",
      "[youtube:search] Extracting URL: ytsearch:Sam Smith To Die For\n",
      "[download] Downloading playlist: Sam Smith To Die For\n",
      "[youtube:search] query \"Sam Smith To Die For\": Downloading web client config\n",
      "[youtube:search] query \"Sam Smith To Die For\" page 1: Downloading API JSON\n",
      "[youtube:search] Playlist Sam Smith To Die For: Downloading 1 items of 1\n",
      "[download] Downloading item 1 of 1\n",
      "[youtube] Extracting URL: https://www.youtube.com/watch?v=POIK1H3L86k\n",
      "[youtube] POIK1H3L86k: Downloading webpage\n",
      "[youtube] POIK1H3L86k: Downloading ios player API JSON\n",
      "[youtube] POIK1H3L86k: Downloading android player API JSON\n"
     ]
    },
    {
     "name": "stderr",
     "output_type": "stream",
     "text": [
      "WARNING: [youtube] YouTube said: ERROR - Precondition check failed.\n",
      "WARNING: [youtube] HTTP Error 400: Bad Request. Retrying (1/3)...\n"
     ]
    },
    {
     "name": "stdout",
     "output_type": "stream",
     "text": [
      "[youtube] POIK1H3L86k: Downloading android player API JSON\n"
     ]
    },
    {
     "name": "stderr",
     "output_type": "stream",
     "text": [
      "WARNING: [youtube] YouTube said: ERROR - Precondition check failed.\n",
      "WARNING: [youtube] HTTP Error 400: Bad Request. Retrying (2/3)...\n"
     ]
    },
    {
     "name": "stdout",
     "output_type": "stream",
     "text": [
      "[youtube] POIK1H3L86k: Downloading android player API JSON\n",
      "[youtube] POIK1H3L86k: Downloading m3u8 information\n",
      "[info] POIK1H3L86k: Downloading 1 format(s): 251\n",
      "[download] Destination: C:\\Users\\arwin\\Documents\\dev\\APS360-PROJECT\\data\\billboard_audio\\Sam Smith_To Die For\\Sam Smith_To Die For.webm\n",
      "[download] 100% of    3.15MiB in 00:00:00 at 12.56MiB/s  \n",
      "[download] Finished downloading playlist: Sam Smith To Die For\n",
      "[generic] Extracting URL: Lil Uzi Vert Featuring Chief Keef Bean (Kobe)\n",
      "[youtube:search] Extracting URL: ytsearch:Lil Uzi Vert Featuring Chief Keef Bean (Kobe)\n",
      "[download] Downloading playlist: Lil Uzi Vert Featuring Chief Keef Bean (Kobe)\n",
      "[youtube:search] query \"Lil Uzi Vert Featuring Chief Keef Bean (Kobe)\": Downloading web client config\n",
      "[youtube:search] query \"Lil Uzi Vert Featuring Chief Keef Bean (Kobe)\" page 1: Downloading API JSON\n",
      "[youtube:search] Playlist Lil Uzi Vert Featuring Chief Keef Bean (Kobe): Downloading 1 items of 1\n",
      "[download] Downloading item 1 of 1\n",
      "[youtube] Extracting URL: https://www.youtube.com/watch?v=AvI9VajdE2s\n",
      "[youtube] AvI9VajdE2s: Downloading webpage\n",
      "[youtube] AvI9VajdE2s: Downloading ios player API JSON\n",
      "[youtube] AvI9VajdE2s: Downloading android player API JSON\n"
     ]
    },
    {
     "name": "stderr",
     "output_type": "stream",
     "text": [
      "WARNING: [youtube] YouTube said: ERROR - Precondition check failed.\n",
      "WARNING: [youtube] HTTP Error 400: Bad Request. Retrying (1/3)...\n"
     ]
    },
    {
     "name": "stdout",
     "output_type": "stream",
     "text": [
      "[youtube] AvI9VajdE2s: Downloading android player API JSON\n",
      "[youtube] AvI9VajdE2s: Downloading m3u8 information\n",
      "[info] AvI9VajdE2s: Downloading 1 format(s): 251\n",
      "[download] Destination: C:\\Users\\arwin\\Documents\\dev\\APS360-PROJECT\\data\\billboard_audio\\Lil Uzi Vert Featuring Chief Keef_Bean (Kobe)\\Lil Uzi Vert Featuring Chief Keef_Bean (Kobe).webm\n",
      "[download] 100% of    4.18MiB in 00:00:01 at 3.57MiB/s   \n",
      "[download] Finished downloading playlist: Lil Uzi Vert Featuring Chief Keef Bean (Kobe)\n",
      "[generic] Extracting URL: Lil Uzi Vert Lo Mein\n",
      "[youtube:search] Extracting URL: ytsearch:Lil Uzi Vert Lo Mein\n",
      "[download] Downloading playlist: Lil Uzi Vert Lo Mein\n",
      "[youtube:search] query \"Lil Uzi Vert Lo Mein\": Downloading web client config\n",
      "[youtube:search] query \"Lil Uzi Vert Lo Mein\" page 1: Downloading API JSON\n",
      "[youtube:search] Playlist Lil Uzi Vert Lo Mein: Downloading 1 items of 1\n",
      "[download] Downloading item 1 of 1\n",
      "[youtube] Extracting URL: https://www.youtube.com/watch?v=35enS3ApjIc\n",
      "[youtube] 35enS3ApjIc: Downloading webpage\n",
      "[youtube] 35enS3ApjIc: Downloading ios player API JSON\n",
      "[youtube] 35enS3ApjIc: Downloading android player API JSON\n"
     ]
    },
    {
     "name": "stderr",
     "output_type": "stream",
     "text": [
      "WARNING: [youtube] YouTube said: ERROR - Precondition check failed.\n",
      "WARNING: [youtube] HTTP Error 400: Bad Request. Retrying (1/3)...\n"
     ]
    },
    {
     "name": "stdout",
     "output_type": "stream",
     "text": [
      "[youtube] 35enS3ApjIc: Downloading android player API JSON\n",
      "[youtube] 35enS3ApjIc: Downloading m3u8 information\n",
      "[info] 35enS3ApjIc: Downloading 1 format(s): 251\n",
      "[download] Destination: C:\\Users\\arwin\\Documents\\dev\\APS360-PROJECT\\data\\billboard_audio\\Lil Uzi Vert_Lo Mein\\Lil Uzi Vert_Lo Mein.webm\n",
      "[download] 100% of    3.40MiB in 00:00:01 at 2.45MiB/s   \n",
      "[download] Finished downloading playlist: Lil Uzi Vert Lo Mein\n",
      "[generic] Extracting URL: Lil Uzi Vert & 21 Savage Yessirskiii\n",
      "[youtube:search] Extracting URL: ytsearch:Lil Uzi Vert & 21 Savage Yessirskiii\n",
      "[download] Downloading playlist: Lil Uzi Vert & 21 Savage Yessirskiii\n",
      "[youtube:search] query \"Lil Uzi Vert & 21 Savage Yessirskiii\": Downloading web client config\n",
      "[youtube:search] query \"Lil Uzi Vert & 21 Savage Yessirskiii\" page 1: Downloading API JSON\n",
      "[youtube:search] Playlist Lil Uzi Vert & 21 Savage Yessirskiii: Downloading 1 items of 1\n",
      "[download] Downloading item 1 of 1\n",
      "[youtube] Extracting URL: https://www.youtube.com/watch?v=4Hpkkqpwwkw\n",
      "[youtube] 4Hpkkqpwwkw: Downloading webpage\n",
      "[youtube] 4Hpkkqpwwkw: Downloading ios player API JSON\n",
      "[youtube] 4Hpkkqpwwkw: Downloading android player API JSON\n",
      "[youtube] 4Hpkkqpwwkw: Downloading m3u8 information\n",
      "[info] 4Hpkkqpwwkw: Downloading 1 format(s): 251\n",
      "[download] Destination: C:\\Users\\arwin\\Documents\\dev\\APS360-PROJECT\\data\\billboard_audio\\Lil Uzi Vert & 21 Savage_Yessirskiii\\Lil Uzi Vert & 21 Savage_Yessirskiii.webm\n",
      "[download] 100% of    3.92MiB in 00:00:00 at 11.94MiB/s    \n",
      "[download] Finished downloading playlist: Lil Uzi Vert & 21 Savage Yessirskiii\n",
      "[generic] Extracting URL: Kelsea Ballerini x Halsey The Other Girl\n",
      "[youtube:search] Extracting URL: ytsearch:Kelsea Ballerini x Halsey The Other Girl\n",
      "[download] Downloading playlist: Kelsea Ballerini x Halsey The Other Girl\n",
      "[youtube:search] query \"Kelsea Ballerini x Halsey The Other Girl\": Downloading web client config\n",
      "[youtube:search] query \"Kelsea Ballerini x Halsey The Other Girl\" page 1: Downloading API JSON\n",
      "[youtube:search] Playlist Kelsea Ballerini x Halsey The Other Girl: Downloading 1 items of 1\n",
      "[download] Downloading item 1 of 1\n",
      "[youtube] Extracting URL: https://www.youtube.com/watch?v=x5rXmn-unw0\n",
      "[youtube] x5rXmn-unw0: Downloading webpage\n",
      "[youtube] x5rXmn-unw0: Downloading ios player API JSON\n",
      "[youtube] x5rXmn-unw0: Downloading android player API JSON\n"
     ]
    },
    {
     "name": "stderr",
     "output_type": "stream",
     "text": [
      "WARNING: [youtube] YouTube said: ERROR - Precondition check failed.\n",
      "WARNING: [youtube] HTTP Error 400: Bad Request. Retrying (1/3)...\n"
     ]
    },
    {
     "name": "stdout",
     "output_type": "stream",
     "text": [
      "[youtube] x5rXmn-unw0: Downloading android player API JSON\n",
      "[youtube] x5rXmn-unw0: Downloading m3u8 information\n",
      "[info] x5rXmn-unw0: Downloading 1 format(s): 251\n",
      "[download] Destination: C:\\Users\\arwin\\Documents\\dev\\APS360-PROJECT\\data\\billboard_audio\\Kelsea Ballerini x Halsey_The Other Girl\\Kelsea Ballerini x Halsey_The Other Girl.webm\n",
      "[download] 100% of    3.12MiB in 00:00:00 at 4.64MiB/s   \n",
      "[download] Finished downloading playlist: Kelsea Ballerini x Halsey The Other Girl\n",
      "[generic] Extracting URL: Lizzo Good As Hell\n",
      "[youtube:search] Extracting URL: ytsearch:Lizzo Good As Hell\n",
      "[download] Downloading playlist: Lizzo Good As Hell\n",
      "[youtube:search] query \"Lizzo Good As Hell\": Downloading web client config\n",
      "[youtube:search] query \"Lizzo Good As Hell\" page 1: Downloading API JSON\n",
      "[youtube:search] Playlist Lizzo Good As Hell: Downloading 1 items of 1\n",
      "[download] Downloading item 1 of 1\n",
      "[youtube] Extracting URL: https://www.youtube.com/watch?v=SmbmeOgWsqE\n",
      "[youtube] SmbmeOgWsqE: Downloading webpage\n",
      "[youtube] SmbmeOgWsqE: Downloading ios player API JSON\n",
      "[youtube] SmbmeOgWsqE: Downloading android player API JSON\n",
      "[youtube] SmbmeOgWsqE: Downloading m3u8 information\n",
      "[info] SmbmeOgWsqE: Downloading 1 format(s): 251\n",
      "[download] Destination: C:\\Users\\arwin\\Documents\\dev\\APS360-PROJECT\\data\\billboard_audio\\Lizzo_Good As Hell\\Lizzo_Good As Hell.webm\n",
      "[download] 100% of    2.43MiB in 00:00:00 at 15.69MiB/s    \n",
      "[download] Finished downloading playlist: Lizzo Good As Hell\n",
      "[generic] Extracting URL: Lil Uzi Vert Lotus\n",
      "[youtube:search] Extracting URL: ytsearch:Lil Uzi Vert Lotus\n",
      "[download] Downloading playlist: Lil Uzi Vert Lotus\n",
      "[youtube:search] query \"Lil Uzi Vert Lotus\": Downloading web client config\n",
      "[youtube:search] query \"Lil Uzi Vert Lotus\" page 1: Downloading API JSON\n",
      "[youtube:search] Playlist Lil Uzi Vert Lotus: Downloading 1 items of 1\n",
      "[download] Downloading item 1 of 1\n",
      "[youtube] Extracting URL: https://www.youtube.com/watch?v=muXoCJqtwAc\n",
      "[youtube] muXoCJqtwAc: Downloading webpage\n",
      "[youtube] muXoCJqtwAc: Downloading ios player API JSON\n",
      "[youtube] muXoCJqtwAc: Downloading android player API JSON\n",
      "[youtube] muXoCJqtwAc: Downloading m3u8 information\n",
      "[info] muXoCJqtwAc: Downloading 1 format(s): 251\n",
      "[download] Destination: C:\\Users\\arwin\\Documents\\dev\\APS360-PROJECT\\data\\billboard_audio\\Lil Uzi Vert_Lotus\\Lil Uzi Vert_Lotus.webm\n",
      "[download] 100% of    3.48MiB in 00:00:00 at 9.29MiB/s     \n",
      "[download] Finished downloading playlist: Lil Uzi Vert Lotus\n",
      "[generic] Extracting URL: Lil Uzi Vert Silly Watch\n",
      "[youtube:search] Extracting URL: ytsearch:Lil Uzi Vert Silly Watch\n",
      "[download] Downloading playlist: Lil Uzi Vert Silly Watch\n",
      "[youtube:search] query \"Lil Uzi Vert Silly Watch\": Downloading web client config\n",
      "[youtube:search] query \"Lil Uzi Vert Silly Watch\" page 1: Downloading API JSON\n",
      "[youtube:search] Playlist Lil Uzi Vert Silly Watch: Downloading 1 items of 1\n",
      "[download] Downloading item 1 of 1\n",
      "[youtube] Extracting URL: https://www.youtube.com/watch?v=HsqXHg9vmjs\n",
      "[youtube] HsqXHg9vmjs: Downloading webpage\n",
      "[youtube] HsqXHg9vmjs: Downloading ios player API JSON\n",
      "[youtube] HsqXHg9vmjs: Downloading android player API JSON\n"
     ]
    },
    {
     "name": "stderr",
     "output_type": "stream",
     "text": [
      "WARNING: [youtube] YouTube said: ERROR - Precondition check failed.\n",
      "WARNING: [youtube] HTTP Error 400: Bad Request. Retrying (1/3)...\n"
     ]
    },
    {
     "name": "stdout",
     "output_type": "stream",
     "text": [
      "[youtube] HsqXHg9vmjs: Downloading android player API JSON\n"
     ]
    },
    {
     "name": "stderr",
     "output_type": "stream",
     "text": [
      "WARNING: [youtube] YouTube said: ERROR - Precondition check failed.\n",
      "WARNING: [youtube] HTTP Error 400: Bad Request. Retrying (2/3)...\n"
     ]
    },
    {
     "name": "stdout",
     "output_type": "stream",
     "text": [
      "[youtube] HsqXHg9vmjs: Downloading android player API JSON\n"
     ]
    },
    {
     "name": "stderr",
     "output_type": "stream",
     "text": [
      "WARNING: [youtube] YouTube said: ERROR - Precondition check failed.\n",
      "WARNING: [youtube] HTTP Error 400: Bad Request. Retrying (3/3)...\n"
     ]
    },
    {
     "name": "stdout",
     "output_type": "stream",
     "text": [
      "[youtube] HsqXHg9vmjs: Downloading android player API JSON\n",
      "[youtube] HsqXHg9vmjs: Downloading m3u8 information\n",
      "[info] HsqXHg9vmjs: Downloading 1 format(s): 251\n",
      "[download] Destination: C:\\Users\\arwin\\Documents\\dev\\APS360-PROJECT\\data\\billboard_audio\\Lil Uzi Vert_Silly Watch\\Lil Uzi Vert_Silly Watch.webm\n",
      "[download] 100% of    3.28MiB in 00:00:00 at 6.12MiB/s     \n",
      "[download] Finished downloading playlist: Lil Uzi Vert Silly Watch\n",
      "[generic] Extracting URL: Lil Uzi Vert Featuring Future Wassup\n",
      "[youtube:search] Extracting URL: ytsearch:Lil Uzi Vert Featuring Future Wassup\n",
      "[download] Downloading playlist: Lil Uzi Vert Featuring Future Wassup\n",
      "[youtube:search] query \"Lil Uzi Vert Featuring Future Wassup\": Downloading web client config\n",
      "[youtube:search] query \"Lil Uzi Vert Featuring Future Wassup\" page 1: Downloading API JSON\n",
      "[youtube:search] Playlist Lil Uzi Vert Featuring Future Wassup: Downloading 1 items of 1\n",
      "[download] Downloading item 1 of 1\n",
      "[youtube] Extracting URL: https://www.youtube.com/watch?v=GH8mCOLl8xc\n",
      "[youtube] GH8mCOLl8xc: Downloading webpage\n",
      "[youtube] GH8mCOLl8xc: Downloading ios player API JSON\n",
      "[youtube] GH8mCOLl8xc: Downloading android player API JSON\n",
      "[youtube] GH8mCOLl8xc: Downloading m3u8 information\n",
      "[info] GH8mCOLl8xc: Downloading 1 format(s): 251\n",
      "[download] Destination: C:\\Users\\arwin\\Documents\\dev\\APS360-PROJECT\\data\\billboard_audio\\Lil Uzi Vert Featuring Future_Wassup\\Lil Uzi Vert Featuring Future_Wassup.webm\n",
      "[download] 100% of    3.35MiB in 00:00:00 at 14.06MiB/s    \n",
      "[download] Finished downloading playlist: Lil Uzi Vert Featuring Future Wassup\n",
      "[generic] Extracting URL: Lil Uzi Vert Featuring Young Thug & Gunna Strawberry Peels\n",
      "[youtube:search] Extracting URL: ytsearch:Lil Uzi Vert Featuring Young Thug & Gunna Strawberry Peels\n",
      "[download] Downloading playlist: Lil Uzi Vert Featuring Young Thug & Gunna Strawberry Peels\n",
      "[youtube:search] query \"Lil Uzi Vert Featuring Young Thug & Gunna Strawberry Peels\": Downloading web client config\n",
      "[youtube:search] query \"Lil Uzi Vert Featuring Young Thug & Gunna Strawberry Peels\" page 1: Downloading API JSON\n",
      "[youtube:search] Playlist Lil Uzi Vert Featuring Young Thug & Gunna Strawberry Peels: Downloading 1 items of 1\n",
      "[download] Downloading item 1 of 1\n",
      "[youtube] Extracting URL: https://www.youtube.com/watch?v=mI5diUpURLI\n",
      "[youtube] mI5diUpURLI: Downloading webpage\n",
      "[youtube] mI5diUpURLI: Downloading ios player API JSON\n",
      "[youtube] mI5diUpURLI: Downloading android player API JSON\n"
     ]
    },
    {
     "name": "stderr",
     "output_type": "stream",
     "text": [
      "WARNING: [youtube] YouTube said: ERROR - Precondition check failed.\n",
      "WARNING: [youtube] HTTP Error 400: Bad Request. Retrying (1/3)...\n"
     ]
    },
    {
     "name": "stdout",
     "output_type": "stream",
     "text": [
      "[youtube] mI5diUpURLI: Downloading android player API JSON\n"
     ]
    },
    {
     "name": "stderr",
     "output_type": "stream",
     "text": [
      "WARNING: [youtube] YouTube said: ERROR - Precondition check failed.\n",
      "WARNING: [youtube] HTTP Error 400: Bad Request. Retrying (2/3)...\n"
     ]
    },
    {
     "name": "stdout",
     "output_type": "stream",
     "text": [
      "[youtube] mI5diUpURLI: Downloading android player API JSON\n",
      "[youtube] mI5diUpURLI: Downloading m3u8 information\n",
      "[info] mI5diUpURLI: Downloading 1 format(s): 251\n",
      "[download] Destination: C:\\Users\\arwin\\Documents\\dev\\APS360-PROJECT\\data\\billboard_audio\\Lil Uzi Vert Featuring Young Thug & Gunna_Strawberry Peels\\Lil Uzi Vert Featuring Young Thug & Gunna_Strawberry Peels.webm\n",
      "[download] 100% of    1.84MiB in 00:00:00 at 9.77MiB/s     \n",
      "[download] Finished downloading playlist: Lil Uzi Vert Featuring Young Thug & Gunna Strawberry Peels\n",
      "[generic] Extracting URL: Lil Uzi Vert Moon Relate\n",
      "[youtube:search] Extracting URL: ytsearch:Lil Uzi Vert Moon Relate\n",
      "[download] Downloading playlist: Lil Uzi Vert Moon Relate\n",
      "[youtube:search] query \"Lil Uzi Vert Moon Relate\": Downloading web client config\n",
      "[youtube:search] query \"Lil Uzi Vert Moon Relate\" page 1: Downloading API JSON\n",
      "[youtube:search] Playlist Lil Uzi Vert Moon Relate: Downloading 1 items of 1\n",
      "[download] Downloading item 1 of 1\n",
      "[youtube] Extracting URL: https://www.youtube.com/watch?v=e1X7Bh0dVQY\n",
      "[youtube] e1X7Bh0dVQY: Downloading webpage\n",
      "[youtube] e1X7Bh0dVQY: Downloading ios player API JSON\n",
      "[youtube] e1X7Bh0dVQY: Downloading android player API JSON\n"
     ]
    },
    {
     "name": "stderr",
     "output_type": "stream",
     "text": [
      "WARNING: [youtube] YouTube said: ERROR - Precondition check failed.\n",
      "WARNING: [youtube] HTTP Error 400: Bad Request. Retrying (1/3)...\n"
     ]
    },
    {
     "name": "stdout",
     "output_type": "stream",
     "text": [
      "[youtube] e1X7Bh0dVQY: Downloading android player API JSON\n",
      "[youtube] e1X7Bh0dVQY: Downloading m3u8 information\n",
      "[info] e1X7Bh0dVQY: Downloading 1 format(s): 251\n",
      "[download] Destination: C:\\Users\\arwin\\Documents\\dev\\APS360-PROJECT\\data\\billboard_audio\\Lil Uzi Vert_Moon Relate\\Lil Uzi Vert_Moon Relate.webm\n",
      "[download] 100% of    2.92MiB in 00:00:00 at 16.57MiB/s  \n",
      "[download] Finished downloading playlist: Lil Uzi Vert Moon Relate\n",
      "[generic] Extracting URL: Lil Uzi Vert I Can Show You\n",
      "[youtube:search] Extracting URL: ytsearch:Lil Uzi Vert I Can Show You\n",
      "[download] Downloading playlist: Lil Uzi Vert I Can Show You\n",
      "[youtube:search] query \"Lil Uzi Vert I Can Show You\": Downloading web client config\n",
      "[youtube:search] query \"Lil Uzi Vert I Can Show You\" page 1: Downloading API JSON\n",
      "[youtube:search] Playlist Lil Uzi Vert I Can Show You: Downloading 1 items of 1\n",
      "[download] Downloading item 1 of 1\n",
      "[youtube] Extracting URL: https://www.youtube.com/watch?v=m2zXbq6Ea2o\n",
      "[youtube] m2zXbq6Ea2o: Downloading webpage\n",
      "[youtube] m2zXbq6Ea2o: Downloading ios player API JSON\n",
      "[youtube] m2zXbq6Ea2o: Downloading android player API JSON\n",
      "[youtube] m2zXbq6Ea2o: Downloading m3u8 information\n",
      "[info] m2zXbq6Ea2o: Downloading 1 format(s): 251\n",
      "[download] Destination: C:\\Users\\arwin\\Documents\\dev\\APS360-PROJECT\\data\\billboard_audio\\Lil Uzi Vert_I Can Show You\\Lil Uzi Vert_I Can Show You.webm\n",
      "[download] 100% of    2.05MiB in 00:00:00 at 11.30MiB/s    \n",
      "[download] Finished downloading playlist: Lil Uzi Vert I Can Show You\n",
      "[generic] Extracting URL: Jason Aldean We Back\n",
      "[youtube:search] Extracting URL: ytsearch:Jason Aldean We Back\n",
      "[download] Downloading playlist: Jason Aldean We Back\n",
      "[youtube:search] query \"Jason Aldean We Back\": Downloading web client config\n",
      "[youtube:search] query \"Jason Aldean We Back\" page 1: Downloading API JSON\n",
      "[youtube:search] Playlist Jason Aldean We Back: Downloading 1 items of 1\n",
      "[download] Downloading item 1 of 1\n",
      "[youtube] Extracting URL: https://www.youtube.com/watch?v=23nlI9t4TlM\n",
      "[youtube] 23nlI9t4TlM: Downloading webpage\n",
      "[youtube] 23nlI9t4TlM: Downloading ios player API JSON\n",
      "[youtube] 23nlI9t4TlM: Downloading android player API JSON\n"
     ]
    },
    {
     "name": "stderr",
     "output_type": "stream",
     "text": [
      "WARNING: [youtube] YouTube said: ERROR - Precondition check failed.\n",
      "WARNING: [youtube] HTTP Error 400: Bad Request. Retrying (1/3)...\n"
     ]
    },
    {
     "name": "stdout",
     "output_type": "stream",
     "text": [
      "[youtube] 23nlI9t4TlM: Downloading android player API JSON\n"
     ]
    },
    {
     "name": "stderr",
     "output_type": "stream",
     "text": [
      "WARNING: [youtube] YouTube said: ERROR - Precondition check failed.\n",
      "WARNING: [youtube] HTTP Error 400: Bad Request. Retrying (2/3)...\n"
     ]
    },
    {
     "name": "stdout",
     "output_type": "stream",
     "text": [
      "[youtube] 23nlI9t4TlM: Downloading android player API JSON\n"
     ]
    },
    {
     "name": "stderr",
     "output_type": "stream",
     "text": [
      "WARNING: [youtube] YouTube said: ERROR - Precondition check failed.\n",
      "WARNING: [youtube] HTTP Error 400: Bad Request. Retrying (3/3)...\n"
     ]
    },
    {
     "name": "stdout",
     "output_type": "stream",
     "text": [
      "[youtube] 23nlI9t4TlM: Downloading android player API JSON\n"
     ]
    },
    {
     "name": "stderr",
     "output_type": "stream",
     "text": [
      "WARNING: [youtube] YouTube said: ERROR - Precondition check failed.\n",
      "WARNING: [youtube] Unable to download API page: HTTP Error 400: Bad Request (caused by <HTTPError 400: Bad Request>); please report this issue on  https://github.com/yt-dlp/yt-dlp/issues?q= , filling out the appropriate issue template. Confirm you are on the latest version using  yt-dlp -U\n"
     ]
    },
    {
     "name": "stdout",
     "output_type": "stream",
     "text": [
      "[youtube] 23nlI9t4TlM: Downloading m3u8 information\n",
      "[info] 23nlI9t4TlM: Downloading 1 format(s): 251\n",
      "[download] Destination: C:\\Users\\arwin\\Documents\\dev\\APS360-PROJECT\\data\\billboard_audio\\Jason Aldean_We Back\\Jason Aldean_We Back.webm\n",
      "[download] 100% of    3.26MiB in 00:00:00 at 4.01MiB/s   \n",
      "[download] Finished downloading playlist: Jason Aldean We Back\n",
      "[generic] Extracting URL: Lil Uzi Vert Trap This Way (This Way)\n",
      "[youtube:search] Extracting URL: ytsearch:Lil Uzi Vert Trap This Way (This Way)\n",
      "[download] Downloading playlist: Lil Uzi Vert Trap This Way (This Way)\n",
      "[youtube:search] query \"Lil Uzi Vert Trap This Way (This Way)\": Downloading web client config\n",
      "[youtube:search] query \"Lil Uzi Vert Trap This Way (This Way)\" page 1: Downloading API JSON\n",
      "[youtube:search] Playlist Lil Uzi Vert Trap This Way (This Way): Downloading 1 items of 1\n",
      "[download] Downloading item 1 of 1\n",
      "[youtube] Extracting URL: https://www.youtube.com/watch?v=6YANlXehOpo\n",
      "[youtube] 6YANlXehOpo: Downloading webpage\n",
      "[youtube] 6YANlXehOpo: Downloading ios player API JSON\n",
      "[youtube] 6YANlXehOpo: Downloading android player API JSON\n"
     ]
    },
    {
     "name": "stderr",
     "output_type": "stream",
     "text": [
      "WARNING: [youtube] YouTube said: ERROR - Precondition check failed.\n",
      "WARNING: [youtube] HTTP Error 400: Bad Request. Retrying (1/3)...\n"
     ]
    },
    {
     "name": "stdout",
     "output_type": "stream",
     "text": [
      "[youtube] 6YANlXehOpo: Downloading android player API JSON\n",
      "[youtube] 6YANlXehOpo: Downloading m3u8 information\n",
      "[info] 6YANlXehOpo: Downloading 1 format(s): 251\n",
      "[download] Destination: C:\\Users\\arwin\\Documents\\dev\\APS360-PROJECT\\data\\billboard_audio\\Lil Uzi Vert_Trap This Way (This Way)\\Lil Uzi Vert_Trap This Way (This Way).webm\n",
      "[download] 100% of    3.24MiB in 00:00:01 at 2.29MiB/s   \n",
      "[download] Finished downloading playlist: Lil Uzi Vert Trap This Way (This Way)\n",
      "[generic] Extracting URL: Riley Green I Wish Grandpas Never Died\n",
      "[youtube:search] Extracting URL: ytsearch:Riley Green I Wish Grandpas Never Died\n",
      "[download] Downloading playlist: Riley Green I Wish Grandpas Never Died\n",
      "[youtube:search] query \"Riley Green I Wish Grandpas Never Died\": Downloading web client config\n",
      "[youtube:search] query \"Riley Green I Wish Grandpas Never Died\" page 1: Downloading API JSON\n",
      "[youtube:search] Playlist Riley Green I Wish Grandpas Never Died: Downloading 1 items of 1\n",
      "[download] Downloading item 1 of 1\n",
      "[youtube] Extracting URL: https://www.youtube.com/watch?v=XE9lhjfbCJo\n",
      "[youtube] XE9lhjfbCJo: Downloading webpage\n",
      "[youtube] XE9lhjfbCJo: Downloading ios player API JSON\n",
      "[youtube] XE9lhjfbCJo: Downloading android player API JSON\n",
      "[youtube] XE9lhjfbCJo: Downloading m3u8 information\n",
      "[info] XE9lhjfbCJo: Downloading 1 format(s): 251\n",
      "[download] Destination: C:\\Users\\arwin\\Documents\\dev\\APS360-PROJECT\\data\\billboard_audio\\Riley Green_I Wish Grandpas Never Died\\Riley Green_I Wish Grandpas Never Died.webm\n",
      "[download] 100% of    4.04MiB in 00:00:00 at 14.89MiB/s  \n",
      "[download] Finished downloading playlist: Riley Green I Wish Grandpas Never Died\n",
      "[generic] Extracting URL: Lil Uzi Vert Featuring NAV Leaders\n",
      "[youtube:search] Extracting URL: ytsearch:Lil Uzi Vert Featuring NAV Leaders\n",
      "[download] Downloading playlist: Lil Uzi Vert Featuring NAV Leaders\n",
      "[youtube:search] query \"Lil Uzi Vert Featuring NAV Leaders\": Downloading web client config\n",
      "[youtube:search] query \"Lil Uzi Vert Featuring NAV Leaders\" page 1: Downloading API JSON\n",
      "[youtube:search] Playlist Lil Uzi Vert Featuring NAV Leaders: Downloading 1 items of 1\n",
      "[download] Downloading item 1 of 1\n",
      "[youtube] Extracting URL: https://www.youtube.com/watch?v=L8Oo0VEWq1s\n",
      "[youtube] L8Oo0VEWq1s: Downloading webpage\n",
      "[youtube] L8Oo0VEWq1s: Downloading ios player API JSON\n",
      "[youtube] L8Oo0VEWq1s: Downloading android player API JSON\n",
      "[youtube] L8Oo0VEWq1s: Downloading m3u8 information\n",
      "[info] L8Oo0VEWq1s: Downloading 1 format(s): 251\n",
      "[download] Destination: C:\\Users\\arwin\\Documents\\dev\\APS360-PROJECT\\data\\billboard_audio\\Lil Uzi Vert Featuring NAV_Leaders\\Lil Uzi Vert Featuring NAV_Leaders.webm\n",
      "[download] 100% of    3.67MiB in 00:00:00 at 12.14MiB/s  \n",
      "[download] Finished downloading playlist: Lil Uzi Vert Featuring NAV Leaders\n",
      "[generic] Extracting URL: Lil Uzi Vert Featuring Lil Durk No Auto\n",
      "[youtube:search] Extracting URL: ytsearch:Lil Uzi Vert Featuring Lil Durk No Auto\n",
      "[download] Downloading playlist: Lil Uzi Vert Featuring Lil Durk No Auto\n",
      "[youtube:search] query \"Lil Uzi Vert Featuring Lil Durk No Auto\": Downloading web client config\n",
      "[youtube:search] query \"Lil Uzi Vert Featuring Lil Durk No Auto\" page 1: Downloading API JSON\n",
      "[youtube:search] Playlist Lil Uzi Vert Featuring Lil Durk No Auto: Downloading 1 items of 1\n",
      "[download] Downloading item 1 of 1\n",
      "[youtube] Extracting URL: https://www.youtube.com/watch?v=H-2s_2b-Qlo\n",
      "[youtube] H-2s_2b-Qlo: Downloading webpage\n",
      "[youtube] H-2s_2b-Qlo: Downloading ios player API JSON\n",
      "[youtube] H-2s_2b-Qlo: Downloading android player API JSON\n"
     ]
    },
    {
     "name": "stderr",
     "output_type": "stream",
     "text": [
      "WARNING: [youtube] YouTube said: ERROR - Precondition check failed.\n",
      "WARNING: [youtube] HTTP Error 400: Bad Request. Retrying (1/3)...\n"
     ]
    },
    {
     "name": "stdout",
     "output_type": "stream",
     "text": [
      "[youtube] H-2s_2b-Qlo: Downloading android player API JSON\n"
     ]
    },
    {
     "name": "stderr",
     "output_type": "stream",
     "text": [
      "WARNING: [youtube] YouTube said: ERROR - Precondition check failed.\n",
      "WARNING: [youtube] HTTP Error 400: Bad Request. Retrying (2/3)...\n"
     ]
    },
    {
     "name": "stdout",
     "output_type": "stream",
     "text": [
      "[youtube] H-2s_2b-Qlo: Downloading android player API JSON\n",
      "[youtube] H-2s_2b-Qlo: Downloading m3u8 information\n",
      "[info] H-2s_2b-Qlo: Downloading 1 format(s): 251\n",
      "[download] Destination: C:\\Users\\arwin\\Documents\\dev\\APS360-PROJECT\\data\\billboard_audio\\Lil Uzi Vert Featuring Lil Durk_No Auto\\Lil Uzi Vert Featuring Lil Durk_No Auto.webm\n",
      "[download] 100% of    2.35MiB in 00:00:00 at 4.49MiB/s     \n",
      "[download] Finished downloading playlist: Lil Uzi Vert Featuring Lil Durk No Auto\n",
      "[generic] Extracting URL: Lil Uzi Vert Homecoming\n",
      "[youtube:search] Extracting URL: ytsearch:Lil Uzi Vert Homecoming\n",
      "[download] Downloading playlist: Lil Uzi Vert Homecoming\n",
      "[youtube:search] query \"Lil Uzi Vert Homecoming\": Downloading web client config\n",
      "[youtube:search] query \"Lil Uzi Vert Homecoming\" page 1: Downloading API JSON\n",
      "[youtube:search] Playlist Lil Uzi Vert Homecoming: Downloading 1 items of 1\n",
      "[download] Downloading item 1 of 1\n",
      "[youtube] Extracting URL: https://www.youtube.com/watch?v=7B9i2o2LJ-o\n",
      "[youtube] 7B9i2o2LJ-o: Downloading webpage\n",
      "[youtube] 7B9i2o2LJ-o: Downloading ios player API JSON\n",
      "[youtube] 7B9i2o2LJ-o: Downloading android player API JSON\n",
      "[youtube] 7B9i2o2LJ-o: Downloading m3u8 information\n",
      "[info] 7B9i2o2LJ-o: Downloading 1 format(s): 251\n",
      "[download] Destination: C:\\Users\\arwin\\Documents\\dev\\APS360-PROJECT\\data\\billboard_audio\\Lil Uzi Vert_Homecoming\\Lil Uzi Vert_Homecoming.webm\n",
      "[download] 100% of    3.60MiB in 00:00:00 at 4.88MiB/s     \n",
      "[download] Finished downloading playlist: Lil Uzi Vert Homecoming\n",
      "[generic] Extracting URL: Lil Uzi Vert Come This Way\n",
      "[youtube:search] Extracting URL: ytsearch:Lil Uzi Vert Come This Way\n",
      "[download] Downloading playlist: Lil Uzi Vert Come This Way\n",
      "[youtube:search] query \"Lil Uzi Vert Come This Way\": Downloading web client config\n",
      "[youtube:search] query \"Lil Uzi Vert Come This Way\" page 1: Downloading API JSON\n",
      "[youtube:search] Playlist Lil Uzi Vert Come This Way: Downloading 1 items of 1\n",
      "[download] Downloading item 1 of 1\n",
      "[youtube] Extracting URL: https://www.youtube.com/watch?v=W2alLpRbFUc\n",
      "[youtube] W2alLpRbFUc: Downloading webpage\n",
      "[youtube] W2alLpRbFUc: Downloading ios player API JSON\n",
      "[youtube] W2alLpRbFUc: Downloading android player API JSON\n"
     ]
    },
    {
     "name": "stderr",
     "output_type": "stream",
     "text": [
      "WARNING: [youtube] YouTube said: ERROR - Precondition check failed.\n",
      "WARNING: [youtube] HTTP Error 400: Bad Request. Retrying (1/3)...\n"
     ]
    },
    {
     "name": "stdout",
     "output_type": "stream",
     "text": [
      "[youtube] W2alLpRbFUc: Downloading android player API JSON\n",
      "[youtube] W2alLpRbFUc: Downloading m3u8 information\n",
      "[info] W2alLpRbFUc: Downloading 1 format(s): 251\n",
      "[download] Destination: C:\\Users\\arwin\\Documents\\dev\\APS360-PROJECT\\data\\billboard_audio\\Lil Uzi Vert_Come This Way\\Lil Uzi Vert_Come This Way.webm\n",
      "[download] 100% of    2.76MiB in 00:00:00 at 8.22MiB/s   \n",
      "[download] Finished downloading playlist: Lil Uzi Vert Come This Way\n",
      "[generic] Extracting URL: Lil Uzi Vert Featuring Young Thug Got The Guap\n",
      "[youtube:search] Extracting URL: ytsearch:Lil Uzi Vert Featuring Young Thug Got The Guap\n",
      "[download] Downloading playlist: Lil Uzi Vert Featuring Young Thug Got The Guap\n",
      "[youtube:search] query \"Lil Uzi Vert Featuring Young Thug Got The Guap\": Downloading web client config\n",
      "[youtube:search] query \"Lil Uzi Vert Featuring Young Thug Got The Guap\" page 1: Downloading API JSON\n",
      "[youtube:search] Playlist Lil Uzi Vert Featuring Young Thug Got The Guap: Downloading 1 items of 1\n",
      "[download] Downloading item 1 of 1\n",
      "[youtube] Extracting URL: https://www.youtube.com/watch?v=o9MMZCS9usw\n",
      "[youtube] o9MMZCS9usw: Downloading webpage\n",
      "[youtube] o9MMZCS9usw: Downloading ios player API JSON\n",
      "[youtube] o9MMZCS9usw: Downloading android player API JSON\n"
     ]
    },
    {
     "name": "stderr",
     "output_type": "stream",
     "text": [
      "WARNING: [youtube] YouTube said: ERROR - Precondition check failed.\n",
      "WARNING: [youtube] HTTP Error 400: Bad Request. Retrying (1/3)...\n"
     ]
    },
    {
     "name": "stdout",
     "output_type": "stream",
     "text": [
      "[youtube] o9MMZCS9usw: Downloading android player API JSON\n"
     ]
    },
    {
     "name": "stderr",
     "output_type": "stream",
     "text": [
      "WARNING: [youtube] YouTube said: ERROR - Precondition check failed.\n",
      "WARNING: [youtube] HTTP Error 400: Bad Request. Retrying (2/3)...\n"
     ]
    },
    {
     "name": "stdout",
     "output_type": "stream",
     "text": [
      "[youtube] o9MMZCS9usw: Downloading android player API JSON\n"
     ]
    },
    {
     "name": "stderr",
     "output_type": "stream",
     "text": [
      "WARNING: [youtube] YouTube said: ERROR - Precondition check failed.\n",
      "WARNING: [youtube] HTTP Error 400: Bad Request. Retrying (3/3)...\n"
     ]
    },
    {
     "name": "stdout",
     "output_type": "stream",
     "text": [
      "[youtube] o9MMZCS9usw: Downloading android player API JSON\n",
      "[youtube] o9MMZCS9usw: Downloading m3u8 information\n",
      "[info] o9MMZCS9usw: Downloading 1 format(s): 251\n",
      "[download] Destination: C:\\Users\\arwin\\Documents\\dev\\APS360-PROJECT\\data\\billboard_audio\\Lil Uzi Vert Featuring Young Thug_Got The Guap\\Lil Uzi Vert Featuring Young Thug_Got The Guap.webm\n",
      "[download] 100% of    2.77MiB in 00:00:00 at 4.76MiB/s   \n",
      "[download] Finished downloading playlist: Lil Uzi Vert Featuring Young Thug Got The Guap\n",
      "[generic] Extracting URL: Lil Uzi Vert Featuring Young Nudy Money Spread\n",
      "[youtube:search] Extracting URL: ytsearch:Lil Uzi Vert Featuring Young Nudy Money Spread\n",
      "[download] Downloading playlist: Lil Uzi Vert Featuring Young Nudy Money Spread\n",
      "[youtube:search] query \"Lil Uzi Vert Featuring Young Nudy Money Spread\": Downloading web client config\n",
      "[youtube:search] query \"Lil Uzi Vert Featuring Young Nudy Money Spread\" page 1: Downloading API JSON\n",
      "[youtube:search] Playlist Lil Uzi Vert Featuring Young Nudy Money Spread: Downloading 1 items of 1\n",
      "[download] Downloading item 1 of 1\n",
      "[youtube] Extracting URL: https://www.youtube.com/watch?v=HBeEwDfU8RI\n",
      "[youtube] HBeEwDfU8RI: Downloading webpage\n",
      "[youtube] HBeEwDfU8RI: Downloading ios player API JSON\n",
      "[youtube] HBeEwDfU8RI: Downloading android player API JSON\n",
      "[youtube] HBeEwDfU8RI: Downloading m3u8 information\n",
      "[info] HBeEwDfU8RI: Downloading 1 format(s): 251\n",
      "[download] Destination: C:\\Users\\arwin\\Documents\\dev\\APS360-PROJECT\\data\\billboard_audio\\Lil Uzi Vert Featuring Young Nudy_Money Spread\\Lil Uzi Vert Featuring Young Nudy_Money Spread.webm\n",
      "[download] 100% of    3.72MiB in 00:00:00 at 13.43MiB/s  \n",
      "[download] Finished downloading playlist: Lil Uzi Vert Featuring Young Nudy Money Spread\n",
      "[generic] Extracting URL: Lil Uzi Vert Futsal Shuffle 2020\n",
      "[youtube:search] Extracting URL: ytsearch:Lil Uzi Vert Futsal Shuffle 2020\n",
      "[download] Downloading playlist: Lil Uzi Vert Futsal Shuffle 2020\n",
      "[youtube:search] query \"Lil Uzi Vert Futsal Shuffle 2020\": Downloading web client config\n",
      "[youtube:search] query \"Lil Uzi Vert Futsal Shuffle 2020\" page 1: Downloading API JSON\n",
      "[youtube:search] Playlist Lil Uzi Vert Futsal Shuffle 2020: Downloading 1 items of 1\n",
      "[download] Downloading item 1 of 1\n",
      "[youtube] Extracting URL: https://www.youtube.com/watch?v=nwE_BsjBSUw\n",
      "[youtube] nwE_BsjBSUw: Downloading webpage\n",
      "[youtube] nwE_BsjBSUw: Downloading ios player API JSON\n",
      "[youtube] nwE_BsjBSUw: Downloading android player API JSON\n"
     ]
    },
    {
     "name": "stderr",
     "output_type": "stream",
     "text": [
      "WARNING: [youtube] YouTube said: ERROR - Precondition check failed.\n",
      "WARNING: [youtube] HTTP Error 400: Bad Request. Retrying (1/3)...\n"
     ]
    },
    {
     "name": "stdout",
     "output_type": "stream",
     "text": [
      "[youtube] nwE_BsjBSUw: Downloading android player API JSON\n"
     ]
    },
    {
     "name": "stderr",
     "output_type": "stream",
     "text": [
      "WARNING: [youtube] YouTube said: ERROR - Precondition check failed.\n",
      "WARNING: [youtube] HTTP Error 400: Bad Request. Retrying (2/3)...\n"
     ]
    },
    {
     "name": "stdout",
     "output_type": "stream",
     "text": [
      "[youtube] nwE_BsjBSUw: Downloading android player API JSON\n",
      "[youtube] nwE_BsjBSUw: Downloading m3u8 information\n",
      "[info] nwE_BsjBSUw: Downloading 1 format(s): 251\n",
      "[download] Destination: C:\\Users\\arwin\\Documents\\dev\\APS360-PROJECT\\data\\billboard_audio\\Lil Uzi Vert_Futsal Shuffle 2020\\Lil Uzi Vert_Futsal Shuffle 2020.webm\n",
      "[download] 100% of    3.51MiB in 00:00:00 at 11.84MiB/s  \n",
      "[download] Finished downloading playlist: Lil Uzi Vert Futsal Shuffle 2020\n",
      "[generic] Extracting URL: Lil Uzi Vert Prices\n",
      "[youtube:search] Extracting URL: ytsearch:Lil Uzi Vert Prices\n",
      "[download] Downloading playlist: Lil Uzi Vert Prices\n",
      "[youtube:search] query \"Lil Uzi Vert Prices\": Downloading web client config\n",
      "[youtube:search] query \"Lil Uzi Vert Prices\" page 1: Downloading API JSON\n",
      "[youtube:search] Playlist Lil Uzi Vert Prices: Downloading 1 items of 1\n",
      "[download] Downloading item 1 of 1\n",
      "[youtube] Extracting URL: https://www.youtube.com/watch?v=unW5KdvSMZw\n",
      "[youtube] unW5KdvSMZw: Downloading webpage\n",
      "[youtube] unW5KdvSMZw: Downloading ios player API JSON\n",
      "[youtube] unW5KdvSMZw: Downloading android player API JSON\n",
      "[youtube] unW5KdvSMZw: Downloading m3u8 information\n",
      "[info] unW5KdvSMZw: Downloading 1 format(s): 251\n",
      "[download] Destination: C:\\Users\\arwin\\Documents\\dev\\APS360-PROJECT\\data\\billboard_audio\\Lil Uzi Vert_Prices\\Lil Uzi Vert_Prices.webm\n",
      "[download] 100% of    3.93MiB in 00:00:00 at 9.12MiB/s   \n",
      "[download] Finished downloading playlist: Lil Uzi Vert Prices\n",
      "[generic] Extracting URL: Lil Uzi Vert POP\n",
      "[youtube:search] Extracting URL: ytsearch:Lil Uzi Vert POP\n",
      "[download] Downloading playlist: Lil Uzi Vert POP\n",
      "[youtube:search] query \"Lil Uzi Vert POP\": Downloading web client config\n",
      "[youtube:search] query \"Lil Uzi Vert POP\" page 1: Downloading API JSON\n",
      "[youtube:search] Playlist Lil Uzi Vert POP: Downloading 1 items of 1\n",
      "[download] Downloading item 1 of 1\n",
      "[youtube] Extracting URL: https://www.youtube.com/watch?v=J7JXgKfBqzM\n",
      "[youtube] J7JXgKfBqzM: Downloading webpage\n",
      "[youtube] J7JXgKfBqzM: Downloading ios player API JSON\n",
      "[youtube] J7JXgKfBqzM: Downloading android player API JSON\n"
     ]
    },
    {
     "name": "stderr",
     "output_type": "stream",
     "text": [
      "WARNING: [youtube] YouTube said: ERROR - Precondition check failed.\n",
      "WARNING: [youtube] HTTP Error 400: Bad Request. Retrying (1/3)...\n"
     ]
    },
    {
     "name": "stdout",
     "output_type": "stream",
     "text": [
      "[youtube] J7JXgKfBqzM: Downloading android player API JSON\n"
     ]
    },
    {
     "name": "stderr",
     "output_type": "stream",
     "text": [
      "WARNING: [youtube] YouTube said: ERROR - Precondition check failed.\n",
      "WARNING: [youtube] HTTP Error 400: Bad Request. Retrying (2/3)...\n"
     ]
    },
    {
     "name": "stdout",
     "output_type": "stream",
     "text": [
      "[youtube] J7JXgKfBqzM: Downloading android player API JSON\n",
      "[youtube] J7JXgKfBqzM: Downloading m3u8 information\n",
      "[info] J7JXgKfBqzM: Downloading 1 format(s): 251\n",
      "[download] Destination: C:\\Users\\arwin\\Documents\\dev\\APS360-PROJECT\\data\\billboard_audio\\Lil Uzi Vert_POP\\Lil Uzi Vert_POP.webm\n",
      "[download] 100% of    3.89MiB in 00:00:00 at 5.93MiB/s   \n",
      "[download] Finished downloading playlist: Lil Uzi Vert POP\n",
      "[generic] Extracting URL: Lil Uzi Vert Bigger Than Life\n",
      "[youtube:search] Extracting URL: ytsearch:Lil Uzi Vert Bigger Than Life\n",
      "[download] Downloading playlist: Lil Uzi Vert Bigger Than Life\n",
      "[youtube:search] query \"Lil Uzi Vert Bigger Than Life\": Downloading web client config\n",
      "[youtube:search] query \"Lil Uzi Vert Bigger Than Life\" page 1: Downloading API JSON\n",
      "[youtube:search] Playlist Lil Uzi Vert Bigger Than Life: Downloading 1 items of 1\n",
      "[download] Downloading item 1 of 1\n",
      "[youtube] Extracting URL: https://www.youtube.com/watch?v=AsTnj-kLfJw\n",
      "[youtube] AsTnj-kLfJw: Downloading webpage\n",
      "[youtube] AsTnj-kLfJw: Downloading ios player API JSON\n",
      "[youtube] AsTnj-kLfJw: Downloading android player API JSON\n",
      "[youtube] AsTnj-kLfJw: Downloading m3u8 information\n",
      "[info] AsTnj-kLfJw: Downloading 1 format(s): 251\n",
      "[download] Destination: C:\\Users\\arwin\\Documents\\dev\\APS360-PROJECT\\data\\billboard_audio\\Lil Uzi Vert_Bigger Than Life\\Lil Uzi Vert_Bigger Than Life.webm\n",
      "[download] 100% of    3.09MiB in 00:00:00 at 8.78MiB/s     \n",
      "[download] Finished downloading playlist: Lil Uzi Vert Bigger Than Life\n",
      "[generic] Extracting URL: Lil Uzi Vert Celebration Station\n",
      "[youtube:search] Extracting URL: ytsearch:Lil Uzi Vert Celebration Station\n",
      "[download] Downloading playlist: Lil Uzi Vert Celebration Station\n",
      "[youtube:search] query \"Lil Uzi Vert Celebration Station\": Downloading web client config\n",
      "[youtube:search] query \"Lil Uzi Vert Celebration Station\" page 1: Downloading API JSON\n",
      "[youtube:search] Playlist Lil Uzi Vert Celebration Station: Downloading 1 items of 1\n",
      "[download] Downloading item 1 of 1\n",
      "[youtube] Extracting URL: https://www.youtube.com/watch?v=XLNbskqZml0\n",
      "[youtube] XLNbskqZml0: Downloading webpage\n",
      "[youtube] XLNbskqZml0: Downloading ios player API JSON\n",
      "[youtube] XLNbskqZml0: Downloading android player API JSON\n",
      "[youtube] XLNbskqZml0: Downloading m3u8 information\n",
      "[info] XLNbskqZml0: Downloading 1 format(s): 251\n",
      "[download] Destination: C:\\Users\\arwin\\Documents\\dev\\APS360-PROJECT\\data\\billboard_audio\\Lil Uzi Vert_Celebration Station\\Lil Uzi Vert_Celebration Station.webm\n",
      "[download] 100% of    3.04MiB in 00:00:00 at 9.73MiB/s   \n",
      "[download] Finished downloading playlist: Lil Uzi Vert Celebration Station\n",
      "[generic] Extracting URL: Lil Uzi Vert You Better Move\n",
      "[youtube:search] Extracting URL: ytsearch:Lil Uzi Vert You Better Move\n",
      "[download] Downloading playlist: Lil Uzi Vert You Better Move\n",
      "[youtube:search] query \"Lil Uzi Vert You Better Move\": Downloading web client config\n",
      "[youtube:search] query \"Lil Uzi Vert You Better Move\" page 1: Downloading API JSON\n",
      "[youtube:search] Playlist Lil Uzi Vert You Better Move: Downloading 1 items of 1\n",
      "[download] Downloading item 1 of 1\n",
      "[youtube] Extracting URL: https://www.youtube.com/watch?v=OVJYrKkpb8I\n",
      "[youtube] OVJYrKkpb8I: Downloading webpage\n",
      "[youtube] OVJYrKkpb8I: Downloading ios player API JSON\n",
      "[youtube] OVJYrKkpb8I: Downloading android player API JSON\n",
      "[youtube] OVJYrKkpb8I: Downloading m3u8 information\n",
      "[info] OVJYrKkpb8I: Downloading 1 format(s): 251\n",
      "[download] Destination: C:\\Users\\arwin\\Documents\\dev\\APS360-PROJECT\\data\\billboard_audio\\Lil Uzi Vert_You Better Move\\Lil Uzi Vert_You Better Move.webm\n",
      "[download] 100% of    3.07MiB in 00:00:00 at 6.45MiB/s   \n",
      "[download] Finished downloading playlist: Lil Uzi Vert You Better Move\n",
      "[generic] Extracting URL: Lil Uzi Vert I'm Sorry\n",
      "[youtube:search] Extracting URL: ytsearch:Lil Uzi Vert I'm Sorry\n",
      "[download] Downloading playlist: Lil Uzi Vert I'm Sorry\n",
      "[youtube:search] query \"Lil Uzi Vert I'm Sorry\": Downloading web client config\n",
      "[youtube:search] query \"Lil Uzi Vert I'm Sorry\" page 1: Downloading API JSON\n",
      "[youtube:search] Playlist Lil Uzi Vert I'm Sorry: Downloading 1 items of 1\n",
      "[download] Downloading item 1 of 1\n",
      "[youtube] Extracting URL: https://www.youtube.com/watch?v=6y4Ww4rKRSU\n",
      "[youtube] 6y4Ww4rKRSU: Downloading webpage\n",
      "[youtube] 6y4Ww4rKRSU: Downloading ios player API JSON\n",
      "[youtube] 6y4Ww4rKRSU: Downloading android player API JSON\n",
      "[youtube] 6y4Ww4rKRSU: Downloading m3u8 information\n",
      "[info] 6y4Ww4rKRSU: Downloading 1 format(s): 251\n",
      "[download] Destination: C:\\Users\\arwin\\Documents\\dev\\APS360-PROJECT\\data\\billboard_audio\\Lil Uzi Vert_I'm Sorry\\Lil Uzi Vert_I'm Sorry.webm\n",
      "[download] 100% of    3.45MiB in 00:00:00 at 9.80MiB/s   \n",
      "[download] Finished downloading playlist: Lil Uzi Vert I'm Sorry\n",
      "[generic] Extracting URL: Lil Uzi Vert Venetia\n",
      "[youtube:search] Extracting URL: ytsearch:Lil Uzi Vert Venetia\n",
      "[download] Downloading playlist: Lil Uzi Vert Venetia\n",
      "[youtube:search] query \"Lil Uzi Vert Venetia\": Downloading web client config\n",
      "[youtube:search] query \"Lil Uzi Vert Venetia\" page 1: Downloading API JSON\n",
      "[youtube:search] Playlist Lil Uzi Vert Venetia: Downloading 1 items of 1\n",
      "[download] Downloading item 1 of 1\n",
      "[youtube] Extracting URL: https://www.youtube.com/watch?v=hihYATpt9oo\n",
      "[youtube] hihYATpt9oo: Downloading webpage\n",
      "[youtube] hihYATpt9oo: Downloading ios player API JSON\n",
      "[youtube] hihYATpt9oo: Downloading android player API JSON\n"
     ]
    },
    {
     "name": "stderr",
     "output_type": "stream",
     "text": [
      "WARNING: [youtube] YouTube said: ERROR - Precondition check failed.\n",
      "WARNING: [youtube] HTTP Error 400: Bad Request. Retrying (1/3)...\n"
     ]
    },
    {
     "name": "stdout",
     "output_type": "stream",
     "text": [
      "[youtube] hihYATpt9oo: Downloading android player API JSON\n",
      "[youtube] hihYATpt9oo: Downloading m3u8 information\n",
      "[info] hihYATpt9oo: Downloading 1 format(s): 251\n",
      "[download] Destination: C:\\Users\\arwin\\Documents\\dev\\APS360-PROJECT\\data\\billboard_audio\\Lil Uzi Vert_Venetia\\Lil Uzi Vert_Venetia.webm\n",
      "[download] 100% of    3.10MiB in 00:00:00 at 5.63MiB/s     \n",
      "[download] Finished downloading playlist: Lil Uzi Vert Venetia\n",
      "[generic] Extracting URL: Lil Uzi Vert Chrome Heart Tags\n",
      "[youtube:search] Extracting URL: ytsearch:Lil Uzi Vert Chrome Heart Tags\n",
      "[download] Downloading playlist: Lil Uzi Vert Chrome Heart Tags\n",
      "[youtube:search] query \"Lil Uzi Vert Chrome Heart Tags\": Downloading web client config\n",
      "[youtube:search] query \"Lil Uzi Vert Chrome Heart Tags\" page 1: Downloading API JSON\n",
      "[youtube:search] Playlist Lil Uzi Vert Chrome Heart Tags: Downloading 1 items of 1\n",
      "[download] Downloading item 1 of 1\n",
      "[youtube] Extracting URL: https://www.youtube.com/watch?v=GMHcm7xzsww\n",
      "[youtube] GMHcm7xzsww: Downloading webpage\n",
      "[youtube] GMHcm7xzsww: Downloading ios player API JSON\n",
      "[youtube] GMHcm7xzsww: Downloading android player API JSON\n",
      "[youtube] GMHcm7xzsww: Downloading m3u8 information\n",
      "[info] GMHcm7xzsww: Downloading 1 format(s): 251\n",
      "[download] Destination: C:\\Users\\arwin\\Documents\\dev\\APS360-PROJECT\\data\\billboard_audio\\Lil Uzi Vert_Chrome Heart Tags\\Lil Uzi Vert_Chrome Heart Tags.webm\n",
      "[download] 100% of    3.58MiB in 00:00:00 at 16.80MiB/s  \n",
      "[download] Finished downloading playlist: Lil Uzi Vert Chrome Heart Tags\n",
      "[generic] Extracting URL: Lil Uzi Vert Bust Me\n",
      "[youtube:search] Extracting URL: ytsearch:Lil Uzi Vert Bust Me\n",
      "[download] Downloading playlist: Lil Uzi Vert Bust Me\n",
      "[youtube:search] query \"Lil Uzi Vert Bust Me\": Downloading web client config\n",
      "[youtube:search] query \"Lil Uzi Vert Bust Me\" page 1: Downloading API JSON\n",
      "[youtube:search] Playlist Lil Uzi Vert Bust Me: Downloading 1 items of 1\n",
      "[download] Downloading item 1 of 1\n",
      "[youtube] Extracting URL: https://www.youtube.com/watch?v=SnfipWGQfAk\n",
      "[youtube] SnfipWGQfAk: Downloading webpage\n",
      "[youtube] SnfipWGQfAk: Downloading ios player API JSON\n",
      "[youtube] SnfipWGQfAk: Downloading android player API JSON\n"
     ]
    },
    {
     "name": "stderr",
     "output_type": "stream",
     "text": [
      "WARNING: [youtube] YouTube said: ERROR - Precondition check failed.\n",
      "WARNING: [youtube] HTTP Error 400: Bad Request. Retrying (1/3)...\n"
     ]
    },
    {
     "name": "stdout",
     "output_type": "stream",
     "text": [
      "[youtube] SnfipWGQfAk: Downloading android player API JSON\n"
     ]
    },
    {
     "name": "stderr",
     "output_type": "stream",
     "text": [
      "WARNING: [youtube] YouTube said: ERROR - Precondition check failed.\n",
      "WARNING: [youtube] HTTP Error 400: Bad Request. Retrying (2/3)...\n"
     ]
    },
    {
     "name": "stdout",
     "output_type": "stream",
     "text": [
      "[youtube] SnfipWGQfAk: Downloading android player API JSON\n"
     ]
    },
    {
     "name": "stderr",
     "output_type": "stream",
     "text": [
      "WARNING: [youtube] YouTube said: ERROR - Precondition check failed.\n",
      "WARNING: [youtube] HTTP Error 400: Bad Request. Retrying (3/3)...\n"
     ]
    },
    {
     "name": "stdout",
     "output_type": "stream",
     "text": [
      "[youtube] SnfipWGQfAk: Downloading android player API JSON\n"
     ]
    },
    {
     "name": "stderr",
     "output_type": "stream",
     "text": [
      "WARNING: [youtube] YouTube said: ERROR - Precondition check failed.\n",
      "WARNING: [youtube] Unable to download API page: HTTP Error 400: Bad Request (caused by <HTTPError 400: Bad Request>); please report this issue on  https://github.com/yt-dlp/yt-dlp/issues?q= , filling out the appropriate issue template. Confirm you are on the latest version using  yt-dlp -U\n"
     ]
    },
    {
     "name": "stdout",
     "output_type": "stream",
     "text": [
      "[youtube] SnfipWGQfAk: Downloading m3u8 information\n",
      "[info] SnfipWGQfAk: Downloading 1 format(s): 251\n",
      "[download] Destination: C:\\Users\\arwin\\Documents\\dev\\APS360-PROJECT\\data\\billboard_audio\\Lil Uzi Vert_Bust Me\\Lil Uzi Vert_Bust Me.webm\n",
      "[download] 100% of    3.16MiB in 00:00:00 at 13.70MiB/s    \n",
      "[download] Finished downloading playlist: Lil Uzi Vert Bust Me\n",
      "[generic] Extracting URL: Jhene Aiko Featuring Future & Miguel Happiness Over Everything (H_O_E_)\n",
      "[youtube:search] Extracting URL: ytsearch:Jhene Aiko Featuring Future & Miguel Happiness Over Everything (H_O_E_)\n",
      "[download] Downloading playlist: Jhene Aiko Featuring Future & Miguel Happiness Over Everything (H_O_E_)\n",
      "[youtube:search] query \"Jhene Aiko Featuring Future & Miguel Happiness Over Everything (H_O_E_)\": Downloading web client config\n",
      "[youtube:search] query \"Jhene Aiko Featuring Future & Miguel Happiness Over Everything (H_O_E_)\" page 1: Downloading API JSON\n",
      "[youtube:search] Playlist Jhene Aiko Featuring Future & Miguel Happiness Over Everything (H_O_E_): Downloading 1 items of 1\n",
      "[download] Downloading item 1 of 1\n",
      "[youtube] Extracting URL: https://www.youtube.com/watch?v=xVfddViugYQ\n",
      "[youtube] xVfddViugYQ: Downloading webpage\n",
      "[youtube] xVfddViugYQ: Downloading ios player API JSON\n",
      "[youtube] xVfddViugYQ: Downloading android player API JSON\n",
      "[youtube] xVfddViugYQ: Downloading m3u8 information\n",
      "[info] xVfddViugYQ: Downloading 1 format(s): 251\n",
      "[download] Destination: C:\\Users\\arwin\\Documents\\dev\\APS360-PROJECT\\data\\billboard_audio\\Jhene Aiko Featuring Future & Miguel_Happiness Over Everything (H_O_E_)\\Jhene Aiko Featuring Future & Miguel_Happiness Over Everything (H_O_E_).webm\n",
      "[download] 100% of    2.97MiB in 00:00:00 at 9.02MiB/s   \n",
      "[download] Finished downloading playlist: Jhene Aiko Featuring Future & Miguel Happiness Over Everything (H_O_E_)\n",
      "[generic] Extracting URL: Lil Baby Featuring Lil Uzi Vert Commercial\n",
      "[youtube:search] Extracting URL: ytsearch:Lil Baby Featuring Lil Uzi Vert Commercial\n",
      "[download] Downloading playlist: Lil Baby Featuring Lil Uzi Vert Commercial\n",
      "[youtube:search] query \"Lil Baby Featuring Lil Uzi Vert Commercial\": Downloading web client config\n",
      "[youtube:search] query \"Lil Baby Featuring Lil Uzi Vert Commercial\" page 1: Downloading API JSON\n",
      "[youtube:search] Playlist Lil Baby Featuring Lil Uzi Vert Commercial: Downloading 1 items of 1\n",
      "[download] Downloading item 1 of 1\n",
      "[youtube] Extracting URL: https://www.youtube.com/watch?v=h70ljX25Bf8\n",
      "[youtube] h70ljX25Bf8: Downloading webpage\n",
      "[youtube] h70ljX25Bf8: Downloading ios player API JSON\n",
      "[youtube] h70ljX25Bf8: Downloading android player API JSON\n"
     ]
    },
    {
     "name": "stderr",
     "output_type": "stream",
     "text": [
      "WARNING: [youtube] YouTube said: ERROR - Precondition check failed.\n",
      "WARNING: [youtube] HTTP Error 400: Bad Request. Retrying (1/3)...\n"
     ]
    },
    {
     "name": "stdout",
     "output_type": "stream",
     "text": [
      "[youtube] h70ljX25Bf8: Downloading android player API JSON\n"
     ]
    },
    {
     "name": "stderr",
     "output_type": "stream",
     "text": [
      "WARNING: [youtube] YouTube said: ERROR - Precondition check failed.\n",
      "WARNING: [youtube] HTTP Error 400: Bad Request. Retrying (2/3)...\n"
     ]
    },
    {
     "name": "stdout",
     "output_type": "stream",
     "text": [
      "[youtube] h70ljX25Bf8: Downloading android player API JSON\n",
      "[youtube] h70ljX25Bf8: Downloading m3u8 information\n",
      "[info] h70ljX25Bf8: Downloading 1 format(s): 251\n",
      "[download] Destination: C:\\Users\\arwin\\Documents\\dev\\APS360-PROJECT\\data\\billboard_audio\\Lil Baby Featuring Lil Uzi Vert_Commercial\\Lil Baby Featuring Lil Uzi Vert_Commercial.webm\n",
      "[download] 100% of    3.72MiB in 00:00:00 at 11.79MiB/s    \n",
      "[download] Finished downloading playlist: Lil Baby Featuring Lil Uzi Vert Commercial\n",
      "[generic] Extracting URL: Doja Cat & Tyga Juicy\n",
      "[youtube:search] Extracting URL: ytsearch:Doja Cat & Tyga Juicy\n",
      "[download] Downloading playlist: Doja Cat & Tyga Juicy\n",
      "[youtube:search] query \"Doja Cat & Tyga Juicy\": Downloading web client config\n",
      "[youtube:search] query \"Doja Cat & Tyga Juicy\" page 1: Downloading API JSON\n",
      "[youtube:search] Playlist Doja Cat & Tyga Juicy: Downloading 1 items of 1\n",
      "[download] Downloading item 1 of 1\n",
      "[youtube] Extracting URL: https://www.youtube.com/watch?v=YIALlhlyqO4\n",
      "[youtube] YIALlhlyqO4: Downloading webpage\n",
      "[youtube] YIALlhlyqO4: Downloading ios player API JSON\n",
      "[youtube] YIALlhlyqO4: Downloading android player API JSON\n"
     ]
    },
    {
     "name": "stderr",
     "output_type": "stream",
     "text": [
      "WARNING: [youtube] YouTube said: ERROR - Precondition check failed.\n",
      "WARNING: [youtube] HTTP Error 400: Bad Request. Retrying (1/3)...\n"
     ]
    },
    {
     "name": "stdout",
     "output_type": "stream",
     "text": [
      "[youtube] YIALlhlyqO4: Downloading android player API JSON\n",
      "[youtube] YIALlhlyqO4: Downloading m3u8 information\n",
      "[info] YIALlhlyqO4: Downloading 1 format(s): 251\n",
      "[download] Destination: C:\\Users\\arwin\\Documents\\dev\\APS360-PROJECT\\data\\billboard_audio\\Doja Cat & Tyga_Juicy\\Doja Cat & Tyga_Juicy.webm\n",
      "[download] 100% of    3.60MiB in 00:00:00 at 13.73MiB/s    \n",
      "[download] Finished downloading playlist: Doja Cat & Tyga Juicy\n",
      "[generic] Extracting URL: Lil Uzi Vert Secure The Bag\n",
      "[youtube:search] Extracting URL: ytsearch:Lil Uzi Vert Secure The Bag\n",
      "[download] Downloading playlist: Lil Uzi Vert Secure The Bag\n",
      "[youtube:search] query \"Lil Uzi Vert Secure The Bag\": Downloading web client config\n",
      "[youtube:search] query \"Lil Uzi Vert Secure The Bag\" page 1: Downloading API JSON\n",
      "[youtube:search] Playlist Lil Uzi Vert Secure The Bag: Downloading 1 items of 1\n",
      "[download] Downloading item 1 of 1\n",
      "[youtube] Extracting URL: https://www.youtube.com/watch?v=bC6K8abKbDg\n",
      "[youtube] bC6K8abKbDg: Downloading webpage\n",
      "[youtube] bC6K8abKbDg: Downloading ios player API JSON\n",
      "[youtube] bC6K8abKbDg: Downloading android player API JSON\n",
      "[youtube] bC6K8abKbDg: Downloading m3u8 information\n",
      "[info] bC6K8abKbDg: Downloading 1 format(s): 251\n",
      "[download] Destination: C:\\Users\\arwin\\Documents\\dev\\APS360-PROJECT\\data\\billboard_audio\\Lil Uzi Vert_Secure The Bag\\Lil Uzi Vert_Secure The Bag.webm\n",
      "[download] 100% of    4.09MiB in 00:00:00 at 7.05MiB/s   \n",
      "[download] Finished downloading playlist: Lil Uzi Vert Secure The Bag\n",
      "[generic] Extracting URL: Lil Uzi Vert Featuring Syd Urgency\n",
      "[youtube:search] Extracting URL: ytsearch:Lil Uzi Vert Featuring Syd Urgency\n",
      "[download] Downloading playlist: Lil Uzi Vert Featuring Syd Urgency\n",
      "[youtube:search] query \"Lil Uzi Vert Featuring Syd Urgency\": Downloading web client config\n",
      "[youtube:search] query \"Lil Uzi Vert Featuring Syd Urgency\" page 1: Downloading API JSON\n",
      "[youtube:search] Playlist Lil Uzi Vert Featuring Syd Urgency: Downloading 1 items of 1\n",
      "[download] Downloading item 1 of 1\n",
      "[youtube] Extracting URL: https://www.youtube.com/watch?v=XP9M8OB0Rlw\n",
      "[youtube] XP9M8OB0Rlw: Downloading webpage\n",
      "[youtube] XP9M8OB0Rlw: Downloading ios player API JSON\n",
      "[youtube] XP9M8OB0Rlw: Downloading android player API JSON\n"
     ]
    },
    {
     "name": "stderr",
     "output_type": "stream",
     "text": [
      "WARNING: [youtube] YouTube said: ERROR - Precondition check failed.\n",
      "WARNING: [youtube] HTTP Error 400: Bad Request. Retrying (1/3)...\n"
     ]
    },
    {
     "name": "stdout",
     "output_type": "stream",
     "text": [
      "[youtube] XP9M8OB0Rlw: Downloading android player API JSON\n",
      "[youtube] XP9M8OB0Rlw: Downloading m3u8 information\n",
      "[info] XP9M8OB0Rlw: Downloading 1 format(s): 251\n",
      "[download] Destination: C:\\Users\\arwin\\Documents\\dev\\APS360-PROJECT\\data\\billboard_audio\\Lil Uzi Vert Featuring Syd_Urgency\\Lil Uzi Vert Featuring Syd_Urgency.webm\n",
      "[download] 100% of    2.90MiB in 00:00:00 at 8.10MiB/s   \n",
      "[download] Finished downloading playlist: Lil Uzi Vert Featuring Syd Urgency\n",
      "[generic] Extracting URL: Bad Bunny & Sech Ignorantes\n",
      "[youtube:search] Extracting URL: ytsearch:Bad Bunny & Sech Ignorantes\n",
      "[download] Downloading playlist: Bad Bunny & Sech Ignorantes\n",
      "[youtube:search] query \"Bad Bunny & Sech Ignorantes\": Downloading web client config\n",
      "[youtube:search] query \"Bad Bunny & Sech Ignorantes\" page 1: Downloading API JSON\n",
      "[youtube:search] Playlist Bad Bunny & Sech Ignorantes: Downloading 1 items of 1\n",
      "[download] Downloading item 1 of 1\n",
      "[youtube] Extracting URL: https://www.youtube.com/watch?v=PC0GvyEIXfk\n",
      "[youtube] PC0GvyEIXfk: Downloading webpage\n",
      "[youtube] PC0GvyEIXfk: Downloading ios player API JSON\n",
      "[youtube] PC0GvyEIXfk: Downloading android player API JSON\n"
     ]
    },
    {
     "name": "stderr",
     "output_type": "stream",
     "text": [
      "WARNING: [youtube] YouTube said: ERROR - Precondition check failed.\n",
      "WARNING: [youtube] HTTP Error 400: Bad Request. Retrying (1/3)...\n"
     ]
    },
    {
     "name": "stdout",
     "output_type": "stream",
     "text": [
      "[youtube] PC0GvyEIXfk: Downloading android player API JSON\n",
      "[youtube] PC0GvyEIXfk: Downloading m3u8 information\n",
      "[info] PC0GvyEIXfk: Downloading 1 format(s): 251\n",
      "[download] Destination: C:\\Users\\arwin\\Documents\\dev\\APS360-PROJECT\\data\\billboard_audio\\Bad Bunny & Sech_Ignorantes\\Bad Bunny & Sech_Ignorantes.webm\n",
      "[download] 100% of    4.34MiB in 00:00:00 at 7.52MiB/s   \n",
      "[download] Finished downloading playlist: Bad Bunny & Sech Ignorantes\n",
      "[generic] Extracting URL: Jhene Aiko Triggered\n",
      "[youtube:search] Extracting URL: ytsearch:Jhene Aiko Triggered\n",
      "[download] Downloading playlist: Jhene Aiko Triggered\n",
      "[youtube:search] query \"Jhene Aiko Triggered\": Downloading web client config\n",
      "[youtube:search] query \"Jhene Aiko Triggered\" page 1: Downloading API JSON\n",
      "[youtube:search] Playlist Jhene Aiko Triggered: Downloading 1 items of 1\n",
      "[download] Downloading item 1 of 1\n",
      "[youtube] Extracting URL: https://www.youtube.com/watch?v=t3aHdZfJckg\n",
      "[youtube] t3aHdZfJckg: Downloading webpage\n",
      "[youtube] t3aHdZfJckg: Downloading ios player API JSON\n",
      "[youtube] t3aHdZfJckg: Downloading android player API JSON\n",
      "[youtube] t3aHdZfJckg: Downloading m3u8 information\n",
      "[info] t3aHdZfJckg: Downloading 1 format(s): 251\n",
      "[download] Destination: C:\\Users\\arwin\\Documents\\dev\\APS360-PROJECT\\data\\billboard_audio\\Jhene Aiko_Triggered\\Jhene Aiko_Triggered.webm\n",
      "[download] 100% of    3.61MiB in 00:00:00 at 5.89MiB/s   \n",
      "[download] Finished downloading playlist: Jhene Aiko Triggered\n",
      "[generic] Extracting URL: Bad Bunny X Daddy Yankee La Santa\n",
      "[youtube:search] Extracting URL: ytsearch:Bad Bunny X Daddy Yankee La Santa\n",
      "[download] Downloading playlist: Bad Bunny X Daddy Yankee La Santa\n",
      "[youtube:search] query \"Bad Bunny X Daddy Yankee La Santa\": Downloading web client config\n",
      "[youtube:search] query \"Bad Bunny X Daddy Yankee La Santa\" page 1: Downloading API JSON\n",
      "[youtube:search] Playlist Bad Bunny X Daddy Yankee La Santa: Downloading 1 items of 1\n",
      "[download] Downloading item 1 of 1\n",
      "[youtube] Extracting URL: https://www.youtube.com/watch?v=JUxITamPWrY\n",
      "[youtube] JUxITamPWrY: Downloading webpage\n",
      "[youtube] JUxITamPWrY: Downloading ios player API JSON\n",
      "[youtube] JUxITamPWrY: Downloading android player API JSON\n",
      "[youtube] JUxITamPWrY: Downloading m3u8 information\n",
      "[info] JUxITamPWrY: Downloading 1 format(s): 251\n",
      "[download] Destination: C:\\Users\\arwin\\Documents\\dev\\APS360-PROJECT\\data\\billboard_audio\\Bad Bunny X Daddy Yankee_La Santa\\Bad Bunny X Daddy Yankee_La Santa.webm\n",
      "[download] 100% of    3.56MiB in 00:00:00 at 4.55MiB/s   \n",
      "[download] Finished downloading playlist: Bad Bunny X Daddy Yankee La Santa\n",
      "[generic] Extracting URL: Jhene Aiko Featuring Big Sean None Of Your Concern\n",
      "[youtube:search] Extracting URL: ytsearch:Jhene Aiko Featuring Big Sean None Of Your Concern\n",
      "[download] Downloading playlist: Jhene Aiko Featuring Big Sean None Of Your Concern\n",
      "[youtube:search] query \"Jhene Aiko Featuring Big Sean None Of Your Concern\": Downloading web client config\n",
      "[youtube:search] query \"Jhene Aiko Featuring Big Sean None Of Your Concern\" page 1: Downloading API JSON\n",
      "[youtube:search] Playlist Jhene Aiko Featuring Big Sean None Of Your Concern: Downloading 1 items of 1\n",
      "[download] Downloading item 1 of 1\n",
      "[youtube] Extracting URL: https://www.youtube.com/watch?v=PmeRjrz8KVw\n",
      "[youtube] PmeRjrz8KVw: Downloading webpage\n",
      "[youtube] PmeRjrz8KVw: Downloading ios player API JSON\n",
      "[youtube] PmeRjrz8KVw: Downloading android player API JSON\n"
     ]
    },
    {
     "name": "stderr",
     "output_type": "stream",
     "text": [
      "WARNING: [youtube] YouTube said: ERROR - Precondition check failed.\n",
      "WARNING: [youtube] HTTP Error 400: Bad Request. Retrying (1/3)...\n"
     ]
    },
    {
     "name": "stdout",
     "output_type": "stream",
     "text": [
      "[youtube] PmeRjrz8KVw: Downloading android player API JSON\n",
      "[youtube] PmeRjrz8KVw: Downloading m3u8 information\n",
      "[info] PmeRjrz8KVw: Downloading 1 format(s): 251\n",
      "[download] Destination: C:\\Users\\arwin\\Documents\\dev\\APS360-PROJECT\\data\\billboard_audio\\Jhene Aiko Featuring Big Sean_None Of Your Concern\\Jhene Aiko Featuring Big Sean_None Of Your Concern.webm\n",
      "[download] 100% of    4.38MiB in 00:00:01 at 2.37MiB/s   \n",
      "[download] Finished downloading playlist: Jhene Aiko Featuring Big Sean None Of Your Concern\n",
      "[generic] Extracting URL: BrockHampton SUGAR\n",
      "[youtube:search] Extracting URL: ytsearch:BrockHampton SUGAR\n",
      "[download] Downloading playlist: BrockHampton SUGAR\n",
      "[youtube:search] query \"BrockHampton SUGAR\": Downloading web client config\n",
      "[youtube:search] query \"BrockHampton SUGAR\" page 1: Downloading API JSON\n",
      "[youtube:search] Playlist BrockHampton SUGAR: Downloading 1 items of 1\n",
      "[download] Downloading item 1 of 1\n",
      "[youtube] Extracting URL: https://www.youtube.com/watch?v=sZd-t5-I5uA\n",
      "[youtube] sZd-t5-I5uA: Downloading webpage\n",
      "[youtube] sZd-t5-I5uA: Downloading ios player API JSON\n",
      "[youtube] sZd-t5-I5uA: Downloading android player API JSON\n"
     ]
    },
    {
     "name": "stderr",
     "output_type": "stream",
     "text": [
      "WARNING: [youtube] YouTube said: ERROR - Precondition check failed.\n",
      "WARNING: [youtube] HTTP Error 400: Bad Request. Retrying (1/3)...\n"
     ]
    },
    {
     "name": "stdout",
     "output_type": "stream",
     "text": [
      "[youtube] sZd-t5-I5uA: Downloading android player API JSON\n",
      "[youtube] sZd-t5-I5uA: Downloading m3u8 information\n",
      "[info] sZd-t5-I5uA: Downloading 1 format(s): 251\n",
      "[download] Destination: C:\\Users\\arwin\\Documents\\dev\\APS360-PROJECT\\data\\billboard_audio\\BrockHampton_SUGAR\\BrockHampton_SUGAR.webm\n",
      "[download] 100% of    3.29MiB in 00:00:00 at 4.46MiB/s     \n",
      "[download] Finished downloading playlist: BrockHampton SUGAR\n",
      "[generic] Extracting URL: Lil Baby Featuring Future Live Off My Closet\n",
      "[youtube:search] Extracting URL: ytsearch:Lil Baby Featuring Future Live Off My Closet\n",
      "[download] Downloading playlist: Lil Baby Featuring Future Live Off My Closet\n",
      "[youtube:search] query \"Lil Baby Featuring Future Live Off My Closet\": Downloading web client config\n",
      "[youtube:search] query \"Lil Baby Featuring Future Live Off My Closet\" page 1: Downloading API JSON\n",
      "[youtube:search] Playlist Lil Baby Featuring Future Live Off My Closet: Downloading 1 items of 1\n",
      "[download] Downloading item 1 of 1\n",
      "[youtube] Extracting URL: https://www.youtube.com/watch?v=lm3_YSMazpo\n",
      "[youtube] lm3_YSMazpo: Downloading webpage\n",
      "[youtube] lm3_YSMazpo: Downloading ios player API JSON\n",
      "[youtube] lm3_YSMazpo: Downloading android player API JSON\n",
      "[youtube] lm3_YSMazpo: Downloading m3u8 information\n",
      "[info] lm3_YSMazpo: Downloading 1 format(s): 251\n",
      "[download] Destination: C:\\Users\\arwin\\Documents\\dev\\APS360-PROJECT\\data\\billboard_audio\\Lil Baby Featuring Future_Live Off My Closet\\Lil Baby Featuring Future_Live Off My Closet.webm\n",
      "[download] 100% of    3.32MiB in 00:00:00 at 3.56MiB/s     \n",
      "[download] Finished downloading playlist: Lil Baby Featuring Future Live Off My Closet\n",
      "[generic] Extracting URL: Shawn Mendes & Camila Cabello Senorita\n",
      "[youtube:search] Extracting URL: ytsearch:Shawn Mendes & Camila Cabello Senorita\n",
      "[download] Downloading playlist: Shawn Mendes & Camila Cabello Senorita\n",
      "[youtube:search] query \"Shawn Mendes & Camila Cabello Senorita\": Downloading web client config\n",
      "[youtube:search] query \"Shawn Mendes & Camila Cabello Senorita\" page 1: Downloading API JSON\n",
      "[youtube:search] Playlist Shawn Mendes & Camila Cabello Senorita: Downloading 1 items of 1\n",
      "[download] Downloading item 1 of 1\n",
      "[youtube] Extracting URL: https://www.youtube.com/watch?v=Pkh8UtuejGw\n",
      "[youtube] Pkh8UtuejGw: Downloading webpage\n",
      "[youtube] Pkh8UtuejGw: Downloading ios player API JSON\n",
      "[youtube] Pkh8UtuejGw: Downloading android player API JSON\n"
     ]
    },
    {
     "name": "stderr",
     "output_type": "stream",
     "text": [
      "WARNING: [youtube] YouTube said: ERROR - Precondition check failed.\n",
      "WARNING: [youtube] HTTP Error 400: Bad Request. Retrying (1/3)...\n"
     ]
    },
    {
     "name": "stdout",
     "output_type": "stream",
     "text": [
      "[youtube] Pkh8UtuejGw: Downloading android player API JSON\n",
      "[youtube] Pkh8UtuejGw: Downloading m3u8 information\n",
      "[info] Pkh8UtuejGw: Downloading 1 format(s): 251\n",
      "[download] Destination: C:\\Users\\arwin\\Documents\\dev\\APS360-PROJECT\\data\\billboard_audio\\Shawn Mendes & Camila Cabello_Senorita\\Shawn Mendes & Camila Cabello_Senorita.webm\n",
      "[download] 100% of    3.29MiB in 00:00:00 at 9.67MiB/s   \n",
      "[download] Finished downloading playlist: Shawn Mendes & Camila Cabello Senorita\n",
      "[generic] Extracting URL: Billie Eilish Bad Guy\n",
      "[youtube:search] Extracting URL: ytsearch:Billie Eilish Bad Guy\n",
      "[download] Downloading playlist: Billie Eilish Bad Guy\n",
      "[youtube:search] query \"Billie Eilish Bad Guy\": Downloading web client config\n",
      "[youtube:search] query \"Billie Eilish Bad Guy\" page 1: Downloading API JSON\n",
      "[youtube:search] Playlist Billie Eilish Bad Guy: Downloading 1 items of 1\n",
      "[download] Downloading item 1 of 1\n",
      "[youtube] Extracting URL: https://www.youtube.com/watch?v=DyDfgMOUjCI\n",
      "[youtube] DyDfgMOUjCI: Downloading webpage\n",
      "[youtube] DyDfgMOUjCI: Downloading ios player API JSON\n",
      "[youtube] DyDfgMOUjCI: Downloading android player API JSON\n",
      "[youtube] DyDfgMOUjCI: Downloading m3u8 information\n",
      "[info] DyDfgMOUjCI: Downloading 1 format(s): 251\n",
      "[download] Destination: C:\\Users\\arwin\\Documents\\dev\\APS360-PROJECT\\data\\billboard_audio\\Billie Eilish_Bad Guy\\Billie Eilish_Bad Guy.webm\n",
      "[download] 100% of    3.55MiB in 00:00:00 at 7.23MiB/s     \n",
      "[download] Finished downloading playlist: Billie Eilish Bad Guy\n",
      "[generic] Extracting URL: Sam Hunt Kinfolks\n",
      "[youtube:search] Extracting URL: ytsearch:Sam Hunt Kinfolks\n",
      "[download] Downloading playlist: Sam Hunt Kinfolks\n",
      "[youtube:search] query \"Sam Hunt Kinfolks\": Downloading web client config\n",
      "[youtube:search] query \"Sam Hunt Kinfolks\" page 1: Downloading API JSON\n",
      "[youtube:search] Playlist Sam Hunt Kinfolks: Downloading 1 items of 1\n",
      "[download] Downloading item 1 of 1\n",
      "[youtube] Extracting URL: https://www.youtube.com/watch?v=Wk7ITw2Bl8s\n",
      "[youtube] Wk7ITw2Bl8s: Downloading webpage\n",
      "[youtube] Wk7ITw2Bl8s: Downloading ios player API JSON\n",
      "[youtube] Wk7ITw2Bl8s: Downloading android player API JSON\n"
     ]
    },
    {
     "name": "stderr",
     "output_type": "stream",
     "text": [
      "WARNING: [youtube] YouTube said: ERROR - Precondition check failed.\n",
      "WARNING: [youtube] HTTP Error 400: Bad Request. Retrying (1/3)...\n"
     ]
    },
    {
     "name": "stdout",
     "output_type": "stream",
     "text": [
      "[youtube] Wk7ITw2Bl8s: Downloading android player API JSON\n",
      "[youtube] Wk7ITw2Bl8s: Downloading m3u8 information\n",
      "[info] Wk7ITw2Bl8s: Downloading 1 format(s): 251\n",
      "[download] Destination: C:\\Users\\arwin\\Documents\\dev\\APS360-PROJECT\\data\\billboard_audio\\Sam Hunt_Kinfolks\\Sam Hunt_Kinfolks.webm\n",
      "[download] 100% of    2.96MiB in 00:00:00 at 12.13MiB/s    \n",
      "[download] Finished downloading playlist: Sam Hunt Kinfolks\n",
      "[generic] Extracting URL: Old Dominion One Man Band\n",
      "[youtube:search] Extracting URL: ytsearch:Old Dominion One Man Band\n",
      "[download] Downloading playlist: Old Dominion One Man Band\n",
      "[youtube:search] query \"Old Dominion One Man Band\": Downloading web client config\n",
      "[youtube:search] query \"Old Dominion One Man Band\" page 1: Downloading API JSON\n",
      "[youtube:search] Playlist Old Dominion One Man Band: Downloading 1 items of 1\n",
      "[download] Downloading item 1 of 1\n",
      "[youtube] Extracting URL: https://www.youtube.com/watch?v=0lxA1FXOiv0\n",
      "[youtube] 0lxA1FXOiv0: Downloading webpage\n",
      "[youtube] 0lxA1FXOiv0: Downloading ios player API JSON\n",
      "[youtube] 0lxA1FXOiv0: Downloading android player API JSON\n",
      "[youtube] 0lxA1FXOiv0: Downloading m3u8 information\n",
      "[info] 0lxA1FXOiv0: Downloading 1 format(s): 251\n",
      "[download] Destination: C:\\Users\\arwin\\Documents\\dev\\APS360-PROJECT\\data\\billboard_audio\\Old Dominion_One Man Band\\Old Dominion_One Man Band.webm\n",
      "[download] 100% of    3.24MiB in 00:00:01 at 1.68MiB/s     \n",
      "[download] Finished downloading playlist: Old Dominion One Man Band\n",
      "[generic] Extracting URL: Lil Baby Get Ugly\n",
      "[youtube:search] Extracting URL: ytsearch:Lil Baby Get Ugly\n",
      "[download] Downloading playlist: Lil Baby Get Ugly\n",
      "[youtube:search] query \"Lil Baby Get Ugly\": Downloading web client config\n",
      "[youtube:search] query \"Lil Baby Get Ugly\" page 1: Downloading API JSON\n",
      "[youtube:search] Playlist Lil Baby Get Ugly: Downloading 1 items of 1\n",
      "[download] Downloading item 1 of 1\n",
      "[youtube] Extracting URL: https://www.youtube.com/watch?v=KUoEKy2uvTQ\n",
      "[youtube] KUoEKy2uvTQ: Downloading webpage\n",
      "[youtube] KUoEKy2uvTQ: Downloading ios player API JSON\n",
      "[youtube] KUoEKy2uvTQ: Downloading android player API JSON\n"
     ]
    },
    {
     "name": "stderr",
     "output_type": "stream",
     "text": [
      "WARNING: [youtube] YouTube said: ERROR - Precondition check failed.\n",
      "WARNING: [youtube] HTTP Error 400: Bad Request. Retrying (1/3)...\n"
     ]
    },
    {
     "name": "stdout",
     "output_type": "stream",
     "text": [
      "[youtube] KUoEKy2uvTQ: Downloading android player API JSON\n"
     ]
    },
    {
     "name": "stderr",
     "output_type": "stream",
     "text": [
      "WARNING: [youtube] YouTube said: ERROR - Precondition check failed.\n",
      "WARNING: [youtube] HTTP Error 400: Bad Request. Retrying (2/3)...\n"
     ]
    },
    {
     "name": "stdout",
     "output_type": "stream",
     "text": [
      "[youtube] KUoEKy2uvTQ: Downloading android player API JSON\n"
     ]
    },
    {
     "name": "stderr",
     "output_type": "stream",
     "text": [
      "WARNING: [youtube] YouTube said: ERROR - Precondition check failed.\n",
      "WARNING: [youtube] HTTP Error 400: Bad Request. Retrying (3/3)...\n"
     ]
    },
    {
     "name": "stdout",
     "output_type": "stream",
     "text": [
      "[youtube] KUoEKy2uvTQ: Downloading android player API JSON\n",
      "[youtube] KUoEKy2uvTQ: Downloading m3u8 information\n",
      "[info] KUoEKy2uvTQ: Downloading 1 format(s): 251\n",
      "[download] Destination: C:\\Users\\arwin\\Documents\\dev\\APS360-PROJECT\\data\\billboard_audio\\Lil Baby_Get Ugly\\Lil Baby_Get Ugly.webm\n",
      "[download] 100% of    2.71MiB in 00:00:02 at 1.32MiB/s   \n",
      "[download] Finished downloading playlist: Lil Baby Get Ugly\n",
      "[generic] Extracting URL: Lil Baby & Moneybagg Yo No Sucker\n",
      "[youtube:search] Extracting URL: ytsearch:Lil Baby & Moneybagg Yo No Sucker\n",
      "[download] Downloading playlist: Lil Baby & Moneybagg Yo No Sucker\n",
      "[youtube:search] query \"Lil Baby & Moneybagg Yo No Sucker\": Downloading web client config\n",
      "[youtube:search] query \"Lil Baby & Moneybagg Yo No Sucker\" page 1: Downloading API JSON\n",
      "[youtube:search] Playlist Lil Baby & Moneybagg Yo No Sucker: Downloading 1 items of 1\n",
      "[download] Downloading item 1 of 1\n",
      "[youtube] Extracting URL: https://www.youtube.com/watch?v=8qcP2o_BWhQ\n",
      "[youtube] 8qcP2o_BWhQ: Downloading webpage\n",
      "[youtube] 8qcP2o_BWhQ: Downloading ios player API JSON\n",
      "[youtube] 8qcP2o_BWhQ: Downloading android player API JSON\n",
      "[youtube] 8qcP2o_BWhQ: Downloading m3u8 information\n",
      "[info] 8qcP2o_BWhQ: Downloading 1 format(s): 251\n",
      "[download] Destination: C:\\Users\\arwin\\Documents\\dev\\APS360-PROJECT\\data\\billboard_audio\\Lil Baby & Moneybagg Yo_No Sucker\\Lil Baby & Moneybagg Yo_No Sucker.webm\n",
      "[download] 100% of    2.97MiB in 00:00:00 at 7.17MiB/s   \n",
      "[download] Finished downloading playlist: Lil Baby & Moneybagg Yo No Sucker\n",
      "[generic] Extracting URL: Lil Baby How\n",
      "[youtube:search] Extracting URL: ytsearch:Lil Baby How\n",
      "[download] Downloading playlist: Lil Baby How\n",
      "[youtube:search] query \"Lil Baby How\": Downloading web client config\n",
      "[youtube:search] query \"Lil Baby How\" page 1: Downloading API JSON\n",
      "[youtube:search] Playlist Lil Baby How: Downloading 1 items of 1\n",
      "[download] Downloading item 1 of 1\n",
      "[youtube] Extracting URL: https://www.youtube.com/watch?v=16k35xBoa-Q\n",
      "[youtube] 16k35xBoa-Q: Downloading webpage\n",
      "[youtube] 16k35xBoa-Q: Downloading ios player API JSON\n",
      "[youtube] 16k35xBoa-Q: Downloading android player API JSON\n",
      "[youtube] 16k35xBoa-Q: Downloading m3u8 information\n",
      "[info] 16k35xBoa-Q: Downloading 1 format(s): 251\n",
      "[download] Destination: C:\\Users\\arwin\\Documents\\dev\\APS360-PROJECT\\data\\billboard_audio\\Lil Baby_How\\Lil Baby_How.webm\n",
      "[download] 100% of    3.01MiB in 00:00:00 at 7.45MiB/s   \n",
      "[download] Finished downloading playlist: Lil Baby How\n",
      "[generic] Extracting URL: Bad Bunny Pero Ya No\n",
      "[youtube:search] Extracting URL: ytsearch:Bad Bunny Pero Ya No\n",
      "[download] Downloading playlist: Bad Bunny Pero Ya No\n",
      "[youtube:search] query \"Bad Bunny Pero Ya No\": Downloading web client config\n",
      "[youtube:search] query \"Bad Bunny Pero Ya No\" page 1: Downloading API JSON\n",
      "[youtube:search] Playlist Bad Bunny Pero Ya No: Downloading 1 items of 1\n",
      "[download] Downloading item 1 of 1\n",
      "[youtube] Extracting URL: https://www.youtube.com/watch?v=bg82FqrCjcs\n",
      "[youtube] bg82FqrCjcs: Downloading webpage\n",
      "[youtube] bg82FqrCjcs: Downloading ios player API JSON\n",
      "[youtube] bg82FqrCjcs: Downloading android player API JSON\n"
     ]
    },
    {
     "name": "stderr",
     "output_type": "stream",
     "text": [
      "WARNING: [youtube] YouTube said: ERROR - Precondition check failed.\n",
      "WARNING: [youtube] HTTP Error 400: Bad Request. Retrying (1/3)...\n"
     ]
    },
    {
     "name": "stdout",
     "output_type": "stream",
     "text": [
      "[youtube] bg82FqrCjcs: Downloading android player API JSON\n",
      "[youtube] bg82FqrCjcs: Downloading m3u8 information\n",
      "[info] bg82FqrCjcs: Downloading 1 format(s): 251\n",
      "[download] Destination: C:\\Users\\arwin\\Documents\\dev\\APS360-PROJECT\\data\\billboard_audio\\Bad Bunny_Pero Ya No\\Bad Bunny_Pero Ya No.webm\n",
      "[download] 100% of    3.03MiB in 00:00:00 at 10.40MiB/s    \n",
      "[download] Finished downloading playlist: Bad Bunny Pero Ya No\n",
      "[generic] Extracting URL: Lil Baby Featuring Lil Wayne Forever\n",
      "[youtube:search] Extracting URL: ytsearch:Lil Baby Featuring Lil Wayne Forever\n",
      "[download] Downloading playlist: Lil Baby Featuring Lil Wayne Forever\n",
      "[youtube:search] query \"Lil Baby Featuring Lil Wayne Forever\": Downloading web client config\n",
      "[youtube:search] query \"Lil Baby Featuring Lil Wayne Forever\" page 1: Downloading API JSON\n",
      "[youtube:search] Playlist Lil Baby Featuring Lil Wayne Forever: Downloading 1 items of 1\n",
      "[download] Downloading item 1 of 1\n",
      "[youtube] Extracting URL: https://www.youtube.com/watch?v=lELJBFBGG20\n",
      "[youtube] lELJBFBGG20: Downloading webpage\n",
      "[youtube] lELJBFBGG20: Downloading ios player API JSON\n",
      "[youtube] lELJBFBGG20: Downloading android player API JSON\n"
     ]
    },
    {
     "name": "stderr",
     "output_type": "stream",
     "text": [
      "WARNING: [youtube] YouTube said: ERROR - Precondition check failed.\n",
      "WARNING: [youtube] HTTP Error 400: Bad Request. Retrying (1/3)...\n"
     ]
    },
    {
     "name": "stdout",
     "output_type": "stream",
     "text": [
      "[youtube] lELJBFBGG20: Downloading android player API JSON\n",
      "[youtube] lELJBFBGG20: Downloading m3u8 information\n",
      "[info] lELJBFBGG20: Downloading 1 format(s): 251\n",
      "[download] Destination: C:\\Users\\arwin\\Documents\\dev\\APS360-PROJECT\\data\\billboard_audio\\Lil Baby Featuring Lil Wayne_Forever\\Lil Baby Featuring Lil Wayne_Forever.webm\n",
      "[download] 100% of    3.41MiB in 00:00:00 at 14.56MiB/s    \n",
      "[download] Finished downloading playlist: Lil Baby Featuring Lil Wayne Forever\n",
      "[generic] Extracting URL: BTS ON\n",
      "[youtube:search] Extracting URL: ytsearch:BTS ON\n",
      "[download] Downloading playlist: BTS ON\n",
      "[youtube:search] query \"BTS ON\": Downloading web client config\n",
      "[youtube:search] query \"BTS ON\" page 1: Downloading API JSON\n",
      "[youtube:search] Playlist BTS ON: Downloading 1 items of 1\n",
      "[download] Downloading item 1 of 1\n",
      "[youtube] Extracting URL: https://www.youtube.com/watch?v=gwMa6gpoE9I\n",
      "[youtube] gwMa6gpoE9I: Downloading webpage\n",
      "[youtube] gwMa6gpoE9I: Downloading ios player API JSON\n",
      "[youtube] gwMa6gpoE9I: Downloading android player API JSON\n"
     ]
    },
    {
     "name": "stderr",
     "output_type": "stream",
     "text": [
      "WARNING: [youtube] YouTube said: ERROR - Precondition check failed.\n",
      "WARNING: [youtube] HTTP Error 400: Bad Request. Retrying (1/3)...\n"
     ]
    },
    {
     "name": "stdout",
     "output_type": "stream",
     "text": [
      "[youtube] gwMa6gpoE9I: Downloading android player API JSON\n"
     ]
    },
    {
     "name": "stderr",
     "output_type": "stream",
     "text": [
      "WARNING: [youtube] YouTube said: ERROR - Precondition check failed.\n",
      "WARNING: [youtube] HTTP Error 400: Bad Request. Retrying (2/3)...\n"
     ]
    },
    {
     "name": "stdout",
     "output_type": "stream",
     "text": [
      "[youtube] gwMa6gpoE9I: Downloading android player API JSON\n"
     ]
    },
    {
     "name": "stderr",
     "output_type": "stream",
     "text": [
      "WARNING: [youtube] YouTube said: ERROR - Precondition check failed.\n",
      "WARNING: [youtube] HTTP Error 400: Bad Request. Retrying (3/3)...\n"
     ]
    },
    {
     "name": "stdout",
     "output_type": "stream",
     "text": [
      "[youtube] gwMa6gpoE9I: Downloading android player API JSON\n",
      "[youtube] gwMa6gpoE9I: Downloading m3u8 information\n",
      "[info] gwMa6gpoE9I: Downloading 1 format(s): 251\n",
      "[download] Destination: C:\\Users\\arwin\\Documents\\dev\\APS360-PROJECT\\data\\billboard_audio\\BTS_ON\\BTS_ON.webm\n",
      "[download] 100% of    4.66MiB in 00:00:00 at 16.16MiB/s    \n",
      "[download] Finished downloading playlist: BTS ON\n",
      "[generic] Extracting URL: YoungBoy Never Broke Again Lil Top\n",
      "[youtube:search] Extracting URL: ytsearch:YoungBoy Never Broke Again Lil Top\n",
      "[download] Downloading playlist: YoungBoy Never Broke Again Lil Top\n",
      "[youtube:search] query \"YoungBoy Never Broke Again Lil Top\": Downloading web client config\n",
      "[youtube:search] query \"YoungBoy Never Broke Again Lil Top\" page 1: Downloading API JSON\n",
      "[youtube:search] Playlist YoungBoy Never Broke Again Lil Top: Downloading 1 items of 1\n",
      "[download] Downloading item 1 of 1\n",
      "[youtube] Extracting URL: https://www.youtube.com/watch?v=lUmYlsulfYo\n",
      "[youtube] lUmYlsulfYo: Downloading webpage\n",
      "[youtube] lUmYlsulfYo: Downloading ios player API JSON\n",
      "[youtube] lUmYlsulfYo: Downloading android player API JSON\n",
      "[youtube] lUmYlsulfYo: Downloading m3u8 information\n",
      "[info] lUmYlsulfYo: Downloading 1 format(s): 251\n",
      "[download] Destination: C:\\Users\\arwin\\Documents\\dev\\APS360-PROJECT\\data\\billboard_audio\\YoungBoy Never Broke Again_Lil Top\\YoungBoy Never Broke Again_Lil Top.webm\n",
      "[download] 100% of    3.24MiB in 00:00:00 at 12.42MiB/s    \n",
      "[download] Finished downloading playlist: YoungBoy Never Broke Again Lil Top\n",
      "[generic] Extracting URL: A Boogie Wit da Hoodie Featuring Roddy Ricch, Gunna & London On Da Track Numbers\n",
      "[youtube:search] Extracting URL: ytsearch:A Boogie Wit da Hoodie Featuring Roddy Ricch, Gunna & London On Da Track Numbers\n",
      "[download] Downloading playlist: A Boogie Wit da Hoodie Featuring Roddy Ricch, Gunna & London On Da Track Numbers\n",
      "[youtube:search] query \"A Boogie Wit da Hoodie Featuring Roddy Ricch, Gunna & London On Da Track Numbers\": Downloading web client config\n",
      "[youtube:search] query \"A Boogie Wit da Hoodie Featuring Roddy Ricch, Gunna & London On Da Track Numbers\" page 1: Downloading API JSON\n",
      "[youtube:search] Playlist A Boogie Wit da Hoodie Featuring Roddy Ricch, Gunna & London On Da Track Numbers: Downloading 1 items of 1\n",
      "[download] Downloading item 1 of 1\n",
      "[youtube] Extracting URL: https://www.youtube.com/watch?v=9YU4gN42fkI\n",
      "[youtube] 9YU4gN42fkI: Downloading webpage\n",
      "[youtube] 9YU4gN42fkI: Downloading ios player API JSON\n",
      "[youtube] 9YU4gN42fkI: Downloading android player API JSON\n",
      "[youtube] 9YU4gN42fkI: Downloading m3u8 information\n",
      "[info] 9YU4gN42fkI: Downloading 1 format(s): 251\n",
      "[download] Destination: C:\\Users\\arwin\\Documents\\dev\\APS360-PROJECT\\data\\billboard_audio\\A Boogie Wit da Hoodie Featuring Roddy Ricch, Gunna & London On Da Track_Numbers\\A Boogie Wit da Hoodie Featuring Roddy Ricch, Gunna & London On Da Track_Numbers.webm\n",
      "[download] 100% of    3.22MiB in 00:00:00 at 10.55MiB/s    \n",
      "[download] Finished downloading playlist: A Boogie Wit da Hoodie Featuring Roddy Ricch, Gunna & London On Da Track Numbers\n",
      "[generic] Extracting URL: Lil Baby Same Thing\n",
      "[youtube:search] Extracting URL: ytsearch:Lil Baby Same Thing\n",
      "[download] Downloading playlist: Lil Baby Same Thing\n",
      "[youtube:search] query \"Lil Baby Same Thing\": Downloading web client config\n",
      "[youtube:search] query \"Lil Baby Same Thing\" page 1: Downloading API JSON\n",
      "[youtube:search] Playlist Lil Baby Same Thing: Downloading 1 items of 1\n",
      "[download] Downloading item 1 of 1\n",
      "[youtube] Extracting URL: https://www.youtube.com/watch?v=KkmFwqsH0wk\n",
      "[youtube] KkmFwqsH0wk: Downloading webpage\n",
      "[youtube] KkmFwqsH0wk: Downloading ios player API JSON\n",
      "[youtube] KkmFwqsH0wk: Downloading android player API JSON\n"
     ]
    },
    {
     "name": "stderr",
     "output_type": "stream",
     "text": [
      "WARNING: [youtube] YouTube said: ERROR - Precondition check failed.\n",
      "WARNING: [youtube] HTTP Error 400: Bad Request. Retrying (1/3)...\n"
     ]
    },
    {
     "name": "stdout",
     "output_type": "stream",
     "text": [
      "[youtube] KkmFwqsH0wk: Downloading android player API JSON\n"
     ]
    },
    {
     "name": "stderr",
     "output_type": "stream",
     "text": [
      "WARNING: [youtube] YouTube said: ERROR - Precondition check failed.\n",
      "WARNING: [youtube] HTTP Error 400: Bad Request. Retrying (2/3)...\n"
     ]
    },
    {
     "name": "stdout",
     "output_type": "stream",
     "text": [
      "[youtube] KkmFwqsH0wk: Downloading android player API JSON\n",
      "[youtube] KkmFwqsH0wk: Downloading m3u8 information\n",
      "[info] KkmFwqsH0wk: Downloading 1 format(s): 251\n",
      "[download] Destination: C:\\Users\\arwin\\Documents\\dev\\APS360-PROJECT\\data\\billboard_audio\\Lil Baby_Same Thing\\Lil Baby_Same Thing.webm\n",
      "[download] 100% of    2.79MiB in 00:00:00 at 5.63MiB/s   \n",
      "[download] Finished downloading playlist: Lil Baby Same Thing\n",
      "[generic] Extracting URL: Jimmie Allen Make Me Want To\n",
      "[youtube:search] Extracting URL: ytsearch:Jimmie Allen Make Me Want To\n",
      "[download] Downloading playlist: Jimmie Allen Make Me Want To\n",
      "[youtube:search] query \"Jimmie Allen Make Me Want To\": Downloading web client config\n",
      "[youtube:search] query \"Jimmie Allen Make Me Want To\" page 1: Downloading API JSON\n",
      "[youtube:search] Playlist Jimmie Allen Make Me Want To: Downloading 1 items of 1\n",
      "[download] Downloading item 1 of 1\n",
      "[youtube] Extracting URL: https://www.youtube.com/watch?v=OVdemLamwHs\n",
      "[youtube] OVdemLamwHs: Downloading webpage\n",
      "[youtube] OVdemLamwHs: Downloading ios player API JSON\n",
      "[youtube] OVdemLamwHs: Downloading android player API JSON\n"
     ]
    },
    {
     "name": "stderr",
     "output_type": "stream",
     "text": [
      "WARNING: [youtube] YouTube said: ERROR - Precondition check failed.\n",
      "WARNING: [youtube] HTTP Error 400: Bad Request. Retrying (1/3)...\n"
     ]
    },
    {
     "name": "stdout",
     "output_type": "stream",
     "text": [
      "[youtube] OVdemLamwHs: Downloading android player API JSON\n"
     ]
    },
    {
     "name": "stderr",
     "output_type": "stream",
     "text": [
      "WARNING: [youtube] YouTube said: ERROR - Precondition check failed.\n",
      "WARNING: [youtube] HTTP Error 400: Bad Request. Retrying (2/3)...\n"
     ]
    },
    {
     "name": "stdout",
     "output_type": "stream",
     "text": [
      "[youtube] OVdemLamwHs: Downloading android player API JSON\n"
     ]
    },
    {
     "name": "stderr",
     "output_type": "stream",
     "text": [
      "WARNING: [youtube] YouTube said: ERROR - Precondition check failed.\n",
      "WARNING: [youtube] HTTP Error 400: Bad Request. Retrying (3/3)...\n"
     ]
    },
    {
     "name": "stdout",
     "output_type": "stream",
     "text": [
      "[youtube] OVdemLamwHs: Downloading android player API JSON\n"
     ]
    },
    {
     "name": "stderr",
     "output_type": "stream",
     "text": [
      "WARNING: [youtube] YouTube said: ERROR - Precondition check failed.\n",
      "WARNING: [youtube] Unable to download API page: HTTP Error 400: Bad Request (caused by <HTTPError 400: Bad Request>); please report this issue on  https://github.com/yt-dlp/yt-dlp/issues?q= , filling out the appropriate issue template. Confirm you are on the latest version using  yt-dlp -U\n"
     ]
    },
    {
     "name": "stdout",
     "output_type": "stream",
     "text": [
      "[youtube] OVdemLamwHs: Downloading m3u8 information\n",
      "[info] OVdemLamwHs: Downloading 1 format(s): 251\n",
      "[download] Destination: C:\\Users\\arwin\\Documents\\dev\\APS360-PROJECT\\data\\billboard_audio\\Jimmie Allen_Make Me Want To\\Jimmie Allen_Make Me Want To.webm\n",
      "[download] 100% of    4.04MiB in 00:00:00 at 9.35MiB/s     \n",
      "[download] Finished downloading playlist: Jimmie Allen Make Me Want To\n",
      "[generic] Extracting URL: Bad Bunny & Yaviah Bichiyal\n",
      "[youtube:search] Extracting URL: ytsearch:Bad Bunny & Yaviah Bichiyal\n",
      "[download] Downloading playlist: Bad Bunny & Yaviah Bichiyal\n",
      "[youtube:search] query \"Bad Bunny & Yaviah Bichiyal\": Downloading web client config\n",
      "[youtube:search] query \"Bad Bunny & Yaviah Bichiyal\" page 1: Downloading API JSON\n",
      "[youtube:search] Playlist Bad Bunny & Yaviah Bichiyal: Downloading 1 items of 1\n",
      "[download] Downloading item 1 of 1\n",
      "[youtube] Extracting URL: https://www.youtube.com/watch?v=Udxl17LVHYA\n",
      "[youtube] Udxl17LVHYA: Downloading webpage\n",
      "[youtube] Udxl17LVHYA: Downloading ios player API JSON\n",
      "[youtube] Udxl17LVHYA: Downloading android player API JSON\n",
      "[youtube] Udxl17LVHYA: Downloading m3u8 information\n",
      "[info] Udxl17LVHYA: Downloading 1 format(s): 251\n",
      "[download] Destination: C:\\Users\\arwin\\Documents\\dev\\APS360-PROJECT\\data\\billboard_audio\\Bad Bunny & Yaviah_Bichiyal\\Bad Bunny & Yaviah_Bichiyal.webm\n",
      "[download] 100% of    4.44MiB in 00:00:00 at 10.24MiB/s    \n",
      "[download] Finished downloading playlist: Bad Bunny & Yaviah Bichiyal\n",
      "[generic] Extracting URL: Lil Baby & Young Thug We Should\n",
      "[youtube:search] Extracting URL: ytsearch:Lil Baby & Young Thug We Should\n",
      "[download] Downloading playlist: Lil Baby & Young Thug We Should\n",
      "[youtube:search] query \"Lil Baby & Young Thug We Should\": Downloading web client config\n",
      "[youtube:search] query \"Lil Baby & Young Thug We Should\" page 1: Downloading API JSON\n",
      "[youtube:search] Playlist Lil Baby & Young Thug We Should: Downloading 1 items of 1\n",
      "[download] Downloading item 1 of 1\n",
      "[youtube] Extracting URL: https://www.youtube.com/watch?v=6lPn8giVAiE\n",
      "[youtube] 6lPn8giVAiE: Downloading webpage\n",
      "[youtube] 6lPn8giVAiE: Downloading ios player API JSON\n",
      "[youtube] 6lPn8giVAiE: Downloading android player API JSON\n"
     ]
    },
    {
     "name": "stderr",
     "output_type": "stream",
     "text": [
      "WARNING: [youtube] YouTube said: ERROR - Precondition check failed.\n",
      "WARNING: [youtube] HTTP Error 400: Bad Request. Retrying (1/3)...\n"
     ]
    },
    {
     "name": "stdout",
     "output_type": "stream",
     "text": [
      "[youtube] 6lPn8giVAiE: Downloading android player API JSON\n",
      "[youtube] 6lPn8giVAiE: Downloading m3u8 information\n",
      "[info] 6lPn8giVAiE: Downloading 1 format(s): 251\n",
      "[download] Destination: C:\\Users\\arwin\\Documents\\dev\\APS360-PROJECT\\data\\billboard_audio\\Lil Baby & Young Thug_We Should\\Lil Baby & Young Thug_We Should.webm\n",
      "[download] 100% of    3.19MiB in 00:00:00 at 15.37MiB/s  \n",
      "[download] Finished downloading playlist: Lil Baby & Young Thug We Should\n",
      "[generic] Extracting URL: Bad Bunny Solia\n",
      "[youtube:search] Extracting URL: ytsearch:Bad Bunny Solia\n",
      "[download] Downloading playlist: Bad Bunny Solia\n",
      "[youtube:search] query \"Bad Bunny Solia\": Downloading web client config\n",
      "[youtube:search] query \"Bad Bunny Solia\" page 1: Downloading API JSON\n",
      "[youtube:search] Playlist Bad Bunny Solia: Downloading 1 items of 1\n",
      "[download] Downloading item 1 of 1\n",
      "[youtube] Extracting URL: https://www.youtube.com/watch?v=bW4nKN0QL5A\n",
      "[youtube] bW4nKN0QL5A: Downloading webpage\n",
      "[youtube] bW4nKN0QL5A: Downloading ios player API JSON\n",
      "[youtube] bW4nKN0QL5A: Downloading android player API JSON\n"
     ]
    },
    {
     "name": "stderr",
     "output_type": "stream",
     "text": [
      "WARNING: [youtube] YouTube said: ERROR - Precondition check failed.\n",
      "WARNING: [youtube] HTTP Error 400: Bad Request. Retrying (1/3)...\n"
     ]
    },
    {
     "name": "stdout",
     "output_type": "stream",
     "text": [
      "[youtube] bW4nKN0QL5A: Downloading android player API JSON\n",
      "[youtube] bW4nKN0QL5A: Downloading m3u8 information\n",
      "[info] bW4nKN0QL5A: Downloading 1 format(s): 251\n",
      "[download] Destination: C:\\Users\\arwin\\Documents\\dev\\APS360-PROJECT\\data\\billboard_audio\\Bad Bunny_Solia\\Bad Bunny_Solia.webm\n",
      "[download] 100% of    2.83MiB in 00:00:00 at 8.34MiB/s   \n",
      "[download] Finished downloading playlist: Bad Bunny Solia\n",
      "[generic] Extracting URL: Billie Eilish No Time To Die\n",
      "[youtube:search] Extracting URL: ytsearch:Billie Eilish No Time To Die\n",
      "[download] Downloading playlist: Billie Eilish No Time To Die\n",
      "[youtube:search] query \"Billie Eilish No Time To Die\": Downloading web client config\n",
      "[youtube:search] query \"Billie Eilish No Time To Die\" page 1: Downloading API JSON\n",
      "[youtube:search] Playlist Billie Eilish No Time To Die: Downloading 1 items of 1\n",
      "[download] Downloading item 1 of 1\n",
      "[youtube] Extracting URL: https://www.youtube.com/watch?v=BboMpayJomw\n",
      "[youtube] BboMpayJomw: Downloading webpage\n",
      "[youtube] BboMpayJomw: Downloading ios player API JSON\n",
      "[youtube] BboMpayJomw: Downloading android player API JSON\n",
      "[youtube] BboMpayJomw: Downloading m3u8 information\n",
      "[info] BboMpayJomw: Downloading 1 format(s): 251\n",
      "[download] Destination: C:\\Users\\arwin\\Documents\\dev\\APS360-PROJECT\\data\\billboard_audio\\Billie Eilish_No Time To Die\\Billie Eilish_No Time To Die.webm\n",
      "[download] 100% of    3.73MiB in 00:00:00 at 8.44MiB/s   \n",
      "[download] Finished downloading playlist: Billie Eilish No Time To Die\n",
      "[generic] Extracting URL: Bad Bunny X Anuel AA Esta Cabron Ser Yo\n",
      "[youtube:search] Extracting URL: ytsearch:Bad Bunny X Anuel AA Esta Cabron Ser Yo\n",
      "[download] Downloading playlist: Bad Bunny X Anuel AA Esta Cabron Ser Yo\n",
      "[youtube:search] query \"Bad Bunny X Anuel AA Esta Cabron Ser Yo\": Downloading web client config\n",
      "[youtube:search] query \"Bad Bunny X Anuel AA Esta Cabron Ser Yo\" page 1: Downloading API JSON\n",
      "[youtube:search] Playlist Bad Bunny X Anuel AA Esta Cabron Ser Yo: Downloading 1 items of 1\n",
      "[download] Downloading item 1 of 1\n",
      "[youtube] Extracting URL: https://www.youtube.com/watch?v=jZfPdY7NL-0\n",
      "[youtube] jZfPdY7NL-0: Downloading webpage\n",
      "[youtube] jZfPdY7NL-0: Downloading ios player API JSON\n",
      "[youtube] jZfPdY7NL-0: Downloading android player API JSON\n",
      "[youtube] jZfPdY7NL-0: Downloading m3u8 information\n",
      "[info] jZfPdY7NL-0: Downloading 1 format(s): 251\n",
      "[download] Destination: C:\\Users\\arwin\\Documents\\dev\\APS360-PROJECT\\data\\billboard_audio\\Bad Bunny X Anuel AA_Esta Cabron Ser Yo\\Bad Bunny X Anuel AA_Esta Cabron Ser Yo.webm\n",
      "[download] 100% of    4.08MiB in 00:00:00 at 6.71MiB/s     \n",
      "[download] Finished downloading playlist: Bad Bunny X Anuel AA Esta Cabron Ser Yo\n",
      "[generic] Extracting URL: Lil Baby Can't Explain\n",
      "[youtube:search] Extracting URL: ytsearch:Lil Baby Can't Explain\n",
      "[download] Downloading playlist: Lil Baby Can't Explain\n",
      "[youtube:search] query \"Lil Baby Can't Explain\": Downloading web client config\n",
      "[youtube:search] query \"Lil Baby Can't Explain\" page 1: Downloading API JSON\n",
      "[youtube:search] Playlist Lil Baby Can't Explain: Downloading 1 items of 1\n",
      "[download] Downloading item 1 of 1\n",
      "[youtube] Extracting URL: https://www.youtube.com/watch?v=4zWdGlTJEiA\n",
      "[youtube] 4zWdGlTJEiA: Downloading webpage\n",
      "[youtube] 4zWdGlTJEiA: Downloading ios player API JSON\n",
      "[youtube] 4zWdGlTJEiA: Downloading android player API JSON\n",
      "[youtube] 4zWdGlTJEiA: Downloading m3u8 information\n",
      "[info] 4zWdGlTJEiA: Downloading 1 format(s): 251\n",
      "[download] Destination: C:\\Users\\arwin\\Documents\\dev\\APS360-PROJECT\\data\\billboard_audio\\Lil Baby_Can't Explain\\Lil Baby_Can't Explain.webm\n",
      "[download] 100% of    3.18MiB in 00:00:00 at 9.82MiB/s   \n",
      "[download] Finished downloading playlist: Lil Baby Can't Explain\n",
      "[generic] Extracting URL: SHAED Trampoline\n",
      "[youtube:search] Extracting URL: ytsearch:SHAED Trampoline\n",
      "[download] Downloading playlist: SHAED Trampoline\n",
      "[youtube:search] query \"SHAED Trampoline\": Downloading web client config\n",
      "[youtube:search] query \"SHAED Trampoline\" page 1: Downloading API JSON\n",
      "[youtube:search] Playlist SHAED Trampoline: Downloading 1 items of 1\n",
      "[download] Downloading item 1 of 1\n",
      "[youtube] Extracting URL: https://www.youtube.com/watch?v=4h26oYuE2h0\n",
      "[youtube] 4h26oYuE2h0: Downloading webpage\n",
      "[youtube] 4h26oYuE2h0: Downloading ios player API JSON\n",
      "[youtube] 4h26oYuE2h0: Downloading android player API JSON\n"
     ]
    },
    {
     "name": "stderr",
     "output_type": "stream",
     "text": [
      "WARNING: [youtube] YouTube said: ERROR - Precondition check failed.\n",
      "WARNING: [youtube] HTTP Error 400: Bad Request. Retrying (1/3)...\n"
     ]
    },
    {
     "name": "stdout",
     "output_type": "stream",
     "text": [
      "[youtube] 4h26oYuE2h0: Downloading android player API JSON\n"
     ]
    },
    {
     "name": "stderr",
     "output_type": "stream",
     "text": [
      "WARNING: [youtube] YouTube said: ERROR - Precondition check failed.\n",
      "WARNING: [youtube] HTTP Error 400: Bad Request. Retrying (2/3)...\n"
     ]
    },
    {
     "name": "stdout",
     "output_type": "stream",
     "text": [
      "[youtube] 4h26oYuE2h0: Downloading android player API JSON\n",
      "[youtube] 4h26oYuE2h0: Downloading m3u8 information\n",
      "[info] 4h26oYuE2h0: Downloading 1 format(s): 251\n",
      "[download] Destination: C:\\Users\\arwin\\Documents\\dev\\APS360-PROJECT\\data\\billboard_audio\\SHAED_Trampoline\\SHAED_Trampoline.webm\n",
      "[download] 100% of    2.97MiB in 00:00:00 at 10.76MiB/s  \n",
      "[download] Finished downloading playlist: SHAED Trampoline\n",
      "[generic] Extracting URL: Jonas Brothers Sucker\n",
      "[youtube:search] Extracting URL: ytsearch:Jonas Brothers Sucker\n",
      "[download] Downloading playlist: Jonas Brothers Sucker\n",
      "[youtube:search] query \"Jonas Brothers Sucker\": Downloading web client config\n",
      "[youtube:search] query \"Jonas Brothers Sucker\" page 1: Downloading API JSON\n",
      "[youtube:search] Playlist Jonas Brothers Sucker: Downloading 1 items of 1\n",
      "[download] Downloading item 1 of 1\n",
      "[youtube] Extracting URL: https://www.youtube.com/watch?v=CnAmeh0-E-U\n",
      "[youtube] CnAmeh0-E-U: Downloading webpage\n",
      "[youtube] CnAmeh0-E-U: Downloading ios player API JSON\n",
      "[youtube] CnAmeh0-E-U: Downloading android player API JSON\n"
     ]
    },
    {
     "name": "stderr",
     "output_type": "stream",
     "text": [
      "WARNING: [youtube] YouTube said: ERROR - Precondition check failed.\n",
      "WARNING: [youtube] HTTP Error 400: Bad Request. Retrying (1/3)...\n"
     ]
    },
    {
     "name": "stdout",
     "output_type": "stream",
     "text": [
      "[youtube] CnAmeh0-E-U: Downloading android player API JSON\n"
     ]
    },
    {
     "name": "stderr",
     "output_type": "stream",
     "text": [
      "WARNING: [youtube] YouTube said: ERROR - Precondition check failed.\n",
      "WARNING: [youtube] HTTP Error 400: Bad Request. Retrying (2/3)...\n"
     ]
    },
    {
     "name": "stdout",
     "output_type": "stream",
     "text": [
      "[youtube] CnAmeh0-E-U: Downloading android player API JSON\n"
     ]
    },
    {
     "name": "stderr",
     "output_type": "stream",
     "text": [
      "WARNING: [youtube] YouTube said: ERROR - Precondition check failed.\n",
      "WARNING: [youtube] HTTP Error 400: Bad Request. Retrying (3/3)...\n"
     ]
    },
    {
     "name": "stdout",
     "output_type": "stream",
     "text": [
      "[youtube] CnAmeh0-E-U: Downloading android player API JSON\n",
      "[youtube] CnAmeh0-E-U: Downloading m3u8 information\n",
      "[info] CnAmeh0-E-U: Downloading 1 format(s): 251\n",
      "[download] Destination: C:\\Users\\arwin\\Documents\\dev\\APS360-PROJECT\\data\\billboard_audio\\Jonas Brothers_Sucker\\Jonas Brothers_Sucker.webm\n",
      "[download] 100% of    3.04MiB in 00:00:00 at 9.85MiB/s   \n",
      "[download] Finished downloading playlist: Jonas Brothers Sucker\n",
      "[generic] Extracting URL: Ed Sheeran & Justin Bieber I Don't Care\n",
      "[youtube:search] Extracting URL: ytsearch:Ed Sheeran & Justin Bieber I Don't Care\n",
      "[download] Downloading playlist: Ed Sheeran & Justin Bieber I Don't Care\n",
      "[youtube:search] query \"Ed Sheeran & Justin Bieber I Don't Care\": Downloading web client config\n",
      "[youtube:search] query \"Ed Sheeran & Justin Bieber I Don't Care\" page 1: Downloading API JSON\n",
      "[youtube:search] Playlist Ed Sheeran & Justin Bieber I Don't Care: Downloading 1 items of 1\n",
      "[download] Downloading item 1 of 1\n",
      "[youtube] Extracting URL: https://www.youtube.com/watch?v=y83x7MgzWOA\n",
      "[youtube] y83x7MgzWOA: Downloading webpage\n",
      "[youtube] y83x7MgzWOA: Downloading ios player API JSON\n",
      "[youtube] y83x7MgzWOA: Downloading android player API JSON\n",
      "[youtube] y83x7MgzWOA: Downloading m3u8 information\n",
      "[info] y83x7MgzWOA: Downloading 1 format(s): 251\n",
      "[download] Destination: C:\\Users\\arwin\\Documents\\dev\\APS360-PROJECT\\data\\billboard_audio\\Ed Sheeran & Justin Bieber_I Don't Care\\Ed Sheeran & Justin Bieber_I Don't Care.webm\n",
      "[download] 100% of    3.60MiB in 00:00:00 at 12.53MiB/s    \n",
      "[download] Finished downloading playlist: Ed Sheeran & Justin Bieber I Don't Care\n",
      "[generic] Extracting URL: YoungBoy Never Broke Again Red Eye\n",
      "[youtube:search] Extracting URL: ytsearch:YoungBoy Never Broke Again Red Eye\n",
      "[download] Downloading playlist: YoungBoy Never Broke Again Red Eye\n",
      "[youtube:search] query \"YoungBoy Never Broke Again Red Eye\": Downloading web client config\n",
      "[youtube:search] query \"YoungBoy Never Broke Again Red Eye\" page 1: Downloading API JSON\n",
      "[youtube:search] Playlist YoungBoy Never Broke Again Red Eye: Downloading 1 items of 1\n",
      "[download] Downloading item 1 of 1\n",
      "[youtube] Extracting URL: https://www.youtube.com/watch?v=xeA7sqs0yi0\n",
      "[youtube] xeA7sqs0yi0: Downloading webpage\n",
      "[youtube] xeA7sqs0yi0: Downloading ios player API JSON\n",
      "[youtube] xeA7sqs0yi0: Downloading android player API JSON\n"
     ]
    },
    {
     "name": "stderr",
     "output_type": "stream",
     "text": [
      "WARNING: [youtube] YouTube said: ERROR - Precondition check failed.\n",
      "WARNING: [youtube] HTTP Error 400: Bad Request. Retrying (1/3)...\n"
     ]
    },
    {
     "name": "stdout",
     "output_type": "stream",
     "text": [
      "[youtube] xeA7sqs0yi0: Downloading android player API JSON\n",
      "[youtube] xeA7sqs0yi0: Downloading m3u8 information\n",
      "[info] xeA7sqs0yi0: Downloading 1 format(s): 251\n",
      "[download] Destination: C:\\Users\\arwin\\Documents\\dev\\APS360-PROJECT\\data\\billboard_audio\\YoungBoy Never Broke Again_Red Eye\\YoungBoy Never Broke Again_Red Eye.webm\n",
      "[download] 100% of    2.46MiB in 00:00:00 at 10.01MiB/s  \n",
      "[download] Finished downloading playlist: YoungBoy Never Broke Again Red Eye\n",
      "[generic] Extracting URL: Jonas Brothers Only Human\n",
      "[youtube:search] Extracting URL: ytsearch:Jonas Brothers Only Human\n",
      "[download] Downloading playlist: Jonas Brothers Only Human\n",
      "[youtube:search] query \"Jonas Brothers Only Human\": Downloading web client config\n",
      "[youtube:search] query \"Jonas Brothers Only Human\" page 1: Downloading API JSON\n",
      "[youtube:search] Playlist Jonas Brothers Only Human: Downloading 1 items of 1\n",
      "[download] Downloading item 1 of 1\n",
      "[youtube] Extracting URL: https://www.youtube.com/watch?v=kBNt8hYvn8A\n",
      "[youtube] kBNt8hYvn8A: Downloading webpage\n",
      "[youtube] kBNt8hYvn8A: Downloading ios player API JSON\n",
      "[youtube] kBNt8hYvn8A: Downloading android player API JSON\n",
      "[youtube] kBNt8hYvn8A: Downloading m3u8 information\n",
      "[info] kBNt8hYvn8A: Downloading 1 format(s): 251\n",
      "[download] Destination: C:\\Users\\arwin\\Documents\\dev\\APS360-PROJECT\\data\\billboard_audio\\Jonas Brothers_Only Human\\Jonas Brothers_Only Human.webm\n",
      "[download] 100% of    3.15MiB in 00:00:00 at 16.97MiB/s    \n",
      "[download] Finished downloading playlist: Jonas Brothers Only Human\n",
      "[generic] Extracting URL: YoungBoy Never Broke Again Fine By Time\n",
      "[youtube:search] Extracting URL: ytsearch:YoungBoy Never Broke Again Fine By Time\n",
      "[download] Downloading playlist: YoungBoy Never Broke Again Fine By Time\n",
      "[youtube:search] query \"YoungBoy Never Broke Again Fine By Time\": Downloading web client config\n",
      "[youtube:search] query \"YoungBoy Never Broke Again Fine By Time\" page 1: Downloading API JSON\n",
      "[youtube:search] Playlist YoungBoy Never Broke Again Fine By Time: Downloading 1 items of 1\n",
      "[download] Downloading item 1 of 1\n",
      "[youtube] Extracting URL: https://www.youtube.com/watch?v=3Uu0iza3GqQ\n",
      "[youtube] 3Uu0iza3GqQ: Downloading webpage\n",
      "[youtube] 3Uu0iza3GqQ: Downloading ios player API JSON\n",
      "[youtube] 3Uu0iza3GqQ: Downloading android player API JSON\n"
     ]
    },
    {
     "name": "stderr",
     "output_type": "stream",
     "text": [
      "WARNING: [youtube] YouTube said: ERROR - Precondition check failed.\n",
      "WARNING: [youtube] HTTP Error 400: Bad Request. Retrying (1/3)...\n"
     ]
    },
    {
     "name": "stdout",
     "output_type": "stream",
     "text": [
      "[youtube] 3Uu0iza3GqQ: Downloading android player API JSON\n",
      "[youtube] 3Uu0iza3GqQ: Downloading m3u8 information\n",
      "[info] 3Uu0iza3GqQ: Downloading 1 format(s): 251\n",
      "[download] Destination: C:\\Users\\arwin\\Documents\\dev\\APS360-PROJECT\\data\\billboard_audio\\YoungBoy Never Broke Again_Fine By Time\\YoungBoy Never Broke Again_Fine By Time.webm\n",
      "[download] 100% of    2.88MiB in 00:00:00 at 8.35MiB/s   \n",
      "[download] Finished downloading playlist: YoungBoy Never Broke Again Fine By Time\n",
      "[generic] Extracting URL: YoungBoy Never Broke Again Bad Bad\n",
      "[youtube:search] Extracting URL: ytsearch:YoungBoy Never Broke Again Bad Bad\n",
      "[download] Downloading playlist: YoungBoy Never Broke Again Bad Bad\n",
      "[youtube:search] query \"YoungBoy Never Broke Again Bad Bad\": Downloading web client config\n",
      "[youtube:search] query \"YoungBoy Never Broke Again Bad Bad\" page 1: Downloading API JSON\n",
      "[youtube:search] Playlist YoungBoy Never Broke Again Bad Bad: Downloading 1 items of 1\n",
      "[download] Downloading item 1 of 1\n",
      "[youtube] Extracting URL: https://www.youtube.com/watch?v=5B1VFvd17TI\n",
      "[youtube] 5B1VFvd17TI: Downloading webpage\n",
      "[youtube] 5B1VFvd17TI: Downloading ios player API JSON\n",
      "[youtube] 5B1VFvd17TI: Downloading android player API JSON\n"
     ]
    },
    {
     "name": "stderr",
     "output_type": "stream",
     "text": [
      "WARNING: [youtube] YouTube said: ERROR - Precondition check failed.\n",
      "WARNING: [youtube] HTTP Error 400: Bad Request. Retrying (1/3)...\n"
     ]
    },
    {
     "name": "stdout",
     "output_type": "stream",
     "text": [
      "[youtube] 5B1VFvd17TI: Downloading android player API JSON\n",
      "[youtube] 5B1VFvd17TI: Downloading m3u8 information\n",
      "[info] 5B1VFvd17TI: Downloading 1 format(s): 251\n",
      "[download] Destination: C:\\Users\\arwin\\Documents\\dev\\APS360-PROJECT\\data\\billboard_audio\\YoungBoy Never Broke Again_Bad Bad\\YoungBoy Never Broke Again_Bad Bad.webm\n",
      "[download] 100% of    2.40MiB in 00:00:00 at 17.39MiB/s  \n",
      "[download] Finished downloading playlist: YoungBoy Never Broke Again Bad Bad\n",
      "[generic] Extracting URL: YoungBoy Never Broke Again Knocked Off\n",
      "[youtube:search] Extracting URL: ytsearch:YoungBoy Never Broke Again Knocked Off\n",
      "[download] Downloading playlist: YoungBoy Never Broke Again Knocked Off\n",
      "[youtube:search] query \"YoungBoy Never Broke Again Knocked Off\": Downloading web client config\n",
      "[youtube:search] query \"YoungBoy Never Broke Again Knocked Off\" page 1: Downloading API JSON\n",
      "[youtube:search] Playlist YoungBoy Never Broke Again Knocked Off: Downloading 1 items of 1\n",
      "[download] Downloading item 1 of 1\n",
      "[youtube] Extracting URL: https://www.youtube.com/watch?v=JjZP0Ef1iaw\n",
      "[youtube] JjZP0Ef1iaw: Downloading webpage\n",
      "[youtube] JjZP0Ef1iaw: Downloading ios player API JSON\n",
      "[youtube] JjZP0Ef1iaw: Downloading android player API JSON\n",
      "[youtube] JjZP0Ef1iaw: Downloading m3u8 information\n",
      "[info] JjZP0Ef1iaw: Downloading 1 format(s): 251\n",
      "[download] Destination: C:\\Users\\arwin\\Documents\\dev\\APS360-PROJECT\\data\\billboard_audio\\YoungBoy Never Broke Again_Knocked Off\\YoungBoy Never Broke Again_Knocked Off.webm\n",
      "[download] 100% of    1.94MiB in 00:00:00 at 5.15MiB/s   \n",
      "[download] Finished downloading playlist: YoungBoy Never Broke Again Knocked Off\n",
      "[generic] Extracting URL: Garth Brooks & Blake Shelton Dive Bar\n",
      "[youtube:search] Extracting URL: ytsearch:Garth Brooks & Blake Shelton Dive Bar\n",
      "[download] Downloading playlist: Garth Brooks & Blake Shelton Dive Bar\n",
      "[youtube:search] query \"Garth Brooks & Blake Shelton Dive Bar\": Downloading web client config\n",
      "[youtube:search] query \"Garth Brooks & Blake Shelton Dive Bar\" page 1: Downloading API JSON\n",
      "[youtube:search] Playlist Garth Brooks & Blake Shelton Dive Bar: Downloading 1 items of 1\n",
      "[download] Downloading item 1 of 1\n",
      "[youtube] Extracting URL: https://www.youtube.com/watch?v=c42YO8IgX1Q\n",
      "[youtube] c42YO8IgX1Q: Downloading webpage\n",
      "[youtube] c42YO8IgX1Q: Downloading ios player API JSON\n",
      "[youtube] c42YO8IgX1Q: Downloading android player API JSON\n",
      "[youtube] c42YO8IgX1Q: Downloading m3u8 information\n",
      "[info] c42YO8IgX1Q: Downloading 1 format(s): 251\n",
      "[download] Destination: C:\\Users\\arwin\\Documents\\dev\\APS360-PROJECT\\data\\billboard_audio\\Garth Brooks & Blake Shelton_Dive Bar\\Garth Brooks & Blake Shelton_Dive Bar.webm\n",
      "[download] 100% of    2.40MiB in 00:00:00 at 7.22MiB/s   \n",
      "[download] Finished downloading playlist: Garth Brooks & Blake Shelton Dive Bar\n",
      "[generic] Extracting URL: YoungBoy Never Broke Again RIP Lil Phat\n",
      "[youtube:search] Extracting URL: ytsearch:YoungBoy Never Broke Again RIP Lil Phat\n",
      "[download] Downloading playlist: YoungBoy Never Broke Again RIP Lil Phat\n",
      "[youtube:search] query \"YoungBoy Never Broke Again RIP Lil Phat\": Downloading web client config\n",
      "[youtube:search] query \"YoungBoy Never Broke Again RIP Lil Phat\" page 1: Downloading API JSON\n",
      "[youtube:search] Playlist YoungBoy Never Broke Again RIP Lil Phat: Downloading 1 items of 1\n",
      "[download] Downloading item 1 of 1\n",
      "[youtube] Extracting URL: https://www.youtube.com/watch?v=BlfkebrymRw\n",
      "[youtube] BlfkebrymRw: Downloading webpage\n",
      "[youtube] BlfkebrymRw: Downloading ios player API JSON\n",
      "[youtube] BlfkebrymRw: Downloading android player API JSON\n"
     ]
    },
    {
     "name": "stderr",
     "output_type": "stream",
     "text": [
      "WARNING: [youtube] YouTube said: ERROR - Precondition check failed.\n",
      "WARNING: [youtube] HTTP Error 400: Bad Request. Retrying (1/3)...\n"
     ]
    },
    {
     "name": "stdout",
     "output_type": "stream",
     "text": [
      "[youtube] BlfkebrymRw: Downloading android player API JSON\n",
      "[youtube] BlfkebrymRw: Downloading m3u8 information\n",
      "[info] BlfkebrymRw: Downloading 1 format(s): 251\n",
      "[download] Destination: C:\\Users\\arwin\\Documents\\dev\\APS360-PROJECT\\data\\billboard_audio\\YoungBoy Never Broke Again_RIP Lil Phat\\YoungBoy Never Broke Again_RIP Lil Phat.webm\n",
      "[download] 100% of    2.21MiB in 00:00:00 at 14.95MiB/s    \n",
      "[download] Finished downloading playlist: YoungBoy Never Broke Again RIP Lil Phat\n",
      "[generic] Extracting URL: DaBaby Featuring Lil Baby & Moneybagg Yo TOES\n",
      "[youtube:search] Extracting URL: ytsearch:DaBaby Featuring Lil Baby & Moneybagg Yo TOES\n",
      "[download] Downloading playlist: DaBaby Featuring Lil Baby & Moneybagg Yo TOES\n",
      "[youtube:search] query \"DaBaby Featuring Lil Baby & Moneybagg Yo TOES\": Downloading web client config\n",
      "[youtube:search] query \"DaBaby Featuring Lil Baby & Moneybagg Yo TOES\" page 1: Downloading API JSON\n",
      "[youtube:search] Playlist DaBaby Featuring Lil Baby & Moneybagg Yo TOES: Downloading 1 items of 1\n",
      "[download] Downloading item 1 of 1\n",
      "[youtube] Extracting URL: https://www.youtube.com/watch?v=NvEaSmftaIQ\n",
      "[youtube] NvEaSmftaIQ: Downloading webpage\n",
      "[youtube] NvEaSmftaIQ: Downloading ios player API JSON\n",
      "[youtube] NvEaSmftaIQ: Downloading android player API JSON\n"
     ]
    },
    {
     "name": "stderr",
     "output_type": "stream",
     "text": [
      "WARNING: [youtube] YouTube said: ERROR - Precondition check failed.\n",
      "WARNING: [youtube] HTTP Error 400: Bad Request. Retrying (1/3)...\n"
     ]
    },
    {
     "name": "stdout",
     "output_type": "stream",
     "text": [
      "[youtube] NvEaSmftaIQ: Downloading android player API JSON\n"
     ]
    },
    {
     "name": "stderr",
     "output_type": "stream",
     "text": [
      "WARNING: [youtube] YouTube said: ERROR - Precondition check failed.\n",
      "WARNING: [youtube] HTTP Error 400: Bad Request. Retrying (2/3)...\n"
     ]
    },
    {
     "name": "stdout",
     "output_type": "stream",
     "text": [
      "[youtube] NvEaSmftaIQ: Downloading android player API JSON\n",
      "[youtube] NvEaSmftaIQ: Downloading m3u8 information\n",
      "[info] NvEaSmftaIQ: Downloading 1 format(s): 251\n",
      "[download] Destination: C:\\Users\\arwin\\Documents\\dev\\APS360-PROJECT\\data\\billboard_audio\\DaBaby Featuring Lil Baby & Moneybagg Yo_TOES\\DaBaby Featuring Lil Baby & Moneybagg Yo_TOES.webm\n",
      "[download] 100% of    2.16MiB in 00:00:00 at 12.29MiB/s  \n",
      "[download] Finished downloading playlist: DaBaby Featuring Lil Baby & Moneybagg Yo TOES\n",
      "[generic] Extracting URL: BTS My Time\n",
      "[youtube:search] Extracting URL: ytsearch:BTS My Time\n",
      "[download] Downloading playlist: BTS My Time\n",
      "[youtube:search] query \"BTS My Time\": Downloading web client config\n",
      "[youtube:search] query \"BTS My Time\" page 1: Downloading API JSON\n",
      "[youtube:search] Playlist BTS My Time: Downloading 1 items of 1\n",
      "[download] Downloading item 1 of 1\n",
      "[youtube] Extracting URL: https://www.youtube.com/watch?v=VTh7DIOfd1w\n",
      "[youtube] VTh7DIOfd1w: Downloading webpage\n",
      "[youtube] VTh7DIOfd1w: Downloading ios player API JSON\n",
      "[youtube] VTh7DIOfd1w: Downloading android player API JSON\n",
      "[youtube] VTh7DIOfd1w: Downloading m3u8 information\n",
      "[info] VTh7DIOfd1w: Downloading 1 format(s): 251\n",
      "[download] Destination: C:\\Users\\arwin\\Documents\\dev\\APS360-PROJECT\\data\\billboard_audio\\BTS_My Time\\BTS_My Time.webm\n",
      "[download] 100% of    3.84MiB in 00:00:00 at 10.71MiB/s  \n",
      "[download] Finished downloading playlist: BTS My Time\n",
      "[generic] Extracting URL: YoungBoy Never Broke Again Long RD\n",
      "[youtube:search] Extracting URL: ytsearch:YoungBoy Never Broke Again Long RD\n",
      "[download] Downloading playlist: YoungBoy Never Broke Again Long RD\n",
      "[youtube:search] query \"YoungBoy Never Broke Again Long RD\": Downloading web client config\n",
      "[youtube:search] query \"YoungBoy Never Broke Again Long RD\" page 1: Downloading API JSON\n",
      "[youtube:search] Playlist YoungBoy Never Broke Again Long RD: Downloading 1 items of 1\n",
      "[download] Downloading item 1 of 1\n",
      "[youtube] Extracting URL: https://www.youtube.com/watch?v=ygDjIScGAWo\n",
      "[youtube] ygDjIScGAWo: Downloading webpage\n",
      "[youtube] ygDjIScGAWo: Downloading ios player API JSON\n",
      "[youtube] ygDjIScGAWo: Downloading android player API JSON\n"
     ]
    },
    {
     "name": "stderr",
     "output_type": "stream",
     "text": [
      "WARNING: [youtube] YouTube said: ERROR - Precondition check failed.\n",
      "WARNING: [youtube] HTTP Error 400: Bad Request. Retrying (1/3)...\n"
     ]
    },
    {
     "name": "stdout",
     "output_type": "stream",
     "text": [
      "[youtube] ygDjIScGAWo: Downloading android player API JSON\n"
     ]
    },
    {
     "name": "stderr",
     "output_type": "stream",
     "text": [
      "WARNING: [youtube] YouTube said: ERROR - Precondition check failed.\n",
      "WARNING: [youtube] HTTP Error 400: Bad Request. Retrying (2/3)...\n"
     ]
    },
    {
     "name": "stdout",
     "output_type": "stream",
     "text": [
      "[youtube] ygDjIScGAWo: Downloading android player API JSON\n"
     ]
    },
    {
     "name": "stderr",
     "output_type": "stream",
     "text": [
      "WARNING: [youtube] YouTube said: ERROR - Precondition check failed.\n",
      "WARNING: [youtube] HTTP Error 400: Bad Request. Retrying (3/3)...\n"
     ]
    },
    {
     "name": "stdout",
     "output_type": "stream",
     "text": [
      "[youtube] ygDjIScGAWo: Downloading android player API JSON\n",
      "[youtube] ygDjIScGAWo: Downloading m3u8 information\n",
      "[info] ygDjIScGAWo: Downloading 1 format(s): 251\n",
      "[download] Destination: C:\\Users\\arwin\\Documents\\dev\\APS360-PROJECT\\data\\billboard_audio\\YoungBoy Never Broke Again_Long RD\\YoungBoy Never Broke Again_Long RD.webm\n",
      "[download] 100% of    3.06MiB in 00:00:00 at 14.31MiB/s  \n",
      "[download] Finished downloading playlist: YoungBoy Never Broke Again Long RD\n",
      "[generic] Extracting URL: Ed Sheeran Featuring Camila Cabello & Cardi B South Of The Border\n",
      "[youtube:search] Extracting URL: ytsearch:Ed Sheeran Featuring Camila Cabello & Cardi B South Of The Border\n",
      "[download] Downloading playlist: Ed Sheeran Featuring Camila Cabello & Cardi B South Of The Border\n",
      "[youtube:search] query \"Ed Sheeran Featuring Camila Cabello & Cardi B South Of The Border\": Downloading web client config\n",
      "[youtube:search] query \"Ed Sheeran Featuring Camila Cabello & Cardi B South Of The Border\" page 1: Downloading API JSON\n",
      "[youtube:search] Playlist Ed Sheeran Featuring Camila Cabello & Cardi B South Of The Border: Downloading 1 items of 1\n",
      "[download] Downloading item 1 of 1\n",
      "[youtube] Extracting URL: https://www.youtube.com/watch?v=UPOT2tgY9QQ\n",
      "[youtube] UPOT2tgY9QQ: Downloading webpage\n",
      "[youtube] UPOT2tgY9QQ: Downloading ios player API JSON\n",
      "[youtube] UPOT2tgY9QQ: Downloading android player API JSON\n"
     ]
    },
    {
     "name": "stderr",
     "output_type": "stream",
     "text": [
      "WARNING: [youtube] YouTube said: ERROR - Precondition check failed.\n",
      "WARNING: [youtube] HTTP Error 400: Bad Request. Retrying (1/3)...\n"
     ]
    },
    {
     "name": "stdout",
     "output_type": "stream",
     "text": [
      "[youtube] UPOT2tgY9QQ: Downloading android player API JSON\n"
     ]
    },
    {
     "name": "stderr",
     "output_type": "stream",
     "text": [
      "WARNING: [youtube] YouTube said: ERROR - Precondition check failed.\n",
      "WARNING: [youtube] HTTP Error 400: Bad Request. Retrying (2/3)...\n"
     ]
    },
    {
     "name": "stdout",
     "output_type": "stream",
     "text": [
      "[youtube] UPOT2tgY9QQ: Downloading android player API JSON\n"
     ]
    },
    {
     "name": "stderr",
     "output_type": "stream",
     "text": [
      "WARNING: [youtube] YouTube said: ERROR - Precondition check failed.\n",
      "WARNING: [youtube] HTTP Error 400: Bad Request. Retrying (3/3)...\n"
     ]
    },
    {
     "name": "stdout",
     "output_type": "stream",
     "text": [
      "[youtube] UPOT2tgY9QQ: Downloading android player API JSON\n"
     ]
    },
    {
     "name": "stderr",
     "output_type": "stream",
     "text": [
      "WARNING: [youtube] YouTube said: ERROR - Precondition check failed.\n",
      "WARNING: [youtube] Unable to download API page: HTTP Error 400: Bad Request (caused by <HTTPError 400: Bad Request>); please report this issue on  https://github.com/yt-dlp/yt-dlp/issues?q= , filling out the appropriate issue template. Confirm you are on the latest version using  yt-dlp -U\n"
     ]
    },
    {
     "name": "stdout",
     "output_type": "stream",
     "text": [
      "[youtube] UPOT2tgY9QQ: Downloading m3u8 information\n",
      "[info] UPOT2tgY9QQ: Downloading 1 format(s): 251\n",
      "[download] Destination: C:\\Users\\arwin\\Documents\\dev\\APS360-PROJECT\\data\\billboard_audio\\Ed Sheeran Featuring Camila Cabello & Cardi B_South Of The Border\\Ed Sheeran Featuring Camila Cabello & Cardi B_South Of The Border.webm\n",
      "[download] 100% of    4.52MiB in 00:00:00 at 17.91MiB/s    \n",
      "[download] Finished downloading playlist: Ed Sheeran Featuring Camila Cabello & Cardi B South Of The Border\n",
      "[generic] Extracting URL: BTS Filter\n",
      "[youtube:search] Extracting URL: ytsearch:BTS Filter\n",
      "[download] Downloading playlist: BTS Filter\n",
      "[youtube:search] query \"BTS Filter\": Downloading web client config\n",
      "[youtube:search] query \"BTS Filter\" page 1: Downloading API JSON\n",
      "[youtube:search] Playlist BTS Filter: Downloading 1 items of 1\n",
      "[download] Downloading item 1 of 1\n",
      "[youtube] Extracting URL: https://www.youtube.com/watch?v=dNUnnb8F-Cw\n",
      "[youtube] dNUnnb8F-Cw: Downloading webpage\n",
      "[youtube] dNUnnb8F-Cw: Downloading ios player API JSON\n",
      "[youtube] dNUnnb8F-Cw: Downloading android player API JSON\n"
     ]
    },
    {
     "name": "stderr",
     "output_type": "stream",
     "text": [
      "WARNING: [youtube] YouTube said: ERROR - Precondition check failed.\n",
      "WARNING: [youtube] HTTP Error 400: Bad Request. Retrying (1/3)...\n"
     ]
    },
    {
     "name": "stdout",
     "output_type": "stream",
     "text": [
      "[youtube] dNUnnb8F-Cw: Downloading android player API JSON\n",
      "[youtube] dNUnnb8F-Cw: Downloading m3u8 information\n",
      "[info] dNUnnb8F-Cw: Downloading 1 format(s): 251\n",
      "[download] Destination: C:\\Users\\arwin\\Documents\\dev\\APS360-PROJECT\\data\\billboard_audio\\BTS_Filter\\BTS_Filter.webm\n",
      "[download] 100% of    2.98MiB in 00:00:00 at 10.91MiB/s    \n",
      "[download] Finished downloading playlist: BTS Filter\n",
      "[generic] Extracting URL: YoungBoy Never Broke Again Bat Man\n",
      "[youtube:search] Extracting URL: ytsearch:YoungBoy Never Broke Again Bat Man\n",
      "[download] Downloading playlist: YoungBoy Never Broke Again Bat Man\n",
      "[youtube:search] query \"YoungBoy Never Broke Again Bat Man\": Downloading web client config\n",
      "[youtube:search] query \"YoungBoy Never Broke Again Bat Man\" page 1: Downloading API JSON\n",
      "[youtube:search] Playlist YoungBoy Never Broke Again Bat Man: Downloading 1 items of 1\n",
      "[download] Downloading item 1 of 1\n",
      "[youtube] Extracting URL: https://www.youtube.com/watch?v=LdpAIapBkvE\n",
      "[youtube] LdpAIapBkvE: Downloading webpage\n",
      "[youtube] LdpAIapBkvE: Downloading ios player API JSON\n",
      "[youtube] LdpAIapBkvE: Downloading android player API JSON\n"
     ]
    },
    {
     "name": "stderr",
     "output_type": "stream",
     "text": [
      "WARNING: [youtube] YouTube said: ERROR - Precondition check failed.\n",
      "WARNING: [youtube] HTTP Error 400: Bad Request. Retrying (1/3)...\n"
     ]
    },
    {
     "name": "stdout",
     "output_type": "stream",
     "text": [
      "[youtube] LdpAIapBkvE: Downloading android player API JSON\n",
      "[youtube] LdpAIapBkvE: Downloading m3u8 information\n",
      "[info] LdpAIapBkvE: Downloading 1 format(s): 251\n",
      "[download] Destination: C:\\Users\\arwin\\Documents\\dev\\APS360-PROJECT\\data\\billboard_audio\\YoungBoy Never Broke Again_Bat Man\\YoungBoy Never Broke Again_Bat Man.webm\n",
      "[download] 100% of    3.21MiB in 00:00:00 at 5.55MiB/s   \n",
      "[download] Finished downloading playlist: YoungBoy Never Broke Again Bat Man\n",
      "[generic] Extracting URL: Pop Smoke Featuring Quavo Shake The Room\n",
      "[youtube:search] Extracting URL: ytsearch:Pop Smoke Featuring Quavo Shake The Room\n",
      "[download] Downloading playlist: Pop Smoke Featuring Quavo Shake The Room\n",
      "[youtube:search] query \"Pop Smoke Featuring Quavo Shake The Room\": Downloading web client config\n",
      "[youtube:search] query \"Pop Smoke Featuring Quavo Shake The Room\" page 1: Downloading API JSON\n",
      "[youtube:search] Playlist Pop Smoke Featuring Quavo Shake The Room: Downloading 1 items of 1\n",
      "[download] Downloading item 1 of 1\n",
      "[youtube] Extracting URL: https://www.youtube.com/watch?v=8aV-YK4VxCE\n",
      "[youtube] 8aV-YK4VxCE: Downloading webpage\n",
      "[youtube] 8aV-YK4VxCE: Downloading ios player API JSON\n",
      "[youtube] 8aV-YK4VxCE: Downloading android player API JSON\n"
     ]
    },
    {
     "name": "stderr",
     "output_type": "stream",
     "text": [
      "WARNING: [youtube] YouTube said: ERROR - Precondition check failed.\n",
      "WARNING: [youtube] HTTP Error 400: Bad Request. Retrying (1/3)...\n"
     ]
    },
    {
     "name": "stdout",
     "output_type": "stream",
     "text": [
      "[youtube] 8aV-YK4VxCE: Downloading android player API JSON\n"
     ]
    },
    {
     "name": "stderr",
     "output_type": "stream",
     "text": [
      "WARNING: [youtube] YouTube said: ERROR - Precondition check failed.\n",
      "WARNING: [youtube] HTTP Error 400: Bad Request. Retrying (2/3)...\n"
     ]
    },
    {
     "name": "stdout",
     "output_type": "stream",
     "text": [
      "[youtube] 8aV-YK4VxCE: Downloading android player API JSON\n"
     ]
    },
    {
     "name": "stderr",
     "output_type": "stream",
     "text": [
      "WARNING: [youtube] YouTube said: ERROR - Precondition check failed.\n",
      "WARNING: [youtube] HTTP Error 400: Bad Request. Retrying (3/3)...\n"
     ]
    },
    {
     "name": "stdout",
     "output_type": "stream",
     "text": [
      "[youtube] 8aV-YK4VxCE: Downloading android player API JSON\n",
      "[youtube] 8aV-YK4VxCE: Downloading m3u8 information\n",
      "[info] 8aV-YK4VxCE: Downloading 1 format(s): 251\n",
      "[download] Destination: C:\\Users\\arwin\\Documents\\dev\\APS360-PROJECT\\data\\billboard_audio\\Pop Smoke Featuring Quavo_Shake The Room\\Pop Smoke Featuring Quavo_Shake The Room.webm\n",
      "[download] 100% of    2.62MiB in 00:00:00 at 4.70MiB/s   \n",
      "[download] Finished downloading playlist: Pop Smoke Featuring Quavo Shake The Room\n",
      "[generic] Extracting URL: A Boogie Wit da Hoodie Me And My Guitar\n",
      "[youtube:search] Extracting URL: ytsearch:A Boogie Wit da Hoodie Me And My Guitar\n",
      "[download] Downloading playlist: A Boogie Wit da Hoodie Me And My Guitar\n",
      "[youtube:search] query \"A Boogie Wit da Hoodie Me And My Guitar\": Downloading web client config\n",
      "[youtube:search] query \"A Boogie Wit da Hoodie Me And My Guitar\" page 1: Downloading API JSON\n",
      "[youtube:search] Playlist A Boogie Wit da Hoodie Me And My Guitar: Downloading 1 items of 1\n",
      "[download] Downloading item 1 of 1\n",
      "[youtube] Extracting URL: https://www.youtube.com/watch?v=R-QfE5Cuo2Y\n",
      "[youtube] R-QfE5Cuo2Y: Downloading webpage\n",
      "[youtube] R-QfE5Cuo2Y: Downloading ios player API JSON\n",
      "[youtube] R-QfE5Cuo2Y: Downloading android player API JSON\n"
     ]
    },
    {
     "name": "stderr",
     "output_type": "stream",
     "text": [
      "WARNING: [youtube] YouTube said: ERROR - Precondition check failed.\n",
      "WARNING: [youtube] HTTP Error 400: Bad Request. Retrying (1/3)...\n"
     ]
    },
    {
     "name": "stdout",
     "output_type": "stream",
     "text": [
      "[youtube] R-QfE5Cuo2Y: Downloading android player API JSON\n",
      "[youtube] R-QfE5Cuo2Y: Downloading m3u8 information\n",
      "[info] R-QfE5Cuo2Y: Downloading 1 format(s): 251\n",
      "[download] Destination: C:\\Users\\arwin\\Documents\\dev\\APS360-PROJECT\\data\\billboard_audio\\A Boogie Wit da Hoodie_Me And My Guitar\\A Boogie Wit da Hoodie_Me And My Guitar.webm\n",
      "[download] 100% of    2.69MiB in 00:00:00 at 5.09MiB/s   \n",
      "[download] Finished downloading playlist: A Boogie Wit da Hoodie Me And My Guitar\n",
      "[generic] Extracting URL: Selena Gomez Feel Me\n",
      "[youtube:search] Extracting URL: ytsearch:Selena Gomez Feel Me\n",
      "[download] Downloading playlist: Selena Gomez Feel Me\n",
      "[youtube:search] query \"Selena Gomez Feel Me\": Downloading web client config\n",
      "[youtube:search] query \"Selena Gomez Feel Me\" page 1: Downloading API JSON\n",
      "[youtube:search] Playlist Selena Gomez Feel Me: Downloading 1 items of 1\n",
      "[download] Downloading item 1 of 1\n",
      "[youtube] Extracting URL: https://www.youtube.com/watch?v=8N_Yro5QeCE\n",
      "[youtube] 8N_Yro5QeCE: Downloading webpage\n",
      "[youtube] 8N_Yro5QeCE: Downloading ios player API JSON\n",
      "[youtube] 8N_Yro5QeCE: Downloading android player API JSON\n"
     ]
    },
    {
     "name": "stderr",
     "output_type": "stream",
     "text": [
      "WARNING: [youtube] YouTube said: ERROR - Precondition check failed.\n",
      "WARNING: [youtube] HTTP Error 400: Bad Request. Retrying (1/3)...\n"
     ]
    },
    {
     "name": "stdout",
     "output_type": "stream",
     "text": [
      "[youtube] 8N_Yro5QeCE: Downloading android player API JSON\n",
      "[youtube] 8N_Yro5QeCE: Downloading m3u8 information\n",
      "[info] 8N_Yro5QeCE: Downloading 1 format(s): 251\n",
      "[download] Destination: C:\\Users\\arwin\\Documents\\dev\\APS360-PROJECT\\data\\billboard_audio\\Selena Gomez_Feel Me\\Selena Gomez_Feel Me.webm\n",
      "[download] 100% of    2.55MiB in 00:00:00 at 9.18MiB/s   \n",
      "[download] Finished downloading playlist: Selena Gomez Feel Me\n",
      "[generic] Extracting URL: Lizzo Truth Hurts\n",
      "[youtube:search] Extracting URL: ytsearch:Lizzo Truth Hurts\n",
      "[download] Downloading playlist: Lizzo Truth Hurts\n",
      "[youtube:search] query \"Lizzo Truth Hurts\": Downloading web client config\n",
      "[youtube:search] query \"Lizzo Truth Hurts\" page 1: Downloading API JSON\n",
      "[youtube:search] Playlist Lizzo Truth Hurts: Downloading 1 items of 1\n",
      "[download] Downloading item 1 of 1\n",
      "[youtube] Extracting URL: https://www.youtube.com/watch?v=P00HMxdsVZI\n",
      "[youtube] P00HMxdsVZI: Downloading webpage\n",
      "[youtube] P00HMxdsVZI: Downloading ios player API JSON\n",
      "[youtube] P00HMxdsVZI: Downloading android player API JSON\n"
     ]
    },
    {
     "name": "stderr",
     "output_type": "stream",
     "text": [
      "WARNING: [youtube] YouTube said: ERROR - Precondition check failed.\n",
      "WARNING: [youtube] HTTP Error 400: Bad Request. Retrying (1/3)...\n"
     ]
    },
    {
     "name": "stdout",
     "output_type": "stream",
     "text": [
      "[youtube] P00HMxdsVZI: Downloading android player API JSON\n",
      "[youtube] P00HMxdsVZI: Downloading m3u8 information\n",
      "[info] P00HMxdsVZI: Downloading 1 format(s): 251\n",
      "[download] Destination: C:\\Users\\arwin\\Documents\\dev\\APS360-PROJECT\\data\\billboard_audio\\Lizzo_Truth Hurts\\Lizzo_Truth Hurts.webm\n",
      "[download] 100% of    2.20MiB in 00:00:00 at 10.80MiB/s  \n",
      "[download] Finished downloading playlist: Lizzo Truth Hurts\n",
      "[generic] Extracting URL: Migos, Young Thug & Travis Scott g n f (Give No Fxk)\n",
      "[youtube:search] Extracting URL: ytsearch:Migos, Young Thug & Travis Scott g n f (Give No Fxk)\n",
      "[download] Downloading playlist: Migos, Young Thug & Travis Scott g n f (Give No Fxk)\n",
      "[youtube:search] query \"Migos, Young Thug & Travis Scott g n f (Give No Fxk)\": Downloading web client config\n",
      "[youtube:search] query \"Migos, Young Thug & Travis Scott g n f (Give No Fxk)\" page 1: Downloading API JSON\n",
      "[youtube:search] Playlist Migos, Young Thug & Travis Scott g n f (Give No Fxk): Downloading 1 items of 1\n",
      "[download] Downloading item 1 of 1\n",
      "[youtube] Extracting URL: https://www.youtube.com/watch?v=2n9gE20hqU4\n",
      "[youtube] 2n9gE20hqU4: Downloading webpage\n",
      "[youtube] 2n9gE20hqU4: Downloading ios player API JSON\n",
      "[youtube] 2n9gE20hqU4: Downloading android player API JSON\n",
      "[youtube] 2n9gE20hqU4: Downloading m3u8 information\n",
      "[info] 2n9gE20hqU4: Downloading 1 format(s): 251\n",
      "[download] Destination: C:\\Users\\arwin\\Documents\\dev\\APS360-PROJECT\\data\\billboard_audio\\Migos, Young Thug & Travis Scott_g n f (Give No Fxk)\\Migos, Young Thug & Travis Scott_g n f (Give No Fxk).webm\n",
      "[download] 100% of    3.65MiB in 00:00:00 at 4.90MiB/s     \n",
      "[download] Finished downloading playlist: Migos, Young Thug & Travis Scott g n f (Give No Fxk)\n",
      "[generic] Extracting URL: Juice WRLD & YoungBoy Never Broke Again Bandit\n",
      "[youtube:search] Extracting URL: ytsearch:Juice WRLD & YoungBoy Never Broke Again Bandit\n",
      "[download] Downloading playlist: Juice WRLD & YoungBoy Never Broke Again Bandit\n",
      "[youtube:search] query \"Juice WRLD & YoungBoy Never Broke Again Bandit\": Downloading web client config\n",
      "[youtube:search] query \"Juice WRLD & YoungBoy Never Broke Again Bandit\" page 1: Downloading API JSON\n",
      "[youtube:search] Playlist Juice WRLD & YoungBoy Never Broke Again Bandit: Downloading 1 items of 1\n",
      "[download] Downloading item 1 of 1\n",
      "[youtube] Extracting URL: https://www.youtube.com/watch?v=Sw5fNI400E4\n",
      "[youtube] Sw5fNI400E4: Downloading webpage\n",
      "[youtube] Sw5fNI400E4: Downloading ios player API JSON\n",
      "[youtube] Sw5fNI400E4: Downloading android player API JSON\n"
     ]
    },
    {
     "name": "stderr",
     "output_type": "stream",
     "text": [
      "WARNING: [youtube] YouTube said: ERROR - Precondition check failed.\n",
      "WARNING: [youtube] HTTP Error 400: Bad Request. Retrying (1/3)...\n"
     ]
    },
    {
     "name": "stdout",
     "output_type": "stream",
     "text": [
      "[youtube] Sw5fNI400E4: Downloading android player API JSON\n"
     ]
    },
    {
     "name": "stderr",
     "output_type": "stream",
     "text": [
      "WARNING: [youtube] YouTube said: ERROR - Precondition check failed.\n",
      "WARNING: [youtube] HTTP Error 400: Bad Request. Retrying (2/3)...\n"
     ]
    },
    {
     "name": "stdout",
     "output_type": "stream",
     "text": [
      "[youtube] Sw5fNI400E4: Downloading android player API JSON\n",
      "[youtube] Sw5fNI400E4: Downloading m3u8 information\n",
      "[info] Sw5fNI400E4: Downloading 1 format(s): 251\n",
      "[download] Destination: C:\\Users\\arwin\\Documents\\dev\\APS360-PROJECT\\data\\billboard_audio\\Juice WRLD & YoungBoy Never Broke Again_Bandit\\Juice WRLD & YoungBoy Never Broke Again_Bandit.webm\n",
      "[download] 100% of    3.26MiB in 00:00:00 at 5.81MiB/s   \n",
      "[download] Finished downloading playlist: Juice WRLD & YoungBoy Never Broke Again Bandit\n",
      "[generic] Extracting URL: A Boogie Wit da Hoodie Featuring Young Thug Might Not Give Up\n",
      "[youtube:search] Extracting URL: ytsearch:A Boogie Wit da Hoodie Featuring Young Thug Might Not Give Up\n",
      "[download] Downloading playlist: A Boogie Wit da Hoodie Featuring Young Thug Might Not Give Up\n",
      "[youtube:search] query \"A Boogie Wit da Hoodie Featuring Young Thug Might Not Give Up\": Downloading web client config\n",
      "[youtube:search] query \"A Boogie Wit da Hoodie Featuring Young Thug Might Not Give Up\" page 1: Downloading API JSON\n",
      "[youtube:search] Playlist A Boogie Wit da Hoodie Featuring Young Thug Might Not Give Up: Downloading 1 items of 1\n",
      "[download] Downloading item 1 of 1\n",
      "[youtube] Extracting URL: https://www.youtube.com/watch?v=UDHVxd76EUw\n",
      "[youtube] UDHVxd76EUw: Downloading webpage\n",
      "[youtube] UDHVxd76EUw: Downloading ios player API JSON\n",
      "[youtube] UDHVxd76EUw: Downloading android player API JSON\n"
     ]
    },
    {
     "name": "stderr",
     "output_type": "stream",
     "text": [
      "WARNING: [youtube] YouTube said: ERROR - Precondition check failed.\n",
      "WARNING: [youtube] HTTP Error 400: Bad Request. Retrying (1/3)...\n"
     ]
    },
    {
     "name": "stdout",
     "output_type": "stream",
     "text": [
      "[youtube] UDHVxd76EUw: Downloading android player API JSON\n",
      "[youtube] UDHVxd76EUw: Downloading m3u8 information\n",
      "[info] UDHVxd76EUw: Downloading 1 format(s): 251\n",
      "[download] Destination: C:\\Users\\arwin\\Documents\\dev\\APS360-PROJECT\\data\\billboard_audio\\A Boogie Wit da Hoodie Featuring Young Thug_Might Not Give Up\\A Boogie Wit da Hoodie Featuring Young Thug_Might Not Give Up.webm\n",
      "[download] 100% of    4.09MiB in 00:00:02 at 1.64MiB/s   \n",
      "[download] Finished downloading playlist: A Boogie Wit da Hoodie Featuring Young Thug Might Not Give Up\n",
      "[generic] Extracting URL: A Boogie Wit da Hoodie Thug Love\n",
      "[youtube:search] Extracting URL: ytsearch:A Boogie Wit da Hoodie Thug Love\n",
      "[download] Downloading playlist: A Boogie Wit da Hoodie Thug Love\n",
      "[youtube:search] query \"A Boogie Wit da Hoodie Thug Love\": Downloading web client config\n",
      "[youtube:search] query \"A Boogie Wit da Hoodie Thug Love\" page 1: Downloading API JSON\n",
      "[youtube:search] Playlist A Boogie Wit da Hoodie Thug Love: Downloading 1 items of 1\n",
      "[download] Downloading item 1 of 1\n",
      "[youtube] Extracting URL: https://www.youtube.com/watch?v=8ru7hsJziSw\n",
      "[youtube] 8ru7hsJziSw: Downloading webpage\n",
      "[youtube] 8ru7hsJziSw: Downloading ios player API JSON\n",
      "[youtube] 8ru7hsJziSw: Downloading android player API JSON\n"
     ]
    },
    {
     "name": "stderr",
     "output_type": "stream",
     "text": [
      "WARNING: [youtube] YouTube said: ERROR - Precondition check failed.\n",
      "WARNING: [youtube] HTTP Error 400: Bad Request. Retrying (1/3)...\n"
     ]
    },
    {
     "name": "stdout",
     "output_type": "stream",
     "text": [
      "[youtube] 8ru7hsJziSw: Downloading android player API JSON\n"
     ]
    },
    {
     "name": "stderr",
     "output_type": "stream",
     "text": [
      "WARNING: [youtube] YouTube said: ERROR - Precondition check failed.\n",
      "WARNING: [youtube] HTTP Error 400: Bad Request. Retrying (2/3)...\n"
     ]
    },
    {
     "name": "stdout",
     "output_type": "stream",
     "text": [
      "[youtube] 8ru7hsJziSw: Downloading android player API JSON\n"
     ]
    },
    {
     "name": "stderr",
     "output_type": "stream",
     "text": [
      "WARNING: [youtube] YouTube said: ERROR - Precondition check failed.\n",
      "WARNING: [youtube] HTTP Error 400: Bad Request. Retrying (3/3)...\n"
     ]
    },
    {
     "name": "stdout",
     "output_type": "stream",
     "text": [
      "[youtube] 8ru7hsJziSw: Downloading android player API JSON\n",
      "[youtube] 8ru7hsJziSw: Downloading m3u8 information\n",
      "[info] 8ru7hsJziSw: Downloading 1 format(s): 251\n",
      "[download] Destination: C:\\Users\\arwin\\Documents\\dev\\APS360-PROJECT\\data\\billboard_audio\\A Boogie Wit da Hoodie_Thug Love\\A Boogie Wit da Hoodie_Thug Love.webm\n",
      "[download] 100% of    3.13MiB in 00:00:01 at 2.41MiB/s   \n",
      "[download] Finished downloading playlist: A Boogie Wit da Hoodie Thug Love\n",
      "[generic] Extracting URL: A Boogie Wit da Hoodie Featuring DaBaby Stain\n",
      "[youtube:search] Extracting URL: ytsearch:A Boogie Wit da Hoodie Featuring DaBaby Stain\n",
      "[download] Downloading playlist: A Boogie Wit da Hoodie Featuring DaBaby Stain\n",
      "[youtube:search] query \"A Boogie Wit da Hoodie Featuring DaBaby Stain\": Downloading web client config\n",
      "[youtube:search] query \"A Boogie Wit da Hoodie Featuring DaBaby Stain\" page 1: Downloading API JSON\n",
      "[youtube:search] Playlist A Boogie Wit da Hoodie Featuring DaBaby Stain: Downloading 1 items of 1\n",
      "[download] Downloading item 1 of 1\n",
      "[youtube] Extracting URL: https://www.youtube.com/watch?v=oiLyMoWQMOI\n",
      "[youtube] oiLyMoWQMOI: Downloading webpage\n",
      "[youtube] oiLyMoWQMOI: Downloading ios player API JSON\n",
      "[youtube] oiLyMoWQMOI: Downloading android player API JSON\n",
      "[youtube] oiLyMoWQMOI: Downloading m3u8 information\n",
      "[info] oiLyMoWQMOI: Downloading 1 format(s): 251\n",
      "[download] Destination: C:\\Users\\arwin\\Documents\\dev\\APS360-PROJECT\\data\\billboard_audio\\A Boogie Wit da Hoodie Featuring DaBaby_Stain\\A Boogie Wit da Hoodie Featuring DaBaby_Stain.webm\n",
      "[download] 100% of    2.94MiB in 00:00:01 at 2.28MiB/s   \n",
      "[download] Finished downloading playlist: A Boogie Wit da Hoodie Featuring DaBaby Stain\n",
      "[generic] Extracting URL: Nicki Minaj Yikes\n",
      "[youtube:search] Extracting URL: ytsearch:Nicki Minaj Yikes\n",
      "[download] Downloading playlist: Nicki Minaj Yikes\n",
      "[youtube:search] query \"Nicki Minaj Yikes\": Downloading web client config\n",
      "[youtube:search] query \"Nicki Minaj Yikes\" page 1: Downloading API JSON\n",
      "[youtube:search] Playlist Nicki Minaj Yikes: Downloading 1 items of 1\n",
      "[download] Downloading item 1 of 1\n",
      "[youtube] Extracting URL: https://www.youtube.com/watch?v=LOVxwVvUe_c\n",
      "[youtube] LOVxwVvUe_c: Downloading webpage\n",
      "[youtube] LOVxwVvUe_c: Downloading ios player API JSON\n",
      "[youtube] LOVxwVvUe_c: Downloading android player API JSON\n",
      "[youtube] LOVxwVvUe_c: Downloading m3u8 information\n",
      "[info] LOVxwVvUe_c: Downloading 1 format(s): 251\n",
      "[download] Destination: C:\\Users\\arwin\\Documents\\dev\\APS360-PROJECT\\data\\billboard_audio\\Nicki Minaj_Yikes\\Nicki Minaj_Yikes.webm\n",
      "[download] 100% of    2.73MiB in 00:00:01 at 2.16MiB/s   \n",
      "[download] Finished downloading playlist: Nicki Minaj Yikes\n",
      "[generic] Extracting URL: Justin Bieber Come Around Me\n",
      "[youtube:search] Extracting URL: ytsearch:Justin Bieber Come Around Me\n",
      "[download] Downloading playlist: Justin Bieber Come Around Me\n",
      "[youtube:search] query \"Justin Bieber Come Around Me\": Downloading web client config\n",
      "[youtube:search] query \"Justin Bieber Come Around Me\" page 1: Downloading API JSON\n",
      "[youtube:search] Playlist Justin Bieber Come Around Me: Downloading 1 items of 1\n",
      "[download] Downloading item 1 of 1\n",
      "[youtube] Extracting URL: https://www.youtube.com/watch?v=C86jztHhLyk\n",
      "[youtube] C86jztHhLyk: Downloading webpage\n",
      "[youtube] C86jztHhLyk: Downloading ios player API JSON\n",
      "[youtube] C86jztHhLyk: Downloading android player API JSON\n",
      "[youtube] C86jztHhLyk: Downloading m3u8 information\n",
      "[info] C86jztHhLyk: Downloading 1 format(s): 251\n",
      "[download] Destination: C:\\Users\\arwin\\Documents\\dev\\APS360-PROJECT\\data\\billboard_audio\\Justin Bieber_Come Around Me\\Justin Bieber_Come Around Me.webm\n",
      "[download] 100% of    3.51MiB in 00:00:01 at 3.15MiB/s   \n",
      "[download] Finished downloading playlist: Justin Bieber Come Around Me\n",
      "[generic] Extracting URL: A Boogie Wit da Hoodie King Of My City\n",
      "[youtube:search] Extracting URL: ytsearch:A Boogie Wit da Hoodie King Of My City\n",
      "[download] Downloading playlist: A Boogie Wit da Hoodie King Of My City\n",
      "[youtube:search] query \"A Boogie Wit da Hoodie King Of My City\": Downloading web client config\n",
      "[youtube:search] query \"A Boogie Wit da Hoodie King Of My City\" page 1: Downloading API JSON\n",
      "[youtube:search] Playlist A Boogie Wit da Hoodie King Of My City: Downloading 1 items of 1\n",
      "[download] Downloading item 1 of 1\n",
      "[youtube] Extracting URL: https://www.youtube.com/watch?v=gnBBEv5a-F8\n",
      "[youtube] gnBBEv5a-F8: Downloading webpage\n",
      "[youtube] gnBBEv5a-F8: Downloading ios player API JSON\n",
      "[youtube] gnBBEv5a-F8: Downloading android player API JSON\n",
      "[youtube] gnBBEv5a-F8: Downloading m3u8 information\n",
      "[info] gnBBEv5a-F8: Downloading 1 format(s): 251\n",
      "[download] Destination: C:\\Users\\arwin\\Documents\\dev\\APS360-PROJECT\\data\\billboard_audio\\A Boogie Wit da Hoodie_King Of My City\\A Boogie Wit da Hoodie_King Of My City.webm\n",
      "[download] 100% of    3.32MiB in 00:00:04 at 740.15KiB/s   \n",
      "[download] Finished downloading playlist: A Boogie Wit da Hoodie King Of My City\n",
      "[generic] Extracting URL: A Boogie Wit da Hoodie Cinderella Story\n",
      "[youtube:search] Extracting URL: ytsearch:A Boogie Wit da Hoodie Cinderella Story\n",
      "[download] Downloading playlist: A Boogie Wit da Hoodie Cinderella Story\n",
      "[youtube:search] query \"A Boogie Wit da Hoodie Cinderella Story\": Downloading web client config\n",
      "[youtube:search] query \"A Boogie Wit da Hoodie Cinderella Story\" page 1: Downloading API JSON\n",
      "[youtube:search] Playlist A Boogie Wit da Hoodie Cinderella Story: Downloading 1 items of 1\n",
      "[download] Downloading item 1 of 1\n",
      "[youtube] Extracting URL: https://www.youtube.com/watch?v=zc1Qp-4WR-0\n",
      "[youtube] zc1Qp-4WR-0: Downloading webpage\n",
      "[youtube] zc1Qp-4WR-0: Downloading ios player API JSON\n",
      "[youtube] zc1Qp-4WR-0: Downloading android player API JSON\n"
     ]
    },
    {
     "name": "stderr",
     "output_type": "stream",
     "text": [
      "WARNING: [youtube] YouTube said: ERROR - Precondition check failed.\n",
      "WARNING: [youtube] HTTP Error 400: Bad Request. Retrying (1/3)...\n"
     ]
    },
    {
     "name": "stdout",
     "output_type": "stream",
     "text": [
      "[youtube] zc1Qp-4WR-0: Downloading android player API JSON\n"
     ]
    },
    {
     "name": "stderr",
     "output_type": "stream",
     "text": [
      "WARNING: [youtube] YouTube said: ERROR - Precondition check failed.\n",
      "WARNING: [youtube] HTTP Error 400: Bad Request. Retrying (2/3)...\n"
     ]
    },
    {
     "name": "stdout",
     "output_type": "stream",
     "text": [
      "[youtube] zc1Qp-4WR-0: Downloading android player API JSON\n"
     ]
    },
    {
     "name": "stderr",
     "output_type": "stream",
     "text": [
      "WARNING: [youtube] YouTube said: ERROR - Precondition check failed.\n",
      "WARNING: [youtube] HTTP Error 400: Bad Request. Retrying (3/3)...\n"
     ]
    },
    {
     "name": "stdout",
     "output_type": "stream",
     "text": [
      "[youtube] zc1Qp-4WR-0: Downloading android player API JSON\n"
     ]
    },
    {
     "name": "stderr",
     "output_type": "stream",
     "text": [
      "WARNING: [youtube] YouTube said: ERROR - Precondition check failed.\n",
      "WARNING: [youtube] Unable to download API page: HTTP Error 400: Bad Request (caused by <HTTPError 400: Bad Request>); please report this issue on  https://github.com/yt-dlp/yt-dlp/issues?q= , filling out the appropriate issue template. Confirm you are on the latest version using  yt-dlp -U\n"
     ]
    },
    {
     "name": "stdout",
     "output_type": "stream",
     "text": [
      "[youtube] zc1Qp-4WR-0: Downloading m3u8 information\n",
      "[info] zc1Qp-4WR-0: Downloading 1 format(s): 251\n",
      "[download] Destination: C:\\Users\\arwin\\Documents\\dev\\APS360-PROJECT\\data\\billboard_audio\\A Boogie Wit da Hoodie_Cinderella Story\\A Boogie Wit da Hoodie_Cinderella Story.webm\n",
      "[download] 100% of    3.02MiB in 00:00:00 at 10.66MiB/s    \n",
      "[download] Finished downloading playlist: A Boogie Wit da Hoodie Cinderella Story\n",
      "[generic] Extracting URL: Justin Bieber Habitual\n",
      "[youtube:search] Extracting URL: ytsearch:Justin Bieber Habitual\n",
      "[download] Downloading playlist: Justin Bieber Habitual\n",
      "[youtube:search] query \"Justin Bieber Habitual\": Downloading web client config\n",
      "[youtube:search] query \"Justin Bieber Habitual\" page 1: Downloading API JSON\n",
      "[youtube:search] Playlist Justin Bieber Habitual: Downloading 1 items of 1\n",
      "[download] Downloading item 1 of 1\n",
      "[youtube] Extracting URL: https://www.youtube.com/watch?v=yKnt8dsFiO0\n",
      "[youtube] yKnt8dsFiO0: Downloading webpage\n",
      "[youtube] yKnt8dsFiO0: Downloading ios player API JSON\n",
      "[youtube] yKnt8dsFiO0: Downloading android player API JSON\n",
      "[youtube] yKnt8dsFiO0: Downloading m3u8 information\n",
      "[info] yKnt8dsFiO0: Downloading 1 format(s): 251\n",
      "[download] Destination: C:\\Users\\arwin\\Documents\\dev\\APS360-PROJECT\\data\\billboard_audio\\Justin Bieber_Habitual\\Justin Bieber_Habitual.webm\n",
      "[download] 100% of    2.81MiB in 00:00:00 at 12.57MiB/s  \n",
      "[download] Finished downloading playlist: Justin Bieber Habitual\n",
      "[generic] Extracting URL: Justin Bieber All Around Me\n",
      "[youtube:search] Extracting URL: ytsearch:Justin Bieber All Around Me\n",
      "[download] Downloading playlist: Justin Bieber All Around Me\n",
      "[youtube:search] query \"Justin Bieber All Around Me\": Downloading web client config\n",
      "[youtube:search] query \"Justin Bieber All Around Me\" page 1: Downloading API JSON\n",
      "[youtube:search] Playlist Justin Bieber All Around Me: Downloading 1 items of 1\n",
      "[download] Downloading item 1 of 1\n",
      "[youtube] Extracting URL: https://www.youtube.com/watch?v=OcnrboRX0lQ\n",
      "[youtube] OcnrboRX0lQ: Downloading webpage\n",
      "[youtube] OcnrboRX0lQ: Downloading ios player API JSON\n",
      "[youtube] OcnrboRX0lQ: Downloading android player API JSON\n"
     ]
    },
    {
     "name": "stderr",
     "output_type": "stream",
     "text": [
      "WARNING: [youtube] YouTube said: ERROR - Precondition check failed.\n",
      "WARNING: [youtube] HTTP Error 400: Bad Request. Retrying (1/3)...\n"
     ]
    },
    {
     "name": "stdout",
     "output_type": "stream",
     "text": [
      "[youtube] OcnrboRX0lQ: Downloading android player API JSON\n",
      "[youtube] OcnrboRX0lQ: Downloading m3u8 information\n",
      "[info] OcnrboRX0lQ: Downloading 1 format(s): 251\n",
      "[download] Destination: C:\\Users\\arwin\\Documents\\dev\\APS360-PROJECT\\data\\billboard_audio\\Justin Bieber_All Around Me\\Justin Bieber_All Around Me.webm\n",
      "[download] 100% of    2.35MiB in 00:00:01 at 1.93MiB/s   \n",
      "[download] Finished downloading playlist: Justin Bieber All Around Me\n",
      "[generic] Extracting URL: Luke Combs Even Though I'm Leaving\n",
      "[youtube:search] Extracting URL: ytsearch:Luke Combs Even Though I'm Leaving\n",
      "[download] Downloading playlist: Luke Combs Even Though I'm Leaving\n",
      "[youtube:search] query \"Luke Combs Even Though I'm Leaving\": Downloading web client config\n",
      "[youtube:search] query \"Luke Combs Even Though I'm Leaving\" page 1: Downloading API JSON\n",
      "[youtube:search] Playlist Luke Combs Even Though I'm Leaving: Downloading 1 items of 1\n",
      "[download] Downloading item 1 of 1\n",
      "[youtube] Extracting URL: https://www.youtube.com/watch?v=P7kqqmr2HWI\n",
      "[youtube] P7kqqmr2HWI: Downloading webpage\n",
      "[youtube] P7kqqmr2HWI: Downloading ios player API JSON\n",
      "[youtube] P7kqqmr2HWI: Downloading android player API JSON\n",
      "[youtube] P7kqqmr2HWI: Downloading m3u8 information\n",
      "[info] P7kqqmr2HWI: Downloading 1 format(s): 251\n",
      "[download] Destination: C:\\Users\\arwin\\Documents\\dev\\APS360-PROJECT\\data\\billboard_audio\\Luke Combs_Even Though I'm Leaving\\Luke Combs_Even Though I'm Leaving.webm\n",
      "[download] 100% of    3.61MiB in 00:00:07 at 502.54KiB/s   \n",
      "[download] Finished downloading playlist: Luke Combs Even Though I'm Leaving\n",
      "[generic] Extracting URL: Jon Pardi Heartache Medication\n",
      "[youtube:search] Extracting URL: ytsearch:Jon Pardi Heartache Medication\n",
      "[download] Downloading playlist: Jon Pardi Heartache Medication\n",
      "[youtube:search] query \"Jon Pardi Heartache Medication\": Downloading web client config\n",
      "[youtube:search] query \"Jon Pardi Heartache Medication\" page 1: Downloading API JSON\n",
      "[youtube:search] Playlist Jon Pardi Heartache Medication: Downloading 1 items of 1\n",
      "[download] Downloading item 1 of 1\n",
      "[youtube] Extracting URL: https://www.youtube.com/watch?v=NQFhnvJ9tsk\n",
      "[youtube] NQFhnvJ9tsk: Downloading webpage\n",
      "[youtube] NQFhnvJ9tsk: Downloading ios player API JSON\n",
      "[youtube] NQFhnvJ9tsk: Downloading android player API JSON\n",
      "[youtube] NQFhnvJ9tsk: Downloading m3u8 information\n",
      "[info] NQFhnvJ9tsk: Downloading 1 format(s): 251\n",
      "[download] Destination: C:\\Users\\arwin\\Documents\\dev\\APS360-PROJECT\\data\\billboard_audio\\Jon Pardi_Heartache Medication\\Jon Pardi_Heartache Medication.webm\n",
      "[download] 100% of    3.46MiB in 00:00:00 at 18.93MiB/s  \n",
      "[download] Finished downloading playlist: Jon Pardi Heartache Medication\n",
      "[generic] Extracting URL: Lil Wayne Featuring Big Sean & Lil Baby I Do It\n",
      "[youtube:search] Extracting URL: ytsearch:Lil Wayne Featuring Big Sean & Lil Baby I Do It\n",
      "[download] Downloading playlist: Lil Wayne Featuring Big Sean & Lil Baby I Do It\n",
      "[youtube:search] query \"Lil Wayne Featuring Big Sean & Lil Baby I Do It\": Downloading web client config\n",
      "[youtube:search] query \"Lil Wayne Featuring Big Sean & Lil Baby I Do It\" page 1: Downloading API JSON\n",
      "[youtube:search] Playlist Lil Wayne Featuring Big Sean & Lil Baby I Do It: Downloading 1 items of 1\n",
      "[download] Downloading item 1 of 1\n",
      "[youtube] Extracting URL: https://www.youtube.com/watch?v=UmjpA6uW3v8\n",
      "[youtube] UmjpA6uW3v8: Downloading webpage\n",
      "[youtube] UmjpA6uW3v8: Downloading ios player API JSON\n",
      "[youtube] UmjpA6uW3v8: Downloading android player API JSON\n"
     ]
    },
    {
     "name": "stderr",
     "output_type": "stream",
     "text": [
      "WARNING: [youtube] YouTube said: ERROR - Precondition check failed.\n",
      "WARNING: [youtube] HTTP Error 400: Bad Request. Retrying (1/3)...\n"
     ]
    },
    {
     "name": "stdout",
     "output_type": "stream",
     "text": [
      "[youtube] UmjpA6uW3v8: Downloading android player API JSON\n",
      "[youtube] UmjpA6uW3v8: Downloading m3u8 information\n",
      "[info] UmjpA6uW3v8: Downloading 1 format(s): 251\n",
      "[download] Destination: C:\\Users\\arwin\\Documents\\dev\\APS360-PROJECT\\data\\billboard_audio\\Lil Wayne Featuring Big Sean & Lil Baby_I Do It\\Lil Wayne Featuring Big Sean & Lil Baby_I Do It.webm\n",
      "[download] 100% of    3.28MiB in 00:00:00 at 4.89MiB/s   \n",
      "[download] Finished downloading playlist: Lil Wayne Featuring Big Sean & Lil Baby I Do It\n",
      "[generic] Extracting URL: DaBaby VIBEZ\n",
      "[youtube:search] Extracting URL: ytsearch:DaBaby VIBEZ\n",
      "[download] Downloading playlist: DaBaby VIBEZ\n",
      "[youtube:search] query \"DaBaby VIBEZ\": Downloading web client config\n",
      "[youtube:search] query \"DaBaby VIBEZ\" page 1: Downloading API JSON\n",
      "[youtube:search] Playlist DaBaby VIBEZ: Downloading 1 items of 1\n",
      "[download] Downloading item 1 of 1\n",
      "[youtube] Extracting URL: https://www.youtube.com/watch?v=U2JyeciEwSI\n",
      "[youtube] U2JyeciEwSI: Downloading webpage\n",
      "[youtube] U2JyeciEwSI: Downloading ios player API JSON\n",
      "[youtube] U2JyeciEwSI: Downloading android player API JSON\n"
     ]
    },
    {
     "name": "stderr",
     "output_type": "stream",
     "text": [
      "WARNING: [youtube] YouTube said: ERROR - Precondition check failed.\n",
      "WARNING: [youtube] HTTP Error 400: Bad Request. Retrying (1/3)...\n"
     ]
    },
    {
     "name": "stdout",
     "output_type": "stream",
     "text": [
      "[youtube] U2JyeciEwSI: Downloading android player API JSON\n",
      "[youtube] U2JyeciEwSI: Downloading m3u8 information\n",
      "[info] U2JyeciEwSI: Downloading 1 format(s): 251\n",
      "[download] Destination: C:\\Users\\arwin\\Documents\\dev\\APS360-PROJECT\\data\\billboard_audio\\DaBaby_VIBEZ\\DaBaby_VIBEZ.webm\n",
      "[download] 100% of    2.68MiB in 00:00:00 at 9.62MiB/s   \n",
      "[download] Finished downloading playlist: DaBaby VIBEZ\n",
      "[generic] Extracting URL: Joji Run\n",
      "[youtube:search] Extracting URL: ytsearch:Joji Run\n",
      "[download] Downloading playlist: Joji Run\n",
      "[youtube:search] query \"Joji Run\": Downloading web client config\n",
      "[youtube:search] query \"Joji Run\" page 1: Downloading API JSON\n",
      "[youtube:search] Playlist Joji Run: Downloading 1 items of 1\n",
      "[download] Downloading item 1 of 1\n",
      "[youtube] Extracting URL: https://www.youtube.com/watch?v=K09_5IsgGe8\n",
      "[youtube] K09_5IsgGe8: Downloading webpage\n",
      "[youtube] K09_5IsgGe8: Downloading ios player API JSON\n",
      "[youtube] K09_5IsgGe8: Downloading android player API JSON\n",
      "[youtube] K09_5IsgGe8: Downloading m3u8 information\n",
      "[info] K09_5IsgGe8: Downloading 1 format(s): 251\n",
      "[download] Destination: C:\\Users\\arwin\\Documents\\dev\\APS360-PROJECT\\data\\billboard_audio\\Joji_Run\\Joji_Run.webm\n",
      "[download] 100% of    4.28MiB in 00:00:01 at 3.81MiB/s   \n",
      "[download] Finished downloading playlist: Joji Run\n",
      "[generic] Extracting URL: Lil Nas X & Cardi B Or Nas Rodeo\n",
      "[youtube:search] Extracting URL: ytsearch:Lil Nas X & Cardi B Or Nas Rodeo\n",
      "[download] Downloading playlist: Lil Nas X & Cardi B Or Nas Rodeo\n",
      "[youtube:search] query \"Lil Nas X & Cardi B Or Nas Rodeo\": Downloading web client config\n",
      "[youtube:search] query \"Lil Nas X & Cardi B Or Nas Rodeo\" page 1: Downloading API JSON\n",
      "[youtube:search] Playlist Lil Nas X & Cardi B Or Nas Rodeo: Downloading 1 items of 1\n",
      "[download] Downloading item 1 of 1\n",
      "[youtube] Extracting URL: https://www.youtube.com/watch?v=kx0Z0B8Xox0\n",
      "[youtube] kx0Z0B8Xox0: Downloading webpage\n",
      "[youtube] kx0Z0B8Xox0: Downloading ios player API JSON\n",
      "[youtube] kx0Z0B8Xox0: Downloading android player API JSON\n"
     ]
    },
    {
     "name": "stderr",
     "output_type": "stream",
     "text": [
      "WARNING: [youtube] YouTube said: ERROR - Precondition check failed.\n",
      "WARNING: [youtube] HTTP Error 400: Bad Request. Retrying (1/3)...\n"
     ]
    },
    {
     "name": "stdout",
     "output_type": "stream",
     "text": [
      "[youtube] kx0Z0B8Xox0: Downloading android player API JSON\n",
      "[youtube] kx0Z0B8Xox0: Downloading m3u8 information\n",
      "[info] kx0Z0B8Xox0: Downloading 1 format(s): 251\n",
      "[download] Destination: C:\\Users\\arwin\\Documents\\dev\\APS360-PROJECT\\data\\billboard_audio\\Lil Nas X & Cardi B Or Nas_Rodeo\\Lil Nas X & Cardi B Or Nas_Rodeo.webm\n",
      "[download] 100% of    2.63MiB in 00:00:04 at 560.06KiB/s   \n",
      "[download] Finished downloading playlist: Lil Nas X & Cardi B Or Nas Rodeo\n",
      "[generic] Extracting URL: Anuel AA KEII\n",
      "[youtube:search] Extracting URL: ytsearch:Anuel AA KEII\n",
      "[download] Downloading playlist: Anuel AA KEII\n",
      "[youtube:search] query \"Anuel AA KEII\": Downloading web client config\n",
      "[youtube:search] query \"Anuel AA KEII\" page 1: Downloading API JSON\n",
      "[youtube:search] Playlist Anuel AA KEII: Downloading 1 items of 1\n",
      "[download] Downloading item 1 of 1\n",
      "[youtube] Extracting URL: https://www.youtube.com/watch?v=FXeDN7sQk30\n",
      "[youtube] FXeDN7sQk30: Downloading webpage\n",
      "[youtube] FXeDN7sQk30: Downloading ios player API JSON\n",
      "[youtube] FXeDN7sQk30: Downloading android player API JSON\n",
      "[youtube] FXeDN7sQk30: Downloading m3u8 information\n",
      "[info] FXeDN7sQk30: Downloading 1 format(s): 251\n",
      "[download] Destination: C:\\Users\\arwin\\Documents\\dev\\APS360-PROJECT\\data\\billboard_audio\\Anuel AA_KEII\\Anuel AA_KEII.webm\n",
      "[download] 100% of    3.77MiB in 00:00:01 at 3.52MiB/s   \n",
      "[download] Finished downloading playlist: Anuel AA KEII\n",
      "[generic] Extracting URL: Don Toliver No Idea\n",
      "[youtube:search] Extracting URL: ytsearch:Don Toliver No Idea\n",
      "[download] Downloading playlist: Don Toliver No Idea\n",
      "[youtube:search] query \"Don Toliver No Idea\": Downloading web client config\n",
      "[youtube:search] query \"Don Toliver No Idea\" page 1: Downloading API JSON\n",
      "[youtube:search] Playlist Don Toliver No Idea: Downloading 1 items of 1\n",
      "[download] Downloading item 1 of 1\n",
      "[youtube] Extracting URL: https://www.youtube.com/watch?v=_r-nPqWGG6c\n",
      "[youtube] _r-nPqWGG6c: Downloading webpage\n",
      "[youtube] _r-nPqWGG6c: Downloading ios player API JSON\n",
      "[youtube] _r-nPqWGG6c: Downloading android player API JSON\n"
     ]
    },
    {
     "name": "stderr",
     "output_type": "stream",
     "text": [
      "WARNING: [youtube] YouTube said: ERROR - Precondition check failed.\n",
      "WARNING: [youtube] HTTP Error 400: Bad Request. Retrying (1/3)...\n"
     ]
    },
    {
     "name": "stdout",
     "output_type": "stream",
     "text": [
      "[youtube] _r-nPqWGG6c: Downloading android player API JSON\n",
      "[youtube] _r-nPqWGG6c: Downloading m3u8 information\n",
      "[info] _r-nPqWGG6c: Downloading 1 format(s): 251\n",
      "[download] Destination: C:\\Users\\arwin\\Documents\\dev\\APS360-PROJECT\\data\\billboard_audio\\Don Toliver_No Idea\\Don Toliver_No Idea.webm\n",
      "[download] 100% of    2.50MiB in 00:00:00 at 16.41MiB/s  \n",
      "[download] Finished downloading playlist: Don Toliver No Idea\n",
      "[generic] Extracting URL: Meek Mill Featuring Justin Timberlake Believe\n",
      "[youtube:search] Extracting URL: ytsearch:Meek Mill Featuring Justin Timberlake Believe\n",
      "[download] Downloading playlist: Meek Mill Featuring Justin Timberlake Believe\n",
      "[youtube:search] query \"Meek Mill Featuring Justin Timberlake Believe\": Downloading web client config\n",
      "[youtube:search] query \"Meek Mill Featuring Justin Timberlake Believe\" page 1: Downloading API JSON\n",
      "[youtube:search] Playlist Meek Mill Featuring Justin Timberlake Believe: Downloading 1 items of 1\n",
      "[download] Downloading item 1 of 1\n",
      "[youtube] Extracting URL: https://www.youtube.com/watch?v=4rNo-UuGDfA\n",
      "[youtube] 4rNo-UuGDfA: Downloading webpage\n",
      "[youtube] 4rNo-UuGDfA: Downloading ios player API JSON\n",
      "[youtube] 4rNo-UuGDfA: Downloading android player API JSON\n"
     ]
    },
    {
     "name": "stderr",
     "output_type": "stream",
     "text": [
      "WARNING: [youtube] YouTube said: ERROR - Precondition check failed.\n",
      "WARNING: [youtube] HTTP Error 400: Bad Request. Retrying (1/3)...\n"
     ]
    },
    {
     "name": "stdout",
     "output_type": "stream",
     "text": [
      "[youtube] 4rNo-UuGDfA: Downloading android player API JSON\n"
     ]
    },
    {
     "name": "stderr",
     "output_type": "stream",
     "text": [
      "WARNING: [youtube] YouTube said: ERROR - Precondition check failed.\n",
      "WARNING: [youtube] HTTP Error 400: Bad Request. Retrying (2/3)...\n"
     ]
    },
    {
     "name": "stdout",
     "output_type": "stream",
     "text": [
      "[youtube] 4rNo-UuGDfA: Downloading android player API JSON\n",
      "[youtube] 4rNo-UuGDfA: Downloading m3u8 information\n",
      "[info] 4rNo-UuGDfA: Downloading 1 format(s): 251\n",
      "[download] Destination: C:\\Users\\arwin\\Documents\\dev\\APS360-PROJECT\\data\\billboard_audio\\Meek Mill Featuring Justin Timberlake_Believe\\Meek Mill Featuring Justin Timberlake_Believe.webm\n",
      "[download] 100% of    4.56MiB in 00:00:00 at 7.72MiB/s   \n",
      "[download] Finished downloading playlist: Meek Mill Featuring Justin Timberlake Believe\n",
      "[generic] Extracting URL: Roddy Ricch & Gunna Start Wit Me\n",
      "[youtube:search] Extracting URL: ytsearch:Roddy Ricch & Gunna Start Wit Me\n",
      "[download] Downloading playlist: Roddy Ricch & Gunna Start Wit Me\n",
      "[youtube:search] query \"Roddy Ricch & Gunna Start Wit Me\": Downloading web client config\n",
      "[youtube:search] query \"Roddy Ricch & Gunna Start Wit Me\" page 1: Downloading API JSON\n",
      "[youtube:search] Playlist Roddy Ricch & Gunna Start Wit Me: Downloading 1 items of 1\n",
      "[download] Downloading item 1 of 1\n",
      "[youtube] Extracting URL: https://www.youtube.com/watch?v=xZOmsK74-c0\n",
      "[youtube] xZOmsK74-c0: Downloading webpage\n",
      "[youtube] xZOmsK74-c0: Downloading ios player API JSON\n",
      "[youtube] xZOmsK74-c0: Downloading android player API JSON\n"
     ]
    },
    {
     "name": "stderr",
     "output_type": "stream",
     "text": [
      "WARNING: [youtube] YouTube said: ERROR - Precondition check failed.\n",
      "WARNING: [youtube] HTTP Error 400: Bad Request. Retrying (1/3)...\n"
     ]
    },
    {
     "name": "stdout",
     "output_type": "stream",
     "text": [
      "[youtube] xZOmsK74-c0: Downloading android player API JSON\n",
      "[youtube] xZOmsK74-c0: Downloading m3u8 information\n",
      "[info] xZOmsK74-c0: Downloading 1 format(s): 251\n",
      "[download] Destination: C:\\Users\\arwin\\Documents\\dev\\APS360-PROJECT\\data\\billboard_audio\\Roddy Ricch & Gunna_Start Wit Me\\Roddy Ricch & Gunna_Start Wit Me.webm\n",
      "[download] 100% of    3.47MiB in 00:00:00 at 14.21MiB/s    \n",
      "[download] Finished downloading playlist: Roddy Ricch & Gunna Start Wit Me\n",
      "[generic] Extracting URL: DaniLeigh Featuring Chris Brown Easy\n",
      "[youtube:search] Extracting URL: ytsearch:DaniLeigh Featuring Chris Brown Easy\n",
      "[download] Downloading playlist: DaniLeigh Featuring Chris Brown Easy\n",
      "[youtube:search] query \"DaniLeigh Featuring Chris Brown Easy\": Downloading web client config\n",
      "[youtube:search] query \"DaniLeigh Featuring Chris Brown Easy\" page 1: Downloading API JSON\n",
      "[youtube:search] Playlist DaniLeigh Featuring Chris Brown Easy: Downloading 1 items of 1\n",
      "[download] Downloading item 1 of 1\n",
      "[youtube] Extracting URL: https://www.youtube.com/watch?v=7Nbv3reNErw\n",
      "[youtube] 7Nbv3reNErw: Downloading webpage\n",
      "[youtube] 7Nbv3reNErw: Downloading ios player API JSON\n",
      "[youtube] 7Nbv3reNErw: Downloading android player API JSON\n",
      "[youtube] 7Nbv3reNErw: Downloading m3u8 information\n",
      "[info] 7Nbv3reNErw: Downloading 1 format(s): 251\n",
      "[download] Destination: C:\\Users\\arwin\\Documents\\dev\\APS360-PROJECT\\data\\billboard_audio\\DaniLeigh Featuring Chris Brown_Easy\\DaniLeigh Featuring Chris Brown_Easy.webm\n",
      "[download] 100% of    3.62MiB in 00:00:00 at 11.94MiB/s  \n",
      "[download] Finished downloading playlist: DaniLeigh Featuring Chris Brown Easy\n",
      "[generic] Extracting URL: Niall Horan No Judgement\n",
      "[youtube:search] Extracting URL: ytsearch:Niall Horan No Judgement\n",
      "[download] Downloading playlist: Niall Horan No Judgement\n",
      "[youtube:search] query \"Niall Horan No Judgement\": Downloading web client config\n",
      "[youtube:search] query \"Niall Horan No Judgement\" page 1: Downloading API JSON\n",
      "[youtube:search] Playlist Niall Horan No Judgement: Downloading 1 items of 1\n",
      "[download] Downloading item 1 of 1\n",
      "[youtube] Extracting URL: https://www.youtube.com/watch?v=CU5ImX_MNms\n",
      "[youtube] CU5ImX_MNms: Downloading webpage\n",
      "[youtube] CU5ImX_MNms: Downloading ios player API JSON\n",
      "[youtube] CU5ImX_MNms: Downloading android player API JSON\n",
      "[youtube] CU5ImX_MNms: Downloading m3u8 information\n",
      "[info] CU5ImX_MNms: Downloading 1 format(s): 251\n",
      "[download] Destination: C:\\Users\\arwin\\Documents\\dev\\APS360-PROJECT\\data\\billboard_audio\\Niall Horan_No Judgement\\Niall Horan_No Judgement.webm\n",
      "[download] 100% of    2.90MiB in 00:00:00 at 11.61MiB/s  \n",
      "[download] Finished downloading playlist: Niall Horan No Judgement\n",
      "[generic] Extracting URL: Tory Lanez & T-Pain Jerry Sprunger\n",
      "[youtube:search] Extracting URL: ytsearch:Tory Lanez & T-Pain Jerry Sprunger\n",
      "[download] Downloading playlist: Tory Lanez & T-Pain Jerry Sprunger\n",
      "[youtube:search] query \"Tory Lanez & T-Pain Jerry Sprunger\": Downloading web client config\n",
      "[youtube:search] query \"Tory Lanez & T-Pain Jerry Sprunger\" page 1: Downloading API JSON\n",
      "[youtube:search] Playlist Tory Lanez & T-Pain Jerry Sprunger: Downloading 1 items of 1\n",
      "[download] Downloading item 1 of 1\n",
      "[youtube] Extracting URL: https://www.youtube.com/watch?v=D9Q3ojqDsRg\n",
      "[youtube] D9Q3ojqDsRg: Downloading webpage\n",
      "[youtube] D9Q3ojqDsRg: Downloading ios player API JSON\n",
      "[youtube] D9Q3ojqDsRg: Downloading android player API JSON\n"
     ]
    },
    {
     "name": "stderr",
     "output_type": "stream",
     "text": [
      "WARNING: [youtube] YouTube said: ERROR - Precondition check failed.\n",
      "WARNING: [youtube] HTTP Error 400: Bad Request. Retrying (1/3)...\n"
     ]
    },
    {
     "name": "stdout",
     "output_type": "stream",
     "text": [
      "[youtube] D9Q3ojqDsRg: Downloading android player API JSON\n",
      "[youtube] D9Q3ojqDsRg: Downloading m3u8 information\n",
      "[info] D9Q3ojqDsRg: Downloading 1 format(s): 251\n",
      "[download] Destination: C:\\Users\\arwin\\Documents\\dev\\APS360-PROJECT\\data\\billboard_audio\\Tory Lanez & T-Pain_Jerry Sprunger\\Tory Lanez & T-Pain_Jerry Sprunger.webm\n",
      "[download] 100% of    4.46MiB in 00:00:00 at 11.52MiB/s  \n",
      "[download] Finished downloading playlist: Tory Lanez & T-Pain Jerry Sprunger\n",
      "[generic] Extracting URL: Baby Keem ORANGE SODA\n",
      "[youtube:search] Extracting URL: ytsearch:Baby Keem ORANGE SODA\n",
      "[download] Downloading playlist: Baby Keem ORANGE SODA\n",
      "[youtube:search] query \"Baby Keem ORANGE SODA\": Downloading web client config\n",
      "[youtube:search] query \"Baby Keem ORANGE SODA\" page 1: Downloading API JSON\n",
      "[youtube:search] Playlist Baby Keem ORANGE SODA: Downloading 1 items of 1\n",
      "[download] Downloading item 1 of 1\n",
      "[youtube] Extracting URL: https://www.youtube.com/watch?v=3I8_Q5ftBpA\n",
      "[youtube] 3I8_Q5ftBpA: Downloading webpage\n",
      "[youtube] 3I8_Q5ftBpA: Downloading ios player API JSON\n",
      "[youtube] 3I8_Q5ftBpA: Downloading android player API JSON\n",
      "[youtube] 3I8_Q5ftBpA: Downloading m3u8 information\n",
      "[info] 3I8_Q5ftBpA: Downloading 1 format(s): 251\n",
      "[download] Destination: C:\\Users\\arwin\\Documents\\dev\\APS360-PROJECT\\data\\billboard_audio\\Baby Keem_ORANGE SODA\\Baby Keem_ORANGE SODA.webm\n",
      "[download] 100% of    2.34MiB in 00:00:00 at 13.81MiB/s  \n",
      "[download] Finished downloading playlist: Baby Keem ORANGE SODA\n",
      "[generic] Extracting URL: Taylor Swift Only The Young\n",
      "[youtube:search] Extracting URL: ytsearch:Taylor Swift Only The Young\n",
      "[download] Downloading playlist: Taylor Swift Only The Young\n",
      "[youtube:search] query \"Taylor Swift Only The Young\": Downloading web client config\n",
      "[youtube:search] query \"Taylor Swift Only The Young\" page 1: Downloading API JSON\n",
      "[youtube:search] Playlist Taylor Swift Only The Young: Downloading 1 items of 1\n",
      "[download] Downloading item 1 of 1\n",
      "[youtube] Extracting URL: https://www.youtube.com/watch?v=GJU-S1t2r1M\n",
      "[youtube] GJU-S1t2r1M: Downloading webpage\n",
      "[youtube] GJU-S1t2r1M: Downloading ios player API JSON\n",
      "[youtube] GJU-S1t2r1M: Downloading android player API JSON\n",
      "[youtube] GJU-S1t2r1M: Downloading m3u8 information\n",
      "[info] GJU-S1t2r1M: Downloading 1 format(s): 251\n",
      "[download] Destination: C:\\Users\\arwin\\Documents\\dev\\APS360-PROJECT\\data\\billboard_audio\\Taylor Swift_Only The Young\\Taylor Swift_Only The Young.webm\n",
      "[download] 100% of    2.45MiB in 00:00:00 at 10.04MiB/s    \n",
      "[download] Finished downloading playlist: Taylor Swift Only The Young\n",
      "[generic] Extracting URL: Lil Wayne Mahogany\n",
      "[youtube:search] Extracting URL: ytsearch:Lil Wayne Mahogany\n",
      "[download] Downloading playlist: Lil Wayne Mahogany\n",
      "[youtube:search] query \"Lil Wayne Mahogany\": Downloading web client config\n",
      "[youtube:search] query \"Lil Wayne Mahogany\" page 1: Downloading API JSON\n",
      "[youtube:search] Playlist Lil Wayne Mahogany: Downloading 1 items of 1\n",
      "[download] Downloading item 1 of 1\n",
      "[youtube] Extracting URL: https://www.youtube.com/watch?v=6uIsw1pM9bE\n",
      "[youtube] 6uIsw1pM9bE: Downloading webpage\n",
      "[youtube] 6uIsw1pM9bE: Downloading ios player API JSON\n",
      "[youtube] 6uIsw1pM9bE: Downloading android player API JSON\n"
     ]
    },
    {
     "name": "stderr",
     "output_type": "stream",
     "text": [
      "WARNING: [youtube] YouTube said: ERROR - Precondition check failed.\n",
      "WARNING: [youtube] HTTP Error 400: Bad Request. Retrying (1/3)...\n"
     ]
    },
    {
     "name": "stdout",
     "output_type": "stream",
     "text": [
      "[youtube] 6uIsw1pM9bE: Downloading android player API JSON\n"
     ]
    },
    {
     "name": "stderr",
     "output_type": "stream",
     "text": [
      "WARNING: [youtube] YouTube said: ERROR - Precondition check failed.\n",
      "WARNING: [youtube] HTTP Error 400: Bad Request. Retrying (2/3)...\n"
     ]
    },
    {
     "name": "stdout",
     "output_type": "stream",
     "text": [
      "[youtube] 6uIsw1pM9bE: Downloading android player API JSON\n"
     ]
    },
    {
     "name": "stderr",
     "output_type": "stream",
     "text": [
      "WARNING: [youtube] YouTube said: ERROR - Precondition check failed.\n",
      "WARNING: [youtube] HTTP Error 400: Bad Request. Retrying (3/3)...\n"
     ]
    },
    {
     "name": "stdout",
     "output_type": "stream",
     "text": [
      "[youtube] 6uIsw1pM9bE: Downloading android player API JSON\n"
     ]
    },
    {
     "name": "stderr",
     "output_type": "stream",
     "text": [
      "WARNING: [youtube] YouTube said: ERROR - Precondition check failed.\n",
      "WARNING: [youtube] Unable to download API page: HTTP Error 400: Bad Request (caused by <HTTPError 400: Bad Request>); please report this issue on  https://github.com/yt-dlp/yt-dlp/issues?q= , filling out the appropriate issue template. Confirm you are on the latest version using  yt-dlp -U\n"
     ]
    },
    {
     "name": "stdout",
     "output_type": "stream",
     "text": [
      "[youtube] 6uIsw1pM9bE: Downloading m3u8 information\n",
      "[info] 6uIsw1pM9bE: Downloading 1 format(s): 251\n",
      "[download] Destination: C:\\Users\\arwin\\Documents\\dev\\APS360-PROJECT\\data\\billboard_audio\\Lil Wayne_Mahogany\\Lil Wayne_Mahogany.webm\n",
      "[download] 100% of    3.14MiB in 00:00:00 at 4.40MiB/s   \n",
      "[download] Finished downloading playlist: Lil Wayne Mahogany\n",
      "[generic] Extracting URL: Meek Mill Featuring Roddy Ricch Letter To Nipsey\n",
      "[youtube:search] Extracting URL: ytsearch:Meek Mill Featuring Roddy Ricch Letter To Nipsey\n",
      "[download] Downloading playlist: Meek Mill Featuring Roddy Ricch Letter To Nipsey\n",
      "[youtube:search] query \"Meek Mill Featuring Roddy Ricch Letter To Nipsey\": Downloading web client config\n",
      "[youtube:search] query \"Meek Mill Featuring Roddy Ricch Letter To Nipsey\" page 1: Downloading API JSON\n",
      "[youtube:search] Playlist Meek Mill Featuring Roddy Ricch Letter To Nipsey: Downloading 1 items of 1\n",
      "[download] Downloading item 1 of 1\n",
      "[youtube] Extracting URL: https://www.youtube.com/watch?v=f2LhYccWWQI\n",
      "[youtube] f2LhYccWWQI: Downloading webpage\n",
      "[youtube] f2LhYccWWQI: Downloading ios player API JSON\n",
      "[youtube] f2LhYccWWQI: Downloading android player API JSON\n"
     ]
    },
    {
     "name": "stderr",
     "output_type": "stream",
     "text": [
      "WARNING: [youtube] YouTube said: ERROR - Precondition check failed.\n",
      "WARNING: [youtube] HTTP Error 400: Bad Request. Retrying (1/3)...\n"
     ]
    },
    {
     "name": "stdout",
     "output_type": "stream",
     "text": [
      "[youtube] f2LhYccWWQI: Downloading android player API JSON\n"
     ]
    },
    {
     "name": "stderr",
     "output_type": "stream",
     "text": [
      "WARNING: [youtube] YouTube said: ERROR - Precondition check failed.\n",
      "WARNING: [youtube] HTTP Error 400: Bad Request. Retrying (2/3)...\n"
     ]
    },
    {
     "name": "stdout",
     "output_type": "stream",
     "text": [
      "[youtube] f2LhYccWWQI: Downloading android player API JSON\n",
      "[youtube] f2LhYccWWQI: Downloading m3u8 information\n",
      "[info] f2LhYccWWQI: Downloading 1 format(s): 251\n",
      "[download] Destination: C:\\Users\\arwin\\Documents\\dev\\APS360-PROJECT\\data\\billboard_audio\\Meek Mill Featuring Roddy Ricch_Letter To Nipsey\\Meek Mill Featuring Roddy Ricch_Letter To Nipsey.webm\n",
      "[download] 100% of    2.80MiB in 00:00:00 at 3.89MiB/s   \n",
      "[download] Finished downloading playlist: Meek Mill Featuring Roddy Ricch Letter To Nipsey\n",
      "[generic] Extracting URL: Mac Miller Good News\n",
      "[youtube:search] Extracting URL: ytsearch:Mac Miller Good News\n",
      "[download] Downloading playlist: Mac Miller Good News\n",
      "[youtube:search] query \"Mac Miller Good News\": Downloading web client config\n",
      "[youtube:search] query \"Mac Miller Good News\" page 1: Downloading API JSON\n",
      "[youtube:search] Playlist Mac Miller Good News: Downloading 1 items of 1\n",
      "[download] Downloading item 1 of 1\n",
      "[youtube] Extracting URL: https://www.youtube.com/watch?v=aIHF7u9Wwiw\n",
      "[youtube] aIHF7u9Wwiw: Downloading webpage\n",
      "[youtube] aIHF7u9Wwiw: Downloading ios player API JSON\n",
      "[youtube] aIHF7u9Wwiw: Downloading android player API JSON\n",
      "[youtube] aIHF7u9Wwiw: Downloading m3u8 information\n",
      "[info] aIHF7u9Wwiw: Downloading 1 format(s): 251\n",
      "[download] Destination: C:\\Users\\arwin\\Documents\\dev\\APS360-PROJECT\\data\\billboard_audio\\Mac Miller_Good News\\Mac Miller_Good News.webm\n",
      "[download] 100% of    6.23MiB in 00:00:02 at 2.58MiB/s     \n",
      "[download] Finished downloading playlist: Mac Miller Good News\n",
      "[generic] Extracting URL: Lil Wayne Mama Mia\n",
      "[youtube:search] Extracting URL: ytsearch:Lil Wayne Mama Mia\n",
      "[download] Downloading playlist: Lil Wayne Mama Mia\n",
      "[youtube:search] query \"Lil Wayne Mama Mia\": Downloading web client config\n",
      "[youtube:search] query \"Lil Wayne Mama Mia\" page 1: Downloading API JSON\n",
      "[youtube:search] Playlist Lil Wayne Mama Mia: Downloading 1 items of 1\n",
      "[download] Downloading item 1 of 1\n",
      "[youtube] Extracting URL: https://www.youtube.com/watch?v=4ZMhpuOcGBU\n",
      "[youtube] 4ZMhpuOcGBU: Downloading webpage\n",
      "[youtube] 4ZMhpuOcGBU: Downloading ios player API JSON\n",
      "[youtube] 4ZMhpuOcGBU: Downloading android player API JSON\n",
      "[youtube] 4ZMhpuOcGBU: Downloading m3u8 information\n",
      "[info] 4ZMhpuOcGBU: Downloading 1 format(s): 251\n",
      "[download] Destination: C:\\Users\\arwin\\Documents\\dev\\APS360-PROJECT\\data\\billboard_audio\\Lil Wayne_Mama Mia\\Lil Wayne_Mama Mia.webm\n",
      "[download] 100% of    3.94MiB in 00:00:00 at 7.60MiB/s     \n",
      "[download] Finished downloading playlist: Lil Wayne Mama Mia\n",
      "[generic] Extracting URL: Lil Wayne Funeral\n",
      "[youtube:search] Extracting URL: ytsearch:Lil Wayne Funeral\n",
      "[download] Downloading playlist: Lil Wayne Funeral\n",
      "[youtube:search] query \"Lil Wayne Funeral\": Downloading web client config\n",
      "[youtube:search] query \"Lil Wayne Funeral\" page 1: Downloading API JSON\n",
      "[youtube:search] Playlist Lil Wayne Funeral: Downloading 1 items of 1\n",
      "[download] Downloading item 1 of 1\n",
      "[youtube] Extracting URL: https://www.youtube.com/watch?v=SYgpV25TqsI\n",
      "[youtube] SYgpV25TqsI: Downloading webpage\n",
      "[youtube] SYgpV25TqsI: Downloading ios player API JSON\n",
      "[youtube] SYgpV25TqsI: Downloading android player API JSON\n",
      "[youtube] SYgpV25TqsI: Downloading m3u8 information\n",
      "[info] SYgpV25TqsI: Downloading 1 format(s): 251\n",
      "[download] Destination: C:\\Users\\arwin\\Documents\\dev\\APS360-PROJECT\\data\\billboard_audio\\Lil Wayne_Funeral\\Lil Wayne_Funeral.webm\n",
      "[download] 100% of    3.28MiB in 00:00:00 at 5.64MiB/s     \n",
      "[download] Finished downloading playlist: Lil Wayne Funeral\n",
      "[generic] Extracting URL: Meghan Trainor Featuring Nicki Minaj Nice To Meet Ya\n",
      "[youtube:search] Extracting URL: ytsearch:Meghan Trainor Featuring Nicki Minaj Nice To Meet Ya\n",
      "[download] Downloading playlist: Meghan Trainor Featuring Nicki Minaj Nice To Meet Ya\n",
      "[youtube:search] query \"Meghan Trainor Featuring Nicki Minaj Nice To Meet Ya\": Downloading web client config\n",
      "[youtube:search] query \"Meghan Trainor Featuring Nicki Minaj Nice To Meet Ya\" page 1: Downloading API JSON\n",
      "[youtube:search] Playlist Meghan Trainor Featuring Nicki Minaj Nice To Meet Ya: Downloading 1 items of 1\n",
      "[download] Downloading item 1 of 1\n",
      "[youtube] Extracting URL: https://www.youtube.com/watch?v=MRvKL8FnrtU\n",
      "[youtube] MRvKL8FnrtU: Downloading webpage\n",
      "[youtube] MRvKL8FnrtU: Downloading ios player API JSON\n",
      "[youtube] MRvKL8FnrtU: Downloading android player API JSON\n",
      "[youtube] MRvKL8FnrtU: Downloading m3u8 information\n",
      "[info] MRvKL8FnrtU: Downloading 1 format(s): 251\n",
      "[download] Destination: C:\\Users\\arwin\\Documents\\dev\\APS360-PROJECT\\data\\billboard_audio\\Meghan Trainor Featuring Nicki Minaj_Nice To Meet Ya\\Meghan Trainor Featuring Nicki Minaj_Nice To Meet Ya.webm\n",
      "[download] 100% of    3.19MiB in 00:00:00 at 4.26MiB/s   \n",
      "[download] Finished downloading playlist: Meghan Trainor Featuring Nicki Minaj Nice To Meet Ya\n",
      "[generic] Extracting URL: Justin Bieber Featuring Kehlani Get Me\n",
      "[youtube:search] Extracting URL: ytsearch:Justin Bieber Featuring Kehlani Get Me\n",
      "[download] Downloading playlist: Justin Bieber Featuring Kehlani Get Me\n",
      "[youtube:search] query \"Justin Bieber Featuring Kehlani Get Me\": Downloading web client config\n",
      "[youtube:search] query \"Justin Bieber Featuring Kehlani Get Me\" page 1: Downloading API JSON\n",
      "[youtube:search] Playlist Justin Bieber Featuring Kehlani Get Me: Downloading 1 items of 1\n",
      "[download] Downloading item 1 of 1\n",
      "[youtube] Extracting URL: https://www.youtube.com/watch?v=9uBQ53rM3WU\n",
      "[youtube] 9uBQ53rM3WU: Downloading webpage\n",
      "[youtube] 9uBQ53rM3WU: Downloading ios player API JSON\n",
      "[youtube] 9uBQ53rM3WU: Downloading android player API JSON\n",
      "[youtube] 9uBQ53rM3WU: Downloading m3u8 information\n",
      "[info] 9uBQ53rM3WU: Downloading 1 format(s): 251\n",
      "[download] Destination: C:\\Users\\arwin\\Documents\\dev\\APS360-PROJECT\\data\\billboard_audio\\Justin Bieber Featuring Kehlani_Get Me\\Justin Bieber Featuring Kehlani_Get Me.webm\n",
      "[download] 100% of    3.43MiB in 00:00:00 at 5.45MiB/s   \n",
      "[download] Finished downloading playlist: Justin Bieber Featuring Kehlani Get Me\n",
      "[generic] Extracting URL: MoneyBagg Yo Featuring Lil Baby U Played\n",
      "[youtube:search] Extracting URL: ytsearch:MoneyBagg Yo Featuring Lil Baby U Played\n",
      "[download] Downloading playlist: MoneyBagg Yo Featuring Lil Baby U Played\n",
      "[youtube:search] query \"MoneyBagg Yo Featuring Lil Baby U Played\": Downloading web client config\n",
      "[youtube:search] query \"MoneyBagg Yo Featuring Lil Baby U Played\" page 1: Downloading API JSON\n",
      "[youtube:search] Playlist MoneyBagg Yo Featuring Lil Baby U Played: Downloading 1 items of 1\n",
      "[download] Downloading item 1 of 1\n",
      "[youtube] Extracting URL: https://www.youtube.com/watch?v=wpJVTMKhRaE\n",
      "[youtube] wpJVTMKhRaE: Downloading webpage\n",
      "[youtube] wpJVTMKhRaE: Downloading ios player API JSON\n",
      "[youtube] wpJVTMKhRaE: Downloading android player API JSON\n",
      "[youtube] wpJVTMKhRaE: Downloading m3u8 information\n",
      "[info] wpJVTMKhRaE: Downloading 1 format(s): 251\n",
      "[download] Destination: C:\\Users\\arwin\\Documents\\dev\\APS360-PROJECT\\data\\billboard_audio\\MoneyBagg Yo Featuring Lil Baby_U Played\\MoneyBagg Yo Featuring Lil Baby_U Played.webm\n",
      "[download] 100% of    2.84MiB in 00:00:00 at 11.71MiB/s  \n",
      "[download] Finished downloading playlist: MoneyBagg Yo Featuring Lil Baby U Played\n",
      "[generic] Extracting URL: NLE Choppa Camelot\n",
      "[youtube:search] Extracting URL: ytsearch:NLE Choppa Camelot\n",
      "[download] Downloading playlist: NLE Choppa Camelot\n",
      "[youtube:search] query \"NLE Choppa Camelot\": Downloading web client config\n",
      "[youtube:search] query \"NLE Choppa Camelot\" page 1: Downloading API JSON\n",
      "[youtube:search] Playlist NLE Choppa Camelot: Downloading 1 items of 1\n",
      "[download] Downloading item 1 of 1\n",
      "[youtube] Extracting URL: https://www.youtube.com/watch?v=0II-EFw9J0A\n",
      "[youtube] 0II-EFw9J0A: Downloading webpage\n",
      "[youtube] 0II-EFw9J0A: Downloading ios player API JSON\n",
      "[youtube] 0II-EFw9J0A: Downloading android player API JSON\n"
     ]
    },
    {
     "name": "stderr",
     "output_type": "stream",
     "text": [
      "WARNING: [youtube] YouTube said: ERROR - Precondition check failed.\n",
      "WARNING: [youtube] HTTP Error 400: Bad Request. Retrying (1/3)...\n"
     ]
    },
    {
     "name": "stdout",
     "output_type": "stream",
     "text": [
      "[youtube] 0II-EFw9J0A: Downloading android player API JSON\n"
     ]
    },
    {
     "name": "stderr",
     "output_type": "stream",
     "text": [
      "WARNING: [youtube] YouTube said: ERROR - Precondition check failed.\n",
      "WARNING: [youtube] HTTP Error 400: Bad Request. Retrying (2/3)...\n"
     ]
    },
    {
     "name": "stdout",
     "output_type": "stream",
     "text": [
      "[youtube] 0II-EFw9J0A: Downloading android player API JSON\n"
     ]
    },
    {
     "name": "stderr",
     "output_type": "stream",
     "text": [
      "WARNING: [youtube] YouTube said: ERROR - Precondition check failed.\n",
      "WARNING: [youtube] HTTP Error 400: Bad Request. Retrying (3/3)...\n"
     ]
    },
    {
     "name": "stdout",
     "output_type": "stream",
     "text": [
      "[youtube] 0II-EFw9J0A: Downloading android player API JSON\n"
     ]
    },
    {
     "name": "stderr",
     "output_type": "stream",
     "text": [
      "WARNING: [youtube] YouTube said: ERROR - Precondition check failed.\n",
      "WARNING: [youtube] Unable to download API page: HTTP Error 400: Bad Request (caused by <HTTPError 400: Bad Request>); please report this issue on  https://github.com/yt-dlp/yt-dlp/issues?q= , filling out the appropriate issue template. Confirm you are on the latest version using  yt-dlp -U\n"
     ]
    },
    {
     "name": "stdout",
     "output_type": "stream",
     "text": [
      "[youtube] 0II-EFw9J0A: Downloading m3u8 information\n",
      "[info] 0II-EFw9J0A: Downloading 1 format(s): 251\n",
      "[download] Destination: C:\\Users\\arwin\\Documents\\dev\\APS360-PROJECT\\data\\billboard_audio\\NLE Choppa_Camelot\\NLE Choppa_Camelot.webm\n",
      "[download] 100% of    2.54MiB in 00:00:00 at 3.79MiB/s   \n",
      "[download] Finished downloading playlist: NLE Choppa Camelot\n",
      "[generic] Extracting URL: Lil Nas X Panini\n",
      "[youtube:search] Extracting URL: ytsearch:Lil Nas X Panini\n",
      "[download] Downloading playlist: Lil Nas X Panini\n",
      "[youtube:search] query \"Lil Nas X Panini\": Downloading web client config\n",
      "[youtube:search] query \"Lil Nas X Panini\" page 1: Downloading API JSON\n",
      "[youtube:search] Playlist Lil Nas X Panini: Downloading 1 items of 1\n",
      "[download] Downloading item 1 of 1\n",
      "[youtube] Extracting URL: https://www.youtube.com/watch?v=bXcSLI58-h8\n",
      "[youtube] bXcSLI58-h8: Downloading webpage\n",
      "[youtube] bXcSLI58-h8: Downloading ios player API JSON\n",
      "[youtube] bXcSLI58-h8: Downloading android player API JSON\n",
      "[youtube] bXcSLI58-h8: Downloading m3u8 information\n",
      "[info] bXcSLI58-h8: Downloading 1 format(s): 251\n",
      "[download] Destination: C:\\Users\\arwin\\Documents\\dev\\APS360-PROJECT\\data\\billboard_audio\\Lil Nas X_Panini\\Lil Nas X_Panini.webm\n",
      "[download] 100% of    2.24MiB in 00:00:00 at 10.39MiB/s  \n",
      "[download] Finished downloading playlist: Lil Nas X Panini\n",
      "[generic] Extracting URL: Halsey Graveyard\n",
      "[youtube:search] Extracting URL: ytsearch:Halsey Graveyard\n",
      "[download] Downloading playlist: Halsey Graveyard\n",
      "[youtube:search] query \"Halsey Graveyard\": Downloading web client config\n",
      "[youtube:search] query \"Halsey Graveyard\" page 1: Downloading API JSON\n",
      "[youtube:search] Playlist Halsey Graveyard: Downloading 1 items of 1\n",
      "[download] Downloading item 1 of 1\n",
      "[youtube] Extracting URL: https://www.youtube.com/watch?v=rPgaYeq9NvI\n",
      "[youtube] rPgaYeq9NvI: Downloading webpage\n",
      "[youtube] rPgaYeq9NvI: Downloading ios player API JSON\n",
      "[youtube] rPgaYeq9NvI: Downloading android player API JSON\n",
      "[youtube] rPgaYeq9NvI: Downloading m3u8 information\n",
      "[info] rPgaYeq9NvI: Downloading 1 format(s): 251\n",
      "[download] Destination: C:\\Users\\arwin\\Documents\\dev\\APS360-PROJECT\\data\\billboard_audio\\Halsey_Graveyard\\Halsey_Graveyard.webm\n",
      "[download] 100% of    3.96MiB in 00:00:06 at 588.93KiB/s \n",
      "[download] Finished downloading playlist: Halsey Graveyard\n",
      "[generic] Extracting URL: Mac Miller Blue World\n",
      "[youtube:search] Extracting URL: ytsearch:Mac Miller Blue World\n",
      "[download] Downloading playlist: Mac Miller Blue World\n",
      "[youtube:search] query \"Mac Miller Blue World\": Downloading web client config\n",
      "[youtube:search] query \"Mac Miller Blue World\" page 1: Downloading API JSON\n",
      "[youtube:search] Playlist Mac Miller Blue World: Downloading 1 items of 1\n",
      "[download] Downloading item 1 of 1\n",
      "[youtube] Extracting URL: https://www.youtube.com/watch?v=_GC2wFTCAGY\n",
      "[youtube] _GC2wFTCAGY: Downloading webpage\n",
      "[youtube] _GC2wFTCAGY: Downloading ios player API JSON\n",
      "[youtube] _GC2wFTCAGY: Downloading android player API JSON\n"
     ]
    },
    {
     "name": "stderr",
     "output_type": "stream",
     "text": [
      "WARNING: [youtube] YouTube said: ERROR - Precondition check failed.\n",
      "WARNING: [youtube] HTTP Error 400: Bad Request. Retrying (1/3)...\n"
     ]
    },
    {
     "name": "stdout",
     "output_type": "stream",
     "text": [
      "[youtube] _GC2wFTCAGY: Downloading android player API JSON\n",
      "[youtube] _GC2wFTCAGY: Downloading m3u8 information\n",
      "[info] _GC2wFTCAGY: Downloading 1 format(s): 251\n",
      "[download] Destination: C:\\Users\\arwin\\Documents\\dev\\APS360-PROJECT\\data\\billboard_audio\\Mac Miller_Blue World\\Mac Miller_Blue World.webm\n",
      "[download] 100% of    3.34MiB in 00:00:00 at 9.31MiB/s   \n",
      "[download] Finished downloading playlist: Mac Miller Blue World\n",
      "[generic] Extracting URL: Eminem Featuring Ed Sheeran Those Kinda Nights\n",
      "[youtube:search] Extracting URL: ytsearch:Eminem Featuring Ed Sheeran Those Kinda Nights\n",
      "[download] Downloading playlist: Eminem Featuring Ed Sheeran Those Kinda Nights\n",
      "[youtube:search] query \"Eminem Featuring Ed Sheeran Those Kinda Nights\": Downloading web client config\n",
      "[youtube:search] query \"Eminem Featuring Ed Sheeran Those Kinda Nights\" page 1: Downloading API JSON\n",
      "[youtube:search] Playlist Eminem Featuring Ed Sheeran Those Kinda Nights: Downloading 1 items of 1\n",
      "[download] Downloading item 1 of 1\n",
      "[youtube] Extracting URL: https://www.youtube.com/watch?v=o6BYffaYzL4\n",
      "[youtube] o6BYffaYzL4: Downloading webpage\n",
      "[youtube] o6BYffaYzL4: Downloading ios player API JSON\n",
      "[youtube] o6BYffaYzL4: Downloading android player API JSON\n"
     ]
    },
    {
     "name": "stderr",
     "output_type": "stream",
     "text": [
      "WARNING: [youtube] YouTube said: ERROR - Precondition check failed.\n",
      "WARNING: [youtube] HTTP Error 400: Bad Request. Retrying (1/3)...\n"
     ]
    },
    {
     "name": "stdout",
     "output_type": "stream",
     "text": [
      "[youtube] o6BYffaYzL4: Downloading android player API JSON\n"
     ]
    },
    {
     "name": "stderr",
     "output_type": "stream",
     "text": [
      "WARNING: [youtube] YouTube said: ERROR - Precondition check failed.\n",
      "WARNING: [youtube] HTTP Error 400: Bad Request. Retrying (2/3)...\n"
     ]
    },
    {
     "name": "stdout",
     "output_type": "stream",
     "text": [
      "[youtube] o6BYffaYzL4: Downloading android player API JSON\n",
      "[youtube] o6BYffaYzL4: Downloading m3u8 information\n",
      "[info] o6BYffaYzL4: Downloading 1 format(s): 251\n",
      "[download] Destination: C:\\Users\\arwin\\Documents\\dev\\APS360-PROJECT\\data\\billboard_audio\\Eminem Featuring Ed Sheeran_Those Kinda Nights\\Eminem Featuring Ed Sheeran_Those Kinda Nights.webm\n",
      "[download] 100% of    2.97MiB in 00:00:00 at 8.09MiB/s   \n",
      "[download] Finished downloading playlist: Eminem Featuring Ed Sheeran Those Kinda Nights\n",
      "[generic] Extracting URL: Eminem Darkness\n",
      "[youtube:search] Extracting URL: ytsearch:Eminem Darkness\n",
      "[download] Downloading playlist: Eminem Darkness\n",
      "[youtube:search] query \"Eminem Darkness\": Downloading web client config\n",
      "[youtube:search] query \"Eminem Darkness\" page 1: Downloading API JSON\n",
      "[youtube:search] Playlist Eminem Darkness: Downloading 1 items of 1\n",
      "[download] Downloading item 1 of 1\n",
      "[youtube] Extracting URL: https://www.youtube.com/watch?v=RHQC4fAhcbU\n",
      "[youtube] RHQC4fAhcbU: Downloading webpage\n",
      "[youtube] RHQC4fAhcbU: Downloading ios player API JSON\n",
      "[youtube] RHQC4fAhcbU: Downloading android player API JSON\n",
      "[youtube] RHQC4fAhcbU: Downloading m3u8 information\n",
      "[info] RHQC4fAhcbU: Downloading 1 format(s): 251\n",
      "[download] Destination: C:\\Users\\arwin\\Documents\\dev\\APS360-PROJECT\\data\\billboard_audio\\Eminem_Darkness\\Eminem_Darkness.webm\n",
      "[download] 100% of    5.55MiB in 00:00:00 at 13.01MiB/s  \n",
      "[download] Finished downloading playlist: Eminem Darkness\n",
      "[generic] Extracting URL: Camila Cabello First Man\n",
      "[youtube:search] Extracting URL: ytsearch:Camila Cabello First Man\n",
      "[download] Downloading playlist: Camila Cabello First Man\n",
      "[youtube:search] query \"Camila Cabello First Man\": Downloading web client config\n",
      "[youtube:search] query \"Camila Cabello First Man\" page 1: Downloading API JSON\n",
      "[youtube:search] Playlist Camila Cabello First Man: Downloading 1 items of 1\n",
      "[download] Downloading item 1 of 1\n",
      "[youtube] Extracting URL: https://www.youtube.com/watch?v=afeisEQa5l8\n",
      "[youtube] afeisEQa5l8: Downloading webpage\n",
      "[youtube] afeisEQa5l8: Downloading ios player API JSON\n",
      "[youtube] afeisEQa5l8: Downloading android player API JSON\n",
      "[youtube] afeisEQa5l8: Downloading m3u8 information\n",
      "[info] afeisEQa5l8: Downloading 1 format(s): 251\n",
      "[download] Destination: C:\\Users\\arwin\\Documents\\dev\\APS360-PROJECT\\data\\billboard_audio\\Camila Cabello_First Man\\Camila Cabello_First Man.webm\n",
      "[download] 100% of    4.08MiB in 00:00:00 at 14.13MiB/s  \n",
      "[download] Finished downloading playlist: Camila Cabello First Man\n",
      "[generic] Extracting URL: Ali Gatie What If I Told You That I Love You\n",
      "[youtube:search] Extracting URL: ytsearch:Ali Gatie What If I Told You That I Love You\n",
      "[download] Downloading playlist: Ali Gatie What If I Told You That I Love You\n",
      "[youtube:search] query \"Ali Gatie What If I Told You That I Love You\": Downloading web client config\n",
      "[youtube:search] query \"Ali Gatie What If I Told You That I Love You\" page 1: Downloading API JSON\n",
      "[youtube:search] Playlist Ali Gatie What If I Told You That I Love You: Downloading 1 items of 1\n",
      "[download] Downloading item 1 of 1\n",
      "[youtube] Extracting URL: https://www.youtube.com/watch?v=NKzd_YiW9AQ\n",
      "[youtube] NKzd_YiW9AQ: Downloading webpage\n",
      "[youtube] NKzd_YiW9AQ: Downloading ios player API JSON\n",
      "[youtube] NKzd_YiW9AQ: Downloading android player API JSON\n",
      "[youtube] NKzd_YiW9AQ: Downloading m3u8 information\n",
      "[info] NKzd_YiW9AQ: Downloading 1 format(s): 251\n",
      "[download] Destination: C:\\Users\\arwin\\Documents\\dev\\APS360-PROJECT\\data\\billboard_audio\\Ali Gatie_What If I Told You That I Love You\\Ali Gatie_What If I Told You That I Love You.webm\n",
      "[download] 100% of    3.57MiB in 00:00:00 at 14.93MiB/s  \n",
      "[download] Finished downloading playlist: Ali Gatie What If I Told You That I Love You\n",
      "[generic] Extracting URL: Eminem Featuring Young M_A Unaccommodating\n",
      "[youtube:search] Extracting URL: ytsearch:Eminem Featuring Young M_A Unaccommodating\n",
      "[download] Downloading playlist: Eminem Featuring Young M_A Unaccommodating\n",
      "[youtube:search] query \"Eminem Featuring Young M_A Unaccommodating\": Downloading web client config\n",
      "[youtube:search] query \"Eminem Featuring Young M_A Unaccommodating\" page 1: Downloading API JSON\n",
      "[youtube:search] Playlist Eminem Featuring Young M_A Unaccommodating: Downloading 1 items of 1\n",
      "[download] Downloading item 1 of 1\n",
      "[youtube] Extracting URL: https://www.youtube.com/watch?v=MHZGOJ1kysc\n",
      "[youtube] MHZGOJ1kysc: Downloading webpage\n",
      "[youtube] MHZGOJ1kysc: Downloading ios player API JSON\n",
      "[youtube] MHZGOJ1kysc: Downloading android player API JSON\n",
      "[youtube] MHZGOJ1kysc: Downloading m3u8 information\n",
      "[info] MHZGOJ1kysc: Downloading 1 format(s): 251\n",
      "[download] Destination: C:\\Users\\arwin\\Documents\\dev\\APS360-PROJECT\\data\\billboard_audio\\Eminem Featuring Young M_A_Unaccommodating\\Eminem Featuring Young M_A_Unaccommodating.webm\n",
      "[download] 100% of    3.75MiB in 00:00:00 at 10.60MiB/s  \n",
      "[download] Finished downloading playlist: Eminem Featuring Young M_A Unaccommodating\n",
      "[generic] Extracting URL: Eminem Featuring Royce da 5'9_ & White Gold You Gon' Learn\n",
      "[youtube:search] Extracting URL: ytsearch:Eminem Featuring Royce da 5'9_ & White Gold You Gon' Learn\n",
      "[download] Downloading playlist: Eminem Featuring Royce da 5'9_ & White Gold You Gon' Learn\n",
      "[youtube:search] query \"Eminem Featuring Royce da 5'9_ & White Gold You Gon' Learn\": Downloading web client config\n",
      "[youtube:search] query \"Eminem Featuring Royce da 5'9_ & White Gold You Gon' Learn\" page 1: Downloading API JSON\n",
      "[youtube:search] Playlist Eminem Featuring Royce da 5'9_ & White Gold You Gon' Learn: Downloading 1 items of 1\n",
      "[download] Downloading item 1 of 1\n",
      "[youtube] Extracting URL: https://www.youtube.com/watch?v=Oo2trDtq2FM\n",
      "[youtube] Oo2trDtq2FM: Downloading webpage\n",
      "[youtube] Oo2trDtq2FM: Downloading ios player API JSON\n",
      "[youtube] Oo2trDtq2FM: Downloading android player API JSON\n",
      "[youtube] Oo2trDtq2FM: Downloading m3u8 information\n",
      "[info] Oo2trDtq2FM: Downloading 1 format(s): 251\n",
      "[download] Destination: C:\\Users\\arwin\\Documents\\dev\\APS360-PROJECT\\data\\billboard_audio\\Eminem Featuring Royce da 5'9_ & White Gold_You Gon' Learn\\Eminem Featuring Royce da 5'9_ & White Gold_You Gon' Learn.webm\n",
      "[download] 100% of    3.56MiB in 00:00:00 at 3.83MiB/s   \n",
      "[download] Finished downloading playlist: Eminem Featuring Royce da 5'9_ & White Gold You Gon' Learn\n",
      "[generic] Extracting URL: BTS Black Swan\n",
      "[youtube:search] Extracting URL: ytsearch:BTS Black Swan\n",
      "[download] Downloading playlist: BTS Black Swan\n",
      "[youtube:search] query \"BTS Black Swan\": Downloading web client config\n",
      "[youtube:search] query \"BTS Black Swan\" page 1: Downloading API JSON\n",
      "[youtube:search] Playlist BTS Black Swan: Downloading 1 items of 1\n",
      "[download] Downloading item 1 of 1\n",
      "[youtube] Extracting URL: https://www.youtube.com/watch?v=0lapF4DQPKQ\n",
      "[youtube] 0lapF4DQPKQ: Downloading webpage\n",
      "[youtube] 0lapF4DQPKQ: Downloading ios player API JSON\n",
      "[youtube] 0lapF4DQPKQ: Downloading android player API JSON\n",
      "[youtube] 0lapF4DQPKQ: Downloading m3u8 information\n",
      "[info] 0lapF4DQPKQ: Downloading 1 format(s): 251\n",
      "[download] Destination: C:\\Users\\arwin\\Documents\\dev\\APS360-PROJECT\\data\\billboard_audio\\BTS_Black Swan\\BTS_Black Swan.webm\n",
      "[download] 100% of    3.60MiB in 00:00:00 at 8.80MiB/s   \n",
      "[download] Finished downloading playlist: BTS Black Swan\n",
      "[generic] Extracting URL: Eminem Featuring Skylar Grey Leaving Heaven\n",
      "[youtube:search] Extracting URL: ytsearch:Eminem Featuring Skylar Grey Leaving Heaven\n",
      "[download] Downloading playlist: Eminem Featuring Skylar Grey Leaving Heaven\n",
      "[youtube:search] query \"Eminem Featuring Skylar Grey Leaving Heaven\": Downloading web client config\n",
      "[youtube:search] query \"Eminem Featuring Skylar Grey Leaving Heaven\" page 1: Downloading API JSON\n",
      "[youtube:search] Playlist Eminem Featuring Skylar Grey Leaving Heaven: Downloading 1 items of 1\n",
      "[download] Downloading item 1 of 1\n",
      "[youtube] Extracting URL: https://www.youtube.com/watch?v=ftujE679Wx0\n",
      "[youtube] ftujE679Wx0: Downloading webpage\n",
      "[youtube] ftujE679Wx0: Downloading ios player API JSON\n",
      "[youtube] ftujE679Wx0: Downloading android player API JSON\n"
     ]
    },
    {
     "name": "stderr",
     "output_type": "stream",
     "text": [
      "WARNING: [youtube] YouTube said: ERROR - Precondition check failed.\n",
      "WARNING: [youtube] HTTP Error 400: Bad Request. Retrying (1/3)...\n"
     ]
    },
    {
     "name": "stdout",
     "output_type": "stream",
     "text": [
      "[youtube] ftujE679Wx0: Downloading android player API JSON\n",
      "[youtube] ftujE679Wx0: Downloading m3u8 information\n",
      "[info] ftujE679Wx0: Downloading 1 format(s): 251\n",
      "[download] Destination: C:\\Users\\arwin\\Documents\\dev\\APS360-PROJECT\\data\\billboard_audio\\Eminem Featuring Skylar Grey_Leaving Heaven\\Eminem Featuring Skylar Grey_Leaving Heaven.webm\n",
      "[download] 100% of    4.18MiB in 00:00:00 at 13.72MiB/s  \n",
      "[download] Finished downloading playlist: Eminem Featuring Skylar Grey Leaving Heaven\n",
      "[generic] Extracting URL: Mac Miller Complicated\n",
      "[youtube:search] Extracting URL: ytsearch:Mac Miller Complicated\n",
      "[download] Downloading playlist: Mac Miller Complicated\n",
      "[youtube:search] query \"Mac Miller Complicated\": Downloading web client config\n",
      "[youtube:search] query \"Mac Miller Complicated\" page 1: Downloading API JSON\n",
      "[youtube:search] Playlist Mac Miller Complicated: Downloading 1 items of 1\n",
      "[download] Downloading item 1 of 1\n",
      "[youtube] Extracting URL: https://www.youtube.com/watch?v=Q-NUaixkovQ\n",
      "[youtube] Q-NUaixkovQ: Downloading webpage\n",
      "[youtube] Q-NUaixkovQ: Downloading ios player API JSON\n",
      "[youtube] Q-NUaixkovQ: Downloading android player API JSON\n"
     ]
    },
    {
     "name": "stderr",
     "output_type": "stream",
     "text": [
      "WARNING: [youtube] YouTube said: ERROR - Precondition check failed.\n",
      "WARNING: [youtube] HTTP Error 400: Bad Request. Retrying (1/3)...\n"
     ]
    },
    {
     "name": "stdout",
     "output_type": "stream",
     "text": [
      "[youtube] Q-NUaixkovQ: Downloading android player API JSON\n",
      "[youtube] Q-NUaixkovQ: Downloading m3u8 information\n",
      "[info] Q-NUaixkovQ: Downloading 1 format(s): 251\n",
      "[download] Destination: C:\\Users\\arwin\\Documents\\dev\\APS360-PROJECT\\data\\billboard_audio\\Mac Miller_Complicated\\Mac Miller_Complicated.webm\n",
      "[download] 100% of    3.76MiB in 00:00:00 at 6.92MiB/s   \n",
      "[download] Finished downloading playlist: Mac Miller Complicated\n",
      "[generic] Extracting URL: Mac Miller Hand Me Downs\n",
      "[youtube:search] Extracting URL: ytsearch:Mac Miller Hand Me Downs\n",
      "[download] Downloading playlist: Mac Miller Hand Me Downs\n",
      "[youtube:search] query \"Mac Miller Hand Me Downs\": Downloading web client config\n",
      "[youtube:search] query \"Mac Miller Hand Me Downs\" page 1: Downloading API JSON\n",
      "[youtube:search] Playlist Mac Miller Hand Me Downs: Downloading 1 items of 1\n",
      "[download] Downloading item 1 of 1\n",
      "[youtube] Extracting URL: https://www.youtube.com/watch?v=fYEXdCCpfVQ\n",
      "[youtube] fYEXdCCpfVQ: Downloading webpage\n",
      "[youtube] fYEXdCCpfVQ: Downloading ios player API JSON\n",
      "[youtube] fYEXdCCpfVQ: Downloading android player API JSON\n"
     ]
    },
    {
     "name": "stderr",
     "output_type": "stream",
     "text": [
      "WARNING: [youtube] YouTube said: ERROR - Precondition check failed.\n",
      "WARNING: [youtube] HTTP Error 400: Bad Request. Retrying (1/3)...\n"
     ]
    },
    {
     "name": "stdout",
     "output_type": "stream",
     "text": [
      "[youtube] fYEXdCCpfVQ: Downloading android player API JSON\n"
     ]
    },
    {
     "name": "stderr",
     "output_type": "stream",
     "text": [
      "WARNING: [youtube] YouTube said: ERROR - Precondition check failed.\n",
      "WARNING: [youtube] HTTP Error 400: Bad Request. Retrying (2/3)...\n"
     ]
    },
    {
     "name": "stdout",
     "output_type": "stream",
     "text": [
      "[youtube] fYEXdCCpfVQ: Downloading android player API JSON\n",
      "[youtube] fYEXdCCpfVQ: Downloading m3u8 information\n",
      "[info] fYEXdCCpfVQ: Downloading 1 format(s): 251\n",
      "[download] Destination: C:\\Users\\arwin\\Documents\\dev\\APS360-PROJECT\\data\\billboard_audio\\Mac Miller_Hand Me Downs\\Mac Miller_Hand Me Downs.webm\n",
      "[download] 100% of    4.70MiB in 00:00:00 at 13.07MiB/s  \n",
      "[download] Finished downloading playlist: Mac Miller Hand Me Downs\n",
      "[generic] Extracting URL: Eminem Premonition (Intro)\n",
      "[youtube:search] Extracting URL: ytsearch:Eminem Premonition (Intro)\n",
      "[download] Downloading playlist: Eminem Premonition (Intro)\n",
      "[youtube:search] query \"Eminem Premonition (Intro)\": Downloading web client config\n",
      "[youtube:search] query \"Eminem Premonition (Intro)\" page 1: Downloading API JSON\n",
      "[youtube:search] Playlist Eminem Premonition (Intro): Downloading 1 items of 1\n",
      "[download] Downloading item 1 of 1\n",
      "[youtube] Extracting URL: https://www.youtube.com/watch?v=hlFOLS7vKaQ\n",
      "[youtube] hlFOLS7vKaQ: Downloading webpage\n",
      "[youtube] hlFOLS7vKaQ: Downloading ios player API JSON\n",
      "[youtube] hlFOLS7vKaQ: Downloading android player API JSON\n",
      "[youtube] hlFOLS7vKaQ: Downloading m3u8 information\n",
      "[info] hlFOLS7vKaQ: Downloading 1 format(s): 251\n",
      "[download] Destination: C:\\Users\\arwin\\Documents\\dev\\APS360-PROJECT\\data\\billboard_audio\\Eminem_Premonition (Intro)\\Eminem_Premonition (Intro).webm\n",
      "[download] 100% of    2.77MiB in 00:00:00 at 5.27MiB/s   \n",
      "[download] Finished downloading playlist: Eminem Premonition (Intro)\n",
      "[generic] Extracting URL: Mac Miller I Can See\n",
      "[youtube:search] Extracting URL: ytsearch:Mac Miller I Can See\n",
      "[download] Downloading playlist: Mac Miller I Can See\n",
      "[youtube:search] query \"Mac Miller I Can See\": Downloading web client config\n",
      "[youtube:search] query \"Mac Miller I Can See\" page 1: Downloading API JSON\n",
      "[youtube:search] Playlist Mac Miller I Can See: Downloading 1 items of 1\n",
      "[download] Downloading item 1 of 1\n",
      "[youtube] Extracting URL: https://www.youtube.com/watch?v=rGxOUnlHpGI\n",
      "[youtube] rGxOUnlHpGI: Downloading webpage\n",
      "[youtube] rGxOUnlHpGI: Downloading ios player API JSON\n",
      "[youtube] rGxOUnlHpGI: Downloading android player API JSON\n",
      "[youtube] rGxOUnlHpGI: Downloading m3u8 information\n",
      "[info] rGxOUnlHpGI: Downloading 1 format(s): 251\n",
      "[download] Destination: C:\\Users\\arwin\\Documents\\dev\\APS360-PROJECT\\data\\billboard_audio\\Mac Miller_I Can See\\Mac Miller_I Can See.webm\n",
      "[download] 100% of    3.67MiB in 00:00:00 at 8.65MiB/s   \n",
      "[download] Finished downloading playlist: Mac Miller I Can See\n",
      "[generic] Extracting URL: Eminem In Too Deep\n",
      "[youtube:search] Extracting URL: ytsearch:Eminem In Too Deep\n",
      "[download] Downloading playlist: Eminem In Too Deep\n",
      "[youtube:search] query \"Eminem In Too Deep\": Downloading web client config\n",
      "[youtube:search] query \"Eminem In Too Deep\" page 1: Downloading API JSON\n",
      "[youtube:search] Playlist Eminem In Too Deep: Downloading 1 items of 1\n",
      "[download] Downloading item 1 of 1\n",
      "[youtube] Extracting URL: https://www.youtube.com/watch?v=cmxdavhOg0Q\n",
      "[youtube] cmxdavhOg0Q: Downloading webpage\n",
      "[youtube] cmxdavhOg0Q: Downloading ios player API JSON\n",
      "[youtube] cmxdavhOg0Q: Downloading android player API JSON\n",
      "[youtube] cmxdavhOg0Q: Downloading m3u8 information\n",
      "[info] cmxdavhOg0Q: Downloading 1 format(s): 251\n",
      "[download] Destination: C:\\Users\\arwin\\Documents\\dev\\APS360-PROJECT\\data\\billboard_audio\\Eminem_In Too Deep\\Eminem_In Too Deep.webm\n",
      "[download] 100% of    2.98MiB in 00:00:00 at 5.92MiB/s   \n",
      "[download] Finished downloading playlist: Eminem In Too Deep\n",
      "[generic] Extracting URL: Mac Miller Woods\n",
      "[youtube:search] Extracting URL: ytsearch:Mac Miller Woods\n",
      "[download] Downloading playlist: Mac Miller Woods\n",
      "[youtube:search] query \"Mac Miller Woods\": Downloading web client config\n",
      "[youtube:search] query \"Mac Miller Woods\" page 1: Downloading API JSON\n",
      "[youtube:search] Playlist Mac Miller Woods: Downloading 1 items of 1\n",
      "[download] Downloading item 1 of 1\n",
      "[youtube] Extracting URL: https://www.youtube.com/watch?v=g8sX6wZHhD0\n",
      "[youtube] g8sX6wZHhD0: Downloading webpage\n",
      "[youtube] g8sX6wZHhD0: Downloading ios player API JSON\n",
      "[youtube] g8sX6wZHhD0: Downloading android player API JSON\n",
      "[youtube] g8sX6wZHhD0: Downloading m3u8 information\n",
      "[info] g8sX6wZHhD0: Downloading 1 format(s): 251\n",
      "[download] Destination: C:\\Users\\arwin\\Documents\\dev\\APS360-PROJECT\\data\\billboard_audio\\Mac Miller_Woods\\Mac Miller_Woods.webm\n",
      "[download] 100% of    4.68MiB in 00:00:00 at 8.79MiB/s   \n",
      "[download] Finished downloading playlist: Mac Miller Woods\n",
      "[generic] Extracting URL: Mac Miller Everybody\n",
      "[youtube:search] Extracting URL: ytsearch:Mac Miller Everybody\n",
      "[download] Downloading playlist: Mac Miller Everybody\n",
      "[youtube:search] query \"Mac Miller Everybody\": Downloading web client config\n",
      "[youtube:search] query \"Mac Miller Everybody\" page 1: Downloading API JSON\n",
      "[youtube:search] Playlist Mac Miller Everybody: Downloading 1 items of 1\n",
      "[download] Downloading item 1 of 1\n",
      "[youtube] Extracting URL: https://www.youtube.com/watch?v=_-Ig0aeJ6jc\n",
      "[youtube] _-Ig0aeJ6jc: Downloading webpage\n",
      "[youtube] _-Ig0aeJ6jc: Downloading ios player API JSON\n",
      "[youtube] _-Ig0aeJ6jc: Downloading android player API JSON\n",
      "[youtube] _-Ig0aeJ6jc: Downloading m3u8 information\n",
      "[info] _-Ig0aeJ6jc: Downloading 1 format(s): 251\n",
      "[download] Destination: C:\\Users\\arwin\\Documents\\dev\\APS360-PROJECT\\data\\billboard_audio\\Mac Miller_Everybody\\Mac Miller_Everybody.webm\n",
      "[download] 100% of    3.97MiB in 00:00:00 at 6.07MiB/s   \n",
      "[download] Finished downloading playlist: Mac Miller Everybody\n",
      "[generic] Extracting URL: Eminem Marsh\n",
      "[youtube:search] Extracting URL: ytsearch:Eminem Marsh\n",
      "[download] Downloading playlist: Eminem Marsh\n",
      "[youtube:search] query \"Eminem Marsh\": Downloading web client config\n",
      "[youtube:search] query \"Eminem Marsh\" page 1: Downloading API JSON\n",
      "[youtube:search] Playlist Eminem Marsh: Downloading 1 items of 1\n",
      "[download] Downloading item 1 of 1\n",
      "[youtube] Extracting URL: https://www.youtube.com/watch?v=0WkIZwM5_vc\n",
      "[youtube] 0WkIZwM5_vc: Downloading webpage\n",
      "[youtube] 0WkIZwM5_vc: Downloading ios player API JSON\n",
      "[youtube] 0WkIZwM5_vc: Downloading android player API JSON\n",
      "[youtube] 0WkIZwM5_vc: Downloading m3u8 information\n",
      "[info] 0WkIZwM5_vc: Downloading 1 format(s): 251\n",
      "[download] Destination: C:\\Users\\arwin\\Documents\\dev\\APS360-PROJECT\\data\\billboard_audio\\Eminem_Marsh\\Eminem_Marsh.webm\n",
      "[download] 100% of    3.45MiB in 00:00:00 at 5.44MiB/s   \n",
      "[download] Finished downloading playlist: Eminem Marsh\n",
      "[generic] Extracting URL: Eminem Featuring Don Toliver No Regrets\n",
      "[youtube:search] Extracting URL: ytsearch:Eminem Featuring Don Toliver No Regrets\n",
      "[download] Downloading playlist: Eminem Featuring Don Toliver No Regrets\n",
      "[youtube:search] query \"Eminem Featuring Don Toliver No Regrets\": Downloading web client config\n",
      "[youtube:search] query \"Eminem Featuring Don Toliver No Regrets\" page 1: Downloading API JSON\n",
      "[youtube:search] Playlist Eminem Featuring Don Toliver No Regrets: Downloading 1 items of 1\n",
      "[download] Downloading item 1 of 1\n",
      "[youtube] Extracting URL: https://www.youtube.com/watch?v=RuEJucg1boQ\n",
      "[youtube] RuEJucg1boQ: Downloading webpage\n",
      "[youtube] RuEJucg1boQ: Downloading ios player API JSON\n",
      "[youtube] RuEJucg1boQ: Downloading android player API JSON\n",
      "[youtube] RuEJucg1boQ: Downloading m3u8 information\n",
      "[info] RuEJucg1boQ: Downloading 1 format(s): 251\n",
      "[download] Destination: C:\\Users\\arwin\\Documents\\dev\\APS360-PROJECT\\data\\billboard_audio\\Eminem Featuring Don Toliver_No Regrets\\Eminem Featuring Don Toliver_No Regrets.webm\n",
      "[download] 100% of    3.47MiB in 00:00:00 at 13.25MiB/s  \n",
      "[download] Finished downloading playlist: Eminem Featuring Don Toliver No Regrets\n",
      "[generic] Extracting URL: Eminem Featuring Anderson _Paak Lock It Up\n",
      "[youtube:search] Extracting URL: ytsearch:Eminem Featuring Anderson _Paak Lock It Up\n",
      "[download] Downloading playlist: Eminem Featuring Anderson _Paak Lock It Up\n",
      "[youtube:search] query \"Eminem Featuring Anderson _Paak Lock It Up\": Downloading web client config\n",
      "[youtube:search] query \"Eminem Featuring Anderson _Paak Lock It Up\" page 1: Downloading API JSON\n",
      "[youtube:search] Playlist Eminem Featuring Anderson _Paak Lock It Up: Downloading 1 items of 1\n",
      "[download] Downloading item 1 of 1\n",
      "[youtube] Extracting URL: https://www.youtube.com/watch?v=7jR65jnUyvA\n",
      "[youtube] 7jR65jnUyvA: Downloading webpage\n",
      "[youtube] 7jR65jnUyvA: Downloading ios player API JSON\n",
      "[youtube] 7jR65jnUyvA: Downloading android player API JSON\n",
      "[youtube] 7jR65jnUyvA: Downloading m3u8 information\n",
      "[info] 7jR65jnUyvA: Downloading 1 format(s): 251\n",
      "[download] Destination: C:\\Users\\arwin\\Documents\\dev\\APS360-PROJECT\\data\\billboard_audio\\Eminem Featuring Anderson _Paak_Lock It Up\\Eminem Featuring Anderson _Paak_Lock It Up.webm\n",
      "[download] 100% of    2.65MiB in 00:00:00 at 7.40MiB/s   \n",
      "[download] Finished downloading playlist: Eminem Featuring Anderson _Paak Lock It Up\n",
      "[generic] Extracting URL: Mac Miller Surf\n",
      "[youtube:search] Extracting URL: ytsearch:Mac Miller Surf\n",
      "[download] Downloading playlist: Mac Miller Surf\n",
      "[youtube:search] query \"Mac Miller Surf\": Downloading web client config\n",
      "[youtube:search] query \"Mac Miller Surf\" page 1: Downloading API JSON\n",
      "[youtube:search] Playlist Mac Miller Surf: Downloading 1 items of 1\n",
      "[download] Downloading item 1 of 1\n",
      "[youtube] Extracting URL: https://www.youtube.com/watch?v=blYo4WheVgA\n",
      "[youtube] blYo4WheVgA: Downloading webpage\n",
      "[youtube] blYo4WheVgA: Downloading ios player API JSON\n",
      "[youtube] blYo4WheVgA: Downloading android player API JSON\n"
     ]
    },
    {
     "name": "stderr",
     "output_type": "stream",
     "text": [
      "WARNING: [youtube] YouTube said: ERROR - Precondition check failed.\n",
      "WARNING: [youtube] HTTP Error 400: Bad Request. Retrying (1/3)...\n"
     ]
    },
    {
     "name": "stdout",
     "output_type": "stream",
     "text": [
      "[youtube] blYo4WheVgA: Downloading android player API JSON\n"
     ]
    },
    {
     "name": "stderr",
     "output_type": "stream",
     "text": [
      "WARNING: [youtube] YouTube said: ERROR - Precondition check failed.\n",
      "WARNING: [youtube] HTTP Error 400: Bad Request. Retrying (2/3)...\n"
     ]
    },
    {
     "name": "stdout",
     "output_type": "stream",
     "text": [
      "[youtube] blYo4WheVgA: Downloading android player API JSON\n"
     ]
    },
    {
     "name": "stderr",
     "output_type": "stream",
     "text": [
      "WARNING: [youtube] YouTube said: ERROR - Precondition check failed.\n",
      "WARNING: [youtube] HTTP Error 400: Bad Request. Retrying (3/3)...\n"
     ]
    },
    {
     "name": "stdout",
     "output_type": "stream",
     "text": [
      "[youtube] blYo4WheVgA: Downloading android player API JSON\n",
      "[youtube] blYo4WheVgA: Downloading m3u8 information\n",
      "[info] blYo4WheVgA: Downloading 1 format(s): 251\n",
      "[download] Destination: C:\\Users\\arwin\\Documents\\dev\\APS360-PROJECT\\data\\billboard_audio\\Mac Miller_Surf\\Mac Miller_Surf.webm\n",
      "[download] 100% of    4.99MiB in 00:00:01 at 4.30MiB/s   \n",
      "[download] Finished downloading playlist: Mac Miller Surf\n",
      "[generic] Extracting URL: Eminem Stepdad\n",
      "[youtube:search] Extracting URL: ytsearch:Eminem Stepdad\n",
      "[download] Downloading playlist: Eminem Stepdad\n",
      "[youtube:search] query \"Eminem Stepdad\": Downloading web client config\n",
      "[youtube:search] query \"Eminem Stepdad\" page 1: Downloading API JSON\n",
      "[youtube:search] Playlist Eminem Stepdad: Downloading 1 items of 1\n",
      "[download] Downloading item 1 of 1\n",
      "[youtube] Extracting URL: https://www.youtube.com/watch?v=yf52IpdAZKg\n",
      "[youtube] yf52IpdAZKg: Downloading webpage\n",
      "[youtube] yf52IpdAZKg: Downloading ios player API JSON\n",
      "[youtube] yf52IpdAZKg: Downloading android player API JSON\n",
      "[youtube] yf52IpdAZKg: Downloading m3u8 information\n",
      "[info] yf52IpdAZKg: Downloading 1 format(s): 251\n",
      "[download] Destination: C:\\Users\\arwin\\Documents\\dev\\APS360-PROJECT\\data\\billboard_audio\\Eminem_Stepdad\\Eminem_Stepdad.webm\n",
      "[download] 100% of    3.30MiB in 00:00:00 at 7.19MiB/s     \n",
      "[download] Finished downloading playlist: Eminem Stepdad\n",
      "[generic] Extracting URL: Post Malone Featuring Ozzy Osbourne & Travis Scott Take What You Want\n",
      "[youtube:search] Extracting URL: ytsearch:Post Malone Featuring Ozzy Osbourne & Travis Scott Take What You Want\n",
      "[download] Downloading playlist: Post Malone Featuring Ozzy Osbourne & Travis Scott Take What You Want\n",
      "[youtube:search] query \"Post Malone Featuring Ozzy Osbourne & Travis Scott Take What You Want\": Downloading web client config\n",
      "[youtube:search] query \"Post Malone Featuring Ozzy Osbourne & Travis Scott Take What You Want\" page 1: Downloading API JSON\n",
      "[youtube:search] Playlist Post Malone Featuring Ozzy Osbourne & Travis Scott Take What You Want: Downloading 1 items of 1\n",
      "[download] Downloading item 1 of 1\n",
      "[youtube] Extracting URL: https://www.youtube.com/watch?v=LYa_ReqRlcs\n",
      "[youtube] LYa_ReqRlcs: Downloading webpage\n",
      "[youtube] LYa_ReqRlcs: Downloading ios player API JSON\n",
      "[youtube] LYa_ReqRlcs: Downloading android player API JSON\n"
     ]
    },
    {
     "name": "stderr",
     "output_type": "stream",
     "text": [
      "WARNING: [youtube] YouTube said: ERROR - Precondition check failed.\n",
      "WARNING: [youtube] HTTP Error 400: Bad Request. Retrying (1/3)...\n"
     ]
    },
    {
     "name": "stdout",
     "output_type": "stream",
     "text": [
      "[youtube] LYa_ReqRlcs: Downloading android player API JSON\n",
      "[youtube] LYa_ReqRlcs: Downloading m3u8 information\n",
      "[info] LYa_ReqRlcs: Downloading 1 format(s): 251\n",
      "[download] Destination: C:\\Users\\arwin\\Documents\\dev\\APS360-PROJECT\\data\\billboard_audio\\Post Malone Featuring Ozzy Osbourne & Travis Scott_Take What You Want\\Post Malone Featuring Ozzy Osbourne & Travis Scott_Take What You Want.webm\n",
      "[download] 100% of    3.69MiB in 00:00:00 at 11.70MiB/s  \n",
      "[download] Finished downloading playlist: Post Malone Featuring Ozzy Osbourne & Travis Scott Take What You Want\n",
      "[generic] Extracting URL: Mac Miller That's On Me\n",
      "[youtube:search] Extracting URL: ytsearch:Mac Miller That's On Me\n",
      "[download] Downloading playlist: Mac Miller That's On Me\n",
      "[youtube:search] query \"Mac Miller That's On Me\": Downloading web client config\n",
      "[youtube:search] query \"Mac Miller That's On Me\" page 1: Downloading API JSON\n",
      "[youtube:search] Playlist Mac Miller That's On Me: Downloading 1 items of 1\n",
      "[download] Downloading item 1 of 1\n",
      "[youtube] Extracting URL: https://www.youtube.com/watch?v=Eg7vEV5woSk\n",
      "[youtube] Eg7vEV5woSk: Downloading webpage\n",
      "[youtube] Eg7vEV5woSk: Downloading ios player API JSON\n",
      "[youtube] Eg7vEV5woSk: Downloading android player API JSON\n"
     ]
    },
    {
     "name": "stderr",
     "output_type": "stream",
     "text": [
      "WARNING: [youtube] YouTube said: ERROR - Precondition check failed.\n",
      "WARNING: [youtube] HTTP Error 400: Bad Request. Retrying (1/3)...\n"
     ]
    },
    {
     "name": "stdout",
     "output_type": "stream",
     "text": [
      "[youtube] Eg7vEV5woSk: Downloading android player API JSON\n",
      "[youtube] Eg7vEV5woSk: Downloading m3u8 information\n",
      "[info] Eg7vEV5woSk: Downloading 1 format(s): 251\n",
      "[download] Destination: C:\\Users\\arwin\\Documents\\dev\\APS360-PROJECT\\data\\billboard_audio\\Mac Miller_That's On Me\\Mac Miller_That's On Me.webm\n",
      "[download] 100% of    3.59MiB in 00:00:00 at 9.18MiB/s   \n",
      "[download] Finished downloading playlist: Mac Miller That's On Me\n",
      "[generic] Extracting URL: Wale Featuring Jeremih On Chill\n",
      "[youtube:search] Extracting URL: ytsearch:Wale Featuring Jeremih On Chill\n",
      "[download] Downloading playlist: Wale Featuring Jeremih On Chill\n",
      "[youtube:search] query \"Wale Featuring Jeremih On Chill\": Downloading web client config\n",
      "[youtube:search] query \"Wale Featuring Jeremih On Chill\" page 1: Downloading API JSON\n",
      "[youtube:search] Playlist Wale Featuring Jeremih On Chill: Downloading 1 items of 1\n",
      "[download] Downloading item 1 of 1\n",
      "[youtube] Extracting URL: https://www.youtube.com/watch?v=iX9ICUr1yEw\n",
      "[youtube] iX9ICUr1yEw: Downloading webpage\n",
      "[youtube] iX9ICUr1yEw: Downloading ios player API JSON\n",
      "[youtube] iX9ICUr1yEw: Downloading android player API JSON\n",
      "[youtube] iX9ICUr1yEw: Downloading m3u8 information\n",
      "[info] iX9ICUr1yEw: Downloading 1 format(s): 251\n",
      "[download] Destination: C:\\Users\\arwin\\Documents\\dev\\APS360-PROJECT\\data\\billboard_audio\\Wale Featuring Jeremih_On Chill\\Wale Featuring Jeremih_On Chill.webm\n",
      "[download] 100% of    3.31MiB in 00:00:00 at 8.81MiB/s   \n",
      "[download] Finished downloading playlist: Wale Featuring Jeremih On Chill\n",
      "[generic] Extracting URL: Khalid Talk\n",
      "[youtube:search] Extracting URL: ytsearch:Khalid Talk\n",
      "[download] Downloading playlist: Khalid Talk\n",
      "[youtube:search] query \"Khalid Talk\": Downloading web client config\n",
      "[youtube:search] query \"Khalid Talk\" page 1: Downloading API JSON\n",
      "[youtube:search] Playlist Khalid Talk: Downloading 1 items of 1\n",
      "[download] Downloading item 1 of 1\n",
      "[youtube] Extracting URL: https://www.youtube.com/watch?v=hE2Ira-Cwxo\n",
      "[youtube] hE2Ira-Cwxo: Downloading webpage\n",
      "[youtube] hE2Ira-Cwxo: Downloading ios player API JSON\n",
      "[youtube] hE2Ira-Cwxo: Downloading android player API JSON\n"
     ]
    },
    {
     "name": "stderr",
     "output_type": "stream",
     "text": [
      "WARNING: [youtube] YouTube said: ERROR - Precondition check failed.\n",
      "WARNING: [youtube] HTTP Error 400: Bad Request. Retrying (1/3)...\n"
     ]
    },
    {
     "name": "stdout",
     "output_type": "stream",
     "text": [
      "[youtube] hE2Ira-Cwxo: Downloading android player API JSON\n"
     ]
    },
    {
     "name": "stderr",
     "output_type": "stream",
     "text": [
      "WARNING: [youtube] YouTube said: ERROR - Precondition check failed.\n",
      "WARNING: [youtube] HTTP Error 400: Bad Request. Retrying (2/3)...\n"
     ]
    },
    {
     "name": "stdout",
     "output_type": "stream",
     "text": [
      "[youtube] hE2Ira-Cwxo: Downloading android player API JSON\n"
     ]
    },
    {
     "name": "stderr",
     "output_type": "stream",
     "text": [
      "WARNING: [youtube] YouTube said: ERROR - Precondition check failed.\n",
      "WARNING: [youtube] HTTP Error 400: Bad Request. Retrying (3/3)...\n"
     ]
    },
    {
     "name": "stdout",
     "output_type": "stream",
     "text": [
      "[youtube] hE2Ira-Cwxo: Downloading android player API JSON\n"
     ]
    },
    {
     "name": "stderr",
     "output_type": "stream",
     "text": [
      "WARNING: [youtube] YouTube said: ERROR - Precondition check failed.\n",
      "WARNING: [youtube] Unable to download API page: HTTP Error 400: Bad Request (caused by <HTTPError 400: Bad Request>); please report this issue on  https://github.com/yt-dlp/yt-dlp/issues?q= , filling out the appropriate issue template. Confirm you are on the latest version using  yt-dlp -U\n"
     ]
    },
    {
     "name": "stdout",
     "output_type": "stream",
     "text": [
      "[youtube] hE2Ira-Cwxo: Downloading m3u8 information\n",
      "[info] hE2Ira-Cwxo: Downloading 1 format(s): 251\n",
      "[download] Destination: C:\\Users\\arwin\\Documents\\dev\\APS360-PROJECT\\data\\billboard_audio\\Khalid_Talk\\Khalid_Talk.webm\n",
      "[download] 100% of    3.21MiB in 00:00:00 at 6.40MiB/s   \n",
      "[download] Finished downloading playlist: Khalid Talk\n",
      "[generic] Extracting URL: Lady Antebellum What If I Never Get Over You\n",
      "[youtube:search] Extracting URL: ytsearch:Lady Antebellum What If I Never Get Over You\n",
      "[download] Downloading playlist: Lady Antebellum What If I Never Get Over You\n",
      "[youtube:search] query \"Lady Antebellum What If I Never Get Over You\": Downloading web client config\n",
      "[youtube:search] query \"Lady Antebellum What If I Never Get Over You\" page 1: Downloading API JSON\n",
      "[youtube:search] Playlist Lady Antebellum What If I Never Get Over You: Downloading 1 items of 1\n",
      "[download] Downloading item 1 of 1\n",
      "[youtube] Extracting URL: https://www.youtube.com/watch?v=rbFj2t9d7Z8\n",
      "[youtube] rbFj2t9d7Z8: Downloading webpage\n",
      "[youtube] rbFj2t9d7Z8: Downloading ios player API JSON\n",
      "[youtube] rbFj2t9d7Z8: Downloading android player API JSON\n",
      "[youtube] rbFj2t9d7Z8: Downloading m3u8 information\n",
      "[info] rbFj2t9d7Z8: Downloading 1 format(s): 251\n",
      "[download] Destination: C:\\Users\\arwin\\Documents\\dev\\APS360-PROJECT\\data\\billboard_audio\\Lady Antebellum_What If I Never Get Over You\\Lady Antebellum_What If I Never Get Over You.webm\n",
      "[download] 100% of    3.30MiB in 00:00:00 at 5.94MiB/s   \n",
      "[download] Finished downloading playlist: Lady Antebellum What If I Never Get Over You\n",
      "[generic] Extracting URL: Taylor Swift Lover\n",
      "[youtube:search] Extracting URL: ytsearch:Taylor Swift Lover\n",
      "[download] Downloading playlist: Taylor Swift Lover\n",
      "[youtube:search] query \"Taylor Swift Lover\": Downloading web client config\n",
      "[youtube:search] query \"Taylor Swift Lover\" page 1: Downloading API JSON\n",
      "[youtube:search] Playlist Taylor Swift Lover: Downloading 1 items of 1\n",
      "[download] Downloading item 1 of 1\n",
      "[youtube] Extracting URL: https://www.youtube.com/watch?v=-BjZmE2gtdo\n",
      "[youtube] -BjZmE2gtdo: Downloading webpage\n",
      "[youtube] -BjZmE2gtdo: Downloading ios player API JSON\n",
      "[youtube] -BjZmE2gtdo: Downloading android player API JSON\n"
     ]
    },
    {
     "name": "stderr",
     "output_type": "stream",
     "text": [
      "WARNING: [youtube] YouTube said: ERROR - Precondition check failed.\n",
      "WARNING: [youtube] HTTP Error 400: Bad Request. Retrying (1/3)...\n"
     ]
    },
    {
     "name": "stdout",
     "output_type": "stream",
     "text": [
      "[youtube] -BjZmE2gtdo: Downloading android player API JSON\n",
      "[youtube] -BjZmE2gtdo: Downloading m3u8 information\n",
      "[info] -BjZmE2gtdo: Downloading 1 format(s): 251\n",
      "[download] Destination: C:\\Users\\arwin\\Documents\\dev\\APS360-PROJECT\\data\\billboard_audio\\Taylor Swift_Lover\\Taylor Swift_Lover.webm\n",
      "[download] 100% of    3.72MiB in 00:00:00 at 6.45MiB/s     \n",
      "[download] Finished downloading playlist: Taylor Swift Lover\n",
      "[generic] Extracting URL: Summer Walker Playing Games\n",
      "[youtube:search] Extracting URL: ytsearch:Summer Walker Playing Games\n",
      "[download] Downloading playlist: Summer Walker Playing Games\n",
      "[youtube:search] query \"Summer Walker Playing Games\": Downloading web client config\n",
      "[youtube:search] query \"Summer Walker Playing Games\" page 1: Downloading API JSON\n",
      "[youtube:search] Playlist Summer Walker Playing Games: Downloading 1 items of 1\n",
      "[download] Downloading item 1 of 1\n",
      "[youtube] Extracting URL: https://www.youtube.com/watch?v=SDSXLkD74KE\n",
      "[youtube] SDSXLkD74KE: Downloading webpage\n",
      "[youtube] SDSXLkD74KE: Downloading ios player API JSON\n",
      "[youtube] SDSXLkD74KE: Downloading android player API JSON\n",
      "[youtube] SDSXLkD74KE: Downloading m3u8 information\n",
      "[info] SDSXLkD74KE: Downloading 1 format(s): 251\n",
      "[download] Destination: C:\\Users\\arwin\\Documents\\dev\\APS360-PROJECT\\data\\billboard_audio\\Summer Walker_Playing Games\\Summer Walker_Playing Games.webm\n",
      "[download] 100% of    2.37MiB in 00:00:00 at 8.23MiB/s   \n",
      "[download] Finished downloading playlist: Summer Walker Playing Games\n",
      "[generic] Extracting URL: Chris Brown Featuring Gunna Heat\n",
      "[youtube:search] Extracting URL: ytsearch:Chris Brown Featuring Gunna Heat\n",
      "[download] Downloading playlist: Chris Brown Featuring Gunna Heat\n",
      "[youtube:search] query \"Chris Brown Featuring Gunna Heat\": Downloading web client config\n",
      "[youtube:search] query \"Chris Brown Featuring Gunna Heat\" page 1: Downloading API JSON\n",
      "[youtube:search] Playlist Chris Brown Featuring Gunna Heat: Downloading 1 items of 1\n",
      "[download] Downloading item 1 of 1\n",
      "[youtube] Extracting URL: https://www.youtube.com/watch?v=i_vMte-NHkY\n",
      "[youtube] i_vMte-NHkY: Downloading webpage\n",
      "[youtube] i_vMte-NHkY: Downloading ios player API JSON\n",
      "[youtube] i_vMte-NHkY: Downloading android player API JSON\n",
      "[youtube] i_vMte-NHkY: Downloading m3u8 information\n",
      "[info] i_vMte-NHkY: Downloading 1 format(s): 251\n",
      "[download] Destination: C:\\Users\\arwin\\Documents\\dev\\APS360-PROJECT\\data\\billboard_audio\\Chris Brown Featuring Gunna_Heat\\Chris Brown Featuring Gunna_Heat.webm\n",
      "[download] 100% of    4.76MiB in 00:00:00 at 6.76MiB/s   \n",
      "[download] Finished downloading playlist: Chris Brown Featuring Gunna Heat\n",
      "[generic] Extracting URL: Thomas Rhett Remember You Young\n",
      "[youtube:search] Extracting URL: ytsearch:Thomas Rhett Remember You Young\n",
      "[download] Downloading playlist: Thomas Rhett Remember You Young\n",
      "[youtube:search] query \"Thomas Rhett Remember You Young\": Downloading web client config\n",
      "[youtube:search] query \"Thomas Rhett Remember You Young\" page 1: Downloading API JSON\n",
      "[youtube:search] Playlist Thomas Rhett Remember You Young: Downloading 1 items of 1\n",
      "[download] Downloading item 1 of 1\n",
      "[youtube] Extracting URL: https://www.youtube.com/watch?v=f5pHiXBt8UU\n",
      "[youtube] f5pHiXBt8UU: Downloading webpage\n",
      "[youtube] f5pHiXBt8UU: Downloading ios player API JSON\n",
      "[youtube] f5pHiXBt8UU: Downloading android player API JSON\n",
      "[youtube] f5pHiXBt8UU: Downloading m3u8 information\n",
      "[info] f5pHiXBt8UU: Downloading 1 format(s): 251\n",
      "[download] Destination: C:\\Users\\arwin\\Documents\\dev\\APS360-PROJECT\\data\\billboard_audio\\Thomas Rhett_Remember You Young\\Thomas Rhett_Remember You Young.webm\n",
      "[download] 100% of    3.01MiB in 00:00:00 at 7.07MiB/s   \n",
      "[download] Finished downloading playlist: Thomas Rhett Remember You Young\n",
      "[generic] Extracting URL: Roddy Ricch Featuring A Boogie Wit da Hoodie Tip Toe\n",
      "[youtube:search] Extracting URL: ytsearch:Roddy Ricch Featuring A Boogie Wit da Hoodie Tip Toe\n",
      "[download] Downloading playlist: Roddy Ricch Featuring A Boogie Wit da Hoodie Tip Toe\n",
      "[youtube:search] query \"Roddy Ricch Featuring A Boogie Wit da Hoodie Tip Toe\": Downloading web client config\n",
      "[youtube:search] query \"Roddy Ricch Featuring A Boogie Wit da Hoodie Tip Toe\" page 1: Downloading API JSON\n",
      "[youtube:search] Playlist Roddy Ricch Featuring A Boogie Wit da Hoodie Tip Toe: Downloading 1 items of 1\n",
      "[download] Downloading item 1 of 1\n",
      "[youtube] Extracting URL: https://www.youtube.com/watch?v=TLpLKt8lJ3A\n",
      "[youtube] TLpLKt8lJ3A: Downloading webpage\n",
      "[youtube] TLpLKt8lJ3A: Downloading ios player API JSON\n",
      "[youtube] TLpLKt8lJ3A: Downloading android player API JSON\n"
     ]
    },
    {
     "name": "stderr",
     "output_type": "stream",
     "text": [
      "WARNING: [youtube] YouTube said: ERROR - Precondition check failed.\n",
      "WARNING: [youtube] HTTP Error 400: Bad Request. Retrying (1/3)...\n"
     ]
    },
    {
     "name": "stdout",
     "output_type": "stream",
     "text": [
      "[youtube] TLpLKt8lJ3A: Downloading android player API JSON\n"
     ]
    },
    {
     "name": "stderr",
     "output_type": "stream",
     "text": [
      "WARNING: [youtube] YouTube said: ERROR - Precondition check failed.\n",
      "WARNING: [youtube] HTTP Error 400: Bad Request. Retrying (2/3)...\n"
     ]
    },
    {
     "name": "stdout",
     "output_type": "stream",
     "text": [
      "[youtube] TLpLKt8lJ3A: Downloading android player API JSON\n",
      "[youtube] TLpLKt8lJ3A: Downloading m3u8 information\n",
      "[info] TLpLKt8lJ3A: Downloading 1 format(s): 251\n",
      "[download] Destination: C:\\Users\\arwin\\Documents\\dev\\APS360-PROJECT\\data\\billboard_audio\\Roddy Ricch Featuring A Boogie Wit da Hoodie_Tip Toe\\Roddy Ricch Featuring A Boogie Wit da Hoodie_Tip Toe.webm\n",
      "[download] 100% of    3.65MiB in 00:00:00 at 3.72MiB/s   \n",
      "[download] Finished downloading playlist: Roddy Ricch Featuring A Boogie Wit da Hoodie Tip Toe\n",
      "[generic] Extracting URL: Khalid Eleven\n",
      "[youtube:search] Extracting URL: ytsearch:Khalid Eleven\n",
      "[download] Downloading playlist: Khalid Eleven\n",
      "[youtube:search] query \"Khalid Eleven\": Downloading web client config\n",
      "[youtube:search] query \"Khalid Eleven\" page 1: Downloading API JSON\n",
      "[youtube:search] Playlist Khalid Eleven: Downloading 1 items of 1\n",
      "[download] Downloading item 1 of 1\n",
      "[youtube] Extracting URL: https://www.youtube.com/watch?v=YfOohn8_l90\n",
      "[youtube] YfOohn8_l90: Downloading webpage\n",
      "[youtube] YfOohn8_l90: Downloading ios player API JSON\n",
      "[youtube] YfOohn8_l90: Downloading android player API JSON\n",
      "[youtube] YfOohn8_l90: Downloading m3u8 information\n",
      "[info] YfOohn8_l90: Downloading 1 format(s): 251\n",
      "[download] Destination: C:\\Users\\arwin\\Documents\\dev\\APS360-PROJECT\\data\\billboard_audio\\Khalid_Eleven\\Khalid_Eleven.webm\n",
      "[download] 100% of    3.56MiB in 00:00:00 at 8.40MiB/s   \n",
      "[download] Finished downloading playlist: Khalid Eleven\n",
      "[generic] Extracting URL: Moneybagg Yo X Megan Thee Stallion All Dat\n",
      "[youtube:search] Extracting URL: ytsearch:Moneybagg Yo X Megan Thee Stallion All Dat\n",
      "[download] Downloading playlist: Moneybagg Yo X Megan Thee Stallion All Dat\n",
      "[youtube:search] query \"Moneybagg Yo X Megan Thee Stallion All Dat\": Downloading web client config\n",
      "[youtube:search] query \"Moneybagg Yo X Megan Thee Stallion All Dat\" page 1: Downloading API JSON\n",
      "[youtube:search] Playlist Moneybagg Yo X Megan Thee Stallion All Dat: Downloading 1 items of 1\n",
      "[download] Downloading item 1 of 1\n",
      "[youtube] Extracting URL: https://www.youtube.com/watch?v=FEUaB2jV_kM\n",
      "[youtube] FEUaB2jV_kM: Downloading webpage\n",
      "[youtube] FEUaB2jV_kM: Downloading ios player API JSON\n",
      "[youtube] FEUaB2jV_kM: Downloading android player API JSON\n"
     ]
    },
    {
     "name": "stderr",
     "output_type": "stream",
     "text": [
      "WARNING: [youtube] YouTube said: ERROR - Precondition check failed.\n",
      "WARNING: [youtube] HTTP Error 400: Bad Request. Retrying (1/3)...\n"
     ]
    },
    {
     "name": "stdout",
     "output_type": "stream",
     "text": [
      "[youtube] FEUaB2jV_kM: Downloading android player API JSON\n"
     ]
    },
    {
     "name": "stderr",
     "output_type": "stream",
     "text": [
      "WARNING: [youtube] YouTube said: ERROR - Precondition check failed.\n",
      "WARNING: [youtube] HTTP Error 400: Bad Request. Retrying (2/3)...\n"
     ]
    },
    {
     "name": "stdout",
     "output_type": "stream",
     "text": [
      "[youtube] FEUaB2jV_kM: Downloading android player API JSON\n"
     ]
    },
    {
     "name": "stderr",
     "output_type": "stream",
     "text": [
      "WARNING: [youtube] YouTube said: ERROR - Precondition check failed.\n",
      "WARNING: [youtube] HTTP Error 400: Bad Request. Retrying (3/3)...\n"
     ]
    },
    {
     "name": "stdout",
     "output_type": "stream",
     "text": [
      "[youtube] FEUaB2jV_kM: Downloading android player API JSON\n",
      "[youtube] FEUaB2jV_kM: Downloading m3u8 information\n",
      "[info] FEUaB2jV_kM: Downloading 1 format(s): 251\n",
      "[download] Destination: C:\\Users\\arwin\\Documents\\dev\\APS360-PROJECT\\data\\billboard_audio\\Moneybagg Yo X Megan Thee Stallion_All Dat\\Moneybagg Yo X Megan Thee Stallion_All Dat.webm\n",
      "[download] 100% of    2.71MiB in 00:00:01 at 2.55MiB/s   \n",
      "[download] Finished downloading playlist: Moneybagg Yo X Megan Thee Stallion All Dat\n",
      "[generic] Extracting URL: Layton Greene, Lil Baby, City Girls & PnB Rock Leave Em Alone\n",
      "[youtube:search] Extracting URL: ytsearch:Layton Greene, Lil Baby, City Girls & PnB Rock Leave Em Alone\n",
      "[download] Downloading playlist: Layton Greene, Lil Baby, City Girls & PnB Rock Leave Em Alone\n",
      "[youtube:search] query \"Layton Greene, Lil Baby, City Girls & PnB Rock Leave Em Alone\": Downloading web client config\n",
      "[youtube:search] query \"Layton Greene, Lil Baby, City Girls & PnB Rock Leave Em Alone\" page 1: Downloading API JSON\n",
      "[youtube:search] Playlist Layton Greene, Lil Baby, City Girls & PnB Rock Leave Em Alone: Downloading 1 items of 1\n",
      "[download] Downloading item 1 of 1\n",
      "[youtube] Extracting URL: https://www.youtube.com/watch?v=DApzVVyNMRI\n",
      "[youtube] DApzVVyNMRI: Downloading webpage\n",
      "[youtube] DApzVVyNMRI: Downloading ios player API JSON\n",
      "[youtube] DApzVVyNMRI: Downloading android player API JSON\n",
      "[youtube] DApzVVyNMRI: Downloading m3u8 information\n",
      "[info] DApzVVyNMRI: Downloading 1 format(s): 251\n",
      "[download] Destination: C:\\Users\\arwin\\Documents\\dev\\APS360-PROJECT\\data\\billboard_audio\\Layton Greene, Lil Baby, City Girls & PnB Rock_Leave Em Alone\\Layton Greene, Lil Baby, City Girls & PnB Rock_Leave Em Alone.webm\n",
      "[download] 100% of    2.98MiB in 00:00:02 at 1.36MiB/s   \n",
      "[download] Finished downloading playlist: Layton Greene, Lil Baby, City Girls & PnB Rock Leave Em Alone\n",
      "[generic] Extracting URL: John Legend Conversations In The Dark\n",
      "[youtube:search] Extracting URL: ytsearch:John Legend Conversations In The Dark\n",
      "[download] Downloading playlist: John Legend Conversations In The Dark\n",
      "[youtube:search] query \"John Legend Conversations In The Dark\": Downloading web client config\n",
      "[youtube:search] query \"John Legend Conversations In The Dark\" page 1: Downloading API JSON\n",
      "[youtube:search] Playlist John Legend Conversations In The Dark: Downloading 1 items of 1\n",
      "[download] Downloading item 1 of 1\n",
      "[youtube] Extracting URL: https://www.youtube.com/watch?v=qUD2GxTeVcI\n",
      "[youtube] qUD2GxTeVcI: Downloading webpage\n",
      "[youtube] qUD2GxTeVcI: Downloading ios player API JSON\n",
      "[youtube] qUD2GxTeVcI: Downloading android player API JSON\n"
     ]
    },
    {
     "name": "stderr",
     "output_type": "stream",
     "text": [
      "WARNING: [youtube] YouTube said: ERROR - Precondition check failed.\n",
      "WARNING: [youtube] HTTP Error 400: Bad Request. Retrying (1/3)...\n"
     ]
    },
    {
     "name": "stdout",
     "output_type": "stream",
     "text": [
      "[youtube] qUD2GxTeVcI: Downloading android player API JSON\n"
     ]
    },
    {
     "name": "stderr",
     "output_type": "stream",
     "text": [
      "WARNING: [youtube] YouTube said: ERROR - Precondition check failed.\n",
      "WARNING: [youtube] HTTP Error 400: Bad Request. Retrying (2/3)...\n"
     ]
    },
    {
     "name": "stdout",
     "output_type": "stream",
     "text": [
      "[youtube] qUD2GxTeVcI: Downloading android player API JSON\n",
      "[youtube] qUD2GxTeVcI: Downloading m3u8 information\n",
      "[info] qUD2GxTeVcI: Downloading 1 format(s): 251\n",
      "[download] Destination: C:\\Users\\arwin\\Documents\\dev\\APS360-PROJECT\\data\\billboard_audio\\John Legend_Conversations In The Dark\\John Legend_Conversations In The Dark.webm\n",
      "[download] 100% of    3.77MiB in 00:00:03 at 1.02MiB/s   \n",
      "[download] Finished downloading playlist: John Legend Conversations In The Dark\n",
      "[generic] Extracting URL: Moneybagg Yo Featuring DaBaby Protect da Brand\n",
      "[youtube:search] Extracting URL: ytsearch:Moneybagg Yo Featuring DaBaby Protect da Brand\n",
      "[download] Downloading playlist: Moneybagg Yo Featuring DaBaby Protect da Brand\n",
      "[youtube:search] query \"Moneybagg Yo Featuring DaBaby Protect da Brand\": Downloading web client config\n",
      "[youtube:search] query \"Moneybagg Yo Featuring DaBaby Protect da Brand\" page 1: Downloading API JSON\n",
      "[youtube:search] Playlist Moneybagg Yo Featuring DaBaby Protect da Brand: Downloading 1 items of 1\n",
      "[download] Downloading item 1 of 1\n",
      "[youtube] Extracting URL: https://www.youtube.com/watch?v=PHqN_919ACA\n",
      "[youtube] PHqN_919ACA: Downloading webpage\n",
      "[youtube] PHqN_919ACA: Downloading ios player API JSON\n",
      "[youtube] PHqN_919ACA: Downloading android player API JSON\n",
      "[youtube] PHqN_919ACA: Downloading m3u8 information\n",
      "[info] PHqN_919ACA: Downloading 1 format(s): 251\n",
      "[download] Destination: C:\\Users\\arwin\\Documents\\dev\\APS360-PROJECT\\data\\billboard_audio\\Moneybagg Yo Featuring DaBaby_Protect da Brand\\Moneybagg Yo Featuring DaBaby_Protect da Brand.webm\n",
      "[download] 100% of    3.30MiB in 00:00:02 at 1.20MiB/s   \n",
      "[download] Finished downloading playlist: Moneybagg Yo Featuring DaBaby Protect da Brand\n",
      "[generic] Extracting URL: Selena Gomez Look At Her Now_\n",
      "[youtube:search] Extracting URL: ytsearch:Selena Gomez Look At Her Now_\n",
      "[download] Downloading playlist: Selena Gomez Look At Her Now_\n",
      "[youtube:search] query \"Selena Gomez Look At Her Now_\": Downloading web client config\n",
      "[youtube:search] query \"Selena Gomez Look At Her Now_\" page 1: Downloading API JSON\n",
      "[youtube:search] Playlist Selena Gomez Look At Her Now_: Downloading 1 items of 1\n",
      "[download] Downloading item 1 of 1\n",
      "[youtube] Extracting URL: https://www.youtube.com/watch?v=8u-_64S7plI\n",
      "[youtube] 8u-_64S7plI: Downloading webpage\n",
      "[youtube] 8u-_64S7plI: Downloading ios player API JSON\n",
      "[youtube] 8u-_64S7plI: Downloading android player API JSON\n",
      "[youtube] 8u-_64S7plI: Downloading m3u8 information\n",
      "[info] 8u-_64S7plI: Downloading 1 format(s): 251\n",
      "[download] Destination: C:\\Users\\arwin\\Documents\\dev\\APS360-PROJECT\\data\\billboard_audio\\Selena Gomez_Look At Her Now_\\Selena Gomez_Look At Her Now_.webm\n",
      "[download] 100% of    2.64MiB in 00:00:00 at 7.99MiB/s   \n",
      "[download] Finished downloading playlist: Selena Gomez Look At Her Now_\n",
      "[generic] Extracting URL: Roddy Ricch Featuring Meek Mill Peta\n",
      "[youtube:search] Extracting URL: ytsearch:Roddy Ricch Featuring Meek Mill Peta\n",
      "[download] Downloading playlist: Roddy Ricch Featuring Meek Mill Peta\n",
      "[youtube:search] query \"Roddy Ricch Featuring Meek Mill Peta\": Downloading web client config\n",
      "[youtube:search] query \"Roddy Ricch Featuring Meek Mill Peta\" page 1: Downloading API JSON\n",
      "[youtube:search] Playlist Roddy Ricch Featuring Meek Mill Peta: Downloading 1 items of 1\n",
      "[download] Downloading item 1 of 1\n",
      "[youtube] Extracting URL: https://www.youtube.com/watch?v=Jd6q69hO6X4\n",
      "[youtube] Jd6q69hO6X4: Downloading webpage\n",
      "[youtube] Jd6q69hO6X4: Downloading ios player API JSON\n",
      "[youtube] Jd6q69hO6X4: Downloading android player API JSON\n",
      "[youtube] Jd6q69hO6X4: Downloading m3u8 information\n",
      "[info] Jd6q69hO6X4: Downloading 1 format(s): 251\n",
      "[download] Destination: C:\\Users\\arwin\\Documents\\dev\\APS360-PROJECT\\data\\billboard_audio\\Roddy Ricch Featuring Meek Mill_Peta\\Roddy Ricch Featuring Meek Mill_Peta.webm\n",
      "[download] 100% of    3.50MiB in 00:00:00 at 7.94MiB/s   \n",
      "[download] Finished downloading playlist: Roddy Ricch Featuring Meek Mill Peta\n",
      "[generic] Extracting URL: YNW Melly & 9lokknine 223's\n",
      "[youtube:search] Extracting URL: ytsearch:YNW Melly & 9lokknine 223's\n",
      "[download] Downloading playlist: YNW Melly & 9lokknine 223's\n",
      "[youtube:search] query \"YNW Melly & 9lokknine 223's\": Downloading web client config\n",
      "[youtube:search] query \"YNW Melly & 9lokknine 223's\" page 1: Downloading API JSON\n",
      "[youtube:search] Playlist YNW Melly & 9lokknine 223's: Downloading 1 items of 1\n",
      "[download] Downloading item 1 of 1\n",
      "[youtube] Extracting URL: https://www.youtube.com/watch?v=DYIl-OCZYA4\n",
      "[youtube] DYIl-OCZYA4: Downloading webpage\n",
      "[youtube] DYIl-OCZYA4: Downloading ios player API JSON\n",
      "[youtube] DYIl-OCZYA4: Downloading android player API JSON\n"
     ]
    },
    {
     "name": "stderr",
     "output_type": "stream",
     "text": [
      "WARNING: [youtube] YouTube said: ERROR - Precondition check failed.\n",
      "WARNING: [youtube] HTTP Error 400: Bad Request. Retrying (1/3)...\n"
     ]
    },
    {
     "name": "stdout",
     "output_type": "stream",
     "text": [
      "[youtube] DYIl-OCZYA4: Downloading android player API JSON\n",
      "[youtube] DYIl-OCZYA4: Downloading m3u8 information\n",
      "[info] DYIl-OCZYA4: Downloading 1 format(s): 251\n",
      "[download] Destination: C:\\Users\\arwin\\Documents\\dev\\APS360-PROJECT\\data\\billboard_audio\\YNW Melly & 9lokknine_223's\\YNW Melly & 9lokknine_223's.webm\n",
      "[download] 100% of    2.82MiB in 00:00:00 at 7.66MiB/s   \n",
      "[download] Finished downloading playlist: YNW Melly & 9lokknine 223's\n",
      "[generic] Extracting URL: Olivia Rodrigo All I Want\n",
      "[youtube:search] Extracting URL: ytsearch:Olivia Rodrigo All I Want\n",
      "[download] Downloading playlist: Olivia Rodrigo All I Want\n",
      "[youtube:search] query \"Olivia Rodrigo All I Want\": Downloading web client config\n",
      "[youtube:search] query \"Olivia Rodrigo All I Want\" page 1: Downloading API JSON\n",
      "[youtube:search] Playlist Olivia Rodrigo All I Want: Downloading 1 items of 1\n",
      "[download] Downloading item 1 of 1\n",
      "[youtube] Extracting URL: https://www.youtube.com/watch?v=OOgvDiXl6hA\n",
      "[youtube] OOgvDiXl6hA: Downloading webpage\n",
      "[youtube] OOgvDiXl6hA: Downloading ios player API JSON\n",
      "[youtube] OOgvDiXl6hA: Downloading android player API JSON\n",
      "[youtube] OOgvDiXl6hA: Downloading m3u8 information\n",
      "[info] OOgvDiXl6hA: Downloading 1 format(s): 251\n",
      "[download] Destination: C:\\Users\\arwin\\Documents\\dev\\APS360-PROJECT\\data\\billboard_audio\\Olivia Rodrigo_All I Want\\Olivia Rodrigo_All I Want.webm\n",
      "[download] 100% of    2.98MiB in 00:00:00 at 13.26MiB/s  \n",
      "[download] Finished downloading playlist: Olivia Rodrigo All I Want\n",
      "[generic] Extracting URL: Ed Sheeran Featuring Khalid Beautiful People\n",
      "[youtube:search] Extracting URL: ytsearch:Ed Sheeran Featuring Khalid Beautiful People\n",
      "[download] Downloading playlist: Ed Sheeran Featuring Khalid Beautiful People\n",
      "[youtube:search] query \"Ed Sheeran Featuring Khalid Beautiful People\": Downloading web client config\n",
      "[youtube:search] query \"Ed Sheeran Featuring Khalid Beautiful People\" page 1: Downloading API JSON\n",
      "[youtube:search] Playlist Ed Sheeran Featuring Khalid Beautiful People: Downloading 1 items of 1\n",
      "[download] Downloading item 1 of 1\n",
      "[youtube] Extracting URL: https://www.youtube.com/watch?v=mj0XInqZMHY\n",
      "[youtube] mj0XInqZMHY: Downloading webpage\n",
      "[youtube] mj0XInqZMHY: Downloading ios player API JSON\n",
      "[youtube] mj0XInqZMHY: Downloading android player API JSON\n",
      "[youtube] mj0XInqZMHY: Downloading m3u8 information\n",
      "[info] mj0XInqZMHY: Downloading 1 format(s): 251\n",
      "[download] Destination: C:\\Users\\arwin\\Documents\\dev\\APS360-PROJECT\\data\\billboard_audio\\Ed Sheeran Featuring Khalid_Beautiful People\\Ed Sheeran Featuring Khalid_Beautiful People.webm\n",
      "[download] 100% of    3.48MiB in 00:00:00 at 9.02MiB/s   \n",
      "[download] Finished downloading playlist: Ed Sheeran Featuring Khalid Beautiful People\n",
      "[generic] Extracting URL: Lil Nas X Featuring Billy Ray Cyrus Old Town Road\n",
      "[youtube:search] Extracting URL: ytsearch:Lil Nas X Featuring Billy Ray Cyrus Old Town Road\n",
      "[download] Downloading playlist: Lil Nas X Featuring Billy Ray Cyrus Old Town Road\n",
      "[youtube:search] query \"Lil Nas X Featuring Billy Ray Cyrus Old Town Road\": Downloading web client config\n",
      "[youtube:search] query \"Lil Nas X Featuring Billy Ray Cyrus Old Town Road\" page 1: Downloading API JSON\n",
      "[youtube:search] Playlist Lil Nas X Featuring Billy Ray Cyrus Old Town Road: Downloading 1 items of 1\n",
      "[download] Downloading item 1 of 1\n",
      "[youtube] Extracting URL: https://www.youtube.com/watch?v=r7qovpFAGrQ\n",
      "[youtube] r7qovpFAGrQ: Downloading webpage\n",
      "[youtube] r7qovpFAGrQ: Downloading ios player API JSON\n",
      "[youtube] r7qovpFAGrQ: Downloading android player API JSON\n",
      "[youtube] r7qovpFAGrQ: Downloading m3u8 information\n",
      "[info] r7qovpFAGrQ: Downloading 1 format(s): 251\n",
      "[download] Destination: C:\\Users\\arwin\\Documents\\dev\\APS360-PROJECT\\data\\billboard_audio\\Lil Nas X Featuring Billy Ray Cyrus_Old Town Road\\Lil Nas X Featuring Billy Ray Cyrus_Old Town Road.webm\n",
      "[download] 100% of    2.70MiB in 00:00:00 at 7.54MiB/s   \n",
      "[download] Finished downloading playlist: Lil Nas X Featuring Billy Ray Cyrus Old Town Road\n",
      "[generic] Extracting URL: DaBaby Suge\n",
      "[youtube:search] Extracting URL: ytsearch:DaBaby Suge\n",
      "[download] Downloading playlist: DaBaby Suge\n",
      "[youtube:search] query \"DaBaby Suge\": Downloading web client config\n",
      "[youtube:search] query \"DaBaby Suge\" page 1: Downloading API JSON\n",
      "[youtube:search] Playlist DaBaby Suge: Downloading 1 items of 1\n",
      "[download] Downloading item 1 of 1\n",
      "[youtube] Extracting URL: https://www.youtube.com/watch?v=KvuQNNVrbtM\n",
      "[youtube] KvuQNNVrbtM: Downloading webpage\n",
      "[youtube] KvuQNNVrbtM: Downloading ios player API JSON\n",
      "[youtube] KvuQNNVrbtM: Downloading android player API JSON\n",
      "[youtube] KvuQNNVrbtM: Downloading m3u8 information\n",
      "[info] KvuQNNVrbtM: Downloading 1 format(s): 251\n",
      "[download] Destination: C:\\Users\\arwin\\Documents\\dev\\APS360-PROJECT\\data\\billboard_audio\\DaBaby_Suge\\DaBaby_Suge.webm\n",
      "[download] 100% of    3.75MiB in 00:00:00 at 7.55MiB/s   \n",
      "[download] Finished downloading playlist: DaBaby Suge\n",
      "[generic] Extracting URL: JACKBOYS & Sheck Wes GANG GANG\n",
      "[youtube:search] Extracting URL: ytsearch:JACKBOYS & Sheck Wes GANG GANG\n",
      "[download] Downloading playlist: JACKBOYS & Sheck Wes GANG GANG\n",
      "[youtube:search] query \"JACKBOYS & Sheck Wes GANG GANG\": Downloading web client config\n",
      "[youtube:search] query \"JACKBOYS & Sheck Wes GANG GANG\" page 1: Downloading API JSON\n",
      "[youtube:search] Playlist JACKBOYS & Sheck Wes GANG GANG: Downloading 1 items of 1\n",
      "[download] Downloading item 1 of 1\n",
      "[youtube] Extracting URL: https://www.youtube.com/watch?v=RIuk23XHYj0\n",
      "[youtube] RIuk23XHYj0: Downloading webpage\n",
      "[youtube] RIuk23XHYj0: Downloading ios player API JSON\n",
      "[youtube] RIuk23XHYj0: Downloading android player API JSON\n",
      "[youtube] RIuk23XHYj0: Downloading m3u8 information\n",
      "[info] RIuk23XHYj0: Downloading 1 format(s): 251\n",
      "[download] Destination: C:\\Users\\arwin\\Documents\\dev\\APS360-PROJECT\\data\\billboard_audio\\JACKBOYS & Sheck Wes_GANG GANG\\JACKBOYS & Sheck Wes_GANG GANG.webm\n",
      "[download] 100% of    4.18MiB in 00:00:00 at 7.02MiB/s   \n",
      "[download] Finished downloading playlist: JACKBOYS & Sheck Wes GANG GANG\n",
      "[generic] Extracting URL: Don Toliver Featuring Quavo & Offset HAD ENOUGH\n",
      "[youtube:search] Extracting URL: ytsearch:Don Toliver Featuring Quavo & Offset HAD ENOUGH\n",
      "[download] Downloading playlist: Don Toliver Featuring Quavo & Offset HAD ENOUGH\n",
      "[youtube:search] query \"Don Toliver Featuring Quavo & Offset HAD ENOUGH\": Downloading web client config\n",
      "[youtube:search] query \"Don Toliver Featuring Quavo & Offset HAD ENOUGH\" page 1: Downloading API JSON\n",
      "[youtube:search] Playlist Don Toliver Featuring Quavo & Offset HAD ENOUGH: Downloading 1 items of 1\n",
      "[download] Downloading item 1 of 1\n",
      "[youtube] Extracting URL: https://www.youtube.com/watch?v=fdfj1qstqh8\n",
      "[youtube] fdfj1qstqh8: Downloading webpage\n",
      "[youtube] fdfj1qstqh8: Downloading ios player API JSON\n",
      "[youtube] fdfj1qstqh8: Downloading android player API JSON\n"
     ]
    },
    {
     "name": "stderr",
     "output_type": "stream",
     "text": [
      "WARNING: [youtube] YouTube said: ERROR - Precondition check failed.\n",
      "WARNING: [youtube] HTTP Error 400: Bad Request. Retrying (1/3)...\n"
     ]
    },
    {
     "name": "stdout",
     "output_type": "stream",
     "text": [
      "[youtube] fdfj1qstqh8: Downloading android player API JSON\n",
      "[youtube] fdfj1qstqh8: Downloading m3u8 information\n",
      "[info] fdfj1qstqh8: Downloading 1 format(s): 251\n",
      "[download] Destination: C:\\Users\\arwin\\Documents\\dev\\APS360-PROJECT\\data\\billboard_audio\\Don Toliver Featuring Quavo & Offset_HAD ENOUGH\\Don Toliver Featuring Quavo & Offset_HAD ENOUGH.webm\n",
      "[download] 100% of    2.54MiB in 00:00:00 at 4.59MiB/s   \n",
      "[download] Finished downloading playlist: Don Toliver Featuring Quavo & Offset HAD ENOUGH\n",
      "[generic] Extracting URL: Post Malone Featuring DaBaby Enemies\n",
      "[youtube:search] Extracting URL: ytsearch:Post Malone Featuring DaBaby Enemies\n",
      "[download] Downloading playlist: Post Malone Featuring DaBaby Enemies\n",
      "[youtube:search] query \"Post Malone Featuring DaBaby Enemies\": Downloading web client config\n",
      "[youtube:search] query \"Post Malone Featuring DaBaby Enemies\" page 1: Downloading API JSON\n",
      "[youtube:search] Playlist Post Malone Featuring DaBaby Enemies: Downloading 1 items of 1\n",
      "[download] Downloading item 1 of 1\n",
      "[youtube] Extracting URL: https://www.youtube.com/watch?v=qT_y5Yc8jSA\n",
      "[youtube] qT_y5Yc8jSA: Downloading webpage\n",
      "[youtube] qT_y5Yc8jSA: Downloading ios player API JSON\n",
      "[youtube] qT_y5Yc8jSA: Downloading android player API JSON\n",
      "[youtube] qT_y5Yc8jSA: Downloading m3u8 information\n",
      "[info] qT_y5Yc8jSA: Downloading 1 format(s): 251\n",
      "[download] Destination: C:\\Users\\arwin\\Documents\\dev\\APS360-PROJECT\\data\\billboard_audio\\Post Malone Featuring DaBaby_Enemies\\Post Malone Featuring DaBaby_Enemies.webm\n",
      "[download] 100% of    3.44MiB in 00:00:00 at 15.59MiB/s  \n",
      "[download] Finished downloading playlist: Post Malone Featuring DaBaby Enemies\n",
      "[generic] Extracting URL: Lil Tjay 20_20\n",
      "[youtube:search] Extracting URL: ytsearch:Lil Tjay 20_20\n",
      "[download] Downloading playlist: Lil Tjay 20_20\n",
      "[youtube:search] query \"Lil Tjay 20_20\": Downloading web client config\n",
      "[youtube:search] query \"Lil Tjay 20_20\" page 1: Downloading API JSON\n",
      "[youtube:search] Playlist Lil Tjay 20_20: Downloading 1 items of 1\n",
      "[download] Downloading item 1 of 1\n",
      "[youtube] Extracting URL: https://www.youtube.com/watch?v=yOyBmzc6Wqs\n",
      "[youtube] yOyBmzc6Wqs: Downloading webpage\n",
      "[youtube] yOyBmzc6Wqs: Downloading ios player API JSON\n",
      "[youtube] yOyBmzc6Wqs: Downloading android player API JSON\n",
      "[youtube] yOyBmzc6Wqs: Downloading m3u8 information\n",
      "[info] yOyBmzc6Wqs: Downloading 1 format(s): 251\n",
      "[download] Destination: C:\\Users\\arwin\\Documents\\dev\\APS360-PROJECT\\data\\billboard_audio\\Lil Tjay_20_20\\Lil Tjay_20_20.webm\n",
      "[download] 100% of    4.12MiB in 00:00:00 at 21.38MiB/s  \n",
      "[download] Finished downloading playlist: Lil Tjay 20_20\n",
      "[generic] Extracting URL: JACKBOYS Featuring Don Toliver WHAT TO DO_\n",
      "[youtube:search] Extracting URL: ytsearch:JACKBOYS Featuring Don Toliver WHAT TO DO_\n",
      "[download] Downloading playlist: JACKBOYS Featuring Don Toliver WHAT TO DO_\n",
      "[youtube:search] query \"JACKBOYS Featuring Don Toliver WHAT TO DO_\": Downloading web client config\n",
      "[youtube:search] query \"JACKBOYS Featuring Don Toliver WHAT TO DO_\" page 1: Downloading API JSON\n",
      "[youtube:search] Playlist JACKBOYS Featuring Don Toliver WHAT TO DO_: Downloading 1 items of 1\n",
      "[download] Downloading item 1 of 1\n",
      "[youtube] Extracting URL: https://www.youtube.com/watch?v=oQ09Bw2Q4nI\n",
      "[youtube] oQ09Bw2Q4nI: Downloading webpage\n",
      "[youtube] oQ09Bw2Q4nI: Downloading ios player API JSON\n",
      "[youtube] oQ09Bw2Q4nI: Downloading android player API JSON\n"
     ]
    },
    {
     "name": "stderr",
     "output_type": "stream",
     "text": [
      "WARNING: [youtube] YouTube said: ERROR - Precondition check failed.\n",
      "WARNING: [youtube] HTTP Error 400: Bad Request. Retrying (1/3)...\n"
     ]
    },
    {
     "name": "stdout",
     "output_type": "stream",
     "text": [
      "[youtube] oQ09Bw2Q4nI: Downloading android player API JSON\n",
      "[youtube] oQ09Bw2Q4nI: Downloading m3u8 information\n",
      "[info] oQ09Bw2Q4nI: Downloading 1 format(s): 251\n",
      "[download] Destination: C:\\Users\\arwin\\Documents\\dev\\APS360-PROJECT\\data\\billboard_audio\\JACKBOYS Featuring Don Toliver_WHAT TO DO_\\JACKBOYS Featuring Don Toliver_WHAT TO DO_.webm\n",
      "[download] 100% of    4.11MiB in 00:00:00 at 4.74MiB/s   \n",
      "[download] Finished downloading playlist: JACKBOYS Featuring Don Toliver WHAT TO DO_\n",
      "[generic] Extracting URL: Lil Tecca Ran$om\n",
      "[youtube:search] Extracting URL: ytsearch:Lil Tecca Ran$om\n",
      "[download] Downloading playlist: Lil Tecca Ran$om\n",
      "[youtube:search] query \"Lil Tecca Ran$om\": Downloading web client config\n",
      "[youtube:search] query \"Lil Tecca Ran$om\" page 1: Downloading API JSON\n",
      "[youtube:search] Playlist Lil Tecca Ran$om: Downloading 1 items of 1\n",
      "[download] Downloading item 1 of 1\n",
      "[youtube] Extracting URL: https://www.youtube.com/watch?v=1XzY2ij_vL4\n",
      "[youtube] 1XzY2ij_vL4: Downloading webpage\n",
      "[youtube] 1XzY2ij_vL4: Downloading ios player API JSON\n",
      "[youtube] 1XzY2ij_vL4: Downloading android player API JSON\n",
      "[youtube] 1XzY2ij_vL4: Downloading m3u8 information\n",
      "[info] 1XzY2ij_vL4: Downloading 1 format(s): 251\n",
      "[download] Destination: C:\\Users\\arwin\\Documents\\dev\\APS360-PROJECT\\data\\billboard_audio\\Lil Tecca_Ran$om\\Lil Tecca_Ran$om.webm\n",
      "[download] 100% of    2.42MiB in 00:00:00 at 9.94MiB/s   \n",
      "[download] Finished downloading playlist: Lil Tecca Ran$om\n",
      "[generic] Extracting URL: Lil Baby & DaBaby Baby\n",
      "[youtube:search] Extracting URL: ytsearch:Lil Baby & DaBaby Baby\n",
      "[download] Downloading playlist: Lil Baby & DaBaby Baby\n",
      "[youtube:search] query \"Lil Baby & DaBaby Baby\": Downloading web client config\n",
      "[youtube:search] query \"Lil Baby & DaBaby Baby\" page 1: Downloading API JSON\n",
      "[youtube:search] Playlist Lil Baby & DaBaby Baby: Downloading 1 items of 1\n",
      "[download] Downloading item 1 of 1\n",
      "[youtube] Extracting URL: https://www.youtube.com/watch?v=0GbwYFqN1iE\n",
      "[youtube] 0GbwYFqN1iE: Downloading webpage\n",
      "[youtube] 0GbwYFqN1iE: Downloading ios player API JSON\n",
      "[youtube] 0GbwYFqN1iE: Downloading android player API JSON\n",
      "[youtube] 0GbwYFqN1iE: Downloading m3u8 information\n",
      "[info] 0GbwYFqN1iE: Downloading 1 format(s): 251\n",
      "[download] Destination: C:\\Users\\arwin\\Documents\\dev\\APS360-PROJECT\\data\\billboard_audio\\Lil Baby & DaBaby_Baby\\Lil Baby & DaBaby_Baby.webm\n",
      "[download] 100% of    3.66MiB in 00:00:00 at 12.12MiB/s  \n",
      "[download] Finished downloading playlist: Lil Baby & DaBaby Baby\n",
      "[generic] Extracting URL: JACKBOYS, Pop Smoke & Travis Scott GATTI\n",
      "[youtube:search] Extracting URL: ytsearch:JACKBOYS, Pop Smoke & Travis Scott GATTI\n",
      "[download] Downloading playlist: JACKBOYS, Pop Smoke & Travis Scott GATTI\n",
      "[youtube:search] query \"JACKBOYS, Pop Smoke & Travis Scott GATTI\": Downloading web client config\n",
      "[youtube:search] query \"JACKBOYS, Pop Smoke & Travis Scott GATTI\" page 1: Downloading API JSON\n",
      "[youtube:search] Playlist JACKBOYS, Pop Smoke & Travis Scott GATTI: Downloading 1 items of 1\n",
      "[download] Downloading item 1 of 1\n",
      "[youtube] Extracting URL: https://www.youtube.com/watch?v=kx7P_ENnDPE\n",
      "[youtube] kx7P_ENnDPE: Downloading webpage\n",
      "[youtube] kx7P_ENnDPE: Downloading ios player API JSON\n",
      "[youtube] kx7P_ENnDPE: Downloading android player API JSON\n",
      "[youtube] kx7P_ENnDPE: Downloading m3u8 information\n",
      "[info] kx7P_ENnDPE: Downloading 1 format(s): 251\n",
      "[download] Destination: C:\\Users\\arwin\\Documents\\dev\\APS360-PROJECT\\data\\billboard_audio\\JACKBOYS, Pop Smoke & Travis Scott_GATTI\\JACKBOYS, Pop Smoke & Travis Scott_GATTI.webm\n",
      "[download] 100% of    2.91MiB in 00:00:00 at 7.44MiB/s   \n",
      "[download] Finished downloading playlist: JACKBOYS, Pop Smoke & Travis Scott GATTI\n",
      "[generic] Extracting URL: Joji Slow Dancing In The Dark\n",
      "[youtube:search] Extracting URL: ytsearch:Joji Slow Dancing In The Dark\n",
      "[download] Downloading playlist: Joji Slow Dancing In The Dark\n",
      "[youtube:search] query \"Joji Slow Dancing In The Dark\": Downloading web client config\n",
      "[youtube:search] query \"Joji Slow Dancing In The Dark\" page 1: Downloading API JSON\n",
      "[youtube:search] Playlist Joji Slow Dancing In The Dark: Downloading 1 items of 1\n",
      "[download] Downloading item 1 of 1\n",
      "[youtube] Extracting URL: https://www.youtube.com/watch?v=LUXu4aTnK7E\n",
      "[youtube] LUXu4aTnK7E: Downloading webpage\n",
      "[youtube] LUXu4aTnK7E: Downloading ios player API JSON\n",
      "[youtube] LUXu4aTnK7E: Downloading android player API JSON\n",
      "[youtube] LUXu4aTnK7E: Downloading m3u8 information\n",
      "[info] LUXu4aTnK7E: Downloading 1 format(s): 251\n",
      "[download] Destination: C:\\Users\\arwin\\Documents\\dev\\APS360-PROJECT\\data\\billboard_audio\\Joji_Slow Dancing In The Dark\\Joji_Slow Dancing In The Dark.webm\n",
      "[download] 100% of    3.42MiB in 00:00:00 at 6.56MiB/s   \n",
      "[download] Finished downloading playlist: Joji Slow Dancing In The Dark\n",
      "[generic] Extracting URL: Trippie Redd Featuring DaBaby Death\n",
      "[youtube:search] Extracting URL: ytsearch:Trippie Redd Featuring DaBaby Death\n",
      "[download] Downloading playlist: Trippie Redd Featuring DaBaby Death\n",
      "[youtube:search] query \"Trippie Redd Featuring DaBaby Death\": Downloading web client config\n",
      "[youtube:search] query \"Trippie Redd Featuring DaBaby Death\" page 1: Downloading API JSON\n",
      "[youtube:search] Playlist Trippie Redd Featuring DaBaby Death: Downloading 1 items of 1\n",
      "[download] Downloading item 1 of 1\n",
      "[youtube] Extracting URL: https://www.youtube.com/watch?v=18XQaj7c59M\n",
      "[youtube] 18XQaj7c59M: Downloading webpage\n",
      "[youtube] 18XQaj7c59M: Downloading ios player API JSON\n",
      "[youtube] 18XQaj7c59M: Downloading android player API JSON\n"
     ]
    },
    {
     "name": "stderr",
     "output_type": "stream",
     "text": [
      "WARNING: [youtube] YouTube said: ERROR - Precondition check failed.\n",
      "WARNING: [youtube] HTTP Error 400: Bad Request. Retrying (1/3)...\n"
     ]
    },
    {
     "name": "stdout",
     "output_type": "stream",
     "text": [
      "[youtube] 18XQaj7c59M: Downloading android player API JSON\n"
     ]
    },
    {
     "name": "stderr",
     "output_type": "stream",
     "text": [
      "WARNING: [youtube] YouTube said: ERROR - Precondition check failed.\n",
      "WARNING: [youtube] HTTP Error 400: Bad Request. Retrying (2/3)...\n"
     ]
    },
    {
     "name": "stdout",
     "output_type": "stream",
     "text": [
      "[youtube] 18XQaj7c59M: Downloading android player API JSON\n"
     ]
    },
    {
     "name": "stderr",
     "output_type": "stream",
     "text": [
      "WARNING: [youtube] YouTube said: ERROR - Precondition check failed.\n",
      "WARNING: [youtube] HTTP Error 400: Bad Request. Retrying (3/3)...\n"
     ]
    },
    {
     "name": "stdout",
     "output_type": "stream",
     "text": [
      "[youtube] 18XQaj7c59M: Downloading android player API JSON\n",
      "[youtube] 18XQaj7c59M: Downloading m3u8 information\n",
      "[info] 18XQaj7c59M: Downloading 1 format(s): 251\n",
      "[download] Destination: C:\\Users\\arwin\\Documents\\dev\\APS360-PROJECT\\data\\billboard_audio\\Trippie Redd Featuring DaBaby_Death\\Trippie Redd Featuring DaBaby_Death.webm\n",
      "[download] 100% of    2.86MiB in 00:00:00 at 7.71MiB/s   \n",
      "[download] Finished downloading playlist: Trippie Redd Featuring DaBaby Death\n",
      "[generic] Extracting URL: Ant Saunders Yellow Hearts\n",
      "[youtube:search] Extracting URL: ytsearch:Ant Saunders Yellow Hearts\n",
      "[download] Downloading playlist: Ant Saunders Yellow Hearts\n",
      "[youtube:search] query \"Ant Saunders Yellow Hearts\": Downloading web client config\n",
      "[youtube:search] query \"Ant Saunders Yellow Hearts\" page 1: Downloading API JSON\n",
      "[youtube:search] Playlist Ant Saunders Yellow Hearts: Downloading 1 items of 1\n",
      "[download] Downloading item 1 of 1\n",
      "[youtube] Extracting URL: https://www.youtube.com/watch?v=mVKUW3cu_lY\n",
      "[youtube] mVKUW3cu_lY: Downloading webpage\n",
      "[youtube] mVKUW3cu_lY: Downloading ios player API JSON\n",
      "[youtube] mVKUW3cu_lY: Downloading android player API JSON\n"
     ]
    },
    {
     "name": "stderr",
     "output_type": "stream",
     "text": [
      "WARNING: [youtube] YouTube said: ERROR - Precondition check failed.\n",
      "WARNING: [youtube] HTTP Error 400: Bad Request. Retrying (1/3)...\n"
     ]
    },
    {
     "name": "stdout",
     "output_type": "stream",
     "text": [
      "[youtube] mVKUW3cu_lY: Downloading android player API JSON\n",
      "[youtube] mVKUW3cu_lY: Downloading m3u8 information\n",
      "[info] mVKUW3cu_lY: Downloading 1 format(s): 251\n",
      "[download] Destination: C:\\Users\\arwin\\Documents\\dev\\APS360-PROJECT\\data\\billboard_audio\\Ant Saunders_Yellow Hearts\\Ant Saunders_Yellow Hearts.webm\n",
      "[download] 100% of    3.07MiB in 00:00:00 at 9.95MiB/s     \n",
      "[download] Finished downloading playlist: Ant Saunders Yellow Hearts\n",
      "[generic] Extracting URL: Juice WRLD Let Me Know (I Wonder Why Freestyle)\n",
      "[youtube:search] Extracting URL: ytsearch:Juice WRLD Let Me Know (I Wonder Why Freestyle)\n",
      "[download] Downloading playlist: Juice WRLD Let Me Know (I Wonder Why Freestyle)\n",
      "[youtube:search] query \"Juice WRLD Let Me Know (I Wonder Why Freestyle)\": Downloading web client config\n",
      "[youtube:search] query \"Juice WRLD Let Me Know (I Wonder Why Freestyle)\" page 1: Downloading API JSON\n",
      "[youtube:search] Playlist Juice WRLD Let Me Know (I Wonder Why Freestyle): Downloading 1 items of 1\n",
      "[download] Downloading item 1 of 1\n",
      "[youtube] Extracting URL: https://www.youtube.com/watch?v=swDam6Hrsm8\n",
      "[youtube] swDam6Hrsm8: Downloading webpage\n",
      "[youtube] swDam6Hrsm8: Downloading ios player API JSON\n",
      "[youtube] swDam6Hrsm8: Downloading android player API JSON\n"
     ]
    },
    {
     "name": "stderr",
     "output_type": "stream",
     "text": [
      "WARNING: [youtube] YouTube said: ERROR - Precondition check failed.\n",
      "WARNING: [youtube] HTTP Error 400: Bad Request. Retrying (1/3)...\n"
     ]
    },
    {
     "name": "stdout",
     "output_type": "stream",
     "text": [
      "[youtube] swDam6Hrsm8: Downloading android player API JSON\n",
      "[youtube] swDam6Hrsm8: Downloading m3u8 information\n",
      "[info] swDam6Hrsm8: Downloading 1 format(s): 251\n",
      "[download] Destination: C:\\Users\\arwin\\Documents\\dev\\APS360-PROJECT\\data\\billboard_audio\\Juice WRLD_Let Me Know (I Wonder Why Freestyle)\\Juice WRLD_Let Me Know (I Wonder Why Freestyle).webm\n",
      "[download] 100% of    3.42MiB in 00:00:00 at 14.89MiB/s    \n",
      "[download] Finished downloading playlist: Juice WRLD Let Me Know (I Wonder Why Freestyle)\n",
      "[generic] Extracting URL: DJ Snake, J_ Balvin & Tyga Loco Contigo\n",
      "[youtube:search] Extracting URL: ytsearch:DJ Snake, J_ Balvin & Tyga Loco Contigo\n",
      "[download] Downloading playlist: DJ Snake, J_ Balvin & Tyga Loco Contigo\n",
      "[youtube:search] query \"DJ Snake, J_ Balvin & Tyga Loco Contigo\": Downloading web client config\n",
      "[youtube:search] query \"DJ Snake, J_ Balvin & Tyga Loco Contigo\" page 1: Downloading API JSON\n",
      "[youtube:search] Playlist DJ Snake, J_ Balvin & Tyga Loco Contigo: Downloading 1 items of 1\n",
      "[download] Downloading item 1 of 1\n",
      "[youtube] Extracting URL: https://www.youtube.com/watch?v=zNl00mOSnJI\n",
      "[youtube] zNl00mOSnJI: Downloading webpage\n",
      "[youtube] zNl00mOSnJI: Downloading ios player API JSON\n",
      "[youtube] zNl00mOSnJI: Downloading android player API JSON\n",
      "[youtube] zNl00mOSnJI: Downloading m3u8 information\n",
      "[info] zNl00mOSnJI: Downloading 1 format(s): 251\n",
      "[download] Destination: C:\\Users\\arwin\\Documents\\dev\\APS360-PROJECT\\data\\billboard_audio\\DJ Snake, J_ Balvin & Tyga_Loco Contigo\\DJ Snake, J_ Balvin & Tyga_Loco Contigo.webm\n",
      "[download] 100% of    3.03MiB in 00:00:00 at 15.10MiB/s  \n",
      "[download] Finished downloading playlist: DJ Snake, J_ Balvin & Tyga Loco Contigo\n",
      "[generic] Extracting URL: Doja Cat Candy\n",
      "[youtube:search] Extracting URL: ytsearch:Doja Cat Candy\n",
      "[download] Downloading playlist: Doja Cat Candy\n",
      "[youtube:search] query \"Doja Cat Candy\": Downloading web client config\n",
      "[youtube:search] query \"Doja Cat Candy\" page 1: Downloading API JSON\n",
      "[youtube:search] Playlist Doja Cat Candy: Downloading 1 items of 1\n",
      "[download] Downloading item 1 of 1\n",
      "[youtube] Extracting URL: https://www.youtube.com/watch?v=ZRHHOttkM1A\n",
      "[youtube] ZRHHOttkM1A: Downloading webpage\n",
      "[youtube] ZRHHOttkM1A: Downloading ios player API JSON\n",
      "[youtube] ZRHHOttkM1A: Downloading android player API JSON\n",
      "[youtube] ZRHHOttkM1A: Downloading m3u8 information\n",
      "[info] ZRHHOttkM1A: Downloading 1 format(s): 251\n",
      "[download] Destination: C:\\Users\\arwin\\Documents\\dev\\APS360-PROJECT\\data\\billboard_audio\\Doja Cat_Candy\\Doja Cat_Candy.webm\n",
      "[download] 100% of    3.15MiB in 00:00:00 at 8.79MiB/s   \n",
      "[download] Finished downloading playlist: Doja Cat Candy\n",
      "[generic] Extracting URL: Anuel AA, Daddy Yankee, Karol G, Ozuna & J Balvin China\n",
      "[youtube:search] Extracting URL: ytsearch:Anuel AA, Daddy Yankee, Karol G, Ozuna & J Balvin China\n",
      "[download] Downloading playlist: Anuel AA, Daddy Yankee, Karol G, Ozuna & J Balvin China\n",
      "[youtube:search] query \"Anuel AA, Daddy Yankee, Karol G, Ozuna & J Balvin China\": Downloading web client config\n",
      "[youtube:search] query \"Anuel AA, Daddy Yankee, Karol G, Ozuna & J Balvin China\" page 1: Downloading API JSON\n",
      "[youtube:search] Playlist Anuel AA, Daddy Yankee, Karol G, Ozuna & J Balvin China: Downloading 1 items of 1\n",
      "[download] Downloading item 1 of 1\n",
      "[youtube] Extracting URL: https://www.youtube.com/watch?v=0VR3dfZf9Yg\n",
      "[youtube] 0VR3dfZf9Yg: Downloading webpage\n",
      "[youtube] 0VR3dfZf9Yg: Downloading ios player API JSON\n",
      "[youtube] 0VR3dfZf9Yg: Downloading android player API JSON\n"
     ]
    },
    {
     "name": "stderr",
     "output_type": "stream",
     "text": [
      "WARNING: [youtube] YouTube said: ERROR - Precondition check failed.\n",
      "WARNING: [youtube] HTTP Error 400: Bad Request. Retrying (1/3)...\n"
     ]
    },
    {
     "name": "stdout",
     "output_type": "stream",
     "text": [
      "[youtube] 0VR3dfZf9Yg: Downloading android player API JSON\n"
     ]
    },
    {
     "name": "stderr",
     "output_type": "stream",
     "text": [
      "WARNING: [youtube] YouTube said: ERROR - Precondition check failed.\n",
      "WARNING: [youtube] HTTP Error 400: Bad Request. Retrying (2/3)...\n"
     ]
    },
    {
     "name": "stdout",
     "output_type": "stream",
     "text": [
      "[youtube] 0VR3dfZf9Yg: Downloading android player API JSON\n"
     ]
    },
    {
     "name": "stderr",
     "output_type": "stream",
     "text": [
      "WARNING: [youtube] YouTube said: ERROR - Precondition check failed.\n",
      "WARNING: [youtube] HTTP Error 400: Bad Request. Retrying (3/3)...\n"
     ]
    },
    {
     "name": "stdout",
     "output_type": "stream",
     "text": [
      "[youtube] 0VR3dfZf9Yg: Downloading android player API JSON\n"
     ]
    },
    {
     "name": "stderr",
     "output_type": "stream",
     "text": [
      "WARNING: [youtube] YouTube said: ERROR - Precondition check failed.\n",
      "WARNING: [youtube] Unable to download API page: HTTP Error 400: Bad Request (caused by <HTTPError 400: Bad Request>); please report this issue on  https://github.com/yt-dlp/yt-dlp/issues?q= , filling out the appropriate issue template. Confirm you are on the latest version using  yt-dlp -U\n"
     ]
    },
    {
     "name": "stdout",
     "output_type": "stream",
     "text": [
      "[youtube] 0VR3dfZf9Yg: Downloading m3u8 information\n",
      "[info] 0VR3dfZf9Yg: Downloading 1 format(s): 251\n",
      "[download] Destination: C:\\Users\\arwin\\Documents\\dev\\APS360-PROJECT\\data\\billboard_audio\\Anuel AA, Daddy Yankee, Karol G, Ozuna & J Balvin_China\\Anuel AA, Daddy Yankee, Karol G, Ozuna & J Balvin_China.webm\n",
      "[download] 100% of    5.33MiB in 00:00:00 at 8.51MiB/s   \n",
      "[download] Finished downloading playlist: Anuel AA, Daddy Yankee, Karol G, Ozuna & J Balvin China\n",
      "[generic] Extracting URL: Frank Sinatra Jingle Bells\n",
      "[youtube:search] Extracting URL: ytsearch:Frank Sinatra Jingle Bells\n",
      "[download] Downloading playlist: Frank Sinatra Jingle Bells\n",
      "[youtube:search] query \"Frank Sinatra Jingle Bells\": Downloading web client config\n",
      "[youtube:search] query \"Frank Sinatra Jingle Bells\" page 1: Downloading API JSON\n",
      "[youtube:search] Playlist Frank Sinatra Jingle Bells: Downloading 1 items of 1\n",
      "[download] Downloading item 1 of 1\n",
      "[youtube] Extracting URL: https://www.youtube.com/watch?v=hLf0-lro8X8\n",
      "[youtube] hLf0-lro8X8: Downloading webpage\n",
      "[youtube] hLf0-lro8X8: Downloading ios player API JSON\n",
      "[youtube] hLf0-lro8X8: Downloading android player API JSON\n"
     ]
    },
    {
     "name": "stderr",
     "output_type": "stream",
     "text": [
      "WARNING: [youtube] YouTube said: ERROR - Precondition check failed.\n",
      "WARNING: [youtube] HTTP Error 400: Bad Request. Retrying (1/3)...\n"
     ]
    },
    {
     "name": "stdout",
     "output_type": "stream",
     "text": [
      "[youtube] hLf0-lro8X8: Downloading android player API JSON\n"
     ]
    },
    {
     "name": "stderr",
     "output_type": "stream",
     "text": [
      "WARNING: [youtube] YouTube said: ERROR - Precondition check failed.\n",
      "WARNING: [youtube] HTTP Error 400: Bad Request. Retrying (2/3)...\n"
     ]
    },
    {
     "name": "stdout",
     "output_type": "stream",
     "text": [
      "[youtube] hLf0-lro8X8: Downloading android player API JSON\n",
      "[youtube] hLf0-lro8X8: Downloading m3u8 information\n",
      "[info] hLf0-lro8X8: Downloading 1 format(s): 251\n",
      "[download] Destination: C:\\Users\\arwin\\Documents\\dev\\APS360-PROJECT\\data\\billboard_audio\\Frank Sinatra_Jingle Bells\\Frank Sinatra_Jingle Bells.webm\n",
      "[download] 100% of    1.48MiB in 00:00:00 at 9.26MiB/s     \n",
      "[download] Finished downloading playlist: Frank Sinatra Jingle Bells\n",
      "[generic] Extracting URL: Jonas Brothers Like It's Christmas\n",
      "[youtube:search] Extracting URL: ytsearch:Jonas Brothers Like It's Christmas\n",
      "[download] Downloading playlist: Jonas Brothers Like It's Christmas\n",
      "[youtube:search] query \"Jonas Brothers Like It's Christmas\": Downloading web client config\n",
      "[youtube:search] query \"Jonas Brothers Like It's Christmas\" page 1: Downloading API JSON\n",
      "[youtube:search] Playlist Jonas Brothers Like It's Christmas: Downloading 1 items of 1\n",
      "[download] Downloading item 1 of 1\n",
      "[youtube] Extracting URL: https://www.youtube.com/watch?v=tIyE3IrC7r0\n",
      "[youtube] tIyE3IrC7r0: Downloading webpage\n",
      "[youtube] tIyE3IrC7r0: Downloading ios player API JSON\n",
      "[youtube] tIyE3IrC7r0: Downloading android player API JSON\n"
     ]
    },
    {
     "name": "stderr",
     "output_type": "stream",
     "text": [
      "WARNING: [youtube] YouTube said: ERROR - Precondition check failed.\n",
      "WARNING: [youtube] HTTP Error 400: Bad Request. Retrying (1/3)...\n"
     ]
    },
    {
     "name": "stdout",
     "output_type": "stream",
     "text": [
      "[youtube] tIyE3IrC7r0: Downloading android player API JSON\n",
      "[youtube] tIyE3IrC7r0: Downloading m3u8 information\n",
      "[info] tIyE3IrC7r0: Downloading 1 format(s): 251\n",
      "[download] Destination: C:\\Users\\arwin\\Documents\\dev\\APS360-PROJECT\\data\\billboard_audio\\Jonas Brothers_Like It's Christmas\\Jonas Brothers_Like It's Christmas.webm\n",
      "[download] 100% of    3.28MiB in 00:00:00 at 12.03MiB/s  \n",
      "[download] Finished downloading playlist: Jonas Brothers Like It's Christmas\n",
      "[generic] Extracting URL: Dean Martin Baby It's Cold Outside\n",
      "[youtube:search] Extracting URL: ytsearch:Dean Martin Baby It's Cold Outside\n",
      "[download] Downloading playlist: Dean Martin Baby It's Cold Outside\n",
      "[youtube:search] query \"Dean Martin Baby It's Cold Outside\": Downloading web client config\n",
      "[youtube:search] query \"Dean Martin Baby It's Cold Outside\" page 1: Downloading API JSON\n",
      "[youtube:search] Playlist Dean Martin Baby It's Cold Outside: Downloading 1 items of 1\n",
      "[download] Downloading item 1 of 1\n",
      "[youtube] Extracting URL: https://www.youtube.com/watch?v=UwY0VjJUzXQ\n",
      "[youtube] UwY0VjJUzXQ: Downloading webpage\n",
      "[youtube] UwY0VjJUzXQ: Downloading ios player API JSON\n",
      "[youtube] UwY0VjJUzXQ: Downloading android player API JSON\n"
     ]
    },
    {
     "name": "stderr",
     "output_type": "stream",
     "text": [
      "WARNING: [youtube] YouTube said: ERROR - Precondition check failed.\n",
      "WARNING: [youtube] HTTP Error 400: Bad Request. Retrying (1/3)...\n"
     ]
    },
    {
     "name": "stdout",
     "output_type": "stream",
     "text": [
      "[youtube] UwY0VjJUzXQ: Downloading android player API JSON\n",
      "[youtube] UwY0VjJUzXQ: Downloading m3u8 information\n",
      "[info] UwY0VjJUzXQ: Downloading 1 format(s): 251\n",
      "[download] Destination: C:\\Users\\arwin\\Documents\\dev\\APS360-PROJECT\\data\\billboard_audio\\Dean Martin_Baby It's Cold Outside\\Dean Martin_Baby It's Cold Outside.webm\n",
      "[download] 100% of    2.19MiB in 00:00:00 at 5.01MiB/s     \n",
      "[download] Finished downloading playlist: Dean Martin Baby It's Cold Outside\n",
      "[generic] Extracting URL: John Legend Happy Xmas (War Is Over)\n",
      "[youtube:search] Extracting URL: ytsearch:John Legend Happy Xmas (War Is Over)\n",
      "[download] Downloading playlist: John Legend Happy Xmas (War Is Over)\n",
      "[youtube:search] query \"John Legend Happy Xmas (War Is Over)\": Downloading web client config\n",
      "[youtube:search] query \"John Legend Happy Xmas (War Is Over)\" page 1: Downloading API JSON\n",
      "[youtube:search] Playlist John Legend Happy Xmas (War Is Over): Downloading 1 items of 1\n",
      "[download] Downloading item 1 of 1\n",
      "[youtube] Extracting URL: https://www.youtube.com/watch?v=2mOMGjFR0dI\n",
      "[youtube] 2mOMGjFR0dI: Downloading webpage\n",
      "[youtube] 2mOMGjFR0dI: Downloading ios player API JSON\n",
      "[youtube] 2mOMGjFR0dI: Downloading android player API JSON\n"
     ]
    },
    {
     "name": "stderr",
     "output_type": "stream",
     "text": [
      "WARNING: [youtube] YouTube said: ERROR - Precondition check failed.\n",
      "WARNING: [youtube] HTTP Error 400: Bad Request. Retrying (1/3)...\n"
     ]
    },
    {
     "name": "stdout",
     "output_type": "stream",
     "text": [
      "[youtube] 2mOMGjFR0dI: Downloading android player API JSON\n",
      "[youtube] 2mOMGjFR0dI: Downloading m3u8 information\n",
      "[info] 2mOMGjFR0dI: Downloading 1 format(s): 251\n",
      "[download] Destination: C:\\Users\\arwin\\Documents\\dev\\APS360-PROJECT\\data\\billboard_audio\\John Legend_Happy Xmas (War Is Over)\\John Legend_Happy Xmas (War Is Over).webm\n",
      "[download] 100% of    3.32MiB in 00:00:00 at 7.19MiB/s   \n",
      "[download] Finished downloading playlist: John Legend Happy Xmas (War Is Over)\n",
      "[generic] Extracting URL: Ellie Goulding & Juice WRLD Hate Me\n",
      "[youtube:search] Extracting URL: ytsearch:Ellie Goulding & Juice WRLD Hate Me\n",
      "[download] Downloading playlist: Ellie Goulding & Juice WRLD Hate Me\n",
      "[youtube:search] query \"Ellie Goulding & Juice WRLD Hate Me\": Downloading web client config\n",
      "[youtube:search] query \"Ellie Goulding & Juice WRLD Hate Me\" page 1: Downloading API JSON\n",
      "[youtube:search] Playlist Ellie Goulding & Juice WRLD Hate Me: Downloading 1 items of 1\n",
      "[download] Downloading item 1 of 1\n",
      "[youtube] Extracting URL: https://www.youtube.com/watch?v=UZwi9SHgzGY\n",
      "[youtube] UZwi9SHgzGY: Downloading webpage\n",
      "[youtube] UZwi9SHgzGY: Downloading ios player API JSON\n",
      "[youtube] UZwi9SHgzGY: Downloading android player API JSON\n"
     ]
    },
    {
     "name": "stderr",
     "output_type": "stream",
     "text": [
      "WARNING: [youtube] YouTube said: ERROR - Precondition check failed.\n",
      "WARNING: [youtube] HTTP Error 400: Bad Request. Retrying (1/3)...\n"
     ]
    },
    {
     "name": "stdout",
     "output_type": "stream",
     "text": [
      "[youtube] UZwi9SHgzGY: Downloading android player API JSON\n",
      "[youtube] UZwi9SHgzGY: Downloading m3u8 information\n",
      "[info] UZwi9SHgzGY: Downloading 1 format(s): 251\n",
      "[download] Destination: C:\\Users\\arwin\\Documents\\dev\\APS360-PROJECT\\data\\billboard_audio\\Ellie Goulding & Juice WRLD_Hate Me\\Ellie Goulding & Juice WRLD_Hate Me.webm\n",
      "[download] 100% of    3.32MiB in 00:00:00 at 15.39MiB/s  \n",
      "[download] Finished downloading playlist: Ellie Goulding & Juice WRLD Hate Me\n",
      "[generic] Extracting URL: DaBaby Featuring Offset Baby Sitter\n",
      "[youtube:search] Extracting URL: ytsearch:DaBaby Featuring Offset Baby Sitter\n",
      "[download] Downloading playlist: DaBaby Featuring Offset Baby Sitter\n",
      "[youtube:search] query \"DaBaby Featuring Offset Baby Sitter\": Downloading web client config\n",
      "[youtube:search] query \"DaBaby Featuring Offset Baby Sitter\" page 1: Downloading API JSON\n",
      "[youtube:search] Playlist DaBaby Featuring Offset Baby Sitter: Downloading 1 items of 1\n",
      "[download] Downloading item 1 of 1\n",
      "[youtube] Extracting URL: https://www.youtube.com/watch?v=EqHYnsVHXUA\n",
      "[youtube] EqHYnsVHXUA: Downloading webpage\n",
      "[youtube] EqHYnsVHXUA: Downloading ios player API JSON\n",
      "[youtube] EqHYnsVHXUA: Downloading android player API JSON\n",
      "[youtube] EqHYnsVHXUA: Downloading m3u8 information\n",
      "[info] EqHYnsVHXUA: Downloading 1 format(s): 251\n",
      "[download] Destination: C:\\Users\\arwin\\Documents\\dev\\APS360-PROJECT\\data\\billboard_audio\\DaBaby Featuring Offset_Baby Sitter\\DaBaby Featuring Offset_Baby Sitter.webm\n",
      "[download] 100% of    4.91MiB in 00:00:00 at 13.52MiB/s  \n",
      "[download] Finished downloading playlist: DaBaby Featuring Offset Baby Sitter\n",
      "[generic] Extracting URL: Juice WRLD Lucid Dreams\n",
      "[youtube:search] Extracting URL: ytsearch:Juice WRLD Lucid Dreams\n",
      "[download] Downloading playlist: Juice WRLD Lucid Dreams\n",
      "[youtube:search] query \"Juice WRLD Lucid Dreams\": Downloading web client config\n",
      "[youtube:search] query \"Juice WRLD Lucid Dreams\" page 1: Downloading API JSON\n",
      "[youtube:search] Playlist Juice WRLD Lucid Dreams: Downloading 1 items of 1\n",
      "[download] Downloading item 1 of 1\n",
      "[youtube] Extracting URL: https://www.youtube.com/watch?v=mzB1VGEGcSU\n",
      "[youtube] mzB1VGEGcSU: Downloading webpage\n",
      "[youtube] mzB1VGEGcSU: Downloading ios player API JSON\n",
      "[youtube] mzB1VGEGcSU: Downloading android player API JSON\n"
     ]
    },
    {
     "name": "stderr",
     "output_type": "stream",
     "text": [
      "WARNING: [youtube] YouTube said: ERROR - Precondition check failed.\n",
      "WARNING: [youtube] HTTP Error 400: Bad Request. Retrying (1/3)...\n"
     ]
    },
    {
     "name": "stdout",
     "output_type": "stream",
     "text": [
      "[youtube] mzB1VGEGcSU: Downloading android player API JSON\n"
     ]
    },
    {
     "name": "stderr",
     "output_type": "stream",
     "text": [
      "WARNING: [youtube] YouTube said: ERROR - Precondition check failed.\n",
      "WARNING: [youtube] HTTP Error 400: Bad Request. Retrying (2/3)...\n"
     ]
    },
    {
     "name": "stdout",
     "output_type": "stream",
     "text": [
      "[youtube] mzB1VGEGcSU: Downloading android player API JSON\n"
     ]
    },
    {
     "name": "stderr",
     "output_type": "stream",
     "text": [
      "WARNING: [youtube] YouTube said: ERROR - Precondition check failed.\n",
      "WARNING: [youtube] HTTP Error 400: Bad Request. Retrying (3/3)...\n"
     ]
    },
    {
     "name": "stdout",
     "output_type": "stream",
     "text": [
      "[youtube] mzB1VGEGcSU: Downloading android player API JSON\n",
      "[youtube] mzB1VGEGcSU: Downloading m3u8 information\n",
      "[info] mzB1VGEGcSU: Downloading 1 format(s): 251\n",
      "[download] Destination: C:\\Users\\arwin\\Documents\\dev\\APS360-PROJECT\\data\\billboard_audio\\Juice WRLD_Lucid Dreams\\Juice WRLD_Lucid Dreams.webm\n",
      "[download] 100% of    3.68MiB in 00:00:00 at 19.77MiB/s  \n",
      "[download] Finished downloading playlist: Juice WRLD Lucid Dreams\n",
      "[generic] Extracting URL: Harry Styles Lights Up\n",
      "[youtube:search] Extracting URL: ytsearch:Harry Styles Lights Up\n",
      "[download] Downloading playlist: Harry Styles Lights Up\n",
      "[youtube:search] query \"Harry Styles Lights Up\": Downloading web client config\n",
      "[youtube:search] query \"Harry Styles Lights Up\" page 1: Downloading API JSON\n",
      "[youtube:search] Playlist Harry Styles Lights Up: Downloading 1 items of 1\n",
      "[download] Downloading item 1 of 1\n",
      "[youtube] Extracting URL: https://www.youtube.com/watch?v=9NZvM1918_E\n",
      "[youtube] 9NZvM1918_E: Downloading webpage\n",
      "[youtube] 9NZvM1918_E: Downloading ios player API JSON\n",
      "[youtube] 9NZvM1918_E: Downloading android player API JSON\n",
      "[youtube] 9NZvM1918_E: Downloading m3u8 information\n",
      "[info] 9NZvM1918_E: Downloading 1 format(s): 251\n",
      "[download] Destination: C:\\Users\\arwin\\Documents\\dev\\APS360-PROJECT\\data\\billboard_audio\\Harry Styles_Lights Up\\Harry Styles_Lights Up.webm\n",
      "[download] 100% of    2.82MiB in 00:00:00 at 12.44MiB/s  \n",
      "[download] Finished downloading playlist: Harry Styles Lights Up\n",
      "[generic] Extracting URL: YoungBoy Never Broke Again Dirty Iyanna\n",
      "[youtube:search] Extracting URL: ytsearch:YoungBoy Never Broke Again Dirty Iyanna\n",
      "[download] Downloading playlist: YoungBoy Never Broke Again Dirty Iyanna\n",
      "[youtube:search] query \"YoungBoy Never Broke Again Dirty Iyanna\": Downloading web client config\n",
      "[youtube:search] query \"YoungBoy Never Broke Again Dirty Iyanna\" page 1: Downloading API JSON\n",
      "[youtube:search] Playlist YoungBoy Never Broke Again Dirty Iyanna: Downloading 1 items of 1\n",
      "[download] Downloading item 1 of 1\n",
      "[youtube] Extracting URL: https://www.youtube.com/watch?v=BEFS0cmVz2s\n",
      "[youtube] BEFS0cmVz2s: Downloading webpage\n",
      "[youtube] BEFS0cmVz2s: Downloading ios player API JSON\n",
      "[youtube] BEFS0cmVz2s: Downloading android player API JSON\n",
      "[youtube] BEFS0cmVz2s: Downloading m3u8 information\n",
      "[info] BEFS0cmVz2s: Downloading 1 format(s): 251\n",
      "[download] Destination: C:\\Users\\arwin\\Documents\\dev\\APS360-PROJECT\\data\\billboard_audio\\YoungBoy Never Broke Again_Dirty Iyanna\\YoungBoy Never Broke Again_Dirty Iyanna.webm\n",
      "[download] 100% of    3.53MiB in 00:00:00 at 7.53MiB/s     \n",
      "[download] Finished downloading playlist: YoungBoy Never Broke Again Dirty Iyanna\n",
      "[generic] Extracting URL: NLE Choppa Famous Hoes\n",
      "[youtube:search] Extracting URL: ytsearch:NLE Choppa Famous Hoes\n",
      "[download] Downloading playlist: NLE Choppa Famous Hoes\n",
      "[youtube:search] query \"NLE Choppa Famous Hoes\": Downloading web client config\n",
      "[youtube:search] query \"NLE Choppa Famous Hoes\" page 1: Downloading API JSON\n",
      "[youtube:search] Playlist NLE Choppa Famous Hoes: Downloading 1 items of 1\n",
      "[download] Downloading item 1 of 1\n",
      "[youtube] Extracting URL: https://www.youtube.com/watch?v=UJsllBQkcJg\n",
      "[youtube] UJsllBQkcJg: Downloading webpage\n",
      "[youtube] UJsllBQkcJg: Downloading ios player API JSON\n",
      "[youtube] UJsllBQkcJg: Downloading android player API JSON\n",
      "[youtube] UJsllBQkcJg: Downloading m3u8 information\n",
      "[info] UJsllBQkcJg: Downloading 1 format(s): 251\n",
      "[download] Destination: C:\\Users\\arwin\\Documents\\dev\\APS360-PROJECT\\data\\billboard_audio\\NLE Choppa_Famous Hoes\\NLE Choppa_Famous Hoes.webm\n",
      "[download] 100% of    2.32MiB in 00:00:00 at 9.04MiB/s     \n",
      "[download] Finished downloading playlist: NLE Choppa Famous Hoes\n",
      "[generic] Extracting URL: Harry Styles Cherry\n",
      "[youtube:search] Extracting URL: ytsearch:Harry Styles Cherry\n",
      "[download] Downloading playlist: Harry Styles Cherry\n",
      "[youtube:search] query \"Harry Styles Cherry\": Downloading web client config\n",
      "[youtube:search] query \"Harry Styles Cherry\" page 1: Downloading API JSON\n",
      "[youtube:search] Playlist Harry Styles Cherry: Downloading 1 items of 1\n",
      "[download] Downloading item 1 of 1\n",
      "[youtube] Extracting URL: https://www.youtube.com/watch?v=rGeJ73yAAhQ\n",
      "[youtube] rGeJ73yAAhQ: Downloading webpage\n",
      "[youtube] rGeJ73yAAhQ: Downloading ios player API JSON\n",
      "[youtube] rGeJ73yAAhQ: Downloading android player API JSON\n"
     ]
    },
    {
     "name": "stderr",
     "output_type": "stream",
     "text": [
      "WARNING: [youtube] YouTube said: ERROR - Precondition check failed.\n",
      "WARNING: [youtube] HTTP Error 400: Bad Request. Retrying (1/3)...\n"
     ]
    },
    {
     "name": "stdout",
     "output_type": "stream",
     "text": [
      "[youtube] rGeJ73yAAhQ: Downloading android player API JSON\n",
      "[youtube] rGeJ73yAAhQ: Downloading m3u8 information\n",
      "[info] rGeJ73yAAhQ: Downloading 1 format(s): 251\n",
      "[download] Destination: C:\\Users\\arwin\\Documents\\dev\\APS360-PROJECT\\data\\billboard_audio\\Harry Styles_Cherry\\Harry Styles_Cherry.webm\n",
      "[download] 100% of    4.24MiB in 00:00:00 at 7.94MiB/s   \n",
      "[download] Finished downloading playlist: Harry Styles Cherry\n",
      "[generic] Extracting URL: Matt Stell Prayed For You\n",
      "[youtube:search] Extracting URL: ytsearch:Matt Stell Prayed For You\n",
      "[download] Downloading playlist: Matt Stell Prayed For You\n",
      "[youtube:search] query \"Matt Stell Prayed For You\": Downloading web client config\n",
      "[youtube:search] query \"Matt Stell Prayed For You\" page 1: Downloading API JSON\n",
      "[youtube:search] Playlist Matt Stell Prayed For You: Downloading 1 items of 1\n",
      "[download] Downloading item 1 of 1\n",
      "[youtube] Extracting URL: https://www.youtube.com/watch?v=WEJs_Bqx8_o\n",
      "[youtube] WEJs_Bqx8_o: Downloading webpage\n",
      "[youtube] WEJs_Bqx8_o: Downloading ios player API JSON\n",
      "[youtube] WEJs_Bqx8_o: Downloading android player API JSON\n"
     ]
    },
    {
     "name": "stderr",
     "output_type": "stream",
     "text": [
      "WARNING: [youtube] YouTube said: ERROR - Precondition check failed.\n",
      "WARNING: [youtube] HTTP Error 400: Bad Request. Retrying (1/3)...\n"
     ]
    },
    {
     "name": "stdout",
     "output_type": "stream",
     "text": [
      "[youtube] WEJs_Bqx8_o: Downloading android player API JSON\n",
      "[youtube] WEJs_Bqx8_o: Downloading m3u8 information\n",
      "[info] WEJs_Bqx8_o: Downloading 1 format(s): 251\n",
      "[download] Destination: C:\\Users\\arwin\\Documents\\dev\\APS360-PROJECT\\data\\billboard_audio\\Matt Stell_Prayed For You\\Matt Stell_Prayed For You.webm\n",
      "[download] 100% of    3.47MiB in 00:00:00 at 8.17MiB/s     \n",
      "[download] Finished downloading playlist: Matt Stell Prayed For You\n",
      "[generic] Extracting URL: Harry Styles She\n",
      "[youtube:search] Extracting URL: ytsearch:Harry Styles She\n",
      "[download] Downloading playlist: Harry Styles She\n",
      "[youtube:search] query \"Harry Styles She\": Downloading web client config\n",
      "[youtube:search] query \"Harry Styles She\" page 1: Downloading API JSON\n",
      "[youtube:search] Playlist Harry Styles She: Downloading 1 items of 1\n",
      "[download] Downloading item 1 of 1\n",
      "[youtube] Extracting URL: https://www.youtube.com/watch?v=zQ3PeDGswz4\n",
      "[youtube] zQ3PeDGswz4: Downloading webpage\n",
      "[youtube] zQ3PeDGswz4: Downloading ios player API JSON\n",
      "[youtube] zQ3PeDGswz4: Downloading android player API JSON\n"
     ]
    },
    {
     "name": "stderr",
     "output_type": "stream",
     "text": [
      "WARNING: [youtube] YouTube said: ERROR - Precondition check failed.\n",
      "WARNING: [youtube] HTTP Error 400: Bad Request. Retrying (1/3)...\n"
     ]
    },
    {
     "name": "stdout",
     "output_type": "stream",
     "text": [
      "[youtube] zQ3PeDGswz4: Downloading android player API JSON\n",
      "[youtube] zQ3PeDGswz4: Downloading m3u8 information\n",
      "[info] zQ3PeDGswz4: Downloading 1 format(s): 251\n",
      "[download] Destination: C:\\Users\\arwin\\Documents\\dev\\APS360-PROJECT\\data\\billboard_audio\\Harry Styles_She\\Harry Styles_She.webm\n",
      "[download] 100% of    5.83MiB in 00:00:00 at 11.03MiB/s  \n",
      "[download] Finished downloading playlist: Harry Styles She\n",
      "[generic] Extracting URL: Trippie Redd Featuring Juice WRLD & YNW Melly 6 Kiss\n",
      "[youtube:search] Extracting URL: ytsearch:Trippie Redd Featuring Juice WRLD & YNW Melly 6 Kiss\n",
      "[download] Downloading playlist: Trippie Redd Featuring Juice WRLD & YNW Melly 6 Kiss\n",
      "[youtube:search] query \"Trippie Redd Featuring Juice WRLD & YNW Melly 6 Kiss\": Downloading web client config\n",
      "[youtube:search] query \"Trippie Redd Featuring Juice WRLD & YNW Melly 6 Kiss\" page 1: Downloading API JSON\n",
      "[youtube:search] Playlist Trippie Redd Featuring Juice WRLD & YNW Melly 6 Kiss: Downloading 1 items of 1\n",
      "[download] Downloading item 1 of 1\n",
      "[youtube] Extracting URL: https://www.youtube.com/watch?v=qp21I-QxM1s\n",
      "[youtube] qp21I-QxM1s: Downloading webpage\n",
      "[youtube] qp21I-QxM1s: Downloading ios player API JSON\n",
      "[youtube] qp21I-QxM1s: Downloading android player API JSON\n",
      "[youtube] qp21I-QxM1s: Downloading m3u8 information\n",
      "[info] qp21I-QxM1s: Downloading 1 format(s): 251\n",
      "[download] Destination: C:\\Users\\arwin\\Documents\\dev\\APS360-PROJECT\\data\\billboard_audio\\Trippie Redd Featuring Juice WRLD & YNW Melly_6 Kiss\\Trippie Redd Featuring Juice WRLD & YNW Melly_6 Kiss.webm\n",
      "[download] 100% of    3.37MiB in 00:00:00 at 15.90MiB/s  \n",
      "[download] Finished downloading playlist: Trippie Redd Featuring Juice WRLD & YNW Melly 6 Kiss\n",
      "[generic] Extracting URL: Juice WRLD Legends\n",
      "[youtube:search] Extracting URL: ytsearch:Juice WRLD Legends\n",
      "[download] Downloading playlist: Juice WRLD Legends\n",
      "[youtube:search] query \"Juice WRLD Legends\": Downloading web client config\n",
      "[youtube:search] query \"Juice WRLD Legends\" page 1: Downloading API JSON\n",
      "[youtube:search] Playlist Juice WRLD Legends: Downloading 1 items of 1\n",
      "[download] Downloading item 1 of 1\n",
      "[youtube] Extracting URL: https://www.youtube.com/watch?v=dIzgiclddlM\n",
      "[youtube] dIzgiclddlM: Downloading webpage\n",
      "[youtube] dIzgiclddlM: Downloading ios player API JSON\n",
      "[youtube] dIzgiclddlM: Downloading android player API JSON\n",
      "[youtube] dIzgiclddlM: Downloading m3u8 information\n",
      "[info] dIzgiclddlM: Downloading 1 format(s): 251\n",
      "[download] Destination: C:\\Users\\arwin\\Documents\\dev\\APS360-PROJECT\\data\\billboard_audio\\Juice WRLD_Legends\\Juice WRLD_Legends.webm\n",
      "[download] 100% of    3.05MiB in 00:00:00 at 14.50MiB/s  \n",
      "[download] Finished downloading playlist: Juice WRLD Legends\n",
      "[generic] Extracting URL: Juice WRLD Robbery\n",
      "[youtube:search] Extracting URL: ytsearch:Juice WRLD Robbery\n",
      "[download] Downloading playlist: Juice WRLD Robbery\n",
      "[youtube:search] query \"Juice WRLD Robbery\": Downloading web client config\n",
      "[youtube:search] query \"Juice WRLD Robbery\" page 1: Downloading API JSON\n",
      "[youtube:search] Playlist Juice WRLD Robbery: Downloading 1 items of 1\n",
      "[download] Downloading item 1 of 1\n",
      "[youtube] Extracting URL: https://www.youtube.com/watch?v=iI34LYmJ1Fs\n",
      "[youtube] iI34LYmJ1Fs: Downloading webpage\n",
      "[youtube] iI34LYmJ1Fs: Downloading ios player API JSON\n",
      "[youtube] iI34LYmJ1Fs: Downloading android player API JSON\n",
      "[youtube] iI34LYmJ1Fs: Downloading m3u8 information\n",
      "[info] iI34LYmJ1Fs: Downloading 1 format(s): 251\n",
      "[download] Destination: C:\\Users\\arwin\\Documents\\dev\\APS360-PROJECT\\data\\billboard_audio\\Juice WRLD_Robbery\\Juice WRLD_Robbery.webm\n",
      "[download] 100% of    3.93MiB in 00:00:00 at 14.62MiB/s  \n",
      "[download] Finished downloading playlist: Juice WRLD Robbery\n",
      "[generic] Extracting URL: Taylor Swift Christmas Tree Farm\n",
      "[youtube:search] Extracting URL: ytsearch:Taylor Swift Christmas Tree Farm\n",
      "[download] Downloading playlist: Taylor Swift Christmas Tree Farm\n",
      "[youtube:search] query \"Taylor Swift Christmas Tree Farm\": Downloading web client config\n",
      "[youtube:search] query \"Taylor Swift Christmas Tree Farm\" page 1: Downloading API JSON\n",
      "[youtube:search] Playlist Taylor Swift Christmas Tree Farm: Downloading 1 items of 1\n",
      "[download] Downloading item 1 of 1\n",
      "[youtube] Extracting URL: https://www.youtube.com/watch?v=mN3rDTAdM2o\n",
      "[youtube] mN3rDTAdM2o: Downloading webpage\n",
      "[youtube] mN3rDTAdM2o: Downloading ios player API JSON\n",
      "[youtube] mN3rDTAdM2o: Downloading android player API JSON\n"
     ]
    },
    {
     "name": "stderr",
     "output_type": "stream",
     "text": [
      "WARNING: [youtube] YouTube said: ERROR - Precondition check failed.\n",
      "WARNING: [youtube] HTTP Error 400: Bad Request. Retrying (1/3)...\n"
     ]
    },
    {
     "name": "stdout",
     "output_type": "stream",
     "text": [
      "[youtube] mN3rDTAdM2o: Downloading android player API JSON\n"
     ]
    },
    {
     "name": "stderr",
     "output_type": "stream",
     "text": [
      "WARNING: [youtube] YouTube said: ERROR - Precondition check failed.\n",
      "WARNING: [youtube] HTTP Error 400: Bad Request. Retrying (2/3)...\n"
     ]
    },
    {
     "name": "stdout",
     "output_type": "stream",
     "text": [
      "[youtube] mN3rDTAdM2o: Downloading android player API JSON\n",
      "[youtube] mN3rDTAdM2o: Downloading m3u8 information\n",
      "[info] mN3rDTAdM2o: Downloading 1 format(s): 251\n",
      "[download] Destination: C:\\Users\\arwin\\Documents\\dev\\APS360-PROJECT\\data\\billboard_audio\\Taylor Swift_Christmas Tree Farm\\Taylor Swift_Christmas Tree Farm.webm\n",
      "[download] 100% of    3.63MiB in 00:00:00 at 13.94MiB/s  \n",
      "[download] Finished downloading playlist: Taylor Swift Christmas Tree Farm\n",
      "[generic] Extracting URL: XXXTENTACION Featuring PnB Rock & Trippie Redd Bad Vibes Forever\n",
      "[youtube:search] Extracting URL: ytsearch:XXXTENTACION Featuring PnB Rock & Trippie Redd Bad Vibes Forever\n",
      "[download] Downloading playlist: XXXTENTACION Featuring PnB Rock & Trippie Redd Bad Vibes Forever\n",
      "[youtube:search] query \"XXXTENTACION Featuring PnB Rock & Trippie Redd Bad Vibes Forever\": Downloading web client config\n",
      "[youtube:search] query \"XXXTENTACION Featuring PnB Rock & Trippie Redd Bad Vibes Forever\" page 1: Downloading API JSON\n",
      "[youtube:search] Playlist XXXTENTACION Featuring PnB Rock & Trippie Redd Bad Vibes Forever: Downloading 1 items of 1\n",
      "[download] Downloading item 1 of 1\n",
      "[youtube] Extracting URL: https://www.youtube.com/watch?v=LIgg0hBBNPM\n",
      "[youtube] LIgg0hBBNPM: Downloading webpage\n",
      "[youtube] LIgg0hBBNPM: Downloading ios player API JSON\n",
      "[youtube] LIgg0hBBNPM: Downloading android player API JSON\n",
      "[youtube] LIgg0hBBNPM: Downloading m3u8 information\n",
      "[info] LIgg0hBBNPM: Downloading 1 format(s): 251\n",
      "[download] Destination: C:\\Users\\arwin\\Documents\\dev\\APS360-PROJECT\\data\\billboard_audio\\XXXTENTACION Featuring PnB Rock & Trippie Redd_Bad Vibes Forever\\XXXTENTACION Featuring PnB Rock & Trippie Redd_Bad Vibes Forever.webm\n",
      "[download] 100% of    2.43MiB in 00:00:00 at 10.68MiB/s    \n",
      "[download] Finished downloading playlist: XXXTENTACION Featuring PnB Rock & Trippie Redd Bad Vibes Forever\n",
      "[generic] Extracting URL: Juice WRLD Empty\n",
      "[youtube:search] Extracting URL: ytsearch:Juice WRLD Empty\n",
      "[download] Downloading playlist: Juice WRLD Empty\n",
      "[youtube:search] query \"Juice WRLD Empty\": Downloading web client config\n",
      "[youtube:search] query \"Juice WRLD Empty\" page 1: Downloading API JSON\n",
      "[youtube:search] Playlist Juice WRLD Empty: Downloading 1 items of 1\n",
      "[download] Downloading item 1 of 1\n",
      "[youtube] Extracting URL: https://www.youtube.com/watch?v=9LSyWM2CL-U\n",
      "[youtube] 9LSyWM2CL-U: Downloading webpage\n",
      "[youtube] 9LSyWM2CL-U: Downloading ios player API JSON\n",
      "[youtube] 9LSyWM2CL-U: Downloading android player API JSON\n"
     ]
    },
    {
     "name": "stderr",
     "output_type": "stream",
     "text": [
      "WARNING: [youtube] YouTube said: ERROR - Precondition check failed.\n",
      "WARNING: [youtube] HTTP Error 400: Bad Request. Retrying (1/3)...\n"
     ]
    },
    {
     "name": "stdout",
     "output_type": "stream",
     "text": [
      "[youtube] 9LSyWM2CL-U: Downloading android player API JSON\n"
     ]
    },
    {
     "name": "stderr",
     "output_type": "stream",
     "text": [
      "WARNING: [youtube] YouTube said: ERROR - Precondition check failed.\n",
      "WARNING: [youtube] HTTP Error 400: Bad Request. Retrying (2/3)...\n"
     ]
    },
    {
     "name": "stdout",
     "output_type": "stream",
     "text": [
      "[youtube] 9LSyWM2CL-U: Downloading android player API JSON\n",
      "[youtube] 9LSyWM2CL-U: Downloading m3u8 information\n",
      "[info] 9LSyWM2CL-U: Downloading 1 format(s): 251\n",
      "[download] Destination: C:\\Users\\arwin\\Documents\\dev\\APS360-PROJECT\\data\\billboard_audio\\Juice WRLD_Empty\\Juice WRLD_Empty.webm\n",
      "[download] 100% of    4.44MiB in 00:00:00 at 12.59MiB/s  \n",
      "[download] Finished downloading playlist: Juice WRLD Empty\n",
      "[generic] Extracting URL: Idina Menzel & Evan Rachel Wood Show Yourself\n",
      "[youtube:search] Extracting URL: ytsearch:Idina Menzel & Evan Rachel Wood Show Yourself\n",
      "[download] Downloading playlist: Idina Menzel & Evan Rachel Wood Show Yourself\n",
      "[youtube:search] query \"Idina Menzel & Evan Rachel Wood Show Yourself\": Downloading web client config\n",
      "[youtube:search] query \"Idina Menzel & Evan Rachel Wood Show Yourself\" page 1: Downloading API JSON\n",
      "[youtube:search] Playlist Idina Menzel & Evan Rachel Wood Show Yourself: Downloading 1 items of 1\n",
      "[download] Downloading item 1 of 1\n",
      "[youtube] Extracting URL: https://www.youtube.com/watch?v=nrZxwPwmgrw\n",
      "[youtube] nrZxwPwmgrw: Downloading webpage\n",
      "[youtube] nrZxwPwmgrw: Downloading ios player API JSON\n",
      "[youtube] nrZxwPwmgrw: Downloading android player API JSON\n"
     ]
    },
    {
     "name": "stderr",
     "output_type": "stream",
     "text": [
      "WARNING: [youtube] YouTube said: ERROR - Precondition check failed.\n",
      "WARNING: [youtube] HTTP Error 400: Bad Request. Retrying (1/3)...\n"
     ]
    },
    {
     "name": "stdout",
     "output_type": "stream",
     "text": [
      "[youtube] nrZxwPwmgrw: Downloading android player API JSON\n"
     ]
    },
    {
     "name": "stderr",
     "output_type": "stream",
     "text": [
      "WARNING: [youtube] YouTube said: ERROR - Precondition check failed.\n",
      "WARNING: [youtube] HTTP Error 400: Bad Request. Retrying (2/3)...\n"
     ]
    },
    {
     "name": "stdout",
     "output_type": "stream",
     "text": [
      "[youtube] nrZxwPwmgrw: Downloading android player API JSON\n",
      "[youtube] nrZxwPwmgrw: Downloading m3u8 information\n",
      "[info] nrZxwPwmgrw: Downloading 1 format(s): 251\n",
      "[download] Destination: C:\\Users\\arwin\\Documents\\dev\\APS360-PROJECT\\data\\billboard_audio\\Idina Menzel & Evan Rachel Wood_Show Yourself\\Idina Menzel & Evan Rachel Wood_Show Yourself.webm\n",
      "[download] 100% of    4.50MiB in 00:00:00 at 11.84MiB/s  \n",
      "[download] Finished downloading playlist: Idina Menzel & Evan Rachel Wood Show Yourself\n",
      "[generic] Extracting URL: Keith Urban We Were\n",
      "[youtube:search] Extracting URL: ytsearch:Keith Urban We Were\n",
      "[download] Downloading playlist: Keith Urban We Were\n",
      "[youtube:search] query \"Keith Urban We Were\": Downloading web client config\n",
      "[youtube:search] query \"Keith Urban We Were\" page 1: Downloading API JSON\n",
      "[youtube:search] Playlist Keith Urban We Were: Downloading 1 items of 1\n",
      "[download] Downloading item 1 of 1\n",
      "[youtube] Extracting URL: https://www.youtube.com/watch?v=a5qqslX-hBc\n",
      "[youtube] a5qqslX-hBc: Downloading webpage\n",
      "[youtube] a5qqslX-hBc: Downloading ios player API JSON\n",
      "[youtube] a5qqslX-hBc: Downloading android player API JSON\n",
      "[youtube] a5qqslX-hBc: Downloading m3u8 information\n",
      "[info] a5qqslX-hBc: Downloading 1 format(s): 251\n",
      "[download] Destination: C:\\Users\\arwin\\Documents\\dev\\APS360-PROJECT\\data\\billboard_audio\\Keith Urban_We Were\\Keith Urban_We Were.webm\n",
      "[download] 100% of    3.14MiB in 00:00:00 at 3.49MiB/s   \n",
      "[download] Finished downloading playlist: Keith Urban We Were\n",
      "[generic] Extracting URL: Fat Joe & Dre Featuring Eminem & Mary J_ Blige Lord Above\n",
      "[youtube:search] Extracting URL: ytsearch:Fat Joe & Dre Featuring Eminem & Mary J_ Blige Lord Above\n",
      "[download] Downloading playlist: Fat Joe & Dre Featuring Eminem & Mary J_ Blige Lord Above\n",
      "[youtube:search] query \"Fat Joe & Dre Featuring Eminem & Mary J_ Blige Lord Above\": Downloading web client config\n",
      "[youtube:search] query \"Fat Joe & Dre Featuring Eminem & Mary J_ Blige Lord Above\" page 1: Downloading API JSON\n",
      "[youtube:search] Playlist Fat Joe & Dre Featuring Eminem & Mary J_ Blige Lord Above: Downloading 1 items of 1\n",
      "[download] Downloading item 1 of 1\n",
      "[youtube] Extracting URL: https://www.youtube.com/watch?v=ZXosXPTBTN0\n",
      "[youtube] ZXosXPTBTN0: Downloading webpage\n",
      "[youtube] ZXosXPTBTN0: Downloading ios player API JSON\n",
      "[youtube] ZXosXPTBTN0: Downloading android player API JSON\n"
     ]
    },
    {
     "name": "stderr",
     "output_type": "stream",
     "text": [
      "WARNING: [youtube] YouTube said: ERROR - Precondition check failed.\n",
      "WARNING: [youtube] HTTP Error 400: Bad Request. Retrying (1/3)...\n"
     ]
    },
    {
     "name": "stdout",
     "output_type": "stream",
     "text": [
      "[youtube] ZXosXPTBTN0: Downloading android player API JSON\n",
      "[youtube] ZXosXPTBTN0: Downloading m3u8 information\n",
      "[info] ZXosXPTBTN0: Downloading 1 format(s): 251\n",
      "[download] Destination: C:\\Users\\arwin\\Documents\\dev\\APS360-PROJECT\\data\\billboard_audio\\Fat Joe & Dre Featuring Eminem & Mary J_ Blige_Lord Above\\Fat Joe & Dre Featuring Eminem & Mary J_ Blige_Lord Above.webm\n",
      "[download] 100% of    4.75MiB in 00:00:00 at 16.10MiB/s  \n",
      "[download] Finished downloading playlist: Fat Joe & Dre Featuring Eminem & Mary J_ Blige Lord Above\n",
      "[generic] Extracting URL: Roddy Ricch Big Stepper\n",
      "[youtube:search] Extracting URL: ytsearch:Roddy Ricch Big Stepper\n",
      "[download] Downloading playlist: Roddy Ricch Big Stepper\n",
      "[youtube:search] query \"Roddy Ricch Big Stepper\": Downloading web client config\n",
      "[youtube:search] query \"Roddy Ricch Big Stepper\" page 1: Downloading API JSON\n",
      "[youtube:search] Playlist Roddy Ricch Big Stepper: Downloading 1 items of 1\n",
      "[download] Downloading item 1 of 1\n",
      "[youtube] Extracting URL: https://www.youtube.com/watch?v=lzDDI-w_S24\n",
      "[youtube] lzDDI-w_S24: Downloading webpage\n",
      "[youtube] lzDDI-w_S24: Downloading ios player API JSON\n",
      "[youtube] lzDDI-w_S24: Downloading android player API JSON\n"
     ]
    },
    {
     "name": "stderr",
     "output_type": "stream",
     "text": [
      "WARNING: [youtube] YouTube said: ERROR - Precondition check failed.\n",
      "WARNING: [youtube] HTTP Error 400: Bad Request. Retrying (1/3)...\n"
     ]
    },
    {
     "name": "stdout",
     "output_type": "stream",
     "text": [
      "[youtube] lzDDI-w_S24: Downloading android player API JSON\n",
      "[youtube] lzDDI-w_S24: Downloading m3u8 information\n",
      "[info] lzDDI-w_S24: Downloading 1 format(s): 251\n",
      "[download] Destination: C:\\Users\\arwin\\Documents\\dev\\APS360-PROJECT\\data\\billboard_audio\\Roddy Ricch_Big Stepper\\Roddy Ricch_Big Stepper.webm\n",
      "[download] 100% of    3.05MiB in 00:00:00 at 9.28MiB/s   \n",
      "[download] Finished downloading playlist: Roddy Ricch Big Stepper\n",
      "[generic] Extracting URL: Rod Wave & Kevin Gates Cuban Links\n",
      "[youtube:search] Extracting URL: ytsearch:Rod Wave & Kevin Gates Cuban Links\n",
      "[download] Downloading playlist: Rod Wave & Kevin Gates Cuban Links\n",
      "[youtube:search] query \"Rod Wave & Kevin Gates Cuban Links\": Downloading web client config\n",
      "[youtube:search] query \"Rod Wave & Kevin Gates Cuban Links\" page 1: Downloading API JSON\n",
      "[youtube:search] Playlist Rod Wave & Kevin Gates Cuban Links: Downloading 1 items of 1\n",
      "[download] Downloading item 1 of 1\n",
      "[youtube] Extracting URL: https://www.youtube.com/watch?v=QVU1vUNT2QY\n",
      "[youtube] QVU1vUNT2QY: Downloading webpage\n",
      "[youtube] QVU1vUNT2QY: Downloading ios player API JSON\n",
      "[youtube] QVU1vUNT2QY: Downloading android player API JSON\n"
     ]
    },
    {
     "name": "stderr",
     "output_type": "stream",
     "text": [
      "WARNING: [youtube] YouTube said: ERROR - Precondition check failed.\n",
      "WARNING: [youtube] HTTP Error 400: Bad Request. Retrying (1/3)...\n"
     ]
    },
    {
     "name": "stdout",
     "output_type": "stream",
     "text": [
      "[youtube] QVU1vUNT2QY: Downloading android player API JSON\n"
     ]
    },
    {
     "name": "stderr",
     "output_type": "stream",
     "text": [
      "WARNING: [youtube] YouTube said: ERROR - Precondition check failed.\n",
      "WARNING: [youtube] HTTP Error 400: Bad Request. Retrying (2/3)...\n"
     ]
    },
    {
     "name": "stdout",
     "output_type": "stream",
     "text": [
      "[youtube] QVU1vUNT2QY: Downloading android player API JSON\n",
      "[youtube] QVU1vUNT2QY: Downloading m3u8 information\n",
      "[info] QVU1vUNT2QY: Downloading 1 format(s): 251\n",
      "[download] Destination: C:\\Users\\arwin\\Documents\\dev\\APS360-PROJECT\\data\\billboard_audio\\Rod Wave & Kevin Gates_Cuban Links\\Rod Wave & Kevin Gates_Cuban Links.webm\n",
      "[download] 100% of    3.15MiB in 00:00:00 at 15.09MiB/s  \n",
      "[download] Finished downloading playlist: Rod Wave & Kevin Gates Cuban Links\n",
      "[generic] Extracting URL: Sam Smith How Do You Sleep_\n",
      "[youtube:search] Extracting URL: ytsearch:Sam Smith How Do You Sleep_\n",
      "[download] Downloading playlist: Sam Smith How Do You Sleep_\n",
      "[youtube:search] query \"Sam Smith How Do You Sleep_\": Downloading web client config\n",
      "[youtube:search] query \"Sam Smith How Do You Sleep_\" page 1: Downloading API JSON\n",
      "[youtube:search] Playlist Sam Smith How Do You Sleep_: Downloading 1 items of 1\n",
      "[download] Downloading item 1 of 1\n",
      "[youtube] Extracting URL: https://www.youtube.com/watch?v=PmYypVozQb4\n",
      "[youtube] PmYypVozQb4: Downloading webpage\n",
      "[youtube] PmYypVozQb4: Downloading ios player API JSON\n",
      "[youtube] PmYypVozQb4: Downloading android player API JSON\n",
      "[youtube] PmYypVozQb4: Downloading m3u8 information\n",
      "[info] PmYypVozQb4: Downloading 1 format(s): 251\n",
      "[download] Destination: C:\\Users\\arwin\\Documents\\dev\\APS360-PROJECT\\data\\billboard_audio\\Sam Smith_How Do You Sleep_\\Sam Smith_How Do You Sleep_.webm\n",
      "[download] 100% of    3.67MiB in 00:00:00 at 10.65MiB/s  \n",
      "[download] Finished downloading playlist: Sam Smith How Do You Sleep_\n",
      "[generic] Extracting URL: NF Time\n",
      "[youtube:search] Extracting URL: ytsearch:NF Time\n",
      "[download] Downloading playlist: NF Time\n",
      "[youtube:search] query \"NF Time\": Downloading web client config\n",
      "[youtube:search] query \"NF Time\" page 1: Downloading API JSON\n",
      "[youtube:search] Playlist NF Time: Downloading 1 items of 1\n",
      "[download] Downloading item 1 of 1\n",
      "[youtube] Extracting URL: https://www.youtube.com/watch?v=E1ZVSFfCk9g\n",
      "[youtube] E1ZVSFfCk9g: Downloading webpage\n",
      "[youtube] E1ZVSFfCk9g: Downloading ios player API JSON\n",
      "[youtube] E1ZVSFfCk9g: Downloading android player API JSON\n",
      "[youtube] E1ZVSFfCk9g: Downloading m3u8 information\n",
      "[info] E1ZVSFfCk9g: Downloading 1 format(s): 251\n",
      "[download] Destination: C:\\Users\\arwin\\Documents\\dev\\APS360-PROJECT\\data\\billboard_audio\\NF_Time\\NF_Time.webm\n",
      "[download] 100% of    3.95MiB in 00:00:00 at 13.77MiB/s  \n",
      "[download] Finished downloading playlist: NF Time\n",
      "[generic] Extracting URL: Billie Eilish All The Good Girls Go To Hell\n",
      "[youtube:search] Extracting URL: ytsearch:Billie Eilish All The Good Girls Go To Hell\n",
      "[download] Downloading playlist: Billie Eilish All The Good Girls Go To Hell\n",
      "[youtube:search] query \"Billie Eilish All The Good Girls Go To Hell\": Downloading web client config\n",
      "[youtube:search] query \"Billie Eilish All The Good Girls Go To Hell\" page 1: Downloading API JSON\n",
      "[youtube:search] Playlist Billie Eilish All The Good Girls Go To Hell: Downloading 1 items of 1\n",
      "[download] Downloading item 1 of 1\n",
      "[youtube] Extracting URL: https://www.youtube.com/watch?v=-PZsSWwc9xA\n",
      "[youtube] -PZsSWwc9xA: Downloading webpage\n",
      "[youtube] -PZsSWwc9xA: Downloading ios player API JSON\n",
      "[youtube] -PZsSWwc9xA: Downloading android player API JSON\n",
      "[youtube] -PZsSWwc9xA: Downloading m3u8 information\n",
      "[info] -PZsSWwc9xA: Downloading 1 format(s): 251\n",
      "[download] Destination: C:\\Users\\arwin\\Documents\\dev\\APS360-PROJECT\\data\\billboard_audio\\Billie Eilish_All The Good Girls Go To Hell\\Billie Eilish_All The Good Girls Go To Hell.webm\n",
      "[download] 100% of    3.47MiB in 00:00:00 at 15.73MiB/s    \n",
      "[download] Finished downloading playlist: Billie Eilish All The Good Girls Go To Hell\n",
      "[generic] Extracting URL: Trippie Redd Who Needs Love\n",
      "[youtube:search] Extracting URL: ytsearch:Trippie Redd Who Needs Love\n",
      "[download] Downloading playlist: Trippie Redd Who Needs Love\n",
      "[youtube:search] query \"Trippie Redd Who Needs Love\": Downloading web client config\n",
      "[youtube:search] query \"Trippie Redd Who Needs Love\" page 1: Downloading API JSON\n",
      "[youtube:search] Playlist Trippie Redd Who Needs Love: Downloading 1 items of 1\n",
      "[download] Downloading item 1 of 1\n",
      "[youtube] Extracting URL: https://www.youtube.com/watch?v=uwJ4C2k9P5M\n",
      "[youtube] uwJ4C2k9P5M: Downloading webpage\n",
      "[youtube] uwJ4C2k9P5M: Downloading ios player API JSON\n",
      "[youtube] uwJ4C2k9P5M: Downloading android player API JSON\n",
      "[youtube] uwJ4C2k9P5M: Downloading m3u8 information\n",
      "[info] uwJ4C2k9P5M: Downloading 1 format(s): 251\n",
      "[download] Destination: C:\\Users\\arwin\\Documents\\dev\\APS360-PROJECT\\data\\billboard_audio\\Trippie Redd_Who Needs Love\\Trippie Redd_Who Needs Love.webm\n",
      "[download] 100% of    2.72MiB in 00:00:00 at 8.24MiB/s   \n",
      "[download] Finished downloading playlist: Trippie Redd Who Needs Love\n",
      "[generic] Extracting URL: Kanye West Follow God\n",
      "[youtube:search] Extracting URL: ytsearch:Kanye West Follow God\n",
      "[download] Downloading playlist: Kanye West Follow God\n",
      "[youtube:search] query \"Kanye West Follow God\": Downloading web client config\n",
      "[youtube:search] query \"Kanye West Follow God\" page 1: Downloading API JSON\n",
      "[youtube:search] Playlist Kanye West Follow God: Downloading 1 items of 1\n",
      "[download] Downloading item 1 of 1\n",
      "[youtube] Extracting URL: https://www.youtube.com/watch?v=ivCY3Ec4iaU\n",
      "[youtube] ivCY3Ec4iaU: Downloading webpage\n",
      "[youtube] ivCY3Ec4iaU: Downloading ios player API JSON\n",
      "[youtube] ivCY3Ec4iaU: Downloading android player API JSON\n",
      "[youtube] ivCY3Ec4iaU: Downloading m3u8 information\n",
      "[info] ivCY3Ec4iaU: Downloading 1 format(s): 251\n",
      "[download] Destination: C:\\Users\\arwin\\Documents\\dev\\APS360-PROJECT\\data\\billboard_audio\\Kanye West_Follow God\\Kanye West_Follow God.webm\n",
      "[download] 100% of    2.19MiB in 00:00:00 at 16.32MiB/s  \n",
      "[download] Finished downloading playlist: Kanye West Follow God\n",
      "[generic] Extracting URL: Lil Tjay F_N\n",
      "[youtube:search] Extracting URL: ytsearch:Lil Tjay F_N\n",
      "[download] Downloading playlist: Lil Tjay F_N\n",
      "[youtube:search] query \"Lil Tjay F_N\": Downloading web client config\n",
      "[youtube:search] query \"Lil Tjay F_N\" page 1: Downloading API JSON\n",
      "[youtube:search] Playlist Lil Tjay F_N: Downloading 1 items of 1\n",
      "[download] Downloading item 1 of 1\n",
      "[youtube] Extracting URL: https://www.youtube.com/watch?v=R9RtTGzs5EE\n",
      "[youtube] R9RtTGzs5EE: Downloading webpage\n",
      "[youtube] R9RtTGzs5EE: Downloading ios player API JSON\n",
      "[youtube] R9RtTGzs5EE: Downloading android player API JSON\n",
      "[youtube] R9RtTGzs5EE: Downloading m3u8 information\n",
      "[info] R9RtTGzs5EE: Downloading 1 format(s): 251\n",
      "[download] Destination: C:\\Users\\arwin\\Documents\\dev\\APS360-PROJECT\\data\\billboard_audio\\Lil Tjay_F_N\\Lil Tjay_F_N.webm\n",
      "[download] 100% of    3.96MiB in 00:00:00 at 14.31MiB/s    \n",
      "[download] Finished downloading playlist: Lil Tjay F_N\n",
      "[generic] Extracting URL: J Balvin & Bad Bunny La Cancion\n",
      "[youtube:search] Extracting URL: ytsearch:J Balvin & Bad Bunny La Cancion\n",
      "[download] Downloading playlist: J Balvin & Bad Bunny La Cancion\n",
      "[youtube:search] query \"J Balvin & Bad Bunny La Cancion\": Downloading web client config\n",
      "[youtube:search] query \"J Balvin & Bad Bunny La Cancion\" page 1: Downloading API JSON\n",
      "[youtube:search] Playlist J Balvin & Bad Bunny La Cancion: Downloading 1 items of 1\n",
      "[download] Downloading item 1 of 1\n",
      "[youtube] Extracting URL: https://www.youtube.com/watch?v=osTJc5e1Cyo\n",
      "[youtube] osTJc5e1Cyo: Downloading webpage\n",
      "[youtube] osTJc5e1Cyo: Downloading ios player API JSON\n",
      "[youtube] osTJc5e1Cyo: Downloading android player API JSON\n"
     ]
    },
    {
     "name": "stderr",
     "output_type": "stream",
     "text": [
      "WARNING: [youtube] YouTube said: ERROR - Precondition check failed.\n",
      "WARNING: [youtube] HTTP Error 400: Bad Request. Retrying (1/3)...\n"
     ]
    },
    {
     "name": "stdout",
     "output_type": "stream",
     "text": [
      "[youtube] osTJc5e1Cyo: Downloading android player API JSON\n"
     ]
    },
    {
     "name": "stderr",
     "output_type": "stream",
     "text": [
      "WARNING: [youtube] YouTube said: ERROR - Precondition check failed.\n",
      "WARNING: [youtube] HTTP Error 400: Bad Request. Retrying (2/3)...\n"
     ]
    },
    {
     "name": "stdout",
     "output_type": "stream",
     "text": [
      "[youtube] osTJc5e1Cyo: Downloading android player API JSON\n",
      "[youtube] osTJc5e1Cyo: Downloading m3u8 information\n",
      "[info] osTJc5e1Cyo: Downloading 1 format(s): 251\n",
      "[download] Destination: C:\\Users\\arwin\\Documents\\dev\\APS360-PROJECT\\data\\billboard_audio\\J Balvin & Bad Bunny_La Cancion\\J Balvin & Bad Bunny_La Cancion.webm\n",
      "[download] 100% of    4.34MiB in 00:00:00 at 13.94MiB/s  \n",
      "[download] Finished downloading playlist: J Balvin & Bad Bunny La Cancion\n",
      "[generic] Extracting URL: Post Malone Featuring Young Thug Goodbyes\n",
      "[youtube:search] Extracting URL: ytsearch:Post Malone Featuring Young Thug Goodbyes\n",
      "[download] Downloading playlist: Post Malone Featuring Young Thug Goodbyes\n",
      "[youtube:search] query \"Post Malone Featuring Young Thug Goodbyes\": Downloading web client config\n",
      "[youtube:search] query \"Post Malone Featuring Young Thug Goodbyes\" page 1: Downloading API JSON\n",
      "[youtube:search] Playlist Post Malone Featuring Young Thug Goodbyes: Downloading 1 items of 1\n",
      "[download] Downloading item 1 of 1\n",
      "[youtube] Extracting URL: https://www.youtube.com/watch?v=ba7mB8oueCY\n",
      "[youtube] ba7mB8oueCY: Downloading webpage\n",
      "[youtube] ba7mB8oueCY: Downloading ios player API JSON\n",
      "[youtube] ba7mB8oueCY: Downloading android player API JSON\n",
      "[youtube] ba7mB8oueCY: Downloading m3u8 information\n",
      "[info] ba7mB8oueCY: Downloading 1 format(s): 251\n",
      "[download] Destination: C:\\Users\\arwin\\Documents\\dev\\APS360-PROJECT\\data\\billboard_audio\\Post Malone Featuring Young Thug_Goodbyes\\Post Malone Featuring Young Thug_Goodbyes.webm\n",
      "[download] 100% of    4.13MiB in 00:00:00 at 18.99MiB/s  \n",
      "[download] Finished downloading playlist: Post Malone Featuring Young Thug Goodbyes\n",
      "[generic] Extracting URL: Marshmello & Kane Brown One Thing Right\n",
      "[youtube:search] Extracting URL: ytsearch:Marshmello & Kane Brown One Thing Right\n",
      "[download] Downloading playlist: Marshmello & Kane Brown One Thing Right\n",
      "[youtube:search] query \"Marshmello & Kane Brown One Thing Right\": Downloading web client config\n",
      "[youtube:search] query \"Marshmello & Kane Brown One Thing Right\" page 1: Downloading API JSON\n",
      "[youtube:search] Playlist Marshmello & Kane Brown One Thing Right: Downloading 1 items of 1\n",
      "[download] Downloading item 1 of 1\n",
      "[youtube] Extracting URL: https://www.youtube.com/watch?v=29a6o5vRKVM\n",
      "[youtube] 29a6o5vRKVM: Downloading webpage\n",
      "[youtube] 29a6o5vRKVM: Downloading ios player API JSON\n",
      "[youtube] 29a6o5vRKVM: Downloading android player API JSON\n",
      "[youtube] 29a6o5vRKVM: Downloading m3u8 information\n",
      "[info] 29a6o5vRKVM: Downloading 1 format(s): 251\n",
      "[download] Destination: C:\\Users\\arwin\\Documents\\dev\\APS360-PROJECT\\data\\billboard_audio\\Marshmello & Kane Brown_One Thing Right\\Marshmello & Kane Brown_One Thing Right.webm\n",
      "[download] 100% of    3.19MiB in 00:00:00 at 9.42MiB/s   \n",
      "[download] Finished downloading playlist: Marshmello & Kane Brown One Thing Right\n",
      "[generic] Extracting URL: Trippie Redd Love Me More\n",
      "[youtube:search] Extracting URL: ytsearch:Trippie Redd Love Me More\n",
      "[download] Downloading playlist: Trippie Redd Love Me More\n",
      "[youtube:search] query \"Trippie Redd Love Me More\": Downloading web client config\n",
      "[youtube:search] query \"Trippie Redd Love Me More\" page 1: Downloading API JSON\n",
      "[youtube:search] Playlist Trippie Redd Love Me More: Downloading 1 items of 1\n",
      "[download] Downloading item 1 of 1\n",
      "[youtube] Extracting URL: https://www.youtube.com/watch?v=kG545zy2eUs\n",
      "[youtube] kG545zy2eUs: Downloading webpage\n",
      "[youtube] kG545zy2eUs: Downloading ios player API JSON\n",
      "[youtube] kG545zy2eUs: Downloading android player API JSON\n"
     ]
    },
    {
     "name": "stderr",
     "output_type": "stream",
     "text": [
      "WARNING: [youtube] YouTube said: ERROR - Precondition check failed.\n",
      "WARNING: [youtube] HTTP Error 400: Bad Request. Retrying (1/3)...\n"
     ]
    },
    {
     "name": "stdout",
     "output_type": "stream",
     "text": [
      "[youtube] kG545zy2eUs: Downloading android player API JSON\n"
     ]
    },
    {
     "name": "stderr",
     "output_type": "stream",
     "text": [
      "WARNING: [youtube] YouTube said: ERROR - Precondition check failed.\n",
      "WARNING: [youtube] HTTP Error 400: Bad Request. Retrying (2/3)...\n"
     ]
    },
    {
     "name": "stdout",
     "output_type": "stream",
     "text": [
      "[youtube] kG545zy2eUs: Downloading android player API JSON\n"
     ]
    },
    {
     "name": "stderr",
     "output_type": "stream",
     "text": [
      "WARNING: [youtube] YouTube said: ERROR - Precondition check failed.\n",
      "WARNING: [youtube] HTTP Error 400: Bad Request. Retrying (3/3)...\n"
     ]
    },
    {
     "name": "stdout",
     "output_type": "stream",
     "text": [
      "[youtube] kG545zy2eUs: Downloading android player API JSON\n",
      "[youtube] kG545zy2eUs: Downloading m3u8 information\n",
      "[info] kG545zy2eUs: Downloading 1 format(s): 251\n",
      "[download] Destination: C:\\Users\\arwin\\Documents\\dev\\APS360-PROJECT\\data\\billboard_audio\\Trippie Redd_Love Me More\\Trippie Redd_Love Me More.webm\n",
      "[download] 100% of    2.79MiB in 00:00:00 at 13.79MiB/s  \n",
      "[download] Finished downloading playlist: Trippie Redd Love Me More\n",
      "[generic] Extracting URL: Y2K & bbno$ Lalala\n",
      "[youtube:search] Extracting URL: ytsearch:Y2K & bbno$ Lalala\n",
      "[download] Downloading playlist: Y2K & bbno$ Lalala\n",
      "[youtube:search] query \"Y2K & bbno$ Lalala\": Downloading web client config\n",
      "[youtube:search] query \"Y2K & bbno$ Lalala\" page 1: Downloading API JSON\n",
      "[youtube:search] Playlist Y2K & bbno$ Lalala: Downloading 1 items of 1\n",
      "[download] Downloading item 1 of 1\n",
      "[youtube] Extracting URL: https://www.youtube.com/watch?v=N2Y2vQ-1m7M\n",
      "[youtube] N2Y2vQ-1m7M: Downloading webpage\n",
      "[youtube] N2Y2vQ-1m7M: Downloading ios player API JSON\n",
      "[youtube] N2Y2vQ-1m7M: Downloading android player API JSON\n",
      "[youtube] N2Y2vQ-1m7M: Downloading m3u8 information\n",
      "[info] N2Y2vQ-1m7M: Downloading 1 format(s): 251\n",
      "[download] Destination: C:\\Users\\arwin\\Documents\\dev\\APS360-PROJECT\\data\\billboard_audio\\Y2K & bbno$_Lalala\\Y2K & bbno$_Lalala.webm\n",
      "[download] 100% of    3.40MiB in 00:00:00 at 12.00MiB/s  \n",
      "[download] Finished downloading playlist: Y2K & bbno$ Lalala\n",
      "[generic] Extracting URL: A Boogie Wit da Hoodie Featuring Lil Uzi Vert Reply\n",
      "[youtube:search] Extracting URL: ytsearch:A Boogie Wit da Hoodie Featuring Lil Uzi Vert Reply\n",
      "[download] Downloading playlist: A Boogie Wit da Hoodie Featuring Lil Uzi Vert Reply\n",
      "[youtube:search] query \"A Boogie Wit da Hoodie Featuring Lil Uzi Vert Reply\": Downloading web client config\n",
      "[youtube:search] query \"A Boogie Wit da Hoodie Featuring Lil Uzi Vert Reply\" page 1: Downloading API JSON\n",
      "[youtube:search] Playlist A Boogie Wit da Hoodie Featuring Lil Uzi Vert Reply: Downloading 1 items of 1\n",
      "[download] Downloading item 1 of 1\n",
      "[youtube] Extracting URL: https://www.youtube.com/watch?v=9f9sQ2Kis9Q\n",
      "[youtube] 9f9sQ2Kis9Q: Downloading webpage\n",
      "[youtube] 9f9sQ2Kis9Q: Downloading ios player API JSON\n",
      "[youtube] 9f9sQ2Kis9Q: Downloading android player API JSON\n",
      "[youtube] 9f9sQ2Kis9Q: Downloading m3u8 information\n",
      "[info] 9f9sQ2Kis9Q: Downloading 1 format(s): 251\n",
      "[download] Destination: C:\\Users\\arwin\\Documents\\dev\\APS360-PROJECT\\data\\billboard_audio\\A Boogie Wit da Hoodie Featuring Lil Uzi Vert_Reply\\A Boogie Wit da Hoodie Featuring Lil Uzi Vert_Reply.webm\n",
      "[download] 100% of    3.68MiB in 00:00:00 at 13.74MiB/s    \n",
      "[download] Finished downloading playlist: A Boogie Wit da Hoodie Featuring Lil Uzi Vert Reply\n",
      "[generic] Extracting URL: Kenny Chesney Tip Of My Tongue\n",
      "[youtube:search] Extracting URL: ytsearch:Kenny Chesney Tip Of My Tongue\n",
      "[download] Downloading playlist: Kenny Chesney Tip Of My Tongue\n",
      "[youtube:search] query \"Kenny Chesney Tip Of My Tongue\": Downloading web client config\n",
      "[youtube:search] query \"Kenny Chesney Tip Of My Tongue\" page 1: Downloading API JSON\n",
      "[youtube:search] Playlist Kenny Chesney Tip Of My Tongue: Downloading 1 items of 1\n",
      "[download] Downloading item 1 of 1\n",
      "[youtube] Extracting URL: https://www.youtube.com/watch?v=87Q8HQCWSg4\n",
      "[youtube] 87Q8HQCWSg4: Downloading webpage\n",
      "[youtube] 87Q8HQCWSg4: Downloading ios player API JSON\n",
      "[youtube] 87Q8HQCWSg4: Downloading android player API JSON\n"
     ]
    },
    {
     "name": "stderr",
     "output_type": "stream",
     "text": [
      "WARNING: [youtube] YouTube said: ERROR - Precondition check failed.\n",
      "WARNING: [youtube] HTTP Error 400: Bad Request. Retrying (1/3)...\n"
     ]
    },
    {
     "name": "stdout",
     "output_type": "stream",
     "text": [
      "[youtube] 87Q8HQCWSg4: Downloading android player API JSON\n",
      "[youtube] 87Q8HQCWSg4: Downloading m3u8 information\n",
      "[info] 87Q8HQCWSg4: Downloading 1 format(s): 251\n",
      "[download] Destination: C:\\Users\\arwin\\Documents\\dev\\APS360-PROJECT\\data\\billboard_audio\\Kenny Chesney_Tip Of My Tongue\\Kenny Chesney_Tip Of My Tongue.webm\n",
      "[download] 100% of    3.29MiB in 00:00:00 at 6.85MiB/s     \n",
      "[download] Finished downloading playlist: Kenny Chesney Tip Of My Tongue\n",
      "[generic] Extracting URL: Chris Janson Good Vibes\n",
      "[youtube:search] Extracting URL: ytsearch:Chris Janson Good Vibes\n",
      "[download] Downloading playlist: Chris Janson Good Vibes\n",
      "[youtube:search] query \"Chris Janson Good Vibes\": Downloading web client config\n",
      "[youtube:search] query \"Chris Janson Good Vibes\" page 1: Downloading API JSON\n",
      "[youtube:search] Playlist Chris Janson Good Vibes: Downloading 1 items of 1\n",
      "[download] Downloading item 1 of 1\n",
      "[youtube] Extracting URL: https://www.youtube.com/watch?v=hNRJjDm2sQE\n",
      "[youtube] hNRJjDm2sQE: Downloading webpage\n",
      "[youtube] hNRJjDm2sQE: Downloading ios player API JSON\n",
      "[youtube] hNRJjDm2sQE: Downloading android player API JSON\n"
     ]
    },
    {
     "name": "stderr",
     "output_type": "stream",
     "text": [
      "WARNING: [youtube] YouTube said: ERROR - Precondition check failed.\n",
      "WARNING: [youtube] HTTP Error 400: Bad Request. Retrying (1/3)...\n"
     ]
    },
    {
     "name": "stdout",
     "output_type": "stream",
     "text": [
      "[youtube] hNRJjDm2sQE: Downloading android player API JSON\n",
      "[youtube] hNRJjDm2sQE: Downloading m3u8 information\n",
      "[info] hNRJjDm2sQE: Downloading 1 format(s): 251\n",
      "[download] Destination: C:\\Users\\arwin\\Documents\\dev\\APS360-PROJECT\\data\\billboard_audio\\Chris Janson_Good Vibes\\Chris Janson_Good Vibes.webm\n",
      "[download] 100% of    2.62MiB in 00:00:00 at 9.68MiB/s   \n",
      "[download] Finished downloading playlist: Chris Janson Good Vibes\n",
      "[generic] Extracting URL: Megan Thee Stallion, Nicki Minaj & Ty Dolla $ign Hot Girl Summer\n",
      "[youtube:search] Extracting URL: ytsearch:Megan Thee Stallion, Nicki Minaj & Ty Dolla $ign Hot Girl Summer\n",
      "[download] Downloading playlist: Megan Thee Stallion, Nicki Minaj & Ty Dolla $ign Hot Girl Summer\n",
      "[youtube:search] query \"Megan Thee Stallion, Nicki Minaj & Ty Dolla $ign Hot Girl Summer\": Downloading web client config\n",
      "[youtube:search] query \"Megan Thee Stallion, Nicki Minaj & Ty Dolla $ign Hot Girl Summer\" page 1: Downloading API JSON\n",
      "[youtube:search] Playlist Megan Thee Stallion, Nicki Minaj & Ty Dolla $ign Hot Girl Summer: Downloading 1 items of 1\n",
      "[download] Downloading item 1 of 1\n",
      "[youtube] Extracting URL: https://www.youtube.com/watch?v=tS7cHwAmjV4\n",
      "[youtube] tS7cHwAmjV4: Downloading webpage\n",
      "[youtube] tS7cHwAmjV4: Downloading ios player API JSON\n",
      "[youtube] tS7cHwAmjV4: Downloading android player API JSON\n"
     ]
    },
    {
     "name": "stderr",
     "output_type": "stream",
     "text": [
      "WARNING: [youtube] YouTube said: ERROR - Precondition check failed.\n",
      "WARNING: [youtube] HTTP Error 400: Bad Request. Retrying (1/3)...\n"
     ]
    },
    {
     "name": "stdout",
     "output_type": "stream",
     "text": [
      "[youtube] tS7cHwAmjV4: Downloading android player API JSON\n"
     ]
    },
    {
     "name": "stderr",
     "output_type": "stream",
     "text": [
      "WARNING: [youtube] YouTube said: ERROR - Precondition check failed.\n",
      "WARNING: [youtube] HTTP Error 400: Bad Request. Retrying (2/3)...\n"
     ]
    },
    {
     "name": "stdout",
     "output_type": "stream",
     "text": [
      "[youtube] tS7cHwAmjV4: Downloading android player API JSON\n"
     ]
    },
    {
     "name": "stderr",
     "output_type": "stream",
     "text": [
      "WARNING: [youtube] YouTube said: ERROR - Precondition check failed.\n",
      "WARNING: [youtube] HTTP Error 400: Bad Request. Retrying (3/3)...\n"
     ]
    },
    {
     "name": "stdout",
     "output_type": "stream",
     "text": [
      "[youtube] tS7cHwAmjV4: Downloading android player API JSON\n"
     ]
    },
    {
     "name": "stderr",
     "output_type": "stream",
     "text": [
      "WARNING: [youtube] YouTube said: ERROR - Precondition check failed.\n",
      "WARNING: [youtube] Unable to download API page: HTTP Error 400: Bad Request (caused by <HTTPError 400: Bad Request>); please report this issue on  https://github.com/yt-dlp/yt-dlp/issues?q= , filling out the appropriate issue template. Confirm you are on the latest version using  yt-dlp -U\n"
     ]
    },
    {
     "name": "stdout",
     "output_type": "stream",
     "text": [
      "[youtube] tS7cHwAmjV4: Downloading m3u8 information\n",
      "[info] tS7cHwAmjV4: Downloading 1 format(s): 251\n",
      "[download] Destination: C:\\Users\\arwin\\Documents\\dev\\APS360-PROJECT\\data\\billboard_audio\\Megan Thee Stallion, Nicki Minaj & Ty Dolla $ign_Hot Girl Summer\\Megan Thee Stallion, Nicki Minaj & Ty Dolla $ign_Hot Girl Summer.webm\n",
      "[download] 100% of    3.26MiB in 00:00:00 at 3.96MiB/s     \n",
      "[download] Finished downloading playlist: Megan Thee Stallion, Nicki Minaj & Ty Dolla $ign Hot Girl Summer\n",
      "[generic] Extracting URL: YoungBoy Never Broke Again Lonely Child\n",
      "[youtube:search] Extracting URL: ytsearch:YoungBoy Never Broke Again Lonely Child\n",
      "[download] Downloading playlist: YoungBoy Never Broke Again Lonely Child\n",
      "[youtube:search] query \"YoungBoy Never Broke Again Lonely Child\": Downloading web client config\n",
      "[youtube:search] query \"YoungBoy Never Broke Again Lonely Child\" page 1: Downloading API JSON\n",
      "[youtube:search] Playlist YoungBoy Never Broke Again Lonely Child: Downloading 1 items of 1\n",
      "[download] Downloading item 1 of 1\n",
      "[youtube] Extracting URL: https://www.youtube.com/watch?v=LBi14BG3_PI\n",
      "[youtube] LBi14BG3_PI: Downloading webpage\n",
      "[youtube] LBi14BG3_PI: Downloading ios player API JSON\n",
      "[youtube] LBi14BG3_PI: Downloading android player API JSON\n"
     ]
    },
    {
     "name": "stderr",
     "output_type": "stream",
     "text": [
      "WARNING: [youtube] YouTube said: ERROR - Precondition check failed.\n",
      "WARNING: [youtube] HTTP Error 400: Bad Request. Retrying (1/3)...\n"
     ]
    },
    {
     "name": "stdout",
     "output_type": "stream",
     "text": [
      "[youtube] LBi14BG3_PI: Downloading android player API JSON\n"
     ]
    },
    {
     "name": "stderr",
     "output_type": "stream",
     "text": [
      "WARNING: [youtube] YouTube said: ERROR - Precondition check failed.\n",
      "WARNING: [youtube] HTTP Error 400: Bad Request. Retrying (2/3)...\n"
     ]
    },
    {
     "name": "stdout",
     "output_type": "stream",
     "text": [
      "[youtube] LBi14BG3_PI: Downloading android player API JSON\n"
     ]
    },
    {
     "name": "stderr",
     "output_type": "stream",
     "text": [
      "WARNING: [youtube] YouTube said: ERROR - Precondition check failed.\n",
      "WARNING: [youtube] HTTP Error 400: Bad Request. Retrying (3/3)...\n"
     ]
    },
    {
     "name": "stdout",
     "output_type": "stream",
     "text": [
      "[youtube] LBi14BG3_PI: Downloading android player API JSON\n",
      "[youtube] LBi14BG3_PI: Downloading m3u8 information\n",
      "[info] LBi14BG3_PI: Downloading 1 format(s): 251\n",
      "[download] Destination: C:\\Users\\arwin\\Documents\\dev\\APS360-PROJECT\\data\\billboard_audio\\YoungBoy Never Broke Again_Lonely Child\\YoungBoy Never Broke Again_Lonely Child.webm\n",
      "[download] 100% of    3.56MiB in 00:00:00 at 19.72MiB/s  \n",
      "[download] Finished downloading playlist: YoungBoy Never Broke Again Lonely Child\n",
      "[generic] Extracting URL: Drake Featuring Rick Ross Money In The Grave\n",
      "[youtube:search] Extracting URL: ytsearch:Drake Featuring Rick Ross Money In The Grave\n",
      "[download] Downloading playlist: Drake Featuring Rick Ross Money In The Grave\n",
      "[youtube:search] query \"Drake Featuring Rick Ross Money In The Grave\": Downloading web client config\n",
      "[youtube:search] query \"Drake Featuring Rick Ross Money In The Grave\" page 1: Downloading API JSON\n",
      "[youtube:search] Playlist Drake Featuring Rick Ross Money In The Grave: Downloading 1 items of 1\n",
      "[download] Downloading item 1 of 1\n",
      "[youtube] Extracting URL: https://www.youtube.com/watch?v=R0ykLlhg0AQ\n",
      "[youtube] R0ykLlhg0AQ: Downloading webpage\n",
      "[youtube] R0ykLlhg0AQ: Downloading ios player API JSON\n",
      "[youtube] R0ykLlhg0AQ: Downloading android player API JSON\n",
      "[youtube] R0ykLlhg0AQ: Downloading m3u8 information\n",
      "[info] R0ykLlhg0AQ: Downloading 1 format(s): 251\n",
      "[download] Destination: C:\\Users\\arwin\\Documents\\dev\\APS360-PROJECT\\data\\billboard_audio\\Drake Featuring Rick Ross_Money In The Grave\\Drake Featuring Rick Ross_Money In The Grave.webm\n",
      "[download] 100% of    4.08MiB in 00:00:00 at 12.95MiB/s    \n",
      "[download] Finished downloading playlist: Drake Featuring Rick Ross Money In The Grave\n",
      "[generic] Extracting URL: Sam Smith & Normani Dancing With A Stranger\n",
      "[youtube:search] Extracting URL: ytsearch:Sam Smith & Normani Dancing With A Stranger\n",
      "[download] Downloading playlist: Sam Smith & Normani Dancing With A Stranger\n",
      "[youtube:search] query \"Sam Smith & Normani Dancing With A Stranger\": Downloading web client config\n",
      "[youtube:search] query \"Sam Smith & Normani Dancing With A Stranger\" page 1: Downloading API JSON\n",
      "[youtube:search] Playlist Sam Smith & Normani Dancing With A Stranger: Downloading 1 items of 1\n",
      "[download] Downloading item 1 of 1\n",
      "[youtube] Extracting URL: https://www.youtube.com/watch?v=av5JD1dfj_c\n",
      "[youtube] av5JD1dfj_c: Downloading webpage\n",
      "[youtube] av5JD1dfj_c: Downloading ios player API JSON\n",
      "[youtube] av5JD1dfj_c: Downloading android player API JSON\n"
     ]
    },
    {
     "name": "stderr",
     "output_type": "stream",
     "text": [
      "WARNING: [youtube] YouTube said: ERROR - Precondition check failed.\n",
      "WARNING: [youtube] HTTP Error 400: Bad Request. Retrying (1/3)...\n"
     ]
    },
    {
     "name": "stdout",
     "output_type": "stream",
     "text": [
      "[youtube] av5JD1dfj_c: Downloading android player API JSON\n",
      "[youtube] av5JD1dfj_c: Downloading m3u8 information\n",
      "[info] av5JD1dfj_c: Downloading 1 format(s): 251\n",
      "[download] Destination: C:\\Users\\arwin\\Documents\\dev\\APS360-PROJECT\\data\\billboard_audio\\Sam Smith & Normani_Dancing With A Stranger\\Sam Smith & Normani_Dancing With A Stranger.webm\n",
      "[download] 100% of    3.17MiB in 00:00:00 at 7.60MiB/s   \n",
      "[download] Finished downloading playlist: Sam Smith & Normani Dancing With A Stranger\n",
      "[generic] Extracting URL: Tory Lanez Featuring Chris Brown The Take\n",
      "[youtube:search] Extracting URL: ytsearch:Tory Lanez Featuring Chris Brown The Take\n",
      "[download] Downloading playlist: Tory Lanez Featuring Chris Brown The Take\n",
      "[youtube:search] query \"Tory Lanez Featuring Chris Brown The Take\": Downloading web client config\n",
      "[youtube:search] query \"Tory Lanez Featuring Chris Brown The Take\" page 1: Downloading API JSON\n",
      "[youtube:search] Playlist Tory Lanez Featuring Chris Brown The Take: Downloading 1 items of 1\n",
      "[download] Downloading item 1 of 1\n",
      "[youtube] Extracting URL: https://www.youtube.com/watch?v=1QQTT5tktH4\n",
      "[youtube] 1QQTT5tktH4: Downloading webpage\n",
      "[youtube] 1QQTT5tktH4: Downloading ios player API JSON\n",
      "[youtube] 1QQTT5tktH4: Downloading android player API JSON\n",
      "[youtube] 1QQTT5tktH4: Downloading m3u8 information\n",
      "[info] 1QQTT5tktH4: Downloading 1 format(s): 251\n",
      "[download] Destination: C:\\Users\\arwin\\Documents\\dev\\APS360-PROJECT\\data\\billboard_audio\\Tory Lanez Featuring Chris Brown_The Take\\Tory Lanez Featuring Chris Brown_The Take.webm\n",
      "[download] 100% of    3.59MiB in 00:00:00 at 11.46MiB/s  \n",
      "[download] Finished downloading playlist: Tory Lanez Featuring Chris Brown The Take\n",
      "[generic] Extracting URL: Camila Cabello Liar\n",
      "[youtube:search] Extracting URL: ytsearch:Camila Cabello Liar\n",
      "[download] Downloading playlist: Camila Cabello Liar\n",
      "[youtube:search] query \"Camila Cabello Liar\": Downloading web client config\n",
      "[youtube:search] query \"Camila Cabello Liar\" page 1: Downloading API JSON\n",
      "[generic] Extracting URL: Russell Dickerson Every Little Thing\n",
      "[youtube:search] Extracting URL: ytsearch:Russell Dickerson Every Little Thing\n",
      "[download] Downloading playlist: Russell Dickerson Every Little Thing\n",
      "[youtube:search] query \"Russell Dickerson Every Little Thing\": Downloading web client config\n",
      "[youtube:search] query \"Russell Dickerson Every Little Thing\" page 1: Downloading API JSON\n",
      "[youtube:search] Playlist Russell Dickerson Every Little Thing: Downloading 1 items of 1\n",
      "[download] Downloading item 1 of 1\n",
      "[youtube] Extracting URL: https://www.youtube.com/watch?v=wFXorVEOjOA\n",
      "[youtube] wFXorVEOjOA: Downloading webpage\n",
      "[youtube] wFXorVEOjOA: Downloading ios player API JSON\n",
      "[youtube] wFXorVEOjOA: Downloading android player API JSON\n",
      "[youtube] wFXorVEOjOA: Downloading m3u8 information\n",
      "[info] wFXorVEOjOA: Downloading 1 format(s): 251\n",
      "[download] Destination: C:\\Users\\arwin\\Documents\\dev\\APS360-PROJECT\\data\\billboard_audio\\Russell Dickerson_Every Little Thing\\Russell Dickerson_Every Little Thing.webm\n",
      "[download] 100% of    3.69MiB in 00:00:00 at 7.99MiB/s   \n",
      "[download] Finished downloading playlist: Russell Dickerson Every Little Thing\n",
      "[generic] Extracting URL: Chris Lane I Don't Know About You\n",
      "[youtube:search] Extracting URL: ytsearch:Chris Lane I Don't Know About You\n",
      "[download] Downloading playlist: Chris Lane I Don't Know About You\n",
      "[youtube:search] query \"Chris Lane I Don't Know About You\": Downloading web client config\n",
      "[youtube:search] query \"Chris Lane I Don't Know About You\" page 1: Downloading API JSON\n",
      "[youtube:search] Playlist Chris Lane I Don't Know About You: Downloading 1 items of 1\n",
      "[download] Downloading item 1 of 1\n",
      "[youtube] Extracting URL: https://www.youtube.com/watch?v=8aUzwbp_NfI\n",
      "[youtube] 8aUzwbp_NfI: Downloading webpage\n",
      "[youtube] 8aUzwbp_NfI: Downloading ios player API JSON\n",
      "[youtube] 8aUzwbp_NfI: Downloading android player API JSON\n",
      "[youtube] 8aUzwbp_NfI: Downloading m3u8 information\n",
      "[info] 8aUzwbp_NfI: Downloading 1 format(s): 251\n",
      "[download] Destination: C:\\Users\\arwin\\Documents\\dev\\APS360-PROJECT\\data\\billboard_audio\\Chris Lane_I Don't Know About You\\Chris Lane_I Don't Know About You.webm\n",
      "[download] 100% of    4.35MiB in 00:00:00 at 7.45MiB/s     \n",
      "[download] Finished downloading playlist: Chris Lane I Don't Know About You\n",
      "[generic] Extracting URL: Lil Mosey x Gunna Stuck In A Dream\n",
      "[youtube:search] Extracting URL: ytsearch:Lil Mosey x Gunna Stuck In A Dream\n",
      "[download] Downloading playlist: Lil Mosey x Gunna Stuck In A Dream\n",
      "[youtube:search] query \"Lil Mosey x Gunna Stuck In A Dream\": Downloading web client config\n",
      "[youtube:search] query \"Lil Mosey x Gunna Stuck In A Dream\" page 1: Downloading API JSON\n",
      "[youtube:search] Playlist Lil Mosey x Gunna Stuck In A Dream: Downloading 1 items of 1\n",
      "[download] Downloading item 1 of 1\n",
      "[youtube] Extracting URL: https://www.youtube.com/watch?v=VTd5kQhtih8\n",
      "[youtube] VTd5kQhtih8: Downloading webpage\n",
      "[youtube] VTd5kQhtih8: Downloading ios player API JSON\n",
      "[youtube] VTd5kQhtih8: Downloading android player API JSON\n"
     ]
    },
    {
     "name": "stderr",
     "output_type": "stream",
     "text": [
      "WARNING: [youtube] YouTube said: ERROR - Precondition check failed.\n",
      "WARNING: [youtube] HTTP Error 400: Bad Request. Retrying (1/3)...\n"
     ]
    },
    {
     "name": "stdout",
     "output_type": "stream",
     "text": [
      "[youtube] VTd5kQhtih8: Downloading android player API JSON\n",
      "[youtube] VTd5kQhtih8: Downloading m3u8 information\n",
      "[info] VTd5kQhtih8: Downloading 1 format(s): 251\n",
      "[download] Destination: C:\\Users\\arwin\\Documents\\dev\\APS360-PROJECT\\data\\billboard_audio\\Lil Mosey x Gunna_Stuck In A Dream\\Lil Mosey x Gunna_Stuck In A Dream.webm\n",
      "[download] 100% of    2.32MiB in 00:00:00 at 10.92MiB/s  \n",
      "[download] Finished downloading playlist: Lil Mosey x Gunna Stuck In A Dream\n",
      "[generic] Extracting URL: Tory Lanez Featuring Snoop Dogg Beauty In The Benz\n",
      "[youtube:search] Extracting URL: ytsearch:Tory Lanez Featuring Snoop Dogg Beauty In The Benz\n",
      "[download] Downloading playlist: Tory Lanez Featuring Snoop Dogg Beauty In The Benz\n",
      "[youtube:search] query \"Tory Lanez Featuring Snoop Dogg Beauty In The Benz\": Downloading web client config\n",
      "[youtube:search] query \"Tory Lanez Featuring Snoop Dogg Beauty In The Benz\" page 1: Downloading API JSON\n",
      "[youtube:search] Playlist Tory Lanez Featuring Snoop Dogg Beauty In The Benz: Downloading 1 items of 1\n",
      "[download] Downloading item 1 of 1\n",
      "[youtube] Extracting URL: https://www.youtube.com/watch?v=yuQtb1Zr_dI\n",
      "[youtube] yuQtb1Zr_dI: Downloading webpage\n",
      "[youtube] yuQtb1Zr_dI: Downloading ios player API JSON\n",
      "[youtube] yuQtb1Zr_dI: Downloading android player API JSON\n"
     ]
    },
    {
     "name": "stderr",
     "output_type": "stream",
     "text": [
      "WARNING: [youtube] YouTube said: ERROR - Precondition check failed.\n",
      "WARNING: [youtube] HTTP Error 400: Bad Request. Retrying (1/3)...\n"
     ]
    },
    {
     "name": "stdout",
     "output_type": "stream",
     "text": [
      "[youtube] yuQtb1Zr_dI: Downloading android player API JSON\n"
     ]
    },
    {
     "name": "stderr",
     "output_type": "stream",
     "text": [
      "WARNING: [youtube] YouTube said: ERROR - Precondition check failed.\n",
      "WARNING: [youtube] HTTP Error 400: Bad Request. Retrying (2/3)...\n"
     ]
    },
    {
     "name": "stdout",
     "output_type": "stream",
     "text": [
      "[youtube] yuQtb1Zr_dI: Downloading android player API JSON\n",
      "[youtube] yuQtb1Zr_dI: Downloading m3u8 information\n"
     ]
    }
   ],
   "source": [
    "with open(project_path + 'data_processing/progress_log.txt', 'w') as f:\n",
    "    f.write(f'STARTING DATASET DOWNLOAD\\n\\n')\n",
    "\n",
    "with open(project_path + 'data_processing/error_log.txt', 'w') as f:\n",
    "    f.write(f'ERRORS WILL BE PRINTED HERE\\n\\n')\n",
    "\n",
    "i = 1\n",
    "for row in df.itertuples():\n",
    "    song = getattr(row, 'song')\n",
    "    artist = getattr(row, 'artist')\n",
    "    audio_dir_name = artist + \"_\" + song\n",
    "\n",
    "    with open(project_path + 'data_processing/progress_log.txt', 'a') as f:\n",
    "        f.write(f'\\niteration = {i}, ')\n",
    "\n",
    "    \"\"\"\n",
    "    skip downloading song if:\n",
    "        (1) folder for song is created\n",
    "        AND\n",
    "        (2) folder size for song is > 1kB\n",
    "    \"\"\"\n",
    "    song_path = download_path + artist + \"_\" + song\n",
    "    if (not os.path.exists(song_path) or\n",
    "        get_folder_size(song_path) < 1e3):\n",
    "        \n",
    "        with open(project_path + 'data_processing/progress_log.txt', 'a') as f:\n",
    "            f.write(f'Starting Download of {audio_dir_name}')\n",
    "        try:\n",
    "            download_song(artist, song)\n",
    "            with open(project_path + 'data_processing/progress_log.txt', 'a') as f:\n",
    "                f.write(f'...Completed DL')\n",
    "\n",
    "        except:\n",
    "            # write to error log which one failed\n",
    "            with open(project_path + 'data_processing/progress_log.txt', 'a') as f:\n",
    "                f.write(f'...FAILED download for: {audio_dir_name}')\n",
    "\n",
    "            with open(project_path + 'data_processing/error_log.txt', 'a') as f:\n",
    "                f.write(f'\\nFAILED download for: {audio_dir_name}')\n",
    "            pass\n",
    "    \n",
    "\n",
    "    i+=1"
   ]
  }
 ],
 "metadata": {
  "kernelspec": {
   "display_name": "Python 3",
   "language": "python",
   "name": "python3"
  },
  "language_info": {
   "codemirror_mode": {
    "name": "ipython",
    "version": 3
   },
   "file_extension": ".py",
   "mimetype": "text/x-python",
   "name": "python",
   "nbconvert_exporter": "python",
   "pygments_lexer": "ipython3",
   "version": "3.11.5"
  }
 },
 "nbformat": 4,
 "nbformat_minor": 2
}
