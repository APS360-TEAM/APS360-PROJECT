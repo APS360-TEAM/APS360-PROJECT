{
 "cells": [
  {
   "cell_type": "markdown",
   "metadata": {},
   "source": [
    "Setup Project Path, replace with your local path"
   ]
  },
  {
   "cell_type": "code",
   "execution_count": 1,
   "metadata": {},
   "outputs": [],
   "source": [
    "# Absolute path of project\n",
    "project_path = 'C:/Users/arwin/Documents/dev/APS360-PROJECT/' # change this to your machine's\n",
    "\n",
    "download_path = project_path + 'data/billboard_audio/' # leave this as is (relative path)"
   ]
  },
  {
   "cell_type": "markdown",
   "metadata": {},
   "source": [
    "Imports"
   ]
  },
  {
   "cell_type": "code",
   "execution_count": 2,
   "metadata": {},
   "outputs": [],
   "source": [
    "import pandas as pd\n",
    "import yt_dlp\n",
    "import os"
   ]
  },
  {
   "cell_type": "markdown",
   "metadata": {},
   "source": [
    "Read CSV, and Download all songs using yt-dlp"
   ]
  },
  {
   "cell_type": "code",
   "execution_count": 3,
   "metadata": {},
   "outputs": [
    {
     "name": "stdout",
     "output_type": "stream",
     "text": [
      "all songs should be unique, lets check:\n",
      "total entries:\n",
      " song      3167\n",
      "artist    3167\n",
      "dtype: int64 \n",
      "\n",
      "# unique songs:\n",
      " song      3167\n",
      "artist    1610\n",
      "dtype: int64\n"
     ]
    }
   ],
   "source": [
    "df = pd.read_csv('../data/billboard_2016-2021_song_artist_cleaned_rows.csv')\n",
    "# df = df.iloc[0:10] # just testing with 10 songs for now\n",
    "print(\"all songs should be unique, lets check:\")\n",
    "print(\"total entries:\\n\", df.count(), \"\\n\\n# unique songs:\\n\", df.nunique())"
   ]
  },
  {
   "cell_type": "markdown",
   "metadata": {},
   "source": [
    "yt-dlp and folder size functions"
   ]
  },
  {
   "cell_type": "code",
   "execution_count": 4,
   "metadata": {},
   "outputs": [],
   "source": [
    "def download_song(artist, song):\n",
    "    query = artist + \" \" + song\n",
    "    fname = artist + \"_\" + song\n",
    "    opts = {\n",
    "        'format': 'bestaudio',\n",
    "        'noplaylist':'True',\n",
    "        'default_search':'ytsearch',\n",
    "        'outtmpl': download_path + f'{fname}/{fname}.%(ext)s',\n",
    "    }\n",
    "    dl = yt_dlp.YoutubeDL(opts)\n",
    "    dl.download(query)"
   ]
  },
  {
   "cell_type": "code",
   "execution_count": 5,
   "metadata": {},
   "outputs": [],
   "source": [
    "def get_folder_size(folder_path):\n",
    "    total_size = 0\n",
    "    for root, dirs, files in os.walk(folder_path):\n",
    "        for file in files:\n",
    "            file_path = os.path.join(root, file)\n",
    "            if not os.path.islink(file_path):  \n",
    "                total_size += os.path.getsize(file_path)\n",
    "    return total_size"
   ]
  },
  {
   "cell_type": "code",
   "execution_count": 6,
   "metadata": {},
   "outputs": [
    {
     "name": "stdout",
     "output_type": "stream",
     "text": [
      "[generic] Extracting URL: Lil Durk Pissed Me Off\n",
      "[youtube:search] Extracting URL: ytsearch:Lil Durk Pissed Me Off\n",
      "[download] Downloading playlist: Lil Durk Pissed Me Off\n",
      "[youtube:search] query \"Lil Durk Pissed Me Off\": Downloading web client config\n",
      "[youtube:search] query \"Lil Durk Pissed Me Off\" page 1: Downloading API JSON\n",
      "[youtube:search] Playlist Lil Durk Pissed Me Off: Downloading 1 items of 1\n",
      "[download] Downloading item 1 of 1\n",
      "[youtube] Extracting URL: https://www.youtube.com/watch?v=DdDdQZHH2cM\n",
      "[youtube] DdDdQZHH2cM: Downloading webpage\n",
      "[youtube] DdDdQZHH2cM: Downloading ios player API JSON\n",
      "[youtube] DdDdQZHH2cM: Downloading android player API JSON\n"
     ]
    },
    {
     "name": "stderr",
     "output_type": "stream",
     "text": [
      "WARNING: [youtube] YouTube said: ERROR - Precondition check failed.\n",
      "WARNING: [youtube] HTTP Error 400: Bad Request. Retrying (1/3)...\n"
     ]
    },
    {
     "name": "stdout",
     "output_type": "stream",
     "text": [
      "[youtube] DdDdQZHH2cM: Downloading android player API JSON\n",
      "[youtube] DdDdQZHH2cM: Downloading m3u8 information\n",
      "[info] DdDdQZHH2cM: Downloading 1 format(s): 251\n",
      "[download] Destination: C:\\Users\\arwin\\Documents\\dev\\APS360-PROJECT\\data\\billboard_audio\\Lil Durk_Pissed Me Off\\Lil Durk_Pissed Me Off.webm\n",
      "[download] 100% of    2.15MiB in 00:00:00 at 16.26MiB/s  \n",
      "[download] Finished downloading playlist: Lil Durk Pissed Me Off\n",
      "[generic] Extracting URL: Dua Lipa Love Again\n",
      "[youtube:search] Extracting URL: ytsearch:Dua Lipa Love Again\n",
      "[download] Downloading playlist: Dua Lipa Love Again\n",
      "[youtube:search] query \"Dua Lipa Love Again\": Downloading web client config\n",
      "[youtube:search] query \"Dua Lipa Love Again\" page 1: Downloading API JSON\n",
      "[youtube:search] Playlist Dua Lipa Love Again: Downloading 1 items of 1\n",
      "[download] Downloading item 1 of 1\n",
      "[youtube] Extracting URL: https://www.youtube.com/watch?v=BC19kwABFwc\n",
      "[youtube] BC19kwABFwc: Downloading webpage\n",
      "[youtube] BC19kwABFwc: Downloading ios player API JSON\n",
      "[youtube] BC19kwABFwc: Downloading android player API JSON\n",
      "[youtube] BC19kwABFwc: Downloading m3u8 information\n",
      "[info] BC19kwABFwc: Downloading 1 format(s): 251\n",
      "[download] Destination: C:\\Users\\arwin\\Documents\\dev\\APS360-PROJECT\\data\\billboard_audio\\Dua Lipa_Love Again\\Dua Lipa_Love Again.webm\n",
      "[download] 100% of    4.26MiB in 00:00:00 at 22.39MiB/s    \n",
      "[download] Finished downloading playlist: Dua Lipa Love Again\n",
      "[generic] Extracting URL: Michael Ray Whiskey And Rain\n",
      "[youtube:search] Extracting URL: ytsearch:Michael Ray Whiskey And Rain\n",
      "[download] Downloading playlist: Michael Ray Whiskey And Rain\n",
      "[youtube:search] query \"Michael Ray Whiskey And Rain\": Downloading web client config\n",
      "[youtube:search] query \"Michael Ray Whiskey And Rain\" page 1: Downloading API JSON\n",
      "[youtube:search] Playlist Michael Ray Whiskey And Rain: Downloading 1 items of 1\n",
      "[download] Downloading item 1 of 1\n",
      "[youtube] Extracting URL: https://www.youtube.com/watch?v=rTxXInO54Z8\n",
      "[youtube] rTxXInO54Z8: Downloading webpage\n",
      "[youtube] rTxXInO54Z8: Downloading ios player API JSON\n",
      "[youtube] rTxXInO54Z8: Downloading android player API JSON\n"
     ]
    },
    {
     "name": "stderr",
     "output_type": "stream",
     "text": [
      "WARNING: [youtube] YouTube said: ERROR - Precondition check failed.\n",
      "WARNING: [youtube] HTTP Error 400: Bad Request. Retrying (1/3)...\n"
     ]
    },
    {
     "name": "stdout",
     "output_type": "stream",
     "text": [
      "[youtube] rTxXInO54Z8: Downloading android player API JSON\n"
     ]
    },
    {
     "name": "stderr",
     "output_type": "stream",
     "text": [
      "WARNING: [youtube] YouTube said: ERROR - Precondition check failed.\n",
      "WARNING: [youtube] HTTP Error 400: Bad Request. Retrying (2/3)...\n"
     ]
    },
    {
     "name": "stdout",
     "output_type": "stream",
     "text": [
      "[youtube] rTxXInO54Z8: Downloading android player API JSON\n"
     ]
    },
    {
     "name": "stderr",
     "output_type": "stream",
     "text": [
      "WARNING: [youtube] YouTube said: ERROR - Precondition check failed.\n",
      "WARNING: [youtube] HTTP Error 400: Bad Request. Retrying (3/3)...\n"
     ]
    },
    {
     "name": "stdout",
     "output_type": "stream",
     "text": [
      "[youtube] rTxXInO54Z8: Downloading android player API JSON\n",
      "[youtube] rTxXInO54Z8: Downloading m3u8 information\n",
      "[info] rTxXInO54Z8: Downloading 1 format(s): 251\n",
      "[download] Destination: C:\\Users\\arwin\\Documents\\dev\\APS360-PROJECT\\data\\billboard_audio\\Michael Ray_Whiskey And Rain\\Michael Ray_Whiskey And Rain.webm\n",
      "[download] 100% of    4.42MiB in 00:00:00 at 21.00MiB/s  \n",
      "[download] Finished downloading playlist: Michael Ray Whiskey And Rain\n",
      "[generic] Extracting URL: Kane Brown One Mississippi\n",
      "[youtube:search] Extracting URL: ytsearch:Kane Brown One Mississippi\n",
      "[download] Downloading playlist: Kane Brown One Mississippi\n",
      "[youtube:search] query \"Kane Brown One Mississippi\": Downloading web client config\n",
      "[youtube:search] query \"Kane Brown One Mississippi\" page 1: Downloading API JSON\n",
      "[youtube:search] Playlist Kane Brown One Mississippi: Downloading 1 items of 1\n",
      "[download] Downloading item 1 of 1\n",
      "[youtube] Extracting URL: https://www.youtube.com/watch?v=O2HpAdaE7R4\n",
      "[youtube] O2HpAdaE7R4: Downloading webpage\n",
      "[youtube] O2HpAdaE7R4: Downloading ios player API JSON\n",
      "[youtube] O2HpAdaE7R4: Downloading android player API JSON\n",
      "[youtube] O2HpAdaE7R4: Downloading m3u8 information\n",
      "[info] O2HpAdaE7R4: Downloading 1 format(s): 251\n",
      "[download] Destination: C:\\Users\\arwin\\Documents\\dev\\APS360-PROJECT\\data\\billboard_audio\\Kane Brown_One Mississippi\\Kane Brown_One Mississippi.webm\n",
      "[download] 100% of    3.53MiB in 00:00:00 at 6.16MiB/s     \n",
      "[download] Finished downloading playlist: Kane Brown One Mississippi\n",
      "[generic] Extracting URL: Moneybagg Yo Featuring Lil Durk & EST Gee Switches & Dracs\n",
      "[youtube:search] Extracting URL: ytsearch:Moneybagg Yo Featuring Lil Durk & EST Gee Switches & Dracs\n",
      "[download] Downloading playlist: Moneybagg Yo Featuring Lil Durk & EST Gee Switches & Dracs\n",
      "[youtube:search] query \"Moneybagg Yo Featuring Lil Durk & EST Gee Switches & Dracs\": Downloading web client config\n",
      "[youtube:search] query \"Moneybagg Yo Featuring Lil Durk & EST Gee Switches & Dracs\" page 1: Downloading API JSON\n",
      "[youtube:search] Playlist Moneybagg Yo Featuring Lil Durk & EST Gee Switches & Dracs: Downloading 1 items of 1\n",
      "[download] Downloading item 1 of 1\n",
      "[youtube] Extracting URL: https://www.youtube.com/watch?v=Hl19px8jid0\n",
      "[youtube] Hl19px8jid0: Downloading webpage\n",
      "[youtube] Hl19px8jid0: Downloading ios player API JSON\n",
      "[youtube] Hl19px8jid0: Downloading android player API JSON\n"
     ]
    },
    {
     "name": "stderr",
     "output_type": "stream",
     "text": [
      "WARNING: [youtube] YouTube said: ERROR - Precondition check failed.\n",
      "WARNING: [youtube] HTTP Error 400: Bad Request. Retrying (1/3)...\n"
     ]
    },
    {
     "name": "stdout",
     "output_type": "stream",
     "text": [
      "[youtube] Hl19px8jid0: Downloading android player API JSON\n"
     ]
    },
    {
     "name": "stderr",
     "output_type": "stream",
     "text": [
      "WARNING: [youtube] YouTube said: ERROR - Precondition check failed.\n",
      "WARNING: [youtube] HTTP Error 400: Bad Request. Retrying (2/3)...\n"
     ]
    },
    {
     "name": "stdout",
     "output_type": "stream",
     "text": [
      "[youtube] Hl19px8jid0: Downloading android player API JSON\n"
     ]
    },
    {
     "name": "stderr",
     "output_type": "stream",
     "text": [
      "WARNING: [youtube] YouTube said: ERROR - Precondition check failed.\n",
      "WARNING: [youtube] HTTP Error 400: Bad Request. Retrying (3/3)...\n"
     ]
    },
    {
     "name": "stdout",
     "output_type": "stream",
     "text": [
      "[youtube] Hl19px8jid0: Downloading android player API JSON\n",
      "[youtube] Hl19px8jid0: Downloading m3u8 information\n",
      "[info] Hl19px8jid0: Downloading 1 format(s): 251\n",
      "[download] Destination: C:\\Users\\arwin\\Documents\\dev\\APS360-PROJECT\\data\\billboard_audio\\Moneybagg Yo Featuring Lil Durk & EST Gee_Switches & Dracs\\Moneybagg Yo Featuring Lil Durk & EST Gee_Switches & Dracs.webm\n",
      "[download] 100% of    2.33MiB in 00:00:00 at 11.81MiB/s  \n",
      "[download] Finished downloading playlist: Moneybagg Yo Featuring Lil Durk & EST Gee Switches & Dracs\n",
      "[generic] Extracting URL: Eslabon Armado Featuring DannyLux Jugaste y Sufri\n",
      "[youtube:search] Extracting URL: ytsearch:Eslabon Armado Featuring DannyLux Jugaste y Sufri\n",
      "[download] Downloading playlist: Eslabon Armado Featuring DannyLux Jugaste y Sufri\n",
      "[youtube:search] query \"Eslabon Armado Featuring DannyLux Jugaste y Sufri\": Downloading web client config\n",
      "[youtube:search] query \"Eslabon Armado Featuring DannyLux Jugaste y Sufri\" page 1: Downloading API JSON\n",
      "[youtube:search] Playlist Eslabon Armado Featuring DannyLux Jugaste y Sufri: Downloading 1 items of 1\n",
      "[download] Downloading item 1 of 1\n",
      "[youtube] Extracting URL: https://www.youtube.com/watch?v=CULF9lXH87w\n",
      "[youtube] CULF9lXH87w: Downloading webpage\n",
      "[youtube] CULF9lXH87w: Downloading ios player API JSON\n",
      "[youtube] CULF9lXH87w: Downloading android player API JSON\n"
     ]
    },
    {
     "name": "stderr",
     "output_type": "stream",
     "text": [
      "WARNING: [youtube] YouTube said: ERROR - Precondition check failed.\n",
      "WARNING: [youtube] HTTP Error 400: Bad Request. Retrying (1/3)...\n"
     ]
    },
    {
     "name": "stdout",
     "output_type": "stream",
     "text": [
      "[youtube] CULF9lXH87w: Downloading android player API JSON\n",
      "[youtube] CULF9lXH87w: Downloading m3u8 information\n",
      "[info] CULF9lXH87w: Downloading 1 format(s): 251\n",
      "[download] Destination: C:\\Users\\arwin\\Documents\\dev\\APS360-PROJECT\\data\\billboard_audio\\Eslabon Armado Featuring DannyLux_Jugaste y Sufri\\Eslabon Armado Featuring DannyLux_Jugaste y Sufri.webm\n",
      "[download] 100% of    5.28MiB in 00:00:00 at 5.53MiB/s   \n",
      "[download] Finished downloading playlist: Eslabon Armado Featuring DannyLux Jugaste y Sufri\n",
      "[generic] Extracting URL: Gunna & Future Too Easy\n",
      "[youtube:search] Extracting URL: ytsearch:Gunna & Future Too Easy\n",
      "[download] Downloading playlist: Gunna & Future Too Easy\n",
      "[youtube:search] query \"Gunna & Future Too Easy\": Downloading web client config\n",
      "[youtube:search] query \"Gunna & Future Too Easy\" page 1: Downloading API JSON\n",
      "[youtube:search] Playlist Gunna & Future Too Easy: Downloading 1 items of 1\n",
      "[download] Downloading item 1 of 1\n",
      "[youtube] Extracting URL: https://www.youtube.com/watch?v=fYd-esC2Iw4\n",
      "[youtube] fYd-esC2Iw4: Downloading webpage\n",
      "[youtube] fYd-esC2Iw4: Downloading ios player API JSON\n",
      "[youtube] fYd-esC2Iw4: Downloading android player API JSON\n"
     ]
    },
    {
     "name": "stderr",
     "output_type": "stream",
     "text": [
      "WARNING: [youtube] YouTube said: ERROR - Precondition check failed.\n",
      "WARNING: [youtube] HTTP Error 400: Bad Request. Retrying (1/3)...\n"
     ]
    },
    {
     "name": "stdout",
     "output_type": "stream",
     "text": [
      "[youtube] fYd-esC2Iw4: Downloading android player API JSON\n",
      "[youtube] fYd-esC2Iw4: Downloading m3u8 information\n",
      "[info] fYd-esC2Iw4: Downloading 1 format(s): 251\n",
      "[download] Destination: C:\\Users\\arwin\\Documents\\dev\\APS360-PROJECT\\data\\billboard_audio\\Gunna & Future_Too Easy\\Gunna & Future_Too Easy.webm\n",
      "[download] 100% of    3.62MiB in 00:00:00 at 11.62MiB/s  \n",
      "[download] Finished downloading playlist: Gunna & Future Too Easy\n",
      "[generic] Extracting URL: Ivan Cornejo Esta Danada\n",
      "[youtube:search] Extracting URL: ytsearch:Ivan Cornejo Esta Danada\n",
      "[download] Downloading playlist: Ivan Cornejo Esta Danada\n",
      "[youtube:search] query \"Ivan Cornejo Esta Danada\": Downloading web client config\n",
      "[youtube:search] query \"Ivan Cornejo Esta Danada\" page 1: Downloading API JSON\n",
      "[youtube:search] Playlist Ivan Cornejo Esta Danada: Downloading 1 items of 1\n",
      "[download] Downloading item 1 of 1\n",
      "[youtube] Extracting URL: https://www.youtube.com/watch?v=OdDzZvwUmJE\n",
      "[youtube] OdDzZvwUmJE: Downloading webpage\n",
      "[youtube] OdDzZvwUmJE: Downloading ios player API JSON\n",
      "[youtube] OdDzZvwUmJE: Downloading android player API JSON\n",
      "[youtube] OdDzZvwUmJE: Downloading m3u8 information\n",
      "[info] OdDzZvwUmJE: Downloading 1 format(s): 251\n",
      "[download] Destination: C:\\Users\\arwin\\Documents\\dev\\APS360-PROJECT\\data\\billboard_audio\\Ivan Cornejo_Esta Danada\\Ivan Cornejo_Esta Danada.webm\n",
      "[download] 100% of    3.73MiB in 00:00:00 at 14.19MiB/s  \n",
      "[download] Finished downloading playlist: Ivan Cornejo Esta Danada\n",
      "[generic] Extracting URL: Aventura x Bad Bunny Volvi\n",
      "[youtube:search] Extracting URL: ytsearch:Aventura x Bad Bunny Volvi\n",
      "[download] Downloading playlist: Aventura x Bad Bunny Volvi\n",
      "[youtube:search] query \"Aventura x Bad Bunny Volvi\": Downloading web client config\n",
      "[youtube:search] query \"Aventura x Bad Bunny Volvi\" page 1: Downloading API JSON\n",
      "[youtube:search] Playlist Aventura x Bad Bunny Volvi: Downloading 1 items of 1\n",
      "[download] Downloading item 1 of 1\n",
      "[youtube] Extracting URL: https://www.youtube.com/watch?v=ayd3yWr4tqU\n",
      "[youtube] ayd3yWr4tqU: Downloading webpage\n",
      "[youtube] ayd3yWr4tqU: Downloading ios player API JSON\n",
      "[youtube] ayd3yWr4tqU: Downloading android player API JSON\n"
     ]
    },
    {
     "name": "stderr",
     "output_type": "stream",
     "text": [
      "WARNING: [youtube] YouTube said: ERROR - Precondition check failed.\n",
      "WARNING: [youtube] HTTP Error 400: Bad Request. Retrying (1/3)...\n"
     ]
    },
    {
     "name": "stdout",
     "output_type": "stream",
     "text": [
      "[youtube] ayd3yWr4tqU: Downloading android player API JSON\n"
     ]
    },
    {
     "name": "stderr",
     "output_type": "stream",
     "text": [
      "WARNING: [youtube] YouTube said: ERROR - Precondition check failed.\n",
      "WARNING: [youtube] HTTP Error 400: Bad Request. Retrying (2/3)...\n"
     ]
    },
    {
     "name": "stdout",
     "output_type": "stream",
     "text": [
      "[youtube] ayd3yWr4tqU: Downloading android player API JSON\n"
     ]
    },
    {
     "name": "stderr",
     "output_type": "stream",
     "text": [
      "WARNING: [youtube] YouTube said: ERROR - Precondition check failed.\n",
      "WARNING: [youtube] HTTP Error 400: Bad Request. Retrying (3/3)...\n"
     ]
    },
    {
     "name": "stdout",
     "output_type": "stream",
     "text": [
      "[youtube] ayd3yWr4tqU: Downloading android player API JSON\n"
     ]
    },
    {
     "name": "stderr",
     "output_type": "stream",
     "text": [
      "WARNING: [youtube] YouTube said: ERROR - Precondition check failed.\n",
      "WARNING: [youtube] Unable to download API page: HTTP Error 400: Bad Request (caused by <HTTPError 400: Bad Request>); please report this issue on  https://github.com/yt-dlp/yt-dlp/issues?q= , filling out the appropriate issue template. Confirm you are on the latest version using  yt-dlp -U\n"
     ]
    },
    {
     "name": "stdout",
     "output_type": "stream",
     "text": [
      "[youtube] ayd3yWr4tqU: Downloading m3u8 information\n",
      "[info] ayd3yWr4tqU: Downloading 1 format(s): 251\n",
      "[download] Destination: C:\\Users\\arwin\\Documents\\dev\\APS360-PROJECT\\data\\billboard_audio\\Aventura x Bad Bunny_Volvi\\Aventura x Bad Bunny_Volvi.webm\n",
      "[download] 100% of    3.80MiB in 00:00:00 at 14.71MiB/s    \n",
      "[download] Finished downloading playlist: Aventura x Bad Bunny Volvi\n",
      "[generic] Extracting URL: Jon Pardi Tequila Little Time\n",
      "[youtube:search] Extracting URL: ytsearch:Jon Pardi Tequila Little Time\n",
      "[download] Downloading playlist: Jon Pardi Tequila Little Time\n",
      "[youtube:search] query \"Jon Pardi Tequila Little Time\": Downloading web client config\n",
      "[youtube:search] query \"Jon Pardi Tequila Little Time\" page 1: Downloading API JSON\n",
      "[youtube:search] Playlist Jon Pardi Tequila Little Time: Downloading 1 items of 1\n",
      "[download] Downloading item 1 of 1\n",
      "[youtube] Extracting URL: https://www.youtube.com/watch?v=GI6_cvAQDrM\n",
      "[youtube] GI6_cvAQDrM: Downloading webpage\n",
      "[youtube] GI6_cvAQDrM: Downloading ios player API JSON\n",
      "[youtube] GI6_cvAQDrM: Downloading android player API JSON\n"
     ]
    },
    {
     "name": "stderr",
     "output_type": "stream",
     "text": [
      "WARNING: [youtube] YouTube said: ERROR - Precondition check failed.\n",
      "WARNING: [youtube] HTTP Error 400: Bad Request. Retrying (1/3)...\n"
     ]
    },
    {
     "name": "stdout",
     "output_type": "stream",
     "text": [
      "[youtube] GI6_cvAQDrM: Downloading android player API JSON\n",
      "[youtube] GI6_cvAQDrM: Downloading m3u8 information\n",
      "[info] GI6_cvAQDrM: Downloading 1 format(s): 251\n",
      "[download] Destination: C:\\Users\\arwin\\Documents\\dev\\APS360-PROJECT\\data\\billboard_audio\\Jon Pardi_Tequila Little Time\\Jon Pardi_Tequila Little Time.webm\n",
      "[download] 100% of    3.46MiB in 00:00:00 at 17.88MiB/s  \n",
      "[download] Finished downloading playlist: Jon Pardi Tequila Little Time\n",
      "[generic] Extracting URL: BIA Featuring Nicki Minaj Whole Lotta Money\n",
      "[youtube:search] Extracting URL: ytsearch:BIA Featuring Nicki Minaj Whole Lotta Money\n",
      "[download] Downloading playlist: BIA Featuring Nicki Minaj Whole Lotta Money\n",
      "[youtube:search] query \"BIA Featuring Nicki Minaj Whole Lotta Money\": Downloading web client config\n",
      "[youtube:search] query \"BIA Featuring Nicki Minaj Whole Lotta Money\" page 1: Downloading API JSON\n",
      "[youtube:search] Playlist BIA Featuring Nicki Minaj Whole Lotta Money: Downloading 1 items of 1\n",
      "[download] Downloading item 1 of 1\n",
      "[youtube] Extracting URL: https://www.youtube.com/watch?v=saqqO_uWxk4\n",
      "[youtube] saqqO_uWxk4: Downloading webpage\n",
      "[youtube] saqqO_uWxk4: Downloading ios player API JSON\n",
      "[youtube] saqqO_uWxk4: Downloading android player API JSON\n"
     ]
    },
    {
     "name": "stderr",
     "output_type": "stream",
     "text": [
      "WARNING: [youtube] YouTube said: ERROR - Precondition check failed.\n",
      "WARNING: [youtube] HTTP Error 400: Bad Request. Retrying (1/3)...\n"
     ]
    },
    {
     "name": "stdout",
     "output_type": "stream",
     "text": [
      "[youtube] saqqO_uWxk4: Downloading android player API JSON\n"
     ]
    },
    {
     "name": "stderr",
     "output_type": "stream",
     "text": [
      "WARNING: [youtube] YouTube said: ERROR - Precondition check failed.\n",
      "WARNING: [youtube] HTTP Error 400: Bad Request. Retrying (2/3)...\n"
     ]
    },
    {
     "name": "stdout",
     "output_type": "stream",
     "text": [
      "[youtube] saqqO_uWxk4: Downloading android player API JSON\n"
     ]
    },
    {
     "name": "stderr",
     "output_type": "stream",
     "text": [
      "WARNING: [youtube] YouTube said: ERROR - Precondition check failed.\n",
      "WARNING: [youtube] HTTP Error 400: Bad Request. Retrying (3/3)...\n"
     ]
    },
    {
     "name": "stdout",
     "output_type": "stream",
     "text": [
      "[youtube] saqqO_uWxk4: Downloading android player API JSON\n"
     ]
    },
    {
     "name": "stderr",
     "output_type": "stream",
     "text": [
      "WARNING: [youtube] YouTube said: ERROR - Precondition check failed.\n",
      "WARNING: [youtube] Unable to download API page: HTTP Error 400: Bad Request (caused by <HTTPError 400: Bad Request>); please report this issue on  https://github.com/yt-dlp/yt-dlp/issues?q= , filling out the appropriate issue template. Confirm you are on the latest version using  yt-dlp -U\n"
     ]
    },
    {
     "name": "stdout",
     "output_type": "stream",
     "text": [
      "[youtube] saqqO_uWxk4: Downloading m3u8 information\n",
      "[info] saqqO_uWxk4: Downloading 1 format(s): 251\n",
      "[download] Destination: C:\\Users\\arwin\\Documents\\dev\\APS360-PROJECT\\data\\billboard_audio\\BIA Featuring Nicki Minaj_Whole Lotta Money\\BIA Featuring Nicki Minaj_Whole Lotta Money.webm\n",
      "[download] 100% of    3.64MiB in 00:00:00 at 20.69MiB/s  \n",
      "[download] Finished downloading playlist: BIA Featuring Nicki Minaj Whole Lotta Money\n",
      "[generic] Extracting URL: Sleepy Hallow 2055\n",
      "[youtube:search] Extracting URL: ytsearch:Sleepy Hallow 2055\n",
      "[download] Downloading playlist: Sleepy Hallow 2055\n",
      "[youtube:search] query \"Sleepy Hallow 2055\": Downloading web client config\n",
      "[youtube:search] query \"Sleepy Hallow 2055\" page 1: Downloading API JSON\n",
      "[youtube:search] Playlist Sleepy Hallow 2055: Downloading 1 items of 1\n",
      "[download] Downloading item 1 of 1\n",
      "[youtube] Extracting URL: https://www.youtube.com/watch?v=y1xZ_kAhjMc\n",
      "[youtube] y1xZ_kAhjMc: Downloading webpage\n",
      "[youtube] y1xZ_kAhjMc: Downloading ios player API JSON\n",
      "[youtube] y1xZ_kAhjMc: Downloading android player API JSON\n",
      "[youtube] y1xZ_kAhjMc: Downloading m3u8 information\n",
      "[info] y1xZ_kAhjMc: Downloading 1 format(s): 251\n",
      "[download] Destination: C:\\Users\\arwin\\Documents\\dev\\APS360-PROJECT\\data\\billboard_audio\\Sleepy Hallow_2055\\Sleepy Hallow_2055.webm\n",
      "[download] 100% of    2.18MiB in 00:00:00 at 14.75MiB/s  \n",
      "[download] Finished downloading playlist: Sleepy Hallow 2055\n",
      "[generic] Extracting URL: 42 Dugg Featuring Future Maybach\n",
      "[youtube:search] Extracting URL: ytsearch:42 Dugg Featuring Future Maybach\n",
      "[download] Downloading playlist: 42 Dugg Featuring Future Maybach\n",
      "[youtube:search] query \"42 Dugg Featuring Future Maybach\": Downloading web client config\n",
      "[youtube:search] query \"42 Dugg Featuring Future Maybach\" page 1: Downloading API JSON\n",
      "[youtube:search] Playlist 42 Dugg Featuring Future Maybach: Downloading 1 items of 1\n",
      "[download] Downloading item 1 of 1\n",
      "[youtube] Extracting URL: https://www.youtube.com/watch?v=gVGRIBWy6ig\n",
      "[youtube] gVGRIBWy6ig: Downloading webpage\n",
      "[youtube] gVGRIBWy6ig: Downloading ios player API JSON\n",
      "[youtube] gVGRIBWy6ig: Downloading android player API JSON\n",
      "[youtube] gVGRIBWy6ig: Downloading m3u8 information\n",
      "[info] gVGRIBWy6ig: Downloading 1 format(s): 251\n",
      "[download] Destination: C:\\Users\\arwin\\Documents\\dev\\APS360-PROJECT\\data\\billboard_audio\\42 Dugg Featuring Future_Maybach\\42 Dugg Featuring Future_Maybach.webm\n",
      "[download] 100% of    3.25MiB in 00:00:00 at 21.29MiB/s  \n",
      "[download] Finished downloading playlist: 42 Dugg Featuring Future Maybach\n",
      "[generic] Extracting URL: Realestk WFM\n",
      "[youtube:search] Extracting URL: ytsearch:Realestk WFM\n",
      "[download] Downloading playlist: Realestk WFM\n",
      "[youtube:search] query \"Realestk WFM\": Downloading web client config\n",
      "[youtube:search] query \"Realestk WFM\" page 1: Downloading API JSON\n",
      "[youtube:search] Playlist Realestk WFM: Downloading 1 items of 1\n",
      "[download] Downloading item 1 of 1\n",
      "[youtube] Extracting URL: https://www.youtube.com/watch?v=2LxeMZm8pMw\n",
      "[youtube] 2LxeMZm8pMw: Downloading webpage\n",
      "[youtube] 2LxeMZm8pMw: Downloading ios player API JSON\n",
      "[youtube] 2LxeMZm8pMw: Downloading android player API JSON\n",
      "[youtube] 2LxeMZm8pMw: Downloading m3u8 information\n",
      "[info] 2LxeMZm8pMw: Downloading 1 format(s): 251\n",
      "[download] Destination: C:\\Users\\arwin\\Documents\\dev\\APS360-PROJECT\\data\\billboard_audio\\Realestk_WFM\\Realestk_WFM.webm\n",
      "[download] 100% of    2.20MiB in 00:00:00 at 14.18MiB/s    \n",
      "[download] Finished downloading playlist: Realestk WFM\n",
      "[generic] Extracting URL: Wale Featuring J_ Cole Poke It Out\n",
      "[youtube:search] Extracting URL: ytsearch:Wale Featuring J_ Cole Poke It Out\n",
      "[download] Downloading playlist: Wale Featuring J_ Cole Poke It Out\n",
      "[youtube:search] query \"Wale Featuring J_ Cole Poke It Out\": Downloading web client config\n",
      "[youtube:search] query \"Wale Featuring J_ Cole Poke It Out\" page 1: Downloading API JSON\n",
      "[youtube:search] Playlist Wale Featuring J_ Cole Poke It Out: Downloading 1 items of 1\n",
      "[download] Downloading item 1 of 1\n",
      "[youtube] Extracting URL: https://www.youtube.com/watch?v=LNt6higN14I\n",
      "[youtube] LNt6higN14I: Downloading webpage\n",
      "[youtube] LNt6higN14I: Downloading ios player API JSON\n",
      "[youtube] LNt6higN14I: Downloading android player API JSON\n",
      "[youtube] LNt6higN14I: Downloading m3u8 information\n",
      "[info] LNt6higN14I: Downloading 1 format(s): 251\n",
      "[download] Destination: C:\\Users\\arwin\\Documents\\dev\\APS360-PROJECT\\data\\billboard_audio\\Wale Featuring J_ Cole_Poke It Out\\Wale Featuring J_ Cole_Poke It Out.webm\n",
      "[download] 100% of    3.05MiB in 00:00:00 at 15.21MiB/s  \n",
      "[download] Finished downloading playlist: Wale Featuring J_ Cole Poke It Out\n",
      "[generic] Extracting URL: Kanye West Praise God\n",
      "[youtube:search] Extracting URL: ytsearch:Kanye West Praise God\n",
      "[download] Downloading playlist: Kanye West Praise God\n",
      "[youtube:search] query \"Kanye West Praise God\": Downloading web client config\n",
      "[youtube:search] query \"Kanye West Praise God\" page 1: Downloading API JSON\n",
      "[youtube:search] Playlist Kanye West Praise God: Downloading 1 items of 1\n",
      "[download] Downloading item 1 of 1\n",
      "[youtube] Extracting URL: https://www.youtube.com/watch?v=9sJZOGxRxwM\n",
      "[youtube] 9sJZOGxRxwM: Downloading webpage\n",
      "[youtube] 9sJZOGxRxwM: Downloading ios player API JSON\n",
      "[youtube] 9sJZOGxRxwM: Downloading android player API JSON\n",
      "[youtube] 9sJZOGxRxwM: Downloading m3u8 information\n",
      "[info] 9sJZOGxRxwM: Downloading 1 format(s): 251\n",
      "[download] Destination: C:\\Users\\arwin\\Documents\\dev\\APS360-PROJECT\\data\\billboard_audio\\Kanye West_Praise God\\Kanye West_Praise God.webm\n",
      "[download] 100% of    3.55MiB in 00:00:00 at 8.04MiB/s     \n",
      "[download] Finished downloading playlist: Kanye West Praise God\n",
      "[generic] Extracting URL: Tainy, Bad Bunny & Julieta Venegas Lo Siento BB__\n",
      "[youtube:search] Extracting URL: ytsearch:Tainy, Bad Bunny & Julieta Venegas Lo Siento BB__\n",
      "[download] Downloading playlist: Tainy, Bad Bunny & Julieta Venegas Lo Siento BB__\n",
      "[youtube:search] query \"Tainy, Bad Bunny & Julieta Venegas Lo Siento BB__\": Downloading web client config\n",
      "[youtube:search] query \"Tainy, Bad Bunny & Julieta Venegas Lo Siento BB__\" page 1: Downloading API JSON\n",
      "[youtube:search] Playlist Tainy, Bad Bunny & Julieta Venegas Lo Siento BB__: Downloading 1 items of 1\n",
      "[download] Downloading item 1 of 1\n",
      "[youtube] Extracting URL: https://www.youtube.com/watch?v=gBeJm-kP_cQ\n",
      "[youtube] gBeJm-kP_cQ: Downloading webpage\n",
      "[youtube] gBeJm-kP_cQ: Downloading ios player API JSON\n",
      "[youtube] gBeJm-kP_cQ: Downloading android player API JSON\n",
      "[youtube] gBeJm-kP_cQ: Downloading m3u8 information\n",
      "[info] gBeJm-kP_cQ: Downloading 1 format(s): 251\n",
      "[download] Destination: C:\\Users\\arwin\\Documents\\dev\\APS360-PROJECT\\data\\billboard_audio\\Tainy, Bad Bunny & Julieta Venegas_Lo Siento BB__\\Tainy, Bad Bunny & Julieta Venegas_Lo Siento BB__.webm\n",
      "[download] 100% of  961.74KiB in 00:00:00 at 2.35MiB/s   \n",
      "[download] Finished downloading playlist: Tainy, Bad Bunny & Julieta Venegas Lo Siento BB__\n",
      "[generic] Extracting URL: Jimmie Allen & Brad Paisley Freedom Was A Highway\n",
      "[youtube:search] Extracting URL: ytsearch:Jimmie Allen & Brad Paisley Freedom Was A Highway\n",
      "[download] Downloading playlist: Jimmie Allen & Brad Paisley Freedom Was A Highway\n",
      "[youtube:search] query \"Jimmie Allen & Brad Paisley Freedom Was A Highway\": Downloading web client config\n",
      "[youtube:search] query \"Jimmie Allen & Brad Paisley Freedom Was A Highway\" page 1: Downloading API JSON\n",
      "[youtube:search] Playlist Jimmie Allen & Brad Paisley Freedom Was A Highway: Downloading 1 items of 1\n",
      "[download] Downloading item 1 of 1\n",
      "[youtube] Extracting URL: https://www.youtube.com/watch?v=pgvNtz_XXE4\n",
      "[youtube] pgvNtz_XXE4: Downloading webpage\n",
      "[youtube] pgvNtz_XXE4: Downloading ios player API JSON\n",
      "[youtube] pgvNtz_XXE4: Downloading android player API JSON\n"
     ]
    },
    {
     "name": "stderr",
     "output_type": "stream",
     "text": [
      "WARNING: [youtube] YouTube said: ERROR - Precondition check failed.\n",
      "WARNING: [youtube] HTTP Error 400: Bad Request. Retrying (1/3)...\n"
     ]
    },
    {
     "name": "stdout",
     "output_type": "stream",
     "text": [
      "[youtube] pgvNtz_XXE4: Downloading android player API JSON\n",
      "[youtube] pgvNtz_XXE4: Downloading m3u8 information\n",
      "[info] pgvNtz_XXE4: Downloading 1 format(s): 251\n",
      "[download] Destination: C:\\Users\\arwin\\Documents\\dev\\APS360-PROJECT\\data\\billboard_audio\\Jimmie Allen & Brad Paisley_Freedom Was A Highway\\Jimmie Allen & Brad Paisley_Freedom Was A Highway.webm\n",
      "[download] 100% of    4.91MiB in 00:00:00 at 18.49MiB/s  \n",
      "[download] Finished downloading playlist: Jimmie Allen & Brad Paisley Freedom Was A Highway\n",
      "[generic] Extracting URL: Giveon For Tonight\n",
      "[youtube:search] Extracting URL: ytsearch:Giveon For Tonight\n",
      "[download] Downloading playlist: Giveon For Tonight\n",
      "[youtube:search] query \"Giveon For Tonight\": Downloading web client config\n",
      "[youtube:search] query \"Giveon For Tonight\" page 1: Downloading API JSON\n",
      "[youtube:search] Playlist Giveon For Tonight: Downloading 1 items of 1\n",
      "[download] Downloading item 1 of 1\n",
      "[youtube] Extracting URL: https://www.youtube.com/watch?v=JRoam571b58\n",
      "[youtube] JRoam571b58: Downloading webpage\n",
      "[youtube] JRoam571b58: Downloading ios player API JSON\n",
      "[youtube] JRoam571b58: Downloading android player API JSON\n",
      "[youtube] JRoam571b58: Downloading m3u8 information\n",
      "[info] JRoam571b58: Downloading 1 format(s): 251\n",
      "[download] Destination: C:\\Users\\arwin\\Documents\\dev\\APS360-PROJECT\\data\\billboard_audio\\Giveon_For Tonight\\Giveon_For Tonight.webm\n",
      "[download] 100% of    3.23MiB in 00:00:00 at 10.41MiB/s  \n",
      "[download] Finished downloading playlist: Giveon For Tonight\n",
      "[generic] Extracting URL: Megan Thee Stallion Thot Shit\n",
      "[youtube:search] Extracting URL: ytsearch:Megan Thee Stallion Thot Shit\n",
      "[download] Downloading playlist: Megan Thee Stallion Thot Shit\n",
      "[youtube:search] query \"Megan Thee Stallion Thot Shit\": Downloading web client config\n",
      "[youtube:search] query \"Megan Thee Stallion Thot Shit\" page 1: Downloading API JSON\n",
      "[youtube:search] Playlist Megan Thee Stallion Thot Shit: Downloading 1 items of 1\n",
      "[download] Downloading item 1 of 1\n",
      "[youtube] Extracting URL: https://www.youtube.com/watch?v=KynkMn5Hv3Q\n",
      "[youtube] KynkMn5Hv3Q: Downloading webpage\n",
      "[youtube] KynkMn5Hv3Q: Downloading ios player API JSON\n",
      "[youtube] KynkMn5Hv3Q: Downloading android player API JSON\n"
     ]
    },
    {
     "name": "stderr",
     "output_type": "stream",
     "text": [
      "WARNING: [youtube] YouTube said: ERROR - Precondition check failed.\n",
      "WARNING: [youtube] HTTP Error 400: Bad Request. Retrying (1/3)...\n"
     ]
    },
    {
     "name": "stdout",
     "output_type": "stream",
     "text": [
      "[youtube] KynkMn5Hv3Q: Downloading android player API JSON\n",
      "[youtube] KynkMn5Hv3Q: Downloading m3u8 information\n",
      "[info] KynkMn5Hv3Q: Downloading 1 format(s): 251\n",
      "[download] Destination: C:\\Users\\arwin\\Documents\\dev\\APS360-PROJECT\\data\\billboard_audio\\Megan Thee Stallion_Thot Shit\\Megan Thee Stallion_Thot Shit.webm\n",
      "[download] 100% of    4.36MiB in 00:00:00 at 24.12MiB/s  \n",
      "[download] Finished downloading playlist: Megan Thee Stallion Thot Shit\n",
      "[generic] Extracting URL: Lady A Like A Lady\n",
      "[youtube:search] Extracting URL: ytsearch:Lady A Like A Lady\n",
      "[download] Downloading playlist: Lady A Like A Lady\n",
      "[youtube:search] query \"Lady A Like A Lady\": Downloading web client config\n",
      "[youtube:search] query \"Lady A Like A Lady\" page 1: Downloading API JSON\n",
      "[youtube:search] Playlist Lady A Like A Lady: Downloading 1 items of 1\n",
      "[download] Downloading item 1 of 1\n",
      "[youtube] Extracting URL: https://www.youtube.com/watch?v=t_oMxYitTms\n",
      "[youtube] t_oMxYitTms: Downloading webpage\n",
      "[youtube] t_oMxYitTms: Downloading ios player API JSON\n",
      "[youtube] t_oMxYitTms: Downloading android player API JSON\n",
      "[youtube] t_oMxYitTms: Downloading m3u8 information\n",
      "[info] t_oMxYitTms: Downloading 1 format(s): 251\n",
      "[download] Destination: C:\\Users\\arwin\\Documents\\dev\\APS360-PROJECT\\data\\billboard_audio\\Lady A_Like A Lady\\Lady A_Like A Lady.webm\n",
      "[download] 100% of    2.89MiB in 00:00:00 at 12.91MiB/s  \n",
      "[download] Finished downloading playlist: Lady A Like A Lady\n",
      "[generic] Extracting URL: Doja Cat Get Into It (Yuh)\n",
      "[youtube:search] Extracting URL: ytsearch:Doja Cat Get Into It (Yuh)\n",
      "[download] Downloading playlist: Doja Cat Get Into It (Yuh)\n",
      "[youtube:search] query \"Doja Cat Get Into It (Yuh)\": Downloading web client config\n",
      "[youtube:search] query \"Doja Cat Get Into It (Yuh)\" page 1: Downloading API JSON\n",
      "[youtube:search] Playlist Doja Cat Get Into It (Yuh): Downloading 1 items of 1\n",
      "[download] Downloading item 1 of 1\n",
      "[youtube] Extracting URL: https://www.youtube.com/watch?v=9Ko-nEYJ1GE\n",
      "[youtube] 9Ko-nEYJ1GE: Downloading webpage\n",
      "[youtube] 9Ko-nEYJ1GE: Downloading ios player API JSON\n",
      "[youtube] 9Ko-nEYJ1GE: Downloading android player API JSON\n",
      "[youtube] 9Ko-nEYJ1GE: Downloading m3u8 information\n",
      "[info] 9Ko-nEYJ1GE: Downloading 1 format(s): 251\n",
      "[download] Destination: C:\\Users\\arwin\\Documents\\dev\\APS360-PROJECT\\data\\billboard_audio\\Doja Cat_Get Into It (Yuh)\\Doja Cat_Get Into It (Yuh).webm\n",
      "[download] 100% of    2.42MiB in 00:00:00 at 14.64MiB/s  \n",
      "[download] Finished downloading playlist: Doja Cat Get Into It (Yuh)\n",
      "[generic] Extracting URL: Moneybagg Yo Scorpio\n",
      "[youtube:search] Extracting URL: ytsearch:Moneybagg Yo Scorpio\n",
      "[download] Downloading playlist: Moneybagg Yo Scorpio\n",
      "[youtube:search] query \"Moneybagg Yo Scorpio\": Downloading web client config\n",
      "[youtube:search] query \"Moneybagg Yo Scorpio\" page 1: Downloading API JSON\n",
      "[youtube:search] Playlist Moneybagg Yo Scorpio: Downloading 1 items of 1\n",
      "[download] Downloading item 1 of 1\n",
      "[youtube] Extracting URL: https://www.youtube.com/watch?v=GChxzIwyNt4\n",
      "[youtube] GChxzIwyNt4: Downloading webpage\n",
      "[youtube] GChxzIwyNt4: Downloading ios player API JSON\n",
      "[youtube] GChxzIwyNt4: Downloading android player API JSON\n"
     ]
    },
    {
     "name": "stderr",
     "output_type": "stream",
     "text": [
      "WARNING: [youtube] YouTube said: ERROR - Precondition check failed.\n",
      "WARNING: [youtube] HTTP Error 400: Bad Request. Retrying (1/3)...\n"
     ]
    },
    {
     "name": "stdout",
     "output_type": "stream",
     "text": [
      "[youtube] GChxzIwyNt4: Downloading android player API JSON\n"
     ]
    },
    {
     "name": "stderr",
     "output_type": "stream",
     "text": [
      "WARNING: [youtube] YouTube said: ERROR - Precondition check failed.\n",
      "WARNING: [youtube] HTTP Error 400: Bad Request. Retrying (2/3)...\n"
     ]
    },
    {
     "name": "stdout",
     "output_type": "stream",
     "text": [
      "[youtube] GChxzIwyNt4: Downloading android player API JSON\n"
     ]
    },
    {
     "name": "stderr",
     "output_type": "stream",
     "text": [
      "WARNING: [youtube] YouTube said: ERROR - Precondition check failed.\n",
      "WARNING: [youtube] HTTP Error 400: Bad Request. Retrying (3/3)...\n"
     ]
    },
    {
     "name": "stdout",
     "output_type": "stream",
     "text": [
      "[youtube] GChxzIwyNt4: Downloading android player API JSON\n"
     ]
    },
    {
     "name": "stderr",
     "output_type": "stream",
     "text": [
      "WARNING: [youtube] YouTube said: ERROR - Precondition check failed.\n",
      "WARNING: [youtube] Unable to download API page: HTTP Error 400: Bad Request (caused by <HTTPError 400: Bad Request>); please report this issue on  https://github.com/yt-dlp/yt-dlp/issues?q= , filling out the appropriate issue template. Confirm you are on the latest version using  yt-dlp -U\n"
     ]
    },
    {
     "name": "stdout",
     "output_type": "stream",
     "text": [
      "[youtube] GChxzIwyNt4: Downloading m3u8 information\n",
      "[info] GChxzIwyNt4: Downloading 1 format(s): 251\n",
      "[download] Destination: C:\\Users\\arwin\\Documents\\dev\\APS360-PROJECT\\data\\billboard_audio\\Moneybagg Yo_Scorpio\\Moneybagg Yo_Scorpio.webm\n",
      "[download] 100% of    2.84MiB in 00:00:00 at 17.29MiB/s  \n",
      "[download] Finished downloading playlist: Moneybagg Yo Scorpio\n",
      "[generic] Extracting URL: Latto Big Energy\n",
      "[youtube:search] Extracting URL: ytsearch:Latto Big Energy\n",
      "[download] Downloading playlist: Latto Big Energy\n",
      "[youtube:search] query \"Latto Big Energy\": Downloading web client config\n",
      "[youtube:search] query \"Latto Big Energy\" page 1: Downloading API JSON\n",
      "[youtube:search] Playlist Latto Big Energy: Downloading 1 items of 1\n",
      "[download] Downloading item 1 of 1\n",
      "[youtube] Extracting URL: https://www.youtube.com/watch?v=T8GpG8C0YzA\n",
      "[youtube] T8GpG8C0YzA: Downloading webpage\n",
      "[youtube] T8GpG8C0YzA: Downloading ios player API JSON\n",
      "[youtube] T8GpG8C0YzA: Downloading android player API JSON\n"
     ]
    },
    {
     "name": "stderr",
     "output_type": "stream",
     "text": [
      "WARNING: [youtube] YouTube said: ERROR - Precondition check failed.\n",
      "WARNING: [youtube] HTTP Error 400: Bad Request. Retrying (1/3)...\n"
     ]
    },
    {
     "name": "stdout",
     "output_type": "stream",
     "text": [
      "[youtube] T8GpG8C0YzA: Downloading android player API JSON\n"
     ]
    },
    {
     "name": "stderr",
     "output_type": "stream",
     "text": [
      "WARNING: [youtube] YouTube said: ERROR - Precondition check failed.\n",
      "WARNING: [youtube] HTTP Error 400: Bad Request. Retrying (2/3)...\n"
     ]
    },
    {
     "name": "stdout",
     "output_type": "stream",
     "text": [
      "[youtube] T8GpG8C0YzA: Downloading android player API JSON\n"
     ]
    },
    {
     "name": "stderr",
     "output_type": "stream",
     "text": [
      "WARNING: [youtube] YouTube said: ERROR - Precondition check failed.\n",
      "WARNING: [youtube] HTTP Error 400: Bad Request. Retrying (3/3)...\n"
     ]
    },
    {
     "name": "stdout",
     "output_type": "stream",
     "text": [
      "[youtube] T8GpG8C0YzA: Downloading android player API JSON\n"
     ]
    },
    {
     "name": "stderr",
     "output_type": "stream",
     "text": [
      "WARNING: [youtube] YouTube said: ERROR - Precondition check failed.\n",
      "WARNING: [youtube] Unable to download API page: HTTP Error 400: Bad Request (caused by <HTTPError 400: Bad Request>); please report this issue on  https://github.com/yt-dlp/yt-dlp/issues?q= , filling out the appropriate issue template. Confirm you are on the latest version using  yt-dlp -U\n"
     ]
    },
    {
     "name": "stdout",
     "output_type": "stream",
     "text": [
      "[youtube] T8GpG8C0YzA: Downloading player c48a9559\n",
      "[youtube] T8GpG8C0YzA: Downloading m3u8 information\n",
      "[info] T8GpG8C0YzA: Downloading 1 format(s): 251\n",
      "[download] Destination: C:\\Users\\arwin\\Documents\\dev\\APS360-PROJECT\\data\\billboard_audio\\Latto_Big Energy\\Latto_Big Energy.webm\n",
      "[download] 100% of    3.22MiB in 00:00:00 at 10.04MiB/s    \n",
      "[download] Finished downloading playlist: Latto Big Energy\n",
      "[generic] Extracting URL: Kelsea Ballerini Featuring Kenny Chesney Half Of My Hometown\n",
      "[youtube:search] Extracting URL: ytsearch:Kelsea Ballerini Featuring Kenny Chesney Half Of My Hometown\n",
      "[download] Downloading playlist: Kelsea Ballerini Featuring Kenny Chesney Half Of My Hometown\n",
      "[youtube:search] query \"Kelsea Ballerini Featuring Kenny Chesney Half Of My Hometown\": Downloading web client config\n",
      "[youtube:search] query \"Kelsea Ballerini Featuring Kenny Chesney Half Of My Hometown\" page 1: Downloading API JSON\n",
      "[youtube:search] Playlist Kelsea Ballerini Featuring Kenny Chesney Half Of My Hometown: Downloading 1 items of 1\n",
      "[download] Downloading item 1 of 1\n",
      "[youtube] Extracting URL: https://www.youtube.com/watch?v=abYaq2tWGYs\n",
      "[youtube] abYaq2tWGYs: Downloading webpage\n",
      "[youtube] abYaq2tWGYs: Downloading ios player API JSON\n",
      "[youtube] abYaq2tWGYs: Downloading android player API JSON\n",
      "[youtube] abYaq2tWGYs: Downloading m3u8 information\n",
      "[info] abYaq2tWGYs: Downloading 1 format(s): 251\n",
      "[download] Destination: C:\\Users\\arwin\\Documents\\dev\\APS360-PROJECT\\data\\billboard_audio\\Kelsea Ballerini Featuring Kenny Chesney_Half Of My Hometown\\Kelsea Ballerini Featuring Kenny Chesney_Half Of My Hometown.webm\n",
      "[download] 100% of    4.69MiB in 00:00:00 at 7.68MiB/s   \n",
      "[download] Finished downloading playlist: Kelsea Ballerini Featuring Kenny Chesney Half Of My Hometown\n",
      "[generic] Extracting URL: Lisa Money\n",
      "[youtube:search] Extracting URL: ytsearch:Lisa Money\n",
      "[download] Downloading playlist: Lisa Money\n",
      "[youtube:search] query \"Lisa Money\": Downloading web client config\n",
      "[youtube:search] query \"Lisa Money\" page 1: Downloading API JSON\n",
      "[youtube:search] Playlist Lisa Money: Downloading 1 items of 1\n",
      "[download] Downloading item 1 of 1\n",
      "[youtube] Extracting URL: https://www.youtube.com/watch?v=dNCWe_6HAM8\n",
      "[youtube] dNCWe_6HAM8: Downloading webpage\n",
      "[youtube] dNCWe_6HAM8: Downloading ios player API JSON\n",
      "[youtube] dNCWe_6HAM8: Downloading android player API JSON\n",
      "[youtube] dNCWe_6HAM8: Downloading m3u8 information\n",
      "[info] dNCWe_6HAM8: Downloading 1 format(s): 251\n",
      "[download] Destination: C:\\Users\\arwin\\Documents\\dev\\APS360-PROJECT\\data\\billboard_audio\\Lisa_Money\\Lisa_Money.webm\n",
      "[download] 100% of    2.76MiB in 00:00:00 at 14.94MiB/s  \n",
      "[download] Finished downloading playlist: Lisa Money\n",
      "[generic] Extracting URL: Drake No Friends In The Industry\n",
      "[youtube:search] Extracting URL: ytsearch:Drake No Friends In The Industry\n",
      "[download] Downloading playlist: Drake No Friends In The Industry\n",
      "[youtube:search] query \"Drake No Friends In The Industry\": Downloading web client config\n",
      "[youtube:search] query \"Drake No Friends In The Industry\" page 1: Downloading API JSON\n",
      "[youtube:search] Playlist Drake No Friends In The Industry: Downloading 1 items of 1\n",
      "[download] Downloading item 1 of 1\n",
      "[youtube] Extracting URL: https://www.youtube.com/watch?v=_dSN9EaQotw\n",
      "[youtube] _dSN9EaQotw: Downloading webpage\n",
      "[youtube] _dSN9EaQotw: Downloading ios player API JSON\n",
      "[youtube] _dSN9EaQotw: Downloading android player API JSON\n"
     ]
    },
    {
     "name": "stderr",
     "output_type": "stream",
     "text": [
      "WARNING: [youtube] YouTube said: ERROR - Precondition check failed.\n",
      "WARNING: [youtube] HTTP Error 400: Bad Request. Retrying (1/3)...\n"
     ]
    },
    {
     "name": "stdout",
     "output_type": "stream",
     "text": [
      "[youtube] _dSN9EaQotw: Downloading android player API JSON\n",
      "[youtube] _dSN9EaQotw: Downloading m3u8 information\n",
      "[info] _dSN9EaQotw: Downloading 1 format(s): 251\n",
      "[download] Destination: C:\\Users\\arwin\\Documents\\dev\\APS360-PROJECT\\data\\billboard_audio\\Drake_No Friends In The Industry\\Drake_No Friends In The Industry.webm\n",
      "[download] 100% of    3.36MiB in 00:00:00 at 14.99MiB/s  \n",
      "[download] Finished downloading playlist: Drake No Friends In The Industry\n",
      "[generic] Extracting URL: Grupo Firme Ya Superame (En Vivo Desde Culiacan, Sinaloa)\n",
      "[youtube:search] Extracting URL: ytsearch:Grupo Firme Ya Superame (En Vivo Desde Culiacan, Sinaloa)\n",
      "[download] Downloading playlist: Grupo Firme Ya Superame (En Vivo Desde Culiacan, Sinaloa)\n",
      "[youtube:search] query \"Grupo Firme Ya Superame (En Vivo Desde Culiacan, Sinaloa)\": Downloading web client config\n",
      "[youtube:search] query \"Grupo Firme Ya Superame (En Vivo Desde Culiacan, Sinaloa)\" page 1: Downloading API JSON\n",
      "[youtube:search] Playlist Grupo Firme Ya Superame (En Vivo Desde Culiacan, Sinaloa): Downloading 1 items of 1\n",
      "[download] Downloading item 1 of 1\n",
      "[youtube] Extracting URL: https://www.youtube.com/watch?v=wLrtHQSDPys\n",
      "[youtube] wLrtHQSDPys: Downloading webpage\n",
      "[youtube] wLrtHQSDPys: Downloading ios player API JSON\n",
      "[youtube] wLrtHQSDPys: Downloading android player API JSON\n"
     ]
    },
    {
     "name": "stderr",
     "output_type": "stream",
     "text": [
      "WARNING: [youtube] YouTube said: ERROR - Precondition check failed.\n",
      "WARNING: [youtube] HTTP Error 400: Bad Request. Retrying (1/3)...\n"
     ]
    },
    {
     "name": "stdout",
     "output_type": "stream",
     "text": [
      "[youtube] wLrtHQSDPys: Downloading android player API JSON\n",
      "[youtube] wLrtHQSDPys: Downloading m3u8 information\n",
      "[info] wLrtHQSDPys: Downloading 1 format(s): 251\n",
      "[download] Destination: C:\\Users\\arwin\\Documents\\dev\\APS360-PROJECT\\data\\billboard_audio\\Grupo Firme_Ya Superame (En Vivo Desde Culiacan, Sinaloa)\\Grupo Firme_Ya Superame (En Vivo Desde Culiacan, Sinaloa).webm\n",
      "[download] 100% of   32.15MiB in 00:00:01 at 17.23MiB/s    \n",
      "[download] Finished downloading playlist: Grupo Firme Ya Superame (En Vivo Desde Culiacan, Sinaloa)\n",
      "[generic] Extracting URL: Jonas Brothers Who's In Your Head\n",
      "[youtube:search] Extracting URL: ytsearch:Jonas Brothers Who's In Your Head\n",
      "[download] Downloading playlist: Jonas Brothers Who's In Your Head\n",
      "[youtube:search] query \"Jonas Brothers Who's In Your Head\": Downloading web client config\n",
      "[youtube:search] query \"Jonas Brothers Who's In Your Head\" page 1: Downloading API JSON\n",
      "[youtube:search] Playlist Jonas Brothers Who's In Your Head: Downloading 1 items of 1\n",
      "[download] Downloading item 1 of 1\n",
      "[youtube] Extracting URL: https://www.youtube.com/watch?v=orex_wD5ths\n",
      "[youtube] orex_wD5ths: Downloading webpage\n",
      "[youtube] orex_wD5ths: Downloading ios player API JSON\n",
      "[youtube] orex_wD5ths: Downloading android player API JSON\n",
      "[youtube] orex_wD5ths: Downloading m3u8 information\n",
      "[info] orex_wD5ths: Downloading 1 format(s): 251\n",
      "[download] Destination: C:\\Users\\arwin\\Documents\\dev\\APS360-PROJECT\\data\\billboard_audio\\Jonas Brothers_Who's In Your Head\\Jonas Brothers_Who's In Your Head.webm\n",
      "[download] 100% of    2.79MiB in 00:00:00 at 14.13MiB/s  \n",
      "[download] Finished downloading playlist: Jonas Brothers Who's In Your Head\n",
      "[generic] Extracting URL: Drake Featuring Lil Durk & Giveon In The Bible\n",
      "[youtube:search] Extracting URL: ytsearch:Drake Featuring Lil Durk & Giveon In The Bible\n",
      "[download] Downloading playlist: Drake Featuring Lil Durk & Giveon In The Bible\n",
      "[youtube:search] query \"Drake Featuring Lil Durk & Giveon In The Bible\": Downloading web client config\n",
      "[youtube:search] query \"Drake Featuring Lil Durk & Giveon In The Bible\" page 1: Downloading API JSON\n",
      "[youtube:search] Playlist Drake Featuring Lil Durk & Giveon In The Bible: Downloading 1 items of 1\n",
      "[download] Downloading item 1 of 1\n",
      "[youtube] Extracting URL: https://www.youtube.com/watch?v=eEdVtJW_PwE\n",
      "[youtube] eEdVtJW_PwE: Downloading webpage\n",
      "[youtube] eEdVtJW_PwE: Downloading ios player API JSON\n",
      "[youtube] eEdVtJW_PwE: Downloading android player API JSON\n"
     ]
    },
    {
     "name": "stderr",
     "output_type": "stream",
     "text": [
      "WARNING: [youtube] YouTube said: ERROR - Precondition check failed.\n",
      "WARNING: [youtube] HTTP Error 400: Bad Request. Retrying (1/3)...\n"
     ]
    },
    {
     "name": "stdout",
     "output_type": "stream",
     "text": [
      "[youtube] eEdVtJW_PwE: Downloading android player API JSON\n",
      "[youtube] eEdVtJW_PwE: Downloading m3u8 information\n",
      "[info] eEdVtJW_PwE: Downloading 1 format(s): 251\n",
      "[download] Destination: C:\\Users\\arwin\\Documents\\dev\\APS360-PROJECT\\data\\billboard_audio\\Drake Featuring Lil Durk & Giveon_In The Bible\\Drake Featuring Lil Durk & Giveon_In The Bible.webm\n",
      "[download] 100% of    4.96MiB in 00:00:00 at 17.83MiB/s    \n",
      "[download] Finished downloading playlist: Drake Featuring Lil Durk & Giveon In The Bible\n",
      "[generic] Extracting URL: Priscilla Block Just About Over You\n",
      "[youtube:search] Extracting URL: ytsearch:Priscilla Block Just About Over You\n",
      "[download] Downloading playlist: Priscilla Block Just About Over You\n",
      "[youtube:search] query \"Priscilla Block Just About Over You\": Downloading web client config\n",
      "[youtube:search] query \"Priscilla Block Just About Over You\" page 1: Downloading API JSON\n",
      "[youtube:search] Playlist Priscilla Block Just About Over You: Downloading 1 items of 1\n",
      "[download] Downloading item 1 of 1\n",
      "[youtube] Extracting URL: https://www.youtube.com/watch?v=J1Jrp0tiRGk\n",
      "[youtube] J1Jrp0tiRGk: Downloading webpage\n",
      "[youtube] J1Jrp0tiRGk: Downloading ios player API JSON\n",
      "[youtube] J1Jrp0tiRGk: Downloading android player API JSON\n"
     ]
    },
    {
     "name": "stderr",
     "output_type": "stream",
     "text": [
      "WARNING: [youtube] YouTube said: ERROR - Precondition check failed.\n",
      "WARNING: [youtube] HTTP Error 400: Bad Request. Retrying (1/3)...\n"
     ]
    },
    {
     "name": "stdout",
     "output_type": "stream",
     "text": [
      "[youtube] J1Jrp0tiRGk: Downloading android player API JSON\n"
     ]
    },
    {
     "name": "stderr",
     "output_type": "stream",
     "text": [
      "WARNING: [youtube] YouTube said: ERROR - Precondition check failed.\n",
      "WARNING: [youtube] HTTP Error 400: Bad Request. Retrying (2/3)...\n"
     ]
    },
    {
     "name": "stdout",
     "output_type": "stream",
     "text": [
      "[youtube] J1Jrp0tiRGk: Downloading android player API JSON\n",
      "[youtube] J1Jrp0tiRGk: Downloading m3u8 information\n",
      "[info] J1Jrp0tiRGk: Downloading 1 format(s): 251\n",
      "[download] Destination: C:\\Users\\arwin\\Documents\\dev\\APS360-PROJECT\\data\\billboard_audio\\Priscilla Block_Just About Over You\\Priscilla Block_Just About Over You.webm\n",
      "[download] 100% of    3.08MiB in 00:00:00 at 15.46MiB/s  \n",
      "[download] Finished downloading playlist: Priscilla Block Just About Over You\n",
      "[generic] Extracting URL: Parker McCollum To Be Loved By You\n",
      "[youtube:search] Extracting URL: ytsearch:Parker McCollum To Be Loved By You\n",
      "[download] Downloading playlist: Parker McCollum To Be Loved By You\n",
      "[youtube:search] query \"Parker McCollum To Be Loved By You\": Downloading web client config\n",
      "[youtube:search] query \"Parker McCollum To Be Loved By You\" page 1: Downloading API JSON\n",
      "[youtube:search] Playlist Parker McCollum To Be Loved By You: Downloading 1 items of 1\n",
      "[download] Downloading item 1 of 1\n",
      "[youtube] Extracting URL: https://www.youtube.com/watch?v=6FdpFu630hY\n",
      "[youtube] 6FdpFu630hY: Downloading webpage\n",
      "[youtube] 6FdpFu630hY: Downloading ios player API JSON\n",
      "[youtube] 6FdpFu630hY: Downloading android player API JSON\n",
      "[youtube] 6FdpFu630hY: Downloading m3u8 information\n",
      "[info] 6FdpFu630hY: Downloading 1 format(s): 251\n",
      "[download] Destination: C:\\Users\\arwin\\Documents\\dev\\APS360-PROJECT\\data\\billboard_audio\\Parker McCollum_To Be Loved By You\\Parker McCollum_To Be Loved By You.webm\n",
      "[download] 100% of    3.41MiB in 00:00:00 at 19.44MiB/s  \n",
      "[download] Finished downloading playlist: Parker McCollum To Be Loved By You\n",
      "[generic] Extracting URL: Doja Cat Ain't Shit\n",
      "[youtube:search] Extracting URL: ytsearch:Doja Cat Ain't Shit\n",
      "[download] Downloading playlist: Doja Cat Ain't Shit\n",
      "[youtube:search] query \"Doja Cat Ain't Shit\": Downloading web client config\n",
      "[youtube:search] query \"Doja Cat Ain't Shit\" page 1: Downloading API JSON\n",
      "[youtube:search] Playlist Doja Cat Ain't Shit: Downloading 1 items of 1\n",
      "[download] Downloading item 1 of 1\n",
      "[youtube] Extracting URL: https://www.youtube.com/watch?v=13MvatpPQv4\n",
      "[youtube] 13MvatpPQv4: Downloading webpage\n",
      "[youtube] 13MvatpPQv4: Downloading ios player API JSON\n",
      "[youtube] 13MvatpPQv4: Downloading android player API JSON\n"
     ]
    },
    {
     "name": "stderr",
     "output_type": "stream",
     "text": [
      "WARNING: [youtube] YouTube said: ERROR - Precondition check failed.\n",
      "WARNING: [youtube] HTTP Error 400: Bad Request. Retrying (1/3)...\n"
     ]
    },
    {
     "name": "stdout",
     "output_type": "stream",
     "text": [
      "[youtube] 13MvatpPQv4: Downloading android player API JSON\n"
     ]
    },
    {
     "name": "stderr",
     "output_type": "stream",
     "text": [
      "WARNING: [youtube] YouTube said: ERROR - Precondition check failed.\n",
      "WARNING: [youtube] HTTP Error 400: Bad Request. Retrying (2/3)...\n"
     ]
    },
    {
     "name": "stdout",
     "output_type": "stream",
     "text": [
      "[youtube] 13MvatpPQv4: Downloading android player API JSON\n"
     ]
    },
    {
     "name": "stderr",
     "output_type": "stream",
     "text": [
      "WARNING: [youtube] YouTube said: ERROR - Precondition check failed.\n",
      "WARNING: [youtube] HTTP Error 400: Bad Request. Retrying (3/3)...\n"
     ]
    },
    {
     "name": "stdout",
     "output_type": "stream",
     "text": [
      "[youtube] 13MvatpPQv4: Downloading android player API JSON\n",
      "[youtube] 13MvatpPQv4: Downloading m3u8 information\n",
      "[info] 13MvatpPQv4: Downloading 1 format(s): 251\n",
      "[download] Destination: C:\\Users\\arwin\\Documents\\dev\\APS360-PROJECT\\data\\billboard_audio\\Doja Cat_Ain't Shit\\Doja Cat_Ain't Shit.webm\n",
      "[download] 100% of    2.77MiB in 00:00:00 at 17.53MiB/s    \n",
      "[download] Finished downloading playlist: Doja Cat Ain't Shit\n",
      "[generic] Extracting URL: Oliver Tree Life Goes On\n",
      "[youtube:search] Extracting URL: ytsearch:Oliver Tree Life Goes On\n",
      "[download] Downloading playlist: Oliver Tree Life Goes On\n",
      "[youtube:search] query \"Oliver Tree Life Goes On\": Downloading web client config\n",
      "[youtube:search] query \"Oliver Tree Life Goes On\" page 1: Downloading API JSON\n",
      "[youtube:search] Playlist Oliver Tree Life Goes On: Downloading 1 items of 1\n",
      "[download] Downloading item 1 of 1\n",
      "[youtube] Extracting URL: https://www.youtube.com/watch?v=8F2s8ivKXNY\n",
      "[youtube] 8F2s8ivKXNY: Downloading webpage\n",
      "[youtube] 8F2s8ivKXNY: Downloading ios player API JSON\n",
      "[youtube] 8F2s8ivKXNY: Downloading android player API JSON\n",
      "[youtube] 8F2s8ivKXNY: Downloading m3u8 information\n",
      "[info] 8F2s8ivKXNY: Downloading 1 format(s): 251\n",
      "[download] Destination: C:\\Users\\arwin\\Documents\\dev\\APS360-PROJECT\\data\\billboard_audio\\Oliver Tree_Life Goes On\\Oliver Tree_Life Goes On.webm\n",
      "[download] 100% of    3.11MiB in 00:00:00 at 21.23MiB/s  \n",
      "[download] Finished downloading playlist: Oliver Tree Life Goes On\n",
      "[generic] Extracting URL: H_E_R_ Featuring Chris Brown Come Through\n",
      "[youtube:search] Extracting URL: ytsearch:H_E_R_ Featuring Chris Brown Come Through\n",
      "[download] Downloading playlist: H_E_R_ Featuring Chris Brown Come Through\n",
      "[youtube:search] query \"H_E_R_ Featuring Chris Brown Come Through\": Downloading web client config\n",
      "[youtube:search] query \"H_E_R_ Featuring Chris Brown Come Through\" page 1: Downloading API JSON\n",
      "[youtube:search] Playlist H_E_R_ Featuring Chris Brown Come Through: Downloading 1 items of 1\n",
      "[download] Downloading item 1 of 1\n",
      "[youtube] Extracting URL: https://www.youtube.com/watch?v=50GjhhyfN_Q\n",
      "[youtube] 50GjhhyfN_Q: Downloading webpage\n",
      "[youtube] 50GjhhyfN_Q: Downloading ios player API JSON\n",
      "[youtube] 50GjhhyfN_Q: Downloading android player API JSON\n"
     ]
    },
    {
     "name": "stderr",
     "output_type": "stream",
     "text": [
      "WARNING: [youtube] YouTube said: ERROR - Precondition check failed.\n",
      "WARNING: [youtube] HTTP Error 400: Bad Request. Retrying (1/3)...\n"
     ]
    },
    {
     "name": "stdout",
     "output_type": "stream",
     "text": [
      "[youtube] 50GjhhyfN_Q: Downloading android player API JSON\n"
     ]
    },
    {
     "name": "stderr",
     "output_type": "stream",
     "text": [
      "WARNING: [youtube] YouTube said: ERROR - Precondition check failed.\n",
      "WARNING: [youtube] HTTP Error 400: Bad Request. Retrying (2/3)...\n"
     ]
    },
    {
     "name": "stdout",
     "output_type": "stream",
     "text": [
      "[youtube] 50GjhhyfN_Q: Downloading android player API JSON\n"
     ]
    },
    {
     "name": "stderr",
     "output_type": "stream",
     "text": [
      "WARNING: [youtube] YouTube said: ERROR - Precondition check failed.\n",
      "WARNING: [youtube] HTTP Error 400: Bad Request. Retrying (3/3)...\n"
     ]
    },
    {
     "name": "stdout",
     "output_type": "stream",
     "text": [
      "[youtube] 50GjhhyfN_Q: Downloading android player API JSON\n"
     ]
    },
    {
     "name": "stderr",
     "output_type": "stream",
     "text": [
      "WARNING: [youtube] YouTube said: ERROR - Precondition check failed.\n",
      "WARNING: [youtube] Unable to download API page: HTTP Error 400: Bad Request (caused by <HTTPError 400: Bad Request>); please report this issue on  https://github.com/yt-dlp/yt-dlp/issues?q= , filling out the appropriate issue template. Confirm you are on the latest version using  yt-dlp -U\n"
     ]
    },
    {
     "name": "stdout",
     "output_type": "stream",
     "text": [
      "[youtube] 50GjhhyfN_Q: Downloading m3u8 information\n",
      "[info] 50GjhhyfN_Q: Downloading 1 format(s): 251\n",
      "[download] Destination: C:\\Users\\arwin\\Documents\\dev\\APS360-PROJECT\\data\\billboard_audio\\H_E_R_ Featuring Chris Brown_Come Through\\H_E_R_ Featuring Chris Brown_Come Through.webm\n",
      "[download] 100% of    3.83MiB in 00:00:00 at 23.73MiB/s    \n",
      "[download] Finished downloading playlist: H_E_R_ Featuring Chris Brown Come Through\n",
      "[generic] Extracting URL: YoungBoy Never Broke Again Nevada\n",
      "[youtube:search] Extracting URL: ytsearch:YoungBoy Never Broke Again Nevada\n",
      "[download] Downloading playlist: YoungBoy Never Broke Again Nevada\n",
      "[youtube:search] query \"YoungBoy Never Broke Again Nevada\": Downloading web client config\n",
      "[youtube:search] query \"YoungBoy Never Broke Again Nevada\" page 1: Downloading API JSON\n",
      "[youtube:search] Playlist YoungBoy Never Broke Again Nevada: Downloading 1 items of 1\n",
      "[download] Downloading item 1 of 1\n",
      "[youtube] Extracting URL: https://www.youtube.com/watch?v=JfGnwcf5Lt0\n",
      "[youtube] JfGnwcf5Lt0: Downloading webpage\n",
      "[youtube] JfGnwcf5Lt0: Downloading ios player API JSON\n",
      "[youtube] JfGnwcf5Lt0: Downloading android player API JSON\n",
      "[youtube] JfGnwcf5Lt0: Downloading m3u8 information\n",
      "[info] JfGnwcf5Lt0: Downloading 1 format(s): 251\n",
      "[download] Destination: C:\\Users\\arwin\\Documents\\dev\\APS360-PROJECT\\data\\billboard_audio\\YoungBoy Never Broke Again_Nevada\\YoungBoy Never Broke Again_Nevada.webm\n",
      "[download] 100% of    3.45MiB in 00:00:00 at 20.06MiB/s  \n",
      "[download] Finished downloading playlist: YoungBoy Never Broke Again Nevada\n",
      "[generic] Extracting URL: Marshmello X Jonas Brothers Leave Before You Love Me\n",
      "[youtube:search] Extracting URL: ytsearch:Marshmello X Jonas Brothers Leave Before You Love Me\n",
      "[download] Downloading playlist: Marshmello X Jonas Brothers Leave Before You Love Me\n",
      "[youtube:search] query \"Marshmello X Jonas Brothers Leave Before You Love Me\": Downloading web client config\n",
      "[youtube:search] query \"Marshmello X Jonas Brothers Leave Before You Love Me\" page 1: Downloading API JSON\n",
      "[youtube:search] Playlist Marshmello X Jonas Brothers Leave Before You Love Me: Downloading 1 items of 1\n",
      "[download] Downloading item 1 of 1\n",
      "[youtube] Extracting URL: https://www.youtube.com/watch?v=hmUyEDG7Jy0\n",
      "[youtube] hmUyEDG7Jy0: Downloading webpage\n",
      "[youtube] hmUyEDG7Jy0: Downloading ios player API JSON\n",
      "[youtube] hmUyEDG7Jy0: Downloading android player API JSON\n"
     ]
    },
    {
     "name": "stderr",
     "output_type": "stream",
     "text": [
      "WARNING: [youtube] YouTube said: ERROR - Precondition check failed.\n",
      "WARNING: [youtube] HTTP Error 400: Bad Request. Retrying (1/3)...\n"
     ]
    },
    {
     "name": "stdout",
     "output_type": "stream",
     "text": [
      "[youtube] hmUyEDG7Jy0: Downloading android player API JSON\n"
     ]
    },
    {
     "name": "stderr",
     "output_type": "stream",
     "text": [
      "WARNING: [youtube] YouTube said: ERROR - Precondition check failed.\n",
      "WARNING: [youtube] HTTP Error 400: Bad Request. Retrying (2/3)...\n"
     ]
    },
    {
     "name": "stdout",
     "output_type": "stream",
     "text": [
      "[youtube] hmUyEDG7Jy0: Downloading android player API JSON\n"
     ]
    },
    {
     "name": "stderr",
     "output_type": "stream",
     "text": [
      "WARNING: [youtube] YouTube said: ERROR - Precondition check failed.\n",
      "WARNING: [youtube] HTTP Error 400: Bad Request. Retrying (3/3)...\n"
     ]
    },
    {
     "name": "stdout",
     "output_type": "stream",
     "text": [
      "[youtube] hmUyEDG7Jy0: Downloading android player API JSON\n",
      "[youtube] hmUyEDG7Jy0: Downloading m3u8 information\n",
      "[info] hmUyEDG7Jy0: Downloading 1 format(s): 251\n",
      "[download] Destination: C:\\Users\\arwin\\Documents\\dev\\APS360-PROJECT\\data\\billboard_audio\\Marshmello X Jonas Brothers_Leave Before You Love Me\\Marshmello X Jonas Brothers_Leave Before You Love Me.webm\n",
      "[download] 100% of    2.55MiB in 00:00:00 at 18.48MiB/s    \n",
      "[download] Finished downloading playlist: Marshmello X Jonas Brothers Leave Before You Love Me\n",
      "[generic] Extracting URL: Olivia Rodrigo Deja Vu\n",
      "[youtube:search] Extracting URL: ytsearch:Olivia Rodrigo Deja Vu\n",
      "[download] Downloading playlist: Olivia Rodrigo Deja Vu\n",
      "[youtube:search] query \"Olivia Rodrigo Deja Vu\": Downloading web client config\n",
      "[youtube:search] query \"Olivia Rodrigo Deja Vu\" page 1: Downloading API JSON\n",
      "[youtube:search] Playlist Olivia Rodrigo Deja Vu: Downloading 1 items of 1\n",
      "[download] Downloading item 1 of 1\n",
      "[youtube] Extracting URL: https://www.youtube.com/watch?v=cii6ruuycQA\n",
      "[youtube] cii6ruuycQA: Downloading webpage\n",
      "[youtube] cii6ruuycQA: Downloading ios player API JSON\n",
      "[youtube] cii6ruuycQA: Downloading android player API JSON\n"
     ]
    },
    {
     "name": "stderr",
     "output_type": "stream",
     "text": [
      "WARNING: [youtube] YouTube said: ERROR - Precondition check failed.\n",
      "WARNING: [youtube] HTTP Error 400: Bad Request. Retrying (1/3)...\n"
     ]
    },
    {
     "name": "stdout",
     "output_type": "stream",
     "text": [
      "[youtube] cii6ruuycQA: Downloading android player API JSON\n"
     ]
    },
    {
     "name": "stderr",
     "output_type": "stream",
     "text": [
      "WARNING: [youtube] YouTube said: ERROR - Precondition check failed.\n",
      "WARNING: [youtube] HTTP Error 400: Bad Request. Retrying (2/3)...\n"
     ]
    },
    {
     "name": "stdout",
     "output_type": "stream",
     "text": [
      "[youtube] cii6ruuycQA: Downloading android player API JSON\n",
      "[youtube] cii6ruuycQA: Downloading m3u8 information\n",
      "[info] cii6ruuycQA: Downloading 1 format(s): 251\n",
      "[download] Destination: C:\\Users\\arwin\\Documents\\dev\\APS360-PROJECT\\data\\billboard_audio\\Olivia Rodrigo_Deja Vu\\Olivia Rodrigo_Deja Vu.webm\n",
      "[download] 100% of    3.65MiB in 00:00:00 at 20.54MiB/s  \n",
      "[download] Finished downloading playlist: Olivia Rodrigo Deja Vu\n",
      "[generic] Extracting URL: Summer Walker & JT Ex For A Reason\n",
      "[youtube:search] Extracting URL: ytsearch:Summer Walker & JT Ex For A Reason\n",
      "[download] Downloading playlist: Summer Walker & JT Ex For A Reason\n",
      "[youtube:search] query \"Summer Walker & JT Ex For A Reason\": Downloading web client config\n",
      "[youtube:search] query \"Summer Walker & JT Ex For A Reason\" page 1: Downloading API JSON\n",
      "[youtube:search] Playlist Summer Walker & JT Ex For A Reason: Downloading 1 items of 1\n",
      "[download] Downloading item 1 of 1\n",
      "[youtube] Extracting URL: https://www.youtube.com/watch?v=i1dqmmgAeKo\n",
      "[youtube] i1dqmmgAeKo: Downloading webpage\n",
      "[youtube] i1dqmmgAeKo: Downloading ios player API JSON\n",
      "[youtube] i1dqmmgAeKo: Downloading android player API JSON\n"
     ]
    },
    {
     "name": "stderr",
     "output_type": "stream",
     "text": [
      "WARNING: [youtube] YouTube said: ERROR - Precondition check failed.\n",
      "WARNING: [youtube] HTTP Error 400: Bad Request. Retrying (1/3)...\n"
     ]
    },
    {
     "name": "stdout",
     "output_type": "stream",
     "text": [
      "[youtube] i1dqmmgAeKo: Downloading android player API JSON\n",
      "[youtube] i1dqmmgAeKo: Downloading m3u8 information\n",
      "[info] i1dqmmgAeKo: Downloading 1 format(s): 251\n",
      "[download] Destination: C:\\Users\\arwin\\Documents\\dev\\APS360-PROJECT\\data\\billboard_audio\\Summer Walker & JT_Ex For A Reason\\Summer Walker & JT_Ex For A Reason.webm\n",
      "[download] 100% of    4.24MiB in 00:00:00 at 6.50MiB/s   \n",
      "[download] Finished downloading playlist: Summer Walker & JT Ex For A Reason\n",
      "[generic] Extracting URL: Roddy Ricch Late At Night\n",
      "[youtube:search] Extracting URL: ytsearch:Roddy Ricch Late At Night\n",
      "[download] Downloading playlist: Roddy Ricch Late At Night\n",
      "[youtube:search] query \"Roddy Ricch Late At Night\": Downloading web client config\n",
      "[youtube:search] query \"Roddy Ricch Late At Night\" page 1: Downloading API JSON\n",
      "[youtube:search] Playlist Roddy Ricch Late At Night: Downloading 1 items of 1\n",
      "[download] Downloading item 1 of 1\n",
      "[youtube] Extracting URL: https://www.youtube.com/watch?v=sJDRfZJFAk0\n",
      "[youtube] sJDRfZJFAk0: Downloading webpage\n",
      "[youtube] sJDRfZJFAk0: Downloading ios player API JSON\n",
      "[youtube] sJDRfZJFAk0: Downloading android player API JSON\n",
      "[youtube] sJDRfZJFAk0: Downloading m3u8 information\n",
      "[info] sJDRfZJFAk0: Downloading 1 format(s): 251\n",
      "[download] Destination: C:\\Users\\arwin\\Documents\\dev\\APS360-PROJECT\\data\\billboard_audio\\Roddy Ricch_Late At Night\\Roddy Ricch_Late At Night.webm\n",
      "[download] 100% of    4.51MiB in 00:00:00 at 20.64MiB/s  \n",
      "[download] Finished downloading playlist: Roddy Ricch Late At Night\n",
      "[generic] Extracting URL: Young Thug With Post Malone & A$AP Rocky Livin It Up\n",
      "[youtube:search] Extracting URL: ytsearch:Young Thug With Post Malone & A$AP Rocky Livin It Up\n",
      "[download] Downloading playlist: Young Thug With Post Malone & A$AP Rocky Livin It Up\n",
      "[youtube:search] query \"Young Thug With Post Malone & A$AP Rocky Livin It Up\": Downloading web client config\n",
      "[youtube:search] query \"Young Thug With Post Malone & A$AP Rocky Livin It Up\" page 1: Downloading API JSON\n",
      "[youtube:search] Playlist Young Thug With Post Malone & A$AP Rocky Livin It Up: Downloading 1 items of 1\n",
      "[download] Downloading item 1 of 1\n",
      "[youtube] Extracting URL: https://www.youtube.com/watch?v=KYDFWENwwDY\n",
      "[youtube] KYDFWENwwDY: Downloading webpage\n",
      "[youtube] KYDFWENwwDY: Downloading ios player API JSON\n",
      "[youtube] KYDFWENwwDY: Downloading android player API JSON\n"
     ]
    },
    {
     "name": "stderr",
     "output_type": "stream",
     "text": [
      "WARNING: [youtube] YouTube said: ERROR - Precondition check failed.\n",
      "WARNING: [youtube] HTTP Error 400: Bad Request. Retrying (1/3)...\n"
     ]
    },
    {
     "name": "stdout",
     "output_type": "stream",
     "text": [
      "[youtube] KYDFWENwwDY: Downloading android player API JSON\n",
      "[youtube] KYDFWENwwDY: Downloading m3u8 information\n",
      "[info] KYDFWENwwDY: Downloading 1 format(s): 251\n",
      "[download] Destination: C:\\Users\\arwin\\Documents\\dev\\APS360-PROJECT\\data\\billboard_audio\\Young Thug With Post Malone & A$AP Rocky_Livin It Up\\Young Thug With Post Malone & A$AP Rocky_Livin It Up.webm\n",
      "[download] 100% of    3.42MiB in 00:00:00 at 10.85MiB/s  \n",
      "[download] Finished downloading playlist: Young Thug With Post Malone & A$AP Rocky Livin It Up\n",
      "[generic] Extracting URL: Young Thug With J_ Cole & T-Shyne Stressed\n",
      "[youtube:search] Extracting URL: ytsearch:Young Thug With J_ Cole & T-Shyne Stressed\n",
      "[download] Downloading playlist: Young Thug With J_ Cole & T-Shyne Stressed\n",
      "[youtube:search] query \"Young Thug With J_ Cole & T-Shyne Stressed\": Downloading web client config\n",
      "[youtube:search] query \"Young Thug With J_ Cole & T-Shyne Stressed\" page 1: Downloading API JSON\n",
      "[youtube:search] Playlist Young Thug With J_ Cole & T-Shyne Stressed: Downloading 1 items of 1\n",
      "[download] Downloading item 1 of 1\n",
      "[youtube] Extracting URL: https://www.youtube.com/watch?v=guqnVJzpq70\n",
      "[youtube] guqnVJzpq70: Downloading webpage\n",
      "[youtube] guqnVJzpq70: Downloading ios player API JSON\n",
      "[youtube] guqnVJzpq70: Downloading android player API JSON\n"
     ]
    },
    {
     "name": "stderr",
     "output_type": "stream",
     "text": [
      "WARNING: [youtube] YouTube said: ERROR - Precondition check failed.\n",
      "WARNING: [youtube] HTTP Error 400: Bad Request. Retrying (1/3)...\n"
     ]
    },
    {
     "name": "stdout",
     "output_type": "stream",
     "text": [
      "[youtube] guqnVJzpq70: Downloading android player API JSON\n",
      "[youtube] guqnVJzpq70: Downloading m3u8 information\n",
      "[info] guqnVJzpq70: Downloading 1 format(s): 251\n",
      "[download] Destination: C:\\Users\\arwin\\Documents\\dev\\APS360-PROJECT\\data\\billboard_audio\\Young Thug With J_ Cole & T-Shyne_Stressed\\Young Thug With J_ Cole & T-Shyne_Stressed.webm\n",
      "[download] 100% of    3.66MiB in 00:00:00 at 9.46MiB/s   \n",
      "[download] Finished downloading playlist: Young Thug With J_ Cole & T-Shyne Stressed\n",
      "[generic] Extracting URL: Young Thug With Juice WRLD Rich N___a Shit\n",
      "[youtube:search] Extracting URL: ytsearch:Young Thug With Juice WRLD Rich N___a Shit\n",
      "[download] Downloading playlist: Young Thug With Juice WRLD Rich N___a Shit\n",
      "[youtube:search] query \"Young Thug With Juice WRLD Rich N___a Shit\": Downloading web client config\n",
      "[youtube:search] query \"Young Thug With Juice WRLD Rich N___a Shit\" page 1: Downloading API JSON\n",
      "[youtube:search] Playlist Young Thug With Juice WRLD Rich N___a Shit: Downloading 1 items of 1\n",
      "[download] Downloading item 1 of 1\n",
      "[youtube] Extracting URL: https://www.youtube.com/watch?v=bxMJqGWXH2c\n",
      "[youtube] bxMJqGWXH2c: Downloading webpage\n",
      "[youtube] bxMJqGWXH2c: Downloading ios player API JSON\n",
      "[youtube] bxMJqGWXH2c: Downloading android player API JSON\n",
      "[youtube] bxMJqGWXH2c: Downloading m3u8 information\n",
      "[info] bxMJqGWXH2c: Downloading 1 format(s): 251\n",
      "[download] Destination: C:\\Users\\arwin\\Documents\\dev\\APS360-PROJECT\\data\\billboard_audio\\Young Thug With Juice WRLD_Rich N___a Shit\\Young Thug With Juice WRLD_Rich N___a Shit.webm\n",
      "[download] 100% of    2.90MiB in 00:00:00 at 9.66MiB/s     \n",
      "[download] Finished downloading playlist: Young Thug With Juice WRLD Rich N___a Shit\n",
      "[generic] Extracting URL: Bad Bunny Yonaguni\n",
      "[youtube:search] Extracting URL: ytsearch:Bad Bunny Yonaguni\n",
      "[download] Downloading playlist: Bad Bunny Yonaguni\n",
      "[youtube:search] query \"Bad Bunny Yonaguni\": Downloading web client config\n",
      "[youtube:search] query \"Bad Bunny Yonaguni\" page 1: Downloading API JSON\n",
      "[youtube:search] Playlist Bad Bunny Yonaguni: Downloading 1 items of 1\n",
      "[download] Downloading item 1 of 1\n",
      "[youtube] Extracting URL: https://www.youtube.com/watch?v=doLMt10ytHY\n",
      "[youtube] doLMt10ytHY: Downloading webpage\n",
      "[youtube] doLMt10ytHY: Downloading ios player API JSON\n",
      "[youtube] doLMt10ytHY: Downloading android player API JSON\n",
      "[youtube] doLMt10ytHY: Downloading m3u8 information\n",
      "[info] doLMt10ytHY: Downloading 1 format(s): 251\n",
      "[download] Destination: C:\\Users\\arwin\\Documents\\dev\\APS360-PROJECT\\data\\billboard_audio\\Bad Bunny_Yonaguni\\Bad Bunny_Yonaguni.webm\n",
      "[download] 100% of    3.60MiB in 00:00:00 at 11.58MiB/s  \n",
      "[download] Finished downloading playlist: Bad Bunny Yonaguni\n",
      "[generic] Extracting URL: Drake Champagne Poetry\n",
      "[youtube:search] Extracting URL: ytsearch:Drake Champagne Poetry\n",
      "[download] Downloading playlist: Drake Champagne Poetry\n",
      "[youtube:search] query \"Drake Champagne Poetry\": Downloading web client config\n",
      "[youtube:search] query \"Drake Champagne Poetry\" page 1: Downloading API JSON\n",
      "[youtube:search] Playlist Drake Champagne Poetry: Downloading 1 items of 1\n",
      "[download] Downloading item 1 of 1\n",
      "[youtube] Extracting URL: https://www.youtube.com/watch?v=IxVuT8cgccM\n",
      "[youtube] IxVuT8cgccM: Downloading webpage\n",
      "[youtube] IxVuT8cgccM: Downloading ios player API JSON\n",
      "[youtube] IxVuT8cgccM: Downloading android player API JSON\n",
      "[youtube] IxVuT8cgccM: Downloading m3u8 information\n",
      "[info] IxVuT8cgccM: Downloading 1 format(s): 251\n",
      "[download] Destination: C:\\Users\\arwin\\Documents\\dev\\APS360-PROJECT\\data\\billboard_audio\\Drake_Champagne Poetry\\Drake_Champagne Poetry.webm\n",
      "[download] 100% of    5.25MiB in 00:00:00 at 14.30MiB/s    \n",
      "[download] Finished downloading playlist: Drake Champagne Poetry\n",
      "[generic] Extracting URL: Coldplay X Selena Gomez Let Somebody Go\n",
      "[youtube:search] Extracting URL: ytsearch:Coldplay X Selena Gomez Let Somebody Go\n",
      "[download] Downloading playlist: Coldplay X Selena Gomez Let Somebody Go\n",
      "[youtube:search] query \"Coldplay X Selena Gomez Let Somebody Go\": Downloading web client config\n",
      "[youtube:search] query \"Coldplay X Selena Gomez Let Somebody Go\" page 1: Downloading API JSON\n",
      "[youtube:search] Playlist Coldplay X Selena Gomez Let Somebody Go: Downloading 1 items of 1\n",
      "[download] Downloading item 1 of 1\n",
      "[youtube] Extracting URL: https://www.youtube.com/watch?v=CWCMGIG1Y54\n",
      "[youtube] CWCMGIG1Y54: Downloading webpage\n",
      "[youtube] CWCMGIG1Y54: Downloading ios player API JSON\n",
      "[youtube] CWCMGIG1Y54: Downloading android player API JSON\n"
     ]
    },
    {
     "name": "stderr",
     "output_type": "stream",
     "text": [
      "WARNING: [youtube] YouTube said: ERROR - Precondition check failed.\n",
      "WARNING: [youtube] HTTP Error 400: Bad Request. Retrying (1/3)...\n"
     ]
    },
    {
     "name": "stdout",
     "output_type": "stream",
     "text": [
      "[youtube] CWCMGIG1Y54: Downloading android player API JSON\n"
     ]
    },
    {
     "name": "stderr",
     "output_type": "stream",
     "text": [
      "WARNING: [youtube] YouTube said: ERROR - Precondition check failed.\n",
      "WARNING: [youtube] HTTP Error 400: Bad Request. Retrying (2/3)...\n"
     ]
    },
    {
     "name": "stdout",
     "output_type": "stream",
     "text": [
      "[youtube] CWCMGIG1Y54: Downloading android player API JSON\n"
     ]
    },
    {
     "name": "stderr",
     "output_type": "stream",
     "text": [
      "WARNING: [youtube] YouTube said: ERROR - Precondition check failed.\n",
      "WARNING: [youtube] HTTP Error 400: Bad Request. Retrying (3/3)...\n"
     ]
    },
    {
     "name": "stdout",
     "output_type": "stream",
     "text": [
      "[youtube] CWCMGIG1Y54: Downloading android player API JSON\n"
     ]
    },
    {
     "name": "stderr",
     "output_type": "stream",
     "text": [
      "WARNING: [youtube] YouTube said: ERROR - Precondition check failed.\n",
      "WARNING: [youtube] Unable to download API page: HTTP Error 400: Bad Request (caused by <HTTPError 400: Bad Request>); please report this issue on  https://github.com/yt-dlp/yt-dlp/issues?q= , filling out the appropriate issue template. Confirm you are on the latest version using  yt-dlp -U\n"
     ]
    },
    {
     "name": "stdout",
     "output_type": "stream",
     "text": [
      "[youtube] CWCMGIG1Y54: Downloading m3u8 information\n",
      "[info] CWCMGIG1Y54: Downloading 1 format(s): 251\n",
      "[download] Destination: C:\\Users\\arwin\\Documents\\dev\\APS360-PROJECT\\data\\billboard_audio\\Coldplay X Selena Gomez_Let Somebody Go\\Coldplay X Selena Gomez_Let Somebody Go.webm\n",
      "[download] 100% of    4.02MiB in 00:00:00 at 20.84MiB/s  \n",
      "[download] Finished downloading playlist: Coldplay X Selena Gomez Let Somebody Go\n",
      "[generic] Extracting URL: Scotty McCreery You Time\n",
      "[youtube:search] Extracting URL: ytsearch:Scotty McCreery You Time\n",
      "[download] Downloading playlist: Scotty McCreery You Time\n",
      "[youtube:search] query \"Scotty McCreery You Time\": Downloading web client config\n",
      "[youtube:search] query \"Scotty McCreery You Time\" page 1: Downloading API JSON\n",
      "[youtube:search] Playlist Scotty McCreery You Time: Downloading 1 items of 1\n",
      "[download] Downloading item 1 of 1\n",
      "[youtube] Extracting URL: https://www.youtube.com/watch?v=WwtcHtHNAPc\n",
      "[youtube] WwtcHtHNAPc: Downloading webpage\n",
      "[youtube] WwtcHtHNAPc: Downloading ios player API JSON\n",
      "[youtube] WwtcHtHNAPc: Downloading android player API JSON\n"
     ]
    },
    {
     "name": "stderr",
     "output_type": "stream",
     "text": [
      "WARNING: [youtube] YouTube said: ERROR - Precondition check failed.\n",
      "WARNING: [youtube] HTTP Error 400: Bad Request. Retrying (1/3)...\n"
     ]
    },
    {
     "name": "stdout",
     "output_type": "stream",
     "text": [
      "[youtube] WwtcHtHNAPc: Downloading android player API JSON\n"
     ]
    },
    {
     "name": "stderr",
     "output_type": "stream",
     "text": [
      "WARNING: [youtube] YouTube said: ERROR - Precondition check failed.\n",
      "WARNING: [youtube] HTTP Error 400: Bad Request. Retrying (2/3)...\n"
     ]
    },
    {
     "name": "stdout",
     "output_type": "stream",
     "text": [
      "[youtube] WwtcHtHNAPc: Downloading android player API JSON\n"
     ]
    },
    {
     "name": "stderr",
     "output_type": "stream",
     "text": [
      "WARNING: [youtube] YouTube said: ERROR - Precondition check failed.\n",
      "WARNING: [youtube] HTTP Error 400: Bad Request. Retrying (3/3)...\n"
     ]
    },
    {
     "name": "stdout",
     "output_type": "stream",
     "text": [
      "[youtube] WwtcHtHNAPc: Downloading android player API JSON\n"
     ]
    },
    {
     "name": "stderr",
     "output_type": "stream",
     "text": [
      "WARNING: [youtube] YouTube said: ERROR - Precondition check failed.\n",
      "WARNING: [youtube] Unable to download API page: HTTP Error 400: Bad Request (caused by <HTTPError 400: Bad Request>); please report this issue on  https://github.com/yt-dlp/yt-dlp/issues?q= , filling out the appropriate issue template. Confirm you are on the latest version using  yt-dlp -U\n"
     ]
    },
    {
     "name": "stdout",
     "output_type": "stream",
     "text": [
      "[youtube] WwtcHtHNAPc: Downloading m3u8 information\n",
      "[info] WwtcHtHNAPc: Downloading 1 format(s): 251\n",
      "[download] Destination: C:\\Users\\arwin\\Documents\\dev\\APS360-PROJECT\\data\\billboard_audio\\Scotty McCreery_You Time\\Scotty McCreery_You Time.webm\n",
      "[download] 100% of    3.19MiB in 00:00:00 at 13.08MiB/s    \n",
      "[download] Finished downloading playlist: Scotty McCreery You Time\n",
      "[generic] Extracting URL: Young Thug With Future & BSlime Peepin Out The Window\n",
      "[youtube:search] Extracting URL: ytsearch:Young Thug With Future & BSlime Peepin Out The Window\n",
      "[download] Downloading playlist: Young Thug With Future & BSlime Peepin Out The Window\n",
      "[youtube:search] query \"Young Thug With Future & BSlime Peepin Out The Window\": Downloading web client config\n",
      "[youtube:search] query \"Young Thug With Future & BSlime Peepin Out The Window\" page 1: Downloading API JSON\n",
      "[youtube:search] Playlist Young Thug With Future & BSlime Peepin Out The Window: Downloading 1 items of 1\n",
      "[download] Downloading item 1 of 1\n",
      "[youtube] Extracting URL: https://www.youtube.com/watch?v=Y8amvochwKA\n",
      "[youtube] Y8amvochwKA: Downloading webpage\n",
      "[youtube] Y8amvochwKA: Downloading ios player API JSON\n",
      "[youtube] Y8amvochwKA: Downloading android player API JSON\n",
      "[youtube] Y8amvochwKA: Downloading m3u8 information\n",
      "[info] Y8amvochwKA: Downloading 1 format(s): 251\n",
      "[download] Destination: C:\\Users\\arwin\\Documents\\dev\\APS360-PROJECT\\data\\billboard_audio\\Young Thug With Future & BSlime_Peepin Out The Window\\Young Thug With Future & BSlime_Peepin Out The Window.webm\n",
      "[download] 100% of    4.08MiB in 00:00:00 at 4.80MiB/s   \n",
      "[download] Finished downloading playlist: Young Thug With Future & BSlime Peepin Out The Window\n",
      "[generic] Extracting URL: Pop Smoke Featuring Chris Brown Woo Baby\n",
      "[youtube:search] Extracting URL: ytsearch:Pop Smoke Featuring Chris Brown Woo Baby\n",
      "[download] Downloading playlist: Pop Smoke Featuring Chris Brown Woo Baby\n",
      "[youtube:search] query \"Pop Smoke Featuring Chris Brown Woo Baby\": Downloading web client config\n",
      "[youtube:search] query \"Pop Smoke Featuring Chris Brown Woo Baby\" page 1: Downloading API JSON\n",
      "[youtube:search] Playlist Pop Smoke Featuring Chris Brown Woo Baby: Downloading 1 items of 1\n",
      "[download] Downloading item 1 of 1\n",
      "[youtube] Extracting URL: https://www.youtube.com/watch?v=lvtPavab5XI\n",
      "[youtube] lvtPavab5XI: Downloading webpage\n",
      "[youtube] lvtPavab5XI: Downloading ios player API JSON\n",
      "[youtube] lvtPavab5XI: Downloading android player API JSON\n",
      "[youtube] lvtPavab5XI: Downloading m3u8 information\n",
      "[info] lvtPavab5XI: Downloading 1 format(s): 251\n",
      "[download] Destination: C:\\Users\\arwin\\Documents\\dev\\APS360-PROJECT\\data\\billboard_audio\\Pop Smoke Featuring Chris Brown_Woo Baby\\Pop Smoke Featuring Chris Brown_Woo Baby.webm\n",
      "[download] 100% of    2.64MiB in 00:00:00 at 12.05MiB/s  \n",
      "[download] Finished downloading playlist: Pop Smoke Featuring Chris Brown Woo Baby\n",
      "[generic] Extracting URL: Don Toliver Featuring Travis Scott Flocky Flocky\n",
      "[youtube:search] Extracting URL: ytsearch:Don Toliver Featuring Travis Scott Flocky Flocky\n",
      "[download] Downloading playlist: Don Toliver Featuring Travis Scott Flocky Flocky\n",
      "[youtube:search] query \"Don Toliver Featuring Travis Scott Flocky Flocky\": Downloading web client config\n",
      "[youtube:search] query \"Don Toliver Featuring Travis Scott Flocky Flocky\" page 1: Downloading API JSON\n",
      "[youtube:search] Playlist Don Toliver Featuring Travis Scott Flocky Flocky: Downloading 1 items of 1\n",
      "[download] Downloading item 1 of 1\n",
      "[youtube] Extracting URL: https://www.youtube.com/watch?v=gB_1xE23gb4\n",
      "[youtube] gB_1xE23gb4: Downloading webpage\n",
      "[youtube] gB_1xE23gb4: Downloading ios player API JSON\n",
      "[youtube] gB_1xE23gb4: Downloading android player API JSON\n",
      "[youtube] gB_1xE23gb4: Downloading m3u8 information\n",
      "[info] gB_1xE23gb4: Downloading 1 format(s): 251\n",
      "[download] Destination: C:\\Users\\arwin\\Documents\\dev\\APS360-PROJECT\\data\\billboard_audio\\Don Toliver Featuring Travis Scott_Flocky Flocky\\Don Toliver Featuring Travis Scott_Flocky Flocky.webm\n",
      "[download] 100% of    3.12MiB in 00:00:00 at 19.13MiB/s  \n",
      "[download] Finished downloading playlist: Don Toliver Featuring Travis Scott Flocky Flocky\n",
      "[generic] Extracting URL: Justin Bieber Featuring Daniel Caesar & Giveon Peaches\n",
      "[youtube:search] Extracting URL: ytsearch:Justin Bieber Featuring Daniel Caesar & Giveon Peaches\n",
      "[download] Downloading playlist: Justin Bieber Featuring Daniel Caesar & Giveon Peaches\n",
      "[youtube:search] query \"Justin Bieber Featuring Daniel Caesar & Giveon Peaches\": Downloading web client config\n",
      "[youtube:search] query \"Justin Bieber Featuring Daniel Caesar & Giveon Peaches\" page 1: Downloading API JSON\n",
      "[youtube:search] Playlist Justin Bieber Featuring Daniel Caesar & Giveon Peaches: Downloading 1 items of 1\n",
      "[download] Downloading item 1 of 1\n",
      "[youtube] Extracting URL: https://www.youtube.com/watch?v=tQ0yjYUFKAE\n",
      "[youtube] tQ0yjYUFKAE: Downloading webpage\n",
      "[youtube] tQ0yjYUFKAE: Downloading ios player API JSON\n",
      "[youtube] tQ0yjYUFKAE: Downloading android player API JSON\n",
      "[youtube] tQ0yjYUFKAE: Downloading m3u8 information\n",
      "[info] tQ0yjYUFKAE: Downloading 1 format(s): 251\n",
      "[download] Destination: C:\\Users\\arwin\\Documents\\dev\\APS360-PROJECT\\data\\billboard_audio\\Justin Bieber Featuring Daniel Caesar & Giveon_Peaches\\Justin Bieber Featuring Daniel Caesar & Giveon_Peaches.webm\n",
      "[download] 100% of    3.34MiB in 00:00:00 at 20.41MiB/s  \n",
      "[download] Finished downloading playlist: Justin Bieber Featuring Daniel Caesar & Giveon Peaches\n",
      "[generic] Extracting URL: Rauw Alejandro Todo de Ti\n",
      "[youtube:search] Extracting URL: ytsearch:Rauw Alejandro Todo de Ti\n",
      "[download] Downloading playlist: Rauw Alejandro Todo de Ti\n",
      "[youtube:search] query \"Rauw Alejandro Todo de Ti\": Downloading web client config\n",
      "[youtube:search] query \"Rauw Alejandro Todo de Ti\" page 1: Downloading API JSON\n",
      "[youtube:search] Playlist Rauw Alejandro Todo de Ti: Downloading 1 items of 1\n",
      "[download] Downloading item 1 of 1\n",
      "[youtube] Extracting URL: https://www.youtube.com/watch?v=CFPLIaMpGrY\n",
      "[youtube] CFPLIaMpGrY: Downloading webpage\n",
      "[youtube] CFPLIaMpGrY: Downloading ios player API JSON\n",
      "[youtube] CFPLIaMpGrY: Downloading android player API JSON\n",
      "[youtube] CFPLIaMpGrY: Downloading m3u8 information\n",
      "[info] CFPLIaMpGrY: Downloading 1 format(s): 251\n",
      "[download] Destination: C:\\Users\\arwin\\Documents\\dev\\APS360-PROJECT\\data\\billboard_audio\\Rauw Alejandro_Todo de Ti\\Rauw Alejandro_Todo de Ti.webm\n",
      "[download] 100% of    3.44MiB in 00:00:00 at 16.78MiB/s    \n",
      "[download] Finished downloading playlist: Rauw Alejandro Todo de Ti\n",
      "[generic] Extracting URL: Chase Rice Featuring Florida Georgia Line Drinkin' Beer_ Talkin' God_ Amen_\n",
      "[youtube:search] Extracting URL: ytsearch:Chase Rice Featuring Florida Georgia Line Drinkin' Beer_ Talkin' God_ Amen_\n",
      "[download] Downloading playlist: Chase Rice Featuring Florida Georgia Line Drinkin' Beer_ Talkin' God_ Amen_\n",
      "[youtube:search] query \"Chase Rice Featuring Florida Georgia Line Drinkin' Beer_ Talkin' God_ Amen_\": Downloading web client config\n",
      "[youtube:search] query \"Chase Rice Featuring Florida Georgia Line Drinkin' Beer_ Talkin' God_ Amen_\" page 1: Downloading API JSON\n",
      "[youtube:search] Playlist Chase Rice Featuring Florida Georgia Line Drinkin' Beer_ Talkin' God_ Amen_: Downloading 1 items of 1\n",
      "[download] Downloading item 1 of 1\n",
      "[youtube] Extracting URL: https://www.youtube.com/watch?v=wpS2oX9ASLc\n",
      "[youtube] wpS2oX9ASLc: Downloading webpage\n",
      "[youtube] wpS2oX9ASLc: Downloading ios player API JSON\n",
      "[youtube] wpS2oX9ASLc: Downloading android player API JSON\n",
      "[youtube] wpS2oX9ASLc: Downloading m3u8 information\n",
      "[info] wpS2oX9ASLc: Downloading 1 format(s): 251\n",
      "[download] Destination: C:\\Users\\arwin\\Documents\\dev\\APS360-PROJECT\\data\\billboard_audio\\Chase Rice Featuring Florida Georgia Line_Drinkin' Beer_ Talkin' God_ Amen_\\Chase Rice Featuring Florida Georgia Line_Drinkin' Beer_ Talkin' God_ Amen_.webm\n",
      "[download] 100% of    2.66MiB in 00:00:00 at 10.69MiB/s  \n",
      "[download] Finished downloading playlist: Chase Rice Featuring Florida Georgia Line Drinkin' Beer_ Talkin' God_ Amen_\n",
      "[generic] Extracting URL: Joyner Lucas & J_ Cole Your Heart\n",
      "[youtube:search] Extracting URL: ytsearch:Joyner Lucas & J_ Cole Your Heart\n",
      "[download] Downloading playlist: Joyner Lucas & J_ Cole Your Heart\n",
      "[youtube:search] query \"Joyner Lucas & J_ Cole Your Heart\": Downloading web client config\n",
      "[youtube:search] query \"Joyner Lucas & J_ Cole Your Heart\" page 1: Downloading API JSON\n",
      "[youtube:search] Playlist Joyner Lucas & J_ Cole Your Heart: Downloading 1 items of 1\n",
      "[download] Downloading item 1 of 1\n",
      "[youtube] Extracting URL: https://www.youtube.com/watch?v=nD-Zu6aayS0\n",
      "[youtube] nD-Zu6aayS0: Downloading webpage\n",
      "[youtube] nD-Zu6aayS0: Downloading ios player API JSON\n",
      "[youtube] nD-Zu6aayS0: Downloading android player API JSON\n"
     ]
    },
    {
     "name": "stderr",
     "output_type": "stream",
     "text": [
      "WARNING: [youtube] YouTube said: ERROR - Precondition check failed.\n",
      "WARNING: [youtube] HTTP Error 400: Bad Request. Retrying (1/3)...\n"
     ]
    },
    {
     "name": "stdout",
     "output_type": "stream",
     "text": [
      "[youtube] nD-Zu6aayS0: Downloading android player API JSON\n"
     ]
    },
    {
     "name": "stderr",
     "output_type": "stream",
     "text": [
      "WARNING: [youtube] YouTube said: ERROR - Precondition check failed.\n",
      "WARNING: [youtube] HTTP Error 400: Bad Request. Retrying (2/3)...\n"
     ]
    },
    {
     "name": "stdout",
     "output_type": "stream",
     "text": [
      "[youtube] nD-Zu6aayS0: Downloading android player API JSON\n",
      "[youtube] nD-Zu6aayS0: Downloading m3u8 information\n",
      "[info] nD-Zu6aayS0: Downloading 1 format(s): 251\n",
      "[download] Destination: C:\\Users\\arwin\\Documents\\dev\\APS360-PROJECT\\data\\billboard_audio\\Joyner Lucas & J_ Cole_Your Heart\\Joyner Lucas & J_ Cole_Your Heart.webm\n",
      "[download] 100% of    3.62MiB in 00:00:00 at 19.44MiB/s  \n",
      "[download] Finished downloading playlist: Joyner Lucas & J_ Cole Your Heart\n",
      "[generic] Extracting URL: Shawn Mendes & Tainy Summer Of Love\n",
      "[youtube:search] Extracting URL: ytsearch:Shawn Mendes & Tainy Summer Of Love\n",
      "[download] Downloading playlist: Shawn Mendes & Tainy Summer Of Love\n",
      "[youtube:search] query \"Shawn Mendes & Tainy Summer Of Love\": Downloading web client config\n",
      "[youtube:search] query \"Shawn Mendes & Tainy Summer Of Love\" page 1: Downloading API JSON\n",
      "[youtube:search] Playlist Shawn Mendes & Tainy Summer Of Love: Downloading 1 items of 1\n",
      "[download] Downloading item 1 of 1\n",
      "[youtube] Extracting URL: https://www.youtube.com/watch?v=v9lZ2MEx8oU\n",
      "[youtube] v9lZ2MEx8oU: Downloading webpage\n",
      "[youtube] v9lZ2MEx8oU: Downloading ios player API JSON\n",
      "[youtube] v9lZ2MEx8oU: Downloading android player API JSON\n",
      "[youtube] v9lZ2MEx8oU: Downloading m3u8 information\n",
      "[info] v9lZ2MEx8oU: Downloading 1 format(s): 251\n",
      "[download] Destination: C:\\Users\\arwin\\Documents\\dev\\APS360-PROJECT\\data\\billboard_audio\\Shawn Mendes & Tainy_Summer Of Love\\Shawn Mendes & Tainy_Summer Of Love.webm\n",
      "[download] 100% of    2.91MiB in 00:00:00 at 13.76MiB/s  \n",
      "[download] Finished downloading playlist: Shawn Mendes & Tainy Summer Of Love\n",
      "[generic] Extracting URL: Luke Bryan Waves\n",
      "[youtube:search] Extracting URL: ytsearch:Luke Bryan Waves\n",
      "[download] Downloading playlist: Luke Bryan Waves\n",
      "[youtube:search] query \"Luke Bryan Waves\": Downloading web client config\n",
      "[youtube:search] query \"Luke Bryan Waves\" page 1: Downloading API JSON\n",
      "[youtube:search] Playlist Luke Bryan Waves: Downloading 1 items of 1\n",
      "[download] Downloading item 1 of 1\n",
      "[youtube] Extracting URL: https://www.youtube.com/watch?v=6vVa6jiDQF8\n",
      "[youtube] 6vVa6jiDQF8: Downloading webpage\n",
      "[youtube] 6vVa6jiDQF8: Downloading ios player API JSON\n",
      "[youtube] 6vVa6jiDQF8: Downloading android player API JSON\n"
     ]
    },
    {
     "name": "stderr",
     "output_type": "stream",
     "text": [
      "WARNING: [youtube] YouTube said: ERROR - Precondition check failed.\n",
      "WARNING: [youtube] HTTP Error 400: Bad Request. Retrying (1/3)...\n"
     ]
    },
    {
     "name": "stdout",
     "output_type": "stream",
     "text": [
      "[youtube] 6vVa6jiDQF8: Downloading android player API JSON\n"
     ]
    },
    {
     "name": "stderr",
     "output_type": "stream",
     "text": [
      "WARNING: [youtube] YouTube said: ERROR - Precondition check failed.\n",
      "WARNING: [youtube] HTTP Error 400: Bad Request. Retrying (2/3)...\n"
     ]
    },
    {
     "name": "stdout",
     "output_type": "stream",
     "text": [
      "[youtube] 6vVa6jiDQF8: Downloading android player API JSON\n",
      "[youtube] 6vVa6jiDQF8: Downloading m3u8 information\n",
      "[info] 6vVa6jiDQF8: Downloading 1 format(s): 251\n",
      "[download] Destination: C:\\Users\\arwin\\Documents\\dev\\APS360-PROJECT\\data\\billboard_audio\\Luke Bryan_Waves\\Luke Bryan_Waves.webm\n",
      "[download] 100% of    3.62MiB in 00:00:00 at 12.21MiB/s  \n",
      "[download] Finished downloading playlist: Luke Bryan Waves\n",
      "[generic] Extracting URL: YoungBoy Never Broke Again Life Support\n",
      "[youtube:search] Extracting URL: ytsearch:YoungBoy Never Broke Again Life Support\n",
      "[download] Downloading playlist: YoungBoy Never Broke Again Life Support\n",
      "[youtube:search] query \"YoungBoy Never Broke Again Life Support\": Downloading web client config\n",
      "[youtube:search] query \"YoungBoy Never Broke Again Life Support\" page 1: Downloading API JSON\n",
      "[youtube:search] Playlist YoungBoy Never Broke Again Life Support: Downloading 1 items of 1\n",
      "[download] Downloading item 1 of 1\n",
      "[youtube] Extracting URL: https://www.youtube.com/watch?v=Z9AnasYjtvg\n",
      "[youtube] Z9AnasYjtvg: Downloading webpage\n",
      "[youtube] Z9AnasYjtvg: Downloading ios player API JSON\n",
      "[youtube] Z9AnasYjtvg: Downloading android player API JSON\n",
      "[youtube] Z9AnasYjtvg: Downloading m3u8 information\n",
      "[info] Z9AnasYjtvg: Downloading 1 format(s): 251\n",
      "[download] Destination: C:\\Users\\arwin\\Documents\\dev\\APS360-PROJECT\\data\\billboard_audio\\YoungBoy Never Broke Again_Life Support\\YoungBoy Never Broke Again_Life Support.webm\n",
      "[download] 100% of    4.12MiB in 00:00:00 at 23.23MiB/s  \n",
      "[download] Finished downloading playlist: YoungBoy Never Broke Again Life Support\n",
      "[generic] Extracting URL: YoungBoy Never Broke Again Bad Morning\n",
      "[youtube:search] Extracting URL: ytsearch:YoungBoy Never Broke Again Bad Morning\n",
      "[download] Downloading playlist: YoungBoy Never Broke Again Bad Morning\n",
      "[youtube:search] query \"YoungBoy Never Broke Again Bad Morning\": Downloading web client config\n",
      "[youtube:search] query \"YoungBoy Never Broke Again Bad Morning\" page 1: Downloading API JSON\n",
      "[youtube:search] Playlist YoungBoy Never Broke Again Bad Morning: Downloading 1 items of 1\n",
      "[download] Downloading item 1 of 1\n",
      "[youtube] Extracting URL: https://www.youtube.com/watch?v=249kxCTS2os\n",
      "[youtube] 249kxCTS2os: Downloading webpage\n",
      "[youtube] 249kxCTS2os: Downloading ios player API JSON\n",
      "[youtube] 249kxCTS2os: Downloading android player API JSON\n",
      "[youtube] 249kxCTS2os: Downloading m3u8 information\n",
      "[info] 249kxCTS2os: Downloading 1 format(s): 251\n",
      "[download] Destination: C:\\Users\\arwin\\Documents\\dev\\APS360-PROJECT\\data\\billboard_audio\\YoungBoy Never Broke Again_Bad Morning\\YoungBoy Never Broke Again_Bad Morning.webm\n",
      "[download] 100% of    3.70MiB in 00:00:00 at 16.05MiB/s  \n",
      "[download] Finished downloading playlist: YoungBoy Never Broke Again Bad Morning\n",
      "[generic] Extracting URL: Meek Mill Intro (Hate On Me)\n",
      "[youtube:search] Extracting URL: ytsearch:Meek Mill Intro (Hate On Me)\n",
      "[download] Downloading playlist: Meek Mill Intro (Hate On Me)\n",
      "[youtube:search] query \"Meek Mill Intro (Hate On Me)\": Downloading web client config\n",
      "[youtube:search] query \"Meek Mill Intro (Hate On Me)\" page 1: Downloading API JSON\n",
      "[youtube:search] Playlist Meek Mill Intro (Hate On Me): Downloading 1 items of 1\n",
      "[download] Downloading item 1 of 1\n",
      "[youtube] Extracting URL: https://www.youtube.com/watch?v=TcxHY8r4x6s\n",
      "[youtube] TcxHY8r4x6s: Downloading webpage\n",
      "[youtube] TcxHY8r4x6s: Downloading ios player API JSON\n",
      "[youtube] TcxHY8r4x6s: Downloading android player API JSON\n"
     ]
    },
    {
     "name": "stderr",
     "output_type": "stream",
     "text": [
      "WARNING: [youtube] YouTube said: ERROR - Precondition check failed.\n",
      "WARNING: [youtube] HTTP Error 400: Bad Request. Retrying (1/3)...\n"
     ]
    },
    {
     "name": "stdout",
     "output_type": "stream",
     "text": [
      "[youtube] TcxHY8r4x6s: Downloading android player API JSON\n"
     ]
    },
    {
     "name": "stderr",
     "output_type": "stream",
     "text": [
      "WARNING: [youtube] YouTube said: ERROR - Precondition check failed.\n",
      "WARNING: [youtube] HTTP Error 400: Bad Request. Retrying (2/3)...\n"
     ]
    },
    {
     "name": "stdout",
     "output_type": "stream",
     "text": [
      "[youtube] TcxHY8r4x6s: Downloading android player API JSON\n"
     ]
    },
    {
     "name": "stderr",
     "output_type": "stream",
     "text": [
      "WARNING: [youtube] YouTube said: ERROR - Precondition check failed.\n",
      "WARNING: [youtube] HTTP Error 400: Bad Request. Retrying (3/3)...\n"
     ]
    },
    {
     "name": "stdout",
     "output_type": "stream",
     "text": [
      "[youtube] TcxHY8r4x6s: Downloading android player API JSON\n",
      "[youtube] TcxHY8r4x6s: Downloading m3u8 information\n",
      "[info] TcxHY8r4x6s: Downloading 1 format(s): 251\n",
      "[download] Destination: C:\\Users\\arwin\\Documents\\dev\\APS360-PROJECT\\data\\billboard_audio\\Meek Mill_Intro (Hate On Me)\\Meek Mill_Intro (Hate On Me).webm\n",
      "[download] 100% of    3.10MiB in 00:00:00 at 9.02MiB/s   \n",
      "[download] Finished downloading playlist: Meek Mill Intro (Hate On Me)\n",
      "[generic] Extracting URL: Elle King & Miranda Lambert Drunk (And I Don't Wanna Go Home)\n",
      "[youtube:search] Extracting URL: ytsearch:Elle King & Miranda Lambert Drunk (And I Don't Wanna Go Home)\n",
      "[download] Downloading playlist: Elle King & Miranda Lambert Drunk (And I Don't Wanna Go Home)\n",
      "[youtube:search] query \"Elle King & Miranda Lambert Drunk (And I Don't Wanna Go Home)\": Downloading web client config\n",
      "[youtube:search] query \"Elle King & Miranda Lambert Drunk (And I Don't Wanna Go Home)\" page 1: Downloading API JSON\n",
      "[youtube:search] Playlist Elle King & Miranda Lambert Drunk (And I Don't Wanna Go Home): Downloading 1 items of 1\n",
      "[download] Downloading item 1 of 1\n",
      "[youtube] Extracting URL: https://www.youtube.com/watch?v=CS9zbWLiI0o\n",
      "[youtube] CS9zbWLiI0o: Downloading webpage\n",
      "[youtube] CS9zbWLiI0o: Downloading ios player API JSON\n",
      "[youtube] CS9zbWLiI0o: Downloading android player API JSON\n"
     ]
    },
    {
     "name": "stderr",
     "output_type": "stream",
     "text": [
      "WARNING: [youtube] YouTube said: ERROR - Precondition check failed.\n",
      "WARNING: [youtube] HTTP Error 400: Bad Request. Retrying (1/3)...\n"
     ]
    },
    {
     "name": "stdout",
     "output_type": "stream",
     "text": [
      "[youtube] CS9zbWLiI0o: Downloading android player API JSON\n",
      "[youtube] CS9zbWLiI0o: Downloading m3u8 information\n",
      "[info] CS9zbWLiI0o: Downloading 1 format(s): 251\n",
      "[download] Destination: C:\\Users\\arwin\\Documents\\dev\\APS360-PROJECT\\data\\billboard_audio\\Elle King & Miranda Lambert_Drunk (And I Don't Wanna Go Home)\\Elle King & Miranda Lambert_Drunk (And I Don't Wanna Go Home).webm\n",
      "[download] 100% of    3.83MiB in 00:00:00 at 20.47MiB/s  \n",
      "[download] Finished downloading playlist: Elle King & Miranda Lambert Drunk (And I Don't Wanna Go Home)\n",
      "[generic] Extracting URL: BTS Butter\n",
      "[youtube:search] Extracting URL: ytsearch:BTS Butter\n",
      "[download] Downloading playlist: BTS Butter\n",
      "[youtube:search] query \"BTS Butter\": Downloading web client config\n",
      "[youtube:search] query \"BTS Butter\" page 1: Downloading API JSON\n",
      "[youtube:search] Playlist BTS Butter: Downloading 1 items of 1\n",
      "[download] Downloading item 1 of 1\n",
      "[youtube] Extracting URL: https://www.youtube.com/watch?v=WMweEpGlu_U\n",
      "[youtube] WMweEpGlu_U: Downloading webpage\n",
      "[youtube] WMweEpGlu_U: Downloading ios player API JSON\n",
      "[youtube] WMweEpGlu_U: Downloading android player API JSON\n",
      "[youtube] WMweEpGlu_U: Downloading m3u8 information\n",
      "[info] WMweEpGlu_U: Downloading 1 format(s): 251\n",
      "[download] Destination: C:\\Users\\arwin\\Documents\\dev\\APS360-PROJECT\\data\\billboard_audio\\BTS_Butter\\BTS_Butter.webm\n",
      "[download] 100% of    2.60MiB in 00:00:00 at 10.19MiB/s  \n",
      "[download] Finished downloading playlist: BTS Butter\n",
      "[generic] Extracting URL: Meek Mill Featuring Moneybagg Yo Hot\n",
      "[youtube:search] Extracting URL: ytsearch:Meek Mill Featuring Moneybagg Yo Hot\n",
      "[download] Downloading playlist: Meek Mill Featuring Moneybagg Yo Hot\n",
      "[youtube:search] query \"Meek Mill Featuring Moneybagg Yo Hot\": Downloading web client config\n",
      "[youtube:search] query \"Meek Mill Featuring Moneybagg Yo Hot\" page 1: Downloading API JSON\n",
      "[youtube:search] Playlist Meek Mill Featuring Moneybagg Yo Hot: Downloading 1 items of 1\n",
      "[download] Downloading item 1 of 1\n",
      "[youtube] Extracting URL: https://www.youtube.com/watch?v=sEVUMHcD4UI\n",
      "[youtube] sEVUMHcD4UI: Downloading webpage\n",
      "[youtube] sEVUMHcD4UI: Downloading ios player API JSON\n",
      "[youtube] sEVUMHcD4UI: Downloading android player API JSON\n"
     ]
    },
    {
     "name": "stderr",
     "output_type": "stream",
     "text": [
      "WARNING: [youtube] YouTube said: ERROR - Precondition check failed.\n",
      "WARNING: [youtube] HTTP Error 400: Bad Request. Retrying (1/3)...\n"
     ]
    },
    {
     "name": "stdout",
     "output_type": "stream",
     "text": [
      "[youtube] sEVUMHcD4UI: Downloading android player API JSON\n"
     ]
    },
    {
     "name": "stderr",
     "output_type": "stream",
     "text": [
      "WARNING: [youtube] YouTube said: ERROR - Precondition check failed.\n",
      "WARNING: [youtube] HTTP Error 400: Bad Request. Retrying (2/3)...\n"
     ]
    },
    {
     "name": "stdout",
     "output_type": "stream",
     "text": [
      "[youtube] sEVUMHcD4UI: Downloading android player API JSON\n"
     ]
    },
    {
     "name": "stderr",
     "output_type": "stream",
     "text": [
      "WARNING: [youtube] YouTube said: ERROR - Precondition check failed.\n",
      "WARNING: [youtube] HTTP Error 400: Bad Request. Retrying (3/3)...\n"
     ]
    },
    {
     "name": "stdout",
     "output_type": "stream",
     "text": [
      "[youtube] sEVUMHcD4UI: Downloading android player API JSON\n"
     ]
    },
    {
     "name": "stderr",
     "output_type": "stream",
     "text": [
      "WARNING: [youtube] YouTube said: ERROR - Precondition check failed.\n",
      "WARNING: [youtube] Unable to download API page: HTTP Error 400: Bad Request (caused by <HTTPError 400: Bad Request>); please report this issue on  https://github.com/yt-dlp/yt-dlp/issues?q= , filling out the appropriate issue template. Confirm you are on the latest version using  yt-dlp -U\n"
     ]
    },
    {
     "name": "stdout",
     "output_type": "stream",
     "text": [
      "[youtube] sEVUMHcD4UI: Downloading m3u8 information\n",
      "[info] sEVUMHcD4UI: Downloading 1 format(s): 251\n",
      "[download] Destination: C:\\Users\\arwin\\Documents\\dev\\APS360-PROJECT\\data\\billboard_audio\\Meek Mill Featuring Moneybagg Yo_Hot\\Meek Mill Featuring Moneybagg Yo_Hot.webm\n",
      "[download] 100% of    2.71MiB in 00:00:00 at 9.13MiB/s   \n",
      "[download] Finished downloading playlist: Meek Mill Featuring Moneybagg Yo Hot\n",
      "[generic] Extracting URL: Meek Mill Expensive Pain\n",
      "[youtube:search] Extracting URL: ytsearch:Meek Mill Expensive Pain\n",
      "[download] Downloading playlist: Meek Mill Expensive Pain\n",
      "[youtube:search] query \"Meek Mill Expensive Pain\": Downloading web client config\n",
      "[youtube:search] query \"Meek Mill Expensive Pain\" page 1: Downloading API JSON\n",
      "[youtube:search] Playlist Meek Mill Expensive Pain: Downloading 1 items of 1\n",
      "[download] Downloading item 1 of 1\n",
      "[youtube] Extracting URL: https://www.youtube.com/watch?v=ry0q8BUhhZE\n",
      "[youtube] ry0q8BUhhZE: Downloading webpage\n",
      "[youtube] ry0q8BUhhZE: Downloading ios player API JSON\n",
      "[youtube] ry0q8BUhhZE: Downloading android player API JSON\n",
      "[youtube] ry0q8BUhhZE: Downloading m3u8 information\n",
      "[info] ry0q8BUhhZE: Downloading 1 format(s): 251\n",
      "[download] Destination: C:\\Users\\arwin\\Documents\\dev\\APS360-PROJECT\\data\\billboard_audio\\Meek Mill_Expensive Pain\\Meek Mill_Expensive Pain.webm\n",
      "[download] 100% of    4.12MiB in 00:00:00 at 16.69MiB/s    \n",
      "[download] Finished downloading playlist: Meek Mill Expensive Pain\n",
      "[generic] Extracting URL: Meek Mill On My Soul\n",
      "[youtube:search] Extracting URL: ytsearch:Meek Mill On My Soul\n",
      "[download] Downloading playlist: Meek Mill On My Soul\n",
      "[youtube:search] query \"Meek Mill On My Soul\": Downloading web client config\n",
      "[youtube:search] query \"Meek Mill On My Soul\" page 1: Downloading API JSON\n",
      "[youtube:search] Playlist Meek Mill On My Soul: Downloading 1 items of 1\n",
      "[download] Downloading item 1 of 1\n",
      "[youtube] Extracting URL: https://www.youtube.com/watch?v=VaepezFmlI4\n",
      "[youtube] VaepezFmlI4: Downloading webpage\n",
      "[youtube] VaepezFmlI4: Downloading ios player API JSON\n",
      "[youtube] VaepezFmlI4: Downloading android player API JSON\n",
      "[youtube] VaepezFmlI4: Downloading m3u8 information\n",
      "[info] VaepezFmlI4: Downloading 1 format(s): 251\n",
      "[download] Destination: C:\\Users\\arwin\\Documents\\dev\\APS360-PROJECT\\data\\billboard_audio\\Meek Mill_On My Soul\\Meek Mill_On My Soul.webm\n",
      "[download] 100% of    3.52MiB in 00:00:00 at 5.58MiB/s   \n",
      "[download] Finished downloading playlist: Meek Mill On My Soul\n",
      "[generic] Extracting URL: Meek Mill Featuring Lil Uzi Vert Blue Note$ II\n",
      "[youtube:search] Extracting URL: ytsearch:Meek Mill Featuring Lil Uzi Vert Blue Note$ II\n",
      "[download] Downloading playlist: Meek Mill Featuring Lil Uzi Vert Blue Note$ II\n",
      "[youtube:search] query \"Meek Mill Featuring Lil Uzi Vert Blue Note$ II\": Downloading web client config\n",
      "[youtube:search] query \"Meek Mill Featuring Lil Uzi Vert Blue Note$ II\" page 1: Downloading API JSON\n",
      "[youtube:search] Playlist Meek Mill Featuring Lil Uzi Vert Blue Note$ II: Downloading 1 items of 1\n",
      "[download] Downloading item 1 of 1\n",
      "[youtube] Extracting URL: https://www.youtube.com/watch?v=lcTv9vAIbVQ\n",
      "[youtube] lcTv9vAIbVQ: Downloading webpage\n",
      "[youtube] lcTv9vAIbVQ: Downloading ios player API JSON\n",
      "[youtube] lcTv9vAIbVQ: Downloading android player API JSON\n"
     ]
    },
    {
     "name": "stderr",
     "output_type": "stream",
     "text": [
      "WARNING: [youtube] YouTube said: ERROR - Precondition check failed.\n",
      "WARNING: [youtube] HTTP Error 400: Bad Request. Retrying (1/3)...\n"
     ]
    },
    {
     "name": "stdout",
     "output_type": "stream",
     "text": [
      "[youtube] lcTv9vAIbVQ: Downloading android player API JSON\n",
      "[youtube] lcTv9vAIbVQ: Downloading m3u8 information\n",
      "[info] lcTv9vAIbVQ: Downloading 1 format(s): 251\n",
      "[download] Destination: C:\\Users\\arwin\\Documents\\dev\\APS360-PROJECT\\data\\billboard_audio\\Meek Mill Featuring Lil Uzi Vert_Blue Note$ II\\Meek Mill Featuring Lil Uzi Vert_Blue Note$ II.webm\n",
      "[download] 100% of    3.62MiB in 00:00:00 at 18.55MiB/s  \n",
      "[download] Finished downloading playlist: Meek Mill Featuring Lil Uzi Vert Blue Note$ II\n",
      "[generic] Extracting URL: Meek Mill Outside (100 MPH)\n",
      "[youtube:search] Extracting URL: ytsearch:Meek Mill Outside (100 MPH)\n",
      "[download] Downloading playlist: Meek Mill Outside (100 MPH)\n",
      "[youtube:search] query \"Meek Mill Outside (100 MPH)\": Downloading web client config\n",
      "[youtube:search] query \"Meek Mill Outside (100 MPH)\" page 1: Downloading API JSON\n",
      "[youtube:search] Playlist Meek Mill Outside (100 MPH): Downloading 1 items of 1\n",
      "[download] Downloading item 1 of 1\n",
      "[youtube] Extracting URL: https://www.youtube.com/watch?v=dbDDwNcvQXI\n",
      "[youtube] dbDDwNcvQXI: Downloading webpage\n",
      "[youtube] dbDDwNcvQXI: Downloading ios player API JSON\n",
      "[youtube] dbDDwNcvQXI: Downloading android player API JSON\n",
      "[youtube] dbDDwNcvQXI: Downloading m3u8 information\n",
      "[info] dbDDwNcvQXI: Downloading 1 format(s): 251\n",
      "[download] Destination: C:\\Users\\arwin\\Documents\\dev\\APS360-PROJECT\\data\\billboard_audio\\Meek Mill_Outside (100 MPH)\\Meek Mill_Outside (100 MPH).webm\n",
      "[download] 100% of    3.22MiB in 00:00:00 at 8.64MiB/s   \n",
      "[download] Finished downloading playlist: Meek Mill Outside (100 MPH)\n",
      "[generic] Extracting URL: Skylar Grey, Polo G, Mozzy & Eminem Last One Standing\n",
      "[youtube:search] Extracting URL: ytsearch:Skylar Grey, Polo G, Mozzy & Eminem Last One Standing\n",
      "[download] Downloading playlist: Skylar Grey, Polo G, Mozzy & Eminem Last One Standing\n",
      "[youtube:search] query \"Skylar Grey, Polo G, Mozzy & Eminem Last One Standing\": Downloading web client config\n",
      "[youtube:search] query \"Skylar Grey, Polo G, Mozzy & Eminem Last One Standing\" page 1: Downloading API JSON\n",
      "[youtube:search] Playlist Skylar Grey, Polo G, Mozzy & Eminem Last One Standing: Downloading 1 items of 1\n",
      "[download] Downloading item 1 of 1\n",
      "[youtube] Extracting URL: https://www.youtube.com/watch?v=4haurn3S8z8\n",
      "[youtube] 4haurn3S8z8: Downloading webpage\n",
      "[youtube] 4haurn3S8z8: Downloading ios player API JSON\n",
      "[youtube] 4haurn3S8z8: Downloading android player API JSON\n",
      "[youtube] 4haurn3S8z8: Downloading m3u8 information\n",
      "[info] 4haurn3S8z8: Downloading 1 format(s): 251\n",
      "[download] Destination: C:\\Users\\arwin\\Documents\\dev\\APS360-PROJECT\\data\\billboard_audio\\Skylar Grey, Polo G, Mozzy & Eminem_Last One Standing\\Skylar Grey, Polo G, Mozzy & Eminem_Last One Standing.webm\n",
      "[download] 100% of    4.31MiB in 00:00:00 at 13.15MiB/s  \n",
      "[download] Finished downloading playlist: Skylar Grey, Polo G, Mozzy & Eminem Last One Standing\n",
      "[generic] Extracting URL: TWICE The Feels\n",
      "[youtube:search] Extracting URL: ytsearch:TWICE The Feels\n",
      "[download] Downloading playlist: TWICE The Feels\n",
      "[youtube:search] query \"TWICE The Feels\": Downloading web client config\n",
      "[youtube:search] query \"TWICE The Feels\" page 1: Downloading API JSON\n",
      "[youtube:search] Playlist TWICE The Feels: Downloading 1 items of 1\n",
      "[download] Downloading item 1 of 1\n",
      "[youtube] Extracting URL: https://www.youtube.com/watch?v=f5_wn8mexmM\n",
      "[youtube] f5_wn8mexmM: Downloading webpage\n",
      "[youtube] f5_wn8mexmM: Downloading ios player API JSON\n",
      "[youtube] f5_wn8mexmM: Downloading android player API JSON\n"
     ]
    },
    {
     "name": "stderr",
     "output_type": "stream",
     "text": [
      "WARNING: [youtube] YouTube said: ERROR - Precondition check failed.\n",
      "WARNING: [youtube] HTTP Error 400: Bad Request. Retrying (1/3)...\n"
     ]
    },
    {
     "name": "stdout",
     "output_type": "stream",
     "text": [
      "[youtube] f5_wn8mexmM: Downloading android player API JSON\n"
     ]
    },
    {
     "name": "stderr",
     "output_type": "stream",
     "text": [
      "WARNING: [youtube] YouTube said: ERROR - Precondition check failed.\n",
      "WARNING: [youtube] HTTP Error 400: Bad Request. Retrying (2/3)...\n"
     ]
    },
    {
     "name": "stdout",
     "output_type": "stream",
     "text": [
      "[youtube] f5_wn8mexmM: Downloading android player API JSON\n"
     ]
    },
    {
     "name": "stderr",
     "output_type": "stream",
     "text": [
      "WARNING: [youtube] YouTube said: ERROR - Precondition check failed.\n",
      "WARNING: [youtube] HTTP Error 400: Bad Request. Retrying (3/3)...\n"
     ]
    },
    {
     "name": "stdout",
     "output_type": "stream",
     "text": [
      "[youtube] f5_wn8mexmM: Downloading android player API JSON\n"
     ]
    },
    {
     "name": "stderr",
     "output_type": "stream",
     "text": [
      "WARNING: [youtube] YouTube said: ERROR - Precondition check failed.\n",
      "WARNING: [youtube] Unable to download API page: HTTP Error 400: Bad Request (caused by <HTTPError 400: Bad Request>); please report this issue on  https://github.com/yt-dlp/yt-dlp/issues?q= , filling out the appropriate issue template. Confirm you are on the latest version using  yt-dlp -U\n"
     ]
    },
    {
     "name": "stdout",
     "output_type": "stream",
     "text": [
      "[youtube] f5_wn8mexmM: Downloading m3u8 information\n",
      "[info] f5_wn8mexmM: Downloading 1 format(s): 251\n",
      "[download] Destination: C:\\Users\\arwin\\Documents\\dev\\APS360-PROJECT\\data\\billboard_audio\\TWICE_The Feels\\TWICE_The Feels.webm\n",
      "[download] 100% of    3.59MiB in 00:00:00 at 20.69MiB/s    \n",
      "[download] Finished downloading playlist: TWICE The Feels\n",
      "[generic] Extracting URL: Meek Mill Featuring A$AP Ferg Me (FWM)\n",
      "[youtube:search] Extracting URL: ytsearch:Meek Mill Featuring A$AP Ferg Me (FWM)\n",
      "[download] Downloading playlist: Meek Mill Featuring A$AP Ferg Me (FWM)\n",
      "[youtube:search] query \"Meek Mill Featuring A$AP Ferg Me (FWM)\": Downloading web client config\n",
      "[youtube:search] query \"Meek Mill Featuring A$AP Ferg Me (FWM)\" page 1: Downloading API JSON\n",
      "[youtube:search] Playlist Meek Mill Featuring A$AP Ferg Me (FWM): Downloading 1 items of 1\n",
      "[download] Downloading item 1 of 1\n",
      "[youtube] Extracting URL: https://www.youtube.com/watch?v=XmRge_ctDQI\n",
      "[youtube] XmRge_ctDQI: Downloading webpage\n",
      "[youtube] XmRge_ctDQI: Downloading ios player API JSON\n",
      "[youtube] XmRge_ctDQI: Downloading android player API JSON\n"
     ]
    },
    {
     "name": "stderr",
     "output_type": "stream",
     "text": [
      "WARNING: [youtube] YouTube said: ERROR - Precondition check failed.\n",
      "WARNING: [youtube] HTTP Error 400: Bad Request. Retrying (1/3)...\n"
     ]
    },
    {
     "name": "stdout",
     "output_type": "stream",
     "text": [
      "[youtube] XmRge_ctDQI: Downloading android player API JSON\n"
     ]
    },
    {
     "name": "stderr",
     "output_type": "stream",
     "text": [
      "WARNING: [youtube] YouTube said: ERROR - Precondition check failed.\n",
      "WARNING: [youtube] HTTP Error 400: Bad Request. Retrying (2/3)...\n"
     ]
    },
    {
     "name": "stdout",
     "output_type": "stream",
     "text": [
      "[youtube] XmRge_ctDQI: Downloading android player API JSON\n"
     ]
    },
    {
     "name": "stderr",
     "output_type": "stream",
     "text": [
      "WARNING: [youtube] YouTube said: ERROR - Precondition check failed.\n",
      "WARNING: [youtube] HTTP Error 400: Bad Request. Retrying (3/3)...\n"
     ]
    },
    {
     "name": "stdout",
     "output_type": "stream",
     "text": [
      "[youtube] XmRge_ctDQI: Downloading android player API JSON\n"
     ]
    },
    {
     "name": "stderr",
     "output_type": "stream",
     "text": [
      "WARNING: [youtube] YouTube said: ERROR - Precondition check failed.\n",
      "WARNING: [youtube] Unable to download API page: HTTP Error 400: Bad Request (caused by <HTTPError 400: Bad Request>); please report this issue on  https://github.com/yt-dlp/yt-dlp/issues?q= , filling out the appropriate issue template. Confirm you are on the latest version using  yt-dlp -U\n"
     ]
    },
    {
     "name": "stdout",
     "output_type": "stream",
     "text": [
      "[youtube] XmRge_ctDQI: Downloading m3u8 information\n",
      "[info] XmRge_ctDQI: Downloading 1 format(s): 251\n",
      "[download] Destination: C:\\Users\\arwin\\Documents\\dev\\APS360-PROJECT\\data\\billboard_audio\\Meek Mill Featuring A$AP Ferg_Me (FWM)\\Meek Mill Featuring A$AP Ferg_Me (FWM).webm\n",
      "[download] 100% of    3.17MiB in 00:00:00 at 14.55MiB/s  \n",
      "[download] Finished downloading playlist: Meek Mill Featuring A$AP Ferg Me (FWM)\n",
      "[generic] Extracting URL: Meek Mill Love Train\n",
      "[youtube:search] Extracting URL: ytsearch:Meek Mill Love Train\n",
      "[download] Downloading playlist: Meek Mill Love Train\n",
      "[youtube:search] query \"Meek Mill Love Train\": Downloading web client config\n",
      "[youtube:search] query \"Meek Mill Love Train\" page 1: Downloading API JSON\n",
      "[youtube:search] Playlist Meek Mill Love Train: Downloading 1 items of 1\n",
      "[download] Downloading item 1 of 1\n",
      "[youtube] Extracting URL: https://www.youtube.com/watch?v=DtqxPTtxh9k\n",
      "[youtube] DtqxPTtxh9k: Downloading webpage\n",
      "[youtube] DtqxPTtxh9k: Downloading ios player API JSON\n",
      "[youtube] DtqxPTtxh9k: Downloading android player API JSON\n",
      "[youtube] DtqxPTtxh9k: Downloading m3u8 information\n",
      "[info] DtqxPTtxh9k: Downloading 1 format(s): 251\n",
      "[download] Destination: C:\\Users\\arwin\\Documents\\dev\\APS360-PROJECT\\data\\billboard_audio\\Meek Mill_Love Train\\Meek Mill_Love Train.webm\n",
      "[download] 100% of    4.15MiB in 00:00:00 at 14.17MiB/s  \n",
      "[download] Finished downloading playlist: Meek Mill Love Train\n",
      "[generic] Extracting URL: Lil Wayne Featuring Rich The Kid Feelin Like Tunechi\n",
      "[youtube:search] Extracting URL: ytsearch:Lil Wayne Featuring Rich The Kid Feelin Like Tunechi\n",
      "[download] Downloading playlist: Lil Wayne Featuring Rich The Kid Feelin Like Tunechi\n",
      "[youtube:search] query \"Lil Wayne Featuring Rich The Kid Feelin Like Tunechi\": Downloading web client config\n",
      "[youtube:search] query \"Lil Wayne Featuring Rich The Kid Feelin Like Tunechi\" page 1: Downloading API JSON\n",
      "[youtube:search] Playlist Lil Wayne Featuring Rich The Kid Feelin Like Tunechi: Downloading 1 items of 1\n",
      "[download] Downloading item 1 of 1\n",
      "[youtube] Extracting URL: https://www.youtube.com/watch?v=PQlZqexsh_w\n",
      "[youtube] PQlZqexsh_w: Downloading webpage\n",
      "[youtube] PQlZqexsh_w: Downloading ios player API JSON\n",
      "[youtube] PQlZqexsh_w: Downloading android player API JSON\n",
      "[youtube] PQlZqexsh_w: Downloading m3u8 information\n",
      "[info] PQlZqexsh_w: Downloading 1 format(s): 251\n",
      "[download] Destination: C:\\Users\\arwin\\Documents\\dev\\APS360-PROJECT\\data\\billboard_audio\\Lil Wayne Featuring Rich The Kid_Feelin Like Tunechi\\Lil Wayne Featuring Rich The Kid_Feelin Like Tunechi.webm\n",
      "[download] 100% of    3.82MiB in 00:00:00 at 11.88MiB/s  \n",
      "[download] Finished downloading playlist: Lil Wayne Featuring Rich The Kid Feelin Like Tunechi\n",
      "[generic] Extracting URL: Meek Mill Featuring Kehlani Ride For You\n",
      "[youtube:search] Extracting URL: ytsearch:Meek Mill Featuring Kehlani Ride For You\n",
      "[download] Downloading playlist: Meek Mill Featuring Kehlani Ride For You\n",
      "[youtube:search] query \"Meek Mill Featuring Kehlani Ride For You\": Downloading web client config\n",
      "[youtube:search] query \"Meek Mill Featuring Kehlani Ride For You\" page 1: Downloading API JSON\n",
      "[youtube:search] Playlist Meek Mill Featuring Kehlani Ride For You: Downloading 1 items of 1\n",
      "[download] Downloading item 1 of 1\n",
      "[youtube] Extracting URL: https://www.youtube.com/watch?v=KlU0a2JOAvc\n",
      "[youtube] KlU0a2JOAvc: Downloading webpage\n",
      "[youtube] KlU0a2JOAvc: Downloading ios player API JSON\n",
      "[youtube] KlU0a2JOAvc: Downloading android player API JSON\n"
     ]
    },
    {
     "name": "stderr",
     "output_type": "stream",
     "text": [
      "WARNING: [youtube] YouTube said: ERROR - Precondition check failed.\n",
      "WARNING: [youtube] HTTP Error 400: Bad Request. Retrying (1/3)...\n"
     ]
    },
    {
     "name": "stdout",
     "output_type": "stream",
     "text": [
      "[youtube] KlU0a2JOAvc: Downloading android player API JSON\n",
      "[youtube] KlU0a2JOAvc: Downloading m3u8 information\n",
      "[info] KlU0a2JOAvc: Downloading 1 format(s): 251\n",
      "[download] Destination: C:\\Users\\arwin\\Documents\\dev\\APS360-PROJECT\\data\\billboard_audio\\Meek Mill Featuring Kehlani_Ride For You\\Meek Mill Featuring Kehlani_Ride For You.webm\n",
      "[download] 100% of    3.08MiB in 00:00:00 at 14.01MiB/s    \n",
      "[download] Finished downloading playlist: Meek Mill Featuring Kehlani Ride For You\n",
      "[generic] Extracting URL: Drake TSU\n",
      "[youtube:search] Extracting URL: ytsearch:Drake TSU\n",
      "[download] Downloading playlist: Drake TSU\n",
      "[youtube:search] query \"Drake TSU\": Downloading web client config\n",
      "[youtube:search] query \"Drake TSU\" page 1: Downloading API JSON\n",
      "[youtube:search] Playlist Drake TSU: Downloading 1 items of 1\n",
      "[download] Downloading item 1 of 1\n",
      "[youtube] Extracting URL: https://www.youtube.com/watch?v=fhEqtynX_xc\n",
      "[youtube] fhEqtynX_xc: Downloading webpage\n",
      "[youtube] fhEqtynX_xc: Downloading ios player API JSON\n",
      "[youtube] fhEqtynX_xc: Downloading android player API JSON\n",
      "[youtube] fhEqtynX_xc: Downloading m3u8 information\n",
      "[info] fhEqtynX_xc: Downloading 1 format(s): 251\n",
      "[download] Destination: C:\\Users\\arwin\\Documents\\dev\\APS360-PROJECT\\data\\billboard_audio\\Drake_TSU\\Drake_TSU.webm\n",
      "[download] 100% of    5.32MiB in 00:00:00 at 17.00MiB/s  \n",
      "[download] Finished downloading playlist: Drake TSU\n",
      "[generic] Extracting URL: Drake Featuring JAY-Z Love All\n",
      "[youtube:search] Extracting URL: ytsearch:Drake Featuring JAY-Z Love All\n",
      "[download] Downloading playlist: Drake Featuring JAY-Z Love All\n",
      "[youtube:search] query \"Drake Featuring JAY-Z Love All\": Downloading web client config\n",
      "[youtube:search] query \"Drake Featuring JAY-Z Love All\" page 1: Downloading API JSON\n",
      "[youtube:search] Playlist Drake Featuring JAY-Z Love All: Downloading 1 items of 1\n",
      "[download] Downloading item 1 of 1\n",
      "[youtube] Extracting URL: https://www.youtube.com/watch?v=Pnz4wbCblmM\n",
      "[youtube] Pnz4wbCblmM: Downloading webpage\n",
      "[youtube] Pnz4wbCblmM: Downloading ios player API JSON\n",
      "[youtube] Pnz4wbCblmM: Downloading android player API JSON\n"
     ]
    },
    {
     "name": "stderr",
     "output_type": "stream",
     "text": [
      "WARNING: [youtube] YouTube said: ERROR - Precondition check failed.\n",
      "WARNING: [youtube] HTTP Error 400: Bad Request. Retrying (1/3)...\n"
     ]
    },
    {
     "name": "stdout",
     "output_type": "stream",
     "text": [
      "[youtube] Pnz4wbCblmM: Downloading android player API JSON\n"
     ]
    },
    {
     "name": "stderr",
     "output_type": "stream",
     "text": [
      "WARNING: [youtube] YouTube said: ERROR - Precondition check failed.\n",
      "WARNING: [youtube] HTTP Error 400: Bad Request. Retrying (2/3)...\n"
     ]
    },
    {
     "name": "stdout",
     "output_type": "stream",
     "text": [
      "[youtube] Pnz4wbCblmM: Downloading android player API JSON\n"
     ]
    },
    {
     "name": "stderr",
     "output_type": "stream",
     "text": [
      "WARNING: [youtube] YouTube said: ERROR - Precondition check failed.\n",
      "WARNING: [youtube] HTTP Error 400: Bad Request. Retrying (3/3)...\n"
     ]
    },
    {
     "name": "stdout",
     "output_type": "stream",
     "text": [
      "[youtube] Pnz4wbCblmM: Downloading android player API JSON\n"
     ]
    },
    {
     "name": "stderr",
     "output_type": "stream",
     "text": [
      "WARNING: [youtube] YouTube said: ERROR - Precondition check failed.\n",
      "WARNING: [youtube] Unable to download API page: HTTP Error 400: Bad Request (caused by <HTTPError 400: Bad Request>); please report this issue on  https://github.com/yt-dlp/yt-dlp/issues?q= , filling out the appropriate issue template. Confirm you are on the latest version using  yt-dlp -U\n"
     ]
    },
    {
     "name": "stdout",
     "output_type": "stream",
     "text": [
      "[youtube] Pnz4wbCblmM: Downloading m3u8 information\n",
      "[info] Pnz4wbCblmM: Downloading 1 format(s): 251\n",
      "[download] Destination: C:\\Users\\arwin\\Documents\\dev\\APS360-PROJECT\\data\\billboard_audio\\Drake Featuring JAY-Z_Love All\\Drake Featuring JAY-Z_Love All.webm\n",
      "[download] 100% of    3.94MiB in 00:00:00 at 14.27MiB/s  \n",
      "[download] Finished downloading playlist: Drake Featuring JAY-Z Love All\n",
      "[generic] Extracting URL: YoungBoy Never Broke Again No Where\n",
      "[youtube:search] Extracting URL: ytsearch:YoungBoy Never Broke Again No Where\n",
      "[download] Downloading playlist: YoungBoy Never Broke Again No Where\n",
      "[youtube:search] query \"YoungBoy Never Broke Again No Where\": Downloading web client config\n",
      "[youtube:search] query \"YoungBoy Never Broke Again No Where\" page 1: Downloading API JSON\n",
      "[youtube:search] Playlist YoungBoy Never Broke Again No Where: Downloading 1 items of 1\n",
      "[download] Downloading item 1 of 1\n",
      "[youtube] Extracting URL: https://www.youtube.com/watch?v=lVY5fK-R-Ns\n",
      "[youtube] lVY5fK-R-Ns: Downloading webpage\n",
      "[youtube] lVY5fK-R-Ns: Downloading ios player API JSON\n",
      "[youtube] lVY5fK-R-Ns: Downloading android player API JSON\n"
     ]
    },
    {
     "name": "stderr",
     "output_type": "stream",
     "text": [
      "WARNING: [youtube] YouTube said: ERROR - Precondition check failed.\n",
      "WARNING: [youtube] HTTP Error 400: Bad Request. Retrying (1/3)...\n"
     ]
    },
    {
     "name": "stdout",
     "output_type": "stream",
     "text": [
      "[youtube] lVY5fK-R-Ns: Downloading android player API JSON\n"
     ]
    },
    {
     "name": "stderr",
     "output_type": "stream",
     "text": [
      "WARNING: [youtube] YouTube said: ERROR - Precondition check failed.\n",
      "WARNING: [youtube] HTTP Error 400: Bad Request. Retrying (2/3)...\n"
     ]
    },
    {
     "name": "stdout",
     "output_type": "stream",
     "text": [
      "[youtube] lVY5fK-R-Ns: Downloading android player API JSON\n"
     ]
    },
    {
     "name": "stderr",
     "output_type": "stream",
     "text": [
      "WARNING: [youtube] YouTube said: ERROR - Precondition check failed.\n",
      "WARNING: [youtube] HTTP Error 400: Bad Request. Retrying (3/3)...\n"
     ]
    },
    {
     "name": "stdout",
     "output_type": "stream",
     "text": [
      "[youtube] lVY5fK-R-Ns: Downloading android player API JSON\n"
     ]
    },
    {
     "name": "stderr",
     "output_type": "stream",
     "text": [
      "WARNING: [youtube] YouTube said: ERROR - Precondition check failed.\n",
      "WARNING: [youtube] Unable to download API page: HTTP Error 400: Bad Request (caused by <HTTPError 400: Bad Request>); please report this issue on  https://github.com/yt-dlp/yt-dlp/issues?q= , filling out the appropriate issue template. Confirm you are on the latest version using  yt-dlp -U\n"
     ]
    },
    {
     "name": "stdout",
     "output_type": "stream",
     "text": [
      "[youtube] lVY5fK-R-Ns: Downloading m3u8 information\n",
      "[info] lVY5fK-R-Ns: Downloading 1 format(s): 251\n",
      "[download] Destination: C:\\Users\\arwin\\Documents\\dev\\APS360-PROJECT\\data\\billboard_audio\\YoungBoy Never Broke Again_No Where\\YoungBoy Never Broke Again_No Where.webm\n",
      "[download] 100% of    2.82MiB in 00:00:00 at 16.76MiB/s    \n",
      "[download] Finished downloading playlist: YoungBoy Never Broke Again No Where\n",
      "[generic] Extracting URL: YoungBoy Never Broke Again On My Side\n",
      "[youtube:search] Extracting URL: ytsearch:YoungBoy Never Broke Again On My Side\n",
      "[download] Downloading playlist: YoungBoy Never Broke Again On My Side\n",
      "[youtube:search] query \"YoungBoy Never Broke Again On My Side\": Downloading web client config\n",
      "[youtube:search] query \"YoungBoy Never Broke Again On My Side\" page 1: Downloading API JSON\n",
      "[youtube:search] Playlist YoungBoy Never Broke Again On My Side: Downloading 1 items of 1\n",
      "[download] Downloading item 1 of 1\n",
      "[youtube] Extracting URL: https://www.youtube.com/watch?v=NEu-cJSGvXk\n",
      "[youtube] NEu-cJSGvXk: Downloading webpage\n",
      "[youtube] NEu-cJSGvXk: Downloading ios player API JSON\n",
      "[youtube] NEu-cJSGvXk: Downloading android player API JSON\n"
     ]
    },
    {
     "name": "stderr",
     "output_type": "stream",
     "text": [
      "WARNING: [youtube] YouTube said: ERROR - Precondition check failed.\n",
      "WARNING: [youtube] HTTP Error 400: Bad Request. Retrying (1/3)...\n"
     ]
    },
    {
     "name": "stdout",
     "output_type": "stream",
     "text": [
      "[youtube] NEu-cJSGvXk: Downloading android player API JSON\n"
     ]
    },
    {
     "name": "stderr",
     "output_type": "stream",
     "text": [
      "WARNING: [youtube] YouTube said: ERROR - Precondition check failed.\n",
      "WARNING: [youtube] HTTP Error 400: Bad Request. Retrying (2/3)...\n"
     ]
    },
    {
     "name": "stdout",
     "output_type": "stream",
     "text": [
      "[youtube] NEu-cJSGvXk: Downloading android player API JSON\n"
     ]
    },
    {
     "name": "stderr",
     "output_type": "stream",
     "text": [
      "WARNING: [youtube] YouTube said: ERROR - Precondition check failed.\n",
      "WARNING: [youtube] HTTP Error 400: Bad Request. Retrying (3/3)...\n"
     ]
    },
    {
     "name": "stdout",
     "output_type": "stream",
     "text": [
      "[youtube] NEu-cJSGvXk: Downloading android player API JSON\n",
      "[youtube] NEu-cJSGvXk: Downloading m3u8 information\n",
      "[info] NEu-cJSGvXk: Downloading 1 format(s): 251\n",
      "[download] Destination: C:\\Users\\arwin\\Documents\\dev\\APS360-PROJECT\\data\\billboard_audio\\YoungBoy Never Broke Again_On My Side\\YoungBoy Never Broke Again_On My Side.webm\n",
      "[download] 100% of    2.76MiB in 00:00:00 at 5.68MiB/s     \n",
      "[download] Finished downloading playlist: YoungBoy Never Broke Again On My Side\n",
      "[generic] Extracting URL: Lainey Wilson Things A Man Oughta Know\n",
      "[youtube:search] Extracting URL: ytsearch:Lainey Wilson Things A Man Oughta Know\n",
      "[download] Downloading playlist: Lainey Wilson Things A Man Oughta Know\n",
      "[youtube:search] query \"Lainey Wilson Things A Man Oughta Know\": Downloading web client config\n",
      "[youtube:search] query \"Lainey Wilson Things A Man Oughta Know\" page 1: Downloading API JSON\n",
      "[youtube:search] Playlist Lainey Wilson Things A Man Oughta Know: Downloading 1 items of 1\n",
      "[download] Downloading item 1 of 1\n",
      "[youtube] Extracting URL: https://www.youtube.com/watch?v=ScKbhJtfuLg\n",
      "[youtube] ScKbhJtfuLg: Downloading webpage\n",
      "[youtube] ScKbhJtfuLg: Downloading ios player API JSON\n",
      "[youtube] ScKbhJtfuLg: Downloading android player API JSON\n"
     ]
    },
    {
     "name": "stderr",
     "output_type": "stream",
     "text": [
      "WARNING: [youtube] YouTube said: ERROR - Precondition check failed.\n",
      "WARNING: [youtube] HTTP Error 400: Bad Request. Retrying (1/3)...\n"
     ]
    },
    {
     "name": "stdout",
     "output_type": "stream",
     "text": [
      "[youtube] ScKbhJtfuLg: Downloading android player API JSON\n",
      "[youtube] ScKbhJtfuLg: Downloading m3u8 information\n",
      "[info] ScKbhJtfuLg: Downloading 1 format(s): 251\n",
      "[download] Destination: C:\\Users\\arwin\\Documents\\dev\\APS360-PROJECT\\data\\billboard_audio\\Lainey Wilson_Things A Man Oughta Know\\Lainey Wilson_Things A Man Oughta Know.webm\n",
      "[download] 100% of    3.99MiB in 00:00:00 at 19.50MiB/s  \n",
      "[download] Finished downloading playlist: Lainey Wilson Things A Man Oughta Know\n",
      "[generic] Extracting URL: YoungBoy Never Broke Again Hold Me Down\n",
      "[youtube:search] Extracting URL: ytsearch:YoungBoy Never Broke Again Hold Me Down\n",
      "[download] Downloading playlist: YoungBoy Never Broke Again Hold Me Down\n",
      "[youtube:search] query \"YoungBoy Never Broke Again Hold Me Down\": Downloading web client config\n",
      "[youtube:search] query \"YoungBoy Never Broke Again Hold Me Down\" page 1: Downloading API JSON\n",
      "[youtube:search] Playlist YoungBoy Never Broke Again Hold Me Down: Downloading 1 items of 1\n",
      "[download] Downloading item 1 of 1\n",
      "[youtube] Extracting URL: https://www.youtube.com/watch?v=uDexUs6Mn3U\n",
      "[youtube] uDexUs6Mn3U: Downloading webpage\n",
      "[youtube] uDexUs6Mn3U: Downloading ios player API JSON\n",
      "[youtube] uDexUs6Mn3U: Downloading android player API JSON\n"
     ]
    },
    {
     "name": "stderr",
     "output_type": "stream",
     "text": [
      "WARNING: [youtube] YouTube said: ERROR - Precondition check failed.\n",
      "WARNING: [youtube] HTTP Error 400: Bad Request. Retrying (1/3)...\n"
     ]
    },
    {
     "name": "stdout",
     "output_type": "stream",
     "text": [
      "[youtube] uDexUs6Mn3U: Downloading android player API JSON\n"
     ]
    },
    {
     "name": "stderr",
     "output_type": "stream",
     "text": [
      "WARNING: [youtube] YouTube said: ERROR - Precondition check failed.\n",
      "WARNING: [youtube] HTTP Error 400: Bad Request. Retrying (2/3)...\n"
     ]
    },
    {
     "name": "stdout",
     "output_type": "stream",
     "text": [
      "[youtube] uDexUs6Mn3U: Downloading android player API JSON\n",
      "[youtube] uDexUs6Mn3U: Downloading m3u8 information\n",
      "[info] uDexUs6Mn3U: Downloading 1 format(s): 251\n",
      "[download] Destination: C:\\Users\\arwin\\Documents\\dev\\APS360-PROJECT\\data\\billboard_audio\\YoungBoy Never Broke Again_Hold Me Down\\YoungBoy Never Broke Again_Hold Me Down.webm\n",
      "[download] 100% of    3.14MiB in 00:00:00 at 12.88MiB/s    \n",
      "[download] Finished downloading playlist: YoungBoy Never Broke Again Hold Me Down\n",
      "[generic] Extracting URL: YoungBoy Never Broke Again 50 Shots\n",
      "[youtube:search] Extracting URL: ytsearch:YoungBoy Never Broke Again 50 Shots\n",
      "[download] Downloading playlist: YoungBoy Never Broke Again 50 Shots\n",
      "[youtube:search] query \"YoungBoy Never Broke Again 50 Shots\": Downloading web client config\n",
      "[youtube:search] query \"YoungBoy Never Broke Again 50 Shots\" page 1: Downloading API JSON\n",
      "[youtube:search] Playlist YoungBoy Never Broke Again 50 Shots: Downloading 1 items of 1\n",
      "[download] Downloading item 1 of 1\n",
      "[youtube] Extracting URL: https://www.youtube.com/watch?v=peqDvc6NdmA\n",
      "[youtube] peqDvc6NdmA: Downloading webpage\n",
      "[youtube] peqDvc6NdmA: Downloading ios player API JSON\n",
      "[youtube] peqDvc6NdmA: Downloading android player API JSON\n",
      "[youtube] peqDvc6NdmA: Downloading m3u8 information\n",
      "[info] peqDvc6NdmA: Downloading 1 format(s): 251\n",
      "[download] Destination: C:\\Users\\arwin\\Documents\\dev\\APS360-PROJECT\\data\\billboard_audio\\YoungBoy Never Broke Again_50 Shots\\YoungBoy Never Broke Again_50 Shots.webm\n",
      "[download] 100% of    2.59MiB in 00:00:00 at 5.21MiB/s     \n",
      "[download] Finished downloading playlist: YoungBoy Never Broke Again 50 Shots\n",
      "[generic] Extracting URL: YoungBoy Never Broke Again Smoke Strong\n",
      "[youtube:search] Extracting URL: ytsearch:YoungBoy Never Broke Again Smoke Strong\n",
      "[download] Downloading playlist: YoungBoy Never Broke Again Smoke Strong\n",
      "[youtube:search] query \"YoungBoy Never Broke Again Smoke Strong\": Downloading web client config\n",
      "[youtube:search] query \"YoungBoy Never Broke Again Smoke Strong\" page 1: Downloading API JSON\n",
      "[youtube:search] Playlist YoungBoy Never Broke Again Smoke Strong: Downloading 1 items of 1\n",
      "[download] Downloading item 1 of 1\n",
      "[youtube] Extracting URL: https://www.youtube.com/watch?v=8Z-XwZFn4RU\n",
      "[youtube] 8Z-XwZFn4RU: Downloading webpage\n",
      "[youtube] 8Z-XwZFn4RU: Downloading ios player API JSON\n",
      "[youtube] 8Z-XwZFn4RU: Downloading android player API JSON\n"
     ]
    },
    {
     "name": "stderr",
     "output_type": "stream",
     "text": [
      "WARNING: [youtube] YouTube said: ERROR - Precondition check failed.\n",
      "WARNING: [youtube] HTTP Error 400: Bad Request. Retrying (1/3)...\n"
     ]
    },
    {
     "name": "stdout",
     "output_type": "stream",
     "text": [
      "[youtube] 8Z-XwZFn4RU: Downloading android player API JSON\n"
     ]
    },
    {
     "name": "stderr",
     "output_type": "stream",
     "text": [
      "WARNING: [youtube] YouTube said: ERROR - Precondition check failed.\n",
      "WARNING: [youtube] HTTP Error 400: Bad Request. Retrying (2/3)...\n"
     ]
    },
    {
     "name": "stdout",
     "output_type": "stream",
     "text": [
      "[youtube] 8Z-XwZFn4RU: Downloading android player API JSON\n"
     ]
    },
    {
     "name": "stderr",
     "output_type": "stream",
     "text": [
      "WARNING: [youtube] YouTube said: ERROR - Precondition check failed.\n",
      "WARNING: [youtube] HTTP Error 400: Bad Request. Retrying (3/3)...\n"
     ]
    },
    {
     "name": "stdout",
     "output_type": "stream",
     "text": [
      "[youtube] 8Z-XwZFn4RU: Downloading android player API JSON\n"
     ]
    },
    {
     "name": "stderr",
     "output_type": "stream",
     "text": [
      "WARNING: [youtube] YouTube said: ERROR - Precondition check failed.\n",
      "WARNING: [youtube] Unable to download API page: HTTP Error 400: Bad Request (caused by <HTTPError 400: Bad Request>); please report this issue on  https://github.com/yt-dlp/yt-dlp/issues?q= , filling out the appropriate issue template. Confirm you are on the latest version using  yt-dlp -U\n"
     ]
    },
    {
     "name": "stdout",
     "output_type": "stream",
     "text": [
      "[youtube] 8Z-XwZFn4RU: Downloading m3u8 information\n",
      "[info] 8Z-XwZFn4RU: Downloading 1 format(s): 251\n",
      "[download] Destination: C:\\Users\\arwin\\Documents\\dev\\APS360-PROJECT\\data\\billboard_audio\\YoungBoy Never Broke Again_Smoke Strong\\YoungBoy Never Broke Again_Smoke Strong.webm\n",
      "[download] 100% of    2.15MiB in 00:00:00 at 11.42MiB/s  \n",
      "[download] Finished downloading playlist: YoungBoy Never Broke Again Smoke Strong\n",
      "[generic] Extracting URL: YoungBoy Never Broke Again Break Or Make Me\n",
      "[youtube:search] Extracting URL: ytsearch:YoungBoy Never Broke Again Break Or Make Me\n",
      "[download] Downloading playlist: YoungBoy Never Broke Again Break Or Make Me\n",
      "[youtube:search] query \"YoungBoy Never Broke Again Break Or Make Me\": Downloading web client config\n",
      "[youtube:search] query \"YoungBoy Never Broke Again Break Or Make Me\" page 1: Downloading API JSON\n",
      "[youtube:search] Playlist YoungBoy Never Broke Again Break Or Make Me: Downloading 1 items of 1\n",
      "[download] Downloading item 1 of 1\n",
      "[youtube] Extracting URL: https://www.youtube.com/watch?v=zQtIPvOeqAg\n",
      "[youtube] zQtIPvOeqAg: Downloading webpage\n",
      "[youtube] zQtIPvOeqAg: Downloading ios player API JSON\n",
      "[youtube] zQtIPvOeqAg: Downloading android player API JSON\n",
      "[youtube] zQtIPvOeqAg: Downloading m3u8 information\n",
      "[info] zQtIPvOeqAg: Downloading 1 format(s): 251\n",
      "[download] Destination: C:\\Users\\arwin\\Documents\\dev\\APS360-PROJECT\\data\\billboard_audio\\YoungBoy Never Broke Again_Break Or Make Me\\YoungBoy Never Broke Again_Break Or Make Me.webm\n",
      "[download] 100% of    3.25MiB in 00:00:00 at 7.75MiB/s   \n",
      "[download] Finished downloading playlist: YoungBoy Never Broke Again Break Or Make Me\n",
      "[generic] Extracting URL: YoungBoy Never Broke Again Sincerely\n",
      "[youtube:search] Extracting URL: ytsearch:YoungBoy Never Broke Again Sincerely\n",
      "[download] Downloading playlist: YoungBoy Never Broke Again Sincerely\n",
      "[youtube:search] query \"YoungBoy Never Broke Again Sincerely\": Downloading web client config\n",
      "[youtube:search] query \"YoungBoy Never Broke Again Sincerely\" page 1: Downloading API JSON\n",
      "[youtube:search] Playlist YoungBoy Never Broke Again Sincerely: Downloading 1 items of 1\n",
      "[download] Downloading item 1 of 1\n",
      "[youtube] Extracting URL: https://www.youtube.com/watch?v=IZaFBAqgC7E\n",
      "[youtube] IZaFBAqgC7E: Downloading webpage\n",
      "[youtube] IZaFBAqgC7E: Downloading ios player API JSON\n",
      "[youtube] IZaFBAqgC7E: Downloading android player API JSON\n",
      "[youtube] IZaFBAqgC7E: Downloading m3u8 information\n",
      "[info] IZaFBAqgC7E: Downloading 1 format(s): 251\n",
      "[download] Destination: C:\\Users\\arwin\\Documents\\dev\\APS360-PROJECT\\data\\billboard_audio\\YoungBoy Never Broke Again_Sincerely\\YoungBoy Never Broke Again_Sincerely.webm\n",
      "[download] 100% of    3.06MiB in 00:00:00 at 15.29MiB/s    \n",
      "[download] Finished downloading playlist: YoungBoy Never Broke Again Sincerely\n",
      "[generic] Extracting URL: YoungBoy Never Broke Again I Can't Take It Back\n",
      "[youtube:search] Extracting URL: ytsearch:YoungBoy Never Broke Again I Can't Take It Back\n",
      "[download] Downloading playlist: YoungBoy Never Broke Again I Can't Take It Back\n",
      "[youtube:search] query \"YoungBoy Never Broke Again I Can't Take It Back\": Downloading web client config\n",
      "[youtube:search] query \"YoungBoy Never Broke Again I Can't Take It Back\" page 1: Downloading API JSON\n",
      "[youtube:search] Playlist YoungBoy Never Broke Again I Can't Take It Back: Downloading 1 items of 1\n",
      "[download] Downloading item 1 of 1\n",
      "[youtube] Extracting URL: https://www.youtube.com/watch?v=a_E90rI1bkg\n",
      "[youtube] a_E90rI1bkg: Downloading webpage\n",
      "[youtube] a_E90rI1bkg: Downloading ios player API JSON\n",
      "[youtube] a_E90rI1bkg: Downloading android player API JSON\n",
      "[youtube] a_E90rI1bkg: Downloading m3u8 information\n",
      "[info] a_E90rI1bkg: Downloading 1 format(s): 251\n",
      "[download] Destination: C:\\Users\\arwin\\Documents\\dev\\APS360-PROJECT\\data\\billboard_audio\\YoungBoy Never Broke Again_I Can't Take It Back\\YoungBoy Never Broke Again_I Can't Take It Back.webm\n",
      "[download] 100% of    2.94MiB in 00:00:00 at 12.76MiB/s    \n",
      "[download] Finished downloading playlist: YoungBoy Never Broke Again I Can't Take It Back\n",
      "[generic] Extracting URL: Lizzo Featuring Cardi B Rumors\n",
      "[youtube:search] Extracting URL: ytsearch:Lizzo Featuring Cardi B Rumors\n",
      "[download] Downloading playlist: Lizzo Featuring Cardi B Rumors\n",
      "[youtube:search] query \"Lizzo Featuring Cardi B Rumors\": Downloading web client config\n",
      "[youtube:search] query \"Lizzo Featuring Cardi B Rumors\" page 1: Downloading API JSON\n",
      "[youtube:search] Playlist Lizzo Featuring Cardi B Rumors: Downloading 1 items of 1\n",
      "[download] Downloading item 1 of 1\n",
      "[youtube] Extracting URL: https://www.youtube.com/watch?v=4P9XUrniiK4\n",
      "[youtube] 4P9XUrniiK4: Downloading webpage\n",
      "[youtube] 4P9XUrniiK4: Downloading ios player API JSON\n",
      "[youtube] 4P9XUrniiK4: Downloading android player API JSON\n",
      "[youtube] 4P9XUrniiK4: Downloading m3u8 information\n",
      "[info] 4P9XUrniiK4: Downloading 1 format(s): 251\n",
      "[download] Destination: C:\\Users\\arwin\\Documents\\dev\\APS360-PROJECT\\data\\billboard_audio\\Lizzo Featuring Cardi B_Rumors\\Lizzo Featuring Cardi B_Rumors.webm\n",
      "[download] 100% of    2.74MiB in 00:00:00 at 15.25MiB/s    \n",
      "[download] Finished downloading playlist: Lizzo Featuring Cardi B Rumors\n",
      "[generic] Extracting URL: YoungBoy Never Broke Again Forgiato\n",
      "[youtube:search] Extracting URL: ytsearch:YoungBoy Never Broke Again Forgiato\n",
      "[download] Downloading playlist: YoungBoy Never Broke Again Forgiato\n",
      "[youtube:search] query \"YoungBoy Never Broke Again Forgiato\": Downloading web client config\n",
      "[youtube:search] query \"YoungBoy Never Broke Again Forgiato\" page 1: Downloading API JSON\n",
      "[youtube:search] Playlist YoungBoy Never Broke Again Forgiato: Downloading 1 items of 1\n",
      "[download] Downloading item 1 of 1\n",
      "[youtube] Extracting URL: https://www.youtube.com/watch?v=QNTQkg6CUaY\n",
      "[youtube] QNTQkg6CUaY: Downloading webpage\n",
      "[youtube] QNTQkg6CUaY: Downloading ios player API JSON\n",
      "[youtube] QNTQkg6CUaY: Downloading android player API JSON\n",
      "[youtube] QNTQkg6CUaY: Downloading m3u8 information\n",
      "[info] QNTQkg6CUaY: Downloading 1 format(s): 251\n",
      "[download] Destination: C:\\Users\\arwin\\Documents\\dev\\APS360-PROJECT\\data\\billboard_audio\\YoungBoy Never Broke Again_Forgiato\\YoungBoy Never Broke Again_Forgiato.webm\n",
      "[download] 100% of    3.17MiB in 00:00:00 at 3.76MiB/s   \n",
      "[download] Finished downloading playlist: YoungBoy Never Broke Again Forgiato\n",
      "[generic] Extracting URL: YoungBoy Never Broke Again Rich Shit\n",
      "[youtube:search] Extracting URL: ytsearch:YoungBoy Never Broke Again Rich Shit\n",
      "[download] Downloading playlist: YoungBoy Never Broke Again Rich Shit\n",
      "[youtube:search] query \"YoungBoy Never Broke Again Rich Shit\": Downloading web client config\n",
      "[youtube:search] query \"YoungBoy Never Broke Again Rich Shit\" page 1: Downloading API JSON\n",
      "[youtube:search] Playlist YoungBoy Never Broke Again Rich Shit: Downloading 1 items of 1\n",
      "[download] Downloading item 1 of 1\n",
      "[youtube] Extracting URL: https://www.youtube.com/watch?v=2Qkuubc-QbQ\n",
      "[youtube] 2Qkuubc-QbQ: Downloading webpage\n",
      "[youtube] 2Qkuubc-QbQ: Downloading ios player API JSON\n",
      "[youtube] 2Qkuubc-QbQ: Downloading android player API JSON\n"
     ]
    },
    {
     "name": "stderr",
     "output_type": "stream",
     "text": [
      "WARNING: [youtube] YouTube said: ERROR - Precondition check failed.\n",
      "WARNING: [youtube] HTTP Error 400: Bad Request. Retrying (1/3)...\n"
     ]
    },
    {
     "name": "stdout",
     "output_type": "stream",
     "text": [
      "[youtube] 2Qkuubc-QbQ: Downloading android player API JSON\n",
      "[youtube] 2Qkuubc-QbQ: Downloading m3u8 information\n",
      "[info] 2Qkuubc-QbQ: Downloading 1 format(s): 251\n",
      "[download] Destination: C:\\Users\\arwin\\Documents\\dev\\APS360-PROJECT\\data\\billboard_audio\\YoungBoy Never Broke Again_Rich Shit\\YoungBoy Never Broke Again_Rich Shit.webm\n",
      "[download] 100% of    2.70MiB in 00:00:00 at 7.87MiB/s     \n",
      "[download] Finished downloading playlist: YoungBoy Never Broke Again Rich Shit\n",
      "[generic] Extracting URL: Drake Featuring Future N 2 Deep\n",
      "[youtube:search] Extracting URL: ytsearch:Drake Featuring Future N 2 Deep\n",
      "[download] Downloading playlist: Drake Featuring Future N 2 Deep\n",
      "[youtube:search] query \"Drake Featuring Future N 2 Deep\": Downloading web client config\n",
      "[youtube:search] query \"Drake Featuring Future N 2 Deep\" page 1: Downloading API JSON\n",
      "[youtube:search] Playlist Drake Featuring Future N 2 Deep: Downloading 1 items of 1\n",
      "[download] Downloading item 1 of 1\n",
      "[youtube] Extracting URL: https://www.youtube.com/watch?v=Oh-Al70frOc\n",
      "[youtube] Oh-Al70frOc: Downloading webpage\n",
      "[youtube] Oh-Al70frOc: Downloading ios player API JSON\n",
      "[youtube] Oh-Al70frOc: Downloading android player API JSON\n"
     ]
    },
    {
     "name": "stderr",
     "output_type": "stream",
     "text": [
      "WARNING: [youtube] YouTube said: ERROR - Precondition check failed.\n",
      "WARNING: [youtube] HTTP Error 400: Bad Request. Retrying (1/3)...\n"
     ]
    },
    {
     "name": "stdout",
     "output_type": "stream",
     "text": [
      "[youtube] Oh-Al70frOc: Downloading android player API JSON\n",
      "[youtube] Oh-Al70frOc: Downloading m3u8 information\n",
      "[info] Oh-Al70frOc: Downloading 1 format(s): 251\n",
      "[download] Destination: C:\\Users\\arwin\\Documents\\dev\\APS360-PROJECT\\data\\billboard_audio\\Drake Featuring Future_N 2 Deep\\Drake Featuring Future_N 2 Deep.webm\n",
      "[download] 100% of    4.52MiB in 00:00:01 at 3.92MiB/s   \n",
      "[download] Finished downloading playlist: Drake Featuring Future N 2 Deep\n",
      "[generic] Extracting URL: YoungBoy Never Broke Again Baddest Thing\n",
      "[youtube:search] Extracting URL: ytsearch:YoungBoy Never Broke Again Baddest Thing\n",
      "[download] Downloading playlist: YoungBoy Never Broke Again Baddest Thing\n",
      "[youtube:search] query \"YoungBoy Never Broke Again Baddest Thing\": Downloading web client config\n",
      "[youtube:search] query \"YoungBoy Never Broke Again Baddest Thing\" page 1: Downloading API JSON\n",
      "[youtube:search] Playlist YoungBoy Never Broke Again Baddest Thing: Downloading 1 items of 1\n",
      "[download] Downloading item 1 of 1\n",
      "[youtube] Extracting URL: https://www.youtube.com/watch?v=PCsFFwFBb5s\n",
      "[youtube] PCsFFwFBb5s: Downloading webpage\n",
      "[youtube] PCsFFwFBb5s: Downloading ios player API JSON\n",
      "[youtube] PCsFFwFBb5s: Downloading android player API JSON\n",
      "[youtube] PCsFFwFBb5s: Downloading m3u8 information\n",
      "[info] PCsFFwFBb5s: Downloading 1 format(s): 251\n",
      "[download] Destination: C:\\Users\\arwin\\Documents\\dev\\APS360-PROJECT\\data\\billboard_audio\\YoungBoy Never Broke Again_Baddest Thing\\YoungBoy Never Broke Again_Baddest Thing.webm\n",
      "[download] 100% of    2.78MiB in 00:00:00 at 9.51MiB/s   \n",
      "[download] Finished downloading playlist: YoungBoy Never Broke Again Baddest Thing\n",
      "[generic] Extracting URL: Drake Pipe Down\n",
      "[youtube:search] Extracting URL: ytsearch:Drake Pipe Down\n",
      "[download] Downloading playlist: Drake Pipe Down\n",
      "[youtube:search] query \"Drake Pipe Down\": Downloading web client config\n",
      "[youtube:search] query \"Drake Pipe Down\" page 1: Downloading API JSON\n",
      "[youtube:search] Playlist Drake Pipe Down: Downloading 1 items of 1\n",
      "[download] Downloading item 1 of 1\n",
      "[youtube] Extracting URL: https://www.youtube.com/watch?v=ZIu-V_xEehs\n",
      "[youtube] ZIu-V_xEehs: Downloading webpage\n",
      "[youtube] ZIu-V_xEehs: Downloading ios player API JSON\n",
      "[youtube] ZIu-V_xEehs: Downloading android player API JSON\n",
      "[youtube] ZIu-V_xEehs: Downloading m3u8 information\n",
      "[info] ZIu-V_xEehs: Downloading 1 format(s): 251\n",
      "[download] Destination: C:\\Users\\arwin\\Documents\\dev\\APS360-PROJECT\\data\\billboard_audio\\Drake_Pipe Down\\Drake_Pipe Down.webm\n",
      "[download] 100% of    3.49MiB in 00:00:00 at 20.37MiB/s    \n",
      "[download] Finished downloading playlist: Drake Pipe Down\n",
      "[generic] Extracting URL: Drake Papi's Home\n",
      "[youtube:search] Extracting URL: ytsearch:Drake Papi's Home\n",
      "[download] Downloading playlist: Drake Papi's Home\n",
      "[youtube:search] query \"Drake Papi's Home\": Downloading web client config\n",
      "[youtube:search] query \"Drake Papi's Home\" page 1: Downloading API JSON\n",
      "[youtube:search] Playlist Drake Papi's Home: Downloading 1 items of 1\n",
      "[download] Downloading item 1 of 1\n",
      "[youtube] Extracting URL: https://www.youtube.com/watch?v=RJDZBozre1g\n",
      "[youtube] RJDZBozre1g: Downloading webpage\n",
      "[youtube] RJDZBozre1g: Downloading ios player API JSON\n",
      "[youtube] RJDZBozre1g: Downloading android player API JSON\n"
     ]
    },
    {
     "name": "stderr",
     "output_type": "stream",
     "text": [
      "WARNING: [youtube] YouTube said: ERROR - Precondition check failed.\n",
      "WARNING: [youtube] HTTP Error 400: Bad Request. Retrying (1/3)...\n"
     ]
    },
    {
     "name": "stdout",
     "output_type": "stream",
     "text": [
      "[youtube] RJDZBozre1g: Downloading android player API JSON\n"
     ]
    },
    {
     "name": "stderr",
     "output_type": "stream",
     "text": [
      "WARNING: [youtube] YouTube said: ERROR - Precondition check failed.\n",
      "WARNING: [youtube] HTTP Error 400: Bad Request. Retrying (2/3)...\n"
     ]
    },
    {
     "name": "stdout",
     "output_type": "stream",
     "text": [
      "[youtube] RJDZBozre1g: Downloading android player API JSON\n",
      "[youtube] RJDZBozre1g: Downloading m3u8 information\n",
      "[info] RJDZBozre1g: Downloading 1 format(s): 251\n",
      "[download] Destination: C:\\Users\\arwin\\Documents\\dev\\APS360-PROJECT\\data\\billboard_audio\\Drake_Papi's Home\\Drake_Papi's Home.webm\n",
      "[download] 100% of    2.94MiB in 00:00:00 at 13.62MiB/s    \n",
      "[download] Finished downloading playlist: Drake Papi's Home\n",
      "[generic] Extracting URL: YoungBoy Never Broke Again Toxic Punk\n",
      "[youtube:search] Extracting URL: ytsearch:YoungBoy Never Broke Again Toxic Punk\n",
      "[download] Downloading playlist: YoungBoy Never Broke Again Toxic Punk\n",
      "[youtube:search] query \"YoungBoy Never Broke Again Toxic Punk\": Downloading web client config\n",
      "[youtube:search] query \"YoungBoy Never Broke Again Toxic Punk\" page 1: Downloading API JSON\n",
      "[youtube:search] Playlist YoungBoy Never Broke Again Toxic Punk: Downloading 1 items of 1\n",
      "[download] Downloading item 1 of 1\n",
      "[youtube] Extracting URL: https://www.youtube.com/watch?v=q5Cq_bNbZjM\n",
      "[youtube] q5Cq_bNbZjM: Downloading webpage\n",
      "[youtube] q5Cq_bNbZjM: Downloading ios player API JSON\n",
      "[youtube] q5Cq_bNbZjM: Downloading android player API JSON\n"
     ]
    },
    {
     "name": "stderr",
     "output_type": "stream",
     "text": [
      "WARNING: [youtube] YouTube said: ERROR - Precondition check failed.\n",
      "WARNING: [youtube] HTTP Error 400: Bad Request. Retrying (1/3)...\n"
     ]
    },
    {
     "name": "stdout",
     "output_type": "stream",
     "text": [
      "[youtube] q5Cq_bNbZjM: Downloading android player API JSON\n"
     ]
    },
    {
     "name": "stderr",
     "output_type": "stream",
     "text": [
      "WARNING: [youtube] YouTube said: ERROR - Precondition check failed.\n",
      "WARNING: [youtube] HTTP Error 400: Bad Request. Retrying (2/3)...\n"
     ]
    },
    {
     "name": "stdout",
     "output_type": "stream",
     "text": [
      "[youtube] q5Cq_bNbZjM: Downloading android player API JSON\n",
      "[youtube] q5Cq_bNbZjM: Downloading m3u8 information\n",
      "[info] q5Cq_bNbZjM: Downloading 1 format(s): 251\n",
      "[download] Destination: C:\\Users\\arwin\\Documents\\dev\\APS360-PROJECT\\data\\billboard_audio\\YoungBoy Never Broke Again_Toxic Punk\\YoungBoy Never Broke Again_Toxic Punk.webm\n",
      "[download] 100% of    2.13MiB in 00:00:00 at 4.06MiB/s   \n",
      "[download] Finished downloading playlist: YoungBoy Never Broke Again Toxic Punk\n",
      "[generic] Extracting URL: Kanye West Moon\n",
      "[youtube:search] Extracting URL: ytsearch:Kanye West Moon\n",
      "[download] Downloading playlist: Kanye West Moon\n",
      "[youtube:search] query \"Kanye West Moon\": Downloading web client config\n",
      "[youtube:search] query \"Kanye West Moon\" page 1: Downloading API JSON\n",
      "[youtube:search] Playlist Kanye West Moon: Downloading 1 items of 1\n",
      "[download] Downloading item 1 of 1\n",
      "[youtube] Extracting URL: https://www.youtube.com/watch?v=fMjasXiIhiQ\n",
      "[youtube] fMjasXiIhiQ: Downloading webpage\n",
      "[youtube] fMjasXiIhiQ: Downloading ios player API JSON\n",
      "[youtube] fMjasXiIhiQ: Downloading android player API JSON\n"
     ]
    },
    {
     "name": "stderr",
     "output_type": "stream",
     "text": [
      "WARNING: [youtube] YouTube said: ERROR - Precondition check failed.\n",
      "WARNING: [youtube] HTTP Error 400: Bad Request. Retrying (1/3)...\n"
     ]
    },
    {
     "name": "stdout",
     "output_type": "stream",
     "text": [
      "[youtube] fMjasXiIhiQ: Downloading android player API JSON\n"
     ]
    },
    {
     "name": "stderr",
     "output_type": "stream",
     "text": [
      "WARNING: [youtube] YouTube said: ERROR - Precondition check failed.\n",
      "WARNING: [youtube] HTTP Error 400: Bad Request. Retrying (2/3)...\n"
     ]
    },
    {
     "name": "stdout",
     "output_type": "stream",
     "text": [
      "[youtube] fMjasXiIhiQ: Downloading android player API JSON\n"
     ]
    },
    {
     "name": "stderr",
     "output_type": "stream",
     "text": [
      "WARNING: [youtube] YouTube said: ERROR - Precondition check failed.\n",
      "WARNING: [youtube] HTTP Error 400: Bad Request. Retrying (3/3)...\n"
     ]
    },
    {
     "name": "stdout",
     "output_type": "stream",
     "text": [
      "[youtube] fMjasXiIhiQ: Downloading android player API JSON\n"
     ]
    },
    {
     "name": "stderr",
     "output_type": "stream",
     "text": [
      "WARNING: [youtube] YouTube said: ERROR - Precondition check failed.\n",
      "WARNING: [youtube] Unable to download API page: HTTP Error 400: Bad Request (caused by <HTTPError 400: Bad Request>); please report this issue on  https://github.com/yt-dlp/yt-dlp/issues?q= , filling out the appropriate issue template. Confirm you are on the latest version using  yt-dlp -U\n"
     ]
    },
    {
     "name": "stdout",
     "output_type": "stream",
     "text": [
      "[youtube] fMjasXiIhiQ: Downloading m3u8 information\n",
      "[info] fMjasXiIhiQ: Downloading 1 format(s): 251\n",
      "[download] Destination: C:\\Users\\arwin\\Documents\\dev\\APS360-PROJECT\\data\\billboard_audio\\Kanye West_Moon\\Kanye West_Moon.webm\n",
      "[download] 100% of    2.56MiB in 00:00:00 at 22.31MiB/s  \n",
      "[download] Finished downloading playlist: Kanye West Moon\n",
      "[generic] Extracting URL: Taylor Swift Wildest Dreams (Taylor's Version)\n",
      "[youtube:search] Extracting URL: ytsearch:Taylor Swift Wildest Dreams (Taylor's Version)\n",
      "[download] Downloading playlist: Taylor Swift Wildest Dreams (Taylor's Version)\n",
      "[youtube:search] query \"Taylor Swift Wildest Dreams (Taylor's Version)\": Downloading web client config\n",
      "[youtube:search] query \"Taylor Swift Wildest Dreams (Taylor's Version)\" page 1: Downloading API JSON\n",
      "[youtube:search] Playlist Taylor Swift Wildest Dreams (Taylor's Version): Downloading 1 items of 1\n",
      "[download] Downloading item 1 of 1\n",
      "[youtube] Extracting URL: https://www.youtube.com/watch?v=vtW_4j7SsZk\n",
      "[youtube] vtW_4j7SsZk: Downloading webpage\n",
      "[youtube] vtW_4j7SsZk: Downloading ios player API JSON\n",
      "[youtube] vtW_4j7SsZk: Downloading android player API JSON\n",
      "[youtube] vtW_4j7SsZk: Downloading m3u8 information\n",
      "[info] vtW_4j7SsZk: Downloading 1 format(s): 251\n",
      "[download] Destination: C:\\Users\\arwin\\Documents\\dev\\APS360-PROJECT\\data\\billboard_audio\\Taylor Swift_Wildest Dreams (Taylor's Version)\\Taylor Swift_Wildest Dreams (Taylor's Version).webm\n",
      "[download] 100% of    3.45MiB in 00:00:00 at 20.13MiB/s  \n",
      "[download] Finished downloading playlist: Taylor Swift Wildest Dreams (Taylor's Version)\n",
      "[generic] Extracting URL: Duncan Laurence Arcade\n",
      "[youtube:search] Extracting URL: ytsearch:Duncan Laurence Arcade\n",
      "[download] Downloading playlist: Duncan Laurence Arcade\n",
      "[youtube:search] query \"Duncan Laurence Arcade\": Downloading web client config\n",
      "[youtube:search] query \"Duncan Laurence Arcade\" page 1: Downloading API JSON\n",
      "[youtube:search] Playlist Duncan Laurence Arcade: Downloading 1 items of 1\n",
      "[download] Downloading item 1 of 1\n",
      "[youtube] Extracting URL: https://www.youtube.com/watch?v=51u5fnyrGj4\n",
      "[youtube] 51u5fnyrGj4: Downloading webpage\n",
      "[youtube] 51u5fnyrGj4: Downloading ios player API JSON\n",
      "[youtube] 51u5fnyrGj4: Downloading android player API JSON\n"
     ]
    },
    {
     "name": "stderr",
     "output_type": "stream",
     "text": [
      "WARNING: [youtube] YouTube said: ERROR - Precondition check failed.\n",
      "WARNING: [youtube] HTTP Error 400: Bad Request. Retrying (1/3)...\n"
     ]
    },
    {
     "name": "stdout",
     "output_type": "stream",
     "text": [
      "[youtube] 51u5fnyrGj4: Downloading android player API JSON\n",
      "[youtube] 51u5fnyrGj4: Downloading m3u8 information\n",
      "[info] 51u5fnyrGj4: Downloading 1 format(s): 251\n",
      "[download] Destination: C:\\Users\\arwin\\Documents\\dev\\APS360-PROJECT\\data\\billboard_audio\\Duncan Laurence_Arcade\\Duncan Laurence_Arcade.webm\n",
      "[download] 100% of    2.96MiB in 00:00:00 at 13.92MiB/s  \n",
      "[download] Finished downloading playlist: Duncan Laurence Arcade\n",
      "[generic] Extracting URL: Lil Nas X Featuring Doja Cat Scoop\n",
      "[youtube:search] Extracting URL: ytsearch:Lil Nas X Featuring Doja Cat Scoop\n",
      "[download] Downloading playlist: Lil Nas X Featuring Doja Cat Scoop\n",
      "[youtube:search] query \"Lil Nas X Featuring Doja Cat Scoop\": Downloading web client config\n",
      "[youtube:search] query \"Lil Nas X Featuring Doja Cat Scoop\" page 1: Downloading API JSON\n",
      "[youtube:search] Playlist Lil Nas X Featuring Doja Cat Scoop: Downloading 1 items of 1\n",
      "[download] Downloading item 1 of 1\n",
      "[youtube] Extracting URL: https://www.youtube.com/watch?v=iHLmSXJLH8E\n",
      "[youtube] iHLmSXJLH8E: Downloading webpage\n",
      "[youtube] iHLmSXJLH8E: Downloading ios player API JSON\n",
      "[youtube] iHLmSXJLH8E: Downloading android player API JSON\n",
      "[youtube] iHLmSXJLH8E: Downloading m3u8 information\n",
      "[info] iHLmSXJLH8E: Downloading 1 format(s): 251\n",
      "[download] Destination: C:\\Users\\arwin\\Documents\\dev\\APS360-PROJECT\\data\\billboard_audio\\Lil Nas X Featuring Doja Cat_Scoop\\Lil Nas X Featuring Doja Cat_Scoop.webm\n",
      "[download] 100% of    3.08MiB in 00:00:00 at 9.55MiB/s   \n",
      "[download] Finished downloading playlist: Lil Nas X Featuring Doja Cat Scoop\n",
      "[generic] Extracting URL: Lil Nas X Featuring Megan Thee Stallion Dolla Sign Slime\n",
      "[youtube:search] Extracting URL: ytsearch:Lil Nas X Featuring Megan Thee Stallion Dolla Sign Slime\n",
      "[download] Downloading playlist: Lil Nas X Featuring Megan Thee Stallion Dolla Sign Slime\n",
      "[youtube:search] query \"Lil Nas X Featuring Megan Thee Stallion Dolla Sign Slime\": Downloading web client config\n",
      "[youtube:search] query \"Lil Nas X Featuring Megan Thee Stallion Dolla Sign Slime\" page 1: Downloading API JSON\n",
      "[youtube:search] Playlist Lil Nas X Featuring Megan Thee Stallion Dolla Sign Slime: Downloading 1 items of 1\n",
      "[download] Downloading item 1 of 1\n",
      "[youtube] Extracting URL: https://www.youtube.com/watch?v=wuh6YqcQgmM\n",
      "[youtube] wuh6YqcQgmM: Downloading webpage\n",
      "[youtube] wuh6YqcQgmM: Downloading ios player API JSON\n",
      "[youtube] wuh6YqcQgmM: Downloading android player API JSON\n",
      "[youtube] wuh6YqcQgmM: Downloading m3u8 information\n",
      "[info] wuh6YqcQgmM: Downloading 1 format(s): 251\n",
      "[download] Destination: C:\\Users\\arwin\\Documents\\dev\\APS360-PROJECT\\data\\billboard_audio\\Lil Nas X Featuring Megan Thee Stallion_Dolla Sign Slime\\Lil Nas X Featuring Megan Thee Stallion_Dolla Sign Slime.webm\n",
      "[download] 100% of    2.51MiB in 00:00:00 at 4.88MiB/s     \n",
      "[download] Finished downloading playlist: Lil Nas X Featuring Megan Thee Stallion Dolla Sign Slime\n",
      "[generic] Extracting URL: DaBaby X Lil Wayne Lonely\n",
      "[youtube:search] Extracting URL: ytsearch:DaBaby X Lil Wayne Lonely\n",
      "[download] Downloading playlist: DaBaby X Lil Wayne Lonely\n",
      "[youtube:search] query \"DaBaby X Lil Wayne Lonely\": Downloading web client config\n",
      "[youtube:search] query \"DaBaby X Lil Wayne Lonely\" page 1: Downloading API JSON\n",
      "[youtube:search] Playlist DaBaby X Lil Wayne Lonely: Downloading 1 items of 1\n",
      "[download] Downloading item 1 of 1\n",
      "[youtube] Extracting URL: https://www.youtube.com/watch?v=VHt-dENViA4\n",
      "[youtube] VHt-dENViA4: Downloading webpage\n",
      "[youtube] VHt-dENViA4: Downloading ios player API JSON\n",
      "[youtube] VHt-dENViA4: Downloading android player API JSON\n",
      "[youtube] VHt-dENViA4: Downloading m3u8 information\n",
      "[info] VHt-dENViA4: Downloading 1 format(s): 251\n",
      "[download] Destination: C:\\Users\\arwin\\Documents\\dev\\APS360-PROJECT\\data\\billboard_audio\\DaBaby X Lil Wayne_Lonely\\DaBaby X Lil Wayne_Lonely.webm\n",
      "[download] 100% of    2.91MiB in 00:00:00 at 6.92MiB/s     \n",
      "[download] Finished downloading playlist: DaBaby X Lil Wayne Lonely\n",
      "[generic] Extracting URL: Lil Nas X Dead Right Now\n",
      "[youtube:search] Extracting URL: ytsearch:Lil Nas X Dead Right Now\n",
      "[download] Downloading playlist: Lil Nas X Dead Right Now\n",
      "[youtube:search] query \"Lil Nas X Dead Right Now\": Downloading web client config\n",
      "[youtube:search] query \"Lil Nas X Dead Right Now\" page 1: Downloading API JSON\n",
      "[youtube:search] Playlist Lil Nas X Dead Right Now: Downloading 1 items of 1\n",
      "[download] Downloading item 1 of 1\n",
      "[youtube] Extracting URL: https://www.youtube.com/watch?v=A8RDBD7D7QE\n",
      "[youtube] A8RDBD7D7QE: Downloading webpage\n",
      "[youtube] A8RDBD7D7QE: Downloading ios player API JSON\n",
      "[youtube] A8RDBD7D7QE: Downloading android player API JSON\n",
      "[youtube] A8RDBD7D7QE: Downloading m3u8 information\n",
      "[info] A8RDBD7D7QE: Downloading 1 format(s): 251\n",
      "[download] Destination: C:\\Users\\arwin\\Documents\\dev\\APS360-PROJECT\\data\\billboard_audio\\Lil Nas X_Dead Right Now\\Lil Nas X_Dead Right Now.webm\n",
      "[download] 100% of    3.89MiB in 00:00:00 at 9.52MiB/s   \n",
      "[download] Finished downloading playlist: Lil Nas X Dead Right Now\n",
      "[generic] Extracting URL: Lil Nas X Tales Of Dominica\n",
      "[youtube:search] Extracting URL: ytsearch:Lil Nas X Tales Of Dominica\n",
      "[download] Downloading playlist: Lil Nas X Tales Of Dominica\n",
      "[youtube:search] query \"Lil Nas X Tales Of Dominica\": Downloading web client config\n",
      "[youtube:search] query \"Lil Nas X Tales Of Dominica\" page 1: Downloading API JSON\n",
      "[youtube:search] Playlist Lil Nas X Tales Of Dominica: Downloading 1 items of 1\n",
      "[download] Downloading item 1 of 1\n",
      "[youtube] Extracting URL: https://www.youtube.com/watch?v=BHc2E3pNgA0\n",
      "[youtube] BHc2E3pNgA0: Downloading webpage\n",
      "[youtube] BHc2E3pNgA0: Downloading ios player API JSON\n",
      "[youtube] BHc2E3pNgA0: Downloading android player API JSON\n",
      "[youtube] BHc2E3pNgA0: Downloading m3u8 information\n",
      "[info] BHc2E3pNgA0: Downloading 1 format(s): 251\n",
      "[download] Destination: C:\\Users\\arwin\\Documents\\dev\\APS360-PROJECT\\data\\billboard_audio\\Lil Nas X_Tales Of Dominica\\Lil Nas X_Tales Of Dominica.webm\n",
      "[download] 100% of    2.41MiB in 00:00:00 at 15.69MiB/s  \n",
      "[download] Finished downloading playlist: Lil Nas X Tales Of Dominica\n",
      "[generic] Extracting URL: Lil Nas X Featuring Elton John One Of Me\n",
      "[youtube:search] Extracting URL: ytsearch:Lil Nas X Featuring Elton John One Of Me\n",
      "[download] Downloading playlist: Lil Nas X Featuring Elton John One Of Me\n",
      "[youtube:search] query \"Lil Nas X Featuring Elton John One Of Me\": Downloading web client config\n",
      "[youtube:search] query \"Lil Nas X Featuring Elton John One Of Me\" page 1: Downloading API JSON\n",
      "[youtube:search] Playlist Lil Nas X Featuring Elton John One Of Me: Downloading 1 items of 1\n",
      "[download] Downloading item 1 of 1\n",
      "[youtube] Extracting URL: https://www.youtube.com/watch?v=kEC0RdQJA4M\n",
      "[youtube] kEC0RdQJA4M: Downloading webpage\n",
      "[youtube] kEC0RdQJA4M: Downloading ios player API JSON\n",
      "[youtube] kEC0RdQJA4M: Downloading android player API JSON\n",
      "[youtube] kEC0RdQJA4M: Downloading m3u8 information\n",
      "[info] kEC0RdQJA4M: Downloading 1 format(s): 251\n",
      "[download] Destination: C:\\Users\\arwin\\Documents\\dev\\APS360-PROJECT\\data\\billboard_audio\\Lil Nas X Featuring Elton John_One Of Me\\Lil Nas X Featuring Elton John_One Of Me.webm\n",
      "[download] 100% of    2.68MiB in 00:00:00 at 11.69MiB/s    \n",
      "[download] Finished downloading playlist: Lil Nas X Featuring Elton John One Of Me\n",
      "[generic] Extracting URL: Drake Race My Mind\n",
      "[youtube:search] Extracting URL: ytsearch:Drake Race My Mind\n",
      "[download] Downloading playlist: Drake Race My Mind\n",
      "[youtube:search] query \"Drake Race My Mind\": Downloading web client config\n",
      "[youtube:search] query \"Drake Race My Mind\" page 1: Downloading API JSON\n",
      "[youtube:search] Playlist Drake Race My Mind: Downloading 1 items of 1\n",
      "[download] Downloading item 1 of 1\n",
      "[youtube] Extracting URL: https://www.youtube.com/watch?v=bpXztWUPPFQ\n",
      "[youtube] bpXztWUPPFQ: Downloading webpage\n",
      "[youtube] bpXztWUPPFQ: Downloading ios player API JSON\n",
      "[youtube] bpXztWUPPFQ: Downloading android player API JSON\n"
     ]
    },
    {
     "name": "stderr",
     "output_type": "stream",
     "text": [
      "WARNING: [youtube] YouTube said: ERROR - Precondition check failed.\n",
      "WARNING: [youtube] HTTP Error 400: Bad Request. Retrying (1/3)...\n"
     ]
    },
    {
     "name": "stdout",
     "output_type": "stream",
     "text": [
      "[youtube] bpXztWUPPFQ: Downloading android player API JSON\n",
      "[youtube] bpXztWUPPFQ: Downloading m3u8 information\n",
      "[info] bpXztWUPPFQ: Downloading 1 format(s): 251\n",
      "[download] Destination: C:\\Users\\arwin\\Documents\\dev\\APS360-PROJECT\\data\\billboard_audio\\Drake_Race My Mind\\Drake_Race My Mind.webm\n",
      "[download] 100% of    4.37MiB in 00:00:00 at 22.86MiB/s    \n",
      "[download] Finished downloading playlist: Drake Race My Mind\n",
      "[generic] Extracting URL: Lil Nas X Lost In The Citadel\n",
      "[youtube:search] Extracting URL: ytsearch:Lil Nas X Lost In The Citadel\n",
      "[download] Downloading playlist: Lil Nas X Lost In The Citadel\n",
      "[youtube:search] query \"Lil Nas X Lost In The Citadel\": Downloading web client config\n",
      "[youtube:search] query \"Lil Nas X Lost In The Citadel\" page 1: Downloading API JSON\n",
      "[youtube:search] Playlist Lil Nas X Lost In The Citadel: Downloading 1 items of 1\n",
      "[download] Downloading item 1 of 1\n",
      "[youtube] Extracting URL: https://www.youtube.com/watch?v=gqthPLRV7kw\n",
      "[youtube] gqthPLRV7kw: Downloading webpage\n",
      "[youtube] gqthPLRV7kw: Downloading ios player API JSON\n",
      "[youtube] gqthPLRV7kw: Downloading android player API JSON\n",
      "[youtube] gqthPLRV7kw: Downloading m3u8 information\n",
      "[info] gqthPLRV7kw: Downloading 1 format(s): 251\n",
      "[download] Destination: C:\\Users\\arwin\\Documents\\dev\\APS360-PROJECT\\data\\billboard_audio\\Lil Nas X_Lost In The Citadel\\Lil Nas X_Lost In The Citadel.webm\n",
      "[download] 100% of    2.72MiB in 00:00:00 at 14.77MiB/s    \n",
      "[download] Finished downloading playlist: Lil Nas X Lost In The Citadel\n",
      "[generic] Extracting URL: Lil Nas X Sun Goes Down\n",
      "[youtube:search] Extracting URL: ytsearch:Lil Nas X Sun Goes Down\n",
      "[download] Downloading playlist: Lil Nas X Sun Goes Down\n",
      "[youtube:search] query \"Lil Nas X Sun Goes Down\": Downloading web client config\n",
      "[youtube:search] query \"Lil Nas X Sun Goes Down\" page 1: Downloading API JSON\n",
      "[youtube:search] Playlist Lil Nas X Sun Goes Down: Downloading 1 items of 1\n",
      "[download] Downloading item 1 of 1\n",
      "[youtube] Extracting URL: https://www.youtube.com/watch?v=U3BVFY9wnTw\n",
      "[youtube] U3BVFY9wnTw: Downloading webpage\n",
      "[youtube] U3BVFY9wnTw: Downloading ios player API JSON\n",
      "[youtube] U3BVFY9wnTw: Downloading android player API JSON\n",
      "[youtube] U3BVFY9wnTw: Downloading m3u8 information\n",
      "[info] U3BVFY9wnTw: Downloading 1 format(s): 251\n",
      "[download] Destination: C:\\Users\\arwin\\Documents\\dev\\APS360-PROJECT\\data\\billboard_audio\\Lil Nas X_Sun Goes Down\\Lil Nas X_Sun Goes Down.webm\n",
      "[download] 100% of    2.81MiB in 00:00:00 at 16.59MiB/s  \n",
      "[download] Finished downloading playlist: Lil Nas X Sun Goes Down\n",
      "[generic] Extracting URL: Drake 7am On Bridle Path\n",
      "[youtube:search] Extracting URL: ytsearch:Drake 7am On Bridle Path\n",
      "[download] Downloading playlist: Drake 7am On Bridle Path\n",
      "[youtube:search] query \"Drake 7am On Bridle Path\": Downloading web client config\n",
      "[youtube:search] query \"Drake 7am On Bridle Path\" page 1: Downloading API JSON\n",
      "[youtube:search] Playlist Drake 7am On Bridle Path: Downloading 1 items of 1\n",
      "[download] Downloading item 1 of 1\n",
      "[youtube] Extracting URL: https://www.youtube.com/watch?v=L6W1_fUurpA\n",
      "[youtube] L6W1_fUurpA: Downloading webpage\n",
      "[youtube] L6W1_fUurpA: Downloading ios player API JSON\n",
      "[youtube] L6W1_fUurpA: Downloading android player API JSON\n"
     ]
    },
    {
     "name": "stderr",
     "output_type": "stream",
     "text": [
      "WARNING: [youtube] YouTube said: ERROR - Precondition check failed.\n",
      "WARNING: [youtube] HTTP Error 400: Bad Request. Retrying (1/3)...\n"
     ]
    },
    {
     "name": "stdout",
     "output_type": "stream",
     "text": [
      "[youtube] L6W1_fUurpA: Downloading android player API JSON\n"
     ]
    },
    {
     "name": "stderr",
     "output_type": "stream",
     "text": [
      "WARNING: [youtube] YouTube said: ERROR - Precondition check failed.\n",
      "WARNING: [youtube] HTTP Error 400: Bad Request. Retrying (2/3)...\n"
     ]
    },
    {
     "name": "stdout",
     "output_type": "stream",
     "text": [
      "[youtube] L6W1_fUurpA: Downloading android player API JSON\n",
      "[youtube] L6W1_fUurpA: Downloading m3u8 information\n",
      "[info] L6W1_fUurpA: Downloading 1 format(s): 251\n",
      "[download] Destination: C:\\Users\\arwin\\Documents\\dev\\APS360-PROJECT\\data\\billboard_audio\\Drake_7am On Bridle Path\\Drake_7am On Bridle Path.webm\n",
      "[download] 100% of    3.84MiB in 00:00:00 at 12.75MiB/s  \n",
      "[download] Finished downloading playlist: Drake 7am On Bridle Path\n",
      "[generic] Extracting URL: Kanye West Off The Grid\n",
      "[youtube:search] Extracting URL: ytsearch:Kanye West Off The Grid\n",
      "[download] Downloading playlist: Kanye West Off The Grid\n",
      "[youtube:search] query \"Kanye West Off The Grid\": Downloading web client config\n",
      "[youtube:search] query \"Kanye West Off The Grid\" page 1: Downloading API JSON\n",
      "[youtube:search] Playlist Kanye West Off The Grid: Downloading 1 items of 1\n",
      "[download] Downloading item 1 of 1\n",
      "[youtube] Extracting URL: https://www.youtube.com/watch?v=EbDMNjT-QpI\n",
      "[youtube] EbDMNjT-QpI: Downloading webpage\n",
      "[youtube] EbDMNjT-QpI: Downloading ios player API JSON\n",
      "[youtube] EbDMNjT-QpI: Downloading android player API JSON\n"
     ]
    },
    {
     "name": "stderr",
     "output_type": "stream",
     "text": [
      "WARNING: [youtube] YouTube said: ERROR - Precondition check failed.\n",
      "WARNING: [youtube] HTTP Error 400: Bad Request. Retrying (1/3)...\n"
     ]
    },
    {
     "name": "stdout",
     "output_type": "stream",
     "text": [
      "[youtube] EbDMNjT-QpI: Downloading android player API JSON\n",
      "[youtube] EbDMNjT-QpI: Downloading m3u8 information\n",
      "[info] EbDMNjT-QpI: Downloading 1 format(s): 251\n",
      "[download] Destination: C:\\Users\\arwin\\Documents\\dev\\APS360-PROJECT\\data\\billboard_audio\\Kanye West_Off The Grid\\Kanye West_Off The Grid.webm\n",
      "[download] 100% of    5.51MiB in 00:00:00 at 6.66MiB/s   \n",
      "[download] Finished downloading playlist: Kanye West Off The Grid\n",
      "[generic] Extracting URL: J Balvin & Skrillex In Da Getto\n",
      "[youtube:search] Extracting URL: ytsearch:J Balvin & Skrillex In Da Getto\n",
      "[download] Downloading playlist: J Balvin & Skrillex In Da Getto\n",
      "[youtube:search] query \"J Balvin & Skrillex In Da Getto\": Downloading web client config\n",
      "[youtube:search] query \"J Balvin & Skrillex In Da Getto\" page 1: Downloading API JSON\n",
      "[youtube:search] Playlist J Balvin & Skrillex In Da Getto: Downloading 1 items of 1\n",
      "[download] Downloading item 1 of 1\n",
      "[youtube] Extracting URL: https://www.youtube.com/watch?v=MjlTKXujfwE\n",
      "[youtube] MjlTKXujfwE: Downloading webpage\n",
      "[youtube] MjlTKXujfwE: Downloading ios player API JSON\n",
      "[youtube] MjlTKXujfwE: Downloading android player API JSON\n",
      "[youtube] MjlTKXujfwE: Downloading m3u8 information\n",
      "[info] MjlTKXujfwE: Downloading 1 format(s): 251\n",
      "[download] Destination: C:\\Users\\arwin\\Documents\\dev\\APS360-PROJECT\\data\\billboard_audio\\J Balvin & Skrillex_In Da Getto\\J Balvin & Skrillex_In Da Getto.webm\n",
      "[download] 100% of    2.70MiB in 00:00:00 at 3.35MiB/s   \n",
      "[download] Finished downloading playlist: J Balvin & Skrillex In Da Getto\n",
      "[generic] Extracting URL: Silk Sonic (Bruno Mars & Anderson _Paak) Skate\n",
      "[youtube:search] Extracting URL: ytsearch:Silk Sonic (Bruno Mars & Anderson _Paak) Skate\n",
      "[download] Downloading playlist: Silk Sonic (Bruno Mars & Anderson _Paak) Skate\n",
      "[youtube:search] query \"Silk Sonic (Bruno Mars & Anderson _Paak) Skate\": Downloading web client config\n",
      "[youtube:search] query \"Silk Sonic (Bruno Mars & Anderson _Paak) Skate\" page 1: Downloading API JSON\n",
      "[youtube:search] Playlist Silk Sonic (Bruno Mars & Anderson _Paak) Skate: Downloading 1 items of 1\n",
      "[download] Downloading item 1 of 1\n",
      "[youtube] Extracting URL: https://www.youtube.com/watch?v=CEw-7cMnBDY\n",
      "[youtube] CEw-7cMnBDY: Downloading webpage\n",
      "[youtube] CEw-7cMnBDY: Downloading ios player API JSON\n",
      "[youtube] CEw-7cMnBDY: Downloading android player API JSON\n"
     ]
    },
    {
     "name": "stderr",
     "output_type": "stream",
     "text": [
      "WARNING: [youtube] YouTube said: ERROR - Precondition check failed.\n",
      "WARNING: [youtube] HTTP Error 400: Bad Request. Retrying (1/3)...\n"
     ]
    },
    {
     "name": "stdout",
     "output_type": "stream",
     "text": [
      "[youtube] CEw-7cMnBDY: Downloading android player API JSON\n",
      "[youtube] CEw-7cMnBDY: Downloading m3u8 information\n",
      "[info] CEw-7cMnBDY: Downloading 1 format(s): 251\n",
      "[download] Destination: C:\\Users\\arwin\\Documents\\dev\\APS360-PROJECT\\data\\billboard_audio\\Silk Sonic (Bruno Mars & Anderson _Paak)_Skate\\Silk Sonic (Bruno Mars & Anderson _Paak)_Skate.webm\n",
      "[download] 100% of    3.10MiB in 00:00:00 at 18.22MiB/s  \n",
      "[download] Finished downloading playlist: Silk Sonic (Bruno Mars & Anderson _Paak) Skate\n",
      "[generic] Extracting URL: Lil Nas X Featuring Miley Cyrus Am I Dreaming\n",
      "[youtube:search] Extracting URL: ytsearch:Lil Nas X Featuring Miley Cyrus Am I Dreaming\n",
      "[download] Downloading playlist: Lil Nas X Featuring Miley Cyrus Am I Dreaming\n",
      "[youtube:search] query \"Lil Nas X Featuring Miley Cyrus Am I Dreaming\": Downloading web client config\n",
      "[youtube:search] query \"Lil Nas X Featuring Miley Cyrus Am I Dreaming\" page 1: Downloading API JSON\n",
      "[youtube:search] Playlist Lil Nas X Featuring Miley Cyrus Am I Dreaming: Downloading 1 items of 1\n",
      "[download] Downloading item 1 of 1\n",
      "[youtube] Extracting URL: https://www.youtube.com/watch?v=oyliZ8AoPq0\n",
      "[youtube] oyliZ8AoPq0: Downloading webpage\n",
      "[youtube] oyliZ8AoPq0: Downloading ios player API JSON\n",
      "[youtube] oyliZ8AoPq0: Downloading android player API JSON\n",
      "[youtube] oyliZ8AoPq0: Downloading m3u8 information\n",
      "[info] oyliZ8AoPq0: Downloading 1 format(s): 251\n",
      "[download] Destination: C:\\Users\\arwin\\Documents\\dev\\APS360-PROJECT\\data\\billboard_audio\\Lil Nas X Featuring Miley Cyrus_Am I Dreaming\\Lil Nas X Featuring Miley Cyrus_Am I Dreaming.webm\n",
      "[download] 100% of    2.78MiB in 00:00:00 at 14.73MiB/s  \n",
      "[download] Finished downloading playlist: Lil Nas X Featuring Miley Cyrus Am I Dreaming\n",
      "[generic] Extracting URL: Camila Cabello Don't Go Yet\n",
      "[youtube:search] Extracting URL: ytsearch:Camila Cabello Don't Go Yet\n",
      "[download] Downloading playlist: Camila Cabello Don't Go Yet\n",
      "[youtube:search] query \"Camila Cabello Don't Go Yet\": Downloading web client config\n",
      "[youtube:search] query \"Camila Cabello Don't Go Yet\" page 1: Downloading API JSON\n",
      "[youtube:search] Playlist Camila Cabello Don't Go Yet: Downloading 1 items of 1\n",
      "[download] Downloading item 1 of 1\n",
      "[youtube] Extracting URL: https://www.youtube.com/watch?v=0Kx3sobEBFE\n",
      "[youtube] 0Kx3sobEBFE: Downloading webpage\n",
      "[youtube] 0Kx3sobEBFE: Downloading ios player API JSON\n",
      "[youtube] 0Kx3sobEBFE: Downloading android player API JSON\n"
     ]
    },
    {
     "name": "stderr",
     "output_type": "stream",
     "text": [
      "WARNING: [youtube] YouTube said: ERROR - Precondition check failed.\n",
      "WARNING: [youtube] HTTP Error 400: Bad Request. Retrying (1/3)...\n"
     ]
    },
    {
     "name": "stdout",
     "output_type": "stream",
     "text": [
      "[youtube] 0Kx3sobEBFE: Downloading android player API JSON\n"
     ]
    },
    {
     "name": "stderr",
     "output_type": "stream",
     "text": [
      "WARNING: [youtube] YouTube said: ERROR - Precondition check failed.\n",
      "WARNING: [youtube] HTTP Error 400: Bad Request. Retrying (2/3)...\n"
     ]
    },
    {
     "name": "stdout",
     "output_type": "stream",
     "text": [
      "[youtube] 0Kx3sobEBFE: Downloading android player API JSON\n",
      "[youtube] 0Kx3sobEBFE: Downloading m3u8 information\n",
      "[info] 0Kx3sobEBFE: Downloading 1 format(s): 251\n",
      "[download] Destination: C:\\Users\\arwin\\Documents\\dev\\APS360-PROJECT\\data\\billboard_audio\\Camila Cabello_Don't Go Yet\\Camila Cabello_Don't Go Yet.webm\n",
      "[download] 100% of    2.91MiB in 00:00:00 at 16.14MiB/s  \n",
      "[download] Finished downloading playlist: Camila Cabello Don't Go Yet\n",
      "[generic] Extracting URL: Thomas Rhett Country Again\n",
      "[youtube:search] Extracting URL: ytsearch:Thomas Rhett Country Again\n",
      "[download] Downloading playlist: Thomas Rhett Country Again\n",
      "[youtube:search] query \"Thomas Rhett Country Again\": Downloading web client config\n",
      "[youtube:search] query \"Thomas Rhett Country Again\" page 1: Downloading API JSON\n",
      "[youtube:search] Playlist Thomas Rhett Country Again: Downloading 1 items of 1\n",
      "[download] Downloading item 1 of 1\n",
      "[youtube] Extracting URL: https://www.youtube.com/watch?v=t_J2gGmoiOM\n",
      "[youtube] t_J2gGmoiOM: Downloading webpage\n",
      "[youtube] t_J2gGmoiOM: Downloading ios player API JSON\n",
      "[youtube] t_J2gGmoiOM: Downloading android player API JSON\n"
     ]
    },
    {
     "name": "stderr",
     "output_type": "stream",
     "text": [
      "WARNING: [youtube] YouTube said: ERROR - Precondition check failed.\n",
      "WARNING: [youtube] HTTP Error 400: Bad Request. Retrying (1/3)...\n"
     ]
    },
    {
     "name": "stdout",
     "output_type": "stream",
     "text": [
      "[youtube] t_J2gGmoiOM: Downloading android player API JSON\n",
      "[youtube] t_J2gGmoiOM: Downloading m3u8 information\n",
      "[info] t_J2gGmoiOM: Downloading 1 format(s): 251\n",
      "[download] Destination: C:\\Users\\arwin\\Documents\\dev\\APS360-PROJECT\\data\\billboard_audio\\Thomas Rhett_Country Again\\Thomas Rhett_Country Again.webm\n",
      "[download] 100% of    3.69MiB in 00:00:00 at 19.35MiB/s  \n",
      "[download] Finished downloading playlist: Thomas Rhett Country Again\n",
      "[generic] Extracting URL: Baby Keem & Kendrick Lamar Range Brothers\n",
      "[youtube:search] Extracting URL: ytsearch:Baby Keem & Kendrick Lamar Range Brothers\n",
      "[download] Downloading playlist: Baby Keem & Kendrick Lamar Range Brothers\n",
      "[youtube:search] query \"Baby Keem & Kendrick Lamar Range Brothers\": Downloading web client config\n",
      "[youtube:search] query \"Baby Keem & Kendrick Lamar Range Brothers\" page 1: Downloading API JSON\n",
      "[youtube:search] Playlist Baby Keem & Kendrick Lamar Range Brothers: Downloading 1 items of 1\n",
      "[download] Downloading item 1 of 1\n",
      "[youtube] Extracting URL: https://www.youtube.com/watch?v=IkuBYRUwWdg\n",
      "[youtube] IkuBYRUwWdg: Downloading webpage\n",
      "[youtube] IkuBYRUwWdg: Downloading ios player API JSON\n",
      "[youtube] IkuBYRUwWdg: Downloading android player API JSON\n",
      "[youtube] IkuBYRUwWdg: Downloading m3u8 information\n",
      "[info] IkuBYRUwWdg: Downloading 1 format(s): 251\n",
      "[download] Destination: C:\\Users\\arwin\\Documents\\dev\\APS360-PROJECT\\data\\billboard_audio\\Baby Keem & Kendrick Lamar_Range Brothers\\Baby Keem & Kendrick Lamar_Range Brothers.webm\n",
      "[download] 100% of    5.43MiB in 00:00:00 at 6.96MiB/s   \n",
      "[download] Finished downloading playlist: Baby Keem & Kendrick Lamar Range Brothers\n",
      "[generic] Extracting URL: DJ Khaled Featuring Lil Baby & Lil Durk Every Chance I Get\n",
      "[youtube:search] Extracting URL: ytsearch:DJ Khaled Featuring Lil Baby & Lil Durk Every Chance I Get\n",
      "[download] Downloading playlist: DJ Khaled Featuring Lil Baby & Lil Durk Every Chance I Get\n",
      "[youtube:search] query \"DJ Khaled Featuring Lil Baby & Lil Durk Every Chance I Get\": Downloading web client config\n",
      "[youtube:search] query \"DJ Khaled Featuring Lil Baby & Lil Durk Every Chance I Get\" page 1: Downloading API JSON\n",
      "[youtube:search] Playlist DJ Khaled Featuring Lil Baby & Lil Durk Every Chance I Get: Downloading 1 items of 1\n",
      "[download] Downloading item 1 of 1\n",
      "[youtube] Extracting URL: https://www.youtube.com/watch?v=BTivsHlVcGU\n",
      "[youtube] BTivsHlVcGU: Downloading webpage\n",
      "[youtube] BTivsHlVcGU: Downloading ios player API JSON\n",
      "[youtube] BTivsHlVcGU: Downloading android player API JSON\n",
      "[youtube] BTivsHlVcGU: Downloading m3u8 information\n",
      "[info] BTivsHlVcGU: Downloading 1 format(s): 251\n",
      "[download] Destination: C:\\Users\\arwin\\Documents\\dev\\APS360-PROJECT\\data\\billboard_audio\\DJ Khaled Featuring Lil Baby & Lil Durk_Every Chance I Get\\DJ Khaled Featuring Lil Baby & Lil Durk_Every Chance I Get.webm\n",
      "[download] 100% of    4.01MiB in 00:00:00 at 17.76MiB/s  \n",
      "[download] Finished downloading playlist: DJ Khaled Featuring Lil Baby & Lil Durk Every Chance I Get\n",
      "[generic] Extracting URL: Drake Featuring Kid Cudi IMY2\n",
      "[youtube:search] Extracting URL: ytsearch:Drake Featuring Kid Cudi IMY2\n",
      "[download] Downloading playlist: Drake Featuring Kid Cudi IMY2\n",
      "[youtube:search] query \"Drake Featuring Kid Cudi IMY2\": Downloading web client config\n",
      "[youtube:search] query \"Drake Featuring Kid Cudi IMY2\" page 1: Downloading API JSON\n",
      "[youtube:search] Playlist Drake Featuring Kid Cudi IMY2: Downloading 1 items of 1\n",
      "[download] Downloading item 1 of 1\n",
      "[youtube] Extracting URL: https://www.youtube.com/watch?v=3aYA2dK2L-U\n",
      "[youtube] 3aYA2dK2L-U: Downloading webpage\n",
      "[youtube] 3aYA2dK2L-U: Downloading ios player API JSON\n",
      "[youtube] 3aYA2dK2L-U: Downloading android player API JSON\n",
      "[youtube] 3aYA2dK2L-U: Downloading m3u8 information\n",
      "[info] 3aYA2dK2L-U: Downloading 1 format(s): 251\n",
      "[download] Destination: C:\\Users\\arwin\\Documents\\dev\\APS360-PROJECT\\data\\billboard_audio\\Drake Featuring Kid Cudi_IMY2\\Drake Featuring Kid Cudi_IMY2.webm\n",
      "[download] 100% of    4.41MiB in 00:00:00 at 17.84MiB/s  \n",
      "[download] Finished downloading playlist: Drake Featuring Kid Cudi IMY2\n",
      "[generic] Extracting URL: Drake & Yebba Yebba's Heartbreak\n",
      "[youtube:search] Extracting URL: ytsearch:Drake & Yebba Yebba's Heartbreak\n",
      "[download] Downloading playlist: Drake & Yebba Yebba's Heartbreak\n",
      "[youtube:search] query \"Drake & Yebba Yebba's Heartbreak\": Downloading web client config\n",
      "[youtube:search] query \"Drake & Yebba Yebba's Heartbreak\" page 1: Downloading API JSON\n",
      "[youtube:search] Playlist Drake & Yebba Yebba's Heartbreak: Downloading 1 items of 1\n",
      "[download] Downloading item 1 of 1\n",
      "[youtube] Extracting URL: https://www.youtube.com/watch?v=9rlW2rUzyn0\n",
      "[youtube] 9rlW2rUzyn0: Downloading webpage\n",
      "[youtube] 9rlW2rUzyn0: Downloading ios player API JSON\n",
      "[youtube] 9rlW2rUzyn0: Downloading android player API JSON\n"
     ]
    },
    {
     "name": "stderr",
     "output_type": "stream",
     "text": [
      "WARNING: [youtube] YouTube said: ERROR - Precondition check failed.\n",
      "WARNING: [youtube] HTTP Error 400: Bad Request. Retrying (1/3)...\n"
     ]
    },
    {
     "name": "stdout",
     "output_type": "stream",
     "text": [
      "[youtube] 9rlW2rUzyn0: Downloading android player API JSON\n",
      "[youtube] 9rlW2rUzyn0: Downloading m3u8 information\n",
      "[info] 9rlW2rUzyn0: Downloading 1 format(s): 251\n",
      "[download] Destination: C:\\Users\\arwin\\Documents\\dev\\APS360-PROJECT\\data\\billboard_audio\\Drake & Yebba_Yebba's Heartbreak\\Drake & Yebba_Yebba's Heartbreak.webm\n",
      "[download] 100% of    2.17MiB in 00:00:00 at 16.25MiB/s  \n",
      "[download] Finished downloading playlist: Drake & Yebba Yebba's Heartbreak\n",
      "[generic] Extracting URL: Drake Featuring Ty Dolla $ign Get Along Better\n",
      "[youtube:search] Extracting URL: ytsearch:Drake Featuring Ty Dolla $ign Get Along Better\n",
      "[download] Downloading playlist: Drake Featuring Ty Dolla $ign Get Along Better\n",
      "[youtube:search] query \"Drake Featuring Ty Dolla $ign Get Along Better\": Downloading web client config\n",
      "[youtube:search] query \"Drake Featuring Ty Dolla $ign Get Along Better\" page 1: Downloading API JSON\n",
      "[youtube:search] Playlist Drake Featuring Ty Dolla $ign Get Along Better: Downloading 1 items of 1\n",
      "[download] Downloading item 1 of 1\n",
      "[youtube] Extracting URL: https://www.youtube.com/watch?v=84y-jaEiFZU\n",
      "[youtube] 84y-jaEiFZU: Downloading webpage\n",
      "[youtube] 84y-jaEiFZU: Downloading ios player API JSON\n",
      "[youtube] 84y-jaEiFZU: Downloading android player API JSON\n"
     ]
    },
    {
     "name": "stderr",
     "output_type": "stream",
     "text": [
      "WARNING: [youtube] YouTube said: ERROR - Precondition check failed.\n",
      "WARNING: [youtube] HTTP Error 400: Bad Request. Retrying (1/3)...\n"
     ]
    },
    {
     "name": "stdout",
     "output_type": "stream",
     "text": [
      "[youtube] 84y-jaEiFZU: Downloading android player API JSON\n"
     ]
    },
    {
     "name": "stderr",
     "output_type": "stream",
     "text": [
      "WARNING: [youtube] YouTube said: ERROR - Precondition check failed.\n",
      "WARNING: [youtube] HTTP Error 400: Bad Request. Retrying (2/3)...\n"
     ]
    },
    {
     "name": "stdout",
     "output_type": "stream",
     "text": [
      "[youtube] 84y-jaEiFZU: Downloading android player API JSON\n",
      "[youtube] 84y-jaEiFZU: Downloading m3u8 information\n",
      "[info] 84y-jaEiFZU: Downloading 1 format(s): 251\n",
      "[download] Destination: C:\\Users\\arwin\\Documents\\dev\\APS360-PROJECT\\data\\billboard_audio\\Drake Featuring Ty Dolla $ign_Get Along Better\\Drake Featuring Ty Dolla $ign_Get Along Better.webm\n",
      "[download] 100% of    3.81MiB in 00:00:00 at 16.77MiB/s  \n",
      "[download] Finished downloading playlist: Drake Featuring Ty Dolla $ign Get Along Better\n",
      "[generic] Extracting URL: Drake Featuring Lil Wayne & Rick Ross You Only Live Twice\n",
      "[youtube:search] Extracting URL: ytsearch:Drake Featuring Lil Wayne & Rick Ross You Only Live Twice\n",
      "[download] Downloading playlist: Drake Featuring Lil Wayne & Rick Ross You Only Live Twice\n",
      "[youtube:search] query \"Drake Featuring Lil Wayne & Rick Ross You Only Live Twice\": Downloading web client config\n",
      "[youtube:search] query \"Drake Featuring Lil Wayne & Rick Ross You Only Live Twice\" page 1: Downloading API JSON\n",
      "[youtube:search] Playlist Drake Featuring Lil Wayne & Rick Ross You Only Live Twice: Downloading 1 items of 1\n",
      "[download] Downloading item 1 of 1\n",
      "[youtube] Extracting URL: https://www.youtube.com/watch?v=x6Nr6EX3AwY\n",
      "[youtube] x6Nr6EX3AwY: Downloading webpage\n",
      "[youtube] x6Nr6EX3AwY: Downloading ios player API JSON\n",
      "[youtube] x6Nr6EX3AwY: Downloading android player API JSON\n",
      "[youtube] x6Nr6EX3AwY: Downloading m3u8 information\n",
      "[info] x6Nr6EX3AwY: Downloading 1 format(s): 251\n",
      "[download] Destination: C:\\Users\\arwin\\Documents\\dev\\APS360-PROJECT\\data\\billboard_audio\\Drake Featuring Lil Wayne & Rick Ross_You Only Live Twice\\Drake Featuring Lil Wayne & Rick Ross_You Only Live Twice.webm\n",
      "[download] 100% of    3.18MiB in 00:00:00 at 12.17MiB/s  \n",
      "[download] Finished downloading playlist: Drake Featuring Lil Wayne & Rick Ross You Only Live Twice\n",
      "[generic] Extracting URL: Lisa Lalisa\n",
      "[youtube:search] Extracting URL: ytsearch:Lisa Lalisa\n",
      "[download] Downloading playlist: Lisa Lalisa\n",
      "[youtube:search] query \"Lisa Lalisa\": Downloading web client config\n",
      "[youtube:search] query \"Lisa Lalisa\" page 1: Downloading API JSON\n",
      "[youtube:search] Playlist Lisa Lalisa: Downloading 1 items of 1\n",
      "[download] Downloading item 1 of 1\n",
      "[youtube] Extracting URL: https://www.youtube.com/watch?v=awkkyBH2zEo\n",
      "[youtube] awkkyBH2zEo: Downloading webpage\n",
      "[youtube] awkkyBH2zEo: Downloading ios player API JSON\n",
      "[youtube] awkkyBH2zEo: Downloading android player API JSON\n"
     ]
    },
    {
     "name": "stderr",
     "output_type": "stream",
     "text": [
      "WARNING: [youtube] YouTube said: ERROR - Precondition check failed.\n",
      "WARNING: [youtube] HTTP Error 400: Bad Request. Retrying (1/3)...\n"
     ]
    },
    {
     "name": "stdout",
     "output_type": "stream",
     "text": [
      "[youtube] awkkyBH2zEo: Downloading android player API JSON\n"
     ]
    },
    {
     "name": "stderr",
     "output_type": "stream",
     "text": [
      "WARNING: [youtube] YouTube said: ERROR - Precondition check failed.\n",
      "WARNING: [youtube] HTTP Error 400: Bad Request. Retrying (2/3)...\n"
     ]
    },
    {
     "name": "stdout",
     "output_type": "stream",
     "text": [
      "[youtube] awkkyBH2zEo: Downloading android player API JSON\n",
      "[youtube] awkkyBH2zEo: Downloading m3u8 information\n",
      "[info] awkkyBH2zEo: Downloading 1 format(s): 251\n",
      "[download] Destination: C:\\Users\\arwin\\Documents\\dev\\APS360-PROJECT\\data\\billboard_audio\\Lisa_Lalisa\\Lisa_Lalisa.webm\n",
      "[download] 100% of    3.54MiB in 00:00:00 at 19.20MiB/s    \n",
      "[download] Finished downloading playlist: Lisa Lalisa\n",
      "[generic] Extracting URL: Drake Featuring Tems Fountains\n",
      "[youtube:search] Extracting URL: ytsearch:Drake Featuring Tems Fountains\n",
      "[download] Downloading playlist: Drake Featuring Tems Fountains\n",
      "[youtube:search] query \"Drake Featuring Tems Fountains\": Downloading web client config\n",
      "[youtube:search] query \"Drake Featuring Tems Fountains\" page 1: Downloading API JSON\n",
      "[youtube:search] Playlist Drake Featuring Tems Fountains: Downloading 1 items of 1\n",
      "[download] Downloading item 1 of 1\n",
      "[youtube] Extracting URL: https://www.youtube.com/watch?v=pwtWYFUwenE\n",
      "[youtube] pwtWYFUwenE: Downloading webpage\n",
      "[youtube] pwtWYFUwenE: Downloading ios player API JSON\n",
      "[youtube] pwtWYFUwenE: Downloading android player API JSON\n"
     ]
    },
    {
     "name": "stderr",
     "output_type": "stream",
     "text": [
      "WARNING: [youtube] YouTube said: ERROR - Precondition check failed.\n",
      "WARNING: [youtube] HTTP Error 400: Bad Request. Retrying (1/3)...\n"
     ]
    },
    {
     "name": "stdout",
     "output_type": "stream",
     "text": [
      "[youtube] pwtWYFUwenE: Downloading android player API JSON\n"
     ]
    },
    {
     "name": "stderr",
     "output_type": "stream",
     "text": [
      "WARNING: [youtube] YouTube said: ERROR - Precondition check failed.\n",
      "WARNING: [youtube] HTTP Error 400: Bad Request. Retrying (2/3)...\n"
     ]
    },
    {
     "name": "stdout",
     "output_type": "stream",
     "text": [
      "[youtube] pwtWYFUwenE: Downloading android player API JSON\n"
     ]
    },
    {
     "name": "stderr",
     "output_type": "stream",
     "text": [
      "WARNING: [youtube] YouTube said: ERROR - Precondition check failed.\n",
      "WARNING: [youtube] HTTP Error 400: Bad Request. Retrying (3/3)...\n"
     ]
    },
    {
     "name": "stdout",
     "output_type": "stream",
     "text": [
      "[youtube] pwtWYFUwenE: Downloading android player API JSON\n"
     ]
    },
    {
     "name": "stderr",
     "output_type": "stream",
     "text": [
      "WARNING: [youtube] YouTube said: ERROR - Precondition check failed.\n",
      "WARNING: [youtube] Unable to download API page: HTTP Error 400: Bad Request (caused by <HTTPError 400: Bad Request>); please report this issue on  https://github.com/yt-dlp/yt-dlp/issues?q= , filling out the appropriate issue template. Confirm you are on the latest version using  yt-dlp -U\n"
     ]
    },
    {
     "name": "stdout",
     "output_type": "stream",
     "text": [
      "[youtube] pwtWYFUwenE: Downloading m3u8 information\n",
      "[info] pwtWYFUwenE: Downloading 1 format(s): 251\n",
      "[download] Destination: C:\\Users\\arwin\\Documents\\dev\\APS360-PROJECT\\data\\billboard_audio\\Drake Featuring Tems_Fountains\\Drake Featuring Tems_Fountains.webm\n",
      "[download] 100% of    3.17MiB in 00:00:00 at 15.47MiB/s  \n",
      "[download] Finished downloading playlist: Drake Featuring Tems Fountains\n",
      "[generic] Extracting URL: Cole Swindell Single Saturday Night\n",
      "[youtube:search] Extracting URL: ytsearch:Cole Swindell Single Saturday Night\n",
      "[download] Downloading playlist: Cole Swindell Single Saturday Night\n",
      "[youtube:search] query \"Cole Swindell Single Saturday Night\": Downloading web client config\n",
      "[youtube:search] query \"Cole Swindell Single Saturday Night\" page 1: Downloading API JSON\n",
      "[youtube:search] Playlist Cole Swindell Single Saturday Night: Downloading 1 items of 1\n",
      "[download] Downloading item 1 of 1\n",
      "[youtube] Extracting URL: https://www.youtube.com/watch?v=-PYbo2o6Zi8\n",
      "[youtube] -PYbo2o6Zi8: Downloading webpage\n",
      "[youtube] -PYbo2o6Zi8: Downloading ios player API JSON\n",
      "[youtube] -PYbo2o6Zi8: Downloading android player API JSON\n"
     ]
    },
    {
     "name": "stderr",
     "output_type": "stream",
     "text": [
      "WARNING: [youtube] YouTube said: ERROR - Precondition check failed.\n",
      "WARNING: [youtube] HTTP Error 400: Bad Request. Retrying (1/3)...\n"
     ]
    },
    {
     "name": "stdout",
     "output_type": "stream",
     "text": [
      "[youtube] -PYbo2o6Zi8: Downloading android player API JSON\n"
     ]
    },
    {
     "name": "stderr",
     "output_type": "stream",
     "text": [
      "WARNING: [youtube] YouTube said: ERROR - Precondition check failed.\n",
      "WARNING: [youtube] HTTP Error 400: Bad Request. Retrying (2/3)...\n"
     ]
    },
    {
     "name": "stdout",
     "output_type": "stream",
     "text": [
      "[youtube] -PYbo2o6Zi8: Downloading android player API JSON\n"
     ]
    },
    {
     "name": "stderr",
     "output_type": "stream",
     "text": [
      "WARNING: [youtube] YouTube said: ERROR - Precondition check failed.\n",
      "WARNING: [youtube] HTTP Error 400: Bad Request. Retrying (3/3)...\n"
     ]
    },
    {
     "name": "stdout",
     "output_type": "stream",
     "text": [
      "[youtube] -PYbo2o6Zi8: Downloading android player API JSON\n"
     ]
    },
    {
     "name": "stderr",
     "output_type": "stream",
     "text": [
      "WARNING: [youtube] YouTube said: ERROR - Precondition check failed.\n",
      "WARNING: [youtube] Unable to download API page: HTTP Error 400: Bad Request (caused by <HTTPError 400: Bad Request>); please report this issue on  https://github.com/yt-dlp/yt-dlp/issues?q= , filling out the appropriate issue template. Confirm you are on the latest version using  yt-dlp -U\n"
     ]
    },
    {
     "name": "stdout",
     "output_type": "stream",
     "text": [
      "[youtube] -PYbo2o6Zi8: Downloading m3u8 information\n",
      "[info] -PYbo2o6Zi8: Downloading 1 format(s): 251\n",
      "[download] Destination: C:\\Users\\arwin\\Documents\\dev\\APS360-PROJECT\\data\\billboard_audio\\Cole Swindell_Single Saturday Night\\Cole Swindell_Single Saturday Night.webm\n",
      "[download] 100% of    3.61MiB in 00:00:00 at 14.54MiB/s  \n",
      "[download] Finished downloading playlist: Cole Swindell Single Saturday Night\n",
      "[generic] Extracting URL: Justin Moore We Didn't Have Much\n",
      "[youtube:search] Extracting URL: ytsearch:Justin Moore We Didn't Have Much\n",
      "[download] Downloading playlist: Justin Moore We Didn't Have Much\n",
      "[youtube:search] query \"Justin Moore We Didn't Have Much\": Downloading web client config\n",
      "[youtube:search] query \"Justin Moore We Didn't Have Much\" page 1: Downloading API JSON\n",
      "[youtube:search] Playlist Justin Moore We Didn't Have Much: Downloading 1 items of 1\n",
      "[download] Downloading item 1 of 1\n",
      "[youtube] Extracting URL: https://www.youtube.com/watch?v=ZJeOYBuuoJ4\n",
      "[youtube] ZJeOYBuuoJ4: Downloading webpage\n",
      "[youtube] ZJeOYBuuoJ4: Downloading ios player API JSON\n",
      "[youtube] ZJeOYBuuoJ4: Downloading android player API JSON\n"
     ]
    },
    {
     "name": "stderr",
     "output_type": "stream",
     "text": [
      "WARNING: [youtube] YouTube said: ERROR - Precondition check failed.\n",
      "WARNING: [youtube] HTTP Error 400: Bad Request. Retrying (1/3)...\n"
     ]
    },
    {
     "name": "stdout",
     "output_type": "stream",
     "text": [
      "[youtube] ZJeOYBuuoJ4: Downloading android player API JSON\n",
      "[youtube] ZJeOYBuuoJ4: Downloading m3u8 information\n",
      "[info] ZJeOYBuuoJ4: Downloading 1 format(s): 251\n",
      "[download] Destination: C:\\Users\\arwin\\Documents\\dev\\APS360-PROJECT\\data\\billboard_audio\\Justin Moore_We Didn't Have Much\\Justin Moore_We Didn't Have Much.webm\n",
      "[download] 100% of    2.91MiB in 00:00:00 at 10.75MiB/s    \n",
      "[download] Finished downloading playlist: Justin Moore We Didn't Have Much\n",
      "[generic] Extracting URL: Kanye West Jail\n",
      "[youtube:search] Extracting URL: ytsearch:Kanye West Jail\n",
      "[download] Downloading playlist: Kanye West Jail\n",
      "[youtube:search] query \"Kanye West Jail\": Downloading web client config\n",
      "[youtube:search] query \"Kanye West Jail\" page 1: Downloading API JSON\n",
      "[youtube:search] Playlist Kanye West Jail: Downloading 1 items of 1\n",
      "[download] Downloading item 1 of 1\n",
      "[youtube] Extracting URL: https://www.youtube.com/watch?v=IviYsgJXG5k\n",
      "[youtube] IviYsgJXG5k: Downloading webpage\n",
      "[youtube] IviYsgJXG5k: Downloading ios player API JSON\n",
      "[youtube] IviYsgJXG5k: Downloading android player API JSON\n"
     ]
    },
    {
     "name": "stderr",
     "output_type": "stream",
     "text": [
      "WARNING: [youtube] YouTube said: ERROR - Precondition check failed.\n",
      "WARNING: [youtube] HTTP Error 400: Bad Request. Retrying (1/3)...\n"
     ]
    },
    {
     "name": "stdout",
     "output_type": "stream",
     "text": [
      "[youtube] IviYsgJXG5k: Downloading android player API JSON\n"
     ]
    },
    {
     "name": "stderr",
     "output_type": "stream",
     "text": [
      "WARNING: [youtube] YouTube said: ERROR - Precondition check failed.\n",
      "WARNING: [youtube] HTTP Error 400: Bad Request. Retrying (2/3)...\n"
     ]
    },
    {
     "name": "stdout",
     "output_type": "stream",
     "text": [
      "[youtube] IviYsgJXG5k: Downloading android player API JSON\n"
     ]
    },
    {
     "name": "stderr",
     "output_type": "stream",
     "text": [
      "WARNING: [youtube] YouTube said: ERROR - Precondition check failed.\n",
      "WARNING: [youtube] HTTP Error 400: Bad Request. Retrying (3/3)...\n"
     ]
    },
    {
     "name": "stdout",
     "output_type": "stream",
     "text": [
      "[youtube] IviYsgJXG5k: Downloading android player API JSON\n"
     ]
    },
    {
     "name": "stderr",
     "output_type": "stream",
     "text": [
      "WARNING: [youtube] YouTube said: ERROR - Precondition check failed.\n",
      "WARNING: [youtube] Unable to download API page: HTTP Error 400: Bad Request (caused by <HTTPError 400: Bad Request>); please report this issue on  https://github.com/yt-dlp/yt-dlp/issues?q= , filling out the appropriate issue template. Confirm you are on the latest version using  yt-dlp -U\n"
     ]
    },
    {
     "name": "stdout",
     "output_type": "stream",
     "text": [
      "[youtube] IviYsgJXG5k: Downloading m3u8 information\n",
      "[info] IviYsgJXG5k: Downloading 1 format(s): 251\n",
      "[download] Destination: C:\\Users\\arwin\\Documents\\dev\\APS360-PROJECT\\data\\billboard_audio\\Kanye West_Jail\\Kanye West_Jail.webm\n",
      "[download] 100% of    4.75MiB in 00:00:00 at 11.07MiB/s  \n",
      "[download] Finished downloading playlist: Kanye West Jail\n",
      "[generic] Extracting URL: Drake Fucking Fans\n",
      "[youtube:search] Extracting URL: ytsearch:Drake Fucking Fans\n",
      "[download] Downloading playlist: Drake Fucking Fans\n",
      "[youtube:search] query \"Drake Fucking Fans\": Downloading web client config\n",
      "[youtube:search] query \"Drake Fucking Fans\" page 1: Downloading API JSON\n",
      "[youtube:search] Playlist Drake Fucking Fans: Downloading 1 items of 1\n",
      "[download] Downloading item 1 of 1\n",
      "[youtube] Extracting URL: https://www.youtube.com/watch?v=nipQPwDkneE\n",
      "[youtube] nipQPwDkneE: Downloading webpage\n",
      "[youtube] nipQPwDkneE: Downloading ios player API JSON\n",
      "[youtube] nipQPwDkneE: Downloading android player API JSON\n"
     ]
    },
    {
     "name": "stderr",
     "output_type": "stream",
     "text": [
      "WARNING: [youtube] YouTube said: ERROR - Precondition check failed.\n",
      "WARNING: [youtube] HTTP Error 400: Bad Request. Retrying (1/3)...\n"
     ]
    },
    {
     "name": "stdout",
     "output_type": "stream",
     "text": [
      "[youtube] nipQPwDkneE: Downloading android player API JSON\n"
     ]
    },
    {
     "name": "stderr",
     "output_type": "stream",
     "text": [
      "WARNING: [youtube] YouTube said: ERROR - Precondition check failed.\n",
      "WARNING: [youtube] HTTP Error 400: Bad Request. Retrying (2/3)...\n"
     ]
    },
    {
     "name": "stdout",
     "output_type": "stream",
     "text": [
      "[youtube] nipQPwDkneE: Downloading android player API JSON\n",
      "[youtube] nipQPwDkneE: Downloading m3u8 information\n",
      "[info] nipQPwDkneE: Downloading 1 format(s): 251\n",
      "[download] Destination: C:\\Users\\arwin\\Documents\\dev\\APS360-PROJECT\\data\\billboard_audio\\Drake_Fucking Fans\\Drake_Fucking Fans.webm\n",
      "[download] 100% of    4.24MiB in 00:00:00 at 16.63MiB/s  \n",
      "[download] Finished downloading playlist: Drake Fucking Fans\n",
      "[generic] Extracting URL: Drake The Remorse\n",
      "[youtube:search] Extracting URL: ytsearch:Drake The Remorse\n",
      "[download] Downloading playlist: Drake The Remorse\n",
      "[youtube:search] query \"Drake The Remorse\": Downloading web client config\n",
      "[youtube:search] query \"Drake The Remorse\" page 1: Downloading API JSON\n",
      "[youtube:search] Playlist Drake The Remorse: Downloading 1 items of 1\n",
      "[download] Downloading item 1 of 1\n",
      "[youtube] Extracting URL: https://www.youtube.com/watch?v=2_TPmfd02xc\n",
      "[youtube] 2_TPmfd02xc: Downloading webpage\n",
      "[youtube] 2_TPmfd02xc: Downloading ios player API JSON\n",
      "[youtube] 2_TPmfd02xc: Downloading android player API JSON\n"
     ]
    },
    {
     "name": "stderr",
     "output_type": "stream",
     "text": [
      "WARNING: [youtube] YouTube said: ERROR - Precondition check failed.\n",
      "WARNING: [youtube] HTTP Error 400: Bad Request. Retrying (1/3)...\n"
     ]
    },
    {
     "name": "stdout",
     "output_type": "stream",
     "text": [
      "[youtube] 2_TPmfd02xc: Downloading android player API JSON\n",
      "[youtube] 2_TPmfd02xc: Downloading m3u8 information\n",
      "[info] 2_TPmfd02xc: Downloading 1 format(s): 251\n",
      "[download] Destination: C:\\Users\\arwin\\Documents\\dev\\APS360-PROJECT\\data\\billboard_audio\\Drake_The Remorse\\Drake_The Remorse.webm\n",
      "[download] 100% of    5.85MiB in 00:00:00 at 15.02MiB/s    \n",
      "[download] Finished downloading playlist: Drake The Remorse\n",
      "[generic] Extracting URL: Kanye West Ok Ok\n",
      "[youtube:search] Extracting URL: ytsearch:Kanye West Ok Ok\n",
      "[download] Downloading playlist: Kanye West Ok Ok\n",
      "[youtube:search] query \"Kanye West Ok Ok\": Downloading web client config\n",
      "[youtube:search] query \"Kanye West Ok Ok\" page 1: Downloading API JSON\n",
      "[youtube:search] Playlist Kanye West Ok Ok: Downloading 1 items of 1\n",
      "[download] Downloading item 1 of 1\n",
      "[youtube] Extracting URL: https://www.youtube.com/watch?v=nQ94QQinn5o\n",
      "[youtube] nQ94QQinn5o: Downloading webpage\n",
      "[youtube] nQ94QQinn5o: Downloading ios player API JSON\n",
      "[youtube] nQ94QQinn5o: Downloading android player API JSON\n"
     ]
    },
    {
     "name": "stderr",
     "output_type": "stream",
     "text": [
      "WARNING: [youtube] YouTube said: ERROR - Precondition check failed.\n",
      "WARNING: [youtube] HTTP Error 400: Bad Request. Retrying (1/3)...\n"
     ]
    },
    {
     "name": "stdout",
     "output_type": "stream",
     "text": [
      "[youtube] nQ94QQinn5o: Downloading android player API JSON\n"
     ]
    },
    {
     "name": "stderr",
     "output_type": "stream",
     "text": [
      "WARNING: [youtube] YouTube said: ERROR - Precondition check failed.\n",
      "WARNING: [youtube] HTTP Error 400: Bad Request. Retrying (2/3)...\n"
     ]
    },
    {
     "name": "stdout",
     "output_type": "stream",
     "text": [
      "[youtube] nQ94QQinn5o: Downloading android player API JSON\n",
      "[youtube] nQ94QQinn5o: Downloading m3u8 information\n",
      "[info] nQ94QQinn5o: Downloading 1 format(s): 251\n",
      "[download] Destination: C:\\Users\\arwin\\Documents\\dev\\APS360-PROJECT\\data\\billboard_audio\\Kanye West_Ok Ok\\Kanye West_Ok Ok.webm\n",
      "[download] 100% of    3.35MiB in 00:00:00 at 8.58MiB/s     \n",
      "[download] Finished downloading playlist: Kanye West Ok Ok\n",
      "[generic] Extracting URL: Kanye West Junya\n",
      "[youtube:search] Extracting URL: ytsearch:Kanye West Junya\n",
      "[download] Downloading playlist: Kanye West Junya\n",
      "[youtube:search] query \"Kanye West Junya\": Downloading web client config\n",
      "[youtube:search] query \"Kanye West Junya\" page 1: Downloading API JSON\n",
      "[youtube:search] Playlist Kanye West Junya: Downloading 1 items of 1\n",
      "[download] Downloading item 1 of 1\n",
      "[youtube] Extracting URL: https://www.youtube.com/watch?v=uZET6hpfV-4\n",
      "[youtube] uZET6hpfV-4: Downloading webpage\n",
      "[youtube] uZET6hpfV-4: Downloading ios player API JSON\n",
      "[youtube] uZET6hpfV-4: Downloading android player API JSON\n"
     ]
    },
    {
     "name": "stderr",
     "output_type": "stream",
     "text": [
      "WARNING: [youtube] YouTube said: ERROR - Precondition check failed.\n",
      "WARNING: [youtube] HTTP Error 400: Bad Request. Retrying (1/3)...\n"
     ]
    },
    {
     "name": "stdout",
     "output_type": "stream",
     "text": [
      "[youtube] uZET6hpfV-4: Downloading android player API JSON\n",
      "[youtube] uZET6hpfV-4: Downloading m3u8 information\n",
      "[info] uZET6hpfV-4: Downloading 1 format(s): 251\n",
      "[download] Destination: C:\\Users\\arwin\\Documents\\dev\\APS360-PROJECT\\data\\billboard_audio\\Kanye West_Junya\\Kanye West_Junya.webm\n",
      "[download] 100% of    2.26MiB in 00:00:00 at 13.10MiB/s  \n",
      "[download] Finished downloading playlist: Kanye West Junya\n",
      "[generic] Extracting URL: Kanye West Believe What I Say\n",
      "[youtube:search] Extracting URL: ytsearch:Kanye West Believe What I Say\n",
      "[download] Downloading playlist: Kanye West Believe What I Say\n",
      "[youtube:search] query \"Kanye West Believe What I Say\": Downloading web client config\n",
      "[youtube:search] query \"Kanye West Believe What I Say\" page 1: Downloading API JSON\n",
      "[youtube:search] Playlist Kanye West Believe What I Say: Downloading 1 items of 1\n",
      "[download] Downloading item 1 of 1\n",
      "[youtube] Extracting URL: https://www.youtube.com/watch?v=Qp-O4eIUgf0\n",
      "[youtube] Qp-O4eIUgf0: Downloading webpage\n",
      "[youtube] Qp-O4eIUgf0: Downloading ios player API JSON\n",
      "[youtube] Qp-O4eIUgf0: Downloading android player API JSON\n"
     ]
    },
    {
     "name": "stderr",
     "output_type": "stream",
     "text": [
      "WARNING: [youtube] YouTube said: ERROR - Precondition check failed.\n",
      "WARNING: [youtube] HTTP Error 400: Bad Request. Retrying (1/3)...\n"
     ]
    },
    {
     "name": "stdout",
     "output_type": "stream",
     "text": [
      "[youtube] Qp-O4eIUgf0: Downloading android player API JSON\n"
     ]
    },
    {
     "name": "stderr",
     "output_type": "stream",
     "text": [
      "WARNING: [youtube] YouTube said: ERROR - Precondition check failed.\n",
      "WARNING: [youtube] HTTP Error 400: Bad Request. Retrying (2/3)...\n"
     ]
    },
    {
     "name": "stdout",
     "output_type": "stream",
     "text": [
      "[youtube] Qp-O4eIUgf0: Downloading android player API JSON\n"
     ]
    },
    {
     "name": "stderr",
     "output_type": "stream",
     "text": [
      "WARNING: [youtube] YouTube said: ERROR - Precondition check failed.\n",
      "WARNING: [youtube] HTTP Error 400: Bad Request. Retrying (3/3)...\n"
     ]
    },
    {
     "name": "stdout",
     "output_type": "stream",
     "text": [
      "[youtube] Qp-O4eIUgf0: Downloading android player API JSON\n",
      "[youtube] Qp-O4eIUgf0: Downloading m3u8 information\n",
      "[info] Qp-O4eIUgf0: Downloading 1 format(s): 251\n",
      "[download] Destination: C:\\Users\\arwin\\Documents\\dev\\APS360-PROJECT\\data\\billboard_audio\\Kanye West_Believe What I Say\\Kanye West_Believe What I Say.webm\n",
      "[download] 100% of    3.71MiB in 00:00:00 at 5.16MiB/s     \n",
      "[download] Finished downloading playlist: Kanye West Believe What I Say\n",
      "[generic] Extracting URL: Kanye West Jonah\n",
      "[youtube:search] Extracting URL: ytsearch:Kanye West Jonah\n",
      "[download] Downloading playlist: Kanye West Jonah\n",
      "[youtube:search] query \"Kanye West Jonah\": Downloading web client config\n",
      "[youtube:search] query \"Kanye West Jonah\" page 1: Downloading API JSON\n",
      "[youtube:search] Playlist Kanye West Jonah: Downloading 1 items of 1\n",
      "[download] Downloading item 1 of 1\n",
      "[youtube] Extracting URL: https://www.youtube.com/watch?v=txion5seTBA\n",
      "[youtube] txion5seTBA: Downloading webpage\n",
      "[youtube] txion5seTBA: Downloading ios player API JSON\n",
      "[youtube] txion5seTBA: Downloading android player API JSON\n",
      "[youtube] txion5seTBA: Downloading m3u8 information\n",
      "[info] txion5seTBA: Downloading 1 format(s): 251\n",
      "[download] Destination: C:\\Users\\arwin\\Documents\\dev\\APS360-PROJECT\\data\\billboard_audio\\Kanye West_Jonah\\Kanye West_Jonah.webm\n",
      "[download] 100% of    3.30MiB in 00:00:00 at 14.73MiB/s    \n",
      "[download] Finished downloading playlist: Kanye West Jonah\n",
      "[generic] Extracting URL: Kanye West Jesus Lord\n",
      "[youtube:search] Extracting URL: ytsearch:Kanye West Jesus Lord\n",
      "[download] Downloading playlist: Kanye West Jesus Lord\n",
      "[youtube:search] query \"Kanye West Jesus Lord\": Downloading web client config\n",
      "[youtube:search] query \"Kanye West Jesus Lord\" page 1: Downloading API JSON\n",
      "[youtube:search] Playlist Kanye West Jesus Lord: Downloading 1 items of 1\n",
      "[download] Downloading item 1 of 1\n",
      "[youtube] Extracting URL: https://www.youtube.com/watch?v=Fmz2IjrQiWM\n",
      "[youtube] Fmz2IjrQiWM: Downloading webpage\n",
      "[youtube] Fmz2IjrQiWM: Downloading ios player API JSON\n",
      "[youtube] Fmz2IjrQiWM: Downloading android player API JSON\n"
     ]
    },
    {
     "name": "stderr",
     "output_type": "stream",
     "text": [
      "WARNING: [youtube] YouTube said: ERROR - Precondition check failed.\n",
      "WARNING: [youtube] HTTP Error 400: Bad Request. Retrying (1/3)...\n"
     ]
    },
    {
     "name": "stdout",
     "output_type": "stream",
     "text": [
      "[youtube] Fmz2IjrQiWM: Downloading android player API JSON\n",
      "[youtube] Fmz2IjrQiWM: Downloading m3u8 information\n",
      "[info] Fmz2IjrQiWM: Downloading 1 format(s): 251\n",
      "[download] Destination: C:\\Users\\arwin\\Documents\\dev\\APS360-PROJECT\\data\\billboard_audio\\Kanye West_Jesus Lord\\Kanye West_Jesus Lord.webm\n",
      "[download] 100% of    8.92MiB in 00:00:00 at 10.71MiB/s    \n",
      "[download] Finished downloading playlist: Kanye West Jesus Lord\n",
      "[generic] Extracting URL: Post Malone Motley Crew\n",
      "[youtube:search] Extracting URL: ytsearch:Post Malone Motley Crew\n",
      "[download] Downloading playlist: Post Malone Motley Crew\n",
      "[youtube:search] query \"Post Malone Motley Crew\": Downloading web client config\n",
      "[youtube:search] query \"Post Malone Motley Crew\" page 1: Downloading API JSON\n",
      "[youtube:search] Playlist Post Malone Motley Crew: Downloading 1 items of 1\n",
      "[download] Downloading item 1 of 1\n",
      "[youtube] Extracting URL: https://www.youtube.com/watch?v=lCiV4wACZ8w\n",
      "[youtube] lCiV4wACZ8w: Downloading webpage\n",
      "[youtube] lCiV4wACZ8w: Downloading ios player API JSON\n",
      "[youtube] lCiV4wACZ8w: Downloading android player API JSON\n"
     ]
    },
    {
     "name": "stderr",
     "output_type": "stream",
     "text": [
      "WARNING: [youtube] YouTube said: ERROR - Precondition check failed.\n",
      "WARNING: [youtube] HTTP Error 400: Bad Request. Retrying (1/3)...\n"
     ]
    },
    {
     "name": "stdout",
     "output_type": "stream",
     "text": [
      "[youtube] lCiV4wACZ8w: Downloading android player API JSON\n"
     ]
    },
    {
     "name": "stderr",
     "output_type": "stream",
     "text": [
      "WARNING: [youtube] YouTube said: ERROR - Precondition check failed.\n",
      "WARNING: [youtube] HTTP Error 400: Bad Request. Retrying (2/3)...\n"
     ]
    },
    {
     "name": "stdout",
     "output_type": "stream",
     "text": [
      "[youtube] lCiV4wACZ8w: Downloading android player API JSON\n"
     ]
    },
    {
     "name": "stderr",
     "output_type": "stream",
     "text": [
      "WARNING: [youtube] YouTube said: ERROR - Precondition check failed.\n",
      "WARNING: [youtube] HTTP Error 400: Bad Request. Retrying (3/3)...\n"
     ]
    },
    {
     "name": "stdout",
     "output_type": "stream",
     "text": [
      "[youtube] lCiV4wACZ8w: Downloading android player API JSON\n"
     ]
    },
    {
     "name": "stderr",
     "output_type": "stream",
     "text": [
      "WARNING: [youtube] YouTube said: ERROR - Precondition check failed.\n",
      "WARNING: [youtube] Unable to download API page: HTTP Error 400: Bad Request (caused by <HTTPError 400: Bad Request>); please report this issue on  https://github.com/yt-dlp/yt-dlp/issues?q= , filling out the appropriate issue template. Confirm you are on the latest version using  yt-dlp -U\n"
     ]
    },
    {
     "name": "stdout",
     "output_type": "stream",
     "text": [
      "[youtube] lCiV4wACZ8w: Downloading m3u8 information\n",
      "[info] lCiV4wACZ8w: Downloading 1 format(s): 251\n",
      "[download] Destination: C:\\Users\\arwin\\Documents\\dev\\APS360-PROJECT\\data\\billboard_audio\\Post Malone_Motley Crew\\Post Malone_Motley Crew.webm\n",
      "[download] 100% of    2.96MiB in 00:00:00 at 19.23MiB/s  \n",
      "[download] Finished downloading playlist: Post Malone Motley Crew\n",
      "[generic] Extracting URL: Kanye West Remote Control\n",
      "[youtube:search] Extracting URL: ytsearch:Kanye West Remote Control\n",
      "[download] Downloading playlist: Kanye West Remote Control\n",
      "[youtube:search] query \"Kanye West Remote Control\": Downloading web client config\n",
      "[youtube:search] query \"Kanye West Remote Control\" page 1: Downloading API JSON\n",
      "[youtube:search] Playlist Kanye West Remote Control: Downloading 1 items of 1\n",
      "[download] Downloading item 1 of 1\n",
      "[youtube] Extracting URL: https://www.youtube.com/watch?v=0Rtek05tOKU\n",
      "[youtube] 0Rtek05tOKU: Downloading webpage\n",
      "[youtube] 0Rtek05tOKU: Downloading ios player API JSON\n",
      "[youtube] 0Rtek05tOKU: Downloading android player API JSON\n",
      "[youtube] 0Rtek05tOKU: Downloading m3u8 information\n",
      "[info] 0Rtek05tOKU: Downloading 1 format(s): 251\n",
      "[download] Destination: C:\\Users\\arwin\\Documents\\dev\\APS360-PROJECT\\data\\billboard_audio\\Kanye West_Remote Control\\Kanye West_Remote Control.webm\n",
      "[download] 100% of    3.21MiB in 00:00:00 at 16.51MiB/s  \n",
      "[download] Finished downloading playlist: Kanye West Remote Control\n",
      "[generic] Extracting URL: Kanye West God Breathed\n",
      "[youtube:search] Extracting URL: ytsearch:Kanye West God Breathed\n",
      "[download] Downloading playlist: Kanye West God Breathed\n",
      "[youtube:search] query \"Kanye West God Breathed\": Downloading web client config\n",
      "[youtube:search] query \"Kanye West God Breathed\" page 1: Downloading API JSON\n",
      "[youtube:search] Playlist Kanye West God Breathed: Downloading 1 items of 1\n",
      "[download] Downloading item 1 of 1\n",
      "[youtube] Extracting URL: https://www.youtube.com/watch?v=aIhdYj4tfFo\n",
      "[youtube] aIhdYj4tfFo: Downloading webpage\n",
      "[youtube] aIhdYj4tfFo: Downloading ios player API JSON\n",
      "[youtube] aIhdYj4tfFo: Downloading android player API JSON\n",
      "[youtube] aIhdYj4tfFo: Downloading m3u8 information\n",
      "[info] aIhdYj4tfFo: Downloading 1 format(s): 251\n",
      "[download] Destination: C:\\Users\\arwin\\Documents\\dev\\APS360-PROJECT\\data\\billboard_audio\\Kanye West_God Breathed\\Kanye West_God Breathed.webm\n",
      "[download] 100% of    5.20MiB in 00:00:00 at 19.57MiB/s  \n",
      "[download] Finished downloading playlist: Kanye West God Breathed\n",
      "[generic] Extracting URL: Giveon Heartbreak Anniversary\n",
      "[youtube:search] Extracting URL: ytsearch:Giveon Heartbreak Anniversary\n",
      "[download] Downloading playlist: Giveon Heartbreak Anniversary\n",
      "[youtube:search] query \"Giveon Heartbreak Anniversary\": Downloading web client config\n",
      "[youtube:search] query \"Giveon Heartbreak Anniversary\" page 1: Downloading API JSON\n",
      "[youtube:search] Playlist Giveon Heartbreak Anniversary: Downloading 1 items of 1\n",
      "[download] Downloading item 1 of 1\n",
      "[youtube] Extracting URL: https://www.youtube.com/watch?v=uWRlisQu4fo\n",
      "[youtube] uWRlisQu4fo: Downloading webpage\n",
      "[youtube] uWRlisQu4fo: Downloading ios player API JSON\n",
      "[youtube] uWRlisQu4fo: Downloading android player API JSON\n",
      "[youtube] uWRlisQu4fo: Downloading m3u8 information\n",
      "[info] uWRlisQu4fo: Downloading 1 format(s): 251\n",
      "[download] Destination: C:\\Users\\arwin\\Documents\\dev\\APS360-PROJECT\\data\\billboard_audio\\Giveon_Heartbreak Anniversary\\Giveon_Heartbreak Anniversary.webm\n",
      "[download] 100% of    3.85MiB in 00:00:00 at 19.26MiB/s  \n",
      "[download] Finished downloading playlist: Giveon Heartbreak Anniversary\n",
      "[generic] Extracting URL: Luke Combs Forever After All\n",
      "[youtube:search] Extracting URL: ytsearch:Luke Combs Forever After All\n",
      "[download] Downloading playlist: Luke Combs Forever After All\n",
      "[youtube:search] query \"Luke Combs Forever After All\": Downloading web client config\n",
      "[youtube:search] query \"Luke Combs Forever After All\" page 1: Downloading API JSON\n",
      "[youtube:search] Playlist Luke Combs Forever After All: Downloading 1 items of 1\n",
      "[download] Downloading item 1 of 1\n",
      "[youtube] Extracting URL: https://www.youtube.com/watch?v=TDpOcp98b5k\n",
      "[youtube] TDpOcp98b5k: Downloading webpage\n",
      "[youtube] TDpOcp98b5k: Downloading ios player API JSON\n",
      "[youtube] TDpOcp98b5k: Downloading android player API JSON\n",
      "[youtube] TDpOcp98b5k: Downloading m3u8 information\n",
      "[info] TDpOcp98b5k: Downloading 1 format(s): 251\n",
      "[download] Destination: C:\\Users\\arwin\\Documents\\dev\\APS360-PROJECT\\data\\billboard_audio\\Luke Combs_Forever After All\\Luke Combs_Forever After All.webm\n",
      "[download] 100% of    3.84MiB in 00:00:00 at 21.85MiB/s  \n",
      "[download] Finished downloading playlist: Luke Combs Forever After All\n",
      "[generic] Extracting URL: Kanye West Heaven And Hell\n",
      "[youtube:search] Extracting URL: ytsearch:Kanye West Heaven And Hell\n",
      "[download] Downloading playlist: Kanye West Heaven And Hell\n",
      "[youtube:search] query \"Kanye West Heaven And Hell\": Downloading web client config\n",
      "[youtube:search] query \"Kanye West Heaven And Hell\" page 1: Downloading API JSON\n",
      "[youtube:search] Playlist Kanye West Heaven And Hell: Downloading 1 items of 1\n",
      "[download] Downloading item 1 of 1\n",
      "[youtube] Extracting URL: https://www.youtube.com/watch?v=XKWcAsT8Sqc\n",
      "[youtube] XKWcAsT8Sqc: Downloading webpage\n",
      "[youtube] XKWcAsT8Sqc: Downloading ios player API JSON\n",
      "[youtube] XKWcAsT8Sqc: Downloading android player API JSON\n"
     ]
    },
    {
     "name": "stderr",
     "output_type": "stream",
     "text": [
      "WARNING: [youtube] YouTube said: ERROR - Precondition check failed.\n",
      "WARNING: [youtube] HTTP Error 400: Bad Request. Retrying (1/3)...\n"
     ]
    },
    {
     "name": "stdout",
     "output_type": "stream",
     "text": [
      "[youtube] XKWcAsT8Sqc: Downloading android player API JSON\n",
      "[youtube] XKWcAsT8Sqc: Downloading m3u8 information\n",
      "[info] XKWcAsT8Sqc: Downloading 1 format(s): 251\n",
      "[download] Destination: C:\\Users\\arwin\\Documents\\dev\\APS360-PROJECT\\data\\billboard_audio\\Kanye West_Heaven And Hell\\Kanye West_Heaven And Hell.webm\n",
      "[download] 100% of    2.50MiB in 00:00:00 at 13.51MiB/s  \n",
      "[download] Finished downloading playlist: Kanye West Heaven And Hell\n",
      "[generic] Extracting URL: Kanye West 24\n",
      "[youtube:search] Extracting URL: ytsearch:Kanye West 24\n",
      "[download] Downloading playlist: Kanye West 24\n",
      "[youtube:search] query \"Kanye West 24\": Downloading web client config\n",
      "[youtube:search] query \"Kanye West 24\" page 1: Downloading API JSON\n",
      "[youtube:search] Playlist Kanye West 24: Downloading 1 items of 1\n",
      "[download] Downloading item 1 of 1\n",
      "[youtube] Extracting URL: https://www.youtube.com/watch?v=Np2IqqJ5otg\n",
      "[youtube] Np2IqqJ5otg: Downloading webpage\n",
      "[youtube] Np2IqqJ5otg: Downloading ios player API JSON\n",
      "[youtube] Np2IqqJ5otg: Downloading android player API JSON\n",
      "[youtube] Np2IqqJ5otg: Downloading m3u8 information\n",
      "[info] Np2IqqJ5otg: Downloading 1 format(s): 251\n",
      "[download] Destination: C:\\Users\\arwin\\Documents\\dev\\APS360-PROJECT\\data\\billboard_audio\\Kanye West_24\\Kanye West_24.webm\n",
      "[download] 100% of    4.01MiB in 00:00:00 at 11.93MiB/s  \n",
      "[download] Finished downloading playlist: Kanye West 24\n",
      "[generic] Extracting URL: Kanye West Pure Souls\n",
      "[youtube:search] Extracting URL: ytsearch:Kanye West Pure Souls\n",
      "[download] Downloading playlist: Kanye West Pure Souls\n",
      "[youtube:search] query \"Kanye West Pure Souls\": Downloading web client config\n",
      "[youtube:search] query \"Kanye West Pure Souls\" page 1: Downloading API JSON\n",
      "[youtube:search] Playlist Kanye West Pure Souls: Downloading 1 items of 1\n",
      "[download] Downloading item 1 of 1\n",
      "[youtube] Extracting URL: https://www.youtube.com/watch?v=i1nindf1meE\n",
      "[youtube] i1nindf1meE: Downloading webpage\n",
      "[youtube] i1nindf1meE: Downloading ios player API JSON\n",
      "[youtube] i1nindf1meE: Downloading android player API JSON\n"
     ]
    },
    {
     "name": "stderr",
     "output_type": "stream",
     "text": [
      "WARNING: [youtube] YouTube said: ERROR - Precondition check failed.\n",
      "WARNING: [youtube] HTTP Error 400: Bad Request. Retrying (1/3)...\n"
     ]
    },
    {
     "name": "stdout",
     "output_type": "stream",
     "text": [
      "[youtube] i1nindf1meE: Downloading android player API JSON\n"
     ]
    },
    {
     "name": "stderr",
     "output_type": "stream",
     "text": [
      "WARNING: [youtube] YouTube said: ERROR - Precondition check failed.\n",
      "WARNING: [youtube] HTTP Error 400: Bad Request. Retrying (2/3)...\n"
     ]
    },
    {
     "name": "stdout",
     "output_type": "stream",
     "text": [
      "[youtube] i1nindf1meE: Downloading android player API JSON\n",
      "[youtube] i1nindf1meE: Downloading m3u8 information\n",
      "[info] i1nindf1meE: Downloading 1 format(s): 251\n",
      "[download] Destination: C:\\Users\\arwin\\Documents\\dev\\APS360-PROJECT\\data\\billboard_audio\\Kanye West_Pure Souls\\Kanye West_Pure Souls.webm\n",
      "[download] 100% of    6.10MiB in 00:00:00 at 17.21MiB/s    \n",
      "[download] Finished downloading playlist: Kanye West Pure Souls\n",
      "[generic] Extracting URL: Kanye West No Child Left Behind\n",
      "[youtube:search] Extracting URL: ytsearch:Kanye West No Child Left Behind\n",
      "[download] Downloading playlist: Kanye West No Child Left Behind\n",
      "[youtube:search] query \"Kanye West No Child Left Behind\": Downloading web client config\n",
      "[youtube:search] query \"Kanye West No Child Left Behind\" page 1: Downloading API JSON\n",
      "[youtube:search] Playlist Kanye West No Child Left Behind: Downloading 1 items of 1\n",
      "[download] Downloading item 1 of 1\n",
      "[youtube] Extracting URL: https://www.youtube.com/watch?v=sDJBhQv85K0\n",
      "[youtube] sDJBhQv85K0: Downloading webpage\n",
      "[youtube] sDJBhQv85K0: Downloading ios player API JSON\n",
      "[youtube] sDJBhQv85K0: Downloading android player API JSON\n",
      "[youtube] sDJBhQv85K0: Downloading m3u8 information\n",
      "[info] sDJBhQv85K0: Downloading 1 format(s): 251\n",
      "[download] Destination: C:\\Users\\arwin\\Documents\\dev\\APS360-PROJECT\\data\\billboard_audio\\Kanye West_No Child Left Behind\\Kanye West_No Child Left Behind.webm\n",
      "[download] 100% of    3.16MiB in 00:00:00 at 14.72MiB/s    \n",
      "[download] Finished downloading playlist: Kanye West No Child Left Behind\n",
      "[generic] Extracting URL: Kanye West Donda\n",
      "[youtube:search] Extracting URL: ytsearch:Kanye West Donda\n",
      "[download] Downloading playlist: Kanye West Donda\n",
      "[youtube:search] query \"Kanye West Donda\": Downloading web client config\n",
      "[youtube:search] query \"Kanye West Donda\" page 1: Downloading API JSON\n",
      "[youtube:search] Playlist Kanye West Donda: Downloading 1 items of 1\n",
      "[download] Downloading item 1 of 1\n",
      "[youtube] Extracting URL: https://www.youtube.com/watch?v=ofIluxP1nEU\n",
      "[youtube] ofIluxP1nEU: Downloading webpage\n",
      "[youtube] ofIluxP1nEU: Downloading ios player API JSON\n",
      "[youtube] ofIluxP1nEU: Downloading android player API JSON\n"
     ]
    },
    {
     "name": "stderr",
     "output_type": "stream",
     "text": [
      "WARNING: [youtube] YouTube said: ERROR - Precondition check failed.\n",
      "WARNING: [youtube] HTTP Error 400: Bad Request. Retrying (1/3)...\n"
     ]
    },
    {
     "name": "stdout",
     "output_type": "stream",
     "text": [
      "[youtube] ofIluxP1nEU: Downloading android player API JSON\n",
      "[youtube] ofIluxP1nEU: Downloading m3u8 information\n",
      "[info] ofIluxP1nEU: Downloading 1 format(s): 251\n",
      "[download] Destination: C:\\Users\\arwin\\Documents\\dev\\APS360-PROJECT\\data\\billboard_audio\\Kanye West_Donda\\Kanye West_Donda.webm\n",
      "[download] 100% of    2.06MiB in 00:00:00 at 8.57MiB/s   \n",
      "[download] Finished downloading playlist: Kanye West Donda\n",
      "[generic] Extracting URL: Kanye West Keep My Spirit Alive\n",
      "[youtube:search] Extracting URL: ytsearch:Kanye West Keep My Spirit Alive\n",
      "[download] Downloading playlist: Kanye West Keep My Spirit Alive\n",
      "[youtube:search] query \"Kanye West Keep My Spirit Alive\": Downloading web client config\n",
      "[youtube:search] query \"Kanye West Keep My Spirit Alive\" page 1: Downloading API JSON\n",
      "[youtube:search] Playlist Kanye West Keep My Spirit Alive: Downloading 1 items of 1\n",
      "[download] Downloading item 1 of 1\n",
      "[youtube] Extracting URL: https://www.youtube.com/watch?v=V5VYKkx7N-g\n",
      "[youtube] V5VYKkx7N-g: Downloading webpage\n",
      "[youtube] V5VYKkx7N-g: Downloading ios player API JSON\n",
      "[youtube] V5VYKkx7N-g: Downloading android player API JSON\n",
      "[youtube] V5VYKkx7N-g: Downloading m3u8 information\n",
      "[info] V5VYKkx7N-g: Downloading 1 format(s): 251\n",
      "[download] Destination: C:\\Users\\arwin\\Documents\\dev\\APS360-PROJECT\\data\\billboard_audio\\Kanye West_Keep My Spirit Alive\\Kanye West_Keep My Spirit Alive.webm\n",
      "[download] 100% of    3.73MiB in 00:00:01 at 3.13MiB/s     \n",
      "[download] Finished downloading playlist: Kanye West Keep My Spirit Alive\n",
      "[generic] Extracting URL: Kanye West Jail Pt 2\n",
      "[youtube:search] Extracting URL: ytsearch:Kanye West Jail Pt 2\n",
      "[download] Downloading playlist: Kanye West Jail Pt 2\n",
      "[youtube:search] query \"Kanye West Jail Pt 2\": Downloading web client config\n",
      "[youtube:search] query \"Kanye West Jail Pt 2\" page 1: Downloading API JSON\n",
      "[youtube:search] Playlist Kanye West Jail Pt 2: Downloading 1 items of 1\n",
      "[download] Downloading item 1 of 1\n",
      "[youtube] Extracting URL: https://www.youtube.com/watch?v=UArRcQEgxp8\n",
      "[youtube] UArRcQEgxp8: Downloading webpage\n",
      "[youtube] UArRcQEgxp8: Downloading ios player API JSON\n",
      "[youtube] UArRcQEgxp8: Downloading android player API JSON\n"
     ]
    },
    {
     "name": "stderr",
     "output_type": "stream",
     "text": [
      "WARNING: [youtube] YouTube said: ERROR - Precondition check failed.\n",
      "WARNING: [youtube] HTTP Error 400: Bad Request. Retrying (1/3)...\n"
     ]
    },
    {
     "name": "stdout",
     "output_type": "stream",
     "text": [
      "[youtube] UArRcQEgxp8: Downloading android player API JSON\n"
     ]
    },
    {
     "name": "stderr",
     "output_type": "stream",
     "text": [
      "WARNING: [youtube] YouTube said: ERROR - Precondition check failed.\n",
      "WARNING: [youtube] HTTP Error 400: Bad Request. Retrying (2/3)...\n"
     ]
    },
    {
     "name": "stdout",
     "output_type": "stream",
     "text": [
      "[youtube] UArRcQEgxp8: Downloading android player API JSON\n",
      "[youtube] UArRcQEgxp8: Downloading m3u8 information\n",
      "[info] UArRcQEgxp8: Downloading 1 format(s): 251\n",
      "[download] Destination: C:\\Users\\arwin\\Documents\\dev\\APS360-PROJECT\\data\\billboard_audio\\Kanye West_Jail Pt 2\\Kanye West_Jail Pt 2.webm\n",
      "[download] 100% of    4.83MiB in 00:00:00 at 22.46MiB/s    \n",
      "[download] Finished downloading playlist: Kanye West Jail Pt 2\n",
      "[generic] Extracting URL: Halsey I Am Not A Woman, I'm A God\n",
      "[youtube:search] Extracting URL: ytsearch:Halsey I Am Not A Woman, I'm A God\n",
      "[download] Downloading playlist: Halsey I Am Not A Woman, I'm A God\n",
      "[youtube:search] query \"Halsey I Am Not A Woman, I'm A God\": Downloading web client config\n",
      "[youtube:search] query \"Halsey I Am Not A Woman, I'm A God\" page 1: Downloading API JSON\n",
      "[youtube:search] Playlist Halsey I Am Not A Woman, I'm A God: Downloading 1 items of 1\n",
      "[download] Downloading item 1 of 1\n",
      "[youtube] Extracting URL: https://www.youtube.com/watch?v=0CrcQy2fOog\n",
      "[youtube] 0CrcQy2fOog: Downloading webpage\n",
      "[youtube] 0CrcQy2fOog: Downloading ios player API JSON\n",
      "[youtube] 0CrcQy2fOog: Downloading android player API JSON\n"
     ]
    },
    {
     "name": "stderr",
     "output_type": "stream",
     "text": [
      "WARNING: [youtube] YouTube said: ERROR - Precondition check failed.\n",
      "WARNING: [youtube] HTTP Error 400: Bad Request. Retrying (1/3)...\n"
     ]
    },
    {
     "name": "stdout",
     "output_type": "stream",
     "text": [
      "[youtube] 0CrcQy2fOog: Downloading android player API JSON\n"
     ]
    },
    {
     "name": "stderr",
     "output_type": "stream",
     "text": [
      "WARNING: [youtube] YouTube said: ERROR - Precondition check failed.\n",
      "WARNING: [youtube] HTTP Error 400: Bad Request. Retrying (2/3)...\n"
     ]
    },
    {
     "name": "stdout",
     "output_type": "stream",
     "text": [
      "[youtube] 0CrcQy2fOog: Downloading android player API JSON\n",
      "[youtube] 0CrcQy2fOog: Downloading m3u8 information\n",
      "[info] 0CrcQy2fOog: Downloading 1 format(s): 251\n",
      "[download] Destination: C:\\Users\\arwin\\Documents\\dev\\APS360-PROJECT\\data\\billboard_audio\\Halsey_I Am Not A Woman, I'm A God\\Halsey_I Am Not A Woman, I'm A God.webm\n",
      "[download] 100% of    2.86MiB in 00:00:00 at 15.09MiB/s    \n",
      "[download] Finished downloading playlist: Halsey I Am Not A Woman, I'm A God\n",
      "[generic] Extracting URL: Kanye West New Again\n",
      "[youtube:search] Extracting URL: ytsearch:Kanye West New Again\n",
      "[download] Downloading playlist: Kanye West New Again\n",
      "[youtube:search] query \"Kanye West New Again\": Downloading web client config\n",
      "[youtube:search] query \"Kanye West New Again\" page 1: Downloading API JSON\n",
      "[youtube:search] Playlist Kanye West New Again: Downloading 1 items of 1\n",
      "[download] Downloading item 1 of 1\n",
      "[youtube] Extracting URL: https://www.youtube.com/watch?v=X74OxXravDo\n",
      "[youtube] X74OxXravDo: Downloading webpage\n",
      "[youtube] X74OxXravDo: Downloading ios player API JSON\n",
      "[youtube] X74OxXravDo: Downloading android player API JSON\n",
      "[youtube] X74OxXravDo: Downloading m3u8 information\n",
      "[info] X74OxXravDo: Downloading 1 format(s): 251\n",
      "[download] Destination: C:\\Users\\arwin\\Documents\\dev\\APS360-PROJECT\\data\\billboard_audio\\Kanye West_New Again\\Kanye West_New Again.webm\n",
      "[download] 100% of    2.71MiB in 00:00:00 at 3.34MiB/s     \n",
      "[download] Finished downloading playlist: Kanye West New Again\n",
      "[generic] Extracting URL: Kanye West Lord I Need You\n",
      "[youtube:search] Extracting URL: ytsearch:Kanye West Lord I Need You\n",
      "[download] Downloading playlist: Kanye West Lord I Need You\n",
      "[youtube:search] query \"Kanye West Lord I Need You\": Downloading web client config\n",
      "[youtube:search] query \"Kanye West Lord I Need You\" page 1: Downloading API JSON\n",
      "[youtube:search] Playlist Kanye West Lord I Need You: Downloading 1 items of 1\n",
      "[download] Downloading item 1 of 1\n",
      "[youtube] Extracting URL: https://www.youtube.com/watch?v=U1JLaEBl7ik\n",
      "[youtube] U1JLaEBl7ik: Downloading webpage\n",
      "[youtube] U1JLaEBl7ik: Downloading ios player API JSON\n",
      "[youtube] U1JLaEBl7ik: Downloading android player API JSON\n"
     ]
    },
    {
     "name": "stderr",
     "output_type": "stream",
     "text": [
      "WARNING: [youtube] YouTube said: ERROR - Precondition check failed.\n",
      "WARNING: [youtube] HTTP Error 400: Bad Request. Retrying (1/3)...\n"
     ]
    },
    {
     "name": "stdout",
     "output_type": "stream",
     "text": [
      "[youtube] U1JLaEBl7ik: Downloading android player API JSON\n",
      "[youtube] U1JLaEBl7ik: Downloading m3u8 information\n",
      "[info] U1JLaEBl7ik: Downloading 1 format(s): 251\n",
      "[download] Destination: C:\\Users\\arwin\\Documents\\dev\\APS360-PROJECT\\data\\billboard_audio\\Kanye West_Lord I Need You\\Kanye West_Lord I Need You.webm\n",
      "[download] 100% of    2.59MiB in 00:00:00 at 19.90MiB/s    \n",
      "[download] Finished downloading playlist: Kanye West Lord I Need You\n",
      "[generic] Extracting URL: Kanye West Come To Life\n",
      "[youtube:search] Extracting URL: ytsearch:Kanye West Come To Life\n",
      "[download] Downloading playlist: Kanye West Come To Life\n",
      "[youtube:search] query \"Kanye West Come To Life\": Downloading web client config\n",
      "[youtube:search] query \"Kanye West Come To Life\" page 1: Downloading API JSON\n",
      "[youtube:search] Playlist Kanye West Come To Life: Downloading 1 items of 1\n",
      "[download] Downloading item 1 of 1\n",
      "[youtube] Extracting URL: https://www.youtube.com/watch?v=7SsrVGHJvaA\n",
      "[youtube] 7SsrVGHJvaA: Downloading webpage\n",
      "[youtube] 7SsrVGHJvaA: Downloading ios player API JSON\n",
      "[youtube] 7SsrVGHJvaA: Downloading android player API JSON\n",
      "[youtube] 7SsrVGHJvaA: Downloading m3u8 information\n",
      "[info] 7SsrVGHJvaA: Downloading 1 format(s): 251\n",
      "[download] Destination: C:\\Users\\arwin\\Documents\\dev\\APS360-PROJECT\\data\\billboard_audio\\Kanye West_Come To Life\\Kanye West_Come To Life.webm\n",
      "[download] 100% of    5.00MiB in 00:00:00 at 17.96MiB/s    \n",
      "[download] Finished downloading playlist: Kanye West Come To Life\n",
      "[generic] Extracting URL: Kanye West Tell The Vision\n",
      "[youtube:search] Extracting URL: ytsearch:Kanye West Tell The Vision\n",
      "[download] Downloading playlist: Kanye West Tell The Vision\n",
      "[youtube:search] query \"Kanye West Tell The Vision\": Downloading web client config\n",
      "[youtube:search] query \"Kanye West Tell The Vision\" page 1: Downloading API JSON\n",
      "[youtube:search] Playlist Kanye West Tell The Vision: Downloading 1 items of 1\n",
      "[download] Downloading item 1 of 1\n",
      "[youtube] Extracting URL: https://www.youtube.com/watch?v=5Z2NpIh1gV0\n",
      "[youtube] 5Z2NpIh1gV0: Downloading webpage\n",
      "[youtube] 5Z2NpIh1gV0: Downloading ios player API JSON\n",
      "[youtube] 5Z2NpIh1gV0: Downloading android player API JSON\n"
     ]
    },
    {
     "name": "stderr",
     "output_type": "stream",
     "text": [
      "WARNING: [youtube] YouTube said: ERROR - Precondition check failed.\n",
      "WARNING: [youtube] HTTP Error 400: Bad Request. Retrying (1/3)...\n"
     ]
    },
    {
     "name": "stdout",
     "output_type": "stream",
     "text": [
      "[youtube] 5Z2NpIh1gV0: Downloading android player API JSON\n",
      "[youtube] 5Z2NpIh1gV0: Downloading m3u8 information\n",
      "[info] 5Z2NpIh1gV0: Downloading 1 format(s): 251\n",
      "[download] Destination: C:\\Users\\arwin\\Documents\\dev\\APS360-PROJECT\\data\\billboard_audio\\Kanye West_Tell The Vision\\Kanye West_Tell The Vision.webm\n",
      "[download] 100% of    1.67MiB in 00:00:00 at 10.59MiB/s    \n",
      "[download] Finished downloading playlist: Kanye West Tell The Vision\n",
      "[generic] Extracting URL: Olivia Rodrigo Brutal\n",
      "[youtube:search] Extracting URL: ytsearch:Olivia Rodrigo Brutal\n",
      "[download] Downloading playlist: Olivia Rodrigo Brutal\n",
      "[youtube:search] query \"Olivia Rodrigo Brutal\": Downloading web client config\n",
      "[youtube:search] query \"Olivia Rodrigo Brutal\" page 1: Downloading API JSON\n",
      "[youtube:search] Playlist Olivia Rodrigo Brutal: Downloading 1 items of 1\n",
      "[download] Downloading item 1 of 1\n",
      "[youtube] Extracting URL: https://www.youtube.com/watch?v=OGUy2UmRxJ0\n",
      "[youtube] OGUy2UmRxJ0: Downloading webpage\n",
      "[youtube] OGUy2UmRxJ0: Downloading ios player API JSON\n",
      "[youtube] OGUy2UmRxJ0: Downloading android player API JSON\n",
      "[youtube] OGUy2UmRxJ0: Downloading m3u8 information\n",
      "[info] OGUy2UmRxJ0: Downloading 1 format(s): 251\n",
      "[download] Destination: C:\\Users\\arwin\\Documents\\dev\\APS360-PROJECT\\data\\billboard_audio\\Olivia Rodrigo_Brutal\\Olivia Rodrigo_Brutal.webm\n",
      "[download] 100% of    2.66MiB in 00:00:00 at 16.77MiB/s    \n",
      "[download] Finished downloading playlist: Olivia Rodrigo Brutal\n",
      "[generic] Extracting URL: Nio Garcia X J Balvin X Bad Bunny AM\n",
      "[youtube:search] Extracting URL: ytsearch:Nio Garcia X J Balvin X Bad Bunny AM\n",
      "[download] Downloading playlist: Nio Garcia X J Balvin X Bad Bunny AM\n",
      "[youtube:search] query \"Nio Garcia X J Balvin X Bad Bunny AM\": Downloading web client config\n",
      "[youtube:search] query \"Nio Garcia X J Balvin X Bad Bunny AM\" page 1: Downloading API JSON\n",
      "[youtube:search] Playlist Nio Garcia X J Balvin X Bad Bunny AM: Downloading 1 items of 1\n",
      "[download] Downloading item 1 of 1\n",
      "[youtube] Extracting URL: https://www.youtube.com/watch?v=RNzQdcPWWX4\n",
      "[youtube] RNzQdcPWWX4: Downloading webpage\n",
      "[youtube] RNzQdcPWWX4: Downloading ios player API JSON\n",
      "[youtube] RNzQdcPWWX4: Downloading android player API JSON\n"
     ]
    },
    {
     "name": "stderr",
     "output_type": "stream",
     "text": [
      "WARNING: [youtube] YouTube said: ERROR - Precondition check failed.\n",
      "WARNING: [youtube] HTTP Error 400: Bad Request. Retrying (1/3)...\n"
     ]
    },
    {
     "name": "stdout",
     "output_type": "stream",
     "text": [
      "[youtube] RNzQdcPWWX4: Downloading android player API JSON\n"
     ]
    },
    {
     "name": "stderr",
     "output_type": "stream",
     "text": [
      "WARNING: [youtube] YouTube said: ERROR - Precondition check failed.\n",
      "WARNING: [youtube] HTTP Error 400: Bad Request. Retrying (2/3)...\n"
     ]
    },
    {
     "name": "stdout",
     "output_type": "stream",
     "text": [
      "[youtube] RNzQdcPWWX4: Downloading android player API JSON\n",
      "[youtube] RNzQdcPWWX4: Downloading m3u8 information\n",
      "[info] RNzQdcPWWX4: Downloading 1 format(s): 251\n",
      "[download] Destination: C:\\Users\\arwin\\Documents\\dev\\APS360-PROJECT\\data\\billboard_audio\\Nio Garcia X J Balvin X Bad Bunny_AM\\Nio Garcia X J Balvin X Bad Bunny_AM.webm\n",
      "[download] 100% of    4.79MiB in 00:00:00 at 6.12MiB/s   \n",
      "[download] Finished downloading playlist: Nio Garcia X J Balvin X Bad Bunny AM\n",
      "[generic] Extracting URL: Lil Tecca & Gunna Repeat It\n",
      "[youtube:search] Extracting URL: ytsearch:Lil Tecca & Gunna Repeat It\n",
      "[download] Downloading playlist: Lil Tecca & Gunna Repeat It\n",
      "[youtube:search] query \"Lil Tecca & Gunna Repeat It\": Downloading web client config\n",
      "[youtube:search] query \"Lil Tecca & Gunna Repeat It\" page 1: Downloading API JSON\n",
      "[youtube:search] Playlist Lil Tecca & Gunna Repeat It: Downloading 1 items of 1\n",
      "[download] Downloading item 1 of 1\n",
      "[youtube] Extracting URL: https://www.youtube.com/watch?v=5g4M_jwPHjg\n",
      "[youtube] 5g4M_jwPHjg: Downloading webpage\n",
      "[youtube] 5g4M_jwPHjg: Downloading ios player API JSON\n",
      "[youtube] 5g4M_jwPHjg: Downloading android player API JSON\n",
      "[youtube] 5g4M_jwPHjg: Downloading m3u8 information\n",
      "[info] 5g4M_jwPHjg: Downloading 1 format(s): 251\n",
      "[download] Destination: C:\\Users\\arwin\\Documents\\dev\\APS360-PROJECT\\data\\billboard_audio\\Lil Tecca & Gunna_Repeat It\\Lil Tecca & Gunna_Repeat It.webm\n",
      "[download] 100% of    3.45MiB in 00:00:00 at 20.76MiB/s  \n",
      "[download] Finished downloading playlist: Lil Tecca & Gunna Repeat It\n",
      "[generic] Extracting URL: Trippie Redd Featuring Juice WRLD Matt Hardy 999\n",
      "[youtube:search] Extracting URL: ytsearch:Trippie Redd Featuring Juice WRLD Matt Hardy 999\n",
      "[download] Downloading playlist: Trippie Redd Featuring Juice WRLD Matt Hardy 999\n",
      "[youtube:search] query \"Trippie Redd Featuring Juice WRLD Matt Hardy 999\": Downloading web client config\n",
      "[youtube:search] query \"Trippie Redd Featuring Juice WRLD Matt Hardy 999\" page 1: Downloading API JSON\n",
      "[youtube:search] Playlist Trippie Redd Featuring Juice WRLD Matt Hardy 999: Downloading 1 items of 1\n",
      "[download] Downloading item 1 of 1\n",
      "[youtube] Extracting URL: https://www.youtube.com/watch?v=47JKU1sYFzw\n",
      "[youtube] 47JKU1sYFzw: Downloading webpage\n",
      "[youtube] 47JKU1sYFzw: Downloading ios player API JSON\n",
      "[youtube] 47JKU1sYFzw: Downloading android player API JSON\n"
     ]
    },
    {
     "name": "stderr",
     "output_type": "stream",
     "text": [
      "WARNING: [youtube] YouTube said: ERROR - Precondition check failed.\n",
      "WARNING: [youtube] HTTP Error 400: Bad Request. Retrying (1/3)...\n"
     ]
    },
    {
     "name": "stdout",
     "output_type": "stream",
     "text": [
      "[youtube] 47JKU1sYFzw: Downloading android player API JSON\n",
      "[youtube] 47JKU1sYFzw: Downloading m3u8 information\n",
      "[info] 47JKU1sYFzw: Downloading 1 format(s): 251\n",
      "[download] Destination: C:\\Users\\arwin\\Documents\\dev\\APS360-PROJECT\\data\\billboard_audio\\Trippie Redd Featuring Juice WRLD_Matt Hardy 999\\Trippie Redd Featuring Juice WRLD_Matt Hardy 999.webm\n",
      "[download] 100% of    2.98MiB in 00:00:00 at 10.59MiB/s  \n",
      "[download] Finished downloading playlist: Trippie Redd Featuring Juice WRLD Matt Hardy 999\n",
      "[generic] Extracting URL: The Weeknd Blinding Lights\n",
      "[youtube:search] Extracting URL: ytsearch:The Weeknd Blinding Lights\n",
      "[download] Downloading playlist: The Weeknd Blinding Lights\n",
      "[youtube:search] query \"The Weeknd Blinding Lights\": Downloading web client config\n",
      "[youtube:search] query \"The Weeknd Blinding Lights\" page 1: Downloading API JSON\n",
      "[youtube:search] Playlist The Weeknd Blinding Lights: Downloading 1 items of 1\n",
      "[download] Downloading item 1 of 1\n",
      "[youtube] Extracting URL: https://www.youtube.com/watch?v=4NRXx6U8ABQ\n",
      "[youtube] 4NRXx6U8ABQ: Downloading webpage\n",
      "[youtube] 4NRXx6U8ABQ: Downloading ios player API JSON\n",
      "[youtube] 4NRXx6U8ABQ: Downloading android player API JSON\n",
      "[youtube] 4NRXx6U8ABQ: Downloading m3u8 information\n",
      "[info] 4NRXx6U8ABQ: Downloading 1 format(s): 251\n",
      "[download] Destination: C:\\Users\\arwin\\Documents\\dev\\APS360-PROJECT\\data\\billboard_audio\\The Weeknd_Blinding Lights\\The Weeknd_Blinding Lights.webm\n",
      "[download] 100% of    3.91MiB in 00:00:00 at 15.80MiB/s  \n",
      "[download] Finished downloading playlist: The Weeknd Blinding Lights\n",
      "[generic] Extracting URL: Dan + Shay Glad You Exist\n",
      "[youtube:search] Extracting URL: ytsearch:Dan + Shay Glad You Exist\n",
      "[download] Downloading playlist: Dan + Shay Glad You Exist\n",
      "[youtube:search] query \"Dan + Shay Glad You Exist\": Downloading web client config\n",
      "[youtube:search] query \"Dan + Shay Glad You Exist\" page 1: Downloading API JSON\n",
      "[youtube:search] Playlist Dan + Shay Glad You Exist: Downloading 1 items of 1\n",
      "[download] Downloading item 1 of 1\n",
      "[youtube] Extracting URL: https://www.youtube.com/watch?v=eQzcHDAbfm8\n",
      "[youtube] eQzcHDAbfm8: Downloading webpage\n",
      "[youtube] eQzcHDAbfm8: Downloading ios player API JSON\n",
      "[youtube] eQzcHDAbfm8: Downloading android player API JSON\n"
     ]
    },
    {
     "name": "stderr",
     "output_type": "stream",
     "text": [
      "WARNING: [youtube] YouTube said: ERROR - Precondition check failed.\n",
      "WARNING: [youtube] HTTP Error 400: Bad Request. Retrying (1/3)...\n"
     ]
    },
    {
     "name": "stdout",
     "output_type": "stream",
     "text": [
      "[youtube] eQzcHDAbfm8: Downloading android player API JSON\n"
     ]
    },
    {
     "name": "stderr",
     "output_type": "stream",
     "text": [
      "WARNING: [youtube] YouTube said: ERROR - Precondition check failed.\n",
      "WARNING: [youtube] HTTP Error 400: Bad Request. Retrying (2/3)...\n"
     ]
    },
    {
     "name": "stdout",
     "output_type": "stream",
     "text": [
      "[youtube] eQzcHDAbfm8: Downloading android player API JSON\n"
     ]
    },
    {
     "name": "stderr",
     "output_type": "stream",
     "text": [
      "WARNING: [youtube] YouTube said: ERROR - Precondition check failed.\n",
      "WARNING: [youtube] HTTP Error 400: Bad Request. Retrying (3/3)...\n"
     ]
    },
    {
     "name": "stdout",
     "output_type": "stream",
     "text": [
      "[youtube] eQzcHDAbfm8: Downloading android player API JSON\n"
     ]
    },
    {
     "name": "stderr",
     "output_type": "stream",
     "text": [
      "WARNING: [youtube] YouTube said: ERROR - Precondition check failed.\n",
      "WARNING: [youtube] Unable to download API page: HTTP Error 400: Bad Request (caused by <HTTPError 400: Bad Request>); please report this issue on  https://github.com/yt-dlp/yt-dlp/issues?q= , filling out the appropriate issue template. Confirm you are on the latest version using  yt-dlp -U\n"
     ]
    },
    {
     "name": "stdout",
     "output_type": "stream",
     "text": [
      "[youtube] eQzcHDAbfm8: Downloading m3u8 information\n",
      "[info] eQzcHDAbfm8: Downloading 1 format(s): 251\n",
      "[download] Destination: C:\\Users\\arwin\\Documents\\dev\\APS360-PROJECT\\data\\billboard_audio\\Dan + Shay_Glad You Exist\\Dan + Shay_Glad You Exist.webm\n",
      "[download] 100% of    2.38MiB in 00:00:00 at 7.33MiB/s     \n",
      "[download] Finished downloading playlist: Dan + Shay Glad You Exist\n",
      "[generic] Extracting URL: The Kid LAROI Without You\n",
      "[youtube:search] Extracting URL: ytsearch:The Kid LAROI Without You\n",
      "[download] Downloading playlist: The Kid LAROI Without You\n",
      "[youtube:search] query \"The Kid LAROI Without You\": Downloading web client config\n",
      "[youtube:search] query \"The Kid LAROI Without You\" page 1: Downloading API JSON\n",
      "[youtube:search] Playlist The Kid LAROI Without You: Downloading 1 items of 1\n",
      "[download] Downloading item 1 of 1\n",
      "[youtube] Extracting URL: https://www.youtube.com/watch?v=SJOKlqJho8U\n",
      "[youtube] SJOKlqJho8U: Downloading webpage\n",
      "[youtube] SJOKlqJho8U: Downloading ios player API JSON\n",
      "[youtube] SJOKlqJho8U: Downloading android player API JSON\n"
     ]
    },
    {
     "name": "stderr",
     "output_type": "stream",
     "text": [
      "WARNING: [youtube] YouTube said: ERROR - Precondition check failed.\n",
      "WARNING: [youtube] HTTP Error 400: Bad Request. Retrying (1/3)...\n"
     ]
    },
    {
     "name": "stdout",
     "output_type": "stream",
     "text": [
      "[youtube] SJOKlqJho8U: Downloading android player API JSON\n",
      "[youtube] SJOKlqJho8U: Downloading m3u8 information\n",
      "[info] SJOKlqJho8U: Downloading 1 format(s): 251\n",
      "[download] Destination: C:\\Users\\arwin\\Documents\\dev\\APS360-PROJECT\\data\\billboard_audio\\The Kid LAROI_Without You\\The Kid LAROI_Without You.webm\n",
      "[download] 100% of    2.78MiB in 00:00:00 at 11.64MiB/s  \n",
      "[download] Finished downloading playlist: The Kid LAROI Without You\n",
      "[generic] Extracting URL: Masked Wolf Astronaut In The Ocean\n",
      "[youtube:search] Extracting URL: ytsearch:Masked Wolf Astronaut In The Ocean\n",
      "[download] Downloading playlist: Masked Wolf Astronaut In The Ocean\n",
      "[youtube:search] query \"Masked Wolf Astronaut In The Ocean\": Downloading web client config\n",
      "[youtube:search] query \"Masked Wolf Astronaut In The Ocean\" page 1: Downloading API JSON\n",
      "[youtube:search] Playlist Masked Wolf Astronaut In The Ocean: Downloading 1 items of 1\n",
      "[download] Downloading item 1 of 1\n",
      "[youtube] Extracting URL: https://www.youtube.com/watch?v=MEg-oqI9qmw\n",
      "[youtube] MEg-oqI9qmw: Downloading webpage\n",
      "[youtube] MEg-oqI9qmw: Downloading ios player API JSON\n",
      "[youtube] MEg-oqI9qmw: Downloading android player API JSON\n",
      "[youtube] MEg-oqI9qmw: Downloading m3u8 information\n",
      "[info] MEg-oqI9qmw: Downloading 1 format(s): 251\n",
      "[download] Destination: C:\\Users\\arwin\\Documents\\dev\\APS360-PROJECT\\data\\billboard_audio\\Masked Wolf_Astronaut In The Ocean\\Masked Wolf_Astronaut In The Ocean.webm\n",
      "[download] 100% of    2.58MiB in 00:00:00 at 17.02MiB/s    \n",
      "[download] Finished downloading playlist: Masked Wolf Astronaut In The Ocean\n",
      "[generic] Extracting URL: Polo G Rapstar\n",
      "[youtube:search] Extracting URL: ytsearch:Polo G Rapstar\n",
      "[download] Downloading playlist: Polo G Rapstar\n",
      "[youtube:search] query \"Polo G Rapstar\": Downloading web client config\n",
      "[youtube:search] query \"Polo G Rapstar\" page 1: Downloading API JSON\n",
      "[youtube:search] Playlist Polo G Rapstar: Downloading 1 items of 1\n",
      "[download] Downloading item 1 of 1\n",
      "[youtube] Extracting URL: https://www.youtube.com/watch?v=w2IhccXakkE\n",
      "[youtube] w2IhccXakkE: Downloading webpage\n",
      "[youtube] w2IhccXakkE: Downloading ios player API JSON\n",
      "[youtube] w2IhccXakkE: Downloading android player API JSON\n",
      "[youtube] w2IhccXakkE: Downloading m3u8 information\n",
      "[info] w2IhccXakkE: Downloading 1 format(s): 251\n",
      "[download] Destination: C:\\Users\\arwin\\Documents\\dev\\APS360-PROJECT\\data\\billboard_audio\\Polo G_Rapstar\\Polo G_Rapstar.webm\n",
      "[download] 100% of    3.06MiB in 00:00:00 at 17.68MiB/s    \n",
      "[download] Finished downloading playlist: Polo G Rapstar\n",
      "[generic] Extracting URL: Chris Young + Kane Brown Famous Friends\n",
      "[youtube:search] Extracting URL: ytsearch:Chris Young + Kane Brown Famous Friends\n",
      "[download] Downloading playlist: Chris Young + Kane Brown Famous Friends\n",
      "[youtube:search] query \"Chris Young + Kane Brown Famous Friends\": Downloading web client config\n",
      "[youtube:search] query \"Chris Young + Kane Brown Famous Friends\" page 1: Downloading API JSON\n",
      "[youtube:search] Playlist Chris Young + Kane Brown Famous Friends: Downloading 1 items of 1\n",
      "[download] Downloading item 1 of 1\n",
      "[youtube] Extracting URL: https://www.youtube.com/watch?v=qpMOx2Ul9RA\n",
      "[youtube] qpMOx2Ul9RA: Downloading webpage\n",
      "[youtube] qpMOx2Ul9RA: Downloading ios player API JSON\n",
      "[youtube] qpMOx2Ul9RA: Downloading android player API JSON\n",
      "[youtube] qpMOx2Ul9RA: Downloading m3u8 information\n",
      "[info] qpMOx2Ul9RA: Downloading 1 format(s): 251\n",
      "[download] Destination: C:\\Users\\arwin\\Documents\\dev\\APS360-PROJECT\\data\\billboard_audio\\Chris Young + Kane Brown_Famous Friends\\Chris Young + Kane Brown_Famous Friends.webm\n",
      "[download] 100% of    2.69MiB in 00:00:00 at 9.24MiB/s     \n",
      "[download] Finished downloading playlist: Chris Young + Kane Brown Famous Friends\n",
      "[generic] Extracting URL: Nelly & Florida Georgia Line Lil Bit\n",
      "[youtube:search] Extracting URL: ytsearch:Nelly & Florida Georgia Line Lil Bit\n",
      "[download] Downloading playlist: Nelly & Florida Georgia Line Lil Bit\n",
      "[youtube:search] query \"Nelly & Florida Georgia Line Lil Bit\": Downloading web client config\n",
      "[youtube:search] query \"Nelly & Florida Georgia Line Lil Bit\" page 1: Downloading API JSON\n",
      "[youtube:search] Playlist Nelly & Florida Georgia Line Lil Bit: Downloading 1 items of 1\n",
      "[download] Downloading item 1 of 1\n",
      "[youtube] Extracting URL: https://www.youtube.com/watch?v=CTYXd__nbvo\n",
      "[youtube] CTYXd__nbvo: Downloading webpage\n",
      "[youtube] CTYXd__nbvo: Downloading ios player API JSON\n",
      "[youtube] CTYXd__nbvo: Downloading android player API JSON\n",
      "[youtube] CTYXd__nbvo: Downloading m3u8 information\n",
      "[info] CTYXd__nbvo: Downloading 1 format(s): 251\n",
      "[download] Destination: C:\\Users\\arwin\\Documents\\dev\\APS360-PROJECT\\data\\billboard_audio\\Nelly & Florida Georgia Line_Lil Bit\\Nelly & Florida Georgia Line_Lil Bit.webm\n",
      "[download] 100% of    3.51MiB in 00:00:00 at 18.72MiB/s  \n",
      "[download] Finished downloading playlist: Nelly & Florida Georgia Line Lil Bit\n",
      "[generic] Extracting URL: Maroon 5 Featuring Megan Thee Stallion Beautiful Mistakes\n",
      "[youtube:search] Extracting URL: ytsearch:Maroon 5 Featuring Megan Thee Stallion Beautiful Mistakes\n",
      "[download] Downloading playlist: Maroon 5 Featuring Megan Thee Stallion Beautiful Mistakes\n",
      "[youtube:search] query \"Maroon 5 Featuring Megan Thee Stallion Beautiful Mistakes\": Downloading web client config\n",
      "[youtube:search] query \"Maroon 5 Featuring Megan Thee Stallion Beautiful Mistakes\" page 1: Downloading API JSON\n",
      "[youtube:search] Playlist Maroon 5 Featuring Megan Thee Stallion Beautiful Mistakes: Downloading 1 items of 1\n",
      "[download] Downloading item 1 of 1\n",
      "[youtube] Extracting URL: https://www.youtube.com/watch?v=BSzSn-PRdtI\n",
      "[youtube] BSzSn-PRdtI: Downloading webpage\n",
      "[youtube] BSzSn-PRdtI: Downloading ios player API JSON\n",
      "[youtube] BSzSn-PRdtI: Downloading android player API JSON\n"
     ]
    },
    {
     "name": "stderr",
     "output_type": "stream",
     "text": [
      "WARNING: [youtube] YouTube said: ERROR - Precondition check failed.\n",
      "WARNING: [youtube] HTTP Error 400: Bad Request. Retrying (1/3)...\n"
     ]
    },
    {
     "name": "stdout",
     "output_type": "stream",
     "text": [
      "[youtube] BSzSn-PRdtI: Downloading android player API JSON\n"
     ]
    },
    {
     "name": "stderr",
     "output_type": "stream",
     "text": [
      "WARNING: [youtube] YouTube said: ERROR - Precondition check failed.\n",
      "WARNING: [youtube] HTTP Error 400: Bad Request. Retrying (2/3)...\n"
     ]
    },
    {
     "name": "stdout",
     "output_type": "stream",
     "text": [
      "[youtube] BSzSn-PRdtI: Downloading android player API JSON\n",
      "[youtube] BSzSn-PRdtI: Downloading m3u8 information\n",
      "[info] BSzSn-PRdtI: Downloading 1 format(s): 251\n",
      "[download] Destination: C:\\Users\\arwin\\Documents\\dev\\APS360-PROJECT\\data\\billboard_audio\\Maroon 5 Featuring Megan Thee Stallion_Beautiful Mistakes\\Maroon 5 Featuring Megan Thee Stallion_Beautiful Mistakes.webm\n",
      "[download] 100% of    3.80MiB in 00:00:00 at 6.44MiB/s     \n",
      "[download] Finished downloading playlist: Maroon 5 Featuring Megan Thee Stallion Beautiful Mistakes\n",
      "[generic] Extracting URL: Trippie Redd Featuring Lil Durk & Polo G Rich MF\n",
      "[youtube:search] Extracting URL: ytsearch:Trippie Redd Featuring Lil Durk & Polo G Rich MF\n",
      "[download] Downloading playlist: Trippie Redd Featuring Lil Durk & Polo G Rich MF\n",
      "[youtube:search] query \"Trippie Redd Featuring Lil Durk & Polo G Rich MF\": Downloading web client config\n",
      "[youtube:search] query \"Trippie Redd Featuring Lil Durk & Polo G Rich MF\" page 1: Downloading API JSON\n",
      "[youtube:search] Playlist Trippie Redd Featuring Lil Durk & Polo G Rich MF: Downloading 1 items of 1\n",
      "[download] Downloading item 1 of 1\n",
      "[youtube] Extracting URL: https://www.youtube.com/watch?v=NIuh_fn0cvE\n",
      "[youtube] NIuh_fn0cvE: Downloading webpage\n",
      "[youtube] NIuh_fn0cvE: Downloading ios player API JSON\n",
      "[youtube] NIuh_fn0cvE: Downloading android player API JSON\n",
      "[youtube] NIuh_fn0cvE: Downloading m3u8 information\n",
      "[info] NIuh_fn0cvE: Downloading 1 format(s): 251\n",
      "[download] Destination: C:\\Users\\arwin\\Documents\\dev\\APS360-PROJECT\\data\\billboard_audio\\Trippie Redd Featuring Lil Durk & Polo G_Rich MF\\Trippie Redd Featuring Lil Durk & Polo G_Rich MF.webm\n",
      "[download] 100% of    4.27MiB in 00:00:00 at 5.10MiB/s     \n",
      "[download] Finished downloading playlist: Trippie Redd Featuring Lil Durk & Polo G Rich MF\n",
      "[generic] Extracting URL: Rod Wave Featuring Lil Durk Already Won\n",
      "[youtube:search] Extracting URL: ytsearch:Rod Wave Featuring Lil Durk Already Won\n",
      "[download] Downloading playlist: Rod Wave Featuring Lil Durk Already Won\n",
      "[youtube:search] query \"Rod Wave Featuring Lil Durk Already Won\": Downloading web client config\n",
      "[youtube:search] query \"Rod Wave Featuring Lil Durk Already Won\" page 1: Downloading API JSON\n",
      "[youtube:search] Playlist Rod Wave Featuring Lil Durk Already Won: Downloading 1 items of 1\n",
      "[download] Downloading item 1 of 1\n",
      "[youtube] Extracting URL: https://www.youtube.com/watch?v=1OAIh8kv3ts\n",
      "[youtube] 1OAIh8kv3ts: Downloading webpage\n",
      "[youtube] 1OAIh8kv3ts: Downloading ios player API JSON\n",
      "[youtube] 1OAIh8kv3ts: Downloading android player API JSON\n"
     ]
    },
    {
     "name": "stderr",
     "output_type": "stream",
     "text": [
      "WARNING: [youtube] YouTube said: ERROR - Precondition check failed.\n",
      "WARNING: [youtube] HTTP Error 400: Bad Request. Retrying (1/3)...\n"
     ]
    },
    {
     "name": "stdout",
     "output_type": "stream",
     "text": [
      "[youtube] 1OAIh8kv3ts: Downloading android player API JSON\n",
      "[youtube] 1OAIh8kv3ts: Downloading m3u8 information\n",
      "[info] 1OAIh8kv3ts: Downloading 1 format(s): 251\n",
      "[download] Destination: C:\\Users\\arwin\\Documents\\dev\\APS360-PROJECT\\data\\billboard_audio\\Rod Wave Featuring Lil Durk_Already Won\\Rod Wave Featuring Lil Durk_Already Won.webm\n",
      "[download] 100% of    3.78MiB in 00:00:00 at 12.74MiB/s  \n",
      "[download] Finished downloading playlist: Rod Wave Featuring Lil Durk Already Won\n",
      "[generic] Extracting URL: Trippie Redd Featuring Drake Betrayal\n",
      "[youtube:search] Extracting URL: ytsearch:Trippie Redd Featuring Drake Betrayal\n",
      "[download] Downloading playlist: Trippie Redd Featuring Drake Betrayal\n",
      "[youtube:search] query \"Trippie Redd Featuring Drake Betrayal\": Downloading web client config\n",
      "[youtube:search] query \"Trippie Redd Featuring Drake Betrayal\" page 1: Downloading API JSON\n",
      "[youtube:search] Playlist Trippie Redd Featuring Drake Betrayal: Downloading 1 items of 1\n",
      "[download] Downloading item 1 of 1\n",
      "[youtube] Extracting URL: https://www.youtube.com/watch?v=XlMxBPNJ_a8\n",
      "[youtube] XlMxBPNJ_a8: Downloading webpage\n",
      "[youtube] XlMxBPNJ_a8: Downloading ios player API JSON\n",
      "[youtube] XlMxBPNJ_a8: Downloading android player API JSON\n"
     ]
    },
    {
     "name": "stderr",
     "output_type": "stream",
     "text": [
      "WARNING: [youtube] YouTube said: ERROR - Precondition check failed.\n",
      "WARNING: [youtube] HTTP Error 400: Bad Request. Retrying (1/3)...\n"
     ]
    },
    {
     "name": "stdout",
     "output_type": "stream",
     "text": [
      "[youtube] XlMxBPNJ_a8: Downloading android player API JSON\n"
     ]
    },
    {
     "name": "stderr",
     "output_type": "stream",
     "text": [
      "WARNING: [youtube] YouTube said: ERROR - Precondition check failed.\n",
      "WARNING: [youtube] HTTP Error 400: Bad Request. Retrying (2/3)...\n"
     ]
    },
    {
     "name": "stdout",
     "output_type": "stream",
     "text": [
      "[youtube] XlMxBPNJ_a8: Downloading android player API JSON\n"
     ]
    },
    {
     "name": "stderr",
     "output_type": "stream",
     "text": [
      "WARNING: [youtube] YouTube said: ERROR - Precondition check failed.\n",
      "WARNING: [youtube] HTTP Error 400: Bad Request. Retrying (3/3)...\n"
     ]
    },
    {
     "name": "stdout",
     "output_type": "stream",
     "text": [
      "[youtube] XlMxBPNJ_a8: Downloading android player API JSON\n",
      "[youtube] XlMxBPNJ_a8: Downloading m3u8 information\n",
      "[info] XlMxBPNJ_a8: Downloading 1 format(s): 251\n",
      "[download] Destination: C:\\Users\\arwin\\Documents\\dev\\APS360-PROJECT\\data\\billboard_audio\\Trippie Redd Featuring Drake_Betrayal\\Trippie Redd Featuring Drake_Betrayal.webm\n",
      "[download] 100% of    2.47MiB in 00:00:00 at 16.46MiB/s    \n",
      "[download] Finished downloading playlist: Trippie Redd Featuring Drake Betrayal\n",
      "[generic] Extracting URL: Skrillex, Justin Bieber & Don Toliver Don't Go\n",
      "[youtube:search] Extracting URL: ytsearch:Skrillex, Justin Bieber & Don Toliver Don't Go\n",
      "[download] Downloading playlist: Skrillex, Justin Bieber & Don Toliver Don't Go\n",
      "[youtube:search] query \"Skrillex, Justin Bieber & Don Toliver Don't Go\": Downloading web client config\n",
      "[youtube:search] query \"Skrillex, Justin Bieber & Don Toliver Don't Go\" page 1: Downloading API JSON\n",
      "[youtube:search] Playlist Skrillex, Justin Bieber & Don Toliver Don't Go: Downloading 1 items of 1\n",
      "[download] Downloading item 1 of 1\n",
      "[youtube] Extracting URL: https://www.youtube.com/watch?v=cds_rfHsJ3Y\n",
      "[youtube] cds_rfHsJ3Y: Downloading webpage\n",
      "[youtube] cds_rfHsJ3Y: Downloading ios player API JSON\n",
      "[youtube] cds_rfHsJ3Y: Downloading android player API JSON\n"
     ]
    },
    {
     "name": "stderr",
     "output_type": "stream",
     "text": [
      "WARNING: [youtube] YouTube said: ERROR - Precondition check failed.\n",
      "WARNING: [youtube] HTTP Error 400: Bad Request. Retrying (1/3)...\n"
     ]
    },
    {
     "name": "stdout",
     "output_type": "stream",
     "text": [
      "[youtube] cds_rfHsJ3Y: Downloading android player API JSON\n",
      "[youtube] cds_rfHsJ3Y: Downloading m3u8 information\n",
      "[info] cds_rfHsJ3Y: Downloading 1 format(s): 251\n",
      "[download] Destination: C:\\Users\\arwin\\Documents\\dev\\APS360-PROJECT\\data\\billboard_audio\\Skrillex, Justin Bieber & Don Toliver_Don't Go\\Skrillex, Justin Bieber & Don Toliver_Don't Go.webm\n",
      "[download] 100% of    2.96MiB in 00:00:00 at 6.58MiB/s   \n",
      "[download] Finished downloading playlist: Skrillex, Justin Bieber & Don Toliver Don't Go\n",
      "[generic] Extracting URL: Rod Wave Tombstone\n",
      "[youtube:search] Extracting URL: ytsearch:Rod Wave Tombstone\n",
      "[download] Downloading playlist: Rod Wave Tombstone\n",
      "[youtube:search] query \"Rod Wave Tombstone\": Downloading web client config\n",
      "[youtube:search] query \"Rod Wave Tombstone\" page 1: Downloading API JSON\n",
      "[youtube:search] Playlist Rod Wave Tombstone: Downloading 1 items of 1\n",
      "[download] Downloading item 1 of 1\n",
      "[youtube] Extracting URL: https://www.youtube.com/watch?v=wo9AlOrQ3iE\n",
      "[youtube] wo9AlOrQ3iE: Downloading webpage\n",
      "[youtube] wo9AlOrQ3iE: Downloading ios player API JSON\n",
      "[youtube] wo9AlOrQ3iE: Downloading android player API JSON\n",
      "[youtube] wo9AlOrQ3iE: Downloading m3u8 information\n",
      "[info] wo9AlOrQ3iE: Downloading 1 format(s): 251\n",
      "[download] Destination: C:\\Users\\arwin\\Documents\\dev\\APS360-PROJECT\\data\\billboard_audio\\Rod Wave_Tombstone\\Rod Wave_Tombstone.webm\n",
      "[download] 100% of    2.59MiB in 00:00:00 at 16.13MiB/s    \n",
      "[download] Finished downloading playlist: Rod Wave Tombstone\n",
      "[generic] Extracting URL: Ed Sheeran Visiting Hours\n",
      "[youtube:search] Extracting URL: ytsearch:Ed Sheeran Visiting Hours\n",
      "[download] Downloading playlist: Ed Sheeran Visiting Hours\n",
      "[youtube:search] query \"Ed Sheeran Visiting Hours\": Downloading web client config\n",
      "[youtube:search] query \"Ed Sheeran Visiting Hours\" page 1: Downloading API JSON\n",
      "[youtube:search] Playlist Ed Sheeran Visiting Hours: Downloading 1 items of 1\n",
      "[download] Downloading item 1 of 1\n",
      "[youtube] Extracting URL: https://www.youtube.com/watch?v=t3CoEyYEf4A\n",
      "[youtube] t3CoEyYEf4A: Downloading webpage\n",
      "[youtube] t3CoEyYEf4A: Downloading ios player API JSON\n",
      "[youtube] t3CoEyYEf4A: Downloading android player API JSON\n",
      "[youtube] t3CoEyYEf4A: Downloading m3u8 information\n",
      "[info] t3CoEyYEf4A: Downloading 1 format(s): 251\n",
      "[download] Destination: C:\\Users\\arwin\\Documents\\dev\\APS360-PROJECT\\data\\billboard_audio\\Ed Sheeran_Visiting Hours\\Ed Sheeran_Visiting Hours.webm\n",
      "[download] 100% of    3.44MiB in 00:00:00 at 16.60MiB/s    \n",
      "[download] Finished downloading playlist: Ed Sheeran Visiting Hours\n",
      "[generic] Extracting URL: Trippie Redd Featuring Lil Uzi Vert Holy Smokes\n",
      "[youtube:search] Extracting URL: ytsearch:Trippie Redd Featuring Lil Uzi Vert Holy Smokes\n",
      "[download] Downloading playlist: Trippie Redd Featuring Lil Uzi Vert Holy Smokes\n",
      "[youtube:search] query \"Trippie Redd Featuring Lil Uzi Vert Holy Smokes\": Downloading web client config\n",
      "[youtube:search] query \"Trippie Redd Featuring Lil Uzi Vert Holy Smokes\" page 1: Downloading API JSON\n",
      "[youtube:search] Playlist Trippie Redd Featuring Lil Uzi Vert Holy Smokes: Downloading 1 items of 1\n",
      "[download] Downloading item 1 of 1\n",
      "[youtube] Extracting URL: https://www.youtube.com/watch?v=aWGIl1pPBo8\n",
      "[youtube] aWGIl1pPBo8: Downloading webpage\n",
      "[youtube] aWGIl1pPBo8: Downloading ios player API JSON\n",
      "[youtube] aWGIl1pPBo8: Downloading android player API JSON\n",
      "[youtube] aWGIl1pPBo8: Downloading m3u8 information\n",
      "[info] aWGIl1pPBo8: Downloading 1 format(s): 251\n",
      "[download] Destination: C:\\Users\\arwin\\Documents\\dev\\APS360-PROJECT\\data\\billboard_audio\\Trippie Redd Featuring Lil Uzi Vert_Holy Smokes\\Trippie Redd Featuring Lil Uzi Vert_Holy Smokes.webm\n",
      "[download] 100% of    2.96MiB in 00:00:00 at 12.08MiB/s  \n",
      "[download] Finished downloading playlist: Trippie Redd Featuring Lil Uzi Vert Holy Smokes\n",
      "[generic] Extracting URL: Trippie Redd & Playboi Carti Miss The Rage\n",
      "[youtube:search] Extracting URL: ytsearch:Trippie Redd & Playboi Carti Miss The Rage\n",
      "[download] Downloading playlist: Trippie Redd & Playboi Carti Miss The Rage\n",
      "[youtube:search] query \"Trippie Redd & Playboi Carti Miss The Rage\": Downloading web client config\n",
      "[youtube:search] query \"Trippie Redd & Playboi Carti Miss The Rage\" page 1: Downloading API JSON\n",
      "[youtube:search] Playlist Trippie Redd & Playboi Carti Miss The Rage: Downloading 1 items of 1\n",
      "[download] Downloading item 1 of 1\n",
      "[youtube] Extracting URL: https://www.youtube.com/watch?v=e9u0HmXLPmA\n",
      "[youtube] e9u0HmXLPmA: Downloading webpage\n",
      "[youtube] e9u0HmXLPmA: Downloading ios player API JSON\n",
      "[youtube] e9u0HmXLPmA: Downloading android player API JSON\n"
     ]
    },
    {
     "name": "stderr",
     "output_type": "stream",
     "text": [
      "WARNING: [youtube] YouTube said: ERROR - Precondition check failed.\n",
      "WARNING: [youtube] HTTP Error 400: Bad Request. Retrying (1/3)...\n"
     ]
    },
    {
     "name": "stdout",
     "output_type": "stream",
     "text": [
      "[youtube] e9u0HmXLPmA: Downloading android player API JSON\n",
      "[youtube] e9u0HmXLPmA: Downloading m3u8 information\n",
      "[info] e9u0HmXLPmA: Downloading 1 format(s): 251\n",
      "[download] Destination: C:\\Users\\arwin\\Documents\\dev\\APS360-PROJECT\\data\\billboard_audio\\Trippie Redd & Playboi Carti_Miss The Rage\\Trippie Redd & Playboi Carti_Miss The Rage.webm\n",
      "[download] 100% of    3.96MiB in 00:00:00 at 7.99MiB/s   \n",
      "[download] Finished downloading playlist: Trippie Redd & Playboi Carti Miss The Rage\n",
      "[generic] Extracting URL: Regard x Troye Sivan x Tate McRae You\n",
      "[youtube:search] Extracting URL: ytsearch:Regard x Troye Sivan x Tate McRae You\n",
      "[download] Downloading playlist: Regard x Troye Sivan x Tate McRae You\n",
      "[youtube:search] query \"Regard x Troye Sivan x Tate McRae You\": Downloading web client config\n",
      "[youtube:search] query \"Regard x Troye Sivan x Tate McRae You\" page 1: Downloading API JSON\n",
      "[youtube:search] Playlist Regard x Troye Sivan x Tate McRae You: Downloading 1 items of 1\n",
      "[download] Downloading item 1 of 1\n",
      "[youtube] Extracting URL: https://www.youtube.com/watch?v=on_IPWtYdc0\n",
      "[youtube] on_IPWtYdc0: Downloading webpage\n",
      "[youtube] on_IPWtYdc0: Downloading ios player API JSON\n",
      "[youtube] on_IPWtYdc0: Downloading android player API JSON\n"
     ]
    },
    {
     "name": "stderr",
     "output_type": "stream",
     "text": [
      "WARNING: [youtube] YouTube said: ERROR - Precondition check failed.\n",
      "WARNING: [youtube] HTTP Error 400: Bad Request. Retrying (1/3)...\n"
     ]
    },
    {
     "name": "stdout",
     "output_type": "stream",
     "text": [
      "[youtube] on_IPWtYdc0: Downloading android player API JSON\n"
     ]
    },
    {
     "name": "stderr",
     "output_type": "stream",
     "text": [
      "WARNING: [youtube] YouTube said: ERROR - Precondition check failed.\n",
      "WARNING: [youtube] HTTP Error 400: Bad Request. Retrying (2/3)...\n"
     ]
    },
    {
     "name": "stdout",
     "output_type": "stream",
     "text": [
      "[youtube] on_IPWtYdc0: Downloading android player API JSON\n",
      "[youtube] on_IPWtYdc0: Downloading m3u8 information\n",
      "[info] on_IPWtYdc0: Downloading 1 format(s): 251\n",
      "[download] Destination: C:\\Users\\arwin\\Documents\\dev\\APS360-PROJECT\\data\\billboard_audio\\Regard x Troye Sivan x Tate McRae_You\\Regard x Troye Sivan x Tate McRae_You.webm\n",
      "[download] 100% of    4.12MiB in 00:00:00 at 17.51MiB/s  \n",
      "[download] Finished downloading playlist: Regard x Troye Sivan x Tate McRae You\n",
      "[generic] Extracting URL: Trippie Redd Featuring SoFaygo MP5\n",
      "[youtube:search] Extracting URL: ytsearch:Trippie Redd Featuring SoFaygo MP5\n",
      "[download] Downloading playlist: Trippie Redd Featuring SoFaygo MP5\n",
      "[youtube:search] query \"Trippie Redd Featuring SoFaygo MP5\": Downloading web client config\n",
      "[youtube:search] query \"Trippie Redd Featuring SoFaygo MP5\" page 1: Downloading API JSON\n",
      "[youtube:search] Playlist Trippie Redd Featuring SoFaygo MP5: Downloading 1 items of 1\n",
      "[download] Downloading item 1 of 1\n",
      "[youtube] Extracting URL: https://www.youtube.com/watch?v=_sy5O4bQmgg\n",
      "[youtube] _sy5O4bQmgg: Downloading webpage\n",
      "[youtube] _sy5O4bQmgg: Downloading ios player API JSON\n",
      "[youtube] _sy5O4bQmgg: Downloading android player API JSON\n",
      "[youtube] _sy5O4bQmgg: Downloading m3u8 information\n",
      "[info] _sy5O4bQmgg: Downloading 1 format(s): 251\n",
      "[download] Destination: C:\\Users\\arwin\\Documents\\dev\\APS360-PROJECT\\data\\billboard_audio\\Trippie Redd Featuring SoFaygo_MP5\\Trippie Redd Featuring SoFaygo_MP5.webm\n",
      "[download] 100% of    3.32MiB in 00:00:00 at 6.15MiB/s   \n",
      "[download] Finished downloading playlist: Trippie Redd Featuring SoFaygo MP5\n",
      "[generic] Extracting URL: Sueco Paralyzed\n",
      "[youtube:search] Extracting URL: ytsearch:Sueco Paralyzed\n",
      "[download] Downloading playlist: Sueco Paralyzed\n",
      "[youtube:search] query \"Sueco Paralyzed\": Downloading web client config\n",
      "[youtube:search] query \"Sueco Paralyzed\" page 1: Downloading API JSON\n",
      "[youtube:search] Playlist Sueco Paralyzed: Downloading 1 items of 1\n",
      "[download] Downloading item 1 of 1\n",
      "[youtube] Extracting URL: https://www.youtube.com/watch?v=EpNsusxlJms\n",
      "[youtube] EpNsusxlJms: Downloading webpage\n",
      "[youtube] EpNsusxlJms: Downloading ios player API JSON\n",
      "[youtube] EpNsusxlJms: Downloading android player API JSON\n",
      "[youtube] EpNsusxlJms: Downloading m3u8 information\n",
      "[info] EpNsusxlJms: Downloading 1 format(s): 251\n",
      "[download] Destination: C:\\Users\\arwin\\Documents\\dev\\APS360-PROJECT\\data\\billboard_audio\\Sueco_Paralyzed\\Sueco_Paralyzed.webm\n",
      "[download] 100% of    3.03MiB in 00:00:00 at 11.03MiB/s    \n",
      "[download] Finished downloading playlist: Sueco Paralyzed\n",
      "[generic] Extracting URL: Clinton Kane I Guess I'm In Love\n",
      "[youtube:search] Extracting URL: ytsearch:Clinton Kane I Guess I'm In Love\n",
      "[download] Downloading playlist: Clinton Kane I Guess I'm In Love\n",
      "[youtube:search] query \"Clinton Kane I Guess I'm In Love\": Downloading web client config\n",
      "[youtube:search] query \"Clinton Kane I Guess I'm In Love\" page 1: Downloading API JSON\n",
      "[youtube:search] Playlist Clinton Kane I Guess I'm In Love: Downloading 1 items of 1\n",
      "[download] Downloading item 1 of 1\n",
      "[youtube] Extracting URL: https://www.youtube.com/watch?v=SJsGISX8O8k\n",
      "[youtube] SJsGISX8O8k: Downloading webpage\n",
      "[youtube] SJsGISX8O8k: Downloading ios player API JSON\n",
      "[youtube] SJsGISX8O8k: Downloading android player API JSON\n",
      "[youtube] SJsGISX8O8k: Downloading m3u8 information\n",
      "[info] SJsGISX8O8k: Downloading 1 format(s): 251\n",
      "[download] Destination: C:\\Users\\arwin\\Documents\\dev\\APS360-PROJECT\\data\\billboard_audio\\Clinton Kane_I Guess I'm In Love\\Clinton Kane_I Guess I'm In Love.webm\n",
      "[download] 100% of    3.44MiB in 00:00:00 at 8.71MiB/s   \n",
      "[download] Finished downloading playlist: Clinton Kane I Guess I'm In Love\n",
      "[generic] Extracting URL: Rod Wave Featuring Kodak Black Get Ready\n",
      "[youtube:search] Extracting URL: ytsearch:Rod Wave Featuring Kodak Black Get Ready\n",
      "[download] Downloading playlist: Rod Wave Featuring Kodak Black Get Ready\n",
      "[youtube:search] query \"Rod Wave Featuring Kodak Black Get Ready\": Downloading web client config\n",
      "[youtube:search] query \"Rod Wave Featuring Kodak Black Get Ready\" page 1: Downloading API JSON\n",
      "[youtube:search] Playlist Rod Wave Featuring Kodak Black Get Ready: Downloading 1 items of 1\n",
      "[download] Downloading item 1 of 1\n",
      "[youtube] Extracting URL: https://www.youtube.com/watch?v=H9M0Jd7osKM\n",
      "[youtube] H9M0Jd7osKM: Downloading webpage\n",
      "[youtube] H9M0Jd7osKM: Downloading ios player API JSON\n",
      "[youtube] H9M0Jd7osKM: Downloading android player API JSON\n"
     ]
    },
    {
     "name": "stderr",
     "output_type": "stream",
     "text": [
      "WARNING: [youtube] YouTube said: ERROR - Precondition check failed.\n",
      "WARNING: [youtube] HTTP Error 400: Bad Request. Retrying (1/3)...\n"
     ]
    },
    {
     "name": "stdout",
     "output_type": "stream",
     "text": [
      "[youtube] H9M0Jd7osKM: Downloading android player API JSON\n"
     ]
    },
    {
     "name": "stderr",
     "output_type": "stream",
     "text": [
      "WARNING: [youtube] YouTube said: ERROR - Precondition check failed.\n",
      "WARNING: [youtube] HTTP Error 400: Bad Request. Retrying (2/3)...\n"
     ]
    },
    {
     "name": "stdout",
     "output_type": "stream",
     "text": [
      "[youtube] H9M0Jd7osKM: Downloading android player API JSON\n"
     ]
    },
    {
     "name": "stderr",
     "output_type": "stream",
     "text": [
      "WARNING: [youtube] YouTube said: ERROR - Precondition check failed.\n",
      "WARNING: [youtube] HTTP Error 400: Bad Request. Retrying (3/3)...\n"
     ]
    },
    {
     "name": "stdout",
     "output_type": "stream",
     "text": [
      "[youtube] H9M0Jd7osKM: Downloading android player API JSON\n",
      "[youtube] H9M0Jd7osKM: Downloading m3u8 information\n",
      "[info] H9M0Jd7osKM: Downloading 1 format(s): 251\n",
      "[download] Destination: C:\\Users\\arwin\\Documents\\dev\\APS360-PROJECT\\data\\billboard_audio\\Rod Wave Featuring Kodak Black_Get Ready\\Rod Wave Featuring Kodak Black_Get Ready.webm\n",
      "[download] 100% of    3.69MiB in 00:00:00 at 7.43MiB/s   \n",
      "[download] Finished downloading playlist: Rod Wave Featuring Kodak Black Get Ready\n",
      "[generic] Extracting URL: Trippie Redd Featuring XXXTENTACION Danny Phantom\n",
      "[youtube:search] Extracting URL: ytsearch:Trippie Redd Featuring XXXTENTACION Danny Phantom\n",
      "[download] Downloading playlist: Trippie Redd Featuring XXXTENTACION Danny Phantom\n",
      "[youtube:search] query \"Trippie Redd Featuring XXXTENTACION Danny Phantom\": Downloading web client config\n",
      "[youtube:search] query \"Trippie Redd Featuring XXXTENTACION Danny Phantom\" page 1: Downloading API JSON\n",
      "[youtube:search] Playlist Trippie Redd Featuring XXXTENTACION Danny Phantom: Downloading 1 items of 1\n",
      "[download] Downloading item 1 of 1\n",
      "[youtube] Extracting URL: https://www.youtube.com/watch?v=iocyX0UJSF0\n",
      "[youtube] iocyX0UJSF0: Downloading webpage\n",
      "[youtube] iocyX0UJSF0: Downloading ios player API JSON\n",
      "[youtube] iocyX0UJSF0: Downloading android player API JSON\n"
     ]
    },
    {
     "name": "stderr",
     "output_type": "stream",
     "text": [
      "WARNING: [youtube] YouTube said: ERROR - Precondition check failed.\n",
      "WARNING: [youtube] HTTP Error 400: Bad Request. Retrying (1/3)...\n"
     ]
    },
    {
     "name": "stdout",
     "output_type": "stream",
     "text": [
      "[youtube] iocyX0UJSF0: Downloading android player API JSON\n",
      "[youtube] iocyX0UJSF0: Downloading m3u8 information\n",
      "[info] iocyX0UJSF0: Downloading 1 format(s): 251\n",
      "[download] Destination: C:\\Users\\arwin\\Documents\\dev\\APS360-PROJECT\\data\\billboard_audio\\Trippie Redd Featuring XXXTENTACION_Danny Phantom\\Trippie Redd Featuring XXXTENTACION_Danny Phantom.webm\n",
      "[download] 100% of    2.13MiB in 00:00:00 at 18.18MiB/s  \n",
      "[download] Finished downloading playlist: Trippie Redd Featuring XXXTENTACION Danny Phantom\n",
      "[generic] Extracting URL: Rod Wave What's Wrong\n",
      "[youtube:search] Extracting URL: ytsearch:Rod Wave What's Wrong\n",
      "[download] Downloading playlist: Rod Wave What's Wrong\n",
      "[youtube:search] query \"Rod Wave What's Wrong\": Downloading web client config\n",
      "[youtube:search] query \"Rod Wave What's Wrong\" page 1: Downloading API JSON\n",
      "[youtube:search] Playlist Rod Wave What's Wrong: Downloading 1 items of 1\n",
      "[download] Downloading item 1 of 1\n",
      "[youtube] Extracting URL: https://www.youtube.com/watch?v=UqCKzyTaDdE\n",
      "[youtube] UqCKzyTaDdE: Downloading webpage\n",
      "[youtube] UqCKzyTaDdE: Downloading ios player API JSON\n",
      "[youtube] UqCKzyTaDdE: Downloading android player API JSON\n"
     ]
    },
    {
     "name": "stderr",
     "output_type": "stream",
     "text": [
      "WARNING: [youtube] YouTube said: ERROR - Precondition check failed.\n",
      "WARNING: [youtube] HTTP Error 400: Bad Request. Retrying (1/3)...\n"
     ]
    },
    {
     "name": "stdout",
     "output_type": "stream",
     "text": [
      "[youtube] UqCKzyTaDdE: Downloading android player API JSON\n",
      "[youtube] UqCKzyTaDdE: Downloading m3u8 information\n",
      "[info] UqCKzyTaDdE: Downloading 1 format(s): 251\n",
      "[download] Destination: C:\\Users\\arwin\\Documents\\dev\\APS360-PROJECT\\data\\billboard_audio\\Rod Wave_What's Wrong\\Rod Wave_What's Wrong.webm\n",
      "[download] 100% of    2.64MiB in 00:00:00 at 10.88MiB/s  \n",
      "[download] Finished downloading playlist: Rod Wave What's Wrong\n",
      "[generic] Extracting URL: Trippie Redd Featuring Ski Mask The Slump God Demon Time\n",
      "[youtube:search] Extracting URL: ytsearch:Trippie Redd Featuring Ski Mask The Slump God Demon Time\n",
      "[download] Downloading playlist: Trippie Redd Featuring Ski Mask The Slump God Demon Time\n",
      "[youtube:search] query \"Trippie Redd Featuring Ski Mask The Slump God Demon Time\": Downloading web client config\n",
      "[youtube:search] query \"Trippie Redd Featuring Ski Mask The Slump God Demon Time\" page 1: Downloading API JSON\n",
      "[youtube:search] Playlist Trippie Redd Featuring Ski Mask The Slump God Demon Time: Downloading 1 items of 1\n",
      "[download] Downloading item 1 of 1\n",
      "[youtube] Extracting URL: https://www.youtube.com/watch?v=wm4NCHcw0Yk\n",
      "[youtube] wm4NCHcw0Yk: Downloading webpage\n",
      "[youtube] wm4NCHcw0Yk: Downloading ios player API JSON\n",
      "[youtube] wm4NCHcw0Yk: Downloading android player API JSON\n",
      "[youtube] wm4NCHcw0Yk: Downloading m3u8 information\n",
      "[info] wm4NCHcw0Yk: Downloading 1 format(s): 251\n",
      "[download] Destination: C:\\Users\\arwin\\Documents\\dev\\APS360-PROJECT\\data\\billboard_audio\\Trippie Redd Featuring Ski Mask The Slump God_Demon Time\\Trippie Redd Featuring Ski Mask The Slump God_Demon Time.webm\n",
      "[download] 100% of    2.90MiB in 00:00:00 at 16.56MiB/s  \n",
      "[download] Finished downloading playlist: Trippie Redd Featuring Ski Mask The Slump God Demon Time\n",
      "[generic] Extracting URL: Young Thug Tick Tock\n",
      "[youtube:search] Extracting URL: ytsearch:Young Thug Tick Tock\n",
      "[download] Downloading playlist: Young Thug Tick Tock\n",
      "[youtube:search] query \"Young Thug Tick Tock\": Downloading web client config\n",
      "[youtube:search] query \"Young Thug Tick Tock\" page 1: Downloading API JSON\n",
      "[youtube:search] Playlist Young Thug Tick Tock: Downloading 1 items of 1\n",
      "[download] Downloading item 1 of 1\n",
      "[youtube] Extracting URL: https://www.youtube.com/watch?v=sxfr4RooJkI\n",
      "[youtube] sxfr4RooJkI: Downloading webpage\n",
      "[youtube] sxfr4RooJkI: Downloading ios player API JSON\n",
      "[youtube] sxfr4RooJkI: Downloading android player API JSON\n",
      "[youtube] sxfr4RooJkI: Downloading m3u8 information\n",
      "[info] sxfr4RooJkI: Downloading 1 format(s): 251\n",
      "[download] Destination: C:\\Users\\arwin\\Documents\\dev\\APS360-PROJECT\\data\\billboard_audio\\Young Thug_Tick Tock\\Young Thug_Tick Tock.webm\n",
      "[download] 100% of    2.88MiB in 00:00:00 at 9.03MiB/s   \n",
      "[download] Finished downloading playlist: Young Thug Tick Tock\n",
      "[generic] Extracting URL: BTS Permission To Dance\n",
      "[youtube:search] Extracting URL: ytsearch:BTS Permission To Dance\n",
      "[download] Downloading playlist: BTS Permission To Dance\n",
      "[youtube:search] query \"BTS Permission To Dance\": Downloading web client config\n",
      "[youtube:search] query \"BTS Permission To Dance\" page 1: Downloading API JSON\n",
      "[youtube:search] Playlist BTS Permission To Dance: Downloading 1 items of 1\n",
      "[download] Downloading item 1 of 1\n",
      "[youtube] Extracting URL: https://www.youtube.com/watch?v=CuklIb9d3fI\n",
      "[youtube] CuklIb9d3fI: Downloading webpage\n",
      "[youtube] CuklIb9d3fI: Downloading ios player API JSON\n",
      "[youtube] CuklIb9d3fI: Downloading android player API JSON\n",
      "[youtube] CuklIb9d3fI: Downloading m3u8 information\n",
      "[info] CuklIb9d3fI: Downloading 1 format(s): 251\n",
      "[download] Destination: C:\\Users\\arwin\\Documents\\dev\\APS360-PROJECT\\data\\billboard_audio\\BTS_Permission To Dance\\BTS_Permission To Dance.webm\n",
      "[download] 100% of    4.43MiB in 00:00:00 at 21.79MiB/s  \n",
      "[download] Finished downloading playlist: BTS Permission To Dance\n",
      "[generic] Extracting URL: Rod Wave Time Heals\n",
      "[youtube:search] Extracting URL: ytsearch:Rod Wave Time Heals\n",
      "[download] Downloading playlist: Rod Wave Time Heals\n",
      "[youtube:search] query \"Rod Wave Time Heals\": Downloading web client config\n",
      "[youtube:search] query \"Rod Wave Time Heals\" page 1: Downloading API JSON\n",
      "[youtube:search] Playlist Rod Wave Time Heals: Downloading 1 items of 1\n",
      "[download] Downloading item 1 of 1\n",
      "[youtube] Extracting URL: https://www.youtube.com/watch?v=KGXNOBYVVuM\n",
      "[youtube] KGXNOBYVVuM: Downloading webpage\n",
      "[youtube] KGXNOBYVVuM: Downloading ios player API JSON\n",
      "[youtube] KGXNOBYVVuM: Downloading android player API JSON\n"
     ]
    },
    {
     "name": "stderr",
     "output_type": "stream",
     "text": [
      "WARNING: [youtube] YouTube said: ERROR - Precondition check failed.\n",
      "WARNING: [youtube] HTTP Error 400: Bad Request. Retrying (1/3)...\n"
     ]
    },
    {
     "name": "stdout",
     "output_type": "stream",
     "text": [
      "[youtube] KGXNOBYVVuM: Downloading android player API JSON\n",
      "[youtube] KGXNOBYVVuM: Downloading m3u8 information\n",
      "[info] KGXNOBYVVuM: Downloading 1 format(s): 251\n",
      "[download] Destination: C:\\Users\\arwin\\Documents\\dev\\APS360-PROJECT\\data\\billboard_audio\\Rod Wave_Time Heals\\Rod Wave_Time Heals.webm\n",
      "[download] 100% of    3.23MiB in 00:00:00 at 19.09MiB/s  \n",
      "[download] Finished downloading playlist: Rod Wave Time Heals\n",
      "[generic] Extracting URL: YNW Melly Featuring Lil Uzi Vert Mind Of Melvin\n",
      "[youtube:search] Extracting URL: ytsearch:YNW Melly Featuring Lil Uzi Vert Mind Of Melvin\n",
      "[download] Downloading playlist: YNW Melly Featuring Lil Uzi Vert Mind Of Melvin\n",
      "[youtube:search] query \"YNW Melly Featuring Lil Uzi Vert Mind Of Melvin\": Downloading web client config\n",
      "[youtube:search] query \"YNW Melly Featuring Lil Uzi Vert Mind Of Melvin\" page 1: Downloading API JSON\n",
      "[youtube:search] Playlist YNW Melly Featuring Lil Uzi Vert Mind Of Melvin: Downloading 1 items of 1\n",
      "[download] Downloading item 1 of 1\n",
      "[youtube] Extracting URL: https://www.youtube.com/watch?v=zjuM28-tik0\n",
      "[youtube] zjuM28-tik0: Downloading webpage\n",
      "[youtube] zjuM28-tik0: Downloading ios player API JSON\n",
      "[youtube] zjuM28-tik0: Downloading android player API JSON\n"
     ]
    },
    {
     "name": "stderr",
     "output_type": "stream",
     "text": [
      "WARNING: [youtube] YouTube said: ERROR - Precondition check failed.\n",
      "WARNING: [youtube] HTTP Error 400: Bad Request. Retrying (1/3)...\n"
     ]
    },
    {
     "name": "stdout",
     "output_type": "stream",
     "text": [
      "[youtube] zjuM28-tik0: Downloading android player API JSON\n"
     ]
    },
    {
     "name": "stderr",
     "output_type": "stream",
     "text": [
      "WARNING: [youtube] YouTube said: ERROR - Precondition check failed.\n",
      "WARNING: [youtube] HTTP Error 400: Bad Request. Retrying (2/3)...\n"
     ]
    },
    {
     "name": "stdout",
     "output_type": "stream",
     "text": [
      "[youtube] zjuM28-tik0: Downloading android player API JSON\n",
      "[youtube] zjuM28-tik0: Downloading m3u8 information\n",
      "[info] zjuM28-tik0: Downloading 1 format(s): 251\n",
      "[download] Destination: C:\\Users\\arwin\\Documents\\dev\\APS360-PROJECT\\data\\billboard_audio\\YNW Melly Featuring Lil Uzi Vert_Mind Of Melvin\\YNW Melly Featuring Lil Uzi Vert_Mind Of Melvin.webm\n",
      "[download] 100% of    4.08MiB in 00:00:00 at 20.40MiB/s    \n",
      "[download] Finished downloading playlist: YNW Melly Featuring Lil Uzi Vert Mind Of Melvin\n",
      "[generic] Extracting URL: Machine Gun Kelly Papercuts\n",
      "[youtube:search] Extracting URL: ytsearch:Machine Gun Kelly Papercuts\n",
      "[download] Downloading playlist: Machine Gun Kelly Papercuts\n",
      "[youtube:search] query \"Machine Gun Kelly Papercuts\": Downloading web client config\n",
      "[youtube:search] query \"Machine Gun Kelly Papercuts\" page 1: Downloading API JSON\n",
      "[youtube:search] Playlist Machine Gun Kelly Papercuts: Downloading 1 items of 1\n",
      "[download] Downloading item 1 of 1\n",
      "[youtube] Extracting URL: https://www.youtube.com/watch?v=28PwRWXQ6Pw\n",
      "[youtube] 28PwRWXQ6Pw: Downloading webpage\n",
      "[youtube] 28PwRWXQ6Pw: Downloading ios player API JSON\n",
      "[youtube] 28PwRWXQ6Pw: Downloading android player API JSON\n",
      "[youtube] 28PwRWXQ6Pw: Downloading m3u8 information\n",
      "[info] 28PwRWXQ6Pw: Downloading 1 format(s): 251\n",
      "[download] Destination: C:\\Users\\arwin\\Documents\\dev\\APS360-PROJECT\\data\\billboard_audio\\Machine Gun Kelly_Papercuts\\Machine Gun Kelly_Papercuts.webm\n",
      "[download] 100% of    2.98MiB in 00:00:00 at 21.34MiB/s    \n",
      "[download] Finished downloading playlist: Machine Gun Kelly Papercuts\n",
      "[generic] Extracting URL: Jack Harlow & Pooh Shiesty SUVs (Black On Black)\n",
      "[youtube:search] Extracting URL: ytsearch:Jack Harlow & Pooh Shiesty SUVs (Black On Black)\n",
      "[download] Downloading playlist: Jack Harlow & Pooh Shiesty SUVs (Black On Black)\n",
      "[youtube:search] query \"Jack Harlow & Pooh Shiesty SUVs (Black On Black)\": Downloading web client config\n",
      "[youtube:search] query \"Jack Harlow & Pooh Shiesty SUVs (Black On Black)\" page 1: Downloading API JSON\n",
      "[youtube:search] Playlist Jack Harlow & Pooh Shiesty SUVs (Black On Black): Downloading 1 items of 1\n",
      "[download] Downloading item 1 of 1\n",
      "[youtube] Extracting URL: https://www.youtube.com/watch?v=98JGfgnXE1E\n",
      "[youtube] 98JGfgnXE1E: Downloading webpage\n",
      "[youtube] 98JGfgnXE1E: Downloading ios player API JSON\n",
      "[youtube] 98JGfgnXE1E: Downloading android player API JSON\n",
      "[youtube] 98JGfgnXE1E: Downloading m3u8 information\n",
      "[info] 98JGfgnXE1E: Downloading 1 format(s): 251\n",
      "[download] Destination: C:\\Users\\arwin\\Documents\\dev\\APS360-PROJECT\\data\\billboard_audio\\Jack Harlow & Pooh Shiesty_SUVs (Black On Black)\\Jack Harlow & Pooh Shiesty_SUVs (Black On Black).webm\n",
      "[download] 100% of    2.75MiB in 00:00:01 at 2.52MiB/s   \n",
      "[download] Finished downloading playlist: Jack Harlow & Pooh Shiesty SUVs (Black On Black)\n",
      "[generic] Extracting URL: Migos Straightenin\n",
      "[youtube:search] Extracting URL: ytsearch:Migos Straightenin\n",
      "[download] Downloading playlist: Migos Straightenin\n",
      "[youtube:search] query \"Migos Straightenin\": Downloading web client config\n",
      "[youtube:search] query \"Migos Straightenin\" page 1: Downloading API JSON\n",
      "[youtube:search] Playlist Migos Straightenin: Downloading 1 items of 1\n",
      "[download] Downloading item 1 of 1\n",
      "[youtube] Extracting URL: https://www.youtube.com/watch?v=E553AnMAvlU\n",
      "[youtube] E553AnMAvlU: Downloading webpage\n",
      "[youtube] E553AnMAvlU: Downloading ios player API JSON\n",
      "[youtube] E553AnMAvlU: Downloading android player API JSON\n"
     ]
    },
    {
     "name": "stderr",
     "output_type": "stream",
     "text": [
      "WARNING: [youtube] YouTube said: ERROR - Precondition check failed.\n",
      "WARNING: [youtube] HTTP Error 400: Bad Request. Retrying (1/3)...\n"
     ]
    },
    {
     "name": "stdout",
     "output_type": "stream",
     "text": [
      "[youtube] E553AnMAvlU: Downloading android player API JSON\n",
      "[youtube] E553AnMAvlU: Downloading m3u8 information\n",
      "[info] E553AnMAvlU: Downloading 1 format(s): 251\n",
      "[download] Destination: C:\\Users\\arwin\\Documents\\dev\\APS360-PROJECT\\data\\billboard_audio\\Migos_Straightenin\\Migos_Straightenin.webm\n",
      "[download] 100% of    4.64MiB in 00:00:00 at 19.53MiB/s    \n",
      "[download] Finished downloading playlist: Migos Straightenin\n",
      "[generic] Extracting URL: Jason Aldean Blame It On You\n",
      "[youtube:search] Extracting URL: ytsearch:Jason Aldean Blame It On You\n",
      "[download] Downloading playlist: Jason Aldean Blame It On You\n",
      "[youtube:search] query \"Jason Aldean Blame It On You\": Downloading web client config\n",
      "[youtube:search] query \"Jason Aldean Blame It On You\" page 1: Downloading API JSON\n",
      "[youtube:search] Playlist Jason Aldean Blame It On You: Downloading 1 items of 1\n",
      "[download] Downloading item 1 of 1\n",
      "[youtube] Extracting URL: https://www.youtube.com/watch?v=o5gucwLAxWA\n",
      "[youtube] o5gucwLAxWA: Downloading webpage\n",
      "[youtube] o5gucwLAxWA: Downloading ios player API JSON\n",
      "[youtube] o5gucwLAxWA: Downloading android player API JSON\n",
      "[youtube] o5gucwLAxWA: Downloading m3u8 information\n",
      "[info] o5gucwLAxWA: Downloading 1 format(s): 251\n",
      "[download] Destination: C:\\Users\\arwin\\Documents\\dev\\APS360-PROJECT\\data\\billboard_audio\\Jason Aldean_Blame It On You\\Jason Aldean_Blame It On You.webm\n",
      "[download] 100% of    2.62MiB in 00:00:00 at 7.72MiB/s     \n",
      "[download] Finished downloading playlist: Jason Aldean Blame It On You\n",
      "[generic] Extracting URL: Lil Baby, Lil Durk & Travis Scott Hats Off\n",
      "[youtube:search] Extracting URL: ytsearch:Lil Baby, Lil Durk & Travis Scott Hats Off\n",
      "[download] Downloading playlist: Lil Baby, Lil Durk & Travis Scott Hats Off\n",
      "[youtube:search] query \"Lil Baby, Lil Durk & Travis Scott Hats Off\": Downloading web client config\n",
      "[youtube:search] query \"Lil Baby, Lil Durk & Travis Scott Hats Off\" page 1: Downloading API JSON\n",
      "[youtube:search] Playlist Lil Baby, Lil Durk & Travis Scott Hats Off: Downloading 1 items of 1\n",
      "[download] Downloading item 1 of 1\n",
      "[youtube] Extracting URL: https://www.youtube.com/watch?v=Ta4VBDPWbSc\n",
      "[youtube] Ta4VBDPWbSc: Downloading webpage\n",
      "[youtube] Ta4VBDPWbSc: Downloading ios player API JSON\n",
      "[youtube] Ta4VBDPWbSc: Downloading android player API JSON\n"
     ]
    },
    {
     "name": "stderr",
     "output_type": "stream",
     "text": [
      "WARNING: [youtube] YouTube said: ERROR - Precondition check failed.\n",
      "WARNING: [youtube] HTTP Error 400: Bad Request. Retrying (1/3)...\n"
     ]
    },
    {
     "name": "stdout",
     "output_type": "stream",
     "text": [
      "[youtube] Ta4VBDPWbSc: Downloading android player API JSON\n"
     ]
    },
    {
     "name": "stderr",
     "output_type": "stream",
     "text": [
      "WARNING: [youtube] YouTube said: ERROR - Precondition check failed.\n",
      "WARNING: [youtube] HTTP Error 400: Bad Request. Retrying (2/3)...\n"
     ]
    },
    {
     "name": "stdout",
     "output_type": "stream",
     "text": [
      "[youtube] Ta4VBDPWbSc: Downloading android player API JSON\n",
      "[youtube] Ta4VBDPWbSc: Downloading m3u8 information\n",
      "[info] Ta4VBDPWbSc: Downloading 1 format(s): 251\n",
      "[download] Destination: C:\\Users\\arwin\\Documents\\dev\\APS360-PROJECT\\data\\billboard_audio\\Lil Baby, Lil Durk & Travis Scott_Hats Off\\Lil Baby, Lil Durk & Travis Scott_Hats Off.webm\n",
      "[download] 100% of    4.44MiB in 00:00:00 at 22.18MiB/s  \n",
      "[download] Finished downloading playlist: Lil Baby, Lil Durk & Travis Scott Hats Off\n",
      "[generic] Extracting URL: Smiley Featuring Drake Over The Top\n",
      "[youtube:search] Extracting URL: ytsearch:Smiley Featuring Drake Over The Top\n",
      "[download] Downloading playlist: Smiley Featuring Drake Over The Top\n",
      "[youtube:search] query \"Smiley Featuring Drake Over The Top\": Downloading web client config\n",
      "[youtube:search] query \"Smiley Featuring Drake Over The Top\" page 1: Downloading API JSON\n",
      "[youtube:search] Playlist Smiley Featuring Drake Over The Top: Downloading 1 items of 1\n",
      "[download] Downloading item 1 of 1\n",
      "[youtube] Extracting URL: https://www.youtube.com/watch?v=qaqvwkhelS8\n",
      "[youtube] qaqvwkhelS8: Downloading webpage\n",
      "[youtube] qaqvwkhelS8: Downloading ios player API JSON\n",
      "[youtube] qaqvwkhelS8: Downloading android player API JSON\n",
      "[youtube] qaqvwkhelS8: Downloading m3u8 information\n",
      "[info] qaqvwkhelS8: Downloading 1 format(s): 251\n",
      "[download] Destination: C:\\Users\\arwin\\Documents\\dev\\APS360-PROJECT\\data\\billboard_audio\\Smiley Featuring Drake_Over The Top\\Smiley Featuring Drake_Over The Top.webm\n",
      "[download] 100% of    2.58MiB in 00:00:00 at 14.45MiB/s    \n",
      "[download] Finished downloading playlist: Smiley Featuring Drake Over The Top\n",
      "[generic] Extracting URL: Tom MacDonald Brainwashed\n",
      "[youtube:search] Extracting URL: ytsearch:Tom MacDonald Brainwashed\n",
      "[download] Downloading playlist: Tom MacDonald Brainwashed\n",
      "[youtube:search] query \"Tom MacDonald Brainwashed\": Downloading web client config\n",
      "[youtube:search] query \"Tom MacDonald Brainwashed\" page 1: Downloading API JSON\n",
      "[youtube:search] Playlist Tom MacDonald Brainwashed: Downloading 1 items of 1\n",
      "[download] Downloading item 1 of 1\n",
      "[youtube] Extracting URL: https://www.youtube.com/watch?v=zCBNwGHPZ2M\n",
      "[youtube] zCBNwGHPZ2M: Downloading webpage\n",
      "[youtube] zCBNwGHPZ2M: Downloading ios player API JSON\n",
      "[youtube] zCBNwGHPZ2M: Downloading android player API JSON\n",
      "[youtube] zCBNwGHPZ2M: Downloading m3u8 information\n",
      "[info] zCBNwGHPZ2M: Downloading 1 format(s): 251\n",
      "[download] Destination: C:\\Users\\arwin\\Documents\\dev\\APS360-PROJECT\\data\\billboard_audio\\Tom MacDonald_Brainwashed\\Tom MacDonald_Brainwashed.webm\n",
      "[download] 100% of    3.60MiB in 00:00:00 at 22.24MiB/s    \n",
      "[download] Finished downloading playlist: Tom MacDonald Brainwashed\n",
      "[generic] Extracting URL: J_ Cole, 21 Savage & Morray my_life\n",
      "[youtube:search] Extracting URL: ytsearch:J_ Cole, 21 Savage & Morray my_life\n",
      "[download] Downloading playlist: J_ Cole, 21 Savage & Morray my_life\n",
      "[youtube:search] query \"J_ Cole, 21 Savage & Morray my_life\": Downloading web client config\n",
      "[youtube:search] query \"J_ Cole, 21 Savage & Morray my_life\" page 1: Downloading API JSON\n",
      "[youtube:search] Playlist J_ Cole, 21 Savage & Morray my_life: Downloading 1 items of 1\n",
      "[download] Downloading item 1 of 1\n",
      "[youtube] Extracting URL: https://www.youtube.com/watch?v=wLQ8u3xRZd8\n",
      "[youtube] wLQ8u3xRZd8: Downloading webpage\n",
      "[youtube] wLQ8u3xRZd8: Downloading ios player API JSON\n",
      "[youtube] wLQ8u3xRZd8: Downloading android player API JSON\n",
      "[youtube] wLQ8u3xRZd8: Downloading m3u8 information\n",
      "[info] wLQ8u3xRZd8: Downloading 1 format(s): 251\n",
      "[download] Destination: C:\\Users\\arwin\\Documents\\dev\\APS360-PROJECT\\data\\billboard_audio\\J_ Cole, 21 Savage & Morray_my_life\\J_ Cole, 21 Savage & Morray_my_life.webm\n",
      "[download] 100% of    3.54MiB in 00:00:00 at 17.65MiB/s    \n",
      "[download] Finished downloading playlist: J_ Cole, 21 Savage & Morray my_life\n",
      "[generic] Extracting URL: Tyler, The Creator Featuring YoungBoy Never Broke Again & Ty Dolla $ign WUSYANAME\n",
      "[youtube:search] Extracting URL: ytsearch:Tyler, The Creator Featuring YoungBoy Never Broke Again & Ty Dolla $ign WUSYANAME\n",
      "[download] Downloading playlist: Tyler, The Creator Featuring YoungBoy Never Broke Again & Ty Dolla $ign WUSYANAME\n",
      "[youtube:search] query \"Tyler, The Creator Featuring YoungBoy Never Broke Again & Ty Dolla $ign WUSYANAME\": Downloading web client config\n",
      "[youtube:search] query \"Tyler, The Creator Featuring YoungBoy Never Broke Again & Ty Dolla $ign WUSYANAME\" page 1: Downloading API JSON\n",
      "[youtube:search] Playlist Tyler, The Creator Featuring YoungBoy Never Broke Again & Ty Dolla $ign WUSYANAME: Downloading 1 items of 1\n",
      "[download] Downloading item 1 of 1\n",
      "[youtube] Extracting URL: https://www.youtube.com/watch?v=R4kT37izmj4\n",
      "[youtube] R4kT37izmj4: Downloading webpage\n",
      "[youtube] R4kT37izmj4: Downloading ios player API JSON\n",
      "[youtube] R4kT37izmj4: Downloading android player API JSON\n"
     ]
    },
    {
     "name": "stderr",
     "output_type": "stream",
     "text": [
      "WARNING: [youtube] YouTube said: ERROR - Precondition check failed.\n",
      "WARNING: [youtube] HTTP Error 400: Bad Request. Retrying (1/3)...\n"
     ]
    },
    {
     "name": "stdout",
     "output_type": "stream",
     "text": [
      "[youtube] R4kT37izmj4: Downloading android player API JSON\n"
     ]
    },
    {
     "name": "stderr",
     "output_type": "stream",
     "text": [
      "WARNING: [youtube] YouTube said: ERROR - Precondition check failed.\n",
      "WARNING: [youtube] HTTP Error 400: Bad Request. Retrying (2/3)...\n"
     ]
    },
    {
     "name": "stdout",
     "output_type": "stream",
     "text": [
      "[youtube] R4kT37izmj4: Downloading android player API JSON\n"
     ]
    },
    {
     "name": "stderr",
     "output_type": "stream",
     "text": [
      "WARNING: [youtube] YouTube said: ERROR - Precondition check failed.\n",
      "WARNING: [youtube] HTTP Error 400: Bad Request. Retrying (3/3)...\n"
     ]
    },
    {
     "name": "stdout",
     "output_type": "stream",
     "text": [
      "[youtube] R4kT37izmj4: Downloading android player API JSON\n",
      "[youtube] R4kT37izmj4: Downloading m3u8 information\n",
      "[info] R4kT37izmj4: Downloading 1 format(s): 251\n",
      "[download] Destination: C:\\Users\\arwin\\Documents\\dev\\APS360-PROJECT\\data\\billboard_audio\\Tyler, The Creator Featuring YoungBoy Never Broke Again & Ty Dolla $ign_WUSYANAME\\Tyler, The Creator Featuring YoungBoy Never Broke Again & Ty Dolla $ign_WUSYANAME.webm\n",
      "[download] 100% of    1.82MiB in 00:00:00 at 10.90MiB/s    \n",
      "[download] Finished downloading playlist: Tyler, The Creator Featuring YoungBoy Never Broke Again & Ty Dolla $ign WUSYANAME\n",
      "[generic] Extracting URL: Olivia Rodrigo Favorite Crime\n",
      "[youtube:search] Extracting URL: ytsearch:Olivia Rodrigo Favorite Crime\n",
      "[download] Downloading playlist: Olivia Rodrigo Favorite Crime\n",
      "[youtube:search] query \"Olivia Rodrigo Favorite Crime\": Downloading web client config\n",
      "[youtube:search] query \"Olivia Rodrigo Favorite Crime\" page 1: Downloading API JSON\n",
      "[youtube:search] Playlist Olivia Rodrigo Favorite Crime: Downloading 1 items of 1\n",
      "[download] Downloading item 1 of 1\n",
      "[youtube] Extracting URL: https://www.youtube.com/watch?v=AyX_LL9nWSE\n",
      "[youtube] AyX_LL9nWSE: Downloading webpage\n",
      "[youtube] AyX_LL9nWSE: Downloading ios player API JSON\n",
      "[youtube] AyX_LL9nWSE: Downloading android player API JSON\n"
     ]
    },
    {
     "name": "stderr",
     "output_type": "stream",
     "text": [
      "WARNING: [youtube] YouTube said: ERROR - Precondition check failed.\n",
      "WARNING: [youtube] HTTP Error 400: Bad Request. Retrying (1/3)...\n"
     ]
    },
    {
     "name": "stdout",
     "output_type": "stream",
     "text": [
      "[youtube] AyX_LL9nWSE: Downloading android player API JSON\n",
      "[youtube] AyX_LL9nWSE: Downloading m3u8 information\n",
      "[info] AyX_LL9nWSE: Downloading 1 format(s): 251\n",
      "[download] Destination: C:\\Users\\arwin\\Documents\\dev\\APS360-PROJECT\\data\\billboard_audio\\Olivia Rodrigo_Favorite Crime\\Olivia Rodrigo_Favorite Crime.webm\n",
      "[download] 100% of    2.50MiB in 00:00:00 at 15.67MiB/s    \n",
      "[download] Finished downloading playlist: Olivia Rodrigo Favorite Crime\n",
      "[generic] Extracting URL: MO3 X OG Bobby Billions Outside\n",
      "[youtube:search] Extracting URL: ytsearch:MO3 X OG Bobby Billions Outside\n",
      "[download] Downloading playlist: MO3 X OG Bobby Billions Outside\n",
      "[youtube:search] query \"MO3 X OG Bobby Billions Outside\": Downloading web client config\n",
      "[youtube:search] query \"MO3 X OG Bobby Billions Outside\" page 1: Downloading API JSON\n",
      "[youtube:search] Playlist MO3 X OG Bobby Billions Outside: Downloading 1 items of 1\n",
      "[download] Downloading item 1 of 1\n",
      "[youtube] Extracting URL: https://www.youtube.com/watch?v=VT0YV-hJHzg\n",
      "[youtube] VT0YV-hJHzg: Downloading webpage\n",
      "[youtube] VT0YV-hJHzg: Downloading ios player API JSON\n",
      "[youtube] VT0YV-hJHzg: Downloading android player API JSON\n",
      "[youtube] VT0YV-hJHzg: Downloading m3u8 information\n",
      "[info] VT0YV-hJHzg: Downloading 1 format(s): 251\n",
      "[download] Destination: C:\\Users\\arwin\\Documents\\dev\\APS360-PROJECT\\data\\billboard_audio\\MO3 X OG Bobby Billions_Outside\\MO3 X OG Bobby Billions_Outside.webm\n",
      "[download] 100% of    3.77MiB in 00:00:00 at 24.38MiB/s  \n",
      "[download] Finished downloading playlist: MO3 X OG Bobby Billions Outside\n",
      "[generic] Extracting URL: DaBaby Ball If I Want To\n",
      "[youtube:search] Extracting URL: ytsearch:DaBaby Ball If I Want To\n",
      "[download] Downloading playlist: DaBaby Ball If I Want To\n",
      "[youtube:search] query \"DaBaby Ball If I Want To\": Downloading web client config\n",
      "[youtube:search] query \"DaBaby Ball If I Want To\" page 1: Downloading API JSON\n",
      "[youtube:search] Playlist DaBaby Ball If I Want To: Downloading 1 items of 1\n",
      "[download] Downloading item 1 of 1\n",
      "[youtube] Extracting URL: https://www.youtube.com/watch?v=_Rzm7cPzVUo\n",
      "[youtube] _Rzm7cPzVUo: Downloading webpage\n",
      "[youtube] _Rzm7cPzVUo: Downloading ios player API JSON\n",
      "[youtube] _Rzm7cPzVUo: Downloading android player API JSON\n"
     ]
    },
    {
     "name": "stderr",
     "output_type": "stream",
     "text": [
      "WARNING: [youtube] YouTube said: ERROR - Precondition check failed.\n",
      "WARNING: [youtube] HTTP Error 400: Bad Request. Retrying (1/3)...\n"
     ]
    },
    {
     "name": "stdout",
     "output_type": "stream",
     "text": [
      "[youtube] _Rzm7cPzVUo: Downloading android player API JSON\n"
     ]
    },
    {
     "name": "stderr",
     "output_type": "stream",
     "text": [
      "WARNING: [youtube] YouTube said: ERROR - Precondition check failed.\n",
      "WARNING: [youtube] HTTP Error 400: Bad Request. Retrying (2/3)...\n"
     ]
    },
    {
     "name": "stdout",
     "output_type": "stream",
     "text": [
      "[youtube] _Rzm7cPzVUo: Downloading android player API JSON\n"
     ]
    },
    {
     "name": "stderr",
     "output_type": "stream",
     "text": [
      "WARNING: [youtube] YouTube said: ERROR - Precondition check failed.\n",
      "WARNING: [youtube] HTTP Error 400: Bad Request. Retrying (3/3)...\n"
     ]
    },
    {
     "name": "stdout",
     "output_type": "stream",
     "text": [
      "[youtube] _Rzm7cPzVUo: Downloading android player API JSON\n"
     ]
    },
    {
     "name": "stderr",
     "output_type": "stream",
     "text": [
      "WARNING: [youtube] YouTube said: ERROR - Precondition check failed.\n",
      "WARNING: [youtube] Unable to download API page: HTTP Error 400: Bad Request (caused by <HTTPError 400: Bad Request>); please report this issue on  https://github.com/yt-dlp/yt-dlp/issues?q= , filling out the appropriate issue template. Confirm you are on the latest version using  yt-dlp -U\n"
     ]
    },
    {
     "name": "stdout",
     "output_type": "stream",
     "text": [
      "[youtube] _Rzm7cPzVUo: Downloading m3u8 information\n",
      "[info] _Rzm7cPzVUo: Downloading 1 format(s): 251\n",
      "[download] Destination: C:\\Users\\arwin\\Documents\\dev\\APS360-PROJECT\\data\\billboard_audio\\DaBaby_Ball If I Want To\\DaBaby_Ball If I Want To.webm\n",
      "[download] 100% of    1.57MiB in 00:00:00 at 13.09MiB/s    \n",
      "[download] Finished downloading playlist: DaBaby Ball If I Want To\n",
      "[generic] Extracting URL: Carly Pearce Next Girl\n",
      "[youtube:search] Extracting URL: ytsearch:Carly Pearce Next Girl\n",
      "[download] Downloading playlist: Carly Pearce Next Girl\n",
      "[youtube:search] query \"Carly Pearce Next Girl\": Downloading web client config\n",
      "[youtube:search] query \"Carly Pearce Next Girl\" page 1: Downloading API JSON\n",
      "[youtube:search] Playlist Carly Pearce Next Girl: Downloading 1 items of 1\n",
      "[download] Downloading item 1 of 1\n",
      "[youtube] Extracting URL: https://www.youtube.com/watch?v=o5KKh5gFock\n",
      "[youtube] o5KKh5gFock: Downloading webpage\n",
      "[youtube] o5KKh5gFock: Downloading ios player API JSON\n",
      "[youtube] o5KKh5gFock: Downloading android player API JSON\n"
     ]
    },
    {
     "name": "stderr",
     "output_type": "stream",
     "text": [
      "WARNING: [youtube] YouTube said: ERROR - Precondition check failed.\n",
      "WARNING: [youtube] HTTP Error 400: Bad Request. Retrying (1/3)...\n"
     ]
    },
    {
     "name": "stdout",
     "output_type": "stream",
     "text": [
      "[youtube] o5KKh5gFock: Downloading android player API JSON\n"
     ]
    },
    {
     "name": "stderr",
     "output_type": "stream",
     "text": [
      "WARNING: [youtube] YouTube said: ERROR - Precondition check failed.\n",
      "WARNING: [youtube] HTTP Error 400: Bad Request. Retrying (2/3)...\n"
     ]
    },
    {
     "name": "stdout",
     "output_type": "stream",
     "text": [
      "[youtube] o5KKh5gFock: Downloading android player API JSON\n"
     ]
    },
    {
     "name": "stderr",
     "output_type": "stream",
     "text": [
      "WARNING: [youtube] YouTube said: ERROR - Precondition check failed.\n",
      "WARNING: [youtube] HTTP Error 400: Bad Request. Retrying (3/3)...\n"
     ]
    },
    {
     "name": "stdout",
     "output_type": "stream",
     "text": [
      "[youtube] o5KKh5gFock: Downloading android player API JSON\n",
      "[youtube] o5KKh5gFock: Downloading m3u8 information\n",
      "[info] o5KKh5gFock: Downloading 1 format(s): 251\n",
      "[download] Destination: C:\\Users\\arwin\\Documents\\dev\\APS360-PROJECT\\data\\billboard_audio\\Carly Pearce_Next Girl\\Carly Pearce_Next Girl.webm\n",
      "[download] 100% of    3.08MiB in 00:00:00 at 3.72MiB/s     \n",
      "[download] Finished downloading playlist: Carly Pearce Next Girl\n",
      "[generic] Extracting URL: T-Pain & Kehlani I Like Dat\n",
      "[youtube:search] Extracting URL: ytsearch:T-Pain & Kehlani I Like Dat\n",
      "[download] Downloading playlist: T-Pain & Kehlani I Like Dat\n",
      "[youtube:search] query \"T-Pain & Kehlani I Like Dat\": Downloading web client config\n",
      "[youtube:search] query \"T-Pain & Kehlani I Like Dat\" page 1: Downloading API JSON\n",
      "[youtube:search] Playlist T-Pain & Kehlani I Like Dat: Downloading 1 items of 1\n",
      "[download] Downloading item 1 of 1\n",
      "[youtube] Extracting URL: https://www.youtube.com/watch?v=UJtjoQ5TcVI\n",
      "[youtube] UJtjoQ5TcVI: Downloading webpage\n",
      "[youtube] UJtjoQ5TcVI: Downloading ios player API JSON\n",
      "[youtube] UJtjoQ5TcVI: Downloading android player API JSON\n",
      "[youtube] UJtjoQ5TcVI: Downloading m3u8 information\n",
      "[info] UJtjoQ5TcVI: Downloading 1 format(s): 251\n",
      "[download] Destination: C:\\Users\\arwin\\Documents\\dev\\APS360-PROJECT\\data\\billboard_audio\\T-Pain & Kehlani_I Like Dat\\T-Pain & Kehlani_I Like Dat.webm\n",
      "[download] 100% of    4.19MiB in 00:00:00 at 18.19MiB/s    \n",
      "[download] Finished downloading playlist: T-Pain & Kehlani I Like Dat\n",
      "[generic] Extracting URL: Dan + Shay Steal My Love\n",
      "[youtube:search] Extracting URL: ytsearch:Dan + Shay Steal My Love\n",
      "[download] Downloading playlist: Dan + Shay Steal My Love\n",
      "[youtube:search] query \"Dan + Shay Steal My Love\": Downloading web client config\n",
      "[youtube:search] query \"Dan + Shay Steal My Love\" page 1: Downloading API JSON\n",
      "[youtube:search] Playlist Dan + Shay Steal My Love: Downloading 1 items of 1\n",
      "[download] Downloading item 1 of 1\n",
      "[youtube] Extracting URL: https://www.youtube.com/watch?v=g1hTcbs5ejM\n",
      "[youtube] g1hTcbs5ejM: Downloading webpage\n",
      "[youtube] g1hTcbs5ejM: Downloading ios player API JSON\n",
      "[youtube] g1hTcbs5ejM: Downloading android player API JSON\n"
     ]
    },
    {
     "name": "stderr",
     "output_type": "stream",
     "text": [
      "WARNING: [youtube] YouTube said: ERROR - Precondition check failed.\n",
      "WARNING: [youtube] HTTP Error 400: Bad Request. Retrying (1/3)...\n"
     ]
    },
    {
     "name": "stdout",
     "output_type": "stream",
     "text": [
      "[youtube] g1hTcbs5ejM: Downloading android player API JSON\n"
     ]
    },
    {
     "name": "stderr",
     "output_type": "stream",
     "text": [
      "WARNING: [youtube] YouTube said: ERROR - Precondition check failed.\n",
      "WARNING: [youtube] HTTP Error 400: Bad Request. Retrying (2/3)...\n"
     ]
    },
    {
     "name": "stdout",
     "output_type": "stream",
     "text": [
      "[youtube] g1hTcbs5ejM: Downloading android player API JSON\n",
      "[youtube] g1hTcbs5ejM: Downloading m3u8 information\n",
      "[info] g1hTcbs5ejM: Downloading 1 format(s): 251\n",
      "[download] Destination: C:\\Users\\arwin\\Documents\\dev\\APS360-PROJECT\\data\\billboard_audio\\Dan + Shay_Steal My Love\\Dan + Shay_Steal My Love.webm\n",
      "[download] 100% of    3.59MiB in 00:00:00 at 14.36MiB/s    \n",
      "[download] Finished downloading playlist: Dan + Shay Steal My Love\n",
      "[generic] Extracting URL: EST Gee Featuring Lil Baby, 42 Dugg & Rylo Rodriguez 5500 Degrees\n",
      "[youtube:search] Extracting URL: ytsearch:EST Gee Featuring Lil Baby, 42 Dugg & Rylo Rodriguez 5500 Degrees\n",
      "[download] Downloading playlist: EST Gee Featuring Lil Baby, 42 Dugg & Rylo Rodriguez 5500 Degrees\n",
      "[youtube:search] query \"EST Gee Featuring Lil Baby, 42 Dugg & Rylo Rodriguez 5500 Degrees\": Downloading web client config\n",
      "[youtube:search] query \"EST Gee Featuring Lil Baby, 42 Dugg & Rylo Rodriguez 5500 Degrees\" page 1: Downloading API JSON\n",
      "[youtube:search] Playlist EST Gee Featuring Lil Baby, 42 Dugg & Rylo Rodriguez 5500 Degrees: Downloading 1 items of 1\n",
      "[download] Downloading item 1 of 1\n",
      "[youtube] Extracting URL: https://www.youtube.com/watch?v=IWm4c9u0O8c\n",
      "[youtube] IWm4c9u0O8c: Downloading webpage\n",
      "[youtube] IWm4c9u0O8c: Downloading ios player API JSON\n",
      "[youtube] IWm4c9u0O8c: Downloading android player API JSON\n",
      "[youtube] IWm4c9u0O8c: Downloading m3u8 information\n",
      "[info] IWm4c9u0O8c: Downloading 1 format(s): 251\n",
      "[download] Destination: C:\\Users\\arwin\\Documents\\dev\\APS360-PROJECT\\data\\billboard_audio\\EST Gee Featuring Lil Baby, 42 Dugg & Rylo Rodriguez_5500 Degrees\\EST Gee Featuring Lil Baby, 42 Dugg & Rylo Rodriguez_5500 Degrees.webm\n",
      "[download] 100% of    2.97MiB in 00:00:00 at 17.41MiB/s    \n",
      "[download] Finished downloading playlist: EST Gee Featuring Lil Baby, 42 Dugg & Rylo Rodriguez 5500 Degrees\n",
      "[generic] Extracting URL: Kali Uchis Telepatia\n",
      "[youtube:search] Extracting URL: ytsearch:Kali Uchis Telepatia\n",
      "[download] Downloading playlist: Kali Uchis Telepatia\n",
      "[youtube:search] query \"Kali Uchis Telepatia\": Downloading web client config\n",
      "[youtube:search] query \"Kali Uchis Telepatia\" page 1: Downloading API JSON\n",
      "[youtube:search] Playlist Kali Uchis Telepatia: Downloading 1 items of 1\n",
      "[download] Downloading item 1 of 1\n",
      "[youtube] Extracting URL: https://www.youtube.com/watch?v=bn_p95HbHoQ\n",
      "[youtube] bn_p95HbHoQ: Downloading webpage\n",
      "[youtube] bn_p95HbHoQ: Downloading ios player API JSON\n",
      "[youtube] bn_p95HbHoQ: Downloading android player API JSON\n",
      "[youtube] bn_p95HbHoQ: Downloading m3u8 information\n",
      "[info] bn_p95HbHoQ: Downloading 1 format(s): 251\n",
      "[download] Destination: C:\\Users\\arwin\\Documents\\dev\\APS360-PROJECT\\data\\billboard_audio\\Kali Uchis_Telepatia\\Kali Uchis_Telepatia.webm\n",
      "[download] 100% of    2.72MiB in 00:00:00 at 12.65MiB/s  \n",
      "[download] Finished downloading playlist: Kali Uchis Telepatia\n",
      "[generic] Extracting URL: Machine Gun Kelly X blackbear My Ex's Best Friend\n",
      "[youtube:search] Extracting URL: ytsearch:Machine Gun Kelly X blackbear My Ex's Best Friend\n",
      "[download] Downloading playlist: Machine Gun Kelly X blackbear My Ex's Best Friend\n",
      "[youtube:search] query \"Machine Gun Kelly X blackbear My Ex's Best Friend\": Downloading web client config\n",
      "[youtube:search] query \"Machine Gun Kelly X blackbear My Ex's Best Friend\" page 1: Downloading API JSON\n",
      "[youtube:search] Playlist Machine Gun Kelly X blackbear My Ex's Best Friend: Downloading 1 items of 1\n",
      "[download] Downloading item 1 of 1\n",
      "[youtube] Extracting URL: https://www.youtube.com/watch?v=J_n01uvyhI8\n",
      "[youtube] J_n01uvyhI8: Downloading webpage\n",
      "[youtube] J_n01uvyhI8: Downloading ios player API JSON\n",
      "[youtube] J_n01uvyhI8: Downloading android player API JSON\n",
      "[youtube] J_n01uvyhI8: Downloading m3u8 information\n",
      "[info] J_n01uvyhI8: Downloading 1 format(s): 251\n",
      "[download] Destination: C:\\Users\\arwin\\Documents\\dev\\APS360-PROJECT\\data\\billboard_audio\\Machine Gun Kelly X blackbear_My Ex's Best Friend\\Machine Gun Kelly X blackbear_My Ex's Best Friend.webm\n",
      "[download] 100% of    2.46MiB in 00:00:00 at 17.13MiB/s  \n",
      "[download] Finished downloading playlist: Machine Gun Kelly X blackbear My Ex's Best Friend\n",
      "[generic] Extracting URL: Billie Eilish NDA\n",
      "[youtube:search] Extracting URL: ytsearch:Billie Eilish NDA\n",
      "[download] Downloading playlist: Billie Eilish NDA\n",
      "[youtube:search] query \"Billie Eilish NDA\": Downloading web client config\n",
      "[youtube:search] query \"Billie Eilish NDA\" page 1: Downloading API JSON\n",
      "[youtube:search] Playlist Billie Eilish NDA: Downloading 1 items of 1\n",
      "[download] Downloading item 1 of 1\n",
      "[youtube] Extracting URL: https://www.youtube.com/watch?v=OORBa32WFcM\n",
      "[youtube] OORBa32WFcM: Downloading webpage\n",
      "[youtube] OORBa32WFcM: Downloading ios player API JSON\n",
      "[youtube] OORBa32WFcM: Downloading android player API JSON\n",
      "[youtube] OORBa32WFcM: Downloading m3u8 information\n",
      "[info] OORBa32WFcM: Downloading 1 format(s): 251\n",
      "[download] Destination: C:\\Users\\arwin\\Documents\\dev\\APS360-PROJECT\\data\\billboard_audio\\Billie Eilish_NDA\\Billie Eilish_NDA.webm\n",
      "[download] 100% of    3.20MiB in 00:00:00 at 15.81MiB/s  \n",
      "[download] Finished downloading playlist: Billie Eilish NDA\n",
      "[generic] Extracting URL: Nas Featuring Eminem & EPMD EPMD 2\n",
      "[youtube:search] Extracting URL: ytsearch:Nas Featuring Eminem & EPMD EPMD 2\n",
      "[download] Downloading playlist: Nas Featuring Eminem & EPMD EPMD 2\n",
      "[youtube:search] query \"Nas Featuring Eminem & EPMD EPMD 2\": Downloading web client config\n",
      "[youtube:search] query \"Nas Featuring Eminem & EPMD EPMD 2\" page 1: Downloading API JSON\n",
      "[youtube:search] Playlist Nas Featuring Eminem & EPMD EPMD 2: Downloading 1 items of 1\n",
      "[download] Downloading item 1 of 1\n",
      "[youtube] Extracting URL: https://www.youtube.com/watch?v=yDSCNs77l28\n",
      "[youtube] yDSCNs77l28: Downloading webpage\n",
      "[youtube] yDSCNs77l28: Downloading ios player API JSON\n",
      "[youtube] yDSCNs77l28: Downloading android player API JSON\n"
     ]
    },
    {
     "name": "stderr",
     "output_type": "stream",
     "text": [
      "WARNING: [youtube] YouTube said: ERROR - Precondition check failed.\n",
      "WARNING: [youtube] HTTP Error 400: Bad Request. Retrying (1/3)...\n"
     ]
    },
    {
     "name": "stdout",
     "output_type": "stream",
     "text": [
      "[youtube] yDSCNs77l28: Downloading android player API JSON\n",
      "[youtube] yDSCNs77l28: Downloading m3u8 information\n",
      "[info] yDSCNs77l28: Downloading 1 format(s): 251\n",
      "[download] Destination: C:\\Users\\arwin\\Documents\\dev\\APS360-PROJECT\\data\\billboard_audio\\Nas Featuring Eminem & EPMD_EPMD 2\\Nas Featuring Eminem & EPMD_EPMD 2.webm\n",
      "[download] 100% of    3.55MiB in 00:00:00 at 14.82MiB/s  \n",
      "[download] Finished downloading playlist: Nas Featuring Eminem & EPMD EPMD 2\n",
      "[generic] Extracting URL: KSI x Lil Wayne Lose\n",
      "[youtube:search] Extracting URL: ytsearch:KSI x Lil Wayne Lose\n",
      "[download] Downloading playlist: KSI x Lil Wayne Lose\n",
      "[youtube:search] query \"KSI x Lil Wayne Lose\": Downloading web client config\n",
      "[youtube:search] query \"KSI x Lil Wayne Lose\" page 1: Downloading API JSON\n",
      "[youtube:search] Playlist KSI x Lil Wayne Lose: Downloading 1 items of 1\n",
      "[download] Downloading item 1 of 1\n",
      "[youtube] Extracting URL: https://www.youtube.com/watch?v=r5inVONkOKQ\n",
      "[youtube] r5inVONkOKQ: Downloading webpage\n",
      "[youtube] r5inVONkOKQ: Downloading ios player API JSON\n",
      "[youtube] r5inVONkOKQ: Downloading android player API JSON\n"
     ]
    },
    {
     "name": "stderr",
     "output_type": "stream",
     "text": [
      "WARNING: [youtube] YouTube said: ERROR - Precondition check failed.\n",
      "WARNING: [youtube] HTTP Error 400: Bad Request. Retrying (1/3)...\n"
     ]
    },
    {
     "name": "stdout",
     "output_type": "stream",
     "text": [
      "[youtube] r5inVONkOKQ: Downloading android player API JSON\n"
     ]
    },
    {
     "name": "stderr",
     "output_type": "stream",
     "text": [
      "WARNING: [youtube] YouTube said: ERROR - Precondition check failed.\n",
      "WARNING: [youtube] HTTP Error 400: Bad Request. Retrying (2/3)...\n"
     ]
    },
    {
     "name": "stdout",
     "output_type": "stream",
     "text": [
      "[youtube] r5inVONkOKQ: Downloading android player API JSON\n",
      "[youtube] r5inVONkOKQ: Downloading m3u8 information\n",
      "[info] r5inVONkOKQ: Downloading 1 format(s): 251\n",
      "[download] Destination: C:\\Users\\arwin\\Documents\\dev\\APS360-PROJECT\\data\\billboard_audio\\KSI x Lil Wayne_Lose\\KSI x Lil Wayne_Lose.webm\n",
      "[download] 100% of    3.80MiB in 00:00:00 at 5.36MiB/s     \n",
      "[download] Finished downloading playlist: KSI x Lil Wayne Lose\n",
      "[generic] Extracting URL: Nessa Barrett I Hope Ur Miserable Until Ur Dead\n",
      "[youtube:search] Extracting URL: ytsearch:Nessa Barrett I Hope Ur Miserable Until Ur Dead\n",
      "[download] Downloading playlist: Nessa Barrett I Hope Ur Miserable Until Ur Dead\n",
      "[youtube:search] query \"Nessa Barrett I Hope Ur Miserable Until Ur Dead\": Downloading web client config\n",
      "[youtube:search] query \"Nessa Barrett I Hope Ur Miserable Until Ur Dead\" page 1: Downloading API JSON\n",
      "[youtube:search] Playlist Nessa Barrett I Hope Ur Miserable Until Ur Dead: Downloading 1 items of 1\n",
      "[download] Downloading item 1 of 1\n",
      "[youtube] Extracting URL: https://www.youtube.com/watch?v=FxSAI9pwocs\n",
      "[youtube] FxSAI9pwocs: Downloading webpage\n",
      "[youtube] FxSAI9pwocs: Downloading ios player API JSON\n",
      "[youtube] FxSAI9pwocs: Downloading android player API JSON\n"
     ]
    },
    {
     "name": "stderr",
     "output_type": "stream",
     "text": [
      "WARNING: [youtube] YouTube said: ERROR - Precondition check failed.\n",
      "WARNING: [youtube] HTTP Error 400: Bad Request. Retrying (1/3)...\n"
     ]
    },
    {
     "name": "stdout",
     "output_type": "stream",
     "text": [
      "[youtube] FxSAI9pwocs: Downloading android player API JSON\n"
     ]
    },
    {
     "name": "stderr",
     "output_type": "stream",
     "text": [
      "WARNING: [youtube] YouTube said: ERROR - Precondition check failed.\n",
      "WARNING: [youtube] HTTP Error 400: Bad Request. Retrying (2/3)...\n"
     ]
    },
    {
     "name": "stdout",
     "output_type": "stream",
     "text": [
      "[youtube] FxSAI9pwocs: Downloading android player API JSON\n"
     ]
    },
    {
     "name": "stderr",
     "output_type": "stream",
     "text": [
      "WARNING: [youtube] YouTube said: ERROR - Precondition check failed.\n",
      "WARNING: [youtube] HTTP Error 400: Bad Request. Retrying (3/3)...\n"
     ]
    },
    {
     "name": "stdout",
     "output_type": "stream",
     "text": [
      "[youtube] FxSAI9pwocs: Downloading android player API JSON\n",
      "[youtube] FxSAI9pwocs: Downloading m3u8 information\n",
      "[info] FxSAI9pwocs: Downloading 1 format(s): 251\n",
      "[download] Destination: C:\\Users\\arwin\\Documents\\dev\\APS360-PROJECT\\data\\billboard_audio\\Nessa Barrett_I Hope Ur Miserable Until Ur Dead\\Nessa Barrett_I Hope Ur Miserable Until Ur Dead.webm\n",
      "[download] 100% of    2.94MiB in 00:00:00 at 15.10MiB/s  \n",
      "[download] Finished downloading playlist: Nessa Barrett I Hope Ur Miserable Until Ur Dead\n",
      "[generic] Extracting URL: The Kid LAROI Featuring Polo G & Stunna Gambino Not Sober\n",
      "[youtube:search] Extracting URL: ytsearch:The Kid LAROI Featuring Polo G & Stunna Gambino Not Sober\n",
      "[download] Downloading playlist: The Kid LAROI Featuring Polo G & Stunna Gambino Not Sober\n",
      "[youtube:search] query \"The Kid LAROI Featuring Polo G & Stunna Gambino Not Sober\": Downloading web client config\n",
      "[youtube:search] query \"The Kid LAROI Featuring Polo G & Stunna Gambino Not Sober\" page 1: Downloading API JSON\n",
      "[youtube:search] Playlist The Kid LAROI Featuring Polo G & Stunna Gambino Not Sober: Downloading 1 items of 1\n",
      "[download] Downloading item 1 of 1\n",
      "[youtube] Extracting URL: https://www.youtube.com/watch?v=cFD9KnwQgQY\n",
      "[youtube] cFD9KnwQgQY: Downloading webpage\n",
      "[youtube] cFD9KnwQgQY: Downloading ios player API JSON\n",
      "[youtube] cFD9KnwQgQY: Downloading android player API JSON\n",
      "[youtube] cFD9KnwQgQY: Downloading m3u8 information\n",
      "[info] cFD9KnwQgQY: Downloading 1 format(s): 251\n",
      "[download] Destination: C:\\Users\\arwin\\Documents\\dev\\APS360-PROJECT\\data\\billboard_audio\\The Kid LAROI Featuring Polo G & Stunna Gambino_Not Sober\\The Kid LAROI Featuring Polo G & Stunna Gambino_Not Sober.webm\n",
      "[download] 100% of    3.86MiB in 00:00:00 at 19.98MiB/s    \n",
      "[download] Finished downloading playlist: The Kid LAROI Featuring Polo G & Stunna Gambino Not Sober\n",
      "[generic] Extracting URL: Olivia Rodrigo Happier\n",
      "[youtube:search] Extracting URL: ytsearch:Olivia Rodrigo Happier\n",
      "[download] Downloading playlist: Olivia Rodrigo Happier\n",
      "[youtube:search] query \"Olivia Rodrigo Happier\": Downloading web client config\n",
      "[youtube:search] query \"Olivia Rodrigo Happier\" page 1: Downloading API JSON\n",
      "[youtube:search] Playlist Olivia Rodrigo Happier: Downloading 1 items of 1\n",
      "[download] Downloading item 1 of 1\n",
      "[youtube] Extracting URL: https://www.youtube.com/watch?v=ZQFmRXgeR-s\n",
      "[youtube] ZQFmRXgeR-s: Downloading webpage\n",
      "[youtube] ZQFmRXgeR-s: Downloading ios player API JSON\n",
      "[youtube] ZQFmRXgeR-s: Downloading android player API JSON\n",
      "[youtube] ZQFmRXgeR-s: Downloading m3u8 information\n",
      "[info] ZQFmRXgeR-s: Downloading 1 format(s): 251\n",
      "[download] Destination: C:\\Users\\arwin\\Documents\\dev\\APS360-PROJECT\\data\\billboard_audio\\Olivia Rodrigo_Happier\\Olivia Rodrigo_Happier.webm\n",
      "[download] 100% of    2.83MiB in 00:00:00 at 15.29MiB/s  \n",
      "[download] Finished downloading playlist: Olivia Rodrigo Happier\n",
      "[generic] Extracting URL: City Girls Twerkulator\n",
      "[youtube:search] Extracting URL: ytsearch:City Girls Twerkulator\n",
      "[download] Downloading playlist: City Girls Twerkulator\n",
      "[youtube:search] query \"City Girls Twerkulator\": Downloading web client config\n",
      "[youtube:search] query \"City Girls Twerkulator\" page 1: Downloading API JSON\n",
      "[youtube:search] Playlist City Girls Twerkulator: Downloading 1 items of 1\n",
      "[download] Downloading item 1 of 1\n",
      "[youtube] Extracting URL: https://www.youtube.com/watch?v=62-iVogg5jA\n",
      "[youtube] 62-iVogg5jA: Downloading webpage\n",
      "[youtube] 62-iVogg5jA: Downloading ios player API JSON\n",
      "[youtube] 62-iVogg5jA: Downloading android player API JSON\n",
      "[youtube] 62-iVogg5jA: Downloading m3u8 information\n",
      "[info] 62-iVogg5jA: Downloading 1 format(s): 251\n",
      "[download] Destination: C:\\Users\\arwin\\Documents\\dev\\APS360-PROJECT\\data\\billboard_audio\\City Girls_Twerkulator\\City Girls_Twerkulator.webm\n",
      "[download] 100% of    2.80MiB in 00:00:01 at 1.98MiB/s   \n",
      "[download] Finished downloading playlist: City Girls Twerkulator\n",
      "[generic] Extracting URL: Los Legendarios, Wisin & Jhay Cortez Fiel\n",
      "[youtube:search] Extracting URL: ytsearch:Los Legendarios, Wisin & Jhay Cortez Fiel\n",
      "[download] Downloading playlist: Los Legendarios, Wisin & Jhay Cortez Fiel\n",
      "[youtube:search] query \"Los Legendarios, Wisin & Jhay Cortez Fiel\": Downloading web client config\n",
      "[youtube:search] query \"Los Legendarios, Wisin & Jhay Cortez Fiel\" page 1: Downloading API JSON\n",
      "[youtube:search] Playlist Los Legendarios, Wisin & Jhay Cortez Fiel: Downloading 1 items of 1\n",
      "[download] Downloading item 1 of 1\n",
      "[youtube] Extracting URL: https://www.youtube.com/watch?v=o1lKMrLat_I\n",
      "[youtube] o1lKMrLat_I: Downloading webpage\n",
      "[youtube] o1lKMrLat_I: Downloading ios player API JSON\n",
      "[youtube] o1lKMrLat_I: Downloading android player API JSON\n"
     ]
    },
    {
     "name": "stderr",
     "output_type": "stream",
     "text": [
      "WARNING: [youtube] YouTube said: ERROR - Precondition check failed.\n",
      "WARNING: [youtube] HTTP Error 400: Bad Request. Retrying (1/3)...\n"
     ]
    },
    {
     "name": "stdout",
     "output_type": "stream",
     "text": [
      "[youtube] o1lKMrLat_I: Downloading android player API JSON\n"
     ]
    },
    {
     "name": "stderr",
     "output_type": "stream",
     "text": [
      "WARNING: [youtube] YouTube said: ERROR - Precondition check failed.\n",
      "WARNING: [youtube] HTTP Error 400: Bad Request. Retrying (2/3)...\n"
     ]
    },
    {
     "name": "stdout",
     "output_type": "stream",
     "text": [
      "[youtube] o1lKMrLat_I: Downloading android player API JSON\n"
     ]
    },
    {
     "name": "stderr",
     "output_type": "stream",
     "text": [
      "WARNING: [youtube] YouTube said: ERROR - Precondition check failed.\n",
      "WARNING: [youtube] HTTP Error 400: Bad Request. Retrying (3/3)...\n"
     ]
    },
    {
     "name": "stdout",
     "output_type": "stream",
     "text": [
      "[youtube] o1lKMrLat_I: Downloading android player API JSON\n"
     ]
    },
    {
     "name": "stderr",
     "output_type": "stream",
     "text": [
      "WARNING: [youtube] YouTube said: ERROR - Precondition check failed.\n",
      "WARNING: [youtube] Unable to download API page: HTTP Error 400: Bad Request (caused by <HTTPError 400: Bad Request>); please report this issue on  https://github.com/yt-dlp/yt-dlp/issues?q= , filling out the appropriate issue template. Confirm you are on the latest version using  yt-dlp -U\n"
     ]
    },
    {
     "name": "stdout",
     "output_type": "stream",
     "text": [
      "[youtube] o1lKMrLat_I: Downloading m3u8 information\n",
      "[info] o1lKMrLat_I: Downloading 1 format(s): 251\n",
      "[download] Destination: C:\\Users\\arwin\\Documents\\dev\\APS360-PROJECT\\data\\billboard_audio\\Los Legendarios, Wisin & Jhay Cortez_Fiel\\Los Legendarios, Wisin & Jhay Cortez_Fiel.webm\n",
      "[download] 100% of    4.85MiB in 00:00:01 at 3.97MiB/s   \n",
      "[download] Finished downloading playlist: Los Legendarios, Wisin & Jhay Cortez Fiel\n",
      "[generic] Extracting URL: Nas Rare\n",
      "[youtube:search] Extracting URL: ytsearch:Nas Rare\n",
      "[download] Downloading playlist: Nas Rare\n",
      "[youtube:search] query \"Nas Rare\": Downloading web client config\n",
      "[youtube:search] query \"Nas Rare\" page 1: Downloading API JSON\n",
      "[youtube:search] Playlist Nas Rare: Downloading 1 items of 1\n",
      "[download] Downloading item 1 of 1\n",
      "[youtube] Extracting URL: https://www.youtube.com/watch?v=66OFYWBrg3o\n",
      "[youtube] 66OFYWBrg3o: Downloading webpage\n",
      "[youtube] 66OFYWBrg3o: Downloading ios player API JSON\n",
      "[youtube] 66OFYWBrg3o: Downloading android player API JSON\n"
     ]
    },
    {
     "name": "stderr",
     "output_type": "stream",
     "text": [
      "WARNING: [youtube] YouTube said: ERROR - Precondition check failed.\n",
      "WARNING: [youtube] HTTP Error 400: Bad Request. Retrying (1/3)...\n"
     ]
    },
    {
     "name": "stdout",
     "output_type": "stream",
     "text": [
      "[youtube] 66OFYWBrg3o: Downloading android player API JSON\n",
      "[youtube] 66OFYWBrg3o: Downloading m3u8 information\n",
      "[info] 66OFYWBrg3o: Downloading 1 format(s): 251\n",
      "[download] Destination: C:\\Users\\arwin\\Documents\\dev\\APS360-PROJECT\\data\\billboard_audio\\Nas_Rare\\Nas_Rare.webm\n",
      "[download] 100% of    4.59MiB in 00:00:00 at 7.90MiB/s   \n",
      "[download] Finished downloading playlist: Nas Rare\n",
      "[generic] Extracting URL: Saweetie Featuring Doja Cat Best Friend\n",
      "[youtube:search] Extracting URL: ytsearch:Saweetie Featuring Doja Cat Best Friend\n",
      "[download] Downloading playlist: Saweetie Featuring Doja Cat Best Friend\n",
      "[youtube:search] query \"Saweetie Featuring Doja Cat Best Friend\": Downloading web client config\n",
      "[youtube:search] query \"Saweetie Featuring Doja Cat Best Friend\" page 1: Downloading API JSON\n",
      "[youtube:search] Playlist Saweetie Featuring Doja Cat Best Friend: Downloading 1 items of 1\n",
      "[download] Downloading item 1 of 1\n",
      "[youtube] Extracting URL: https://www.youtube.com/watch?v=_xJUCsyMQes\n",
      "[youtube] _xJUCsyMQes: Downloading webpage\n",
      "[youtube] _xJUCsyMQes: Downloading ios player API JSON\n",
      "[youtube] _xJUCsyMQes: Downloading android player API JSON\n",
      "[youtube] _xJUCsyMQes: Downloading m3u8 information\n",
      "[info] _xJUCsyMQes: Downloading 1 format(s): 251\n",
      "[download] Destination: C:\\Users\\arwin\\Documents\\dev\\APS360-PROJECT\\data\\billboard_audio\\Saweetie Featuring Doja Cat_Best Friend\\Saweetie Featuring Doja Cat_Best Friend.webm\n",
      "[download] 100% of    3.23MiB in 00:00:00 at 13.62MiB/s  \n",
      "[download] Finished downloading playlist: Saweetie Featuring Doja Cat Best Friend\n",
      "[generic] Extracting URL: 24kGoldn Featuring iann dior Mood\n",
      "[youtube:search] Extracting URL: ytsearch:24kGoldn Featuring iann dior Mood\n",
      "[download] Downloading playlist: 24kGoldn Featuring iann dior Mood\n",
      "[youtube:search] query \"24kGoldn Featuring iann dior Mood\": Downloading web client config\n",
      "[youtube:search] query \"24kGoldn Featuring iann dior Mood\" page 1: Downloading API JSON\n",
      "[youtube:search] Playlist 24kGoldn Featuring iann dior Mood: Downloading 1 items of 1\n",
      "[download] Downloading item 1 of 1\n",
      "[youtube] Extracting URL: https://www.youtube.com/watch?v=GrAchTdepsU\n",
      "[youtube] GrAchTdepsU: Downloading webpage\n",
      "[youtube] GrAchTdepsU: Downloading ios player API JSON\n",
      "[youtube] GrAchTdepsU: Downloading android player API JSON\n"
     ]
    },
    {
     "name": "stderr",
     "output_type": "stream",
     "text": [
      "WARNING: [youtube] YouTube said: ERROR - Precondition check failed.\n",
      "WARNING: [youtube] HTTP Error 400: Bad Request. Retrying (1/3)...\n"
     ]
    },
    {
     "name": "stdout",
     "output_type": "stream",
     "text": [
      "[youtube] GrAchTdepsU: Downloading android player API JSON\n",
      "[youtube] GrAchTdepsU: Downloading m3u8 information\n",
      "[info] GrAchTdepsU: Downloading 1 format(s): 251\n",
      "[download] Destination: C:\\Users\\arwin\\Documents\\dev\\APS360-PROJECT\\data\\billboard_audio\\24kGoldn Featuring iann dior_Mood\\24kGoldn Featuring iann dior_Mood.webm\n",
      "[download] 100% of    2.42MiB in 00:00:00 at 15.12MiB/s    \n",
      "[download] Finished downloading playlist: 24kGoldn Featuring iann dior Mood\n",
      "[generic] Extracting URL: Keith Urban Duet With P!nk One Too Many\n",
      "[youtube:search] Extracting URL: ytsearch:Keith Urban Duet With P!nk One Too Many\n",
      "[download] Downloading playlist: Keith Urban Duet With P!nk One Too Many\n",
      "[youtube:search] query \"Keith Urban Duet With P!nk One Too Many\": Downloading web client config\n",
      "[youtube:search] query \"Keith Urban Duet With P!nk One Too Many\" page 1: Downloading API JSON\n",
      "[youtube:search] Playlist Keith Urban Duet With P!nk One Too Many: Downloading 1 items of 1\n",
      "[download] Downloading item 1 of 1\n",
      "[youtube] Extracting URL: https://www.youtube.com/watch?v=cy1rAn9MLtQ\n",
      "[youtube] cy1rAn9MLtQ: Downloading webpage\n",
      "[youtube] cy1rAn9MLtQ: Downloading ios player API JSON\n",
      "[youtube] cy1rAn9MLtQ: Downloading android player API JSON\n"
     ]
    },
    {
     "name": "stderr",
     "output_type": "stream",
     "text": [
      "WARNING: [youtube] YouTube said: ERROR - Precondition check failed.\n",
      "WARNING: [youtube] HTTP Error 400: Bad Request. Retrying (1/3)...\n"
     ]
    },
    {
     "name": "stdout",
     "output_type": "stream",
     "text": [
      "[youtube] cy1rAn9MLtQ: Downloading android player API JSON\n"
     ]
    },
    {
     "name": "stderr",
     "output_type": "stream",
     "text": [
      "WARNING: [youtube] YouTube said: ERROR - Precondition check failed.\n",
      "WARNING: [youtube] HTTP Error 400: Bad Request. Retrying (2/3)...\n"
     ]
    },
    {
     "name": "stdout",
     "output_type": "stream",
     "text": [
      "[youtube] cy1rAn9MLtQ: Downloading android player API JSON\n"
     ]
    },
    {
     "name": "stderr",
     "output_type": "stream",
     "text": [
      "WARNING: [youtube] YouTube said: ERROR - Precondition check failed.\n",
      "WARNING: [youtube] HTTP Error 400: Bad Request. Retrying (3/3)...\n"
     ]
    },
    {
     "name": "stdout",
     "output_type": "stream",
     "text": [
      "[youtube] cy1rAn9MLtQ: Downloading android player API JSON\n"
     ]
    },
    {
     "name": "stderr",
     "output_type": "stream",
     "text": [
      "WARNING: [youtube] YouTube said: ERROR - Precondition check failed.\n",
      "WARNING: [youtube] Unable to download API page: HTTP Error 400: Bad Request (caused by <HTTPError 400: Bad Request>); please report this issue on  https://github.com/yt-dlp/yt-dlp/issues?q= , filling out the appropriate issue template. Confirm you are on the latest version using  yt-dlp -U\n"
     ]
    },
    {
     "name": "stdout",
     "output_type": "stream",
     "text": [
      "[youtube] cy1rAn9MLtQ: Downloading m3u8 information\n",
      "[info] cy1rAn9MLtQ: Downloading 1 format(s): 251\n",
      "[download] Destination: C:\\Users\\arwin\\Documents\\dev\\APS360-PROJECT\\data\\billboard_audio\\Keith Urban Duet With P!nk_One Too Many\\Keith Urban Duet With P!nk_One Too Many.webm\n",
      "[download] 100% of    3.26MiB in 00:00:00 at 12.64MiB/s  \n",
      "[download] Finished downloading playlist: Keith Urban Duet With P!nk One Too Many\n",
      "[generic] Extracting URL: Billie Eilish Getting Older\n",
      "[youtube:search] Extracting URL: ytsearch:Billie Eilish Getting Older\n",
      "[download] Downloading playlist: Billie Eilish Getting Older\n",
      "[youtube:search] query \"Billie Eilish Getting Older\": Downloading web client config\n",
      "[youtube:search] query \"Billie Eilish Getting Older\" page 1: Downloading API JSON\n",
      "[youtube:search] Playlist Billie Eilish Getting Older: Downloading 1 items of 1\n",
      "[download] Downloading item 1 of 1\n",
      "[youtube] Extracting URL: https://www.youtube.com/watch?v=7AS9r_E0PY4\n",
      "[youtube] 7AS9r_E0PY4: Downloading webpage\n",
      "[youtube] 7AS9r_E0PY4: Downloading ios player API JSON\n",
      "[youtube] 7AS9r_E0PY4: Downloading android player API JSON\n"
     ]
    },
    {
     "name": "stderr",
     "output_type": "stream",
     "text": [
      "WARNING: [youtube] YouTube said: ERROR - Precondition check failed.\n",
      "WARNING: [youtube] HTTP Error 400: Bad Request. Retrying (1/3)...\n"
     ]
    },
    {
     "name": "stdout",
     "output_type": "stream",
     "text": [
      "[youtube] 7AS9r_E0PY4: Downloading android player API JSON\n",
      "[youtube] 7AS9r_E0PY4: Downloading m3u8 information\n",
      "[info] 7AS9r_E0PY4: Downloading 1 format(s): 251\n",
      "[download] Destination: C:\\Users\\arwin\\Documents\\dev\\APS360-PROJECT\\data\\billboard_audio\\Billie Eilish_Getting Older\\Billie Eilish_Getting Older.webm\n",
      "[download] 100% of    3.57MiB in 00:00:00 at 19.94MiB/s  \n",
      "[download] Finished downloading playlist: Billie Eilish Getting Older\n",
      "[generic] Extracting URL: Billie Eilish Billie Bossa Nova\n",
      "[youtube:search] Extracting URL: ytsearch:Billie Eilish Billie Bossa Nova\n",
      "[download] Downloading playlist: Billie Eilish Billie Bossa Nova\n",
      "[youtube:search] query \"Billie Eilish Billie Bossa Nova\": Downloading web client config\n",
      "[youtube:search] query \"Billie Eilish Billie Bossa Nova\" page 1: Downloading API JSON\n",
      "[youtube:search] Playlist Billie Eilish Billie Bossa Nova: Downloading 1 items of 1\n",
      "[download] Downloading item 1 of 1\n",
      "[youtube] Extracting URL: https://www.youtube.com/watch?v=4tZ969oc-yI\n",
      "[youtube] 4tZ969oc-yI: Downloading webpage\n",
      "[youtube] 4tZ969oc-yI: Downloading ios player API JSON\n",
      "[youtube] 4tZ969oc-yI: Downloading android player API JSON\n"
     ]
    },
    {
     "name": "stderr",
     "output_type": "stream",
     "text": [
      "WARNING: [youtube] YouTube said: ERROR - Precondition check failed.\n",
      "WARNING: [youtube] HTTP Error 400: Bad Request. Retrying (1/3)...\n"
     ]
    },
    {
     "name": "stdout",
     "output_type": "stream",
     "text": [
      "[youtube] 4tZ969oc-yI: Downloading android player API JSON\n",
      "[youtube] 4tZ969oc-yI: Downloading m3u8 information\n",
      "[info] 4tZ969oc-yI: Downloading 1 format(s): 251\n",
      "[download] Destination: C:\\Users\\arwin\\Documents\\dev\\APS360-PROJECT\\data\\billboard_audio\\Billie Eilish_Billie Bossa Nova\\Billie Eilish_Billie Bossa Nova.webm\n",
      "[download] 100% of    3.49MiB in 00:00:00 at 16.11MiB/s    \n",
      "[download] Finished downloading playlist: Billie Eilish Billie Bossa Nova\n",
      "[generic] Extracting URL: Billie Eilish Oxytocin\n",
      "[youtube:search] Extracting URL: ytsearch:Billie Eilish Oxytocin\n",
      "[download] Downloading playlist: Billie Eilish Oxytocin\n",
      "[youtube:search] query \"Billie Eilish Oxytocin\": Downloading web client config\n",
      "[youtube:search] query \"Billie Eilish Oxytocin\" page 1: Downloading API JSON\n",
      "[youtube:search] Playlist Billie Eilish Oxytocin: Downloading 1 items of 1\n",
      "[download] Downloading item 1 of 1\n",
      "[youtube] Extracting URL: https://www.youtube.com/watch?v=Fcd8UbutjIg\n",
      "[youtube] Fcd8UbutjIg: Downloading webpage\n",
      "[youtube] Fcd8UbutjIg: Downloading ios player API JSON\n",
      "[youtube] Fcd8UbutjIg: Downloading android player API JSON\n"
     ]
    },
    {
     "name": "stderr",
     "output_type": "stream",
     "text": [
      "WARNING: [youtube] YouTube said: ERROR - Precondition check failed.\n",
      "WARNING: [youtube] HTTP Error 400: Bad Request. Retrying (1/3)...\n"
     ]
    },
    {
     "name": "stdout",
     "output_type": "stream",
     "text": [
      "[youtube] Fcd8UbutjIg: Downloading android player API JSON\n",
      "[youtube] Fcd8UbutjIg: Downloading m3u8 information\n",
      "[info] Fcd8UbutjIg: Downloading 1 format(s): 251\n",
      "[download] Destination: C:\\Users\\arwin\\Documents\\dev\\APS360-PROJECT\\data\\billboard_audio\\Billie Eilish_Oxytocin\\Billie Eilish_Oxytocin.webm\n",
      "[download] 100% of    3.36MiB in 00:00:00 at 12.16MiB/s  \n",
      "[download] Finished downloading playlist: Billie Eilish Oxytocin\n",
      "[generic] Extracting URL: Billie Eilish I Didn't Change My Number\n",
      "[youtube:search] Extracting URL: ytsearch:Billie Eilish I Didn't Change My Number\n",
      "[download] Downloading playlist: Billie Eilish I Didn't Change My Number\n",
      "[youtube:search] query \"Billie Eilish I Didn't Change My Number\": Downloading web client config\n",
      "[youtube:search] query \"Billie Eilish I Didn't Change My Number\" page 1: Downloading API JSON\n",
      "[youtube:search] Playlist Billie Eilish I Didn't Change My Number: Downloading 1 items of 1\n",
      "[download] Downloading item 1 of 1\n",
      "[youtube] Extracting URL: https://www.youtube.com/watch?v=FP-IopSHomc\n",
      "[youtube] FP-IopSHomc: Downloading webpage\n",
      "[youtube] FP-IopSHomc: Downloading ios player API JSON\n",
      "[youtube] FP-IopSHomc: Downloading android player API JSON\n"
     ]
    },
    {
     "name": "stderr",
     "output_type": "stream",
     "text": [
      "WARNING: [youtube] YouTube said: ERROR - Precondition check failed.\n",
      "WARNING: [youtube] HTTP Error 400: Bad Request. Retrying (1/3)...\n"
     ]
    },
    {
     "name": "stdout",
     "output_type": "stream",
     "text": [
      "[youtube] FP-IopSHomc: Downloading android player API JSON\n"
     ]
    },
    {
     "name": "stderr",
     "output_type": "stream",
     "text": [
      "WARNING: [youtube] YouTube said: ERROR - Precondition check failed.\n",
      "WARNING: [youtube] HTTP Error 400: Bad Request. Retrying (2/3)...\n"
     ]
    },
    {
     "name": "stdout",
     "output_type": "stream",
     "text": [
      "[youtube] FP-IopSHomc: Downloading android player API JSON\n",
      "[youtube] FP-IopSHomc: Downloading m3u8 information\n",
      "[info] FP-IopSHomc: Downloading 1 format(s): 251\n",
      "[download] Destination: C:\\Users\\arwin\\Documents\\dev\\APS360-PROJECT\\data\\billboard_audio\\Billie Eilish_I Didn't Change My Number\\Billie Eilish_I Didn't Change My Number.webm\n",
      "[download] 100% of    2.47MiB in 00:00:00 at 8.46MiB/s   \n",
      "[download] Finished downloading playlist: Billie Eilish I Didn't Change My Number\n",
      "[generic] Extracting URL: AJR Way Less Sad\n",
      "[youtube:search] Extracting URL: ytsearch:AJR Way Less Sad\n",
      "[download] Downloading playlist: AJR Way Less Sad\n",
      "[youtube:search] query \"AJR Way Less Sad\": Downloading web client config\n",
      "[youtube:search] query \"AJR Way Less Sad\" page 1: Downloading API JSON\n",
      "[youtube:search] Playlist AJR Way Less Sad: Downloading 1 items of 1\n",
      "[download] Downloading item 1 of 1\n",
      "[youtube] Extracting URL: https://www.youtube.com/watch?v=VlVhUbGa2pg\n",
      "[youtube] VlVhUbGa2pg: Downloading webpage\n",
      "[youtube] VlVhUbGa2pg: Downloading ios player API JSON\n",
      "[youtube] VlVhUbGa2pg: Downloading android player API JSON\n",
      "[youtube] VlVhUbGa2pg: Downloading m3u8 information\n",
      "[info] VlVhUbGa2pg: Downloading 1 format(s): 251\n",
      "[download] Destination: C:\\Users\\arwin\\Documents\\dev\\APS360-PROJECT\\data\\billboard_audio\\AJR_Way Less Sad\\AJR_Way Less Sad.webm\n",
      "[download] 100% of    3.35MiB in 00:00:00 at 20.89MiB/s    \n",
      "[download] Finished downloading playlist: AJR Way Less Sad\n",
      "[generic] Extracting URL: Billie Eilish Lost Cause\n",
      "[youtube:search] Extracting URL: ytsearch:Billie Eilish Lost Cause\n",
      "[download] Downloading playlist: Billie Eilish Lost Cause\n",
      "[youtube:search] query \"Billie Eilish Lost Cause\": Downloading web client config\n",
      "[youtube:search] query \"Billie Eilish Lost Cause\" page 1: Downloading API JSON\n",
      "[youtube:search] Playlist Billie Eilish Lost Cause: Downloading 1 items of 1\n",
      "[download] Downloading item 1 of 1\n",
      "[youtube] Extracting URL: https://www.youtube.com/watch?v=S2dRcipMCpw\n",
      "[youtube] S2dRcipMCpw: Downloading webpage\n",
      "[youtube] S2dRcipMCpw: Downloading ios player API JSON\n",
      "[youtube] S2dRcipMCpw: Downloading android player API JSON\n"
     ]
    },
    {
     "name": "stderr",
     "output_type": "stream",
     "text": [
      "WARNING: [youtube] YouTube said: ERROR - Precondition check failed.\n",
      "WARNING: [youtube] HTTP Error 400: Bad Request. Retrying (1/3)...\n"
     ]
    },
    {
     "name": "stdout",
     "output_type": "stream",
     "text": [
      "[youtube] S2dRcipMCpw: Downloading android player API JSON\n"
     ]
    },
    {
     "name": "stderr",
     "output_type": "stream",
     "text": [
      "WARNING: [youtube] YouTube said: ERROR - Precondition check failed.\n",
      "WARNING: [youtube] HTTP Error 400: Bad Request. Retrying (2/3)...\n"
     ]
    },
    {
     "name": "stdout",
     "output_type": "stream",
     "text": [
      "[youtube] S2dRcipMCpw: Downloading android player API JSON\n"
     ]
    },
    {
     "name": "stderr",
     "output_type": "stream",
     "text": [
      "WARNING: [youtube] YouTube said: ERROR - Precondition check failed.\n",
      "WARNING: [youtube] HTTP Error 400: Bad Request. Retrying (3/3)...\n"
     ]
    },
    {
     "name": "stdout",
     "output_type": "stream",
     "text": [
      "[youtube] S2dRcipMCpw: Downloading android player API JSON\n"
     ]
    },
    {
     "name": "stderr",
     "output_type": "stream",
     "text": [
      "WARNING: [youtube] YouTube said: ERROR - Precondition check failed.\n",
      "WARNING: [youtube] Unable to download API page: HTTP Error 400: Bad Request (caused by <HTTPError 400: Bad Request>); please report this issue on  https://github.com/yt-dlp/yt-dlp/issues?q= , filling out the appropriate issue template. Confirm you are on the latest version using  yt-dlp -U\n"
     ]
    },
    {
     "name": "stdout",
     "output_type": "stream",
     "text": [
      "[youtube] S2dRcipMCpw: Downloading m3u8 information\n",
      "[info] S2dRcipMCpw: Downloading 1 format(s): 251\n",
      "[download] Destination: C:\\Users\\arwin\\Documents\\dev\\APS360-PROJECT\\data\\billboard_audio\\Billie Eilish_Lost Cause\\Billie Eilish_Lost Cause.webm\n",
      "[download] 100% of    3.24MiB in 00:00:00 at 12.53MiB/s  \n",
      "[download] Finished downloading playlist: Billie Eilish Lost Cause\n",
      "[generic] Extracting URL: Billie Eilish Halley's Comet\n",
      "[youtube:search] Extracting URL: ytsearch:Billie Eilish Halley's Comet\n",
      "[download] Downloading playlist: Billie Eilish Halley's Comet\n",
      "[youtube:search] query \"Billie Eilish Halley's Comet\": Downloading web client config\n",
      "[youtube:search] query \"Billie Eilish Halley's Comet\" page 1: Downloading API JSON\n",
      "[youtube:search] Playlist Billie Eilish Halley's Comet: Downloading 1 items of 1\n",
      "[download] Downloading item 1 of 1\n",
      "[youtube] Extracting URL: https://www.youtube.com/watch?v=geUYm3f6ZA4\n",
      "[youtube] geUYm3f6ZA4: Downloading webpage\n",
      "[youtube] geUYm3f6ZA4: Downloading ios player API JSON\n",
      "[youtube] geUYm3f6ZA4: Downloading android player API JSON\n",
      "[youtube] geUYm3f6ZA4: Downloading m3u8 information\n",
      "[info] geUYm3f6ZA4: Downloading 1 format(s): 251\n",
      "[download] Destination: C:\\Users\\arwin\\Documents\\dev\\APS360-PROJECT\\data\\billboard_audio\\Billie Eilish_Halley's Comet\\Billie Eilish_Halley's Comet.webm\n",
      "[download] 100% of    3.57MiB in 00:00:00 at 19.33MiB/s    \n",
      "[download] Finished downloading playlist: Billie Eilish Halley's Comet\n",
      "[generic] Extracting URL: Billie Eilish My Future\n",
      "[youtube:search] Extracting URL: ytsearch:Billie Eilish My Future\n",
      "[download] Downloading playlist: Billie Eilish My Future\n",
      "[youtube:search] query \"Billie Eilish My Future\": Downloading web client config\n",
      "[youtube:search] query \"Billie Eilish My Future\" page 1: Downloading API JSON\n",
      "[youtube:search] Playlist Billie Eilish My Future: Downloading 1 items of 1\n",
      "[download] Downloading item 1 of 1\n",
      "[youtube] Extracting URL: https://www.youtube.com/watch?v=Dm9Zf1WYQ_A\n",
      "[youtube] Dm9Zf1WYQ_A: Downloading webpage\n",
      "[youtube] Dm9Zf1WYQ_A: Downloading ios player API JSON\n",
      "[youtube] Dm9Zf1WYQ_A: Downloading android player API JSON\n",
      "[youtube] Dm9Zf1WYQ_A: Downloading m3u8 information\n",
      "[info] Dm9Zf1WYQ_A: Downloading 1 format(s): 251\n",
      "[download] Destination: C:\\Users\\arwin\\Documents\\dev\\APS360-PROJECT\\data\\billboard_audio\\Billie Eilish_My Future\\Billie Eilish_My Future.webm\n",
      "[download] 100% of    3.28MiB in 00:00:00 at 15.89MiB/s    \n",
      "[download] Finished downloading playlist: Billie Eilish My Future\n",
      "[generic] Extracting URL: Bella Poarch Build A Bitch\n",
      "[youtube:search] Extracting URL: ytsearch:Bella Poarch Build A Bitch\n",
      "[download] Downloading playlist: Bella Poarch Build A Bitch\n",
      "[youtube:search] query \"Bella Poarch Build A Bitch\": Downloading web client config\n",
      "[youtube:search] query \"Bella Poarch Build A Bitch\" page 1: Downloading API JSON\n",
      "[youtube:search] Playlist Bella Poarch Build A Bitch: Downloading 1 items of 1\n",
      "[download] Downloading item 1 of 1\n",
      "[youtube] Extracting URL: https://www.youtube.com/watch?v=FLGCGc7sAUw\n",
      "[youtube] FLGCGc7sAUw: Downloading webpage\n",
      "[youtube] FLGCGc7sAUw: Downloading ios player API JSON\n",
      "[youtube] FLGCGc7sAUw: Downloading android player API JSON\n"
     ]
    },
    {
     "name": "stderr",
     "output_type": "stream",
     "text": [
      "WARNING: [youtube] YouTube said: ERROR - Precondition check failed.\n",
      "WARNING: [youtube] HTTP Error 400: Bad Request. Retrying (1/3)...\n"
     ]
    },
    {
     "name": "stdout",
     "output_type": "stream",
     "text": [
      "[youtube] FLGCGc7sAUw: Downloading android player API JSON\n"
     ]
    },
    {
     "name": "stderr",
     "output_type": "stream",
     "text": [
      "WARNING: [youtube] YouTube said: ERROR - Precondition check failed.\n",
      "WARNING: [youtube] HTTP Error 400: Bad Request. Retrying (2/3)...\n"
     ]
    },
    {
     "name": "stdout",
     "output_type": "stream",
     "text": [
      "[youtube] FLGCGc7sAUw: Downloading android player API JSON\n"
     ]
    },
    {
     "name": "stderr",
     "output_type": "stream",
     "text": [
      "WARNING: [youtube] YouTube said: ERROR - Precondition check failed.\n",
      "WARNING: [youtube] HTTP Error 400: Bad Request. Retrying (3/3)...\n"
     ]
    },
    {
     "name": "stdout",
     "output_type": "stream",
     "text": [
      "[youtube] FLGCGc7sAUw: Downloading android player API JSON\n",
      "[youtube] FLGCGc7sAUw: Downloading m3u8 information\n",
      "[info] FLGCGc7sAUw: Downloading 1 format(s): 251\n",
      "[download] Destination: C:\\Users\\arwin\\Documents\\dev\\APS360-PROJECT\\data\\billboard_audio\\Bella Poarch_Build A Bitch\\Bella Poarch_Build A Bitch.webm\n",
      "[download] 100% of    2.66MiB in 00:00:00 at 18.78MiB/s  \n",
      "[download] Finished downloading playlist: Bella Poarch Build A Bitch\n",
      "[generic] Extracting URL: Isaiah Rashad Featuring Lil Uzi Vert From The Garden\n",
      "[youtube:search] Extracting URL: ytsearch:Isaiah Rashad Featuring Lil Uzi Vert From The Garden\n",
      "[download] Downloading playlist: Isaiah Rashad Featuring Lil Uzi Vert From The Garden\n",
      "[youtube:search] query \"Isaiah Rashad Featuring Lil Uzi Vert From The Garden\": Downloading web client config\n",
      "[youtube:search] query \"Isaiah Rashad Featuring Lil Uzi Vert From The Garden\" page 1: Downloading API JSON\n",
      "[youtube:search] Playlist Isaiah Rashad Featuring Lil Uzi Vert From The Garden: Downloading 1 items of 1\n",
      "[download] Downloading item 1 of 1\n",
      "[youtube] Extracting URL: https://www.youtube.com/watch?v=OG8LjpKAXt8\n",
      "[youtube] OG8LjpKAXt8: Downloading webpage\n",
      "[youtube] OG8LjpKAXt8: Downloading ios player API JSON\n",
      "[youtube] OG8LjpKAXt8: Downloading android player API JSON\n",
      "[youtube] OG8LjpKAXt8: Downloading m3u8 information\n",
      "[info] OG8LjpKAXt8: Downloading 1 format(s): 251\n",
      "[download] Destination: C:\\Users\\arwin\\Documents\\dev\\APS360-PROJECT\\data\\billboard_audio\\Isaiah Rashad Featuring Lil Uzi Vert_From The Garden\\Isaiah Rashad Featuring Lil Uzi Vert_From The Garden.webm\n",
      "[download] 100% of    3.14MiB in 00:00:00 at 15.29MiB/s    \n",
      "[download] Finished downloading playlist: Isaiah Rashad Featuring Lil Uzi Vert From The Garden\n",
      "[generic] Extracting URL: Tate McRae X Khalid Working\n",
      "[youtube:search] Extracting URL: ytsearch:Tate McRae X Khalid Working\n",
      "[download] Downloading playlist: Tate McRae X Khalid Working\n",
      "[youtube:search] query \"Tate McRae X Khalid Working\": Downloading web client config\n",
      "[youtube:search] query \"Tate McRae X Khalid Working\" page 1: Downloading API JSON\n",
      "[youtube:search] Playlist Tate McRae X Khalid Working: Downloading 1 items of 1\n",
      "[download] Downloading item 1 of 1\n",
      "[youtube] Extracting URL: https://www.youtube.com/watch?v=9pfPGVfMH74\n",
      "[youtube] 9pfPGVfMH74: Downloading webpage\n",
      "[youtube] 9pfPGVfMH74: Downloading ios player API JSON\n",
      "[youtube] 9pfPGVfMH74: Downloading android player API JSON\n",
      "[youtube] 9pfPGVfMH74: Downloading m3u8 information\n",
      "[info] 9pfPGVfMH74: Downloading 1 format(s): 251\n",
      "[download] Destination: C:\\Users\\arwin\\Documents\\dev\\APS360-PROJECT\\data\\billboard_audio\\Tate McRae X Khalid_Working\\Tate McRae X Khalid_Working.webm\n",
      "[download] 100% of    3.40MiB in 00:00:00 at 7.31MiB/s     \n",
      "[download] Finished downloading playlist: Tate McRae X Khalid Working\n",
      "[generic] Extracting URL: Drake Featuring Lil Baby Wants And Needs\n",
      "[youtube:search] Extracting URL: ytsearch:Drake Featuring Lil Baby Wants And Needs\n",
      "[download] Downloading playlist: Drake Featuring Lil Baby Wants And Needs\n",
      "[youtube:search] query \"Drake Featuring Lil Baby Wants And Needs\": Downloading web client config\n",
      "[youtube:search] query \"Drake Featuring Lil Baby Wants And Needs\" page 1: Downloading API JSON\n",
      "[youtube:search] Playlist Drake Featuring Lil Baby Wants And Needs: Downloading 1 items of 1\n",
      "[download] Downloading item 1 of 1\n",
      "[youtube] Extracting URL: https://www.youtube.com/watch?v=cnqUrYjqGaU\n",
      "[youtube] cnqUrYjqGaU: Downloading webpage\n",
      "[youtube] cnqUrYjqGaU: Downloading ios player API JSON\n",
      "[youtube] cnqUrYjqGaU: Downloading android player API JSON\n",
      "[youtube] cnqUrYjqGaU: Downloading m3u8 information\n",
      "[info] cnqUrYjqGaU: Downloading 1 format(s): 251\n",
      "[download] Destination: C:\\Users\\arwin\\Documents\\dev\\APS360-PROJECT\\data\\billboard_audio\\Drake Featuring Lil Baby_Wants And Needs\\Drake Featuring Lil Baby_Wants And Needs.webm\n",
      "[download] 100% of    3.44MiB in 00:00:00 at 12.27MiB/s    \n",
      "[download] Finished downloading playlist: Drake Featuring Lil Baby Wants And Needs\n",
      "[generic] Extracting URL: Miranda Lambert Settling Down\n",
      "[youtube:search] Extracting URL: ytsearch:Miranda Lambert Settling Down\n",
      "[download] Downloading playlist: Miranda Lambert Settling Down\n",
      "[youtube:search] query \"Miranda Lambert Settling Down\": Downloading web client config\n",
      "[youtube:search] query \"Miranda Lambert Settling Down\" page 1: Downloading API JSON\n",
      "[youtube:search] Playlist Miranda Lambert Settling Down: Downloading 1 items of 1\n",
      "[download] Downloading item 1 of 1\n",
      "[youtube] Extracting URL: https://www.youtube.com/watch?v=EQfm-Qqy-wU\n",
      "[youtube] EQfm-Qqy-wU: Downloading webpage\n",
      "[youtube] EQfm-Qqy-wU: Downloading ios player API JSON\n",
      "[youtube] EQfm-Qqy-wU: Downloading android player API JSON\n",
      "[youtube] EQfm-Qqy-wU: Downloading m3u8 information\n",
      "[info] EQfm-Qqy-wU: Downloading 1 format(s): 251\n",
      "[download] Destination: C:\\Users\\arwin\\Documents\\dev\\APS360-PROJECT\\data\\billboard_audio\\Miranda Lambert_Settling Down\\Miranda Lambert_Settling Down.webm\n",
      "[download] 100% of    3.13MiB in 00:00:00 at 19.60MiB/s    \n",
      "[download] Finished downloading playlist: Miranda Lambert Settling Down\n",
      "[generic] Extracting URL: Dierks Bentley Gone\n",
      "[youtube:search] Extracting URL: ytsearch:Dierks Bentley Gone\n",
      "[download] Downloading playlist: Dierks Bentley Gone\n",
      "[youtube:search] query \"Dierks Bentley Gone\": Downloading web client config\n",
      "[youtube:search] query \"Dierks Bentley Gone\" page 1: Downloading API JSON\n",
      "[youtube:search] Playlist Dierks Bentley Gone: Downloading 1 items of 1\n",
      "[download] Downloading item 1 of 1\n",
      "[youtube] Extracting URL: https://www.youtube.com/watch?v=lFgQS11V4Co\n",
      "[youtube] lFgQS11V4Co: Downloading webpage\n",
      "[youtube] lFgQS11V4Co: Downloading ios player API JSON\n",
      "[youtube] lFgQS11V4Co: Downloading android player API JSON\n",
      "[youtube] lFgQS11V4Co: Downloading m3u8 information\n",
      "[info] lFgQS11V4Co: Downloading 1 format(s): 251\n",
      "[download] Destination: C:\\Users\\arwin\\Documents\\dev\\APS360-PROJECT\\data\\billboard_audio\\Dierks Bentley_Gone\\Dierks Bentley_Gone.webm\n",
      "[download] 100% of    3.27MiB in 00:00:00 at 16.67MiB/s    \n",
      "[download] Finished downloading playlist: Dierks Bentley Gone\n",
      "[generic] Extracting URL: DaBaby Red Light Green Light\n",
      "[youtube:search] Extracting URL: ytsearch:DaBaby Red Light Green Light\n",
      "[download] Downloading playlist: DaBaby Red Light Green Light\n",
      "[youtube:search] query \"DaBaby Red Light Green Light\": Downloading web client config\n",
      "[youtube:search] query \"DaBaby Red Light Green Light\" page 1: Downloading API JSON\n",
      "[youtube:search] Playlist DaBaby Red Light Green Light: Downloading 1 items of 1\n",
      "[download] Downloading item 1 of 1\n",
      "[youtube] Extracting URL: https://www.youtube.com/watch?v=p6IIWuwdNIc\n",
      "[youtube] p6IIWuwdNIc: Downloading webpage\n",
      "[youtube] p6IIWuwdNIc: Downloading ios player API JSON\n",
      "[youtube] p6IIWuwdNIc: Downloading android player API JSON\n"
     ]
    },
    {
     "name": "stderr",
     "output_type": "stream",
     "text": [
      "WARNING: [youtube] YouTube said: ERROR - Precondition check failed.\n",
      "WARNING: [youtube] HTTP Error 400: Bad Request. Retrying (1/3)...\n"
     ]
    },
    {
     "name": "stdout",
     "output_type": "stream",
     "text": [
      "[youtube] p6IIWuwdNIc: Downloading android player API JSON\n"
     ]
    },
    {
     "name": "stderr",
     "output_type": "stream",
     "text": [
      "WARNING: [youtube] YouTube said: ERROR - Precondition check failed.\n",
      "WARNING: [youtube] HTTP Error 400: Bad Request. Retrying (2/3)...\n"
     ]
    },
    {
     "name": "stdout",
     "output_type": "stream",
     "text": [
      "[youtube] p6IIWuwdNIc: Downloading android player API JSON\n"
     ]
    },
    {
     "name": "stderr",
     "output_type": "stream",
     "text": [
      "WARNING: [youtube] YouTube said: ERROR - Precondition check failed.\n",
      "WARNING: [youtube] HTTP Error 400: Bad Request. Retrying (3/3)...\n"
     ]
    },
    {
     "name": "stdout",
     "output_type": "stream",
     "text": [
      "[youtube] p6IIWuwdNIc: Downloading android player API JSON\n",
      "[youtube] p6IIWuwdNIc: Downloading m3u8 information\n",
      "[info] p6IIWuwdNIc: Downloading 1 format(s): 251\n",
      "[download] Destination: C:\\Users\\arwin\\Documents\\dev\\APS360-PROJECT\\data\\billboard_audio\\DaBaby_Red Light Green Light\\DaBaby_Red Light Green Light.webm\n",
      "[download] 100% of    2.41MiB in 00:00:00 at 12.47MiB/s  \n",
      "[download] Finished downloading playlist: DaBaby Red Light Green Light\n",
      "[generic] Extracting URL: Belly, The Weeknd & Young Thug Better Believe\n",
      "[youtube:search] Extracting URL: ytsearch:Belly, The Weeknd & Young Thug Better Believe\n",
      "[download] Downloading playlist: Belly, The Weeknd & Young Thug Better Believe\n",
      "[youtube:search] query \"Belly, The Weeknd & Young Thug Better Believe\": Downloading web client config\n",
      "[youtube:search] query \"Belly, The Weeknd & Young Thug Better Believe\" page 1: Downloading API JSON\n",
      "[youtube:search] Playlist Belly, The Weeknd & Young Thug Better Believe: Downloading 1 items of 1\n",
      "[download] Downloading item 1 of 1\n",
      "[youtube] Extracting URL: https://www.youtube.com/watch?v=yJUUw3piMl8\n",
      "[youtube] yJUUw3piMl8: Downloading webpage\n",
      "[youtube] yJUUw3piMl8: Downloading ios player API JSON\n",
      "[youtube] yJUUw3piMl8: Downloading android player API JSON\n",
      "[youtube] yJUUw3piMl8: Downloading m3u8 information\n",
      "[info] yJUUw3piMl8: Downloading 1 format(s): 251\n",
      "[download] Destination: C:\\Users\\arwin\\Documents\\dev\\APS360-PROJECT\\data\\billboard_audio\\Belly, The Weeknd & Young Thug_Better Believe\\Belly, The Weeknd & Young Thug_Better Believe.webm\n",
      "[download] 100% of    3.60MiB in 00:00:00 at 9.47MiB/s     \n",
      "[download] Finished downloading playlist: Belly, The Weeknd & Young Thug Better Believe\n",
      "[generic] Extracting URL: EST Gee Lick Back\n",
      "[youtube:search] Extracting URL: ytsearch:EST Gee Lick Back\n",
      "[download] Downloading playlist: EST Gee Lick Back\n",
      "[youtube:search] query \"EST Gee Lick Back\": Downloading web client config\n",
      "[youtube:search] query \"EST Gee Lick Back\" page 1: Downloading API JSON\n",
      "[youtube:search] Playlist EST Gee Lick Back: Downloading 1 items of 1\n",
      "[download] Downloading item 1 of 1\n",
      "[youtube] Extracting URL: https://www.youtube.com/watch?v=iwOvd45Xt30\n",
      "[youtube] iwOvd45Xt30: Downloading webpage\n",
      "[youtube] iwOvd45Xt30: Downloading ios player API JSON\n",
      "[youtube] iwOvd45Xt30: Downloading android player API JSON\n"
     ]
    },
    {
     "name": "stderr",
     "output_type": "stream",
     "text": [
      "WARNING: [youtube] YouTube said: ERROR - Precondition check failed.\n",
      "WARNING: [youtube] HTTP Error 400: Bad Request. Retrying (1/3)...\n"
     ]
    },
    {
     "name": "stdout",
     "output_type": "stream",
     "text": [
      "[youtube] iwOvd45Xt30: Downloading android player API JSON\n",
      "[youtube] iwOvd45Xt30: Downloading m3u8 information\n",
      "[info] iwOvd45Xt30: Downloading 1 format(s): 251\n",
      "[download] Destination: C:\\Users\\arwin\\Documents\\dev\\APS360-PROJECT\\data\\billboard_audio\\EST Gee_Lick Back\\EST Gee_Lick Back.webm\n",
      "[download] 100% of    1.78MiB in 00:00:00 at 17.67MiB/s  \n",
      "[download] Finished downloading playlist: EST Gee Lick Back\n",
      "[generic] Extracting URL: Young Thug & Gunna Ski\n",
      "[youtube:search] Extracting URL: ytsearch:Young Thug & Gunna Ski\n",
      "[download] Downloading playlist: Young Thug & Gunna Ski\n",
      "[youtube:search] query \"Young Thug & Gunna Ski\": Downloading web client config\n",
      "[youtube:search] query \"Young Thug & Gunna Ski\" page 1: Downloading API JSON\n",
      "[youtube:search] Playlist Young Thug & Gunna Ski: Downloading 1 items of 1\n",
      "[download] Downloading item 1 of 1\n",
      "[youtube] Extracting URL: https://www.youtube.com/watch?v=Sevhj75lj80\n",
      "[youtube] Sevhj75lj80: Downloading webpage\n",
      "[youtube] Sevhj75lj80: Downloading ios player API JSON\n",
      "[youtube] Sevhj75lj80: Downloading android player API JSON\n",
      "[youtube] Sevhj75lj80: Downloading m3u8 information\n",
      "[info] Sevhj75lj80: Downloading 1 format(s): 251\n",
      "[download] Destination: C:\\Users\\arwin\\Documents\\dev\\APS360-PROJECT\\data\\billboard_audio\\Young Thug & Gunna_Ski\\Young Thug & Gunna_Ski.webm\n",
      "[download] 100% of    2.49MiB in 00:00:00 at 17.29MiB/s    \n",
      "[download] Finished downloading playlist: Young Thug & Gunna Ski\n",
      "[generic] Extracting URL: Blake Shelton Minimum Wage\n",
      "[youtube:search] Extracting URL: ytsearch:Blake Shelton Minimum Wage\n",
      "[download] Downloading playlist: Blake Shelton Minimum Wage\n",
      "[youtube:search] query \"Blake Shelton Minimum Wage\": Downloading web client config\n",
      "[youtube:search] query \"Blake Shelton Minimum Wage\" page 1: Downloading API JSON\n",
      "[youtube:search] Playlist Blake Shelton Minimum Wage: Downloading 1 items of 1\n",
      "[download] Downloading item 1 of 1\n",
      "[youtube] Extracting URL: https://www.youtube.com/watch?v=UQtiiDrL_O4\n",
      "[youtube] UQtiiDrL_O4: Downloading webpage\n",
      "[youtube] UQtiiDrL_O4: Downloading ios player API JSON\n",
      "[youtube] UQtiiDrL_O4: Downloading android player API JSON\n"
     ]
    },
    {
     "name": "stderr",
     "output_type": "stream",
     "text": [
      "WARNING: [youtube] YouTube said: ERROR - Precondition check failed.\n",
      "WARNING: [youtube] HTTP Error 400: Bad Request. Retrying (1/3)...\n"
     ]
    },
    {
     "name": "stdout",
     "output_type": "stream",
     "text": [
      "[youtube] UQtiiDrL_O4: Downloading android player API JSON\n"
     ]
    },
    {
     "name": "stderr",
     "output_type": "stream",
     "text": [
      "WARNING: [youtube] YouTube said: ERROR - Precondition check failed.\n",
      "WARNING: [youtube] HTTP Error 400: Bad Request. Retrying (2/3)...\n"
     ]
    },
    {
     "name": "stdout",
     "output_type": "stream",
     "text": [
      "[youtube] UQtiiDrL_O4: Downloading android player API JSON\n"
     ]
    },
    {
     "name": "stderr",
     "output_type": "stream",
     "text": [
      "WARNING: [youtube] YouTube said: ERROR - Precondition check failed.\n",
      "WARNING: [youtube] HTTP Error 400: Bad Request. Retrying (3/3)...\n"
     ]
    },
    {
     "name": "stdout",
     "output_type": "stream",
     "text": [
      "[youtube] UQtiiDrL_O4: Downloading android player API JSON\n",
      "[youtube] UQtiiDrL_O4: Downloading m3u8 information\n",
      "[info] UQtiiDrL_O4: Downloading 1 format(s): 251\n",
      "[download] Destination: C:\\Users\\arwin\\Documents\\dev\\APS360-PROJECT\\data\\billboard_audio\\Blake Shelton_Minimum Wage\\Blake Shelton_Minimum Wage.webm\n",
      "[download] 100% of    3.47MiB in 00:00:00 at 8.89MiB/s     \n",
      "[download] Finished downloading playlist: Blake Shelton Minimum Wage\n",
      "[generic] Extracting URL: The Kid LAROI Featuring Mustard Still Chose You\n",
      "[youtube:search] Extracting URL: ytsearch:The Kid LAROI Featuring Mustard Still Chose You\n",
      "[download] Downloading playlist: The Kid LAROI Featuring Mustard Still Chose You\n",
      "[youtube:search] query \"The Kid LAROI Featuring Mustard Still Chose You\": Downloading web client config\n",
      "[youtube:search] query \"The Kid LAROI Featuring Mustard Still Chose You\" page 1: Downloading API JSON\n",
      "[youtube:search] Playlist The Kid LAROI Featuring Mustard Still Chose You: Downloading 1 items of 1\n",
      "[download] Downloading item 1 of 1\n",
      "[youtube] Extracting URL: https://www.youtube.com/watch?v=wUbzVm0wBRw\n",
      "[youtube] wUbzVm0wBRw: Downloading webpage\n",
      "[youtube] wUbzVm0wBRw: Downloading ios player API JSON\n",
      "[youtube] wUbzVm0wBRw: Downloading android player API JSON\n"
     ]
    },
    {
     "name": "stderr",
     "output_type": "stream",
     "text": [
      "WARNING: [youtube] YouTube said: ERROR - Precondition check failed.\n",
      "WARNING: [youtube] HTTP Error 400: Bad Request. Retrying (1/3)...\n"
     ]
    },
    {
     "name": "stdout",
     "output_type": "stream",
     "text": [
      "[youtube] wUbzVm0wBRw: Downloading android player API JSON\n"
     ]
    },
    {
     "name": "stderr",
     "output_type": "stream",
     "text": [
      "WARNING: [youtube] YouTube said: ERROR - Precondition check failed.\n",
      "WARNING: [youtube] HTTP Error 400: Bad Request. Retrying (2/3)...\n"
     ]
    },
    {
     "name": "stdout",
     "output_type": "stream",
     "text": [
      "[youtube] wUbzVm0wBRw: Downloading android player API JSON\n"
     ]
    },
    {
     "name": "stderr",
     "output_type": "stream",
     "text": [
      "WARNING: [youtube] YouTube said: ERROR - Precondition check failed.\n",
      "WARNING: [youtube] HTTP Error 400: Bad Request. Retrying (3/3)...\n"
     ]
    },
    {
     "name": "stdout",
     "output_type": "stream",
     "text": [
      "[youtube] wUbzVm0wBRw: Downloading android player API JSON\n",
      "[youtube] wUbzVm0wBRw: Downloading m3u8 information\n",
      "[info] wUbzVm0wBRw: Downloading 1 format(s): 251\n",
      "[download] Destination: C:\\Users\\arwin\\Documents\\dev\\APS360-PROJECT\\data\\billboard_audio\\The Kid LAROI Featuring Mustard_Still Chose You\\The Kid LAROI Featuring Mustard_Still Chose You.webm\n",
      "[download] 100% of    2.99MiB in 00:00:00 at 18.73MiB/s    \n",
      "[download] Finished downloading playlist: The Kid LAROI Featuring Mustard Still Chose You\n",
      "[generic] Extracting URL: Olivia Rodrigo Drivers License\n",
      "[youtube:search] Extracting URL: ytsearch:Olivia Rodrigo Drivers License\n",
      "[download] Downloading playlist: Olivia Rodrigo Drivers License\n",
      "[youtube:search] query \"Olivia Rodrigo Drivers License\": Downloading web client config\n",
      "[youtube:search] query \"Olivia Rodrigo Drivers License\" page 1: Downloading API JSON\n",
      "[youtube:search] Playlist Olivia Rodrigo Drivers License: Downloading 1 items of 1\n",
      "[download] Downloading item 1 of 1\n",
      "[youtube] Extracting URL: https://www.youtube.com/watch?v=ZmDBbnmKpqQ\n",
      "[youtube] ZmDBbnmKpqQ: Downloading webpage\n",
      "[youtube] ZmDBbnmKpqQ: Downloading ios player API JSON\n",
      "[youtube] ZmDBbnmKpqQ: Downloading android player API JSON\n"
     ]
    },
    {
     "name": "stderr",
     "output_type": "stream",
     "text": [
      "WARNING: [youtube] YouTube said: ERROR - Precondition check failed.\n",
      "WARNING: [youtube] HTTP Error 400: Bad Request. Retrying (1/3)...\n"
     ]
    },
    {
     "name": "stdout",
     "output_type": "stream",
     "text": [
      "[youtube] ZmDBbnmKpqQ: Downloading android player API JSON\n"
     ]
    },
    {
     "name": "stderr",
     "output_type": "stream",
     "text": [
      "WARNING: [youtube] YouTube said: ERROR - Precondition check failed.\n",
      "WARNING: [youtube] HTTP Error 400: Bad Request. Retrying (2/3)...\n"
     ]
    },
    {
     "name": "stdout",
     "output_type": "stream",
     "text": [
      "[youtube] ZmDBbnmKpqQ: Downloading android player API JSON\n",
      "[youtube] ZmDBbnmKpqQ: Downloading m3u8 information\n",
      "[info] ZmDBbnmKpqQ: Downloading 1 format(s): 251\n",
      "[download] Destination: C:\\Users\\arwin\\Documents\\dev\\APS360-PROJECT\\data\\billboard_audio\\Olivia Rodrigo_Drivers License\\Olivia Rodrigo_Drivers License.webm\n",
      "[download] 100% of    3.99MiB in 00:00:00 at 24.15MiB/s  \n",
      "[download] Finished downloading playlist: Olivia Rodrigo Drivers License\n",
      "[generic] Extracting URL: Ariana Grande pov\n",
      "[youtube:search] Extracting URL: ytsearch:Ariana Grande pov\n",
      "[download] Downloading playlist: Ariana Grande pov\n",
      "[youtube:search] query \"Ariana Grande pov\": Downloading web client config\n",
      "[youtube:search] query \"Ariana Grande pov\" page 1: Downloading API JSON\n",
      "[youtube:search] Playlist Ariana Grande pov: Downloading 1 items of 1\n",
      "[download] Downloading item 1 of 1\n",
      "[youtube] Extracting URL: https://www.youtube.com/watch?v=nQJEp-k-ogs\n",
      "[youtube] nQJEp-k-ogs: Downloading webpage\n",
      "[youtube] nQJEp-k-ogs: Downloading ios player API JSON\n",
      "[youtube] nQJEp-k-ogs: Downloading android player API JSON\n"
     ]
    },
    {
     "name": "stderr",
     "output_type": "stream",
     "text": [
      "WARNING: [youtube] YouTube said: ERROR - Precondition check failed.\n",
      "WARNING: [youtube] HTTP Error 400: Bad Request. Retrying (1/3)...\n"
     ]
    },
    {
     "name": "stdout",
     "output_type": "stream",
     "text": [
      "[youtube] nQJEp-k-ogs: Downloading android player API JSON\n",
      "[youtube] nQJEp-k-ogs: Downloading m3u8 information\n",
      "[info] nQJEp-k-ogs: Downloading 1 format(s): 251\n",
      "[download] Destination: C:\\Users\\arwin\\Documents\\dev\\APS360-PROJECT\\data\\billboard_audio\\Ariana Grande_pov\\Ariana Grande_pov.webm\n",
      "[download] 100% of    3.17MiB in 00:00:00 at 19.84MiB/s    \n",
      "[download] Finished downloading playlist: Ariana Grande pov\n",
      "[generic] Extracting URL: Pop Smoke Featuring 21 Savage & 42 Dugg Bout A Million\n",
      "[youtube:search] Extracting URL: ytsearch:Pop Smoke Featuring 21 Savage & 42 Dugg Bout A Million\n",
      "[download] Downloading playlist: Pop Smoke Featuring 21 Savage & 42 Dugg Bout A Million\n",
      "[youtube:search] query \"Pop Smoke Featuring 21 Savage & 42 Dugg Bout A Million\": Downloading web client config\n",
      "[youtube:search] query \"Pop Smoke Featuring 21 Savage & 42 Dugg Bout A Million\" page 1: Downloading API JSON\n",
      "[youtube:search] Playlist Pop Smoke Featuring 21 Savage & 42 Dugg Bout A Million: Downloading 1 items of 1\n",
      "[download] Downloading item 1 of 1\n",
      "[youtube] Extracting URL: https://www.youtube.com/watch?v=tb7Ivb0-slM\n",
      "[youtube] tb7Ivb0-slM: Downloading webpage\n",
      "[youtube] tb7Ivb0-slM: Downloading ios player API JSON\n",
      "[youtube] tb7Ivb0-slM: Downloading android player API JSON\n"
     ]
    },
    {
     "name": "stderr",
     "output_type": "stream",
     "text": [
      "WARNING: [youtube] YouTube said: ERROR - Precondition check failed.\n",
      "WARNING: [youtube] HTTP Error 400: Bad Request. Retrying (1/3)...\n"
     ]
    },
    {
     "name": "stdout",
     "output_type": "stream",
     "text": [
      "[youtube] tb7Ivb0-slM: Downloading android player API JSON\n"
     ]
    },
    {
     "name": "stderr",
     "output_type": "stream",
     "text": [
      "WARNING: [youtube] YouTube said: ERROR - Precondition check failed.\n",
      "WARNING: [youtube] HTTP Error 400: Bad Request. Retrying (2/3)...\n"
     ]
    },
    {
     "name": "stdout",
     "output_type": "stream",
     "text": [
      "[youtube] tb7Ivb0-slM: Downloading android player API JSON\n",
      "[youtube] tb7Ivb0-slM: Downloading m3u8 information\n",
      "[info] tb7Ivb0-slM: Downloading 1 format(s): 251\n",
      "[download] Destination: C:\\Users\\arwin\\Documents\\dev\\APS360-PROJECT\\data\\billboard_audio\\Pop Smoke Featuring 21 Savage & 42 Dugg_Bout A Million\\Pop Smoke Featuring 21 Savage & 42 Dugg_Bout A Million.webm\n",
      "[download] 100% of    3.26MiB in 00:00:00 at 5.00MiB/s     \n",
      "[download] Finished downloading playlist: Pop Smoke Featuring 21 Savage & 42 Dugg Bout A Million\n",
      "[generic] Extracting URL: Pop Smoke Featuring Future Mr_ Jones\n",
      "[youtube:search] Extracting URL: ytsearch:Pop Smoke Featuring Future Mr_ Jones\n",
      "[download] Downloading playlist: Pop Smoke Featuring Future Mr_ Jones\n",
      "[youtube:search] query \"Pop Smoke Featuring Future Mr_ Jones\": Downloading web client config\n",
      "[youtube:search] query \"Pop Smoke Featuring Future Mr_ Jones\" page 1: Downloading API JSON\n",
      "[youtube:search] Playlist Pop Smoke Featuring Future Mr_ Jones: Downloading 1 items of 1\n",
      "[download] Downloading item 1 of 1\n",
      "[youtube] Extracting URL: https://www.youtube.com/watch?v=xeBfKr-guOA\n",
      "[youtube] xeBfKr-guOA: Downloading webpage\n",
      "[youtube] xeBfKr-guOA: Downloading ios player API JSON\n",
      "[youtube] xeBfKr-guOA: Downloading android player API JSON\n",
      "[youtube] xeBfKr-guOA: Downloading m3u8 information\n",
      "[info] xeBfKr-guOA: Downloading 1 format(s): 328\n",
      "[download] Destination: C:\\Users\\arwin\\Documents\\dev\\APS360-PROJECT\\data\\billboard_audio\\Pop Smoke Featuring Future_Mr_ Jones\\Pop Smoke Featuring Future_Mr_ Jones.m4a\n",
      "[download] 100% of    8.90MiB in 00:00:01 at 7.75MiB/s   \n"
     ]
    },
    {
     "name": "stderr",
     "output_type": "stream",
     "text": [
      "WARNING: xeBfKr-guOA: writing DASH m4a. Only some players support this container. Install ffmpeg to fix this automatically\n"
     ]
    },
    {
     "name": "stdout",
     "output_type": "stream",
     "text": [
      "[download] Finished downloading playlist: Pop Smoke Featuring Future Mr_ Jones\n",
      "[generic] Extracting URL: Pop Smoke More Time\n",
      "[youtube:search] Extracting URL: ytsearch:Pop Smoke More Time\n",
      "[download] Downloading playlist: Pop Smoke More Time\n",
      "[youtube:search] query \"Pop Smoke More Time\": Downloading web client config\n",
      "[youtube:search] query \"Pop Smoke More Time\" page 1: Downloading API JSON\n",
      "[youtube:search] Playlist Pop Smoke More Time: Downloading 1 items of 1\n",
      "[download] Downloading item 1 of 1\n",
      "[youtube] Extracting URL: https://www.youtube.com/watch?v=lkupT3nFGDE\n",
      "[youtube] lkupT3nFGDE: Downloading webpage\n",
      "[youtube] lkupT3nFGDE: Downloading ios player API JSON\n",
      "[youtube] lkupT3nFGDE: Downloading android player API JSON\n"
     ]
    },
    {
     "name": "stderr",
     "output_type": "stream",
     "text": [
      "WARNING: [youtube] YouTube said: ERROR - Precondition check failed.\n",
      "WARNING: [youtube] HTTP Error 400: Bad Request. Retrying (1/3)...\n"
     ]
    },
    {
     "name": "stdout",
     "output_type": "stream",
     "text": [
      "[youtube] lkupT3nFGDE: Downloading android player API JSON\n"
     ]
    },
    {
     "name": "stderr",
     "output_type": "stream",
     "text": [
      "WARNING: [youtube] YouTube said: ERROR - Precondition check failed.\n",
      "WARNING: [youtube] HTTP Error 400: Bad Request. Retrying (2/3)...\n"
     ]
    },
    {
     "name": "stdout",
     "output_type": "stream",
     "text": [
      "[youtube] lkupT3nFGDE: Downloading android player API JSON\n"
     ]
    },
    {
     "name": "stderr",
     "output_type": "stream",
     "text": [
      "WARNING: [youtube] YouTube said: ERROR - Precondition check failed.\n",
      "WARNING: [youtube] HTTP Error 400: Bad Request. Retrying (3/3)...\n"
     ]
    },
    {
     "name": "stdout",
     "output_type": "stream",
     "text": [
      "[youtube] lkupT3nFGDE: Downloading android player API JSON\n"
     ]
    },
    {
     "name": "stderr",
     "output_type": "stream",
     "text": [
      "WARNING: [youtube] YouTube said: ERROR - Precondition check failed.\n",
      "WARNING: [youtube] Unable to download API page: HTTP Error 400: Bad Request (caused by <HTTPError 400: Bad Request>); please report this issue on  https://github.com/yt-dlp/yt-dlp/issues?q= , filling out the appropriate issue template. Confirm you are on the latest version using  yt-dlp -U\n"
     ]
    },
    {
     "name": "stdout",
     "output_type": "stream",
     "text": [
      "[youtube] lkupT3nFGDE: Downloading m3u8 information\n",
      "[info] lkupT3nFGDE: Downloading 1 format(s): 251\n",
      "[download] Destination: C:\\Users\\arwin\\Documents\\dev\\APS360-PROJECT\\data\\billboard_audio\\Pop Smoke_More Time\\Pop Smoke_More Time.webm\n",
      "[download] 100% of    2.08MiB in 00:00:00 at 11.80MiB/s    \n",
      "[download] Finished downloading playlist: Pop Smoke More Time\n",
      "[generic] Extracting URL: Pop Smoke Featuring Rick Ross & The-Dream Manslaughter\n",
      "[youtube:search] Extracting URL: ytsearch:Pop Smoke Featuring Rick Ross & The-Dream Manslaughter\n",
      "[download] Downloading playlist: Pop Smoke Featuring Rick Ross & The-Dream Manslaughter\n",
      "[youtube:search] query \"Pop Smoke Featuring Rick Ross & The-Dream Manslaughter\": Downloading web client config\n",
      "[youtube:search] query \"Pop Smoke Featuring Rick Ross & The-Dream Manslaughter\" page 1: Downloading API JSON\n",
      "[youtube:search] Playlist Pop Smoke Featuring Rick Ross & The-Dream Manslaughter: Downloading 1 items of 1\n",
      "[download] Downloading item 1 of 1\n",
      "[youtube] Extracting URL: https://www.youtube.com/watch?v=7tegU4jhNWc\n",
      "[youtube] 7tegU4jhNWc: Downloading webpage\n",
      "[youtube] 7tegU4jhNWc: Downloading ios player API JSON\n",
      "[youtube] 7tegU4jhNWc: Downloading android player API JSON\n",
      "[youtube] 7tegU4jhNWc: Downloading m3u8 information\n",
      "[info] 7tegU4jhNWc: Downloading 1 format(s): 251\n",
      "[download] Destination: C:\\Users\\arwin\\Documents\\dev\\APS360-PROJECT\\data\\billboard_audio\\Pop Smoke Featuring Rick Ross & The-Dream_Manslaughter\\Pop Smoke Featuring Rick Ross & The-Dream_Manslaughter.webm\n",
      "[download] 100% of    3.96MiB in 00:00:00 at 17.02MiB/s    \n",
      "[download] Finished downloading playlist: Pop Smoke Featuring Rick Ross & The-Dream Manslaughter\n",
      "[generic] Extracting URL: Pop Smoke Featuring Dua Lipa Demeanor\n",
      "[youtube:search] Extracting URL: ytsearch:Pop Smoke Featuring Dua Lipa Demeanor\n",
      "[download] Downloading playlist: Pop Smoke Featuring Dua Lipa Demeanor\n",
      "[youtube:search] query \"Pop Smoke Featuring Dua Lipa Demeanor\": Downloading web client config\n",
      "[youtube:search] query \"Pop Smoke Featuring Dua Lipa Demeanor\" page 1: Downloading API JSON\n",
      "[youtube:search] Playlist Pop Smoke Featuring Dua Lipa Demeanor: Downloading 1 items of 1\n",
      "[download] Downloading item 1 of 1\n",
      "[youtube] Extracting URL: https://www.youtube.com/watch?v=UBjTdLGV8L0\n",
      "[youtube] UBjTdLGV8L0: Downloading webpage\n",
      "[youtube] UBjTdLGV8L0: Downloading ios player API JSON\n",
      "[youtube] UBjTdLGV8L0: Downloading android player API JSON\n"
     ]
    },
    {
     "name": "stderr",
     "output_type": "stream",
     "text": [
      "WARNING: [youtube] YouTube said: ERROR - Precondition check failed.\n",
      "WARNING: [youtube] HTTP Error 400: Bad Request. Retrying (1/3)...\n"
     ]
    },
    {
     "name": "stdout",
     "output_type": "stream",
     "text": [
      "[youtube] UBjTdLGV8L0: Downloading android player API JSON\n"
     ]
    },
    {
     "name": "stderr",
     "output_type": "stream",
     "text": [
      "WARNING: [youtube] YouTube said: ERROR - Precondition check failed.\n",
      "WARNING: [youtube] HTTP Error 400: Bad Request. Retrying (2/3)...\n"
     ]
    },
    {
     "name": "stdout",
     "output_type": "stream",
     "text": [
      "[youtube] UBjTdLGV8L0: Downloading android player API JSON\n"
     ]
    },
    {
     "name": "stderr",
     "output_type": "stream",
     "text": [
      "WARNING: [youtube] YouTube said: ERROR - Precondition check failed.\n",
      "WARNING: [youtube] HTTP Error 400: Bad Request. Retrying (3/3)...\n"
     ]
    },
    {
     "name": "stdout",
     "output_type": "stream",
     "text": [
      "[youtube] UBjTdLGV8L0: Downloading android player API JSON\n"
     ]
    },
    {
     "name": "stderr",
     "output_type": "stream",
     "text": [
      "WARNING: [youtube] YouTube said: ERROR - Precondition check failed.\n",
      "WARNING: [youtube] Unable to download API page: HTTP Error 400: Bad Request (caused by <HTTPError 400: Bad Request>); please report this issue on  https://github.com/yt-dlp/yt-dlp/issues?q= , filling out the appropriate issue template. Confirm you are on the latest version using  yt-dlp -U\n"
     ]
    },
    {
     "name": "stdout",
     "output_type": "stream",
     "text": [
      "[youtube] UBjTdLGV8L0: Downloading m3u8 information\n",
      "[info] UBjTdLGV8L0: Downloading 1 format(s): 251\n",
      "[download] Destination: C:\\Users\\arwin\\Documents\\dev\\APS360-PROJECT\\data\\billboard_audio\\Pop Smoke Featuring Dua Lipa_Demeanor\\Pop Smoke Featuring Dua Lipa_Demeanor.webm\n",
      "[download] 100% of    3.27MiB in 00:00:00 at 11.06MiB/s  \n",
      "[download] Finished downloading playlist: Pop Smoke Featuring Dua Lipa Demeanor\n",
      "[generic] Extracting URL: Willow Featuring Travis Barker transparentsoul\n",
      "[youtube:search] Extracting URL: ytsearch:Willow Featuring Travis Barker transparentsoul\n",
      "[download] Downloading playlist: Willow Featuring Travis Barker transparentsoul\n",
      "[youtube:search] query \"Willow Featuring Travis Barker transparentsoul\": Downloading web client config\n",
      "[youtube:search] query \"Willow Featuring Travis Barker transparentsoul\" page 1: Downloading API JSON\n",
      "[youtube:search] Playlist Willow Featuring Travis Barker transparentsoul: Downloading 1 items of 1\n",
      "[download] Downloading item 1 of 1\n",
      "[youtube] Extracting URL: https://www.youtube.com/watch?v=6M0IO4fyRoc\n",
      "[youtube] 6M0IO4fyRoc: Downloading webpage\n",
      "[youtube] 6M0IO4fyRoc: Downloading ios player API JSON\n",
      "[youtube] 6M0IO4fyRoc: Downloading android player API JSON\n"
     ]
    },
    {
     "name": "stderr",
     "output_type": "stream",
     "text": [
      "WARNING: [youtube] YouTube said: ERROR - Precondition check failed.\n",
      "WARNING: [youtube] HTTP Error 400: Bad Request. Retrying (1/3)...\n"
     ]
    },
    {
     "name": "stdout",
     "output_type": "stream",
     "text": [
      "[youtube] 6M0IO4fyRoc: Downloading android player API JSON\n"
     ]
    },
    {
     "name": "stderr",
     "output_type": "stream",
     "text": [
      "WARNING: [youtube] YouTube said: ERROR - Precondition check failed.\n",
      "WARNING: [youtube] HTTP Error 400: Bad Request. Retrying (2/3)...\n"
     ]
    },
    {
     "name": "stdout",
     "output_type": "stream",
     "text": [
      "[youtube] 6M0IO4fyRoc: Downloading android player API JSON\n",
      "[youtube] 6M0IO4fyRoc: Downloading m3u8 information\n",
      "[info] 6M0IO4fyRoc: Downloading 1 format(s): 251\n",
      "[download] Destination: C:\\Users\\arwin\\Documents\\dev\\APS360-PROJECT\\data\\billboard_audio\\Willow Featuring Travis Barker_transparentsoul\\Willow Featuring Travis Barker_transparentsoul.webm\n",
      "[download] 100% of    2.73MiB in 00:00:00 at 10.48MiB/s    \n",
      "[download] Finished downloading playlist: Willow Featuring Travis Barker transparentsoul\n",
      "[generic] Extracting URL: Aaron Lewis Am I The Only One\n",
      "[youtube:search] Extracting URL: ytsearch:Aaron Lewis Am I The Only One\n",
      "[download] Downloading playlist: Aaron Lewis Am I The Only One\n",
      "[youtube:search] query \"Aaron Lewis Am I The Only One\": Downloading web client config\n",
      "[youtube:search] query \"Aaron Lewis Am I The Only One\" page 1: Downloading API JSON\n",
      "[youtube:search] Playlist Aaron Lewis Am I The Only One: Downloading 1 items of 1\n",
      "[download] Downloading item 1 of 1\n",
      "[youtube] Extracting URL: https://www.youtube.com/watch?v=zkKb4Zt48x8\n",
      "[youtube] zkKb4Zt48x8: Downloading webpage\n",
      "[youtube] zkKb4Zt48x8: Downloading ios player API JSON\n",
      "[youtube] zkKb4Zt48x8: Downloading android player API JSON\n"
     ]
    },
    {
     "name": "stderr",
     "output_type": "stream",
     "text": [
      "WARNING: [youtube] YouTube said: ERROR - Precondition check failed.\n",
      "WARNING: [youtube] HTTP Error 400: Bad Request. Retrying (1/3)...\n"
     ]
    },
    {
     "name": "stdout",
     "output_type": "stream",
     "text": [
      "[youtube] zkKb4Zt48x8: Downloading android player API JSON\n"
     ]
    },
    {
     "name": "stderr",
     "output_type": "stream",
     "text": [
      "WARNING: [youtube] YouTube said: ERROR - Precondition check failed.\n",
      "WARNING: [youtube] HTTP Error 400: Bad Request. Retrying (2/3)...\n"
     ]
    },
    {
     "name": "stdout",
     "output_type": "stream",
     "text": [
      "[youtube] zkKb4Zt48x8: Downloading android player API JSON\n"
     ]
    },
    {
     "name": "stderr",
     "output_type": "stream",
     "text": [
      "WARNING: [youtube] YouTube said: ERROR - Precondition check failed.\n",
      "WARNING: [youtube] HTTP Error 400: Bad Request. Retrying (3/3)...\n"
     ]
    },
    {
     "name": "stdout",
     "output_type": "stream",
     "text": [
      "[youtube] zkKb4Zt48x8: Downloading android player API JSON\n"
     ]
    },
    {
     "name": "stderr",
     "output_type": "stream",
     "text": [
      "WARNING: [youtube] YouTube said: ERROR - Precondition check failed.\n",
      "WARNING: [youtube] Unable to download API page: HTTP Error 400: Bad Request (caused by <HTTPError 400: Bad Request>); please report this issue on  https://github.com/yt-dlp/yt-dlp/issues?q= , filling out the appropriate issue template. Confirm you are on the latest version using  yt-dlp -U\n"
     ]
    },
    {
     "name": "stdout",
     "output_type": "stream",
     "text": [
      "[youtube] zkKb4Zt48x8: Downloading m3u8 information\n",
      "[info] zkKb4Zt48x8: Downloading 1 format(s): 251\n",
      "[download] Destination: C:\\Users\\arwin\\Documents\\dev\\APS360-PROJECT\\data\\billboard_audio\\Aaron Lewis_Am I The Only One\\Aaron Lewis_Am I The Only One.webm\n",
      "[download] 100% of    4.72MiB in 00:00:00 at 15.81MiB/s  \n",
      "[download] Finished downloading playlist: Aaron Lewis Am I The Only One\n",
      "[generic] Extracting URL: Pop Smoke Featuring Bizzy Banks 30\n",
      "[youtube:search] Extracting URL: ytsearch:Pop Smoke Featuring Bizzy Banks 30\n",
      "[download] Downloading playlist: Pop Smoke Featuring Bizzy Banks 30\n",
      "[youtube:search] query \"Pop Smoke Featuring Bizzy Banks 30\": Downloading web client config\n",
      "[youtube:search] query \"Pop Smoke Featuring Bizzy Banks 30\" page 1: Downloading API JSON\n",
      "[youtube:search] Playlist Pop Smoke Featuring Bizzy Banks 30: Downloading 1 items of 1\n",
      "[download] Downloading item 1 of 1\n",
      "[youtube] Extracting URL: https://www.youtube.com/watch?v=c7KhX0qjn-o\n",
      "[youtube] c7KhX0qjn-o: Downloading webpage\n",
      "[youtube] c7KhX0qjn-o: Downloading ios player API JSON\n",
      "[youtube] c7KhX0qjn-o: Downloading android player API JSON\n",
      "[youtube] c7KhX0qjn-o: Downloading m3u8 information\n",
      "[info] c7KhX0qjn-o: Downloading 1 format(s): 251\n",
      "[download] Destination: C:\\Users\\arwin\\Documents\\dev\\APS360-PROJECT\\data\\billboard_audio\\Pop Smoke Featuring Bizzy Banks_30\\Pop Smoke Featuring Bizzy Banks_30.webm\n",
      "[download] 100% of    3.97MiB in 00:00:00 at 15.36MiB/s    \n",
      "[download] Finished downloading playlist: Pop Smoke Featuring Bizzy Banks 30\n",
      "[generic] Extracting URL: Olivia Rodrigo Jealousy, Jealousy\n",
      "[youtube:search] Extracting URL: ytsearch:Olivia Rodrigo Jealousy, Jealousy\n",
      "[download] Downloading playlist: Olivia Rodrigo Jealousy, Jealousy\n",
      "[youtube:search] query \"Olivia Rodrigo Jealousy, Jealousy\": Downloading web client config\n",
      "[youtube:search] query \"Olivia Rodrigo Jealousy, Jealousy\" page 1: Downloading API JSON\n",
      "[youtube:search] Playlist Olivia Rodrigo Jealousy, Jealousy: Downloading 1 items of 1\n",
      "[download] Downloading item 1 of 1\n",
      "[youtube] Extracting URL: https://www.youtube.com/watch?v=Z-9gQjUZMm0\n",
      "[youtube] Z-9gQjUZMm0: Downloading webpage\n",
      "[youtube] Z-9gQjUZMm0: Downloading ios player API JSON\n",
      "[youtube] Z-9gQjUZMm0: Downloading android player API JSON\n",
      "[youtube] Z-9gQjUZMm0: Downloading m3u8 information\n",
      "[info] Z-9gQjUZMm0: Downloading 1 format(s): 251\n",
      "[download] Destination: C:\\Users\\arwin\\Documents\\dev\\APS360-PROJECT\\data\\billboard_audio\\Olivia Rodrigo_Jealousy, Jealousy\\Olivia Rodrigo_Jealousy, Jealousy.webm\n",
      "[download] 100% of    2.62MiB in 00:00:00 at 19.18MiB/s    \n",
      "[download] Finished downloading playlist: Olivia Rodrigo Jealousy, Jealousy\n",
      "[generic] Extracting URL: Lil Tjay Featuring 6LACK Calling My Phone\n",
      "[youtube:search] Extracting URL: ytsearch:Lil Tjay Featuring 6LACK Calling My Phone\n",
      "[download] Downloading playlist: Lil Tjay Featuring 6LACK Calling My Phone\n",
      "[youtube:search] query \"Lil Tjay Featuring 6LACK Calling My Phone\": Downloading web client config\n",
      "[youtube:search] query \"Lil Tjay Featuring 6LACK Calling My Phone\" page 1: Downloading API JSON\n",
      "[youtube:search] Playlist Lil Tjay Featuring 6LACK Calling My Phone: Downloading 1 items of 1\n",
      "[download] Downloading item 1 of 1\n",
      "[youtube] Extracting URL: https://www.youtube.com/watch?v=zzd4ydafGR0\n",
      "[youtube] zzd4ydafGR0: Downloading webpage\n",
      "[youtube] zzd4ydafGR0: Downloading ios player API JSON\n",
      "[youtube] zzd4ydafGR0: Downloading android player API JSON\n"
     ]
    },
    {
     "name": "stderr",
     "output_type": "stream",
     "text": [
      "WARNING: [youtube] YouTube said: ERROR - Precondition check failed.\n",
      "WARNING: [youtube] HTTP Error 400: Bad Request. Retrying (1/3)...\n"
     ]
    },
    {
     "name": "stdout",
     "output_type": "stream",
     "text": [
      "[youtube] zzd4ydafGR0: Downloading android player API JSON\n"
     ]
    },
    {
     "name": "stderr",
     "output_type": "stream",
     "text": [
      "WARNING: [youtube] YouTube said: ERROR - Precondition check failed.\n",
      "WARNING: [youtube] HTTP Error 400: Bad Request. Retrying (2/3)...\n"
     ]
    },
    {
     "name": "stdout",
     "output_type": "stream",
     "text": [
      "[youtube] zzd4ydafGR0: Downloading android player API JSON\n"
     ]
    },
    {
     "name": "stderr",
     "output_type": "stream",
     "text": [
      "WARNING: [youtube] YouTube said: ERROR - Precondition check failed.\n",
      "WARNING: [youtube] HTTP Error 400: Bad Request. Retrying (3/3)...\n"
     ]
    },
    {
     "name": "stdout",
     "output_type": "stream",
     "text": [
      "[youtube] zzd4ydafGR0: Downloading android player API JSON\n"
     ]
    },
    {
     "name": "stderr",
     "output_type": "stream",
     "text": [
      "WARNING: [youtube] YouTube said: ERROR - Precondition check failed.\n",
      "WARNING: [youtube] Unable to download API page: HTTP Error 400: Bad Request (caused by <HTTPError 400: Bad Request>); please report this issue on  https://github.com/yt-dlp/yt-dlp/issues?q= , filling out the appropriate issue template. Confirm you are on the latest version using  yt-dlp -U\n"
     ]
    },
    {
     "name": "stdout",
     "output_type": "stream",
     "text": [
      "[youtube] zzd4ydafGR0: Downloading m3u8 information\n",
      "[info] zzd4ydafGR0: Downloading 1 format(s): 251\n",
      "[download] Destination: C:\\Users\\arwin\\Documents\\dev\\APS360-PROJECT\\data\\billboard_audio\\Lil Tjay Featuring 6LACK_Calling My Phone\\Lil Tjay Featuring 6LACK_Calling My Phone.webm\n",
      "[download] 100% of    3.67MiB in 00:00:00 at 12.41MiB/s    \n",
      "[download] Finished downloading playlist: Lil Tjay Featuring 6LACK Calling My Phone\n",
      "[generic] Extracting URL: Sam Hunt Breaking Up Was Easy In The 90's\n",
      "[youtube:search] Extracting URL: ytsearch:Sam Hunt Breaking Up Was Easy In The 90's\n",
      "[download] Downloading playlist: Sam Hunt Breaking Up Was Easy In The 90's\n",
      "[youtube:search] query \"Sam Hunt Breaking Up Was Easy In The 90's\": Downloading web client config\n",
      "[youtube:search] query \"Sam Hunt Breaking Up Was Easy In The 90's\" page 1: Downloading API JSON\n",
      "[youtube:search] Playlist Sam Hunt Breaking Up Was Easy In The 90's: Downloading 1 items of 1\n",
      "[download] Downloading item 1 of 1\n",
      "[youtube] Extracting URL: https://www.youtube.com/watch?v=FvnY6qn80u0\n",
      "[youtube] FvnY6qn80u0: Downloading webpage\n",
      "[youtube] FvnY6qn80u0: Downloading ios player API JSON\n",
      "[youtube] FvnY6qn80u0: Downloading android player API JSON\n"
     ]
    },
    {
     "name": "stderr",
     "output_type": "stream",
     "text": [
      "WARNING: [youtube] YouTube said: ERROR - Precondition check failed.\n",
      "WARNING: [youtube] HTTP Error 400: Bad Request. Retrying (1/3)...\n"
     ]
    },
    {
     "name": "stdout",
     "output_type": "stream",
     "text": [
      "[youtube] FvnY6qn80u0: Downloading android player API JSON\n",
      "[youtube] FvnY6qn80u0: Downloading m3u8 information\n",
      "[info] FvnY6qn80u0: Downloading 1 format(s): 251\n",
      "[download] Destination: C:\\Users\\arwin\\Documents\\dev\\APS360-PROJECT\\data\\billboard_audio\\Sam Hunt_Breaking Up Was Easy In The 90's\\Sam Hunt_Breaking Up Was Easy In The 90's.webm\n",
      "[download] 100% of    3.60MiB in 00:00:00 at 18.07MiB/s    \n",
      "[download] Finished downloading playlist: Sam Hunt Breaking Up Was Easy In The 90's\n",
      "[generic] Extracting URL: Bas With J_ Cole & Lil TJay The Jackie\n",
      "[youtube:search] Extracting URL: ytsearch:Bas With J_ Cole & Lil TJay The Jackie\n",
      "[download] Downloading playlist: Bas With J_ Cole & Lil TJay The Jackie\n",
      "[youtube:search] query \"Bas With J_ Cole & Lil TJay The Jackie\": Downloading web client config\n",
      "[youtube:search] query \"Bas With J_ Cole & Lil TJay The Jackie\" page 1: Downloading API JSON\n",
      "[youtube:search] Playlist Bas With J_ Cole & Lil TJay The Jackie: Downloading 1 items of 1\n",
      "[download] Downloading item 1 of 1\n",
      "[youtube] Extracting URL: https://www.youtube.com/watch?v=betIekbYy40\n",
      "[youtube] betIekbYy40: Downloading webpage\n",
      "[youtube] betIekbYy40: Downloading ios player API JSON\n",
      "[youtube] betIekbYy40: Downloading android player API JSON\n"
     ]
    },
    {
     "name": "stderr",
     "output_type": "stream",
     "text": [
      "WARNING: [youtube] YouTube said: ERROR - Precondition check failed.\n",
      "WARNING: [youtube] HTTP Error 400: Bad Request. Retrying (1/3)...\n"
     ]
    },
    {
     "name": "stdout",
     "output_type": "stream",
     "text": [
      "[youtube] betIekbYy40: Downloading android player API JSON\n"
     ]
    },
    {
     "name": "stderr",
     "output_type": "stream",
     "text": [
      "WARNING: [youtube] YouTube said: ERROR - Precondition check failed.\n",
      "WARNING: [youtube] HTTP Error 400: Bad Request. Retrying (2/3)...\n"
     ]
    },
    {
     "name": "stdout",
     "output_type": "stream",
     "text": [
      "[youtube] betIekbYy40: Downloading android player API JSON\n"
     ]
    },
    {
     "name": "stderr",
     "output_type": "stream",
     "text": [
      "WARNING: [youtube] YouTube said: ERROR - Precondition check failed.\n",
      "WARNING: [youtube] HTTP Error 400: Bad Request. Retrying (3/3)...\n"
     ]
    },
    {
     "name": "stdout",
     "output_type": "stream",
     "text": [
      "[youtube] betIekbYy40: Downloading android player API JSON\n"
     ]
    },
    {
     "name": "stderr",
     "output_type": "stream",
     "text": [
      "WARNING: [youtube] YouTube said: ERROR - Precondition check failed.\n",
      "WARNING: [youtube] Unable to download API page: HTTP Error 400: Bad Request (caused by <HTTPError 400: Bad Request>); please report this issue on  https://github.com/yt-dlp/yt-dlp/issues?q= , filling out the appropriate issue template. Confirm you are on the latest version using  yt-dlp -U\n"
     ]
    },
    {
     "name": "stdout",
     "output_type": "stream",
     "text": [
      "[youtube] betIekbYy40: Downloading m3u8 information\n",
      "[info] betIekbYy40: Downloading 1 format(s): 251\n",
      "[download] Destination: C:\\Users\\arwin\\Documents\\dev\\APS360-PROJECT\\data\\billboard_audio\\Bas With J_ Cole & Lil TJay_The Jackie\\Bas With J_ Cole & Lil TJay_The Jackie.webm\n",
      "[download] 100% of    4.16MiB in 00:00:00 at 20.62MiB/s    \n",
      "[download] Finished downloading playlist: Bas With J_ Cole & Lil TJay The Jackie\n",
      "[generic] Extracting URL: Imagine Dragons Follow You\n",
      "[youtube:search] Extracting URL: ytsearch:Imagine Dragons Follow You\n",
      "[download] Downloading playlist: Imagine Dragons Follow You\n",
      "[youtube:search] query \"Imagine Dragons Follow You\": Downloading web client config\n",
      "[youtube:search] query \"Imagine Dragons Follow You\" page 1: Downloading API JSON\n",
      "[youtube:search] Playlist Imagine Dragons Follow You: Downloading 1 items of 1\n",
      "[download] Downloading item 1 of 1\n",
      "[youtube] Extracting URL: https://www.youtube.com/watch?v=k3zimSRKqNw\n",
      "[youtube] k3zimSRKqNw: Downloading webpage\n",
      "[youtube] k3zimSRKqNw: Downloading ios player API JSON\n",
      "[youtube] k3zimSRKqNw: Downloading android player API JSON\n"
     ]
    },
    {
     "name": "stderr",
     "output_type": "stream",
     "text": [
      "WARNING: [youtube] YouTube said: ERROR - Precondition check failed.\n",
      "WARNING: [youtube] HTTP Error 400: Bad Request. Retrying (1/3)...\n"
     ]
    },
    {
     "name": "stdout",
     "output_type": "stream",
     "text": [
      "[youtube] k3zimSRKqNw: Downloading android player API JSON\n",
      "[youtube] k3zimSRKqNw: Downloading m3u8 information\n",
      "[info] k3zimSRKqNw: Downloading 1 format(s): 251\n",
      "[download] Destination: C:\\Users\\arwin\\Documents\\dev\\APS360-PROJECT\\data\\billboard_audio\\Imagine Dragons_Follow You\\Imagine Dragons_Follow You.webm\n",
      "[download] 100% of    4.08MiB in 00:00:00 at 11.37MiB/s  \n",
      "[download] Finished downloading playlist: Imagine Dragons Follow You\n",
      "[generic] Extracting URL: Mora, Bad Bunny & Sech Volando\n",
      "[youtube:search] Extracting URL: ytsearch:Mora, Bad Bunny & Sech Volando\n",
      "[download] Downloading playlist: Mora, Bad Bunny & Sech Volando\n",
      "[youtube:search] query \"Mora, Bad Bunny & Sech Volando\": Downloading web client config\n",
      "[youtube:search] query \"Mora, Bad Bunny & Sech Volando\" page 1: Downloading API JSON\n",
      "[youtube:search] Playlist Mora, Bad Bunny & Sech Volando: Downloading 1 items of 1\n",
      "[download] Downloading item 1 of 1\n",
      "[youtube] Extracting URL: https://www.youtube.com/watch?v=P982oehprfY\n",
      "[youtube] P982oehprfY: Downloading webpage\n",
      "[youtube] P982oehprfY: Downloading ios player API JSON\n",
      "[youtube] P982oehprfY: Downloading android player API JSON\n",
      "[youtube] P982oehprfY: Downloading m3u8 information\n",
      "[info] P982oehprfY: Downloading 1 format(s): 251\n",
      "[download] Destination: C:\\Users\\arwin\\Documents\\dev\\APS360-PROJECT\\data\\billboard_audio\\Mora, Bad Bunny & Sech_Volando\\Mora, Bad Bunny & Sech_Volando.webm\n",
      "[download] 100% of    4.66MiB in 00:00:00 at 17.29MiB/s  \n",
      "[download] Finished downloading playlist: Mora, Bad Bunny & Sech Volando\n",
      "[generic] Extracting URL: 42 Dugg & Roddy Ricch 4 Da Gang\n",
      "[youtube:search] Extracting URL: ytsearch:42 Dugg & Roddy Ricch 4 Da Gang\n",
      "[download] Downloading playlist: 42 Dugg & Roddy Ricch 4 Da Gang\n",
      "[youtube:search] query \"42 Dugg & Roddy Ricch 4 Da Gang\": Downloading web client config\n",
      "[youtube:search] query \"42 Dugg & Roddy Ricch 4 Da Gang\" page 1: Downloading API JSON\n",
      "[youtube:search] Playlist 42 Dugg & Roddy Ricch 4 Da Gang: Downloading 1 items of 1\n",
      "[download] Downloading item 1 of 1\n",
      "[youtube] Extracting URL: https://www.youtube.com/watch?v=x6LBEoIF1mk\n",
      "[youtube] x6LBEoIF1mk: Downloading webpage\n",
      "[youtube] x6LBEoIF1mk: Downloading ios player API JSON\n",
      "[youtube] x6LBEoIF1mk: Downloading android player API JSON\n",
      "[youtube] x6LBEoIF1mk: Downloading m3u8 information\n",
      "[info] x6LBEoIF1mk: Downloading 1 format(s): 251\n",
      "[download] Destination: C:\\Users\\arwin\\Documents\\dev\\APS360-PROJECT\\data\\billboard_audio\\42 Dugg & Roddy Ricch_4 Da Gang\\42 Dugg & Roddy Ricch_4 Da Gang.webm\n",
      "[download] 100% of    2.48MiB in 00:00:00 at 14.87MiB/s    \n",
      "[download] Finished downloading playlist: 42 Dugg & Roddy Ricch 4 Da Gang\n",
      "[generic] Extracting URL: Bad Bunny De Museo\n",
      "[youtube:search] Extracting URL: ytsearch:Bad Bunny De Museo\n",
      "[download] Downloading playlist: Bad Bunny De Museo\n",
      "[youtube:search] query \"Bad Bunny De Museo\": Downloading web client config\n",
      "[youtube:search] query \"Bad Bunny De Museo\" page 1: Downloading API JSON\n",
      "[youtube:search] Playlist Bad Bunny De Museo: Downloading 1 items of 1\n",
      "[download] Downloading item 1 of 1\n",
      "[youtube] Extracting URL: https://www.youtube.com/watch?v=ss0Un7fa-Mw\n",
      "[youtube] ss0Un7fa-Mw: Downloading webpage\n",
      "[youtube] ss0Un7fa-Mw: Downloading ios player API JSON\n",
      "[youtube] ss0Un7fa-Mw: Downloading android player API JSON\n",
      "[youtube] ss0Un7fa-Mw: Downloading m3u8 information\n",
      "[info] ss0Un7fa-Mw: Downloading 1 format(s): 251\n",
      "[download] Destination: C:\\Users\\arwin\\Documents\\dev\\APS360-PROJECT\\data\\billboard_audio\\Bad Bunny_De Museo\\Bad Bunny_De Museo.webm\n",
      "[download] 100% of    3.75MiB in 00:00:00 at 9.72MiB/s   \n",
      "[download] Finished downloading playlist: Bad Bunny De Museo\n",
      "[generic] Extracting URL: Brent Faiyaz Featuring Drake Wasting Time\n",
      "[youtube:search] Extracting URL: ytsearch:Brent Faiyaz Featuring Drake Wasting Time\n",
      "[download] Downloading playlist: Brent Faiyaz Featuring Drake Wasting Time\n",
      "[youtube:search] query \"Brent Faiyaz Featuring Drake Wasting Time\": Downloading web client config\n",
      "[youtube:search] query \"Brent Faiyaz Featuring Drake Wasting Time\" page 1: Downloading API JSON\n",
      "[youtube:search] Playlist Brent Faiyaz Featuring Drake Wasting Time: Downloading 1 items of 1\n",
      "[download] Downloading item 1 of 1\n",
      "[youtube] Extracting URL: https://www.youtube.com/watch?v=KJViHi-dSxY\n",
      "[youtube] KJViHi-dSxY: Downloading webpage\n",
      "[youtube] KJViHi-dSxY: Downloading ios player API JSON\n",
      "[youtube] KJViHi-dSxY: Downloading android player API JSON\n"
     ]
    },
    {
     "name": "stderr",
     "output_type": "stream",
     "text": [
      "WARNING: [youtube] YouTube said: ERROR - Precondition check failed.\n",
      "WARNING: [youtube] HTTP Error 400: Bad Request. Retrying (1/3)...\n"
     ]
    },
    {
     "name": "stdout",
     "output_type": "stream",
     "text": [
      "[youtube] KJViHi-dSxY: Downloading android player API JSON\n"
     ]
    },
    {
     "name": "stderr",
     "output_type": "stream",
     "text": [
      "WARNING: [youtube] YouTube said: ERROR - Precondition check failed.\n",
      "WARNING: [youtube] HTTP Error 400: Bad Request. Retrying (2/3)...\n"
     ]
    },
    {
     "name": "stdout",
     "output_type": "stream",
     "text": [
      "[youtube] KJViHi-dSxY: Downloading android player API JSON\n",
      "[youtube] KJViHi-dSxY: Downloading m3u8 information\n",
      "[info] KJViHi-dSxY: Downloading 1 format(s): 251\n",
      "[download] Destination: C:\\Users\\arwin\\Documents\\dev\\APS360-PROJECT\\data\\billboard_audio\\Brent Faiyaz Featuring Drake_Wasting Time\\Brent Faiyaz Featuring Drake_Wasting Time.webm\n",
      "[download] 100% of    4.52MiB in 00:00:00 at 9.35MiB/s     \n",
      "[download] Finished downloading playlist: Brent Faiyaz Featuring Drake Wasting Time\n",
      "[generic] Extracting URL: P!nk All I Know So Far\n",
      "[youtube:search] Extracting URL: ytsearch:P!nk All I Know So Far\n",
      "[download] Downloading playlist: P!nk All I Know So Far\n",
      "[youtube:search] query \"P!nk All I Know So Far\": Downloading web client config\n",
      "[youtube:search] query \"P!nk All I Know So Far\" page 1: Downloading API JSON\n",
      "[youtube:search] Playlist P!nk All I Know So Far: Downloading 1 items of 1\n",
      "[download] Downloading item 1 of 1\n",
      "[youtube] Extracting URL: https://www.youtube.com/watch?v=wGj9oADcyRs\n",
      "[youtube] wGj9oADcyRs: Downloading webpage\n",
      "[youtube] wGj9oADcyRs: Downloading ios player API JSON\n",
      "[youtube] wGj9oADcyRs: Downloading android player API JSON\n"
     ]
    },
    {
     "name": "stderr",
     "output_type": "stream",
     "text": [
      "WARNING: [youtube] YouTube said: ERROR - Precondition check failed.\n",
      "WARNING: [youtube] HTTP Error 400: Bad Request. Retrying (1/3)...\n"
     ]
    },
    {
     "name": "stdout",
     "output_type": "stream",
     "text": [
      "[youtube] wGj9oADcyRs: Downloading android player API JSON\n"
     ]
    },
    {
     "name": "stderr",
     "output_type": "stream",
     "text": [
      "WARNING: [youtube] YouTube said: ERROR - Precondition check failed.\n",
      "WARNING: [youtube] HTTP Error 400: Bad Request. Retrying (2/3)...\n"
     ]
    },
    {
     "name": "stdout",
     "output_type": "stream",
     "text": [
      "[youtube] wGj9oADcyRs: Downloading android player API JSON\n"
     ]
    },
    {
     "name": "stderr",
     "output_type": "stream",
     "text": [
      "WARNING: [youtube] YouTube said: ERROR - Precondition check failed.\n",
      "WARNING: [youtube] HTTP Error 400: Bad Request. Retrying (3/3)...\n"
     ]
    },
    {
     "name": "stdout",
     "output_type": "stream",
     "text": [
      "[youtube] wGj9oADcyRs: Downloading android player API JSON\n",
      "[youtube] wGj9oADcyRs: Downloading m3u8 information\n",
      "[info] wGj9oADcyRs: Downloading 1 format(s): 251\n",
      "[download] Destination: C:\\Users\\arwin\\Documents\\dev\\APS360-PROJECT\\data\\billboard_audio\\P!nk_All I Know So Far\\P!nk_All I Know So Far.webm\n",
      "[download] 100% of    4.53MiB in 00:00:00 at 21.24MiB/s    \n",
      "[download] Finished downloading playlist: P!nk All I Know So Far\n",
      "[generic] Extracting URL: Mooski Track Star\n",
      "[youtube:search] Extracting URL: ytsearch:Mooski Track Star\n",
      "[download] Downloading playlist: Mooski Track Star\n",
      "[youtube:search] query \"Mooski Track Star\": Downloading web client config\n",
      "[youtube:search] query \"Mooski Track Star\" page 1: Downloading API JSON\n",
      "[youtube:search] Playlist Mooski Track Star: Downloading 1 items of 1\n",
      "[download] Downloading item 1 of 1\n",
      "[youtube] Extracting URL: https://www.youtube.com/watch?v=KPfcycMj8BE\n",
      "[youtube] KPfcycMj8BE: Downloading webpage\n",
      "[youtube] KPfcycMj8BE: Downloading ios player API JSON\n",
      "[youtube] KPfcycMj8BE: Downloading android player API JSON\n",
      "[youtube] KPfcycMj8BE: Downloading m3u8 information\n",
      "[info] KPfcycMj8BE: Downloading 1 format(s): 251\n",
      "[download] Destination: C:\\Users\\arwin\\Documents\\dev\\APS360-PROJECT\\data\\billboard_audio\\Mooski_Track Star\\Mooski_Track Star.webm\n",
      "[download] 100% of    3.52MiB in 00:00:00 at 19.53MiB/s  \n",
      "[download] Finished downloading playlist: Mooski Track Star\n",
      "[generic] Extracting URL: Big Red Machine Featuring Taylor Swift Renegade\n",
      "[youtube:search] Extracting URL: ytsearch:Big Red Machine Featuring Taylor Swift Renegade\n",
      "[download] Downloading playlist: Big Red Machine Featuring Taylor Swift Renegade\n",
      "[youtube:search] query \"Big Red Machine Featuring Taylor Swift Renegade\": Downloading web client config\n",
      "[youtube:search] query \"Big Red Machine Featuring Taylor Swift Renegade\" page 1: Downloading API JSON\n",
      "[youtube:search] Playlist Big Red Machine Featuring Taylor Swift Renegade: Downloading 1 items of 1\n",
      "[download] Downloading item 1 of 1\n",
      "[youtube] Extracting URL: https://www.youtube.com/watch?v=h_wr-9X47ao\n",
      "[youtube] h_wr-9X47ao: Downloading webpage\n",
      "[youtube] h_wr-9X47ao: Downloading ios player API JSON\n",
      "[youtube] h_wr-9X47ao: Downloading android player API JSON\n",
      "[youtube] h_wr-9X47ao: Downloading m3u8 information\n",
      "[info] h_wr-9X47ao: Downloading 1 format(s): 251\n",
      "[download] Destination: C:\\Users\\arwin\\Documents\\dev\\APS360-PROJECT\\data\\billboard_audio\\Big Red Machine Featuring Taylor Swift_Renegade\\Big Red Machine Featuring Taylor Swift_Renegade.webm\n",
      "[download] 100% of    4.16MiB in 00:00:00 at 15.43MiB/s  \n",
      "[download] Finished downloading playlist: Big Red Machine Featuring Taylor Swift Renegade\n",
      "[generic] Extracting URL: G Herbo Featuring Polo G & Lil Tjay Cry No More\n",
      "[youtube:search] Extracting URL: ytsearch:G Herbo Featuring Polo G & Lil Tjay Cry No More\n",
      "[download] Downloading playlist: G Herbo Featuring Polo G & Lil Tjay Cry No More\n",
      "[youtube:search] query \"G Herbo Featuring Polo G & Lil Tjay Cry No More\": Downloading web client config\n",
      "[youtube:search] query \"G Herbo Featuring Polo G & Lil Tjay Cry No More\" page 1: Downloading API JSON\n",
      "[youtube:search] Playlist G Herbo Featuring Polo G & Lil Tjay Cry No More: Downloading 1 items of 1\n",
      "[download] Downloading item 1 of 1\n",
      "[youtube] Extracting URL: https://www.youtube.com/watch?v=o-rmsrUjcjI\n",
      "[youtube] o-rmsrUjcjI: Downloading webpage\n",
      "[youtube] o-rmsrUjcjI: Downloading ios player API JSON\n",
      "[youtube] o-rmsrUjcjI: Downloading android player API JSON\n",
      "[youtube] o-rmsrUjcjI: Downloading m3u8 information\n",
      "[info] o-rmsrUjcjI: Downloading 1 format(s): 251\n",
      "[download] Destination: C:\\Users\\arwin\\Documents\\dev\\APS360-PROJECT\\data\\billboard_audio\\G Herbo Featuring Polo G & Lil Tjay_Cry No More\\G Herbo Featuring Polo G & Lil Tjay_Cry No More.webm\n",
      "[download] 100% of    4.36MiB in 00:00:00 at 14.06MiB/s  \n",
      "[download] Finished downloading playlist: G Herbo Featuring Polo G & Lil Tjay Cry No More\n",
      "[generic] Extracting URL: Jake Owen Made For You\n",
      "[youtube:search] Extracting URL: ytsearch:Jake Owen Made For You\n",
      "[download] Downloading playlist: Jake Owen Made For You\n",
      "[youtube:search] query \"Jake Owen Made For You\": Downloading web client config\n",
      "[youtube:search] query \"Jake Owen Made For You\" page 1: Downloading API JSON\n",
      "[youtube:search] Playlist Jake Owen Made For You: Downloading 1 items of 1\n",
      "[download] Downloading item 1 of 1\n",
      "[youtube] Extracting URL: https://www.youtube.com/watch?v=-uvIf9cSegE\n",
      "[youtube] -uvIf9cSegE: Downloading webpage\n",
      "[youtube] -uvIf9cSegE: Downloading ios player API JSON\n",
      "[youtube] -uvIf9cSegE: Downloading android player API JSON\n",
      "[youtube] -uvIf9cSegE: Downloading m3u8 information\n",
      "[info] -uvIf9cSegE: Downloading 1 format(s): 251\n",
      "[download] Destination: C:\\Users\\arwin\\Documents\\dev\\APS360-PROJECT\\data\\billboard_audio\\Jake Owen_Made For You\\Jake Owen_Made For You.webm\n",
      "[download] 100% of    4.18MiB in 00:00:00 at 15.63MiB/s  \n",
      "[download] Finished downloading playlist: Jake Owen Made For You\n",
      "[generic] Extracting URL: Migos Featuring Drake Having Our Way\n",
      "[youtube:search] Extracting URL: ytsearch:Migos Featuring Drake Having Our Way\n",
      "[download] Downloading playlist: Migos Featuring Drake Having Our Way\n",
      "[youtube:search] query \"Migos Featuring Drake Having Our Way\": Downloading web client config\n",
      "[youtube:search] query \"Migos Featuring Drake Having Our Way\" page 1: Downloading API JSON\n",
      "[youtube:search] Playlist Migos Featuring Drake Having Our Way: Downloading 1 items of 1\n",
      "[download] Downloading item 1 of 1\n",
      "[youtube] Extracting URL: https://www.youtube.com/watch?v=gTf36GEcK8s\n",
      "[youtube] gTf36GEcK8s: Downloading webpage\n",
      "[youtube] gTf36GEcK8s: Downloading ios player API JSON\n",
      "[youtube] gTf36GEcK8s: Downloading android player API JSON\n",
      "[youtube] gTf36GEcK8s: Downloading m3u8 information\n",
      "[info] gTf36GEcK8s: Downloading 1 format(s): 251\n",
      "[download] Destination: C:\\Users\\arwin\\Documents\\dev\\APS360-PROJECT\\data\\billboard_audio\\Migos Featuring Drake_Having Our Way\\Migos Featuring Drake_Having Our Way.webm\n",
      "[download] 100% of    4.62MiB in 00:00:00 at 15.91MiB/s  \n",
      "[download] Finished downloading playlist: Migos Featuring Drake Having Our Way\n",
      "[generic] Extracting URL: Drake What's Next\n",
      "[youtube:search] Extracting URL: ytsearch:Drake What's Next\n",
      "[download] Downloading playlist: Drake What's Next\n",
      "[youtube:search] query \"Drake What's Next\": Downloading web client config\n",
      "[youtube:search] query \"Drake What's Next\" page 1: Downloading API JSON\n",
      "[youtube:search] Playlist Drake What's Next: Downloading 1 items of 1\n",
      "[download] Downloading item 1 of 1\n",
      "[youtube] Extracting URL: https://www.youtube.com/watch?v=7EUVJaKJtBY\n",
      "[youtube] 7EUVJaKJtBY: Downloading webpage\n",
      "[youtube] 7EUVJaKJtBY: Downloading ios player API JSON\n",
      "[youtube] 7EUVJaKJtBY: Downloading android player API JSON\n",
      "[youtube] 7EUVJaKJtBY: Downloading m3u8 information\n",
      "[info] 7EUVJaKJtBY: Downloading 1 format(s): 251\n",
      "[download] Destination: C:\\Users\\arwin\\Documents\\dev\\APS360-PROJECT\\data\\billboard_audio\\Drake_What's Next\\Drake_What's Next.webm\n",
      "[download] 100% of    2.76MiB in 00:00:00 at 11.78MiB/s  \n",
      "[download] Finished downloading playlist: Drake What's Next\n",
      "[generic] Extracting URL: Olivia Rodrigo Enough For You\n",
      "[youtube:search] Extracting URL: ytsearch:Olivia Rodrigo Enough For You\n",
      "[download] Downloading playlist: Olivia Rodrigo Enough For You\n",
      "[youtube:search] query \"Olivia Rodrigo Enough For You\": Downloading web client config\n",
      "[youtube:search] query \"Olivia Rodrigo Enough For You\" page 1: Downloading API JSON\n",
      "[youtube:search] Playlist Olivia Rodrigo Enough For You: Downloading 1 items of 1\n",
      "[download] Downloading item 1 of 1\n",
      "[youtube] Extracting URL: https://www.youtube.com/watch?v=AqRXiQkyxvI\n",
      "[youtube] AqRXiQkyxvI: Downloading webpage\n",
      "[youtube] AqRXiQkyxvI: Downloading ios player API JSON\n",
      "[youtube] AqRXiQkyxvI: Downloading android player API JSON\n",
      "[youtube] AqRXiQkyxvI: Downloading m3u8 information\n",
      "[info] AqRXiQkyxvI: Downloading 1 format(s): 251\n",
      "[download] Destination: C:\\Users\\arwin\\Documents\\dev\\APS360-PROJECT\\data\\billboard_audio\\Olivia Rodrigo_Enough For You\\Olivia Rodrigo_Enough For You.webm\n",
      "[download] 100% of    3.40MiB in 00:00:00 at 23.12MiB/s  \n",
      "[download] Finished downloading playlist: Olivia Rodrigo Enough For You\n",
      "[generic] Extracting URL: Tyler, The Creator Featuring Lil Uzi Vert & Pharrell Williams Juggernaut\n",
      "[youtube:search] Extracting URL: ytsearch:Tyler, The Creator Featuring Lil Uzi Vert & Pharrell Williams Juggernaut\n",
      "[download] Downloading playlist: Tyler, The Creator Featuring Lil Uzi Vert & Pharrell Williams Juggernaut\n",
      "[youtube:search] query \"Tyler, The Creator Featuring Lil Uzi Vert & Pharrell Williams Juggernaut\": Downloading web client config\n",
      "[youtube:search] query \"Tyler, The Creator Featuring Lil Uzi Vert & Pharrell Williams Juggernaut\" page 1: Downloading API JSON\n",
      "[youtube:search] Playlist Tyler, The Creator Featuring Lil Uzi Vert & Pharrell Williams Juggernaut: Downloading 1 items of 1\n",
      "[download] Downloading item 1 of 1\n",
      "[youtube] Extracting URL: https://www.youtube.com/watch?v=icoOOiSlKK0\n",
      "[youtube] icoOOiSlKK0: Downloading webpage\n",
      "[youtube] icoOOiSlKK0: Downloading ios player API JSON\n",
      "[youtube] icoOOiSlKK0: Downloading android player API JSON\n",
      "[youtube] icoOOiSlKK0: Downloading m3u8 information\n",
      "[info] icoOOiSlKK0: Downloading 1 format(s): 251\n",
      "[download] Destination: C:\\Users\\arwin\\Documents\\dev\\APS360-PROJECT\\data\\billboard_audio\\Tyler, The Creator Featuring Lil Uzi Vert & Pharrell Williams_Juggernaut\\Tyler, The Creator Featuring Lil Uzi Vert & Pharrell Williams_Juggernaut.webm\n",
      "[download] 100% of    1.47MiB in 00:00:00 at 6.41MiB/s   \n",
      "[download] Finished downloading playlist: Tyler, The Creator Featuring Lil Uzi Vert & Pharrell Williams Juggernaut\n",
      "[generic] Extracting URL: Cochise & $NOT Tell Em\n",
      "[youtube:search] Extracting URL: ytsearch:Cochise & $NOT Tell Em\n",
      "[download] Downloading playlist: Cochise & $NOT Tell Em\n",
      "[youtube:search] query \"Cochise & $NOT Tell Em\": Downloading web client config\n",
      "[youtube:search] query \"Cochise & $NOT Tell Em\" page 1: Downloading API JSON\n",
      "[youtube:search] Playlist Cochise & $NOT Tell Em: Downloading 1 items of 1\n",
      "[download] Downloading item 1 of 1\n",
      "[youtube] Extracting URL: https://www.youtube.com/watch?v=L5ByY30tfvM\n",
      "[youtube] L5ByY30tfvM: Downloading webpage\n",
      "[youtube] L5ByY30tfvM: Downloading ios player API JSON\n",
      "[youtube] L5ByY30tfvM: Downloading android player API JSON\n"
     ]
    },
    {
     "name": "stderr",
     "output_type": "stream",
     "text": [
      "WARNING: [youtube] YouTube said: ERROR - Precondition check failed.\n",
      "WARNING: [youtube] HTTP Error 400: Bad Request. Retrying (1/3)...\n"
     ]
    },
    {
     "name": "stdout",
     "output_type": "stream",
     "text": [
      "[youtube] L5ByY30tfvM: Downloading android player API JSON\n"
     ]
    },
    {
     "name": "stderr",
     "output_type": "stream",
     "text": [
      "WARNING: [youtube] YouTube said: ERROR - Precondition check failed.\n",
      "WARNING: [youtube] HTTP Error 400: Bad Request. Retrying (2/3)...\n"
     ]
    },
    {
     "name": "stdout",
     "output_type": "stream",
     "text": [
      "[youtube] L5ByY30tfvM: Downloading android player API JSON\n"
     ]
    },
    {
     "name": "stderr",
     "output_type": "stream",
     "text": [
      "WARNING: [youtube] YouTube said: ERROR - Precondition check failed.\n",
      "WARNING: [youtube] HTTP Error 400: Bad Request. Retrying (3/3)...\n"
     ]
    },
    {
     "name": "stdout",
     "output_type": "stream",
     "text": [
      "[youtube] L5ByY30tfvM: Downloading android player API JSON\n",
      "[youtube] L5ByY30tfvM: Downloading m3u8 information\n",
      "[info] L5ByY30tfvM: Downloading 1 format(s): 251\n",
      "[download] Destination: C:\\Users\\arwin\\Documents\\dev\\APS360-PROJECT\\data\\billboard_audio\\Cochise & $NOT_Tell Em\\Cochise & $NOT_Tell Em.webm\n",
      "[download] 100% of    3.50MiB in 00:00:00 at 17.38MiB/s  \n",
      "[download] Finished downloading playlist: Cochise & $NOT Tell Em\n",
      "[generic] Extracting URL: Tyler, The Creator Featuring 42 Dugg Lemonhead\n",
      "[youtube:search] Extracting URL: ytsearch:Tyler, The Creator Featuring 42 Dugg Lemonhead\n",
      "[download] Downloading playlist: Tyler, The Creator Featuring 42 Dugg Lemonhead\n",
      "[youtube:search] query \"Tyler, The Creator Featuring 42 Dugg Lemonhead\": Downloading web client config\n",
      "[youtube:search] query \"Tyler, The Creator Featuring 42 Dugg Lemonhead\" page 1: Downloading API JSON\n",
      "[youtube:search] Playlist Tyler, The Creator Featuring 42 Dugg Lemonhead: Downloading 1 items of 1\n",
      "[download] Downloading item 1 of 1\n",
      "[youtube] Extracting URL: https://www.youtube.com/watch?v=VpdUaJY96-0\n",
      "[youtube] VpdUaJY96-0: Downloading webpage\n",
      "[youtube] VpdUaJY96-0: Downloading ios player API JSON\n",
      "[youtube] VpdUaJY96-0: Downloading android player API JSON\n",
      "[youtube] VpdUaJY96-0: Downloading m3u8 information\n",
      "[info] VpdUaJY96-0: Downloading 1 format(s): 251\n",
      "[download] Destination: C:\\Users\\arwin\\Documents\\dev\\APS360-PROJECT\\data\\billboard_audio\\Tyler, The Creator Featuring 42 Dugg_Lemonhead\\Tyler, The Creator Featuring 42 Dugg_Lemonhead.webm\n",
      "[download] 100% of    1.87MiB in 00:00:00 at 8.67MiB/s   \n",
      "[download] Finished downloading playlist: Tyler, The Creator Featuring 42 Dugg Lemonhead\n",
      "[generic] Extracting URL: Tyler, The Creator Lumberjack\n",
      "[youtube:search] Extracting URL: ytsearch:Tyler, The Creator Lumberjack\n",
      "[download] Downloading playlist: Tyler, The Creator Lumberjack\n",
      "[youtube:search] query \"Tyler, The Creator Lumberjack\": Downloading web client config\n",
      "[youtube:search] query \"Tyler, The Creator Lumberjack\" page 1: Downloading API JSON\n",
      "[youtube:search] Playlist Tyler, The Creator Lumberjack: Downloading 1 items of 1\n",
      "[download] Downloading item 1 of 1\n",
      "[youtube] Extracting URL: https://www.youtube.com/watch?v=R4Y7JIQlv20\n",
      "[youtube] R4Y7JIQlv20: Downloading webpage\n",
      "[youtube] R4Y7JIQlv20: Downloading ios player API JSON\n",
      "[youtube] R4Y7JIQlv20: Downloading android player API JSON\n",
      "[youtube] R4Y7JIQlv20: Downloading m3u8 information\n",
      "[info] R4Y7JIQlv20: Downloading 1 format(s): 251\n",
      "[download] Destination: C:\\Users\\arwin\\Documents\\dev\\APS360-PROJECT\\data\\billboard_audio\\Tyler, The Creator_Lumberjack\\Tyler, The Creator_Lumberjack.webm\n",
      "[download] 100% of    1.18MiB in 00:00:00 at 5.90MiB/s     \n",
      "[download] Finished downloading playlist: Tyler, The Creator Lumberjack\n",
      "[generic] Extracting URL: Jordan Davis Almost Maybes\n",
      "[youtube:search] Extracting URL: ytsearch:Jordan Davis Almost Maybes\n",
      "[download] Downloading playlist: Jordan Davis Almost Maybes\n",
      "[youtube:search] query \"Jordan Davis Almost Maybes\": Downloading web client config\n",
      "[youtube:search] query \"Jordan Davis Almost Maybes\" page 1: Downloading API JSON\n",
      "[youtube:search] Playlist Jordan Davis Almost Maybes: Downloading 1 items of 1\n",
      "[download] Downloading item 1 of 1\n",
      "[youtube] Extracting URL: https://www.youtube.com/watch?v=c4XKdtjrtw8\n",
      "[youtube] c4XKdtjrtw8: Downloading webpage\n",
      "[youtube] c4XKdtjrtw8: Downloading ios player API JSON\n",
      "[youtube] c4XKdtjrtw8: Downloading android player API JSON\n",
      "[youtube] c4XKdtjrtw8: Downloading m3u8 information\n",
      "[info] c4XKdtjrtw8: Downloading 1 format(s): 251\n",
      "[download] Destination: C:\\Users\\arwin\\Documents\\dev\\APS360-PROJECT\\data\\billboard_audio\\Jordan Davis_Almost Maybes\\Jordan Davis_Almost Maybes.webm\n",
      "[download] 100% of    2.77MiB in 00:00:00 at 19.94MiB/s  \n",
      "[download] Finished downloading playlist: Jordan Davis Almost Maybes\n",
      "[generic] Extracting URL: Tyler, The Creator Featuring Lil Wayne Hot Wind Blows\n",
      "[youtube:search] Extracting URL: ytsearch:Tyler, The Creator Featuring Lil Wayne Hot Wind Blows\n",
      "[download] Downloading playlist: Tyler, The Creator Featuring Lil Wayne Hot Wind Blows\n",
      "[youtube:search] query \"Tyler, The Creator Featuring Lil Wayne Hot Wind Blows\": Downloading web client config\n",
      "[youtube:search] query \"Tyler, The Creator Featuring Lil Wayne Hot Wind Blows\" page 1: Downloading API JSON\n",
      "[youtube:search] Playlist Tyler, The Creator Featuring Lil Wayne Hot Wind Blows: Downloading 1 items of 1\n",
      "[download] Downloading item 1 of 1\n",
      "[youtube] Extracting URL: https://www.youtube.com/watch?v=fwGs72ihIeI\n",
      "[youtube] fwGs72ihIeI: Downloading webpage\n",
      "[youtube] fwGs72ihIeI: Downloading ios player API JSON\n",
      "[youtube] fwGs72ihIeI: Downloading android player API JSON\n",
      "[youtube] fwGs72ihIeI: Downloading m3u8 information\n",
      "[info] fwGs72ihIeI: Downloading 1 format(s): 251\n",
      "[download] Destination: C:\\Users\\arwin\\Documents\\dev\\APS360-PROJECT\\data\\billboard_audio\\Tyler, The Creator Featuring Lil Wayne_Hot Wind Blows\\Tyler, The Creator Featuring Lil Wayne_Hot Wind Blows.webm\n",
      "[download] 100% of    2.48MiB in 00:00:00 at 14.86MiB/s  \n",
      "[download] Finished downloading playlist: Tyler, The Creator Featuring Lil Wayne Hot Wind Blows\n",
      "[generic] Extracting URL: Tyler, The Creator Corso\n",
      "[youtube:search] Extracting URL: ytsearch:Tyler, The Creator Corso\n",
      "[download] Downloading playlist: Tyler, The Creator Corso\n",
      "[youtube:search] query \"Tyler, The Creator Corso\": Downloading web client config\n",
      "[youtube:search] query \"Tyler, The Creator Corso\" page 1: Downloading API JSON\n",
      "[youtube:search] Playlist Tyler, The Creator Corso: Downloading 1 items of 1\n",
      "[download] Downloading item 1 of 1\n",
      "[youtube] Extracting URL: https://www.youtube.com/watch?v=Lqvwm3zAILI\n",
      "[youtube] Lqvwm3zAILI: Downloading webpage\n",
      "[youtube] Lqvwm3zAILI: Downloading ios player API JSON\n",
      "[youtube] Lqvwm3zAILI: Downloading android player API JSON\n"
     ]
    },
    {
     "name": "stderr",
     "output_type": "stream",
     "text": [
      "WARNING: [youtube] YouTube said: ERROR - Precondition check failed.\n",
      "WARNING: [youtube] HTTP Error 400: Bad Request. Retrying (1/3)...\n"
     ]
    },
    {
     "name": "stdout",
     "output_type": "stream",
     "text": [
      "[youtube] Lqvwm3zAILI: Downloading android player API JSON\n"
     ]
    },
    {
     "name": "stderr",
     "output_type": "stream",
     "text": [
      "WARNING: [youtube] YouTube said: ERROR - Precondition check failed.\n",
      "WARNING: [youtube] HTTP Error 400: Bad Request. Retrying (2/3)...\n"
     ]
    },
    {
     "name": "stdout",
     "output_type": "stream",
     "text": [
      "[youtube] Lqvwm3zAILI: Downloading android player API JSON\n",
      "[youtube] Lqvwm3zAILI: Downloading m3u8 information\n",
      "[info] Lqvwm3zAILI: Downloading 1 format(s): 251\n",
      "[download] Destination: C:\\Users\\arwin\\Documents\\dev\\APS360-PROJECT\\data\\billboard_audio\\Tyler, The Creator_Corso\\Tyler, The Creator_Corso.webm\n",
      "[download] 100% of    4.75MiB in 00:00:00 at 14.41MiB/s  \n",
      "[download] Finished downloading playlist: Tyler, The Creator Corso\n",
      "[generic] Extracting URL: Doja Cat Featuring Ariana Grande I Don't Do Drugs\n",
      "[youtube:search] Extracting URL: ytsearch:Doja Cat Featuring Ariana Grande I Don't Do Drugs\n",
      "[download] Downloading playlist: Doja Cat Featuring Ariana Grande I Don't Do Drugs\n",
      "[youtube:search] query \"Doja Cat Featuring Ariana Grande I Don't Do Drugs\": Downloading web client config\n",
      "[youtube:search] query \"Doja Cat Featuring Ariana Grande I Don't Do Drugs\" page 1: Downloading API JSON\n",
      "[youtube:search] Playlist Doja Cat Featuring Ariana Grande I Don't Do Drugs: Downloading 1 items of 1\n",
      "[download] Downloading item 1 of 1\n",
      "[youtube] Extracting URL: https://www.youtube.com/watch?v=OjHAOvR8kps\n",
      "[youtube] OjHAOvR8kps: Downloading webpage\n",
      "[youtube] OjHAOvR8kps: Downloading ios player API JSON\n",
      "[youtube] OjHAOvR8kps: Downloading android player API JSON\n",
      "[youtube] OjHAOvR8kps: Downloading m3u8 information\n",
      "[info] OjHAOvR8kps: Downloading 1 format(s): 251\n",
      "[download] Destination: C:\\Users\\arwin\\Documents\\dev\\APS360-PROJECT\\data\\billboard_audio\\Doja Cat Featuring Ariana Grande_I Don't Do Drugs\\Doja Cat Featuring Ariana Grande_I Don't Do Drugs.webm\n",
      "[download] 100% of    3.09MiB in 00:00:00 at 13.45MiB/s    \n",
      "[download] Finished downloading playlist: Doja Cat Featuring Ariana Grande I Don't Do Drugs\n",
      "[generic] Extracting URL: Tyler, The Creator Featuring DJ Drama Sir Baudelaire\n",
      "[youtube:search] Extracting URL: ytsearch:Tyler, The Creator Featuring DJ Drama Sir Baudelaire\n",
      "[download] Downloading playlist: Tyler, The Creator Featuring DJ Drama Sir Baudelaire\n",
      "[youtube:search] query \"Tyler, The Creator Featuring DJ Drama Sir Baudelaire\": Downloading web client config\n",
      "[youtube:search] query \"Tyler, The Creator Featuring DJ Drama Sir Baudelaire\" page 1: Downloading API JSON\n",
      "[youtube:search] Playlist Tyler, The Creator Featuring DJ Drama Sir Baudelaire: Downloading 1 items of 1\n",
      "[download] Downloading item 1 of 1\n",
      "[youtube] Extracting URL: https://www.youtube.com/watch?v=Z-lCE23e12I\n",
      "[youtube] Z-lCE23e12I: Downloading webpage\n",
      "[youtube] Z-lCE23e12I: Downloading ios player API JSON\n",
      "[youtube] Z-lCE23e12I: Downloading android player API JSON\n"
     ]
    },
    {
     "name": "stderr",
     "output_type": "stream",
     "text": [
      "WARNING: [youtube] YouTube said: ERROR - Precondition check failed.\n",
      "WARNING: [youtube] HTTP Error 400: Bad Request. Retrying (1/3)...\n"
     ]
    },
    {
     "name": "stdout",
     "output_type": "stream",
     "text": [
      "[youtube] Z-lCE23e12I: Downloading android player API JSON\n"
     ]
    },
    {
     "name": "stderr",
     "output_type": "stream",
     "text": [
      "WARNING: [youtube] YouTube said: ERROR - Precondition check failed.\n",
      "WARNING: [youtube] HTTP Error 400: Bad Request. Retrying (2/3)...\n"
     ]
    },
    {
     "name": "stdout",
     "output_type": "stream",
     "text": [
      "[youtube] Z-lCE23e12I: Downloading android player API JSON\n",
      "[youtube] Z-lCE23e12I: Downloading m3u8 information\n",
      "[info] Z-lCE23e12I: Downloading 1 format(s): 251\n",
      "[download] Destination: C:\\Users\\arwin\\Documents\\dev\\APS360-PROJECT\\data\\billboard_audio\\Tyler, The Creator Featuring DJ Drama_Sir Baudelaire\\Tyler, The Creator Featuring DJ Drama_Sir Baudelaire.webm\n",
      "[download] 100% of    1.46MiB in 00:00:00 at 7.85MiB/s     \n",
      "[download] Finished downloading playlist: Tyler, The Creator Featuring DJ Drama Sir Baudelaire\n",
      "[generic] Extracting URL: Tyler, The Creator Featuring Brent Faiyaz & Fana Hues Sweet _ I Thought You Wanted To Dance\n",
      "[youtube:search] Extracting URL: ytsearch:Tyler, The Creator Featuring Brent Faiyaz & Fana Hues Sweet _ I Thought You Wanted To Dance\n",
      "[download] Downloading playlist: Tyler, The Creator Featuring Brent Faiyaz & Fana Hues Sweet _ I Thought You Wanted To Dance\n",
      "[youtube:search] query \"Tyler, The Creator Featuring Brent Faiyaz & Fana Hues Sweet _ I Thought You Wanted To Dance\": Downloading web client config\n",
      "[youtube:search] query \"Tyler, The Creator Featuring Brent Faiyaz & Fana Hues Sweet _ I Thought You Wanted To Dance\" page 1: Downloading API JSON\n",
      "[youtube:search] Playlist Tyler, The Creator Featuring Brent Faiyaz & Fana Hues Sweet _ I Thought You Wanted To Dance: Downloading 1 items of 1\n",
      "[download] Downloading item 1 of 1\n",
      "[youtube] Extracting URL: https://www.youtube.com/watch?v=ZKjIHQxG_3Q\n",
      "[youtube] ZKjIHQxG_3Q: Downloading webpage\n",
      "[youtube] ZKjIHQxG_3Q: Downloading ios player API JSON\n",
      "[youtube] ZKjIHQxG_3Q: Downloading android player API JSON\n",
      "[youtube] ZKjIHQxG_3Q: Downloading m3u8 information\n",
      "[info] ZKjIHQxG_3Q: Downloading 1 format(s): 251\n",
      "[download] Destination: C:\\Users\\arwin\\Documents\\dev\\APS360-PROJECT\\data\\billboard_audio\\Tyler, The Creator Featuring Brent Faiyaz & Fana Hues_Sweet _ I Thought You Wanted To Dance\\Tyler, The Creator Featuring Brent Faiyaz & Fana Hues_Sweet _ I Thought You Wanted To Dance.webm\n",
      "[download] 100% of    9.40MiB in 00:00:00 at 18.63MiB/s    \n",
      "[download] Finished downloading playlist: Tyler, The Creator Featuring Brent Faiyaz & Fana Hues Sweet _ I Thought You Wanted To Dance\n",
      "[generic] Extracting URL: Tyler, The Creator Massa\n",
      "[youtube:search] Extracting URL: ytsearch:Tyler, The Creator Massa\n",
      "[download] Downloading playlist: Tyler, The Creator Massa\n",
      "[youtube:search] query \"Tyler, The Creator Massa\": Downloading web client config\n",
      "[youtube:search] query \"Tyler, The Creator Massa\" page 1: Downloading API JSON\n",
      "[youtube:search] Playlist Tyler, The Creator Massa: Downloading 1 items of 1\n",
      "[download] Downloading item 1 of 1\n",
      "[youtube] Extracting URL: https://www.youtube.com/watch?v=fQRfqeBt6YA\n",
      "[youtube] fQRfqeBt6YA: Downloading webpage\n",
      "[youtube] fQRfqeBt6YA: Downloading ios player API JSON\n",
      "[youtube] fQRfqeBt6YA: Downloading android player API JSON\n",
      "[youtube] fQRfqeBt6YA: Downloading m3u8 information\n",
      "[info] fQRfqeBt6YA: Downloading 1 format(s): 251\n",
      "[download] Destination: C:\\Users\\arwin\\Documents\\dev\\APS360-PROJECT\\data\\billboard_audio\\Tyler, The Creator_Massa\\Tyler, The Creator_Massa.webm\n",
      "[download] 100% of    2.67MiB in 00:00:00 at 9.33MiB/s   \n",
      "[download] Finished downloading playlist: Tyler, The Creator Massa\n",
      "[generic] Extracting URL: Tyler, The Creator Featuring Teezo Touchdown RunItUp\n",
      "[youtube:search] Extracting URL: ytsearch:Tyler, The Creator Featuring Teezo Touchdown RunItUp\n",
      "[download] Downloading playlist: Tyler, The Creator Featuring Teezo Touchdown RunItUp\n",
      "[youtube:search] query \"Tyler, The Creator Featuring Teezo Touchdown RunItUp\": Downloading web client config\n",
      "[youtube:search] query \"Tyler, The Creator Featuring Teezo Touchdown RunItUp\" page 1: Downloading API JSON\n",
      "[youtube:search] Playlist Tyler, The Creator Featuring Teezo Touchdown RunItUp: Downloading 1 items of 1\n",
      "[download] Downloading item 1 of 1\n",
      "[youtube] Extracting URL: https://www.youtube.com/watch?v=uLXPCPkQBh0\n",
      "[youtube] uLXPCPkQBh0: Downloading webpage\n",
      "[youtube] uLXPCPkQBh0: Downloading ios player API JSON\n",
      "[youtube] uLXPCPkQBh0: Downloading android player API JSON\n",
      "[youtube] uLXPCPkQBh0: Downloading m3u8 information\n",
      "[info] uLXPCPkQBh0: Downloading 1 format(s): 251\n",
      "[download] Destination: C:\\Users\\arwin\\Documents\\dev\\APS360-PROJECT\\data\\billboard_audio\\Tyler, The Creator Featuring Teezo Touchdown_RunItUp\\Tyler, The Creator Featuring Teezo Touchdown_RunItUp.webm\n",
      "[download] 100% of    3.61MiB in 00:00:00 at 5.31MiB/s   \n",
      "[download] Finished downloading playlist: Tyler, The Creator Featuring Teezo Touchdown RunItUp\n",
      "[generic] Extracting URL: Tyler, The Creator Featuring Domo Genesis Manifesto\n",
      "[youtube:search] Extracting URL: ytsearch:Tyler, The Creator Featuring Domo Genesis Manifesto\n",
      "[download] Downloading playlist: Tyler, The Creator Featuring Domo Genesis Manifesto\n",
      "[youtube:search] query \"Tyler, The Creator Featuring Domo Genesis Manifesto\": Downloading web client config\n",
      "[youtube:search] query \"Tyler, The Creator Featuring Domo Genesis Manifesto\" page 1: Downloading API JSON\n",
      "[youtube:search] Playlist Tyler, The Creator Featuring Domo Genesis Manifesto: Downloading 1 items of 1\n",
      "[download] Downloading item 1 of 1\n",
      "[youtube] Extracting URL: https://www.youtube.com/watch?v=VnDXCoHRl4o\n",
      "[youtube] VnDXCoHRl4o: Downloading webpage\n",
      "[youtube] VnDXCoHRl4o: Downloading ios player API JSON\n",
      "[youtube] VnDXCoHRl4o: Downloading android player API JSON\n"
     ]
    },
    {
     "name": "stderr",
     "output_type": "stream",
     "text": [
      "WARNING: [youtube] YouTube said: ERROR - Precondition check failed.\n",
      "WARNING: [youtube] HTTP Error 400: Bad Request. Retrying (1/3)...\n"
     ]
    },
    {
     "name": "stdout",
     "output_type": "stream",
     "text": [
      "[youtube] VnDXCoHRl4o: Downloading android player API JSON\n"
     ]
    },
    {
     "name": "stderr",
     "output_type": "stream",
     "text": [
      "WARNING: [youtube] YouTube said: ERROR - Precondition check failed.\n",
      "WARNING: [youtube] HTTP Error 400: Bad Request. Retrying (2/3)...\n"
     ]
    },
    {
     "name": "stdout",
     "output_type": "stream",
     "text": [
      "[youtube] VnDXCoHRl4o: Downloading android player API JSON\n",
      "[youtube] VnDXCoHRl4o: Downloading m3u8 information\n",
      "[info] VnDXCoHRl4o: Downloading 1 format(s): 251\n",
      "[download] Destination: C:\\Users\\arwin\\Documents\\dev\\APS360-PROJECT\\data\\billboard_audio\\Tyler, The Creator Featuring Domo Genesis_Manifesto\\Tyler, The Creator Featuring Domo Genesis_Manifesto.webm\n",
      "[download] 100% of    2.70MiB in 00:00:00 at 8.47MiB/s     \n",
      "[download] Finished downloading playlist: Tyler, The Creator Featuring Domo Genesis Manifesto\n",
      "[generic] Extracting URL: Tyler, The Creator Wilshire\n",
      "[youtube:search] Extracting URL: ytsearch:Tyler, The Creator Wilshire\n",
      "[download] Downloading playlist: Tyler, The Creator Wilshire\n",
      "[youtube:search] query \"Tyler, The Creator Wilshire\": Downloading web client config\n",
      "[youtube:search] query \"Tyler, The Creator Wilshire\" page 1: Downloading API JSON\n",
      "[youtube:search] Playlist Tyler, The Creator Wilshire: Downloading 1 items of 1\n",
      "[download] Downloading item 1 of 1\n",
      "[youtube] Extracting URL: https://www.youtube.com/watch?v=LxGVyJLjbiY\n",
      "[youtube] LxGVyJLjbiY: Downloading webpage\n",
      "[youtube] LxGVyJLjbiY: Downloading ios player API JSON\n",
      "[youtube] LxGVyJLjbiY: Downloading android player API JSON\n",
      "[youtube] LxGVyJLjbiY: Downloading m3u8 information\n",
      "[info] LxGVyJLjbiY: Downloading 1 format(s): 251\n",
      "[download] Destination: C:\\Users\\arwin\\Documents\\dev\\APS360-PROJECT\\data\\billboard_audio\\Tyler, The Creator_Wilshire\\Tyler, The Creator_Wilshire.webm\n",
      "[download] 100% of    9.75MiB in 00:00:00 at 18.06MiB/s    \n",
      "[download] Finished downloading playlist: Tyler, The Creator Wilshire\n",
      "[generic] Extracting URL: Tyler, The Creator Featuring Daisy World Rise!\n",
      "[youtube:search] Extracting URL: ytsearch:Tyler, The Creator Featuring Daisy World Rise!\n",
      "[download] Downloading playlist: Tyler, The Creator Featuring Daisy World Rise!\n",
      "[youtube:search] query \"Tyler, The Creator Featuring Daisy World Rise!\": Downloading web client config\n",
      "[youtube:search] query \"Tyler, The Creator Featuring Daisy World Rise!\" page 1: Downloading API JSON\n",
      "[youtube:search] Playlist Tyler, The Creator Featuring Daisy World Rise!: Downloading 1 items of 1\n",
      "[download] Downloading item 1 of 1\n",
      "[youtube] Extracting URL: https://www.youtube.com/watch?v=Znwgjl4wuPo\n",
      "[youtube] Znwgjl4wuPo: Downloading webpage\n",
      "[youtube] Znwgjl4wuPo: Downloading ios player API JSON\n",
      "[youtube] Znwgjl4wuPo: Downloading android player API JSON\n"
     ]
    },
    {
     "name": "stderr",
     "output_type": "stream",
     "text": [
      "WARNING: [youtube] YouTube said: ERROR - Precondition check failed.\n",
      "WARNING: [youtube] HTTP Error 400: Bad Request. Retrying (1/3)...\n"
     ]
    },
    {
     "name": "stdout",
     "output_type": "stream",
     "text": [
      "[youtube] Znwgjl4wuPo: Downloading android player API JSON\n"
     ]
    },
    {
     "name": "stderr",
     "output_type": "stream",
     "text": [
      "WARNING: [youtube] YouTube said: ERROR - Precondition check failed.\n",
      "WARNING: [youtube] HTTP Error 400: Bad Request. Retrying (2/3)...\n"
     ]
    },
    {
     "name": "stdout",
     "output_type": "stream",
     "text": [
      "[youtube] Znwgjl4wuPo: Downloading android player API JSON\n",
      "[youtube] Znwgjl4wuPo: Downloading m3u8 information\n",
      "[info] Znwgjl4wuPo: Downloading 1 format(s): 251\n",
      "[download] Destination: C:\\Users\\arwin\\Documents\\dev\\APS360-PROJECT\\data\\billboard_audio\\Tyler, The Creator Featuring Daisy World_Rise!\\Tyler, The Creator Featuring Daisy World_Rise!.webm\n",
      "[download] 100% of    3.15MiB in 00:00:00 at 16.12MiB/s    \n",
      "[download] Finished downloading playlist: Tyler, The Creator Featuring Daisy World Rise!\n",
      "[generic] Extracting URL: Pop Smoke What You Know Bout Love\n",
      "[youtube:search] Extracting URL: ytsearch:Pop Smoke What You Know Bout Love\n",
      "[download] Downloading playlist: Pop Smoke What You Know Bout Love\n",
      "[youtube:search] query \"Pop Smoke What You Know Bout Love\": Downloading web client config\n",
      "[youtube:search] query \"Pop Smoke What You Know Bout Love\" page 1: Downloading API JSON\n",
      "[youtube:search] Playlist Pop Smoke What You Know Bout Love: Downloading 1 items of 1\n",
      "[download] Downloading item 1 of 1\n",
      "[youtube] Extracting URL: https://www.youtube.com/watch?v=uuodbSVO3z0\n",
      "[youtube] uuodbSVO3z0: Downloading webpage\n",
      "[youtube] uuodbSVO3z0: Downloading ios player API JSON\n",
      "[youtube] uuodbSVO3z0: Downloading android player API JSON\n",
      "[youtube] uuodbSVO3z0: Downloading m3u8 information\n",
      "[info] uuodbSVO3z0: Downloading 1 format(s): 251\n",
      "[download] Destination: C:\\Users\\arwin\\Documents\\dev\\APS360-PROJECT\\data\\billboard_audio\\Pop Smoke_What You Know Bout Love\\Pop Smoke_What You Know Bout Love.webm\n",
      "[download] 100% of    2.70MiB in 00:00:00 at 11.18MiB/s  \n",
      "[download] Finished downloading playlist: Pop Smoke What You Know Bout Love\n",
      "[generic] Extracting URL: Moneybagg Yo Time Today\n",
      "[youtube:search] Extracting URL: ytsearch:Moneybagg Yo Time Today\n",
      "[download] Downloading playlist: Moneybagg Yo Time Today\n",
      "[youtube:search] query \"Moneybagg Yo Time Today\": Downloading web client config\n",
      "[youtube:search] query \"Moneybagg Yo Time Today\" page 1: Downloading API JSON\n",
      "[youtube:search] Playlist Moneybagg Yo Time Today: Downloading 1 items of 1\n",
      "[download] Downloading item 1 of 1\n",
      "[youtube] Extracting URL: https://www.youtube.com/watch?v=1H6xw0B3phU\n",
      "[youtube] 1H6xw0B3phU: Downloading webpage\n",
      "[youtube] 1H6xw0B3phU: Downloading ios player API JSON\n",
      "[youtube] 1H6xw0B3phU: Downloading android player API JSON\n",
      "[youtube] 1H6xw0B3phU: Downloading m3u8 information\n",
      "[info] 1H6xw0B3phU: Downloading 1 format(s): 251\n",
      "[download] Destination: C:\\Users\\arwin\\Documents\\dev\\APS360-PROJECT\\data\\billboard_audio\\Moneybagg Yo_Time Today\\Moneybagg Yo_Time Today.webm\n",
      "[download] 100% of    2.75MiB in 00:00:00 at 13.02MiB/s  \n",
      "[download] Finished downloading playlist: Moneybagg Yo Time Today\n",
      "[generic] Extracting URL: Cardi B Up\n",
      "[youtube:search] Extracting URL: ytsearch:Cardi B Up\n",
      "[download] Downloading playlist: Cardi B Up\n",
      "[youtube:search] query \"Cardi B Up\": Downloading web client config\n",
      "[youtube:search] query \"Cardi B Up\" page 1: Downloading API JSON\n",
      "[youtube:search] Playlist Cardi B Up: Downloading 1 items of 1\n",
      "[download] Downloading item 1 of 1\n",
      "[youtube] Extracting URL: https://www.youtube.com/watch?v=rCiBgLOcuKU\n",
      "[youtube] rCiBgLOcuKU: Downloading webpage\n",
      "[youtube] rCiBgLOcuKU: Downloading ios player API JSON\n",
      "[youtube] rCiBgLOcuKU: Downloading android player API JSON\n"
     ]
    },
    {
     "name": "stderr",
     "output_type": "stream",
     "text": [
      "WARNING: [youtube] YouTube said: ERROR - Precondition check failed.\n",
      "WARNING: [youtube] HTTP Error 400: Bad Request. Retrying (1/3)...\n"
     ]
    },
    {
     "name": "stdout",
     "output_type": "stream",
     "text": [
      "[youtube] rCiBgLOcuKU: Downloading android player API JSON\n"
     ]
    },
    {
     "name": "stderr",
     "output_type": "stream",
     "text": [
      "WARNING: [youtube] YouTube said: ERROR - Precondition check failed.\n",
      "WARNING: [youtube] HTTP Error 400: Bad Request. Retrying (2/3)...\n"
     ]
    },
    {
     "name": "stdout",
     "output_type": "stream",
     "text": [
      "[youtube] rCiBgLOcuKU: Downloading android player API JSON\n",
      "[youtube] rCiBgLOcuKU: Downloading m3u8 information\n",
      "[info] rCiBgLOcuKU: Downloading 1 format(s): 251\n",
      "[download] Destination: C:\\Users\\arwin\\Documents\\dev\\APS360-PROJECT\\data\\billboard_audio\\Cardi B_Up\\Cardi B_Up.webm\n",
      "[download] 100% of    2.90MiB in 00:00:00 at 13.86MiB/s  \n",
      "[download] Finished downloading playlist: Cardi B Up\n",
      "[generic] Extracting URL: SpotemGottem Featuring Pooh Shiesty Or DaBaby Beat Box\n",
      "[youtube:search] Extracting URL: ytsearch:SpotemGottem Featuring Pooh Shiesty Or DaBaby Beat Box\n",
      "[download] Downloading playlist: SpotemGottem Featuring Pooh Shiesty Or DaBaby Beat Box\n",
      "[youtube:search] query \"SpotemGottem Featuring Pooh Shiesty Or DaBaby Beat Box\": Downloading web client config\n",
      "[youtube:search] query \"SpotemGottem Featuring Pooh Shiesty Or DaBaby Beat Box\" page 1: Downloading API JSON\n",
      "[youtube:search] Playlist SpotemGottem Featuring Pooh Shiesty Or DaBaby Beat Box: Downloading 1 items of 1\n",
      "[download] Downloading item 1 of 1\n",
      "[youtube] Extracting URL: https://www.youtube.com/watch?v=mIU7L61AFcI\n",
      "[youtube] mIU7L61AFcI: Downloading webpage\n",
      "[youtube] mIU7L61AFcI: Downloading ios player API JSON\n",
      "[youtube] mIU7L61AFcI: Downloading android player API JSON\n",
      "[youtube] mIU7L61AFcI: Downloading m3u8 information\n",
      "[info] mIU7L61AFcI: Downloading 1 format(s): 251\n",
      "[download] Destination: C:\\Users\\arwin\\Documents\\dev\\APS360-PROJECT\\data\\billboard_audio\\SpotemGottem Featuring Pooh Shiesty Or DaBaby_Beat Box\\SpotemGottem Featuring Pooh Shiesty Or DaBaby_Beat Box.webm\n",
      "[download] 100% of    7.78MiB in 00:00:00 at 21.56MiB/s  \n",
      "[download] Finished downloading playlist: SpotemGottem Featuring Pooh Shiesty Or DaBaby Beat Box\n",
      "[generic] Extracting URL: Dylan Scott Nobody\n",
      "[youtube:search] Extracting URL: ytsearch:Dylan Scott Nobody\n",
      "[download] Downloading playlist: Dylan Scott Nobody\n",
      "[youtube:search] query \"Dylan Scott Nobody\": Downloading web client config\n",
      "[youtube:search] query \"Dylan Scott Nobody\" page 1: Downloading API JSON\n",
      "[youtube:search] Playlist Dylan Scott Nobody: Downloading 1 items of 1\n",
      "[download] Downloading item 1 of 1\n",
      "[youtube] Extracting URL: https://www.youtube.com/watch?v=bWozDryPzg4\n",
      "[youtube] bWozDryPzg4: Downloading webpage\n",
      "[youtube] bWozDryPzg4: Downloading ios player API JSON\n",
      "[youtube] bWozDryPzg4: Downloading android player API JSON\n",
      "[youtube] bWozDryPzg4: Downloading m3u8 information\n",
      "[info] bWozDryPzg4: Downloading 1 format(s): 251\n",
      "[download] Destination: C:\\Users\\arwin\\Documents\\dev\\APS360-PROJECT\\data\\billboard_audio\\Dylan Scott_Nobody\\Dylan Scott_Nobody.webm\n",
      "[download] 100% of    2.69MiB in 00:00:00 at 10.28MiB/s  \n",
      "[download] Finished downloading playlist: Dylan Scott Nobody\n",
      "[generic] Extracting URL: Polo G Featuring The Kid LAROI & Lil Durk No Return\n",
      "[youtube:search] Extracting URL: ytsearch:Polo G Featuring The Kid LAROI & Lil Durk No Return\n",
      "[download] Downloading playlist: Polo G Featuring The Kid LAROI & Lil Durk No Return\n",
      "[youtube:search] query \"Polo G Featuring The Kid LAROI & Lil Durk No Return\": Downloading web client config\n",
      "[youtube:search] query \"Polo G Featuring The Kid LAROI & Lil Durk No Return\" page 1: Downloading API JSON\n",
      "[youtube:search] Playlist Polo G Featuring The Kid LAROI & Lil Durk No Return: Downloading 1 items of 1\n",
      "[download] Downloading item 1 of 1\n",
      "[youtube] Extracting URL: https://www.youtube.com/watch?v=kTVDiFX6Ag4\n",
      "[youtube] kTVDiFX6Ag4: Downloading webpage\n",
      "[youtube] kTVDiFX6Ag4: Downloading ios player API JSON\n",
      "[youtube] kTVDiFX6Ag4: Downloading android player API JSON\n"
     ]
    },
    {
     "name": "stderr",
     "output_type": "stream",
     "text": [
      "WARNING: [youtube] YouTube said: ERROR - Precondition check failed.\n",
      "WARNING: [youtube] HTTP Error 400: Bad Request. Retrying (1/3)...\n"
     ]
    },
    {
     "name": "stdout",
     "output_type": "stream",
     "text": [
      "[youtube] kTVDiFX6Ag4: Downloading android player API JSON\n"
     ]
    },
    {
     "name": "stderr",
     "output_type": "stream",
     "text": [
      "WARNING: [youtube] YouTube said: ERROR - Precondition check failed.\n",
      "WARNING: [youtube] HTTP Error 400: Bad Request. Retrying (2/3)...\n"
     ]
    },
    {
     "name": "stdout",
     "output_type": "stream",
     "text": [
      "[youtube] kTVDiFX6Ag4: Downloading android player API JSON\n"
     ]
    },
    {
     "name": "stderr",
     "output_type": "stream",
     "text": [
      "WARNING: [youtube] YouTube said: ERROR - Precondition check failed.\n",
      "WARNING: [youtube] HTTP Error 400: Bad Request. Retrying (3/3)...\n"
     ]
    },
    {
     "name": "stdout",
     "output_type": "stream",
     "text": [
      "[youtube] kTVDiFX6Ag4: Downloading android player API JSON\n"
     ]
    },
    {
     "name": "stderr",
     "output_type": "stream",
     "text": [
      "WARNING: [youtube] YouTube said: ERROR - Precondition check failed.\n",
      "WARNING: [youtube] Unable to download API page: HTTP Error 400: Bad Request (caused by <HTTPError 400: Bad Request>); please report this issue on  https://github.com/yt-dlp/yt-dlp/issues?q= , filling out the appropriate issue template. Confirm you are on the latest version using  yt-dlp -U\n"
     ]
    },
    {
     "name": "stdout",
     "output_type": "stream",
     "text": [
      "[youtube] kTVDiFX6Ag4: Downloading m3u8 information\n",
      "[info] kTVDiFX6Ag4: Downloading 1 format(s): 251\n",
      "[download] Destination: C:\\Users\\arwin\\Documents\\dev\\APS360-PROJECT\\data\\billboard_audio\\Polo G Featuring The Kid LAROI & Lil Durk_No Return\\Polo G Featuring The Kid LAROI & Lil Durk_No Return.webm\n",
      "[download] 100% of    3.61MiB in 00:00:00 at 12.41MiB/s  \n",
      "[download] Finished downloading playlist: Polo G Featuring The Kid LAROI & Lil Durk No Return\n",
      "[generic] Extracting URL: Coi Leray Featuring Lil Durk No More Parties\n",
      "[youtube:search] Extracting URL: ytsearch:Coi Leray Featuring Lil Durk No More Parties\n",
      "[download] Downloading playlist: Coi Leray Featuring Lil Durk No More Parties\n",
      "[youtube:search] query \"Coi Leray Featuring Lil Durk No More Parties\": Downloading web client config\n",
      "[youtube:search] query \"Coi Leray Featuring Lil Durk No More Parties\" page 1: Downloading API JSON\n",
      "[youtube:search] Playlist Coi Leray Featuring Lil Durk No More Parties: Downloading 1 items of 1\n",
      "[download] Downloading item 1 of 1\n",
      "[youtube] Extracting URL: https://www.youtube.com/watch?v=my2ZvqmPaco\n",
      "[youtube] my2ZvqmPaco: Downloading webpage\n",
      "[youtube] my2ZvqmPaco: Downloading ios player API JSON\n",
      "[youtube] my2ZvqmPaco: Downloading android player API JSON\n"
     ]
    },
    {
     "name": "stderr",
     "output_type": "stream",
     "text": [
      "WARNING: [youtube] YouTube said: ERROR - Precondition check failed.\n",
      "WARNING: [youtube] HTTP Error 400: Bad Request. Retrying (1/3)...\n"
     ]
    },
    {
     "name": "stdout",
     "output_type": "stream",
     "text": [
      "[youtube] my2ZvqmPaco: Downloading android player API JSON\n",
      "[youtube] my2ZvqmPaco: Downloading m3u8 information\n",
      "[info] my2ZvqmPaco: Downloading 1 format(s): 251\n",
      "[download] Destination: C:\\Users\\arwin\\Documents\\dev\\APS360-PROJECT\\data\\billboard_audio\\Coi Leray Featuring Lil Durk_No More Parties\\Coi Leray Featuring Lil Durk_No More Parties.webm\n",
      "[download] 100% of    3.67MiB in 00:00:00 at 13.12MiB/s  \n",
      "[download] Finished downloading playlist: Coi Leray Featuring Lil Durk No More Parties\n",
      "[generic] Extracting URL: Morray Quicksand\n",
      "[youtube:search] Extracting URL: ytsearch:Morray Quicksand\n",
      "[download] Downloading playlist: Morray Quicksand\n",
      "[youtube:search] query \"Morray Quicksand\": Downloading web client config\n",
      "[youtube:search] query \"Morray Quicksand\" page 1: Downloading API JSON\n",
      "[youtube:search] Playlist Morray Quicksand: Downloading 1 items of 1\n",
      "[download] Downloading item 1 of 1\n",
      "[youtube] Extracting URL: https://www.youtube.com/watch?v=OLi5_8JWoAU\n",
      "[youtube] OLi5_8JWoAU: Downloading webpage\n",
      "[youtube] OLi5_8JWoAU: Downloading ios player API JSON\n",
      "[youtube] OLi5_8JWoAU: Downloading android player API JSON\n",
      "[youtube] OLi5_8JWoAU: Downloading m3u8 information\n",
      "[info] OLi5_8JWoAU: Downloading 1 format(s): 251\n",
      "[download] Destination: C:\\Users\\arwin\\Documents\\dev\\APS360-PROJECT\\data\\billboard_audio\\Morray_Quicksand\\Morray_Quicksand.webm\n",
      "[download] 100% of    3.90MiB in 00:00:00 at 17.53MiB/s  \n",
      "[download] Finished downloading playlist: Morray Quicksand\n",
      "[generic] Extracting URL: Polo G & Lil Wayne Gang Gang\n",
      "[youtube:search] Extracting URL: ytsearch:Polo G & Lil Wayne Gang Gang\n",
      "[download] Downloading playlist: Polo G & Lil Wayne Gang Gang\n",
      "[youtube:search] query \"Polo G & Lil Wayne Gang Gang\": Downloading web client config\n",
      "[youtube:search] query \"Polo G & Lil Wayne Gang Gang\" page 1: Downloading API JSON\n",
      "[youtube:search] Playlist Polo G & Lil Wayne Gang Gang: Downloading 1 items of 1\n",
      "[download] Downloading item 1 of 1\n",
      "[youtube] Extracting URL: https://www.youtube.com/watch?v=HQE456q4n5U\n",
      "[youtube] HQE456q4n5U: Downloading webpage\n",
      "[youtube] HQE456q4n5U: Downloading ios player API JSON\n",
      "[youtube] HQE456q4n5U: Downloading android player API JSON\n",
      "[youtube] HQE456q4n5U: Downloading m3u8 information\n",
      "[info] HQE456q4n5U: Downloading 1 format(s): 251\n",
      "[download] Destination: C:\\Users\\arwin\\Documents\\dev\\APS360-PROJECT\\data\\billboard_audio\\Polo G & Lil Wayne_Gang Gang\\Polo G & Lil Wayne_Gang Gang.webm\n",
      "[download] 100% of    2.93MiB in 00:00:00 at 19.19MiB/s  \n",
      "[download] Finished downloading playlist: Polo G & Lil Wayne Gang Gang\n",
      "[generic] Extracting URL: Jazmine Sullivan Pick Up Your Feelings\n",
      "[youtube:search] Extracting URL: ytsearch:Jazmine Sullivan Pick Up Your Feelings\n",
      "[download] Downloading playlist: Jazmine Sullivan Pick Up Your Feelings\n",
      "[youtube:search] query \"Jazmine Sullivan Pick Up Your Feelings\": Downloading web client config\n",
      "[youtube:search] query \"Jazmine Sullivan Pick Up Your Feelings\" page 1: Downloading API JSON\n",
      "[youtube:search] Playlist Jazmine Sullivan Pick Up Your Feelings: Downloading 1 items of 1\n",
      "[download] Downloading item 1 of 1\n",
      "[youtube] Extracting URL: https://www.youtube.com/watch?v=GkISDKc_aBc\n",
      "[youtube] GkISDKc_aBc: Downloading webpage\n",
      "[youtube] GkISDKc_aBc: Downloading ios player API JSON\n",
      "[youtube] GkISDKc_aBc: Downloading android player API JSON\n"
     ]
    },
    {
     "name": "stderr",
     "output_type": "stream",
     "text": [
      "WARNING: [youtube] YouTube said: ERROR - Precondition check failed.\n",
      "WARNING: [youtube] HTTP Error 400: Bad Request. Retrying (1/3)...\n"
     ]
    },
    {
     "name": "stdout",
     "output_type": "stream",
     "text": [
      "[youtube] GkISDKc_aBc: Downloading android player API JSON\n"
     ]
    },
    {
     "name": "stderr",
     "output_type": "stream",
     "text": [
      "WARNING: [youtube] YouTube said: ERROR - Precondition check failed.\n",
      "WARNING: [youtube] HTTP Error 400: Bad Request. Retrying (2/3)...\n"
     ]
    },
    {
     "name": "stdout",
     "output_type": "stream",
     "text": [
      "[youtube] GkISDKc_aBc: Downloading android player API JSON\n"
     ]
    },
    {
     "name": "stderr",
     "output_type": "stream",
     "text": [
      "WARNING: [youtube] YouTube said: ERROR - Precondition check failed.\n",
      "WARNING: [youtube] HTTP Error 400: Bad Request. Retrying (3/3)...\n"
     ]
    },
    {
     "name": "stdout",
     "output_type": "stream",
     "text": [
      "[youtube] GkISDKc_aBc: Downloading android player API JSON\n",
      "[youtube] GkISDKc_aBc: Downloading m3u8 information\n",
      "[info] GkISDKc_aBc: Downloading 1 format(s): 251\n",
      "[download] Destination: C:\\Users\\arwin\\Documents\\dev\\APS360-PROJECT\\data\\billboard_audio\\Jazmine Sullivan_Pick Up Your Feelings\\Jazmine Sullivan_Pick Up Your Feelings.webm\n",
      "[download] 100% of    3.05MiB in 00:00:00 at 12.49MiB/s    \n",
      "[download] Finished downloading playlist: Jazmine Sullivan Pick Up Your Feelings\n",
      "[generic] Extracting URL: Migos Avalanche\n",
      "[youtube:search] Extracting URL: ytsearch:Migos Avalanche\n",
      "[download] Downloading playlist: Migos Avalanche\n",
      "[youtube:search] query \"Migos Avalanche\": Downloading web client config\n",
      "[youtube:search] query \"Migos Avalanche\" page 1: Downloading API JSON\n",
      "[youtube:search] Playlist Migos Avalanche: Downloading 1 items of 1\n",
      "[download] Downloading item 1 of 1\n",
      "[youtube] Extracting URL: https://www.youtube.com/watch?v=--14w5SOEUs\n",
      "[youtube] --14w5SOEUs: Downloading webpage\n",
      "[youtube] --14w5SOEUs: Downloading ios player API JSON\n",
      "[youtube] --14w5SOEUs: Downloading android player API JSON\n",
      "[youtube] --14w5SOEUs: Downloading m3u8 information\n",
      "[info] --14w5SOEUs: Downloading 1 format(s): 251\n",
      "[download] Destination: C:\\Users\\arwin\\Documents\\dev\\APS360-PROJECT\\data\\billboard_audio\\Migos_Avalanche\\Migos_Avalanche.webm\n",
      "[download] 100% of    3.80MiB in 00:00:00 at 11.33MiB/s  \n",
      "[download] Finished downloading playlist: Migos Avalanche\n",
      "[generic] Extracting URL: Dua Lipa We're Good\n",
      "[youtube:search] Extracting URL: ytsearch:Dua Lipa We're Good\n",
      "[download] Downloading playlist: Dua Lipa We're Good\n",
      "[youtube:search] query \"Dua Lipa We're Good\": Downloading web client config\n",
      "[youtube:search] query \"Dua Lipa We're Good\" page 1: Downloading API JSON\n",
      "[youtube:search] Playlist Dua Lipa We're Good: Downloading 1 items of 1\n",
      "[download] Downloading item 1 of 1\n",
      "[youtube] Extracting URL: https://www.youtube.com/watch?v=jr47YisIsz8\n",
      "[youtube] jr47YisIsz8: Downloading webpage\n",
      "[youtube] jr47YisIsz8: Downloading ios player API JSON\n",
      "[youtube] jr47YisIsz8: Downloading android player API JSON\n"
     ]
    },
    {
     "name": "stderr",
     "output_type": "stream",
     "text": [
      "WARNING: [youtube] YouTube said: ERROR - Precondition check failed.\n",
      "WARNING: [youtube] HTTP Error 400: Bad Request. Retrying (1/3)...\n"
     ]
    },
    {
     "name": "stdout",
     "output_type": "stream",
     "text": [
      "[youtube] jr47YisIsz8: Downloading android player API JSON\n",
      "[youtube] jr47YisIsz8: Downloading m3u8 information\n",
      "[info] jr47YisIsz8: Downloading 1 format(s): 251\n",
      "[download] Destination: C:\\Users\\arwin\\Documents\\dev\\APS360-PROJECT\\data\\billboard_audio\\Dua Lipa_We're Good\\Dua Lipa_We're Good.webm\n",
      "[download] 100% of    3.01MiB in 00:00:00 at 11.22MiB/s  \n",
      "[download] Finished downloading playlist: Dua Lipa We're Good\n",
      "[generic] Extracting URL: J_ Cole & Lil Baby pride_is_the_devil\n",
      "[youtube:search] Extracting URL: ytsearch:J_ Cole & Lil Baby pride_is_the_devil\n",
      "[download] Downloading playlist: J_ Cole & Lil Baby pride_is_the_devil\n",
      "[youtube:search] query \"J_ Cole & Lil Baby pride_is_the_devil\": Downloading web client config\n",
      "[youtube:search] query \"J_ Cole & Lil Baby pride_is_the_devil\" page 1: Downloading API JSON\n",
      "[youtube:search] Playlist J_ Cole & Lil Baby pride_is_the_devil: Downloading 1 items of 1\n",
      "[download] Downloading item 1 of 1\n",
      "[youtube] Extracting URL: https://www.youtube.com/watch?v=hyQDRLoLFOk\n",
      "[youtube] hyQDRLoLFOk: Downloading webpage\n",
      "[youtube] hyQDRLoLFOk: Downloading ios player API JSON\n",
      "[youtube] hyQDRLoLFOk: Downloading android player API JSON\n"
     ]
    },
    {
     "name": "stderr",
     "output_type": "stream",
     "text": [
      "WARNING: [youtube] YouTube said: ERROR - Precondition check failed.\n",
      "WARNING: [youtube] HTTP Error 400: Bad Request. Retrying (1/3)...\n"
     ]
    },
    {
     "name": "stdout",
     "output_type": "stream",
     "text": [
      "[youtube] hyQDRLoLFOk: Downloading android player API JSON\n"
     ]
    },
    {
     "name": "stderr",
     "output_type": "stream",
     "text": [
      "WARNING: [youtube] YouTube said: ERROR - Precondition check failed.\n",
      "WARNING: [youtube] HTTP Error 400: Bad Request. Retrying (2/3)...\n"
     ]
    },
    {
     "name": "stdout",
     "output_type": "stream",
     "text": [
      "[youtube] hyQDRLoLFOk: Downloading android player API JSON\n",
      "[youtube] hyQDRLoLFOk: Downloading m3u8 information\n",
      "[info] hyQDRLoLFOk: Downloading 1 format(s): 251\n",
      "[download] Destination: C:\\Users\\arwin\\Documents\\dev\\APS360-PROJECT\\data\\billboard_audio\\J_ Cole & Lil Baby_pride_is_the_devil\\J_ Cole & Lil Baby_pride_is_the_devil.webm\n",
      "[download] 100% of    3.54MiB in 00:00:00 at 11.33MiB/s  \n",
      "[download] Finished downloading playlist: J_ Cole & Lil Baby pride_is_the_devil\n",
      "[generic] Extracting URL: Lil Baby, Lil Durk & Meek Mill Still Runnin\n",
      "[youtube:search] Extracting URL: ytsearch:Lil Baby, Lil Durk & Meek Mill Still Runnin\n",
      "[download] Downloading playlist: Lil Baby, Lil Durk & Meek Mill Still Runnin\n",
      "[youtube:search] query \"Lil Baby, Lil Durk & Meek Mill Still Runnin\": Downloading web client config\n",
      "[youtube:search] query \"Lil Baby, Lil Durk & Meek Mill Still Runnin\" page 1: Downloading API JSON\n",
      "[youtube:search] Playlist Lil Baby, Lil Durk & Meek Mill Still Runnin: Downloading 1 items of 1\n",
      "[download] Downloading item 1 of 1\n",
      "[youtube] Extracting URL: https://www.youtube.com/watch?v=H41-NPeGgI8\n",
      "[youtube] H41-NPeGgI8: Downloading webpage\n",
      "[youtube] H41-NPeGgI8: Downloading ios player API JSON\n",
      "[youtube] H41-NPeGgI8: Downloading android player API JSON\n"
     ]
    },
    {
     "name": "stderr",
     "output_type": "stream",
     "text": [
      "WARNING: [youtube] YouTube said: ERROR - Precondition check failed.\n",
      "WARNING: [youtube] HTTP Error 400: Bad Request. Retrying (1/3)...\n"
     ]
    },
    {
     "name": "stdout",
     "output_type": "stream",
     "text": [
      "[youtube] H41-NPeGgI8: Downloading android player API JSON\n"
     ]
    },
    {
     "name": "stderr",
     "output_type": "stream",
     "text": [
      "WARNING: [youtube] YouTube said: ERROR - Precondition check failed.\n",
      "WARNING: [youtube] HTTP Error 400: Bad Request. Retrying (2/3)...\n"
     ]
    },
    {
     "name": "stdout",
     "output_type": "stream",
     "text": [
      "[youtube] H41-NPeGgI8: Downloading android player API JSON\n",
      "[youtube] H41-NPeGgI8: Downloading m3u8 information\n",
      "[info] H41-NPeGgI8: Downloading 1 format(s): 251\n",
      "[download] Destination: C:\\Users\\arwin\\Documents\\dev\\APS360-PROJECT\\data\\billboard_audio\\Lil Baby, Lil Durk & Meek Mill_Still Runnin\\Lil Baby, Lil Durk & Meek Mill_Still Runnin.webm\n",
      "[download] 100% of    2.94MiB in 00:00:01 at 1.53MiB/s   \n",
      "[download] Finished downloading playlist: Lil Baby, Lil Durk & Meek Mill Still Runnin\n",
      "[generic] Extracting URL: Lil Baby & Lil Durk How It Feels\n",
      "[youtube:search] Extracting URL: ytsearch:Lil Baby & Lil Durk How It Feels\n",
      "[download] Downloading playlist: Lil Baby & Lil Durk How It Feels\n",
      "[youtube:search] query \"Lil Baby & Lil Durk How It Feels\": Downloading web client config\n",
      "[youtube:search] query \"Lil Baby & Lil Durk How It Feels\" page 1: Downloading API JSON\n",
      "[youtube:search] Playlist Lil Baby & Lil Durk How It Feels: Downloading 1 items of 1\n",
      "[download] Downloading item 1 of 1\n",
      "[youtube] Extracting URL: https://www.youtube.com/watch?v=BAsRTTO8L2k\n",
      "[youtube] BAsRTTO8L2k: Downloading webpage\n",
      "[youtube] BAsRTTO8L2k: Downloading ios player API JSON\n",
      "[youtube] BAsRTTO8L2k: Downloading android player API JSON\n"
     ]
    },
    {
     "name": "stderr",
     "output_type": "stream",
     "text": [
      "WARNING: [youtube] YouTube said: ERROR - Precondition check failed.\n",
      "WARNING: [youtube] HTTP Error 400: Bad Request. Retrying (1/3)...\n"
     ]
    },
    {
     "name": "stdout",
     "output_type": "stream",
     "text": [
      "[youtube] BAsRTTO8L2k: Downloading android player API JSON\n",
      "[youtube] BAsRTTO8L2k: Downloading m3u8 information\n",
      "[info] BAsRTTO8L2k: Downloading 1 format(s): 251\n",
      "[download] Destination: C:\\Users\\arwin\\Documents\\dev\\APS360-PROJECT\\data\\billboard_audio\\Lil Baby & Lil Durk_How It Feels\\Lil Baby & Lil Durk_How It Feels.webm\n",
      "[download] 100% of    3.66MiB in 00:00:00 at 6.78MiB/s   \n",
      "[download] Finished downloading playlist: Lil Baby & Lil Durk How It Feels\n",
      "[generic] Extracting URL: Polo G Black Hearted\n",
      "[youtube:search] Extracting URL: ytsearch:Polo G Black Hearted\n",
      "[download] Downloading playlist: Polo G Black Hearted\n",
      "[youtube:search] query \"Polo G Black Hearted\": Downloading web client config\n",
      "[youtube:search] query \"Polo G Black Hearted\" page 1: Downloading API JSON\n",
      "[youtube:search] Playlist Polo G Black Hearted: Downloading 1 items of 1\n",
      "[download] Downloading item 1 of 1\n",
      "[youtube] Extracting URL: https://www.youtube.com/watch?v=h9CSvdiOY3M\n",
      "[youtube] h9CSvdiOY3M: Downloading webpage\n",
      "[youtube] h9CSvdiOY3M: Downloading ios player API JSON\n",
      "[youtube] h9CSvdiOY3M: Downloading android player API JSON\n"
     ]
    },
    {
     "name": "stderr",
     "output_type": "stream",
     "text": [
      "WARNING: [youtube] YouTube said: ERROR - Precondition check failed.\n",
      "WARNING: [youtube] HTTP Error 400: Bad Request. Retrying (1/3)...\n"
     ]
    },
    {
     "name": "stdout",
     "output_type": "stream",
     "text": [
      "[youtube] h9CSvdiOY3M: Downloading android player API JSON\n",
      "[youtube] h9CSvdiOY3M: Downloading m3u8 information\n",
      "[info] h9CSvdiOY3M: Downloading 1 format(s): 251\n",
      "[download] Destination: C:\\Users\\arwin\\Documents\\dev\\APS360-PROJECT\\data\\billboard_audio\\Polo G_Black Hearted\\Polo G_Black Hearted.webm\n",
      "[download] 100% of    3.67MiB in 00:00:00 at 13.54MiB/s  \n",
      "[download] Finished downloading playlist: Polo G Black Hearted\n",
      "[generic] Extracting URL: Polo G Painting Pictures\n",
      "[youtube:search] Extracting URL: ytsearch:Polo G Painting Pictures\n",
      "[download] Downloading playlist: Polo G Painting Pictures\n",
      "[youtube:search] query \"Polo G Painting Pictures\": Downloading web client config\n",
      "[youtube:search] query \"Polo G Painting Pictures\" page 1: Downloading API JSON\n",
      "[youtube:search] Playlist Polo G Painting Pictures: Downloading 1 items of 1\n",
      "[download] Downloading item 1 of 1\n",
      "[youtube] Extracting URL: https://www.youtube.com/watch?v=acfQ_o-wtHw\n",
      "[youtube] acfQ_o-wtHw: Downloading webpage\n",
      "[youtube] acfQ_o-wtHw: Downloading ios player API JSON\n",
      "[youtube] acfQ_o-wtHw: Downloading android player API JSON\n",
      "[youtube] acfQ_o-wtHw: Downloading m3u8 information\n",
      "[info] acfQ_o-wtHw: Downloading 1 format(s): 251\n",
      "[download] Destination: C:\\Users\\arwin\\Documents\\dev\\APS360-PROJECT\\data\\billboard_audio\\Polo G_Painting Pictures\\Polo G_Painting Pictures.webm\n",
      "[download] 100% of    2.68MiB in 00:00:00 at 12.24MiB/s  \n",
      "[download] Finished downloading playlist: Polo G Painting Pictures\n",
      "[generic] Extracting URL: Migos Modern Day\n",
      "[youtube:search] Extracting URL: ytsearch:Migos Modern Day\n",
      "[download] Downloading playlist: Migos Modern Day\n",
      "[youtube:search] query \"Migos Modern Day\": Downloading web client config\n",
      "[youtube:search] query \"Migos Modern Day\" page 1: Downloading API JSON\n",
      "[youtube:search] Playlist Migos Modern Day: Downloading 1 items of 1\n",
      "[download] Downloading item 1 of 1\n",
      "[youtube] Extracting URL: https://www.youtube.com/watch?v=8Q7JDYg-LI0\n",
      "[youtube] 8Q7JDYg-LI0: Downloading webpage\n",
      "[youtube] 8Q7JDYg-LI0: Downloading ios player API JSON\n",
      "[youtube] 8Q7JDYg-LI0: Downloading android player API JSON\n",
      "[youtube] 8Q7JDYg-LI0: Downloading m3u8 information\n",
      "[info] 8Q7JDYg-LI0: Downloading 1 format(s): 251\n",
      "[download] Destination: C:\\Users\\arwin\\Documents\\dev\\APS360-PROJECT\\data\\billboard_audio\\Migos_Modern Day\\Migos_Modern Day.webm\n",
      "[download] 100% of    4.31MiB in 00:00:00 at 13.46MiB/s  \n",
      "[download] Finished downloading playlist: Migos Modern Day\n",
      "[generic] Extracting URL: Polo G Toxic\n",
      "[youtube:search] Extracting URL: ytsearch:Polo G Toxic\n",
      "[download] Downloading playlist: Polo G Toxic\n",
      "[youtube:search] query \"Polo G Toxic\": Downloading web client config\n",
      "[youtube:search] query \"Polo G Toxic\" page 1: Downloading API JSON\n",
      "[youtube:search] Playlist Polo G Toxic: Downloading 1 items of 1\n",
      "[download] Downloading item 1 of 1\n",
      "[youtube] Extracting URL: https://www.youtube.com/watch?v=OQvJ7ZmYYmo\n",
      "[youtube] OQvJ7ZmYYmo: Downloading webpage\n",
      "[youtube] OQvJ7ZmYYmo: Downloading ios player API JSON\n",
      "[youtube] OQvJ7ZmYYmo: Downloading android player API JSON\n"
     ]
    },
    {
     "name": "stderr",
     "output_type": "stream",
     "text": [
      "WARNING: [youtube] YouTube said: ERROR - Precondition check failed.\n",
      "WARNING: [youtube] HTTP Error 400: Bad Request. Retrying (1/3)...\n"
     ]
    },
    {
     "name": "stdout",
     "output_type": "stream",
     "text": [
      "[youtube] OQvJ7ZmYYmo: Downloading android player API JSON\n"
     ]
    },
    {
     "name": "stderr",
     "output_type": "stream",
     "text": [
      "WARNING: [youtube] YouTube said: ERROR - Precondition check failed.\n",
      "WARNING: [youtube] HTTP Error 400: Bad Request. Retrying (2/3)...\n"
     ]
    },
    {
     "name": "stdout",
     "output_type": "stream",
     "text": [
      "[youtube] OQvJ7ZmYYmo: Downloading android player API JSON\n",
      "[youtube] OQvJ7ZmYYmo: Downloading m3u8 information\n",
      "[info] OQvJ7ZmYYmo: Downloading 1 format(s): 251\n",
      "[download] Destination: C:\\Users\\arwin\\Documents\\dev\\APS360-PROJECT\\data\\billboard_audio\\Polo G_Toxic\\Polo G_Toxic.webm\n",
      "[download] 100% of    2.36MiB in 00:00:00 at 13.84MiB/s  \n",
      "[download] Finished downloading playlist: Polo G Toxic\n",
      "[generic] Extracting URL: Lorde Solar Power\n",
      "[youtube:search] Extracting URL: ytsearch:Lorde Solar Power\n",
      "[download] Downloading playlist: Lorde Solar Power\n",
      "[youtube:search] query \"Lorde Solar Power\": Downloading web client config\n",
      "[youtube:search] query \"Lorde Solar Power\" page 1: Downloading API JSON\n",
      "[youtube:search] Playlist Lorde Solar Power: Downloading 1 items of 1\n",
      "[download] Downloading item 1 of 1\n",
      "[youtube] Extracting URL: https://www.youtube.com/watch?v=wvsP_lzh2-8\n",
      "[youtube] wvsP_lzh2-8: Downloading webpage\n",
      "[youtube] wvsP_lzh2-8: Downloading ios player API JSON\n",
      "[youtube] wvsP_lzh2-8: Downloading android player API JSON\n"
     ]
    },
    {
     "name": "stderr",
     "output_type": "stream",
     "text": [
      "WARNING: [youtube] YouTube said: ERROR - Precondition check failed.\n",
      "WARNING: [youtube] HTTP Error 400: Bad Request. Retrying (1/3)...\n"
     ]
    },
    {
     "name": "stdout",
     "output_type": "stream",
     "text": [
      "[youtube] wvsP_lzh2-8: Downloading android player API JSON\n",
      "[youtube] wvsP_lzh2-8: Downloading m3u8 information\n",
      "[info] wvsP_lzh2-8: Downloading 1 format(s): 251\n",
      "[download] Destination: C:\\Users\\arwin\\Documents\\dev\\APS360-PROJECT\\data\\billboard_audio\\Lorde_Solar Power\\Lorde_Solar Power.webm\n",
      "[download] 100% of    2.90MiB in 00:00:00 at 11.73MiB/s  \n",
      "[download] Finished downloading playlist: Lorde Solar Power\n",
      "[generic] Extracting URL: Migos Featuring Polo G Malibu\n",
      "[youtube:search] Extracting URL: ytsearch:Migos Featuring Polo G Malibu\n",
      "[download] Downloading playlist: Migos Featuring Polo G Malibu\n",
      "[youtube:search] query \"Migos Featuring Polo G Malibu\": Downloading web client config\n",
      "[youtube:search] query \"Migos Featuring Polo G Malibu\" page 1: Downloading API JSON\n",
      "[youtube:search] Playlist Migos Featuring Polo G Malibu: Downloading 1 items of 1\n",
      "[download] Downloading item 1 of 1\n",
      "[youtube] Extracting URL: https://www.youtube.com/watch?v=rtqw4C0mOMc\n",
      "[youtube] rtqw4C0mOMc: Downloading webpage\n",
      "[youtube] rtqw4C0mOMc: Downloading ios player API JSON\n",
      "[youtube] rtqw4C0mOMc: Downloading android player API JSON\n",
      "[youtube] rtqw4C0mOMc: Downloading m3u8 information\n",
      "[info] rtqw4C0mOMc: Downloading 1 format(s): 251\n",
      "[download] Destination: C:\\Users\\arwin\\Documents\\dev\\APS360-PROJECT\\data\\billboard_audio\\Migos Featuring Polo G_Malibu\\Migos Featuring Polo G_Malibu.webm\n",
      "[download] 100% of    4.21MiB in 00:00:00 at 14.81MiB/s  \n",
      "[download] Finished downloading playlist: Migos Featuring Polo G Malibu\n",
      "[generic] Extracting URL: Migos & Cardi B Type Shit\n",
      "[youtube:search] Extracting URL: ytsearch:Migos & Cardi B Type Shit\n",
      "[download] Downloading playlist: Migos & Cardi B Type Shit\n",
      "[youtube:search] query \"Migos & Cardi B Type Shit\": Downloading web client config\n",
      "[youtube:search] query \"Migos & Cardi B Type Shit\" page 1: Downloading API JSON\n",
      "[youtube:search] Playlist Migos & Cardi B Type Shit: Downloading 1 items of 1\n",
      "[download] Downloading item 1 of 1\n",
      "[youtube] Extracting URL: https://www.youtube.com/watch?v=E8xalOqYKr8\n",
      "[youtube] E8xalOqYKr8: Downloading webpage\n",
      "[youtube] E8xalOqYKr8: Downloading ios player API JSON\n",
      "[youtube] E8xalOqYKr8: Downloading android player API JSON\n",
      "[youtube] E8xalOqYKr8: Downloading m3u8 information\n",
      "[info] E8xalOqYKr8: Downloading 1 format(s): 251\n",
      "[download] Destination: C:\\Users\\arwin\\Documents\\dev\\APS360-PROJECT\\data\\billboard_audio\\Migos & Cardi B_Type Shit\\Migos & Cardi B_Type Shit.webm\n",
      "[download] 100% of    3.30MiB in 00:00:00 at 9.89MiB/s   \n",
      "[download] Finished downloading playlist: Migos & Cardi B Type Shit\n",
      "[generic] Extracting URL: Polo G Featuring Pop Smoke & Fivio Foreign Clueless\n",
      "[youtube:search] Extracting URL: ytsearch:Polo G Featuring Pop Smoke & Fivio Foreign Clueless\n",
      "[download] Downloading playlist: Polo G Featuring Pop Smoke & Fivio Foreign Clueless\n",
      "[youtube:search] query \"Polo G Featuring Pop Smoke & Fivio Foreign Clueless\": Downloading web client config\n",
      "[youtube:search] query \"Polo G Featuring Pop Smoke & Fivio Foreign Clueless\" page 1: Downloading API JSON\n",
      "[youtube:search] Playlist Polo G Featuring Pop Smoke & Fivio Foreign Clueless: Downloading 1 items of 1\n",
      "[download] Downloading item 1 of 1\n",
      "[youtube] Extracting URL: https://www.youtube.com/watch?v=F7tTxeSe_pQ\n",
      "[youtube] F7tTxeSe_pQ: Downloading webpage\n",
      "[youtube] F7tTxeSe_pQ: Downloading ios player API JSON\n",
      "[youtube] F7tTxeSe_pQ: Downloading android player API JSON\n"
     ]
    },
    {
     "name": "stderr",
     "output_type": "stream",
     "text": [
      "WARNING: [youtube] YouTube said: ERROR - Precondition check failed.\n",
      "WARNING: [youtube] HTTP Error 400: Bad Request. Retrying (1/3)...\n"
     ]
    },
    {
     "name": "stdout",
     "output_type": "stream",
     "text": [
      "[youtube] F7tTxeSe_pQ: Downloading android player API JSON\n",
      "[youtube] F7tTxeSe_pQ: Downloading m3u8 information\n",
      "[info] F7tTxeSe_pQ: Downloading 1 format(s): 251\n",
      "[download] Destination: C:\\Users\\arwin\\Documents\\dev\\APS360-PROJECT\\data\\billboard_audio\\Polo G Featuring Pop Smoke & Fivio Foreign_Clueless\\Polo G Featuring Pop Smoke & Fivio Foreign_Clueless.webm\n",
      "[download] 100% of    2.72MiB in 00:00:00 at 12.48MiB/s    \n",
      "[download] Finished downloading playlist: Polo G Featuring Pop Smoke & Fivio Foreign Clueless\n",
      "[generic] Extracting URL: Lil Baby & Lil Durk Voice Of The Heroes\n",
      "[youtube:search] Extracting URL: ytsearch:Lil Baby & Lil Durk Voice Of The Heroes\n",
      "[download] Downloading playlist: Lil Baby & Lil Durk Voice Of The Heroes\n",
      "[youtube:search] query \"Lil Baby & Lil Durk Voice Of The Heroes\": Downloading web client config\n",
      "[youtube:search] query \"Lil Baby & Lil Durk Voice Of The Heroes\" page 1: Downloading API JSON\n",
      "[youtube:search] Playlist Lil Baby & Lil Durk Voice Of The Heroes: Downloading 1 items of 1\n",
      "[download] Downloading item 1 of 1\n",
      "[youtube] Extracting URL: https://www.youtube.com/watch?v=hmfo73iuUuc\n",
      "[youtube] hmfo73iuUuc: Downloading webpage\n",
      "[youtube] hmfo73iuUuc: Downloading ios player API JSON\n",
      "[youtube] hmfo73iuUuc: Downloading android player API JSON\n"
     ]
    },
    {
     "name": "stderr",
     "output_type": "stream",
     "text": [
      "WARNING: [youtube] YouTube said: ERROR - Precondition check failed.\n",
      "WARNING: [youtube] HTTP Error 400: Bad Request. Retrying (1/3)...\n"
     ]
    },
    {
     "name": "stdout",
     "output_type": "stream",
     "text": [
      "[youtube] hmfo73iuUuc: Downloading android player API JSON\n",
      "[youtube] hmfo73iuUuc: Downloading m3u8 information\n",
      "[info] hmfo73iuUuc: Downloading 1 format(s): 251\n",
      "[download] Destination: C:\\Users\\arwin\\Documents\\dev\\APS360-PROJECT\\data\\billboard_audio\\Lil Baby & Lil Durk_Voice Of The Heroes\\Lil Baby & Lil Durk_Voice Of The Heroes.webm\n",
      "[download] 100% of    3.56MiB in 00:00:01 at 3.56MiB/s   \n",
      "[download] Finished downloading playlist: Lil Baby & Lil Durk Voice Of The Heroes\n",
      "[generic] Extracting URL: Polo G Featuring Rod Wave Heart Of A Giant\n",
      "[youtube:search] Extracting URL: ytsearch:Polo G Featuring Rod Wave Heart Of A Giant\n",
      "[download] Downloading playlist: Polo G Featuring Rod Wave Heart Of A Giant\n",
      "[youtube:search] query \"Polo G Featuring Rod Wave Heart Of A Giant\": Downloading web client config\n",
      "[youtube:search] query \"Polo G Featuring Rod Wave Heart Of A Giant\" page 1: Downloading API JSON\n",
      "[youtube:search] Playlist Polo G Featuring Rod Wave Heart Of A Giant: Downloading 1 items of 1\n",
      "[download] Downloading item 1 of 1\n",
      "[youtube] Extracting URL: https://www.youtube.com/watch?v=wNvVt0DXPH4\n",
      "[youtube] wNvVt0DXPH4: Downloading webpage\n",
      "[youtube] wNvVt0DXPH4: Downloading ios player API JSON\n",
      "[youtube] wNvVt0DXPH4: Downloading android player API JSON\n"
     ]
    },
    {
     "name": "stderr",
     "output_type": "stream",
     "text": [
      "WARNING: [youtube] YouTube said: ERROR - Precondition check failed.\n",
      "WARNING: [youtube] HTTP Error 400: Bad Request. Retrying (1/3)...\n"
     ]
    },
    {
     "name": "stdout",
     "output_type": "stream",
     "text": [
      "[youtube] wNvVt0DXPH4: Downloading android player API JSON\n"
     ]
    },
    {
     "name": "stderr",
     "output_type": "stream",
     "text": [
      "WARNING: [youtube] YouTube said: ERROR - Precondition check failed.\n",
      "WARNING: [youtube] HTTP Error 400: Bad Request. Retrying (2/3)...\n"
     ]
    },
    {
     "name": "stdout",
     "output_type": "stream",
     "text": [
      "[youtube] wNvVt0DXPH4: Downloading android player API JSON\n",
      "[youtube] wNvVt0DXPH4: Downloading m3u8 information\n",
      "[info] wNvVt0DXPH4: Downloading 1 format(s): 251\n",
      "[download] Destination: C:\\Users\\arwin\\Documents\\dev\\APS360-PROJECT\\data\\billboard_audio\\Polo G Featuring Rod Wave_Heart Of A Giant\\Polo G Featuring Rod Wave_Heart Of A Giant.webm\n",
      "[download] 100% of    2.95MiB in 00:00:00 at 14.83MiB/s  \n",
      "[download] Finished downloading playlist: Polo G Featuring Rod Wave Heart Of A Giant\n",
      "[generic] Extracting URL: Polo G Featuring DaBaby Party Lyfe\n",
      "[youtube:search] Extracting URL: ytsearch:Polo G Featuring DaBaby Party Lyfe\n",
      "[download] Downloading playlist: Polo G Featuring DaBaby Party Lyfe\n",
      "[youtube:search] query \"Polo G Featuring DaBaby Party Lyfe\": Downloading web client config\n",
      "[youtube:search] query \"Polo G Featuring DaBaby Party Lyfe\" page 1: Downloading API JSON\n",
      "[youtube:search] Playlist Polo G Featuring DaBaby Party Lyfe: Downloading 1 items of 1\n",
      "[download] Downloading item 1 of 1\n",
      "[youtube] Extracting URL: https://www.youtube.com/watch?v=AVgfsbSjPxY\n",
      "[youtube] AVgfsbSjPxY: Downloading webpage\n",
      "[youtube] AVgfsbSjPxY: Downloading ios player API JSON\n",
      "[youtube] AVgfsbSjPxY: Downloading android player API JSON\n",
      "[youtube] AVgfsbSjPxY: Downloading m3u8 information\n",
      "[info] AVgfsbSjPxY: Downloading 1 format(s): 251\n",
      "[download] Destination: C:\\Users\\arwin\\Documents\\dev\\APS360-PROJECT\\data\\billboard_audio\\Polo G Featuring DaBaby_Party Lyfe\\Polo G Featuring DaBaby_Party Lyfe.webm\n",
      "[download] 100% of    3.19MiB in 00:00:00 at 8.86MiB/s   \n",
      "[download] Finished downloading playlist: Polo G Featuring DaBaby Party Lyfe\n",
      "[generic] Extracting URL: Polo G Featuring G Herbo Go Part 1\n",
      "[youtube:search] Extracting URL: ytsearch:Polo G Featuring G Herbo Go Part 1\n",
      "[download] Downloading playlist: Polo G Featuring G Herbo Go Part 1\n",
      "[youtube:search] query \"Polo G Featuring G Herbo Go Part 1\": Downloading web client config\n",
      "[youtube:search] query \"Polo G Featuring G Herbo Go Part 1\" page 1: Downloading API JSON\n",
      "[youtube:search] Playlist Polo G Featuring G Herbo Go Part 1: Downloading 1 items of 1\n",
      "[download] Downloading item 1 of 1\n",
      "[youtube] Extracting URL: https://www.youtube.com/watch?v=DgS8B3pps6U\n",
      "[youtube] DgS8B3pps6U: Downloading webpage\n",
      "[youtube] DgS8B3pps6U: Downloading ios player API JSON\n",
      "[youtube] DgS8B3pps6U: Downloading android player API JSON\n"
     ]
    },
    {
     "name": "stderr",
     "output_type": "stream",
     "text": [
      "WARNING: [youtube] YouTube said: ERROR - Precondition check failed.\n",
      "WARNING: [youtube] HTTP Error 400: Bad Request. Retrying (1/3)...\n"
     ]
    },
    {
     "name": "stdout",
     "output_type": "stream",
     "text": [
      "[youtube] DgS8B3pps6U: Downloading android player API JSON\n"
     ]
    },
    {
     "name": "stderr",
     "output_type": "stream",
     "text": [
      "WARNING: [youtube] YouTube said: ERROR - Precondition check failed.\n",
      "WARNING: [youtube] HTTP Error 400: Bad Request. Retrying (2/3)...\n"
     ]
    },
    {
     "name": "stdout",
     "output_type": "stream",
     "text": [
      "[youtube] DgS8B3pps6U: Downloading android player API JSON\n",
      "[youtube] DgS8B3pps6U: Downloading m3u8 information\n",
      "[info] DgS8B3pps6U: Downloading 1 format(s): 251\n",
      "[download] Destination: C:\\Users\\arwin\\Documents\\dev\\APS360-PROJECT\\data\\billboard_audio\\Polo G Featuring G Herbo_Go Part 1\\Polo G Featuring G Herbo_Go Part 1.webm\n",
      "[download] 100% of    2.88MiB in 00:00:00 at 3.49MiB/s   \n",
      "[download] Finished downloading playlist: Polo G Featuring G Herbo Go Part 1\n",
      "[generic] Extracting URL: Polo G Epidemic\n",
      "[youtube:search] Extracting URL: ytsearch:Polo G Epidemic\n",
      "[download] Downloading playlist: Polo G Epidemic\n",
      "[youtube:search] query \"Polo G Epidemic\": Downloading web client config\n",
      "[youtube:search] query \"Polo G Epidemic\" page 1: Downloading API JSON\n",
      "[youtube:search] Playlist Polo G Epidemic: Downloading 1 items of 1\n",
      "[download] Downloading item 1 of 1\n",
      "[youtube] Extracting URL: https://www.youtube.com/watch?v=64IGINWXrGQ\n",
      "[youtube] 64IGINWXrGQ: Downloading webpage\n",
      "[youtube] 64IGINWXrGQ: Downloading ios player API JSON\n",
      "[youtube] 64IGINWXrGQ: Downloading android player API JSON\n"
     ]
    },
    {
     "name": "stderr",
     "output_type": "stream",
     "text": [
      "WARNING: [youtube] YouTube said: ERROR - Precondition check failed.\n",
      "WARNING: [youtube] HTTP Error 400: Bad Request. Retrying (1/3)...\n"
     ]
    },
    {
     "name": "stdout",
     "output_type": "stream",
     "text": [
      "[youtube] 64IGINWXrGQ: Downloading android player API JSON\n"
     ]
    },
    {
     "name": "stderr",
     "output_type": "stream",
     "text": [
      "WARNING: [youtube] YouTube said: ERROR - Precondition check failed.\n",
      "WARNING: [youtube] HTTP Error 400: Bad Request. Retrying (2/3)...\n"
     ]
    },
    {
     "name": "stdout",
     "output_type": "stream",
     "text": [
      "[youtube] 64IGINWXrGQ: Downloading android player API JSON\n"
     ]
    },
    {
     "name": "stderr",
     "output_type": "stream",
     "text": [
      "WARNING: [youtube] YouTube said: ERROR - Precondition check failed.\n",
      "WARNING: [youtube] HTTP Error 400: Bad Request. Retrying (3/3)...\n"
     ]
    },
    {
     "name": "stdout",
     "output_type": "stream",
     "text": [
      "[youtube] 64IGINWXrGQ: Downloading android player API JSON\n",
      "[youtube] 64IGINWXrGQ: Downloading m3u8 information\n",
      "[info] 64IGINWXrGQ: Downloading 1 format(s): 251\n",
      "[download] Destination: C:\\Users\\arwin\\Documents\\dev\\APS360-PROJECT\\data\\billboard_audio\\Polo G_Epidemic\\Polo G_Epidemic.webm\n",
      "[download] 100% of    3.05MiB in 00:00:00 at 17.10MiB/s  \n",
      "[download] Finished downloading playlist: Polo G Epidemic\n",
      "[generic] Extracting URL: Polo G Boom\n",
      "[youtube:search] Extracting URL: ytsearch:Polo G Boom\n",
      "[download] Downloading playlist: Polo G Boom\n",
      "[youtube:search] query \"Polo G Boom\": Downloading web client config\n",
      "[youtube:search] query \"Polo G Boom\" page 1: Downloading API JSON\n",
      "[youtube:search] Playlist Polo G Boom: Downloading 1 items of 1\n",
      "[download] Downloading item 1 of 1\n",
      "[youtube] Extracting URL: https://www.youtube.com/watch?v=-vnStM-iV7M\n",
      "[youtube] -vnStM-iV7M: Downloading webpage\n",
      "[youtube] -vnStM-iV7M: Downloading ios player API JSON\n",
      "[youtube] -vnStM-iV7M: Downloading android player API JSON\n",
      "[youtube] -vnStM-iV7M: Downloading m3u8 information\n",
      "[info] -vnStM-iV7M: Downloading 1 format(s): 251\n",
      "[download] Destination: C:\\Users\\arwin\\Documents\\dev\\APS360-PROJECT\\data\\billboard_audio\\Polo G_Boom\\Polo G_Boom.webm\n",
      "[download] 100% of    2.14MiB in 00:00:00 at 2.24MiB/s     \n",
      "[download] Finished downloading playlist: Polo G Boom\n",
      "[generic] Extracting URL: Lil Baby & Lil Durk 2040\n",
      "[youtube:search] Extracting URL: ytsearch:Lil Baby & Lil Durk 2040\n",
      "[download] Downloading playlist: Lil Baby & Lil Durk 2040\n",
      "[youtube:search] query \"Lil Baby & Lil Durk 2040\": Downloading web client config\n",
      "[youtube:search] query \"Lil Baby & Lil Durk 2040\" page 1: Downloading API JSON\n",
      "[youtube:search] Playlist Lil Baby & Lil Durk 2040: Downloading 1 items of 1\n",
      "[download] Downloading item 1 of 1\n",
      "[youtube] Extracting URL: https://www.youtube.com/watch?v=It8wlhCz0fw\n",
      "[youtube] It8wlhCz0fw: Downloading webpage\n",
      "[youtube] It8wlhCz0fw: Downloading ios player API JSON\n",
      "[youtube] It8wlhCz0fw: Downloading android player API JSON\n",
      "[youtube] It8wlhCz0fw: Downloading m3u8 information\n",
      "[info] It8wlhCz0fw: Downloading 1 format(s): 251\n",
      "[download] Destination: C:\\Users\\arwin\\Documents\\dev\\APS360-PROJECT\\data\\billboard_audio\\Lil Baby & Lil Durk_2040\\Lil Baby & Lil Durk_2040.webm\n",
      "[download] 100% of    3.22MiB in 00:00:00 at 8.91MiB/s   \n",
      "[download] Finished downloading playlist: Lil Baby & Lil Durk 2040\n",
      "[generic] Extracting URL: Olivia Rodrigo 1 Step Forward, 3 Steps Back\n",
      "[youtube:search] Extracting URL: ytsearch:Olivia Rodrigo 1 Step Forward, 3 Steps Back\n",
      "[download] Downloading playlist: Olivia Rodrigo 1 Step Forward, 3 Steps Back\n",
      "[youtube:search] query \"Olivia Rodrigo 1 Step Forward, 3 Steps Back\": Downloading web client config\n",
      "[youtube:search] query \"Olivia Rodrigo 1 Step Forward, 3 Steps Back\" page 1: Downloading API JSON\n",
      "[youtube:search] Playlist Olivia Rodrigo 1 Step Forward, 3 Steps Back: Downloading 1 items of 1\n",
      "[download] Downloading item 1 of 1\n",
      "[youtube] Extracting URL: https://www.youtube.com/watch?v=w-HfMiue7-k\n",
      "[youtube] w-HfMiue7-k: Downloading webpage\n",
      "[youtube] w-HfMiue7-k: Downloading ios player API JSON\n",
      "[youtube] w-HfMiue7-k: Downloading android player API JSON\n"
     ]
    },
    {
     "name": "stderr",
     "output_type": "stream",
     "text": [
      "WARNING: [youtube] YouTube said: ERROR - Precondition check failed.\n",
      "WARNING: [youtube] HTTP Error 400: Bad Request. Retrying (1/3)...\n"
     ]
    },
    {
     "name": "stdout",
     "output_type": "stream",
     "text": [
      "[youtube] w-HfMiue7-k: Downloading android player API JSON\n"
     ]
    },
    {
     "name": "stderr",
     "output_type": "stream",
     "text": [
      "WARNING: [youtube] YouTube said: ERROR - Precondition check failed.\n",
      "WARNING: [youtube] HTTP Error 400: Bad Request. Retrying (2/3)...\n"
     ]
    },
    {
     "name": "stdout",
     "output_type": "stream",
     "text": [
      "[youtube] w-HfMiue7-k: Downloading android player API JSON\n",
      "[youtube] w-HfMiue7-k: Downloading m3u8 information\n",
      "[info] w-HfMiue7-k: Downloading 1 format(s): 251\n",
      "[download] Destination: C:\\Users\\arwin\\Documents\\dev\\APS360-PROJECT\\data\\billboard_audio\\Olivia Rodrigo_1 Step Forward, 3 Steps Back\\Olivia Rodrigo_1 Step Forward, 3 Steps Back.webm\n",
      "[download] 100% of    2.59MiB in 00:00:00 at 14.69MiB/s  \n",
      "[download] Finished downloading playlist: Olivia Rodrigo 1 Step Forward, 3 Steps Back\n",
      "[generic] Extracting URL: Polo G Bloody Canvas\n",
      "[youtube:search] Extracting URL: ytsearch:Polo G Bloody Canvas\n",
      "[download] Downloading playlist: Polo G Bloody Canvas\n",
      "[youtube:search] query \"Polo G Bloody Canvas\": Downloading web client config\n",
      "[youtube:search] query \"Polo G Bloody Canvas\" page 1: Downloading API JSON\n",
      "[youtube:search] Playlist Polo G Bloody Canvas: Downloading 1 items of 1\n",
      "[download] Downloading item 1 of 1\n",
      "[youtube] Extracting URL: https://www.youtube.com/watch?v=kXU0OoZgaoA\n",
      "[youtube] kXU0OoZgaoA: Downloading webpage\n",
      "[youtube] kXU0OoZgaoA: Downloading ios player API JSON\n",
      "[youtube] kXU0OoZgaoA: Downloading android player API JSON\n",
      "[youtube] kXU0OoZgaoA: Downloading m3u8 information\n",
      "[info] kXU0OoZgaoA: Downloading 1 format(s): 251\n",
      "[download] Destination: C:\\Users\\arwin\\Documents\\dev\\APS360-PROJECT\\data\\billboard_audio\\Polo G_Bloody Canvas\\Polo G_Bloody Canvas.webm\n",
      "[download] 100% of    4.44MiB in 00:00:00 at 9.19MiB/s   \n",
      "[download] Finished downloading playlist: Polo G Bloody Canvas\n",
      "[generic] Extracting URL: Lil Baby & Lil Durk Who I Want\n",
      "[youtube:search] Extracting URL: ytsearch:Lil Baby & Lil Durk Who I Want\n",
      "[download] Downloading playlist: Lil Baby & Lil Durk Who I Want\n",
      "[youtube:search] query \"Lil Baby & Lil Durk Who I Want\": Downloading web client config\n",
      "[youtube:search] query \"Lil Baby & Lil Durk Who I Want\" page 1: Downloading API JSON\n",
      "[youtube:search] Playlist Lil Baby & Lil Durk Who I Want: Downloading 1 items of 1\n",
      "[download] Downloading item 1 of 1\n",
      "[youtube] Extracting URL: https://www.youtube.com/watch?v=-2UprnLjkW0\n",
      "[youtube] -2UprnLjkW0: Downloading webpage\n",
      "[youtube] -2UprnLjkW0: Downloading ios player API JSON\n",
      "[youtube] -2UprnLjkW0: Downloading android player API JSON\n"
     ]
    },
    {
     "name": "stderr",
     "output_type": "stream",
     "text": [
      "WARNING: [youtube] YouTube said: ERROR - Precondition check failed.\n",
      "WARNING: [youtube] HTTP Error 400: Bad Request. Retrying (1/3)...\n"
     ]
    },
    {
     "name": "stdout",
     "output_type": "stream",
     "text": [
      "[youtube] -2UprnLjkW0: Downloading android player API JSON\n",
      "[youtube] -2UprnLjkW0: Downloading m3u8 information\n",
      "[info] -2UprnLjkW0: Downloading 1 format(s): 251\n",
      "[download] Destination: C:\\Users\\arwin\\Documents\\dev\\APS360-PROJECT\\data\\billboard_audio\\Lil Baby & Lil Durk_Who I Want\\Lil Baby & Lil Durk_Who I Want.webm\n",
      "[download] 100% of    2.90MiB in 00:00:00 at 11.60MiB/s  \n",
      "[download] Finished downloading playlist: Lil Baby & Lil Durk Who I Want\n",
      "[generic] Extracting URL: Pooh Shiesty Featuring Lil Durk Back In Blood\n",
      "[youtube:search] Extracting URL: ytsearch:Pooh Shiesty Featuring Lil Durk Back In Blood\n",
      "[download] Downloading playlist: Pooh Shiesty Featuring Lil Durk Back In Blood\n",
      "[youtube:search] query \"Pooh Shiesty Featuring Lil Durk Back In Blood\": Downloading web client config\n",
      "[youtube:search] query \"Pooh Shiesty Featuring Lil Durk Back In Blood\" page 1: Downloading API JSON\n",
      "[youtube:search] Playlist Pooh Shiesty Featuring Lil Durk Back In Blood: Downloading 1 items of 1\n",
      "[download] Downloading item 1 of 1\n",
      "[youtube] Extracting URL: https://www.youtube.com/watch?v=0-Tm65i96TY\n",
      "[youtube] 0-Tm65i96TY: Downloading webpage\n",
      "[youtube] 0-Tm65i96TY: Downloading ios player API JSON\n",
      "[youtube] 0-Tm65i96TY: Downloading android player API JSON\n",
      "[youtube] 0-Tm65i96TY: Downloading m3u8 information\n",
      "[info] 0-Tm65i96TY: Downloading 1 format(s): 251\n",
      "[download] Destination: C:\\Users\\arwin\\Documents\\dev\\APS360-PROJECT\\data\\billboard_audio\\Pooh Shiesty Featuring Lil Durk_Back In Blood\\Pooh Shiesty Featuring Lil Durk_Back In Blood.webm\n",
      "[download] 100% of    3.24MiB in 00:00:00 at 18.70MiB/s    \n",
      "[download] Finished downloading playlist: Pooh Shiesty Featuring Lil Durk Back In Blood\n",
      "[generic] Extracting URL: Lil Baby & Lil Durk Still Hood\n",
      "[youtube:search] Extracting URL: ytsearch:Lil Baby & Lil Durk Still Hood\n",
      "[download] Downloading playlist: Lil Baby & Lil Durk Still Hood\n",
      "[youtube:search] query \"Lil Baby & Lil Durk Still Hood\": Downloading web client config\n",
      "[youtube:search] query \"Lil Baby & Lil Durk Still Hood\" page 1: Downloading API JSON\n",
      "[youtube:search] Playlist Lil Baby & Lil Durk Still Hood: Downloading 1 items of 1\n",
      "[download] Downloading item 1 of 1\n",
      "[youtube] Extracting URL: https://www.youtube.com/watch?v=7m7dh1Ltzf0\n",
      "[youtube] 7m7dh1Ltzf0: Downloading webpage\n",
      "[youtube] 7m7dh1Ltzf0: Downloading ios player API JSON\n",
      "[youtube] 7m7dh1Ltzf0: Downloading android player API JSON\n"
     ]
    },
    {
     "name": "stderr",
     "output_type": "stream",
     "text": [
      "WARNING: [youtube] YouTube said: ERROR - Precondition check failed.\n",
      "WARNING: [youtube] HTTP Error 400: Bad Request. Retrying (1/3)...\n"
     ]
    },
    {
     "name": "stdout",
     "output_type": "stream",
     "text": [
      "[youtube] 7m7dh1Ltzf0: Downloading android player API JSON\n",
      "[youtube] 7m7dh1Ltzf0: Downloading m3u8 information\n",
      "[info] 7m7dh1Ltzf0: Downloading 1 format(s): 251\n",
      "[download] Destination: C:\\Users\\arwin\\Documents\\dev\\APS360-PROJECT\\data\\billboard_audio\\Lil Baby & Lil Durk_Still Hood\\Lil Baby & Lil Durk_Still Hood.webm\n",
      "[download] 100% of    3.41MiB in 00:00:00 at 12.43MiB/s  \n",
      "[download] Finished downloading playlist: Lil Baby & Lil Durk Still Hood\n",
      "[generic] Extracting URL: Lil Baby & Lil Durk Okay\n",
      "[youtube:search] Extracting URL: ytsearch:Lil Baby & Lil Durk Okay\n",
      "[download] Downloading playlist: Lil Baby & Lil Durk Okay\n",
      "[youtube:search] query \"Lil Baby & Lil Durk Okay\": Downloading web client config\n",
      "[youtube:search] query \"Lil Baby & Lil Durk Okay\" page 1: Downloading API JSON\n",
      "[youtube:search] Playlist Lil Baby & Lil Durk Okay: Downloading 1 items of 1\n",
      "[download] Downloading item 1 of 1\n",
      "[youtube] Extracting URL: https://www.youtube.com/watch?v=WIwFxkDl2WA\n",
      "[youtube] WIwFxkDl2WA: Downloading webpage\n",
      "[youtube] WIwFxkDl2WA: Downloading ios player API JSON\n",
      "[youtube] WIwFxkDl2WA: Downloading android player API JSON\n",
      "[youtube] WIwFxkDl2WA: Downloading m3u8 information\n",
      "[info] WIwFxkDl2WA: Downloading 1 format(s): 251\n",
      "[download] Destination: C:\\Users\\arwin\\Documents\\dev\\APS360-PROJECT\\data\\billboard_audio\\Lil Baby & Lil Durk_Okay\\Lil Baby & Lil Durk_Okay.webm\n",
      "[download] 100% of    3.85MiB in 00:00:00 at 12.60MiB/s  \n",
      "[download] Finished downloading playlist: Lil Baby & Lil Durk Okay\n",
      "[generic] Extracting URL: Lil Baby & Lil Durk Man Of My Word\n",
      "[youtube:search] Extracting URL: ytsearch:Lil Baby & Lil Durk Man Of My Word\n",
      "[download] Downloading playlist: Lil Baby & Lil Durk Man Of My Word\n",
      "[youtube:search] query \"Lil Baby & Lil Durk Man Of My Word\": Downloading web client config\n",
      "[youtube:search] query \"Lil Baby & Lil Durk Man Of My Word\" page 1: Downloading API JSON\n",
      "[youtube:search] Playlist Lil Baby & Lil Durk Man Of My Word: Downloading 1 items of 1\n",
      "[download] Downloading item 1 of 1\n",
      "[youtube] Extracting URL: https://www.youtube.com/watch?v=6v6HN2pm5pE\n",
      "[youtube] 6v6HN2pm5pE: Downloading webpage\n",
      "[youtube] 6v6HN2pm5pE: Downloading ios player API JSON\n",
      "[youtube] 6v6HN2pm5pE: Downloading android player API JSON\n",
      "[youtube] 6v6HN2pm5pE: Downloading m3u8 information\n",
      "[info] 6v6HN2pm5pE: Downloading 1 format(s): 251\n",
      "[download] Destination: C:\\Users\\arwin\\Documents\\dev\\APS360-PROJECT\\data\\billboard_audio\\Lil Baby & Lil Durk_Man Of My Word\\Lil Baby & Lil Durk_Man Of My Word.webm\n",
      "[download] 100% of    3.56MiB in 00:00:00 at 12.72MiB/s    \n",
      "[download] Finished downloading playlist: Lil Baby & Lil Durk Man Of My Word\n",
      "[generic] Extracting URL: Lil Baby & Lil Durk Medical\n",
      "[youtube:search] Extracting URL: ytsearch:Lil Baby & Lil Durk Medical\n",
      "[download] Downloading playlist: Lil Baby & Lil Durk Medical\n",
      "[youtube:search] query \"Lil Baby & Lil Durk Medical\": Downloading web client config\n",
      "[youtube:search] query \"Lil Baby & Lil Durk Medical\" page 1: Downloading API JSON\n",
      "[youtube:search] Playlist Lil Baby & Lil Durk Medical: Downloading 1 items of 1\n",
      "[download] Downloading item 1 of 1\n",
      "[youtube] Extracting URL: https://www.youtube.com/watch?v=pYT4mJn-unU\n",
      "[youtube] pYT4mJn-unU: Downloading webpage\n",
      "[youtube] pYT4mJn-unU: Downloading ios player API JSON\n",
      "[youtube] pYT4mJn-unU: Downloading android player API JSON\n",
      "[youtube] pYT4mJn-unU: Downloading m3u8 information\n",
      "[info] pYT4mJn-unU: Downloading 1 format(s): 251\n",
      "[download] Destination: C:\\Users\\arwin\\Documents\\dev\\APS360-PROJECT\\data\\billboard_audio\\Lil Baby & Lil Durk_Medical\\Lil Baby & Lil Durk_Medical.webm\n",
      "[download] 100% of    3.21MiB in 00:00:00 at 14.87MiB/s  \n",
      "[download] Finished downloading playlist: Lil Baby & Lil Durk Medical\n",
      "[generic] Extracting URL: Lil Baby, Lil Durk & Rod Wave Rich Off Pain\n",
      "[youtube:search] Extracting URL: ytsearch:Lil Baby, Lil Durk & Rod Wave Rich Off Pain\n",
      "[download] Downloading playlist: Lil Baby, Lil Durk & Rod Wave Rich Off Pain\n",
      "[youtube:search] query \"Lil Baby, Lil Durk & Rod Wave Rich Off Pain\": Downloading web client config\n",
      "[youtube:search] query \"Lil Baby, Lil Durk & Rod Wave Rich Off Pain\" page 1: Downloading API JSON\n",
      "[youtube:search] Playlist Lil Baby, Lil Durk & Rod Wave Rich Off Pain: Downloading 1 items of 1\n",
      "[download] Downloading item 1 of 1\n",
      "[youtube] Extracting URL: https://www.youtube.com/watch?v=IvlESjVIJJY\n",
      "[youtube] IvlESjVIJJY: Downloading webpage\n",
      "[youtube] IvlESjVIJJY: Downloading ios player API JSON\n",
      "[youtube] IvlESjVIJJY: Downloading android player API JSON\n",
      "[youtube] IvlESjVIJJY: Downloading m3u8 information\n",
      "[info] IvlESjVIJJY: Downloading 1 format(s): 251\n",
      "[download] Destination: C:\\Users\\arwin\\Documents\\dev\\APS360-PROJECT\\data\\billboard_audio\\Lil Baby, Lil Durk & Rod Wave_Rich Off Pain\\Lil Baby, Lil Durk & Rod Wave_Rich Off Pain.webm\n",
      "[download] 100% of    4.05MiB in 00:00:01 at 3.52MiB/s     \n",
      "[download] Finished downloading playlist: Lil Baby, Lil Durk & Rod Wave Rich Off Pain\n",
      "[generic] Extracting URL: Lil Baby & Lil Durk Lying\n",
      "[youtube:search] Extracting URL: ytsearch:Lil Baby & Lil Durk Lying\n",
      "[download] Downloading playlist: Lil Baby & Lil Durk Lying\n",
      "[youtube:search] query \"Lil Baby & Lil Durk Lying\": Downloading web client config\n",
      "[youtube:search] query \"Lil Baby & Lil Durk Lying\" page 1: Downloading API JSON\n",
      "[youtube:search] Playlist Lil Baby & Lil Durk Lying: Downloading 1 items of 1\n",
      "[download] Downloading item 1 of 1\n",
      "[youtube] Extracting URL: https://www.youtube.com/watch?v=Bwm_BMjzI9I\n",
      "[youtube] Bwm_BMjzI9I: Downloading webpage\n",
      "[youtube] Bwm_BMjzI9I: Downloading ios player API JSON\n",
      "[youtube] Bwm_BMjzI9I: Downloading android player API JSON\n",
      "[youtube] Bwm_BMjzI9I: Downloading m3u8 information\n",
      "[info] Bwm_BMjzI9I: Downloading 1 format(s): 251\n",
      "[download] Destination: C:\\Users\\arwin\\Documents\\dev\\APS360-PROJECT\\data\\billboard_audio\\Lil Baby & Lil Durk_Lying\\Lil Baby & Lil Durk_Lying.webm\n",
      "[download] 100% of    3.20MiB in 00:00:00 at 12.14MiB/s  \n",
      "[download] Finished downloading playlist: Lil Baby & Lil Durk Lying\n",
      "[generic] Extracting URL: Tom MacDonald Snowflakes\n",
      "[youtube:search] Extracting URL: ytsearch:Tom MacDonald Snowflakes\n",
      "[download] Downloading playlist: Tom MacDonald Snowflakes\n",
      "[youtube:search] query \"Tom MacDonald Snowflakes\": Downloading web client config\n",
      "[youtube:search] query \"Tom MacDonald Snowflakes\" page 1: Downloading API JSON\n",
      "[youtube:search] Playlist Tom MacDonald Snowflakes: Downloading 1 items of 1\n",
      "[download] Downloading item 1 of 1\n",
      "[youtube] Extracting URL: https://www.youtube.com/watch?v=fCMwlorNEZk\n",
      "[youtube] fCMwlorNEZk: Downloading webpage\n",
      "[youtube] fCMwlorNEZk: Downloading ios player API JSON\n",
      "[youtube] fCMwlorNEZk: Downloading android player API JSON\n",
      "[youtube] fCMwlorNEZk: Downloading m3u8 information\n",
      "[info] fCMwlorNEZk: Downloading 1 format(s): 251\n",
      "[download] Destination: C:\\Users\\arwin\\Documents\\dev\\APS360-PROJECT\\data\\billboard_audio\\Tom MacDonald_Snowflakes\\Tom MacDonald_Snowflakes.webm\n",
      "[download] 100% of    3.40MiB in 00:00:01 at 2.23MiB/s     \n",
      "[download] Finished downloading playlist: Tom MacDonald Snowflakes\n",
      "[generic] Extracting URL: Lil Baby & Lil Durk That's Facts\n",
      "[youtube:search] Extracting URL: ytsearch:Lil Baby & Lil Durk That's Facts\n",
      "[download] Downloading playlist: Lil Baby & Lil Durk That's Facts\n",
      "[youtube:search] query \"Lil Baby & Lil Durk That's Facts\": Downloading web client config\n",
      "[youtube:search] query \"Lil Baby & Lil Durk That's Facts\" page 1: Downloading API JSON\n",
      "[youtube:search] Playlist Lil Baby & Lil Durk That's Facts: Downloading 1 items of 1\n",
      "[download] Downloading item 1 of 1\n",
      "[youtube] Extracting URL: https://www.youtube.com/watch?v=y1sfLmMohmI\n",
      "[youtube] y1sfLmMohmI: Downloading webpage\n",
      "[youtube] y1sfLmMohmI: Downloading ios player API JSON\n",
      "[youtube] y1sfLmMohmI: Downloading android player API JSON\n",
      "[youtube] y1sfLmMohmI: Downloading m3u8 information\n",
      "[info] y1sfLmMohmI: Downloading 1 format(s): 251\n",
      "[download] Destination: C:\\Users\\arwin\\Documents\\dev\\APS360-PROJECT\\data\\billboard_audio\\Lil Baby & Lil Durk_That's Facts\\Lil Baby & Lil Durk_That's Facts.webm\n",
      "[download] 100% of    3.73MiB in 00:00:00 at 15.81MiB/s  \n",
      "[download] Finished downloading playlist: Lil Baby & Lil Durk That's Facts\n",
      "[generic] Extracting URL: Billie Eilish Your Power\n",
      "[youtube:search] Extracting URL: ytsearch:Billie Eilish Your Power\n",
      "[download] Downloading playlist: Billie Eilish Your Power\n",
      "[youtube:search] query \"Billie Eilish Your Power\": Downloading web client config\n",
      "[youtube:search] query \"Billie Eilish Your Power\" page 1: Downloading API JSON\n",
      "[youtube:search] Playlist Billie Eilish Your Power: Downloading 1 items of 1\n",
      "[download] Downloading item 1 of 1\n",
      "[youtube] Extracting URL: https://www.youtube.com/watch?v=fzeWc3zh01g\n",
      "[youtube] fzeWc3zh01g: Downloading webpage\n",
      "[youtube] fzeWc3zh01g: Downloading ios player API JSON\n",
      "[youtube] fzeWc3zh01g: Downloading android player API JSON\n"
     ]
    },
    {
     "name": "stderr",
     "output_type": "stream",
     "text": [
      "WARNING: [youtube] YouTube said: ERROR - Precondition check failed.\n",
      "WARNING: [youtube] HTTP Error 400: Bad Request. Retrying (1/3)...\n"
     ]
    },
    {
     "name": "stdout",
     "output_type": "stream",
     "text": [
      "[youtube] fzeWc3zh01g: Downloading android player API JSON\n",
      "[youtube] fzeWc3zh01g: Downloading m3u8 information\n",
      "[info] fzeWc3zh01g: Downloading 1 format(s): 251\n",
      "[download] Destination: C:\\Users\\arwin\\Documents\\dev\\APS360-PROJECT\\data\\billboard_audio\\Billie Eilish_Your Power\\Billie Eilish_Your Power.webm\n",
      "[download] 100% of    4.00MiB in 00:00:00 at 14.54MiB/s  \n",
      "[download] Finished downloading playlist: Billie Eilish Your Power\n",
      "[generic] Extracting URL: Lil Baby & Lil Durk Please\n",
      "[youtube:search] Extracting URL: ytsearch:Lil Baby & Lil Durk Please\n",
      "[download] Downloading playlist: Lil Baby & Lil Durk Please\n",
      "[youtube:search] query \"Lil Baby & Lil Durk Please\": Downloading web client config\n",
      "[youtube:search] query \"Lil Baby & Lil Durk Please\" page 1: Downloading API JSON\n",
      "[youtube:search] Playlist Lil Baby & Lil Durk Please: Downloading 1 items of 1\n",
      "[download] Downloading item 1 of 1\n",
      "[youtube] Extracting URL: https://www.youtube.com/watch?v=ypaS5m3IUic\n",
      "[youtube] ypaS5m3IUic: Downloading webpage\n",
      "[youtube] ypaS5m3IUic: Downloading ios player API JSON\n",
      "[youtube] ypaS5m3IUic: Downloading android player API JSON\n",
      "[youtube] ypaS5m3IUic: Downloading m3u8 information\n",
      "[info] ypaS5m3IUic: Downloading 1 format(s): 251\n",
      "[download] Destination: C:\\Users\\arwin\\Documents\\dev\\APS360-PROJECT\\data\\billboard_audio\\Lil Baby & Lil Durk_Please\\Lil Baby & Lil Durk_Please.webm\n",
      "[download] 100% of    3.53MiB in 00:00:00 at 9.26MiB/s   \n",
      "[download] Finished downloading playlist: Lil Baby & Lil Durk Please\n",
      "[generic] Extracting URL: Lil Baby, Lil Durk & Young Thug Up The Side\n",
      "[youtube:search] Extracting URL: ytsearch:Lil Baby, Lil Durk & Young Thug Up The Side\n",
      "[download] Downloading playlist: Lil Baby, Lil Durk & Young Thug Up The Side\n",
      "[youtube:search] query \"Lil Baby, Lil Durk & Young Thug Up The Side\": Downloading web client config\n",
      "[youtube:search] query \"Lil Baby, Lil Durk & Young Thug Up The Side\" page 1: Downloading API JSON\n",
      "[youtube:search] Playlist Lil Baby, Lil Durk & Young Thug Up The Side: Downloading 1 items of 1\n",
      "[download] Downloading item 1 of 1\n",
      "[youtube] Extracting URL: https://www.youtube.com/watch?v=28hPKMv8V1w\n",
      "[youtube] 28hPKMv8V1w: Downloading webpage\n",
      "[youtube] 28hPKMv8V1w: Downloading ios player API JSON\n",
      "[youtube] 28hPKMv8V1w: Downloading android player API JSON\n",
      "[youtube] 28hPKMv8V1w: Downloading m3u8 information\n",
      "[info] 28hPKMv8V1w: Downloading 1 format(s): 251\n",
      "[download] Destination: C:\\Users\\arwin\\Documents\\dev\\APS360-PROJECT\\data\\billboard_audio\\Lil Baby, Lil Durk & Young Thug_Up The Side\\Lil Baby, Lil Durk & Young Thug_Up The Side.webm\n",
      "[download] 100% of    3.68MiB in 00:00:00 at 12.46MiB/s    \n",
      "[download] Finished downloading playlist: Lil Baby, Lil Durk & Young Thug Up The Side\n",
      "[generic] Extracting URL: Olivia Rodrigo Hope Ur OK\n",
      "[youtube:search] Extracting URL: ytsearch:Olivia Rodrigo Hope Ur OK\n",
      "[download] Downloading playlist: Olivia Rodrigo Hope Ur OK\n",
      "[youtube:search] query \"Olivia Rodrigo Hope Ur OK\": Downloading web client config\n",
      "[youtube:search] query \"Olivia Rodrigo Hope Ur OK\" page 1: Downloading API JSON\n",
      "[youtube:search] Playlist Olivia Rodrigo Hope Ur OK: Downloading 1 items of 1\n",
      "[download] Downloading item 1 of 1\n",
      "[youtube] Extracting URL: https://www.youtube.com/watch?v=ZLlsmB1D4Q0\n",
      "[youtube] ZLlsmB1D4Q0: Downloading webpage\n",
      "[youtube] ZLlsmB1D4Q0: Downloading ios player API JSON\n",
      "[youtube] ZLlsmB1D4Q0: Downloading android player API JSON\n"
     ]
    },
    {
     "name": "stderr",
     "output_type": "stream",
     "text": [
      "WARNING: [youtube] YouTube said: ERROR - Precondition check failed.\n",
      "WARNING: [youtube] HTTP Error 400: Bad Request. Retrying (1/3)...\n"
     ]
    },
    {
     "name": "stdout",
     "output_type": "stream",
     "text": [
      "[youtube] ZLlsmB1D4Q0: Downloading android player API JSON\n",
      "[youtube] ZLlsmB1D4Q0: Downloading m3u8 information\n",
      "[info] ZLlsmB1D4Q0: Downloading 1 format(s): 251\n",
      "[download] Destination: C:\\Users\\arwin\\Documents\\dev\\APS360-PROJECT\\data\\billboard_audio\\Olivia Rodrigo_Hope Ur OK\\Olivia Rodrigo_Hope Ur OK.webm\n",
      "[download] 100% of    3.26MiB in 00:00:00 at 14.91MiB/s  \n",
      "[download] Finished downloading playlist: Olivia Rodrigo Hope Ur OK\n",
      "[generic] Extracting URL: Lil Baby & Lil Durk If You Want To\n",
      "[youtube:search] Extracting URL: ytsearch:Lil Baby & Lil Durk If You Want To\n",
      "[download] Downloading playlist: Lil Baby & Lil Durk If You Want To\n",
      "[youtube:search] query \"Lil Baby & Lil Durk If You Want To\": Downloading web client config\n",
      "[youtube:search] query \"Lil Baby & Lil Durk If You Want To\" page 1: Downloading API JSON\n",
      "[youtube:search] Playlist Lil Baby & Lil Durk If You Want To: Downloading 1 items of 1\n",
      "[download] Downloading item 1 of 1\n",
      "[youtube] Extracting URL: https://www.youtube.com/watch?v=6VItja6kg3E\n",
      "[youtube] 6VItja6kg3E: Downloading webpage\n",
      "[youtube] 6VItja6kg3E: Downloading ios player API JSON\n",
      "[youtube] 6VItja6kg3E: Downloading android player API JSON\n",
      "[youtube] 6VItja6kg3E: Downloading m3u8 information\n",
      "[info] 6VItja6kg3E: Downloading 1 format(s): 251\n",
      "[download] Destination: C:\\Users\\arwin\\Documents\\dev\\APS360-PROJECT\\data\\billboard_audio\\Lil Baby & Lil Durk_If You Want To\\Lil Baby & Lil Durk_If You Want To.webm\n",
      "[download] 100% of    3.40MiB in 00:00:00 at 6.69MiB/s   \n",
      "[download] Finished downloading playlist: Lil Baby & Lil Durk If You Want To\n",
      "[generic] Extracting URL: Nicki Minaj, Drake & Lil Wayne Seeing Green\n",
      "[youtube:search] Extracting URL: ytsearch:Nicki Minaj, Drake & Lil Wayne Seeing Green\n",
      "[download] Downloading playlist: Nicki Minaj, Drake & Lil Wayne Seeing Green\n",
      "[youtube:search] query \"Nicki Minaj, Drake & Lil Wayne Seeing Green\": Downloading web client config\n",
      "[youtube:search] query \"Nicki Minaj, Drake & Lil Wayne Seeing Green\" page 1: Downloading API JSON\n",
      "[youtube:search] Playlist Nicki Minaj, Drake & Lil Wayne Seeing Green: Downloading 1 items of 1\n",
      "[download] Downloading item 1 of 1\n",
      "[youtube] Extracting URL: https://www.youtube.com/watch?v=_Q7rcUm0Dro\n",
      "[youtube] _Q7rcUm0Dro: Downloading webpage\n",
      "[youtube] _Q7rcUm0Dro: Downloading ios player API JSON\n",
      "[youtube] _Q7rcUm0Dro: Downloading android player API JSON\n"
     ]
    },
    {
     "name": "stderr",
     "output_type": "stream",
     "text": [
      "WARNING: [youtube] YouTube said: ERROR - Precondition check failed.\n",
      "WARNING: [youtube] HTTP Error 400: Bad Request. Retrying (1/3)...\n"
     ]
    },
    {
     "name": "stdout",
     "output_type": "stream",
     "text": [
      "[youtube] _Q7rcUm0Dro: Downloading android player API JSON\n"
     ]
    },
    {
     "name": "stderr",
     "output_type": "stream",
     "text": [
      "WARNING: [youtube] YouTube said: ERROR - Precondition check failed.\n",
      "WARNING: [youtube] HTTP Error 400: Bad Request. Retrying (2/3)...\n"
     ]
    },
    {
     "name": "stdout",
     "output_type": "stream",
     "text": [
      "[youtube] _Q7rcUm0Dro: Downloading android player API JSON\n"
     ]
    },
    {
     "name": "stderr",
     "output_type": "stream",
     "text": [
      "WARNING: [youtube] YouTube said: ERROR - Precondition check failed.\n",
      "WARNING: [youtube] HTTP Error 400: Bad Request. Retrying (3/3)...\n"
     ]
    },
    {
     "name": "stdout",
     "output_type": "stream",
     "text": [
      "[youtube] _Q7rcUm0Dro: Downloading android player API JSON\n"
     ]
    },
    {
     "name": "stderr",
     "output_type": "stream",
     "text": [
      "WARNING: [youtube] YouTube said: ERROR - Precondition check failed.\n",
      "WARNING: [youtube] Unable to download API page: HTTP Error 400: Bad Request (caused by <HTTPError 400: Bad Request>); please report this issue on  https://github.com/yt-dlp/yt-dlp/issues?q= , filling out the appropriate issue template. Confirm you are on the latest version using  yt-dlp -U\n"
     ]
    },
    {
     "name": "stdout",
     "output_type": "stream",
     "text": [
      "[youtube] _Q7rcUm0Dro: Downloading m3u8 information\n",
      "[info] _Q7rcUm0Dro: Downloading 1 format(s): 251\n",
      "[download] Destination: C:\\Users\\arwin\\Documents\\dev\\APS360-PROJECT\\data\\billboard_audio\\Nicki Minaj, Drake & Lil Wayne_Seeing Green\\Nicki Minaj, Drake & Lil Wayne_Seeing Green.webm\n",
      "[download] 100% of    5.29MiB in 00:00:00 at 10.88MiB/s  \n",
      "[download] Finished downloading playlist: Nicki Minaj, Drake & Lil Wayne Seeing Green\n",
      "[generic] Extracting URL: Gabby Barrett The Good Ones\n",
      "[youtube:search] Extracting URL: ytsearch:Gabby Barrett The Good Ones\n",
      "[download] Downloading playlist: Gabby Barrett The Good Ones\n",
      "[youtube:search] query \"Gabby Barrett The Good Ones\": Downloading web client config\n",
      "[youtube:search] query \"Gabby Barrett The Good Ones\" page 1: Downloading API JSON\n",
      "[youtube:search] Playlist Gabby Barrett The Good Ones: Downloading 1 items of 1\n",
      "[download] Downloading item 1 of 1\n",
      "[youtube] Extracting URL: https://www.youtube.com/watch?v=CV7GVjg3TV4\n",
      "[youtube] CV7GVjg3TV4: Downloading webpage\n",
      "[youtube] CV7GVjg3TV4: Downloading ios player API JSON\n",
      "[youtube] CV7GVjg3TV4: Downloading android player API JSON\n",
      "[youtube] CV7GVjg3TV4: Downloading m3u8 information\n",
      "[info] CV7GVjg3TV4: Downloading 1 format(s): 251\n",
      "[download] Destination: C:\\Users\\arwin\\Documents\\dev\\APS360-PROJECT\\data\\billboard_audio\\Gabby Barrett_The Good Ones\\Gabby Barrett_The Good Ones.webm\n",
      "[download] 100% of    2.74MiB in 00:00:00 at 16.51MiB/s  \n",
      "[download] Finished downloading playlist: Gabby Barrett The Good Ones\n",
      "[generic] Extracting URL: Eric Church Hell Of A View\n",
      "[youtube:search] Extracting URL: ytsearch:Eric Church Hell Of A View\n",
      "[download] Downloading playlist: Eric Church Hell Of A View\n",
      "[youtube:search] query \"Eric Church Hell Of A View\": Downloading web client config\n",
      "[youtube:search] query \"Eric Church Hell Of A View\" page 1: Downloading API JSON\n",
      "[youtube:search] Playlist Eric Church Hell Of A View: Downloading 1 items of 1\n",
      "[download] Downloading item 1 of 1\n",
      "[youtube] Extracting URL: https://www.youtube.com/watch?v=BIBMEMUbZVg\n",
      "[youtube] BIBMEMUbZVg: Downloading webpage\n",
      "[youtube] BIBMEMUbZVg: Downloading ios player API JSON\n",
      "[youtube] BIBMEMUbZVg: Downloading android player API JSON\n",
      "[youtube] BIBMEMUbZVg: Downloading m3u8 information\n",
      "[info] BIBMEMUbZVg: Downloading 1 format(s): 251\n",
      "[download] Destination: C:\\Users\\arwin\\Documents\\dev\\APS360-PROJECT\\data\\billboard_audio\\Eric Church_Hell Of A View\\Eric Church_Hell Of A View.webm\n",
      "[download] 100% of    2.78MiB in 00:00:00 at 15.33MiB/s  \n",
      "[download] Finished downloading playlist: Eric Church Hell Of A View\n",
      "[generic] Extracting URL: Lil Baby On Me\n",
      "[youtube:search] Extracting URL: ytsearch:Lil Baby On Me\n",
      "[download] Downloading playlist: Lil Baby On Me\n",
      "[youtube:search] query \"Lil Baby On Me\": Downloading web client config\n",
      "[youtube:search] query \"Lil Baby On Me\" page 1: Downloading API JSON\n",
      "[youtube:search] Playlist Lil Baby On Me: Downloading 1 items of 1\n",
      "[download] Downloading item 1 of 1\n",
      "[youtube] Extracting URL: https://www.youtube.com/watch?v=ieTnO1Dvt-I\n",
      "[youtube] ieTnO1Dvt-I: Downloading webpage\n",
      "[youtube] ieTnO1Dvt-I: Downloading ios player API JSON\n",
      "[youtube] ieTnO1Dvt-I: Downloading android player API JSON\n",
      "[youtube] ieTnO1Dvt-I: Downloading m3u8 information\n",
      "[info] ieTnO1Dvt-I: Downloading 1 format(s): 251\n",
      "[download] Destination: C:\\Users\\arwin\\Documents\\dev\\APS360-PROJECT\\data\\billboard_audio\\Lil Baby_On Me\\Lil Baby_On Me.webm\n",
      "[download] 100% of    2.50MiB in 00:00:00 at 15.54MiB/s  \n",
      "[download] Finished downloading playlist: Lil Baby On Me\n",
      "[generic] Extracting URL: Eminem Featuring Jack Harlow & Cordae Killer\n",
      "[youtube:search] Extracting URL: ytsearch:Eminem Featuring Jack Harlow & Cordae Killer\n",
      "[download] Downloading playlist: Eminem Featuring Jack Harlow & Cordae Killer\n",
      "[youtube:search] query \"Eminem Featuring Jack Harlow & Cordae Killer\": Downloading web client config\n",
      "[youtube:search] query \"Eminem Featuring Jack Harlow & Cordae Killer\" page 1: Downloading API JSON\n",
      "[youtube:search] Playlist Eminem Featuring Jack Harlow & Cordae Killer: Downloading 1 items of 1\n",
      "[download] Downloading item 1 of 1\n",
      "[youtube] Extracting URL: https://www.youtube.com/watch?v=FVeZcM6tBQU\n",
      "[youtube] FVeZcM6tBQU: Downloading webpage\n",
      "[youtube] FVeZcM6tBQU: Downloading ios player API JSON\n",
      "[youtube] FVeZcM6tBQU: Downloading android player API JSON\n",
      "[youtube] FVeZcM6tBQU: Downloading m3u8 information\n",
      "[info] FVeZcM6tBQU: Downloading 1 format(s): 251\n",
      "[download] Destination: C:\\Users\\arwin\\Documents\\dev\\APS360-PROJECT\\data\\billboard_audio\\Eminem Featuring Jack Harlow & Cordae_Killer\\Eminem Featuring Jack Harlow & Cordae_Killer.webm\n",
      "[download] 100% of    3.84MiB in 00:00:00 at 16.21MiB/s  \n",
      "[download] Finished downloading playlist: Eminem Featuring Jack Harlow & Cordae Killer\n",
      "[generic] Extracting URL: J_ Cole amari\n",
      "[youtube:search] Extracting URL: ytsearch:J_ Cole amari\n",
      "[download] Downloading playlist: J_ Cole amari\n",
      "[youtube:search] query \"J_ Cole amari\": Downloading web client config\n",
      "[youtube:search] query \"J_ Cole amari\" page 1: Downloading API JSON\n",
      "[youtube:search] Playlist J_ Cole amari: Downloading 1 items of 1\n",
      "[download] Downloading item 1 of 1\n",
      "[youtube] Extracting URL: https://www.youtube.com/watch?v=w3333Fo6ufY\n",
      "[youtube] w3333Fo6ufY: Downloading webpage\n",
      "[youtube] w3333Fo6ufY: Downloading ios player API JSON\n",
      "[youtube] w3333Fo6ufY: Downloading android player API JSON\n"
     ]
    },
    {
     "name": "stderr",
     "output_type": "stream",
     "text": [
      "WARNING: [youtube] YouTube said: ERROR - Precondition check failed.\n",
      "WARNING: [youtube] HTTP Error 400: Bad Request. Retrying (1/3)...\n"
     ]
    },
    {
     "name": "stdout",
     "output_type": "stream",
     "text": [
      "[youtube] w3333Fo6ufY: Downloading android player API JSON\n",
      "[youtube] w3333Fo6ufY: Downloading m3u8 information\n",
      "[info] w3333Fo6ufY: Downloading 1 format(s): 251\n",
      "[download] Destination: C:\\Users\\arwin\\Documents\\dev\\APS360-PROJECT\\data\\billboard_audio\\J_ Cole_amari\\J_ Cole_amari.webm\n",
      "[download] 100% of    2.45MiB in 00:00:00 at 13.45MiB/s  \n",
      "[download] Finished downloading playlist: J_ Cole amari\n",
      "[generic] Extracting URL: Travis Scott & HVME Goosebumps\n",
      "[youtube:search] Extracting URL: ytsearch:Travis Scott & HVME Goosebumps\n",
      "[download] Downloading playlist: Travis Scott & HVME Goosebumps\n",
      "[youtube:search] query \"Travis Scott & HVME Goosebumps\": Downloading web client config\n",
      "[youtube:search] query \"Travis Scott & HVME Goosebumps\" page 1: Downloading API JSON\n",
      "[youtube:search] Playlist Travis Scott & HVME Goosebumps: Downloading 1 items of 1\n",
      "[download] Downloading item 1 of 1\n",
      "[youtube] Extracting URL: https://www.youtube.com/watch?v=XULMZ907ios\n",
      "[youtube] XULMZ907ios: Downloading webpage\n",
      "[youtube] XULMZ907ios: Downloading ios player API JSON\n",
      "[youtube] XULMZ907ios: Downloading android player API JSON\n",
      "[youtube] XULMZ907ios: Downloading m3u8 information\n",
      "[info] XULMZ907ios: Downloading 1 format(s): 251\n",
      "[download] Destination: C:\\Users\\arwin\\Documents\\dev\\APS360-PROJECT\\data\\billboard_audio\\Travis Scott & HVME_Goosebumps\\Travis Scott & HVME_Goosebumps.webm\n",
      "[download] 100% of    2.95MiB in 00:00:00 at 15.49MiB/s  \n",
      "[download] Finished downloading playlist: Travis Scott & HVME Goosebumps\n",
      "[generic] Extracting URL: Young Thug & Gunna Featuring Drake Solid\n",
      "[youtube:search] Extracting URL: ytsearch:Young Thug & Gunna Featuring Drake Solid\n",
      "[download] Downloading playlist: Young Thug & Gunna Featuring Drake Solid\n",
      "[youtube:search] query \"Young Thug & Gunna Featuring Drake Solid\": Downloading web client config\n",
      "[youtube:search] query \"Young Thug & Gunna Featuring Drake Solid\" page 1: Downloading API JSON\n",
      "[youtube:search] Playlist Young Thug & Gunna Featuring Drake Solid: Downloading 1 items of 1\n",
      "[download] Downloading item 1 of 1\n",
      "[youtube] Extracting URL: https://www.youtube.com/watch?v=ML_4URXK1xE\n",
      "[youtube] ML_4URXK1xE: Downloading webpage\n",
      "[youtube] ML_4URXK1xE: Downloading ios player API JSON\n",
      "[youtube] ML_4URXK1xE: Downloading android player API JSON\n"
     ]
    },
    {
     "name": "stderr",
     "output_type": "stream",
     "text": [
      "WARNING: [youtube] YouTube said: ERROR - Precondition check failed.\n",
      "WARNING: [youtube] HTTP Error 400: Bad Request. Retrying (1/3)...\n"
     ]
    },
    {
     "name": "stdout",
     "output_type": "stream",
     "text": [
      "[youtube] ML_4URXK1xE: Downloading android player API JSON\n"
     ]
    },
    {
     "name": "stderr",
     "output_type": "stream",
     "text": [
      "WARNING: [youtube] YouTube said: ERROR - Precondition check failed.\n",
      "WARNING: [youtube] HTTP Error 400: Bad Request. Retrying (2/3)...\n"
     ]
    },
    {
     "name": "stdout",
     "output_type": "stream",
     "text": [
      "[youtube] ML_4URXK1xE: Downloading android player API JSON\n",
      "[youtube] ML_4URXK1xE: Downloading m3u8 information\n",
      "[info] ML_4URXK1xE: Downloading 1 format(s): 251\n",
      "[download] Destination: C:\\Users\\arwin\\Documents\\dev\\APS360-PROJECT\\data\\billboard_audio\\Young Thug & Gunna Featuring Drake_Solid\\Young Thug & Gunna Featuring Drake_Solid.webm\n",
      "[download] 100% of    3.66MiB in 00:00:00 at 11.32MiB/s  \n",
      "[download] Finished downloading playlist: Young Thug & Gunna Featuring Drake Solid\n",
      "[generic] Extracting URL: Pop Smoke Featuring A Boogie Wit da Hoodie Hello\n",
      "[youtube:search] Extracting URL: ytsearch:Pop Smoke Featuring A Boogie Wit da Hoodie Hello\n",
      "[download] Downloading playlist: Pop Smoke Featuring A Boogie Wit da Hoodie Hello\n",
      "[youtube:search] query \"Pop Smoke Featuring A Boogie Wit da Hoodie Hello\": Downloading web client config\n",
      "[youtube:search] query \"Pop Smoke Featuring A Boogie Wit da Hoodie Hello\" page 1: Downloading API JSON\n",
      "[youtube:search] Playlist Pop Smoke Featuring A Boogie Wit da Hoodie Hello: Downloading 1 items of 1\n",
      "[download] Downloading item 1 of 1\n",
      "[youtube] Extracting URL: https://www.youtube.com/watch?v=fazMSCZg-mw\n",
      "[youtube] fazMSCZg-mw: Downloading webpage\n",
      "[youtube] fazMSCZg-mw: Downloading ios player API JSON\n",
      "[youtube] fazMSCZg-mw: Downloading android player API JSON\n"
     ]
    },
    {
     "name": "stderr",
     "output_type": "stream",
     "text": [
      "WARNING: [youtube] YouTube said: ERROR - Precondition check failed.\n",
      "WARNING: [youtube] HTTP Error 400: Bad Request. Retrying (1/3)...\n"
     ]
    },
    {
     "name": "stdout",
     "output_type": "stream",
     "text": [
      "[youtube] fazMSCZg-mw: Downloading android player API JSON\n",
      "[youtube] fazMSCZg-mw: Downloading m3u8 information\n",
      "[info] fazMSCZg-mw: Downloading 1 format(s): 251\n",
      "[download] Destination: C:\\Users\\arwin\\Documents\\dev\\APS360-PROJECT\\data\\billboard_audio\\Pop Smoke Featuring A Boogie Wit da Hoodie_Hello\\Pop Smoke Featuring A Boogie Wit da Hoodie_Hello.webm\n",
      "[download] 100% of    3.30MiB in 00:00:00 at 9.20MiB/s   \n",
      "[download] Finished downloading playlist: Pop Smoke Featuring A Boogie Wit da Hoodie Hello\n",
      "[generic] Extracting URL: Tiesto The Business\n",
      "[youtube:search] Extracting URL: ytsearch:Tiesto The Business\n",
      "[download] Downloading playlist: Tiesto The Business\n",
      "[youtube:search] query \"Tiesto The Business\": Downloading web client config\n",
      "[youtube:search] query \"Tiesto The Business\" page 1: Downloading API JSON\n",
      "[youtube:search] Playlist Tiesto The Business: Downloading 1 items of 1\n",
      "[download] Downloading item 1 of 1\n",
      "[youtube] Extracting URL: https://www.youtube.com/watch?v=nCg3ufihKyU\n",
      "[youtube] nCg3ufihKyU: Downloading webpage\n",
      "[youtube] nCg3ufihKyU: Downloading ios player API JSON\n",
      "[youtube] nCg3ufihKyU: Downloading android player API JSON\n",
      "[youtube] nCg3ufihKyU: Downloading m3u8 information\n",
      "[info] nCg3ufihKyU: Downloading 1 format(s): 251\n",
      "[download] Destination: C:\\Users\\arwin\\Documents\\dev\\APS360-PROJECT\\data\\billboard_audio\\Tiesto_The Business\\Tiesto_The Business.webm\n",
      "[download] 100% of    2.90MiB in 00:00:00 at 11.41MiB/s    \n",
      "[download] Finished downloading playlist: Tiesto The Business\n",
      "[generic] Extracting URL: J_ Cole 95_south\n",
      "[youtube:search] Extracting URL: ytsearch:J_ Cole 95_south\n",
      "[download] Downloading playlist: J_ Cole 95_south\n",
      "[youtube:search] query \"J_ Cole 95_south\": Downloading web client config\n",
      "[youtube:search] query \"J_ Cole 95_south\" page 1: Downloading API JSON\n",
      "[youtube:search] Playlist J_ Cole 95_south: Downloading 1 items of 1\n",
      "[download] Downloading item 1 of 1\n",
      "[youtube] Extracting URL: https://www.youtube.com/watch?v=g3mVwt0B6G4\n",
      "[youtube] g3mVwt0B6G4: Downloading webpage\n",
      "[youtube] g3mVwt0B6G4: Downloading ios player API JSON\n",
      "[youtube] g3mVwt0B6G4: Downloading android player API JSON\n",
      "[youtube] g3mVwt0B6G4: Downloading m3u8 information\n",
      "[info] g3mVwt0B6G4: Downloading 1 format(s): 251\n",
      "[download] Destination: C:\\Users\\arwin\\Documents\\dev\\APS360-PROJECT\\data\\billboard_audio\\J_ Cole_95_south\\J_ Cole_95_south.webm\n",
      "[download] 100% of    3.06MiB in 00:00:00 at 11.65MiB/s  \n",
      "[download] Finished downloading playlist: J_ Cole 95_south\n",
      "[generic] Extracting URL: Future & Lil Uzi Vert Drankin N Smokin\n",
      "[youtube:search] Extracting URL: ytsearch:Future & Lil Uzi Vert Drankin N Smokin\n",
      "[download] Downloading playlist: Future & Lil Uzi Vert Drankin N Smokin\n",
      "[youtube:search] query \"Future & Lil Uzi Vert Drankin N Smokin\": Downloading web client config\n",
      "[youtube:search] query \"Future & Lil Uzi Vert Drankin N Smokin\" page 1: Downloading API JSON\n",
      "[youtube:search] Playlist Future & Lil Uzi Vert Drankin N Smokin: Downloading 1 items of 1\n",
      "[download] Downloading item 1 of 1\n",
      "[youtube] Extracting URL: https://www.youtube.com/watch?v=x8FZXaBXJK0\n",
      "[youtube] x8FZXaBXJK0: Downloading webpage\n",
      "[youtube] x8FZXaBXJK0: Downloading ios player API JSON\n",
      "[youtube] x8FZXaBXJK0: Downloading android player API JSON\n",
      "[youtube] x8FZXaBXJK0: Downloading m3u8 information\n",
      "[info] x8FZXaBXJK0: Downloading 1 format(s): 251\n",
      "[download] Destination: C:\\Users\\arwin\\Documents\\dev\\APS360-PROJECT\\data\\billboard_audio\\Future & Lil Uzi Vert_Drankin N Smokin\\Future & Lil Uzi Vert_Drankin N Smokin.webm\n",
      "[download] 100% of    5.90MiB in 00:00:00 at 10.99MiB/s  \n",
      "[download] Finished downloading playlist: Future & Lil Uzi Vert Drankin N Smokin\n",
      "[generic] Extracting URL: Justin Bieber Hold On\n",
      "[youtube:search] Extracting URL: ytsearch:Justin Bieber Hold On\n",
      "[download] Downloading playlist: Justin Bieber Hold On\n",
      "[youtube:search] query \"Justin Bieber Hold On\": Downloading web client config\n",
      "[youtube:search] query \"Justin Bieber Hold On\" page 1: Downloading API JSON\n",
      "[youtube:search] Playlist Justin Bieber Hold On: Downloading 1 items of 1\n",
      "[download] Downloading item 1 of 1\n",
      "[youtube] Extracting URL: https://www.youtube.com/watch?v=LWeiydKl0mU\n",
      "[youtube] LWeiydKl0mU: Downloading webpage\n",
      "[youtube] LWeiydKl0mU: Downloading ios player API JSON\n",
      "[youtube] LWeiydKl0mU: Downloading android player API JSON\n"
     ]
    },
    {
     "name": "stderr",
     "output_type": "stream",
     "text": [
      "WARNING: [youtube] YouTube said: ERROR - Precondition check failed.\n",
      "WARNING: [youtube] HTTP Error 400: Bad Request. Retrying (1/3)...\n"
     ]
    },
    {
     "name": "stdout",
     "output_type": "stream",
     "text": [
      "[youtube] LWeiydKl0mU: Downloading android player API JSON\n"
     ]
    },
    {
     "name": "stderr",
     "output_type": "stream",
     "text": [
      "WARNING: [youtube] YouTube said: ERROR - Precondition check failed.\n",
      "WARNING: [youtube] HTTP Error 400: Bad Request. Retrying (2/3)...\n"
     ]
    },
    {
     "name": "stdout",
     "output_type": "stream",
     "text": [
      "[youtube] LWeiydKl0mU: Downloading android player API JSON\n"
     ]
    },
    {
     "name": "stderr",
     "output_type": "stream",
     "text": [
      "WARNING: [youtube] YouTube said: ERROR - Precondition check failed.\n",
      "WARNING: [youtube] HTTP Error 400: Bad Request. Retrying (3/3)...\n"
     ]
    },
    {
     "name": "stdout",
     "output_type": "stream",
     "text": [
      "[youtube] LWeiydKl0mU: Downloading android player API JSON\n",
      "[youtube] LWeiydKl0mU: Downloading m3u8 information\n",
      "[info] LWeiydKl0mU: Downloading 1 format(s): 251\n",
      "[download] Destination: C:\\Users\\arwin\\Documents\\dev\\APS360-PROJECT\\data\\billboard_audio\\Justin Bieber_Hold On\\Justin Bieber_Hold On.webm\n",
      "[download] 100% of    4.90MiB in 00:00:00 at 5.59MiB/s   \n",
      "[download] Finished downloading playlist: Justin Bieber Hold On\n",
      "[generic] Extracting URL: Morgan Wallen Wasted On You\n",
      "[youtube:search] Extracting URL: ytsearch:Morgan Wallen Wasted On You\n",
      "[download] Downloading playlist: Morgan Wallen Wasted On You\n",
      "[youtube:search] query \"Morgan Wallen Wasted On You\": Downloading web client config\n",
      "[youtube:search] query \"Morgan Wallen Wasted On You\" page 1: Downloading API JSON\n",
      "[youtube:search] Playlist Morgan Wallen Wasted On You: Downloading 1 items of 1\n",
      "[download] Downloading item 1 of 1\n",
      "[youtube] Extracting URL: https://www.youtube.com/watch?v=uKmg4UbnDLo\n",
      "[youtube] uKmg4UbnDLo: Downloading webpage\n",
      "[youtube] uKmg4UbnDLo: Downloading ios player API JSON\n",
      "[youtube] uKmg4UbnDLo: Downloading android player API JSON\n",
      "[youtube] uKmg4UbnDLo: Downloading m3u8 information\n",
      "[info] uKmg4UbnDLo: Downloading 1 format(s): 251\n",
      "[download] Destination: C:\\Users\\arwin\\Documents\\dev\\APS360-PROJECT\\data\\billboard_audio\\Morgan Wallen_Wasted On You\\Morgan Wallen_Wasted On You.webm\n",
      "[download] 100% of    2.99MiB in 00:00:00 at 7.93MiB/s   \n",
      "[download] Finished downloading playlist: Morgan Wallen Wasted On You\n",
      "[generic] Extracting URL: Gera MX + Christian Nodal Botella Tras Botella\n",
      "[youtube:search] Extracting URL: ytsearch:Gera MX + Christian Nodal Botella Tras Botella\n",
      "[download] Downloading playlist: Gera MX + Christian Nodal Botella Tras Botella\n",
      "[youtube:search] query \"Gera MX + Christian Nodal Botella Tras Botella\": Downloading web client config\n",
      "[youtube:search] query \"Gera MX + Christian Nodal Botella Tras Botella\" page 1: Downloading API JSON\n",
      "[youtube:search] Playlist Gera MX + Christian Nodal Botella Tras Botella: Downloading 1 items of 1\n",
      "[download] Downloading item 1 of 1\n",
      "[youtube] Extracting URL: https://www.youtube.com/watch?v=XegHMc35Bo8\n",
      "[youtube] XegHMc35Bo8: Downloading webpage\n",
      "[youtube] XegHMc35Bo8: Downloading ios player API JSON\n",
      "[youtube] XegHMc35Bo8: Downloading android player API JSON\n"
     ]
    },
    {
     "name": "stderr",
     "output_type": "stream",
     "text": [
      "WARNING: [youtube] YouTube said: ERROR - Precondition check failed.\n",
      "WARNING: [youtube] HTTP Error 400: Bad Request. Retrying (1/3)...\n"
     ]
    },
    {
     "name": "stdout",
     "output_type": "stream",
     "text": [
      "[youtube] XegHMc35Bo8: Downloading android player API JSON\n",
      "[youtube] XegHMc35Bo8: Downloading m3u8 information\n",
      "[info] XegHMc35Bo8: Downloading 1 format(s): 251\n",
      "[download] Destination: C:\\Users\\arwin\\Documents\\dev\\APS360-PROJECT\\data\\billboard_audio\\Gera MX + Christian Nodal_Botella Tras Botella\\Gera MX + Christian Nodal_Botella Tras Botella.webm\n",
      "[download] 100% of    3.50MiB in 00:00:00 at 18.38MiB/s  \n",
      "[download] Finished downloading playlist: Gera MX + Christian Nodal Botella Tras Botella\n",
      "[generic] Extracting URL: J_ Cole interlude\n",
      "[youtube:search] Extracting URL: ytsearch:J_ Cole interlude\n",
      "[download] Downloading playlist: J_ Cole interlude\n",
      "[youtube:search] query \"J_ Cole interlude\": Downloading web client config\n",
      "[youtube:search] query \"J_ Cole interlude\" page 1: Downloading API JSON\n",
      "[youtube:search] Playlist J_ Cole interlude: Downloading 1 items of 1\n",
      "[download] Downloading item 1 of 1\n",
      "[youtube] Extracting URL: https://www.youtube.com/watch?v=XK60CAyxqfE\n",
      "[youtube] XK60CAyxqfE: Downloading webpage\n",
      "[youtube] XK60CAyxqfE: Downloading ios player API JSON\n",
      "[youtube] XK60CAyxqfE: Downloading android player API JSON\n"
     ]
    },
    {
     "name": "stderr",
     "output_type": "stream",
     "text": [
      "WARNING: [youtube] YouTube said: ERROR - Precondition check failed.\n",
      "WARNING: [youtube] HTTP Error 400: Bad Request. Retrying (1/3)...\n"
     ]
    },
    {
     "name": "stdout",
     "output_type": "stream",
     "text": [
      "[youtube] XK60CAyxqfE: Downloading android player API JSON\n"
     ]
    },
    {
     "name": "stderr",
     "output_type": "stream",
     "text": [
      "WARNING: [youtube] YouTube said: ERROR - Precondition check failed.\n",
      "WARNING: [youtube] HTTP Error 400: Bad Request. Retrying (2/3)...\n"
     ]
    },
    {
     "name": "stdout",
     "output_type": "stream",
     "text": [
      "[youtube] XK60CAyxqfE: Downloading android player API JSON\n"
     ]
    },
    {
     "name": "stderr",
     "output_type": "stream",
     "text": [
      "WARNING: [youtube] YouTube said: ERROR - Precondition check failed.\n",
      "WARNING: [youtube] HTTP Error 400: Bad Request. Retrying (3/3)...\n"
     ]
    },
    {
     "name": "stdout",
     "output_type": "stream",
     "text": [
      "[youtube] XK60CAyxqfE: Downloading android player API JSON\n",
      "[youtube] XK60CAyxqfE: Downloading m3u8 information\n",
      "[info] XK60CAyxqfE: Downloading 1 format(s): 251\n",
      "[download] Destination: C:\\Users\\arwin\\Documents\\dev\\APS360-PROJECT\\data\\billboard_audio\\J_ Cole_interlude\\J_ Cole_interlude.webm\n",
      "[download] 100% of    2.17MiB in 00:00:00 at 3.89MiB/s   \n",
      "[download] Finished downloading playlist: J_ Cole interlude\n",
      "[generic] Extracting URL: J_ Cole applying_pressure\n",
      "[youtube:search] Extracting URL: ytsearch:J_ Cole applying_pressure\n",
      "[download] Downloading playlist: J_ Cole applying_pressure\n",
      "[youtube:search] query \"J_ Cole applying_pressure\": Downloading web client config\n",
      "[youtube:search] query \"J_ Cole applying_pressure\" page 1: Downloading API JSON\n",
      "[youtube:search] Playlist J_ Cole applying_pressure: Downloading 1 items of 1\n",
      "[download] Downloading item 1 of 1\n",
      "[youtube] Extracting URL: https://www.youtube.com/watch?v=BnK9oeBI9G4\n",
      "[youtube] BnK9oeBI9G4: Downloading webpage\n",
      "[youtube] BnK9oeBI9G4: Downloading ios player API JSON\n",
      "[youtube] BnK9oeBI9G4: Downloading android player API JSON\n"
     ]
    },
    {
     "name": "stderr",
     "output_type": "stream",
     "text": [
      "WARNING: [youtube] YouTube said: ERROR - Precondition check failed.\n",
      "WARNING: [youtube] HTTP Error 400: Bad Request. Retrying (1/3)...\n"
     ]
    },
    {
     "name": "stdout",
     "output_type": "stream",
     "text": [
      "[youtube] BnK9oeBI9G4: Downloading android player API JSON\n"
     ]
    },
    {
     "name": "stderr",
     "output_type": "stream",
     "text": [
      "WARNING: [youtube] YouTube said: ERROR - Precondition check failed.\n",
      "WARNING: [youtube] HTTP Error 400: Bad Request. Retrying (2/3)...\n"
     ]
    },
    {
     "name": "stdout",
     "output_type": "stream",
     "text": [
      "[youtube] BnK9oeBI9G4: Downloading android player API JSON\n"
     ]
    },
    {
     "name": "stderr",
     "output_type": "stream",
     "text": [
      "WARNING: [youtube] YouTube said: ERROR - Precondition check failed.\n",
      "WARNING: [youtube] HTTP Error 400: Bad Request. Retrying (3/3)...\n"
     ]
    },
    {
     "name": "stdout",
     "output_type": "stream",
     "text": [
      "[youtube] BnK9oeBI9G4: Downloading android player API JSON\n"
     ]
    },
    {
     "name": "stderr",
     "output_type": "stream",
     "text": [
      "WARNING: [youtube] YouTube said: ERROR - Precondition check failed.\n",
      "WARNING: [youtube] Unable to download API page: HTTP Error 400: Bad Request (caused by <HTTPError 400: Bad Request>); please report this issue on  https://github.com/yt-dlp/yt-dlp/issues?q= , filling out the appropriate issue template. Confirm you are on the latest version using  yt-dlp -U\n"
     ]
    },
    {
     "name": "stdout",
     "output_type": "stream",
     "text": [
      "[youtube] BnK9oeBI9G4: Downloading m3u8 information\n",
      "[info] BnK9oeBI9G4: Downloading 1 format(s): 251\n",
      "[download] Destination: C:\\Users\\arwin\\Documents\\dev\\APS360-PROJECT\\data\\billboard_audio\\J_ Cole_applying_pressure\\J_ Cole_applying_pressure.webm\n",
      "[download] 100% of    2.78MiB in 00:00:00 at 7.97MiB/s     \n",
      "[download] Finished downloading playlist: J_ Cole applying_pressure\n",
      "[generic] Extracting URL: Doja Cat Streets\n",
      "[youtube:search] Extracting URL: ytsearch:Doja Cat Streets\n",
      "[download] Downloading playlist: Doja Cat Streets\n",
      "[youtube:search] query \"Doja Cat Streets\": Downloading web client config\n",
      "[youtube:search] query \"Doja Cat Streets\" page 1: Downloading API JSON\n",
      "[youtube:search] Playlist Doja Cat Streets: Downloading 1 items of 1\n",
      "[download] Downloading item 1 of 1\n",
      "[youtube] Extracting URL: https://www.youtube.com/watch?v=jJdlgKzVsnI\n",
      "[youtube] jJdlgKzVsnI: Downloading webpage\n",
      "[youtube] jJdlgKzVsnI: Downloading ios player API JSON\n",
      "[youtube] jJdlgKzVsnI: Downloading android player API JSON\n",
      "[youtube] jJdlgKzVsnI: Downloading m3u8 information\n",
      "[info] jJdlgKzVsnI: Downloading 1 format(s): 251\n",
      "[download] Destination: C:\\Users\\arwin\\Documents\\dev\\APS360-PROJECT\\data\\billboard_audio\\Doja Cat_Streets\\Doja Cat_Streets.webm\n",
      "[download] 100% of    4.45MiB in 00:00:00 at 17.86MiB/s  \n",
      "[download] Finished downloading playlist: Doja Cat Streets\n",
      "[generic] Extracting URL: J_ Cole & Bas 100_mil'\n",
      "[youtube:search] Extracting URL: ytsearch:J_ Cole & Bas 100_mil'\n",
      "[download] Downloading playlist: J_ Cole & Bas 100_mil'\n",
      "[youtube:search] query \"J_ Cole & Bas 100_mil'\": Downloading web client config\n",
      "[youtube:search] query \"J_ Cole & Bas 100_mil'\" page 1: Downloading API JSON\n",
      "[youtube:search] Playlist J_ Cole & Bas 100_mil': Downloading 1 items of 1\n",
      "[download] Downloading item 1 of 1\n",
      "[youtube] Extracting URL: https://www.youtube.com/watch?v=I3ek1tkaOZE\n",
      "[youtube] I3ek1tkaOZE: Downloading webpage\n",
      "[youtube] I3ek1tkaOZE: Downloading ios player API JSON\n",
      "[youtube] I3ek1tkaOZE: Downloading android player API JSON\n",
      "[youtube] I3ek1tkaOZE: Downloading m3u8 information\n",
      "[info] I3ek1tkaOZE: Downloading 1 format(s): 251\n",
      "[download] Destination: C:\\Users\\arwin\\Documents\\dev\\APS360-PROJECT\\data\\billboard_audio\\J_ Cole & Bas_100_mil'\\J_ Cole & Bas_100_mil'.webm\n",
      "[download] 100% of    2.70MiB in 00:00:00 at 12.37MiB/s  \n",
      "[download] Finished downloading playlist: J_ Cole & Bas 100_mil'\n",
      "[generic] Extracting URL: J_ Cole, Bas & 6LACK let_go_my_hand\n",
      "[youtube:search] Extracting URL: ytsearch:J_ Cole, Bas & 6LACK let_go_my_hand\n",
      "[download] Downloading playlist: J_ Cole, Bas & 6LACK let_go_my_hand\n",
      "[youtube:search] query \"J_ Cole, Bas & 6LACK let_go_my_hand\": Downloading web client config\n",
      "[youtube:search] query \"J_ Cole, Bas & 6LACK let_go_my_hand\" page 1: Downloading API JSON\n",
      "[youtube:search] Playlist J_ Cole, Bas & 6LACK let_go_my_hand: Downloading 1 items of 1\n",
      "[download] Downloading item 1 of 1\n",
      "[youtube] Extracting URL: https://www.youtube.com/watch?v=-8Q4i2XwGY8\n",
      "[youtube] -8Q4i2XwGY8: Downloading webpage\n",
      "[youtube] -8Q4i2XwGY8: Downloading ios player API JSON\n",
      "[youtube] -8Q4i2XwGY8: Downloading android player API JSON\n",
      "[youtube] -8Q4i2XwGY8: Downloading m3u8 information\n",
      "[info] -8Q4i2XwGY8: Downloading 1 format(s): 251\n",
      "[download] Destination: C:\\Users\\arwin\\Documents\\dev\\APS360-PROJECT\\data\\billboard_audio\\J_ Cole, Bas & 6LACK_let_go_my_hand\\J_ Cole, Bas & 6LACK_let_go_my_hand.webm\n",
      "[download] 100% of    4.21MiB in 00:00:00 at 15.75MiB/s  \n",
      "[download] Finished downloading playlist: J_ Cole, Bas & 6LACK let_go_my_hand\n",
      "[generic] Extracting URL: A Boogie Wit da Hoodie Featuring Lil Durk 24 Hours\n",
      "[youtube:search] Extracting URL: ytsearch:A Boogie Wit da Hoodie Featuring Lil Durk 24 Hours\n",
      "[download] Downloading playlist: A Boogie Wit da Hoodie Featuring Lil Durk 24 Hours\n",
      "[youtube:search] query \"A Boogie Wit da Hoodie Featuring Lil Durk 24 Hours\": Downloading web client config\n",
      "[youtube:search] query \"A Boogie Wit da Hoodie Featuring Lil Durk 24 Hours\" page 1: Downloading API JSON\n",
      "[youtube:search] Playlist A Boogie Wit da Hoodie Featuring Lil Durk 24 Hours: Downloading 1 items of 1\n",
      "[download] Downloading item 1 of 1\n",
      "[youtube] Extracting URL: https://www.youtube.com/watch?v=1x_pngHLhRk\n",
      "[youtube] 1x_pngHLhRk: Downloading webpage\n",
      "[youtube] 1x_pngHLhRk: Downloading ios player API JSON\n",
      "[youtube] 1x_pngHLhRk: Downloading android player API JSON\n",
      "[youtube] 1x_pngHLhRk: Downloading m3u8 information\n",
      "[info] 1x_pngHLhRk: Downloading 1 format(s): 251\n",
      "[download] Destination: C:\\Users\\arwin\\Documents\\dev\\APS360-PROJECT\\data\\billboard_audio\\A Boogie Wit da Hoodie Featuring Lil Durk_24 Hours\\A Boogie Wit da Hoodie Featuring Lil Durk_24 Hours.webm\n",
      "[download] 100% of    3.43MiB in 00:00:00 at 15.91MiB/s  \n",
      "[download] Finished downloading playlist: A Boogie Wit da Hoodie Featuring Lil Durk 24 Hours\n",
      "[generic] Extracting URL: J_ Cole punchin'_the_clock\n",
      "[youtube:search] Extracting URL: ytsearch:J_ Cole punchin'_the_clock\n",
      "[download] Downloading playlist: J_ Cole punchin'_the_clock\n",
      "[youtube:search] query \"J_ Cole punchin'_the_clock\": Downloading web client config\n",
      "[youtube:search] query \"J_ Cole punchin'_the_clock\" page 1: Downloading API JSON\n",
      "[youtube:search] Playlist J_ Cole punchin'_the_clock: Downloading 1 items of 1\n",
      "[download] Downloading item 1 of 1\n",
      "[youtube] Extracting URL: https://www.youtube.com/watch?v=79-eKiehLIw\n",
      "[youtube] 79-eKiehLIw: Downloading webpage\n",
      "[youtube] 79-eKiehLIw: Downloading ios player API JSON\n",
      "[youtube] 79-eKiehLIw: Downloading android player API JSON\n",
      "[youtube] 79-eKiehLIw: Downloading m3u8 information\n",
      "[info] 79-eKiehLIw: Downloading 1 format(s): 251\n",
      "[download] Destination: C:\\Users\\arwin\\Documents\\dev\\APS360-PROJECT\\data\\billboard_audio\\J_ Cole_punchin'_the_clock\\J_ Cole_punchin'_the_clock.webm\n",
      "[download] 100% of    1.81MiB in 00:00:00 at 13.44MiB/s    \n",
      "[download] Finished downloading playlist: J_ Cole punchin'_the_clock\n",
      "[generic] Extracting URL: J_ Cole the_climb_back\n",
      "[youtube:search] Extracting URL: ytsearch:J_ Cole the_climb_back\n",
      "[download] Downloading playlist: J_ Cole the_climb_back\n",
      "[youtube:search] query \"J_ Cole the_climb_back\": Downloading web client config\n",
      "[youtube:search] query \"J_ Cole the_climb_back\" page 1: Downloading API JSON\n",
      "[youtube:search] Playlist J_ Cole the_climb_back: Downloading 1 items of 1\n",
      "[download] Downloading item 1 of 1\n",
      "[youtube] Extracting URL: https://www.youtube.com/watch?v=oVaBgcJwkI4\n",
      "[youtube] oVaBgcJwkI4: Downloading webpage\n",
      "[youtube] oVaBgcJwkI4: Downloading ios player API JSON\n",
      "[youtube] oVaBgcJwkI4: Downloading android player API JSON\n",
      "[youtube] oVaBgcJwkI4: Downloading m3u8 information\n",
      "[info] oVaBgcJwkI4: Downloading 1 format(s): 251\n",
      "[download] Destination: C:\\Users\\arwin\\Documents\\dev\\APS360-PROJECT\\data\\billboard_audio\\J_ Cole_the_climb_back\\J_ Cole_the_climb_back.webm\n",
      "[download] 100% of    5.34MiB in 00:00:00 at 20.28MiB/s    \n",
      "[download] Finished downloading playlist: J_ Cole the_climb_back\n",
      "[generic] Extracting URL: J_ Cole & Bas hunger_on_hillside\n",
      "[youtube:search] Extracting URL: ytsearch:J_ Cole & Bas hunger_on_hillside\n",
      "[download] Downloading playlist: J_ Cole & Bas hunger_on_hillside\n",
      "[youtube:search] query \"J_ Cole & Bas hunger_on_hillside\": Downloading web client config\n",
      "[youtube:search] query \"J_ Cole & Bas hunger_on_hillside\" page 1: Downloading API JSON\n",
      "[youtube:search] Playlist J_ Cole & Bas hunger_on_hillside: Downloading 1 items of 1\n",
      "[download] Downloading item 1 of 1\n",
      "[youtube] Extracting URL: https://www.youtube.com/watch?v=xAnKFdI0uyk\n",
      "[youtube] xAnKFdI0uyk: Downloading webpage\n",
      "[youtube] xAnKFdI0uyk: Downloading ios player API JSON\n",
      "[youtube] xAnKFdI0uyk: Downloading android player API JSON\n",
      "[youtube] xAnKFdI0uyk: Downloading m3u8 information\n",
      "[info] xAnKFdI0uyk: Downloading 1 format(s): 251\n",
      "[download] Destination: C:\\Users\\arwin\\Documents\\dev\\APS360-PROJECT\\data\\billboard_audio\\J_ Cole & Bas_hunger_on_hillside\\J_ Cole & Bas_hunger_on_hillside.webm\n",
      "[download] 100% of    3.82MiB in 00:00:00 at 13.54MiB/s  \n",
      "[download] Finished downloading playlist: J_ Cole & Bas hunger_on_hillside\n",
      "[generic] Extracting URL: J_ Cole close\n",
      "[youtube:search] Extracting URL: ytsearch:J_ Cole close\n",
      "[download] Downloading playlist: J_ Cole close\n",
      "[youtube:search] query \"J_ Cole close\": Downloading web client config\n",
      "[youtube:search] query \"J_ Cole close\" page 1: Downloading API JSON\n",
      "[youtube:search] Playlist J_ Cole close: Downloading 1 items of 1\n",
      "[download] Downloading item 1 of 1\n",
      "[youtube] Extracting URL: https://www.youtube.com/watch?v=j_ouj5asrE4\n",
      "[youtube] j_ouj5asrE4: Downloading webpage\n",
      "[youtube] j_ouj5asrE4: Downloading ios player API JSON\n",
      "[youtube] j_ouj5asrE4: Downloading android player API JSON\n",
      "[youtube] j_ouj5asrE4: Downloading m3u8 information\n",
      "[info] j_ouj5asrE4: Downloading 1 format(s): 251\n",
      "[download] Destination: C:\\Users\\arwin\\Documents\\dev\\APS360-PROJECT\\data\\billboard_audio\\J_ Cole_close\\J_ Cole_close.webm\n",
      "[download] 100% of    2.54MiB in 00:00:00 at 5.12MiB/s     \n",
      "[download] Finished downloading playlist: J_ Cole close\n",
      "[generic] Extracting URL: Nicki Minaj Fractions\n",
      "[youtube:search] Extracting URL: ytsearch:Nicki Minaj Fractions\n",
      "[download] Downloading playlist: Nicki Minaj Fractions\n",
      "[youtube:search] query \"Nicki Minaj Fractions\": Downloading web client config\n",
      "[youtube:search] query \"Nicki Minaj Fractions\" page 1: Downloading API JSON\n",
      "[youtube:search] Playlist Nicki Minaj Fractions: Downloading 1 items of 1\n",
      "[download] Downloading item 1 of 1\n",
      "[youtube] Extracting URL: https://www.youtube.com/watch?v=FLAvp6HtXf0\n",
      "[youtube] FLAvp6HtXf0: Downloading webpage\n",
      "[youtube] FLAvp6HtXf0: Downloading ios player API JSON\n",
      "[youtube] FLAvp6HtXf0: Downloading android player API JSON\n"
     ]
    },
    {
     "name": "stderr",
     "output_type": "stream",
     "text": [
      "WARNING: [youtube] YouTube said: ERROR - Precondition check failed.\n",
      "WARNING: [youtube] HTTP Error 400: Bad Request. Retrying (1/3)...\n"
     ]
    },
    {
     "name": "stdout",
     "output_type": "stream",
     "text": [
      "[youtube] FLAvp6HtXf0: Downloading android player API JSON\n",
      "[youtube] FLAvp6HtXf0: Downloading m3u8 information\n",
      "[info] FLAvp6HtXf0: Downloading 1 format(s): 251\n",
      "[download] Destination: C:\\Users\\arwin\\Documents\\dev\\APS360-PROJECT\\data\\billboard_audio\\Nicki Minaj_Fractions\\Nicki Minaj_Fractions.webm\n",
      "[download] 100% of    2.96MiB in 00:00:00 at 6.18MiB/s   \n",
      "[download] Finished downloading playlist: Nicki Minaj Fractions\n",
      "[generic] Extracting URL: Internet Money, Don Toliver & Lil Uzi Vert Featuring Gunna His & Hers\n",
      "[youtube:search] Extracting URL: ytsearch:Internet Money, Don Toliver & Lil Uzi Vert Featuring Gunna His & Hers\n",
      "[download] Downloading playlist: Internet Money, Don Toliver & Lil Uzi Vert Featuring Gunna His & Hers\n",
      "[youtube:search] query \"Internet Money, Don Toliver & Lil Uzi Vert Featuring Gunna His & Hers\": Downloading web client config\n",
      "[youtube:search] query \"Internet Money, Don Toliver & Lil Uzi Vert Featuring Gunna His & Hers\" page 1: Downloading API JSON\n",
      "[youtube:search] Playlist Internet Money, Don Toliver & Lil Uzi Vert Featuring Gunna His & Hers: Downloading 1 items of 1\n",
      "[download] Downloading item 1 of 1\n",
      "[youtube] Extracting URL: https://www.youtube.com/watch?v=bth7ViGGpeY\n",
      "[youtube] bth7ViGGpeY: Downloading webpage\n",
      "[youtube] bth7ViGGpeY: Downloading ios player API JSON\n",
      "[youtube] bth7ViGGpeY: Downloading android player API JSON\n",
      "[youtube] bth7ViGGpeY: Downloading m3u8 information\n",
      "[info] bth7ViGGpeY: Downloading 1 format(s): 251\n",
      "[download] Destination: C:\\Users\\arwin\\Documents\\dev\\APS360-PROJECT\\data\\billboard_audio\\Internet Money, Don Toliver & Lil Uzi Vert Featuring Gunna_His & Hers\\Internet Money, Don Toliver & Lil Uzi Vert Featuring Gunna_His & Hers.webm\n",
      "[download] 100% of    3.95MiB in 00:00:00 at 7.60MiB/s   \n",
      "[download] Finished downloading playlist: Internet Money, Don Toliver & Lil Uzi Vert Featuring Gunna His & Hers\n",
      "[generic] Extracting URL: YoungBoy Never Broke Again White Teeth\n",
      "[youtube:search] Extracting URL: ytsearch:YoungBoy Never Broke Again White Teeth\n",
      "[download] Downloading playlist: YoungBoy Never Broke Again White Teeth\n",
      "[youtube:search] query \"YoungBoy Never Broke Again White Teeth\": Downloading web client config\n",
      "[youtube:search] query \"YoungBoy Never Broke Again White Teeth\" page 1: Downloading API JSON\n",
      "[youtube:search] Playlist YoungBoy Never Broke Again White Teeth: Downloading 1 items of 1\n",
      "[download] Downloading item 1 of 1\n",
      "[youtube] Extracting URL: https://www.youtube.com/watch?v=V2GhUGSOhEc\n",
      "[youtube] V2GhUGSOhEc: Downloading webpage\n",
      "[youtube] V2GhUGSOhEc: Downloading ios player API JSON\n",
      "[youtube] V2GhUGSOhEc: Downloading android player API JSON\n",
      "[youtube] V2GhUGSOhEc: Downloading m3u8 information\n",
      "[info] V2GhUGSOhEc: Downloading 1 format(s): 251\n",
      "[download] Destination: C:\\Users\\arwin\\Documents\\dev\\APS360-PROJECT\\data\\billboard_audio\\YoungBoy Never Broke Again_White Teeth\\YoungBoy Never Broke Again_White Teeth.webm\n",
      "[download] 100% of    2.90MiB in 00:00:00 at 7.13MiB/s   \n",
      "[download] Finished downloading playlist: YoungBoy Never Broke Again White Teeth\n",
      "[generic] Extracting URL: Nicki Minaj Itty Bitty Piggy\n",
      "[youtube:search] Extracting URL: ytsearch:Nicki Minaj Itty Bitty Piggy\n",
      "[download] Downloading playlist: Nicki Minaj Itty Bitty Piggy\n",
      "[youtube:search] query \"Nicki Minaj Itty Bitty Piggy\": Downloading web client config\n",
      "[youtube:search] query \"Nicki Minaj Itty Bitty Piggy\" page 1: Downloading API JSON\n",
      "[youtube:search] Playlist Nicki Minaj Itty Bitty Piggy: Downloading 1 items of 1\n",
      "[download] Downloading item 1 of 1\n",
      "[youtube] Extracting URL: https://www.youtube.com/watch?v=9zRe5wnqSi4\n",
      "[youtube] 9zRe5wnqSi4: Downloading webpage\n",
      "[youtube] 9zRe5wnqSi4: Downloading ios player API JSON\n",
      "[youtube] 9zRe5wnqSi4: Downloading android player API JSON\n"
     ]
    },
    {
     "name": "stderr",
     "output_type": "stream",
     "text": [
      "WARNING: [youtube] YouTube said: ERROR - Precondition check failed.\n",
      "WARNING: [youtube] HTTP Error 400: Bad Request. Retrying (1/3)...\n"
     ]
    },
    {
     "name": "stdout",
     "output_type": "stream",
     "text": [
      "[youtube] 9zRe5wnqSi4: Downloading android player API JSON\n",
      "[youtube] 9zRe5wnqSi4: Downloading m3u8 information\n",
      "[info] 9zRe5wnqSi4: Downloading 1 format(s): 251\n",
      "[download] Destination: C:\\Users\\arwin\\Documents\\dev\\APS360-PROJECT\\data\\billboard_audio\\Nicki Minaj_Itty Bitty Piggy\\Nicki Minaj_Itty Bitty Piggy.webm\n",
      "[download] 100% of    3.57MiB in 00:00:00 at 16.55MiB/s  \n",
      "[download] Finished downloading playlist: Nicki Minaj Itty Bitty Piggy\n",
      "[generic] Extracting URL: Rod Wave Street Runner\n",
      "[youtube:search] Extracting URL: ytsearch:Rod Wave Street Runner\n",
      "[download] Downloading playlist: Rod Wave Street Runner\n",
      "[youtube:search] query \"Rod Wave Street Runner\": Downloading web client config\n",
      "[youtube:search] query \"Rod Wave Street Runner\" page 1: Downloading API JSON\n",
      "[youtube:search] Playlist Rod Wave Street Runner: Downloading 1 items of 1\n",
      "[download] Downloading item 1 of 1\n",
      "[youtube] Extracting URL: https://www.youtube.com/watch?v=AeaR5QbXgpM\n",
      "[youtube] AeaR5QbXgpM: Downloading webpage\n",
      "[youtube] AeaR5QbXgpM: Downloading ios player API JSON\n",
      "[youtube] AeaR5QbXgpM: Downloading android player API JSON\n"
     ]
    },
    {
     "name": "stderr",
     "output_type": "stream",
     "text": [
      "WARNING: [youtube] YouTube said: ERROR - Precondition check failed.\n",
      "WARNING: [youtube] HTTP Error 400: Bad Request. Retrying (1/3)...\n"
     ]
    },
    {
     "name": "stdout",
     "output_type": "stream",
     "text": [
      "[youtube] AeaR5QbXgpM: Downloading android player API JSON\n",
      "[youtube] AeaR5QbXgpM: Downloading m3u8 information\n",
      "[info] AeaR5QbXgpM: Downloading 1 format(s): 251\n",
      "[download] Destination: C:\\Users\\arwin\\Documents\\dev\\APS360-PROJECT\\data\\billboard_audio\\Rod Wave_Street Runner\\Rod Wave_Street Runner.webm\n",
      "[download] 100% of    4.17MiB in 00:00:00 at 5.28MiB/s     \n",
      "[download] Finished downloading playlist: Rod Wave Street Runner\n",
      "[generic] Extracting URL: Bad Bunny & Rosalia La Noche de Anoche\n",
      "[youtube:search] Extracting URL: ytsearch:Bad Bunny & Rosalia La Noche de Anoche\n",
      "[download] Downloading playlist: Bad Bunny & Rosalia La Noche de Anoche\n",
      "[youtube:search] query \"Bad Bunny & Rosalia La Noche de Anoche\": Downloading web client config\n",
      "[youtube:search] query \"Bad Bunny & Rosalia La Noche de Anoche\" page 1: Downloading API JSON\n",
      "[youtube:search] Playlist Bad Bunny & Rosalia La Noche de Anoche: Downloading 1 items of 1\n",
      "[download] Downloading item 1 of 1\n",
      "[youtube] Extracting URL: https://www.youtube.com/watch?v=f5omY8jVrSM\n",
      "[youtube] f5omY8jVrSM: Downloading webpage\n",
      "[youtube] f5omY8jVrSM: Downloading ios player API JSON\n",
      "[youtube] f5omY8jVrSM: Downloading android player API JSON\n"
     ]
    },
    {
     "name": "stderr",
     "output_type": "stream",
     "text": [
      "WARNING: [youtube] YouTube said: ERROR - Precondition check failed.\n",
      "WARNING: [youtube] HTTP Error 400: Bad Request. Retrying (1/3)...\n"
     ]
    },
    {
     "name": "stdout",
     "output_type": "stream",
     "text": [
      "[youtube] f5omY8jVrSM: Downloading android player API JSON\n",
      "[youtube] f5omY8jVrSM: Downloading m3u8 information\n",
      "[info] f5omY8jVrSM: Downloading 1 format(s): 251\n",
      "[download] Destination: C:\\Users\\arwin\\Documents\\dev\\APS360-PROJECT\\data\\billboard_audio\\Bad Bunny & Rosalia_La Noche de Anoche\\Bad Bunny & Rosalia_La Noche de Anoche.webm\n",
      "[download] 100% of    3.59MiB in 00:00:00 at 19.40MiB/s    \n",
      "[download] Finished downloading playlist: Bad Bunny & Rosalia La Noche de Anoche\n",
      "[generic] Extracting URL: Moneybagg Yo Shottas (Lala)\n",
      "[youtube:search] Extracting URL: ytsearch:Moneybagg Yo Shottas (Lala)\n",
      "[download] Downloading playlist: Moneybagg Yo Shottas (Lala)\n",
      "[youtube:search] query \"Moneybagg Yo Shottas (Lala)\": Downloading web client config\n",
      "[youtube:search] query \"Moneybagg Yo Shottas (Lala)\" page 1: Downloading API JSON\n",
      "[youtube:search] Playlist Moneybagg Yo Shottas (Lala): Downloading 1 items of 1\n",
      "[download] Downloading item 1 of 1\n",
      "[youtube] Extracting URL: https://www.youtube.com/watch?v=0fGHZf0K1p8\n",
      "[youtube] 0fGHZf0K1p8: Downloading webpage\n",
      "[youtube] 0fGHZf0K1p8: Downloading ios player API JSON\n",
      "[youtube] 0fGHZf0K1p8: Downloading android player API JSON\n",
      "[youtube] 0fGHZf0K1p8: Downloading m3u8 information\n",
      "[info] 0fGHZf0K1p8: Downloading 1 format(s): 251\n",
      "[download] Destination: C:\\Users\\arwin\\Documents\\dev\\APS360-PROJECT\\data\\billboard_audio\\Moneybagg Yo_Shottas (Lala)\\Moneybagg Yo_Shottas (Lala).webm\n",
      "[download] 100% of    2.53MiB in 00:00:00 at 9.32MiB/s   \n",
      "[download] Finished downloading playlist: Moneybagg Yo Shottas (Lala)\n",
      "[generic] Extracting URL: Lil Tecca Never Left\n",
      "[youtube:search] Extracting URL: ytsearch:Lil Tecca Never Left\n",
      "[download] Downloading playlist: Lil Tecca Never Left\n",
      "[youtube:search] query \"Lil Tecca Never Left\": Downloading web client config\n",
      "[youtube:search] query \"Lil Tecca Never Left\" page 1: Downloading API JSON\n",
      "[youtube:search] Playlist Lil Tecca Never Left: Downloading 1 items of 1\n",
      "[download] Downloading item 1 of 1\n",
      "[youtube] Extracting URL: https://www.youtube.com/watch?v=0ofKT9TGMPs\n",
      "[youtube] 0ofKT9TGMPs: Downloading webpage\n",
      "[youtube] 0ofKT9TGMPs: Downloading ios player API JSON\n",
      "[youtube] 0ofKT9TGMPs: Downloading android player API JSON\n"
     ]
    },
    {
     "name": "stderr",
     "output_type": "stream",
     "text": [
      "WARNING: [youtube] YouTube said: ERROR - Precondition check failed.\n",
      "WARNING: [youtube] HTTP Error 400: Bad Request. Retrying (1/3)...\n"
     ]
    },
    {
     "name": "stdout",
     "output_type": "stream",
     "text": [
      "[youtube] 0ofKT9TGMPs: Downloading android player API JSON\n",
      "[youtube] 0ofKT9TGMPs: Downloading m3u8 information\n",
      "[info] 0ofKT9TGMPs: Downloading 1 format(s): 251\n",
      "[download] Destination: C:\\Users\\arwin\\Documents\\dev\\APS360-PROJECT\\data\\billboard_audio\\Lil Tecca_Never Left\\Lil Tecca_Never Left.webm\n",
      "[download] 100% of    2.94MiB in 00:00:00 at 14.44MiB/s  \n",
      "[download] Finished downloading playlist: Lil Tecca Never Left\n",
      "[generic] Extracting URL: Coldplay Higher Power\n",
      "[youtube:search] Extracting URL: ytsearch:Coldplay Higher Power\n",
      "[download] Downloading playlist: Coldplay Higher Power\n",
      "[youtube:search] query \"Coldplay Higher Power\": Downloading web client config\n",
      "[youtube:search] query \"Coldplay Higher Power\" page 1: Downloading API JSON\n",
      "[youtube:search] Playlist Coldplay Higher Power: Downloading 1 items of 1\n",
      "[download] Downloading item 1 of 1\n",
      "[youtube] Extracting URL: https://www.youtube.com/watch?v=3lfnR7OhZY8\n",
      "[youtube] 3lfnR7OhZY8: Downloading webpage\n",
      "[youtube] 3lfnR7OhZY8: Downloading ios player API JSON\n",
      "[youtube] 3lfnR7OhZY8: Downloading android player API JSON\n"
     ]
    },
    {
     "name": "stderr",
     "output_type": "stream",
     "text": [
      "WARNING: [youtube] YouTube said: ERROR - Precondition check failed.\n",
      "WARNING: [youtube] HTTP Error 400: Bad Request. Retrying (1/3)...\n"
     ]
    },
    {
     "name": "stdout",
     "output_type": "stream",
     "text": [
      "[youtube] 3lfnR7OhZY8: Downloading android player API JSON\n"
     ]
    },
    {
     "name": "stderr",
     "output_type": "stream",
     "text": [
      "WARNING: [youtube] YouTube said: ERROR - Precondition check failed.\n",
      "WARNING: [youtube] HTTP Error 400: Bad Request. Retrying (2/3)...\n"
     ]
    },
    {
     "name": "stdout",
     "output_type": "stream",
     "text": [
      "[youtube] 3lfnR7OhZY8: Downloading android player API JSON\n",
      "[youtube] 3lfnR7OhZY8: Downloading m3u8 information\n",
      "[info] 3lfnR7OhZY8: Downloading 1 format(s): 251\n",
      "[download] Destination: C:\\Users\\arwin\\Documents\\dev\\APS360-PROJECT\\data\\billboard_audio\\Coldplay_Higher Power\\Coldplay_Higher Power.webm\n",
      "[download] 100% of    4.06MiB in 00:00:00 at 19.00MiB/s    \n",
      "[download] Finished downloading playlist: Coldplay Higher Power\n",
      "[generic] Extracting URL: Brett Young Lady\n",
      "[youtube:search] Extracting URL: ytsearch:Brett Young Lady\n",
      "[download] Downloading playlist: Brett Young Lady\n",
      "[youtube:search] query \"Brett Young Lady\": Downloading web client config\n",
      "[youtube:search] query \"Brett Young Lady\" page 1: Downloading API JSON\n",
      "[youtube:search] Playlist Brett Young Lady: Downloading 1 items of 1\n",
      "[download] Downloading item 1 of 1\n",
      "[youtube] Extracting URL: https://www.youtube.com/watch?v=X0XBqnZOXt4\n",
      "[youtube] X0XBqnZOXt4: Downloading webpage\n",
      "[youtube] X0XBqnZOXt4: Downloading ios player API JSON\n",
      "[youtube] X0XBqnZOXt4: Downloading android player API JSON\n",
      "[youtube] X0XBqnZOXt4: Downloading m3u8 information\n",
      "[info] X0XBqnZOXt4: Downloading 1 format(s): 251\n",
      "[download] Destination: C:\\Users\\arwin\\Documents\\dev\\APS360-PROJECT\\data\\billboard_audio\\Brett Young_Lady\\Brett Young_Lady.webm\n",
      "[download] 100% of    3.05MiB in 00:00:00 at 15.13MiB/s    \n",
      "[download] Finished downloading playlist: Brett Young Lady\n",
      "[generic] Extracting URL: Nicki Minaj & Skillibeng Crocodile Teeth\n",
      "[youtube:search] Extracting URL: ytsearch:Nicki Minaj & Skillibeng Crocodile Teeth\n",
      "[download] Downloading playlist: Nicki Minaj & Skillibeng Crocodile Teeth\n",
      "[youtube:search] query \"Nicki Minaj & Skillibeng Crocodile Teeth\": Downloading web client config\n",
      "[youtube:search] query \"Nicki Minaj & Skillibeng Crocodile Teeth\" page 1: Downloading API JSON\n",
      "[youtube:search] Playlist Nicki Minaj & Skillibeng Crocodile Teeth: Downloading 1 items of 1\n",
      "[download] Downloading item 1 of 1\n",
      "[youtube] Extracting URL: https://www.youtube.com/watch?v=iJl77xMgGpU\n",
      "[youtube] iJl77xMgGpU: Downloading webpage\n",
      "[youtube] iJl77xMgGpU: Downloading ios player API JSON\n",
      "[youtube] iJl77xMgGpU: Downloading android player API JSON\n",
      "[youtube] iJl77xMgGpU: Downloading m3u8 information\n",
      "[info] iJl77xMgGpU: Downloading 1 format(s): 251\n",
      "[download] Destination: C:\\Users\\arwin\\Documents\\dev\\APS360-PROJECT\\data\\billboard_audio\\Nicki Minaj & Skillibeng_Crocodile Teeth\\Nicki Minaj & Skillibeng_Crocodile Teeth.webm\n",
      "[download] 100% of    3.70MiB in 00:00:00 at 10.60MiB/s    \n",
      "[download] Finished downloading playlist: Nicki Minaj & Skillibeng Crocodile Teeth\n",
      "[generic] Extracting URL: Ariana Grande Feat_ Doja Cat & Megan Thee Stallion 34+35\n",
      "[youtube:search] Extracting URL: ytsearch:Ariana Grande Feat_ Doja Cat & Megan Thee Stallion 34+35\n",
      "[download] Downloading playlist: Ariana Grande Feat_ Doja Cat & Megan Thee Stallion 34+35\n",
      "[youtube:search] query \"Ariana Grande Feat_ Doja Cat & Megan Thee Stallion 34+35\": Downloading web client config\n",
      "[youtube:search] query \"Ariana Grande Feat_ Doja Cat & Megan Thee Stallion 34+35\" page 1: Downloading API JSON\n",
      "[youtube:search] Playlist Ariana Grande Feat_ Doja Cat & Megan Thee Stallion 34+35: Downloading 1 items of 1\n",
      "[download] Downloading item 1 of 1\n",
      "[youtube] Extracting URL: https://www.youtube.com/watch?v=ssq6X6alZ3w\n",
      "[youtube] ssq6X6alZ3w: Downloading webpage\n",
      "[youtube] ssq6X6alZ3w: Downloading ios player API JSON\n",
      "[youtube] ssq6X6alZ3w: Downloading android player API JSON\n",
      "[youtube] ssq6X6alZ3w: Downloading m3u8 information\n",
      "[info] ssq6X6alZ3w: Downloading 1 format(s): 251\n",
      "[download] Destination: C:\\Users\\arwin\\Documents\\dev\\APS360-PROJECT\\data\\billboard_audio\\Ariana Grande Feat_ Doja Cat & Megan Thee Stallion_34+35\\Ariana Grande Feat_ Doja Cat & Megan Thee Stallion_34+35.webm\n",
      "[download] 100% of    3.89MiB in 00:00:00 at 20.39MiB/s  \n",
      "[download] Finished downloading playlist: Ariana Grande Feat_ Doja Cat & Megan Thee Stallion 34+35\n",
      "[generic] Extracting URL: Ariana Grande Positions\n",
      "[youtube:search] Extracting URL: ytsearch:Ariana Grande Positions\n",
      "[download] Downloading playlist: Ariana Grande Positions\n",
      "[youtube:search] query \"Ariana Grande Positions\": Downloading web client config\n",
      "[youtube:search] query \"Ariana Grande Positions\" page 1: Downloading API JSON\n",
      "[youtube:search] Playlist Ariana Grande Positions: Downloading 1 items of 1\n",
      "[download] Downloading item 1 of 1\n",
      "[youtube] Extracting URL: https://www.youtube.com/watch?v=tcYodQoapMg\n",
      "[youtube] tcYodQoapMg: Downloading webpage\n",
      "[youtube] tcYodQoapMg: Downloading ios player API JSON\n",
      "[youtube] tcYodQoapMg: Downloading android player API JSON\n",
      "[youtube] tcYodQoapMg: Downloading m3u8 information\n",
      "[info] tcYodQoapMg: Downloading 1 format(s): 251\n",
      "[download] Destination: C:\\Users\\arwin\\Documents\\dev\\APS360-PROJECT\\data\\billboard_audio\\Ariana Grande_Positions\\Ariana Grande_Positions.webm\n",
      "[download] 100% of    2.94MiB in 00:00:00 at 17.60MiB/s    \n",
      "[download] Finished downloading playlist: Ariana Grande Positions\n",
      "[generic] Extracting URL: Tate McRae You Broke Me First_\n",
      "[youtube:search] Extracting URL: ytsearch:Tate McRae You Broke Me First_\n",
      "[download] Downloading playlist: Tate McRae You Broke Me First_\n",
      "[youtube:search] query \"Tate McRae You Broke Me First_\": Downloading web client config\n",
      "[youtube:search] query \"Tate McRae You Broke Me First_\" page 1: Downloading API JSON\n",
      "[youtube:search] Playlist Tate McRae You Broke Me First_: Downloading 1 items of 1\n",
      "[download] Downloading item 1 of 1\n",
      "[youtube] Extracting URL: https://www.youtube.com/watch?v=AG-erEMhumc\n",
      "[youtube] AG-erEMhumc: Downloading webpage\n",
      "[youtube] AG-erEMhumc: Downloading ios player API JSON\n",
      "[youtube] AG-erEMhumc: Downloading android player API JSON\n",
      "[youtube] AG-erEMhumc: Downloading m3u8 information\n",
      "[info] AG-erEMhumc: Downloading 1 format(s): 251\n",
      "[download] Destination: C:\\Users\\arwin\\Documents\\dev\\APS360-PROJECT\\data\\billboard_audio\\Tate McRae_You Broke Me First_\\Tate McRae_You Broke Me First_.webm\n",
      "[download] 100% of    2.58MiB in 00:00:00 at 18.40MiB/s  \n",
      "[download] Finished downloading playlist: Tate McRae You Broke Me First_\n",
      "[generic] Extracting URL: Bad Bunny & Jhay Cortez Dakiti\n",
      "[youtube:search] Extracting URL: ytsearch:Bad Bunny & Jhay Cortez Dakiti\n",
      "[download] Downloading playlist: Bad Bunny & Jhay Cortez Dakiti\n",
      "[youtube:search] query \"Bad Bunny & Jhay Cortez Dakiti\": Downloading web client config\n",
      "[youtube:search] query \"Bad Bunny & Jhay Cortez Dakiti\" page 1: Downloading API JSON\n",
      "[youtube:search] Playlist Bad Bunny & Jhay Cortez Dakiti: Downloading 1 items of 1\n",
      "[download] Downloading item 1 of 1\n",
      "[youtube] Extracting URL: https://www.youtube.com/watch?v=TmKh7lAwnBI\n",
      "[youtube] TmKh7lAwnBI: Downloading webpage\n",
      "[youtube] TmKh7lAwnBI: Downloading ios player API JSON\n",
      "[youtube] TmKh7lAwnBI: Downloading android player API JSON\n"
     ]
    },
    {
     "name": "stderr",
     "output_type": "stream",
     "text": [
      "WARNING: [youtube] YouTube said: ERROR - Precondition check failed.\n",
      "WARNING: [youtube] HTTP Error 400: Bad Request. Retrying (1/3)...\n"
     ]
    },
    {
     "name": "stdout",
     "output_type": "stream",
     "text": [
      "[youtube] TmKh7lAwnBI: Downloading android player API JSON\n",
      "[youtube] TmKh7lAwnBI: Downloading m3u8 information\n",
      "[info] TmKh7lAwnBI: Downloading 1 format(s): 251\n",
      "[download] Destination: C:\\Users\\arwin\\Documents\\dev\\APS360-PROJECT\\data\\billboard_audio\\Bad Bunny & Jhay Cortez_Dakiti\\Bad Bunny & Jhay Cortez_Dakiti.webm\n",
      "[download] 100% of    3.62MiB in 00:00:00 at 22.09MiB/s  \n",
      "[download] Finished downloading playlist: Bad Bunny & Jhay Cortez Dakiti\n",
      "[generic] Extracting URL: Yung Bleu Featuring Drake You're Mines Still\n",
      "[youtube:search] Extracting URL: ytsearch:Yung Bleu Featuring Drake You're Mines Still\n",
      "[download] Downloading playlist: Yung Bleu Featuring Drake You're Mines Still\n",
      "[youtube:search] query \"Yung Bleu Featuring Drake You're Mines Still\": Downloading web client config\n",
      "[youtube:search] query \"Yung Bleu Featuring Drake You're Mines Still\" page 1: Downloading API JSON\n",
      "[youtube:search] Playlist Yung Bleu Featuring Drake You're Mines Still: Downloading 1 items of 1\n",
      "[download] Downloading item 1 of 1\n",
      "[youtube] Extracting URL: https://www.youtube.com/watch?v=_bptrMV3zHE\n",
      "[youtube] _bptrMV3zHE: Downloading webpage\n",
      "[youtube] _bptrMV3zHE: Downloading ios player API JSON\n",
      "[youtube] _bptrMV3zHE: Downloading android player API JSON\n"
     ]
    },
    {
     "name": "stderr",
     "output_type": "stream",
     "text": [
      "WARNING: [youtube] YouTube said: ERROR - Precondition check failed.\n",
      "WARNING: [youtube] HTTP Error 400: Bad Request. Retrying (1/3)...\n"
     ]
    },
    {
     "name": "stdout",
     "output_type": "stream",
     "text": [
      "[youtube] _bptrMV3zHE: Downloading android player API JSON\n"
     ]
    },
    {
     "name": "stderr",
     "output_type": "stream",
     "text": [
      "WARNING: [youtube] YouTube said: ERROR - Precondition check failed.\n",
      "WARNING: [youtube] HTTP Error 400: Bad Request. Retrying (2/3)...\n"
     ]
    },
    {
     "name": "stdout",
     "output_type": "stream",
     "text": [
      "[youtube] _bptrMV3zHE: Downloading android player API JSON\n",
      "[youtube] _bptrMV3zHE: Downloading m3u8 information\n",
      "[info] _bptrMV3zHE: Downloading 1 format(s): 251\n",
      "[download] Destination: C:\\Users\\arwin\\Documents\\dev\\APS360-PROJECT\\data\\billboard_audio\\Yung Bleu Featuring Drake_You're Mines Still\\Yung Bleu Featuring Drake_You're Mines Still.webm\n",
      "[download] 100% of    4.36MiB in 00:00:00 at 16.37MiB/s    \n",
      "[download] Finished downloading playlist: Yung Bleu Featuring Drake You're Mines Still\n",
      "[generic] Extracting URL: Billie Eilish Therefore I Am\n",
      "[youtube:search] Extracting URL: ytsearch:Billie Eilish Therefore I Am\n",
      "[download] Downloading playlist: Billie Eilish Therefore I Am\n",
      "[youtube:search] query \"Billie Eilish Therefore I Am\": Downloading web client config\n",
      "[youtube:search] query \"Billie Eilish Therefore I Am\" page 1: Downloading API JSON\n",
      "[youtube:search] Playlist Billie Eilish Therefore I Am: Downloading 1 items of 1\n",
      "[download] Downloading item 1 of 1\n",
      "[youtube] Extracting URL: https://www.youtube.com/watch?v=RUQl6YcMalg\n",
      "[youtube] RUQl6YcMalg: Downloading webpage\n",
      "[youtube] RUQl6YcMalg: Downloading ios player API JSON\n",
      "[youtube] RUQl6YcMalg: Downloading android player API JSON\n",
      "[youtube] RUQl6YcMalg: Downloading m3u8 information\n",
      "[info] RUQl6YcMalg: Downloading 1 format(s): 251\n",
      "[download] Destination: C:\\Users\\arwin\\Documents\\dev\\APS360-PROJECT\\data\\billboard_audio\\Billie Eilish_Therefore I Am\\Billie Eilish_Therefore I Am.webm\n",
      "[download] 100% of    4.30MiB in 00:00:00 at 20.32MiB/s  \n",
      "[download] Finished downloading playlist: Billie Eilish Therefore I Am\n",
      "[generic] Extracting URL: Thomas Rhett What's Your Country Song\n",
      "[youtube:search] Extracting URL: ytsearch:Thomas Rhett What's Your Country Song\n",
      "[download] Downloading playlist: Thomas Rhett What's Your Country Song\n",
      "[youtube:search] query \"Thomas Rhett What's Your Country Song\": Downloading web client config\n",
      "[youtube:search] query \"Thomas Rhett What's Your Country Song\" page 1: Downloading API JSON\n",
      "[youtube:search] Playlist Thomas Rhett What's Your Country Song: Downloading 1 items of 1\n",
      "[download] Downloading item 1 of 1\n",
      "[youtube] Extracting URL: https://www.youtube.com/watch?v=eBzduwzZH-w\n",
      "[youtube] eBzduwzZH-w: Downloading webpage\n",
      "[youtube] eBzduwzZH-w: Downloading ios player API JSON\n",
      "[youtube] eBzduwzZH-w: Downloading android player API JSON\n",
      "[youtube] eBzduwzZH-w: Downloading m3u8 information\n",
      "[info] eBzduwzZH-w: Downloading 1 format(s): 251\n",
      "[download] Destination: C:\\Users\\arwin\\Documents\\dev\\APS360-PROJECT\\data\\billboard_audio\\Thomas Rhett_What's Your Country Song\\Thomas Rhett_What's Your Country Song.webm\n",
      "[download] 100% of    2.84MiB in 00:00:00 at 11.71MiB/s  \n",
      "[download] Finished downloading playlist: Thomas Rhett What's Your Country Song\n",
      "[generic] Extracting URL: SZA Good Days\n",
      "[youtube:search] Extracting URL: ytsearch:SZA Good Days\n",
      "[download] Downloading playlist: SZA Good Days\n",
      "[youtube:search] query \"SZA Good Days\": Downloading web client config\n",
      "[youtube:search] query \"SZA Good Days\" page 1: Downloading API JSON\n",
      "[youtube:search] Playlist SZA Good Days: Downloading 1 items of 1\n",
      "[download] Downloading item 1 of 1\n",
      "[youtube] Extracting URL: https://www.youtube.com/watch?v=0BdlKkvjEgA\n",
      "[youtube] 0BdlKkvjEgA: Downloading webpage\n",
      "[youtube] 0BdlKkvjEgA: Downloading ios player API JSON\n",
      "[youtube] 0BdlKkvjEgA: Downloading android player API JSON\n",
      "[youtube] 0BdlKkvjEgA: Downloading m3u8 information\n",
      "[info] 0BdlKkvjEgA: Downloading 1 format(s): 251\n",
      "[download] Destination: C:\\Users\\arwin\\Documents\\dev\\APS360-PROJECT\\data\\billboard_audio\\SZA_Good Days\\SZA_Good Days.webm\n",
      "[download] 100% of    4.53MiB in 00:00:00 at 16.34MiB/s  \n",
      "[download] Finished downloading playlist: SZA Good Days\n",
      "[generic] Extracting URL: Parmalee x Blanco Brown Just The Way\n",
      "[youtube:search] Extracting URL: ytsearch:Parmalee x Blanco Brown Just The Way\n",
      "[download] Downloading playlist: Parmalee x Blanco Brown Just The Way\n",
      "[youtube:search] query \"Parmalee x Blanco Brown Just The Way\": Downloading web client config\n",
      "[youtube:search] query \"Parmalee x Blanco Brown Just The Way\" page 1: Downloading API JSON\n",
      "[youtube:search] Playlist Parmalee x Blanco Brown Just The Way: Downloading 1 items of 1\n",
      "[download] Downloading item 1 of 1\n",
      "[youtube] Extracting URL: https://www.youtube.com/watch?v=d7PCSHdxdTw\n",
      "[youtube] d7PCSHdxdTw: Downloading webpage\n",
      "[youtube] d7PCSHdxdTw: Downloading ios player API JSON\n",
      "[youtube] d7PCSHdxdTw: Downloading android player API JSON\n"
     ]
    },
    {
     "name": "stderr",
     "output_type": "stream",
     "text": [
      "WARNING: [youtube] YouTube said: ERROR - Precondition check failed.\n",
      "WARNING: [youtube] HTTP Error 400: Bad Request. Retrying (1/3)...\n"
     ]
    },
    {
     "name": "stdout",
     "output_type": "stream",
     "text": [
      "[youtube] d7PCSHdxdTw: Downloading android player API JSON\n"
     ]
    },
    {
     "name": "stderr",
     "output_type": "stream",
     "text": [
      "WARNING: [youtube] YouTube said: ERROR - Precondition check failed.\n",
      "WARNING: [youtube] HTTP Error 400: Bad Request. Retrying (2/3)...\n"
     ]
    },
    {
     "name": "stdout",
     "output_type": "stream",
     "text": [
      "[youtube] d7PCSHdxdTw: Downloading android player API JSON\n"
     ]
    },
    {
     "name": "stderr",
     "output_type": "stream",
     "text": [
      "WARNING: [youtube] YouTube said: ERROR - Precondition check failed.\n",
      "WARNING: [youtube] HTTP Error 400: Bad Request. Retrying (3/3)...\n"
     ]
    },
    {
     "name": "stdout",
     "output_type": "stream",
     "text": [
      "[youtube] d7PCSHdxdTw: Downloading android player API JSON\n"
     ]
    },
    {
     "name": "stderr",
     "output_type": "stream",
     "text": [
      "WARNING: [youtube] YouTube said: ERROR - Precondition check failed.\n",
      "WARNING: [youtube] Unable to download API page: HTTP Error 400: Bad Request (caused by <HTTPError 400: Bad Request>); please report this issue on  https://github.com/yt-dlp/yt-dlp/issues?q= , filling out the appropriate issue template. Confirm you are on the latest version using  yt-dlp -U\n"
     ]
    },
    {
     "name": "stdout",
     "output_type": "stream",
     "text": [
      "[youtube] d7PCSHdxdTw: Downloading m3u8 information\n",
      "[info] d7PCSHdxdTw: Downloading 1 format(s): 251\n",
      "[download] Destination: C:\\Users\\arwin\\Documents\\dev\\APS360-PROJECT\\data\\billboard_audio\\Parmalee x Blanco Brown_Just The Way\\Parmalee x Blanco Brown_Just The Way.webm\n",
      "[download] 100% of    3.01MiB in 00:00:00 at 15.86MiB/s    \n",
      "[download] Finished downloading playlist: Parmalee x Blanco Brown Just The Way\n",
      "[generic] Extracting URL: Joyner Lucas & Lil Baby Ramen & OJ\n",
      "[youtube:search] Extracting URL: ytsearch:Joyner Lucas & Lil Baby Ramen & OJ\n",
      "[download] Downloading playlist: Joyner Lucas & Lil Baby Ramen & OJ\n",
      "[youtube:search] query \"Joyner Lucas & Lil Baby Ramen & OJ\": Downloading web client config\n",
      "[youtube:search] query \"Joyner Lucas & Lil Baby Ramen & OJ\" page 1: Downloading API JSON\n",
      "[youtube:search] Playlist Joyner Lucas & Lil Baby Ramen & OJ: Downloading 1 items of 1\n",
      "[download] Downloading item 1 of 1\n",
      "[youtube] Extracting URL: https://www.youtube.com/watch?v=eFEjDCMNqYs\n",
      "[youtube] eFEjDCMNqYs: Downloading webpage\n",
      "[youtube] eFEjDCMNqYs: Downloading ios player API JSON\n",
      "[youtube] eFEjDCMNqYs: Downloading android player API JSON\n"
     ]
    },
    {
     "name": "stderr",
     "output_type": "stream",
     "text": [
      "WARNING: [youtube] YouTube said: ERROR - Precondition check failed.\n",
      "WARNING: [youtube] HTTP Error 400: Bad Request. Retrying (1/3)...\n"
     ]
    },
    {
     "name": "stdout",
     "output_type": "stream",
     "text": [
      "[youtube] eFEjDCMNqYs: Downloading android player API JSON\n"
     ]
    },
    {
     "name": "stderr",
     "output_type": "stream",
     "text": [
      "WARNING: [youtube] YouTube said: ERROR - Precondition check failed.\n",
      "WARNING: [youtube] HTTP Error 400: Bad Request. Retrying (2/3)...\n"
     ]
    },
    {
     "name": "stdout",
     "output_type": "stream",
     "text": [
      "[youtube] eFEjDCMNqYs: Downloading android player API JSON\n",
      "[youtube] eFEjDCMNqYs: Downloading m3u8 information\n",
      "[info] eFEjDCMNqYs: Downloading 1 format(s): 251\n",
      "[download] Destination: C:\\Users\\arwin\\Documents\\dev\\APS360-PROJECT\\data\\billboard_audio\\Joyner Lucas & Lil Baby_Ramen & OJ\\Joyner Lucas & Lil Baby_Ramen & OJ.webm\n",
      "[download] 100% of    3.74MiB in 00:00:00 at 21.63MiB/s  \n",
      "[download] Finished downloading playlist: Joyner Lucas & Lil Baby Ramen & OJ\n",
      "[generic] Extracting URL: Luke Bryan Down To One\n",
      "[youtube:search] Extracting URL: ytsearch:Luke Bryan Down To One\n",
      "[download] Downloading playlist: Luke Bryan Down To One\n",
      "[youtube:search] query \"Luke Bryan Down To One\": Downloading web client config\n",
      "[youtube:search] query \"Luke Bryan Down To One\" page 1: Downloading API JSON\n",
      "[youtube:search] Playlist Luke Bryan Down To One: Downloading 1 items of 1\n",
      "[download] Downloading item 1 of 1\n",
      "[youtube] Extracting URL: https://www.youtube.com/watch?v=L6qMLN34Irw\n",
      "[youtube] L6qMLN34Irw: Downloading webpage\n",
      "[youtube] L6qMLN34Irw: Downloading ios player API JSON\n",
      "[youtube] L6qMLN34Irw: Downloading android player API JSON\n"
     ]
    },
    {
     "name": "stderr",
     "output_type": "stream",
     "text": [
      "WARNING: [youtube] YouTube said: ERROR - Precondition check failed.\n",
      "WARNING: [youtube] HTTP Error 400: Bad Request. Retrying (1/3)...\n"
     ]
    },
    {
     "name": "stdout",
     "output_type": "stream",
     "text": [
      "[youtube] L6qMLN34Irw: Downloading android player API JSON\n",
      "[youtube] L6qMLN34Irw: Downloading m3u8 information\n",
      "[info] L6qMLN34Irw: Downloading 1 format(s): 251\n",
      "[download] Destination: C:\\Users\\arwin\\Documents\\dev\\APS360-PROJECT\\data\\billboard_audio\\Luke Bryan_Down To One\\Luke Bryan_Down To One.webm\n",
      "[download] 100% of    3.54MiB in 00:00:00 at 18.88MiB/s  \n",
      "[download] Finished downloading playlist: Luke Bryan Down To One\n",
      "[generic] Extracting URL: Moneybagg Yo & Future Hard For The Next\n",
      "[youtube:search] Extracting URL: ytsearch:Moneybagg Yo & Future Hard For The Next\n",
      "[download] Downloading playlist: Moneybagg Yo & Future Hard For The Next\n",
      "[youtube:search] query \"Moneybagg Yo & Future Hard For The Next\": Downloading web client config\n",
      "[youtube:search] query \"Moneybagg Yo & Future Hard For The Next\" page 1: Downloading API JSON\n",
      "[youtube:search] Playlist Moneybagg Yo & Future Hard For The Next: Downloading 1 items of 1\n",
      "[download] Downloading item 1 of 1\n",
      "[youtube] Extracting URL: https://www.youtube.com/watch?v=RRtMkfjuWkI\n",
      "[youtube] RRtMkfjuWkI: Downloading webpage\n",
      "[youtube] RRtMkfjuWkI: Downloading ios player API JSON\n",
      "[youtube] RRtMkfjuWkI: Downloading android player API JSON\n"
     ]
    },
    {
     "name": "stderr",
     "output_type": "stream",
     "text": [
      "WARNING: [youtube] YouTube said: ERROR - Precondition check failed.\n",
      "WARNING: [youtube] HTTP Error 400: Bad Request. Retrying (1/3)...\n"
     ]
    },
    {
     "name": "stdout",
     "output_type": "stream",
     "text": [
      "[youtube] RRtMkfjuWkI: Downloading android player API JSON\n"
     ]
    },
    {
     "name": "stderr",
     "output_type": "stream",
     "text": [
      "WARNING: [youtube] YouTube said: ERROR - Precondition check failed.\n",
      "WARNING: [youtube] HTTP Error 400: Bad Request. Retrying (2/3)...\n"
     ]
    },
    {
     "name": "stdout",
     "output_type": "stream",
     "text": [
      "[youtube] RRtMkfjuWkI: Downloading android player API JSON\n"
     ]
    },
    {
     "name": "stderr",
     "output_type": "stream",
     "text": [
      "WARNING: [youtube] YouTube said: ERROR - Precondition check failed.\n",
      "WARNING: [youtube] HTTP Error 400: Bad Request. Retrying (3/3)...\n"
     ]
    },
    {
     "name": "stdout",
     "output_type": "stream",
     "text": [
      "[youtube] RRtMkfjuWkI: Downloading android player API JSON\n",
      "[youtube] RRtMkfjuWkI: Downloading m3u8 information\n",
      "[info] RRtMkfjuWkI: Downloading 1 format(s): 251\n",
      "[download] Destination: C:\\Users\\arwin\\Documents\\dev\\APS360-PROJECT\\data\\billboard_audio\\Moneybagg Yo & Future_Hard For The Next\\Moneybagg Yo & Future_Hard For The Next.webm\n",
      "[download] 100% of    2.82MiB in 00:00:00 at 15.86MiB/s  \n",
      "[download] Finished downloading playlist: Moneybagg Yo & Future Hard For The Next\n",
      "[generic] Extracting URL: Don Toliver What You Need\n",
      "[youtube:search] Extracting URL: ytsearch:Don Toliver What You Need\n",
      "[download] Downloading playlist: Don Toliver What You Need\n",
      "[youtube:search] query \"Don Toliver What You Need\": Downloading web client config\n",
      "[youtube:search] query \"Don Toliver What You Need\" page 1: Downloading API JSON\n",
      "[youtube:search] Playlist Don Toliver What You Need: Downloading 1 items of 1\n",
      "[download] Downloading item 1 of 1\n",
      "[youtube] Extracting URL: https://www.youtube.com/watch?v=qFIJHaylMu4\n",
      "[youtube] qFIJHaylMu4: Downloading webpage\n",
      "[youtube] qFIJHaylMu4: Downloading ios player API JSON\n",
      "[youtube] qFIJHaylMu4: Downloading android player API JSON\n",
      "[youtube] qFIJHaylMu4: Downloading m3u8 information\n",
      "[info] qFIJHaylMu4: Downloading 1 format(s): 251\n",
      "[download] Destination: C:\\Users\\arwin\\Documents\\dev\\APS360-PROJECT\\data\\billboard_audio\\Don Toliver_What You Need\\Don Toliver_What You Need.webm\n",
      "[download] 100% of    4.53MiB in 00:00:00 at 6.38MiB/s   \n",
      "[download] Finished downloading playlist: Don Toliver What You Need\n",
      "[generic] Extracting URL: DJ Khaled Featuring Post Malone, Megan Thee Stallion, Lil Baby & DaBaby I Did It\n",
      "[youtube:search] Extracting URL: ytsearch:DJ Khaled Featuring Post Malone, Megan Thee Stallion, Lil Baby & DaBaby I Did It\n",
      "[download] Downloading playlist: DJ Khaled Featuring Post Malone, Megan Thee Stallion, Lil Baby & DaBaby I Did It\n",
      "[youtube:search] query \"DJ Khaled Featuring Post Malone, Megan Thee Stallion, Lil Baby & DaBaby I Did It\": Downloading web client config\n",
      "[youtube:search] query \"DJ Khaled Featuring Post Malone, Megan Thee Stallion, Lil Baby & DaBaby I Did It\" page 1: Downloading API JSON\n",
      "[youtube:search] Playlist DJ Khaled Featuring Post Malone, Megan Thee Stallion, Lil Baby & DaBaby I Did It: Downloading 1 items of 1\n",
      "[download] Downloading item 1 of 1\n",
      "[youtube] Extracting URL: https://www.youtube.com/watch?v=l-dBqCtQu6U\n",
      "[youtube] l-dBqCtQu6U: Downloading webpage\n",
      "[youtube] l-dBqCtQu6U: Downloading ios player API JSON\n",
      "[youtube] l-dBqCtQu6U: Downloading android player API JSON\n",
      "[youtube] l-dBqCtQu6U: Downloading m3u8 information\n",
      "[info] l-dBqCtQu6U: Downloading 1 format(s): 251\n",
      "[download] Destination: C:\\Users\\arwin\\Documents\\dev\\APS360-PROJECT\\data\\billboard_audio\\DJ Khaled Featuring Post Malone, Megan Thee Stallion, Lil Baby & DaBaby_I Did It\\DJ Khaled Featuring Post Malone, Megan Thee Stallion, Lil Baby & DaBaby_I Did It.webm\n",
      "[download] 100% of    3.27MiB in 00:00:00 at 13.30MiB/s    \n",
      "[download] Finished downloading playlist: DJ Khaled Featuring Post Malone, Megan Thee Stallion, Lil Baby & DaBaby I Did It\n",
      "[generic] Extracting URL: Cico P Tampa\n",
      "[youtube:search] Extracting URL: ytsearch:Cico P Tampa\n",
      "[download] Downloading playlist: Cico P Tampa\n",
      "[youtube:search] query \"Cico P Tampa\": Downloading web client config\n",
      "[youtube:search] query \"Cico P Tampa\" page 1: Downloading API JSON\n",
      "[youtube:search] Playlist Cico P Tampa: Downloading 1 items of 1\n",
      "[download] Downloading item 1 of 1\n",
      "[youtube] Extracting URL: https://www.youtube.com/watch?v=EN2KZGtBz24\n",
      "[youtube] EN2KZGtBz24: Downloading webpage\n",
      "[youtube] EN2KZGtBz24: Downloading ios player API JSON\n",
      "[youtube] EN2KZGtBz24: Downloading android player API JSON\n",
      "[youtube] EN2KZGtBz24: Downloading m3u8 information\n",
      "[info] EN2KZGtBz24: Downloading 1 format(s): 251\n",
      "[download] Destination: C:\\Users\\arwin\\Documents\\dev\\APS360-PROJECT\\data\\billboard_audio\\Cico P_Tampa\\Cico P_Tampa.webm\n",
      "[download] 100% of    2.93MiB in 00:00:00 at 14.27MiB/s  \n",
      "[download] Finished downloading playlist: Cico P Tampa\n",
      "[generic] Extracting URL: Kevin Gates Big Gangsta\n",
      "[youtube:search] Extracting URL: ytsearch:Kevin Gates Big Gangsta\n",
      "[download] Downloading playlist: Kevin Gates Big Gangsta\n",
      "[youtube:search] query \"Kevin Gates Big Gangsta\": Downloading web client config\n",
      "[youtube:search] query \"Kevin Gates Big Gangsta\" page 1: Downloading API JSON\n",
      "[youtube:search] Playlist Kevin Gates Big Gangsta: Downloading 1 items of 1\n",
      "[download] Downloading item 1 of 1\n",
      "[youtube] Extracting URL: https://www.youtube.com/watch?v=GoGAR9wYZyU\n",
      "[youtube] GoGAR9wYZyU: Downloading webpage\n",
      "[youtube] GoGAR9wYZyU: Downloading ios player API JSON\n",
      "[youtube] GoGAR9wYZyU: Downloading android player API JSON\n",
      "[youtube] GoGAR9wYZyU: Downloading m3u8 information\n",
      "[info] GoGAR9wYZyU: Downloading 1 format(s): 251\n",
      "[download] Destination: C:\\Users\\arwin\\Documents\\dev\\APS360-PROJECT\\data\\billboard_audio\\Kevin Gates_Big Gangsta\\Kevin Gates_Big Gangsta.webm\n",
      "[download] 100% of    4.14MiB in 00:00:00 at 22.47MiB/s  \n",
      "[download] Finished downloading playlist: Kevin Gates Big Gangsta\n",
      "[generic] Extracting URL: Lil Durk Hellcats & Trackhawks\n",
      "[youtube:search] Extracting URL: ytsearch:Lil Durk Hellcats & Trackhawks\n",
      "[download] Downloading playlist: Lil Durk Hellcats & Trackhawks\n",
      "[youtube:search] query \"Lil Durk Hellcats & Trackhawks\": Downloading web client config\n",
      "[youtube:search] query \"Lil Durk Hellcats & Trackhawks\" page 1: Downloading API JSON\n",
      "[youtube:search] Playlist Lil Durk Hellcats & Trackhawks: Downloading 1 items of 1\n",
      "[download] Downloading item 1 of 1\n",
      "[youtube] Extracting URL: https://www.youtube.com/watch?v=hCg9TCMnHyE\n",
      "[youtube] hCg9TCMnHyE: Downloading webpage\n",
      "[youtube] hCg9TCMnHyE: Downloading ios player API JSON\n",
      "[youtube] hCg9TCMnHyE: Downloading android player API JSON\n",
      "[youtube] hCg9TCMnHyE: Downloading m3u8 information\n",
      "[info] hCg9TCMnHyE: Downloading 1 format(s): 251\n",
      "[download] Destination: C:\\Users\\arwin\\Documents\\dev\\APS360-PROJECT\\data\\billboard_audio\\Lil Durk_Hellcats & Trackhawks\\Lil Durk_Hellcats & Trackhawks.webm\n",
      "[download] 100% of    2.53MiB in 00:00:00 at 20.56MiB/s  \n",
      "[download] Finished downloading playlist: Lil Durk Hellcats & Trackhawks\n",
      "[generic] Extracting URL: DJ Khaled Featuring Justin Bieber & 21 Savage Let It Go\n",
      "[youtube:search] Extracting URL: ytsearch:DJ Khaled Featuring Justin Bieber & 21 Savage Let It Go\n",
      "[download] Downloading playlist: DJ Khaled Featuring Justin Bieber & 21 Savage Let It Go\n",
      "[youtube:search] query \"DJ Khaled Featuring Justin Bieber & 21 Savage Let It Go\": Downloading web client config\n",
      "[youtube:search] query \"DJ Khaled Featuring Justin Bieber & 21 Savage Let It Go\" page 1: Downloading API JSON\n",
      "[youtube:search] Playlist DJ Khaled Featuring Justin Bieber & 21 Savage Let It Go: Downloading 1 items of 1\n",
      "[download] Downloading item 1 of 1\n",
      "[youtube] Extracting URL: https://www.youtube.com/watch?v=QRZJNqoJQFY\n",
      "[youtube] QRZJNqoJQFY: Downloading webpage\n",
      "[youtube] QRZJNqoJQFY: Downloading ios player API JSON\n",
      "[youtube] QRZJNqoJQFY: Downloading android player API JSON\n"
     ]
    },
    {
     "name": "stderr",
     "output_type": "stream",
     "text": [
      "WARNING: [youtube] YouTube said: ERROR - Precondition check failed.\n",
      "WARNING: [youtube] HTTP Error 400: Bad Request. Retrying (1/3)...\n"
     ]
    },
    {
     "name": "stdout",
     "output_type": "stream",
     "text": [
      "[youtube] QRZJNqoJQFY: Downloading android player API JSON\n"
     ]
    },
    {
     "name": "stderr",
     "output_type": "stream",
     "text": [
      "WARNING: [youtube] YouTube said: ERROR - Precondition check failed.\n",
      "WARNING: [youtube] HTTP Error 400: Bad Request. Retrying (2/3)...\n"
     ]
    },
    {
     "name": "stdout",
     "output_type": "stream",
     "text": [
      "[youtube] QRZJNqoJQFY: Downloading android player API JSON\n",
      "[youtube] QRZJNqoJQFY: Downloading m3u8 information\n",
      "[info] QRZJNqoJQFY: Downloading 1 format(s): 251\n",
      "[download] Destination: C:\\Users\\arwin\\Documents\\dev\\APS360-PROJECT\\data\\billboard_audio\\DJ Khaled Featuring Justin Bieber & 21 Savage_Let It Go\\DJ Khaled Featuring Justin Bieber & 21 Savage_Let It Go.webm\n",
      "[download] 100% of    5.20MiB in 00:00:00 at 20.31MiB/s  \n",
      "[download] Finished downloading playlist: DJ Khaled Featuring Justin Bieber & 21 Savage Let It Go\n",
      "[generic] Extracting URL: Rod Wave Featuring Polo G Richer\n",
      "[youtube:search] Extracting URL: ytsearch:Rod Wave Featuring Polo G Richer\n",
      "[download] Downloading playlist: Rod Wave Featuring Polo G Richer\n",
      "[youtube:search] query \"Rod Wave Featuring Polo G Richer\": Downloading web client config\n",
      "[youtube:search] query \"Rod Wave Featuring Polo G Richer\" page 1: Downloading API JSON\n",
      "[youtube:search] Playlist Rod Wave Featuring Polo G Richer: Downloading 1 items of 1\n",
      "[download] Downloading item 1 of 1\n",
      "[youtube] Extracting URL: https://www.youtube.com/watch?v=yTOyaiCxdUg\n",
      "[youtube] yTOyaiCxdUg: Downloading webpage\n",
      "[youtube] yTOyaiCxdUg: Downloading ios player API JSON\n",
      "[youtube] yTOyaiCxdUg: Downloading android player API JSON\n"
     ]
    },
    {
     "name": "stderr",
     "output_type": "stream",
     "text": [
      "WARNING: [youtube] YouTube said: ERROR - Precondition check failed.\n",
      "WARNING: [youtube] HTTP Error 400: Bad Request. Retrying (1/3)...\n"
     ]
    },
    {
     "name": "stdout",
     "output_type": "stream",
     "text": [
      "[youtube] yTOyaiCxdUg: Downloading android player API JSON\n",
      "[youtube] yTOyaiCxdUg: Downloading m3u8 information\n",
      "[info] yTOyaiCxdUg: Downloading 1 format(s): 251\n",
      "[download] Destination: C:\\Users\\arwin\\Documents\\dev\\APS360-PROJECT\\data\\billboard_audio\\Rod Wave Featuring Polo G_Richer\\Rod Wave Featuring Polo G_Richer.webm\n",
      "[download] 100% of    3.20MiB in 00:00:00 at 10.79MiB/s    \n",
      "[download] Finished downloading playlist: Rod Wave Featuring Polo G Richer\n",
      "[generic] Extracting URL: Lil Tjay, Polo G & Fivio Foreign Headshot\n",
      "[youtube:search] Extracting URL: ytsearch:Lil Tjay, Polo G & Fivio Foreign Headshot\n",
      "[download] Downloading playlist: Lil Tjay, Polo G & Fivio Foreign Headshot\n",
      "[youtube:search] query \"Lil Tjay, Polo G & Fivio Foreign Headshot\": Downloading web client config\n",
      "[youtube:search] query \"Lil Tjay, Polo G & Fivio Foreign Headshot\" page 1: Downloading API JSON\n",
      "[youtube:search] Playlist Lil Tjay, Polo G & Fivio Foreign Headshot: Downloading 1 items of 1\n",
      "[download] Downloading item 1 of 1\n",
      "[youtube] Extracting URL: https://www.youtube.com/watch?v=CnN8wb25f_8\n",
      "[youtube] CnN8wb25f_8: Downloading webpage\n",
      "[youtube] CnN8wb25f_8: Downloading ios player API JSON\n",
      "[youtube] CnN8wb25f_8: Downloading android player API JSON\n",
      "[youtube] CnN8wb25f_8: Downloading m3u8 information\n",
      "[info] CnN8wb25f_8: Downloading 1 format(s): 251\n",
      "[download] Destination: C:\\Users\\arwin\\Documents\\dev\\APS360-PROJECT\\data\\billboard_audio\\Lil Tjay, Polo G & Fivio Foreign_Headshot\\Lil Tjay, Polo G & Fivio Foreign_Headshot.webm\n",
      "[download] 100% of    2.82MiB in 00:00:00 at 20.62MiB/s  \n",
      "[download] Finished downloading playlist: Lil Tjay, Polo G & Fivio Foreign Headshot\n",
      "[generic] Extracting URL: Moneybagg Yo Featuring BIG30 Go!\n",
      "[youtube:search] Extracting URL: ytsearch:Moneybagg Yo Featuring BIG30 Go!\n",
      "[download] Downloading playlist: Moneybagg Yo Featuring BIG30 Go!\n",
      "[youtube:search] query \"Moneybagg Yo Featuring BIG30 Go!\": Downloading web client config\n",
      "[youtube:search] query \"Moneybagg Yo Featuring BIG30 Go!\" page 1: Downloading API JSON\n",
      "[youtube:search] Playlist Moneybagg Yo Featuring BIG30 Go!: Downloading 1 items of 1\n",
      "[download] Downloading item 1 of 1\n",
      "[youtube] Extracting URL: https://www.youtube.com/watch?v=_d6V65hiKPw\n",
      "[youtube] _d6V65hiKPw: Downloading webpage\n",
      "[youtube] _d6V65hiKPw: Downloading ios player API JSON\n",
      "[youtube] _d6V65hiKPw: Downloading android player API JSON\n",
      "[youtube] _d6V65hiKPw: Downloading m3u8 information\n",
      "[info] _d6V65hiKPw: Downloading 1 format(s): 251\n",
      "[download] Destination: C:\\Users\\arwin\\Documents\\dev\\APS360-PROJECT\\data\\billboard_audio\\Moneybagg Yo Featuring BIG30_Go!\\Moneybagg Yo Featuring BIG30_Go!.webm\n",
      "[download] 100% of    2.15MiB in 00:00:00 at 7.46MiB/s   \n",
      "[download] Finished downloading playlist: Moneybagg Yo Featuring BIG30 Go!\n",
      "[generic] Extracting URL: Chris Brown & Young Thug Go Crazy\n",
      "[youtube:search] Extracting URL: ytsearch:Chris Brown & Young Thug Go Crazy\n",
      "[download] Downloading playlist: Chris Brown & Young Thug Go Crazy\n",
      "[youtube:search] query \"Chris Brown & Young Thug Go Crazy\": Downloading web client config\n",
      "[youtube:search] query \"Chris Brown & Young Thug Go Crazy\" page 1: Downloading API JSON\n",
      "[youtube:search] Playlist Chris Brown & Young Thug Go Crazy: Downloading 1 items of 1\n",
      "[download] Downloading item 1 of 1\n",
      "[youtube] Extracting URL: https://www.youtube.com/watch?v=dPhwbZBvW2o\n",
      "[youtube] dPhwbZBvW2o: Downloading webpage\n",
      "[youtube] dPhwbZBvW2o: Downloading ios player API JSON\n",
      "[youtube] dPhwbZBvW2o: Downloading android player API JSON\n",
      "[youtube] dPhwbZBvW2o: Downloading m3u8 information\n",
      "[info] dPhwbZBvW2o: Downloading 1 format(s): 251\n",
      "[download] Destination: C:\\Users\\arwin\\Documents\\dev\\APS360-PROJECT\\data\\billboard_audio\\Chris Brown & Young Thug_Go Crazy\\Chris Brown & Young Thug_Go Crazy.webm\n",
      "[download] 100% of    3.44MiB in 00:00:00 at 21.91MiB/s    \n",
      "[download] Finished downloading playlist: Chris Brown & Young Thug Go Crazy\n",
      "[generic] Extracting URL: DJ Khaled Featuring Nas, JAY-Z & James Fauntleroy Sorry Not Sorry\n",
      "[youtube:search] Extracting URL: ytsearch:DJ Khaled Featuring Nas, JAY-Z & James Fauntleroy Sorry Not Sorry\n",
      "[download] Downloading playlist: DJ Khaled Featuring Nas, JAY-Z & James Fauntleroy Sorry Not Sorry\n",
      "[youtube:search] query \"DJ Khaled Featuring Nas, JAY-Z & James Fauntleroy Sorry Not Sorry\": Downloading web client config\n",
      "[youtube:search] query \"DJ Khaled Featuring Nas, JAY-Z & James Fauntleroy Sorry Not Sorry\" page 1: Downloading API JSON\n",
      "[youtube:search] Playlist DJ Khaled Featuring Nas, JAY-Z & James Fauntleroy Sorry Not Sorry: Downloading 1 items of 1\n",
      "[download] Downloading item 1 of 1\n",
      "[youtube] Extracting URL: https://www.youtube.com/watch?v=mON6_EQfQFI\n",
      "[youtube] mON6_EQfQFI: Downloading webpage\n",
      "[youtube] mON6_EQfQFI: Downloading ios player API JSON\n",
      "[youtube] mON6_EQfQFI: Downloading android player API JSON\n"
     ]
    },
    {
     "name": "stderr",
     "output_type": "stream",
     "text": [
      "WARNING: [youtube] YouTube said: ERROR - Precondition check failed.\n",
      "WARNING: [youtube] HTTP Error 400: Bad Request. Retrying (1/3)...\n"
     ]
    },
    {
     "name": "stdout",
     "output_type": "stream",
     "text": [
      "[youtube] mON6_EQfQFI: Downloading android player API JSON\n",
      "[youtube] mON6_EQfQFI: Downloading m3u8 information\n",
      "[info] mON6_EQfQFI: Downloading 1 format(s): 251\n",
      "[download] Destination: C:\\Users\\arwin\\Documents\\dev\\APS360-PROJECT\\data\\billboard_audio\\DJ Khaled Featuring Nas, JAY-Z & James Fauntleroy_Sorry Not Sorry\\DJ Khaled Featuring Nas, JAY-Z & James Fauntleroy_Sorry Not Sorry.webm\n",
      "[download] 100% of    4.12MiB in 00:00:00 at 15.54MiB/s  \n",
      "[download] Finished downloading playlist: DJ Khaled Featuring Nas, JAY-Z & James Fauntleroy Sorry Not Sorry\n",
      "[generic] Extracting URL: Tenille Arts Somebody Like That\n",
      "[youtube:search] Extracting URL: ytsearch:Tenille Arts Somebody Like That\n",
      "[download] Downloading playlist: Tenille Arts Somebody Like That\n",
      "[youtube:search] query \"Tenille Arts Somebody Like That\": Downloading web client config\n",
      "[youtube:search] query \"Tenille Arts Somebody Like That\" page 1: Downloading API JSON\n",
      "[youtube:search] Playlist Tenille Arts Somebody Like That: Downloading 1 items of 1\n",
      "[download] Downloading item 1 of 1\n",
      "[youtube] Extracting URL: https://www.youtube.com/watch?v=rX-S5dwsTVA\n",
      "[youtube] rX-S5dwsTVA: Downloading webpage\n",
      "[youtube] rX-S5dwsTVA: Downloading ios player API JSON\n",
      "[youtube] rX-S5dwsTVA: Downloading android player API JSON\n"
     ]
    },
    {
     "name": "stderr",
     "output_type": "stream",
     "text": [
      "WARNING: [youtube] YouTube said: ERROR - Precondition check failed.\n",
      "WARNING: [youtube] HTTP Error 400: Bad Request. Retrying (1/3)...\n"
     ]
    },
    {
     "name": "stdout",
     "output_type": "stream",
     "text": [
      "[youtube] rX-S5dwsTVA: Downloading android player API JSON\n"
     ]
    },
    {
     "name": "stderr",
     "output_type": "stream",
     "text": [
      "WARNING: [youtube] YouTube said: ERROR - Precondition check failed.\n",
      "WARNING: [youtube] HTTP Error 400: Bad Request. Retrying (2/3)...\n"
     ]
    },
    {
     "name": "stdout",
     "output_type": "stream",
     "text": [
      "[youtube] rX-S5dwsTVA: Downloading android player API JSON\n",
      "[youtube] rX-S5dwsTVA: Downloading m3u8 information\n",
      "[info] rX-S5dwsTVA: Downloading 1 format(s): 251\n",
      "[download] Destination: C:\\Users\\arwin\\Documents\\dev\\APS360-PROJECT\\data\\billboard_audio\\Tenille Arts_Somebody Like That\\Tenille Arts_Somebody Like That.webm\n",
      "[download] 100% of    3.26MiB in 00:00:00 at 16.25MiB/s  \n",
      "[download] Finished downloading playlist: Tenille Arts Somebody Like That\n",
      "[generic] Extracting URL: DJ Khaled Featuring Bryson Tiller, Lil Baby & Roddy Ricch Body In Motion\n",
      "[youtube:search] Extracting URL: ytsearch:DJ Khaled Featuring Bryson Tiller, Lil Baby & Roddy Ricch Body In Motion\n",
      "[download] Downloading playlist: DJ Khaled Featuring Bryson Tiller, Lil Baby & Roddy Ricch Body In Motion\n",
      "[youtube:search] query \"DJ Khaled Featuring Bryson Tiller, Lil Baby & Roddy Ricch Body In Motion\": Downloading web client config\n",
      "[youtube:search] query \"DJ Khaled Featuring Bryson Tiller, Lil Baby & Roddy Ricch Body In Motion\" page 1: Downloading API JSON\n",
      "[youtube:search] Playlist DJ Khaled Featuring Bryson Tiller, Lil Baby & Roddy Ricch Body In Motion: Downloading 1 items of 1\n",
      "[download] Downloading item 1 of 1\n",
      "[youtube] Extracting URL: https://www.youtube.com/watch?v=X6zM_e9V3pA\n",
      "[youtube] X6zM_e9V3pA: Downloading webpage\n",
      "[youtube] X6zM_e9V3pA: Downloading ios player API JSON\n",
      "[youtube] X6zM_e9V3pA: Downloading android player API JSON\n"
     ]
    },
    {
     "name": "stderr",
     "output_type": "stream",
     "text": [
      "WARNING: [youtube] YouTube said: ERROR - Precondition check failed.\n",
      "WARNING: [youtube] HTTP Error 400: Bad Request. Retrying (1/3)...\n"
     ]
    },
    {
     "name": "stdout",
     "output_type": "stream",
     "text": [
      "[youtube] X6zM_e9V3pA: Downloading android player API JSON\n",
      "[youtube] X6zM_e9V3pA: Downloading m3u8 information\n",
      "[info] X6zM_e9V3pA: Downloading 1 format(s): 251\n",
      "[download] Destination: C:\\Users\\arwin\\Documents\\dev\\APS360-PROJECT\\data\\billboard_audio\\DJ Khaled Featuring Bryson Tiller, Lil Baby & Roddy Ricch_Body In Motion\\DJ Khaled Featuring Bryson Tiller, Lil Baby & Roddy Ricch_Body In Motion.webm\n",
      "[download] 100% of    5.00MiB in 00:00:00 at 12.38MiB/s    \n",
      "[download] Finished downloading playlist: DJ Khaled Featuring Bryson Tiller, Lil Baby & Roddy Ricch Body In Motion\n",
      "[generic] Extracting URL: DJ Khaled Featuring Cardi B Big Paper\n",
      "[youtube:search] Extracting URL: ytsearch:DJ Khaled Featuring Cardi B Big Paper\n",
      "[download] Downloading playlist: DJ Khaled Featuring Cardi B Big Paper\n",
      "[youtube:search] query \"DJ Khaled Featuring Cardi B Big Paper\": Downloading web client config\n",
      "[youtube:search] query \"DJ Khaled Featuring Cardi B Big Paper\" page 1: Downloading API JSON\n",
      "[youtube:search] Playlist DJ Khaled Featuring Cardi B Big Paper: Downloading 1 items of 1\n",
      "[download] Downloading item 1 of 1\n",
      "[youtube] Extracting URL: https://www.youtube.com/watch?v=1w1z7dU3pws\n",
      "[youtube] 1w1z7dU3pws: Downloading webpage\n",
      "[youtube] 1w1z7dU3pws: Downloading ios player API JSON\n",
      "[youtube] 1w1z7dU3pws: Downloading android player API JSON\n",
      "[youtube] 1w1z7dU3pws: Downloading m3u8 information\n",
      "[info] 1w1z7dU3pws: Downloading 1 format(s): 251\n",
      "[download] Destination: C:\\Users\\arwin\\Documents\\dev\\APS360-PROJECT\\data\\billboard_audio\\DJ Khaled Featuring Cardi B_Big Paper\\DJ Khaled Featuring Cardi B_Big Paper.webm\n",
      "[download] 100% of    2.58MiB in 00:00:00 at 5.21MiB/s   \n",
      "[download] Finished downloading playlist: DJ Khaled Featuring Cardi B Big Paper\n",
      "[generic] Extracting URL: Baby Keem & Travis Scott Durag Activity\n",
      "[youtube:search] Extracting URL: ytsearch:Baby Keem & Travis Scott Durag Activity\n",
      "[download] Downloading playlist: Baby Keem & Travis Scott Durag Activity\n",
      "[youtube:search] query \"Baby Keem & Travis Scott Durag Activity\": Downloading web client config\n",
      "[youtube:search] query \"Baby Keem & Travis Scott Durag Activity\" page 1: Downloading API JSON\n",
      "[youtube:search] Playlist Baby Keem & Travis Scott Durag Activity: Downloading 1 items of 1\n",
      "[download] Downloading item 1 of 1\n",
      "[youtube] Extracting URL: https://www.youtube.com/watch?v=YbgT-H39cnQ\n",
      "[youtube] YbgT-H39cnQ: Downloading webpage\n",
      "[youtube] YbgT-H39cnQ: Downloading ios player API JSON\n",
      "[youtube] YbgT-H39cnQ: Downloading android player API JSON\n",
      "[youtube] YbgT-H39cnQ: Downloading m3u8 information\n",
      "[info] YbgT-H39cnQ: Downloading 1 format(s): 251\n",
      "[download] Destination: C:\\Users\\arwin\\Documents\\dev\\APS360-PROJECT\\data\\billboard_audio\\Baby Keem & Travis Scott_Durag Activity\\Baby Keem & Travis Scott_Durag Activity.webm\n",
      "[download] 100% of    3.83MiB in 00:00:00 at 16.46MiB/s    \n",
      "[download] Finished downloading playlist: Baby Keem & Travis Scott Durag Activity\n",
      "[generic] Extracting URL: NLE Choppa Final Warning\n",
      "[youtube:search] Extracting URL: ytsearch:NLE Choppa Final Warning\n",
      "[download] Downloading playlist: NLE Choppa Final Warning\n",
      "[youtube:search] query \"NLE Choppa Final Warning\": Downloading web client config\n",
      "[youtube:search] query \"NLE Choppa Final Warning\" page 1: Downloading API JSON\n",
      "[youtube:search] Playlist NLE Choppa Final Warning: Downloading 1 items of 1\n",
      "[download] Downloading item 1 of 1\n",
      "[youtube] Extracting URL: https://www.youtube.com/watch?v=ih6vI5SAkjc\n",
      "[youtube] ih6vI5SAkjc: Downloading webpage\n",
      "[youtube] ih6vI5SAkjc: Downloading ios player API JSON\n",
      "[youtube] ih6vI5SAkjc: Downloading android player API JSON\n"
     ]
    },
    {
     "name": "stderr",
     "output_type": "stream",
     "text": [
      "WARNING: [youtube] YouTube said: ERROR - Precondition check failed.\n",
      "WARNING: [youtube] HTTP Error 400: Bad Request. Retrying (1/3)...\n"
     ]
    },
    {
     "name": "stdout",
     "output_type": "stream",
     "text": [
      "[youtube] ih6vI5SAkjc: Downloading android player API JSON\n"
     ]
    },
    {
     "name": "stderr",
     "output_type": "stream",
     "text": [
      "WARNING: [youtube] YouTube said: ERROR - Precondition check failed.\n",
      "WARNING: [youtube] HTTP Error 400: Bad Request. Retrying (2/3)...\n"
     ]
    },
    {
     "name": "stdout",
     "output_type": "stream",
     "text": [
      "[youtube] ih6vI5SAkjc: Downloading android player API JSON\n"
     ]
    },
    {
     "name": "stderr",
     "output_type": "stream",
     "text": [
      "WARNING: [youtube] YouTube said: ERROR - Precondition check failed.\n",
      "WARNING: [youtube] HTTP Error 400: Bad Request. Retrying (3/3)...\n"
     ]
    },
    {
     "name": "stdout",
     "output_type": "stream",
     "text": [
      "[youtube] ih6vI5SAkjc: Downloading android player API JSON\n"
     ]
    },
    {
     "name": "stderr",
     "output_type": "stream",
     "text": [
      "WARNING: [youtube] YouTube said: ERROR - Precondition check failed.\n",
      "WARNING: [youtube] Unable to download API page: HTTP Error 400: Bad Request (caused by <HTTPError 400: Bad Request>); please report this issue on  https://github.com/yt-dlp/yt-dlp/issues?q= , filling out the appropriate issue template. Confirm you are on the latest version using  yt-dlp -U\n"
     ]
    },
    {
     "name": "stdout",
     "output_type": "stream",
     "text": [
      "[youtube] ih6vI5SAkjc: Downloading m3u8 information\n",
      "[info] ih6vI5SAkjc: Downloading 1 format(s): 251\n",
      "[download] Destination: C:\\Users\\arwin\\Documents\\dev\\APS360-PROJECT\\data\\billboard_audio\\NLE Choppa_Final Warning\\NLE Choppa_Final Warning.webm\n",
      "[download] 100% of    2.58MiB in 00:00:00 at 19.07MiB/s  \n",
      "[download] Finished downloading playlist: NLE Choppa Final Warning\n",
      "[generic] Extracting URL: Moneybagg Yo If Pain Was A Person\n",
      "[youtube:search] Extracting URL: ytsearch:Moneybagg Yo If Pain Was A Person\n",
      "[download] Downloading playlist: Moneybagg Yo If Pain Was A Person\n",
      "[youtube:search] query \"Moneybagg Yo If Pain Was A Person\": Downloading web client config\n",
      "[youtube:search] query \"Moneybagg Yo If Pain Was A Person\" page 1: Downloading API JSON\n",
      "[youtube:search] Playlist Moneybagg Yo If Pain Was A Person: Downloading 1 items of 1\n",
      "[download] Downloading item 1 of 1\n",
      "[youtube] Extracting URL: https://www.youtube.com/watch?v=Hl4kPcBcIHI\n",
      "[youtube] Hl4kPcBcIHI: Downloading webpage\n",
      "[youtube] Hl4kPcBcIHI: Downloading ios player API JSON\n",
      "[youtube] Hl4kPcBcIHI: Downloading android player API JSON\n"
     ]
    },
    {
     "name": "stderr",
     "output_type": "stream",
     "text": [
      "WARNING: [youtube] YouTube said: ERROR - Precondition check failed.\n",
      "WARNING: [youtube] HTTP Error 400: Bad Request. Retrying (1/3)...\n"
     ]
    },
    {
     "name": "stdout",
     "output_type": "stream",
     "text": [
      "[youtube] Hl4kPcBcIHI: Downloading android player API JSON\n"
     ]
    },
    {
     "name": "stderr",
     "output_type": "stream",
     "text": [
      "WARNING: [youtube] YouTube said: ERROR - Precondition check failed.\n",
      "WARNING: [youtube] HTTP Error 400: Bad Request. Retrying (2/3)...\n"
     ]
    },
    {
     "name": "stdout",
     "output_type": "stream",
     "text": [
      "[youtube] Hl4kPcBcIHI: Downloading android player API JSON\n",
      "[youtube] Hl4kPcBcIHI: Downloading m3u8 information\n",
      "[info] Hl4kPcBcIHI: Downloading 1 format(s): 251\n",
      "[download] Destination: C:\\Users\\arwin\\Documents\\dev\\APS360-PROJECT\\data\\billboard_audio\\Moneybagg Yo_If Pain Was A Person\\Moneybagg Yo_If Pain Was A Person.webm\n",
      "[download] 100% of    4.22MiB in 00:00:00 at 15.25MiB/s  \n",
      "[download] Finished downloading playlist: Moneybagg Yo If Pain Was A Person\n",
      "[generic] Extracting URL: DJ Khaled Featuring Lil Wayne & Jeremih Thankful\n",
      "[youtube:search] Extracting URL: ytsearch:DJ Khaled Featuring Lil Wayne & Jeremih Thankful\n",
      "[download] Downloading playlist: DJ Khaled Featuring Lil Wayne & Jeremih Thankful\n",
      "[youtube:search] query \"DJ Khaled Featuring Lil Wayne & Jeremih Thankful\": Downloading web client config\n",
      "[youtube:search] query \"DJ Khaled Featuring Lil Wayne & Jeremih Thankful\" page 1: Downloading API JSON\n",
      "[youtube:search] Playlist DJ Khaled Featuring Lil Wayne & Jeremih Thankful: Downloading 1 items of 1\n",
      "[download] Downloading item 1 of 1\n",
      "[youtube] Extracting URL: https://www.youtube.com/watch?v=IYVSEFMRR8Y\n",
      "[youtube] IYVSEFMRR8Y: Downloading webpage\n",
      "[youtube] IYVSEFMRR8Y: Downloading ios player API JSON\n",
      "[youtube] IYVSEFMRR8Y: Downloading android player API JSON\n",
      "[youtube] IYVSEFMRR8Y: Downloading m3u8 information\n",
      "[info] IYVSEFMRR8Y: Downloading 1 format(s): 251\n",
      "[download] Destination: C:\\Users\\arwin\\Documents\\dev\\APS360-PROJECT\\data\\billboard_audio\\DJ Khaled Featuring Lil Wayne & Jeremih_Thankful\\DJ Khaled Featuring Lil Wayne & Jeremih_Thankful.webm\n",
      "[download] 100% of    6.49MiB in 00:00:00 at 15.20MiB/s  \n",
      "[download] Finished downloading playlist: DJ Khaled Featuring Lil Wayne & Jeremih Thankful\n",
      "[generic] Extracting URL: Pop Smoke Featuring Lil Baby & DaBaby For The Night\n",
      "[youtube:search] Extracting URL: ytsearch:Pop Smoke Featuring Lil Baby & DaBaby For The Night\n",
      "[download] Downloading playlist: Pop Smoke Featuring Lil Baby & DaBaby For The Night\n",
      "[youtube:search] query \"Pop Smoke Featuring Lil Baby & DaBaby For The Night\": Downloading web client config\n",
      "[youtube:search] query \"Pop Smoke Featuring Lil Baby & DaBaby For The Night\" page 1: Downloading API JSON\n",
      "[youtube:search] Playlist Pop Smoke Featuring Lil Baby & DaBaby For The Night: Downloading 1 items of 1\n",
      "[download] Downloading item 1 of 1\n",
      "[youtube] Extracting URL: https://www.youtube.com/watch?v=Q9pjm4cNsfc\n",
      "[youtube] Q9pjm4cNsfc: Downloading webpage\n",
      "[youtube] Q9pjm4cNsfc: Downloading ios player API JSON\n",
      "[youtube] Q9pjm4cNsfc: Downloading android player API JSON\n",
      "[youtube] Q9pjm4cNsfc: Downloading m3u8 information\n",
      "[info] Q9pjm4cNsfc: Downloading 1 format(s): 251\n",
      "[download] Destination: C:\\Users\\arwin\\Documents\\dev\\APS360-PROJECT\\data\\billboard_audio\\Pop Smoke Featuring Lil Baby & DaBaby_For The Night\\Pop Smoke Featuring Lil Baby & DaBaby_For The Night.webm\n",
      "[download] 100% of    3.38MiB in 00:00:00 at 16.33MiB/s  \n",
      "[download] Finished downloading playlist: Pop Smoke Featuring Lil Baby & DaBaby For The Night\n",
      "[generic] Extracting URL: Taylor Swift Willow\n",
      "[youtube:search] Extracting URL: ytsearch:Taylor Swift Willow\n",
      "[download] Downloading playlist: Taylor Swift Willow\n",
      "[youtube:search] query \"Taylor Swift Willow\": Downloading web client config\n",
      "[youtube:search] query \"Taylor Swift Willow\" page 1: Downloading API JSON\n",
      "[youtube:search] Playlist Taylor Swift Willow: Downloading 1 items of 1\n",
      "[download] Downloading item 1 of 1\n",
      "[youtube] Extracting URL: https://www.youtube.com/watch?v=RsEZmictANA\n",
      "[youtube] RsEZmictANA: Downloading webpage\n",
      "[youtube] RsEZmictANA: Downloading ios player API JSON\n",
      "[youtube] RsEZmictANA: Downloading android player API JSON\n",
      "[youtube] RsEZmictANA: Downloading m3u8 information\n",
      "[info] RsEZmictANA: Downloading 1 format(s): 251\n",
      "[download] Destination: C:\\Users\\arwin\\Documents\\dev\\APS360-PROJECT\\data\\billboard_audio\\Taylor Swift_Willow\\Taylor Swift_Willow.webm\n",
      "[download] 100% of    4.01MiB in 00:00:00 at 21.21MiB/s  \n",
      "[download] Finished downloading playlist: Taylor Swift Willow\n",
      "[generic] Extracting URL: H_E_R_ Damage\n",
      "[youtube:search] Extracting URL: ytsearch:H_E_R_ Damage\n",
      "[download] Downloading playlist: H_E_R_ Damage\n",
      "[youtube:search] query \"H_E_R_ Damage\": Downloading web client config\n",
      "[youtube:search] query \"H_E_R_ Damage\" page 1: Downloading API JSON\n",
      "[youtube:search] Playlist H_E_R_ Damage: Downloading 1 items of 1\n",
      "[download] Downloading item 1 of 1\n",
      "[youtube] Extracting URL: https://www.youtube.com/watch?v=PAFAfhod9TU\n",
      "[youtube] PAFAfhod9TU: Downloading webpage\n",
      "[youtube] PAFAfhod9TU: Downloading ios player API JSON\n",
      "[youtube] PAFAfhod9TU: Downloading android player API JSON\n",
      "[youtube] PAFAfhod9TU: Downloading m3u8 information\n",
      "[info] PAFAfhod9TU: Downloading 1 format(s): 251\n",
      "[download] Destination: C:\\Users\\arwin\\Documents\\dev\\APS360-PROJECT\\data\\billboard_audio\\H_E_R__Damage\\H_E_R__Damage.webm\n",
      "[download] 100% of    3.70MiB in 00:00:00 at 19.36MiB/s  \n",
      "[download] Finished downloading playlist: H_E_R_ Damage\n",
      "[generic] Extracting URL: Moneybagg Yo Featuring Polo G & Lil Durk Free Promo\n",
      "[youtube:search] Extracting URL: ytsearch:Moneybagg Yo Featuring Polo G & Lil Durk Free Promo\n",
      "[download] Downloading playlist: Moneybagg Yo Featuring Polo G & Lil Durk Free Promo\n",
      "[youtube:search] query \"Moneybagg Yo Featuring Polo G & Lil Durk Free Promo\": Downloading web client config\n",
      "[youtube:search] query \"Moneybagg Yo Featuring Polo G & Lil Durk Free Promo\" page 1: Downloading API JSON\n",
      "[youtube:search] Playlist Moneybagg Yo Featuring Polo G & Lil Durk Free Promo: Downloading 1 items of 1\n",
      "[download] Downloading item 1 of 1\n",
      "[youtube] Extracting URL: https://www.youtube.com/watch?v=nzYDYuwIgr8\n",
      "[youtube] nzYDYuwIgr8: Downloading webpage\n",
      "[youtube] nzYDYuwIgr8: Downloading ios player API JSON\n",
      "[youtube] nzYDYuwIgr8: Downloading android player API JSON\n",
      "[youtube] nzYDYuwIgr8: Downloading m3u8 information\n",
      "[info] nzYDYuwIgr8: Downloading 1 format(s): 251\n",
      "[download] Destination: C:\\Users\\arwin\\Documents\\dev\\APS360-PROJECT\\data\\billboard_audio\\Moneybagg Yo Featuring Polo G & Lil Durk_Free Promo\\Moneybagg Yo Featuring Polo G & Lil Durk_Free Promo.webm\n",
      "[download] 100% of    3.45MiB in 00:00:00 at 17.60MiB/s  \n",
      "[download] Finished downloading playlist: Moneybagg Yo Featuring Polo G & Lil Durk Free Promo\n",
      "[generic] Extracting URL: Moneybagg Yo Just Say Det\n",
      "[youtube:search] Extracting URL: ytsearch:Moneybagg Yo Just Say Det\n",
      "[download] Downloading playlist: Moneybagg Yo Just Say Det\n",
      "[youtube:search] query \"Moneybagg Yo Just Say Det\": Downloading web client config\n",
      "[youtube:search] query \"Moneybagg Yo Just Say Det\" page 1: Downloading API JSON\n",
      "[youtube:search] Playlist Moneybagg Yo Just Say Det: Downloading 1 items of 1\n",
      "[download] Downloading item 1 of 1\n",
      "[youtube] Extracting URL: https://www.youtube.com/watch?v=E2e5QCBOHys\n",
      "[youtube] E2e5QCBOHys: Downloading webpage\n",
      "[youtube] E2e5QCBOHys: Downloading ios player API JSON\n",
      "[youtube] E2e5QCBOHys: Downloading android player API JSON\n"
     ]
    },
    {
     "name": "stderr",
     "output_type": "stream",
     "text": [
      "WARNING: [youtube] YouTube said: ERROR - Precondition check failed.\n",
      "WARNING: [youtube] HTTP Error 400: Bad Request. Retrying (1/3)...\n"
     ]
    },
    {
     "name": "stdout",
     "output_type": "stream",
     "text": [
      "[youtube] E2e5QCBOHys: Downloading android player API JSON\n"
     ]
    },
    {
     "name": "stderr",
     "output_type": "stream",
     "text": [
      "WARNING: [youtube] YouTube said: ERROR - Precondition check failed.\n",
      "WARNING: [youtube] HTTP Error 400: Bad Request. Retrying (2/3)...\n"
     ]
    },
    {
     "name": "stdout",
     "output_type": "stream",
     "text": [
      "[youtube] E2e5QCBOHys: Downloading android player API JSON\n"
     ]
    },
    {
     "name": "stderr",
     "output_type": "stream",
     "text": [
      "WARNING: [youtube] YouTube said: ERROR - Precondition check failed.\n",
      "WARNING: [youtube] HTTP Error 400: Bad Request. Retrying (3/3)...\n"
     ]
    },
    {
     "name": "stdout",
     "output_type": "stream",
     "text": [
      "[youtube] E2e5QCBOHys: Downloading android player API JSON\n"
     ]
    },
    {
     "name": "stderr",
     "output_type": "stream",
     "text": [
      "WARNING: [youtube] YouTube said: ERROR - Precondition check failed.\n",
      "WARNING: [youtube] Unable to download API page: HTTP Error 400: Bad Request (caused by <HTTPError 400: Bad Request>); please report this issue on  https://github.com/yt-dlp/yt-dlp/issues?q= , filling out the appropriate issue template. Confirm you are on the latest version using  yt-dlp -U\n"
     ]
    },
    {
     "name": "stdout",
     "output_type": "stream",
     "text": [
      "[youtube] E2e5QCBOHys: Downloading m3u8 information\n",
      "[info] E2e5QCBOHys: Downloading 1 format(s): 251\n",
      "[download] Destination: C:\\Users\\arwin\\Documents\\dev\\APS360-PROJECT\\data\\billboard_audio\\Moneybagg Yo_Just Say Det\\Moneybagg Yo_Just Say Det.webm\n",
      "[download] 100% of    2.74MiB in 00:00:00 at 3.09MiB/s   \n",
      "[download] Finished downloading playlist: Moneybagg Yo Just Say Det\n",
      "[generic] Extracting URL: Justin Bieber Anyone\n",
      "[youtube:search] Extracting URL: ytsearch:Justin Bieber Anyone\n",
      "[download] Downloading playlist: Justin Bieber Anyone\n",
      "[youtube:search] query \"Justin Bieber Anyone\": Downloading web client config\n",
      "[youtube:search] query \"Justin Bieber Anyone\" page 1: Downloading API JSON\n",
      "[youtube:search] Playlist Justin Bieber Anyone: Downloading 1 items of 1\n",
      "[download] Downloading item 1 of 1\n",
      "[youtube] Extracting URL: https://www.youtube.com/watch?v=KIK3azN4w34\n",
      "[youtube] KIK3azN4w34: Downloading webpage\n",
      "[youtube] KIK3azN4w34: Downloading ios player API JSON\n",
      "[youtube] KIK3azN4w34: Downloading android player API JSON\n"
     ]
    },
    {
     "name": "stderr",
     "output_type": "stream",
     "text": [
      "WARNING: [youtube] YouTube said: ERROR - Precondition check failed.\n",
      "WARNING: [youtube] HTTP Error 400: Bad Request. Retrying (1/3)...\n"
     ]
    },
    {
     "name": "stdout",
     "output_type": "stream",
     "text": [
      "[youtube] KIK3azN4w34: Downloading android player API JSON\n"
     ]
    },
    {
     "name": "stderr",
     "output_type": "stream",
     "text": [
      "WARNING: [youtube] YouTube said: ERROR - Precondition check failed.\n",
      "WARNING: [youtube] HTTP Error 400: Bad Request. Retrying (2/3)...\n"
     ]
    },
    {
     "name": "stdout",
     "output_type": "stream",
     "text": [
      "[youtube] KIK3azN4w34: Downloading android player API JSON\n"
     ]
    },
    {
     "name": "stderr",
     "output_type": "stream",
     "text": [
      "WARNING: [youtube] YouTube said: ERROR - Precondition check failed.\n",
      "WARNING: [youtube] HTTP Error 400: Bad Request. Retrying (3/3)...\n"
     ]
    },
    {
     "name": "stdout",
     "output_type": "stream",
     "text": [
      "[youtube] KIK3azN4w34: Downloading android player API JSON\n"
     ]
    },
    {
     "name": "stderr",
     "output_type": "stream",
     "text": [
      "WARNING: [youtube] YouTube said: ERROR - Precondition check failed.\n",
      "WARNING: [youtube] Unable to download API page: HTTP Error 400: Bad Request (caused by <HTTPError 400: Bad Request>); please report this issue on  https://github.com/yt-dlp/yt-dlp/issues?q= , filling out the appropriate issue template. Confirm you are on the latest version using  yt-dlp -U\n"
     ]
    },
    {
     "name": "stdout",
     "output_type": "stream",
     "text": [
      "[youtube] KIK3azN4w34: Downloading m3u8 information\n",
      "[info] KIK3azN4w34: Downloading 1 format(s): 251\n",
      "[download] Destination: C:\\Users\\arwin\\Documents\\dev\\APS360-PROJECT\\data\\billboard_audio\\Justin Bieber_Anyone\\Justin Bieber_Anyone.webm\n",
      "[download] 100% of    4.20MiB in 00:00:00 at 21.09MiB/s    \n",
      "[download] Finished downloading playlist: Justin Bieber Anyone\n",
      "[generic] Extracting URL: Ava Max My Head And My Heart\n",
      "[youtube:search] Extracting URL: ytsearch:Ava Max My Head And My Heart\n",
      "[download] Downloading playlist: Ava Max My Head And My Heart\n",
      "[youtube:search] query \"Ava Max My Head And My Heart\": Downloading web client config\n",
      "[youtube:search] query \"Ava Max My Head And My Heart\" page 1: Downloading API JSON\n",
      "[youtube:search] Playlist Ava Max My Head And My Heart: Downloading 1 items of 1\n",
      "[download] Downloading item 1 of 1\n",
      "[youtube] Extracting URL: https://www.youtube.com/watch?v=w8mBplMtwJ8\n",
      "[youtube] w8mBplMtwJ8: Downloading webpage\n",
      "[youtube] w8mBplMtwJ8: Downloading ios player API JSON\n",
      "[youtube] w8mBplMtwJ8: Downloading android player API JSON\n"
     ]
    },
    {
     "name": "stderr",
     "output_type": "stream",
     "text": [
      "WARNING: [youtube] YouTube said: ERROR - Precondition check failed.\n",
      "WARNING: [youtube] HTTP Error 400: Bad Request. Retrying (1/3)...\n"
     ]
    },
    {
     "name": "stdout",
     "output_type": "stream",
     "text": [
      "[youtube] w8mBplMtwJ8: Downloading android player API JSON\n"
     ]
    },
    {
     "name": "stderr",
     "output_type": "stream",
     "text": [
      "WARNING: [youtube] YouTube said: ERROR - Precondition check failed.\n",
      "WARNING: [youtube] HTTP Error 400: Bad Request. Retrying (2/3)...\n"
     ]
    },
    {
     "name": "stdout",
     "output_type": "stream",
     "text": [
      "[youtube] w8mBplMtwJ8: Downloading android player API JSON\n"
     ]
    },
    {
     "name": "stderr",
     "output_type": "stream",
     "text": [
      "WARNING: [youtube] YouTube said: ERROR - Precondition check failed.\n",
      "WARNING: [youtube] HTTP Error 400: Bad Request. Retrying (3/3)...\n"
     ]
    },
    {
     "name": "stdout",
     "output_type": "stream",
     "text": [
      "[youtube] w8mBplMtwJ8: Downloading android player API JSON\n"
     ]
    },
    {
     "name": "stderr",
     "output_type": "stream",
     "text": [
      "WARNING: [youtube] YouTube said: ERROR - Precondition check failed.\n",
      "WARNING: [youtube] Unable to download API page: HTTP Error 400: Bad Request (caused by <HTTPError 400: Bad Request>); please report this issue on  https://github.com/yt-dlp/yt-dlp/issues?q= , filling out the appropriate issue template. Confirm you are on the latest version using  yt-dlp -U\n"
     ]
    },
    {
     "name": "stdout",
     "output_type": "stream",
     "text": [
      "[youtube] w8mBplMtwJ8: Downloading m3u8 information\n",
      "[info] w8mBplMtwJ8: Downloading 1 format(s): 251\n",
      "[download] Destination: C:\\Users\\arwin\\Documents\\dev\\APS360-PROJECT\\data\\billboard_audio\\Ava Max_My Head And My Heart\\Ava Max_My Head And My Heart.webm\n",
      "[download] 100% of    2.77MiB in 00:00:00 at 18.53MiB/s  \n",
      "[download] Finished downloading playlist: Ava Max My Head And My Heart\n",
      "[generic] Extracting URL: Rascal Flatts How They Remember You\n",
      "[youtube:search] Extracting URL: ytsearch:Rascal Flatts How They Remember You\n",
      "[download] Downloading playlist: Rascal Flatts How They Remember You\n",
      "[youtube:search] query \"Rascal Flatts How They Remember You\": Downloading web client config\n",
      "[youtube:search] query \"Rascal Flatts How They Remember You\" page 1: Downloading API JSON\n",
      "[youtube:search] Playlist Rascal Flatts How They Remember You: Downloading 1 items of 1\n",
      "[download] Downloading item 1 of 1\n",
      "[youtube] Extracting URL: https://www.youtube.com/watch?v=_zi3CkmEAnc\n",
      "[youtube] _zi3CkmEAnc: Downloading webpage\n",
      "[youtube] _zi3CkmEAnc: Downloading ios player API JSON\n",
      "[youtube] _zi3CkmEAnc: Downloading android player API JSON\n",
      "[youtube] _zi3CkmEAnc: Downloading m3u8 information\n",
      "[info] _zi3CkmEAnc: Downloading 1 format(s): 251\n",
      "[download] Destination: C:\\Users\\arwin\\Documents\\dev\\APS360-PROJECT\\data\\billboard_audio\\Rascal Flatts_How They Remember You\\Rascal Flatts_How They Remember You.webm\n",
      "[download] 100% of    3.31MiB in 00:00:00 at 18.68MiB/s  \n",
      "[download] Finished downloading playlist: Rascal Flatts How They Remember You\n",
      "[generic] Extracting URL: DaBaby Masterpiece\n",
      "[youtube:search] Extracting URL: ytsearch:DaBaby Masterpiece\n",
      "[download] Downloading playlist: DaBaby Masterpiece\n",
      "[youtube:search] query \"DaBaby Masterpiece\": Downloading web client config\n",
      "[youtube:search] query \"DaBaby Masterpiece\" page 1: Downloading API JSON\n",
      "[youtube:search] Playlist DaBaby Masterpiece: Downloading 1 items of 1\n",
      "[download] Downloading item 1 of 1\n",
      "[youtube] Extracting URL: https://www.youtube.com/watch?v=pnMtmFzMLP4\n",
      "[youtube] pnMtmFzMLP4: Downloading webpage\n",
      "[youtube] pnMtmFzMLP4: Downloading ios player API JSON\n",
      "[youtube] pnMtmFzMLP4: Downloading android player API JSON\n"
     ]
    },
    {
     "name": "stderr",
     "output_type": "stream",
     "text": [
      "WARNING: [youtube] YouTube said: ERROR - Precondition check failed.\n",
      "WARNING: [youtube] HTTP Error 400: Bad Request. Retrying (1/3)...\n"
     ]
    },
    {
     "name": "stdout",
     "output_type": "stream",
     "text": [
      "[youtube] pnMtmFzMLP4: Downloading android player API JSON\n"
     ]
    },
    {
     "name": "stderr",
     "output_type": "stream",
     "text": [
      "WARNING: [youtube] YouTube said: ERROR - Precondition check failed.\n",
      "WARNING: [youtube] HTTP Error 400: Bad Request. Retrying (2/3)...\n"
     ]
    },
    {
     "name": "stdout",
     "output_type": "stream",
     "text": [
      "[youtube] pnMtmFzMLP4: Downloading android player API JSON\n",
      "[youtube] pnMtmFzMLP4: Downloading m3u8 information\n",
      "[info] pnMtmFzMLP4: Downloading 1 format(s): 251\n",
      "[download] Destination: C:\\Users\\arwin\\Documents\\dev\\APS360-PROJECT\\data\\billboard_audio\\DaBaby_Masterpiece\\DaBaby_Masterpiece.webm\n",
      "[download] 100% of    3.58MiB in 00:00:00 at 14.21MiB/s  \n",
      "[download] Finished downloading playlist: DaBaby Masterpiece\n",
      "[generic] Extracting URL: Florida Georgia Line Long Live\n",
      "[youtube:search] Extracting URL: ytsearch:Florida Georgia Line Long Live\n",
      "[download] Downloading playlist: Florida Georgia Line Long Live\n",
      "[youtube:search] query \"Florida Georgia Line Long Live\": Downloading web client config\n",
      "[youtube:search] query \"Florida Georgia Line Long Live\" page 1: Downloading API JSON\n",
      "[youtube:search] Playlist Florida Georgia Line Long Live: Downloading 1 items of 1\n",
      "[download] Downloading item 1 of 1\n",
      "[youtube] Extracting URL: https://www.youtube.com/watch?v=J1glRjDruo0\n",
      "[youtube] J1glRjDruo0: Downloading webpage\n",
      "[youtube] J1glRjDruo0: Downloading ios player API JSON\n",
      "[youtube] J1glRjDruo0: Downloading android player API JSON\n"
     ]
    },
    {
     "name": "stderr",
     "output_type": "stream",
     "text": [
      "WARNING: [youtube] YouTube said: ERROR - Precondition check failed.\n",
      "WARNING: [youtube] HTTP Error 400: Bad Request. Retrying (1/3)...\n"
     ]
    },
    {
     "name": "stdout",
     "output_type": "stream",
     "text": [
      "[youtube] J1glRjDruo0: Downloading android player API JSON\n"
     ]
    },
    {
     "name": "stderr",
     "output_type": "stream",
     "text": [
      "WARNING: [youtube] YouTube said: ERROR - Precondition check failed.\n",
      "WARNING: [youtube] HTTP Error 400: Bad Request. Retrying (2/3)...\n"
     ]
    },
    {
     "name": "stdout",
     "output_type": "stream",
     "text": [
      "[youtube] J1glRjDruo0: Downloading android player API JSON\n"
     ]
    },
    {
     "name": "stderr",
     "output_type": "stream",
     "text": [
      "WARNING: [youtube] YouTube said: ERROR - Precondition check failed.\n",
      "WARNING: [youtube] HTTP Error 400: Bad Request. Retrying (3/3)...\n"
     ]
    },
    {
     "name": "stdout",
     "output_type": "stream",
     "text": [
      "[youtube] J1glRjDruo0: Downloading android player API JSON\n",
      "[youtube] J1glRjDruo0: Downloading m3u8 information\n",
      "[info] J1glRjDruo0: Downloading 1 format(s): 251\n",
      "[download] Destination: C:\\Users\\arwin\\Documents\\dev\\APS360-PROJECT\\data\\billboard_audio\\Florida Georgia Line_Long Live\\Florida Georgia Line_Long Live.webm\n",
      "[download] 100% of    2.48MiB in 00:00:00 at 12.57MiB/s  \n",
      "[download] Finished downloading playlist: Florida Georgia Line Long Live\n",
      "[generic] Extracting URL: Moneybagg Yo Clear Da Air\n",
      "[youtube:search] Extracting URL: ytsearch:Moneybagg Yo Clear Da Air\n",
      "[download] Downloading playlist: Moneybagg Yo Clear Da Air\n",
      "[youtube:search] query \"Moneybagg Yo Clear Da Air\": Downloading web client config\n",
      "[youtube:search] query \"Moneybagg Yo Clear Da Air\" page 1: Downloading API JSON\n",
      "[youtube:search] Playlist Moneybagg Yo Clear Da Air: Downloading 1 items of 1\n",
      "[download] Downloading item 1 of 1\n",
      "[youtube] Extracting URL: https://www.youtube.com/watch?v=PbbUfsbghtg\n",
      "[youtube] PbbUfsbghtg: Downloading webpage\n",
      "[youtube] PbbUfsbghtg: Downloading ios player API JSON\n",
      "[youtube] PbbUfsbghtg: Downloading android player API JSON\n",
      "[youtube] PbbUfsbghtg: Downloading m3u8 information\n",
      "[info] PbbUfsbghtg: Downloading 1 format(s): 251\n",
      "[download] Destination: C:\\Users\\arwin\\Documents\\dev\\APS360-PROJECT\\data\\billboard_audio\\Moneybagg Yo_Clear Da Air\\Moneybagg Yo_Clear Da Air.webm\n",
      "[download] 100% of    3.37MiB in 00:00:00 at 14.06MiB/s  \n",
      "[download] Finished downloading playlist: Moneybagg Yo Clear Da Air\n",
      "[generic] Extracting URL: Chris Stapleton Starting Over\n",
      "[youtube:search] Extracting URL: ytsearch:Chris Stapleton Starting Over\n",
      "[download] Downloading playlist: Chris Stapleton Starting Over\n",
      "[youtube:search] query \"Chris Stapleton Starting Over\": Downloading web client config\n",
      "[youtube:search] query \"Chris Stapleton Starting Over\" page 1: Downloading API JSON\n",
      "[youtube:search] Playlist Chris Stapleton Starting Over: Downloading 1 items of 1\n",
      "[download] Downloading item 1 of 1\n",
      "[youtube] Extracting URL: https://www.youtube.com/watch?v=A3svABDnmio\n",
      "[youtube] A3svABDnmio: Downloading webpage\n",
      "[youtube] A3svABDnmio: Downloading ios player API JSON\n",
      "[youtube] A3svABDnmio: Downloading android player API JSON\n"
     ]
    },
    {
     "name": "stderr",
     "output_type": "stream",
     "text": [
      "WARNING: [youtube] YouTube said: ERROR - Precondition check failed.\n",
      "WARNING: [youtube] HTTP Error 400: Bad Request. Retrying (1/3)...\n"
     ]
    },
    {
     "name": "stdout",
     "output_type": "stream",
     "text": [
      "[youtube] A3svABDnmio: Downloading android player API JSON\n"
     ]
    },
    {
     "name": "stderr",
     "output_type": "stream",
     "text": [
      "WARNING: [youtube] YouTube said: ERROR - Precondition check failed.\n",
      "WARNING: [youtube] HTTP Error 400: Bad Request. Retrying (2/3)...\n"
     ]
    },
    {
     "name": "stdout",
     "output_type": "stream",
     "text": [
      "[youtube] A3svABDnmio: Downloading android player API JSON\n",
      "[youtube] A3svABDnmio: Downloading m3u8 information\n",
      "[info] A3svABDnmio: Downloading 1 format(s): 251\n",
      "[download] Destination: C:\\Users\\arwin\\Documents\\dev\\APS360-PROJECT\\data\\billboard_audio\\Chris Stapleton_Starting Over\\Chris Stapleton_Starting Over.webm\n",
      "[download] 100% of    3.92MiB in 00:00:00 at 18.22MiB/s    \n",
      "[download] Finished downloading playlist: Chris Stapleton Starting Over\n",
      "[generic] Extracting URL: Young Thug & Gunna Featuring Travis Scott Diamonds Dancing\n",
      "[youtube:search] Extracting URL: ytsearch:Young Thug & Gunna Featuring Travis Scott Diamonds Dancing\n",
      "[download] Downloading playlist: Young Thug & Gunna Featuring Travis Scott Diamonds Dancing\n",
      "[youtube:search] query \"Young Thug & Gunna Featuring Travis Scott Diamonds Dancing\": Downloading web client config\n",
      "[youtube:search] query \"Young Thug & Gunna Featuring Travis Scott Diamonds Dancing\" page 1: Downloading API JSON\n",
      "[youtube:search] Playlist Young Thug & Gunna Featuring Travis Scott Diamonds Dancing: Downloading 1 items of 1\n",
      "[download] Downloading item 1 of 1\n",
      "[youtube] Extracting URL: https://www.youtube.com/watch?v=xuqqyiuJicI\n",
      "[youtube] xuqqyiuJicI: Downloading webpage\n",
      "[youtube] xuqqyiuJicI: Downloading ios player API JSON\n",
      "[youtube] xuqqyiuJicI: Downloading android player API JSON\n",
      "[youtube] xuqqyiuJicI: Downloading m3u8 information\n",
      "[info] xuqqyiuJicI: Downloading 1 format(s): 251\n",
      "[download] Destination: C:\\Users\\arwin\\Documents\\dev\\APS360-PROJECT\\data\\billboard_audio\\Young Thug & Gunna Featuring Travis Scott_Diamonds Dancing\\Young Thug & Gunna Featuring Travis Scott_Diamonds Dancing.webm\n",
      "[download] 100% of    3.89MiB in 00:00:00 at 16.61MiB/s  \n",
      "[download] Finished downloading playlist: Young Thug & Gunna Featuring Travis Scott Diamonds Dancing\n",
      "[generic] Extracting URL: Megan Thee Stallion Featuring DaBaby Cry Baby\n",
      "[youtube:search] Extracting URL: ytsearch:Megan Thee Stallion Featuring DaBaby Cry Baby\n",
      "[download] Downloading playlist: Megan Thee Stallion Featuring DaBaby Cry Baby\n",
      "[youtube:search] query \"Megan Thee Stallion Featuring DaBaby Cry Baby\": Downloading web client config\n",
      "[youtube:search] query \"Megan Thee Stallion Featuring DaBaby Cry Baby\" page 1: Downloading API JSON\n",
      "[youtube:search] Playlist Megan Thee Stallion Featuring DaBaby Cry Baby: Downloading 1 items of 1\n",
      "[download] Downloading item 1 of 1\n",
      "[youtube] Extracting URL: https://www.youtube.com/watch?v=AqaQsL-8I_M\n",
      "[youtube] AqaQsL-8I_M: Downloading webpage\n",
      "[youtube] AqaQsL-8I_M: Downloading ios player API JSON\n",
      "[youtube] AqaQsL-8I_M: Downloading android player API JSON\n",
      "[youtube] AqaQsL-8I_M: Downloading m3u8 information\n",
      "[info] AqaQsL-8I_M: Downloading 1 format(s): 251\n",
      "[download] Destination: C:\\Users\\arwin\\Documents\\dev\\APS360-PROJECT\\data\\billboard_audio\\Megan Thee Stallion Featuring DaBaby_Cry Baby\\Megan Thee Stallion Featuring DaBaby_Cry Baby.webm\n",
      "[download] 100% of    2.96MiB in 00:00:00 at 16.10MiB/s  \n",
      "[download] Finished downloading playlist: Megan Thee Stallion Featuring DaBaby Cry Baby\n",
      "[generic] Extracting URL: Young Thug Featuring Lil Uzi Vert & Yung Kayo Proud Of You\n",
      "[youtube:search] Extracting URL: ytsearch:Young Thug Featuring Lil Uzi Vert & Yung Kayo Proud Of You\n",
      "[download] Downloading playlist: Young Thug Featuring Lil Uzi Vert & Yung Kayo Proud Of You\n",
      "[youtube:search] query \"Young Thug Featuring Lil Uzi Vert & Yung Kayo Proud Of You\": Downloading web client config\n",
      "[youtube:search] query \"Young Thug Featuring Lil Uzi Vert & Yung Kayo Proud Of You\" page 1: Downloading API JSON\n",
      "[youtube:search] Playlist Young Thug Featuring Lil Uzi Vert & Yung Kayo Proud Of You: Downloading 1 items of 1\n",
      "[download] Downloading item 1 of 1\n",
      "[youtube] Extracting URL: https://www.youtube.com/watch?v=0g1Hs84qMiA\n",
      "[youtube] 0g1Hs84qMiA: Downloading webpage\n",
      "[youtube] 0g1Hs84qMiA: Downloading ios player API JSON\n",
      "[youtube] 0g1Hs84qMiA: Downloading android player API JSON\n"
     ]
    },
    {
     "name": "stderr",
     "output_type": "stream",
     "text": [
      "WARNING: [youtube] YouTube said: ERROR - Precondition check failed.\n",
      "WARNING: [youtube] HTTP Error 400: Bad Request. Retrying (1/3)...\n"
     ]
    },
    {
     "name": "stdout",
     "output_type": "stream",
     "text": [
      "[youtube] 0g1Hs84qMiA: Downloading android player API JSON\n",
      "[youtube] 0g1Hs84qMiA: Downloading m3u8 information\n",
      "[info] 0g1Hs84qMiA: Downloading 1 format(s): 251\n",
      "[download] Destination: C:\\Users\\arwin\\Documents\\dev\\APS360-PROJECT\\data\\billboard_audio\\Young Thug Featuring Lil Uzi Vert & Yung Kayo_Proud Of You\\Young Thug Featuring Lil Uzi Vert & Yung Kayo_Proud Of You.webm\n",
      "[download] 100% of    3.57MiB in 00:00:00 at 11.14MiB/s  \n",
      "[download] Finished downloading playlist: Young Thug Featuring Lil Uzi Vert & Yung Kayo Proud Of You\n",
      "[generic] Extracting URL: Young Thug Featuring Rowdy Rebel Came And Saw\n",
      "[youtube:search] Extracting URL: ytsearch:Young Thug Featuring Rowdy Rebel Came And Saw\n",
      "[download] Downloading playlist: Young Thug Featuring Rowdy Rebel Came And Saw\n",
      "[youtube:search] query \"Young Thug Featuring Rowdy Rebel Came And Saw\": Downloading web client config\n",
      "[youtube:search] query \"Young Thug Featuring Rowdy Rebel Came And Saw\" page 1: Downloading API JSON\n",
      "[youtube:search] Playlist Young Thug Featuring Rowdy Rebel Came And Saw: Downloading 1 items of 1\n",
      "[download] Downloading item 1 of 1\n",
      "[youtube] Extracting URL: https://www.youtube.com/watch?v=1njYZUtdqtw\n",
      "[youtube] 1njYZUtdqtw: Downloading webpage\n",
      "[youtube] 1njYZUtdqtw: Downloading ios player API JSON\n",
      "[youtube] 1njYZUtdqtw: Downloading android player API JSON\n"
     ]
    },
    {
     "name": "stderr",
     "output_type": "stream",
     "text": [
      "WARNING: [youtube] YouTube said: ERROR - Precondition check failed.\n",
      "WARNING: [youtube] HTTP Error 400: Bad Request. Retrying (1/3)...\n"
     ]
    },
    {
     "name": "stdout",
     "output_type": "stream",
     "text": [
      "[youtube] 1njYZUtdqtw: Downloading android player API JSON\n",
      "[youtube] 1njYZUtdqtw: Downloading m3u8 information\n",
      "[info] 1njYZUtdqtw: Downloading 1 format(s): 251\n",
      "[download] Destination: C:\\Users\\arwin\\Documents\\dev\\APS360-PROJECT\\data\\billboard_audio\\Young Thug Featuring Rowdy Rebel_Came And Saw\\Young Thug Featuring Rowdy Rebel_Came And Saw.webm\n",
      "[download] 100% of    2.79MiB in 00:00:00 at 17.53MiB/s  \n",
      "[download] Finished downloading playlist: Young Thug Featuring Rowdy Rebel Came And Saw\n",
      "[generic] Extracting URL: Young Thug & Gunna Featuring Lil Baby & YTB Trench Paid The Fine\n",
      "[youtube:search] Extracting URL: ytsearch:Young Thug & Gunna Featuring Lil Baby & YTB Trench Paid The Fine\n",
      "[download] Downloading playlist: Young Thug & Gunna Featuring Lil Baby & YTB Trench Paid The Fine\n",
      "[youtube:search] query \"Young Thug & Gunna Featuring Lil Baby & YTB Trench Paid The Fine\": Downloading web client config\n",
      "[youtube:search] query \"Young Thug & Gunna Featuring Lil Baby & YTB Trench Paid The Fine\" page 1: Downloading API JSON\n",
      "[youtube:search] Playlist Young Thug & Gunna Featuring Lil Baby & YTB Trench Paid The Fine: Downloading 1 items of 1\n",
      "[download] Downloading item 1 of 1\n",
      "[youtube] Extracting URL: https://www.youtube.com/watch?v=vRICHbpHJnE\n",
      "[youtube] vRICHbpHJnE: Downloading webpage\n",
      "[youtube] vRICHbpHJnE: Downloading ios player API JSON\n",
      "[youtube] vRICHbpHJnE: Downloading android player API JSON\n",
      "[youtube] vRICHbpHJnE: Downloading m3u8 information\n",
      "[info] vRICHbpHJnE: Downloading 1 format(s): 251\n",
      "[download] Destination: C:\\Users\\arwin\\Documents\\dev\\APS360-PROJECT\\data\\billboard_audio\\Young Thug & Gunna Featuring Lil Baby & YTB Trench_Paid The Fine\\Young Thug & Gunna Featuring Lil Baby & YTB Trench_Paid The Fine.webm\n",
      "[download] 100% of    4.65MiB in 00:00:00 at 15.24MiB/s  \n",
      "[download] Finished downloading playlist: Young Thug & Gunna Featuring Lil Baby & YTB Trench Paid The Fine\n",
      "[generic] Extracting URL: Dustin Lynch Momma's House\n",
      "[youtube:search] Extracting URL: ytsearch:Dustin Lynch Momma's House\n",
      "[download] Downloading playlist: Dustin Lynch Momma's House\n",
      "[youtube:search] query \"Dustin Lynch Momma's House\": Downloading web client config\n",
      "[youtube:search] query \"Dustin Lynch Momma's House\" page 1: Downloading API JSON\n",
      "[youtube:search] Playlist Dustin Lynch Momma's House: Downloading 1 items of 1\n",
      "[download] Downloading item 1 of 1\n",
      "[youtube] Extracting URL: https://www.youtube.com/watch?v=noTahf1EsGU\n",
      "[youtube] noTahf1EsGU: Downloading webpage\n",
      "[youtube] noTahf1EsGU: Downloading ios player API JSON\n",
      "[youtube] noTahf1EsGU: Downloading android player API JSON\n"
     ]
    },
    {
     "name": "stderr",
     "output_type": "stream",
     "text": [
      "WARNING: [youtube] YouTube said: ERROR - Precondition check failed.\n",
      "WARNING: [youtube] HTTP Error 400: Bad Request. Retrying (1/3)...\n"
     ]
    },
    {
     "name": "stdout",
     "output_type": "stream",
     "text": [
      "[youtube] noTahf1EsGU: Downloading android player API JSON\n"
     ]
    },
    {
     "name": "stderr",
     "output_type": "stream",
     "text": [
      "WARNING: [youtube] YouTube said: ERROR - Precondition check failed.\n",
      "WARNING: [youtube] HTTP Error 400: Bad Request. Retrying (2/3)...\n"
     ]
    },
    {
     "name": "stdout",
     "output_type": "stream",
     "text": [
      "[youtube] noTahf1EsGU: Downloading android player API JSON\n",
      "[youtube] noTahf1EsGU: Downloading m3u8 information\n",
      "[info] noTahf1EsGU: Downloading 1 format(s): 251\n",
      "[download] Destination: C:\\Users\\arwin\\Documents\\dev\\APS360-PROJECT\\data\\billboard_audio\\Dustin Lynch_Momma's House\\Dustin Lynch_Momma's House.webm\n",
      "[download] 100% of    3.55MiB in 00:00:00 at 14.72MiB/s    \n",
      "[download] Finished downloading playlist: Dustin Lynch Momma's House\n",
      "[generic] Extracting URL: Taylor Swift Mr_ Perfectly Fine (Taylor's Version) (From The Vault)\n",
      "[youtube:search] Extracting URL: ytsearch:Taylor Swift Mr_ Perfectly Fine (Taylor's Version) (From The Vault)\n",
      "[download] Downloading playlist: Taylor Swift Mr_ Perfectly Fine (Taylor's Version) (From The Vault)\n",
      "[youtube:search] query \"Taylor Swift Mr_ Perfectly Fine (Taylor's Version) (From The Vault)\": Downloading web client config\n",
      "[youtube:search] query \"Taylor Swift Mr_ Perfectly Fine (Taylor's Version) (From The Vault)\" page 1: Downloading API JSON\n",
      "[youtube:search] Playlist Taylor Swift Mr_ Perfectly Fine (Taylor's Version) (From The Vault): Downloading 1 items of 1\n",
      "[download] Downloading item 1 of 1\n",
      "[youtube] Extracting URL: https://www.youtube.com/watch?v=rFjJs6ZjPe8\n",
      "[youtube] rFjJs6ZjPe8: Downloading webpage\n",
      "[youtube] rFjJs6ZjPe8: Downloading ios player API JSON\n",
      "[youtube] rFjJs6ZjPe8: Downloading android player API JSON\n"
     ]
    },
    {
     "name": "stderr",
     "output_type": "stream",
     "text": [
      "WARNING: [youtube] YouTube said: ERROR - Precondition check failed.\n",
      "WARNING: [youtube] HTTP Error 400: Bad Request. Retrying (1/3)...\n"
     ]
    },
    {
     "name": "stdout",
     "output_type": "stream",
     "text": [
      "[youtube] rFjJs6ZjPe8: Downloading android player API JSON\n",
      "[youtube] rFjJs6ZjPe8: Downloading m3u8 information\n",
      "[info] rFjJs6ZjPe8: Downloading 1 format(s): 251\n",
      "[download] Destination: C:\\Users\\arwin\\Documents\\dev\\APS360-PROJECT\\data\\billboard_audio\\Taylor Swift_Mr_ Perfectly Fine (Taylor's Version) (From The Vault)\\Taylor Swift_Mr_ Perfectly Fine (Taylor's Version) (From The Vault).webm\n",
      "[download] 100% of    4.55MiB in 00:00:00 at 19.49MiB/s    \n",
      "[download] Finished downloading playlist: Taylor Swift Mr_ Perfectly Fine (Taylor's Version) (From The Vault)\n",
      "[generic] Extracting URL: Lil Tjay Featuring Offset & Moneybagg Yo Run It Up\n",
      "[youtube:search] Extracting URL: ytsearch:Lil Tjay Featuring Offset & Moneybagg Yo Run It Up\n",
      "[download] Downloading playlist: Lil Tjay Featuring Offset & Moneybagg Yo Run It Up\n",
      "[youtube:search] query \"Lil Tjay Featuring Offset & Moneybagg Yo Run It Up\": Downloading web client config\n",
      "[youtube:search] query \"Lil Tjay Featuring Offset & Moneybagg Yo Run It Up\" page 1: Downloading API JSON\n",
      "[youtube:search] Playlist Lil Tjay Featuring Offset & Moneybagg Yo Run It Up: Downloading 1 items of 1\n",
      "[download] Downloading item 1 of 1\n",
      "[youtube] Extracting URL: https://www.youtube.com/watch?v=ruHF-BlO-tU\n",
      "[youtube] ruHF-BlO-tU: Downloading webpage\n",
      "[youtube] ruHF-BlO-tU: Downloading ios player API JSON\n",
      "[youtube] ruHF-BlO-tU: Downloading android player API JSON\n",
      "[youtube] ruHF-BlO-tU: Downloading m3u8 information\n",
      "[info] ruHF-BlO-tU: Downloading 1 format(s): 251\n",
      "[download] Destination: C:\\Users\\arwin\\Documents\\dev\\APS360-PROJECT\\data\\billboard_audio\\Lil Tjay Featuring Offset & Moneybagg Yo_Run It Up\\Lil Tjay Featuring Offset & Moneybagg Yo_Run It Up.webm\n",
      "[download] 100% of    4.29MiB in 00:00:00 at 22.31MiB/s  \n",
      "[download] Finished downloading playlist: Lil Tjay Featuring Offset & Moneybagg Yo Run It Up\n",
      "[generic] Extracting URL: VEDO You Got It\n",
      "[youtube:search] Extracting URL: ytsearch:VEDO You Got It\n",
      "[download] Downloading playlist: VEDO You Got It\n",
      "[youtube:search] query \"VEDO You Got It\": Downloading web client config\n",
      "[youtube:search] query \"VEDO You Got It\" page 1: Downloading API JSON\n",
      "[youtube:search] Playlist VEDO You Got It: Downloading 1 items of 1\n",
      "[download] Downloading item 1 of 1\n",
      "[youtube] Extracting URL: https://www.youtube.com/watch?v=BKJDpuUfXxA\n",
      "[youtube] BKJDpuUfXxA: Downloading webpage\n",
      "[youtube] BKJDpuUfXxA: Downloading ios player API JSON\n",
      "[youtube] BKJDpuUfXxA: Downloading android player API JSON\n",
      "[youtube] BKJDpuUfXxA: Downloading m3u8 information\n",
      "[info] BKJDpuUfXxA: Downloading 1 format(s): 251\n",
      "[download] Destination: C:\\Users\\arwin\\Documents\\dev\\APS360-PROJECT\\data\\billboard_audio\\VEDO_You Got It\\VEDO_You Got It.webm\n",
      "[download] 100% of    3.60MiB in 00:00:00 at 9.59MiB/s   \n",
      "[download] Finished downloading playlist: VEDO You Got It\n",
      "[generic] Extracting URL: All Time Low Featuring Demi Lovato & blackbear  Monsters\n",
      "[youtube:search] Extracting URL: ytsearch:All Time Low Featuring Demi Lovato & blackbear  Monsters\n",
      "[download] Downloading playlist: All Time Low Featuring Demi Lovato & blackbear  Monsters\n",
      "[youtube:search] query \"All Time Low Featuring Demi Lovato & blackbear  Monsters\": Downloading web client config\n",
      "[youtube:search] query \"All Time Low Featuring Demi Lovato & blackbear  Monsters\" page 1: Downloading API JSON\n",
      "[youtube:search] Playlist All Time Low Featuring Demi Lovato & blackbear  Monsters: Downloading 1 items of 1\n",
      "[download] Downloading item 1 of 1\n",
      "[youtube] Extracting URL: https://www.youtube.com/watch?v=NlnwXIigAAs\n",
      "[youtube] NlnwXIigAAs: Downloading webpage\n",
      "[youtube] NlnwXIigAAs: Downloading ios player API JSON\n",
      "[youtube] NlnwXIigAAs: Downloading android player API JSON\n",
      "[youtube] NlnwXIigAAs: Downloading m3u8 information\n",
      "[info] NlnwXIigAAs: Downloading 1 format(s): 251\n",
      "[download] Destination: C:\\Users\\arwin\\Documents\\dev\\APS360-PROJECT\\data\\billboard_audio\\All Time Low Featuring Demi Lovato & blackbear _Monsters\\All Time Low Featuring Demi Lovato & blackbear _Monsters.webm\n",
      "[download] 100% of    2.80MiB in 00:00:00 at 11.23MiB/s  \n",
      "[download] Finished downloading playlist: All Time Low Featuring Demi Lovato & blackbear  Monsters\n",
      "[generic] Extracting URL: Young Thug & Gunna Featuring Yak Gotti & Lil Duke Slatty\n",
      "[youtube:search] Extracting URL: ytsearch:Young Thug & Gunna Featuring Yak Gotti & Lil Duke Slatty\n",
      "[download] Downloading playlist: Young Thug & Gunna Featuring Yak Gotti & Lil Duke Slatty\n",
      "[youtube:search] query \"Young Thug & Gunna Featuring Yak Gotti & Lil Duke Slatty\": Downloading web client config\n",
      "[youtube:search] query \"Young Thug & Gunna Featuring Yak Gotti & Lil Duke Slatty\" page 1: Downloading API JSON\n",
      "[youtube:search] Playlist Young Thug & Gunna Featuring Yak Gotti & Lil Duke Slatty: Downloading 1 items of 1\n",
      "[download] Downloading item 1 of 1\n",
      "[youtube] Extracting URL: https://www.youtube.com/watch?v=ccAJ0-_cGO0\n",
      "[youtube] ccAJ0-_cGO0: Downloading webpage\n",
      "[youtube] ccAJ0-_cGO0: Downloading ios player API JSON\n",
      "[youtube] ccAJ0-_cGO0: Downloading android player API JSON\n",
      "[youtube] ccAJ0-_cGO0: Downloading m3u8 information\n",
      "[info] ccAJ0-_cGO0: Downloading 1 format(s): 251\n",
      "[download] Destination: C:\\Users\\arwin\\Documents\\dev\\APS360-PROJECT\\data\\billboard_audio\\Young Thug & Gunna Featuring Yak Gotti & Lil Duke_Slatty\\Young Thug & Gunna Featuring Yak Gotti & Lil Duke_Slatty.webm\n",
      "[download] 100% of    4.53MiB in 00:00:00 at 11.63MiB/s  \n",
      "[download] Finished downloading playlist: Young Thug & Gunna Featuring Yak Gotti & Lil Duke Slatty\n",
      "[generic] Extracting URL: DMX Ruff Ryders' Anthem\n",
      "[youtube:search] Extracting URL: ytsearch:DMX Ruff Ryders' Anthem\n",
      "[download] Downloading playlist: DMX Ruff Ryders' Anthem\n",
      "[youtube:search] query \"DMX Ruff Ryders' Anthem\": Downloading web client config\n",
      "[youtube:search] query \"DMX Ruff Ryders' Anthem\" page 1: Downloading API JSON\n",
      "[youtube:search] Playlist DMX Ruff Ryders' Anthem: Downloading 1 items of 1\n",
      "[download] Downloading item 1 of 1\n",
      "[youtube] Extracting URL: https://www.youtube.com/watch?v=ThlhSnRk21E\n",
      "[youtube] ThlhSnRk21E: Downloading webpage\n",
      "[youtube] ThlhSnRk21E: Downloading ios player API JSON\n",
      "[youtube] ThlhSnRk21E: Downloading android player API JSON\n"
     ]
    },
    {
     "name": "stderr",
     "output_type": "stream",
     "text": [
      "WARNING: [youtube] YouTube said: ERROR - Precondition check failed.\n",
      "WARNING: [youtube] HTTP Error 400: Bad Request. Retrying (1/3)...\n"
     ]
    },
    {
     "name": "stdout",
     "output_type": "stream",
     "text": [
      "[youtube] ThlhSnRk21E: Downloading android player API JSON\n"
     ]
    },
    {
     "name": "stderr",
     "output_type": "stream",
     "text": [
      "WARNING: [youtube] YouTube said: ERROR - Precondition check failed.\n",
      "WARNING: [youtube] HTTP Error 400: Bad Request. Retrying (2/3)...\n"
     ]
    },
    {
     "name": "stdout",
     "output_type": "stream",
     "text": [
      "[youtube] ThlhSnRk21E: Downloading android player API JSON\n"
     ]
    },
    {
     "name": "stderr",
     "output_type": "stream",
     "text": [
      "WARNING: [youtube] YouTube said: ERROR - Precondition check failed.\n",
      "WARNING: [youtube] HTTP Error 400: Bad Request. Retrying (3/3)...\n"
     ]
    },
    {
     "name": "stdout",
     "output_type": "stream",
     "text": [
      "[youtube] ThlhSnRk21E: Downloading android player API JSON\n",
      "[youtube] ThlhSnRk21E: Downloading m3u8 information\n",
      "[info] ThlhSnRk21E: Downloading 1 format(s): 251\n",
      "[download] Destination: C:\\Users\\arwin\\Documents\\dev\\APS360-PROJECT\\data\\billboard_audio\\DMX_Ruff Ryders' Anthem\\DMX_Ruff Ryders' Anthem.webm\n",
      "[download] 100% of    3.40MiB in 00:00:00 at 19.03MiB/s    \n",
      "[download] Finished downloading playlist: DMX Ruff Ryders' Anthem\n",
      "[generic] Extracting URL: DMX Party Up (Up In Here)\n",
      "[youtube:search] Extracting URL: ytsearch:DMX Party Up (Up In Here)\n",
      "[download] Downloading playlist: DMX Party Up (Up In Here)\n",
      "[youtube:search] query \"DMX Party Up (Up In Here)\": Downloading web client config\n",
      "[youtube:search] query \"DMX Party Up (Up In Here)\" page 1: Downloading API JSON\n",
      "[youtube:search] Playlist DMX Party Up (Up In Here): Downloading 1 items of 1\n",
      "[download] Downloading item 1 of 1\n",
      "[youtube] Extracting URL: https://www.youtube.com/watch?v=thIVtEOtlWM\n",
      "[youtube] thIVtEOtlWM: Downloading webpage\n",
      "[youtube] thIVtEOtlWM: Downloading ios player API JSON\n",
      "[youtube] thIVtEOtlWM: Downloading android player API JSON\n",
      "[youtube] thIVtEOtlWM: Downloading m3u8 information\n",
      "[info] thIVtEOtlWM: Downloading 1 format(s): 251\n",
      "[download] Destination: C:\\Users\\arwin\\Documents\\dev\\APS360-PROJECT\\data\\billboard_audio\\DMX_Party Up (Up In Here)\\DMX_Party Up (Up In Here).webm\n",
      "[download] 100% of    2.82MiB in 00:00:00 at 17.27MiB/s  \n",
      "[download] Finished downloading playlist: DMX Party Up (Up In Here)\n",
      "[generic] Extracting URL: DMX X Gon' Give It To Ya\n",
      "[youtube:search] Extracting URL: ytsearch:DMX X Gon' Give It To Ya\n",
      "[download] Downloading playlist: DMX X Gon' Give It To Ya\n",
      "[youtube:search] query \"DMX X Gon' Give It To Ya\": Downloading web client config\n",
      "[youtube:search] query \"DMX X Gon' Give It To Ya\" page 1: Downloading API JSON\n",
      "[youtube:search] Playlist DMX X Gon' Give It To Ya: Downloading 1 items of 1\n",
      "[download] Downloading item 1 of 1\n",
      "[youtube] Extracting URL: https://www.youtube.com/watch?v=fGx6K90TmCI\n",
      "[youtube] fGx6K90TmCI: Downloading webpage\n",
      "[youtube] fGx6K90TmCI: Downloading ios player API JSON\n",
      "[youtube] fGx6K90TmCI: Downloading android player API JSON\n"
     ]
    },
    {
     "name": "stderr",
     "output_type": "stream",
     "text": [
      "WARNING: [youtube] YouTube said: ERROR - Precondition check failed.\n",
      "WARNING: [youtube] HTTP Error 400: Bad Request. Retrying (1/3)...\n"
     ]
    },
    {
     "name": "stdout",
     "output_type": "stream",
     "text": [
      "[youtube] fGx6K90TmCI: Downloading android player API JSON\n",
      "[youtube] fGx6K90TmCI: Downloading m3u8 information\n",
      "[info] fGx6K90TmCI: Downloading 1 format(s): 251\n",
      "[download] Destination: C:\\Users\\arwin\\Documents\\dev\\APS360-PROJECT\\data\\billboard_audio\\DMX_X Gon' Give It To Ya\\DMX_X Gon' Give It To Ya.webm\n",
      "[download] 100% of    3.16MiB in 00:00:00 at 19.05MiB/s    \n",
      "[download] Finished downloading playlist: DMX X Gon' Give It To Ya\n",
      "[generic] Extracting URL: Taylor Swift Love Story (Taylor's Version)\n",
      "[youtube:search] Extracting URL: ytsearch:Taylor Swift Love Story (Taylor's Version)\n",
      "[download] Downloading playlist: Taylor Swift Love Story (Taylor's Version)\n",
      "[youtube:search] query \"Taylor Swift Love Story (Taylor's Version)\": Downloading web client config\n",
      "[youtube:search] query \"Taylor Swift Love Story (Taylor's Version)\" page 1: Downloading API JSON\n",
      "[youtube:search] Playlist Taylor Swift Love Story (Taylor's Version): Downloading 1 items of 1\n",
      "[download] Downloading item 1 of 1\n",
      "[youtube] Extracting URL: https://www.youtube.com/watch?v=aXzVF3XeS8M\n",
      "[youtube] aXzVF3XeS8M: Downloading webpage\n",
      "[youtube] aXzVF3XeS8M: Downloading ios player API JSON\n",
      "[youtube] aXzVF3XeS8M: Downloading android player API JSON\n"
     ]
    },
    {
     "name": "stderr",
     "output_type": "stream",
     "text": [
      "WARNING: [youtube] YouTube said: ERROR - Precondition check failed.\n",
      "WARNING: [youtube] HTTP Error 400: Bad Request. Retrying (1/3)...\n"
     ]
    },
    {
     "name": "stdout",
     "output_type": "stream",
     "text": [
      "[youtube] aXzVF3XeS8M: Downloading android player API JSON\n",
      "[youtube] aXzVF3XeS8M: Downloading m3u8 information\n",
      "[info] aXzVF3XeS8M: Downloading 1 format(s): 251\n",
      "[download] Destination: C:\\Users\\arwin\\Documents\\dev\\APS360-PROJECT\\data\\billboard_audio\\Taylor Swift_Love Story (Taylor's Version)\\Taylor Swift_Love Story (Taylor's Version).webm\n",
      "[download] 100% of    3.92MiB in 00:00:00 at 4.27MiB/s     \n",
      "[download] Finished downloading playlist: Taylor Swift Love Story (Taylor's Version)\n",
      "[generic] Extracting URL: Taylor Swift Forever & Always (Taylor's Version)\n",
      "[youtube:search] Extracting URL: ytsearch:Taylor Swift Forever & Always (Taylor's Version)\n",
      "[download] Downloading playlist: Taylor Swift Forever & Always (Taylor's Version)\n",
      "[youtube:search] query \"Taylor Swift Forever & Always (Taylor's Version)\": Downloading web client config\n",
      "[youtube:search] query \"Taylor Swift Forever & Always (Taylor's Version)\" page 1: Downloading API JSON\n",
      "[youtube:search] Playlist Taylor Swift Forever & Always (Taylor's Version): Downloading 1 items of 1\n",
      "[download] Downloading item 1 of 1\n",
      "[youtube] Extracting URL: https://www.youtube.com/watch?v=T-41vMWQTUA\n",
      "[youtube] T-41vMWQTUA: Downloading webpage\n",
      "[youtube] T-41vMWQTUA: Downloading ios player API JSON\n",
      "[youtube] T-41vMWQTUA: Downloading android player API JSON\n",
      "[youtube] T-41vMWQTUA: Downloading m3u8 information\n",
      "[info] T-41vMWQTUA: Downloading 1 format(s): 251\n",
      "[download] Destination: C:\\Users\\arwin\\Documents\\dev\\APS360-PROJECT\\data\\billboard_audio\\Taylor Swift_Forever & Always (Taylor's Version)\\Taylor Swift_Forever & Always (Taylor's Version).webm\n",
      "[download] 100% of    3.52MiB in 00:00:00 at 16.18MiB/s  \n",
      "[download] Finished downloading playlist: Taylor Swift Forever & Always (Taylor's Version)\n",
      "[generic] Extracting URL: Taylor Swift Fearless (Taylor's Version)\n",
      "[youtube:search] Extracting URL: ytsearch:Taylor Swift Fearless (Taylor's Version)\n",
      "[download] Downloading playlist: Taylor Swift Fearless (Taylor's Version)\n",
      "[youtube:search] query \"Taylor Swift Fearless (Taylor's Version)\": Downloading web client config\n",
      "[youtube:search] query \"Taylor Swift Fearless (Taylor's Version)\" page 1: Downloading API JSON\n",
      "[youtube:search] Playlist Taylor Swift Fearless (Taylor's Version): Downloading 1 items of 1\n",
      "[download] Downloading item 1 of 1\n",
      "[youtube] Extracting URL: https://www.youtube.com/watch?v=7lLigiVgJsE\n",
      "[youtube] 7lLigiVgJsE: Downloading webpage\n",
      "[youtube] 7lLigiVgJsE: Downloading ios player API JSON\n",
      "[youtube] 7lLigiVgJsE: Downloading android player API JSON\n"
     ]
    },
    {
     "name": "stderr",
     "output_type": "stream",
     "text": [
      "WARNING: [youtube] YouTube said: ERROR - Precondition check failed.\n",
      "WARNING: [youtube] HTTP Error 400: Bad Request. Retrying (1/3)...\n"
     ]
    },
    {
     "name": "stdout",
     "output_type": "stream",
     "text": [
      "[youtube] 7lLigiVgJsE: Downloading android player API JSON\n",
      "[youtube] 7lLigiVgJsE: Downloading m3u8 information\n",
      "[info] 7lLigiVgJsE: Downloading 1 format(s): 251\n",
      "[download] Destination: C:\\Users\\arwin\\Documents\\dev\\APS360-PROJECT\\data\\billboard_audio\\Taylor Swift_Fearless (Taylor's Version)\\Taylor Swift_Fearless (Taylor's Version).webm\n",
      "[download] 100% of    4.00MiB in 00:00:00 at 21.18MiB/s  \n",
      "[download] Finished downloading playlist: Taylor Swift Fearless (Taylor's Version)\n",
      "[generic] Extracting URL: Taylor Swift Featuring Maren Morris You All Over Me (Taylor's Version) (From The Vault)\n",
      "[youtube:search] Extracting URL: ytsearch:Taylor Swift Featuring Maren Morris You All Over Me (Taylor's Version) (From The Vault)\n",
      "[download] Downloading playlist: Taylor Swift Featuring Maren Morris You All Over Me (Taylor's Version) (From The Vault)\n",
      "[youtube:search] query \"Taylor Swift Featuring Maren Morris You All Over Me (Taylor's Version) (From The Vault)\": Downloading web client config\n",
      "[youtube:search] query \"Taylor Swift Featuring Maren Morris You All Over Me (Taylor's Version) (From The Vault)\" page 1: Downloading API JSON\n",
      "[youtube:search] Playlist Taylor Swift Featuring Maren Morris You All Over Me (Taylor's Version) (From The Vault): Downloading 1 items of 1\n",
      "[download] Downloading item 1 of 1\n",
      "[youtube] Extracting URL: https://www.youtube.com/watch?v=XKaMUm7YwZc\n",
      "[youtube] XKaMUm7YwZc: Downloading webpage\n",
      "[youtube] XKaMUm7YwZc: Downloading ios player API JSON\n",
      "[youtube] XKaMUm7YwZc: Downloading android player API JSON\n"
     ]
    },
    {
     "name": "stderr",
     "output_type": "stream",
     "text": [
      "WARNING: [youtube] YouTube said: ERROR - Precondition check failed.\n",
      "WARNING: [youtube] HTTP Error 400: Bad Request. Retrying (1/3)...\n"
     ]
    },
    {
     "name": "stdout",
     "output_type": "stream",
     "text": [
      "[youtube] XKaMUm7YwZc: Downloading android player API JSON\n",
      "[youtube] XKaMUm7YwZc: Downloading m3u8 information\n",
      "[info] XKaMUm7YwZc: Downloading 1 format(s): 251\n",
      "[download] Destination: C:\\Users\\arwin\\Documents\\dev\\APS360-PROJECT\\data\\billboard_audio\\Taylor Swift Featuring Maren Morris_You All Over Me (Taylor's Version) (From The Vault)\\Taylor Swift Featuring Maren Morris_You All Over Me (Taylor's Version) (From The Vault).webm\n",
      "[download] 100% of    3.69MiB in 00:00:00 at 18.63MiB/s    \n",
      "[download] Finished downloading playlist: Taylor Swift Featuring Maren Morris You All Over Me (Taylor's Version) (From The Vault)\n",
      "[generic] Extracting URL: Taylor Swift You Belong With Me (Taylor's Version)\n",
      "[youtube:search] Extracting URL: ytsearch:Taylor Swift You Belong With Me (Taylor's Version)\n",
      "[download] Downloading playlist: Taylor Swift You Belong With Me (Taylor's Version)\n",
      "[youtube:search] query \"Taylor Swift You Belong With Me (Taylor's Version)\": Downloading web client config\n",
      "[youtube:search] query \"Taylor Swift You Belong With Me (Taylor's Version)\" page 1: Downloading API JSON\n",
      "[youtube:search] Playlist Taylor Swift You Belong With Me (Taylor's Version): Downloading 1 items of 1\n",
      "[download] Downloading item 1 of 1\n",
      "[youtube] Extracting URL: https://www.youtube.com/watch?v=vwp8Ur6tO-8\n",
      "[youtube] vwp8Ur6tO-8: Downloading webpage\n",
      "[youtube] vwp8Ur6tO-8: Downloading ios player API JSON\n",
      "[youtube] vwp8Ur6tO-8: Downloading android player API JSON\n"
     ]
    },
    {
     "name": "stderr",
     "output_type": "stream",
     "text": [
      "WARNING: [youtube] YouTube said: ERROR - Precondition check failed.\n",
      "WARNING: [youtube] HTTP Error 400: Bad Request. Retrying (1/3)...\n"
     ]
    },
    {
     "name": "stdout",
     "output_type": "stream",
     "text": [
      "[youtube] vwp8Ur6tO-8: Downloading android player API JSON\n"
     ]
    },
    {
     "name": "stderr",
     "output_type": "stream",
     "text": [
      "WARNING: [youtube] YouTube said: ERROR - Precondition check failed.\n",
      "WARNING: [youtube] HTTP Error 400: Bad Request. Retrying (2/3)...\n"
     ]
    },
    {
     "name": "stdout",
     "output_type": "stream",
     "text": [
      "[youtube] vwp8Ur6tO-8: Downloading android player API JSON\n"
     ]
    },
    {
     "name": "stderr",
     "output_type": "stream",
     "text": [
      "WARNING: [youtube] YouTube said: ERROR - Precondition check failed.\n",
      "WARNING: [youtube] HTTP Error 400: Bad Request. Retrying (3/3)...\n"
     ]
    },
    {
     "name": "stdout",
     "output_type": "stream",
     "text": [
      "[youtube] vwp8Ur6tO-8: Downloading android player API JSON\n"
     ]
    },
    {
     "name": "stderr",
     "output_type": "stream",
     "text": [
      "WARNING: [youtube] YouTube said: ERROR - Precondition check failed.\n",
      "WARNING: [youtube] Unable to download API page: HTTP Error 400: Bad Request (caused by <HTTPError 400: Bad Request>); please report this issue on  https://github.com/yt-dlp/yt-dlp/issues?q= , filling out the appropriate issue template. Confirm you are on the latest version using  yt-dlp -U\n"
     ]
    },
    {
     "name": "stdout",
     "output_type": "stream",
     "text": [
      "[youtube] vwp8Ur6tO-8: Downloading m3u8 information\n",
      "[info] vwp8Ur6tO-8: Downloading 1 format(s): 251\n",
      "[download] Destination: C:\\Users\\arwin\\Documents\\dev\\APS360-PROJECT\\data\\billboard_audio\\Taylor Swift_You Belong With Me (Taylor's Version)\\Taylor Swift_You Belong With Me (Taylor's Version).webm\n",
      "[download] 100% of    3.81MiB in 00:00:00 at 13.59MiB/s  \n",
      "[download] Finished downloading playlist: Taylor Swift You Belong With Me (Taylor's Version)\n",
      "[generic] Extracting URL: twenty one pilots Shy Away\n",
      "[youtube:search] Extracting URL: ytsearch:twenty one pilots Shy Away\n",
      "[download] Downloading playlist: twenty one pilots Shy Away\n",
      "[youtube:search] query \"twenty one pilots Shy Away\": Downloading web client config\n",
      "[youtube:search] query \"twenty one pilots Shy Away\" page 1: Downloading API JSON\n",
      "[youtube:search] Playlist twenty one pilots Shy Away: Downloading 1 items of 1\n",
      "[download] Downloading item 1 of 1\n",
      "[youtube] Extracting URL: https://www.youtube.com/watch?v=3sO-Y1Zbft4\n",
      "[youtube] 3sO-Y1Zbft4: Downloading webpage\n",
      "[youtube] 3sO-Y1Zbft4: Downloading ios player API JSON\n",
      "[youtube] 3sO-Y1Zbft4: Downloading android player API JSON\n",
      "[youtube] 3sO-Y1Zbft4: Downloading m3u8 information\n",
      "[info] 3sO-Y1Zbft4: Downloading 1 format(s): 251\n",
      "[download] Destination: C:\\Users\\arwin\\Documents\\dev\\APS360-PROJECT\\data\\billboard_audio\\twenty one pilots_Shy Away\\twenty one pilots_Shy Away.webm\n",
      "[download] 100% of    2.83MiB in 00:00:00 at 10.10MiB/s  \n",
      "[download] Finished downloading playlist: twenty one pilots Shy Away\n",
      "[generic] Extracting URL: Taylor Swift Fifteen (Taylor's Version)\n",
      "[youtube:search] Extracting URL: ytsearch:Taylor Swift Fifteen (Taylor's Version)\n",
      "[download] Downloading playlist: Taylor Swift Fifteen (Taylor's Version)\n",
      "[youtube:search] query \"Taylor Swift Fifteen (Taylor's Version)\": Downloading web client config\n",
      "[youtube:search] query \"Taylor Swift Fifteen (Taylor's Version)\" page 1: Downloading API JSON\n",
      "[youtube:search] Playlist Taylor Swift Fifteen (Taylor's Version): Downloading 1 items of 1\n",
      "[download] Downloading item 1 of 1\n",
      "[youtube] Extracting URL: https://www.youtube.com/watch?v=rLCol1C3ouc\n",
      "[youtube] rLCol1C3ouc: Downloading webpage\n",
      "[youtube] rLCol1C3ouc: Downloading ios player API JSON\n",
      "[youtube] rLCol1C3ouc: Downloading android player API JSON\n",
      "[youtube] rLCol1C3ouc: Downloading m3u8 information\n",
      "[info] rLCol1C3ouc: Downloading 1 format(s): 251\n",
      "[download] Destination: C:\\Users\\arwin\\Documents\\dev\\APS360-PROJECT\\data\\billboard_audio\\Taylor Swift_Fifteen (Taylor's Version)\\Taylor Swift_Fifteen (Taylor's Version).webm\n",
      "[download] 100% of    4.99MiB in 00:00:00 at 18.73MiB/s  \n",
      "[download] Finished downloading playlist: Taylor Swift Fifteen (Taylor's Version)\n",
      "[generic] Extracting URL: Coi Leray & Pooh Shiesty Big Purr (Prrdd)\n",
      "[youtube:search] Extracting URL: ytsearch:Coi Leray & Pooh Shiesty Big Purr (Prrdd)\n",
      "[download] Downloading playlist: Coi Leray & Pooh Shiesty Big Purr (Prrdd)\n",
      "[youtube:search] query \"Coi Leray & Pooh Shiesty Big Purr (Prrdd)\": Downloading web client config\n",
      "[youtube:search] query \"Coi Leray & Pooh Shiesty Big Purr (Prrdd)\" page 1: Downloading API JSON\n",
      "[youtube:search] Playlist Coi Leray & Pooh Shiesty Big Purr (Prrdd): Downloading 1 items of 1\n",
      "[download] Downloading item 1 of 1\n",
      "[youtube] Extracting URL: https://www.youtube.com/watch?v=oZTkSsd-ge4\n",
      "[youtube] oZTkSsd-ge4: Downloading webpage\n",
      "[youtube] oZTkSsd-ge4: Downloading ios player API JSON\n",
      "[youtube] oZTkSsd-ge4: Downloading android player API JSON\n"
     ]
    },
    {
     "name": "stderr",
     "output_type": "stream",
     "text": [
      "WARNING: [youtube] YouTube said: ERROR - Precondition check failed.\n",
      "WARNING: [youtube] HTTP Error 400: Bad Request. Retrying (1/3)...\n"
     ]
    },
    {
     "name": "stdout",
     "output_type": "stream",
     "text": [
      "[youtube] oZTkSsd-ge4: Downloading android player API JSON\n",
      "[youtube] oZTkSsd-ge4: Downloading m3u8 information\n",
      "[info] oZTkSsd-ge4: Downloading 1 format(s): 251\n",
      "[download] Destination: C:\\Users\\arwin\\Documents\\dev\\APS360-PROJECT\\data\\billboard_audio\\Coi Leray & Pooh Shiesty_Big Purr (Prrdd)\\Coi Leray & Pooh Shiesty_Big Purr (Prrdd).webm\n",
      "[download] 100% of    2.57MiB in 00:00:00 at 14.08MiB/s    \n",
      "[download] Finished downloading playlist: Coi Leray & Pooh Shiesty Big Purr (Prrdd)\n",
      "[generic] Extracting URL: Demi Lovato Featuring Ariana Grande Met Him Last Night\n",
      "[youtube:search] Extracting URL: ytsearch:Demi Lovato Featuring Ariana Grande Met Him Last Night\n",
      "[download] Downloading playlist: Demi Lovato Featuring Ariana Grande Met Him Last Night\n",
      "[youtube:search] query \"Demi Lovato Featuring Ariana Grande Met Him Last Night\": Downloading web client config\n",
      "[youtube:search] query \"Demi Lovato Featuring Ariana Grande Met Him Last Night\" page 1: Downloading API JSON\n",
      "[youtube:search] Playlist Demi Lovato Featuring Ariana Grande Met Him Last Night: Downloading 1 items of 1\n",
      "[download] Downloading item 1 of 1\n",
      "[youtube] Extracting URL: https://www.youtube.com/watch?v=aY7os8Qms6w\n",
      "[youtube] aY7os8Qms6w: Downloading webpage\n",
      "[youtube] aY7os8Qms6w: Downloading ios player API JSON\n",
      "[youtube] aY7os8Qms6w: Downloading android player API JSON\n",
      "[youtube] aY7os8Qms6w: Downloading m3u8 information\n",
      "[info] aY7os8Qms6w: Downloading 1 format(s): 251\n",
      "[download] Destination: C:\\Users\\arwin\\Documents\\dev\\APS360-PROJECT\\data\\billboard_audio\\Demi Lovato Featuring Ariana Grande_Met Him Last Night\\Demi Lovato Featuring Ariana Grande_Met Him Last Night.webm\n",
      "[download] 100% of    3.26MiB in 00:00:00 at 11.71MiB/s  \n",
      "[download] Finished downloading playlist: Demi Lovato Featuring Ariana Grande Met Him Last Night\n",
      "[generic] Extracting URL: Taylor Swift The Way I Loved You (Taylor's Version)\n",
      "[youtube:search] Extracting URL: ytsearch:Taylor Swift The Way I Loved You (Taylor's Version)\n",
      "[download] Downloading playlist: Taylor Swift The Way I Loved You (Taylor's Version)\n",
      "[youtube:search] query \"Taylor Swift The Way I Loved You (Taylor's Version)\": Downloading web client config\n",
      "[youtube:search] query \"Taylor Swift The Way I Loved You (Taylor's Version)\" page 1: Downloading API JSON\n",
      "[youtube:search] Playlist Taylor Swift The Way I Loved You (Taylor's Version): Downloading 1 items of 1\n",
      "[download] Downloading item 1 of 1\n",
      "[youtube] Extracting URL: https://www.youtube.com/watch?v=DlexmDDSDZ0\n",
      "[youtube] DlexmDDSDZ0: Downloading webpage\n",
      "[youtube] DlexmDDSDZ0: Downloading ios player API JSON\n",
      "[youtube] DlexmDDSDZ0: Downloading android player API JSON\n",
      "[youtube] DlexmDDSDZ0: Downloading m3u8 information\n",
      "[info] DlexmDDSDZ0: Downloading 1 format(s): 251\n",
      "[download] Destination: C:\\Users\\arwin\\Documents\\dev\\APS360-PROJECT\\data\\billboard_audio\\Taylor Swift_The Way I Loved You (Taylor's Version)\\Taylor Swift_The Way I Loved You (Taylor's Version).webm\n",
      "[download] 100% of    3.95MiB in 00:00:00 at 4.18MiB/s   \n",
      "[download] Finished downloading playlist: Taylor Swift The Way I Loved You (Taylor's Version)\n",
      "[generic] Extracting URL: Demi Lovato Dancing With The Devil\n",
      "[youtube:search] Extracting URL: ytsearch:Demi Lovato Dancing With The Devil\n",
      "[download] Downloading playlist: Demi Lovato Dancing With The Devil\n",
      "[youtube:search] query \"Demi Lovato Dancing With The Devil\": Downloading web client config\n",
      "[youtube:search] query \"Demi Lovato Dancing With The Devil\" page 1: Downloading API JSON\n",
      "[youtube:search] Playlist Demi Lovato Dancing With The Devil: Downloading 1 items of 1\n",
      "[download] Downloading item 1 of 1\n",
      "[youtube] Extracting URL: https://www.youtube.com/watch?v=EAg69LaLlS0\n",
      "[youtube] EAg69LaLlS0: Downloading webpage\n",
      "[youtube] EAg69LaLlS0: Downloading ios player API JSON\n",
      "[youtube] EAg69LaLlS0: Downloading android player API JSON\n",
      "[youtube] EAg69LaLlS0: Downloading m3u8 information\n",
      "[info] EAg69LaLlS0: Downloading 1 format(s): 251\n",
      "[download] Destination: C:\\Users\\arwin\\Documents\\dev\\APS360-PROJECT\\data\\billboard_audio\\Demi Lovato_Dancing With The Devil\\Demi Lovato_Dancing With The Devil.webm\n",
      "[download] 100% of    4.98MiB in 00:00:00 at 10.14MiB/s  \n",
      "[download] Finished downloading playlist: Demi Lovato Dancing With The Devil\n",
      "[generic] Extracting URL: Lil Baby Featuring EST Gee Real As It Gets\n",
      "[youtube:search] Extracting URL: ytsearch:Lil Baby Featuring EST Gee Real As It Gets\n",
      "[download] Downloading playlist: Lil Baby Featuring EST Gee Real As It Gets\n",
      "[youtube:search] query \"Lil Baby Featuring EST Gee Real As It Gets\": Downloading web client config\n",
      "[youtube:search] query \"Lil Baby Featuring EST Gee Real As It Gets\" page 1: Downloading API JSON\n",
      "[youtube:search] Playlist Lil Baby Featuring EST Gee Real As It Gets: Downloading 1 items of 1\n",
      "[download] Downloading item 1 of 1\n",
      "[youtube] Extracting URL: https://www.youtube.com/watch?v=yhoGtNiNX40\n",
      "[youtube] yhoGtNiNX40: Downloading webpage\n",
      "[youtube] yhoGtNiNX40: Downloading ios player API JSON\n",
      "[youtube] yhoGtNiNX40: Downloading android player API JSON\n",
      "[youtube] yhoGtNiNX40: Downloading m3u8 information\n",
      "[info] yhoGtNiNX40: Downloading 1 format(s): 251\n",
      "[download] Destination: C:\\Users\\arwin\\Documents\\dev\\APS360-PROJECT\\data\\billboard_audio\\Lil Baby Featuring EST Gee_Real As It Gets\\Lil Baby Featuring EST Gee_Real As It Gets.webm\n",
      "[download] 100% of    3.36MiB in 00:00:00 at 14.99MiB/s    \n",
      "[download] Finished downloading playlist: Lil Baby Featuring EST Gee Real As It Gets\n",
      "[generic] Extracting URL: Ritt Momney Put Your Records On\n",
      "[youtube:search] Extracting URL: ytsearch:Ritt Momney Put Your Records On\n",
      "[download] Downloading playlist: Ritt Momney Put Your Records On\n",
      "[youtube:search] query \"Ritt Momney Put Your Records On\": Downloading web client config\n",
      "[youtube:search] query \"Ritt Momney Put Your Records On\" page 1: Downloading API JSON\n",
      "[youtube:search] Playlist Ritt Momney Put Your Records On: Downloading 1 items of 1\n",
      "[download] Downloading item 1 of 1\n",
      "[youtube] Extracting URL: https://www.youtube.com/watch?v=WyVfkr6nsrk\n",
      "[youtube] WyVfkr6nsrk: Downloading webpage\n",
      "[youtube] WyVfkr6nsrk: Downloading ios player API JSON\n",
      "[youtube] WyVfkr6nsrk: Downloading android player API JSON\n"
     ]
    },
    {
     "name": "stderr",
     "output_type": "stream",
     "text": [
      "WARNING: [youtube] YouTube said: ERROR - Precondition check failed.\n",
      "WARNING: [youtube] HTTP Error 400: Bad Request. Retrying (1/3)...\n"
     ]
    },
    {
     "name": "stdout",
     "output_type": "stream",
     "text": [
      "[youtube] WyVfkr6nsrk: Downloading android player API JSON\n",
      "[youtube] WyVfkr6nsrk: Downloading m3u8 information\n",
      "[info] WyVfkr6nsrk: Downloading 1 format(s): 251\n",
      "[download] Destination: C:\\Users\\arwin\\Documents\\dev\\APS360-PROJECT\\data\\billboard_audio\\Ritt Momney_Put Your Records On\\Ritt Momney_Put Your Records On.webm\n",
      "[download] 100% of    3.42MiB in 00:00:00 at 21.70MiB/s    \n",
      "[download] Finished downloading playlist: Ritt Momney Put Your Records On\n",
      "[generic] Extracting URL: CJ Whoopty\n",
      "[youtube:search] Extracting URL: ytsearch:CJ Whoopty\n",
      "[download] Downloading playlist: CJ Whoopty\n",
      "[youtube:search] query \"CJ Whoopty\": Downloading web client config\n",
      "[youtube:search] query \"CJ Whoopty\" page 1: Downloading API JSON\n",
      "[youtube:search] Playlist CJ Whoopty: Downloading 1 items of 1\n",
      "[download] Downloading item 1 of 1\n",
      "[youtube] Extracting URL: https://www.youtube.com/watch?v=2xWkATdMQms\n",
      "[youtube] 2xWkATdMQms: Downloading webpage\n",
      "[youtube] 2xWkATdMQms: Downloading ios player API JSON\n",
      "[youtube] 2xWkATdMQms: Downloading android player API JSON\n"
     ]
    },
    {
     "name": "stderr",
     "output_type": "stream",
     "text": [
      "WARNING: [youtube] YouTube said: ERROR - Precondition check failed.\n",
      "WARNING: [youtube] HTTP Error 400: Bad Request. Retrying (1/3)...\n"
     ]
    },
    {
     "name": "stdout",
     "output_type": "stream",
     "text": [
      "[youtube] 2xWkATdMQms: Downloading android player API JSON\n"
     ]
    },
    {
     "name": "stderr",
     "output_type": "stream",
     "text": [
      "WARNING: [youtube] YouTube said: ERROR - Precondition check failed.\n",
      "WARNING: [youtube] HTTP Error 400: Bad Request. Retrying (2/3)...\n"
     ]
    },
    {
     "name": "stdout",
     "output_type": "stream",
     "text": [
      "[youtube] 2xWkATdMQms: Downloading android player API JSON\n"
     ]
    },
    {
     "name": "stderr",
     "output_type": "stream",
     "text": [
      "WARNING: [youtube] YouTube said: ERROR - Precondition check failed.\n",
      "WARNING: [youtube] HTTP Error 400: Bad Request. Retrying (3/3)...\n"
     ]
    },
    {
     "name": "stdout",
     "output_type": "stream",
     "text": [
      "[youtube] 2xWkATdMQms: Downloading android player API JSON\n"
     ]
    },
    {
     "name": "stderr",
     "output_type": "stream",
     "text": [
      "WARNING: [youtube] YouTube said: ERROR - Precondition check failed.\n",
      "WARNING: [youtube] Unable to download API page: HTTP Error 400: Bad Request (caused by <HTTPError 400: Bad Request>); please report this issue on  https://github.com/yt-dlp/yt-dlp/issues?q= , filling out the appropriate issue template. Confirm you are on the latest version using  yt-dlp -U\n"
     ]
    },
    {
     "name": "stdout",
     "output_type": "stream",
     "text": [
      "[youtube] 2xWkATdMQms: Downloading m3u8 information\n",
      "[info] 2xWkATdMQms: Downloading 1 format(s): 251\n",
      "[download] Destination: C:\\Users\\arwin\\Documents\\dev\\APS360-PROJECT\\data\\billboard_audio\\CJ_Whoopty\\CJ_Whoopty.webm\n",
      "[download] 100% of    2.07MiB in 00:00:00 at 13.56MiB/s    \n",
      "[download] Finished downloading playlist: CJ Whoopty\n",
      "[generic] Extracting URL: Drake Featuring Rick Ross Lemon Pepper Freestyle\n",
      "[youtube:search] Extracting URL: ytsearch:Drake Featuring Rick Ross Lemon Pepper Freestyle\n",
      "[download] Downloading playlist: Drake Featuring Rick Ross Lemon Pepper Freestyle\n",
      "[youtube:search] query \"Drake Featuring Rick Ross Lemon Pepper Freestyle\": Downloading web client config\n",
      "[youtube:search] query \"Drake Featuring Rick Ross Lemon Pepper Freestyle\" page 1: Downloading API JSON\n",
      "[youtube:search] Playlist Drake Featuring Rick Ross Lemon Pepper Freestyle: Downloading 1 items of 1\n",
      "[download] Downloading item 1 of 1\n",
      "[youtube] Extracting URL: https://www.youtube.com/watch?v=B_oCCyVKLBo\n",
      "[youtube] B_oCCyVKLBo: Downloading webpage\n",
      "[youtube] B_oCCyVKLBo: Downloading ios player API JSON\n",
      "[youtube] B_oCCyVKLBo: Downloading android player API JSON\n",
      "[youtube] B_oCCyVKLBo: Downloading m3u8 information\n",
      "[info] B_oCCyVKLBo: Downloading 1 format(s): 251\n",
      "[download] Destination: C:\\Users\\arwin\\Documents\\dev\\APS360-PROJECT\\data\\billboard_audio\\Drake Featuring Rick Ross_Lemon Pepper Freestyle\\Drake Featuring Rick Ross_Lemon Pepper Freestyle.webm\n",
      "[download] 100% of    6.56MiB in 00:00:00 at 20.85MiB/s  \n",
      "[download] Finished downloading playlist: Drake Featuring Rick Ross Lemon Pepper Freestyle\n",
      "[generic] Extracting URL: BTS Film Out\n",
      "[youtube:search] Extracting URL: ytsearch:BTS Film Out\n",
      "[download] Downloading playlist: BTS Film Out\n",
      "[youtube:search] query \"BTS Film Out\": Downloading web client config\n",
      "[youtube:search] query \"BTS Film Out\" page 1: Downloading API JSON\n",
      "[youtube:search] Playlist BTS Film Out: Downloading 1 items of 1\n",
      "[download] Downloading item 1 of 1\n",
      "[youtube] Extracting URL: https://www.youtube.com/watch?v=zFT3f9biz68\n",
      "[youtube] zFT3f9biz68: Downloading webpage\n",
      "[youtube] zFT3f9biz68: Downloading ios player API JSON\n",
      "[youtube] zFT3f9biz68: Downloading android player API JSON\n",
      "[youtube] zFT3f9biz68: Downloading m3u8 information\n",
      "[info] zFT3f9biz68: Downloading 1 format(s): 251\n",
      "[download] Destination: C:\\Users\\arwin\\Documents\\dev\\APS360-PROJECT\\data\\billboard_audio\\BTS_Film Out\\BTS_Film Out.webm\n",
      "[download] 100% of    3.60MiB in 00:00:00 at 15.33MiB/s    \n",
      "[download] Finished downloading playlist: BTS Film Out\n",
      "[generic] Extracting URL: Megan Thee Stallion Body\n",
      "[youtube:search] Extracting URL: ytsearch:Megan Thee Stallion Body\n",
      "[download] Downloading playlist: Megan Thee Stallion Body\n",
      "[youtube:search] query \"Megan Thee Stallion Body\": Downloading web client config\n",
      "[youtube:search] query \"Megan Thee Stallion Body\" page 1: Downloading API JSON\n",
      "[youtube:search] Playlist Megan Thee Stallion Body: Downloading 1 items of 1\n",
      "[download] Downloading item 1 of 1\n",
      "[youtube] Extracting URL: https://www.youtube.com/watch?v=7PBYGu4Az8s\n",
      "[youtube] 7PBYGu4Az8s: Downloading webpage\n",
      "[youtube] 7PBYGu4Az8s: Downloading ios player API JSON\n",
      "[youtube] 7PBYGu4Az8s: Downloading android player API JSON\n"
     ]
    },
    {
     "name": "stderr",
     "output_type": "stream",
     "text": [
      "WARNING: [youtube] YouTube said: ERROR - Precondition check failed.\n",
      "WARNING: [youtube] HTTP Error 400: Bad Request. Retrying (1/3)...\n"
     ]
    },
    {
     "name": "stdout",
     "output_type": "stream",
     "text": [
      "[youtube] 7PBYGu4Az8s: Downloading android player API JSON\n",
      "[youtube] 7PBYGu4Az8s: Downloading m3u8 information\n",
      "[info] 7PBYGu4Az8s: Downloading 1 format(s): 251\n",
      "[download] Destination: C:\\Users\\arwin\\Documents\\dev\\APS360-PROJECT\\data\\billboard_audio\\Megan Thee Stallion_Body\\Megan Thee Stallion_Body.webm\n",
      "[download] 100% of    2.87MiB in 00:00:00 at 18.88MiB/s  \n",
      "[download] Finished downloading playlist: Megan Thee Stallion Body\n",
      "[generic] Extracting URL: Justin Bieber Featuring Khalid As I Am\n",
      "[youtube:search] Extracting URL: ytsearch:Justin Bieber Featuring Khalid As I Am\n",
      "[download] Downloading playlist: Justin Bieber Featuring Khalid As I Am\n",
      "[youtube:search] query \"Justin Bieber Featuring Khalid As I Am\": Downloading web client config\n",
      "[youtube:search] query \"Justin Bieber Featuring Khalid As I Am\" page 1: Downloading API JSON\n",
      "[youtube:search] Playlist Justin Bieber Featuring Khalid As I Am: Downloading 1 items of 1\n",
      "[download] Downloading item 1 of 1\n",
      "[youtube] Extracting URL: https://www.youtube.com/watch?v=33Uh-uNb5Oc\n",
      "[youtube] 33Uh-uNb5Oc: Downloading webpage\n",
      "[youtube] 33Uh-uNb5Oc: Downloading ios player API JSON\n",
      "[youtube] 33Uh-uNb5Oc: Downloading android player API JSON\n"
     ]
    },
    {
     "name": "stderr",
     "output_type": "stream",
     "text": [
      "WARNING: [youtube] YouTube said: ERROR - Precondition check failed.\n",
      "WARNING: [youtube] HTTP Error 400: Bad Request. Retrying (1/3)...\n"
     ]
    },
    {
     "name": "stdout",
     "output_type": "stream",
     "text": [
      "[youtube] 33Uh-uNb5Oc: Downloading android player API JSON\n",
      "[youtube] 33Uh-uNb5Oc: Downloading m3u8 information\n",
      "[info] 33Uh-uNb5Oc: Downloading 1 format(s): 251\n",
      "[download] Destination: C:\\Users\\arwin\\Documents\\dev\\APS360-PROJECT\\data\\billboard_audio\\Justin Bieber Featuring Khalid_As I Am\\Justin Bieber Featuring Khalid_As I Am.webm\n",
      "[download] 100% of    2.86MiB in 00:00:00 at 20.20MiB/s  \n",
      "[download] Finished downloading playlist: Justin Bieber Featuring Khalid As I Am\n",
      "[generic] Extracting URL: Black Eyed Peas X Shakira Girl Like Me\n",
      "[youtube:search] Extracting URL: ytsearch:Black Eyed Peas X Shakira Girl Like Me\n",
      "[download] Downloading playlist: Black Eyed Peas X Shakira Girl Like Me\n",
      "[youtube:search] query \"Black Eyed Peas X Shakira Girl Like Me\": Downloading web client config\n",
      "[youtube:search] query \"Black Eyed Peas X Shakira Girl Like Me\" page 1: Downloading API JSON\n",
      "[youtube:search] Playlist Black Eyed Peas X Shakira Girl Like Me: Downloading 1 items of 1\n",
      "[download] Downloading item 1 of 1\n",
      "[youtube] Extracting URL: https://www.youtube.com/watch?v=vMLk_T0PPbk\n",
      "[youtube] vMLk_T0PPbk: Downloading webpage\n",
      "[youtube] vMLk_T0PPbk: Downloading ios player API JSON\n",
      "[youtube] vMLk_T0PPbk: Downloading android player API JSON\n",
      "[youtube] vMLk_T0PPbk: Downloading m3u8 information\n",
      "[info] vMLk_T0PPbk: Downloading 1 format(s): 251\n",
      "[download] Destination: C:\\Users\\arwin\\Documents\\dev\\APS360-PROJECT\\data\\billboard_audio\\Black Eyed Peas X Shakira_Girl Like Me\\Black Eyed Peas X Shakira_Girl Like Me.webm\n",
      "[download] 100% of    3.93MiB in 00:00:00 at 19.03MiB/s  \n",
      "[download] Finished downloading playlist: Black Eyed Peas X Shakira Girl Like Me\n",
      "[generic] Extracting URL: Erica Banks Buss It\n",
      "[youtube:search] Extracting URL: ytsearch:Erica Banks Buss It\n",
      "[download] Downloading playlist: Erica Banks Buss It\n",
      "[youtube:search] query \"Erica Banks Buss It\": Downloading web client config\n",
      "[youtube:search] query \"Erica Banks Buss It\" page 1: Downloading API JSON\n",
      "[youtube:search] Playlist Erica Banks Buss It: Downloading 1 items of 1\n",
      "[download] Downloading item 1 of 1\n",
      "[youtube] Extracting URL: https://www.youtube.com/watch?v=NOoHJ_ZXlJU\n",
      "[youtube] NOoHJ_ZXlJU: Downloading webpage\n",
      "[youtube] NOoHJ_ZXlJU: Downloading ios player API JSON\n",
      "[youtube] NOoHJ_ZXlJU: Downloading android player API JSON\n"
     ]
    },
    {
     "name": "stderr",
     "output_type": "stream",
     "text": [
      "WARNING: [youtube] YouTube said: ERROR - Precondition check failed.\n",
      "WARNING: [youtube] HTTP Error 400: Bad Request. Retrying (1/3)...\n"
     ]
    },
    {
     "name": "stdout",
     "output_type": "stream",
     "text": [
      "[youtube] NOoHJ_ZXlJU: Downloading android player API JSON\n",
      "[youtube] NOoHJ_ZXlJU: Downloading m3u8 information\n",
      "[info] NOoHJ_ZXlJU: Downloading 1 format(s): 251\n",
      "[download] Destination: C:\\Users\\arwin\\Documents\\dev\\APS360-PROJECT\\data\\billboard_audio\\Erica Banks_Buss It\\Erica Banks_Buss It.webm\n",
      "[download] 100% of    3.28MiB in 00:00:00 at 8.46MiB/s   \n",
      "[download] Finished downloading playlist: Erica Banks Buss It\n",
      "[generic] Extracting URL: BTS Dynamite\n",
      "[youtube:search] Extracting URL: ytsearch:BTS Dynamite\n",
      "[download] Downloading playlist: BTS Dynamite\n",
      "[youtube:search] query \"BTS Dynamite\": Downloading web client config\n",
      "[youtube:search] query \"BTS Dynamite\" page 1: Downloading API JSON\n",
      "[youtube:search] Playlist BTS Dynamite: Downloading 1 items of 1\n",
      "[download] Downloading item 1 of 1\n",
      "[youtube] Extracting URL: https://www.youtube.com/watch?v=gdZLi9oWNZg\n",
      "[youtube] gdZLi9oWNZg: Downloading webpage\n",
      "[youtube] gdZLi9oWNZg: Downloading ios player API JSON\n",
      "[youtube] gdZLi9oWNZg: Downloading android player API JSON\n"
     ]
    },
    {
     "name": "stderr",
     "output_type": "stream",
     "text": [
      "WARNING: [youtube] YouTube said: ERROR - Precondition check failed.\n",
      "WARNING: [youtube] HTTP Error 400: Bad Request. Retrying (1/3)...\n"
     ]
    },
    {
     "name": "stdout",
     "output_type": "stream",
     "text": [
      "[youtube] gdZLi9oWNZg: Downloading android player API JSON\n",
      "[youtube] gdZLi9oWNZg: Downloading m3u8 information\n",
      "[info] gdZLi9oWNZg: Downloading 1 format(s): 251\n",
      "[download] Destination: C:\\Users\\arwin\\Documents\\dev\\APS360-PROJECT\\data\\billboard_audio\\BTS_Dynamite\\BTS_Dynamite.webm\n",
      "[download] 100% of    3.56MiB in 00:00:00 at 16.71MiB/s  \n",
      "[download] Finished downloading playlist: BTS Dynamite\n",
      "[generic] Extracting URL: Rod Wave SoulFly\n",
      "[youtube:search] Extracting URL: ytsearch:Rod Wave SoulFly\n",
      "[download] Downloading playlist: Rod Wave SoulFly\n",
      "[youtube:search] query \"Rod Wave SoulFly\": Downloading web client config\n",
      "[youtube:search] query \"Rod Wave SoulFly\" page 1: Downloading API JSON\n",
      "[youtube:search] Playlist Rod Wave SoulFly: Downloading 1 items of 1\n",
      "[download] Downloading item 1 of 1\n",
      "[youtube] Extracting URL: https://www.youtube.com/watch?v=BiDpwClFsRA\n",
      "[youtube] BiDpwClFsRA: Downloading webpage\n",
      "[youtube] BiDpwClFsRA: Downloading ios player API JSON\n",
      "[youtube] BiDpwClFsRA: Downloading android player API JSON\n"
     ]
    },
    {
     "name": "stderr",
     "output_type": "stream",
     "text": [
      "WARNING: [youtube] YouTube said: ERROR - Precondition check failed.\n",
      "WARNING: [youtube] HTTP Error 400: Bad Request. Retrying (1/3)...\n"
     ]
    },
    {
     "name": "stdout",
     "output_type": "stream",
     "text": [
      "[youtube] BiDpwClFsRA: Downloading android player API JSON\n",
      "[youtube] BiDpwClFsRA: Downloading m3u8 information\n",
      "[info] BiDpwClFsRA: Downloading 1 format(s): 251\n",
      "[download] Destination: C:\\Users\\arwin\\Documents\\dev\\APS360-PROJECT\\data\\billboard_audio\\Rod Wave_SoulFly\\Rod Wave_SoulFly.webm\n",
      "[download] 100% of    3.04MiB in 00:00:00 at 8.86MiB/s   \n",
      "[download] Finished downloading playlist: Rod Wave SoulFly\n",
      "[generic] Extracting URL: Rod Wave Gone Till November\n",
      "[youtube:search] Extracting URL: ytsearch:Rod Wave Gone Till November\n",
      "[download] Downloading playlist: Rod Wave Gone Till November\n",
      "[youtube:search] query \"Rod Wave Gone Till November\": Downloading web client config\n",
      "[youtube:search] query \"Rod Wave Gone Till November\" page 1: Downloading API JSON\n",
      "[youtube:search] Playlist Rod Wave Gone Till November: Downloading 1 items of 1\n",
      "[download] Downloading item 1 of 1\n",
      "[youtube] Extracting URL: https://www.youtube.com/watch?v=KbkFry9DVhc\n",
      "[youtube] KbkFry9DVhc: Downloading webpage\n",
      "[youtube] KbkFry9DVhc: Downloading ios player API JSON\n",
      "[youtube] KbkFry9DVhc: Downloading android player API JSON\n"
     ]
    },
    {
     "name": "stderr",
     "output_type": "stream",
     "text": [
      "WARNING: [youtube] YouTube said: ERROR - Precondition check failed.\n",
      "WARNING: [youtube] HTTP Error 400: Bad Request. Retrying (1/3)...\n"
     ]
    },
    {
     "name": "stdout",
     "output_type": "stream",
     "text": [
      "[youtube] KbkFry9DVhc: Downloading android player API JSON\n"
     ]
    },
    {
     "name": "stderr",
     "output_type": "stream",
     "text": [
      "WARNING: [youtube] YouTube said: ERROR - Precondition check failed.\n",
      "WARNING: [youtube] HTTP Error 400: Bad Request. Retrying (2/3)...\n"
     ]
    },
    {
     "name": "stdout",
     "output_type": "stream",
     "text": [
      "[youtube] KbkFry9DVhc: Downloading android player API JSON\n",
      "[youtube] KbkFry9DVhc: Downloading m3u8 information\n",
      "[info] KbkFry9DVhc: Downloading 1 format(s): 251\n",
      "[download] Destination: C:\\Users\\arwin\\Documents\\dev\\APS360-PROJECT\\data\\billboard_audio\\Rod Wave_Gone Till November\\Rod Wave_Gone Till November.webm\n",
      "[download] 100% of    2.66MiB in 00:00:01 at 2.53MiB/s   \n",
      "[download] Finished downloading playlist: Rod Wave Gone Till November\n",
      "[generic] Extracting URL: Rod Wave Don't Forget\n",
      "[youtube:search] Extracting URL: ytsearch:Rod Wave Don't Forget\n",
      "[download] Downloading playlist: Rod Wave Don't Forget\n",
      "[youtube:search] query \"Rod Wave Don't Forget\": Downloading web client config\n",
      "[youtube:search] query \"Rod Wave Don't Forget\" page 1: Downloading API JSON\n",
      "[youtube:search] Playlist Rod Wave Don't Forget: Downloading 1 items of 1\n",
      "[download] Downloading item 1 of 1\n",
      "[youtube] Extracting URL: https://www.youtube.com/watch?v=r9XiqcsU8Es\n",
      "[youtube] r9XiqcsU8Es: Downloading webpage\n",
      "[youtube] r9XiqcsU8Es: Downloading ios player API JSON\n",
      "[youtube] r9XiqcsU8Es: Downloading android player API JSON\n"
     ]
    },
    {
     "name": "stderr",
     "output_type": "stream",
     "text": [
      "WARNING: [youtube] YouTube said: ERROR - Precondition check failed.\n",
      "WARNING: [youtube] HTTP Error 400: Bad Request. Retrying (1/3)...\n"
     ]
    },
    {
     "name": "stdout",
     "output_type": "stream",
     "text": [
      "[youtube] r9XiqcsU8Es: Downloading android player API JSON\n",
      "[youtube] r9XiqcsU8Es: Downloading m3u8 information\n",
      "[info] r9XiqcsU8Es: Downloading 1 format(s): 251\n",
      "[download] Destination: C:\\Users\\arwin\\Documents\\dev\\APS360-PROJECT\\data\\billboard_audio\\Rod Wave_Don't Forget\\Rod Wave_Don't Forget.webm\n",
      "[download] 100% of    4.06MiB in 00:00:00 at 4.33MiB/s   \n",
      "[download] Finished downloading playlist: Rod Wave Don't Forget\n",
      "[generic] Extracting URL: Rod Wave Blame On You\n",
      "[youtube:search] Extracting URL: ytsearch:Rod Wave Blame On You\n",
      "[download] Downloading playlist: Rod Wave Blame On You\n",
      "[youtube:search] query \"Rod Wave Blame On You\": Downloading web client config\n",
      "[youtube:search] query \"Rod Wave Blame On You\" page 1: Downloading API JSON\n",
      "[youtube:search] Playlist Rod Wave Blame On You: Downloading 1 items of 1\n",
      "[download] Downloading item 1 of 1\n",
      "[youtube] Extracting URL: https://www.youtube.com/watch?v=E64Y-hiuf4M\n",
      "[youtube] E64Y-hiuf4M: Downloading webpage\n",
      "[youtube] E64Y-hiuf4M: Downloading ios player API JSON\n",
      "[youtube] E64Y-hiuf4M: Downloading android player API JSON\n",
      "[youtube] E64Y-hiuf4M: Downloading m3u8 information\n",
      "[info] E64Y-hiuf4M: Downloading 1 format(s): 251\n",
      "[download] Destination: C:\\Users\\arwin\\Documents\\dev\\APS360-PROJECT\\data\\billboard_audio\\Rod Wave_Blame On You\\Rod Wave_Blame On You.webm\n",
      "[download] 100% of    2.66MiB in 00:00:00 at 14.91MiB/s  \n",
      "[download] Finished downloading playlist: Rod Wave Blame On You\n",
      "[generic] Extracting URL: Rod Wave All I Got\n",
      "[youtube:search] Extracting URL: ytsearch:Rod Wave All I Got\n",
      "[download] Downloading playlist: Rod Wave All I Got\n",
      "[youtube:search] query \"Rod Wave All I Got\": Downloading web client config\n",
      "[youtube:search] query \"Rod Wave All I Got\" page 1: Downloading API JSON\n",
      "[youtube:search] Playlist Rod Wave All I Got: Downloading 1 items of 1\n",
      "[download] Downloading item 1 of 1\n",
      "[youtube] Extracting URL: https://www.youtube.com/watch?v=_qFz-KgyeKc\n",
      "[youtube] _qFz-KgyeKc: Downloading webpage\n",
      "[youtube] _qFz-KgyeKc: Downloading ios player API JSON\n",
      "[youtube] _qFz-KgyeKc: Downloading android player API JSON\n"
     ]
    },
    {
     "name": "stderr",
     "output_type": "stream",
     "text": [
      "WARNING: [youtube] YouTube said: ERROR - Precondition check failed.\n",
      "WARNING: [youtube] HTTP Error 400: Bad Request. Retrying (1/3)...\n"
     ]
    },
    {
     "name": "stdout",
     "output_type": "stream",
     "text": [
      "[youtube] _qFz-KgyeKc: Downloading android player API JSON\n"
     ]
    },
    {
     "name": "stderr",
     "output_type": "stream",
     "text": [
      "WARNING: [youtube] YouTube said: ERROR - Precondition check failed.\n",
      "WARNING: [youtube] HTTP Error 400: Bad Request. Retrying (2/3)...\n"
     ]
    },
    {
     "name": "stdout",
     "output_type": "stream",
     "text": [
      "[youtube] _qFz-KgyeKc: Downloading android player API JSON\n"
     ]
    },
    {
     "name": "stderr",
     "output_type": "stream",
     "text": [
      "WARNING: [youtube] YouTube said: ERROR - Precondition check failed.\n",
      "WARNING: [youtube] HTTP Error 400: Bad Request. Retrying (3/3)...\n"
     ]
    },
    {
     "name": "stdout",
     "output_type": "stream",
     "text": [
      "[youtube] _qFz-KgyeKc: Downloading android player API JSON\n",
      "[youtube] _qFz-KgyeKc: Downloading m3u8 information\n",
      "[info] _qFz-KgyeKc: Downloading 1 format(s): 251\n",
      "[download] Destination: C:\\Users\\arwin\\Documents\\dev\\APS360-PROJECT\\data\\billboard_audio\\Rod Wave_All I Got\\Rod Wave_All I Got.webm\n",
      "[download] 100% of    3.17MiB in 00:00:00 at 11.46MiB/s    \n",
      "[download] Finished downloading playlist: Rod Wave All I Got\n",
      "[generic] Extracting URL: Rod Wave Pills & Billz\n",
      "[youtube:search] Extracting URL: ytsearch:Rod Wave Pills & Billz\n",
      "[download] Downloading playlist: Rod Wave Pills & Billz\n",
      "[youtube:search] query \"Rod Wave Pills & Billz\": Downloading web client config\n",
      "[youtube:search] query \"Rod Wave Pills & Billz\" page 1: Downloading API JSON\n",
      "[youtube:search] Playlist Rod Wave Pills & Billz: Downloading 1 items of 1\n",
      "[download] Downloading item 1 of 1\n",
      "[youtube] Extracting URL: https://www.youtube.com/watch?v=_j2gKzyc5zE\n",
      "[youtube] _j2gKzyc5zE: Downloading webpage\n",
      "[youtube] _j2gKzyc5zE: Downloading ios player API JSON\n",
      "[youtube] _j2gKzyc5zE: Downloading android player API JSON\n",
      "[youtube] _j2gKzyc5zE: Downloading m3u8 information\n",
      "[info] _j2gKzyc5zE: Downloading 1 format(s): 251\n",
      "[download] Destination: C:\\Users\\arwin\\Documents\\dev\\APS360-PROJECT\\data\\billboard_audio\\Rod Wave_Pills & Billz\\Rod Wave_Pills & Billz.webm\n",
      "[download] 100% of    2.74MiB in 00:00:00 at 12.53MiB/s    \n",
      "[download] Finished downloading playlist: Rod Wave Pills & Billz\n",
      "[generic] Extracting URL: Rod Wave How The Game Go\n",
      "[youtube:search] Extracting URL: ytsearch:Rod Wave How The Game Go\n",
      "[download] Downloading playlist: Rod Wave How The Game Go\n",
      "[youtube:search] query \"Rod Wave How The Game Go\": Downloading web client config\n",
      "[youtube:search] query \"Rod Wave How The Game Go\" page 1: Downloading API JSON\n",
      "[youtube:search] Playlist Rod Wave How The Game Go: Downloading 1 items of 1\n",
      "[download] Downloading item 1 of 1\n",
      "[youtube] Extracting URL: https://www.youtube.com/watch?v=ZgW9egYZxDc\n",
      "[youtube] ZgW9egYZxDc: Downloading webpage\n",
      "[youtube] ZgW9egYZxDc: Downloading ios player API JSON\n",
      "[youtube] ZgW9egYZxDc: Downloading android player API JSON\n",
      "[youtube] ZgW9egYZxDc: Downloading m3u8 information\n",
      "[info] ZgW9egYZxDc: Downloading 1 format(s): 251\n",
      "[download] Destination: C:\\Users\\arwin\\Documents\\dev\\APS360-PROJECT\\data\\billboard_audio\\Rod Wave_How The Game Go\\Rod Wave_How The Game Go.webm\n",
      "[download] 100% of    2.12MiB in 00:00:00 at 4.69MiB/s   \n",
      "[download] Finished downloading playlist: Rod Wave How The Game Go\n",
      "[generic] Extracting URL: Rod Wave OMDB\n",
      "[youtube:search] Extracting URL: ytsearch:Rod Wave OMDB\n",
      "[download] Downloading playlist: Rod Wave OMDB\n",
      "[youtube:search] query \"Rod Wave OMDB\": Downloading web client config\n",
      "[youtube:search] query \"Rod Wave OMDB\" page 1: Downloading API JSON\n",
      "[youtube:search] Playlist Rod Wave OMDB: Downloading 1 items of 1\n",
      "[download] Downloading item 1 of 1\n",
      "[youtube] Extracting URL: https://www.youtube.com/watch?v=6GfNEwP5POI\n",
      "[youtube] 6GfNEwP5POI: Downloading webpage\n",
      "[youtube] 6GfNEwP5POI: Downloading ios player API JSON\n",
      "[youtube] 6GfNEwP5POI: Downloading android player API JSON\n"
     ]
    },
    {
     "name": "stderr",
     "output_type": "stream",
     "text": [
      "WARNING: [youtube] YouTube said: ERROR - Precondition check failed.\n",
      "WARNING: [youtube] HTTP Error 400: Bad Request. Retrying (1/3)...\n"
     ]
    },
    {
     "name": "stdout",
     "output_type": "stream",
     "text": [
      "[youtube] 6GfNEwP5POI: Downloading android player API JSON\n"
     ]
    },
    {
     "name": "stderr",
     "output_type": "stream",
     "text": [
      "WARNING: [youtube] YouTube said: ERROR - Precondition check failed.\n",
      "WARNING: [youtube] HTTP Error 400: Bad Request. Retrying (2/3)...\n"
     ]
    },
    {
     "name": "stdout",
     "output_type": "stream",
     "text": [
      "[youtube] 6GfNEwP5POI: Downloading android player API JSON\n"
     ]
    },
    {
     "name": "stderr",
     "output_type": "stream",
     "text": [
      "WARNING: [youtube] YouTube said: ERROR - Precondition check failed.\n",
      "WARNING: [youtube] HTTP Error 400: Bad Request. Retrying (3/3)...\n"
     ]
    },
    {
     "name": "stdout",
     "output_type": "stream",
     "text": [
      "[youtube] 6GfNEwP5POI: Downloading android player API JSON\n",
      "[youtube] 6GfNEwP5POI: Downloading m3u8 information\n",
      "[info] 6GfNEwP5POI: Downloading 1 format(s): 251\n",
      "[download] Destination: C:\\Users\\arwin\\Documents\\dev\\APS360-PROJECT\\data\\billboard_audio\\Rod Wave_OMDB\\Rod Wave_OMDB.webm\n",
      "[download] 100% of    3.07MiB in 00:00:00 at 12.45MiB/s    \n",
      "[download] Finished downloading playlist: Rod Wave OMDB\n",
      "[generic] Extracting URL: NF Clouds\n",
      "[youtube:search] Extracting URL: ytsearch:NF Clouds\n",
      "[download] Downloading playlist: NF Clouds\n",
      "[youtube:search] query \"NF Clouds\": Downloading web client config\n",
      "[youtube:search] query \"NF Clouds\" page 1: Downloading API JSON\n",
      "[youtube:search] Playlist NF Clouds: Downloading 1 items of 1\n",
      "[download] Downloading item 1 of 1\n",
      "[youtube] Extracting URL: https://www.youtube.com/watch?v=fibYknUCIU4\n",
      "[youtube] fibYknUCIU4: Downloading webpage\n",
      "[youtube] fibYknUCIU4: Downloading ios player API JSON\n",
      "[youtube] fibYknUCIU4: Downloading android player API JSON\n",
      "[youtube] fibYknUCIU4: Downloading m3u8 information\n",
      "[info] fibYknUCIU4: Downloading 1 format(s): 251\n",
      "[download] Destination: C:\\Users\\arwin\\Documents\\dev\\APS360-PROJECT\\data\\billboard_audio\\NF_Clouds\\NF_Clouds.webm\n",
      "[download] 100% of    3.94MiB in 00:00:00 at 20.31MiB/s  \n",
      "[download] Finished downloading playlist: NF Clouds\n",
      "[generic] Extracting URL: Rod Wave What's Love__\n",
      "[youtube:search] Extracting URL: ytsearch:Rod Wave What's Love__\n",
      "[download] Downloading playlist: Rod Wave What's Love__\n",
      "[youtube:search] query \"Rod Wave What's Love__\": Downloading web client config\n",
      "[youtube:search] query \"Rod Wave What's Love__\" page 1: Downloading API JSON\n",
      "[youtube:search] Playlist Rod Wave What's Love__: Downloading 1 items of 1\n",
      "[download] Downloading item 1 of 1\n",
      "[youtube] Extracting URL: https://www.youtube.com/watch?v=UqCKzyTaDdE\n",
      "[youtube] UqCKzyTaDdE: Downloading webpage\n",
      "[youtube] UqCKzyTaDdE: Downloading ios player API JSON\n",
      "[youtube] UqCKzyTaDdE: Downloading android player API JSON\n",
      "[youtube] UqCKzyTaDdE: Downloading m3u8 information\n",
      "[info] UqCKzyTaDdE: Downloading 1 format(s): 251\n",
      "[download] Destination: C:\\Users\\arwin\\Documents\\dev\\APS360-PROJECT\\data\\billboard_audio\\Rod Wave_What's Love__\\Rod Wave_What's Love__.webm\n",
      "[download] 100% of    2.64MiB in 00:00:00 at 17.29MiB/s  \n",
      "[download] Finished downloading playlist: Rod Wave What's Love__\n",
      "[generic] Extracting URL: Rod Wave Shock Da World\n",
      "[youtube:search] Extracting URL: ytsearch:Rod Wave Shock Da World\n",
      "[download] Downloading playlist: Rod Wave Shock Da World\n",
      "[youtube:search] query \"Rod Wave Shock Da World\": Downloading web client config\n",
      "[youtube:search] query \"Rod Wave Shock Da World\" page 1: Downloading API JSON\n",
      "[youtube:search] Playlist Rod Wave Shock Da World: Downloading 1 items of 1\n",
      "[download] Downloading item 1 of 1\n",
      "[youtube] Extracting URL: https://www.youtube.com/watch?v=Wb8-6QCd_yI\n",
      "[youtube] Wb8-6QCd_yI: Downloading webpage\n",
      "[youtube] Wb8-6QCd_yI: Downloading ios player API JSON\n",
      "[youtube] Wb8-6QCd_yI: Downloading android player API JSON\n"
     ]
    },
    {
     "name": "stderr",
     "output_type": "stream",
     "text": [
      "WARNING: [youtube] YouTube said: ERROR - Precondition check failed.\n",
      "WARNING: [youtube] HTTP Error 400: Bad Request. Retrying (1/3)...\n"
     ]
    },
    {
     "name": "stdout",
     "output_type": "stream",
     "text": [
      "[youtube] Wb8-6QCd_yI: Downloading android player API JSON\n"
     ]
    },
    {
     "name": "stderr",
     "output_type": "stream",
     "text": [
      "WARNING: [youtube] YouTube said: ERROR - Precondition check failed.\n",
      "WARNING: [youtube] HTTP Error 400: Bad Request. Retrying (2/3)...\n"
     ]
    },
    {
     "name": "stdout",
     "output_type": "stream",
     "text": [
      "[youtube] Wb8-6QCd_yI: Downloading android player API JSON\n"
     ]
    },
    {
     "name": "stderr",
     "output_type": "stream",
     "text": [
      "WARNING: [youtube] YouTube said: ERROR - Precondition check failed.\n",
      "WARNING: [youtube] HTTP Error 400: Bad Request. Retrying (3/3)...\n"
     ]
    },
    {
     "name": "stdout",
     "output_type": "stream",
     "text": [
      "[youtube] Wb8-6QCd_yI: Downloading android player API JSON\n"
     ]
    },
    {
     "name": "stderr",
     "output_type": "stream",
     "text": [
      "WARNING: [youtube] YouTube said: ERROR - Precondition check failed.\n",
      "WARNING: [youtube] Unable to download API page: HTTP Error 400: Bad Request (caused by <HTTPError 400: Bad Request>); please report this issue on  https://github.com/yt-dlp/yt-dlp/issues?q= , filling out the appropriate issue template. Confirm you are on the latest version using  yt-dlp -U\n"
     ]
    },
    {
     "name": "stdout",
     "output_type": "stream",
     "text": [
      "[youtube] Wb8-6QCd_yI: Downloading m3u8 information\n",
      "[info] Wb8-6QCd_yI: Downloading 1 format(s): 251\n",
      "[download] Destination: C:\\Users\\arwin\\Documents\\dev\\APS360-PROJECT\\data\\billboard_audio\\Rod Wave_Shock Da World\\Rod Wave_Shock Da World.webm\n",
      "[download] 100% of    3.30MiB in 00:00:00 at 8.39MiB/s   \n",
      "[download] Finished downloading playlist: Rod Wave Shock Da World\n",
      "[generic] Extracting URL: Rod Wave Sneaky Links\n",
      "[youtube:search] Extracting URL: ytsearch:Rod Wave Sneaky Links\n",
      "[download] Downloading playlist: Rod Wave Sneaky Links\n",
      "[youtube:search] query \"Rod Wave Sneaky Links\": Downloading web client config\n",
      "[youtube:search] query \"Rod Wave Sneaky Links\" page 1: Downloading API JSON\n",
      "[youtube:search] Playlist Rod Wave Sneaky Links: Downloading 1 items of 1\n",
      "[download] Downloading item 1 of 1\n",
      "[youtube] Extracting URL: https://www.youtube.com/watch?v=4kwZ3yO1SvQ\n",
      "[youtube] 4kwZ3yO1SvQ: Downloading webpage\n",
      "[youtube] 4kwZ3yO1SvQ: Downloading ios player API JSON\n",
      "[youtube] 4kwZ3yO1SvQ: Downloading android player API JSON\n"
     ]
    },
    {
     "name": "stderr",
     "output_type": "stream",
     "text": [
      "WARNING: [youtube] YouTube said: ERROR - Precondition check failed.\n",
      "WARNING: [youtube] HTTP Error 400: Bad Request. Retrying (1/3)...\n"
     ]
    },
    {
     "name": "stdout",
     "output_type": "stream",
     "text": [
      "[youtube] 4kwZ3yO1SvQ: Downloading android player API JSON\n"
     ]
    },
    {
     "name": "stderr",
     "output_type": "stream",
     "text": [
      "WARNING: [youtube] YouTube said: ERROR - Precondition check failed.\n",
      "WARNING: [youtube] HTTP Error 400: Bad Request. Retrying (2/3)...\n"
     ]
    },
    {
     "name": "stdout",
     "output_type": "stream",
     "text": [
      "[youtube] 4kwZ3yO1SvQ: Downloading android player API JSON\n"
     ]
    },
    {
     "name": "stderr",
     "output_type": "stream",
     "text": [
      "WARNING: [youtube] YouTube said: ERROR - Precondition check failed.\n",
      "WARNING: [youtube] HTTP Error 400: Bad Request. Retrying (3/3)...\n"
     ]
    },
    {
     "name": "stdout",
     "output_type": "stream",
     "text": [
      "[youtube] 4kwZ3yO1SvQ: Downloading android player API JSON\n"
     ]
    },
    {
     "name": "stderr",
     "output_type": "stream",
     "text": [
      "WARNING: [youtube] YouTube said: ERROR - Precondition check failed.\n",
      "WARNING: [youtube] Unable to download API page: HTTP Error 400: Bad Request (caused by <HTTPError 400: Bad Request>); please report this issue on  https://github.com/yt-dlp/yt-dlp/issues?q= , filling out the appropriate issue template. Confirm you are on the latest version using  yt-dlp -U\n"
     ]
    },
    {
     "name": "stdout",
     "output_type": "stream",
     "text": [
      "[youtube] 4kwZ3yO1SvQ: Downloading m3u8 information\n",
      "[info] 4kwZ3yO1SvQ: Downloading 1 format(s): 251\n",
      "[download] Destination: C:\\Users\\arwin\\Documents\\dev\\APS360-PROJECT\\data\\billboard_audio\\Rod Wave_Sneaky Links\\Rod Wave_Sneaky Links.webm\n",
      "[download] 100% of    3.22MiB in 00:00:00 at 6.76MiB/s   \n",
      "[download] Finished downloading playlist: Rod Wave Sneaky Links\n",
      "[generic] Extracting URL: Luke Combs Better Together\n",
      "[youtube:search] Extracting URL: ytsearch:Luke Combs Better Together\n",
      "[download] Downloading playlist: Luke Combs Better Together\n",
      "[youtube:search] query \"Luke Combs Better Together\": Downloading web client config\n",
      "[youtube:search] query \"Luke Combs Better Together\" page 1: Downloading API JSON\n",
      "[youtube:search] Playlist Luke Combs Better Together: Downloading 1 items of 1\n",
      "[download] Downloading item 1 of 1\n",
      "[youtube] Extracting URL: https://www.youtube.com/watch?v=m5tqzFo9gzg\n",
      "[youtube] m5tqzFo9gzg: Downloading webpage\n",
      "[youtube] m5tqzFo9gzg: Downloading ios player API JSON\n",
      "[youtube] m5tqzFo9gzg: Downloading android player API JSON\n"
     ]
    },
    {
     "name": "stderr",
     "output_type": "stream",
     "text": [
      "WARNING: [youtube] YouTube said: ERROR - Precondition check failed.\n",
      "WARNING: [youtube] HTTP Error 400: Bad Request. Retrying (1/3)...\n"
     ]
    },
    {
     "name": "stdout",
     "output_type": "stream",
     "text": [
      "[youtube] m5tqzFo9gzg: Downloading android player API JSON\n"
     ]
    },
    {
     "name": "stderr",
     "output_type": "stream",
     "text": [
      "WARNING: [youtube] YouTube said: ERROR - Precondition check failed.\n",
      "WARNING: [youtube] HTTP Error 400: Bad Request. Retrying (2/3)...\n"
     ]
    },
    {
     "name": "stdout",
     "output_type": "stream",
     "text": [
      "[youtube] m5tqzFo9gzg: Downloading android player API JSON\n",
      "[youtube] m5tqzFo9gzg: Downloading m3u8 information\n",
      "[info] m5tqzFo9gzg: Downloading 1 format(s): 251\n",
      "[download] Destination: C:\\Users\\arwin\\Documents\\dev\\APS360-PROJECT\\data\\billboard_audio\\Luke Combs_Better Together\\Luke Combs_Better Together.webm\n",
      "[download] 100% of    3.94MiB in 00:00:00 at 20.55MiB/s  \n",
      "[download] Finished downloading playlist: Luke Combs Better Together\n",
      "[generic] Extracting URL: Niko Moon Good Time\n",
      "[youtube:search] Extracting URL: ytsearch:Niko Moon Good Time\n",
      "[download] Downloading playlist: Niko Moon Good Time\n",
      "[youtube:search] query \"Niko Moon Good Time\": Downloading web client config\n",
      "[youtube:search] query \"Niko Moon Good Time\" page 1: Downloading API JSON\n",
      "[youtube:search] Playlist Niko Moon Good Time: Downloading 1 items of 1\n",
      "[download] Downloading item 1 of 1\n",
      "[youtube] Extracting URL: https://www.youtube.com/watch?v=mKnQXaIlrMo\n",
      "[youtube] mKnQXaIlrMo: Downloading webpage\n",
      "[youtube] mKnQXaIlrMo: Downloading ios player API JSON\n",
      "[youtube] mKnQXaIlrMo: Downloading android player API JSON\n"
     ]
    },
    {
     "name": "stderr",
     "output_type": "stream",
     "text": [
      "WARNING: [youtube] YouTube said: ERROR - Precondition check failed.\n",
      "WARNING: [youtube] HTTP Error 400: Bad Request. Retrying (1/3)...\n"
     ]
    },
    {
     "name": "stdout",
     "output_type": "stream",
     "text": [
      "[youtube] mKnQXaIlrMo: Downloading android player API JSON\n"
     ]
    },
    {
     "name": "stderr",
     "output_type": "stream",
     "text": [
      "WARNING: [youtube] YouTube said: ERROR - Precondition check failed.\n",
      "WARNING: [youtube] HTTP Error 400: Bad Request. Retrying (2/3)...\n"
     ]
    },
    {
     "name": "stdout",
     "output_type": "stream",
     "text": [
      "[youtube] mKnQXaIlrMo: Downloading android player API JSON\n",
      "[youtube] mKnQXaIlrMo: Downloading m3u8 information\n",
      "[info] mKnQXaIlrMo: Downloading 1 format(s): 251\n",
      "[download] Destination: C:\\Users\\arwin\\Documents\\dev\\APS360-PROJECT\\data\\billboard_audio\\Niko Moon_Good Time\\Niko Moon_Good Time.webm\n",
      "[download] 100% of    3.57MiB in 00:00:01 at 3.36MiB/s   \n",
      "[download] Finished downloading playlist: Niko Moon Good Time\n",
      "[generic] Extracting URL: Justin Bieber Featuring The Kid LAROI Unstable\n",
      "[youtube:search] Extracting URL: ytsearch:Justin Bieber Featuring The Kid LAROI Unstable\n",
      "[download] Downloading playlist: Justin Bieber Featuring The Kid LAROI Unstable\n",
      "[youtube:search] query \"Justin Bieber Featuring The Kid LAROI Unstable\": Downloading web client config\n",
      "[youtube:search] query \"Justin Bieber Featuring The Kid LAROI Unstable\" page 1: Downloading API JSON\n",
      "[youtube:search] Playlist Justin Bieber Featuring The Kid LAROI Unstable: Downloading 1 items of 1\n",
      "[download] Downloading item 1 of 1\n",
      "[youtube] Extracting URL: https://www.youtube.com/watch?v=mmr0LHIVV_E\n",
      "[youtube] mmr0LHIVV_E: Downloading webpage\n",
      "[youtube] mmr0LHIVV_E: Downloading ios player API JSON\n",
      "[youtube] mmr0LHIVV_E: Downloading android player API JSON\n"
     ]
    },
    {
     "name": "stderr",
     "output_type": "stream",
     "text": [
      "WARNING: [youtube] YouTube said: ERROR - Precondition check failed.\n",
      "WARNING: [youtube] HTTP Error 400: Bad Request. Retrying (1/3)...\n"
     ]
    },
    {
     "name": "stdout",
     "output_type": "stream",
     "text": [
      "[youtube] mmr0LHIVV_E: Downloading android player API JSON\n",
      "[youtube] mmr0LHIVV_E: Downloading m3u8 information\n",
      "[info] mmr0LHIVV_E: Downloading 1 format(s): 251\n",
      "[download] Destination: C:\\Users\\arwin\\Documents\\dev\\APS360-PROJECT\\data\\billboard_audio\\Justin Bieber Featuring The Kid LAROI_Unstable\\Justin Bieber Featuring The Kid LAROI_Unstable.webm\n",
      "[download] 100% of    2.54MiB in 00:00:00 at 11.69MiB/s    \n",
      "[download] Finished downloading playlist: Justin Bieber Featuring The Kid LAROI Unstable\n",
      "[generic] Extracting URL: Justin Bieber Off My Face\n",
      "[youtube:search] Extracting URL: ytsearch:Justin Bieber Off My Face\n",
      "[download] Downloading playlist: Justin Bieber Off My Face\n",
      "[youtube:search] query \"Justin Bieber Off My Face\": Downloading web client config\n",
      "[youtube:search] query \"Justin Bieber Off My Face\" page 1: Downloading API JSON\n",
      "[youtube:search] Playlist Justin Bieber Off My Face: Downloading 1 items of 1\n",
      "[download] Downloading item 1 of 1\n",
      "[youtube] Extracting URL: https://www.youtube.com/watch?v=ENjrJ_zyeUc\n",
      "[youtube] ENjrJ_zyeUc: Downloading webpage\n",
      "[youtube] ENjrJ_zyeUc: Downloading ios player API JSON\n",
      "[youtube] ENjrJ_zyeUc: Downloading android player API JSON\n",
      "[youtube] ENjrJ_zyeUc: Downloading m3u8 information\n",
      "[info] ENjrJ_zyeUc: Downloading 1 format(s): 251\n",
      "[download] Destination: C:\\Users\\arwin\\Documents\\dev\\APS360-PROJECT\\data\\billboard_audio\\Justin Bieber_Off My Face\\Justin Bieber_Off My Face.webm\n",
      "[download] 100% of    2.67MiB in 00:00:00 at 11.01MiB/s  \n",
      "[download] Finished downloading playlist: Justin Bieber Off My Face\n",
      "[generic] Extracting URL: Justin Bieber 2 Much\n",
      "[youtube:search] Extracting URL: ytsearch:Justin Bieber 2 Much\n",
      "[download] Downloading playlist: Justin Bieber 2 Much\n",
      "[youtube:search] query \"Justin Bieber 2 Much\": Downloading web client config\n",
      "[youtube:search] query \"Justin Bieber 2 Much\" page 1: Downloading API JSON\n",
      "[youtube:search] Playlist Justin Bieber 2 Much: Downloading 1 items of 1\n",
      "[download] Downloading item 1 of 1\n",
      "[youtube] Extracting URL: https://www.youtube.com/watch?v=xFJjczkU4So\n",
      "[youtube] xFJjczkU4So: Downloading webpage\n",
      "[youtube] xFJjczkU4So: Downloading ios player API JSON\n",
      "[youtube] xFJjczkU4So: Downloading android player API JSON\n"
     ]
    },
    {
     "name": "stderr",
     "output_type": "stream",
     "text": [
      "WARNING: [youtube] YouTube said: ERROR - Precondition check failed.\n",
      "WARNING: [youtube] HTTP Error 400: Bad Request. Retrying (1/3)...\n"
     ]
    },
    {
     "name": "stdout",
     "output_type": "stream",
     "text": [
      "[youtube] xFJjczkU4So: Downloading android player API JSON\n",
      "[youtube] xFJjczkU4So: Downloading m3u8 information\n",
      "[info] xFJjczkU4So: Downloading 1 format(s): 251\n",
      "[download] Destination: C:\\Users\\arwin\\Documents\\dev\\APS360-PROJECT\\data\\billboard_audio\\Justin Bieber_2 Much\\Justin Bieber_2 Much.webm\n",
      "[download] 100% of    2.15MiB in 00:00:00 at 15.03MiB/s  \n",
      "[download] Finished downloading playlist: Justin Bieber 2 Much\n",
      "[generic] Extracting URL: Justin Bieber Deserve You\n",
      "[youtube:search] Extracting URL: ytsearch:Justin Bieber Deserve You\n",
      "[download] Downloading playlist: Justin Bieber Deserve You\n",
      "[youtube:search] query \"Justin Bieber Deserve You\": Downloading web client config\n",
      "[youtube:search] query \"Justin Bieber Deserve You\" page 1: Downloading API JSON\n",
      "[youtube:search] Playlist Justin Bieber Deserve You: Downloading 1 items of 1\n",
      "[download] Downloading item 1 of 1\n",
      "[youtube] Extracting URL: https://www.youtube.com/watch?v=1_NVaujWgBg\n",
      "[youtube] 1_NVaujWgBg: Downloading webpage\n",
      "[youtube] 1_NVaujWgBg: Downloading ios player API JSON\n",
      "[youtube] 1_NVaujWgBg: Downloading android player API JSON\n",
      "[youtube] 1_NVaujWgBg: Downloading m3u8 information\n",
      "[info] 1_NVaujWgBg: Downloading 1 format(s): 251\n",
      "[download] Destination: C:\\Users\\arwin\\Documents\\dev\\APS360-PROJECT\\data\\billboard_audio\\Justin Bieber_Deserve You\\Justin Bieber_Deserve You.webm\n",
      "[download] 100% of    3.09MiB in 00:00:00 at 8.42MiB/s   \n",
      "[download] Finished downloading playlist: Justin Bieber Deserve You\n",
      "[generic] Extracting URL: Justin Bieber Featuring Dominic Fike Die For You\n",
      "[youtube:search] Extracting URL: ytsearch:Justin Bieber Featuring Dominic Fike Die For You\n",
      "[download] Downloading playlist: Justin Bieber Featuring Dominic Fike Die For You\n",
      "[youtube:search] query \"Justin Bieber Featuring Dominic Fike Die For You\": Downloading web client config\n",
      "[youtube:search] query \"Justin Bieber Featuring Dominic Fike Die For You\" page 1: Downloading API JSON\n",
      "[youtube:search] Playlist Justin Bieber Featuring Dominic Fike Die For You: Downloading 1 items of 1\n",
      "[download] Downloading item 1 of 1\n",
      "[youtube] Extracting URL: https://www.youtube.com/watch?v=1M6evm8ycmg\n",
      "[youtube] 1M6evm8ycmg: Downloading webpage\n",
      "[youtube] 1M6evm8ycmg: Downloading ios player API JSON\n",
      "[youtube] 1M6evm8ycmg: Downloading android player API JSON\n"
     ]
    },
    {
     "name": "stderr",
     "output_type": "stream",
     "text": [
      "WARNING: [youtube] YouTube said: ERROR - Precondition check failed.\n",
      "WARNING: [youtube] HTTP Error 400: Bad Request. Retrying (1/3)...\n"
     ]
    },
    {
     "name": "stdout",
     "output_type": "stream",
     "text": [
      "[youtube] 1M6evm8ycmg: Downloading android player API JSON\n",
      "[youtube] 1M6evm8ycmg: Downloading m3u8 information\n",
      "[info] 1M6evm8ycmg: Downloading 1 format(s): 251\n",
      "[download] Destination: C:\\Users\\arwin\\Documents\\dev\\APS360-PROJECT\\data\\billboard_audio\\Justin Bieber Featuring Dominic Fike_Die For You\\Justin Bieber Featuring Dominic Fike_Die For You.webm\n",
      "[download] 100% of    3.29MiB in 00:00:00 at 18.44MiB/s    \n",
      "[download] Finished downloading playlist: Justin Bieber Featuring Dominic Fike Die For You\n",
      "[generic] Extracting URL: Justin Bieber Featuring BEAM Love You Different\n",
      "[youtube:search] Extracting URL: ytsearch:Justin Bieber Featuring BEAM Love You Different\n",
      "[download] Downloading playlist: Justin Bieber Featuring BEAM Love You Different\n",
      "[youtube:search] query \"Justin Bieber Featuring BEAM Love You Different\": Downloading web client config\n",
      "[youtube:search] query \"Justin Bieber Featuring BEAM Love You Different\" page 1: Downloading API JSON\n",
      "[youtube:search] Playlist Justin Bieber Featuring BEAM Love You Different: Downloading 1 items of 1\n",
      "[download] Downloading item 1 of 1\n",
      "[youtube] Extracting URL: https://www.youtube.com/watch?v=hziNlrrNdvM\n",
      "[youtube] hziNlrrNdvM: Downloading webpage\n",
      "[youtube] hziNlrrNdvM: Downloading ios player API JSON\n",
      "[youtube] hziNlrrNdvM: Downloading android player API JSON\n"
     ]
    },
    {
     "name": "stderr",
     "output_type": "stream",
     "text": [
      "WARNING: [youtube] YouTube said: ERROR - Precondition check failed.\n",
      "WARNING: [youtube] HTTP Error 400: Bad Request. Retrying (1/3)...\n"
     ]
    },
    {
     "name": "stdout",
     "output_type": "stream",
     "text": [
      "[youtube] hziNlrrNdvM: Downloading android player API JSON\n",
      "[youtube] hziNlrrNdvM: Downloading m3u8 information\n",
      "[info] hziNlrrNdvM: Downloading 1 format(s): 251\n",
      "[download] Destination: C:\\Users\\arwin\\Documents\\dev\\APS360-PROJECT\\data\\billboard_audio\\Justin Bieber Featuring BEAM_Love You Different\\Justin Bieber Featuring BEAM_Love You Different.webm\n",
      "[download] 100% of    2.99MiB in 00:00:00 at 12.67MiB/s  \n",
      "[download] Finished downloading playlist: Justin Bieber Featuring BEAM Love You Different\n",
      "[generic] Extracting URL: Justin Bieber Featuring Burna Boy Loved By You\n",
      "[youtube:search] Extracting URL: ytsearch:Justin Bieber Featuring Burna Boy Loved By You\n",
      "[download] Downloading playlist: Justin Bieber Featuring Burna Boy Loved By You\n",
      "[youtube:search] query \"Justin Bieber Featuring Burna Boy Loved By You\": Downloading web client config\n",
      "[youtube:search] query \"Justin Bieber Featuring Burna Boy Loved By You\" page 1: Downloading API JSON\n",
      "[youtube:search] Playlist Justin Bieber Featuring Burna Boy Loved By You: Downloading 1 items of 1\n",
      "[download] Downloading item 1 of 1\n",
      "[youtube] Extracting URL: https://www.youtube.com/watch?v=MHi4w6DO3DE\n",
      "[youtube] MHi4w6DO3DE: Downloading webpage\n",
      "[youtube] MHi4w6DO3DE: Downloading ios player API JSON\n",
      "[youtube] MHi4w6DO3DE: Downloading android player API JSON\n",
      "[youtube] MHi4w6DO3DE: Downloading m3u8 information\n",
      "[info] MHi4w6DO3DE: Downloading 1 format(s): 251\n",
      "[download] Destination: C:\\Users\\arwin\\Documents\\dev\\APS360-PROJECT\\data\\billboard_audio\\Justin Bieber Featuring Burna Boy_Loved By You\\Justin Bieber Featuring Burna Boy_Loved By You.webm\n",
      "[download] 100% of    2.76MiB in 00:00:00 at 13.02MiB/s  \n",
      "[download] Finished downloading playlist: Justin Bieber Featuring Burna Boy Loved By You\n",
      "[generic] Extracting URL: Justin Bieber Somebody\n",
      "[youtube:search] Extracting URL: ytsearch:Justin Bieber Somebody\n",
      "[download] Downloading playlist: Justin Bieber Somebody\n",
      "[youtube:search] query \"Justin Bieber Somebody\": Downloading web client config\n",
      "[youtube:search] query \"Justin Bieber Somebody\" page 1: Downloading API JSON\n",
      "[youtube:search] Playlist Justin Bieber Somebody: Downloading 1 items of 1\n",
      "[download] Downloading item 1 of 1\n",
      "[youtube] Extracting URL: https://www.youtube.com/watch?v=3pYsfaQeMRs\n",
      "[youtube] 3pYsfaQeMRs: Downloading webpage\n",
      "[youtube] 3pYsfaQeMRs: Downloading ios player API JSON\n",
      "[youtube] 3pYsfaQeMRs: Downloading android player API JSON\n"
     ]
    },
    {
     "name": "stderr",
     "output_type": "stream",
     "text": [
      "WARNING: [youtube] YouTube said: ERROR - Precondition check failed.\n",
      "WARNING: [youtube] HTTP Error 400: Bad Request. Retrying (1/3)...\n"
     ]
    },
    {
     "name": "stdout",
     "output_type": "stream",
     "text": [
      "[youtube] 3pYsfaQeMRs: Downloading android player API JSON\n"
     ]
    },
    {
     "name": "stderr",
     "output_type": "stream",
     "text": [
      "WARNING: [youtube] YouTube said: ERROR - Precondition check failed.\n",
      "WARNING: [youtube] HTTP Error 400: Bad Request. Retrying (2/3)...\n"
     ]
    },
    {
     "name": "stdout",
     "output_type": "stream",
     "text": [
      "[youtube] 3pYsfaQeMRs: Downloading android player API JSON\n"
     ]
    },
    {
     "name": "stderr",
     "output_type": "stream",
     "text": [
      "WARNING: [youtube] YouTube said: ERROR - Precondition check failed.\n",
      "WARNING: [youtube] HTTP Error 400: Bad Request. Retrying (3/3)...\n"
     ]
    },
    {
     "name": "stdout",
     "output_type": "stream",
     "text": [
      "[youtube] 3pYsfaQeMRs: Downloading android player API JSON\n"
     ]
    },
    {
     "name": "stderr",
     "output_type": "stream",
     "text": [
      "WARNING: [youtube] YouTube said: ERROR - Precondition check failed.\n",
      "WARNING: [youtube] Unable to download API page: HTTP Error 400: Bad Request (caused by <HTTPError 400: Bad Request>); please report this issue on  https://github.com/yt-dlp/yt-dlp/issues?q= , filling out the appropriate issue template. Confirm you are on the latest version using  yt-dlp -U\n"
     ]
    },
    {
     "name": "stdout",
     "output_type": "stream",
     "text": [
      "[youtube] 3pYsfaQeMRs: Downloading m3u8 information\n",
      "[info] 3pYsfaQeMRs: Downloading 1 format(s): 251\n",
      "[download] Destination: C:\\Users\\arwin\\Documents\\dev\\APS360-PROJECT\\data\\billboard_audio\\Justin Bieber_Somebody\\Justin Bieber_Somebody.webm\n",
      "[download] 100% of    2.86MiB in 00:00:00 at 16.62MiB/s  \n",
      "[download] Finished downloading playlist: Justin Bieber Somebody\n",
      "[generic] Extracting URL: Pooh Shiesty Featuring BIG30 Neighbors\n",
      "[youtube:search] Extracting URL: ytsearch:Pooh Shiesty Featuring BIG30 Neighbors\n",
      "[download] Downloading playlist: Pooh Shiesty Featuring BIG30 Neighbors\n",
      "[youtube:search] query \"Pooh Shiesty Featuring BIG30 Neighbors\": Downloading web client config\n",
      "[youtube:search] query \"Pooh Shiesty Featuring BIG30 Neighbors\" page 1: Downloading API JSON\n",
      "[youtube:search] Playlist Pooh Shiesty Featuring BIG30 Neighbors: Downloading 1 items of 1\n",
      "[download] Downloading item 1 of 1\n",
      "[youtube] Extracting URL: https://www.youtube.com/watch?v=xtJauZnp3xY\n",
      "[youtube] xtJauZnp3xY: Downloading webpage\n",
      "[youtube] xtJauZnp3xY: Downloading ios player API JSON\n",
      "[youtube] xtJauZnp3xY: Downloading android player API JSON\n"
     ]
    },
    {
     "name": "stderr",
     "output_type": "stream",
     "text": [
      "WARNING: [youtube] YouTube said: ERROR - Precondition check failed.\n",
      "WARNING: [youtube] HTTP Error 400: Bad Request. Retrying (1/3)...\n"
     ]
    },
    {
     "name": "stdout",
     "output_type": "stream",
     "text": [
      "[youtube] xtJauZnp3xY: Downloading android player API JSON\n"
     ]
    },
    {
     "name": "stderr",
     "output_type": "stream",
     "text": [
      "WARNING: [youtube] YouTube said: ERROR - Precondition check failed.\n",
      "WARNING: [youtube] HTTP Error 400: Bad Request. Retrying (2/3)...\n"
     ]
    },
    {
     "name": "stdout",
     "output_type": "stream",
     "text": [
      "[youtube] xtJauZnp3xY: Downloading android player API JSON\n"
     ]
    },
    {
     "name": "stderr",
     "output_type": "stream",
     "text": [
      "WARNING: [youtube] YouTube said: ERROR - Precondition check failed.\n",
      "WARNING: [youtube] HTTP Error 400: Bad Request. Retrying (3/3)...\n"
     ]
    },
    {
     "name": "stdout",
     "output_type": "stream",
     "text": [
      "[youtube] xtJauZnp3xY: Downloading android player API JSON\n"
     ]
    },
    {
     "name": "stderr",
     "output_type": "stream",
     "text": [
      "WARNING: [youtube] YouTube said: ERROR - Precondition check failed.\n",
      "WARNING: [youtube] Unable to download API page: HTTP Error 400: Bad Request (caused by <HTTPError 400: Bad Request>); please report this issue on  https://github.com/yt-dlp/yt-dlp/issues?q= , filling out the appropriate issue template. Confirm you are on the latest version using  yt-dlp -U\n"
     ]
    },
    {
     "name": "stdout",
     "output_type": "stream",
     "text": [
      "[youtube] xtJauZnp3xY: Downloading m3u8 information\n",
      "[info] xtJauZnp3xY: Downloading 1 format(s): 251\n",
      "[download] Destination: C:\\Users\\arwin\\Documents\\dev\\APS360-PROJECT\\data\\billboard_audio\\Pooh Shiesty Featuring BIG30_Neighbors\\Pooh Shiesty Featuring BIG30_Neighbors.webm\n",
      "[download] 100% of    3.55MiB in 00:00:00 at 19.36MiB/s    \n",
      "[download] Finished downloading playlist: Pooh Shiesty Featuring BIG30 Neighbors\n",
      "[generic] Extracting URL: Myke Towers & Juhn Bandido\n",
      "[youtube:search] Extracting URL: ytsearch:Myke Towers & Juhn Bandido\n",
      "[download] Downloading playlist: Myke Towers & Juhn Bandido\n",
      "[youtube:search] query \"Myke Towers & Juhn Bandido\": Downloading web client config\n",
      "[youtube:search] query \"Myke Towers & Juhn Bandido\" page 1: Downloading API JSON\n",
      "[youtube:search] Playlist Myke Towers & Juhn Bandido: Downloading 1 items of 1\n",
      "[download] Downloading item 1 of 1\n",
      "[youtube] Extracting URL: https://www.youtube.com/watch?v=W6fme7tcweQ\n",
      "[youtube] W6fme7tcweQ: Downloading webpage\n",
      "[youtube] W6fme7tcweQ: Downloading ios player API JSON\n",
      "[youtube] W6fme7tcweQ: Downloading android player API JSON\n",
      "[youtube] W6fme7tcweQ: Downloading m3u8 information\n",
      "[info] W6fme7tcweQ: Downloading 1 format(s): 251\n",
      "[download] Destination: C:\\Users\\arwin\\Documents\\dev\\APS360-PROJECT\\data\\billboard_audio\\Myke Towers & Juhn_Bandido\\Myke Towers & Juhn_Bandido.webm\n",
      "[download] 100% of    4.22MiB in 00:00:00 at 7.87MiB/s   \n",
      "[download] Finished downloading playlist: Myke Towers & Juhn Bandido\n",
      "[generic] Extracting URL: Darius Rucker Beers And Sunshine\n",
      "[youtube:search] Extracting URL: ytsearch:Darius Rucker Beers And Sunshine\n",
      "[download] Downloading playlist: Darius Rucker Beers And Sunshine\n",
      "[youtube:search] query \"Darius Rucker Beers And Sunshine\": Downloading web client config\n",
      "[youtube:search] query \"Darius Rucker Beers And Sunshine\" page 1: Downloading API JSON\n",
      "[youtube:search] Playlist Darius Rucker Beers And Sunshine: Downloading 1 items of 1\n",
      "[download] Downloading item 1 of 1\n",
      "[youtube] Extracting URL: https://www.youtube.com/watch?v=s-vjdUg2bNk\n",
      "[youtube] s-vjdUg2bNk: Downloading webpage\n",
      "[youtube] s-vjdUg2bNk: Downloading ios player API JSON\n",
      "[youtube] s-vjdUg2bNk: Downloading android player API JSON\n",
      "[youtube] s-vjdUg2bNk: Downloading m3u8 information\n",
      "[info] s-vjdUg2bNk: Downloading 1 format(s): 251\n",
      "[download] Destination: C:\\Users\\arwin\\Documents\\dev\\APS360-PROJECT\\data\\billboard_audio\\Darius Rucker_Beers And Sunshine\\Darius Rucker_Beers And Sunshine.webm\n",
      "[download] 100% of    2.93MiB in 00:00:00 at 18.62MiB/s  \n",
      "[download] Finished downloading playlist: Darius Rucker Beers And Sunshine\n",
      "[generic] Extracting URL: BRS Kash Throat Baby (Go Baby)\n",
      "[youtube:search] Extracting URL: ytsearch:BRS Kash Throat Baby (Go Baby)\n",
      "[download] Downloading playlist: BRS Kash Throat Baby (Go Baby)\n",
      "[youtube:search] query \"BRS Kash Throat Baby (Go Baby)\": Downloading web client config\n",
      "[youtube:search] query \"BRS Kash Throat Baby (Go Baby)\" page 1: Downloading API JSON\n",
      "[youtube:search] Playlist BRS Kash Throat Baby (Go Baby): Downloading 1 items of 1\n",
      "[download] Downloading item 1 of 1\n",
      "[youtube] Extracting URL: https://www.youtube.com/watch?v=fmNzZOZj3W0\n",
      "[youtube] fmNzZOZj3W0: Downloading webpage\n",
      "[youtube] fmNzZOZj3W0: Downloading ios player API JSON\n",
      "[youtube] fmNzZOZj3W0: Downloading android player API JSON\n"
     ]
    },
    {
     "name": "stderr",
     "output_type": "stream",
     "text": [
      "WARNING: [youtube] YouTube said: ERROR - Precondition check failed.\n",
      "WARNING: [youtube] HTTP Error 400: Bad Request. Retrying (1/3)...\n"
     ]
    },
    {
     "name": "stdout",
     "output_type": "stream",
     "text": [
      "[youtube] fmNzZOZj3W0: Downloading android player API JSON\n"
     ]
    },
    {
     "name": "stderr",
     "output_type": "stream",
     "text": [
      "WARNING: [youtube] YouTube said: ERROR - Precondition check failed.\n",
      "WARNING: [youtube] HTTP Error 400: Bad Request. Retrying (2/3)...\n"
     ]
    },
    {
     "name": "stdout",
     "output_type": "stream",
     "text": [
      "[youtube] fmNzZOZj3W0: Downloading android player API JSON\n"
     ]
    },
    {
     "name": "stderr",
     "output_type": "stream",
     "text": [
      "WARNING: [youtube] YouTube said: ERROR - Precondition check failed.\n",
      "WARNING: [youtube] HTTP Error 400: Bad Request. Retrying (3/3)...\n"
     ]
    },
    {
     "name": "stdout",
     "output_type": "stream",
     "text": [
      "[youtube] fmNzZOZj3W0: Downloading android player API JSON\n",
      "[youtube] fmNzZOZj3W0: Downloading m3u8 information\n",
      "[info] fmNzZOZj3W0: Downloading 1 format(s): 251\n",
      "[download] Destination: C:\\Users\\arwin\\Documents\\dev\\APS360-PROJECT\\data\\billboard_audio\\BRS Kash_Throat Baby (Go Baby)\\BRS Kash_Throat Baby (Go Baby).webm\n",
      "[download] 100% of    3.89MiB in 00:00:00 at 6.59MiB/s   \n",
      "[download] Finished downloading playlist: BRS Kash Throat Baby (Go Baby)\n",
      "[generic] Extracting URL: ROSE On The Ground\n",
      "[youtube:search] Extracting URL: ytsearch:ROSE On The Ground\n",
      "[download] Downloading playlist: ROSE On The Ground\n",
      "[youtube:search] query \"ROSE On The Ground\": Downloading web client config\n",
      "[youtube:search] query \"ROSE On The Ground\" page 1: Downloading API JSON\n",
      "[youtube:search] Playlist ROSE On The Ground: Downloading 1 items of 1\n",
      "[download] Downloading item 1 of 1\n",
      "[youtube] Extracting URL: https://www.youtube.com/watch?v=vndXd9bf7GQ\n",
      "[youtube] vndXd9bf7GQ: Downloading webpage\n",
      "[youtube] vndXd9bf7GQ: Downloading ios player API JSON\n",
      "[youtube] vndXd9bf7GQ: Downloading android player API JSON\n",
      "[youtube] vndXd9bf7GQ: Downloading m3u8 information\n",
      "[info] vndXd9bf7GQ: Downloading 1 format(s): 251\n",
      "[download] Destination: C:\\Users\\arwin\\Documents\\dev\\APS360-PROJECT\\data\\billboard_audio\\ROSE_On The Ground\\ROSE_On The Ground.webm\n",
      "[download] 100% of    2.98MiB in 00:00:00 at 4.09MiB/s   \n",
      "[download] Finished downloading playlist: ROSE On The Ground\n",
      "[generic] Extracting URL: NF Featuring Hopsin Lost\n",
      "[youtube:search] Extracting URL: ytsearch:NF Featuring Hopsin Lost\n",
      "[download] Downloading playlist: NF Featuring Hopsin Lost\n",
      "[youtube:search] query \"NF Featuring Hopsin Lost\": Downloading web client config\n",
      "[youtube:search] query \"NF Featuring Hopsin Lost\" page 1: Downloading API JSON\n",
      "[youtube:search] Playlist NF Featuring Hopsin Lost: Downloading 1 items of 1\n",
      "[download] Downloading item 1 of 1\n",
      "[youtube] Extracting URL: https://www.youtube.com/watch?v=fxrkhf17fU0\n",
      "[youtube] fxrkhf17fU0: Downloading webpage\n",
      "[youtube] fxrkhf17fU0: Downloading ios player API JSON\n",
      "[youtube] fxrkhf17fU0: Downloading android player API JSON\n",
      "[youtube] fxrkhf17fU0: Downloading m3u8 information\n",
      "[info] fxrkhf17fU0: Downloading 1 format(s): 251\n",
      "[download] Destination: C:\\Users\\arwin\\Documents\\dev\\APS360-PROJECT\\data\\billboard_audio\\NF Featuring Hopsin_Lost\\NF Featuring Hopsin_Lost.webm\n",
      "[download] 100% of    3.91MiB in 00:00:00 at 22.71MiB/s    \n",
      "[download] Finished downloading playlist: NF Featuring Hopsin Lost\n",
      "[generic] Extracting URL: Selena Gomez With Rauw Alejandro Baila Conmigo\n",
      "[youtube:search] Extracting URL: ytsearch:Selena Gomez With Rauw Alejandro Baila Conmigo\n",
      "[download] Downloading playlist: Selena Gomez With Rauw Alejandro Baila Conmigo\n",
      "[youtube:search] query \"Selena Gomez With Rauw Alejandro Baila Conmigo\": Downloading web client config\n",
      "[youtube:search] query \"Selena Gomez With Rauw Alejandro Baila Conmigo\" page 1: Downloading API JSON\n",
      "[youtube:search] Playlist Selena Gomez With Rauw Alejandro Baila Conmigo: Downloading 1 items of 1\n",
      "[download] Downloading item 1 of 1\n",
      "[youtube] Extracting URL: https://www.youtube.com/watch?v=h5WN3pkxPF0\n",
      "[youtube] h5WN3pkxPF0: Downloading webpage\n",
      "[youtube] h5WN3pkxPF0: Downloading ios player API JSON\n",
      "[youtube] h5WN3pkxPF0: Downloading android player API JSON\n",
      "[youtube] h5WN3pkxPF0: Downloading m3u8 information\n",
      "[info] h5WN3pkxPF0: Downloading 1 format(s): 251\n",
      "[download] Destination: C:\\Users\\arwin\\Documents\\dev\\APS360-PROJECT\\data\\billboard_audio\\Selena Gomez With Rauw Alejandro_Baila Conmigo\\Selena Gomez With Rauw Alejandro_Baila Conmigo.webm\n",
      "[download] 100% of    3.37MiB in 00:00:00 at 4.66MiB/s     \n",
      "[download] Finished downloading playlist: Selena Gomez With Rauw Alejandro Baila Conmigo\n",
      "[generic] Extracting URL: Giveon Like I Want You\n",
      "[youtube:search] Extracting URL: ytsearch:Giveon Like I Want You\n",
      "[download] Downloading playlist: Giveon Like I Want You\n",
      "[youtube:search] query \"Giveon Like I Want You\": Downloading web client config\n",
      "[youtube:search] query \"Giveon Like I Want You\" page 1: Downloading API JSON\n",
      "[youtube:search] Playlist Giveon Like I Want You: Downloading 1 items of 1\n",
      "[download] Downloading item 1 of 1\n",
      "[youtube] Extracting URL: https://www.youtube.com/watch?v=uCPjdfCUowg\n",
      "[youtube] uCPjdfCUowg: Downloading webpage\n",
      "[youtube] uCPjdfCUowg: Downloading ios player API JSON\n",
      "[youtube] uCPjdfCUowg: Downloading android player API JSON\n",
      "[youtube] uCPjdfCUowg: Downloading m3u8 information\n",
      "[info] uCPjdfCUowg: Downloading 1 format(s): 251\n",
      "[download] Destination: C:\\Users\\arwin\\Documents\\dev\\APS360-PROJECT\\data\\billboard_audio\\Giveon_Like I Want You\\Giveon_Like I Want You.webm\n",
      "[download] 100% of    5.06MiB in 00:00:00 at 22.22MiB/s  \n",
      "[download] Finished downloading playlist: Giveon Like I Want You\n",
      "[generic] Extracting URL: Machine Gun Kelly & CORPSE Daywalker!\n",
      "[youtube:search] Extracting URL: ytsearch:Machine Gun Kelly & CORPSE Daywalker!\n",
      "[download] Downloading playlist: Machine Gun Kelly & CORPSE Daywalker!\n",
      "[youtube:search] query \"Machine Gun Kelly & CORPSE Daywalker!\": Downloading web client config\n",
      "[youtube:search] query \"Machine Gun Kelly & CORPSE Daywalker!\" page 1: Downloading API JSON\n",
      "[youtube:search] Playlist Machine Gun Kelly & CORPSE Daywalker!: Downloading 1 items of 1\n",
      "[download] Downloading item 1 of 1\n",
      "[youtube] Extracting URL: https://www.youtube.com/watch?v=nSBYIzaxijM\n",
      "[youtube] nSBYIzaxijM: Downloading webpage\n",
      "[youtube] nSBYIzaxijM: Downloading ios player API JSON\n",
      "[youtube] nSBYIzaxijM: Downloading android player API JSON\n",
      "[youtube] nSBYIzaxijM: Downloading m3u8 information\n",
      "[info] nSBYIzaxijM: Downloading 1 format(s): 251\n",
      "[download] Destination: C:\\Users\\arwin\\Documents\\dev\\APS360-PROJECT\\data\\billboard_audio\\Machine Gun Kelly & CORPSE_Daywalker!\\Machine Gun Kelly & CORPSE_Daywalker!.webm\n",
      "[download] 100% of    2.19MiB in 00:00:00 at 13.33MiB/s  \n",
      "[download] Finished downloading playlist: Machine Gun Kelly & CORPSE Daywalker!\n",
      "[generic] Extracting URL: YBN Nahmir Featuring 21 Savage Opp Stoppa\n",
      "[youtube:search] Extracting URL: ytsearch:YBN Nahmir Featuring 21 Savage Opp Stoppa\n",
      "[download] Downloading playlist: YBN Nahmir Featuring 21 Savage Opp Stoppa\n",
      "[youtube:search] query \"YBN Nahmir Featuring 21 Savage Opp Stoppa\": Downloading web client config\n",
      "[youtube:search] query \"YBN Nahmir Featuring 21 Savage Opp Stoppa\" page 1: Downloading API JSON\n",
      "[youtube:search] Playlist YBN Nahmir Featuring 21 Savage Opp Stoppa: Downloading 1 items of 1\n",
      "[download] Downloading item 1 of 1\n",
      "[youtube] Extracting URL: https://www.youtube.com/watch?v=UXXGfp-z850\n",
      "[youtube] UXXGfp-z850: Downloading webpage\n",
      "[youtube] UXXGfp-z850: Downloading ios player API JSON\n",
      "[youtube] UXXGfp-z850: Downloading android player API JSON\n"
     ]
    },
    {
     "name": "stderr",
     "output_type": "stream",
     "text": [
      "WARNING: [youtube] YouTube said: ERROR - Precondition check failed.\n",
      "WARNING: [youtube] HTTP Error 400: Bad Request. Retrying (1/3)...\n"
     ]
    },
    {
     "name": "stdout",
     "output_type": "stream",
     "text": [
      "[youtube] UXXGfp-z850: Downloading android player API JSON\n"
     ]
    },
    {
     "name": "stderr",
     "output_type": "stream",
     "text": [
      "WARNING: [youtube] YouTube said: ERROR - Precondition check failed.\n",
      "WARNING: [youtube] HTTP Error 400: Bad Request. Retrying (2/3)...\n"
     ]
    },
    {
     "name": "stdout",
     "output_type": "stream",
     "text": [
      "[youtube] UXXGfp-z850: Downloading android player API JSON\n"
     ]
    },
    {
     "name": "stderr",
     "output_type": "stream",
     "text": [
      "WARNING: [youtube] YouTube said: ERROR - Precondition check failed.\n",
      "WARNING: [youtube] HTTP Error 400: Bad Request. Retrying (3/3)...\n"
     ]
    },
    {
     "name": "stdout",
     "output_type": "stream",
     "text": [
      "[youtube] UXXGfp-z850: Downloading android player API JSON\n"
     ]
    },
    {
     "name": "stderr",
     "output_type": "stream",
     "text": [
      "WARNING: [youtube] YouTube said: ERROR - Precondition check failed.\n",
      "WARNING: [youtube] Unable to download API page: HTTP Error 400: Bad Request (caused by <HTTPError 400: Bad Request>); please report this issue on  https://github.com/yt-dlp/yt-dlp/issues?q= , filling out the appropriate issue template. Confirm you are on the latest version using  yt-dlp -U\n"
     ]
    },
    {
     "name": "stdout",
     "output_type": "stream",
     "text": [
      "[youtube] UXXGfp-z850: Downloading m3u8 information\n",
      "[info] UXXGfp-z850: Downloading 1 format(s): 251\n",
      "[download] Destination: C:\\Users\\arwin\\Documents\\dev\\APS360-PROJECT\\data\\billboard_audio\\YBN Nahmir Featuring 21 Savage_Opp Stoppa\\YBN Nahmir Featuring 21 Savage_Opp Stoppa.webm\n",
      "[download] 100% of    2.67MiB in 00:00:00 at 19.09MiB/s    \n",
      "[download] Finished downloading playlist: YBN Nahmir Featuring 21 Savage Opp Stoppa\n",
      "[generic] Extracting URL: Lil Durk & King Von Still Trappin'\n",
      "[youtube:search] Extracting URL: ytsearch:Lil Durk & King Von Still Trappin'\n",
      "[download] Downloading playlist: Lil Durk & King Von Still Trappin'\n",
      "[youtube:search] query \"Lil Durk & King Von Still Trappin'\": Downloading web client config\n",
      "[youtube:search] query \"Lil Durk & King Von Still Trappin'\" page 1: Downloading API JSON\n",
      "[youtube:search] Playlist Lil Durk & King Von Still Trappin': Downloading 1 items of 1\n",
      "[download] Downloading item 1 of 1\n",
      "[youtube] Extracting URL: https://www.youtube.com/watch?v=cDde7QlKCX0\n",
      "[youtube] cDde7QlKCX0: Downloading webpage\n",
      "[youtube] cDde7QlKCX0: Downloading ios player API JSON\n",
      "[youtube] cDde7QlKCX0: Downloading android player API JSON\n",
      "[youtube] cDde7QlKCX0: Downloading m3u8 information\n",
      "[info] cDde7QlKCX0: Downloading 1 format(s): 251\n",
      "[download] Destination: C:\\Users\\arwin\\Documents\\dev\\APS360-PROJECT\\data\\billboard_audio\\Lil Durk & King Von_Still Trappin'\\Lil Durk & King Von_Still Trappin'.webm\n",
      "[download] 100% of    2.98MiB in 00:00:00 at 11.74MiB/s  \n",
      "[download] Finished downloading playlist: Lil Durk & King Von Still Trappin'\n",
      "[generic] Extracting URL: Lil Durk Featuring Lil Baby Finesse Out The Gang Way\n",
      "[youtube:search] Extracting URL: ytsearch:Lil Durk Featuring Lil Baby Finesse Out The Gang Way\n",
      "[download] Downloading playlist: Lil Durk Featuring Lil Baby Finesse Out The Gang Way\n",
      "[youtube:search] query \"Lil Durk Featuring Lil Baby Finesse Out The Gang Way\": Downloading web client config\n",
      "[youtube:search] query \"Lil Durk Featuring Lil Baby Finesse Out The Gang Way\" page 1: Downloading API JSON\n",
      "[youtube:search] Playlist Lil Durk Featuring Lil Baby Finesse Out The Gang Way: Downloading 1 items of 1\n",
      "[download] Downloading item 1 of 1\n",
      "[youtube] Extracting URL: https://www.youtube.com/watch?v=m2x-r1Cyrt0\n",
      "[youtube] m2x-r1Cyrt0: Downloading webpage\n",
      "[youtube] m2x-r1Cyrt0: Downloading ios player API JSON\n",
      "[youtube] m2x-r1Cyrt0: Downloading android player API JSON\n"
     ]
    },
    {
     "name": "stderr",
     "output_type": "stream",
     "text": [
      "WARNING: [youtube] YouTube said: ERROR - Precondition check failed.\n",
      "WARNING: [youtube] HTTP Error 400: Bad Request. Retrying (1/3)...\n"
     ]
    },
    {
     "name": "stdout",
     "output_type": "stream",
     "text": [
      "[youtube] m2x-r1Cyrt0: Downloading android player API JSON\n"
     ]
    },
    {
     "name": "stderr",
     "output_type": "stream",
     "text": [
      "WARNING: [youtube] YouTube said: ERROR - Precondition check failed.\n",
      "WARNING: [youtube] HTTP Error 400: Bad Request. Retrying (2/3)...\n"
     ]
    },
    {
     "name": "stdout",
     "output_type": "stream",
     "text": [
      "[youtube] m2x-r1Cyrt0: Downloading android player API JSON\n"
     ]
    },
    {
     "name": "stderr",
     "output_type": "stream",
     "text": [
      "WARNING: [youtube] YouTube said: ERROR - Precondition check failed.\n",
      "WARNING: [youtube] HTTP Error 400: Bad Request. Retrying (3/3)...\n"
     ]
    },
    {
     "name": "stdout",
     "output_type": "stream",
     "text": [
      "[youtube] m2x-r1Cyrt0: Downloading android player API JSON\n"
     ]
    },
    {
     "name": "stderr",
     "output_type": "stream",
     "text": [
      "WARNING: [youtube] YouTube said: ERROR - Precondition check failed.\n",
      "WARNING: [youtube] Unable to download API page: HTTP Error 400: Bad Request (caused by <HTTPError 400: Bad Request>); please report this issue on  https://github.com/yt-dlp/yt-dlp/issues?q= , filling out the appropriate issue template. Confirm you are on the latest version using  yt-dlp -U\n"
     ]
    },
    {
     "name": "stdout",
     "output_type": "stream",
     "text": [
      "[youtube] m2x-r1Cyrt0: Downloading m3u8 information\n",
      "[info] m2x-r1Cyrt0: Downloading 1 format(s): 251\n",
      "[download] Destination: C:\\Users\\arwin\\Documents\\dev\\APS360-PROJECT\\data\\billboard_audio\\Lil Durk Featuring Lil Baby_Finesse Out The Gang Way\\Lil Durk Featuring Lil Baby_Finesse Out The Gang Way.webm\n",
      "[download] 100% of    3.45MiB in 00:00:00 at 22.66MiB/s    \n",
      "[download] Finished downloading playlist: Lil Durk Featuring Lil Baby Finesse Out The Gang Way\n",
      "[generic] Extracting URL: Tim McGraw & Tyler Hubbard Undivided\n",
      "[youtube:search] Extracting URL: ytsearch:Tim McGraw & Tyler Hubbard Undivided\n",
      "[download] Downloading playlist: Tim McGraw & Tyler Hubbard Undivided\n",
      "[youtube:search] query \"Tim McGraw & Tyler Hubbard Undivided\": Downloading web client config\n",
      "[youtube:search] query \"Tim McGraw & Tyler Hubbard Undivided\" page 1: Downloading API JSON\n",
      "[youtube:search] Playlist Tim McGraw & Tyler Hubbard Undivided: Downloading 1 items of 1\n",
      "[download] Downloading item 1 of 1\n",
      "[youtube] Extracting URL: https://www.youtube.com/watch?v=nsFb67fo7nE\n",
      "[youtube] nsFb67fo7nE: Downloading webpage\n",
      "[youtube] nsFb67fo7nE: Downloading ios player API JSON\n",
      "[youtube] nsFb67fo7nE: Downloading android player API JSON\n",
      "[youtube] nsFb67fo7nE: Downloading m3u8 information\n",
      "[info] nsFb67fo7nE: Downloading 1 format(s): 251\n",
      "[download] Destination: C:\\Users\\arwin\\Documents\\dev\\APS360-PROJECT\\data\\billboard_audio\\Tim McGraw & Tyler Hubbard_Undivided\\Tim McGraw & Tyler Hubbard_Undivided.webm\n",
      "[download] 100% of    2.83MiB in 00:00:00 at 21.43MiB/s    \n",
      "[download] Finished downloading playlist: Tim McGraw & Tyler Hubbard Undivided\n",
      "[generic] Extracting URL: Justin Bieber Featuring Chance The Rapper Holy\n",
      "[youtube:search] Extracting URL: ytsearch:Justin Bieber Featuring Chance The Rapper Holy\n",
      "[download] Downloading playlist: Justin Bieber Featuring Chance The Rapper Holy\n",
      "[youtube:search] query \"Justin Bieber Featuring Chance The Rapper Holy\": Downloading web client config\n",
      "[youtube:search] query \"Justin Bieber Featuring Chance The Rapper Holy\" page 1: Downloading API JSON\n",
      "[youtube:search] Playlist Justin Bieber Featuring Chance The Rapper Holy: Downloading 1 items of 1\n",
      "[download] Downloading item 1 of 1\n",
      "[youtube] Extracting URL: https://www.youtube.com/watch?v=pvPsJFRGleA\n",
      "[youtube] pvPsJFRGleA: Downloading webpage\n",
      "[youtube] pvPsJFRGleA: Downloading ios player API JSON\n",
      "[youtube] pvPsJFRGleA: Downloading android player API JSON\n"
     ]
    },
    {
     "name": "stderr",
     "output_type": "stream",
     "text": [
      "WARNING: [youtube] YouTube said: ERROR - Precondition check failed.\n",
      "WARNING: [youtube] HTTP Error 400: Bad Request. Retrying (1/3)...\n"
     ]
    },
    {
     "name": "stdout",
     "output_type": "stream",
     "text": [
      "[youtube] pvPsJFRGleA: Downloading android player API JSON\n"
     ]
    },
    {
     "name": "stderr",
     "output_type": "stream",
     "text": [
      "WARNING: [youtube] YouTube said: ERROR - Precondition check failed.\n",
      "WARNING: [youtube] HTTP Error 400: Bad Request. Retrying (2/3)...\n"
     ]
    },
    {
     "name": "stdout",
     "output_type": "stream",
     "text": [
      "[youtube] pvPsJFRGleA: Downloading android player API JSON\n",
      "[youtube] pvPsJFRGleA: Downloading m3u8 information\n",
      "[info] pvPsJFRGleA: Downloading 1 format(s): 251\n",
      "[download] Destination: C:\\Users\\arwin\\Documents\\dev\\APS360-PROJECT\\data\\billboard_audio\\Justin Bieber Featuring Chance The Rapper_Holy\\Justin Bieber Featuring Chance The Rapper_Holy.webm\n",
      "[download] 100% of    5.11MiB in 00:00:00 at 24.51MiB/s  \n",
      "[download] Finished downloading playlist: Justin Bieber Featuring Chance The Rapper Holy\n",
      "[generic] Extracting URL: Harry Styles Golden\n",
      "[youtube:search] Extracting URL: ytsearch:Harry Styles Golden\n",
      "[download] Downloading playlist: Harry Styles Golden\n",
      "[youtube:search] query \"Harry Styles Golden\": Downloading web client config\n",
      "[youtube:search] query \"Harry Styles Golden\" page 1: Downloading API JSON\n",
      "[youtube:search] Playlist Harry Styles Golden: Downloading 1 items of 1\n",
      "[download] Downloading item 1 of 1\n",
      "[youtube] Extracting URL: https://www.youtube.com/watch?v=P3cffdsEXXw\n",
      "[youtube] P3cffdsEXXw: Downloading webpage\n",
      "[youtube] P3cffdsEXXw: Downloading ios player API JSON\n",
      "[youtube] P3cffdsEXXw: Downloading android player API JSON\n"
     ]
    },
    {
     "name": "stderr",
     "output_type": "stream",
     "text": [
      "WARNING: [youtube] YouTube said: ERROR - Precondition check failed.\n",
      "WARNING: [youtube] HTTP Error 400: Bad Request. Retrying (1/3)...\n"
     ]
    },
    {
     "name": "stdout",
     "output_type": "stream",
     "text": [
      "[youtube] P3cffdsEXXw: Downloading android player API JSON\n"
     ]
    },
    {
     "name": "stderr",
     "output_type": "stream",
     "text": [
      "WARNING: [youtube] YouTube said: ERROR - Precondition check failed.\n",
      "WARNING: [youtube] HTTP Error 400: Bad Request. Retrying (2/3)...\n"
     ]
    },
    {
     "name": "stdout",
     "output_type": "stream",
     "text": [
      "[youtube] P3cffdsEXXw: Downloading android player API JSON\n"
     ]
    },
    {
     "name": "stderr",
     "output_type": "stream",
     "text": [
      "WARNING: [youtube] YouTube said: ERROR - Precondition check failed.\n",
      "WARNING: [youtube] HTTP Error 400: Bad Request. Retrying (3/3)...\n"
     ]
    },
    {
     "name": "stdout",
     "output_type": "stream",
     "text": [
      "[youtube] P3cffdsEXXw: Downloading android player API JSON\n"
     ]
    },
    {
     "name": "stderr",
     "output_type": "stream",
     "text": [
      "WARNING: [youtube] YouTube said: ERROR - Precondition check failed.\n",
      "WARNING: [youtube] Unable to download API page: HTTP Error 400: Bad Request (caused by <HTTPError 400: Bad Request>); please report this issue on  https://github.com/yt-dlp/yt-dlp/issues?q= , filling out the appropriate issue template. Confirm you are on the latest version using  yt-dlp -U\n"
     ]
    },
    {
     "name": "stdout",
     "output_type": "stream",
     "text": [
      "[youtube] P3cffdsEXXw: Downloading m3u8 information\n",
      "[info] P3cffdsEXXw: Downloading 1 format(s): 251\n",
      "[download] Destination: C:\\Users\\arwin\\Documents\\dev\\APS360-PROJECT\\data\\billboard_audio\\Harry Styles_Golden\\Harry Styles_Golden.webm\n",
      "[download] 100% of    3.26MiB in 00:00:00 at 17.49MiB/s  \n",
      "[download] Finished downloading playlist: Harry Styles Golden\n",
      "[generic] Extracting URL: Jason Derulo Featuring Adam Levine Lifestyle\n",
      "[youtube:search] Extracting URL: ytsearch:Jason Derulo Featuring Adam Levine Lifestyle\n",
      "[download] Downloading playlist: Jason Derulo Featuring Adam Levine Lifestyle\n",
      "[youtube:search] query \"Jason Derulo Featuring Adam Levine Lifestyle\": Downloading web client config\n",
      "[youtube:search] query \"Jason Derulo Featuring Adam Levine Lifestyle\" page 1: Downloading API JSON\n",
      "[youtube:search] Playlist Jason Derulo Featuring Adam Levine Lifestyle: Downloading 1 items of 1\n",
      "[download] Downloading item 1 of 1\n",
      "[youtube] Extracting URL: https://www.youtube.com/watch?v=gTOYhxubOmk\n",
      "[youtube] gTOYhxubOmk: Downloading webpage\n",
      "[youtube] gTOYhxubOmk: Downloading ios player API JSON\n",
      "[youtube] gTOYhxubOmk: Downloading android player API JSON\n",
      "[youtube] gTOYhxubOmk: Downloading m3u8 information\n",
      "[info] gTOYhxubOmk: Downloading 1 format(s): 251\n",
      "[download] Destination: C:\\Users\\arwin\\Documents\\dev\\APS360-PROJECT\\data\\billboard_audio\\Jason Derulo Featuring Adam Levine_Lifestyle\\Jason Derulo Featuring Adam Levine_Lifestyle.webm\n",
      "[download] 100% of    2.55MiB in 00:00:00 at 12.25MiB/s  \n",
      "[download] Finished downloading playlist: Jason Derulo Featuring Adam Levine Lifestyle\n",
      "[generic] Extracting URL: DDG Moonwalking In Calabasas\n",
      "[youtube:search] Extracting URL: ytsearch:DDG Moonwalking In Calabasas\n",
      "[download] Downloading playlist: DDG Moonwalking In Calabasas\n",
      "[youtube:search] query \"DDG Moonwalking In Calabasas\": Downloading web client config\n",
      "[youtube:search] query \"DDG Moonwalking In Calabasas\" page 1: Downloading API JSON\n",
      "[youtube:search] Playlist DDG Moonwalking In Calabasas: Downloading 1 items of 1\n",
      "[download] Downloading item 1 of 1\n",
      "[youtube] Extracting URL: https://www.youtube.com/watch?v=QZ2F3ZP1sxg\n",
      "[youtube] QZ2F3ZP1sxg: Downloading webpage\n",
      "[youtube] QZ2F3ZP1sxg: Downloading ios player API JSON\n",
      "[youtube] QZ2F3ZP1sxg: Downloading android player API JSON\n"
     ]
    },
    {
     "name": "stderr",
     "output_type": "stream",
     "text": [
      "WARNING: [youtube] YouTube said: ERROR - Precondition check failed.\n",
      "WARNING: [youtube] HTTP Error 400: Bad Request. Retrying (1/3)...\n"
     ]
    },
    {
     "name": "stdout",
     "output_type": "stream",
     "text": [
      "[youtube] QZ2F3ZP1sxg: Downloading android player API JSON\n",
      "[youtube] QZ2F3ZP1sxg: Downloading m3u8 information\n",
      "[info] QZ2F3ZP1sxg: Downloading 1 format(s): 251\n",
      "[download] Destination: C:\\Users\\arwin\\Documents\\dev\\APS360-PROJECT\\data\\billboard_audio\\DDG_Moonwalking In Calabasas\\DDG_Moonwalking In Calabasas.webm\n",
      "[download] 100% of    3.04MiB in 00:00:00 at 11.49MiB/s  \n",
      "[download] Finished downloading playlist: DDG Moonwalking In Calabasas\n",
      "[generic] Extracting URL: Jack Harlow Tyler Herro\n",
      "[youtube:search] Extracting URL: ytsearch:Jack Harlow Tyler Herro\n",
      "[download] Downloading playlist: Jack Harlow Tyler Herro\n",
      "[youtube:search] query \"Jack Harlow Tyler Herro\": Downloading web client config\n",
      "[youtube:search] query \"Jack Harlow Tyler Herro\" page 1: Downloading API JSON\n",
      "[youtube:search] Playlist Jack Harlow Tyler Herro: Downloading 1 items of 1\n",
      "[download] Downloading item 1 of 1\n",
      "[youtube] Extracting URL: https://www.youtube.com/watch?v=np9Ub1LilKU\n",
      "[youtube] np9Ub1LilKU: Downloading webpage\n",
      "[youtube] np9Ub1LilKU: Downloading ios player API JSON\n",
      "[youtube] np9Ub1LilKU: Downloading android player API JSON\n",
      "[youtube] np9Ub1LilKU: Downloading m3u8 information\n",
      "[info] np9Ub1LilKU: Downloading 1 format(s): 251\n",
      "[download] Destination: C:\\Users\\arwin\\Documents\\dev\\APS360-PROJECT\\data\\billboard_audio\\Jack Harlow_Tyler Herro\\Jack Harlow_Tyler Herro.webm\n",
      "[download] 100% of    3.13MiB in 00:00:00 at 15.09MiB/s  \n",
      "[download] Finished downloading playlist: Jack Harlow Tyler Herro\n",
      "[generic] Extracting URL: Morgan Wallen Somebody's Problem\n",
      "[youtube:search] Extracting URL: ytsearch:Morgan Wallen Somebody's Problem\n",
      "[download] Downloading playlist: Morgan Wallen Somebody's Problem\n",
      "[youtube:search] query \"Morgan Wallen Somebody's Problem\": Downloading web client config\n",
      "[youtube:search] query \"Morgan Wallen Somebody's Problem\" page 1: Downloading API JSON\n",
      "[youtube:search] Playlist Morgan Wallen Somebody's Problem: Downloading 1 items of 1\n",
      "[download] Downloading item 1 of 1\n",
      "[youtube] Extracting URL: https://www.youtube.com/watch?v=961Gk3mD9Zc\n",
      "[youtube] 961Gk3mD9Zc: Downloading webpage\n",
      "[youtube] 961Gk3mD9Zc: Downloading ios player API JSON\n",
      "[youtube] 961Gk3mD9Zc: Downloading android player API JSON\n"
     ]
    },
    {
     "name": "stderr",
     "output_type": "stream",
     "text": [
      "WARNING: [youtube] YouTube said: ERROR - Precondition check failed.\n",
      "WARNING: [youtube] HTTP Error 400: Bad Request. Retrying (1/3)...\n"
     ]
    },
    {
     "name": "stdout",
     "output_type": "stream",
     "text": [
      "[youtube] 961Gk3mD9Zc: Downloading android player API JSON\n",
      "[youtube] 961Gk3mD9Zc: Downloading m3u8 information\n",
      "[info] 961Gk3mD9Zc: Downloading 1 format(s): 251\n",
      "[download] Destination: C:\\Users\\arwin\\Documents\\dev\\APS360-PROJECT\\data\\billboard_audio\\Morgan Wallen_Somebody's Problem\\Morgan Wallen_Somebody's Problem.webm\n",
      "[download] 100% of    2.73MiB in 00:00:00 at 18.82MiB/s  \n",
      "[download] Finished downloading playlist: Morgan Wallen Somebody's Problem\n",
      "[generic] Extracting URL: Morgan Wallen Cover Me Up\n",
      "[youtube:search] Extracting URL: ytsearch:Morgan Wallen Cover Me Up\n",
      "[download] Downloading playlist: Morgan Wallen Cover Me Up\n",
      "[youtube:search] query \"Morgan Wallen Cover Me Up\": Downloading web client config\n",
      "[youtube:search] query \"Morgan Wallen Cover Me Up\" page 1: Downloading API JSON\n",
      "[youtube:search] Playlist Morgan Wallen Cover Me Up: Downloading 1 items of 1\n",
      "[download] Downloading item 1 of 1\n",
      "[youtube] Extracting URL: https://www.youtube.com/watch?v=1RnChOf8RTs\n",
      "[youtube] 1RnChOf8RTs: Downloading webpage\n",
      "[youtube] 1RnChOf8RTs: Downloading ios player API JSON\n",
      "[youtube] 1RnChOf8RTs: Downloading android player API JSON\n"
     ]
    },
    {
     "name": "stderr",
     "output_type": "stream",
     "text": [
      "WARNING: [youtube] YouTube said: ERROR - Precondition check failed.\n",
      "WARNING: [youtube] HTTP Error 400: Bad Request. Retrying (1/3)...\n"
     ]
    },
    {
     "name": "stdout",
     "output_type": "stream",
     "text": [
      "[youtube] 1RnChOf8RTs: Downloading android player API JSON\n"
     ]
    },
    {
     "name": "stderr",
     "output_type": "stream",
     "text": [
      "WARNING: [youtube] YouTube said: ERROR - Precondition check failed.\n",
      "WARNING: [youtube] HTTP Error 400: Bad Request. Retrying (2/3)...\n"
     ]
    },
    {
     "name": "stdout",
     "output_type": "stream",
     "text": [
      "[youtube] 1RnChOf8RTs: Downloading android player API JSON\n"
     ]
    },
    {
     "name": "stderr",
     "output_type": "stream",
     "text": [
      "WARNING: [youtube] YouTube said: ERROR - Precondition check failed.\n",
      "WARNING: [youtube] HTTP Error 400: Bad Request. Retrying (3/3)...\n"
     ]
    },
    {
     "name": "stdout",
     "output_type": "stream",
     "text": [
      "[youtube] 1RnChOf8RTs: Downloading android player API JSON\n",
      "[youtube] 1RnChOf8RTs: Downloading m3u8 information\n",
      "[info] 1RnChOf8RTs: Downloading 1 format(s): 251\n",
      "[download] Destination: C:\\Users\\arwin\\Documents\\dev\\APS360-PROJECT\\data\\billboard_audio\\Morgan Wallen_Cover Me Up\\Morgan Wallen_Cover Me Up.webm\n",
      "[download] 100% of    5.06MiB in 00:00:00 at 21.35MiB/s    \n",
      "[download] Finished downloading playlist: Morgan Wallen Cover Me Up\n",
      "[generic] Extracting URL: Juice WRLD, Clever & Post Malone Life's A Mess II\n",
      "[youtube:search] Extracting URL: ytsearch:Juice WRLD, Clever & Post Malone Life's A Mess II\n",
      "[download] Downloading playlist: Juice WRLD, Clever & Post Malone Life's A Mess II\n",
      "[youtube:search] query \"Juice WRLD, Clever & Post Malone Life's A Mess II\": Downloading web client config\n",
      "[youtube:search] query \"Juice WRLD, Clever & Post Malone Life's A Mess II\" page 1: Downloading API JSON\n",
      "[youtube:search] Playlist Juice WRLD, Clever & Post Malone Life's A Mess II: Downloading 1 items of 1\n",
      "[download] Downloading item 1 of 1\n",
      "[youtube] Extracting URL: https://www.youtube.com/watch?v=ig1idOx6SrE\n",
      "[youtube] ig1idOx6SrE: Downloading webpage\n",
      "[youtube] ig1idOx6SrE: Downloading ios player API JSON\n",
      "[youtube] ig1idOx6SrE: Downloading android player API JSON\n",
      "[youtube] ig1idOx6SrE: Downloading m3u8 information\n",
      "[info] ig1idOx6SrE: Downloading 1 format(s): 251\n",
      "[download] Destination: C:\\Users\\arwin\\Documents\\dev\\APS360-PROJECT\\data\\billboard_audio\\Juice WRLD, Clever & Post Malone_Life's A Mess II\\Juice WRLD, Clever & Post Malone_Life's A Mess II.webm\n",
      "[download] 100% of    3.49MiB in 00:00:00 at 12.94MiB/s  \n",
      "[download] Finished downloading playlist: Juice WRLD, Clever & Post Malone Life's A Mess II\n",
      "[generic] Extracting URL: Pop Smoke AP\n",
      "[youtube:search] Extracting URL: ytsearch:Pop Smoke AP\n",
      "[download] Downloading playlist: Pop Smoke AP\n",
      "[youtube:search] query \"Pop Smoke AP\": Downloading web client config\n",
      "[youtube:search] query \"Pop Smoke AP\" page 1: Downloading API JSON\n",
      "[youtube:search] Playlist Pop Smoke AP: Downloading 1 items of 1\n",
      "[download] Downloading item 1 of 1\n",
      "[youtube] Extracting URL: https://www.youtube.com/watch?v=Yr2Nq-7mQoY\n",
      "[youtube] Yr2Nq-7mQoY: Downloading webpage\n",
      "[youtube] Yr2Nq-7mQoY: Downloading ios player API JSON\n",
      "[youtube] Yr2Nq-7mQoY: Downloading android player API JSON\n",
      "[youtube] Yr2Nq-7mQoY: Downloading m3u8 information\n",
      "[info] Yr2Nq-7mQoY: Downloading 1 format(s): 251\n",
      "[download] Destination: C:\\Users\\arwin\\Documents\\dev\\APS360-PROJECT\\data\\billboard_audio\\Pop Smoke_AP\\Pop Smoke_AP.webm\n",
      "[download] 100% of    2.81MiB in 00:00:00 at 14.57MiB/s    \n",
      "[download] Finished downloading playlist: Pop Smoke AP\n",
      "[generic] Extracting URL: Gabby Barrett Featuring Charlie Puth I Hope\n",
      "[youtube:search] Extracting URL: ytsearch:Gabby Barrett Featuring Charlie Puth I Hope\n",
      "[download] Downloading playlist: Gabby Barrett Featuring Charlie Puth I Hope\n",
      "[youtube:search] query \"Gabby Barrett Featuring Charlie Puth I Hope\": Downloading web client config\n",
      "[youtube:search] query \"Gabby Barrett Featuring Charlie Puth I Hope\" page 1: Downloading API JSON\n",
      "[youtube:search] Playlist Gabby Barrett Featuring Charlie Puth I Hope: Downloading 1 items of 1\n",
      "[download] Downloading item 1 of 1\n",
      "[youtube] Extracting URL: https://www.youtube.com/watch?v=fDFdVIp6rHg\n",
      "[youtube] fDFdVIp6rHg: Downloading webpage\n",
      "[youtube] fDFdVIp6rHg: Downloading ios player API JSON\n",
      "[youtube] fDFdVIp6rHg: Downloading android player API JSON\n"
     ]
    },
    {
     "name": "stderr",
     "output_type": "stream",
     "text": [
      "WARNING: [youtube] YouTube said: ERROR - Precondition check failed.\n",
      "WARNING: [youtube] HTTP Error 400: Bad Request. Retrying (1/3)...\n"
     ]
    },
    {
     "name": "stdout",
     "output_type": "stream",
     "text": [
      "[youtube] fDFdVIp6rHg: Downloading android player API JSON\n",
      "[youtube] fDFdVIp6rHg: Downloading m3u8 information\n",
      "[info] fDFdVIp6rHg: Downloading 1 format(s): 251\n",
      "[download] Destination: C:\\Users\\arwin\\Documents\\dev\\APS360-PROJECT\\data\\billboard_audio\\Gabby Barrett Featuring Charlie Puth_I Hope\\Gabby Barrett Featuring Charlie Puth_I Hope.webm\n",
      "[download] 100% of    3.30MiB in 00:00:01 at 3.21MiB/s   \n",
      "[download] Finished downloading playlist: Gabby Barrett Featuring Charlie Puth I Hope\n",
      "[generic] Extracting URL: AJR Bang!\n",
      "[youtube:search] Extracting URL: ytsearch:AJR Bang!\n",
      "[download] Downloading playlist: AJR Bang!\n",
      "[youtube:search] query \"AJR Bang!\": Downloading web client config\n",
      "[youtube:search] query \"AJR Bang!\" page 1: Downloading API JSON\n",
      "[youtube:search] Playlist AJR Bang!: Downloading 1 items of 1\n",
      "[download] Downloading item 1 of 1\n",
      "[youtube] Extracting URL: https://www.youtube.com/watch?v=4THFRpw68oQ\n",
      "[youtube] 4THFRpw68oQ: Downloading webpage\n",
      "[youtube] 4THFRpw68oQ: Downloading ios player API JSON\n",
      "[youtube] 4THFRpw68oQ: Downloading android player API JSON\n"
     ]
    },
    {
     "name": "stderr",
     "output_type": "stream",
     "text": [
      "WARNING: [youtube] YouTube said: ERROR - Precondition check failed.\n",
      "WARNING: [youtube] HTTP Error 400: Bad Request. Retrying (1/3)...\n"
     ]
    },
    {
     "name": "stdout",
     "output_type": "stream",
     "text": [
      "[youtube] 4THFRpw68oQ: Downloading android player API JSON\n"
     ]
    },
    {
     "name": "stderr",
     "output_type": "stream",
     "text": [
      "WARNING: [youtube] YouTube said: ERROR - Precondition check failed.\n",
      "WARNING: [youtube] HTTP Error 400: Bad Request. Retrying (2/3)...\n"
     ]
    },
    {
     "name": "stdout",
     "output_type": "stream",
     "text": [
      "[youtube] 4THFRpw68oQ: Downloading android player API JSON\n"
     ]
    },
    {
     "name": "stderr",
     "output_type": "stream",
     "text": [
      "WARNING: [youtube] YouTube said: ERROR - Precondition check failed.\n",
      "WARNING: [youtube] HTTP Error 400: Bad Request. Retrying (3/3)...\n"
     ]
    },
    {
     "name": "stdout",
     "output_type": "stream",
     "text": [
      "[youtube] 4THFRpw68oQ: Downloading android player API JSON\n"
     ]
    },
    {
     "name": "stderr",
     "output_type": "stream",
     "text": [
      "WARNING: [youtube] YouTube said: ERROR - Precondition check failed.\n",
      "WARNING: [youtube] Unable to download API page: HTTP Error 400: Bad Request (caused by <HTTPError 400: Bad Request>); please report this issue on  https://github.com/yt-dlp/yt-dlp/issues?q= , filling out the appropriate issue template. Confirm you are on the latest version using  yt-dlp -U\n"
     ]
    },
    {
     "name": "stdout",
     "output_type": "stream",
     "text": [
      "[youtube] 4THFRpw68oQ: Downloading m3u8 information\n",
      "[info] 4THFRpw68oQ: Downloading 1 format(s): 251\n",
      "[download] Destination: C:\\Users\\arwin\\Documents\\dev\\APS360-PROJECT\\data\\billboard_audio\\AJR_Bang!\\AJR_Bang!.webm\n",
      "[download] 100% of    2.75MiB in 00:00:00 at 3.78MiB/s   \n",
      "[download] Finished downloading playlist: AJR Bang!\n",
      "[generic] Extracting URL: Internet Money & Gunna Featuring Don Toliver & NAV Lemonade\n",
      "[youtube:search] Extracting URL: ytsearch:Internet Money & Gunna Featuring Don Toliver & NAV Lemonade\n",
      "[download] Downloading playlist: Internet Money & Gunna Featuring Don Toliver & NAV Lemonade\n",
      "[youtube:search] query \"Internet Money & Gunna Featuring Don Toliver & NAV Lemonade\": Downloading web client config\n",
      "[youtube:search] query \"Internet Money & Gunna Featuring Don Toliver & NAV Lemonade\" page 1: Downloading API JSON\n",
      "[youtube:search] Playlist Internet Money & Gunna Featuring Don Toliver & NAV Lemonade: Downloading 1 items of 1\n",
      "[download] Downloading item 1 of 1\n",
      "[youtube] Extracting URL: https://www.youtube.com/watch?v=0opZqh_TprM\n",
      "[youtube] 0opZqh_TprM: Downloading webpage\n",
      "[youtube] 0opZqh_TprM: Downloading ios player API JSON\n",
      "[youtube] 0opZqh_TprM: Downloading android player API JSON\n"
     ]
    },
    {
     "name": "stderr",
     "output_type": "stream",
     "text": [
      "WARNING: [youtube] YouTube said: ERROR - Precondition check failed.\n",
      "WARNING: [youtube] HTTP Error 400: Bad Request. Retrying (1/3)...\n"
     ]
    },
    {
     "name": "stdout",
     "output_type": "stream",
     "text": [
      "[youtube] 0opZqh_TprM: Downloading android player API JSON\n"
     ]
    },
    {
     "name": "stderr",
     "output_type": "stream",
     "text": [
      "WARNING: [youtube] YouTube said: ERROR - Precondition check failed.\n",
      "WARNING: [youtube] HTTP Error 400: Bad Request. Retrying (2/3)...\n"
     ]
    },
    {
     "name": "stdout",
     "output_type": "stream",
     "text": [
      "[youtube] 0opZqh_TprM: Downloading android player API JSON\n"
     ]
    },
    {
     "name": "stderr",
     "output_type": "stream",
     "text": [
      "WARNING: [youtube] YouTube said: ERROR - Precondition check failed.\n",
      "WARNING: [youtube] HTTP Error 400: Bad Request. Retrying (3/3)...\n"
     ]
    },
    {
     "name": "stdout",
     "output_type": "stream",
     "text": [
      "[youtube] 0opZqh_TprM: Downloading android player API JSON\n",
      "[youtube] 0opZqh_TprM: Downloading m3u8 information\n",
      "[info] 0opZqh_TprM: Downloading 1 format(s): 251\n",
      "[download] Destination: C:\\Users\\arwin\\Documents\\dev\\APS360-PROJECT\\data\\billboard_audio\\Internet Money & Gunna Featuring Don Toliver & NAV_Lemonade\\Internet Money & Gunna Featuring Don Toliver & NAV_Lemonade.webm\n",
      "[download] 100% of    3.74MiB in 00:00:00 at 21.58MiB/s    \n",
      "[download] Finished downloading playlist: Internet Money & Gunna Featuring Don Toliver & NAV Lemonade\n",
      "[generic] Extracting URL: Drake Featuring Lil Durk Laugh Now Cry Later\n",
      "[youtube:search] Extracting URL: ytsearch:Drake Featuring Lil Durk Laugh Now Cry Later\n",
      "[download] Downloading playlist: Drake Featuring Lil Durk Laugh Now Cry Later\n",
      "[youtube:search] query \"Drake Featuring Lil Durk Laugh Now Cry Later\": Downloading web client config\n",
      "[youtube:search] query \"Drake Featuring Lil Durk Laugh Now Cry Later\" page 1: Downloading API JSON\n",
      "[youtube:search] Playlist Drake Featuring Lil Durk Laugh Now Cry Later: Downloading 1 items of 1\n",
      "[download] Downloading item 1 of 1\n",
      "[youtube] Extracting URL: https://www.youtube.com/watch?v=JFm7YDVlqnI\n",
      "[youtube] JFm7YDVlqnI: Downloading webpage\n",
      "[youtube] JFm7YDVlqnI: Downloading ios player API JSON\n",
      "[youtube] JFm7YDVlqnI: Downloading android player API JSON\n",
      "[youtube] JFm7YDVlqnI: Downloading m3u8 information\n",
      "[info] JFm7YDVlqnI: Downloading 1 format(s): 251\n",
      "[download] Destination: C:\\Users\\arwin\\Documents\\dev\\APS360-PROJECT\\data\\billboard_audio\\Drake Featuring Lil Durk_Laugh Now Cry Later\\Drake Featuring Lil Durk_Laugh Now Cry Later.webm\n",
      "[download] 100% of    4.82MiB in 00:00:00 at 25.03MiB/s    \n",
      "[download] Finished downloading playlist: Drake Featuring Lil Durk Laugh Now Cry Later\n",
      "[generic] Extracting URL: Post Malone Only Wanna Be With You\n",
      "[youtube:search] Extracting URL: ytsearch:Post Malone Only Wanna Be With You\n",
      "[download] Downloading playlist: Post Malone Only Wanna Be With You\n",
      "[youtube:search] query \"Post Malone Only Wanna Be With You\": Downloading web client config\n",
      "[youtube:search] query \"Post Malone Only Wanna Be With You\" page 1: Downloading API JSON\n",
      "[youtube:search] Playlist Post Malone Only Wanna Be With You: Downloading 1 items of 1\n",
      "[download] Downloading item 1 of 1\n",
      "[youtube] Extracting URL: https://www.youtube.com/watch?v=gBGoDmLMe3U\n",
      "[youtube] gBGoDmLMe3U: Downloading webpage\n",
      "[youtube] gBGoDmLMe3U: Downloading ios player API JSON\n",
      "[youtube] gBGoDmLMe3U: Downloading android player API JSON\n"
     ]
    },
    {
     "name": "stderr",
     "output_type": "stream",
     "text": [
      "WARNING: [youtube] YouTube said: ERROR - Precondition check failed.\n",
      "WARNING: [youtube] HTTP Error 400: Bad Request. Retrying (1/3)...\n"
     ]
    },
    {
     "name": "stdout",
     "output_type": "stream",
     "text": [
      "[youtube] gBGoDmLMe3U: Downloading android player API JSON\n"
     ]
    },
    {
     "name": "stderr",
     "output_type": "stream",
     "text": [
      "WARNING: [youtube] YouTube said: ERROR - Precondition check failed.\n",
      "WARNING: [youtube] HTTP Error 400: Bad Request. Retrying (2/3)...\n"
     ]
    },
    {
     "name": "stdout",
     "output_type": "stream",
     "text": [
      "[youtube] gBGoDmLMe3U: Downloading android player API JSON\n",
      "[youtube] gBGoDmLMe3U: Downloading m3u8 information\n",
      "[info] gBGoDmLMe3U: Downloading 1 format(s): 251\n",
      "[download] Destination: C:\\Users\\arwin\\Documents\\dev\\APS360-PROJECT\\data\\billboard_audio\\Post Malone_Only Wanna Be With You\\Post Malone_Only Wanna Be With You.webm\n",
      "[download] 100% of    3.88MiB in 00:00:00 at 17.94MiB/s    \n",
      "[download] Finished downloading playlist: Post Malone Only Wanna Be With You\n",
      "[generic] Extracting URL: Kelsea Ballerini Hole In The Bottle\n",
      "[youtube:search] Extracting URL: ytsearch:Kelsea Ballerini Hole In The Bottle\n",
      "[download] Downloading playlist: Kelsea Ballerini Hole In The Bottle\n",
      "[youtube:search] query \"Kelsea Ballerini Hole In The Bottle\": Downloading web client config\n",
      "[youtube:search] query \"Kelsea Ballerini Hole In The Bottle\" page 1: Downloading API JSON\n",
      "[youtube:search] Playlist Kelsea Ballerini Hole In The Bottle: Downloading 1 items of 1\n",
      "[download] Downloading item 1 of 1\n",
      "[youtube] Extracting URL: https://www.youtube.com/watch?v=ZUHQ0j6qrCM\n",
      "[youtube] ZUHQ0j6qrCM: Downloading webpage\n",
      "[youtube] ZUHQ0j6qrCM: Downloading ios player API JSON\n",
      "[youtube] ZUHQ0j6qrCM: Downloading android player API JSON\n",
      "[youtube] ZUHQ0j6qrCM: Downloading m3u8 information\n",
      "[info] ZUHQ0j6qrCM: Downloading 1 format(s): 251\n",
      "[download] Destination: C:\\Users\\arwin\\Documents\\dev\\APS360-PROJECT\\data\\billboard_audio\\Kelsea Ballerini_Hole In The Bottle\\Kelsea Ballerini_Hole In The Bottle.webm\n",
      "[download] 100% of    2.54MiB in 00:00:00 at 19.86MiB/s  \n",
      "[download] Finished downloading playlist: Kelsea Ballerini Hole In The Bottle\n",
      "[generic] Extracting URL: Karol G Bichota\n",
      "[youtube:search] Extracting URL: ytsearch:Karol G Bichota\n",
      "[download] Downloading playlist: Karol G Bichota\n",
      "[youtube:search] query \"Karol G Bichota\": Downloading web client config\n",
      "[youtube:search] query \"Karol G Bichota\" page 1: Downloading API JSON\n",
      "[youtube:search] Playlist Karol G Bichota: Downloading 1 items of 1\n",
      "[download] Downloading item 1 of 1\n",
      "[youtube] Extracting URL: https://www.youtube.com/watch?v=QaXhVryxVBk\n",
      "[youtube] QaXhVryxVBk: Downloading webpage\n",
      "[youtube] QaXhVryxVBk: Downloading ios player API JSON\n",
      "[youtube] QaXhVryxVBk: Downloading android player API JSON\n",
      "[youtube] QaXhVryxVBk: Downloading m3u8 information\n",
      "[info] QaXhVryxVBk: Downloading 1 format(s): 251\n",
      "[download] Destination: C:\\Users\\arwin\\Documents\\dev\\APS360-PROJECT\\data\\billboard_audio\\Karol G_Bichota\\Karol G_Bichota.webm\n",
      "[download] 100% of    2.97MiB in 00:00:00 at 18.71MiB/s  \n",
      "[download] Finished downloading playlist: Karol G Bichota\n",
      "[generic] Extracting URL: Ariana Grande Test Drive\n",
      "[youtube:search] Extracting URL: ytsearch:Ariana Grande Test Drive\n",
      "[download] Downloading playlist: Ariana Grande Test Drive\n",
      "[youtube:search] query \"Ariana Grande Test Drive\": Downloading web client config\n",
      "[youtube:search] query \"Ariana Grande Test Drive\" page 1: Downloading API JSON\n",
      "[youtube:search] Playlist Ariana Grande Test Drive: Downloading 1 items of 1\n",
      "[download] Downloading item 1 of 1\n",
      "[youtube] Extracting URL: https://www.youtube.com/watch?v=1zNYZd94ui8\n",
      "[youtube] 1zNYZd94ui8: Downloading webpage\n",
      "[youtube] 1zNYZd94ui8: Downloading ios player API JSON\n",
      "[youtube] 1zNYZd94ui8: Downloading android player API JSON\n",
      "[youtube] 1zNYZd94ui8: Downloading m3u8 information\n",
      "[info] 1zNYZd94ui8: Downloading 1 format(s): 251\n",
      "[download] Destination: C:\\Users\\arwin\\Documents\\dev\\APS360-PROJECT\\data\\billboard_audio\\Ariana Grande_Test Drive\\Ariana Grande_Test Drive.webm\n",
      "[download] 100% of    1.97MiB in 00:00:00 at 8.18MiB/s     \n",
      "[download] Finished downloading playlist: Ariana Grande Test Drive\n",
      "[generic] Extracting URL: Lil Yachty Featuring Kodak Black Hit Bout It\n",
      "[youtube:search] Extracting URL: ytsearch:Lil Yachty Featuring Kodak Black Hit Bout It\n",
      "[download] Downloading playlist: Lil Yachty Featuring Kodak Black Hit Bout It\n",
      "[youtube:search] query \"Lil Yachty Featuring Kodak Black Hit Bout It\": Downloading web client config\n",
      "[youtube:search] query \"Lil Yachty Featuring Kodak Black Hit Bout It\" page 1: Downloading API JSON\n",
      "[youtube:search] Playlist Lil Yachty Featuring Kodak Black Hit Bout It: Downloading 1 items of 1\n",
      "[download] Downloading item 1 of 1\n",
      "[youtube] Extracting URL: https://www.youtube.com/watch?v=_XqKuHT_09Y\n",
      "[youtube] _XqKuHT_09Y: Downloading webpage\n",
      "[youtube] _XqKuHT_09Y: Downloading ios player API JSON\n",
      "[youtube] _XqKuHT_09Y: Downloading android player API JSON\n"
     ]
    },
    {
     "name": "stderr",
     "output_type": "stream",
     "text": [
      "WARNING: [youtube] YouTube said: ERROR - Precondition check failed.\n",
      "WARNING: [youtube] HTTP Error 400: Bad Request. Retrying (1/3)...\n"
     ]
    },
    {
     "name": "stdout",
     "output_type": "stream",
     "text": [
      "[youtube] _XqKuHT_09Y: Downloading android player API JSON\n",
      "[youtube] _XqKuHT_09Y: Downloading m3u8 information\n",
      "[info] _XqKuHT_09Y: Downloading 1 format(s): 251\n",
      "[download] Destination: C:\\Users\\arwin\\Documents\\dev\\APS360-PROJECT\\data\\billboard_audio\\Lil Yachty Featuring Kodak Black_Hit Bout It\\Lil Yachty Featuring Kodak Black_Hit Bout It.webm\n",
      "[download] 100% of    3.60MiB in 00:00:00 at 12.80MiB/s  \n",
      "[download] Finished downloading playlist: Lil Yachty Featuring Kodak Black Hit Bout It\n",
      "[generic] Extracting URL: Clinton Kane Chicken Tendies\n",
      "[youtube:search] Extracting URL: ytsearch:Clinton Kane Chicken Tendies\n",
      "[download] Downloading playlist: Clinton Kane Chicken Tendies\n",
      "[youtube:search] query \"Clinton Kane Chicken Tendies\": Downloading web client config\n",
      "[youtube:search] query \"Clinton Kane Chicken Tendies\" page 1: Downloading API JSON\n",
      "[youtube:search] Playlist Clinton Kane Chicken Tendies: Downloading 1 items of 1\n",
      "[download] Downloading item 1 of 1\n",
      "[youtube] Extracting URL: https://www.youtube.com/watch?v=nKwWT7i_P38\n",
      "[youtube] nKwWT7i_P38: Downloading webpage\n",
      "[youtube] nKwWT7i_P38: Downloading ios player API JSON\n",
      "[youtube] nKwWT7i_P38: Downloading android player API JSON\n",
      "[youtube] nKwWT7i_P38: Downloading m3u8 information\n",
      "[info] nKwWT7i_P38: Downloading 1 format(s): 251\n",
      "[download] Destination: C:\\Users\\arwin\\Documents\\dev\\APS360-PROJECT\\data\\billboard_audio\\Clinton Kane_Chicken Tendies\\Clinton Kane_Chicken Tendies.webm\n",
      "[download] 100% of    3.21MiB in 00:00:00 at 12.39MiB/s  \n",
      "[download] Finished downloading playlist: Clinton Kane Chicken Tendies\n",
      "[generic] Extracting URL: 6ix9ine ZaZa\n",
      "[youtube:search] Extracting URL: ytsearch:6ix9ine ZaZa\n",
      "[download] Downloading playlist: 6ix9ine ZaZa\n",
      "[youtube:search] query \"6ix9ine ZaZa\": Downloading web client config\n",
      "[youtube:search] query \"6ix9ine ZaZa\" page 1: Downloading API JSON\n",
      "[youtube:search] Playlist 6ix9ine ZaZa: Downloading 1 items of 1\n",
      "[download] Downloading item 1 of 1\n",
      "[youtube] Extracting URL: https://www.youtube.com/watch?v=xdVknLqOM9A\n",
      "[youtube] xdVknLqOM9A: Downloading webpage\n",
      "[youtube] xdVknLqOM9A: Downloading ios player API JSON\n",
      "[youtube] xdVknLqOM9A: Downloading android player API JSON\n",
      "[info] xdVknLqOM9A: Downloading 1 format(s): 251\n",
      "[download] Destination: C:\\Users\\arwin\\Documents\\dev\\APS360-PROJECT\\data\\billboard_audio\\6ix9ine_ZaZa\\6ix9ine_ZaZa.webm\n",
      "[download] 100% of    1.91MiB in 00:00:00 at 16.99MiB/s    \n",
      "[download] Finished downloading playlist: 6ix9ine ZaZa\n",
      "[generic] Extracting URL: Ed Sheeran Afterglow\n",
      "[youtube:search] Extracting URL: ytsearch:Ed Sheeran Afterglow\n",
      "[download] Downloading playlist: Ed Sheeran Afterglow\n",
      "[youtube:search] query \"Ed Sheeran Afterglow\": Downloading web client config\n",
      "[youtube:search] query \"Ed Sheeran Afterglow\" page 1: Downloading API JSON\n",
      "[youtube:search] Playlist Ed Sheeran Afterglow: Downloading 1 items of 1\n",
      "[download] Downloading item 1 of 1\n",
      "[youtube] Extracting URL: https://www.youtube.com/watch?v=_NGQfFCFUn4\n",
      "[youtube] _NGQfFCFUn4: Downloading webpage\n",
      "[youtube] _NGQfFCFUn4: Downloading ios player API JSON\n",
      "[youtube] _NGQfFCFUn4: Downloading android player API JSON\n"
     ]
    },
    {
     "name": "stderr",
     "output_type": "stream",
     "text": [
      "WARNING: [youtube] YouTube said: ERROR - Precondition check failed.\n",
      "WARNING: [youtube] HTTP Error 400: Bad Request. Retrying (1/3)...\n"
     ]
    },
    {
     "name": "stdout",
     "output_type": "stream",
     "text": [
      "[youtube] _NGQfFCFUn4: Downloading android player API JSON\n",
      "[youtube] _NGQfFCFUn4: Downloading m3u8 information\n",
      "[info] _NGQfFCFUn4: Downloading 1 format(s): 251\n",
      "[download] Destination: C:\\Users\\arwin\\Documents\\dev\\APS360-PROJECT\\data\\billboard_audio\\Ed Sheeran_Afterglow\\Ed Sheeran_Afterglow.webm\n",
      "[download] 100% of    3.13MiB in 00:00:00 at 15.77MiB/s  \n",
      "[download] Finished downloading playlist: Ed Sheeran Afterglow\n",
      "[generic] Extracting URL: Shawn Mendes & Justin Bieber Monster\n",
      "[youtube:search] Extracting URL: ytsearch:Shawn Mendes & Justin Bieber Monster\n",
      "[download] Downloading playlist: Shawn Mendes & Justin Bieber Monster\n",
      "[youtube:search] query \"Shawn Mendes & Justin Bieber Monster\": Downloading web client config\n",
      "[youtube:search] query \"Shawn Mendes & Justin Bieber Monster\" page 1: Downloading API JSON\n",
      "[youtube:search] Playlist Shawn Mendes & Justin Bieber Monster: Downloading 1 items of 1\n",
      "[download] Downloading item 1 of 1\n",
      "[youtube] Extracting URL: https://www.youtube.com/watch?v=MPbUaIZAaeA\n",
      "[youtube] MPbUaIZAaeA: Downloading webpage\n",
      "[youtube] MPbUaIZAaeA: Downloading ios player API JSON\n",
      "[youtube] MPbUaIZAaeA: Downloading android player API JSON\n"
     ]
    },
    {
     "name": "stderr",
     "output_type": "stream",
     "text": [
      "WARNING: [youtube] YouTube said: ERROR - Precondition check failed.\n",
      "WARNING: [youtube] HTTP Error 400: Bad Request. Retrying (1/3)...\n"
     ]
    },
    {
     "name": "stdout",
     "output_type": "stream",
     "text": [
      "[youtube] MPbUaIZAaeA: Downloading android player API JSON\n",
      "[youtube] MPbUaIZAaeA: Downloading m3u8 information\n",
      "[info] MPbUaIZAaeA: Downloading 1 format(s): 251\n",
      "[download] Destination: C:\\Users\\arwin\\Documents\\dev\\APS360-PROJECT\\data\\billboard_audio\\Shawn Mendes & Justin Bieber_Monster\\Shawn Mendes & Justin Bieber_Monster.webm\n",
      "[download] 100% of    2.88MiB in 00:00:00 at 11.01MiB/s  \n",
      "[download] Finished downloading playlist: Shawn Mendes & Justin Bieber Monster\n",
      "[generic] Extracting URL: Lewis Capaldi Before You Go\n",
      "[youtube:search] Extracting URL: ytsearch:Lewis Capaldi Before You Go\n",
      "[download] Downloading playlist: Lewis Capaldi Before You Go\n",
      "[youtube:search] query \"Lewis Capaldi Before You Go\": Downloading web client config\n",
      "[youtube:search] query \"Lewis Capaldi Before You Go\" page 1: Downloading API JSON\n",
      "[youtube:search] Playlist Lewis Capaldi Before You Go: Downloading 1 items of 1\n",
      "[download] Downloading item 1 of 1\n",
      "[youtube] Extracting URL: https://www.youtube.com/watch?v=Jtauh8GcxBY\n",
      "[youtube] Jtauh8GcxBY: Downloading webpage\n",
      "[youtube] Jtauh8GcxBY: Downloading ios player API JSON\n",
      "[youtube] Jtauh8GcxBY: Downloading android player API JSON\n"
     ]
    },
    {
     "name": "stderr",
     "output_type": "stream",
     "text": [
      "WARNING: [youtube] YouTube said: ERROR - Precondition check failed.\n",
      "WARNING: [youtube] HTTP Error 400: Bad Request. Retrying (1/3)...\n"
     ]
    },
    {
     "name": "stdout",
     "output_type": "stream",
     "text": [
      "[youtube] Jtauh8GcxBY: Downloading android player API JSON\n"
     ]
    },
    {
     "name": "stderr",
     "output_type": "stream",
     "text": [
      "WARNING: [youtube] YouTube said: ERROR - Precondition check failed.\n",
      "WARNING: [youtube] HTTP Error 400: Bad Request. Retrying (2/3)...\n"
     ]
    },
    {
     "name": "stdout",
     "output_type": "stream",
     "text": [
      "[youtube] Jtauh8GcxBY: Downloading android player API JSON\n",
      "[youtube] Jtauh8GcxBY: Downloading m3u8 information\n",
      "[info] Jtauh8GcxBY: Downloading 1 format(s): 251\n",
      "[download] Destination: C:\\Users\\arwin\\Documents\\dev\\APS360-PROJECT\\data\\billboard_audio\\Lewis Capaldi_Before You Go\\Lewis Capaldi_Before You Go.webm\n",
      "[download] 100% of    4.04MiB in 00:00:00 at 18.32MiB/s    \n",
      "[download] Finished downloading playlist: Lewis Capaldi Before You Go\n",
      "[generic] Extracting URL: Nipsey Hussle & JAY-Z What It Feels Like\n",
      "[youtube:search] Extracting URL: ytsearch:Nipsey Hussle & JAY-Z What It Feels Like\n",
      "[download] Downloading playlist: Nipsey Hussle & JAY-Z What It Feels Like\n",
      "[youtube:search] query \"Nipsey Hussle & JAY-Z What It Feels Like\": Downloading web client config\n",
      "[youtube:search] query \"Nipsey Hussle & JAY-Z What It Feels Like\" page 1: Downloading API JSON\n",
      "[youtube:search] Playlist Nipsey Hussle & JAY-Z What It Feels Like: Downloading 1 items of 1\n",
      "[download] Downloading item 1 of 1\n",
      "[youtube] Extracting URL: https://www.youtube.com/watch?v=12e4v-XlCmk\n",
      "[youtube] 12e4v-XlCmk: Downloading webpage\n",
      "[youtube] 12e4v-XlCmk: Downloading ios player API JSON\n",
      "[youtube] 12e4v-XlCmk: Downloading android player API JSON\n",
      "[youtube] 12e4v-XlCmk: Downloading m3u8 information\n",
      "[info] 12e4v-XlCmk: Downloading 1 format(s): 251\n",
      "[download] Destination: C:\\Users\\arwin\\Documents\\dev\\APS360-PROJECT\\data\\billboard_audio\\Nipsey Hussle & JAY-Z_What It Feels Like\\Nipsey Hussle & JAY-Z_What It Feels Like.webm\n",
      "[download] 100% of    4.23MiB in 00:00:00 at 9.87MiB/s   \n",
      "[download] Finished downloading playlist: Nipsey Hussle & JAY-Z What It Feels Like\n",
      "[generic] Extracting URL: The Kid LAROI So Done\n",
      "[youtube:search] Extracting URL: ytsearch:The Kid LAROI So Done\n",
      "[download] Downloading playlist: The Kid LAROI So Done\n",
      "[youtube:search] query \"The Kid LAROI So Done\": Downloading web client config\n",
      "[youtube:search] query \"The Kid LAROI So Done\" page 1: Downloading API JSON\n",
      "[youtube:search] Playlist The Kid LAROI So Done: Downloading 1 items of 1\n",
      "[download] Downloading item 1 of 1\n",
      "[youtube] Extracting URL: https://www.youtube.com/watch?v=yasj3j76SyM\n",
      "[youtube] yasj3j76SyM: Downloading webpage\n",
      "[youtube] yasj3j76SyM: Downloading ios player API JSON\n",
      "[youtube] yasj3j76SyM: Downloading android player API JSON\n",
      "[youtube] yasj3j76SyM: Downloading m3u8 information\n",
      "[info] yasj3j76SyM: Downloading 1 format(s): 251\n",
      "[download] Destination: C:\\Users\\arwin\\Documents\\dev\\APS360-PROJECT\\data\\billboard_audio\\The Kid LAROI_So Done\\The Kid LAROI_So Done.webm\n",
      "[download] 100% of    2.39MiB in 00:00:00 at 5.75MiB/s   \n",
      "[download] Finished downloading playlist: The Kid LAROI So Done\n",
      "[generic] Extracting URL: Kenny Chesney Happy Does\n",
      "[youtube:search] Extracting URL: ytsearch:Kenny Chesney Happy Does\n",
      "[download] Downloading playlist: Kenny Chesney Happy Does\n",
      "[youtube:search] query \"Kenny Chesney Happy Does\": Downloading web client config\n",
      "[youtube:search] query \"Kenny Chesney Happy Does\" page 1: Downloading API JSON\n",
      "[youtube:search] Playlist Kenny Chesney Happy Does: Downloading 1 items of 1\n",
      "[download] Downloading item 1 of 1\n",
      "[youtube] Extracting URL: https://www.youtube.com/watch?v=NIuABvRetM8\n",
      "[youtube] NIuABvRetM8: Downloading webpage\n",
      "[youtube] NIuABvRetM8: Downloading ios player API JSON\n",
      "[youtube] NIuABvRetM8: Downloading android player API JSON\n"
     ]
    },
    {
     "name": "stderr",
     "output_type": "stream",
     "text": [
      "WARNING: [youtube] YouTube said: ERROR - Precondition check failed.\n",
      "WARNING: [youtube] HTTP Error 400: Bad Request. Retrying (1/3)...\n"
     ]
    },
    {
     "name": "stdout",
     "output_type": "stream",
     "text": [
      "[youtube] NIuABvRetM8: Downloading android player API JSON\n",
      "[youtube] NIuABvRetM8: Downloading m3u8 information\n",
      "[info] NIuABvRetM8: Downloading 1 format(s): 251\n",
      "[download] Destination: C:\\Users\\arwin\\Documents\\dev\\APS360-PROJECT\\data\\billboard_audio\\Kenny Chesney_Happy Does\\Kenny Chesney_Happy Does.webm\n",
      "[download] 100% of    2.76MiB in 00:00:01 at 2.63MiB/s   \n",
      "[download] Finished downloading playlist: Kenny Chesney Happy Does\n",
      "[generic] Extracting URL: Chris Lane Big, Big Plans\n",
      "[youtube:search] Extracting URL: ytsearch:Chris Lane Big, Big Plans\n",
      "[download] Downloading playlist: Chris Lane Big, Big Plans\n",
      "[youtube:search] query \"Chris Lane Big, Big Plans\": Downloading web client config\n",
      "[youtube:search] query \"Chris Lane Big, Big Plans\" page 1: Downloading API JSON\n",
      "[youtube:search] Playlist Chris Lane Big, Big Plans: Downloading 1 items of 1\n",
      "[download] Downloading item 1 of 1\n",
      "[youtube] Extracting URL: https://www.youtube.com/watch?v=Jh-MYDF0hr4\n",
      "[youtube] Jh-MYDF0hr4: Downloading webpage\n",
      "[youtube] Jh-MYDF0hr4: Downloading ios player API JSON\n",
      "[youtube] Jh-MYDF0hr4: Downloading android player API JSON\n",
      "[youtube] Jh-MYDF0hr4: Downloading m3u8 information\n",
      "[info] Jh-MYDF0hr4: Downloading 1 format(s): 251\n",
      "[download] Destination: C:\\Users\\arwin\\Documents\\dev\\APS360-PROJECT\\data\\billboard_audio\\Chris Lane_Big, Big Plans\\Chris Lane_Big, Big Plans.webm\n",
      "[download] 100% of    3.97MiB in 00:00:00 at 11.30MiB/s  \n",
      "[download] Finished downloading playlist: Chris Lane Big, Big Plans\n",
      "[generic] Extracting URL: Saweetie Featuring Jhene Aiko Back To The Streets\n",
      "[youtube:search] Extracting URL: ytsearch:Saweetie Featuring Jhene Aiko Back To The Streets\n",
      "[download] Downloading playlist: Saweetie Featuring Jhene Aiko Back To The Streets\n",
      "[youtube:search] query \"Saweetie Featuring Jhene Aiko Back To The Streets\": Downloading web client config\n",
      "[youtube:search] query \"Saweetie Featuring Jhene Aiko Back To The Streets\" page 1: Downloading API JSON\n",
      "[youtube:search] Playlist Saweetie Featuring Jhene Aiko Back To The Streets: Downloading 1 items of 1\n",
      "[download] Downloading item 1 of 1\n",
      "[youtube] Extracting URL: https://www.youtube.com/watch?v=dkEBoVlexOc\n",
      "[youtube] dkEBoVlexOc: Downloading webpage\n",
      "[youtube] dkEBoVlexOc: Downloading ios player API JSON\n",
      "[youtube] dkEBoVlexOc: Downloading android player API JSON\n",
      "[youtube] dkEBoVlexOc: Downloading m3u8 information\n",
      "[info] dkEBoVlexOc: Downloading 1 format(s): 251\n",
      "[download] Destination: C:\\Users\\arwin\\Documents\\dev\\APS360-PROJECT\\data\\billboard_audio\\Saweetie Featuring Jhene Aiko_Back To The Streets\\Saweetie Featuring Jhene Aiko_Back To The Streets.webm\n",
      "[download] 100% of    3.19MiB in 00:00:00 at 11.58MiB/s  \n",
      "[download] Finished downloading playlist: Saweetie Featuring Jhene Aiko Back To The Streets\n",
      "[generic] Extracting URL: Juice WRLD & Young Thug Bad Boy\n",
      "[youtube:search] Extracting URL: ytsearch:Juice WRLD & Young Thug Bad Boy\n",
      "[download] Downloading playlist: Juice WRLD & Young Thug Bad Boy\n",
      "[youtube:search] query \"Juice WRLD & Young Thug Bad Boy\": Downloading web client config\n",
      "[youtube:search] query \"Juice WRLD & Young Thug Bad Boy\" page 1: Downloading API JSON\n",
      "[youtube:search] Playlist Juice WRLD & Young Thug Bad Boy: Downloading 1 items of 1\n",
      "[download] Downloading item 1 of 1\n",
      "[youtube] Extracting URL: https://www.youtube.com/watch?v=ghzdwjWrWcc\n",
      "[youtube] ghzdwjWrWcc: Downloading webpage\n",
      "[youtube] ghzdwjWrWcc: Downloading ios player API JSON\n",
      "[youtube] ghzdwjWrWcc: Downloading android player API JSON\n"
     ]
    },
    {
     "name": "stderr",
     "output_type": "stream",
     "text": [
      "WARNING: [youtube] YouTube said: ERROR - Precondition check failed.\n",
      "WARNING: [youtube] HTTP Error 400: Bad Request. Retrying (1/3)...\n"
     ]
    },
    {
     "name": "stdout",
     "output_type": "stream",
     "text": [
      "[youtube] ghzdwjWrWcc: Downloading android player API JSON\n"
     ]
    },
    {
     "name": "stderr",
     "output_type": "stream",
     "text": [
      "WARNING: [youtube] YouTube said: ERROR - Precondition check failed.\n",
      "WARNING: [youtube] HTTP Error 400: Bad Request. Retrying (2/3)...\n"
     ]
    },
    {
     "name": "stdout",
     "output_type": "stream",
     "text": [
      "[youtube] ghzdwjWrWcc: Downloading android player API JSON\n"
     ]
    },
    {
     "name": "stderr",
     "output_type": "stream",
     "text": [
      "WARNING: [youtube] YouTube said: ERROR - Precondition check failed.\n",
      "WARNING: [youtube] HTTP Error 400: Bad Request. Retrying (3/3)...\n"
     ]
    },
    {
     "name": "stdout",
     "output_type": "stream",
     "text": [
      "[youtube] ghzdwjWrWcc: Downloading android player API JSON\n",
      "[youtube] ghzdwjWrWcc: Downloading m3u8 information\n",
      "[info] ghzdwjWrWcc: Downloading 1 format(s): 251\n",
      "[download] Destination: C:\\Users\\arwin\\Documents\\dev\\APS360-PROJECT\\data\\billboard_audio\\Juice WRLD & Young Thug_Bad Boy\\Juice WRLD & Young Thug_Bad Boy.webm\n",
      "[download] 100% of    3.44MiB in 00:00:00 at 17.64MiB/s  \n",
      "[download] Finished downloading playlist: Juice WRLD & Young Thug Bad Boy\n",
      "[generic] Extracting URL: Ava Max Kings & Queens\n",
      "[youtube:search] Extracting URL: ytsearch:Ava Max Kings & Queens\n",
      "[download] Downloading playlist: Ava Max Kings & Queens\n",
      "[youtube:search] query \"Ava Max Kings & Queens\": Downloading web client config\n",
      "[youtube:search] query \"Ava Max Kings & Queens\" page 1: Downloading API JSON\n",
      "[youtube:search] Playlist Ava Max Kings & Queens: Downloading 1 items of 1\n",
      "[download] Downloading item 1 of 1\n",
      "[youtube] Extracting URL: https://www.youtube.com/watch?v=jH1RNk8954Q\n",
      "[youtube] jH1RNk8954Q: Downloading webpage\n",
      "[youtube] jH1RNk8954Q: Downloading ios player API JSON\n",
      "[youtube] jH1RNk8954Q: Downloading android player API JSON\n"
     ]
    },
    {
     "name": "stderr",
     "output_type": "stream",
     "text": [
      "WARNING: [youtube] YouTube said: ERROR - Precondition check failed.\n",
      "WARNING: [youtube] HTTP Error 400: Bad Request. Retrying (1/3)...\n"
     ]
    },
    {
     "name": "stdout",
     "output_type": "stream",
     "text": [
      "[youtube] jH1RNk8954Q: Downloading android player API JSON\n"
     ]
    },
    {
     "name": "stderr",
     "output_type": "stream",
     "text": [
      "WARNING: [youtube] YouTube said: ERROR - Precondition check failed.\n",
      "WARNING: [youtube] HTTP Error 400: Bad Request. Retrying (2/3)...\n"
     ]
    },
    {
     "name": "stdout",
     "output_type": "stream",
     "text": [
      "[youtube] jH1RNk8954Q: Downloading android player API JSON\n"
     ]
    },
    {
     "name": "stderr",
     "output_type": "stream",
     "text": [
      "WARNING: [youtube] YouTube said: ERROR - Precondition check failed.\n",
      "WARNING: [youtube] HTTP Error 400: Bad Request. Retrying (3/3)...\n"
     ]
    },
    {
     "name": "stdout",
     "output_type": "stream",
     "text": [
      "[youtube] jH1RNk8954Q: Downloading android player API JSON\n"
     ]
    },
    {
     "name": "stderr",
     "output_type": "stream",
     "text": [
      "WARNING: [youtube] YouTube said: ERROR - Precondition check failed.\n",
      "WARNING: [youtube] Unable to download API page: HTTP Error 400: Bad Request (caused by <HTTPError 400: Bad Request>); please report this issue on  https://github.com/yt-dlp/yt-dlp/issues?q= , filling out the appropriate issue template. Confirm you are on the latest version using  yt-dlp -U\n"
     ]
    },
    {
     "name": "stdout",
     "output_type": "stream",
     "text": [
      "[youtube] jH1RNk8954Q: Downloading m3u8 information\n",
      "[info] jH1RNk8954Q: Downloading 1 format(s): 251\n",
      "[download] Destination: C:\\Users\\arwin\\Documents\\dev\\APS360-PROJECT\\data\\billboard_audio\\Ava Max_Kings & Queens\\Ava Max_Kings & Queens.webm\n",
      "[download] 100% of    2.57MiB in 00:00:00 at 18.07MiB/s  \n",
      "[download] Finished downloading playlist: Ava Max Kings & Queens\n",
      "[generic] Extracting URL: DaBaby Featuring Roddy Ricch Rockstar\n",
      "[youtube:search] Extracting URL: ytsearch:DaBaby Featuring Roddy Ricch Rockstar\n",
      "[download] Downloading playlist: DaBaby Featuring Roddy Ricch Rockstar\n",
      "[youtube:search] query \"DaBaby Featuring Roddy Ricch Rockstar\": Downloading web client config\n",
      "[youtube:search] query \"DaBaby Featuring Roddy Ricch Rockstar\" page 1: Downloading API JSON\n",
      "[youtube:search] Playlist DaBaby Featuring Roddy Ricch Rockstar: Downloading 1 items of 1\n",
      "[download] Downloading item 1 of 1\n",
      "[youtube] Extracting URL: https://www.youtube.com/watch?v=mxFstYSbBmc\n",
      "[youtube] mxFstYSbBmc: Downloading webpage\n",
      "[youtube] mxFstYSbBmc: Downloading ios player API JSON\n",
      "[youtube] mxFstYSbBmc: Downloading android player API JSON\n"
     ]
    },
    {
     "name": "stderr",
     "output_type": "stream",
     "text": [
      "WARNING: [youtube] YouTube said: ERROR - Precondition check failed.\n",
      "WARNING: [youtube] HTTP Error 400: Bad Request. Retrying (1/3)...\n"
     ]
    },
    {
     "name": "stdout",
     "output_type": "stream",
     "text": [
      "[youtube] mxFstYSbBmc: Downloading android player API JSON\n",
      "[youtube] mxFstYSbBmc: Downloading m3u8 information\n",
      "[info] mxFstYSbBmc: Downloading 1 format(s): 251\n",
      "[download] Destination: C:\\Users\\arwin\\Documents\\dev\\APS360-PROJECT\\data\\billboard_audio\\DaBaby Featuring Roddy Ricch_Rockstar\\DaBaby Featuring Roddy Ricch_Rockstar.webm\n",
      "[download] 100% of    7.13MiB in 00:00:00 at 11.78MiB/s  \n",
      "[download] Finished downloading playlist: DaBaby Featuring Roddy Ricch Rockstar\n",
      "[generic] Extracting URL: Polo G GNF (OKOKOK)\n",
      "[youtube:search] Extracting URL: ytsearch:Polo G GNF (OKOKOK)\n",
      "[download] Downloading playlist: Polo G GNF (OKOKOK)\n",
      "[youtube:search] query \"Polo G GNF (OKOKOK)\": Downloading web client config\n",
      "[youtube:search] query \"Polo G GNF (OKOKOK)\" page 1: Downloading API JSON\n",
      "[youtube:search] Playlist Polo G GNF (OKOKOK): Downloading 1 items of 1\n",
      "[download] Downloading item 1 of 1\n",
      "[youtube] Extracting URL: https://www.youtube.com/watch?v=gxykC33lTiQ\n",
      "[youtube] gxykC33lTiQ: Downloading webpage\n",
      "[youtube] gxykC33lTiQ: Downloading ios player API JSON\n",
      "[youtube] gxykC33lTiQ: Downloading android player API JSON\n",
      "[youtube] gxykC33lTiQ: Downloading m3u8 information\n",
      "[info] gxykC33lTiQ: Downloading 1 format(s): 251\n",
      "[download] Destination: C:\\Users\\arwin\\Documents\\dev\\APS360-PROJECT\\data\\billboard_audio\\Polo G_GNF (OKOKOK)\\Polo G_GNF (OKOKOK).webm\n",
      "[download] 100% of    2.18MiB in 00:00:00 at 7.82MiB/s   \n",
      "[download] Finished downloading playlist: Polo G GNF (OKOKOK)\n",
      "[generic] Extracting URL: G-Eazy Featuring Chris Brown & Mark Morrison Provide\n",
      "[youtube:search] Extracting URL: ytsearch:G-Eazy Featuring Chris Brown & Mark Morrison Provide\n",
      "[download] Downloading playlist: G-Eazy Featuring Chris Brown & Mark Morrison Provide\n",
      "[youtube:search] query \"G-Eazy Featuring Chris Brown & Mark Morrison Provide\": Downloading web client config\n",
      "[youtube:search] query \"G-Eazy Featuring Chris Brown & Mark Morrison Provide\" page 1: Downloading API JSON\n",
      "[youtube:search] Playlist G-Eazy Featuring Chris Brown & Mark Morrison Provide: Downloading 1 items of 1\n",
      "[download] Downloading item 1 of 1\n",
      "[youtube] Extracting URL: https://www.youtube.com/watch?v=kmMOASvXa9U\n",
      "[youtube] kmMOASvXa9U: Downloading webpage\n",
      "[youtube] kmMOASvXa9U: Downloading ios player API JSON\n",
      "[youtube] kmMOASvXa9U: Downloading android player API JSON\n",
      "[youtube] kmMOASvXa9U: Downloading m3u8 information\n",
      "[info] kmMOASvXa9U: Downloading 1 format(s): 251\n",
      "[download] Destination: C:\\Users\\arwin\\Documents\\dev\\APS360-PROJECT\\data\\billboard_audio\\G-Eazy Featuring Chris Brown & Mark Morrison_Provide\\G-Eazy Featuring Chris Brown & Mark Morrison_Provide.webm\n",
      "[download] 100% of    3.17MiB in 00:00:00 at 6.22MiB/s   \n",
      "[download] Finished downloading playlist: G-Eazy Featuring Chris Brown & Mark Morrison Provide\n",
      "[generic] Extracting URL: Morgan Wallen 865\n",
      "[youtube:search] Extracting URL: ytsearch:Morgan Wallen 865\n",
      "[download] Downloading playlist: Morgan Wallen 865\n",
      "[youtube:search] query \"Morgan Wallen 865\": Downloading web client config\n",
      "[youtube:search] query \"Morgan Wallen 865\" page 1: Downloading API JSON\n",
      "[youtube:search] Playlist Morgan Wallen 865: Downloading 1 items of 1\n",
      "[download] Downloading item 1 of 1\n",
      "[youtube] Extracting URL: https://www.youtube.com/watch?v=-C7CFgCpae0\n",
      "[youtube] -C7CFgCpae0: Downloading webpage\n",
      "[youtube] -C7CFgCpae0: Downloading ios player API JSON\n",
      "[youtube] -C7CFgCpae0: Downloading android player API JSON\n"
     ]
    },
    {
     "name": "stderr",
     "output_type": "stream",
     "text": [
      "WARNING: [youtube] YouTube said: ERROR - Precondition check failed.\n",
      "WARNING: [youtube] HTTP Error 400: Bad Request. Retrying (1/3)...\n"
     ]
    },
    {
     "name": "stdout",
     "output_type": "stream",
     "text": [
      "[youtube] -C7CFgCpae0: Downloading android player API JSON\n"
     ]
    },
    {
     "name": "stderr",
     "output_type": "stream",
     "text": [
      "WARNING: [youtube] YouTube said: ERROR - Precondition check failed.\n",
      "WARNING: [youtube] HTTP Error 400: Bad Request. Retrying (2/3)...\n"
     ]
    },
    {
     "name": "stdout",
     "output_type": "stream",
     "text": [
      "[youtube] -C7CFgCpae0: Downloading android player API JSON\n",
      "[youtube] -C7CFgCpae0: Downloading m3u8 information\n",
      "[info] -C7CFgCpae0: Downloading 1 format(s): 251\n",
      "[download] Destination: C:\\Users\\arwin\\Documents\\dev\\APS360-PROJECT\\data\\billboard_audio\\Morgan Wallen_865\\Morgan Wallen_865.webm\n",
      "[download] 100% of    3.06MiB in 00:00:00 at 20.21MiB/s  \n",
      "[download] Finished downloading playlist: Morgan Wallen 865\n",
      "[generic] Extracting URL: Pooh Shiesty Featuring 21 Savage Box Of Churches\n",
      "[youtube:search] Extracting URL: ytsearch:Pooh Shiesty Featuring 21 Savage Box Of Churches\n",
      "[download] Downloading playlist: Pooh Shiesty Featuring 21 Savage Box Of Churches\n",
      "[youtube:search] query \"Pooh Shiesty Featuring 21 Savage Box Of Churches\": Downloading web client config\n",
      "[youtube:search] query \"Pooh Shiesty Featuring 21 Savage Box Of Churches\" page 1: Downloading API JSON\n",
      "[youtube:search] Playlist Pooh Shiesty Featuring 21 Savage Box Of Churches: Downloading 1 items of 1\n",
      "[download] Downloading item 1 of 1\n",
      "[youtube] Extracting URL: https://www.youtube.com/watch?v=gPj1iS3wJsI\n",
      "[youtube] gPj1iS3wJsI: Downloading webpage\n",
      "[youtube] gPj1iS3wJsI: Downloading ios player API JSON\n",
      "[youtube] gPj1iS3wJsI: Downloading android player API JSON\n"
     ]
    },
    {
     "name": "stderr",
     "output_type": "stream",
     "text": [
      "WARNING: [youtube] YouTube said: ERROR - Precondition check failed.\n",
      "WARNING: [youtube] HTTP Error 400: Bad Request. Retrying (1/3)...\n"
     ]
    },
    {
     "name": "stdout",
     "output_type": "stream",
     "text": [
      "[youtube] gPj1iS3wJsI: Downloading android player API JSON\n"
     ]
    },
    {
     "name": "stderr",
     "output_type": "stream",
     "text": [
      "WARNING: [youtube] YouTube said: ERROR - Precondition check failed.\n",
      "WARNING: [youtube] HTTP Error 400: Bad Request. Retrying (2/3)...\n"
     ]
    },
    {
     "name": "stdout",
     "output_type": "stream",
     "text": [
      "[youtube] gPj1iS3wJsI: Downloading android player API JSON\n",
      "[youtube] gPj1iS3wJsI: Downloading m3u8 information\n",
      "[info] gPj1iS3wJsI: Downloading 1 format(s): 251\n",
      "[download] Destination: C:\\Users\\arwin\\Documents\\dev\\APS360-PROJECT\\data\\billboard_audio\\Pooh Shiesty Featuring 21 Savage_Box Of Churches\\Pooh Shiesty Featuring 21 Savage_Box Of Churches.webm\n",
      "[download] 100% of    3.15MiB in 00:00:00 at 13.95MiB/s  \n",
      "[download] Finished downloading playlist: Pooh Shiesty Featuring 21 Savage Box Of Churches\n",
      "[generic] Extracting URL: Morgan Wallen Dangerous\n",
      "[youtube:search] Extracting URL: ytsearch:Morgan Wallen Dangerous\n",
      "[download] Downloading playlist: Morgan Wallen Dangerous\n",
      "[youtube:search] query \"Morgan Wallen Dangerous\": Downloading web client config\n",
      "[youtube:search] query \"Morgan Wallen Dangerous\" page 1: Downloading API JSON\n",
      "[youtube:search] Playlist Morgan Wallen Dangerous: Downloading 1 items of 1\n",
      "[download] Downloading item 1 of 1\n",
      "[youtube] Extracting URL: https://www.youtube.com/watch?v=3q3essLbyVk\n",
      "[youtube] 3q3essLbyVk: Downloading webpage\n",
      "[youtube] 3q3essLbyVk: Downloading ios player API JSON\n",
      "[youtube] 3q3essLbyVk: Downloading android player API JSON\n"
     ]
    },
    {
     "name": "stderr",
     "output_type": "stream",
     "text": [
      "WARNING: [youtube] YouTube said: ERROR - Precondition check failed.\n",
      "WARNING: [youtube] HTTP Error 400: Bad Request. Retrying (1/3)...\n"
     ]
    },
    {
     "name": "stdout",
     "output_type": "stream",
     "text": [
      "[youtube] 3q3essLbyVk: Downloading android player API JSON\n"
     ]
    },
    {
     "name": "stderr",
     "output_type": "stream",
     "text": [
      "WARNING: [youtube] YouTube said: ERROR - Precondition check failed.\n",
      "WARNING: [youtube] HTTP Error 400: Bad Request. Retrying (2/3)...\n"
     ]
    },
    {
     "name": "stdout",
     "output_type": "stream",
     "text": [
      "[youtube] 3q3essLbyVk: Downloading android player API JSON\n",
      "[youtube] 3q3essLbyVk: Downloading m3u8 information\n",
      "[info] 3q3essLbyVk: Downloading 1 format(s): 251\n",
      "[download] Destination: C:\\Users\\arwin\\Documents\\dev\\APS360-PROJECT\\data\\billboard_audio\\Morgan Wallen_Dangerous\\Morgan Wallen_Dangerous.webm\n",
      "[download] 100% of    2.22MiB in 00:00:00 at 10.08MiB/s    \n",
      "[download] Finished downloading playlist: Morgan Wallen Dangerous\n",
      "[generic] Extracting URL: Morgan Wallen Warning\n",
      "[youtube:search] Extracting URL: ytsearch:Morgan Wallen Warning\n",
      "[download] Downloading playlist: Morgan Wallen Warning\n",
      "[youtube:search] query \"Morgan Wallen Warning\": Downloading web client config\n",
      "[youtube:search] query \"Morgan Wallen Warning\" page 1: Downloading API JSON\n",
      "[youtube:search] Playlist Morgan Wallen Warning: Downloading 1 items of 1\n",
      "[download] Downloading item 1 of 1\n",
      "[youtube] Extracting URL: https://www.youtube.com/watch?v=Q6e1kRmazrE\n",
      "[youtube] Q6e1kRmazrE: Downloading webpage\n",
      "[youtube] Q6e1kRmazrE: Downloading ios player API JSON\n",
      "[youtube] Q6e1kRmazrE: Downloading android player API JSON\n",
      "[youtube] Q6e1kRmazrE: Downloading m3u8 information\n",
      "[info] Q6e1kRmazrE: Downloading 1 format(s): 251\n",
      "[download] Destination: C:\\Users\\arwin\\Documents\\dev\\APS360-PROJECT\\data\\billboard_audio\\Morgan Wallen_Warning\\Morgan Wallen_Warning.webm\n",
      "[download] 100% of    2.42MiB in 00:00:00 at 8.94MiB/s   \n",
      "[download] Finished downloading playlist: Morgan Wallen Warning\n",
      "[generic] Extracting URL: Morgan Wallen Still Goin Down\n",
      "[youtube:search] Extracting URL: ytsearch:Morgan Wallen Still Goin Down\n",
      "[download] Downloading playlist: Morgan Wallen Still Goin Down\n",
      "[youtube:search] query \"Morgan Wallen Still Goin Down\": Downloading web client config\n",
      "[youtube:search] query \"Morgan Wallen Still Goin Down\" page 1: Downloading API JSON\n",
      "[youtube:search] Playlist Morgan Wallen Still Goin Down: Downloading 1 items of 1\n",
      "[download] Downloading item 1 of 1\n",
      "[youtube] Extracting URL: https://www.youtube.com/watch?v=3QhHQozncGo\n",
      "[youtube] 3QhHQozncGo: Downloading webpage\n",
      "[youtube] 3QhHQozncGo: Downloading ios player API JSON\n",
      "[youtube] 3QhHQozncGo: Downloading android player API JSON\n",
      "[youtube] 3QhHQozncGo: Downloading m3u8 information\n",
      "[info] 3QhHQozncGo: Downloading 1 format(s): 251\n",
      "[download] Destination: C:\\Users\\arwin\\Documents\\dev\\APS360-PROJECT\\data\\billboard_audio\\Morgan Wallen_Still Goin Down\\Morgan Wallen_Still Goin Down.webm\n",
      "[download] 100% of    3.19MiB in 00:00:00 at 18.22MiB/s    \n",
      "[download] Finished downloading playlist: Morgan Wallen Still Goin Down\n",
      "[generic] Extracting URL: Miley Cyrus Featuring Dua Lipa Prisoner\n",
      "[youtube:search] Extracting URL: ytsearch:Miley Cyrus Featuring Dua Lipa Prisoner\n",
      "[download] Downloading playlist: Miley Cyrus Featuring Dua Lipa Prisoner\n",
      "[youtube:search] query \"Miley Cyrus Featuring Dua Lipa Prisoner\": Downloading web client config\n",
      "[youtube:search] query \"Miley Cyrus Featuring Dua Lipa Prisoner\" page 1: Downloading API JSON\n",
      "[youtube:search] Playlist Miley Cyrus Featuring Dua Lipa Prisoner: Downloading 1 items of 1\n",
      "[download] Downloading item 1 of 1\n",
      "[youtube] Extracting URL: https://www.youtube.com/watch?v=0ir1qkPXPVM\n",
      "[youtube] 0ir1qkPXPVM: Downloading webpage\n",
      "[youtube] 0ir1qkPXPVM: Downloading ios player API JSON\n",
      "[youtube] 0ir1qkPXPVM: Downloading android player API JSON\n"
     ]
    },
    {
     "name": "stderr",
     "output_type": "stream",
     "text": [
      "WARNING: [youtube] YouTube said: ERROR - Precondition check failed.\n",
      "WARNING: [youtube] HTTP Error 400: Bad Request. Retrying (1/3)...\n"
     ]
    },
    {
     "name": "stdout",
     "output_type": "stream",
     "text": [
      "[youtube] 0ir1qkPXPVM: Downloading android player API JSON\n"
     ]
    },
    {
     "name": "stderr",
     "output_type": "stream",
     "text": [
      "WARNING: [youtube] YouTube said: ERROR - Precondition check failed.\n",
      "WARNING: [youtube] HTTP Error 400: Bad Request. Retrying (2/3)...\n"
     ]
    },
    {
     "name": "stdout",
     "output_type": "stream",
     "text": [
      "[youtube] 0ir1qkPXPVM: Downloading android player API JSON\n"
     ]
    },
    {
     "name": "stderr",
     "output_type": "stream",
     "text": [
      "WARNING: [youtube] YouTube said: ERROR - Precondition check failed.\n",
      "WARNING: [youtube] HTTP Error 400: Bad Request. Retrying (3/3)...\n"
     ]
    },
    {
     "name": "stdout",
     "output_type": "stream",
     "text": [
      "[youtube] 0ir1qkPXPVM: Downloading android player API JSON\n",
      "[youtube] 0ir1qkPXPVM: Downloading m3u8 information\n",
      "[info] 0ir1qkPXPVM: Downloading 1 format(s): 251\n",
      "[download] Destination: C:\\Users\\arwin\\Documents\\dev\\APS360-PROJECT\\data\\billboard_audio\\Miley Cyrus Featuring Dua Lipa_Prisoner\\Miley Cyrus Featuring Dua Lipa_Prisoner.webm\n",
      "[download] 100% of    3.11MiB in 00:00:00 at 20.61MiB/s  \n",
      "[download] Finished downloading playlist: Miley Cyrus Featuring Dua Lipa Prisoner\n",
      "[generic] Extracting URL: Sabrina Carpenter Skin\n",
      "[youtube:search] Extracting URL: ytsearch:Sabrina Carpenter Skin\n",
      "[download] Downloading playlist: Sabrina Carpenter Skin\n",
      "[youtube:search] query \"Sabrina Carpenter Skin\": Downloading web client config\n",
      "[youtube:search] query \"Sabrina Carpenter Skin\" page 1: Downloading API JSON\n",
      "[youtube:search] Playlist Sabrina Carpenter Skin: Downloading 1 items of 1\n",
      "[download] Downloading item 1 of 1\n",
      "[youtube] Extracting URL: https://www.youtube.com/watch?v=CA9E4HHHbRk\n",
      "[youtube] CA9E4HHHbRk: Downloading webpage\n",
      "[youtube] CA9E4HHHbRk: Downloading ios player API JSON\n",
      "[youtube] CA9E4HHHbRk: Downloading android player API JSON\n",
      "[youtube] CA9E4HHHbRk: Downloading m3u8 information\n",
      "[info] CA9E4HHHbRk: Downloading 1 format(s): 251\n",
      "[download] Destination: C:\\Users\\arwin\\Documents\\dev\\APS360-PROJECT\\data\\billboard_audio\\Sabrina Carpenter_Skin\\Sabrina Carpenter_Skin.webm\n",
      "[download] 100% of    2.84MiB in 00:00:00 at 15.82MiB/s  \n",
      "[download] Finished downloading playlist: Sabrina Carpenter Skin\n",
      "[generic] Extracting URL: Morgan Wallen 7 Summers\n",
      "[youtube:search] Extracting URL: ytsearch:Morgan Wallen 7 Summers\n",
      "[download] Downloading playlist: Morgan Wallen 7 Summers\n",
      "[youtube:search] query \"Morgan Wallen 7 Summers\": Downloading web client config\n",
      "[youtube:search] query \"Morgan Wallen 7 Summers\" page 1: Downloading API JSON\n",
      "[youtube:search] Playlist Morgan Wallen 7 Summers: Downloading 1 items of 1\n",
      "[download] Downloading item 1 of 1\n",
      "[youtube] Extracting URL: https://www.youtube.com/watch?v=ZsEjZKNzt9E\n",
      "[youtube] ZsEjZKNzt9E: Downloading webpage\n",
      "[youtube] ZsEjZKNzt9E: Downloading ios player API JSON\n",
      "[youtube] ZsEjZKNzt9E: Downloading android player API JSON\n",
      "[youtube] ZsEjZKNzt9E: Downloading m3u8 information\n",
      "[info] ZsEjZKNzt9E: Downloading 1 format(s): 251\n",
      "[download] Destination: C:\\Users\\arwin\\Documents\\dev\\APS360-PROJECT\\data\\billboard_audio\\Morgan Wallen_7 Summers\\Morgan Wallen_7 Summers.webm\n",
      "[download] 100% of    3.38MiB in 00:00:00 at 5.12MiB/s   \n",
      "[download] Finished downloading playlist: Morgan Wallen 7 Summers\n",
      "[generic] Extracting URL: Morgan Wallen More Than My Hometown\n",
      "[youtube:search] Extracting URL: ytsearch:Morgan Wallen More Than My Hometown\n",
      "[download] Downloading playlist: Morgan Wallen More Than My Hometown\n",
      "[youtube:search] query \"Morgan Wallen More Than My Hometown\": Downloading web client config\n",
      "[youtube:search] query \"Morgan Wallen More Than My Hometown\" page 1: Downloading API JSON\n",
      "[youtube:search] Playlist Morgan Wallen More Than My Hometown: Downloading 1 items of 1\n",
      "[download] Downloading item 1 of 1\n",
      "[youtube] Extracting URL: https://www.youtube.com/watch?v=MS82JAkBkDY\n",
      "[youtube] MS82JAkBkDY: Downloading webpage\n",
      "[youtube] MS82JAkBkDY: Downloading ios player API JSON\n",
      "[youtube] MS82JAkBkDY: Downloading android player API JSON\n",
      "[youtube] MS82JAkBkDY: Downloading m3u8 information\n",
      "[info] MS82JAkBkDY: Downloading 1 format(s): 251\n",
      "[download] Destination: C:\\Users\\arwin\\Documents\\dev\\APS360-PROJECT\\data\\billboard_audio\\Morgan Wallen_More Than My Hometown\\Morgan Wallen_More Than My Hometown.webm\n",
      "[download] 100% of    3.49MiB in 00:00:00 at 13.18MiB/s  \n",
      "[download] Finished downloading playlist: Morgan Wallen More Than My Hometown\n",
      "[generic] Extracting URL: Jack Harlow Featuring DaBaby, Tory Lanez & Lil Wayne Whats Poppin\n",
      "[youtube:search] Extracting URL: ytsearch:Jack Harlow Featuring DaBaby, Tory Lanez & Lil Wayne Whats Poppin\n",
      "[download] Downloading playlist: Jack Harlow Featuring DaBaby, Tory Lanez & Lil Wayne Whats Poppin\n",
      "[youtube:search] query \"Jack Harlow Featuring DaBaby, Tory Lanez & Lil Wayne Whats Poppin\": Downloading web client config\n",
      "[youtube:search] query \"Jack Harlow Featuring DaBaby, Tory Lanez & Lil Wayne Whats Poppin\" page 1: Downloading API JSON\n",
      "[youtube:search] Playlist Jack Harlow Featuring DaBaby, Tory Lanez & Lil Wayne Whats Poppin: Downloading 1 items of 1\n",
      "[download] Downloading item 1 of 1\n",
      "[youtube] Extracting URL: https://www.youtube.com/watch?v=HIwAI05Y1fU\n",
      "[youtube] HIwAI05Y1fU: Downloading webpage\n",
      "[youtube] HIwAI05Y1fU: Downloading ios player API JSON\n",
      "[youtube] HIwAI05Y1fU: Downloading android player API JSON\n",
      "[youtube] HIwAI05Y1fU: Downloading m3u8 information\n",
      "[info] HIwAI05Y1fU: Downloading 1 format(s): 251\n",
      "[download] Destination: C:\\Users\\arwin\\Documents\\dev\\APS360-PROJECT\\data\\billboard_audio\\Jack Harlow Featuring DaBaby, Tory Lanez & Lil Wayne_Whats Poppin\\Jack Harlow Featuring DaBaby, Tory Lanez & Lil Wayne_Whats Poppin.webm\n",
      "[download] 100% of    4.12MiB in 00:00:00 at 12.12MiB/s  \n",
      "[download] Finished downloading playlist: Jack Harlow Featuring DaBaby, Tory Lanez & Lil Wayne Whats Poppin\n",
      "[generic] Extracting URL: Lil Durk Featuring Pooh Shiesty Should've Ducked\n",
      "[youtube:search] Extracting URL: ytsearch:Lil Durk Featuring Pooh Shiesty Should've Ducked\n",
      "[download] Downloading playlist: Lil Durk Featuring Pooh Shiesty Should've Ducked\n",
      "[youtube:search] query \"Lil Durk Featuring Pooh Shiesty Should've Ducked\": Downloading web client config\n",
      "[youtube:search] query \"Lil Durk Featuring Pooh Shiesty Should've Ducked\" page 1: Downloading API JSON\n",
      "[youtube:search] Playlist Lil Durk Featuring Pooh Shiesty Should've Ducked: Downloading 1 items of 1\n",
      "[download] Downloading item 1 of 1\n",
      "[youtube] Extracting URL: https://www.youtube.com/watch?v=3dwda4LxXeE\n",
      "[youtube] 3dwda4LxXeE: Downloading webpage\n",
      "[youtube] 3dwda4LxXeE: Downloading ios player API JSON\n",
      "[youtube] 3dwda4LxXeE: Downloading android player API JSON\n",
      "[youtube] 3dwda4LxXeE: Downloading m3u8 information\n",
      "[info] 3dwda4LxXeE: Downloading 1 format(s): 251\n",
      "[download] Destination: C:\\Users\\arwin\\Documents\\dev\\APS360-PROJECT\\data\\billboard_audio\\Lil Durk Featuring Pooh Shiesty_Should've Ducked\\Lil Durk Featuring Pooh Shiesty_Should've Ducked.webm\n",
      "[download] 100% of    3.14MiB in 00:00:00 at 22.33MiB/s  \n",
      "[download] Finished downloading playlist: Lil Durk Featuring Pooh Shiesty Should've Ducked\n",
      "[generic] Extracting URL: Sam Smith Diamonds\n",
      "[youtube:search] Extracting URL: ytsearch:Sam Smith Diamonds\n",
      "[download] Downloading playlist: Sam Smith Diamonds\n",
      "[youtube:search] query \"Sam Smith Diamonds\": Downloading web client config\n",
      "[youtube:search] query \"Sam Smith Diamonds\" page 1: Downloading API JSON\n",
      "[youtube:search] Playlist Sam Smith Diamonds: Downloading 1 items of 1\n",
      "[download] Downloading item 1 of 1\n",
      "[youtube] Extracting URL: https://www.youtube.com/watch?v=8RvAKRoIDqU\n",
      "[youtube] 8RvAKRoIDqU: Downloading webpage\n",
      "[youtube] 8RvAKRoIDqU: Downloading ios player API JSON\n",
      "[youtube] 8RvAKRoIDqU: Downloading android player API JSON\n"
     ]
    },
    {
     "name": "stderr",
     "output_type": "stream",
     "text": [
      "WARNING: [youtube] YouTube said: ERROR - Precondition check failed.\n",
      "WARNING: [youtube] HTTP Error 400: Bad Request. Retrying (1/3)...\n"
     ]
    },
    {
     "name": "stdout",
     "output_type": "stream",
     "text": [
      "[youtube] 8RvAKRoIDqU: Downloading android player API JSON\n"
     ]
    },
    {
     "name": "stderr",
     "output_type": "stream",
     "text": [
      "WARNING: [youtube] YouTube said: ERROR - Precondition check failed.\n",
      "WARNING: [youtube] HTTP Error 400: Bad Request. Retrying (2/3)...\n"
     ]
    },
    {
     "name": "stdout",
     "output_type": "stream",
     "text": [
      "[youtube] 8RvAKRoIDqU: Downloading android player API JSON\n"
     ]
    },
    {
     "name": "stderr",
     "output_type": "stream",
     "text": [
      "WARNING: [youtube] YouTube said: ERROR - Precondition check failed.\n",
      "WARNING: [youtube] HTTP Error 400: Bad Request. Retrying (3/3)...\n"
     ]
    },
    {
     "name": "stdout",
     "output_type": "stream",
     "text": [
      "[youtube] 8RvAKRoIDqU: Downloading android player API JSON\n"
     ]
    },
    {
     "name": "stderr",
     "output_type": "stream",
     "text": [
      "WARNING: [youtube] YouTube said: ERROR - Precondition check failed.\n",
      "WARNING: [youtube] Unable to download API page: HTTP Error 400: Bad Request (caused by <HTTPError 400: Bad Request>); please report this issue on  https://github.com/yt-dlp/yt-dlp/issues?q= , filling out the appropriate issue template. Confirm you are on the latest version using  yt-dlp -U\n"
     ]
    },
    {
     "name": "stdout",
     "output_type": "stream",
     "text": [
      "[youtube] 8RvAKRoIDqU: Downloading m3u8 information\n",
      "[info] 8RvAKRoIDqU: Downloading 1 format(s): 251\n",
      "[download] Destination: C:\\Users\\arwin\\Documents\\dev\\APS360-PROJECT\\data\\billboard_audio\\Sam Smith_Diamonds\\Sam Smith_Diamonds.webm\n",
      "[download] 100% of    3.63MiB in 00:00:00 at 19.91MiB/s    \n",
      "[download] Finished downloading playlist: Sam Smith Diamonds\n",
      "[generic] Extracting URL: Brent Faiyaz & DJ Dahi Featuring Tyler, The Creator Gravity\n",
      "[youtube:search] Extracting URL: ytsearch:Brent Faiyaz & DJ Dahi Featuring Tyler, The Creator Gravity\n",
      "[download] Downloading playlist: Brent Faiyaz & DJ Dahi Featuring Tyler, The Creator Gravity\n",
      "[youtube:search] query \"Brent Faiyaz & DJ Dahi Featuring Tyler, The Creator Gravity\": Downloading web client config\n",
      "[youtube:search] query \"Brent Faiyaz & DJ Dahi Featuring Tyler, The Creator Gravity\" page 1: Downloading API JSON\n",
      "[youtube:search] Playlist Brent Faiyaz & DJ Dahi Featuring Tyler, The Creator Gravity: Downloading 1 items of 1\n",
      "[download] Downloading item 1 of 1\n",
      "[youtube] Extracting URL: https://www.youtube.com/watch?v=FBM4cdml6Qs\n",
      "[youtube] FBM4cdml6Qs: Downloading webpage\n",
      "[youtube] FBM4cdml6Qs: Downloading ios player API JSON\n",
      "[youtube] FBM4cdml6Qs: Downloading android player API JSON\n",
      "[youtube] FBM4cdml6Qs: Downloading m3u8 information\n",
      "[info] FBM4cdml6Qs: Downloading 1 format(s): 251\n",
      "[download] Destination: C:\\Users\\arwin\\Documents\\dev\\APS360-PROJECT\\data\\billboard_audio\\Brent Faiyaz & DJ Dahi Featuring Tyler, The Creator_Gravity\\Brent Faiyaz & DJ Dahi Featuring Tyler, The Creator_Gravity.webm\n",
      "[download] 100% of    3.53MiB in 00:00:00 at 15.11MiB/s  \n",
      "[download] Finished downloading playlist: Brent Faiyaz & DJ Dahi Featuring Tyler, The Creator Gravity\n",
      "[generic] Extracting URL: Lil Nas X Holiday\n",
      "[youtube:search] Extracting URL: ytsearch:Lil Nas X Holiday\n",
      "[download] Downloading playlist: Lil Nas X Holiday\n",
      "[youtube:search] query \"Lil Nas X Holiday\": Downloading web client config\n",
      "[youtube:search] query \"Lil Nas X Holiday\" page 1: Downloading API JSON\n",
      "[youtube:search] Playlist Lil Nas X Holiday: Downloading 1 items of 1\n",
      "[download] Downloading item 1 of 1\n",
      "[youtube] Extracting URL: https://www.youtube.com/watch?v=9vMLTcftlyI\n",
      "[youtube] 9vMLTcftlyI: Downloading webpage\n",
      "[youtube] 9vMLTcftlyI: Downloading ios player API JSON\n",
      "[youtube] 9vMLTcftlyI: Downloading android player API JSON\n",
      "[youtube] 9vMLTcftlyI: Downloading m3u8 information\n",
      "[info] 9vMLTcftlyI: Downloading 1 format(s): 251\n",
      "[download] Destination: C:\\Users\\arwin\\Documents\\dev\\APS360-PROJECT\\data\\billboard_audio\\Lil Nas X_Holiday\\Lil Nas X_Holiday.webm\n",
      "[download] 100% of    2.82MiB in 00:00:00 at 16.54MiB/s  \n",
      "[download] Finished downloading playlist: Lil Nas X Holiday\n",
      "[generic] Extracting URL: Lil Durk, 6LACK & Young Thug Stay Down\n",
      "[youtube:search] Extracting URL: ytsearch:Lil Durk, 6LACK & Young Thug Stay Down\n",
      "[download] Downloading playlist: Lil Durk, 6LACK & Young Thug Stay Down\n",
      "[youtube:search] query \"Lil Durk, 6LACK & Young Thug Stay Down\": Downloading web client config\n",
      "[youtube:search] query \"Lil Durk, 6LACK & Young Thug Stay Down\" page 1: Downloading API JSON\n",
      "[youtube:search] Playlist Lil Durk, 6LACK & Young Thug Stay Down: Downloading 1 items of 1\n",
      "[download] Downloading item 1 of 1\n",
      "[youtube] Extracting URL: https://www.youtube.com/watch?v=3ZSYPQYho3Q\n",
      "[youtube] 3ZSYPQYho3Q: Downloading webpage\n"
     ]
    }
   ],
   "source": [
    "with open(project_path + 'data_processing/progress_log.txt', 'w') as f:\n",
    "    f.write(f'STARTING DATASET DOWNLOAD\\n\\n')\n",
    "\n",
    "with open(project_path + 'data_processing/error_log.txt', 'w') as f:\n",
    "    f.write(f'ERRORS WILL BE PRINTED HERE\\n\\n')\n",
    "\n",
    "i = 1\n",
    "for row in df.itertuples():\n",
    "    song = getattr(row, 'song')\n",
    "    artist = getattr(row, 'artist')\n",
    "    audio_dir_name = artist + \"_\" + song\n",
    "\n",
    "    with open(project_path + 'data_processing/progress_log.txt', 'a') as f:\n",
    "        f.write(f'\\niteration = {i}, ')\n",
    "\n",
    "    \"\"\"\n",
    "    skip downloading song if:\n",
    "        (1) folder for song is created\n",
    "        AND\n",
    "        (2) folder size for song is > 1kB\n",
    "    \"\"\"\n",
    "    song_path = download_path + artist + \"_\" + song\n",
    "    if (not os.path.exists(song_path) or\n",
    "        get_folder_size(song_path) < 1e3):\n",
    "        \n",
    "        with open(project_path + 'data_processing/progress_log.txt', 'a') as f:\n",
    "            f.write(f'Starting Download of {audio_dir_name}')\n",
    "        try:\n",
    "            download_song(artist, song)\n",
    "            with open(project_path + 'data_processing/progress_log.txt', 'a') as f:\n",
    "                f.write(f'...Completed DL')\n",
    "\n",
    "        except:\n",
    "            # write to error log which one failed\n",
    "            with open(project_path + 'data_processing/progress_log.txt', 'a') as f:\n",
    "                f.write(f'...FAILED download for: {audio_dir_name}')\n",
    "\n",
    "            with open(project_path + 'data_processing/error_log.txt', 'a') as f:\n",
    "                f.write(f'\\nFAILED download for: {audio_dir_name}')\n",
    "            pass\n",
    "    \n",
    "\n",
    "    i+=1"
   ]
  },
  {
   "cell_type": "markdown",
   "metadata": {},
   "source": [
    "Python Lib"
   ]
  },
  {
   "cell_type": "code",
   "execution_count": null,
   "metadata": {},
   "outputs": [
    {
     "name": "stdout",
     "output_type": "stream",
     "text": [
      "[generic] Extracting URL: kanye west new slaves\n",
      "[youtube:search] Extracting URL: ytsearch:kanye west new slaves\n",
      "[download] Downloading playlist: kanye west new slaves\n",
      "[youtube:search] query \"kanye west new slaves\": Downloading web client config\n",
      "[youtube:search] query \"kanye west new slaves\" page 1: Downloading API JSON\n",
      "[youtube:search] Playlist kanye west new slaves: Downloading 1 items of 1\n",
      "[download] Downloading item 1 of 1\n",
      "[youtube] Extracting URL: https://www.youtube.com/watch?v=vQ0u09mFodw\n",
      "[youtube] vQ0u09mFodw: Downloading webpage\n",
      "[youtube] vQ0u09mFodw: Downloading ios player API JSON\n",
      "[youtube] vQ0u09mFodw: Downloading android player API JSON\n",
      "[youtube] vQ0u09mFodw: Downloading m3u8 information\n",
      "[info] vQ0u09mFodw: Downloading 1 format(s): 251\n",
      "[download] Destination: C:\\Users\\arwin\\Documents\\dev\\APS360-PROJECT\\data\\kanye west new slaves\\kanye west new slaves.webm\n",
      "[download] 100% of    4.21MiB in 00:00:00 at 20.17MiB/s  \n",
      "[download] Finished downloading playlist: kanye west new slaves\n"
     ]
    },
    {
     "data": {
      "text/plain": [
       "0"
      ]
     },
     "execution_count": 18,
     "metadata": {},
     "output_type": "execute_result"
    }
   ],
   "source": []
  },
  {
   "cell_type": "code",
   "execution_count": null,
   "metadata": {},
   "outputs": [],
   "source": []
  }
 ],
 "metadata": {
  "kernelspec": {
   "display_name": "Python 3",
   "language": "python",
   "name": "python3"
  },
  "language_info": {
   "codemirror_mode": {
    "name": "ipython",
    "version": 3
   },
   "file_extension": ".py",
   "mimetype": "text/x-python",
   "name": "python",
   "nbconvert_exporter": "python",
   "pygments_lexer": "ipython3",
   "version": "3.11.5"
  }
 },
 "nbformat": 4,
 "nbformat_minor": 2
}
