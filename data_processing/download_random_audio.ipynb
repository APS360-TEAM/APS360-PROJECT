{
 "cells": [
  {
   "cell_type": "markdown",
   "metadata": {},
   "source": [
    "Setup Project Path, replace with your local path"
   ]
  },
  {
   "cell_type": "code",
   "execution_count": 3,
   "metadata": {},
   "outputs": [],
   "source": [
    "# Absolute path of project\n",
    "project_path = 'C:/Users/arwin/Documents/dev/APS360-PROJECT/' # change this to your machine's\n",
    "\n",
    "download_path = project_path + 'data/random_audio/' # leave this as is (relative path)"
   ]
  },
  {
   "cell_type": "markdown",
   "metadata": {},
   "source": [
    "Imports"
   ]
  },
  {
   "cell_type": "code",
   "execution_count": 2,
   "metadata": {},
   "outputs": [],
   "source": [
    "import pandas as pd\n",
    "import yt_dlp\n",
    "import os"
   ]
  },
  {
   "cell_type": "markdown",
   "metadata": {},
   "source": [
    "Read CSV, and Download all songs using yt-dlp"
   ]
  },
  {
   "cell_type": "code",
   "execution_count": 4,
   "metadata": {},
   "outputs": [
    {
     "name": "stdout",
     "output_type": "stream",
     "text": [
      "all songs should be unique, lets check:\n",
      "total entries:\n",
      " song      2833\n",
      "artist    2833\n",
      "genres    2833\n",
      "dtype: int64 \n",
      "\n",
      "# unique songs:\n",
      " song      2833\n",
      "artist    2466\n",
      "genres    1611\n",
      "dtype: int64\n"
     ]
    }
   ],
   "source": [
    "df = pd.read_csv('../data/random_2016-2021_song_artist_genres_cleaned_rows.csv')\n",
    "# df = df.iloc[0:10] # just testing with 10 songs for now\n",
    "print(\"all songs should be unique, lets check:\")\n",
    "print(\"total entries:\\n\", df.count(), \"\\n\\n# unique songs:\\n\", df.nunique())"
   ]
  },
  {
   "cell_type": "markdown",
   "metadata": {},
   "source": [
    "yt-dlp and folder size functions"
   ]
  },
  {
   "cell_type": "code",
   "execution_count": 5,
   "metadata": {},
   "outputs": [],
   "source": [
    "def download_song(artist, song):\n",
    "    query = artist + \" \" + song\n",
    "    fname = artist + \"_\" + song\n",
    "    opts = {\n",
    "        'format': 'bestaudio',\n",
    "        'noplaylist':'True',\n",
    "        'default_search':'ytsearch',\n",
    "        'outtmpl': download_path + f'{fname}/{fname}.%(ext)s',\n",
    "    }\n",
    "    dl = yt_dlp.YoutubeDL(opts)\n",
    "    dl.download(query)"
   ]
  },
  {
   "cell_type": "code",
   "execution_count": 6,
   "metadata": {},
   "outputs": [],
   "source": [
    "def get_folder_size(folder_path):\n",
    "    total_size = 0\n",
    "    for root, dirs, files in os.walk(folder_path):\n",
    "        for file in files:\n",
    "            file_path = os.path.join(root, file)\n",
    "            if not os.path.islink(file_path):  \n",
    "                total_size += os.path.getsize(file_path)\n",
    "    return total_size"
   ]
  },
  {
   "cell_type": "code",
   "execution_count": 7,
   "metadata": {},
   "outputs": [
    {
     "name": "stdout",
     "output_type": "stream",
     "text": [
      "[generic] Extracting URL: Smooth Lounge Piano Most Beautiful\n",
      "[youtube:search] Extracting URL: ytsearch:Smooth Lounge Piano Most Beautiful\n",
      "[download] Downloading playlist: Smooth Lounge Piano Most Beautiful\n",
      "[youtube:search] query \"Smooth Lounge Piano Most Beautiful\": Downloading web client config\n",
      "[youtube:search] query \"Smooth Lounge Piano Most Beautiful\" page 1: Downloading API JSON\n",
      "[youtube:search] Playlist Smooth Lounge Piano Most Beautiful: Downloading 1 items of 1\n",
      "[download] Downloading item 1 of 1\n",
      "[youtube] Extracting URL: https://www.youtube.com/watch?v=Ip7Y77NtO_Q\n",
      "[youtube] Ip7Y77NtO_Q: Downloading webpage\n",
      "[youtube] Ip7Y77NtO_Q: Downloading ios player API JSON\n",
      "[youtube] Ip7Y77NtO_Q: Downloading android player API JSON\n",
      "[youtube] Ip7Y77NtO_Q: Downloading m3u8 information\n",
      "[youtube] Ip7Y77NtO_Q: Downloading m3u8 information\n",
      "[youtube] Ip7Y77NtO_Q: Downloading m3u8 information\n",
      "[info] Ip7Y77NtO_Q: Downloading 1 format(s): 234\n",
      "[download] Destination: C:\\Users\\arwin\\Documents\\dev\\APS360-PROJECT\\data\\random_audio\\Smooth Lounge Piano_Most Beautiful\\Smooth Lounge Piano_Most Beautiful.mp4\n"
     ]
    },
    {
     "name": "stderr",
     "output_type": "stream",
     "text": [
      "ERROR: m3u8 download detected but ffmpeg could not be found. Please install\n"
     ]
    },
    {
     "name": "stdout",
     "output_type": "stream",
     "text": [
      "[generic] Extracting URL: Gabriel Navarro Precioso Jesus\n",
      "[youtube:search] Extracting URL: ytsearch:Gabriel Navarro Precioso Jesus\n",
      "[download] Downloading playlist: Gabriel Navarro Precioso Jesus\n",
      "[youtube:search] query \"Gabriel Navarro Precioso Jesus\": Downloading web client config\n",
      "[youtube:search] query \"Gabriel Navarro Precioso Jesus\" page 1: Downloading API JSON\n",
      "[youtube:search] Playlist Gabriel Navarro Precioso Jesus: Downloading 1 items of 1\n",
      "[download] Downloading item 1 of 1\n",
      "[youtube] Extracting URL: https://www.youtube.com/watch?v=CvKIN4moe-Y\n",
      "[youtube] CvKIN4moe-Y: Downloading webpage\n",
      "[youtube] CvKIN4moe-Y: Downloading ios player API JSON\n",
      "[youtube] CvKIN4moe-Y: Downloading android player API JSON\n",
      "[youtube] CvKIN4moe-Y: Downloading m3u8 information\n",
      "[info] CvKIN4moe-Y: Downloading 1 format(s): 251\n",
      "[download] Destination: C:\\Users\\arwin\\Documents\\dev\\APS360-PROJECT\\data\\random_audio\\Gabriel Navarro_Precioso Jesus\\Gabriel Navarro_Precioso Jesus.webm\n",
      "[download] 100% of    3.92MiB in 00:00:00 at 6.59MiB/s   \n",
      "[download] Finished downloading playlist: Gabriel Navarro Precioso Jesus\n",
      "[generic] Extracting URL: Raymond Fairchild Maggie Valley Bound\n",
      "[youtube:search] Extracting URL: ytsearch:Raymond Fairchild Maggie Valley Bound\n",
      "[download] Downloading playlist: Raymond Fairchild Maggie Valley Bound\n",
      "[youtube:search] query \"Raymond Fairchild Maggie Valley Bound\": Downloading web client config\n",
      "[youtube:search] query \"Raymond Fairchild Maggie Valley Bound\" page 1: Downloading API JSON\n",
      "[youtube:search] Playlist Raymond Fairchild Maggie Valley Bound: Downloading 1 items of 1\n",
      "[download] Downloading item 1 of 1\n",
      "[youtube] Extracting URL: https://www.youtube.com/watch?v=QuyoLF0FlE8\n",
      "[youtube] QuyoLF0FlE8: Downloading webpage\n",
      "[youtube] QuyoLF0FlE8: Downloading ios player API JSON\n",
      "[youtube] QuyoLF0FlE8: Downloading android player API JSON\n"
     ]
    },
    {
     "name": "stderr",
     "output_type": "stream",
     "text": [
      "WARNING: [youtube] YouTube said: ERROR - Precondition check failed.\n",
      "WARNING: [youtube] HTTP Error 400: Bad Request. Retrying (1/3)...\n"
     ]
    },
    {
     "name": "stdout",
     "output_type": "stream",
     "text": [
      "[youtube] QuyoLF0FlE8: Downloading android player API JSON\n",
      "[youtube] QuyoLF0FlE8: Downloading m3u8 information\n",
      "[info] QuyoLF0FlE8: Downloading 1 format(s): 251\n",
      "[download] Destination: C:\\Users\\arwin\\Documents\\dev\\APS360-PROJECT\\data\\random_audio\\Raymond Fairchild_Maggie Valley Bound\\Raymond Fairchild_Maggie Valley Bound.webm\n",
      "[download] 100% of    1.90MiB in 00:00:00 at 4.55MiB/s   \n",
      "[download] Finished downloading playlist: Raymond Fairchild Maggie Valley Bound\n",
      "[generic] Extracting URL: Jason Stephenson Nighttime Mind Booster_ Night Time Affirmations\n",
      "[youtube:search] Extracting URL: ytsearch:Jason Stephenson Nighttime Mind Booster_ Night Time Affirmations\n",
      "[download] Downloading playlist: Jason Stephenson Nighttime Mind Booster_ Night Time Affirmations\n",
      "[youtube:search] query \"Jason Stephenson Nighttime Mind Booster_ Night Time Affirmations\": Downloading web client config\n",
      "[youtube:search] query \"Jason Stephenson Nighttime Mind Booster_ Night Time Affirmations\" page 1: Downloading API JSON\n",
      "[youtube:search] Playlist Jason Stephenson Nighttime Mind Booster_ Night Time Affirmations: Downloading 1 items of 1\n",
      "[download] Downloading item 1 of 1\n",
      "[youtube] Extracting URL: https://www.youtube.com/watch?v=Ed5yqt9B9K0\n",
      "[youtube] Ed5yqt9B9K0: Downloading webpage\n",
      "[youtube] Ed5yqt9B9K0: Downloading ios player API JSON\n",
      "[youtube] Ed5yqt9B9K0: Downloading android player API JSON\n",
      "[youtube] Ed5yqt9B9K0: Downloading m3u8 information\n",
      "[info] Ed5yqt9B9K0: Downloading 1 format(s): 251\n",
      "[download] Destination: C:\\Users\\arwin\\Documents\\dev\\APS360-PROJECT\\data\\random_audio\\Jason Stephenson_Nighttime Mind Booster_ Night Time Affirmations\\Jason Stephenson_Nighttime Mind Booster_ Night Time Affirmations.webm\n",
      "[download] 100% of  185.42MiB in 00:00:11 at 16.56MiB/s    \n",
      "[download] Finished downloading playlist: Jason Stephenson Nighttime Mind Booster_ Night Time Affirmations\n",
      "[generic] Extracting URL: Jimmy Donn The Company I Keep\n",
      "[youtube:search] Extracting URL: ytsearch:Jimmy Donn The Company I Keep\n",
      "[download] Downloading playlist: Jimmy Donn The Company I Keep\n",
      "[youtube:search] query \"Jimmy Donn The Company I Keep\": Downloading web client config\n",
      "[youtube:search] query \"Jimmy Donn The Company I Keep\" page 1: Downloading API JSON\n",
      "[youtube:search] Playlist Jimmy Donn The Company I Keep: Downloading 1 items of 1\n",
      "[download] Downloading item 1 of 1\n",
      "[youtube] Extracting URL: https://www.youtube.com/watch?v=HEe4Tan3RFQ\n",
      "[youtube] HEe4Tan3RFQ: Downloading webpage\n",
      "[youtube] HEe4Tan3RFQ: Downloading ios player API JSON\n",
      "[youtube] HEe4Tan3RFQ: Downloading android player API JSON\n"
     ]
    },
    {
     "name": "stderr",
     "output_type": "stream",
     "text": [
      "WARNING: [youtube] YouTube said: ERROR - Precondition check failed.\n",
      "WARNING: [youtube] HTTP Error 400: Bad Request. Retrying (1/3)...\n"
     ]
    },
    {
     "name": "stdout",
     "output_type": "stream",
     "text": [
      "[youtube] HEe4Tan3RFQ: Downloading android player API JSON\n"
     ]
    },
    {
     "name": "stderr",
     "output_type": "stream",
     "text": [
      "WARNING: [youtube] YouTube said: ERROR - Precondition check failed.\n",
      "WARNING: [youtube] HTTP Error 400: Bad Request. Retrying (2/3)...\n"
     ]
    },
    {
     "name": "stdout",
     "output_type": "stream",
     "text": [
      "[youtube] HEe4Tan3RFQ: Downloading android player API JSON\n",
      "[youtube] HEe4Tan3RFQ: Downloading m3u8 information\n",
      "[info] HEe4Tan3RFQ: Downloading 1 format(s): 251\n",
      "[download] Destination: C:\\Users\\arwin\\Documents\\dev\\APS360-PROJECT\\data\\random_audio\\Jimmy Donn_The Company I Keep\\Jimmy Donn_The Company I Keep.webm\n",
      "[download] 100% of    2.44MiB in 00:00:00 at 5.40MiB/s     \n",
      "[download] Finished downloading playlist: Jimmy Donn The Company I Keep\n",
      "[generic] Extracting URL: Los Morros del Valle Besos Y Caricias (En Vivo)\n",
      "[youtube:search] Extracting URL: ytsearch:Los Morros del Valle Besos Y Caricias (En Vivo)\n",
      "[download] Downloading playlist: Los Morros del Valle Besos Y Caricias (En Vivo)\n",
      "[youtube:search] query \"Los Morros del Valle Besos Y Caricias (En Vivo)\": Downloading web client config\n",
      "[youtube:search] query \"Los Morros del Valle Besos Y Caricias (En Vivo)\" page 1: Downloading API JSON\n",
      "[youtube:search] Playlist Los Morros del Valle Besos Y Caricias (En Vivo): Downloading 1 items of 1\n",
      "[download] Downloading item 1 of 1\n",
      "[youtube] Extracting URL: https://www.youtube.com/watch?v=9fYGUV9dRfo\n",
      "[youtube] 9fYGUV9dRfo: Downloading webpage\n",
      "[youtube] 9fYGUV9dRfo: Downloading ios player API JSON\n",
      "[youtube] 9fYGUV9dRfo: Downloading android player API JSON\n",
      "[youtube] 9fYGUV9dRfo: Downloading m3u8 information\n",
      "[info] 9fYGUV9dRfo: Downloading 1 format(s): 251\n",
      "[download] Destination: C:\\Users\\arwin\\Documents\\dev\\APS360-PROJECT\\data\\random_audio\\Los Morros del Valle_Besos Y Caricias (En Vivo)\\Los Morros del Valle_Besos Y Caricias (En Vivo).webm\n",
      "[download] 100% of    2.21MiB in 00:00:00 at 3.74MiB/s   \n",
      "[download] Finished downloading playlist: Los Morros del Valle Besos Y Caricias (En Vivo)\n",
      "[generic] Extracting URL: Madd Marvin I Got You\n",
      "[youtube:search] Extracting URL: ytsearch:Madd Marvin I Got You\n",
      "[download] Downloading playlist: Madd Marvin I Got You\n",
      "[youtube:search] query \"Madd Marvin I Got You\": Downloading web client config\n",
      "[youtube:search] query \"Madd Marvin I Got You\" page 1: Downloading API JSON\n",
      "[youtube:search] Playlist Madd Marvin I Got You: Downloading 1 items of 1\n",
      "[download] Downloading item 1 of 1\n",
      "[youtube] Extracting URL: https://www.youtube.com/watch?v=ueLxbnCejw8\n",
      "[youtube] ueLxbnCejw8: Downloading webpage\n",
      "[youtube] ueLxbnCejw8: Downloading ios player API JSON\n",
      "[youtube] ueLxbnCejw8: Downloading android player API JSON\n"
     ]
    },
    {
     "name": "stderr",
     "output_type": "stream",
     "text": [
      "WARNING: [youtube] YouTube said: ERROR - Precondition check failed.\n",
      "WARNING: [youtube] HTTP Error 400: Bad Request. Retrying (1/3)...\n"
     ]
    },
    {
     "name": "stdout",
     "output_type": "stream",
     "text": [
      "[youtube] ueLxbnCejw8: Downloading android player API JSON\n",
      "[youtube] ueLxbnCejw8: Downloading m3u8 information\n",
      "[info] ueLxbnCejw8: Downloading 1 format(s): 251\n",
      "[download] Destination: C:\\Users\\arwin\\Documents\\dev\\APS360-PROJECT\\data\\random_audio\\Madd Marvin_I Got You\\Madd Marvin_I Got You.webm\n",
      "[download] 100% of    6.73MiB in 00:00:00 at 10.67MiB/s  \n",
      "[download] Finished downloading playlist: Madd Marvin I Got You\n",
      "[generic] Extracting URL: Tae Retro NoLimitRetro _ Battle at Sunset !!!\n",
      "[youtube:search] Extracting URL: ytsearch:Tae Retro NoLimitRetro _ Battle at Sunset !!!\n",
      "[download] Downloading playlist: Tae Retro NoLimitRetro _ Battle at Sunset !!!\n",
      "[youtube:search] query \"Tae Retro NoLimitRetro _ Battle at Sunset !!!\": Downloading web client config\n",
      "[youtube:search] query \"Tae Retro NoLimitRetro _ Battle at Sunset !!!\" page 1: Downloading API JSON\n",
      "[youtube:search] Playlist Tae Retro NoLimitRetro _ Battle at Sunset !!!: Downloading 1 items of 1\n",
      "[download] Downloading item 1 of 1\n",
      "[youtube] Extracting URL: https://www.youtube.com/watch?v=xZYYJxKdJBg\n",
      "[youtube] xZYYJxKdJBg: Downloading webpage\n",
      "[youtube] xZYYJxKdJBg: Downloading ios player API JSON\n",
      "[youtube] xZYYJxKdJBg: Downloading android player API JSON\n",
      "[youtube] xZYYJxKdJBg: Downloading m3u8 information\n",
      "[info] xZYYJxKdJBg: Downloading 1 format(s): 251\n",
      "[download] Destination: C:\\Users\\arwin\\Documents\\dev\\APS360-PROJECT\\data\\random_audio\\Tae Retro_NoLimitRetro _ Battle at Sunset !!!\\Tae Retro_NoLimitRetro _ Battle at Sunset !!!.webm\n",
      "[download] 100% of    2.56MiB in 00:00:00 at 7.40MiB/s     \n",
      "[download] Finished downloading playlist: Tae Retro NoLimitRetro _ Battle at Sunset !!!\n",
      "[generic] Extracting URL: Georg Philipp Telemann Ouverture-Suite in G Minor, TWV 55_g4_ IV_ Les capricieuses\n",
      "[youtube:search] Extracting URL: ytsearch:Georg Philipp Telemann Ouverture-Suite in G Minor, TWV 55_g4_ IV_ Les capricieuses\n",
      "[download] Downloading playlist: Georg Philipp Telemann Ouverture-Suite in G Minor, TWV 55_g4_ IV_ Les capricieuses\n",
      "[youtube:search] query \"Georg Philipp Telemann Ouverture-Suite in G Minor, TWV 55_g4_ IV_ Les capricieuses\": Downloading web client config\n",
      "[youtube:search] query \"Georg Philipp Telemann Ouverture-Suite in G Minor, TWV 55_g4_ IV_ Les capricieuses\" page 1: Downloading API JSON\n",
      "[youtube:search] Playlist Georg Philipp Telemann Ouverture-Suite in G Minor, TWV 55_g4_ IV_ Les capricieuses: Downloading 1 items of 1\n",
      "[download] Downloading item 1 of 1\n",
      "[youtube] Extracting URL: https://www.youtube.com/watch?v=lSTP6cvsjmk\n",
      "[youtube] lSTP6cvsjmk: Downloading webpage\n",
      "[youtube] lSTP6cvsjmk: Downloading ios player API JSON\n",
      "[youtube] lSTP6cvsjmk: Downloading android player API JSON\n"
     ]
    },
    {
     "name": "stderr",
     "output_type": "stream",
     "text": [
      "WARNING: [youtube] YouTube said: ERROR - Precondition check failed.\n",
      "WARNING: [youtube] HTTP Error 400: Bad Request. Retrying (1/3)...\n"
     ]
    },
    {
     "name": "stdout",
     "output_type": "stream",
     "text": [
      "[youtube] lSTP6cvsjmk: Downloading android player API JSON\n"
     ]
    },
    {
     "name": "stderr",
     "output_type": "stream",
     "text": [
      "WARNING: [youtube] YouTube said: ERROR - Precondition check failed.\n",
      "WARNING: [youtube] HTTP Error 400: Bad Request. Retrying (2/3)...\n"
     ]
    },
    {
     "name": "stdout",
     "output_type": "stream",
     "text": [
      "[youtube] lSTP6cvsjmk: Downloading android player API JSON\n",
      "[youtube] lSTP6cvsjmk: Downloading m3u8 information\n",
      "[info] lSTP6cvsjmk: Downloading 1 format(s): 251\n",
      "[download] Destination: C:\\Users\\arwin\\Documents\\dev\\APS360-PROJECT\\data\\random_audio\\Georg Philipp Telemann_Ouverture-Suite in G Minor, TWV 55_g4_ IV_ Les capricieuses\\Georg Philipp Telemann_Ouverture-Suite in G Minor, TWV 55_g4_ IV_ Les capricieuses.webm\n",
      "[download] 100% of    1.10MiB in 00:00:00 at 2.69MiB/s   \n",
      "[download] Finished downloading playlist: Georg Philipp Telemann Ouverture-Suite in G Minor, TWV 55_g4_ IV_ Les capricieuses\n",
      "[generic] Extracting URL: Maj4l Cali Luv\n",
      "[youtube:search] Extracting URL: ytsearch:Maj4l Cali Luv\n",
      "[download] Downloading playlist: Maj4l Cali Luv\n",
      "[youtube:search] query \"Maj4l Cali Luv\": Downloading web client config\n",
      "[youtube:search] query \"Maj4l Cali Luv\" page 1: Downloading API JSON\n",
      "[youtube:search] Playlist Maj4l Cali Luv: Downloading 1 items of 1\n",
      "[download] Downloading item 1 of 1\n",
      "[youtube] Extracting URL: https://www.youtube.com/watch?v=zIyTTgp7jHs\n",
      "[youtube] zIyTTgp7jHs: Downloading webpage\n",
      "[youtube] zIyTTgp7jHs: Downloading ios player API JSON\n",
      "[youtube] zIyTTgp7jHs: Downloading android player API JSON\n"
     ]
    },
    {
     "name": "stderr",
     "output_type": "stream",
     "text": [
      "WARNING: [youtube] YouTube said: ERROR - Precondition check failed.\n",
      "WARNING: [youtube] HTTP Error 400: Bad Request. Retrying (1/3)...\n"
     ]
    },
    {
     "name": "stdout",
     "output_type": "stream",
     "text": [
      "[youtube] zIyTTgp7jHs: Downloading android player API JSON\n",
      "[youtube] zIyTTgp7jHs: Downloading m3u8 information\n",
      "[info] zIyTTgp7jHs: Downloading 1 format(s): 251\n",
      "[download] Destination: C:\\Users\\arwin\\Documents\\dev\\APS360-PROJECT\\data\\random_audio\\Maj4l_Cali Luv\\Maj4l_Cali Luv.webm\n",
      "[download] 100% of    2.59MiB in 00:00:00 at 6.51MiB/s   \n",
      "[download] Finished downloading playlist: Maj4l Cali Luv\n",
      "[generic] Extracting URL: Voz Celestial Pelea\n",
      "[youtube:search] Extracting URL: ytsearch:Voz Celestial Pelea\n",
      "[download] Downloading playlist: Voz Celestial Pelea\n",
      "[youtube:search] query \"Voz Celestial Pelea\": Downloading web client config\n",
      "[youtube:search] query \"Voz Celestial Pelea\" page 1: Downloading API JSON\n",
      "[youtube:search] Playlist Voz Celestial Pelea: Downloading 1 items of 1\n",
      "[download] Downloading item 1 of 1\n",
      "[youtube] Extracting URL: https://www.youtube.com/watch?v=hqp6n0hTLUE\n",
      "[youtube] hqp6n0hTLUE: Downloading webpage\n",
      "[youtube] hqp6n0hTLUE: Downloading ios player API JSON\n",
      "[youtube] hqp6n0hTLUE: Downloading android player API JSON\n",
      "[youtube] hqp6n0hTLUE: Downloading m3u8 information\n",
      "[info] hqp6n0hTLUE: Downloading 1 format(s): 251\n",
      "[download] Destination: C:\\Users\\arwin\\Documents\\dev\\APS360-PROJECT\\data\\random_audio\\Voz Celestial_Pelea\\Voz Celestial_Pelea.webm\n",
      "[download] 100% of    3.79MiB in 00:00:00 at 8.16MiB/s   \n",
      "[download] Finished downloading playlist: Voz Celestial Pelea\n",
      "[generic] Extracting URL: Shirley Horn Lover Man (Oh Where Can You Be_)\n",
      "[youtube:search] Extracting URL: ytsearch:Shirley Horn Lover Man (Oh Where Can You Be_)\n",
      "[download] Downloading playlist: Shirley Horn Lover Man (Oh Where Can You Be_)\n",
      "[youtube:search] query \"Shirley Horn Lover Man (Oh Where Can You Be_)\": Downloading web client config\n",
      "[youtube:search] query \"Shirley Horn Lover Man (Oh Where Can You Be_)\" page 1: Downloading API JSON\n",
      "[youtube:search] Playlist Shirley Horn Lover Man (Oh Where Can You Be_): Downloading 1 items of 1\n",
      "[download] Downloading item 1 of 1\n",
      "[youtube] Extracting URL: https://www.youtube.com/watch?v=F1Y9lcOvbI0\n",
      "[youtube] F1Y9lcOvbI0: Downloading webpage\n",
      "[youtube] F1Y9lcOvbI0: Downloading ios player API JSON\n",
      "[youtube] F1Y9lcOvbI0: Downloading android player API JSON\n"
     ]
    },
    {
     "name": "stderr",
     "output_type": "stream",
     "text": [
      "WARNING: [youtube] YouTube said: ERROR - Precondition check failed.\n",
      "WARNING: [youtube] HTTP Error 400: Bad Request. Retrying (1/3)...\n"
     ]
    },
    {
     "name": "stdout",
     "output_type": "stream",
     "text": [
      "[youtube] F1Y9lcOvbI0: Downloading android player API JSON\n"
     ]
    },
    {
     "name": "stderr",
     "output_type": "stream",
     "text": [
      "WARNING: [youtube] YouTube said: ERROR - Precondition check failed.\n",
      "WARNING: [youtube] HTTP Error 400: Bad Request. Retrying (2/3)...\n"
     ]
    },
    {
     "name": "stdout",
     "output_type": "stream",
     "text": [
      "[youtube] F1Y9lcOvbI0: Downloading android player API JSON\n",
      "[youtube] F1Y9lcOvbI0: Downloading m3u8 information\n",
      "[info] F1Y9lcOvbI0: Downloading 1 format(s): 251\n",
      "[download] Destination: C:\\Users\\arwin\\Documents\\dev\\APS360-PROJECT\\data\\random_audio\\Shirley Horn_Lover Man (Oh Where Can You Be_)\\Shirley Horn_Lover Man (Oh Where Can You Be_).webm\n",
      "[download] 100% of    5.41MiB in 00:00:00 at 10.62MiB/s  \n",
      "[download] Finished downloading playlist: Shirley Horn Lover Man (Oh Where Can You Be_)\n",
      "[generic] Extracting URL: Rock the Cradle Mr_ Brownstone\n",
      "[youtube:search] Extracting URL: ytsearch:Rock the Cradle Mr_ Brownstone\n",
      "[download] Downloading playlist: Rock the Cradle Mr_ Brownstone\n",
      "[youtube:search] query \"Rock the Cradle Mr_ Brownstone\": Downloading web client config\n",
      "[youtube:search] query \"Rock the Cradle Mr_ Brownstone\" page 1: Downloading API JSON\n",
      "[youtube:search] Playlist Rock the Cradle Mr_ Brownstone: Downloading 1 items of 1\n",
      "[download] Downloading item 1 of 1\n",
      "[youtube] Extracting URL: https://www.youtube.com/watch?v=-B_2NW001sE\n",
      "[youtube] -B_2NW001sE: Downloading webpage\n",
      "[youtube] -B_2NW001sE: Downloading ios player API JSON\n",
      "[youtube] -B_2NW001sE: Downloading android player API JSON\n",
      "[youtube] -B_2NW001sE: Downloading m3u8 information\n",
      "[info] -B_2NW001sE: Downloading 1 format(s): 251\n",
      "[download] Destination: C:\\Users\\arwin\\Documents\\dev\\APS360-PROJECT\\data\\random_audio\\Rock the Cradle_Mr_ Brownstone\\Rock the Cradle_Mr_ Brownstone.webm\n",
      "[download] 100% of    5.15MiB in 00:00:00 at 9.22MiB/s   \n",
      "[download] Finished downloading playlist: Rock the Cradle Mr_ Brownstone\n",
      "[generic] Extracting URL: Kizzl Emoji Kiss\n",
      "[youtube:search] Extracting URL: ytsearch:Kizzl Emoji Kiss\n",
      "[download] Downloading playlist: Kizzl Emoji Kiss\n",
      "[youtube:search] query \"Kizzl Emoji Kiss\": Downloading web client config\n",
      "[youtube:search] query \"Kizzl Emoji Kiss\" page 1: Downloading API JSON\n",
      "[youtube:search] Playlist Kizzl Emoji Kiss: Downloading 1 items of 1\n",
      "[download] Downloading item 1 of 1\n",
      "[youtube] Extracting URL: https://www.youtube.com/watch?v=wDnJRQu_GmY\n",
      "[youtube] wDnJRQu_GmY: Downloading webpage\n",
      "[youtube] wDnJRQu_GmY: Downloading ios player API JSON\n",
      "[youtube] wDnJRQu_GmY: Downloading android player API JSON\n",
      "[youtube] wDnJRQu_GmY: Downloading m3u8 information\n",
      "[info] wDnJRQu_GmY: Downloading 1 format(s): 251\n",
      "[download] Destination: C:\\Users\\arwin\\Documents\\dev\\APS360-PROJECT\\data\\random_audio\\Kizzl_Emoji Kiss\\Kizzl_Emoji Kiss.webm\n",
      "[download] 100% of    1.73MiB in 00:00:00 at 4.48MiB/s   \n",
      "[download] Finished downloading playlist: Kizzl Emoji Kiss\n",
      "[generic] Extracting URL: Natalie Hemby Perfect Gift\n",
      "[youtube:search] Extracting URL: ytsearch:Natalie Hemby Perfect Gift\n",
      "[download] Downloading playlist: Natalie Hemby Perfect Gift\n",
      "[youtube:search] query \"Natalie Hemby Perfect Gift\": Downloading web client config\n",
      "[youtube:search] query \"Natalie Hemby Perfect Gift\" page 1: Downloading API JSON\n",
      "[youtube:search] Playlist Natalie Hemby Perfect Gift: Downloading 1 items of 1\n",
      "[download] Downloading item 1 of 1\n",
      "[youtube] Extracting URL: https://www.youtube.com/watch?v=j3z76kJ1cZY\n",
      "[youtube] j3z76kJ1cZY: Downloading webpage\n",
      "[youtube] j3z76kJ1cZY: Downloading ios player API JSON\n",
      "[youtube] j3z76kJ1cZY: Downloading android player API JSON\n",
      "[youtube] j3z76kJ1cZY: Downloading m3u8 information\n",
      "[info] j3z76kJ1cZY: Downloading 1 format(s): 251\n",
      "[download] Destination: C:\\Users\\arwin\\Documents\\dev\\APS360-PROJECT\\data\\random_audio\\Natalie Hemby_Perfect Gift\\Natalie Hemby_Perfect Gift.webm\n",
      "[download] 100% of    2.37MiB in 00:00:00 at 7.26MiB/s   \n",
      "[download] Finished downloading playlist: Natalie Hemby Perfect Gift\n",
      "[generic] Extracting URL: Troy Cartwright Love Like We Used To - Acoustic\n",
      "[youtube:search] Extracting URL: ytsearch:Troy Cartwright Love Like We Used To - Acoustic\n",
      "[download] Downloading playlist: Troy Cartwright Love Like We Used To - Acoustic\n",
      "[youtube:search] query \"Troy Cartwright Love Like We Used To - Acoustic\": Downloading web client config\n",
      "[youtube:search] query \"Troy Cartwright Love Like We Used To - Acoustic\" page 1: Downloading API JSON\n",
      "[youtube:search] Playlist Troy Cartwright Love Like We Used To - Acoustic: Downloading 1 items of 1\n",
      "[download] Downloading item 1 of 1\n",
      "[youtube] Extracting URL: https://www.youtube.com/watch?v=1bcun4YgExg\n",
      "[youtube] 1bcun4YgExg: Downloading webpage\n",
      "[youtube] 1bcun4YgExg: Downloading ios player API JSON\n",
      "[youtube] 1bcun4YgExg: Downloading android player API JSON\n"
     ]
    },
    {
     "name": "stderr",
     "output_type": "stream",
     "text": [
      "WARNING: [youtube] YouTube said: ERROR - Precondition check failed.\n",
      "WARNING: [youtube] HTTP Error 400: Bad Request. Retrying (1/3)...\n"
     ]
    },
    {
     "name": "stdout",
     "output_type": "stream",
     "text": [
      "[youtube] 1bcun4YgExg: Downloading android player API JSON\n",
      "[youtube] 1bcun4YgExg: Downloading m3u8 information\n",
      "[info] 1bcun4YgExg: Downloading 1 format(s): 251\n",
      "[download] Destination: C:\\Users\\arwin\\Documents\\dev\\APS360-PROJECT\\data\\random_audio\\Troy Cartwright_Love Like We Used To - Acoustic\\Troy Cartwright_Love Like We Used To - Acoustic.webm\n",
      "[download] 100% of    3.28MiB in 00:00:00 at 7.60MiB/s     \n",
      "[download] Finished downloading playlist: Troy Cartwright Love Like We Used To - Acoustic\n",
      "[generic] Extracting URL: DR BRS Hol van az a lány - Roberto Rios x Dan Sparks VIP Mix\n",
      "[youtube:search] Extracting URL: ytsearch:DR BRS Hol van az a lány - Roberto Rios x Dan Sparks VIP Mix\n",
      "[download] Downloading playlist: DR BRS Hol van az a lány - Roberto Rios x Dan Sparks VIP Mix\n",
      "[youtube:search] query \"DR BRS Hol van az a lány - Roberto Rios x Dan Sparks VIP Mix\": Downloading web client config\n",
      "[youtube:search] query \"DR BRS Hol van az a lány - Roberto Rios x Dan Sparks VIP Mix\" page 1: Downloading API JSON\n",
      "[youtube:search] Playlist DR BRS Hol van az a lány - Roberto Rios x Dan Sparks VIP Mix: Downloading 1 items of 1\n",
      "[download] Downloading item 1 of 1\n",
      "[youtube] Extracting URL: https://www.youtube.com/watch?v=zGIi9w2Wxgc\n",
      "[youtube] zGIi9w2Wxgc: Downloading webpage\n",
      "[youtube] zGIi9w2Wxgc: Downloading ios player API JSON\n",
      "[youtube] zGIi9w2Wxgc: Downloading android player API JSON\n"
     ]
    },
    {
     "name": "stderr",
     "output_type": "stream",
     "text": [
      "WARNING: [youtube] YouTube said: ERROR - Precondition check failed.\n",
      "WARNING: [youtube] HTTP Error 400: Bad Request. Retrying (1/3)...\n"
     ]
    },
    {
     "name": "stdout",
     "output_type": "stream",
     "text": [
      "[youtube] zGIi9w2Wxgc: Downloading android player API JSON\n",
      "[youtube] zGIi9w2Wxgc: Downloading m3u8 information\n",
      "[info] zGIi9w2Wxgc: Downloading 1 format(s): 251\n",
      "[download] Destination: C:\\Users\\arwin\\Documents\\dev\\APS360-PROJECT\\data\\random_audio\\DR BRS_Hol van az a lány - Roberto Rios x Dan Sparks VIP Mix\\DR BRS_Hol van az a lány - Roberto Rios x Dan Sparks VIP Mix.webm\n",
      "[download] 100% of    4.38MiB in 00:00:00 at 5.74MiB/s   \n",
      "[download] Finished downloading playlist: DR BRS Hol van az a lány - Roberto Rios x Dan Sparks VIP Mix\n",
      "[generic] Extracting URL: Muddy Marsh Ramblers Ashokan Farewell _ Dawg's Waltz\n",
      "[youtube:search] Extracting URL: ytsearch:Muddy Marsh Ramblers Ashokan Farewell _ Dawg's Waltz\n",
      "[download] Downloading playlist: Muddy Marsh Ramblers Ashokan Farewell _ Dawg's Waltz\n",
      "[youtube:search] query \"Muddy Marsh Ramblers Ashokan Farewell _ Dawg's Waltz\": Downloading web client config\n",
      "[youtube:search] query \"Muddy Marsh Ramblers Ashokan Farewell _ Dawg's Waltz\" page 1: Downloading API JSON\n",
      "[youtube:search] Playlist Muddy Marsh Ramblers Ashokan Farewell _ Dawg's Waltz: Downloading 1 items of 1\n",
      "[download] Downloading item 1 of 1\n",
      "[youtube] Extracting URL: https://www.youtube.com/watch?v=3l0KMj6T8vs\n",
      "[youtube] 3l0KMj6T8vs: Downloading webpage\n",
      "[youtube] 3l0KMj6T8vs: Downloading ios player API JSON\n",
      "[youtube] 3l0KMj6T8vs: Downloading android player API JSON\n",
      "[youtube] 3l0KMj6T8vs: Downloading m3u8 information\n",
      "[info] 3l0KMj6T8vs: Downloading 1 format(s): 251\n",
      "[download] Destination: C:\\Users\\arwin\\Documents\\dev\\APS360-PROJECT\\data\\random_audio\\Muddy Marsh Ramblers_Ashokan Farewell _ Dawg's Waltz\\Muddy Marsh Ramblers_Ashokan Farewell _ Dawg's Waltz.webm\n",
      "[download] 100% of    3.74MiB in 00:00:00 at 7.48MiB/s   \n",
      "[download] Finished downloading playlist: Muddy Marsh Ramblers Ashokan Farewell _ Dawg's Waltz\n",
      "[generic] Extracting URL: Zotiyac Fun & Games (Freestyle)\n",
      "[youtube:search] Extracting URL: ytsearch:Zotiyac Fun & Games (Freestyle)\n",
      "[download] Downloading playlist: Zotiyac Fun & Games (Freestyle)\n",
      "[youtube:search] query \"Zotiyac Fun & Games (Freestyle)\": Downloading web client config\n",
      "[youtube:search] query \"Zotiyac Fun & Games (Freestyle)\" page 1: Downloading API JSON\n",
      "[youtube:search] Playlist Zotiyac Fun & Games (Freestyle): Downloading 1 items of 1\n",
      "[download] Downloading item 1 of 1\n",
      "[youtube] Extracting URL: https://www.youtube.com/watch?v=0p0s_pOC4Q8\n",
      "[youtube] 0p0s_pOC4Q8: Downloading webpage\n",
      "[youtube] 0p0s_pOC4Q8: Downloading ios player API JSON\n",
      "[youtube] 0p0s_pOC4Q8: Downloading android player API JSON\n"
     ]
    },
    {
     "name": "stderr",
     "output_type": "stream",
     "text": [
      "WARNING: [youtube] YouTube said: ERROR - Precondition check failed.\n",
      "WARNING: [youtube] HTTP Error 400: Bad Request. Retrying (1/3)...\n"
     ]
    },
    {
     "name": "stdout",
     "output_type": "stream",
     "text": [
      "[youtube] 0p0s_pOC4Q8: Downloading android player API JSON\n"
     ]
    },
    {
     "name": "stderr",
     "output_type": "stream",
     "text": [
      "WARNING: [youtube] YouTube said: ERROR - Precondition check failed.\n",
      "WARNING: [youtube] HTTP Error 400: Bad Request. Retrying (2/3)...\n"
     ]
    },
    {
     "name": "stdout",
     "output_type": "stream",
     "text": [
      "[youtube] 0p0s_pOC4Q8: Downloading android player API JSON\n"
     ]
    },
    {
     "name": "stderr",
     "output_type": "stream",
     "text": [
      "WARNING: [youtube] YouTube said: ERROR - Precondition check failed.\n",
      "WARNING: [youtube] HTTP Error 400: Bad Request. Retrying (3/3)...\n"
     ]
    },
    {
     "name": "stdout",
     "output_type": "stream",
     "text": [
      "[youtube] 0p0s_pOC4Q8: Downloading android player API JSON\n"
     ]
    },
    {
     "name": "stderr",
     "output_type": "stream",
     "text": [
      "WARNING: [youtube] YouTube said: ERROR - Precondition check failed.\n",
      "WARNING: [youtube] Unable to download API page: HTTP Error 400: Bad Request (caused by <HTTPError 400: Bad Request>); please report this issue on  https://github.com/yt-dlp/yt-dlp/issues?q= , filling out the appropriate issue template. Confirm you are on the latest version using  yt-dlp -U\n"
     ]
    },
    {
     "name": "stdout",
     "output_type": "stream",
     "text": [
      "[youtube] 0p0s_pOC4Q8: Downloading m3u8 information\n",
      "[info] 0p0s_pOC4Q8: Downloading 1 format(s): 251\n",
      "[download] Destination: C:\\Users\\arwin\\Documents\\dev\\APS360-PROJECT\\data\\random_audio\\Zotiyac_Fun & Games (Freestyle)\\Zotiyac_Fun & Games (Freestyle).webm\n",
      "[download] 100% of    2.04MiB in 00:00:00 at 4.73MiB/s   \n",
      "[download] Finished downloading playlist: Zotiyac Fun & Games (Freestyle)\n",
      "[generic] Extracting URL: Roboctopus Give My Regards to the Tigers\n",
      "[youtube:search] Extracting URL: ytsearch:Roboctopus Give My Regards to the Tigers\n",
      "[download] Downloading playlist: Roboctopus Give My Regards to the Tigers\n",
      "[youtube:search] query \"Roboctopus Give My Regards to the Tigers\": Downloading web client config\n",
      "[youtube:search] query \"Roboctopus Give My Regards to the Tigers\" page 1: Downloading API JSON\n",
      "[youtube:search] Playlist Roboctopus Give My Regards to the Tigers: Downloading 1 items of 1\n",
      "[download] Downloading item 1 of 1\n",
      "[youtube] Extracting URL: https://www.youtube.com/watch?v=1gSBtWXAH30\n",
      "[youtube] 1gSBtWXAH30: Downloading webpage\n",
      "[youtube] 1gSBtWXAH30: Downloading ios player API JSON\n",
      "[youtube] 1gSBtWXAH30: Downloading android player API JSON\n",
      "[youtube] 1gSBtWXAH30: Downloading m3u8 information\n",
      "[info] 1gSBtWXAH30: Downloading 1 format(s): 251\n",
      "[download] Destination: C:\\Users\\arwin\\Documents\\dev\\APS360-PROJECT\\data\\random_audio\\Roboctopus_Give My Regards to the Tigers\\Roboctopus_Give My Regards to the Tigers.webm\n",
      "[download] 100% of    5.32MiB in 00:00:01 at 3.53MiB/s   \n",
      "[download] Finished downloading playlist: Roboctopus Give My Regards to the Tigers\n",
      "[generic] Extracting URL: The Young Step Dark Side of Town\n",
      "[youtube:search] Extracting URL: ytsearch:The Young Step Dark Side of Town\n",
      "[download] Downloading playlist: The Young Step Dark Side of Town\n",
      "[youtube:search] query \"The Young Step Dark Side of Town\": Downloading web client config\n",
      "[youtube:search] query \"The Young Step Dark Side of Town\" page 1: Downloading API JSON\n",
      "[youtube:search] Playlist The Young Step Dark Side of Town: Downloading 1 items of 1\n",
      "[download] Downloading item 1 of 1\n",
      "[youtube] Extracting URL: https://www.youtube.com/watch?v=2gr9wEk7WkY\n",
      "[youtube] 2gr9wEk7WkY: Downloading webpage\n",
      "[youtube] 2gr9wEk7WkY: Downloading ios player API JSON\n",
      "[youtube] 2gr9wEk7WkY: Downloading android player API JSON\n"
     ]
    },
    {
     "name": "stderr",
     "output_type": "stream",
     "text": [
      "WARNING: [youtube] YouTube said: ERROR - Precondition check failed.\n",
      "WARNING: [youtube] HTTP Error 400: Bad Request. Retrying (1/3)...\n"
     ]
    },
    {
     "name": "stdout",
     "output_type": "stream",
     "text": [
      "[youtube] 2gr9wEk7WkY: Downloading android player API JSON\n"
     ]
    },
    {
     "name": "stderr",
     "output_type": "stream",
     "text": [
      "WARNING: [youtube] YouTube said: ERROR - Precondition check failed.\n",
      "WARNING: [youtube] HTTP Error 400: Bad Request. Retrying (2/3)...\n"
     ]
    },
    {
     "name": "stdout",
     "output_type": "stream",
     "text": [
      "[youtube] 2gr9wEk7WkY: Downloading android player API JSON\n",
      "[youtube] 2gr9wEk7WkY: Downloading m3u8 information\n",
      "[info] 2gr9wEk7WkY: Downloading 1 format(s): 251\n",
      "[download] Destination: C:\\Users\\arwin\\Documents\\dev\\APS360-PROJECT\\data\\random_audio\\The Young Step_Dark Side of Town\\The Young Step_Dark Side of Town.webm\n",
      "[download] 100% of   11.31MiB in 00:00:01 at 7.43MiB/s     \n",
      "[download] Finished downloading playlist: The Young Step Dark Side of Town\n",
      "[generic] Extracting URL: Siam Jem Comfort\n",
      "[youtube:search] Extracting URL: ytsearch:Siam Jem Comfort\n",
      "[download] Downloading playlist: Siam Jem Comfort\n",
      "[youtube:search] query \"Siam Jem Comfort\": Downloading web client config\n",
      "[youtube:search] query \"Siam Jem Comfort\" page 1: Downloading API JSON\n",
      "[youtube:search] Playlist Siam Jem Comfort: Downloading 1 items of 1\n",
      "[download] Downloading item 1 of 1\n",
      "[youtube] Extracting URL: https://www.youtube.com/watch?v=jPZrovNcp1U\n",
      "[youtube] jPZrovNcp1U: Downloading webpage\n",
      "[youtube] jPZrovNcp1U: Downloading ios player API JSON\n",
      "[youtube] jPZrovNcp1U: Downloading android player API JSON\n",
      "[youtube] jPZrovNcp1U: Downloading m3u8 information\n",
      "[info] jPZrovNcp1U: Downloading 1 format(s): 251\n",
      "[download] Destination: C:\\Users\\arwin\\Documents\\dev\\APS360-PROJECT\\data\\random_audio\\Siam Jem_Comfort\\Siam Jem_Comfort.webm\n",
      "[download] 100% of    3.48MiB in 00:00:01 at 2.86MiB/s   \n",
      "[download] Finished downloading playlist: Siam Jem Comfort\n",
      "[generic] Extracting URL: Jellybean Green ASMR Drawing Your Curiosities\n",
      "[youtube:search] Extracting URL: ytsearch:Jellybean Green ASMR Drawing Your Curiosities\n",
      "[download] Downloading playlist: Jellybean Green ASMR Drawing Your Curiosities\n",
      "[youtube:search] query \"Jellybean Green ASMR Drawing Your Curiosities\": Downloading web client config\n",
      "[youtube:search] query \"Jellybean Green ASMR Drawing Your Curiosities\" page 1: Downloading API JSON\n",
      "[youtube:search] Playlist Jellybean Green ASMR Drawing Your Curiosities: Downloading 1 items of 1\n",
      "[download] Downloading item 1 of 1\n",
      "[youtube] Extracting URL: https://www.youtube.com/watch?v=fO1bvl5B7a0\n",
      "[youtube] fO1bvl5B7a0: Downloading webpage\n",
      "[youtube] fO1bvl5B7a0: Downloading ios player API JSON\n",
      "[youtube] fO1bvl5B7a0: Downloading android player API JSON\n"
     ]
    },
    {
     "name": "stderr",
     "output_type": "stream",
     "text": [
      "WARNING: [youtube] YouTube said: ERROR - Precondition check failed.\n",
      "WARNING: [youtube] HTTP Error 400: Bad Request. Retrying (1/3)...\n"
     ]
    },
    {
     "name": "stdout",
     "output_type": "stream",
     "text": [
      "[youtube] fO1bvl5B7a0: Downloading android player API JSON\n",
      "[youtube] fO1bvl5B7a0: Downloading m3u8 information\n",
      "[info] fO1bvl5B7a0: Downloading 1 format(s): 251\n",
      "[download] Destination: C:\\Users\\arwin\\Documents\\dev\\APS360-PROJECT\\data\\random_audio\\Jellybean Green ASMR_Drawing Your Curiosities\\Jellybean Green ASMR_Drawing Your Curiosities.webm\n",
      "[download] 100% of    3.97MiB in 00:00:00 at 4.36MiB/s   \n",
      "[download] Finished downloading playlist: Jellybean Green ASMR Drawing Your Curiosities\n",
      "[generic] Extracting URL: Jucee Froot F_cked Up\n",
      "[youtube:search] Extracting URL: ytsearch:Jucee Froot F_cked Up\n",
      "[download] Downloading playlist: Jucee Froot F_cked Up\n",
      "[youtube:search] query \"Jucee Froot F_cked Up\": Downloading web client config\n",
      "[youtube:search] query \"Jucee Froot F_cked Up\" page 1: Downloading API JSON\n",
      "[youtube:search] Playlist Jucee Froot F_cked Up: Downloading 1 items of 1\n",
      "[download] Downloading item 1 of 1\n",
      "[youtube] Extracting URL: https://www.youtube.com/watch?v=qtCJW66n4GU\n",
      "[youtube] qtCJW66n4GU: Downloading webpage\n",
      "[youtube] qtCJW66n4GU: Downloading ios player API JSON\n",
      "[youtube] qtCJW66n4GU: Downloading android player API JSON\n",
      "[youtube] qtCJW66n4GU: Downloading m3u8 information\n",
      "[info] qtCJW66n4GU: Downloading 1 format(s): 251\n",
      "[download] Destination: C:\\Users\\arwin\\Documents\\dev\\APS360-PROJECT\\data\\random_audio\\Jucee Froot_F_cked Up\\Jucee Froot_F_cked Up.webm\n",
      "[download] 100% of    2.54MiB in 00:00:00 at 8.56MiB/s   \n",
      "[download] Finished downloading playlist: Jucee Froot F_cked Up\n",
      "[generic] Extracting URL: Joscho Stephan Sammys Freilach\n",
      "[youtube:search] Extracting URL: ytsearch:Joscho Stephan Sammys Freilach\n",
      "[download] Downloading playlist: Joscho Stephan Sammys Freilach\n",
      "[youtube:search] query \"Joscho Stephan Sammys Freilach\": Downloading web client config\n",
      "[youtube:search] query \"Joscho Stephan Sammys Freilach\" page 1: Downloading API JSON\n",
      "[youtube:search] Playlist Joscho Stephan Sammys Freilach: Downloading 1 items of 1\n",
      "[download] Downloading item 1 of 1\n",
      "[youtube] Extracting URL: https://www.youtube.com/watch?v=vfrQFp-LfAI\n",
      "[youtube] vfrQFp-LfAI: Downloading webpage\n",
      "[youtube] vfrQFp-LfAI: Downloading ios player API JSON\n",
      "[youtube] vfrQFp-LfAI: Downloading android player API JSON\n",
      "[youtube] vfrQFp-LfAI: Downloading m3u8 information\n",
      "[info] vfrQFp-LfAI: Downloading 1 format(s): 251\n",
      "[download] Destination: C:\\Users\\arwin\\Documents\\dev\\APS360-PROJECT\\data\\random_audio\\Joscho Stephan_Sammys Freilach\\Joscho Stephan_Sammys Freilach.webm\n",
      "[download] 100% of    3.94MiB in 00:00:00 at 5.68MiB/s   \n",
      "[download] Finished downloading playlist: Joscho Stephan Sammys Freilach\n",
      "[generic] Extracting URL: Sedona Breeze It Came Upon the Midnight Clear\n",
      "[youtube:search] Extracting URL: ytsearch:Sedona Breeze It Came Upon the Midnight Clear\n",
      "[download] Downloading playlist: Sedona Breeze It Came Upon the Midnight Clear\n",
      "[youtube:search] query \"Sedona Breeze It Came Upon the Midnight Clear\": Downloading web client config\n",
      "[youtube:search] query \"Sedona Breeze It Came Upon the Midnight Clear\" page 1: Downloading API JSON\n",
      "[youtube:search] Playlist Sedona Breeze It Came Upon the Midnight Clear: Downloading 1 items of 1\n",
      "[download] Downloading item 1 of 1\n",
      "[youtube] Extracting URL: https://www.youtube.com/watch?v=OhRailDrSws\n",
      "[youtube] OhRailDrSws: Downloading webpage\n",
      "[youtube] OhRailDrSws: Downloading ios player API JSON\n",
      "[youtube] OhRailDrSws: Downloading android player API JSON\n"
     ]
    },
    {
     "name": "stderr",
     "output_type": "stream",
     "text": [
      "WARNING: [youtube] YouTube said: ERROR - Precondition check failed.\n",
      "WARNING: [youtube] HTTP Error 400: Bad Request. Retrying (1/3)...\n"
     ]
    },
    {
     "name": "stdout",
     "output_type": "stream",
     "text": [
      "[youtube] OhRailDrSws: Downloading android player API JSON\n"
     ]
    },
    {
     "name": "stderr",
     "output_type": "stream",
     "text": [
      "WARNING: [youtube] YouTube said: ERROR - Precondition check failed.\n",
      "WARNING: [youtube] HTTP Error 400: Bad Request. Retrying (2/3)...\n"
     ]
    },
    {
     "name": "stdout",
     "output_type": "stream",
     "text": [
      "[youtube] OhRailDrSws: Downloading android player API JSON\n",
      "[youtube] OhRailDrSws: Downloading m3u8 information\n",
      "[info] OhRailDrSws: Downloading 1 format(s): 251\n",
      "[download] Destination: C:\\Users\\arwin\\Documents\\dev\\APS360-PROJECT\\data\\random_audio\\Sedona Breeze_It Came Upon the Midnight Clear\\Sedona Breeze_It Came Upon the Midnight Clear.webm\n",
      "[download] 100% of    3.22MiB in 00:00:00 at 3.29MiB/s     \n",
      "[download] Finished downloading playlist: Sedona Breeze It Came Upon the Midnight Clear\n",
      "[generic] Extracting URL: Julia Sheer Takes One to Know One\n",
      "[youtube:search] Extracting URL: ytsearch:Julia Sheer Takes One to Know One\n",
      "[download] Downloading playlist: Julia Sheer Takes One to Know One\n",
      "[youtube:search] query \"Julia Sheer Takes One to Know One\": Downloading web client config\n",
      "[youtube:search] query \"Julia Sheer Takes One to Know One\" page 1: Downloading API JSON\n",
      "[youtube:search] Playlist Julia Sheer Takes One to Know One: Downloading 1 items of 1\n",
      "[download] Downloading item 1 of 1\n",
      "[youtube] Extracting URL: https://www.youtube.com/watch?v=8A7B8AAmDZg\n",
      "[youtube] 8A7B8AAmDZg: Downloading webpage\n",
      "[youtube] 8A7B8AAmDZg: Downloading ios player API JSON\n",
      "[youtube] 8A7B8AAmDZg: Downloading android player API JSON\n"
     ]
    },
    {
     "name": "stderr",
     "output_type": "stream",
     "text": [
      "WARNING: [youtube] YouTube said: ERROR - Precondition check failed.\n",
      "WARNING: [youtube] HTTP Error 400: Bad Request. Retrying (1/3)...\n"
     ]
    },
    {
     "name": "stdout",
     "output_type": "stream",
     "text": [
      "[youtube] 8A7B8AAmDZg: Downloading android player API JSON\n"
     ]
    },
    {
     "name": "stderr",
     "output_type": "stream",
     "text": [
      "WARNING: [youtube] YouTube said: ERROR - Precondition check failed.\n",
      "WARNING: [youtube] HTTP Error 400: Bad Request. Retrying (2/3)...\n"
     ]
    },
    {
     "name": "stdout",
     "output_type": "stream",
     "text": [
      "[youtube] 8A7B8AAmDZg: Downloading android player API JSON\n",
      "[youtube] 8A7B8AAmDZg: Downloading m3u8 information\n",
      "[info] 8A7B8AAmDZg: Downloading 1 format(s): 251\n",
      "[download] Destination: C:\\Users\\arwin\\Documents\\dev\\APS360-PROJECT\\data\\random_audio\\Julia Sheer_Takes One to Know One\\Julia Sheer_Takes One to Know One.webm\n",
      "[download] 100% of    3.22MiB in 00:00:00 at 7.49MiB/s   \n",
      "[download] Finished downloading playlist: Julia Sheer Takes One to Know One\n",
      "[generic] Extracting URL: Fire Fences Can't Keep Up\n",
      "[youtube:search] Extracting URL: ytsearch:Fire Fences Can't Keep Up\n",
      "[download] Downloading playlist: Fire Fences Can't Keep Up\n",
      "[youtube:search] query \"Fire Fences Can't Keep Up\": Downloading web client config\n",
      "[youtube:search] query \"Fire Fences Can't Keep Up\" page 1: Downloading API JSON\n",
      "[youtube:search] Playlist Fire Fences Can't Keep Up: Downloading 1 items of 1\n",
      "[download] Downloading item 1 of 1\n",
      "[youtube] Extracting URL: https://www.youtube.com/watch?v=J15HMbXOzAs\n",
      "[youtube] J15HMbXOzAs: Downloading webpage\n",
      "[youtube] J15HMbXOzAs: Downloading ios player API JSON\n",
      "[youtube] J15HMbXOzAs: Downloading android player API JSON\n",
      "[youtube] J15HMbXOzAs: Downloading m3u8 information\n",
      "[info] J15HMbXOzAs: Downloading 1 format(s): 251\n",
      "[download] Destination: C:\\Users\\arwin\\Documents\\dev\\APS360-PROJECT\\data\\random_audio\\Fire Fences_Can't Keep Up\\Fire Fences_Can't Keep Up.webm\n",
      "[download] 100% of    3.38MiB in 00:00:00 at 7.07MiB/s   \n",
      "[download] Finished downloading playlist: Fire Fences Can't Keep Up\n",
      "[generic] Extracting URL: David Blanco Opatereo - En Vivo\n",
      "[youtube:search] Extracting URL: ytsearch:David Blanco Opatereo - En Vivo\n",
      "[download] Downloading playlist: David Blanco Opatereo - En Vivo\n",
      "[youtube:search] query \"David Blanco Opatereo - En Vivo\": Downloading web client config\n",
      "[youtube:search] query \"David Blanco Opatereo - En Vivo\" page 1: Downloading API JSON\n",
      "[youtube:search] Playlist David Blanco Opatereo - En Vivo: Downloading 1 items of 1\n",
      "[download] Downloading item 1 of 1\n",
      "[youtube] Extracting URL: https://www.youtube.com/watch?v=CXpqPA2zuWk\n",
      "[youtube] CXpqPA2zuWk: Downloading webpage\n",
      "[youtube] CXpqPA2zuWk: Downloading ios player API JSON\n",
      "[youtube] CXpqPA2zuWk: Downloading android player API JSON\n"
     ]
    },
    {
     "name": "stderr",
     "output_type": "stream",
     "text": [
      "WARNING: [youtube] YouTube said: ERROR - Precondition check failed.\n",
      "WARNING: [youtube] HTTP Error 400: Bad Request. Retrying (1/3)...\n"
     ]
    },
    {
     "name": "stdout",
     "output_type": "stream",
     "text": [
      "[youtube] CXpqPA2zuWk: Downloading android player API JSON\n",
      "[youtube] CXpqPA2zuWk: Downloading m3u8 information\n",
      "[info] CXpqPA2zuWk: Downloading 1 format(s): 251\n",
      "[download] Destination: C:\\Users\\arwin\\Documents\\dev\\APS360-PROJECT\\data\\random_audio\\David Blanco_Opatereo - En Vivo\\David Blanco_Opatereo - En Vivo.webm\n",
      "[download] 100% of    3.85MiB in 00:00:00 at 5.21MiB/s   \n",
      "[download] Finished downloading playlist: David Blanco Opatereo - En Vivo\n",
      "[generic] Extracting URL: The Black Feathers The Ghosts Have Eaten Well - Live at Tradfest, The Pepper Canister, Dublin, January 25th 2019\n",
      "[youtube:search] Extracting URL: ytsearch:The Black Feathers The Ghosts Have Eaten Well - Live at Tradfest, The Pepper Canister, D...n, January 25th 2019\n",
      "[download] Downloading playlist: The Black Feathers The Ghosts Have Eaten Well - Live at Tradfest, The Pepper Canister, Dublin, January 25th 2019\n",
      "[youtube:search] query \"The Black Feathers The Ghosts Have Eaten Well - Live at Tradfest, The Pepper Canister, Dublin, January 25th 2019\": Downloading web client config\n",
      "[youtube:search] query \"The Black Feathers The Ghosts Have Eaten Well - Live at Tradfest, The Pepper Canister, Dublin, January 25th 2019\" page 1: Downloading API JSON\n",
      "[youtube:search] Playlist The Black Feathers The Ghosts Have Eaten Well - Live at Tradfest, The Pepper Canister, Dublin, January 25th 2019: Downloading 1 items of 1\n",
      "[download] Downloading item 1 of 1\n",
      "[youtube] Extracting URL: https://www.youtube.com/watch?v=wQQ99VVyNYc\n",
      "[youtube] wQQ99VVyNYc: Downloading webpage\n",
      "[youtube] wQQ99VVyNYc: Downloading ios player API JSON\n",
      "[youtube] wQQ99VVyNYc: Downloading android player API JSON\n"
     ]
    },
    {
     "name": "stderr",
     "output_type": "stream",
     "text": [
      "WARNING: [youtube] YouTube said: ERROR - Precondition check failed.\n",
      "WARNING: [youtube] HTTP Error 400: Bad Request. Retrying (1/3)...\n"
     ]
    },
    {
     "name": "stdout",
     "output_type": "stream",
     "text": [
      "[youtube] wQQ99VVyNYc: Downloading android player API JSON\n"
     ]
    },
    {
     "name": "stderr",
     "output_type": "stream",
     "text": [
      "WARNING: [youtube] YouTube said: ERROR - Precondition check failed.\n",
      "WARNING: [youtube] HTTP Error 400: Bad Request. Retrying (2/3)...\n"
     ]
    },
    {
     "name": "stdout",
     "output_type": "stream",
     "text": [
      "[youtube] wQQ99VVyNYc: Downloading android player API JSON\n"
     ]
    },
    {
     "name": "stderr",
     "output_type": "stream",
     "text": [
      "WARNING: [youtube] YouTube said: ERROR - Precondition check failed.\n",
      "WARNING: [youtube] HTTP Error 400: Bad Request. Retrying (3/3)...\n"
     ]
    },
    {
     "name": "stdout",
     "output_type": "stream",
     "text": [
      "[youtube] wQQ99VVyNYc: Downloading android player API JSON\n",
      "[youtube] wQQ99VVyNYc: Downloading m3u8 information\n",
      "[info] wQQ99VVyNYc: Downloading 1 format(s): 251\n",
      "[download] Destination: C:\\Users\\arwin\\Documents\\dev\\APS360-PROJECT\\data\\random_audio\\The Black Feathers_The Ghosts Have Eaten Well - Live at Tradfest, The Pepper Canister, Dublin, January 25th 2019\\The Black Feathers_The Ghosts Have Eaten Well - Live at Tradfest, The Pepper Canister, Dublin, January 25th 2019.webm\n",
      "[download] 100% of    4.18MiB in 00:00:00 at 4.24MiB/s   \n",
      "[download] Finished downloading playlist: The Black Feathers The Ghosts Have Eaten Well - Live at Tradfest, The Pepper Canister, Dublin, January 25th 2019\n",
      "[generic] Extracting URL: Bluphoria Devil\n",
      "[youtube:search] Extracting URL: ytsearch:Bluphoria Devil\n",
      "[download] Downloading playlist: Bluphoria Devil\n",
      "[youtube:search] query \"Bluphoria Devil\": Downloading web client config\n",
      "[youtube:search] query \"Bluphoria Devil\" page 1: Downloading API JSON\n",
      "[youtube:search] Playlist Bluphoria Devil: Downloading 1 items of 1\n",
      "[download] Downloading item 1 of 1\n",
      "[youtube] Extracting URL: https://www.youtube.com/watch?v=FzXVC7WRovY\n",
      "[youtube] FzXVC7WRovY: Downloading webpage\n",
      "[youtube] FzXVC7WRovY: Downloading ios player API JSON\n",
      "[youtube] FzXVC7WRovY: Downloading android player API JSON\n"
     ]
    },
    {
     "name": "stderr",
     "output_type": "stream",
     "text": [
      "WARNING: [youtube] YouTube said: ERROR - Precondition check failed.\n",
      "WARNING: [youtube] HTTP Error 400: Bad Request. Retrying (1/3)...\n"
     ]
    },
    {
     "name": "stdout",
     "output_type": "stream",
     "text": [
      "[youtube] FzXVC7WRovY: Downloading android player API JSON\n"
     ]
    },
    {
     "name": "stderr",
     "output_type": "stream",
     "text": [
      "WARNING: [youtube] YouTube said: ERROR - Precondition check failed.\n",
      "WARNING: [youtube] HTTP Error 400: Bad Request. Retrying (2/3)...\n"
     ]
    },
    {
     "name": "stdout",
     "output_type": "stream",
     "text": [
      "[youtube] FzXVC7WRovY: Downloading android player API JSON\n"
     ]
    },
    {
     "name": "stderr",
     "output_type": "stream",
     "text": [
      "WARNING: [youtube] YouTube said: ERROR - Precondition check failed.\n",
      "WARNING: [youtube] HTTP Error 400: Bad Request. Retrying (3/3)...\n"
     ]
    },
    {
     "name": "stdout",
     "output_type": "stream",
     "text": [
      "[youtube] FzXVC7WRovY: Downloading android player API JSON\n"
     ]
    },
    {
     "name": "stderr",
     "output_type": "stream",
     "text": [
      "WARNING: [youtube] YouTube said: ERROR - Precondition check failed.\n",
      "WARNING: [youtube] Unable to download API page: HTTP Error 400: Bad Request (caused by <HTTPError 400: Bad Request>); please report this issue on  https://github.com/yt-dlp/yt-dlp/issues?q= , filling out the appropriate issue template. Confirm you are on the latest version using  yt-dlp -U\n"
     ]
    },
    {
     "name": "stdout",
     "output_type": "stream",
     "text": [
      "[youtube] FzXVC7WRovY: Downloading m3u8 information\n",
      "[info] FzXVC7WRovY: Downloading 1 format(s): 251\n",
      "[download] Destination: C:\\Users\\arwin\\Documents\\dev\\APS360-PROJECT\\data\\random_audio\\Bluphoria_Devil\\Bluphoria_Devil.webm\n",
      "[download] 100% of    5.67MiB in 00:00:00 at 5.87MiB/s     \n",
      "[download] Finished downloading playlist: Bluphoria Devil\n",
      "[generic] Extracting URL: Corrupt Vision UNPLEASANT FUTURE\n",
      "[youtube:search] Extracting URL: ytsearch:Corrupt Vision UNPLEASANT FUTURE\n",
      "[download] Downloading playlist: Corrupt Vision UNPLEASANT FUTURE\n",
      "[youtube:search] query \"Corrupt Vision UNPLEASANT FUTURE\": Downloading web client config\n",
      "[youtube:search] query \"Corrupt Vision UNPLEASANT FUTURE\" page 1: Downloading API JSON\n",
      "[youtube:search] Playlist Corrupt Vision UNPLEASANT FUTURE: Downloading 1 items of 1\n",
      "[download] Downloading item 1 of 1\n",
      "[youtube] Extracting URL: https://www.youtube.com/watch?v=htq7wO3Sfto\n",
      "[youtube] htq7wO3Sfto: Downloading webpage\n",
      "[youtube] htq7wO3Sfto: Downloading ios player API JSON\n",
      "[youtube] htq7wO3Sfto: Downloading android player API JSON\n",
      "[youtube] htq7wO3Sfto: Downloading m3u8 information\n",
      "[info] htq7wO3Sfto: Downloading 1 format(s): 251\n",
      "[download] Destination: C:\\Users\\arwin\\Documents\\dev\\APS360-PROJECT\\data\\random_audio\\Corrupt Vision_UNPLEASANT FUTURE\\Corrupt Vision_UNPLEASANT FUTURE.webm\n",
      "[download] 100% of   25.18MiB in 00:00:01 at 18.49MiB/s    \n",
      "[download] Finished downloading playlist: Corrupt Vision UNPLEASANT FUTURE\n",
      "[generic] Extracting URL: Sha Gualla Real Life\n",
      "[youtube:search] Extracting URL: ytsearch:Sha Gualla Real Life\n",
      "[download] Downloading playlist: Sha Gualla Real Life\n",
      "[youtube:search] query \"Sha Gualla Real Life\": Downloading web client config\n",
      "[youtube:search] query \"Sha Gualla Real Life\" page 1: Downloading API JSON\n",
      "[youtube:search] Playlist Sha Gualla Real Life: Downloading 1 items of 1\n",
      "[download] Downloading item 1 of 1\n",
      "[youtube] Extracting URL: https://www.youtube.com/watch?v=IxGSd_GfHes\n",
      "[youtube] IxGSd_GfHes: Downloading webpage\n",
      "[youtube] IxGSd_GfHes: Downloading ios player API JSON\n",
      "[youtube] IxGSd_GfHes: Downloading android player API JSON\n"
     ]
    },
    {
     "name": "stderr",
     "output_type": "stream",
     "text": [
      "WARNING: [youtube] YouTube said: ERROR - Precondition check failed.\n",
      "WARNING: [youtube] HTTP Error 400: Bad Request. Retrying (1/3)...\n"
     ]
    },
    {
     "name": "stdout",
     "output_type": "stream",
     "text": [
      "[youtube] IxGSd_GfHes: Downloading android player API JSON\n",
      "[youtube] IxGSd_GfHes: Downloading m3u8 information\n",
      "[info] IxGSd_GfHes: Downloading 1 format(s): 251\n",
      "[download] Destination: C:\\Users\\arwin\\Documents\\dev\\APS360-PROJECT\\data\\random_audio\\Sha Gualla_Real Life\\Sha Gualla_Real Life.webm\n",
      "[download] 100% of    2.20MiB in 00:00:00 at 5.66MiB/s   \n",
      "[download] Finished downloading playlist: Sha Gualla Real Life\n",
      "[generic] Extracting URL: Def3 Life's a Trip (Remix)\n",
      "[youtube:search] Extracting URL: ytsearch:Def3 Life's a Trip (Remix)\n",
      "[download] Downloading playlist: Def3 Life's a Trip (Remix)\n",
      "[youtube:search] query \"Def3 Life's a Trip (Remix)\": Downloading web client config\n",
      "[youtube:search] query \"Def3 Life's a Trip (Remix)\" page 1: Downloading API JSON\n",
      "[youtube:search] Playlist Def3 Life's a Trip (Remix): Downloading 1 items of 1\n",
      "[download] Downloading item 1 of 1\n",
      "[youtube] Extracting URL: https://www.youtube.com/watch?v=8FyZUD3nQTg\n",
      "[youtube] 8FyZUD3nQTg: Downloading webpage\n",
      "[youtube] 8FyZUD3nQTg: Downloading ios player API JSON\n",
      "[youtube] 8FyZUD3nQTg: Downloading android player API JSON\n",
      "[youtube] 8FyZUD3nQTg: Downloading m3u8 information\n",
      "[youtube] 8FyZUD3nQTg: Downloading MPD manifest\n",
      "[info] 8FyZUD3nQTg: Downloading 1 format(s): 251\n",
      "[download] Destination: C:\\Users\\arwin\\Documents\\dev\\APS360-PROJECT\\data\\random_audio\\Def3_Life's a Trip (Remix)\\Def3_Life's a Trip (Remix).webm\n",
      "[download] 100% of    3.85MiB in 00:00:00 at 7.33MiB/s   \n",
      "[download] Finished downloading playlist: Def3 Life's a Trip (Remix)\n",
      "[generic] Extracting URL: The Capitalist Kids Toynbee Idea\n",
      "[youtube:search] Extracting URL: ytsearch:The Capitalist Kids Toynbee Idea\n",
      "[download] Downloading playlist: The Capitalist Kids Toynbee Idea\n",
      "[youtube:search] query \"The Capitalist Kids Toynbee Idea\": Downloading web client config\n",
      "[youtube:search] query \"The Capitalist Kids Toynbee Idea\" page 1: Downloading API JSON\n",
      "[youtube:search] Playlist The Capitalist Kids Toynbee Idea: Downloading 1 items of 1\n",
      "[download] Downloading item 1 of 1\n",
      "[youtube] Extracting URL: https://www.youtube.com/watch?v=YYJkz2xiVj8\n",
      "[youtube] YYJkz2xiVj8: Downloading webpage\n",
      "[youtube] YYJkz2xiVj8: Downloading ios player API JSON\n",
      "[youtube] YYJkz2xiVj8: Downloading android player API JSON\n",
      "[youtube] YYJkz2xiVj8: Downloading m3u8 information\n",
      "[youtube] YYJkz2xiVj8: Downloading MPD manifest\n",
      "[info] YYJkz2xiVj8: Downloading 1 format(s): 251\n",
      "[download] Destination: C:\\Users\\arwin\\Documents\\dev\\APS360-PROJECT\\data\\random_audio\\The Capitalist Kids_Toynbee Idea\\The Capitalist Kids_Toynbee Idea.webm\n",
      "[download] 100% of  580.32KiB in 00:00:00 at 1.64MiB/s   \n",
      "[download] Finished downloading playlist: The Capitalist Kids Toynbee Idea\n",
      "[generic] Extracting URL: Grupo Fuerza Purhepecha Ay Lastima Engani Ji Shani Kauicheka\n",
      "[youtube:search] Extracting URL: ytsearch:Grupo Fuerza Purhepecha Ay Lastima Engani Ji Shani Kauicheka\n",
      "[download] Downloading playlist: Grupo Fuerza Purhepecha Ay Lastima Engani Ji Shani Kauicheka\n",
      "[youtube:search] query \"Grupo Fuerza Purhepecha Ay Lastima Engani Ji Shani Kauicheka\": Downloading web client config\n",
      "[youtube:search] query \"Grupo Fuerza Purhepecha Ay Lastima Engani Ji Shani Kauicheka\" page 1: Downloading API JSON\n",
      "[youtube:search] Playlist Grupo Fuerza Purhepecha Ay Lastima Engani Ji Shani Kauicheka: Downloading 1 items of 1\n",
      "[download] Downloading item 1 of 1\n",
      "[youtube] Extracting URL: https://www.youtube.com/watch?v=_NJ5DOnHw8g\n",
      "[youtube] _NJ5DOnHw8g: Downloading webpage\n",
      "[youtube] _NJ5DOnHw8g: Downloading ios player API JSON\n",
      "[youtube] _NJ5DOnHw8g: Downloading android player API JSON\n",
      "[youtube] _NJ5DOnHw8g: Downloading m3u8 information\n",
      "[info] _NJ5DOnHw8g: Downloading 1 format(s): 251\n",
      "[download] Destination: C:\\Users\\arwin\\Documents\\dev\\APS360-PROJECT\\data\\random_audio\\Grupo Fuerza Purhepecha_Ay Lastima Engani Ji Shani Kauicheka\\Grupo Fuerza Purhepecha_Ay Lastima Engani Ji Shani Kauicheka.webm\n",
      "[download] 100% of    4.27MiB in 00:00:00 at 10.92MiB/s  \n",
      "[download] Finished downloading playlist: Grupo Fuerza Purhepecha Ay Lastima Engani Ji Shani Kauicheka\n",
      "[generic] Extracting URL: Lil juan FREE SMOKE PT2\n",
      "[youtube:search] Extracting URL: ytsearch:Lil juan FREE SMOKE PT2\n",
      "[download] Downloading playlist: Lil juan FREE SMOKE PT2\n",
      "[youtube:search] query \"Lil juan FREE SMOKE PT2\": Downloading web client config\n",
      "[youtube:search] query \"Lil juan FREE SMOKE PT2\" page 1: Downloading API JSON\n",
      "[youtube:search] Playlist Lil juan FREE SMOKE PT2: Downloading 1 items of 1\n",
      "[download] Downloading item 1 of 1\n",
      "[youtube] Extracting URL: https://www.youtube.com/watch?v=5da2keD7feE\n",
      "[youtube] 5da2keD7feE: Downloading webpage\n",
      "[youtube] 5da2keD7feE: Downloading ios player API JSON\n",
      "[youtube] 5da2keD7feE: Downloading android player API JSON\n"
     ]
    },
    {
     "name": "stderr",
     "output_type": "stream",
     "text": [
      "WARNING: [youtube] YouTube said: ERROR - Precondition check failed.\n",
      "WARNING: [youtube] HTTP Error 400: Bad Request. Retrying (1/3)...\n"
     ]
    },
    {
     "name": "stdout",
     "output_type": "stream",
     "text": [
      "[youtube] 5da2keD7feE: Downloading android player API JSON\n",
      "[youtube] 5da2keD7feE: Downloading m3u8 information\n",
      "[info] 5da2keD7feE: Downloading 1 format(s): 251\n",
      "[download] Destination: C:\\Users\\arwin\\Documents\\dev\\APS360-PROJECT\\data\\random_audio\\Lil juan_FREE SMOKE PT2\\Lil juan_FREE SMOKE PT2.webm\n",
      "[download] 100% of    3.85MiB in 00:00:00 at 15.78MiB/s  \n",
      "[download] Finished downloading playlist: Lil juan FREE SMOKE PT2\n",
      "[generic] Extracting URL: Kyan Palmer Hidden Feelings - Acoustic\n",
      "[youtube:search] Extracting URL: ytsearch:Kyan Palmer Hidden Feelings - Acoustic\n",
      "[download] Downloading playlist: Kyan Palmer Hidden Feelings - Acoustic\n",
      "[youtube:search] query \"Kyan Palmer Hidden Feelings - Acoustic\": Downloading web client config\n",
      "[youtube:search] query \"Kyan Palmer Hidden Feelings - Acoustic\" page 1: Downloading API JSON\n",
      "[youtube:search] Playlist Kyan Palmer Hidden Feelings - Acoustic: Downloading 1 items of 1\n",
      "[download] Downloading item 1 of 1\n",
      "[youtube] Extracting URL: https://www.youtube.com/watch?v=GuMTr0MQAU0\n",
      "[youtube] GuMTr0MQAU0: Downloading webpage\n",
      "[youtube] GuMTr0MQAU0: Downloading ios player API JSON\n",
      "[youtube] GuMTr0MQAU0: Downloading android player API JSON\n"
     ]
    },
    {
     "name": "stderr",
     "output_type": "stream",
     "text": [
      "WARNING: [youtube] YouTube said: ERROR - Precondition check failed.\n",
      "WARNING: [youtube] HTTP Error 400: Bad Request. Retrying (1/3)...\n"
     ]
    },
    {
     "name": "stdout",
     "output_type": "stream",
     "text": [
      "[youtube] GuMTr0MQAU0: Downloading android player API JSON\n"
     ]
    },
    {
     "name": "stderr",
     "output_type": "stream",
     "text": [
      "WARNING: [youtube] YouTube said: ERROR - Precondition check failed.\n",
      "WARNING: [youtube] HTTP Error 400: Bad Request. Retrying (2/3)...\n"
     ]
    },
    {
     "name": "stdout",
     "output_type": "stream",
     "text": [
      "[youtube] GuMTr0MQAU0: Downloading android player API JSON\n",
      "[youtube] GuMTr0MQAU0: Downloading m3u8 information\n",
      "[info] GuMTr0MQAU0: Downloading 1 format(s): 251\n",
      "[download] Destination: C:\\Users\\arwin\\Documents\\dev\\APS360-PROJECT\\data\\random_audio\\Kyan Palmer_Hidden Feelings - Acoustic\\Kyan Palmer_Hidden Feelings - Acoustic.webm\n",
      "[download] 100% of    3.55MiB in 00:00:00 at 4.18MiB/s   \n",
      "[download] Finished downloading playlist: Kyan Palmer Hidden Feelings - Acoustic\n",
      "[generic] Extracting URL: Chucc 1 Run That Bacc\n",
      "[youtube:search] Extracting URL: ytsearch:Chucc 1 Run That Bacc\n",
      "[download] Downloading playlist: Chucc 1 Run That Bacc\n",
      "[youtube:search] query \"Chucc 1 Run That Bacc\": Downloading web client config\n",
      "[youtube:search] query \"Chucc 1 Run That Bacc\" page 1: Downloading API JSON\n",
      "[youtube:search] Playlist Chucc 1 Run That Bacc: Downloading 1 items of 1\n",
      "[download] Downloading item 1 of 1\n",
      "[youtube] Extracting URL: https://www.youtube.com/watch?v=2HZmAt78nsU\n",
      "[youtube] 2HZmAt78nsU: Downloading webpage\n",
      "[youtube] 2HZmAt78nsU: Downloading ios player API JSON\n",
      "[youtube] 2HZmAt78nsU: Downloading android player API JSON\n"
     ]
    },
    {
     "name": "stderr",
     "output_type": "stream",
     "text": [
      "WARNING: [youtube] YouTube said: ERROR - Precondition check failed.\n",
      "WARNING: [youtube] HTTP Error 400: Bad Request. Retrying (1/3)...\n"
     ]
    },
    {
     "name": "stdout",
     "output_type": "stream",
     "text": [
      "[youtube] 2HZmAt78nsU: Downloading android player API JSON\n"
     ]
    },
    {
     "name": "stderr",
     "output_type": "stream",
     "text": [
      "WARNING: [youtube] YouTube said: ERROR - Precondition check failed.\n",
      "WARNING: [youtube] HTTP Error 400: Bad Request. Retrying (2/3)...\n"
     ]
    },
    {
     "name": "stdout",
     "output_type": "stream",
     "text": [
      "[youtube] 2HZmAt78nsU: Downloading android player API JSON\n",
      "[youtube] 2HZmAt78nsU: Downloading m3u8 information\n",
      "[info] 2HZmAt78nsU: Downloading 1 format(s): 251\n",
      "[download] Destination: C:\\Users\\arwin\\Documents\\dev\\APS360-PROJECT\\data\\random_audio\\Chucc 1_Run That Bacc\\Chucc 1_Run That Bacc.webm\n",
      "[download] 100% of    3.16MiB in 00:00:00 at 7.28MiB/s   \n",
      "[download] Finished downloading playlist: Chucc 1 Run That Bacc\n",
      "[generic] Extracting URL: TVBOO Supah Bounce\n",
      "[youtube:search] Extracting URL: ytsearch:TVBOO Supah Bounce\n",
      "[download] Downloading playlist: TVBOO Supah Bounce\n",
      "[youtube:search] query \"TVBOO Supah Bounce\": Downloading web client config\n",
      "[youtube:search] query \"TVBOO Supah Bounce\" page 1: Downloading API JSON\n",
      "[youtube:search] Playlist TVBOO Supah Bounce: Downloading 1 items of 1\n",
      "[download] Downloading item 1 of 1\n",
      "[youtube] Extracting URL: https://www.youtube.com/watch?v=RhJI696h1cc\n",
      "[youtube] RhJI696h1cc: Downloading webpage\n",
      "[youtube] RhJI696h1cc: Downloading ios player API JSON\n",
      "[youtube] RhJI696h1cc: Downloading android player API JSON\n",
      "[youtube] RhJI696h1cc: Downloading m3u8 information\n",
      "[info] RhJI696h1cc: Downloading 1 format(s): 251\n",
      "[download] Destination: C:\\Users\\arwin\\Documents\\dev\\APS360-PROJECT\\data\\random_audio\\TVBOO_Supah Bounce\\TVBOO_Supah Bounce.webm\n",
      "[download] 100% of    3.83MiB in 00:00:00 at 7.73MiB/s   \n",
      "[download] Finished downloading playlist: TVBOO Supah Bounce\n",
      "[generic] Extracting URL: The Lowdown Drifters We Three Kings\n",
      "[youtube:search] Extracting URL: ytsearch:The Lowdown Drifters We Three Kings\n",
      "[download] Downloading playlist: The Lowdown Drifters We Three Kings\n",
      "[youtube:search] query \"The Lowdown Drifters We Three Kings\": Downloading web client config\n",
      "[youtube:search] query \"The Lowdown Drifters We Three Kings\" page 1: Downloading API JSON\n",
      "[youtube:search] Playlist The Lowdown Drifters We Three Kings: Downloading 1 items of 1\n",
      "[download] Downloading item 1 of 1\n",
      "[youtube] Extracting URL: https://www.youtube.com/watch?v=tudfsfSltzs\n",
      "[youtube] tudfsfSltzs: Downloading webpage\n",
      "[youtube] tudfsfSltzs: Downloading ios player API JSON\n",
      "[youtube] tudfsfSltzs: Downloading android player API JSON\n",
      "[youtube] tudfsfSltzs: Downloading m3u8 information\n",
      "[info] tudfsfSltzs: Downloading 1 format(s): 251\n",
      "[download] Destination: C:\\Users\\arwin\\Documents\\dev\\APS360-PROJECT\\data\\random_audio\\The Lowdown Drifters_We Three Kings\\The Lowdown Drifters_We Three Kings.webm\n",
      "[download] 100% of    4.15MiB in 00:00:00 at 6.80MiB/s     \n",
      "[download] Finished downloading playlist: The Lowdown Drifters We Three Kings\n",
      "[generic] Extracting URL: Moka Only Evergreen Scene\n",
      "[youtube:search] Extracting URL: ytsearch:Moka Only Evergreen Scene\n",
      "[download] Downloading playlist: Moka Only Evergreen Scene\n",
      "[youtube:search] query \"Moka Only Evergreen Scene\": Downloading web client config\n",
      "[youtube:search] query \"Moka Only Evergreen Scene\" page 1: Downloading API JSON\n",
      "[youtube:search] Playlist Moka Only Evergreen Scene: Downloading 1 items of 1\n",
      "[download] Downloading item 1 of 1\n",
      "[youtube] Extracting URL: https://www.youtube.com/watch?v=ghZA3zh8N6Y\n",
      "[youtube] ghZA3zh8N6Y: Downloading webpage\n",
      "[youtube] ghZA3zh8N6Y: Downloading ios player API JSON\n",
      "[youtube] ghZA3zh8N6Y: Downloading android player API JSON\n"
     ]
    },
    {
     "name": "stderr",
     "output_type": "stream",
     "text": [
      "WARNING: [youtube] YouTube said: ERROR - Precondition check failed.\n",
      "WARNING: [youtube] HTTP Error 400: Bad Request. Retrying (1/3)...\n"
     ]
    },
    {
     "name": "stdout",
     "output_type": "stream",
     "text": [
      "[youtube] ghZA3zh8N6Y: Downloading android player API JSON\n",
      "[youtube] ghZA3zh8N6Y: Downloading m3u8 information\n",
      "[youtube] ghZA3zh8N6Y: Downloading MPD manifest\n",
      "[info] ghZA3zh8N6Y: Downloading 1 format(s): 251\n",
      "[download] Destination: C:\\Users\\arwin\\Documents\\dev\\APS360-PROJECT\\data\\random_audio\\Moka Only_Evergreen Scene\\Moka Only_Evergreen Scene.webm\n",
      "[download] 100% of    2.43MiB in 00:00:01 at 2.36MiB/s   \n",
      "[download] Finished downloading playlist: Moka Only Evergreen Scene\n",
      "[generic] Extracting URL: Chance McCoy No One Loves You (The Way That I Do)\n",
      "[youtube:search] Extracting URL: ytsearch:Chance McCoy No One Loves You (The Way That I Do)\n",
      "[download] Downloading playlist: Chance McCoy No One Loves You (The Way That I Do)\n",
      "[youtube:search] query \"Chance McCoy No One Loves You (The Way That I Do)\": Downloading web client config\n",
      "[youtube:search] query \"Chance McCoy No One Loves You (The Way That I Do)\" page 1: Downloading API JSON\n",
      "[youtube:search] Playlist Chance McCoy No One Loves You (The Way That I Do): Downloading 1 items of 1\n",
      "[download] Downloading item 1 of 1\n",
      "[youtube] Extracting URL: https://www.youtube.com/watch?v=hlJfWjSyXwo\n",
      "[youtube] hlJfWjSyXwo: Downloading webpage\n",
      "[youtube] hlJfWjSyXwo: Downloading ios player API JSON\n",
      "[youtube] hlJfWjSyXwo: Downloading android player API JSON\n"
     ]
    },
    {
     "name": "stderr",
     "output_type": "stream",
     "text": [
      "WARNING: [youtube] YouTube said: ERROR - Precondition check failed.\n",
      "WARNING: [youtube] HTTP Error 400: Bad Request. Retrying (1/3)...\n"
     ]
    },
    {
     "name": "stdout",
     "output_type": "stream",
     "text": [
      "[youtube] hlJfWjSyXwo: Downloading android player API JSON\n"
     ]
    },
    {
     "name": "stderr",
     "output_type": "stream",
     "text": [
      "WARNING: [youtube] YouTube said: ERROR - Precondition check failed.\n",
      "WARNING: [youtube] HTTP Error 400: Bad Request. Retrying (2/3)...\n"
     ]
    },
    {
     "name": "stdout",
     "output_type": "stream",
     "text": [
      "[youtube] hlJfWjSyXwo: Downloading android player API JSON\n",
      "[youtube] hlJfWjSyXwo: Downloading m3u8 information\n",
      "[info] hlJfWjSyXwo: Downloading 1 format(s): 251\n",
      "[download] Destination: C:\\Users\\arwin\\Documents\\dev\\APS360-PROJECT\\data\\random_audio\\Chance McCoy_No One Loves You (The Way That I Do)\\Chance McCoy_No One Loves You (The Way That I Do).webm\n",
      "[download] 100% of    2.29MiB in 00:00:00 at 7.21MiB/s   \n",
      "[download] Finished downloading playlist: Chance McCoy No One Loves You (The Way That I Do)\n",
      "[generic] Extracting URL: Smart Baby Lullaby Sbarra - Tarantella\n",
      "[youtube:search] Extracting URL: ytsearch:Smart Baby Lullaby Sbarra - Tarantella\n",
      "[download] Downloading playlist: Smart Baby Lullaby Sbarra - Tarantella\n",
      "[youtube:search] query \"Smart Baby Lullaby Sbarra - Tarantella\": Downloading web client config\n",
      "[youtube:search] query \"Smart Baby Lullaby Sbarra - Tarantella\" page 1: Downloading API JSON\n",
      "[youtube:search] Playlist Smart Baby Lullaby Sbarra - Tarantella: Downloading 0 items\n",
      "[download] Finished downloading playlist: Smart Baby Lullaby Sbarra - Tarantella\n",
      "[generic] Extracting URL: Multo Shattered Thoughts\n",
      "[youtube:search] Extracting URL: ytsearch:Multo Shattered Thoughts\n",
      "[download] Downloading playlist: Multo Shattered Thoughts\n",
      "[youtube:search] query \"Multo Shattered Thoughts\": Downloading web client config\n",
      "[youtube:search] query \"Multo Shattered Thoughts\" page 1: Downloading API JSON\n",
      "[youtube:search] Playlist Multo Shattered Thoughts: Downloading 1 items of 1\n",
      "[download] Downloading item 1 of 1\n",
      "[youtube] Extracting URL: https://www.youtube.com/watch?v=emiuBjHsb9A\n",
      "[youtube] emiuBjHsb9A: Downloading webpage\n",
      "[youtube] emiuBjHsb9A: Downloading ios player API JSON\n",
      "[youtube] emiuBjHsb9A: Downloading android player API JSON\n"
     ]
    },
    {
     "name": "stderr",
     "output_type": "stream",
     "text": [
      "WARNING: [youtube] YouTube said: ERROR - Precondition check failed.\n",
      "WARNING: [youtube] HTTP Error 400: Bad Request. Retrying (1/3)...\n"
     ]
    },
    {
     "name": "stdout",
     "output_type": "stream",
     "text": [
      "[youtube] emiuBjHsb9A: Downloading android player API JSON\n"
     ]
    },
    {
     "name": "stderr",
     "output_type": "stream",
     "text": [
      "WARNING: [youtube] YouTube said: ERROR - Precondition check failed.\n",
      "WARNING: [youtube] HTTP Error 400: Bad Request. Retrying (2/3)...\n"
     ]
    },
    {
     "name": "stdout",
     "output_type": "stream",
     "text": [
      "[youtube] emiuBjHsb9A: Downloading android player API JSON\n",
      "[youtube] emiuBjHsb9A: Downloading m3u8 information\n",
      "[info] emiuBjHsb9A: Downloading 1 format(s): 251\n",
      "[download] Destination: C:\\Users\\arwin\\Documents\\dev\\APS360-PROJECT\\data\\random_audio\\Multo_Shattered Thoughts\\Multo_Shattered Thoughts.webm\n",
      "[download] 100% of    1.79MiB in 00:00:00 at 3.30MiB/s   \n",
      "[download] Finished downloading playlist: Multo Shattered Thoughts\n",
      "[generic] Extracting URL: Cash Click Boog Keys to the Streets (feat_ Tee Grizzley)\n",
      "[youtube:search] Extracting URL: ytsearch:Cash Click Boog Keys to the Streets (feat_ Tee Grizzley)\n",
      "[download] Downloading playlist: Cash Click Boog Keys to the Streets (feat_ Tee Grizzley)\n",
      "[youtube:search] query \"Cash Click Boog Keys to the Streets (feat_ Tee Grizzley)\": Downloading web client config\n",
      "[youtube:search] query \"Cash Click Boog Keys to the Streets (feat_ Tee Grizzley)\" page 1: Downloading API JSON\n",
      "[youtube:search] Playlist Cash Click Boog Keys to the Streets (feat_ Tee Grizzley): Downloading 1 items of 1\n",
      "[download] Downloading item 1 of 1\n",
      "[youtube] Extracting URL: https://www.youtube.com/watch?v=93WKAKjRK2k\n",
      "[youtube] 93WKAKjRK2k: Downloading webpage\n",
      "[youtube] 93WKAKjRK2k: Downloading ios player API JSON\n",
      "[youtube] 93WKAKjRK2k: Downloading android player API JSON\n"
     ]
    },
    {
     "name": "stderr",
     "output_type": "stream",
     "text": [
      "WARNING: [youtube] YouTube said: ERROR - Precondition check failed.\n",
      "WARNING: [youtube] HTTP Error 400: Bad Request. Retrying (1/3)...\n"
     ]
    },
    {
     "name": "stdout",
     "output_type": "stream",
     "text": [
      "[youtube] 93WKAKjRK2k: Downloading android player API JSON\n",
      "[youtube] 93WKAKjRK2k: Downloading m3u8 information\n",
      "[info] 93WKAKjRK2k: Downloading 1 format(s): 251\n",
      "[download] Destination: C:\\Users\\arwin\\Documents\\dev\\APS360-PROJECT\\data\\random_audio\\Cash Click Boog_Keys to the Streets (feat_ Tee Grizzley)\\Cash Click Boog_Keys to the Streets (feat_ Tee Grizzley).webm\n",
      "[download] 100% of    3.10MiB in 00:00:00 at 5.27MiB/s   \n",
      "[download] Finished downloading playlist: Cash Click Boog Keys to the Streets (feat_ Tee Grizzley)\n",
      "[generic] Extracting URL: Joe Stamm Band American Freeborn Kids\n",
      "[youtube:search] Extracting URL: ytsearch:Joe Stamm Band American Freeborn Kids\n",
      "[download] Downloading playlist: Joe Stamm Band American Freeborn Kids\n",
      "[youtube:search] query \"Joe Stamm Band American Freeborn Kids\": Downloading web client config\n",
      "[youtube:search] query \"Joe Stamm Band American Freeborn Kids\" page 1: Downloading API JSON\n",
      "[youtube:search] Playlist Joe Stamm Band American Freeborn Kids: Downloading 1 items of 1\n",
      "[download] Downloading item 1 of 1\n",
      "[youtube] Extracting URL: https://www.youtube.com/watch?v=lH4jBvtu7qY\n",
      "[youtube] lH4jBvtu7qY: Downloading webpage\n",
      "[youtube] lH4jBvtu7qY: Downloading ios player API JSON\n",
      "[youtube] lH4jBvtu7qY: Downloading android player API JSON\n"
     ]
    },
    {
     "name": "stderr",
     "output_type": "stream",
     "text": [
      "WARNING: [youtube] YouTube said: ERROR - Precondition check failed.\n",
      "WARNING: [youtube] HTTP Error 400: Bad Request. Retrying (1/3)...\n"
     ]
    },
    {
     "name": "stdout",
     "output_type": "stream",
     "text": [
      "[youtube] lH4jBvtu7qY: Downloading android player API JSON\n",
      "[youtube] lH4jBvtu7qY: Downloading m3u8 information\n",
      "[info] lH4jBvtu7qY: Downloading 1 format(s): 251\n",
      "[download] Destination: C:\\Users\\arwin\\Documents\\dev\\APS360-PROJECT\\data\\random_audio\\Joe Stamm Band_American Freeborn Kids\\Joe Stamm Band_American Freeborn Kids.webm\n",
      "[download] 100% of    3.20MiB in 00:00:00 at 6.39MiB/s   \n",
      "[download] Finished downloading playlist: Joe Stamm Band American Freeborn Kids\n",
      "[generic] Extracting URL: ZAKO Quelque part ailleurs\n",
      "[youtube:search] Extracting URL: ytsearch:ZAKO Quelque part ailleurs\n",
      "[download] Downloading playlist: ZAKO Quelque part ailleurs\n",
      "[youtube:search] query \"ZAKO Quelque part ailleurs\": Downloading web client config\n",
      "[youtube:search] query \"ZAKO Quelque part ailleurs\" page 1: Downloading API JSON\n",
      "[youtube:search] Playlist ZAKO Quelque part ailleurs: Downloading 1 items of 1\n",
      "[download] Downloading item 1 of 1\n",
      "[youtube] Extracting URL: https://www.youtube.com/watch?v=HM7E7AoSc3c\n",
      "[youtube] HM7E7AoSc3c: Downloading webpage\n",
      "[youtube] HM7E7AoSc3c: Downloading ios player API JSON\n",
      "[youtube] HM7E7AoSc3c: Downloading android player API JSON\n",
      "[youtube] HM7E7AoSc3c: Downloading m3u8 information\n",
      "[info] HM7E7AoSc3c: Downloading 1 format(s): 251\n",
      "[download] Destination: C:\\Users\\arwin\\Documents\\dev\\APS360-PROJECT\\data\\random_audio\\ZAKO_Quelque part ailleurs\\ZAKO_Quelque part ailleurs.webm\n",
      "[download] 100% of    3.55MiB in 00:00:00 at 4.94MiB/s   \n",
      "[download] Finished downloading playlist: ZAKO Quelque part ailleurs\n",
      "[generic] Extracting URL: Gost The Call of the Faithful\n",
      "[youtube:search] Extracting URL: ytsearch:Gost The Call of the Faithful\n",
      "[download] Downloading playlist: Gost The Call of the Faithful\n",
      "[youtube:search] query \"Gost The Call of the Faithful\": Downloading web client config\n",
      "[youtube:search] query \"Gost The Call of the Faithful\" page 1: Downloading API JSON\n",
      "[youtube:search] Playlist Gost The Call of the Faithful: Downloading 1 items of 1\n",
      "[download] Downloading item 1 of 1\n",
      "[youtube] Extracting URL: https://www.youtube.com/watch?v=v_qznytkF5k\n",
      "[youtube] v_qznytkF5k: Downloading webpage\n",
      "[youtube] v_qznytkF5k: Downloading ios player API JSON\n",
      "[youtube] v_qznytkF5k: Downloading android player API JSON\n",
      "[youtube] v_qznytkF5k: Downloading m3u8 information\n",
      "[info] v_qznytkF5k: Downloading 1 format(s): 251\n",
      "[download] Destination: C:\\Users\\arwin\\Documents\\dev\\APS360-PROJECT\\data\\random_audio\\Gost_The Call of the Faithful\\Gost_The Call of the Faithful.webm\n",
      "[download] 100% of    3.52MiB in 00:00:00 at 7.60MiB/s   \n",
      "[download] Finished downloading playlist: Gost The Call of the Faithful\n",
      "[generic] Extracting URL: 777villain Woke Up\n",
      "[youtube:search] Extracting URL: ytsearch:777villain Woke Up\n",
      "[download] Downloading playlist: 777villain Woke Up\n",
      "[youtube:search] query \"777villain Woke Up\": Downloading web client config\n",
      "[youtube:search] query \"777villain Woke Up\" page 1: Downloading API JSON\n",
      "[youtube:search] Playlist 777villain Woke Up: Downloading 1 items of 1\n",
      "[download] Downloading item 1 of 1\n",
      "[youtube] Extracting URL: https://www.youtube.com/watch?v=ra3HGniP_-o\n",
      "[youtube] ra3HGniP_-o: Downloading webpage\n",
      "[youtube] ra3HGniP_-o: Downloading ios player API JSON\n",
      "[youtube] ra3HGniP_-o: Downloading android player API JSON\n",
      "[youtube] ra3HGniP_-o: Downloading m3u8 information\n",
      "[info] ra3HGniP_-o: Downloading 1 format(s): 251\n",
      "[download] Destination: C:\\Users\\arwin\\Documents\\dev\\APS360-PROJECT\\data\\random_audio\\777villain_Woke Up\\777villain_Woke Up.webm\n",
      "[download] 100% of    1.91MiB in 00:00:00 at 6.32MiB/s   \n",
      "[download] Finished downloading playlist: 777villain Woke Up\n",
      "[generic] Extracting URL: Spafford Chapel Jam\n",
      "[youtube:search] Extracting URL: ytsearch:Spafford Chapel Jam\n",
      "[download] Downloading playlist: Spafford Chapel Jam\n",
      "[youtube:search] query \"Spafford Chapel Jam\": Downloading web client config\n",
      "[youtube:search] query \"Spafford Chapel Jam\" page 1: Downloading API JSON\n",
      "[youtube:search] Playlist Spafford Chapel Jam: Downloading 1 items of 1\n",
      "[download] Downloading item 1 of 1\n",
      "[youtube] Extracting URL: https://www.youtube.com/watch?v=NLt1jz6Kvt0\n",
      "[youtube] NLt1jz6Kvt0: Downloading webpage\n",
      "[youtube] NLt1jz6Kvt0: Downloading ios player API JSON\n",
      "[youtube] NLt1jz6Kvt0: Downloading android player API JSON\n",
      "[youtube] NLt1jz6Kvt0: Downloading m3u8 information\n",
      "[info] NLt1jz6Kvt0: Downloading 1 format(s): 251\n",
      "[download] Destination: C:\\Users\\arwin\\Documents\\dev\\APS360-PROJECT\\data\\random_audio\\Spafford_Chapel Jam\\Spafford_Chapel Jam.webm\n",
      "[download] 100% of   46.59MiB in 00:00:02 at 15.85MiB/s    \n",
      "[download] Finished downloading playlist: Spafford Chapel Jam\n",
      "[generic] Extracting URL: Dj Cutman Another Medium (Undertale Remix)\n",
      "[youtube:search] Extracting URL: ytsearch:Dj Cutman Another Medium (Undertale Remix)\n",
      "[download] Downloading playlist: Dj Cutman Another Medium (Undertale Remix)\n",
      "[youtube:search] query \"Dj Cutman Another Medium (Undertale Remix)\": Downloading web client config\n",
      "[youtube:search] query \"Dj Cutman Another Medium (Undertale Remix)\" page 1: Downloading API JSON\n",
      "[youtube:search] Playlist Dj Cutman Another Medium (Undertale Remix): Downloading 1 items of 1\n",
      "[download] Downloading item 1 of 1\n",
      "[youtube] Extracting URL: https://www.youtube.com/watch?v=lPExzunYlvo\n",
      "[youtube] lPExzunYlvo: Downloading webpage\n",
      "[youtube] lPExzunYlvo: Downloading ios player API JSON\n",
      "[youtube] lPExzunYlvo: Downloading android player API JSON\n"
     ]
    },
    {
     "name": "stderr",
     "output_type": "stream",
     "text": [
      "WARNING: [youtube] YouTube said: ERROR - Precondition check failed.\n",
      "WARNING: [youtube] HTTP Error 400: Bad Request. Retrying (1/3)...\n"
     ]
    },
    {
     "name": "stdout",
     "output_type": "stream",
     "text": [
      "[youtube] lPExzunYlvo: Downloading android player API JSON\n"
     ]
    },
    {
     "name": "stderr",
     "output_type": "stream",
     "text": [
      "WARNING: [youtube] YouTube said: ERROR - Precondition check failed.\n",
      "WARNING: [youtube] HTTP Error 400: Bad Request. Retrying (2/3)...\n"
     ]
    },
    {
     "name": "stdout",
     "output_type": "stream",
     "text": [
      "[youtube] lPExzunYlvo: Downloading android player API JSON\n"
     ]
    },
    {
     "name": "stderr",
     "output_type": "stream",
     "text": [
      "WARNING: [youtube] YouTube said: ERROR - Precondition check failed.\n",
      "WARNING: [youtube] HTTP Error 400: Bad Request. Retrying (3/3)...\n"
     ]
    },
    {
     "name": "stdout",
     "output_type": "stream",
     "text": [
      "[youtube] lPExzunYlvo: Downloading android player API JSON\n"
     ]
    },
    {
     "name": "stderr",
     "output_type": "stream",
     "text": [
      "WARNING: [youtube] YouTube said: ERROR - Precondition check failed.\n",
      "WARNING: [youtube] Unable to download API page: HTTP Error 400: Bad Request (caused by <HTTPError 400: Bad Request>); please report this issue on  https://github.com/yt-dlp/yt-dlp/issues?q= , filling out the appropriate issue template. Confirm you are on the latest version using  yt-dlp -U\n"
     ]
    },
    {
     "name": "stdout",
     "output_type": "stream",
     "text": [
      "[youtube] lPExzunYlvo: Downloading m3u8 information\n",
      "[info] lPExzunYlvo: Downloading 1 format(s): 251\n",
      "[download] Destination: C:\\Users\\arwin\\Documents\\dev\\APS360-PROJECT\\data\\random_audio\\Dj Cutman_Another Medium (Undertale Remix)\\Dj Cutman_Another Medium (Undertale Remix).webm\n",
      "[download] 100% of    2.28MiB in 00:00:00 at 7.58MiB/s   \n",
      "[download] Finished downloading playlist: Dj Cutman Another Medium (Undertale Remix)\n",
      "[generic] Extracting URL: WeezGotti We The Ones\n",
      "[youtube:search] Extracting URL: ytsearch:WeezGotti We The Ones\n",
      "[download] Downloading playlist: WeezGotti We The Ones\n",
      "[youtube:search] query \"WeezGotti We The Ones\": Downloading web client config\n",
      "[youtube:search] query \"WeezGotti We The Ones\" page 1: Downloading API JSON\n",
      "[youtube:search] Playlist WeezGotti We The Ones: Downloading 1 items of 1\n",
      "[download] Downloading item 1 of 1\n",
      "[youtube] Extracting URL: https://www.youtube.com/watch?v=ZOfHUeX8-WA\n",
      "[youtube] ZOfHUeX8-WA: Downloading webpage\n",
      "[youtube] ZOfHUeX8-WA: Downloading ios player API JSON\n",
      "[youtube] ZOfHUeX8-WA: Downloading android player API JSON\n"
     ]
    },
    {
     "name": "stderr",
     "output_type": "stream",
     "text": [
      "WARNING: [youtube] YouTube said: ERROR - Precondition check failed.\n",
      "WARNING: [youtube] HTTP Error 400: Bad Request. Retrying (1/3)...\n"
     ]
    },
    {
     "name": "stdout",
     "output_type": "stream",
     "text": [
      "[youtube] ZOfHUeX8-WA: Downloading android player API JSON\n",
      "[youtube] ZOfHUeX8-WA: Downloading m3u8 information\n",
      "[info] ZOfHUeX8-WA: Downloading 1 format(s): 251\n",
      "[download] Destination: C:\\Users\\arwin\\Documents\\dev\\APS360-PROJECT\\data\\random_audio\\WeezGotti_We The Ones\\WeezGotti_We The Ones.webm\n",
      "[download] 100% of    2.59MiB in 00:00:00 at 5.96MiB/s   \n",
      "[download] Finished downloading playlist: WeezGotti We The Ones\n",
      "[generic] Extracting URL: The Del McCoury Band She Even Woke Me Up to Say Goodbye\n",
      "[youtube:search] Extracting URL: ytsearch:The Del McCoury Band She Even Woke Me Up to Say Goodbye\n",
      "[download] Downloading playlist: The Del McCoury Band She Even Woke Me Up to Say Goodbye\n",
      "[youtube:search] query \"The Del McCoury Band She Even Woke Me Up to Say Goodbye\": Downloading web client config\n",
      "[youtube:search] query \"The Del McCoury Band She Even Woke Me Up to Say Goodbye\" page 1: Downloading API JSON\n",
      "[youtube:search] Playlist The Del McCoury Band She Even Woke Me Up to Say Goodbye: Downloading 1 items of 1\n",
      "[download] Downloading item 1 of 1\n",
      "[youtube] Extracting URL: https://www.youtube.com/watch?v=peW8M0i9c6Y\n",
      "[youtube] peW8M0i9c6Y: Downloading webpage\n",
      "[youtube] peW8M0i9c6Y: Downloading ios player API JSON\n",
      "[youtube] peW8M0i9c6Y: Downloading android player API JSON\n"
     ]
    },
    {
     "name": "stderr",
     "output_type": "stream",
     "text": [
      "WARNING: [youtube] YouTube said: ERROR - Precondition check failed.\n",
      "WARNING: [youtube] HTTP Error 400: Bad Request. Retrying (1/3)...\n"
     ]
    },
    {
     "name": "stdout",
     "output_type": "stream",
     "text": [
      "[youtube] peW8M0i9c6Y: Downloading android player API JSON\n"
     ]
    },
    {
     "name": "stderr",
     "output_type": "stream",
     "text": [
      "WARNING: [youtube] YouTube said: ERROR - Precondition check failed.\n",
      "WARNING: [youtube] HTTP Error 400: Bad Request. Retrying (2/3)...\n"
     ]
    },
    {
     "name": "stdout",
     "output_type": "stream",
     "text": [
      "[youtube] peW8M0i9c6Y: Downloading android player API JSON\n"
     ]
    },
    {
     "name": "stderr",
     "output_type": "stream",
     "text": [
      "WARNING: [youtube] YouTube said: ERROR - Precondition check failed.\n",
      "WARNING: [youtube] HTTP Error 400: Bad Request. Retrying (3/3)...\n"
     ]
    },
    {
     "name": "stdout",
     "output_type": "stream",
     "text": [
      "[youtube] peW8M0i9c6Y: Downloading android player API JSON\n",
      "[youtube] peW8M0i9c6Y: Downloading m3u8 information\n",
      "[info] peW8M0i9c6Y: Downloading 1 format(s): 251\n",
      "[download] Destination: C:\\Users\\arwin\\Documents\\dev\\APS360-PROJECT\\data\\random_audio\\The Del McCoury Band_She Even Woke Me Up to Say Goodbye\\The Del McCoury Band_She Even Woke Me Up to Say Goodbye.webm\n",
      "[download] 100% of    3.37MiB in 00:00:00 at 8.26MiB/s     \n",
      "[download] Finished downloading playlist: The Del McCoury Band She Even Woke Me Up to Say Goodbye\n",
      "[generic] Extracting URL: Yann Tiersen Monochrome (feat_ Gruff Rhys) - Portrait Version\n",
      "[youtube:search] Extracting URL: ytsearch:Yann Tiersen Monochrome (feat_ Gruff Rhys) - Portrait Version\n",
      "[download] Downloading playlist: Yann Tiersen Monochrome (feat_ Gruff Rhys) - Portrait Version\n",
      "[youtube:search] query \"Yann Tiersen Monochrome (feat_ Gruff Rhys) - Portrait Version\": Downloading web client config\n",
      "[youtube:search] query \"Yann Tiersen Monochrome (feat_ Gruff Rhys) - Portrait Version\" page 1: Downloading API JSON\n",
      "[youtube:search] Playlist Yann Tiersen Monochrome (feat_ Gruff Rhys) - Portrait Version: Downloading 1 items of 1\n",
      "[download] Downloading item 1 of 1\n",
      "[youtube] Extracting URL: https://www.youtube.com/watch?v=DArHQQXp9Rw\n",
      "[youtube] DArHQQXp9Rw: Downloading webpage\n",
      "[youtube] DArHQQXp9Rw: Downloading ios player API JSON\n",
      "[youtube] DArHQQXp9Rw: Downloading android player API JSON\n",
      "[youtube] DArHQQXp9Rw: Downloading m3u8 information\n",
      "[info] DArHQQXp9Rw: Downloading 1 format(s): 251\n",
      "[download] Destination: C:\\Users\\arwin\\Documents\\dev\\APS360-PROJECT\\data\\random_audio\\Yann Tiersen_Monochrome (feat_ Gruff Rhys) - Portrait Version\\Yann Tiersen_Monochrome (feat_ Gruff Rhys) - Portrait Version.webm\n",
      "[download] 100% of    3.79MiB in 00:00:00 at 5.98MiB/s   \n",
      "[download] Finished downloading playlist: Yann Tiersen Monochrome (feat_ Gruff Rhys) - Portrait Version\n",
      "[generic] Extracting URL: Uta Bresan Kopf oder Zahl - Radio Version\n",
      "[youtube:search] Extracting URL: ytsearch:Uta Bresan Kopf oder Zahl - Radio Version\n",
      "[download] Downloading playlist: Uta Bresan Kopf oder Zahl - Radio Version\n",
      "[youtube:search] query \"Uta Bresan Kopf oder Zahl - Radio Version\": Downloading web client config\n",
      "[youtube:search] query \"Uta Bresan Kopf oder Zahl - Radio Version\" page 1: Downloading API JSON\n",
      "[youtube:search] Playlist Uta Bresan Kopf oder Zahl - Radio Version: Downloading 1 items of 1\n",
      "[download] Downloading item 1 of 1\n",
      "[youtube] Extracting URL: https://www.youtube.com/watch?v=b96gPu1xiAI\n",
      "[youtube] b96gPu1xiAI: Downloading webpage\n",
      "[youtube] b96gPu1xiAI: Downloading ios player API JSON\n",
      "[youtube] b96gPu1xiAI: Downloading android player API JSON\n"
     ]
    },
    {
     "name": "stderr",
     "output_type": "stream",
     "text": [
      "WARNING: [youtube] YouTube said: ERROR - Precondition check failed.\n",
      "WARNING: [youtube] HTTP Error 400: Bad Request. Retrying (1/3)...\n"
     ]
    },
    {
     "name": "stdout",
     "output_type": "stream",
     "text": [
      "[youtube] b96gPu1xiAI: Downloading android player API JSON\n",
      "[youtube] b96gPu1xiAI: Downloading m3u8 information\n",
      "[info] b96gPu1xiAI: Downloading 1 format(s): 251\n",
      "[download] Destination: C:\\Users\\arwin\\Documents\\dev\\APS360-PROJECT\\data\\random_audio\\Uta Bresan_Kopf oder Zahl - Radio Version\\Uta Bresan_Kopf oder Zahl - Radio Version.webm\n",
      "[download] 100% of    3.42MiB in 00:00:00 at 10.07MiB/s    \n",
      "[download] Finished downloading playlist: Uta Bresan Kopf oder Zahl - Radio Version\n",
      "[generic] Extracting URL: Rain Sounds & Nature Sounds Thorough Downpour\n",
      "[youtube:search] Extracting URL: ytsearch:Rain Sounds & Nature Sounds Thorough Downpour\n",
      "[download] Downloading playlist: Rain Sounds & Nature Sounds Thorough Downpour\n",
      "[youtube:search] query \"Rain Sounds & Nature Sounds Thorough Downpour\": Downloading web client config\n",
      "[youtube:search] query \"Rain Sounds & Nature Sounds Thorough Downpour\" page 1: Downloading API JSON\n",
      "[youtube:search] Playlist Rain Sounds & Nature Sounds Thorough Downpour: Downloading 1 items of 1\n",
      "[download] Downloading item 1 of 1\n",
      "[youtube] Extracting URL: https://www.youtube.com/watch?v=RR4qALfav5w\n",
      "[youtube] RR4qALfav5w: Downloading webpage\n",
      "[youtube] RR4qALfav5w: Downloading ios player API JSON\n",
      "[youtube] RR4qALfav5w: Downloading android player API JSON\n"
     ]
    },
    {
     "name": "stderr",
     "output_type": "stream",
     "text": [
      "WARNING: [youtube] YouTube said: ERROR - Precondition check failed.\n",
      "WARNING: [youtube] HTTP Error 400: Bad Request. Retrying (1/3)...\n"
     ]
    },
    {
     "name": "stdout",
     "output_type": "stream",
     "text": [
      "[youtube] RR4qALfav5w: Downloading android player API JSON\n",
      "[youtube] RR4qALfav5w: Downloading m3u8 information\n",
      "[info] RR4qALfav5w: Downloading 1 format(s): 251\n",
      "[download] Destination: C:\\Users\\arwin\\Documents\\dev\\APS360-PROJECT\\data\\random_audio\\Rain Sounds & Nature Sounds_Thorough Downpour\\Rain Sounds & Nature Sounds_Thorough Downpour.webm\n",
      "[download] 100% of  155.33MiB in 00:00:10 at 14.44MiB/s    \n",
      "[download] Finished downloading playlist: Rain Sounds & Nature Sounds Thorough Downpour\n",
      "[generic] Extracting URL: Kodie Shane Thinking Bout U\n",
      "[youtube:search] Extracting URL: ytsearch:Kodie Shane Thinking Bout U\n",
      "[download] Downloading playlist: Kodie Shane Thinking Bout U\n",
      "[youtube:search] query \"Kodie Shane Thinking Bout U\": Downloading web client config\n",
      "[youtube:search] query \"Kodie Shane Thinking Bout U\" page 1: Downloading API JSON\n",
      "[youtube:search] Playlist Kodie Shane Thinking Bout U: Downloading 1 items of 1\n",
      "[download] Downloading item 1 of 1\n",
      "[youtube] Extracting URL: https://www.youtube.com/watch?v=YeYDwjcJeUc\n",
      "[youtube] YeYDwjcJeUc: Downloading webpage\n",
      "[youtube] YeYDwjcJeUc: Downloading ios player API JSON\n",
      "[youtube] YeYDwjcJeUc: Downloading android player API JSON\n",
      "[youtube] YeYDwjcJeUc: Downloading m3u8 information\n",
      "[info] YeYDwjcJeUc: Downloading 1 format(s): 251\n",
      "[download] Destination: C:\\Users\\arwin\\Documents\\dev\\APS360-PROJECT\\data\\random_audio\\Kodie Shane_Thinking Bout U\\Kodie Shane_Thinking Bout U.webm\n",
      "[download] 100% of    3.22MiB in 00:00:00 at 10.76MiB/s  \n",
      "[download] Finished downloading playlist: Kodie Shane Thinking Bout U\n"
     ]
    },
    {
     "ename": "UnicodeEncodeError",
     "evalue": "'charmap' codec can't encode character '\\u0105' in position 40: character maps to <undefined>",
     "output_type": "error",
     "traceback": [
      "\u001b[1;31m---------------------------------------------------------------------------\u001b[0m",
      "\u001b[1;31mUnicodeEncodeError\u001b[0m                        Traceback (most recent call last)",
      "Cell \u001b[1;32mIn[7], line 27\u001b[0m\n\u001b[0;32m     23\u001b[0m \u001b[38;5;28;01mif\u001b[39;00m (\u001b[38;5;129;01mnot\u001b[39;00m os\u001b[38;5;241m.\u001b[39mpath\u001b[38;5;241m.\u001b[39mexists(song_path) \u001b[38;5;129;01mor\u001b[39;00m\n\u001b[0;32m     24\u001b[0m     get_folder_size(song_path) \u001b[38;5;241m<\u001b[39m \u001b[38;5;241m1e3\u001b[39m):\n\u001b[0;32m     26\u001b[0m     \u001b[38;5;28;01mwith\u001b[39;00m \u001b[38;5;28mopen\u001b[39m(project_path \u001b[38;5;241m+\u001b[39m \u001b[38;5;124m'\u001b[39m\u001b[38;5;124mdata_processing/random_progress_log.txt\u001b[39m\u001b[38;5;124m'\u001b[39m, \u001b[38;5;124m'\u001b[39m\u001b[38;5;124ma\u001b[39m\u001b[38;5;124m'\u001b[39m) \u001b[38;5;28;01mas\u001b[39;00m f:\n\u001b[1;32m---> 27\u001b[0m         f\u001b[38;5;241m.\u001b[39mwrite(\u001b[38;5;124mf\u001b[39m\u001b[38;5;124m'\u001b[39m\u001b[38;5;124mStarting Download of \u001b[39m\u001b[38;5;132;01m{\u001b[39;00maudio_dir_name\u001b[38;5;132;01m}\u001b[39;00m\u001b[38;5;124m'\u001b[39m)\n\u001b[0;32m     28\u001b[0m     \u001b[38;5;28;01mtry\u001b[39;00m:\n\u001b[0;32m     29\u001b[0m         download_song(artist, song)\n",
      "File \u001b[1;32mc:\\Users\\arwin\\AppData\\Local\\Programs\\Python\\Python311\\Lib\\encodings\\cp1252.py:19\u001b[0m, in \u001b[0;36mIncrementalEncoder.encode\u001b[1;34m(self, input, final)\u001b[0m\n\u001b[0;32m     18\u001b[0m \u001b[38;5;28;01mdef\u001b[39;00m \u001b[38;5;21mencode\u001b[39m(\u001b[38;5;28mself\u001b[39m, \u001b[38;5;28minput\u001b[39m, final\u001b[38;5;241m=\u001b[39m\u001b[38;5;28;01mFalse\u001b[39;00m):\n\u001b[1;32m---> 19\u001b[0m     \u001b[38;5;28;01mreturn\u001b[39;00m codecs\u001b[38;5;241m.\u001b[39mcharmap_encode(\u001b[38;5;28minput\u001b[39m,\u001b[38;5;28mself\u001b[39m\u001b[38;5;241m.\u001b[39merrors,encoding_table)[\u001b[38;5;241m0\u001b[39m]\n",
      "\u001b[1;31mUnicodeEncodeError\u001b[0m: 'charmap' codec can't encode character '\\u0105' in position 40: character maps to <undefined>"
     ]
    }
   ],
   "source": [
    "with open(project_path + 'data_processing/random_progress_log.txt', 'w') as f:\n",
    "    f.write(f'STARTING DATASET DOWNLOAD\\n\\n')\n",
    "\n",
    "with open(project_path + 'data_processing/random_error_log.txt', 'w') as f:\n",
    "    f.write(f'ERRORS WILL BE PRINTED HERE\\n\\n')\n",
    "\n",
    "i = 1\n",
    "for row in df.itertuples():\n",
    "    song = getattr(row, 'song')\n",
    "    artist = getattr(row, 'artist')\n",
    "    audio_dir_name = artist + \"_\" + song\n",
    "\n",
    "    with open(project_path + 'data_processing/random_progress_log.txt', 'a') as f:\n",
    "        f.write(f'\\niteration = {i}, ')\n",
    "\n",
    "    \"\"\"\n",
    "    skip downloading song if:\n",
    "        (1) folder for song is created\n",
    "        AND\n",
    "        (2) folder size for song is > 1kB\n",
    "    \"\"\"\n",
    "    song_path = download_path + artist + \"_\" + song\n",
    "    if (not os.path.exists(song_path) or\n",
    "        get_folder_size(song_path) < 1e3):\n",
    "        \n",
    "        with open(project_path + 'data_processing/random_progress_log.txt', 'a') as f:\n",
    "            f.write(f'Starting Download of {audio_dir_name}')\n",
    "        try:\n",
    "            download_song(artist, song)\n",
    "            with open(project_path + 'data_processing/random_progress_log.txt', 'a') as f:\n",
    "                f.write(f'...Completed DL')\n",
    "\n",
    "        except:\n",
    "            # write to error log which one failed\n",
    "            with open(project_path + 'data_processing/random_progress_log.txt', 'a') as f:\n",
    "                f.write(f'...FAILED download for: {audio_dir_name}')\n",
    "\n",
    "            with open(project_path + 'data_processing/random_error_log.txt', 'a') as f:\n",
    "                f.write(f'\\nFAILED download for: {audio_dir_name}')\n",
    "            pass\n",
    "    \n",
    "\n",
    "    i+=1"
   ]
  }
 ],
 "metadata": {
  "kernelspec": {
   "display_name": "Python 3",
   "language": "python",
   "name": "python3"
  },
  "language_info": {
   "codemirror_mode": {
    "name": "ipython",
    "version": 3
   },
   "file_extension": ".py",
   "mimetype": "text/x-python",
   "name": "python",
   "nbconvert_exporter": "python",
   "pygments_lexer": "ipython3",
   "version": "3.11.5"
  }
 },
 "nbformat": 4,
 "nbformat_minor": 2
}
