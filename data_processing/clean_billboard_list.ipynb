{
 "cells": [
  {
   "cell_type": "code",
   "execution_count": 12,
   "metadata": {},
   "outputs": [],
   "source": [
    "import pandas as pd\n",
    "import datetime"
   ]
  },
  {
   "cell_type": "markdown",
   "metadata": {},
   "source": [
    "Import CSV into Pandas df"
   ]
  },
  {
   "cell_type": "code",
   "execution_count": 13,
   "metadata": {},
   "outputs": [],
   "source": [
    "df = pd.read_csv('../data/billboard_all.csv')"
   ]
  },
  {
   "cell_type": "markdown",
   "metadata": {},
   "source": [
    "Filter out all songs outside of 2016-2021"
   ]
  },
  {
   "cell_type": "code",
   "execution_count": 14,
   "metadata": {},
   "outputs": [],
   "source": [
    "df['date'] = pd.to_datetime(df['date'])\n",
    "df = df[df['date'].dt.year >= 2016]"
   ]
  },
  {
   "cell_type": "markdown",
   "metadata": {},
   "source": [
    "1. Replace all Characters in Song and Artist Columns that are invalid dir or file chars\n",
    "2. Get rid of all columns except song and artist\n",
    "3. Condense table to only unique entries"
   ]
  },
  {
   "cell_type": "code",
   "execution_count": 15,
   "metadata": {},
   "outputs": [],
   "source": [
    "bad_chars = {\n",
    "    '<', '>', ':', '\"', '/', '\\\\', '|', '?', '*', '.',\n",
    "    }\n",
    "\n",
    "# lambda function to clean string\n",
    "clean_string = lambda s: ''.join(\n",
    "        map(lambda c: '_' if c in bad_chars else c, s)\n",
    "    )"
   ]
  },
  {
   "cell_type": "code",
   "execution_count": 16,
   "metadata": {},
   "outputs": [],
   "source": [
    "df = df[['song', 'artist']]\n",
    "df.loc[:, 'song'] = df['song'].apply(clean_string)\n",
    "df.loc[:, 'artist'] = df['artist'].apply(clean_string)\n",
    "df = df.drop_duplicates(subset='song', keep='first')"
   ]
  },
  {
   "cell_type": "code",
   "execution_count": 17,
   "metadata": {},
   "outputs": [
    {
     "name": "stdout",
     "output_type": "stream",
     "text": [
      "<bound method NDFrame.head of                        song                         artist\n",
      "0                Easy On Me                          Adele\n",
      "1                      Stay  The Kid LAROI & Justin Bieber\n",
      "2             Industry Baby        Lil Nas X & Jack Harlow\n",
      "3                Fancy Like                   Walker Hayes\n",
      "4                Bad Habits                     Ed Sheeran\n",
      "...                     ...                            ...\n",
      "30571  Climb Every Mountain                   Jordan Smith\n",
      "30573          Back To Back                          Drake\n",
      "30584      Nothin' Like You                     Dan + Shay\n",
      "30587         Strip It Down                     Luke Bryan\n",
      "30598      Somebody To Love                   Jordan Smith\n",
      "\n",
      "[3167 rows x 2 columns]>\n"
     ]
    }
   ],
   "source": [
    "print(df.head)"
   ]
  },
  {
   "cell_type": "markdown",
   "metadata": {},
   "source": [
    "Save to CSV"
   ]
  },
  {
   "cell_type": "code",
   "execution_count": 18,
   "metadata": {},
   "outputs": [],
   "source": [
    "df.to_csv('../data/billboard_2016-2021_song_artist_cleaned_rows.csv', index=False)"
   ]
  }
 ],
 "metadata": {
  "kernelspec": {
   "display_name": "Python 3",
   "language": "python",
   "name": "python3"
  },
  "language_info": {
   "codemirror_mode": {
    "name": "ipython",
    "version": 3
   },
   "file_extension": ".py",
   "mimetype": "text/x-python",
   "name": "python",
   "nbconvert_exporter": "python",
   "pygments_lexer": "ipython3",
   "version": "3.11.5"
  }
 },
 "nbformat": 4,
 "nbformat_minor": 2
}
