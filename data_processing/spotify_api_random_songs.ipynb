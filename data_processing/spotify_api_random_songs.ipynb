{
 "cells": [
  {
   "cell_type": "code",
   "execution_count": 3,
   "metadata": {},
   "outputs": [],
   "source": [
    "from dotenv import load_dotenv\n",
    "from requests import post, get\n",
    "import os\n",
    "import base64\n",
    "import json\n",
    "import spotipy\n",
    "from spotipy.oauth2 import SpotifyClientCredentials\n",
    "import random\n",
    "from pprint import pprint\n",
    "import pandas as pd"
   ]
  },
  {
   "cell_type": "markdown",
   "metadata": {},
   "source": [
    "Api Keys & Env Variables"
   ]
  },
  {
   "cell_type": "code",
   "execution_count": 4,
   "metadata": {},
   "outputs": [],
   "source": [
    "load_dotenv()\n",
    "client_id = os.getenv(\"CLIENT_ID\")\n",
    "client_secret = os.getenv(\"CLIENT_SECRET\")\n",
    "\n",
    "os.environ[\"SPOTIPY_CLIENT_ID\"] = client_id\n",
    "os.environ[\"SPOTIPY_CLIENT_SECRET\"] = client_secret\n"
   ]
  },
  {
   "cell_type": "markdown",
   "metadata": {},
   "source": [
    "Manual Spotify API requests (not used)"
   ]
  },
  {
   "cell_type": "code",
   "execution_count": 5,
   "metadata": {},
   "outputs": [],
   "source": [
    "def get_token():\n",
    "    auth_string = client_id + ':' + client_secret\n",
    "    auth_bytes = auth_string.encode('utf-8')\n",
    "    auth_base64 = str(base64.b64encode(auth_bytes), 'utf-8')\n",
    "\n",
    "    url = \"https://accounts.spotify.com/api/token\"\n",
    "    headers = {\n",
    "        \"Authorization\": \"Basic \" + auth_base64,\n",
    "        \"Content-Type\": \"application/x-www-form-urlencoded\"\n",
    "    }\n",
    "    data = {\"grant_type\" : \"client_credentials\"}\n",
    "\n",
    "    result = post(url, headers=headers, data=data)\n",
    "    json_result = json.loads(result.content)\n",
    "    token = json_result['access_token']\n",
    "    return token"
   ]
  },
  {
   "cell_type": "code",
   "execution_count": 6,
   "metadata": {},
   "outputs": [],
   "source": [
    "def get_auth_header(token):\n",
    "    return { \"Authorization\" : \"Bearer \" + token }"
   ]
  },
  {
   "cell_type": "code",
   "execution_count": 7,
   "metadata": {},
   "outputs": [],
   "source": [
    "def search_for_track(token, query):\n",
    "    url = 'https://api.spotify.com/v1/search'\n",
    "    headers = get_auth_header(token)\n",
    "    # query = f\"?q={query}&type=track&limit=50\"\n",
    "    query = '?q=track:\"praise god\" year:2012-2019&type=track&limit=1&market=US'\n",
    "\n",
    "    query_url = url + query\n",
    "    result = get(query_url, headers=headers)\n",
    "    json_result = json.loads(result.content)\n",
    "    print(json_result)\n",
    "\n"
   ]
  },
  {
   "cell_type": "markdown",
   "metadata": {},
   "source": [
    "Random Song Search Helper Functions"
   ]
  },
  {
   "cell_type": "code",
   "execution_count": 8,
   "metadata": {},
   "outputs": [],
   "source": [
    "\n",
    "def get_random_search():\n",
    "    # A list of all characters that can be chosen.\n",
    "    characters = 'abcdefghijklmnopqrstuvwxyz'\n",
    "  \n",
    "    # Gets a random character from the characters string.\n",
    "    random_character = random.choice(characters)\n",
    "    random_search = ''\n",
    "\n",
    "    # Places the wildcard character at the beginning, or both beginning and end, randomly.\n",
    "    if random.randint(0, 1) == 0:\n",
    "        random_search = random_character + '%'\n",
    "    else:\n",
    "        random_search = '%' + random_character + '%'\n",
    "\n",
    "    return random_search\n"
   ]
  },
  {
   "cell_type": "markdown",
   "metadata": {},
   "source": [
    "Setup Auth & Auto-refresh token"
   ]
  },
  {
   "cell_type": "code",
   "execution_count": 9,
   "metadata": {},
   "outputs": [],
   "source": [
    "auth_manager = SpotifyClientCredentials()\n",
    "sp = spotipy.Spotify(auth_manager=auth_manager)"
   ]
  },
  {
   "cell_type": "code",
   "execution_count": 10,
   "metadata": {},
   "outputs": [],
   "source": [
    "album = sp.search(\n",
    "    q='album:\"graduation\"',\n",
    "    limit=1,\n",
    "    offset=0,\n",
    "    type='album',\n",
    "    market='US'\n",
    ")"
   ]
  },
  {
   "cell_type": "markdown",
   "metadata": {},
   "source": [
    "Random Song Function (spotipy, spotify api)"
   ]
  },
  {
   "cell_type": "code",
   "execution_count": 8,
   "metadata": {},
   "outputs": [],
   "source": [
    "def get_random_song() -> list:\n",
    "    q = get_random_search()\n",
    "    offset = random.randint(0, 999)\n",
    "    year = str(2016 + random.randint(0, 5))\n",
    "\n",
    "    # get bottom 10% popularity album using 'hipster' tag\n",
    "    album = sp.search(\n",
    "        q='album:\"' + q + '\" year:' + year + \" tag:hipster\",\n",
    "        limit=1,\n",
    "        offset=offset,\n",
    "        type='album',\n",
    "        market='US'\n",
    "    )\n",
    "    artist = album['albums']['items'][0]['artists'][0]['name']\n",
    "    \n",
    "    # get genre of album artist\n",
    "    genres = sp.artist(album['albums']['items'][0]['artists'][0]['id'])['genres']\n",
    "\n",
    "    # Now get a random song from the album\n",
    "    album_id = album['albums']['items'][0]['id']\n",
    "    total_tracks = album['albums']['items'][0]['total_tracks']\n",
    "    track = sp.album_tracks(\n",
    "        album_id=album_id,\n",
    "        limit=1,\n",
    "        offset=random.randint(0, total_tracks - 1),\n",
    "        market='US'    \n",
    "    )\n",
    "    song = track['items'][0]['name']\n",
    "\n",
    "    return (genres, artist, song)\n",
    "\n"
   ]
  },
  {
   "cell_type": "code",
   "execution_count": 9,
   "metadata": {},
   "outputs": [],
   "source": [
    "genres, artist, song = get_random_song()\n"
   ]
  },
  {
   "cell_type": "markdown",
   "metadata": {},
   "source": [
    "Save 3000 songs to CSV using Pandas (since there are ~3000 billboard songs)"
   ]
  },
  {
   "cell_type": "code",
   "execution_count": 9,
   "metadata": {},
   "outputs": [],
   "source": [
    "song_limit = 3000\n",
    "\n",
    "relative_csv_path = \"../data/random_2016-2021_song_artist_genres.csv\"\n",
    "df = pd.read_csv(relative_csv_path)\n",
    "assert list(df.columns) == ['song', 'artist', 'genres']\n",
    "\n",
    "i = 0\n",
    "while df.shape[0] < song_limit:\n",
    "    try:\n",
    "        genres, artist, song = get_random_song()\n",
    "        if genres:\n",
    "            row = pd.Series(data=[song, artist, genres], index=df.columns)\n",
    "            df = pd.concat([df, row.to_frame().T], axis=0, ignore_index=True)\n",
    "            df.to_csv(relative_csv_path, index=False)\n",
    "    except Exception as e:\n",
    "        print(\"ERROR: \", e)\n",
    "        # break\n",
    "    i+=1\n",
    "    print(i, df.shape[0])\n"
   ]
  }
 ],
 "metadata": {
  "kernelspec": {
   "display_name": "Python 3",
   "language": "python",
   "name": "python3"
  },
  "language_info": {
   "codemirror_mode": {
    "name": "ipython",
    "version": 3
   },
   "file_extension": ".py",
   "mimetype": "text/x-python",
   "name": "python",
   "nbconvert_exporter": "python",
   "pygments_lexer": "ipython3",
   "version": "3.11.5"
  }
 },
 "nbformat": 4,
 "nbformat_minor": 2
}
