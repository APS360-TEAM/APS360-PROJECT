{
 "cells": [
  {
   "cell_type": "code",
   "execution_count": 1,
   "metadata": {},
   "outputs": [],
   "source": [
    "\"\"\"\n",
    "Transformation Inspired From:\n",
    "https://stackoverflow.com/questions/56719138/how-can-i-save-a-librosa-spectrogram-plot-as-a-specific-sized-image/57204349#57204349\n",
    "\"\"\"\n",
    "\n",
    "# Absolute path of project\n",
    "project_path = 'C:/Users/User/Documents/dev/APS360-PROJECT' # change this to your machine's"
   ]
  },
  {
   "cell_type": "code",
   "execution_count": 2,
   "metadata": {},
   "outputs": [],
   "source": [
    "import matplotlib.pyplot as plt\n",
    "import librosa\n",
    "import librosa.display\n",
    "import numpy as np\n",
    "import pandas as pd\n",
    "import os\n",
    "import subprocess\n",
    "import skimage.io\n",
    "from skimage.transform import resize\n",
    "from PIL import Image"
   ]
  },
  {
   "cell_type": "code",
   "execution_count": 3,
   "metadata": {},
   "outputs": [],
   "source": [
    "def audio_to_spec(audio_path, out_fname=\"temp.png\", sz = (224, 224*3)):\n",
    "    \n",
    "    # 1. CONVERT AUDIO FILE TO SPEC\n",
    "    song_data, song_sr = librosa.load(os.path.join(dir, audio_path), sr=None)\n",
    "    # song_data = librosa.feature.melspectrogram(y=song_data, sr=song_sr, n_mels=sz[1], n_fft=1024, hop_length=512, fmax=8000)\n",
    "    song_data = librosa.feature.melspectrogram(y=song_data, sr=song_sr, n_mels=256, n_fft=2048, hop_length=512*4)\n",
    "\n",
    "    # 2. Resize for ResNet18 input dims, with height = 224, width = 224*3\n",
    "    song_data = resize(song_data, sz, order=0, mode='reflect', anti_aliasing=False)\n",
    "\n",
    "    # 3. Split image into 3 slices by width and insert into each R G B channel\n",
    "    assert(song_data.shape[1] // 3 == 224)\n",
    "    channel_sz = song_data.shape[1] // 3\n",
    "    r, g, b = song_data[:, :channel_sz], song_data[:, channel_sz : 2 * channel_sz], song_data[:, 2 * channel_sz : 3 * channel_sz]\n",
    "    \n",
    "    # 4. a - LOG, b - NORM, c - REFLECT, d - INVERT\n",
    "    def norm_array(X, min=0.0, max=1.0):\n",
    "        X_std = (X - X.min()) / (X.max() - X.min())\n",
    "        X_scaled = X_std * (max - min) + min\n",
    "        return X_scaled\n",
    "    \n",
    "    def prepare_array(arr):\n",
    "        arr = np.log(arr + 1e-9)\n",
    "        arr = norm_array(arr,0, 255).astype(np.uint8)\n",
    "        arr = np.flip(arr, axis=0)\n",
    "        arr = 255 - arr\n",
    "        return arr\n",
    "\n",
    "    r = prepare_array(r)\n",
    "    g = prepare_array(g)\n",
    "    b = prepare_array(b)\n",
    "    img = np.stack([r, g, b], axis=-1)\n",
    "\n",
    "\n",
    "    # 5. Save to img\n",
    "    skimage.io.imsave(out_fname + \".png\", img)\n"
   ]
  },
  {
   "cell_type": "markdown",
   "metadata": {},
   "source": [
    "MAIN LOOP"
   ]
  },
  {
   "cell_type": "code",
   "execution_count": 4,
   "metadata": {},
   "outputs": [
    {
     "name": "stdout",
     "output_type": "stream",
     "text": [
      "blues.00000.wav\n",
      "error converting to png expected str, bytes or os.PathLike object, not builtin_function_or_method\n"
     ]
    }
   ],
   "source": [
    "spec_path = project_path + '/data/genre_specs/'\n",
    "audio_path = project_path + '/data/gtzan/genres_original/'\n",
    "# for i, dir in enumerate(os.listdir(audio_path)):\n",
    "\n",
    "# genres = []\n",
    "# for dir in (os.listdir(audio_path)):\n",
    "#     genres.append(dir)\n",
    "\n",
    "overwrite_all = False\n",
    "for i, gtzan_genre in enumerate(os.listdir(audio_path)):\n",
    "    genre_name = gtzan_genre\n",
    "    genre_audio_dir = os.path.join(audio_path,gtzan_genre)\n",
    "    genre_spec_dir = os.path.join(spec_path,gtzan_genre)\n",
    "\n",
    "    assert(os.path.exists(genre_spec_dir) and os.path.exists(genre_spec_dir))\n",
    "\n",
    "    for audio_file in os.listdir(genre_audio_dir):\n",
    "        print(audio_file)\n",
    "\n",
    "        # check if img alr exists\n",
    "        img_path = os.path.join(genre_spec_dir, os.path.splitext(audio_file)[0]).replace('\\\\', '/') + '.png'\n",
    "        if os.path.exists(img_path) and os.path.getsize(img_path) >= 1024 and not overwrite_all:\n",
    "            print(img_path + ' exists, skipping...')\n",
    "            continue\n",
    "\n",
    "        try:\n",
    "            audio_to_spec(\n",
    "                audio_path=os.path.join(genre_audio_dir, audio_file),\n",
    "                out_fname = img_path\n",
    "            )\n",
    "            print(img_path)\n",
    "        except Exception as e:\n",
    "            print(\"error converting to png\", e) \n",
    "        break\n",
    "    break\n",
    "    \n"
   ]
  }
 ],
 "metadata": {
  "kernelspec": {
   "display_name": "Python 3",
   "language": "python",
   "name": "python3"
  },
  "language_info": {
   "codemirror_mode": {
    "name": "ipython",
    "version": 3
   },
   "file_extension": ".py",
   "mimetype": "text/x-python",
   "name": "python",
   "nbconvert_exporter": "python",
   "pygments_lexer": "ipython3",
   "version": "3.12.0"
  }
 },
 "nbformat": 4,
 "nbformat_minor": 2
}
