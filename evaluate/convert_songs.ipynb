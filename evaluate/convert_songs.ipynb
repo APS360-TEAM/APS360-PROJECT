{
 "cells": [
  {
   "cell_type": "code",
   "execution_count": 9,
   "metadata": {},
   "outputs": [],
   "source": [
    "import os\n",
    "import librosa\n",
    "import librosa.display\n",
    "import numpy as np\n",
    "import subprocess\n",
    "import skimage.io\n",
    "from skimage.transform import resize\n",
    "\n",
    "project_path = 'C:/Users/arwin/Documents/dev/APS360-PROJECT/' # change this to your machine's\n"
   ]
  },
  {
   "cell_type": "code",
   "execution_count": 10,
   "metadata": {},
   "outputs": [],
   "source": [
    "\n",
    "def audio_to_spec(audio_path, out_fname=\"temp.png\", sz = (224, 3*224)):\n",
    "    \n",
    "    # 1. CONVERT AUDIO FILE TO SPEC\n",
    "    song_data, song_sr = librosa.load(os.path.join(project_path, audio_path), sr=None)\n",
    "    # song_data = librosa.feature.melspectrogram(y=song_data, sr=song_sr, n_mels=sz[1], n_fft=1024, hop_length=512, fmax=8000)\n",
    "    song_data = librosa.feature.melspectrogram(y=song_data, sr=song_sr, n_mels=256, n_fft=2048, hop_length=512*25)\n",
    "\n",
    "    # 2. Resize for ResNet18 input dims, with height = 224, width = 224*3\n",
    "    song_data = resize(song_data, sz, order=0, mode='reflect', anti_aliasing=False)\n",
    "\n",
    "    # 3. Split image into 3 slices by width and insert into each R G B channel\n",
    "    assert(song_data.shape[1] // 3 == 224)\n",
    "    channel_sz = song_data.shape[1] // 3\n",
    "    r, g, b = song_data[:, :channel_sz], song_data[:, channel_sz : 2 * channel_sz], song_data[:, 2 * channel_sz : 3 * channel_sz]\n",
    "    \n",
    "    # 4. a - LOG, b - NORM, c - REFLECT, d - INVERT\n",
    "    def norm_array(X, min=0.0, max=1.0):\n",
    "        X_std = (X - X.min()) / (X.max() - X.min())\n",
    "        X_scaled = X_std * (max - min) + min\n",
    "        return X_scaled\n",
    "    \n",
    "    def prepare_array(arr):\n",
    "        arr = np.log(arr + 1e-9)\n",
    "        arr = norm_array(arr,0, 255).astype(np.uint8)\n",
    "        arr = np.flip(arr, axis=0)\n",
    "        arr = 255 - arr\n",
    "        return arr\n",
    "\n",
    "    r = prepare_array(r)\n",
    "    g = prepare_array(g)\n",
    "    b = prepare_array(b)\n",
    "    img = np.stack([r, g, b], axis=-1)\n",
    "\n",
    "\n",
    "    # 5. Save to img\n",
    "    skimage.io.imsave(out_fname + \".png\", img)\n",
    "\n"
   ]
  },
  {
   "cell_type": "code",
   "execution_count": 29,
   "metadata": {},
   "outputs": [],
   "source": [
    "\n",
    "audio_to_spec(audio_path='evaluate/inference_songs/DJ Perfekt - Somani_Money.mp3',\n",
    "              out_fname='inference_specs/dj perfekt_somani money',)\n",
    "\n"
   ]
  }
 ],
 "metadata": {
  "kernelspec": {
   "display_name": "Python 3",
   "language": "python",
   "name": "python3"
  },
  "language_info": {
   "codemirror_mode": {
    "name": "ipython",
    "version": 3
   },
   "file_extension": ".py",
   "mimetype": "text/x-python",
   "name": "python",
   "nbconvert_exporter": "python",
   "pygments_lexer": "ipython3",
   "version": "3.11.5"
  }
 },
 "nbformat": 4,
 "nbformat_minor": 2
}
