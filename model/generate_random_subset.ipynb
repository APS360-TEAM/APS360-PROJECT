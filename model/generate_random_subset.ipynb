{
 "cells": [
  {
   "cell_type": "code",
   "execution_count": 1,
   "metadata": {},
   "outputs": [],
   "source": [
    "data_path = \"C:/Users/arwin/Documents/dev/APS360-PROJECT/data\""
   ]
  },
  {
   "cell_type": "code",
   "execution_count": 41,
   "metadata": {},
   "outputs": [],
   "source": [
    "import os\n",
    "import random\n",
    "import shutil"
   ]
  },
  {
   "cell_type": "markdown",
   "metadata": {},
   "source": [
    "Function to get file paths for randomly sampled songs from each dataset"
   ]
  },
  {
   "cell_type": "code",
   "execution_count": 34,
   "metadata": {},
   "outputs": [],
   "source": [
    "def sample_class_examples(class_path, indices, sz):\n",
    "    files = []\n",
    "    folders = os.listdir(class_path)\n",
    "    for i in indices:\n",
    "        if len(files) >= sz:\n",
    "            return files\n",
    "        \n",
    "        i_dir = class_path + '/' + folders[i]\n",
    "        audio_file = [file for file in os.listdir(i_dir) if file.endswith('.mp3')]\n",
    "        if not audio_file:\n",
    "            continue\n",
    "        else:\n",
    "            files.append(i_dir + '/' + audio_file[0])\n",
    "    return files\n"
   ]
  },
  {
   "cell_type": "markdown",
   "metadata": {},
   "source": [
    "Call random song sampler"
   ]
  },
  {
   "cell_type": "code",
   "execution_count": 56,
   "metadata": {},
   "outputs": [],
   "source": [
    "hit_path = data_path + \"/billboard_audio\"\n",
    "miss_path = data_path + \"/random_audio\"\n",
    "\n",
    "subset_sz = 100\n",
    "\n",
    "hit_indices = random.sample(range(len(os.listdir(hit_path))), subset_sz + 100)\n",
    "hit_files = sample_class_examples(hit_path, hit_indices, subset_sz)\n",
    "\n",
    "miss_indices = random.sample(range(len(os.listdir(miss_path))), subset_sz + 100)\n",
    "miss_files = sample_class_examples(miss_path, miss_indices, subset_sz)"
   ]
  },
  {
   "cell_type": "markdown",
   "metadata": {},
   "source": [
    "Make Sure enough examples were sampled"
   ]
  },
  {
   "cell_type": "code",
   "execution_count": 57,
   "metadata": {},
   "outputs": [],
   "source": [
    "assert(len(miss_files) == len(hit_files) == subset_sz)"
   ]
  },
  {
   "cell_type": "markdown",
   "metadata": {},
   "source": [
    "Copy all Files to respective class folder"
   ]
  },
  {
   "cell_type": "code",
   "execution_count": 58,
   "metadata": {},
   "outputs": [
    {
     "data": {
      "text/plain": [
       "(100, 100)"
      ]
     },
     "execution_count": 58,
     "metadata": {},
     "output_type": "execute_result"
    }
   ],
   "source": [
    "hit_subset_path = data_path + '/subset/hit'\n",
    "miss_subset_path = data_path + '/subset/miss'\n",
    "\n",
    "for f in hit_files:\n",
    "    shutil.copy(f, hit_subset_path)\n",
    "\n",
    "for f in miss_files:\n",
    "    shutil.copy(f, miss_subset_path)\n",
    "\n",
    "len(os.listdir(hit_subset_path)), len(os.listdir(miss_subset_path))"
   ]
  },
  {
   "cell_type": "code",
   "execution_count": 59,
   "metadata": {},
   "outputs": [],
   "source": [
    "assert(len(os.listdir(hit_subset_path)) == len(os.listdir(miss_subset_path)))"
   ]
  },
  {
   "cell_type": "markdown",
   "metadata": {},
   "source": [
    "Now create test folder"
   ]
  },
  {
   "cell_type": "code",
   "execution_count": 60,
   "metadata": {},
   "outputs": [],
   "source": [
    "def move_test_examples(class_path, indices, dest_path):\n",
    "    files = os.listdir(class_path)\n",
    "    for i in indices:\n",
    "        i_file = class_path + '/' + files[i]\n",
    "        shutil.move(i_file, dest_path)\n"
   ]
  },
  {
   "cell_type": "code",
   "execution_count": 61,
   "metadata": {},
   "outputs": [],
   "source": [
    "hit_path = data_path + \"/subset/hit\"\n",
    "miss_path = data_path + \"/subset/miss\"\n",
    "hit_test_path = data_path + \"/subset/test/hit\"\n",
    "miss_test_path = data_path + \"/subset/test/miss\"\n",
    "\n",
    "test_sz = 10\n",
    "\n",
    "hit_indices = random.sample(range(len(os.listdir(hit_path))), test_sz)\n",
    "hit_files = move_test_examples(hit_path, hit_indices, hit_test_path)\n",
    "\n",
    "miss_indices = random.sample(range(len(os.listdir(miss_path))), test_sz)\n",
    "miss_files = move_test_examples(miss_path, miss_indices, miss_test_path)"
   ]
  },
  {
   "cell_type": "code",
   "execution_count": 62,
   "metadata": {},
   "outputs": [
    {
     "name": "stdout",
     "output_type": "stream",
     "text": [
      "[44, 29, 34, 86, 13, 85, 2, 67, 14, 66] [99, 17, 67, 49, 22, 26, 62, 72, 89, 59]\n"
     ]
    }
   ],
   "source": [
    "print(hit_indices, miss_indices)"
   ]
  },
  {
   "cell_type": "code",
   "execution_count": 63,
   "metadata": {},
   "outputs": [
    {
     "name": "stdout",
     "output_type": "stream",
     "text": [
      "90 90\n"
     ]
    },
    {
     "data": {
      "text/plain": [
       "(10, 10)"
      ]
     },
     "execution_count": 63,
     "metadata": {},
     "output_type": "execute_result"
    }
   ],
   "source": [
    "print(len(os.listdir(hit_subset_path)), len(os.listdir(miss_subset_path)))\n",
    "len(os.listdir(hit_test_path)), len(os.listdir(miss_test_path))"
   ]
  }
 ],
 "metadata": {
  "kernelspec": {
   "display_name": "Python 3",
   "language": "python",
   "name": "python3"
  },
  "language_info": {
   "codemirror_mode": {
    "name": "ipython",
    "version": 3
   },
   "file_extension": ".py",
   "mimetype": "text/x-python",
   "name": "python",
   "nbconvert_exporter": "python",
   "pygments_lexer": "ipython3",
   "version": "3.11.5"
  }
 },
 "nbformat": 4,
 "nbformat_minor": 2
}
