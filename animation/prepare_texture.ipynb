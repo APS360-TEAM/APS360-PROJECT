{
 "cells": [
  {
   "cell_type": "code",
   "execution_count": 2,
   "metadata": {},
   "outputs": [],
   "source": [
    "from PIL import Image\n",
    "\n",
    "def crop_into_thirds(image_path):\n",
    "    # Open the image\n",
    "    img = Image.open(image_path)\n",
    "    width, height = img.size\n",
    "\n",
    "    # Calculate the width for each third\n",
    "    third_width = width // 3\n",
    "\n",
    "    # Crop and save each third\n",
    "    for i in range(3):\n",
    "        # Define the crop box (left, upper, right, lower)\n",
    "        box = (i * third_width, 0, (i + 1) * third_width, height)\n",
    "\n",
    "        # Crop the image\n",
    "        cropped_img = img.crop(box)\n",
    "\n",
    "        # Save the cropped image\n",
    "        cropped_img.save(f\"texture{i+1}.png\")\n",
    "\n",
    "if __name__ == \"__main__\":\n",
    "    # Replace 'image_path' with the path to your PNG file\n",
    "    image_path = \"texture.png\"\n",
    "    crop_into_thirds(image_path)\n"
   ]
  }
 ],
 "metadata": {
  "kernelspec": {
   "display_name": "torch",
   "language": "python",
   "name": "python3"
  },
  "language_info": {
   "codemirror_mode": {
    "name": "ipython",
    "version": 3
   },
   "file_extension": ".py",
   "mimetype": "text/x-python",
   "name": "python",
   "nbconvert_exporter": "python",
   "pygments_lexer": "ipython3",
   "version": "3.12.2"
  }
 },
 "nbformat": 4,
 "nbformat_minor": 2
}
